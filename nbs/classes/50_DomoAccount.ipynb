{
 "cells": [
  {
   "attachments": {},
   "cell_type": "markdown",
   "metadata": {},
   "source": [
    "# Account\n"
   ]
  },
  {
   "cell_type": "raw",
   "metadata": {},
   "source": [
    "---\n",
    "output-file: account_class.html\n",
    "---\n",
    "\n",
    "\n"
   ]
  },
  {
   "cell_type": "code",
   "execution_count": null,
   "metadata": {},
   "outputs": [],
   "source": [
    "# | default_exp classes.DomoAccount"
   ]
  },
  {
   "cell_type": "code",
   "execution_count": null,
   "metadata": {},
   "outputs": [],
   "source": [
    "# | exporti\n",
    "\n",
    "from dataclasses import dataclass, field\n",
    "from typing import Any\n",
    "\n",
    "import datetime as dt\n",
    "import re\n",
    "\n",
    "import httpx\n",
    "\n",
    "from fastcore.basics import patch_to\n",
    "\n",
    "import domolibrary.utils.convert as cd\n",
    "import domolibrary.utils.DictDot as util_dd\n",
    "import domolibrary.client.DomoAuth as dmda\n",
    "import domolibrary.client.DomoError as de\n",
    "import domolibrary.routes.account as account_routes\n",
    "\n",
    "import domolibrary.utils.chunk_execution as ce"
   ]
  },
  {
   "cell_type": "code",
   "execution_count": null,
   "metadata": {},
   "outputs": [],
   "source": [
    "# | export\n",
    "\n",
    "from domolibrary.routes.account import (\n",
    "    ShareAccount_V1_AccessLevel,\n",
    "    ShareAccount_V2_AccessLevel,\n",
    "    ShareAccount,\n",
    "    GetAccount_NoMatch,\n",
    "    ShareAccount_Error,\n",
    "    ShareAccount_Error_AlreadyShared,\n",
    "    DeleteAccount_Error,\n",
    ")\n",
    "\n",
    "from domolibrary.classes.DomoAccount_Config import (\n",
    "    AccountConfig_UsesOauth,\n",
    "    AccountConfig_ProviderTypeNotDefined,\n",
    "    DomoAccount_Config,\n",
    "    AccountConfig,\n",
    ")\n",
    "\n",
    "\n",
    "class Account_CanIModify(de.DomoError):\n",
    "    def __init__(self, account_id, domo_instance):\n",
    "        super().__init__(\n",
    "            message=f\"`DomoAccount.is_admin_summary` must be `False` to proceed.  Either set the value explicity, or retrieve the account instance using `DomoAccount.get_by_id()`\",\n",
    "            domo_instance=domo_instance,\n",
    "        )\n",
    "\n",
    "\n",
    "class UpsertAccount_MatchCriteria(de.DomoError):\n",
    "    def __init__(self, domo_instance):\n",
    "        super().__init__(\n",
    "            message=\"must pass an account_id or account_name to UPSERT\",\n",
    "            domo_instance=domo_instance,\n",
    "        )"
   ]
  },
  {
   "attachments": {},
   "cell_type": "markdown",
   "metadata": {},
   "source": [
    "# DomoAccount\n"
   ]
  },
  {
   "cell_type": "code",
   "execution_count": null,
   "metadata": {},
   "outputs": [],
   "source": [
    "# | export\n",
    "@dataclass\n",
    "class DomoAccount:\n",
    "    data_provider_type: str = None\n",
    "    name: str = None\n",
    "\n",
    "    id: int = None\n",
    "    created_dt: dt.datetime = None\n",
    "    modified_dt: dt.datetime = None\n",
    "    auth: dmda.DomoAuth = field(repr=False, default=None)\n",
    "\n",
    "    config: DomoAccount_Config = (None,)\n",
    "\n",
    "    is_admin_summary: bool = True\n",
    "\n",
    "    @classmethod\n",
    "    def _from_json(\n",
    "        cls,\n",
    "        obj: dict,\n",
    "        is_admin_summary: bool = True,\n",
    "        auth: dmda.DomoAuth = None,\n",
    "    ):\n",
    "        \"\"\"converts data_v1_accounts API response into an accounts class object\"\"\"\n",
    "\n",
    "        dd = util_dd.DictDot(obj)\n",
    "\n",
    "        return cls(\n",
    "            id=dd.id or dd.databaseId,\n",
    "            name=dd.displayName,\n",
    "            data_provider_type=dd.dataProviderId or dd.dataProviderType,\n",
    "            created_dt=cd.convert_epoch_millisecond_to_datetime(\n",
    "                dd.createdAt or dd.createDate\n",
    "            ),\n",
    "            modified_dt=cd.convert_epoch_millisecond_to_datetime(\n",
    "                dd.modifiedAt or dd.lastModified\n",
    "            ),\n",
    "            auth=auth,\n",
    "            is_admin_summary=is_admin_summary,\n",
    "        )"
   ]
  },
  {
   "cell_type": "markdown",
   "metadata": {},
   "source": [
    "## DomoAccount GET methods\n"
   ]
  },
  {
   "cell_type": "code",
   "execution_count": null,
   "metadata": {},
   "outputs": [],
   "source": [
    "# | export\n",
    "\n",
    "\n",
    "@patch_to(DomoAccount)\n",
    "async def _get_config(\n",
    "    self: DomoAccount,\n",
    "    session=None,\n",
    "    return_raw: bool = False,\n",
    "    debug_api: bool = None,\n",
    "    auth: dmda.DomoAuth = None,\n",
    "    debug_num_stacks_to_drop=2,\n",
    "    is_suppress_no_config: bool = False,  # can be used to suppress cases where the config is not defined, either because the account_config is OAuth, and therefore not stored in Domo OR because the AccountConfig class doesn't cover the data_type\n",
    "):\n",
    "    res = await account_routes.get_account_config(\n",
    "        auth=auth or self.auth,\n",
    "        account_id=self.id,\n",
    "        session=session,\n",
    "        debug_api=debug_api,\n",
    "        parent_class=self.__class__.__name__,\n",
    "        debug_num_stacks_to_drop=debug_num_stacks_to_drop,\n",
    "    )\n",
    "\n",
    "    if return_raw:\n",
    "        return res\n",
    "\n",
    "    data_provider_type = res.response.get(\"_search_metadata\").get(\"data_provider_type\")\n",
    "\n",
    "    config_fn = AccountConfig(data_provider_type).value\n",
    "\n",
    "    if not is_suppress_no_config and not config_fn.is_defined_config:\n",
    "        raise config_fn._associated_exception(data_provider_type)\n",
    "\n",
    "    self.config = config_fn._from_json(res.response)\n",
    "\n",
    "    return self.config"
   ]
  },
  {
   "cell_type": "markdown",
   "metadata": {},
   "source": [
    "##### sample of hidden function \\_get_config\n",
    "\n",
    "called by `DomoAccount.get_by_id()`\n"
   ]
  },
  {
   "cell_type": "code",
   "execution_count": null,
   "metadata": {},
   "outputs": [
    {
     "name": "stdout",
     "output_type": "stream",
     "text": [
      "data provider type google-spreadsheets uses OAuth and therefore wouldn't return a Config object\n",
      "data provider type google-spreadsheets uses OAuth and therefore wouldn't return a Config object\n"
     ]
    }
   ],
   "source": [
    "import os\n",
    "\n",
    "token_auth = dmda.DomoTokenAuth(\n",
    "    domo_instance=\"domo-community\",\n",
    "    domo_access_token=os.environ[\"DOMO_DOJO_ACCESS_TOKEN\"],\n",
    ")\n",
    "\n",
    "domo_account = DomoAccount(\n",
    "    auth=token_auth,\n",
    "    id=45,\n",
    ")\n",
    "\n",
    "try:\n",
    "    await domo_account._get_config(\n",
    "        debug_api=False, return_raw=False, is_suppress_no_config=False\n",
    "    )\n",
    "\n",
    "except AccountConfig_UsesOauth as e:\n",
    "    print(e)"
   ]
  },
  {
   "cell_type": "code",
   "execution_count": null,
   "metadata": {},
   "outputs": [],
   "source": [
    "# | export\n",
    "@patch_to(DomoAccount, cls_method=True)\n",
    "async def get_by_id(\n",
    "    cls,\n",
    "    auth: dmda.DomoAuth,\n",
    "    account_id: int,\n",
    "    is_suppress_no_config: bool = True,\n",
    "    session: httpx.AsyncClient = None,\n",
    "    return_raw: bool = False,\n",
    "    debug_api: bool = False,\n",
    "    debug_num_stacks_to_drop=2,\n",
    "):\n",
    "    \"\"\"retrieves account metadata and attempts to retrieve config\"\"\"\n",
    "\n",
    "    res = await account_routes.get_account_from_id(\n",
    "        auth=auth,\n",
    "        account_id=account_id,\n",
    "        session=session,\n",
    "        debug_api=debug_api,\n",
    "        parent_class=cls.__name__,\n",
    "        debug_num_stacks_to_drop=debug_num_stacks_to_drop,\n",
    "    )\n",
    "\n",
    "    if return_raw:\n",
    "        return res\n",
    "\n",
    "    acc = cls._from_json(obj=res.response, auth=auth, is_admin_summary=False)\n",
    "\n",
    "    await acc._get_config(\n",
    "        session=session,\n",
    "        debug_api=debug_api,\n",
    "        debug_num_stacks_to_drop=debug_num_stacks_to_drop + 1,\n",
    "        is_suppress_no_config=is_suppress_no_config,\n",
    "    )\n",
    "\n",
    "    return acc"
   ]
  },
  {
   "attachments": {},
   "cell_type": "markdown",
   "metadata": {},
   "source": [
    "#### sample implementation of get_by_id\n",
    "\n",
    "this implementation returns a result because accoun_id 5 is linked to a data_provider (domo_governance) that has been defined in the `DomoAccount_Config.AccountConfig` enum\n"
   ]
  },
  {
   "cell_type": "code",
   "execution_count": null,
   "metadata": {},
   "outputs": [
    {
     "name": "stdout",
     "output_type": "stream",
     "text": [
      "data provider type google-spreadsheets uses OAuth and therefore wouldn't return a Config object\n"
     ]
    },
    {
     "data": {
      "text/plain": [
       "DomoAccount(data_provider_type='google-spreadsheets', name='test-goolesheets', id=45, created_dt=datetime.datetime(2022, 10, 4, 22, 59, 14), modified_dt=datetime.datetime(2023, 4, 24, 15, 40, 28), config=DomoAccount_NoConfig_OAuth(is_oauth=True, is_defined_config=False), is_admin_summary=False)"
      ]
     },
     "execution_count": null,
     "metadata": {},
     "output_type": "execute_result"
    }
   ],
   "source": [
    "import os\n",
    "\n",
    "token_auth = dmda.DomoTokenAuth(\n",
    "    domo_instance=\"domo-community\",\n",
    "    domo_access_token=os.environ[\"DOMO_DOJO_ACCESS_TOKEN\"],\n",
    ")\n",
    "\n",
    "await DomoAccount.get_by_id(\n",
    "    auth=token_auth,\n",
    "    account_id=45,\n",
    "    return_raw=False,\n",
    "    debug_api=False,\n",
    "    is_suppress_no_config=True,\n",
    ")"
   ]
  },
  {
   "cell_type": "markdown",
   "metadata": {},
   "source": [
    "This implementation fails because the data_provider_type has not been defined in `DomoAccount_Config.AccountConfig`\n"
   ]
  },
  {
   "cell_type": "code",
   "execution_count": null,
   "metadata": {},
   "outputs": [
    {
     "name": "stdout",
     "output_type": "stream",
     "text": [
      "data provider type google-spreadsheets uses OAuth and therefore wouldn't return a Config object\n"
     ]
    },
    {
     "data": {
      "text/plain": [
       "DomoAccount(data_provider_type='google-spreadsheets', name='test-goolesheets', id=45, created_dt=datetime.datetime(2022, 10, 4, 22, 59, 14), modified_dt=datetime.datetime(2023, 4, 24, 15, 40, 28), config=DomoAccount_NoConfig_OAuth(is_oauth=True, is_defined_config=False), is_admin_summary=False)"
      ]
     },
     "execution_count": null,
     "metadata": {},
     "output_type": "execute_result"
    }
   ],
   "source": [
    "import os\n",
    "\n",
    "token_auth = dmda.DomoTokenAuth(\n",
    "    domo_instance=\"domo-community\",\n",
    "    domo_access_token=os.environ[\"DOMO_DOJO_ACCESS_TOKEN\"],\n",
    ")\n",
    "\n",
    "\n",
    "await DomoAccount.get_by_id(\n",
    "    auth=token_auth, account_id=45, return_raw=False, debug_api=False\n",
    ")"
   ]
  },
  {
   "attachments": {},
   "cell_type": "markdown",
   "metadata": {},
   "source": [
    "## DomoAccount CRUD Methods\n"
   ]
  },
  {
   "attachments": {},
   "cell_type": "markdown",
   "metadata": {},
   "source": [
    "### Create Account\n"
   ]
  },
  {
   "cell_type": "code",
   "execution_count": null,
   "metadata": {},
   "outputs": [],
   "source": [
    "# | export\n",
    "\n",
    "\n",
    "@patch_to(DomoAccount, cls_method=True)\n",
    "async def create_account(\n",
    "    cls: DomoAccount,\n",
    "    account_name: str,\n",
    "    config: DomoAccount_Config,\n",
    "    auth: dmda.DomoAuth,\n",
    "    debug_api: bool = False,\n",
    "    return_raw: bool = False,\n",
    "    session: httpx.AsyncClient = None,\n",
    "):\n",
    "    body = account_routes.generate_create_body(account_name=account_name, config=config)\n",
    "\n",
    "    res = await account_routes.create_account(\n",
    "        auth=auth, config_body=body, debug_api=debug_api, session=session\n",
    "    )\n",
    "\n",
    "    if return_raw:\n",
    "        return res\n",
    "\n",
    "    return await cls.get_by_id(auth=auth, account_id=res.response.get(\"id\"))"
   ]
  },
  {
   "cell_type": "markdown",
   "metadata": {},
   "source": [
    "### Update DomoAccount\n"
   ]
  },
  {
   "cell_type": "code",
   "execution_count": null,
   "metadata": {},
   "outputs": [],
   "source": [
    "# | export\n",
    "\n",
    "\n",
    "@patch_to(DomoAccount)\n",
    "async def update_config(\n",
    "    self: DomoAccount,\n",
    "    auth: dmda.DomoAuth = None,\n",
    "    debug_api: bool = False,\n",
    "    config: DomoAccount_Config = None,\n",
    "    is_suppress_no_config=False,\n",
    "    debug_num_stacks_to_drop=2,\n",
    "    session: httpx.AsyncClient = None,\n",
    "    return_raw: bool = False,\n",
    "):\n",
    "    auth = auth or self.auth\n",
    "    config = config or self.config\n",
    "\n",
    "    res = await account_routes.update_account_config(\n",
    "        auth=auth,\n",
    "        account_id=self.id,\n",
    "        config_body=config.to_json(),\n",
    "        debug_api=debug_api,\n",
    "        session=session,\n",
    "    )\n",
    "\n",
    "    if return_raw:\n",
    "        return res\n",
    "\n",
    "    if not res.is_success and self.is_admin_summary:\n",
    "        raise Account_CanIModify(account_id=self.id, domo_instance=auth.domo_instance)\n",
    "\n",
    "    await self._get_config(\n",
    "        debug_api=debug_api,\n",
    "        debug_num_stacks_to_drop=debug_num_stacks_to_drop + 1,\n",
    "        is_suppress_no_config=is_suppress_no_config,\n",
    "    )\n",
    "\n",
    "    return self"
   ]
  },
  {
   "attachments": {},
   "cell_type": "markdown",
   "metadata": {},
   "source": [
    "#### Sample implementation of update_config\n",
    "\n",
    "to update the account config,\n",
    "\n",
    "- assign `DomoAccount` class instance `domo_account.config` a `DomoAccount` class.<br>\n",
    "  - the `AccountConfig` enumerates all of the `DomoAccount`s currently available. _issue a pull request to add a new one_\n",
    "  - each member of `AccountConfig` uses the camel_case spelling of the data-provider-type\n"
   ]
  },
  {
   "cell_type": "code",
   "execution_count": null,
   "metadata": {},
   "outputs": [
    {
     "data": {
      "text/plain": [
       "DomoAccount(data_provider_type='abstract-credential-store', name='domo_creds - update 2023-11-28', id=71, created_dt=datetime.datetime(2023, 5, 18, 21, 58, 12), modified_dt=datetime.datetime(2023, 11, 28, 18, 51, 46), config=DomoAccount_Config_AbstractCredential(credentials='********'), is_admin_summary=False)"
      ]
     },
     "execution_count": null,
     "metadata": {},
     "output_type": "execute_result"
    }
   ],
   "source": [
    "import os\n",
    "\n",
    "token_auth = dmda.DomoTokenAuth(\n",
    "    domo_instance=\"domo-community\",\n",
    "    domo_access_token=os.environ[\"DOMO_DOJO_ACCESS_TOKEN\"],\n",
    ")\n",
    "\n",
    "# creates a DomoAccount object\n",
    "domo_account = await DomoAccount.get_by_id(auth=token_auth, account_id=71)\n",
    "\n",
    "\n",
    "# update domo Account API without passing explicit config object\n",
    "# adjust configuration information for that object\n",
    "domo_account.config.domo_instance = \"any_new_value_goes_here\"\n",
    "await domo_account.update_config()"
   ]
  },
  {
   "cell_type": "markdown",
   "metadata": {},
   "source": [
    "The config can be updated by passing a new `AccountConfig` object\n"
   ]
  },
  {
   "cell_type": "code",
   "execution_count": null,
   "metadata": {},
   "outputs": [
    {
     "data": {
      "text/plain": [
       "DomoAccount(data_provider_type='abstract-credential-store', name='domo_creds - update 2023-11-28', id=71, created_dt=datetime.datetime(2023, 5, 18, 21, 58, 12), modified_dt=datetime.datetime(2023, 11, 28, 18, 51, 46), config=DomoAccount_Config_AbstractCredential(credentials='********'), is_admin_summary=False)"
      ]
     },
     "execution_count": null,
     "metadata": {},
     "output_type": "execute_result"
    }
   ],
   "source": [
    "import os\n",
    "import json\n",
    "\n",
    "token_auth = dmda.DomoTokenAuth(\n",
    "    domo_instance=\"domo-community\",\n",
    "    domo_access_token=os.environ[\"DOMO_DOJO_ACCESS_TOKEN\"],\n",
    ")\n",
    "\n",
    "domo_account = await DomoAccount.get_by_id(auth=token_auth, account_id=71)\n",
    "\n",
    "# update domo Account API by passing new config object\n",
    "config = AccountConfig.abstract_credential_store.value(\n",
    "    credentials=json.dumps({\"domo_instance\": token_auth.domo_instance})\n",
    ")\n",
    "await domo_account.update_config(config=config)"
   ]
  },
  {
   "cell_type": "code",
   "execution_count": null,
   "metadata": {},
   "outputs": [],
   "source": [
    "# | export\n",
    "@patch_to(DomoAccount)\n",
    "async def update_name(\n",
    "    self: DomoAccount,\n",
    "    account_name: str = None,\n",
    "    auth: dmda.DomoAuth = None,\n",
    "    debug_api: bool = False,\n",
    "    session: httpx.AsyncClient = None,\n",
    "    return_raw: bool = False,\n",
    "):\n",
    "    auth = auth or self.auth\n",
    "\n",
    "    res = await account_routes.update_account_name(\n",
    "        auth=auth,\n",
    "        account_id=self.id,\n",
    "        account_name=account_name or self.name,\n",
    "        debug_api=debug_api,\n",
    "        session=session,\n",
    "    )\n",
    "\n",
    "    if return_raw:\n",
    "        return res\n",
    "\n",
    "    if not res.is_success and self.is_admin_summary:\n",
    "        raise Account_CanIModify(account_id=self.id, domo_instance=auth.domo_instance)\n",
    "\n",
    "    await self.get_by_id(auth=auth, account_id=self.id)\n",
    "\n",
    "    return self"
   ]
  },
  {
   "attachments": {},
   "cell_type": "markdown",
   "metadata": {},
   "source": [
    "#### sample implementation of update_name\n",
    "\n",
    "`DomoAccount` can be updated by altering properties and then calling `DomoAccount.update_name()` or by passing the account_name parameter\n"
   ]
  },
  {
   "cell_type": "code",
   "execution_count": null,
   "metadata": {},
   "outputs": [
    {
     "data": {
      "text/plain": [
       "DomoAccount(data_provider_type='abstract-credential-store', name='DomoLibrary - update 2023-11-28 18:52:20.242390', id=71, created_dt=datetime.datetime(2023, 5, 18, 21, 58, 12), modified_dt=datetime.datetime(2023, 11, 28, 18, 51, 46), config=DomoAccount_Config_AbstractCredential(credentials='********'), is_admin_summary=False)"
      ]
     },
     "execution_count": null,
     "metadata": {},
     "output_type": "execute_result"
    }
   ],
   "source": [
    "import os\n",
    "import datetime as dt\n",
    "\n",
    "token_auth = dmda.DomoTokenAuth(\n",
    "    domo_instance=\"domo-community\",\n",
    "    domo_access_token=os.environ[\"DOMO_DOJO_ACCESS_TOKEN\"],\n",
    ")\n",
    "\n",
    "domo_account = await DomoAccount.get_by_id(auth=token_auth, account_id=71)\n",
    "domo_account.name = f\"DomoLibrary - update {dt.datetime.now()}\"\n",
    "await domo_account.update_name()"
   ]
  },
  {
   "cell_type": "code",
   "execution_count": null,
   "metadata": {},
   "outputs": [
    {
     "data": {
      "text/plain": [
       "DomoAccount(data_provider_type='abstract-credential-store', name='DomoLibrary - update 2023-11-28 18:52:20.242390', id=71, created_dt=datetime.datetime(2023, 5, 18, 21, 58, 12), modified_dt=datetime.datetime(2023, 11, 28, 18, 52, 20), config=DomoAccount_Config_AbstractCredential(credentials='********'), is_admin_summary=False)"
      ]
     },
     "execution_count": null,
     "metadata": {},
     "output_type": "execute_result"
    }
   ],
   "source": [
    "import os\n",
    "import datetime as dt\n",
    "\n",
    "token_auth = dmda.DomoTokenAuth(\n",
    "    domo_instance=\"domo-community\",\n",
    "    domo_access_token=os.environ[\"DOMO_DOJO_ACCESS_TOKEN\"],\n",
    ")\n",
    "\n",
    "domo_account = await DomoAccount.get_by_id(auth=token_auth, account_id=71)\n",
    "\n",
    "await domo_account.update_name(\n",
    "    account_name=f\"DomoLibrary - testrename {dt.date.today()}\", return_raw=False\n",
    ")"
   ]
  },
  {
   "cell_type": "markdown",
   "metadata": {},
   "source": [
    "### Delete Account\n"
   ]
  },
  {
   "cell_type": "code",
   "execution_count": null,
   "metadata": {},
   "outputs": [],
   "source": [
    "# | export\n",
    "\n",
    "\n",
    "@patch_to(DomoAccount)\n",
    "async def delete_account(\n",
    "    self: DomoAccount,\n",
    "    auth: dmda.DomoAuth = None,\n",
    "    debug_api: bool = False,\n",
    "    session: httpx.AsyncClient = None,\n",
    "    debug_num_stacks_to_drop=2,\n",
    "    parent_class = None\n",
    "):\n",
    "    auth = auth or self.auth\n",
    "\n",
    "    res = await account_routes.delete_account(\n",
    "        auth=auth,\n",
    "        account_id=self.id,\n",
    "        debug_api=debug_api,\n",
    "        session=session,\n",
    "        debug_num_stacks_to_drop=debug_num_stacks_to_drop,\n",
    "        parent_class=parent_class,\n",
    "    )\n",
    "\n",
    "    if not res.is_success and self.is_admin_summary:\n",
    "        raise Account_CanIModify(account_id=self.id, domo_instance=auth.domo_instance)\n",
    "\n",
    "    return res"
   ]
  },
  {
   "cell_type": "markdown",
   "metadata": {},
   "source": [
    "### Share DomoAccount\n"
   ]
  },
  {
   "cell_type": "code",
   "execution_count": null,
   "metadata": {},
   "outputs": [],
   "source": [
    "# | export\n",
    "@patch_to(DomoAccount)\n",
    "async def is_feature_accountsv2_enabled(\n",
    "    self: DomoAccount, auth: dmda.DomoFullAuth = None, return_raw: bool = False\n",
    "):\n",
    "    \"\"\"uses bootstrap class to test if the auth object refers to an instancce that has the account-v2 feature switch enabled\"\"\"\n",
    "    import domolibrary.classes.DomoBootstrap as dmbs\n",
    "\n",
    "    auth = auth or self.auth\n",
    "\n",
    "    domo_bsr = dmbs.DomoBootstrap(auth=auth)\n",
    "\n",
    "    try:\n",
    "        is_v2 = await domo_bsr.is_feature_accountsv2_enabled()\n",
    "        return 1 if is_v2 else 0\n",
    "\n",
    "    except dmbs.InvalidAuthTypeError as e:\n",
    "        print(\n",
    "            f\"Warning - unable to test if accounts_v2 feature is enabled in {auth.domo_instance}, recommend pass FullAuth\"\n",
    "        )\n",
    "        return -1"
   ]
  },
  {
   "cell_type": "markdown",
   "metadata": {},
   "source": [
    "#### sample implementation of is_veature_accountsv2_enabled"
   ]
  },
  {
   "cell_type": "code",
   "execution_count": null,
   "metadata": {},
   "outputs": [
    {
     "name": "stdout",
     "output_type": "stream",
     "text": [
      "Warning - unable to test if accounts_v2 feature is enabled in domo-alpha, recommend pass FullAuth\n"
     ]
    },
    {
     "data": {
      "text/plain": [
       "{'domo-community-full_auth': 0,\n",
       " 'domo-alpha-full_auth': 1,\n",
       " 'domo-alpha-token_auth': -1}"
      ]
     },
     "execution_count": null,
     "metadata": {},
     "output_type": "execute_result"
    }
   ],
   "source": [
    "import os\n",
    "\n",
    "full_auth = dmda.DomoFullAuth(\n",
    "    domo_instance=\"domo-community\",\n",
    "    domo_username=\"jae@onyxreporting.com\",\n",
    "    domo_password=os.environ[\"DOJO_PASSWORD\"],\n",
    ")\n",
    "\n",
    "community_account = await DomoAccount.get_by_id(account_id=71, auth=full_auth)\n",
    "assert community_account\n",
    "\n",
    "full_auth = dmda.DomoFullAuth(\n",
    "    domo_instance=\"domo-alpha\",\n",
    "    domo_username=\"jae@onyxreporting.com\",\n",
    "    domo_password=os.environ[\"DOJO_PASSWORD\"],\n",
    ")\n",
    "\n",
    "alpha_account = await DomoAccount.get_by_id(account_id=5, auth=full_auth)\n",
    "assert alpha_account\n",
    "\n",
    "token_auth = dmda.DomoTokenAuth(\n",
    "    domo_instance=\"domo-alpha\",\n",
    "    domo_access_token=os.environ[\"ALPHA_ACCESS_TOKEN\"],\n",
    ")\n",
    "alpha_account_token = await DomoAccount.get_by_id(account_id=5, auth=token_auth)\n",
    "assert alpha_account_token\n",
    "\n",
    "{\n",
    "    \"domo-community-full_auth\": await community_account.is_feature_accountsv2_enabled(\n",
    "        return_raw=False\n",
    "    ),\n",
    "    \"domo-alpha-full_auth\": await alpha_account.is_feature_accountsv2_enabled(\n",
    "        return_raw=False\n",
    "    ),\n",
    "    \"domo-alpha-token_auth\": await alpha_account_token.is_feature_accountsv2_enabled(\n",
    "        return_raw=False\n",
    "    ),\n",
    "}"
   ]
  },
  {
   "cell_type": "code",
   "execution_count": null,
   "metadata": {},
   "outputs": [],
   "source": [
    "# | export\n",
    "@patch_to(DomoAccount)\n",
    "async def _share_v2(\n",
    "    self: DomoAccount,\n",
    "    auth: dmda.DomoAuth = None,\n",
    "    user_id=None,\n",
    "    group_id=None,\n",
    "    access_level: ShareAccount = ShareAccount_V2_AccessLevel.CAN_VIEW,\n",
    "    debug_api: bool = False,\n",
    "    session: httpx.AsyncClient = None,\n",
    "    debug_num_stacks_to_drop=2,\n",
    "    return_raw: bool = False,\n",
    "    is_suppress_already_shared: bool = True,\n",
    "):\n",
    "    auth = auth or self.auth\n",
    "\n",
    "    is_v2 = await self.is_feature_accountsv2_enabled(auth=auth)\n",
    "\n",
    "    if is_v2 == 0:\n",
    "        raise account_routes.ShareAccount_Error(\n",
    "            account_id=self.id,\n",
    "            response=\"accounts_v2 feature not enabled, use v1 share method\",\n",
    "            domo_instance=auth.domo_instance,\n",
    "            function_name=\"_share_v2\",\n",
    "            parent_class=self.__class__.__name__,\n",
    "            status=None,\n",
    "        )\n",
    "\n",
    "    share_payload = account_routes.generate_share_account_payload_v2(\n",
    "        user_id=user_id,\n",
    "        group_id=group_id,\n",
    "        access_level=access_level,\n",
    "    )\n",
    "    try:\n",
    "        res = await account_routes.share_account_v2(\n",
    "            auth=auth,\n",
    "            account_id=self.id,\n",
    "            share_payload=share_payload,\n",
    "            debug_api=debug_api,\n",
    "            session=session,\n",
    "            parent_class=self.__class__.__name__,\n",
    "            debug_num_stacks_to_drop=debug_num_stacks_to_drop,\n",
    "        )\n",
    "\n",
    "        if return_raw:\n",
    "            return res\n",
    "\n",
    "        return f\"shared {self.id} - {self.name} with {group_id or user_id}\"\n",
    "\n",
    "    except ShareAccount_Error_AlreadyShared as e:\n",
    "        if not is_suppress_already_shared:\n",
    "            raise e\n",
    "\n",
    "        return f\"already shared {self.id} - {self.name} with {group_id or user_id}\""
   ]
  },
  {
   "cell_type": "markdown",
   "metadata": {},
   "source": [
    "#### sample implementation of share_account_v2\n"
   ]
  },
  {
   "cell_type": "code",
   "execution_count": null,
   "metadata": {},
   "outputs": [
    {
     "name": "stdout",
     "output_type": "stream",
     "text": [
      "Warning - unable to test if accounts_v2 feature is enabled in domo-alpha, recommend pass FullAuth\n",
      "already shared 5 - Abstract Credential Store Account with 1814479647\n"
     ]
    }
   ],
   "source": [
    "import os\n",
    "\n",
    "token_auth = dmda.DomoTokenAuth(\n",
    "    domo_instance=\"domo-alpha\",\n",
    "    domo_access_token=os.environ[\"ALPHA_ACCESS_TOKEN\"],\n",
    ")\n",
    "\n",
    "domo_account = await DomoAccount.get_by_id(account_id=5, auth=token_auth)\n",
    "try:\n",
    "    print(\n",
    "        await domo_account._share_v2(\n",
    "            access_level=ShareAccount_V2_AccessLevel.CAN_VIEW,\n",
    "            group_id=1814479647,\n",
    "            auth=token_auth,\n",
    "            debug_api=False,\n",
    "            is_suppress_already_shared=True,\n",
    "        )\n",
    "    )\n",
    "\n",
    "except ShareAccount_Error as e:\n",
    "    print(e)"
   ]
  },
  {
   "cell_type": "code",
   "execution_count": null,
   "metadata": {},
   "outputs": [],
   "source": [
    "# | export\n",
    "\n",
    "\n",
    "@patch_to(DomoAccount)\n",
    "async def _share_v1(\n",
    "    self: DomoAccount,\n",
    "    auth: dmda.DomoAuth = None,\n",
    "    user_id=None,\n",
    "    access_level: ShareAccount = ShareAccount_V1_AccessLevel.CAN_VIEW,\n",
    "    debug_api: bool = False,\n",
    "    session: httpx.AsyncClient = None,\n",
    "    debug_num_stacks_to_drop=2,\n",
    "    return_raw: bool = False,\n",
    "    is_suppress_already_shared: bool = True,\n",
    "):\n",
    "    auth = auth or self.auth\n",
    "\n",
    "    is_v2 = await self.is_feature_accountsv2_enabled(auth=auth)\n",
    "\n",
    "    if is_v2 == 1:\n",
    "        raise account_routes.ShareAccount_Error(\n",
    "            account_id=self.id,\n",
    "            response=\"accounts_v2 feature enabled, use v2 share method\",\n",
    "            domo_instance=auth.domo_instance,\n",
    "            function_name=\"_share_v2\",\n",
    "            parent_class=self.__class__.__name__,\n",
    "            status=None,\n",
    "        )\n",
    "\n",
    "    share_payload = account_routes.generate_share_account_payload_v1(\n",
    "        user_id=user_id,\n",
    "        access_level=access_level,\n",
    "    )\n",
    "    try:\n",
    "        res = await account_routes.share_account_v1(\n",
    "            auth=auth,\n",
    "            account_id=self.id,\n",
    "            share_payload=share_payload,\n",
    "            debug_api=debug_api,\n",
    "            session=session,\n",
    "            parent_class=self.__class__.__name__,\n",
    "            debug_num_stacks_to_drop=debug_num_stacks_to_drop,\n",
    "        )\n",
    "\n",
    "        if return_raw:\n",
    "            return res\n",
    "\n",
    "        return f\"shared {self.id} - {self.name} with { user_id}\"\n",
    "\n",
    "    except ShareAccount_Error_AlreadyShared as e:\n",
    "        if is_suppress_already_shared:\n",
    "            return f\"already shared {self.id} - {self.name} with { user_id}\"\n",
    "\n",
    "        else:\n",
    "            raise e"
   ]
  },
  {
   "cell_type": "markdown",
   "metadata": {},
   "source": [
    "#### sample implementation of share_account_v1\n"
   ]
  },
  {
   "cell_type": "code",
   "execution_count": null,
   "metadata": {},
   "outputs": [
    {
     "name": "stdout",
     "output_type": "stream",
     "text": [
      "data provider type google-spreadsheets uses OAuth and therefore wouldn't return a Config object\n",
      "Warning - unable to test if accounts_v2 feature is enabled in domo-community, recommend pass FullAuth\n",
      "Warning - unable to test if accounts_v2 feature is enabled in domo-community, recommend pass FullAuth\n",
      "['shared 45 - test-goolesheets with 55874022', 'already shared 45 - test-goolesheets with 1893952720']\n"
     ]
    }
   ],
   "source": [
    "import os\n",
    "import domolibrary.classes.DomoGroup as dmdg\n",
    "import domolibrary.utils.chunk_execution as ce\n",
    "\n",
    "token_auth = dmda.DomoTokenAuth(\n",
    "    domo_instance=\"domo-community\",\n",
    "    domo_access_token=os.environ[\"DOMO_DOJO_ACCESS_TOKEN\"],\n",
    ")\n",
    "\n",
    "domo_account = await DomoAccount.get_by_id(account_id=45, auth=token_auth)\n",
    "domo_group = await dmdg.DomoGroup.get_by_id(group_id=1814479647, auth=token_auth)\n",
    "\n",
    "domo_users = await domo_group.Membership.get_members()\n",
    "domo_user_ids = [domo_user.id for domo_user in domo_users]\n",
    "\n",
    "try:\n",
    "    print(\n",
    "        await ce.gather_with_concurrency(\n",
    "            *[\n",
    "                domo_account._share_v1(\n",
    "                    access_level=ShareAccount_V1_AccessLevel.CAN_EDIT,\n",
    "                    user_id=user_id,\n",
    "                    auth=token_auth,\n",
    "                    debug_api=False,\n",
    "                )\n",
    "                for user_id in domo_user_ids\n",
    "            ],\n",
    "            n=10,\n",
    "        )\n",
    "    )\n",
    "\n",
    "except ShareAccount_Error as e:\n",
    "    print(e)"
   ]
  },
  {
   "cell_type": "code",
   "execution_count": null,
   "metadata": {},
   "outputs": [],
   "source": [
    "# | exporti\n",
    "\n",
    "\n",
    "@patch_to(DomoAccount)\n",
    "async def share(\n",
    "    self: DomoAccount,\n",
    "    user_id=None,\n",
    "    group_id=None,\n",
    "    domo_user=None,\n",
    "    domo_group=None,\n",
    "    auth: dmda.DomoAuth = None,\n",
    "    access_level: ShareAccount = None,  # will default to Read\n",
    "    is_suppress_already_shared: bool = True,\n",
    "    debug_api: bool = False,\n",
    "    debug_num_stacks_to_drop: int = 3,\n",
    "    debug_prn: bool = False,\n",
    "    session: httpx.AsyncClient = None,\n",
    "):\n",
    "    auth = auth or self.auth\n",
    "    is_v2 = await self.is_feature_accountsv2_enabled(auth=auth)\n",
    "\n",
    "    user_id = user_id or (domo_user and domo_user.id)\n",
    "\n",
    "    debug = {\"is_accounts_v2\": is_v2}\n",
    "\n",
    "    res = None\n",
    "\n",
    "    if is_v2 == 1:\n",
    "        group_id = group_id or (domo_group and domo_group.id)\n",
    "\n",
    "        debug.update(\n",
    "            {\n",
    "                \"user_id*\": user_id,\n",
    "                \"group_id\": group_id,\n",
    "            }\n",
    "        )\n",
    "\n",
    "        if debug_prn:\n",
    "            print(debug)\n",
    "\n",
    "        res = await self._share_v2(\n",
    "            auth=auth,\n",
    "            user_id=user_id,\n",
    "            group_id=group_id,\n",
    "            debug_api=debug_api,\n",
    "            debug_num_stacks_to_drop=debug_num_stacks_to_drop,\n",
    "            session=session,\n",
    "            is_suppress_already_shared=is_suppress_already_shared,\n",
    "        )\n",
    "\n",
    "    elif is_v2 == 0:\n",
    "        user_ids = [user_id]\n",
    "\n",
    "        if group_id:\n",
    "            import domolibrary.classes.DomoGroup as dmdg\n",
    "\n",
    "            domo_group = await dmdg.DomoGroup.get_by_id(group_id=group_id, auth=auth)\n",
    "\n",
    "        group_id = group_id or domo_group.id\n",
    "        domo_users = await domo_group.Membership.get_members()\n",
    "        user_ids = [domo_user.id for domo_user in domo_users]\n",
    "\n",
    "        debug.update({\"group_id\": group_id, \"user_ids\": user_ids})\n",
    "\n",
    "        if debug_prn:\n",
    "            print(debug)\n",
    "\n",
    "        res = await ce.gather_with_concurrency(\n",
    "            *[\n",
    "                self._share_v1(\n",
    "                    auth=auth,\n",
    "                    user_id=user_id,\n",
    "                    debug_api=debug_api,\n",
    "                    debug_num_stacks_to_drop=debug_num_stacks_to_drop,\n",
    "                    session=session,\n",
    "                    is_suppress_already_shared=is_suppress_already_shared,\n",
    "                )\n",
    "                for user_id in user_ids\n",
    "            ],\n",
    "            n=10,\n",
    "        )\n",
    "\n",
    "    return res"
   ]
  },
  {
   "cell_type": "markdown",
   "metadata": {},
   "source": [
    "#### sample implementation of domo_account.share\n"
   ]
  },
  {
   "cell_type": "code",
   "execution_count": null,
   "metadata": {},
   "outputs": [
    {
     "name": "stdout",
     "output_type": "stream",
     "text": [
      "{'is_accounts_v2': 0, 'group_id': 1814479647, 'user_ids': ['55874022', '1893952720']}\n"
     ]
    },
    {
     "data": {
      "text/plain": [
       "['shared 71 - DomoLibrary - testrename 2023-11-28 with 55874022',\n",
       " 'already shared 71 - DomoLibrary - testrename 2023-11-28 with 1893952720']"
      ]
     },
     "execution_count": null,
     "metadata": {},
     "output_type": "execute_result"
    }
   ],
   "source": [
    "import os\n",
    "import domolibrary.client.DomoAuth as dmda\n",
    "import domolibrary.classes.DomoGroup as dmg\n",
    "\n",
    "full_auth = dmda.DomoFullAuth(\n",
    "    domo_instance=\"domo-community\",\n",
    "    domo_username=os.environ[\"DOMO_USERNAME\"],\n",
    "    domo_password=os.environ[\"DOJO_PASSWORD\"],\n",
    ")\n",
    "account_id = 71\n",
    "domo_account = await DomoAccount.get_by_id(account_id=account_id, auth=full_auth)\n",
    "assert domo_account\n",
    "\n",
    "domo_group = await dmg.DomoGroup.get_by_id(group_id=1814479647, auth=token_auth)\n",
    "assert domo_group\n",
    "\n",
    "domo_users = await domo_group.Membership.get_members()\n",
    "assert domo_users\n",
    "\n",
    "await domo_account.share(\n",
    "    domo_group=domo_group,\n",
    "    access_level=ShareAccount_V1_AccessLevel.CAN_VIEW,\n",
    "    auth=full_auth,\n",
    "    debug_prn=True,\n",
    "    debug_api=False,\n",
    ")"
   ]
  },
  {
   "attachments": {},
   "cell_type": "markdown",
   "metadata": {},
   "source": [
    "# DomoAccounts\n",
    "\n",
    "A class for retrieving account objects\n"
   ]
  },
  {
   "cell_type": "code",
   "execution_count": null,
   "metadata": {},
   "outputs": [],
   "source": [
    "# | export\n",
    "\n",
    "\n",
    "@dataclass\n",
    "class DomoAccounts:\n",
    "    auth: dmda.DomoAuth"
   ]
  },
  {
   "cell_type": "code",
   "execution_count": null,
   "metadata": {},
   "outputs": [],
   "source": [
    "# | export\n",
    "\n",
    "\n",
    "@staticmethod\n",
    "@patch_to(DomoAccounts)\n",
    "async def _get_accounts_accountsapi(\n",
    "    auth: dmda.DomoAuth,\n",
    "    debug_api: bool = False,\n",
    "    session: httpx.AsyncClient = None,\n",
    "    return_raw: bool = False,\n",
    "):\n",
    "    res = await account_routes.get_accounts(\n",
    "        auth=auth, debug_api=debug_api, session=session\n",
    "    )\n",
    "\n",
    "    if return_raw:\n",
    "        return res\n",
    "\n",
    "    if len(res.response) == 0:\n",
    "        return []\n",
    "\n",
    "    return await ce.gather_with_concurrency(\n",
    "        n=60,\n",
    "        *[\n",
    "            DomoAccount.get_by_id(\n",
    "                account_id=json_obj.get(\"id\"),\n",
    "                debug_api=debug_api,\n",
    "                session=session,\n",
    "                auth=auth,\n",
    "            )\n",
    "            for json_obj in res.response\n",
    "        ],\n",
    "    )\n",
    "\n",
    "\n",
    "@patch_to(DomoAccounts, cls_method=True)\n",
    "async def _get_accounts_queryapi(\n",
    "    cls: DomoAccounts,\n",
    "    auth: dmda.DomoAuth,\n",
    "    debug_api: bool = False,\n",
    "    additional_filters_ls=None,\n",
    "    session: httpx.AsyncClient = None,\n",
    "    return_raw: bool = False,\n",
    "):\n",
    "    \"\"\"v2 api for works with group_account_v2 beta\"\"\"\n",
    "\n",
    "    import domolibrary.routes.datacenter as datacenter_routes\n",
    "\n",
    "    res = await datacenter_routes.search_datacenter(\n",
    "        auth=auth,\n",
    "        entity_type=datacenter_routes.Datacenter_Enum.ACCOUNT.value,\n",
    "        additional_filters_ls=additional_filters_ls,\n",
    "        session=session,\n",
    "        debug_api=debug_api,\n",
    "    )\n",
    "\n",
    "    if return_raw:\n",
    "        return res\n",
    "\n",
    "    if len(res.response) == 0:\n",
    "        return []\n",
    "\n",
    "    return [\n",
    "        DomoAccount._from_json(account_obj, auth=auth) for account_obj in res.response\n",
    "    ]\n",
    "\n",
    "\n",
    "@patch_to(DomoAccounts, cls_method=True)\n",
    "async def get_accounts(\n",
    "    cls: DomoAccounts,\n",
    "    auth: dmda.DomoAuth,\n",
    "    additional_filters_ls=None,  # datacenter_routes.generate_search_datacenter_filter\n",
    "    # account string to search for, must be an exact match in spelling.  case insensitive\n",
    "    # v2 will use the queryAPI as it returns more complete results than the accountsAPI\n",
    "    is_v2: bool = None,\n",
    "    is_suppress_undefined_provider_type: bool = False,\n",
    "    account_name: str = None,\n",
    "    account_id: str = None,\n",
    "    account_type: AccountConfig = None,  # to retrieve a specific account type\n",
    "    account_type_str=None,\n",
    "    debug_api: bool = False,\n",
    "    session: httpx.AsyncClient = None,\n",
    "    return_raw: bool = False,\n",
    "    debug_prn: bool = False,\n",
    "):\n",
    "    import domolibrary.classes.DomoBootstrap as bsr\n",
    "    import domolibrary.routes.datacenter as datacenter_routes\n",
    "\n",
    "    if isinstance(auth, dmda.DomoFullAuth) and is_v2 is None:\n",
    "        instance_bsr = bsr.DomoBootstrap(auth=auth)\n",
    "\n",
    "        is_v2 = await instance_bsr.is_feature_accountsv2_enabled(auth)\n",
    "\n",
    "        if debug_prn:\n",
    "            print(\n",
    "                f\"{auth.domo_instance} {'is' if is_v2 else 'is not'} using the v2 beta\"\n",
    "            )\n",
    "\n",
    "    if is_v2:\n",
    "        try:\n",
    "            domo_accounts = await cls._get_accounts_queryapi(\n",
    "                auth=auth,\n",
    "                debug_api=debug_api,\n",
    "                additional_filters_ls=additional_filters_ls,\n",
    "                session=session,\n",
    "            )\n",
    "        except datacenter_routes.SearchDatacenter_NoResultsFound as e:\n",
    "            print(e)\n",
    "            domo_accounts = []\n",
    "    else:\n",
    "        domo_accounts = await cls._get_accounts_accountsapi(\n",
    "            auth=auth, debug_api=debug_api, session=session\n",
    "        )\n",
    "\n",
    "    if return_raw or len(domo_accounts) == 0:\n",
    "        return domo_accounts\n",
    "\n",
    "    if account_id:\n",
    "        domo_account = next(\n",
    "            (\n",
    "                domo_account\n",
    "                for domo_account in domo_accounts\n",
    "                if int(domo_account.id) == int(account_id)\n",
    "            ),\n",
    "            None,\n",
    "        )\n",
    "\n",
    "        if not domo_account:\n",
    "            raise GetAccount_NoMatch(\n",
    "                account_id=account_id, domo_instance=auth.domo_instance\n",
    "            )\n",
    "\n",
    "        return domo_account\n",
    "\n",
    "    if account_name and isinstance(account_name, str):\n",
    "        domo_accounts = [\n",
    "            domo_account\n",
    "            for domo_account in domo_accounts\n",
    "            if domo_account.name.lower() == account_name.lower()\n",
    "        ]\n",
    "\n",
    "    if account_type:\n",
    "        return [\n",
    "            domo_account\n",
    "            for domo_account in domo_accounts\n",
    "            if domo_account.data_provider_type == account_type.value.data_provider_type\n",
    "        ]\n",
    "\n",
    "    if account_type_str:\n",
    "        return [\n",
    "            domo_account\n",
    "            for domo_account in domo_accounts\n",
    "            if domo_account.data_provider_type == account_type_str\n",
    "        ]\n",
    "\n",
    "    return domo_accounts"
   ]
  },
  {
   "cell_type": "markdown",
   "metadata": {},
   "source": [
    "#### sample get_accounts\n"
   ]
  },
  {
   "cell_type": "code",
   "execution_count": null,
   "metadata": {},
   "outputs": [
    {
     "name": "stdout",
     "output_type": "stream",
     "text": [
      "data provider type domo-csv not defined yet. Extend the AccountConfig class\n",
      "data provider type google-spreadsheets uses OAuth and therefore wouldn't return a Config object\n",
      "data provider type google-spreadsheets uses OAuth and therefore wouldn't return a Config object\n"
     ]
    },
    {
     "data": {
      "text/plain": [
       "DomoAccount(data_provider_type='abstract-credential-store', name='DomoLibrary - testrename 2023-11-28', id=71, created_dt=datetime.datetime(2023, 5, 18, 21, 58, 12), modified_dt=datetime.datetime(2023, 11, 28, 18, 52, 25), config=DomoAccount_Config_AbstractCredential(credentials='********'), is_admin_summary=False)"
      ]
     },
     "execution_count": null,
     "metadata": {},
     "output_type": "execute_result"
    }
   ],
   "source": [
    "import os\n",
    "\n",
    "auth = dmda.DomoTokenAuth(\n",
    "    domo_instance=\"domo-community\",\n",
    "    domo_access_token=os.environ[\"DOMO_DOJO_ACCESS_TOKEN\"],\n",
    ")\n",
    "\n",
    "await DomoAccounts.get_accounts(\n",
    "    auth=auth,\n",
    "    is_v2=False,\n",
    "    # account_name = 'domo_creds',\n",
    "    account_id=71,\n",
    "    return_raw=False,\n",
    "    debug_prn=False,\n",
    "    debug_api=False,\n",
    ")"
   ]
  },
  {
   "cell_type": "code",
   "execution_count": null,
   "metadata": {},
   "outputs": [],
   "source": [
    "# |export\n",
    "@dataclass\n",
    "class Account_Accesslist_Share:\n",
    "    entity: Any\n",
    "    access_level: ShareAccount\n",
    "    auth: dmda.DomoAuth\n",
    "\n",
    "    @staticmethod\n",
    "    async def _get_entity(obj, auth : dmda.DomoAuth ):\n",
    "        if obj[\"type\"] == \"USER\":\n",
    "            import domolibrary.classes.DomoUser as dmu\n",
    "\n",
    "            return await dmu.DomoUser.get_by_id(user_id=obj[\"id\"], auth=auth)\n",
    "\n",
    "        if obj[\"type\"] == \"GROUP\":\n",
    "            import domolibrary.classes.DomoGroup as dmg\n",
    "\n",
    "            return await dmg.DomoGroup.get_by_id(group_id=obj[\"id\"], auth=auth)\n",
    "\n",
    "        return None\n",
    "\n",
    "    @staticmethod\n",
    "    def _get_access_level(access_level, is_v2: int):\n",
    "        if is_v2 == 1:\n",
    "            return ShareAccount_V2_AccessLevel[access_level]\n",
    "\n",
    "        else:\n",
    "            return ShareAccount_V1_AccessLevel[access_level]\n",
    "\n",
    "    @classmethod\n",
    "    async def _from_json(\n",
    "        cls: ShareAccount, obj, auth: dmda.DomoAuth, is_v2: bool = False\n",
    "    ):\n",
    "        return cls(\n",
    "            entity=await cls._get_entity(obj, auth = auth),\n",
    "            auth=auth,\n",
    "            access_level=cls._get_access_level(obj[\"accessLevel\"], is_v2),\n",
    "        )\n",
    "\n",
    "\n",
    "@dataclass\n",
    "class Account_Accesslist:\n",
    "    account: DomoAccount\n",
    "    auth: dmda.DomoAuth\n",
    "    domo_users = None\n",
    "    domo_groups = None"
   ]
  },
  {
   "cell_type": "code",
   "execution_count": null,
   "metadata": {},
   "outputs": [],
   "source": [
    "# | exporti\n",
    "@patch_to(DomoAccount)\n",
    "async def get_accesslist(\n",
    "    self: DomoAccount,\n",
    "    auth: dmda.DomoAuth = None,\n",
    "    debug_api: bool = False,\n",
    "    return_raw: bool = False,\n",
    "    session: httpx.AsyncClient = None,\n",
    "):\n",
    "    auth=auth or self.auth\n",
    "    res = await account_routes.get_account_accesslist(\n",
    "        auth=auth, account_id=self.id, debug_api=debug_api, session=session\n",
    "    )\n",
    "\n",
    "    if return_raw:\n",
    "        return res\n",
    "\n",
    "    is_v2 = await self.is_feature_accountsv2_enabled()\n",
    "\n",
    "    self.accesslist = await ce.gather_with_concurrency(\n",
    "        *[\n",
    "            Account_Accesslist_Share._from_json(obj=obj, auth=auth, is_v2=is_v2)\n",
    "            for obj in res.response[\"list\"]\n",
    "        ],\n",
    "        n=10,\n",
    "    )\n",
    "    return self.accesslist"
   ]
  },
  {
   "cell_type": "markdown",
   "metadata": {},
   "source": [
    "#### sample implementation of get_accesslist\n"
   ]
  },
  {
   "cell_type": "code",
   "execution_count": null,
   "metadata": {},
   "outputs": [
    {
     "name": "stdout",
     "output_type": "stream",
     "text": [
      "Warning - unable to test if accounts_v2 feature is enabled in domo-community, recommend pass FullAuth\n"
     ]
    },
    {
     "data": {
      "text/plain": [
       "[Account_Accesslist_Share(entity=DomoUser(id='55874022', display_name='Grant Smith', email_address='grantsmith@gmail.com', role_id=1, department='', title='', avatar_key='932c359c-5e94-40a4-8f0f-bb67e61b034d', phone_number='0', web_landing_page=None, web_mobile_landing_page=None, employee_id=None, employee_number=None, hire_date=1618632000000, reports_to=None, publisher_domain=None, subscriber_domain=None, virtual_user_id=None, custom_attributes={}), access_level=<ShareAccount_V1_AccessLevel.CAN_VIEW: 'READ'>, auth=DomoTokenAuth(domo_instance='domo-community', token_name='token_auth', is_valid_token=True, url_manual_login='https://domo-community.domo.com/auth/index?domoManualLogin=true')),\n",
       " Account_Accesslist_Share(entity=DomoUser(id='1893952720', display_name='Jae Wilson1', email_address='jae@onyxreporting.com', role_id=1, department='Business Improvement', title=None, avatar_key='c605f478-0cd2-4451-9fd4-d82090b71e66', phone_number=None, web_landing_page=None, web_mobile_landing_page=None, employee_id=None, employee_number=None, hire_date=None, reports_to=None, publisher_domain=None, subscriber_domain=None, virtual_user_id=None, custom_attributes={}), access_level=<ShareAccount_V1_AccessLevel.OWNER: 'OWNER'>, auth=DomoTokenAuth(domo_instance='domo-community', token_name='token_auth', is_valid_token=True, url_manual_login='https://domo-community.domo.com/auth/index?domoManualLogin=true'))]"
      ]
     },
     "execution_count": null,
     "metadata": {},
     "output_type": "execute_result"
    }
   ],
   "source": [
    "import os\n",
    "\n",
    "auth = dmda.DomoTokenAuth(\n",
    "    domo_instance=\"domo-community\",\n",
    "    domo_access_token=os.environ[\"DOMO_DOJO_ACCESS_TOKEN\"],\n",
    ")\n",
    "\n",
    "# creates a DomoAccount object\n",
    "domo_account = await DomoAccount.get_by_id(auth=auth, account_id=71)\n",
    "\n",
    "await domo_account.get_accesslist()"
   ]
  },
  {
   "cell_type": "markdown",
   "metadata": {},
   "source": [
    "# UPSERT Functions\n"
   ]
  },
  {
   "cell_type": "code",
   "execution_count": null,
   "metadata": {},
   "outputs": [],
   "source": [
    "# | exporti\n",
    "\n",
    "\n",
    "@patch_to(DomoAccounts, cls_method=True)\n",
    "async def upsert_account(\n",
    "    cls: DomoAccounts,\n",
    "    auth: dmda.DomoAuth,\n",
    "    account_config: AccountConfig = None,\n",
    "    account_name: str = None,\n",
    "    account_id: str = None,\n",
    "    debug_api: bool = False,\n",
    "    debug_prn: bool = False,\n",
    "    return_raw: bool = False,\n",
    "    session: httpx.AsyncClient = None,\n",
    "):\n",
    "    \"\"\"search for an account and upsert it\"\"\"\n",
    "\n",
    "    if not account_name and not account_id:\n",
    "        raise UpsertAccount_MatchCriteria(domo_instance=auth.domo_instance)\n",
    "\n",
    "    acc = None\n",
    "    res = None\n",
    "\n",
    "    if account_id:\n",
    "        acc = await DomoAccounts.get_accounts(account_id=account_id, auth=auth)\n",
    "\n",
    "        if acc and account_name:\n",
    "            if debug_prn:\n",
    "                print(f\"upsertting {acc.id}:  updating account_name\")\n",
    "            res = await acc.update_name(\n",
    "                account_name=account_name, debug_api=debug_api, return_raw=return_raw\n",
    "            )\n",
    "\n",
    "    if account_name and acc is None:\n",
    "        acc = await DomoAccounts.get_accounts(\n",
    "            account_name=account_name,\n",
    "            auth=auth,\n",
    "            account_type_str=(account_config and account_config.data_provider_type)\n",
    "            or None,\n",
    "            # is_suppress_undefined_provider_type = True\n",
    "        )\n",
    "\n",
    "        if isinstance(acc, list) and len(acc) > 0 and isinstance(acc[0], DomoAccount):\n",
    "            acc = acc[0]\n",
    "\n",
    "        else:\n",
    "            acc = None\n",
    "\n",
    "    if acc and account_config:  # upsert account\n",
    "        acc.config = account_config\n",
    "\n",
    "        if debug_prn:\n",
    "            print(f\"upsertting {acc.id}:  updating config\")\n",
    "\n",
    "        res = await acc.update_config(debug_api=debug_api, return_raw=return_raw)\n",
    "\n",
    "    if return_raw and acc:\n",
    "        return res\n",
    "\n",
    "    if not acc:\n",
    "        if debug_prn:\n",
    "            print(f\"creating account {account_name} in {auth.domo_instance}\")\n",
    "\n",
    "        acc = await DomoAccount.create_account(\n",
    "            account_name=account_name,\n",
    "            config=account_config,\n",
    "            auth=auth,\n",
    "            debug_api=debug_api,\n",
    "            return_raw=return_raw,\n",
    "        )\n",
    "\n",
    "    return acc"
   ]
  },
  {
   "cell_type": "markdown",
   "metadata": {},
   "source": [
    "#### sample implementation of upsert_account\n"
   ]
  },
  {
   "cell_type": "code",
   "execution_count": null,
   "metadata": {},
   "outputs": [
    {
     "name": "stdout",
     "output_type": "stream",
     "text": [
      "data provider type domo-csv not defined yet. Extend the AccountConfig class\n",
      "data provider type google-spreadsheets uses OAuth and therefore wouldn't return a Config object\n",
      "data provider type google-spreadsheets uses OAuth and therefore wouldn't return a Config object\n",
      "upsertting 71:  updating account_name\n",
      "upsertting 71:  updating config\n"
     ]
    },
    {
     "data": {
      "text/plain": [
       "DomoAccount(data_provider_type='abstract-credential-store', name='DomoLibrary - testrename 2023-11-28', id=71, created_dt=datetime.datetime(2023, 5, 18, 21, 58, 12), modified_dt=datetime.datetime(2023, 11, 28, 18, 52, 25), config=DomoAccount_Config_AbstractCredential(credentials='********'), is_admin_summary=False)"
      ]
     },
     "execution_count": null,
     "metadata": {},
     "output_type": "execute_result"
    }
   ],
   "source": [
    "import os\n",
    "import domolibrary.classes.DomoUser as dmu\n",
    "import datetime as dt\n",
    "\n",
    "dt.date.today()\n",
    "\n",
    "token_auth = dmda.DomoTokenAuth(\n",
    "    domo_instance=\"domo-community\",\n",
    "    domo_access_token=os.environ[\"DOMO_DOJO_ACCESS_TOKEN\"],\n",
    ")\n",
    "\n",
    "account_config = AccountConfig.abstract_credential_store.value(\n",
    "    credentials=f\"abc {dt.date.today()}\"\n",
    ")\n",
    "\n",
    "\n",
    "# creates a DomoAccount object\n",
    "await DomoAccounts.upsert_account(\n",
    "    account_name=f\"domo_creds - update {dt.date.today()}\",\n",
    "    account_id=71,\n",
    "    auth=token_auth,\n",
    "    debug_api=False,\n",
    "    debug_prn=True,\n",
    "    account_config=account_config,\n",
    "    return_raw=False,\n",
    ")"
   ]
  },
  {
   "cell_type": "code",
   "execution_count": null,
   "metadata": {},
   "outputs": [],
   "source": [
    "# | exporti\n",
    "\n",
    "\n",
    "@patch_to(DomoAccount)\n",
    "async def upsert_share_account_user(\n",
    "    self: DomoAccount,\n",
    "    domo_user,\n",
    "    auth: dmda.DomoAuth = None,\n",
    "    is_v2: bool = None,\n",
    "    access_level: ShareAccount = None,  # will default to Read\n",
    "    debug_api: bool = False,\n",
    "    debug_prn: bool = False,\n",
    "    session: httpx.AsyncClient = None,\n",
    "):\n",
    "    auth = auth or self.auth\n",
    "\n",
    "    ls_share = await account_routes.get_account_accesslist(\n",
    "        auth=auth, account_id=self.id\n",
    "    )\n",
    "    res = None\n",
    "\n",
    "    if domo_user:\n",
    "        user_id = domo_user.id\n",
    "        found_user = next(\n",
    "            (\n",
    "                obj\n",
    "                for obj in ls_share.response[\"list\"]\n",
    "                if obj[\"id\"] == user_id and obj[\"type\"] == \"USER\"\n",
    "            ),\n",
    "            None,\n",
    "        )\n",
    "        if not found_user:\n",
    "            res = await self.share(\n",
    "                domo_user=domo_user,\n",
    "                auth=auth,\n",
    "                access_level=access_level,\n",
    "                debug_api=debug_api,\n",
    "                debug_prn=debug_prn,\n",
    "                session=session,\n",
    "            )\n",
    "\n",
    "    return res\n",
    "\n",
    "\n",
    "@patch_to(DomoAccount)\n",
    "async def upsert_share_account_group(\n",
    "    self: DomoAccount,\n",
    "    domo_group,\n",
    "    auth: dmda.DomoAuth = None,\n",
    "    is_v2: bool = None,\n",
    "    access_level: ShareAccount = None,  # will default to Read\n",
    "    debug_api: bool = False,\n",
    "    debug_prn: bool = False,\n",
    "    session: httpx.AsyncClient = None,\n",
    "):\n",
    "    auth = auth or self.auth\n",
    "\n",
    "    ls_share = await account_routes.get_account_accesslist(\n",
    "        auth=auth, account_id=self.id\n",
    "    )\n",
    "    res = None\n",
    "\n",
    "    if domo_group:\n",
    "        group_id = domo_group.id\n",
    "        found_group = next(\n",
    "            (\n",
    "                obj\n",
    "                for obj in ls_share.response[\"list\"]\n",
    "                if obj[\"id\"] == group_id and obj[\"type\"] == \"GROUP\"\n",
    "            ),\n",
    "            None,\n",
    "        )\n",
    "        if not found_group:\n",
    "            res = await self.share(\n",
    "                domo_group=domo_group,\n",
    "                auth=auth,\n",
    "                access_level=access_level,\n",
    "                debug_api=debug_api,\n",
    "                debug_prn=debug_prn,\n",
    "                session=session,\n",
    "            )\n",
    "\n",
    "    return res"
   ]
  },
  {
   "cell_type": "markdown",
   "metadata": {},
   "source": [
    "#### sample implementation upsert share account\n"
   ]
  },
  {
   "cell_type": "code",
   "execution_count": null,
   "metadata": {},
   "outputs": [
    {
     "name": "stdout",
     "output_type": "stream",
     "text": [
      "Warning - unable to test if accounts_v2 feature is enabled in domo-community, recommend pass FullAuth\n"
     ]
    }
   ],
   "source": [
    "import os\n",
    "import domolibrary.classes.DomoUser as dmu\n",
    "\n",
    "auth = dmda.DomoTokenAuth(\n",
    "    domo_instance=\"domo-community\",\n",
    "    domo_access_token=os.environ[\"DOMO_DOJO_ACCESS_TOKEN\"],\n",
    ")\n",
    "# creates a DomoAccount object\n",
    "domo_account = await DomoAccount.get_by_id(auth=auth, account_id=71)\n",
    "domo_user = await dmu.DomoUser.get_by_id(user_id=68216396, auth=auth)\n",
    "\n",
    "await domo_account.upsert_share_account_user(domo_user=domo_user)"
   ]
  },
  {
   "cell_type": "code",
   "execution_count": null,
   "metadata": {},
   "outputs": [],
   "source": [
    "# | hide\n",
    "import nbdev\n",
    "\n",
    "nbdev.nbdev_export()"
   ]
  }
 ],
 "metadata": {
  "jupytext": {
   "split_at_heading": true
  },
  "kernelspec": {
   "display_name": "python3",
   "language": "python",
   "name": "python3"
  }
 },
 "nbformat": 4,
 "nbformat_minor": 4
}
