{
 "cells": [
  {
   "attachments": {},
   "cell_type": "markdown",
   "metadata": {},
   "source": [
    "# Account\n"
   ]
  },
  {
   "cell_type": "raw",
   "metadata": {},
   "source": [
    "---\n",
    "output-file: account_class.html\n",
    "---\n",
    "\n"
   ]
  },
  {
   "cell_type": "code",
   "execution_count": 32,
   "metadata": {},
   "outputs": [],
   "source": [
    "# | default_exp classes.DomoAccount\n"
   ]
  },
  {
   "cell_type": "code",
   "execution_count": 33,
   "metadata": {},
   "outputs": [],
   "source": [
    "# | exporti\n",
    "\n",
    "from dataclasses import dataclass, field\n",
    "\n",
    "import datetime as dt\n",
    "import re\n",
    "\n",
    "import httpx\n",
    "\n",
    "from fastcore.basics import patch_to\n",
    "\n",
    "import domolibrary.utils.convert as cd\n",
    "import domolibrary.utils.DictDot as util_dd\n",
    "import domolibrary.client.DomoAuth as dmda\n",
    "import domolibrary.client.DomoError as de\n",
    "import domolibrary.routes.account as account_routes\n",
    "\n",
    "import domolibrary.utils.chunk_execution as ce"
   ]
  },
  {
   "cell_type": "code",
   "execution_count": 34,
   "metadata": {},
   "outputs": [],
   "source": [
    "#| export \n",
    "\n",
    "from domolibrary.routes.account import (\n",
    "    ShareAccount_V1_AccessLevel,\n",
    "    ShareAccount_V2_AccessLevel,\n",
    "    ShareAccount,\n",
    "    GetAccount_NoMatch,\n",
    "    ShareAccount_Error,\n",
    "    DeleteAccount_Error\n",
    ")\n",
    "\n",
    "from domolibrary.classes.DomoAccount_Config import (\n",
    "    AccountConfig_UsesOauth,\n",
    "    AccountConfig_ProviderTypeNotDefined,\n",
    "    DomoAccount_Config,\n",
    "    AccountConfig,\n",
    ")\n",
    "\n",
    "class Account_CanIModify(de.DomoError):\n",
    "    def __init__(self, account_id, domo_instance):\n",
    "        super().__init__(\n",
    "            message = f\"`DomoAccount.is_admin_summary` must be `False` to proceed.  Either set the value explicity, or retrieve the account instance using `DomoAccount.get_by_id()`\",\n",
    "            domo_instance = domo_instance\n",
    "        )\n",
    "\n",
    "        \n",
    "class UpsertAccount_MatchCriteria(de.DomoError):\n",
    "    def __init__(self, domo_instance):\n",
    "        super().__init__(\n",
    "            message=\"must pass an account_id or account_name to UPSERT\",\n",
    "            domo_instance=domo_instance,\n",
    "        )\n",
    "\n"
   ]
  },
  {
   "attachments": {},
   "cell_type": "markdown",
   "metadata": {},
   "source": [
    "# DomoAccount\n"
   ]
  },
  {
   "cell_type": "code",
   "execution_count": 35,
   "metadata": {},
   "outputs": [],
   "source": [
    "# | export\n",
    "@dataclass\n",
    "class DomoAccount:\n",
    "    data_provider_type: str = None\n",
    "    name: str = None\n",
    "\n",
    "    id: int = None\n",
    "    created_dt: dt.datetime = None\n",
    "    modified_dt: dt.datetime = None\n",
    "    auth: dmda.DomoAuth = field(repr=False, default=None)\n",
    "\n",
    "    config: DomoAccount_Config = None,\n",
    "\n",
    "    is_admin_summary: bool = True\n",
    "\n",
    "    @classmethod\n",
    "    def _from_json(cls, obj: dict,\n",
    "                   is_admin_summary: bool = True,\n",
    "                   auth: dmda.DomoAuth = None,\n",
    "                   ):\n",
    "        \"\"\"converts data_v1_accounts API response into an accounts class object\"\"\"\n",
    "\n",
    "        dd = util_dd.DictDot(obj)\n",
    "\n",
    "        return cls(\n",
    "            id=dd.id or dd.databaseId,\n",
    "            name=dd.displayName,\n",
    "            data_provider_type=dd.dataProviderId or dd.dataProviderType,\n",
    "            created_dt=cd.convert_epoch_millisecond_to_datetime(\n",
    "                dd.createdAt or dd.createDate\n",
    "            ),\n",
    "            modified_dt=cd.convert_epoch_millisecond_to_datetime(\n",
    "                dd.modifiedAt or dd.lastModified\n",
    "            ),\n",
    "            auth=auth,\n",
    "            is_admin_summary=is_admin_summary\n",
    "        )\n"
   ]
  },
  {
   "cell_type": "markdown",
   "metadata": {},
   "source": [
    "## DomoAccount GET methods\n"
   ]
  },
  {
   "cell_type": "code",
   "execution_count": 36,
   "metadata": {},
   "outputs": [],
   "source": [
    "# | export\n",
    "\n",
    "\n",
    "@patch_to(DomoAccount)\n",
    "async def _get_config(\n",
    "    self: DomoAccount,\n",
    "    session=None,\n",
    "    return_raw: bool = False,\n",
    "    debug_api: bool = None,\n",
    "    auth: dmda.DomoAuth = None,\n",
    "    debug_num_stacks_to_drop=2,\n",
    "    is_suppress_no_config: bool = False,  # can be used to suppress cases where the config is not defined, either because the account_config is OAuth, and therefore not stored in Domo OR because the AccountConfig class doesn't cover the data_type\n",
    "):\n",
    "    res = await account_routes.get_account_config(\n",
    "        auth=auth or self.auth,\n",
    "        account_id=self.id,\n",
    "        session=session,\n",
    "        debug_api=debug_api,\n",
    "        parent_class=self.__class__.__name__,\n",
    "        debug_num_stacks_to_drop=debug_num_stacks_to_drop,\n",
    "    )\n",
    "\n",
    "    if return_raw:\n",
    "        return res\n",
    "\n",
    "    data_provider_type = res.response.get(\"_search_metadata\").get(\"data_provider_type\")\n",
    "\n",
    "    config_fn = AccountConfig(data_provider_type).value\n",
    "\n",
    "    if not is_suppress_no_config and not config_fn.is_defined_config:\n",
    "        raise config_fn._associated_exception(data_provider_type)\n",
    "\n",
    "    self.config = config_fn._from_json(res.response)\n",
    "\n",
    "    return self.config"
   ]
  },
  {
   "cell_type": "markdown",
   "metadata": {},
   "source": [
    "##### sample of hidden function \\_get_config\n",
    "\n",
    "called by `DomoAccount.get_by_id()`\n"
   ]
  },
  {
   "cell_type": "code",
   "execution_count": 37,
   "metadata": {},
   "outputs": [
    {
     "name": "stdout",
     "output_type": "stream",
     "text": [
      "data provider type google-spreadsheets uses OAuth and therefore wouldn't return a Config object\n",
      "data provider type google-spreadsheets uses OAuth and therefore wouldn't return a Config object\n"
     ]
    }
   ],
   "source": [
    "import os\n",
    "\n",
    "token_auth = dmda.DomoTokenAuth(\n",
    "    domo_instance=\"domo-community\",\n",
    "    domo_access_token=os.environ[\"DOMO_DOJO_ACCESS_TOKEN\"],\n",
    ")\n",
    "\n",
    "domo_account = DomoAccount(\n",
    "    auth=token_auth,\n",
    "    id=45,\n",
    ")\n",
    "\n",
    "try:\n",
    "    await domo_account._get_config(\n",
    "        debug_api=False, return_raw=False, is_suppress_no_config=False\n",
    "    )\n",
    "\n",
    "except AccountConfig_UsesOauth as e:\n",
    "    print(e)"
   ]
  },
  {
   "cell_type": "code",
   "execution_count": 38,
   "metadata": {},
   "outputs": [],
   "source": [
    "# | export\n",
    "@patch_to(DomoAccount, cls_method=True)\n",
    "async def get_by_id(\n",
    "    cls,\n",
    "    auth: dmda.DomoAuth,\n",
    "    account_id: int,\n",
    "    is_suppress_no_config: bool = True,\n",
    "    session: httpx.AsyncClient = None,\n",
    "    return_raw: bool = False,\n",
    "    debug_api: bool = False,\n",
    "    debug_num_stacks_to_drop=2,\n",
    "):\n",
    "    \"\"\"retrieves account metadata and attempts to retrieve config\"\"\"\n",
    "\n",
    "    res = await account_routes.get_account_from_id(\n",
    "        auth=auth,\n",
    "        account_id=account_id,\n",
    "        session=session,\n",
    "        debug_api=debug_api,\n",
    "        parent_class=cls.__name__,\n",
    "        debug_num_stacks_to_drop=debug_num_stacks_to_drop,\n",
    "    )\n",
    "\n",
    "    if return_raw:\n",
    "        return res\n",
    "\n",
    "    acc = cls._from_json(obj = res.response, auth = auth, is_admin_summary = False)\n",
    "\n",
    "    await acc._get_config(\n",
    "        session=session,\n",
    "        debug_api=debug_api,\n",
    "        debug_num_stacks_to_drop=debug_num_stacks_to_drop + 1,\n",
    "        is_suppress_no_config=is_suppress_no_config\n",
    "    )\n",
    "\n",
    "    return acc\n"
   ]
  },
  {
   "attachments": {},
   "cell_type": "markdown",
   "metadata": {},
   "source": [
    "#### sample implementation of get_by_id\n",
    "\n",
    "this implementation returns a result because accoun_id 5 is linked to a data_provider (domo_governance) that has been defined in the `DomoAccount_Config.AccountConfig` enum\n"
   ]
  },
  {
   "cell_type": "code",
   "execution_count": 39,
   "metadata": {},
   "outputs": [
    {
     "name": "stdout",
     "output_type": "stream",
     "text": [
      "data provider type google-spreadsheets uses OAuth and therefore wouldn't return a Config object\n"
     ]
    },
    {
     "data": {
      "text/plain": [
       "DomoAccount(data_provider_type='google-spreadsheets', name='test-goolesheets', id=45, created_dt=datetime.datetime(2022, 10, 4, 22, 59, 14), modified_dt=datetime.datetime(2023, 4, 24, 15, 40, 28), config=DomoAccount_NoConfig_OAuth(is_oauth=True, is_defined_config=False), is_admin_summary=False)"
      ]
     },
     "execution_count": 39,
     "metadata": {},
     "output_type": "execute_result"
    }
   ],
   "source": [
    "import os\n",
    "\n",
    "token_auth = dmda.DomoTokenAuth(\n",
    "    domo_instance=\"domo-community\",\n",
    "    domo_access_token=os.environ[\"DOMO_DOJO_ACCESS_TOKEN\"],\n",
    ")\n",
    "\n",
    "await DomoAccount.get_by_id(\n",
    "    auth=token_auth, account_id=45, return_raw=False, debug_api=False,\n",
    "    is_suppress_no_config = True\n",
    ")"
   ]
  },
  {
   "cell_type": "markdown",
   "metadata": {},
   "source": [
    "This implementation fails because the data_provider_type has not been defined in `DomoAccount_Config.AccountConfig`\n"
   ]
  },
  {
   "cell_type": "code",
   "execution_count": 40,
   "metadata": {},
   "outputs": [
    {
     "name": "stdout",
     "output_type": "stream",
     "text": [
      "data provider type google-spreadsheets uses OAuth and therefore wouldn't return a Config object\n"
     ]
    },
    {
     "data": {
      "text/plain": [
       "DomoAccount(data_provider_type='google-spreadsheets', name='test-goolesheets', id=45, created_dt=datetime.datetime(2022, 10, 4, 22, 59, 14), modified_dt=datetime.datetime(2023, 4, 24, 15, 40, 28), config=DomoAccount_NoConfig_OAuth(is_oauth=True, is_defined_config=False), is_admin_summary=False)"
      ]
     },
     "execution_count": 40,
     "metadata": {},
     "output_type": "execute_result"
    }
   ],
   "source": [
    "import os\n",
    "\n",
    "token_auth = dmda.DomoTokenAuth(\n",
    "    domo_instance=\"domo-community\",\n",
    "    domo_access_token=os.environ[\"DOMO_DOJO_ACCESS_TOKEN\"],\n",
    ")\n",
    "\n",
    "\n",
    "await DomoAccount.get_by_id(\n",
    "    auth=token_auth, account_id=45, return_raw=False, debug_api=False\n",
    ")\n"
   ]
  },
  {
   "attachments": {},
   "cell_type": "markdown",
   "metadata": {},
   "source": [
    "## DomoAccount CRUD Methods\n"
   ]
  },
  {
   "attachments": {},
   "cell_type": "markdown",
   "metadata": {},
   "source": [
    "### Create Account\n"
   ]
  },
  {
   "cell_type": "code",
   "execution_count": 41,
   "metadata": {},
   "outputs": [],
   "source": [
    "# | export\n",
    "\n",
    "@staticmethod\n",
    "@patch_to(DomoAccount)\n",
    "def generate_create_body(account_name, config):\n",
    "    return {\n",
    "        \"displayName\": account_name,\n",
    "        \"dataProviderType\": config.data_provider_type,\n",
    "        \"name\": config.data_provider_type,\n",
    "        \"configurations\": config.to_json(),\n",
    "    }\n",
    "\n",
    "\n",
    "@patch_to(DomoAccount, cls_method=True)\n",
    "async def create_account(\n",
    "    cls: DomoAccount,\n",
    "    account_name: str,\n",
    "    config: DomoAccount_Config,\n",
    "    auth: dmda.DomoAuth,\n",
    "    debug_api: bool = False,\n",
    "    session: httpx.AsyncClient = None,\n",
    "):\n",
    "    body = cls.generate_create_body(account_name=account_name, config=config)\n",
    "\n",
    "    res = await account_routes.create_account(\n",
    "        auth=auth, config_body=body, debug_api=debug_api, session=session\n",
    "    )\n",
    "\n",
    "\n",
    "    return await cls.get_by_id(auth=auth, account_id=res.response.get(\"id\"))"
   ]
  },
  {
   "cell_type": "markdown",
   "metadata": {},
   "source": [
    "### Update DomoAccount\n"
   ]
  },
  {
   "cell_type": "code",
   "execution_count": 42,
   "metadata": {},
   "outputs": [],
   "source": [
    "# | export\n",
    "\n",
    "\n",
    "@patch_to(DomoAccount)\n",
    "async def update_config(\n",
    "    self: DomoAccount,\n",
    "    auth: dmda.DomoAuth = None,\n",
    "    debug_api: bool = False,\n",
    "    config: DomoAccount_Config = None,\n",
    "    is_suppress_no_config=False,\n",
    "    debug_num_stacks_to_drop = 2,\n",
    "    session: httpx.AsyncClient = None,\n",
    "    return_raw: bool = False,\n",
    "):\n",
    "    if self.is_admin_summary:\n",
    "        raise Account_CanIModify(account_id= self.id, domo_instance= auth.domo_instance)\n",
    "        \n",
    "    auth = auth or self.auth\n",
    "    config = config or self.config\n",
    "\n",
    "    res = await account_routes.update_account_config(\n",
    "        auth=auth,\n",
    "        account_id=self.id,\n",
    "        config_body=config.to_json(),\n",
    "        debug_api=debug_api,\n",
    "        session=session,\n",
    "    )\n",
    "\n",
    "    if return_raw:\n",
    "        return res\n",
    "\n",
    "    await self._get_config(\n",
    "        debug_api=debug_api,\n",
    "        debug_num_stacks_to_drop=debug_num_stacks_to_drop + 1,\n",
    "        is_suppress_no_config=is_suppress_no_config)\n",
    "\n",
    "    return self\n"
   ]
  },
  {
   "attachments": {},
   "cell_type": "markdown",
   "metadata": {},
   "source": [
    "#### Sample implementation of update_config\n",
    "\n",
    "to update the account config,\n",
    "\n",
    "- assign `DomoAccount` class instance `domo_account.config` a `DomoAccount` class.<br>\n",
    "  - the `AccountConfig` enumerates all of the `DomoAccount`s currently available. _issue a pull request to add a new one_\n",
    "  - each member of `AccountConfig` uses the camel_case spelling of the data-provider-type\n"
   ]
  },
  {
   "cell_type": "code",
   "execution_count": 43,
   "metadata": {},
   "outputs": [
    {
     "data": {
      "text/plain": [
       "DomoAccount(data_provider_type='domo-governance-d14c2fef-49a8-4898-8ddd-f64998005600', name='test_rename', id=5, created_dt=datetime.datetime(2021, 3, 26, 16, 54, 41), modified_dt=datetime.datetime(2023, 10, 24, 1, 27, 46), config=DomoAccount_Config_Governance(domo_instance='any_new_value_goes_here'), is_admin_summary=False)"
      ]
     },
     "execution_count": 43,
     "metadata": {},
     "output_type": "execute_result"
    }
   ],
   "source": [
    "import os\n",
    "\n",
    "token_auth = dmda.DomoTokenAuth(\n",
    "    domo_instance=\"domo-community\",\n",
    "    domo_access_token=os.environ[\"DOMO_DOJO_ACCESS_TOKEN\"],\n",
    ")\n",
    "\n",
    "# creates a DomoAccount object\n",
    "domo_account = await DomoAccount.get_by_id(auth=token_auth, account_id=5)\n",
    "\n",
    "\n",
    "# update domo Account API without passing explicit config object\n",
    "# adjust configuration information for that object\n",
    "domo_account.config.domo_instance=  \"any_new_value_goes_here\"\n",
    "await domo_account.update_config()"
   ]
  },
  {
   "cell_type": "markdown",
   "metadata": {},
   "source": [
    "The config can be updated by passing a new `AccountConfig` object"
   ]
  },
  {
   "cell_type": "code",
   "execution_count": 44,
   "metadata": {},
   "outputs": [
    {
     "data": {
      "text/plain": [
       "DomoAccount(data_provider_type='domo-governance-d14c2fef-49a8-4898-8ddd-f64998005600', name='test_rename', id=5, created_dt=datetime.datetime(2021, 3, 26, 16, 54, 41), modified_dt=datetime.datetime(2023, 10, 24, 1, 27, 46), config=DomoAccount_Config_Governance(domo_instance='domo-community'), is_admin_summary=False)"
      ]
     },
     "execution_count": 44,
     "metadata": {},
     "output_type": "execute_result"
    }
   ],
   "source": [
    "import os\n",
    "\n",
    "token_auth = dmda.DomoTokenAuth(\n",
    "    domo_instance=\"domo-community\",\n",
    "    domo_access_token=os.environ[\"DOMO_DOJO_ACCESS_TOKEN\"],\n",
    ")\n",
    "\n",
    "domo_account = await DomoAccount.get_by_id(auth=token_auth, account_id=5)\n",
    "\n",
    "# update domo Account API by passing new config object\n",
    "config = AccountConfig.domo_governance_d14c2fef_49a8_4898_8ddd_f64998005600.value(\n",
    "    domo_instance=token_auth.domo_instance, \n",
    "    access_token=token_auth.domo_access_token\n",
    ")\n",
    "await domo_account.update_config(config=config)"
   ]
  },
  {
   "cell_type": "code",
   "execution_count": 45,
   "metadata": {},
   "outputs": [],
   "source": [
    "# | export\n",
    "@patch_to(DomoAccount)\n",
    "async def update_name(\n",
    "    self: DomoAccount,\n",
    "    account_name: str = None,\n",
    "    auth: dmda.DomoAuth = None,\n",
    "    debug_api: bool = False,\n",
    "    session: httpx.AsyncClient = None,\n",
    "    return_raw: bool = False,\n",
    "):\n",
    "    if self.is_admin_summary:\n",
    "        raise Account_CanIModify(account_id= self.id, domo_instance= auth.domo_instance)\n",
    "\n",
    "    auth = auth or self.auth\n",
    "\n",
    "    res = await account_routes.update_account_name(\n",
    "        auth=auth,\n",
    "        account_id=self.id,\n",
    "        account_name=account_name or self.name,\n",
    "        debug_api=debug_api,\n",
    "        session=session,\n",
    "    )\n",
    "\n",
    "    if return_raw:\n",
    "        return res\n",
    "\n",
    "    await self.get_by_id(auth=auth, account_id=self.id)\n",
    "\n",
    "    return self"
   ]
  },
  {
   "attachments": {},
   "cell_type": "markdown",
   "metadata": {},
   "source": [
    "#### sample implementation of update_name\n",
    "\n",
    "`DomoAccount` can be updated by altering properties and then calling `DomoAccount.update_name()` or by passing the account_name parameter "
   ]
  },
  {
   "cell_type": "code",
   "execution_count": 46,
   "metadata": {},
   "outputs": [
    {
     "data": {
      "text/plain": [
       "DomoAccount(data_provider_type='domo-governance-d14c2fef-49a8-4898-8ddd-f64998005600', name='abc', id=5, created_dt=datetime.datetime(2021, 3, 26, 16, 54, 41), modified_dt=datetime.datetime(2023, 10, 24, 1, 27, 46), config=DomoAccount_Config_Governance(domo_instance='domo-community'), is_admin_summary=False)"
      ]
     },
     "execution_count": 46,
     "metadata": {},
     "output_type": "execute_result"
    }
   ],
   "source": [
    "import os\n",
    "\n",
    "token_auth = dmda.DomoTokenAuth(\n",
    "    domo_instance=\"domo-community\",\n",
    "    domo_access_token=os.environ[\"DOMO_DOJO_ACCESS_TOKEN\"],\n",
    ")\n",
    "\n",
    "domo_account = await DomoAccount.get_by_id(auth=token_auth, account_id=5)\n",
    "domo_account.name = \"abc\"\n",
    "await domo_account.update_name()"
   ]
  },
  {
   "cell_type": "code",
   "execution_count": 47,
   "metadata": {},
   "outputs": [
    {
     "data": {
      "text/plain": [
       "DomoAccount(data_provider_type='domo-governance-d14c2fef-49a8-4898-8ddd-f64998005600', name='abc', id=5, created_dt=datetime.datetime(2021, 3, 26, 16, 54, 41), modified_dt=datetime.datetime(2023, 10, 24, 1, 30, 24), config=DomoAccount_Config_Governance(domo_instance='domo-community'), is_admin_summary=False)"
      ]
     },
     "execution_count": 47,
     "metadata": {},
     "output_type": "execute_result"
    }
   ],
   "source": [
    "import os\n",
    "\n",
    "token_auth = dmda.DomoTokenAuth(\n",
    "    domo_instance=\"domo-community\",\n",
    "    domo_access_token=os.environ[\"DOMO_DOJO_ACCESS_TOKEN\"],\n",
    ")\n",
    "\n",
    "domo_account = await DomoAccount.get_by_id(auth=token_auth, account_id=5)\n",
    "\n",
    "await domo_account.update_name(account_name='test_rename', return_raw=False)"
   ]
  },
  {
   "cell_type": "markdown",
   "metadata": {},
   "source": [
    "### Delete Account\n"
   ]
  },
  {
   "cell_type": "code",
   "execution_count": 48,
   "metadata": {},
   "outputs": [],
   "source": [
    "# | export\n",
    "\n",
    "\n",
    "@patch_to(DomoAccount)\n",
    "async def delete_account(\n",
    "    self: DomoAccount,\n",
    "    auth: dmda.DomoAuth = None,\n",
    "    debug_api: bool = False,\n",
    "    session: httpx.AsyncClient = None,\n",
    "    debug_num_stacks_to_drop=2,\n",
    "):\n",
    "    if self.is_admin_summary:\n",
    "        raise Account_CanIModify(account_id= self.id, domo_instance= auth.domo_instance)\n",
    "\n",
    "    auth = auth or self.auth\n",
    "\n",
    "    res = await account_routes.delete_account(\n",
    "        auth=auth,\n",
    "        account_id=self.id,\n",
    "        debug_api=debug_api,\n",
    "        session=session,\n",
    "        debug_num_stacks_to_drop=debug_num_stacks_to_drop,\n",
    "        parent_class=parent_class,\n",
    "    )\n",
    "\n",
    "    return res\n"
   ]
  },
  {
   "cell_type": "markdown",
   "metadata": {},
   "source": [
    "### Share DomoAccount\n"
   ]
  },
  {
   "cell_type": "code",
   "execution_count": 49,
   "metadata": {},
   "outputs": [],
   "source": [
    "# | export\n",
    "\n",
    "\n",
    "@patch_to(DomoAccount)\n",
    "async def _is_group_ownership_beta(self, auth: dmda.DomoAuth):\n",
    "    import domolibrary.classes.DomoBootstrap as dmbs\n",
    "\n",
    "    domo_bsr = dmbs.DomoBootstrap(auth=auth or self.auth)\n",
    "\n",
    "    domo_feature_ls = await domo_bsr.get_features()\n",
    "\n",
    "    match_accounts_v2 = next(\n",
    "        (\n",
    "            domo_feature\n",
    "            for domo_feature in domo_feature_ls\n",
    "            if domo_feature.name == \"accounts-v2\"\n",
    "        ),\n",
    "        None,\n",
    "    )\n",
    "\n",
    "    return True if match_accounts_v2 else False\n",
    "\n",
    "\n",
    "@patch_to(DomoAccount)\n",
    "async def share_account(\n",
    "    self,\n",
    "    user_id: int = None,\n",
    "    group_id: int = None,\n",
    "    domo_user=None,  # DomoUser,\n",
    "    domo_group=None,  # DomoGroup\n",
    "    auth: dmda.DomoAuth = None,\n",
    "    is_v2: bool = None,\n",
    "    access_level: ShareAccount = None,  # will default to Read\n",
    "    debug_api: bool = False,\n",
    "    debug_prn: bool = False,\n",
    "    session: httpx.AsyncClient = None,\n",
    "):\n",
    "    if self.is_admin_summary:\n",
    "        raise Account_CanIModify(account_id= self.id, domo_instance= auth.domo_instance)\n",
    "\n",
    "    auth = auth or self.auth\n",
    "\n",
    "    user_id = user_id or (domo_user and domo_user.id)\n",
    "    group_id = group_id or (domo_group and domo_group.id)\n",
    "\n",
    "    if isinstance(auth, dmda.DomoFullAuth) and is_v2 is None:\n",
    "        is_v2 = await self._is_group_ownership_beta(auth)\n",
    "\n",
    "    if debug_prn:\n",
    "        print(\n",
    "            f\"ℹ️ - {auth.domo_instance} - {'is' if is_v2 else 'is not'} v2_group_ownership\"\n",
    "        )\n",
    "\n",
    "    if is_v2 is None:\n",
    "        raise Exception(\n",
    "            \"\"\"🛑 ERROR must explicitly pass a value for the `is_v2` boolean to share_accounts function.ABC\n",
    "alternatively, use `dmda.DomoFullAuth` to automatically retrieve the correct setting.ABC\n",
    "account sharing differs between v1 and v2 of the API.\"\"\"\n",
    "        )\n",
    "\n",
    "    res = None\n",
    "\n",
    "    if is_v2:\n",
    "        share_payload = account_routes.generate_share_account_payload_v2(\n",
    "            user_id=user_id,\n",
    "            group_id=group_id,\n",
    "            access_level=access_level or ShareAccount_V2_AccessLevel.CAN_VIEW,\n",
    "        )\n",
    "\n",
    "        res = await account_routes.share_account_v2(\n",
    "            auth=auth,\n",
    "            account_id=self.id,\n",
    "            share_payload=share_payload,\n",
    "            debug_api=debug_api,\n",
    "            session=session,\n",
    "        )\n",
    "\n",
    "    else:\n",
    "        share_payload = account_routes.generate_share_account_payload_v1(\n",
    "            user_id=user_id,\n",
    "            group_id=group_id,\n",
    "            access_level=access_level or ShareAccount_V1_AccessLevel.CAN_VIEW,\n",
    "        )\n",
    "\n",
    "        res = await account_routes.share_account_v1(\n",
    "            auth=auth,\n",
    "            account_id=self.id,\n",
    "            share_payload=share_payload,\n",
    "            debug_api=debug_api,\n",
    "            session=session,\n",
    "        )\n",
    "\n",
    "    if not res.is_success:\n",
    "        return None\n",
    "\n",
    "    if res.status == 200:\n",
    "        res.response = f\"shared {self.id} - {self.name} with {user_id or group_id}\"\n",
    "\n",
    "    return res\n"
   ]
  },
  {
   "cell_type": "markdown",
   "metadata": {},
   "source": [
    "#### sample implementation of share_account\n",
    "\n",
    "Below, we are using `DomoAuth` to hit the `DomoAccount.share_account`.\n",
    "\n",
    "To do this, we must first know whether we are hitting a v2 or v1 sharing API because they require different API bodies.\n",
    "\n",
    "If you use `DomoFullAuth` the class can hit the bootstrap API to test whether it's V1 or V2.\n",
    "If you use `TokenAuth` you must specify which method to attempt (becuase TokenAuth cannot hit the Bootstrap API)\n"
   ]
  },
  {
   "cell_type": "code",
   "execution_count": 50,
   "metadata": {},
   "outputs": [
    {
     "name": "stdout",
     "output_type": "stream",
     "text": [
      "demonstrate needing to pass is_v2 if using token auth\n",
      "🛑 ERROR must explicitly pass a value for the `is_v2` boolean to share_accounts function.ABC\n",
      "alternatively, use `dmda.DomoFullAuth` to automatically retrieve the correct setting.ABC\n",
      "account sharing differs between v1 and v2 of the API.\n"
     ]
    }
   ],
   "source": [
    "import os\n",
    "\n",
    "token_auth = dmda.DomoTokenAuth(\n",
    "    domo_instance=\"domo-community\",\n",
    "    domo_access_token=os.environ[\"DOMO_DOJO_ACCESS_TOKEN\"],\n",
    ")\n",
    "\n",
    "domo_account = await DomoAccount.get_by_id(account_id=5, auth=token_auth)\n",
    "\n",
    "res = None\n",
    "try:\n",
    "    print(\"demonstrate needing to pass is_v2 if using token auth\")\n",
    "    res = await domo_account.share_account(user_id=1893952720)\n",
    "except Exception as e:\n",
    "    print(e)\n",
    "\n",
    "res"
   ]
  },
  {
   "cell_type": "code",
   "execution_count": 51,
   "metadata": {},
   "outputs": [],
   "source": [
    "# | exporti\n",
    "\n",
    "\n",
    "@patch_to(DomoAccount)\n",
    "async def share(\n",
    "    self: DomoAccount,\n",
    "    domo_user=None,\n",
    "    domo_group=None,\n",
    "    auth: dmda.DomoAuth = None,\n",
    "    is_v2: bool = None,\n",
    "    access_level: ShareAccount = None,  # will default to Read\n",
    "    debug_api: bool = False,\n",
    "    debug_num_stacks_to_drop: int = 2,\n",
    "    debug_prn: bool = False,\n",
    "    session: httpx.AsyncClient = None,\n",
    "):\n",
    "    if self.is_admin_summary:\n",
    "        raise Account_CanIModify(account_id= self.id, domo_instance= auth.domo_instance)\n",
    "\n",
    "    auth = auth or self.auth\n",
    "\n",
    "    if isinstance(auth, dmda.DomoFullAuth) and is_v2 is None:\n",
    "        is_v2 = await self._is_group_ownership_beta(auth)\n",
    "\n",
    "    if debug_prn:\n",
    "        print(\n",
    "            f\"ℹ️ - {auth.domo_instance} - {'is' if is_v2 else 'is not'} v2_group_ownership\"\n",
    "        )\n",
    "\n",
    "    if is_v2 is None:\n",
    "        raise Exception(\n",
    "            \"\"\"🛑 ERROR must pass `is_v2` bool to share_accounts function IF NOT passing `dmda.DomoFullAuth`.\n",
    "the group management v2 API has a different body.  \n",
    "Alternatively pass a full auth object to auto check the bootstrap.\n",
    "\"\"\"\n",
    "        )\n",
    "\n",
    "    res = None\n",
    "\n",
    "    if is_v2:\n",
    "        share_payload = account_routes.generate_share_account_payload_v2(\n",
    "            user_id=domo_user.id if domo_user else None,\n",
    "            group_id=domo_group.id if domo_group else None,\n",
    "            access_level=access_level or ShareAccount_V2_AccessLevel.CAN_VIEW,\n",
    "        )\n",
    "\n",
    "        res = await account_routes.share_account_v2(\n",
    "            auth=auth,\n",
    "            account_id=self.id,\n",
    "            share_payload=share_payload,\n",
    "            debug_api=debug_api,\n",
    "            debug_num_stacks_to_drop=debug_num_stacks_to_drop,\n",
    "            parent_class=self.__class__.__name__,\n",
    "            session=session,\n",
    "        )\n",
    "\n",
    "    else:\n",
    "        share_payload = account_routes.generate_share_account_payload_v1(\n",
    "            user_id=domo_user.id if domo_user else None,\n",
    "            group_id=domo_group.id if domo_group else None,\n",
    "            access_level=access_level or ShareAccount_V1_AccessLevel.CAN_VIEW,\n",
    "        )\n",
    "\n",
    "        res = await account_routes.share_account_v1(\n",
    "            auth=auth,\n",
    "            account_id=self.id,\n",
    "            share_payload=share_payload,\n",
    "            debug_api=debug_api,\n",
    "            session=session,\n",
    "            debug_num_stacks_to_drop=debug_num_stacks_to_drop,\n",
    "            parent_class=self.__class__.__name__,\n",
    "        )\n",
    "\n",
    "    if not res.is_success:\n",
    "        return None\n",
    "\n",
    "    if res.status == 200:\n",
    "        domo_entity = domo_user or domo_group\n",
    "        res.response = f\"shared {self.id} - {self.name} with {domo_entity.id}\"\n",
    "\n",
    "    return res\n"
   ]
  },
  {
   "cell_type": "markdown",
   "metadata": {},
   "source": [
    "#### sample implementation of domo_account.share\n"
   ]
  },
  {
   "cell_type": "code",
   "execution_count": 52,
   "metadata": {},
   "outputs": [
    {
     "name": "stdout",
     "output_type": "stream",
     "text": [
      "🛑  ShareAccount_Error 🛑 - functionn: DomoAccount.share || 5 || status 500 || ℹ️ - Internal Server Error| User may already have access to account. at domo-community\n"
     ]
    }
   ],
   "source": [
    "import os\n",
    "import domolibrary.client.DomoAuth as dmda\n",
    "import domolibrary.classes.DomoGroup as dmg\n",
    "\n",
    "full_auth = dmda.DomoFullAuth(\n",
    "    domo_instance=\"domo-community\",\n",
    "    domo_username=os.environ[\"DOMO_USERNAME\"],\n",
    "    domo_password=os.environ[\"DOJO_PASSWORD\"],\n",
    ")\n",
    "account_id = 5\n",
    "domo_account = await DomoAccount.get_by_id(account_id=account_id, auth=full_auth)\n",
    "\n",
    "domo_group = await dmg.DomoGroup.get_by_id(group_id=1814479647, auth=token_auth)\n",
    "\n",
    "try:\n",
    "    await domo_account.share(\n",
    "        domo_group=domo_group, auth=full_auth, debug_prn=False, debug_api=False\n",
    "    )\n",
    "\n",
    "except ShareAccount_Error as e:\n",
    "    print(e)\n"
   ]
  },
  {
   "attachments": {},
   "cell_type": "markdown",
   "metadata": {},
   "source": [
    "# DomoAccounts\n",
    "\n",
    "A class for retrieving account objects\n"
   ]
  },
  {
   "cell_type": "code",
   "execution_count": 53,
   "metadata": {},
   "outputs": [],
   "source": [
    "# | export\n",
    "\n",
    "\n",
    "@dataclass\n",
    "class DomoAccounts:\n",
    "    auth: dmda.DomoAuth\n"
   ]
  },
  {
   "cell_type": "code",
   "execution_count": 54,
   "metadata": {},
   "outputs": [],
   "source": [
    "# | export\n",
    "\n",
    "@staticmethod\n",
    "@patch_to(DomoAccounts)\n",
    "async def _get_accounts_accountsapi(\n",
    "    auth: dmda.DomoAuth,\n",
    "    debug_api: bool = False,\n",
    "    session: httpx.AsyncClient = None,\n",
    "    return_raw: bool = False,\n",
    "):\n",
    "    res = await account_routes.get_accounts(\n",
    "        auth=auth, debug_api=debug_api, session=session\n",
    "    )\n",
    "\n",
    "    if return_raw:\n",
    "        return res\n",
    "    \n",
    "    if  len(res.response) == 0: \n",
    "        return []\n",
    "\n",
    "    return await ce.gather_with_concurrency(\n",
    "        n=60,\n",
    "        *[\n",
    "            DomoAccount.get_by_id(\n",
    "                account_id=json_obj.get(\"id\"),\n",
    "                debug_api=debug_api,\n",
    "                session=session,\n",
    "                auth=auth,\n",
    "            )\n",
    "            for json_obj in res.response\n",
    "        ],\n",
    "    )\n",
    "\n",
    "\n",
    "@patch_to(DomoAccounts, cls_method=True)\n",
    "async def _get_accounts_queryapi(\n",
    "    cls: DomoAccounts,\n",
    "    auth: dmda.DomoAuth,\n",
    "    debug_api: bool = False,\n",
    "    additional_filters_ls=None,\n",
    "    session: httpx.AsyncClient = None,\n",
    "    return_raw: bool = False,\n",
    "):\n",
    "    \"\"\"v2 api for works with group_account_v2 beta\"\"\"\n",
    "\n",
    "    import domolibrary.routes.datacenter as datacenter_routes\n",
    "\n",
    "    res = await datacenter_routes.search_datacenter(\n",
    "        auth=auth,\n",
    "        entity_type=datacenter_routes.Datacenter_Enum.ACCOUNT.value,\n",
    "        additional_filters_ls=additional_filters_ls,\n",
    "        session=session,\n",
    "        debug_api=debug_api,\n",
    "    )\n",
    "\n",
    "    if return_raw:\n",
    "        return res\n",
    "    \n",
    "    if  len(res.response) == 0:\n",
    "        return []\n",
    "        \n",
    "    return [\n",
    "        DomoAccount._from_json(account_obj, auth=auth) for account_obj in res.response\n",
    "    ]\n",
    "\n",
    "\n",
    "@patch_to(DomoAccounts, cls_method=True)\n",
    "async def get_accounts(\n",
    "    cls: DomoAccounts,\n",
    "    auth: dmda.DomoAuth,\n",
    "    additional_filters_ls=None,  # datacenter_routes.generate_search_datacenter_filter\n",
    "    # account string to search for, must be an exact match in spelling.  case insensitive\n",
    "    # v2 will use the queryAPI as it returns more complete results than the accountsAPI\n",
    "    is_v2: bool = None,\n",
    "    is_suppress_undefined_provider_type: bool = False,\n",
    "    account_name: str = None,\n",
    "    account_id: str = None,\n",
    "    account_type: AccountConfig = None,  # to retrieve a specific account type\n",
    "    account_type_str=None,\n",
    "    debug_api: bool = False,\n",
    "    session: httpx.AsyncClient = None,\n",
    "    return_raw: bool = False,\n",
    "    debug_prn: bool = False,\n",
    "):\n",
    "    import domolibrary.classes.DomoBootstrap as bsr\n",
    "    import domolibrary.routes.datacenter as datacenter_routes\n",
    "\n",
    "    if isinstance(auth, dmda.DomoFullAuth) and is_v2 is None:\n",
    "        instance_bsr = bsr.DomoBootstrap(auth=auth)\n",
    "\n",
    "        is_v2 = await instance_bsr.is_group_ownership_beta(auth)\n",
    "\n",
    "        if debug_prn:\n",
    "            print(\n",
    "                f\"{auth.domo_instance} {'is' if is_v2 else 'is not'} using the v2 beta\"\n",
    "            )\n",
    "\n",
    "    if is_v2:\n",
    "        try:\n",
    "            domo_accounts = await cls._get_accounts_queryapi(\n",
    "                auth=auth,\n",
    "                debug_api=debug_api,\n",
    "                additional_filters_ls=additional_filters_ls,\n",
    "                session=session,\n",
    "            )\n",
    "        except datacenter_routes.SearchDatacenter_NoResultsFound as e:\n",
    "            print(e)\n",
    "            domo_accounts = []\n",
    "    else:\n",
    "        domo_accounts = await cls._get_accounts_accountsapi(\n",
    "            auth=auth, debug_api=debug_api, session=session\n",
    "        )\n",
    "\n",
    "    if return_raw or len(domo_accounts) == 0:\n",
    "        return domo_accounts\n",
    "\n",
    "    if account_id:\n",
    "        domo_account = next(\n",
    "            (\n",
    "                domo_account\n",
    "                for domo_account in domo_accounts\n",
    "                if int(domo_account.id) == int(account_id)\n",
    "            ),\n",
    "            None,\n",
    "        )\n",
    "\n",
    "        if not domo_account:\n",
    "            raise GetAccount_NoMatch(\n",
    "                account_id=account_id, domo_instance=auth.domo_instance\n",
    "            )\n",
    "\n",
    "        return domo_account\n",
    "\n",
    "    if account_name and isinstance(account_name, str):\n",
    "        domo_accounts = [\n",
    "            domo_account\n",
    "            for domo_account in domo_accounts\n",
    "            if domo_account.name.lower() == account_name.lower()\n",
    "        ]\n",
    "\n",
    "    if account_type:\n",
    "        return [\n",
    "            domo_account\n",
    "            for domo_account in domo_accounts\n",
    "            if domo_account.data_provider_type == account_type.value.data_provider_type\n",
    "        ]\n",
    "\n",
    "    if account_type_str:\n",
    "        return [\n",
    "            domo_account\n",
    "            for domo_account in domo_accounts\n",
    "            if domo_account.data_provider_type == account_type_str\n",
    "        ]\n",
    "\n",
    "    return domo_accounts\n"
   ]
  },
  {
   "cell_type": "markdown",
   "metadata": {},
   "source": [
    "#### sample get_accounts\n"
   ]
  },
  {
   "cell_type": "code",
   "execution_count": 55,
   "metadata": {},
   "outputs": [
    {
     "data": {
      "text/plain": [
       "DomoAccount(data_provider_type='google-bigquery-service', name='Google BigQuery Service Account', id='73', created_dt=datetime.datetime(2023, 6, 26, 4, 18, 51), modified_dt=datetime.datetime(2023, 6, 26, 4, 18, 51), config=(None,), is_admin_summary=True)"
      ]
     },
     "execution_count": 55,
     "metadata": {},
     "output_type": "execute_result"
    }
   ],
   "source": [
    "import os\n",
    "\n",
    "auth = dmda.DomoTokenAuth(\n",
    "    domo_instance=\"domo-community\",\n",
    "    domo_access_token=os.environ[\"DOMO_DOJO_ACCESS_TOKEN\"],\n",
    ")\n",
    "\n",
    "res = await DomoAccounts.get_accounts(\n",
    "    auth=auth,\n",
    "    is_v2=True,\n",
    "    # account_name = 'domo_creds',\n",
    "    account_id=73,\n",
    "    return_raw=False,\n",
    "    debug_prn=False,\n",
    "    debug_api=False,\n",
    ")\n",
    "\n",
    "res\n"
   ]
  },
  {
   "cell_type": "code",
   "execution_count": 56,
   "metadata": {},
   "outputs": [],
   "source": [
    "# | exporti\n",
    "@patch_to(DomoAccount)\n",
    "async def get_accesslist(\n",
    "    self: DomoAccount,\n",
    "    auth: dmda.DomoAuth = None,\n",
    "    debug_api: bool = False,\n",
    "    return_raw: bool = False,\n",
    "    session: httpx.AsyncClient = None,\n",
    "):\n",
    "    res = await account_routes.get_account_accesslist_for_v2(\n",
    "        auth=auth or self.auth, account_id=self.id, debug_api=debug_api, session=session\n",
    "    )\n",
    "\n",
    "    if return_raw:\n",
    "        return res\n",
    "\n",
    "    return res.response[\"list\"]\n"
   ]
  },
  {
   "cell_type": "markdown",
   "metadata": {},
   "source": [
    "#### sample implementation of get_accesslist\n"
   ]
  },
  {
   "cell_type": "code",
   "execution_count": 57,
   "metadata": {},
   "outputs": [
    {
     "data": {
      "text/plain": [
       "[{'type': 'USER',\n",
       "  'id': '587894148',\n",
       "  'accessLevel': 'CAN_VIEW',\n",
       "  'name': 'Bryan Van Kampen'},\n",
       " {'type': 'USER',\n",
       "  'id': '612085674',\n",
       "  'accessLevel': 'CAN_VIEW',\n",
       "  'name': 'Oleksii Zakrevskyi'},\n",
       " {'type': 'USER',\n",
       "  'id': '1893952720',\n",
       "  'accessLevel': 'OWNER',\n",
       "  'name': 'Jae Wilson1'},\n",
       " {'type': 'USER',\n",
       "  'id': '68216396',\n",
       "  'accessLevel': 'CAN_VIEW',\n",
       "  'name': 'Elliott Leonard'},\n",
       " {'type': 'USER', 'id': '1256759792', 'accessLevel': 'CAN_VIEW'}]"
      ]
     },
     "execution_count": 57,
     "metadata": {},
     "output_type": "execute_result"
    }
   ],
   "source": [
    "import os\n",
    "\n",
    "auth = dmda.DomoTokenAuth(\n",
    "    domo_instance=\"domo-community\",\n",
    "    domo_access_token=os.environ[\"DOMO_DOJO_ACCESS_TOKEN\"],\n",
    ")\n",
    "\n",
    "# creates a DomoAccount object\n",
    "domo_account = await DomoAccount.get_by_id(auth=auth, account_id=5)\n",
    "\n",
    "await domo_account.get_accesslist()"
   ]
  },
  {
   "cell_type": "markdown",
   "metadata": {},
   "source": [
    "# UPSERT Functions\n"
   ]
  },
  {
   "cell_type": "code",
   "execution_count": 58,
   "metadata": {},
   "outputs": [],
   "source": [
    "# | exporti\n",
    "\n",
    "@patch_to(DomoAccounts, cls_method=True)\n",
    "async def upsert_account(\n",
    "    cls: DomoAccounts,\n",
    "    auth: dmda.DomoAuth,\n",
    "\n",
    "    account_config: AccountConfig = None, \n",
    "    account_name: str = None,\n",
    "    account_id: str = None,\n",
    "    debug_api: bool = False,\n",
    "    debug_prn: bool = False,\n",
    "    session: httpx.AsyncClient = None\n",
    "):\n",
    "    \"\"\"search for an account and upsert it\"\"\"\n",
    "\n",
    "    if not account_name and not account_id:\n",
    "        raise UpsertAccount_MatchCriteria(domo_instance=auth.domo_instance)\n",
    "\n",
    "    acc = None\n",
    "\n",
    "    if account_id:\n",
    "        acc = await DomoAccounts.get_accounts(account_id=account_id, auth=auth)\n",
    "\n",
    "        if acc and account_name:\n",
    "            if debug_prn:\n",
    "                print(f\"upsertting {acc.id}:  updating account_name\")\n",
    "            await acc.update_name(account_name=account_name, debug_api = debug_api)\n",
    "\n",
    "    if account_name and acc is None:\n",
    "        acc = await DomoAccounts.get_accounts(\n",
    "            account_name=account_name, auth=auth,\n",
    "            account_type_str= (account_config and account_config.data_provider_type) or None,\n",
    "            # is_suppress_undefined_provider_type = True\n",
    "        )\n",
    "\n",
    "        if (\n",
    "            isinstance(acc, list)\n",
    "            and len(acc) > 0\n",
    "            and isinstance(acc[0], DomoAccount)\n",
    "        ):\n",
    "            acc = acc[0]\n",
    "\n",
    "        else:\n",
    "            acc = None\n",
    "\n",
    "\n",
    "    if acc and account_config:  # upsert account\n",
    "        acc.config = account_config\n",
    "\n",
    "        if debug_prn:\n",
    "            print(f\"upsertting {acc.id}:  updating config\")\n",
    "\n",
    "        await acc.update_config( debug_api = debug_api)\n",
    "\n",
    "    if not acc:\n",
    "        if debug_prn:\n",
    "            print(f\"creating account {account_name} in {auth.domo_instance}\")\n",
    "            \n",
    "        acc = await DomoAccount.create_account(\n",
    "            account_name=account_name,\n",
    "            config=account_config,\n",
    "            auth=auth,\n",
    "            debug_api=debug_api,\n",
    "        )\n",
    "\n",
    "    return acc\n"
   ]
  },
  {
   "cell_type": "markdown",
   "metadata": {},
   "source": [
    "#### sample implementation of upsert_account\n"
   ]
  },
  {
   "cell_type": "code",
   "execution_count": 59,
   "metadata": {},
   "outputs": [
    {
     "data": {
      "text/plain": [
       "DomoAccount(data_provider_type='abstract-credential-store', name='domolibrary test account - updated 2023-10-24', id=71, created_dt=datetime.datetime(2023, 5, 18, 21, 58, 12), modified_dt=datetime.datetime(2023, 10, 24, 1, 30, 16), config=DomoAccount_Config_AbstractCredential(credentials='********'), is_admin_summary=False)"
      ]
     },
     "execution_count": 59,
     "metadata": {},
     "output_type": "execute_result"
    }
   ],
   "source": [
    "import os\n",
    "import domolibrary.classes.DomoUser as dmu\n",
    "import datetime as dt\n",
    "\n",
    "token_auth = dmda.DomoTokenAuth(\n",
    "    domo_instance=\"domo-community\",\n",
    "    domo_access_token=os.environ[\"DOMO_DOJO_ACCESS_TOKEN\"],\n",
    ")\n",
    "await DomoAccount.get_by_id(\n",
    "    account_id=71,\n",
    "    auth=token_auth,\n",
    ")\n"
   ]
  },
  {
   "cell_type": "code",
   "execution_count": 60,
   "metadata": {},
   "outputs": [
    {
     "name": "stdout",
     "output_type": "stream",
     "text": [
      "data provider type domo-csv not defined yet. Extend the AccountConfig class\n",
      "data provider type google-spreadsheets uses OAuth and therefore wouldn't return a Config object\n",
      "data provider type google-spreadsheets uses OAuth and therefore wouldn't return a Config object\n",
      "upsertting 71:  updating account_name\n",
      "upsertting 71:  updating config\n"
     ]
    },
    {
     "data": {
      "text/plain": [
       "DomoAccount(data_provider_type='abstract-credential-store', name='domolibrary test account - updated 2023-10-24', id=71, created_dt=datetime.datetime(2023, 5, 18, 21, 58, 12), modified_dt=datetime.datetime(2023, 10, 24, 1, 30, 16), config=DomoAccount_Config_AbstractCredential(credentials='********'), is_admin_summary=False)"
      ]
     },
     "execution_count": 60,
     "metadata": {},
     "output_type": "execute_result"
    }
   ],
   "source": [
    "import os\n",
    "import domolibrary.classes.DomoUser as dmu\n",
    "import datetime as dt\n",
    "\n",
    "dt.date.today()\n",
    "\n",
    "token_auth = dmda.DomoTokenAuth(\n",
    "    domo_instance=\"domo-community\",\n",
    "    domo_access_token=os.environ[\"DOMO_DOJO_ACCESS_TOKEN\"],\n",
    ")\n",
    "\n",
    "account_config = AccountConfig.abstract_credential_store.value(\n",
    "    credentials=f\"abc {dt.date.today()}\"\n",
    ")\n",
    "\n",
    "\n",
    "# creates a DomoAccount object\n",
    "await DomoAccounts.upsert_account(\n",
    "    account_name=f\"domo_creds - update {dt.date.today()}\",\n",
    "    account_id=71,\n",
    "    auth=token_auth,\n",
    "    debug_api=False,\n",
    "    debug_prn=True,\n",
    "    account_config=account_config,\n",
    ")\n"
   ]
  },
  {
   "cell_type": "code",
   "execution_count": 63,
   "metadata": {},
   "outputs": [],
   "source": [
    "# | exporti\n",
    "\n",
    "\n",
    "@patch_to(DomoAccount)\n",
    "async def upsert_share_account_user(\n",
    "    self: DomoAccount,\n",
    "    domo_user,\n",
    "    auth: dmda.DomoAuth = None,\n",
    "    is_v2: bool = None,\n",
    "    access_level: ShareAccount = None,  # will default to Read\n",
    "    debug_api: bool = False,\n",
    "    debug_prn: bool = False,\n",
    "    session: httpx.AsyncClient = None,\n",
    "):\n",
    "    auth = auth or self.auth\n",
    "\n",
    "    ls_share = await account_routes.get_account_accesslist_for_v2(auth=auth, account_id=self.id)\n",
    "    res = None\n",
    "    if domo_user:\n",
    "        user_id = domo_user.id\n",
    "        found_user = next(\n",
    "            (\n",
    "                obj\n",
    "                for obj in ls_share.response[\"list\"]\n",
    "                if obj[\"id\"] == user_id and obj[\"type\"] == \"USER\"\n",
    "            ),\n",
    "            None,\n",
    "        )\n",
    "        if not found_user:\n",
    "            res = await self.share(\n",
    "                domo_user=domo_user,\n",
    "                auth=auth,\n",
    "                is_v2=is_v2,\n",
    "                access_level=access_level,\n",
    "                debug_api=debug_api,\n",
    "                debug_prn=debug_prn,\n",
    "                session=session,\n",
    "            )\n",
    "\n",
    "    return res\n",
    "\n",
    "\n",
    "@patch_to(DomoAccount)\n",
    "async def upsert_share_account_group(\n",
    "    self: DomoAccount,\n",
    "    domo_group,\n",
    "    auth: dmda.DomoAuth = None,\n",
    "    is_v2: bool = None,\n",
    "    access_level: ShareAccount = None,  # will default to Read\n",
    "    debug_api: bool = False,\n",
    "    debug_prn: bool = False,\n",
    "    session: httpx.AsyncClient = None,\n",
    "):\n",
    "    auth = auth or self.auth\n",
    "\n",
    "    ls_share = await account_routes.get_account_accesslist_for_v2(auth=auth, account_id=self.id)\n",
    "    res = None\n",
    "\n",
    "    if domo_group:\n",
    "        group_id = domo_group.id\n",
    "        found_group = next(\n",
    "            (\n",
    "                obj\n",
    "                for obj in ls_share.response[\"list\"]\n",
    "                if obj[\"id\"] == group_id and obj[\"type\"] == \"GROUP\"\n",
    "            ),\n",
    "            None,\n",
    "        )\n",
    "        if not found_group:\n",
    "            res = await self.share(\n",
    "                domo_group=domo_group,\n",
    "                auth=auth,\n",
    "                is_v2=is_v2,\n",
    "                access_level=access_level,\n",
    "                debug_api=debug_api,\n",
    "                debug_prn=debug_prn,\n",
    "                session=session,\n",
    "            )\n",
    "\n",
    "    return res\n"
   ]
  },
  {
   "cell_type": "markdown",
   "metadata": {},
   "source": [
    "#### sample implementation upsert share account\n"
   ]
  },
  {
   "cell_type": "code",
   "execution_count": 64,
   "metadata": {},
   "outputs": [],
   "source": [
    "import os\n",
    "import domolibrary.classes.DomoUser as dmu\n",
    "\n",
    "auth = dmda.DomoTokenAuth(\n",
    "    domo_instance=\"domo-community\",\n",
    "    domo_access_token=os.environ[\"DOMO_DOJO_ACCESS_TOKEN\"],\n",
    ")\n",
    "# creates a DomoAccount object\n",
    "domo_account = await DomoAccount.get_by_id(auth=auth, account_id=5)\n",
    "domo_user = await dmu.DomoUser.get_by_id(user_id=68216396, auth=auth)\n",
    "\n",
    "await domo_account.upsert_share_account_user(domo_user=domo_user, is_v2=True)"
   ]
  },
  {
   "cell_type": "code",
   "execution_count": null,
   "metadata": {},
   "outputs": [],
   "source": [
    "# | hide\n",
    "import nbdev\n",
    "\n",
    "nbdev.nbdev_export()"
   ]
  }
 ],
 "metadata": {
  "jupytext": {
   "split_at_heading": true
  },
  "kernelspec": {
   "display_name": "python3",
   "language": "python",
   "name": "python3"
  },
  "language_info": {
   "codemirror_mode": {
    "name": "ipython",
    "version": 3
   },
   "file_extension": ".py",
   "mimetype": "text/x-python",
   "name": "python",
   "nbconvert_exporter": "python",
   "pygments_lexer": "ipython3",
   "version": "3.10.8"
  }
 },
 "nbformat": 4,
 "nbformat_minor": 4
}
