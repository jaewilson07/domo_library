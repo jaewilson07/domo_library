{
 "cells": [
  {
   "attachments": {},
   "cell_type": "markdown",
   "metadata": {},
   "source": [
    "# User\n",
    "\n",
    "> a class-based approach to interacting with Users\n"
   ]
  },
  {
   "cell_type": "raw",
   "metadata": {},
   "source": [
    "---\n",
    "output-file: user_class.html\n",
    "---"
   ]
  },
  {
   "cell_type": "code",
   "execution_count": 1,
   "metadata": {},
   "outputs": [],
   "source": [
    "# | default_exp classes.DomoUser"
   ]
  },
  {
   "cell_type": "code",
   "execution_count": 2,
   "metadata": {},
   "outputs": [],
   "source": [
    "# | export\n",
    "from fastcore.basics import patch_to\n"
   ]
  },
  {
   "cell_type": "code",
   "execution_count": 3,
   "metadata": {},
   "outputs": [],
   "source": [
    "# | exporti\n",
    "import datetime as dt\n",
    "from dataclasses import dataclass, field\n",
    "from typing import Optional\n",
    "import httpx\n",
    "\n",
    "from pprint import pprint\n",
    "\n",
    "import domolibrary.utils.DictDot as util_dd\n",
    "import domolibrary.client.DomoAuth as dmda\n",
    "import domolibrary.client.Logger as lc\n",
    "import domolibrary.client.DomoError as de\n",
    "import domolibrary.routes.user as user_routes"
   ]
  },
  {
   "attachments": {},
   "cell_type": "markdown",
   "metadata": {},
   "source": [
    "# MAIN -- Domo User\n"
   ]
  },
  {
   "cell_type": "code",
   "execution_count": 4,
   "metadata": {},
   "outputs": [],
   "source": [
    "# | export\n",
    "@dataclass\n",
    "class DomoUser:\n",
    "    \"\"\"a class for interacting with a Domo User\"\"\"\n",
    "\n",
    "    id: str\n",
    "    display_name: str = None\n",
    "    email_address: str = None\n",
    "    role_id: str = None\n",
    "\n",
    "    publisher_domain: str = None\n",
    "    subscriber_domain: str = None\n",
    "    virtual_user_id: str = None\n",
    "\n",
    "    auth: Optional[dmda.DomoAuth] = field(repr=False, default=None)\n",
    "\n",
    "    def __post_init__(self):\n",
    "        self.id = str(self.id)\n",
    "\n",
    "    def __eq__(self, other):\n",
    "        if not isinstance(other, DomoUser):\n",
    "            return False\n",
    "        \n",
    "        return self.id == other.id\n",
    "\n",
    "    @classmethod\n",
    "    def _from_search_json(cls, auth, user_obj):\n",
    "        user_dd = util_dd.DictDot(user_obj)\n",
    "\n",
    "        return cls(\n",
    "            auth=auth,\n",
    "            id=str(user_dd.id or user_dd.userId),\n",
    "            display_name=user_dd.displayName,\n",
    "            email_address=user_dd.emailAddress or user_dd.email,\n",
    "            role_id=user_dd.roleId,\n",
    "        )\n",
    "\n",
    "    @classmethod\n",
    "    def _from_virtual_json(cls, auth, user_obj):\n",
    "        user_dd = util_dd.DictDot(user_obj)\n",
    "\n",
    "        return cls(\n",
    "            id=user_dd.id,\n",
    "            auth=auth,\n",
    "            publisher_domain=user_dd.publisherDomain,\n",
    "            subscriber_domain=user_dd.subscriberDomain,\n",
    "            virtual_user_id=user_dd.virtualUserId,\n",
    "        )\n",
    "\n",
    "    @classmethod\n",
    "    def _from_bootstrap_json(cls, auth, user_obj):\n",
    "\n",
    "        dd = user_obj\n",
    "        if isinstance(user_obj, dict):\n",
    "            dd = util_dd.DictDot(user_obj)\n",
    "\n",
    "        return cls(id=dd.id, display_name=dd.displayName, auth=auth)"
   ]
  },
  {
   "cell_type": "code",
   "execution_count": 5,
   "metadata": {},
   "outputs": [
    {
     "data": {
      "text/plain": [
       "DomoUser(id='1345408759', display_name='Alexis Lorenz (DataMaven)', email_address=None, role_id=None, publisher_domain=None, subscriber_domain=None, virtual_user_id=None)"
      ]
     },
     "execution_count": 5,
     "metadata": {},
     "output_type": "execute_result"
    }
   ],
   "source": [
    "import os\n",
    "import domolibrary.routes.bootstrap as bootstrap_routes\n",
    "\n",
    "auth = dmda.DomoFullAuth(\n",
    "    domo_instance=\"domo-community\",\n",
    "    domo_password=os.environ[\"DOJO_PASSWORD\"],\n",
    "    domo_username=os.environ[\"DOMO_USERNAME\"],\n",
    ")\n",
    "\n",
    "res = await bootstrap_routes.get_bootstrap_pages(auth=auth)\n",
    "\n",
    "page_obj = res.response[10]\n",
    "owners_ls = page_obj.get(\"owners\")\n",
    "\n",
    "DomoUser._from_bootstrap_json(auth=auth, user_obj=owners_ls[0])"
   ]
  },
  {
   "cell_type": "code",
   "execution_count": 6,
   "metadata": {},
   "outputs": [],
   "source": [
    "# | export\n",
    "@patch_to(DomoUser)\n",
    "async def reset_password(self: DomoUser, new_password: str, debug_api: bool = False):\n",
    "    \"\"\"reset your password, will respect password restrictions set up in the Domo UI\"\"\"\n",
    "\n",
    "    res = await user_routes.reset_password(\n",
    "        auth=self.auth, user_id=self.id, new_password=new_password, debug_api=debug_api\n",
    "    )\n",
    "\n",
    "    return res"
   ]
  },
  {
   "cell_type": "code",
   "execution_count": 7,
   "metadata": {},
   "outputs": [],
   "source": [
    "# | export\n",
    "@patch_to(DomoUser, cls_method=True)\n",
    "async def request_password_reset(\n",
    "    cls,\n",
    "    domo_instance: str,\n",
    "    email: str,\n",
    "    locale: str = \"en-us\",\n",
    "    debug_api: bool = False,\n",
    "    session: httpx.AsyncClient = None,\n",
    "):\n",
    "    \"\"\"request password reset email.  Note: does not require authentication.\"\"\"\n",
    "\n",
    "    return await user_routes.request_password_reset(\n",
    "        domo_instance=domo_instance,\n",
    "        email=email,\n",
    "        locale=locale,\n",
    "        debug_api=debug_api,\n",
    "        session=session,\n",
    "    )"
   ]
  },
  {
   "cell_type": "code",
   "execution_count": 8,
   "metadata": {},
   "outputs": [],
   "source": [
    "@patch_to(DomoUser)\n",
    "async def set_user_landing_page(\n",
    "    self: DomoUser,\n",
    "    page_id: str,\n",
    "    user_id: str = None,\n",
    "    auth: dmda.DomoAuth = None,\n",
    "    debug_api: bool = False,\n",
    "):\n",
    "\n",
    "    res = await user_routes.set_user_landing_page(\n",
    "        auth=auth or self.auth,\n",
    "        page_id=page_id,\n",
    "        user_id=self.id or user_id,\n",
    "        debug_api=debug_api,\n",
    "    )\n",
    "\n",
    "    if res.status != 200:\n",
    "        return False\n",
    "\n",
    "    return True"
   ]
  },
  {
   "cell_type": "code",
   "execution_count": null,
   "metadata": {},
   "outputs": [],
   "source": []
  },
  {
   "attachments": {},
   "cell_type": "markdown",
   "metadata": {},
   "source": [
    "# MAIN -- DomoUsers\n",
    "\n",
    "> a class for searching Domo Users\n"
   ]
  },
  {
   "cell_type": "code",
   "execution_count": 9,
   "metadata": {},
   "outputs": [],
   "source": [
    "# | export\n",
    "\n",
    "\n",
    "@dataclass\n",
    "class DomoUsers:\n",
    "    \"\"\"a class for searching for Users\"\"\"\n",
    "\n",
    "    logger: Optional[lc.Logger] = None\n",
    "\n",
    "    @classmethod\n",
    "    def _users_to_domo_user(cls, user_ls, auth: dmda.DomoAuth):\n",
    "        return [\n",
    "            DomoUser._from_search_json(auth=auth, user_obj=user_obj)\n",
    "            for user_obj in user_ls\n",
    "        ]\n",
    "\n",
    "    @classmethod\n",
    "    def _users_to_virtual_user(cls, user_ls, auth: dmda.DomoAuth):\n",
    "        return [\n",
    "            DomoUser._from_virtual_json(auth=auth, user_obj=user_obj)\n",
    "            for user_obj in user_ls\n",
    "        ]\n",
    "\n",
    "    def _generate_logger(self, logger: Optional[lc.Logger] = None):\n",
    "        self.logger = logger or self.logger or lc.Logger(app_name = \"domo_users\")"
   ]
  },
  {
   "attachments": {},
   "cell_type": "markdown",
   "metadata": {},
   "source": [
    "## Search and GET Users"
   ]
  },
  {
   "cell_type": "code",
   "execution_count": 10,
   "metadata": {},
   "outputs": [],
   "source": [
    "# | export\n",
    "@patch_to(DomoUsers, cls_method=True)\n",
    "async def all_users(\n",
    "    cls: DomoUsers,\n",
    "    auth: dmda.DomoAuth,\n",
    "    debug_api: bool = False,\n",
    "    debug_prn: bool = False,\n",
    "    debug_log: bool = False,\n",
    "    logger: Optional[lc.Logger] = None,\n",
    ") -> [DomoUser]:\n",
    "    \"\"\"retrieves all users from Domo\"\"\"\n",
    "\n",
    "    logger = logger or lc.Logger(app_name=\"all_users\")\n",
    "\n",
    "    res = await user_routes.get_all_users(auth=auth, debug_api=debug_api)\n",
    "\n",
    "    if not res.is_success:\n",
    "        return None\n",
    "\n",
    "    users_ls = res.response\n",
    "\n",
    "    message = f\"{len(users_ls)} users retrieved from {auth.domo_instance}\"\n",
    "\n",
    "    if debug_prn:\n",
    "        print(message)\n",
    "    logger.log_info(message=message, debug_log=debug_log)\n",
    "\n",
    "    return cls._users_to_domo_user(user_ls=users_ls, auth=auth)\n"
   ]
  },
  {
   "attachments": {},
   "cell_type": "markdown",
   "metadata": {},
   "source": [
    "#### sample implementation of get all_users\n"
   ]
  },
  {
   "cell_type": "code",
   "execution_count": 11,
   "metadata": {},
   "outputs": [
    {
     "data": {
      "text/html": [
       "<div>\n",
       "<style scoped>\n",
       "    .dataframe tbody tr th:only-of-type {\n",
       "        vertical-align: middle;\n",
       "    }\n",
       "\n",
       "    .dataframe tbody tr th {\n",
       "        vertical-align: top;\n",
       "    }\n",
       "\n",
       "    .dataframe thead th {\n",
       "        text-align: right;\n",
       "    }\n",
       "</style>\n",
       "<table border=\"1\" class=\"dataframe\">\n",
       "  <thead>\n",
       "    <tr style=\"text-align: right;\">\n",
       "      <th></th>\n",
       "      <th>id</th>\n",
       "      <th>display_name</th>\n",
       "      <th>email_address</th>\n",
       "      <th>role_id</th>\n",
       "      <th>publisher_domain</th>\n",
       "      <th>subscriber_domain</th>\n",
       "      <th>virtual_user_id</th>\n",
       "      <th>auth</th>\n",
       "    </tr>\n",
       "  </thead>\n",
       "  <tbody>\n",
       "    <tr>\n",
       "      <th>0</th>\n",
       "      <td>None</td>\n",
       "      <td>monitor</td>\n",
       "      <td>monitor@domo.com</td>\n",
       "      <td>1</td>\n",
       "      <td>None</td>\n",
       "      <td>None</td>\n",
       "      <td>None</td>\n",
       "      <td>{'domo_instance': 'domo-community', 'domo_acce...</td>\n",
       "    </tr>\n",
       "    <tr>\n",
       "      <th>1</th>\n",
       "      <td>1006847540</td>\n",
       "      <td>Marc-Anton Clavel</td>\n",
       "      <td>marcanton.clavel@domo.com</td>\n",
       "      <td>2</td>\n",
       "      <td>None</td>\n",
       "      <td>None</td>\n",
       "      <td>None</td>\n",
       "      <td>{'domo_instance': 'domo-community', 'domo_acce...</td>\n",
       "    </tr>\n",
       "    <tr>\n",
       "      <th>2</th>\n",
       "      <td>1012895591</td>\n",
       "      <td>JeMiller</td>\n",
       "      <td>JeMiller@marketaxess.com</td>\n",
       "      <td>2097317660</td>\n",
       "      <td>None</td>\n",
       "      <td>None</td>\n",
       "      <td>None</td>\n",
       "      <td>{'domo_instance': 'domo-community', 'domo_acce...</td>\n",
       "    </tr>\n",
       "  </tbody>\n",
       "</table>\n",
       "</div>"
      ],
      "text/plain": [
       "           id       display_name              email_address     role_id  \\\n",
       "0        None            monitor           monitor@domo.com           1   \n",
       "1  1006847540  Marc-Anton Clavel  marcanton.clavel@domo.com           2   \n",
       "2  1012895591           JeMiller   JeMiller@marketaxess.com  2097317660   \n",
       "\n",
       "  publisher_domain subscriber_domain virtual_user_id  \\\n",
       "0             None              None            None   \n",
       "1             None              None            None   \n",
       "2             None              None            None   \n",
       "\n",
       "                                                auth  \n",
       "0  {'domo_instance': 'domo-community', 'domo_acce...  \n",
       "1  {'domo_instance': 'domo-community', 'domo_acce...  \n",
       "2  {'domo_instance': 'domo-community', 'domo_acce...  "
      ]
     },
     "execution_count": 11,
     "metadata": {},
     "output_type": "execute_result"
    }
   ],
   "source": [
    "import os\n",
    "import pandas as pd\n",
    "\n",
    "token_auth = dmda.DomoTokenAuth(\n",
    "    domo_instance=\"domo-community\", domo_access_token=os.environ[\"DOMO_DOJO_ACCESS_TOKEN\"]\n",
    ")\n",
    "\n",
    "domo_users = await DomoUsers.all_users(\n",
    "    auth=token_auth, debug_api=False, debug_prn=False\n",
    ")\n",
    "\n",
    "pd.DataFrame(domo_users[0:3])\n"
   ]
  },
  {
   "cell_type": "code",
   "execution_count": 12,
   "metadata": {},
   "outputs": [],
   "source": [
    "# | export\n",
    "@patch_to(DomoUsers, cls_method=True)\n",
    "async def by_id(\n",
    "    cls: DomoUsers,\n",
    "    user_ids: list[str],  # can search for one or multiple users\n",
    "    auth: dmda.DomoAuth,\n",
    "    only_allow_one: bool = True,\n",
    "    debug_api: bool = False,\n",
    "    return_raw: bool = False,\n",
    ") -> list:\n",
    "\n",
    "    body = user_routes.generate_search_users_body_by_id(user_ids)\n",
    "\n",
    "    try:\n",
    "        res = await user_routes.search_users(\n",
    "            return_raw=False,\n",
    "            body=body,\n",
    "            debug_api=debug_api,\n",
    "            auth=auth,\n",
    "        )\n",
    "\n",
    "    except user_routes.SearchUser_NoResults as e:\n",
    "        print(e)\n",
    "        return None\n",
    "\n",
    "    if return_raw:\n",
    "        return res\n",
    "\n",
    "    domo_users = cls._users_to_domo_user(user_ls=res.response, auth=auth)\n",
    "\n",
    "    if only_allow_one:\n",
    "        return domo_users[0]\n",
    "\n",
    "    return domo_users"
   ]
  },
  {
   "attachments": {},
   "cell_type": "markdown",
   "metadata": {},
   "source": [
    "#### sample implementation of searching users by_id\n"
   ]
  },
  {
   "cell_type": "code",
   "execution_count": 13,
   "metadata": {},
   "outputs": [
    {
     "data": {
      "text/plain": [
       "[DomoUser(id='1012895591', display_name='JeMiller', email_address='JeMiller@marketaxess.com', role_id=2097317660, publisher_domain=None, subscriber_domain=None, virtual_user_id=None),\n",
       " DomoUser(id='1006847540', display_name='Marc-Anton Clavel', email_address='marcanton.clavel@domo.com', role_id=2, publisher_domain=None, subscriber_domain=None, virtual_user_id=None)]"
      ]
     },
     "execution_count": 13,
     "metadata": {},
     "output_type": "execute_result"
    }
   ],
   "source": [
    "import os\n",
    "import pandas as pd\n",
    "\n",
    "token_auth = dmda.DomoTokenAuth(\n",
    "    domo_instance=\"domo-community\", domo_access_token=os.environ[\"DOMO_DOJO_ACCESS_TOKEN\"]\n",
    ")\n",
    "\n",
    "\n",
    "await DomoUsers.by_id(\n",
    "    auth=token_auth,\n",
    "    user_ids=[\"1006847540\", \"1012895591\"],\n",
    "    only_allow_one=False,\n",
    "    return_raw=False,\n",
    ")\n"
   ]
  },
  {
   "cell_type": "code",
   "execution_count": 14,
   "metadata": {},
   "outputs": [],
   "source": [
    "# | export\n",
    "\n",
    "\n",
    "@patch_to(DomoUsers, cls_method=True)\n",
    "def util_match_domo_users_to_emails(\n",
    "    cls: DomoUsers, domo_users: list[DomoUser], user_email_ls: list[str]\n",
    ") -> list:\n",
    "    \"\"\"pass in an array of user emails to match against an array of Domo User\"\"\"\n",
    "\n",
    "    matches = []\n",
    "    for idx, email in enumerate(user_email_ls):\n",
    "        match_user = next(\n",
    "            (\n",
    "                domo_user\n",
    "                for domo_user in domo_users\n",
    "                if email.lower() == domo_user.email_address.lower()\n",
    "            ),\n",
    "            None,\n",
    "        )\n",
    "        if match_user:\n",
    "            matches.append(match_user)\n",
    "    return matches\n",
    "\n",
    "\n",
    "@patch_to(DomoUsers, cls_method=True)\n",
    "def util_match_users_obj_to_emails(\n",
    "    cls: DomoUsers, user_ls: list[dict], user_email_ls: list[str]\n",
    ") -> list:\n",
    "    \"\"\"pass in an array of user emails to match against an array of Domo User\"\"\"\n",
    "\n",
    "    matches = []\n",
    "    for idx, email in enumerate(user_email_ls):\n",
    "        match_user = next(\n",
    "            (\n",
    "                user_obj\n",
    "                for user_obj in user_ls\n",
    "                if email.lower() == user_obj.get(\"emailAddress\").lower()\n",
    "            ),\n",
    "            None,\n",
    "        )\n",
    "        if match_user:\n",
    "            matches.append(match_user)\n",
    "    return matches\n",
    "\n",
    "\n",
    "@patch_to(DomoUsers, cls_method=True)\n",
    "async def by_email(\n",
    "    cls: DomoUsers,\n",
    "    email_ls: list[str],\n",
    "    auth: dmda.DomoAuth,\n",
    "    only_allow_one: bool = True,\n",
    "    debug_api: bool = False,\n",
    "    debug_prn: bool = False,\n",
    "    return_raw: bool = False,\n",
    ") -> list:\n",
    "\n",
    "    body = user_routes.generate_search_users_body_by_email(\n",
    "        user_email_ls=email_ls)\n",
    "\n",
    "    if debug_prn:\n",
    "        pprint(body)\n",
    "\n",
    "    res = await user_routes.search_users(\n",
    "        body=body, auth=auth, return_raw=False, debug_api=debug_api\n",
    "    )\n",
    "\n",
    "    if return_raw:\n",
    "        if only_allow_one:\n",
    "            res.response = cls.util_match_users_obj_to_emails(\n",
    "                res.response, email_ls\n",
    "            )[0]\n",
    "        return res\n",
    "\n",
    "    domo_users = cls._users_to_domo_user(res.response, auth=auth)\n",
    "\n",
    "    if only_allow_one:\n",
    "        return cls.util_match_domo_users_to_emails(domo_users, email_ls)[0]\n",
    "\n",
    "    return domo_users\n"
   ]
  },
  {
   "attachments": {},
   "cell_type": "markdown",
   "metadata": {},
   "source": [
    "#### sample implementation of searching for a user by email\n"
   ]
  },
  {
   "cell_type": "code",
   "execution_count": 15,
   "metadata": {},
   "outputs": [
    {
     "name": "stdout",
     "output_type": "stream",
     "text": [
      "ResponseGetData(status=200,\n",
      "                response={'displayName': 'Jae Wilson1',\n",
      "                          'emailAddress': 'jae@onyxreporting.com',\n",
      "                          'id': 1893952720,\n",
      "                          'roleId': 1,\n",
      "                          'userName': 'jae@onyxreporting.com'},\n",
      "                is_success=True)\n"
     ]
    }
   ],
   "source": [
    "import os\n",
    "import pandas as pd\n",
    "\n",
    "token_auth = dmda.DomoTokenAuth(\n",
    "    domo_instance=\"domo-community\", domo_access_token=os.environ[\"DOMO_DOJO_ACCESS_TOKEN\"]\n",
    ")\n",
    "\n",
    "try:\n",
    "    res = await DomoUsers.by_email(\n",
    "        auth=token_auth,\n",
    "        email_ls=[\"jae@onyxreporting.com\"],\n",
    "        only_allow_one=True,\n",
    "        return_raw=True,\n",
    "        debug_api=False,\n",
    "        debug_prn=False,\n",
    "    )\n",
    "\n",
    "    pprint(res)\n",
    "    \n",
    "except user_routes.SearchUser_NoResults as e:\n",
    "    print(e)\n",
    "\n"
   ]
  },
  {
   "cell_type": "code",
   "execution_count": 16,
   "metadata": {},
   "outputs": [],
   "source": [
    "# | export\n",
    "@patch_to(DomoUsers, cls_method=True)\n",
    "async def virtual_user_by_subscriber_instance(\n",
    "    cls: DomoUsers,\n",
    "    subscriber_instance_ls: str,\n",
    "    auth: dmda.DomoAuth,\n",
    "    debug_api: bool = False,\n",
    "    return_raw: bool = False,\n",
    "):\n",
    "    res = await user_routes.search_virtual_user_by_subscriber_instance(\n",
    "        auth=auth,\n",
    "        subscriber_instance_ls=subscriber_instance_ls,\n",
    "        debug_api=debug_api,\n",
    "    )\n",
    "\n",
    "    if return_raw:\n",
    "        return res\n",
    "\n",
    "    if not res.is_success:\n",
    "        return None\n",
    "\n",
    "    user_ls = res.response\n",
    "\n",
    "    domo_users = cls._users_to_virtual_user(user_ls, auth=auth)\n",
    "    return domo_users[0]\n"
   ]
  },
  {
   "attachments": {},
   "cell_type": "markdown",
   "metadata": {},
   "source": [
    "#### sample implementation of retrieving virtual users for a subscriber instance\n"
   ]
  },
  {
   "cell_type": "code",
   "execution_count": 17,
   "metadata": {},
   "outputs": [
    {
     "name": "stdout",
     "output_type": "stream",
     "text": [
      "DomoUser(id='44a56146-f422-4175-9c3b-a194f339f9b6', display_name=None, email_address=None, role_id=None, publisher_domain='domo-community.domo.com', subscriber_domain='domo-community.domo.com', virtual_user_id='fc:f230ba95-bc49-4875-a0db-3c7cd58ed3cc')\n"
     ]
    }
   ],
   "source": [
    "import os\n",
    "import pandas as pd\n",
    "\n",
    "token_auth = dmda.DomoTokenAuth(\n",
    "    domo_instance=\"domo-community\", domo_access_token=os.environ[\"DOMO_DOJO_ACCESS_TOKEN\"]\n",
    ")\n",
    "\n",
    "\n",
    "res = await DomoUsers.virtual_user_by_subscriber_instance(\n",
    "    auth=token_auth,\n",
    "    subscriber_instance_ls=[\"domo-community\", \"test\"],\n",
    "    # return_raw=True,\n",
    "    debug_api=False,\n",
    ")\n",
    "print(res)\n"
   ]
  },
  {
   "attachments": {},
   "cell_type": "markdown",
   "metadata": {},
   "source": [
    "## CRUD Users"
   ]
  },
  {
   "cell_type": "code",
   "execution_count": 18,
   "metadata": {},
   "outputs": [],
   "source": [
    "# | export\n",
    "class CreateUser_MissingRole(de.DomoError):\n",
    "    def __init__(self, domo_instance, email_address):\n",
    "        super().__init__(domo_instance= domo_instance, message = f\"error creating user {email_address} missing role_id\")\n",
    "\n",
    "@patch_to(DomoUsers, cls_method=True)\n",
    "async def create_user(\n",
    "    cls: DomoUsers,\n",
    "    auth: dmda.DomoAuth,\n",
    "    display_name,\n",
    "    email_address,\n",
    "    role_id,\n",
    "    password: str = None,\n",
    "    send_password_reset_email: bool = False,\n",
    "    debug_api: bool = False,\n",
    "    session : httpx.AsyncClient = None\n",
    "):\n",
    "    \"\"\"class method that creates a new Domo user\"\"\"\n",
    "\n",
    "    res = await user_routes.create_user(\n",
    "        auth=auth,\n",
    "        display_name=display_name,\n",
    "        email_address=email_address,\n",
    "        role_id=role_id,\n",
    "        debug_api=debug_api,\n",
    "        session = session\n",
    "    )\n",
    "\n",
    "    if not res.is_success:\n",
    "        return None\n",
    "\n",
    "    dd = util_dd.DictDot(res.response)\n",
    "    u = DomoUser(\n",
    "        auth=auth,\n",
    "        id=dd.id or dd.userId,\n",
    "        display_name=dd.displayName,\n",
    "        email_address=dd.emailAddress,\n",
    "    )\n",
    "\n",
    "    if password:\n",
    "        await u.reset_password(new_password=password)\n",
    "\n",
    "    if send_password_reset_email:\n",
    "        await u.request_password_reset(\n",
    "            domo_instance=auth.domo_instance, email=u.email_address\n",
    "        )\n",
    "\n",
    "    return u\n"
   ]
  },
  {
   "cell_type": "code",
   "execution_count": 19,
   "metadata": {},
   "outputs": [],
   "source": [
    "import os\n",
    "import pandas as pd\n",
    "\n",
    "token_auth = dmda.DomoTokenAuth(\n",
    "    domo_instance=\"domo-community\", domo_access_token=os.environ[\"DOMO_DOJO_ACCESS_TOKEN\"]\n",
    ")\n",
    "\n",
    "await DomoUsers.create_user(auth=token_auth, display_name='test_and_delete', email_address='test26@test.com', role_id=5)\n"
   ]
  },
  {
   "cell_type": "code",
   "execution_count": 20,
   "metadata": {},
   "outputs": [],
   "source": [
    "# |export\n",
    "@patch_to(DomoUsers, cls_method=True)\n",
    "async def upsert_user(cls: DomoUsers,\n",
    "                      auth: dmda.DomoAuth,\n",
    "                      email_address: str,\n",
    "                      display_name: str = None,\n",
    "                      role_id: str = None,\n",
    "                      debug_api: bool = False,\n",
    "                      debug_prn: bool = False,\n",
    "                      session: httpx.AsyncClient = None\n",
    "                      ):\n",
    "\n",
    "    try:\n",
    "        domo_user = await cls.by_email(\n",
    "            email_ls=[email_address],\n",
    "            auth=auth,\n",
    "            only_allow_one=True,\n",
    "            debug_api=debug_api,\n",
    "        )\n",
    "\n",
    "        if domo_user:\n",
    "            user_property_ls = []\n",
    "            if display_name:\n",
    "                user_property_ls.append(user_routes.UserProperty(\n",
    "                    user_routes.UserProperty_Type.display_name, display_name))\n",
    "\n",
    "            if role_id:\n",
    "                user_property_ls.append(user_routes.UserProperty(\n",
    "                    user_routes.UserProperty_Type.role_id, role_id))\n",
    "\n",
    "            return await user_routes.update_user(\n",
    "                user_id=domo_user.id,\n",
    "                user_property_ls=user_property_ls,\n",
    "                auth=auth,\n",
    "                debug_api=debug_api\n",
    "            )\n",
    "\n",
    "    except user_routes.SearchUser_NoResults as e:\n",
    "        if debug_prn:\n",
    "            print(\n",
    "                f'No user match -- creating new user in {auth.domo_instance}')\n",
    "\n",
    "        if not role_id:\n",
    "            raise CreateUser_MissingRole(\n",
    "                domo_instance=auth.domo_instance, email_address=email_address)\n",
    "\n",
    "        return await cls.create_user(auth=auth,\n",
    "                                     display_name=display_name or f\"{email_address} - via dl {dt.date.today()}\",\n",
    "                                     email_address=email_address,\n",
    "                                     role_id=role_id,\n",
    "                                     debug_api=debug_api, \n",
    "                                     session=session)\n",
    "\n",
    "    # finally:\n",
    "    #     if grant_ls:\n",
    "    #         grant_ls = domo_role._valid_grant_ls(grant_ls)\n",
    "    #         await domo_role.set_grants(grant_ls=grant_ls)\n"
   ]
  },
  {
   "cell_type": "code",
   "execution_count": 21,
   "metadata": {},
   "outputs": [
    {
     "data": {
      "text/plain": [
       "ResponseGetData(status=200, response={'attributes': [{'key': 'id', 'values': [663516735]}, {'key': 'displayName', 'values': ['test - updated via dl 2023-04-14']}, {'key': 'userName', 'values': ['test4@test.com']}, {'key': 'emailAddress', 'values': ['test4@test.com']}, {'key': 'modified', 'values': [1681452884209]}, {'key': 'created', 'values': [1679007751000]}, {'key': 'roleId', 'values': [3]}, {'key': 'isAnonymous', 'values': [True]}, {'key': 'isSystemUser', 'values': [False]}, {'key': 'isPending', 'values': [True]}, {'key': 'isActive', 'values': [True]}, {'key': 'invitorUserId', 'values': [1893952720]}, {'key': 'avatarKey', 'values': ['/api/content/v1/avatar/USER/663516735']}], 'id': 663516735, 'displayName': 'test - updated via dl 2023-04-14', 'roleId': 3, 'userName': 'test4@test.com', 'emailAddress': 'test4@test.com'}, is_success=True)"
      ]
     },
     "execution_count": 21,
     "metadata": {},
     "output_type": "execute_result"
    }
   ],
   "source": [
    "import os\n",
    "import pandas as pd\n",
    "import datetime as dt\n",
    "\n",
    "token_auth = dmda.DomoTokenAuth(\n",
    "    domo_instance=\"domo-community\", domo_access_token=os.environ[\"DOMO_DOJO_ACCESS_TOKEN\"]\n",
    ")\n",
    "\n",
    "await DomoUsers.upsert_user(email_address='test4@test.com',\n",
    "                            display_name= f'test - updated via dl {dt.date.today()}',\n",
    "                            role_id = 3,\n",
    "                            auth=token_auth, debug_prn=True, debug_api = False)\n"
   ]
  },
  {
   "cell_type": "code",
   "execution_count": 22,
   "metadata": {},
   "outputs": [
    {
     "name": "stderr",
     "output_type": "stream",
     "text": [
      "Bad pipe message: %s [b'\\x92vm\\xc1\\x9f\\xf1\\xf4\\x1a\\xf8\\n\\xdf\\x8f\\xe0\\xd4\\xab/\\x93\\' \\xa0\"8\\x06B\\xaa\\xc2X\\x14/8Z\\xd5\\x0cn\\xd6\\x85\\xa7\\x8b\\x8a\\x05tW\\x9dm\\xa1S\\x91]v\\xd3\\xb6\\x00\\x08\\x13\\x02\\x13\\x03\\x13\\x01\\x00\\xff\\x01\\x00\\x00\\x8f\\x00\\x00\\x00\\x0e\\x00\\x0c\\x00\\x00\\t127.0.0.1\\x00\\x0b\\x00\\x04\\x03\\x00\\x01\\x02']\n",
      "Bad pipe message: %s [b\"\\xb9\\xa3\\x12q\\x8f\\xea\\xd3\\x9aRSk\\xb6\\x15\\xc7\\x1b\\xee\\xc6\\t\\x00\\x00|\\xc0,\\xc00\\x00\\xa3\\x00\\x9f\\xcc\\xa9\\xcc\\xa8\\xcc\\xaa\\xc0\\xaf\\xc0\\xad\\xc0\\xa3\\xc0\\x9f\\xc0]\\xc0a\\xc0W\\xc0S\\xc0+\\xc0/\\x00\\xa2\\x00\\x9e\\xc0\\xae\\xc0\\xac\\xc0\\xa2\\xc0\\x9e\\xc0\\\\\\xc0`\\xc0V\\xc0R\\xc0$\\xc0(\\x00k\\x00j\\xc0#\\xc0'\\x00g\\x00@\\xc0\\n\\xc0\\x14\\x009\\x008\\xc0\\t\\xc0\\x13\\x003\\x002\\x00\\x9d\\xc0\\xa1\\xc0\\x9d\\xc0Q\\x00\\x9c\\xc0\\xa0\\xc0\\x9c\\xc0P\\x00=\\x00<\\x005\\x00/\\x00\\x9a\\x00\\x99\\xc0\\x07\\xc0\\x11\\x00\\x96\\x00\\x05\\x00\\xff\\x01\\x00\\x00j\\x00\\x00\\x00\\x0e\\x00\\x0c\\x00\\x00\\t127.0.0.1\\x00\\x0b\\x00\\x04\\x03\\x00\\x01\\x02\\x00\\n\\x00\\x0c\\x00\\n\\x00\\x1d\\x00\\x17\\x00\\x1e\\x00\\x19\\x00\\x18\\x00#\\x00\\x00\\x00\\x16\\x00\\x00\\x00\\x17\\x00\\x00\\x00\\r\\x000\\x00.\\x04\\x03\\x05\\x03\\x06\\x03\\x08\\x07\\x08\\x08\\x08\\t\\x08\"]\n",
      "Bad pipe message: %s [b'\\x0b\\x08\\x04\\x08\\x05\\x08\\x06\\x04\\x01']\n",
      "Bad pipe message: %s [b'\\x06\\x01\\x03\\x03', b'\\x03', b'']\n",
      "Bad pipe message: %s [b'', b'\\x02']\n",
      "Bad pipe message: %s [b'\\x05\\x02\\x06']\n",
      "Bad pipe message: %s [b\"\\xedNEY]\\xd9\\xe4\\xfc\\x900\\xbd\\xe1\\t\\x9c\\x18\\xb8y\\x0b\\x00\\x00\\xa6\\xc0,\\xc00\\x00\\xa3\\x00\\x9f\\xcc\\xa9\\xcc\\xa8\\xcc\\xaa\\xc0\\xaf\\xc0\\xad\\xc0\\xa3\\xc0\\x9f\\xc0]\\xc0a\\xc0W\\xc0S\\xc0+\\xc0/\\x00\\xa2\\x00\\x9e\\xc0\\xae\\xc0\\xac\\xc0\\xa2\\xc0\\x9e\\xc0\\\\\\xc0`\\xc0V\\xc0R\\xc0$\\xc0(\\x00k\\x00j\\xc0s\\xc0w\\x00\\xc4\\x00\\xc3\\xc0#\\xc0'\\x00g\\x00@\\xc0r\\xc0v\\x00\\xbe\\x00\\xbd\\xc0\\n\\xc0\\x14\\x009\\x008\\x00\\x88\\x00\\x87\\xc0\\t\\xc0\\x13\\x003\\x002\\x00\\x9a\\x00\\x99\\x00E\\x00D\\xc0\\x07\\xc0\\x11\\xc0\\x08\\xc0\\x12\\x00\\x16\\x00\\x13\\x00\\x9d\\xc0\\xa1\\xc0\\x9d\\xc0Q\\x00\\x9c\\xc0\\xa0\\xc0\\x9c\\xc0P\\x00=\\x00\\xc0\\x00<\\x00\\xba\\x005\\x00\\x84\\x00/\\x00\\x96\\x00A\\x00\\x05\\x00\\n\\x00\\xff\\x01\\x00\\x00j\\x00\\x00\\x00\\x0e\\x00\\x0c\\x00\\x00\\t127.0.0.1\\x00\\x0b\\x00\\x04\\x03\\x00\\x01\\x02\\x00\"]\n",
      "Bad pipe message: %s [b'\\x0c\\x00\\n\\x00\\x1d\\x00\\x17\\x00\\x1e']\n",
      "Bad pipe message: %s [b'\\x9eJ\\xc5\\x9e\\xceCKgi\\x82[Dx[V x\\x82\\x00\\x00\\xa2\\xc0\\x14\\xc0\\n\\x009\\x008\\x007\\x006\\x00\\x88\\x00\\x87\\x00\\x86\\x00\\x85\\xc0\\x19\\x00:\\x00\\x89\\xc0\\x0f\\xc0\\x05\\x005\\x00\\x84\\xc0\\x13\\xc0\\t\\x003\\x002\\x001\\x000\\x00\\x9a\\x00\\x99\\x00\\x98\\x00\\x97\\x00E\\x00D\\x00C\\x00B\\xc0\\x18\\x004\\x00\\x9b\\x00F\\xc0\\x0e\\xc0\\x04\\x00/\\x00\\x96\\x00A\\x00\\x07\\xc0\\x11\\xc0\\x07\\xc0\\x16\\x00\\x18\\xc0\\x0c\\xc0\\x02\\x00\\x05\\x00\\x04\\xc0\\x12\\xc0\\x08\\x00\\x16\\x00\\x13\\x00\\x10\\x00\\r\\xc0']\n",
      "Bad pipe message: %s [b'\\x1b\\xc0\\r\\xc0\\x03\\x00\\n\\x00\\x15\\x00\\x12\\x00\\x0f\\x00\\x0c\\x00\\x1a\\x00\\t\\x00\\x14\\x00']\n",
      "Bad pipe message: %s [b'\\x19\\x00\\x08\\x00\\x06\\x00\\x17\\x00\\x03\\xc0\\x10\\xc0\\x06\\xc0\\x15\\xc0']\n",
      "Bad pipe message: %s [b'\\x01\\x00\\x02\\x00\\x01\\x00\\xff\\x02\\x01\\x00']\n",
      "Bad pipe message: %s [b'\\xf4\\xed\\xeb\\x92\\x0b\\xf2\\xc2\\xdcT;\\x039\"e\\xdd\\x86BL\\x00\\x00\\x86\\xc00\\xc0,\\xc0(\\xc0$\\xc0\\x14\\xc0\\n\\x00\\xa5\\x00\\xa3\\x00\\xa1\\x00\\x9f\\x00k\\x00j\\x00i\\x00h\\x009\\x008\\x007\\x006\\xc02\\xc0.\\xc0*\\xc0&\\xc0\\x0f\\xc0\\x05\\x00\\x9d\\x00=\\x005\\xc0/\\xc0+\\xc0\\'\\xc0#\\xc0\\x13\\xc0\\t\\x00\\xa4\\x00\\xa2\\x00\\xa0\\x00\\x9e\\x00g\\x00@\\x00?\\x00>\\x003\\x002\\x001\\x000\\xc01\\xc0-\\xc0)\\xc0%\\xc0\\x0e\\xc0\\x04\\x00\\x9c\\x00<\\x00/\\x00\\x9a\\x00\\x99\\x00\\x98\\x00\\x97\\x00\\x96\\x00\\x07\\xc0\\x11\\xc0\\x07\\xc0\\x0c\\xc0\\x02']\n",
      "Bad pipe message: %s [b\"/^\\x19\\xd9]1\\xf6\\xd8/\\xa5\\xab`?C~\\xdd\\xe1\\x00\\x00\\x00\\xf4\\xc00\\xc0,\\xc0(\\xc0$\\xc0\\x14\\xc0\\n\\x00\\xa5\\x00\\xa3\\x00\\xa1\\x00\\x9f\\x00k\\x00j\\x00i\\x00h\\x009\\x008\\x007\\x006\\x00\\x88\\x00\\x87\\x00\\x86\\x00\\x85\\xc0\\x19\\x00\\xa7\\x00m\\x00:\\x00\\x89\\xc02\\xc0.\\xc0*\\xc0&\\xc0\\x0f\\xc0\\x05\\x00\\x9d\\x00=\\x005\\x00\\x84\\xc0/\\xc0+\\xc0'\\xc0#\\xc0\\x13\\xc0\\t\\x00\\xa4\\x00\\xa2\\x00\\xa0\\x00\\x9e\\x00g\\x00@\\x00?\\x00>\\x003\\x002\\x001\\x000\\x00\\x9a\\x00\\x99\\x00\\x98\\x00\\x97\\x00E\\x00D\\x00C\\x00B\\xc0\\x18\\x00\\xa6\\x00l\\x004\\x00\\x9b\\x00F\\xc01\"]\n",
      "Bad pipe message: %s [b'\\xc0)\\xc0%\\xc0\\x0e\\xc0\\x04\\x00\\x9c\\x00<\\x00/\\x00\\x96\\x00A\\x00\\x07\\xc0\\x11\\xc0\\x07\\xc0\\x16\\x00\\x18\\xc0\\x0c\\xc0\\x02\\x00\\x05\\x00\\x04\\xc0\\x12\\xc0\\x08\\x00\\x16\\x00\\x13\\x00\\x10\\x00\\r\\xc0\\x17\\x00\\x1b\\xc0\\r\\xc0\\x03\\x00\\n\\x00\\x15\\x00\\x12\\x00\\x0f\\x00\\x0c\\x00\\x1a\\x00\\t\\x00\\x14\\x00\\x11\\x00\\x19\\x00\\x08\\x00\\x06\\x00\\x17\\x00\\x03\\xc0\\x10\\xc0\\x06\\xc0\\x15\\xc0\\x0b\\xc0\\x01\\x00;\\x00\\x02\\x00\\x01\\x00\\xff\\x02\\x01\\x00\\x00g\\x00\\x00\\x00\\x0e\\x00\\x0c\\x00\\x00\\t127.0.0.1\\x00\\x0b\\x00\\x04\\x03\\x00\\x01\\x02\\x00\\n\\x00\\x1c\\x00\\x1a\\x00\\x17\\x00\\x19\\x00\\x1c\\x00\\x1b\\x00\\x18\\x00\\x1a\\x00\\x16\\x00\\x0e\\x00\\r\\x00\\x0b\\x00\\x0c\\x00\\t\\x00\\n\\x00#\\x00\\x00\\x00\\r\\x00 \\x00\\x1e\\x06\\x01\\x06\\x02\\x06\\x03\\x05\\x01\\x05\\x02\\x05\\x03\\x04\\x01\\x04\\x02', b'\\x03\\x01\\x03', b'\\x03', b'\\x02', b'\\x03']\n"
     ]
    }
   ],
   "source": [
    "# | hide\n",
    "import nbdev\n",
    "\n",
    "nbdev.nbdev_export()"
   ]
  }
 ],
 "metadata": {
  "jupytext": {
   "split_at_heading": true
  },
  "kernelspec": {
   "display_name": "Python 3",
   "language": "python",
   "name": "python3"
  },
  "language_info": {
   "codemirror_mode": {
    "name": "ipython",
    "version": 3
   },
   "file_extension": ".py",
   "mimetype": "text/x-python",
   "name": "python",
   "nbconvert_exporter": "python",
   "pygments_lexer": "ipython3",
   "version": "3.10.4"
  }
 },
 "nbformat": 4,
 "nbformat_minor": 4
}
