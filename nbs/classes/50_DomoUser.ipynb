{
 "cells": [
  {
   "attachments": {},
   "cell_type": "markdown",
   "metadata": {},
   "source": [
    "# User\n",
    "\n",
    "> a class-based approach to interacting with Users\n"
   ]
  },
  {
   "cell_type": "raw",
   "metadata": {},
   "source": [
    "---\n",
    "output-file: user_class.html\n",
    "---"
   ]
  },
  {
   "cell_type": "code",
   "execution_count": null,
   "metadata": {},
   "outputs": [],
   "source": [
    "# | default_exp classes.DomoUser"
   ]
  },
  {
   "cell_type": "code",
   "execution_count": null,
   "metadata": {},
   "outputs": [],
   "source": [
    "# | export\n",
    "from domolibrary.routes.user import UserProperty, UserProperty_Type, SearchUser_NoResults\n"
   ]
  },
  {
   "cell_type": "code",
   "execution_count": null,
   "metadata": {},
   "outputs": [],
   "source": [
    "# | exporti\n",
    "import datetime as dt\n",
    "from dataclasses import dataclass, field\n",
    "from typing import Optional\n",
    "import httpx\n",
    "from fastcore.basics import patch_to\n",
    "\n",
    "from pprint import pprint\n",
    "\n",
    "import domolibrary.utils.DictDot as util_dd\n",
    "import domolibrary.client.DomoAuth as dmda\n",
    "import domolibrary.client.Logger as lc\n",
    "import domolibrary.client.DomoError as de\n",
    "import domolibrary.routes.user as user_routes"
   ]
  },
  {
   "attachments": {},
   "cell_type": "markdown",
   "metadata": {},
   "source": [
    "# MAIN -- Domo User\n"
   ]
  },
  {
   "cell_type": "code",
   "execution_count": null,
   "metadata": {},
   "outputs": [],
   "source": [
    "# | export\n",
    "@dataclass\n",
    "class DomoUser:\n",
    "    \"\"\"a class for interacting with a Domo User\"\"\"\n",
    "\n",
    "    id: str\n",
    "    title: str = None\n",
    "    department: str = None\n",
    "    display_name: str = None\n",
    "    email_address: str = None\n",
    "    role_id: str = None\n",
    "    avatar_key :str = None\n",
    "\n",
    "    phone_number : str = None\n",
    "    web_landing_page : str = None\n",
    "    web_mobile_landing_page: str = None\n",
    "    employee_id : str = None\n",
    "    employee_number : str = None\n",
    "    hire_date : str = None\n",
    "    reports_to : str = None\n",
    "\n",
    "    publisher_domain: str = None\n",
    "    subscriber_domain: str = None\n",
    "    virtual_user_id: str = None\n",
    "\n",
    "    custom_attributes : dict = field(default_factory = dict)\n",
    "\n",
    "    auth: Optional[dmda.DomoAuth] = field(repr=False, default=None)\n",
    "\n",
    "    def __post_init__(self):\n",
    "        self.id = str(self.id)\n",
    "\n",
    "    def __eq__(self, other):\n",
    "        if not isinstance(other, DomoUser):\n",
    "            return False\n",
    "        \n",
    "        return self.id == other.id\n",
    "\n",
    "    @classmethod\n",
    "    def _from_search_json(cls, auth, user_obj):\n",
    "        user_dd = util_dd.DictDot(user_obj)\n",
    "\n",
    "        return cls(\n",
    "            auth=auth,\n",
    "            id=str(user_dd.id or user_dd.userId),\n",
    "            display_name=user_dd.displayName,\n",
    "            title = user_dd.title,\n",
    "            department = user_dd.department,\n",
    "            email_address=user_dd.emailAddress or user_dd.email,\n",
    "            role_id=user_dd.roleId,\n",
    "            avatar_key = user_dd.avatarKey,\n",
    "            \n",
    "            phone_number= user_dd.phoneNumber,\n",
    "            web_landing_page=user_dd.webLandingPage,\n",
    "            web_mobile_landing_page= user_dd.webMobileLandingPage,\n",
    "            employee_id=user_dd.employeeId,\n",
    "            employee_number= user_dd.employeeNumber,\n",
    "            hire_date=user_dd.hireDate,\n",
    "            reports_to=user_dd.reportsTo\n",
    "        )\n",
    "\n",
    "    @classmethod\n",
    "    def _from_virtual_json(cls, auth, user_obj):\n",
    "        user_dd = util_dd.DictDot(user_obj)\n",
    "\n",
    "        return cls(\n",
    "            id=user_dd.id,\n",
    "            auth=auth,\n",
    "            publisher_domain=user_dd.publisherDomain,\n",
    "            subscriber_domain=user_dd.subscriberDomain,\n",
    "            virtual_user_id=user_dd.virtualUserId,\n",
    "        )\n",
    "\n",
    "    @classmethod\n",
    "    def _from_bootstrap_json(cls, auth, user_obj):\n",
    "\n",
    "        dd = user_obj\n",
    "        if isinstance(user_obj, dict):\n",
    "            dd = util_dd.DictDot(user_obj)\n",
    "\n",
    "        return cls(id=dd.id, display_name=dd.displayName, auth=auth)"
   ]
  },
  {
   "cell_type": "code",
   "execution_count": null,
   "metadata": {},
   "outputs": [
    {
     "data": {
      "text/plain": [
       "DomoUser(id='1345408759', title=None, department=None, display_name='Alexis Lorenz (DataMaven)', email_address=None, role_id=None, avatar_key=None, phone_number=None, web_landing_page=None, web_mobile_landing_page=None, employee_id=None, employee_number=None, hire_date=None, reports_to=None, publisher_domain=None, subscriber_domain=None, virtual_user_id=None, custom_attributes={})"
      ]
     },
     "execution_count": null,
     "metadata": {},
     "output_type": "execute_result"
    }
   ],
   "source": [
    "import os\n",
    "import domolibrary.routes.bootstrap as bootstrap_routes\n",
    "\n",
    "auth = dmda.DomoFullAuth(\n",
    "    domo_instance=\"domo-community\",\n",
    "    domo_password=os.environ[\"DOJO_PASSWORD\"],\n",
    "    domo_username=os.environ[\"DOMO_USERNAME\"],\n",
    ")\n",
    "\n",
    "res = await bootstrap_routes.get_bootstrap_pages(auth=auth)\n",
    "\n",
    "page_obj = res.response[10]\n",
    "owners_ls = page_obj.get(\"owners\")\n",
    "\n",
    "DomoUser._from_bootstrap_json(auth=auth, user_obj=owners_ls[0])"
   ]
  },
  {
   "cell_type": "code",
   "execution_count": null,
   "metadata": {},
   "outputs": [],
   "source": [
    "# | exporti\n",
    "@patch_to(DomoUser, cls_method=True)\n",
    "async def get_by_id(cls: DomoUser, user_id, auth: dmda.DomoAuth,\n",
    "                    return_raw: bool = False,\n",
    "                    debug_api: bool = False, session: httpx.AsyncClient = None):\n",
    "\n",
    "    res = await user_routes.get_by_id(\n",
    "        auth=auth, user_id=user_id, debug_api=debug_api, session=session\n",
    "    )\n",
    "\n",
    "    if return_raw:\n",
    "        return res\n",
    "\n",
    "    if not res.is_success:\n",
    "        raise Exception(res.response)\n",
    "    \n",
    "    return cls._from_search_json(user_obj=res.response, auth=auth)\n"
   ]
  },
  {
   "cell_type": "code",
   "execution_count": null,
   "metadata": {},
   "outputs": [
    {
     "data": {
      "text/plain": [
       "DomoUser(id='663516735', title=None, department=None, display_name='test - updated via dl 2023-09-25', email_address='test4@test.com', role_id=1662852841, avatar_key=None, phone_number=None, web_landing_page=None, web_mobile_landing_page=None, employee_id=None, employee_number=None, hire_date=None, reports_to=None, publisher_domain=None, subscriber_domain=None, virtual_user_id=None, custom_attributes={})"
      ]
     },
     "execution_count": null,
     "metadata": {},
     "output_type": "execute_result"
    }
   ],
   "source": [
    "import os\n",
    "\n",
    "token_auth = dmda.DomoTokenAuth(\n",
    "    domo_instance=\"domo-community\", domo_access_token=os.environ[\"DOMO_DOJO_ACCESS_TOKEN\"]\n",
    ")\n",
    "user_id = os.environ[\"DOMO_DOJO_USER_ID\"]\n",
    "\n",
    "\n",
    "await DomoUser.get_by_id(user_id=user_id, auth=token_auth, return_raw=False)\n",
    "\n",
    "\n"
   ]
  },
  {
   "cell_type": "code",
   "execution_count": null,
   "metadata": {},
   "outputs": [],
   "source": [
    "#|export\n",
    "\n",
    "class DownloadAvatar_NoAvatarKey(de.DomoError):\n",
    "    def __init__(self, domo_instance, user_id,):\n",
    "        super().__init__(domo_instance,  message = f\"No avatarl uploaded - unable to download {user_id}\")"
   ]
  },
  {
   "cell_type": "code",
   "execution_count": null,
   "metadata": {},
   "outputs": [],
   "source": [
    "# | exporti\n",
    "\n",
    "@patch_to(DomoUser)\n",
    "async def download_avatar(\n",
    "    self: DomoUser,\n",
    "    pixels: int = 300,\n",
    "    folder_path=\"./images\",\n",
    "    img_name=None,\n",
    "    auth : dmda.DomoAuth = None,\n",
    "    is_download_image: bool = True,\n",
    "    debug_api: bool = False,\n",
    "    return_raw: bool = False,\n",
    "):\n",
    "    auth = auth or self.auth\n",
    "    \n",
    "    if not self.avatar_key:\n",
    "        raise DownloadAvatar_NoAvatarKey(\n",
    "            domo_instance=auth.domo_instance, user_id=self.id\n",
    "        )\n",
    "\n",
    "    res = await user_routes.download_avatar(\n",
    "        auth=self.auth,\n",
    "        user_id=self.id,\n",
    "        pixels=pixels,\n",
    "        folder_path=folder_path,\n",
    "        img_name=img_name,\n",
    "        is_download_image=is_download_image,\n",
    "        debug_api=debug_api\n",
    "    )\n",
    "\n",
    "    if return_raw: \n",
    "        return res\n",
    "\n",
    "    return res.is_success"
   ]
  },
  {
   "cell_type": "markdown",
   "metadata": {},
   "source": [
    "#### sample download_avatar"
   ]
  },
  {
   "cell_type": "code",
   "execution_count": null,
   "metadata": {},
   "outputs": [
    {
     "data": {
      "text/plain": [
       "True"
      ]
     },
     "execution_count": null,
     "metadata": {},
     "output_type": "execute_result"
    }
   ],
   "source": [
    "import os\n",
    "\n",
    "token_auth = dmda.DomoTokenAuth(\n",
    "    domo_instance=\"domo-community\", domo_access_token=os.environ[\"DOMO_DOJO_ACCESS_TOKEN\"]\n",
    ")\n",
    "\n",
    "user_id = 1833256765\n",
    "\n",
    "domo_user = await DomoUser.get_by_id(user_id = user_id, auth = token_auth)\n",
    "    \n",
    "await domo_user.download_avatar(folder_path= '../test/', img_name= 'cls_sample.png')\n"
   ]
  },
  {
   "cell_type": "code",
   "execution_count": null,
   "metadata": {},
   "outputs": [],
   "source": [
    "# | exporti\n",
    "@patch_to(DomoUser)\n",
    "async def reset_password(self: DomoUser, new_password: str, debug_api: bool = False):\n",
    "    \"\"\"reset your password, will respect password restrictions set up in the Domo UI\"\"\"\n",
    "\n",
    "    res = await user_routes.reset_password(\n",
    "        auth=self.auth, user_id=self.id, new_password=new_password, debug_api=debug_api\n",
    "    )\n",
    "\n",
    "    return res"
   ]
  },
  {
   "cell_type": "code",
   "execution_count": null,
   "metadata": {},
   "outputs": [],
   "source": [
    "# | exporti\n",
    "@patch_to(DomoUser, cls_method=True)\n",
    "async def request_password_reset(\n",
    "    cls,\n",
    "    domo_instance: str,\n",
    "    email: str,\n",
    "    locale: str = \"en-us\",\n",
    "    debug_api: bool = False,\n",
    "    session: httpx.AsyncClient = None,\n",
    "):\n",
    "    \"\"\"request password reset email.  Note: does not require authentication.\"\"\"\n",
    "\n",
    "    return await user_routes.request_password_reset(\n",
    "        domo_instance=domo_instance,\n",
    "        email=email,\n",
    "        locale=locale,\n",
    "        debug_api=debug_api,\n",
    "        session=session,\n",
    "    )"
   ]
  },
  {
   "cell_type": "code",
   "execution_count": null,
   "metadata": {},
   "outputs": [],
   "source": [
    "#| exporti\n",
    "@patch_to(DomoUser)\n",
    "async def set_user_landing_page(\n",
    "    self: DomoUser,\n",
    "    page_id: str,\n",
    "    user_id: str = None,\n",
    "    auth: dmda.DomoAuth = None,\n",
    "    debug_api: bool = False,\n",
    "):\n",
    "\n",
    "    res = await user_routes.set_user_landing_page(\n",
    "        auth=auth or self.auth,\n",
    "        page_id=page_id,\n",
    "        user_id=self.id or user_id,\n",
    "        debug_api=debug_api,\n",
    "    )\n",
    "\n",
    "    if res.status != 200:\n",
    "        return False\n",
    "\n",
    "    return True"
   ]
  },
  {
   "cell_type": "code",
   "execution_count": null,
   "metadata": {},
   "outputs": [],
   "source": [
    "#| exporti\n",
    "@patch_to(DomoUser)\n",
    "async def update_properties(\n",
    "    self: DomoUser,\n",
    "    property_ls: [UserProperty],\n",
    "    return_raw: bool = False,\n",
    "    auth: dmda.DomoAuth = None,\n",
    "    debug_api: bool = False,\n",
    "    session : httpx.AsyncClient = None\n",
    "):\n",
    "    auth = auth or self.auth\n",
    "\n",
    "    res = await user_routes.update_user(\n",
    "        auth=auth,\n",
    "        user_id=self.id,\n",
    "        user_property_ls = property_ls,\n",
    "        debug_api=debug_api,\n",
    "        session = session\n",
    "    )\n",
    "    if return_raw:\n",
    "        return res\n",
    "\n",
    "    self = await DomoUser.get_by_id(user_id = self.id, auth = auth)\n",
    "\n",
    "    return self"
   ]
  },
  {
   "attachments": {},
   "cell_type": "markdown",
   "metadata": {},
   "source": [
    "#### sample update_properties"
   ]
  },
  {
   "cell_type": "code",
   "execution_count": null,
   "metadata": {},
   "outputs": [
    {
     "data": {
      "text/plain": [
       "DomoUser(id='663516735', title=None, department=None, display_name='test - updated via dl 2023-09-25', email_address='test4@test.com', role_id=1662852841, avatar_key=None, phone_number=None, web_landing_page=None, web_mobile_landing_page=None, employee_id=None, employee_number=None, hire_date=None, reports_to=None, publisher_domain=None, subscriber_domain=None, virtual_user_id=None, custom_attributes={})"
      ]
     },
     "execution_count": null,
     "metadata": {},
     "output_type": "execute_result"
    }
   ],
   "source": [
    "import os\n",
    "\n",
    "token_auth = dmda.DomoTokenAuth(\n",
    "    domo_instance=\"domo-community\", domo_access_token=os.environ[\"DOMO_DOJO_ACCESS_TOKEN\"]\n",
    ")\n",
    "\n",
    "domo_user = await DomoUser.get_by_id(user_id =os.environ[\"DOMO_DOJO_USER_ID\"], auth = token_auth)\n",
    "\n",
    "property_ls = [\n",
    "    UserProperty(UserProperty_Type.display_name, \"test 3\"),\n",
    "    UserProperty(UserProperty_Type.email_address, \"test3@test.com\"),\n",
    "    UserProperty(UserProperty_Type.role_id, 810756122),\n",
    "]\n",
    "\n",
    "    \n",
    "await domo_user.update_properties(property_ls=property_ls)\n"
   ]
  },
  {
   "attachments": {},
   "cell_type": "markdown",
   "metadata": {},
   "source": [
    "# MAIN -- DomoUsers\n",
    "\n",
    "> a class for searching Domo Users\n"
   ]
  },
  {
   "cell_type": "code",
   "execution_count": null,
   "metadata": {},
   "outputs": [],
   "source": [
    "# | export\n",
    "\n",
    "\n",
    "@dataclass\n",
    "class DomoUsers:\n",
    "    \"\"\"a class for searching for Users\"\"\"\n",
    "\n",
    "    logger: Optional[lc.Logger] = None\n",
    "\n",
    "    @classmethod\n",
    "    def _users_to_domo_user(cls, user_ls, auth: dmda.DomoAuth):\n",
    "        return [\n",
    "            DomoUser._from_search_json(auth=auth, user_obj=user_obj)\n",
    "            for user_obj in user_ls\n",
    "        ]\n",
    "\n",
    "    @classmethod\n",
    "    def _users_to_virtual_user(cls, user_ls, auth: dmda.DomoAuth):\n",
    "        return [\n",
    "            DomoUser._from_virtual_json(auth=auth, user_obj=user_obj)\n",
    "            for user_obj in user_ls\n",
    "        ]\n",
    "\n",
    "    def _generate_logger(self, logger: Optional[lc.Logger] = None):\n",
    "        self.logger = logger or self.logger or lc.Logger(app_name = \"domo_users\")"
   ]
  },
  {
   "attachments": {},
   "cell_type": "markdown",
   "metadata": {},
   "source": [
    "## Search and GET Users"
   ]
  },
  {
   "cell_type": "code",
   "execution_count": null,
   "metadata": {},
   "outputs": [],
   "source": [
    "# | exporti\n",
    "@patch_to(DomoUsers, cls_method=True)\n",
    "async def all_users(\n",
    "    cls: DomoUsers,\n",
    "    auth: dmda.DomoAuth,\n",
    "    return_raw: bool = False,\n",
    "    debug_api: bool = False,\n",
    "    debug_prn: bool = False,\n",
    "    debug_log: bool = False,\n",
    "    logger: Optional[lc.Logger] = None,\n",
    ") -> [DomoUser]:\n",
    "    \"\"\"retrieves all users from Domo\"\"\"\n",
    "\n",
    "    logger = logger or lc.Logger(app_name=\"all_users\")\n",
    "\n",
    "    res = await user_routes.get_all_users(auth=auth, debug_api=debug_api)\n",
    "\n",
    "    if return_raw:\n",
    "        return res\n",
    "\n",
    "    if not res.is_success:\n",
    "        return None\n",
    "\n",
    "    users_ls = res.response\n",
    "\n",
    "    message = f\"{len(users_ls)} users retrieved from {auth.domo_instance}\"\n",
    "\n",
    "    if debug_prn:\n",
    "        print(message)\n",
    "    logger.log_info(message=message, debug_log=debug_log)\n",
    "\n",
    "    return cls._users_to_domo_user(user_ls=users_ls, auth=auth)\n"
   ]
  },
  {
   "attachments": {},
   "cell_type": "markdown",
   "metadata": {},
   "source": [
    "#### sample implementation of get all_users\n"
   ]
  },
  {
   "cell_type": "code",
   "execution_count": null,
   "metadata": {},
   "outputs": [
    {
     "name": "stdout",
     "output_type": "stream",
     "text": [
      "adjusting num_stacks_to_drop, consider revising `get_traceback` call\n",
      "{18, 12, 5}\n"
     ]
    },
    {
     "data": {
      "text/html": [
       "<div>\n",
       "<style scoped>\n",
       "    .dataframe tbody tr th:only-of-type {\n",
       "        vertical-align: middle;\n",
       "    }\n",
       "\n",
       "    .dataframe tbody tr th {\n",
       "        vertical-align: top;\n",
       "    }\n",
       "\n",
       "    .dataframe thead th {\n",
       "        text-align: right;\n",
       "    }\n",
       "</style>\n",
       "<table border=\"1\" class=\"dataframe\">\n",
       "  <thead>\n",
       "    <tr style=\"text-align: right;\">\n",
       "      <th></th>\n",
       "      <th>id</th>\n",
       "      <th>title</th>\n",
       "      <th>department</th>\n",
       "      <th>display_name</th>\n",
       "      <th>email_address</th>\n",
       "      <th>role_id</th>\n",
       "      <th>avatar_key</th>\n",
       "      <th>phone_number</th>\n",
       "      <th>web_landing_page</th>\n",
       "      <th>web_mobile_landing_page</th>\n",
       "      <th>employee_id</th>\n",
       "      <th>employee_number</th>\n",
       "      <th>hire_date</th>\n",
       "      <th>reports_to</th>\n",
       "      <th>publisher_domain</th>\n",
       "      <th>subscriber_domain</th>\n",
       "      <th>virtual_user_id</th>\n",
       "      <th>custom_attributes</th>\n",
       "      <th>auth</th>\n",
       "    </tr>\n",
       "  </thead>\n",
       "  <tbody>\n",
       "    <tr>\n",
       "      <th>0</th>\n",
       "      <td>None</td>\n",
       "      <td>None</td>\n",
       "      <td>None</td>\n",
       "      <td>monitor</td>\n",
       "      <td>monitor@domo.com</td>\n",
       "      <td>1</td>\n",
       "      <td>None</td>\n",
       "      <td>None</td>\n",
       "      <td>None</td>\n",
       "      <td>None</td>\n",
       "      <td>None</td>\n",
       "      <td>None</td>\n",
       "      <td>None</td>\n",
       "      <td>None</td>\n",
       "      <td>None</td>\n",
       "      <td>None</td>\n",
       "      <td>None</td>\n",
       "      <td>{}</td>\n",
       "      <td>{'domo_instance': 'domo-community', 'domo_acce...</td>\n",
       "    </tr>\n",
       "    <tr>\n",
       "      <th>1</th>\n",
       "      <td>1003855998</td>\n",
       "      <td>None</td>\n",
       "      <td>None</td>\n",
       "      <td>Christine Hsieh</td>\n",
       "      <td>christine.hsieh@hellofresh.com</td>\n",
       "      <td>2</td>\n",
       "      <td>None</td>\n",
       "      <td>None</td>\n",
       "      <td>None</td>\n",
       "      <td>None</td>\n",
       "      <td>None</td>\n",
       "      <td>None</td>\n",
       "      <td>None</td>\n",
       "      <td>None</td>\n",
       "      <td>None</td>\n",
       "      <td>None</td>\n",
       "      <td>None</td>\n",
       "      <td>{}</td>\n",
       "      <td>{'domo_instance': 'domo-community', 'domo_acce...</td>\n",
       "    </tr>\n",
       "    <tr>\n",
       "      <th>2</th>\n",
       "      <td>1006847540</td>\n",
       "      <td>Executive Analytics</td>\n",
       "      <td>Domo Client Services</td>\n",
       "      <td>Marc-Anton Clavel</td>\n",
       "      <td>marcanton.clavel@domo.com</td>\n",
       "      <td>2</td>\n",
       "      <td>None</td>\n",
       "      <td>None</td>\n",
       "      <td>None</td>\n",
       "      <td>None</td>\n",
       "      <td>None</td>\n",
       "      <td>None</td>\n",
       "      <td>None</td>\n",
       "      <td>None</td>\n",
       "      <td>None</td>\n",
       "      <td>None</td>\n",
       "      <td>None</td>\n",
       "      <td>{}</td>\n",
       "      <td>{'domo_instance': 'domo-community', 'domo_acce...</td>\n",
       "    </tr>\n",
       "  </tbody>\n",
       "</table>\n",
       "</div>"
      ],
      "text/plain": [
       "           id                title            department       display_name  \\\n",
       "0        None                 None                  None            monitor   \n",
       "1  1003855998                 None                  None    Christine Hsieh   \n",
       "2  1006847540  Executive Analytics  Domo Client Services  Marc-Anton Clavel   \n",
       "\n",
       "                    email_address  role_id avatar_key phone_number  \\\n",
       "0                monitor@domo.com        1       None         None   \n",
       "1  christine.hsieh@hellofresh.com        2       None         None   \n",
       "2       marcanton.clavel@domo.com        2       None         None   \n",
       "\n",
       "  web_landing_page web_mobile_landing_page employee_id employee_number  \\\n",
       "0             None                    None        None            None   \n",
       "1             None                    None        None            None   \n",
       "2             None                    None        None            None   \n",
       "\n",
       "  hire_date reports_to publisher_domain subscriber_domain virtual_user_id  \\\n",
       "0      None       None             None              None            None   \n",
       "1      None       None             None              None            None   \n",
       "2      None       None             None              None            None   \n",
       "\n",
       "  custom_attributes                                               auth  \n",
       "0                {}  {'domo_instance': 'domo-community', 'domo_acce...  \n",
       "1                {}  {'domo_instance': 'domo-community', 'domo_acce...  \n",
       "2                {}  {'domo_instance': 'domo-community', 'domo_acce...  "
      ]
     },
     "execution_count": null,
     "metadata": {},
     "output_type": "execute_result"
    }
   ],
   "source": [
    "import os\n",
    "import pandas as pd\n",
    "\n",
    "token_auth = dmda.DomoTokenAuth(\n",
    "    domo_instance=\"domo-community\", domo_access_token=os.environ[\"DOMO_DOJO_ACCESS_TOKEN\"]\n",
    ")\n",
    "\n",
    "domo_users = await DomoUsers.all_users(\n",
    "    auth=token_auth, debug_api=False, debug_prn=False, return_raw = False)\n",
    "\n",
    "# [ user for user in domo_users.response if user.get('id') ==1006847540]\n",
    "        \n",
    "pd.DataFrame(domo_users[0:3])\n"
   ]
  },
  {
   "cell_type": "code",
   "execution_count": null,
   "metadata": {},
   "outputs": [],
   "source": [
    "# | exporti\n",
    "@patch_to(DomoUsers, cls_method=True)\n",
    "async def by_id(\n",
    "    cls: DomoUsers,\n",
    "    user_ids: list[str],  # can search for one or multiple users\n",
    "    auth: dmda.DomoAuth,\n",
    "    only_allow_one: bool = True,\n",
    "    debug_api: bool = False,\n",
    "    return_raw: bool = False\n",
    ") -> list:\n",
    "\n",
    "    body = user_routes.generate_search_users_body_by_id(user_ids)\n",
    "\n",
    "    try:\n",
    "        res = await user_routes.search_users(\n",
    "            return_raw=False,\n",
    "            body=body,\n",
    "            debug_api=debug_api,\n",
    "            auth=auth,\n",
    "        )\n",
    "\n",
    "    except SearchUser_NoResults as e:\n",
    "        print(e)\n",
    "        return None\n",
    "\n",
    "    if return_raw:\n",
    "        return res\n",
    "\n",
    "    domo_users = cls._users_to_domo_user(user_ls=res.response, auth=auth)\n",
    "\n",
    "    if only_allow_one:\n",
    "        return domo_users[0]\n",
    "\n",
    "    return domo_users"
   ]
  },
  {
   "attachments": {},
   "cell_type": "markdown",
   "metadata": {},
   "source": [
    "#### sample implementation of searching users by_id\n"
   ]
  },
  {
   "cell_type": "code",
   "execution_count": null,
   "metadata": {},
   "outputs": [
    {
     "data": {
      "text/plain": [
       "[DomoUser(id='1012895591', title=None, department=None, display_name='JeMiller', email_address='JeMiller@marketaxess.com', role_id=2097317660, avatar_key=None, phone_number=None, web_landing_page=None, web_mobile_landing_page=None, employee_id=None, employee_number=None, hire_date=None, reports_to=None, publisher_domain=None, subscriber_domain=None, virtual_user_id=None, custom_attributes={}),\n",
       " DomoUser(id='1006847540', title=None, department=None, display_name='Marc-Anton Clavel', email_address='marcanton.clavel@domo.com', role_id=2, avatar_key=None, phone_number=None, web_landing_page=None, web_mobile_landing_page=None, employee_id=None, employee_number=None, hire_date=None, reports_to=None, publisher_domain=None, subscriber_domain=None, virtual_user_id=None, custom_attributes={})]"
      ]
     },
     "execution_count": null,
     "metadata": {},
     "output_type": "execute_result"
    }
   ],
   "source": [
    "import os\n",
    "import pandas as pd\n",
    "\n",
    "token_auth = dmda.DomoTokenAuth(\n",
    "    domo_instance=\"domo-community\", domo_access_token=os.environ[\"DOMO_DOJO_ACCESS_TOKEN\"]\n",
    ")\n",
    "\n",
    "\n",
    "await DomoUsers.by_id(\n",
    "    auth=token_auth,\n",
    "    user_ids=[\"1006847540\", \"1012895591\"],\n",
    "    only_allow_one=False,\n",
    "    return_raw=False,\n",
    ")\n"
   ]
  },
  {
   "cell_type": "code",
   "execution_count": null,
   "metadata": {},
   "outputs": [],
   "source": [
    "# | exporti\n",
    "\n",
    "@patch_to(DomoUsers, cls_method=True)\n",
    "def util_match_domo_users_to_emails(\n",
    "    cls: DomoUsers, domo_users: list[DomoUser], user_email_ls: list[str]\n",
    ") -> list:\n",
    "    \"\"\"pass in an array of user emails to match against an array of Domo User\"\"\"\n",
    "\n",
    "    matches = []\n",
    "    for idx, email in enumerate(user_email_ls):\n",
    "        match_user = next(\n",
    "            (\n",
    "                domo_user\n",
    "                for domo_user in domo_users\n",
    "                if email.lower() == domo_user.email_address.lower()\n",
    "            ),\n",
    "            None,\n",
    "        )\n",
    "        if match_user:\n",
    "            matches.append(match_user)\n",
    "    return matches\n",
    "\n",
    "\n",
    "@patch_to(DomoUsers, cls_method=True)\n",
    "def util_match_users_obj_to_emails(\n",
    "    cls: DomoUsers, user_ls: list[dict], user_email_ls: list[str]\n",
    ") -> list:\n",
    "    \"\"\"pass in an array of user emails to match against an array of Domo User\"\"\"\n",
    "\n",
    "    matches = []\n",
    "    for idx, email in enumerate(user_email_ls):\n",
    "        match_user = next(\n",
    "            (\n",
    "                user_obj\n",
    "                for user_obj in user_ls\n",
    "                if email.lower() == user_obj.get(\"emailAddress\").lower()\n",
    "            ),\n",
    "            None,\n",
    "        )\n",
    "        if match_user:\n",
    "            matches.append(match_user)\n",
    "    return matches\n",
    "\n",
    "\n",
    "@patch_to(DomoUsers, cls_method=True)\n",
    "async def by_email(\n",
    "    cls: DomoUsers,\n",
    "    email_ls: list[str],\n",
    "    auth: dmda.DomoAuth,\n",
    "    only_allow_one: bool = True,\n",
    "    debug_api: bool = False,\n",
    "    debug_prn: bool = False,\n",
    "    return_raw: bool = False,\n",
    ") -> list:\n",
    "\n",
    "    body = user_routes.generate_search_users_body_by_email(\n",
    "        user_email_ls=email_ls)\n",
    "\n",
    "    if debug_prn:\n",
    "        pprint(body)\n",
    "\n",
    "    res = await user_routes.search_users(\n",
    "        body=body, auth=auth, return_raw=False, debug_api=debug_api\n",
    "    )\n",
    "\n",
    "    if return_raw:\n",
    "        if only_allow_one:\n",
    "            res.response = cls.util_match_users_obj_to_emails(\n",
    "                res.response, email_ls\n",
    "            )[0]\n",
    "        return res\n",
    "\n",
    "    domo_users = cls._users_to_domo_user(res.response, auth=auth)\n",
    "\n",
    "    if only_allow_one:\n",
    "        return cls.util_match_domo_users_to_emails(domo_users, email_ls)[0]\n",
    "\n",
    "    return domo_users\n"
   ]
  },
  {
   "attachments": {},
   "cell_type": "markdown",
   "metadata": {},
   "source": [
    "#### sample implementation of searching for a user by email\n"
   ]
  },
  {
   "cell_type": "code",
   "execution_count": null,
   "metadata": {},
   "outputs": [
    {
     "name": "stdout",
     "output_type": "stream",
     "text": [
      "ResponseGetData(status=200,\n",
      "                response={'displayName': 'Jae Wilson1',\n",
      "                          'emailAddress': 'jae@onyxreporting.com',\n",
      "                          'id': 1893952720,\n",
      "                          'roleId': 810756122,\n",
      "                          'userName': 'jae@onyxreporting.com'},\n",
      "                is_success=True,\n",
      "                parent_class=None,\n",
      "                traceback_details=TracebackDetails(function_name='by_email',\n",
      "                                                   file_name='/tmp/ipykernel_6390/3612832483.py',\n",
      "                                                   function_trail='<module> -> '\n",
      "                                                                  'by_email',\n",
      "                                                   traceback_stack=[<FrameSummary file /tmp/ipykernel_6390/1413426356.py, line 9 in <module>>,\n",
      "                                                                    <FrameSummary file /tmp/ipykernel_6390/3612832483.py, line 62 in by_email>],\n",
      "                                                   parent_class=None))\n"
     ]
    }
   ],
   "source": [
    "import os\n",
    "import pandas as pd\n",
    "\n",
    "token_auth = dmda.DomoTokenAuth(\n",
    "    domo_instance=\"domo-community\", domo_access_token=os.environ[\"DOMO_DOJO_ACCESS_TOKEN\"]\n",
    ")\n",
    "\n",
    "try:\n",
    "    res = await DomoUsers.by_email(\n",
    "        auth=token_auth,\n",
    "        email_ls=[\"jae@onyxreporting.com\"],\n",
    "        only_allow_one=True,\n",
    "        return_raw=True,\n",
    "        debug_api=False,\n",
    "        debug_prn=False,\n",
    "    )\n",
    "\n",
    "    pprint(res)\n",
    "    \n",
    "except SearchUser_NoResults as e:\n",
    "    print(e)\n",
    "\n"
   ]
  },
  {
   "cell_type": "code",
   "execution_count": null,
   "metadata": {},
   "outputs": [],
   "source": [
    "# | exporti\n",
    "@patch_to(DomoUsers, cls_method=True)\n",
    "async def virtual_user_by_subscriber_instance(\n",
    "    cls: DomoUsers,\n",
    "    subscriber_instance_ls: str,\n",
    "    auth: dmda.DomoAuth,\n",
    "    debug_api: bool = False,\n",
    "    return_raw: bool = False,\n",
    "):\n",
    "    res = await user_routes.search_virtual_user_by_subscriber_instance(\n",
    "        auth=auth,\n",
    "        subscriber_instance_ls=subscriber_instance_ls,\n",
    "        debug_api=debug_api,\n",
    "    )\n",
    "\n",
    "    if return_raw:\n",
    "        return res\n",
    "\n",
    "    if not res.is_success:\n",
    "        return None\n",
    "\n",
    "    user_ls = res.response\n",
    "\n",
    "    domo_users = cls._users_to_virtual_user(user_ls, auth=auth)\n",
    "    return domo_users[0]\n"
   ]
  },
  {
   "attachments": {},
   "cell_type": "markdown",
   "metadata": {},
   "source": [
    "#### sample implementation of retrieving virtual users for a subscriber instance\n"
   ]
  },
  {
   "cell_type": "code",
   "execution_count": null,
   "metadata": {},
   "outputs": [
    {
     "name": "stdout",
     "output_type": "stream",
     "text": [
      "DomoUser(id='44a56146-f422-4175-9c3b-a194f339f9b6', title=None, department=None, display_name=None, email_address=None, role_id=None, avatar_key=None, phone_number=None, web_landing_page=None, web_mobile_landing_page=None, employee_id=None, employee_number=None, hire_date=None, reports_to=None, publisher_domain='domo-community.domo.com', subscriber_domain='domo-community.domo.com', virtual_user_id='fc:f230ba95-bc49-4875-a0db-3c7cd58ed3cc', custom_attributes={})\n"
     ]
    }
   ],
   "source": [
    "import os\n",
    "import pandas as pd\n",
    "\n",
    "token_auth = dmda.DomoTokenAuth(\n",
    "    domo_instance=\"domo-community\", domo_access_token=os.environ[\"DOMO_DOJO_ACCESS_TOKEN\"]\n",
    ")\n",
    "\n",
    "\n",
    "res = await DomoUsers.virtual_user_by_subscriber_instance(\n",
    "    auth=token_auth,\n",
    "    subscriber_instance_ls=[\"domo-community\", \"test\"],\n",
    "    # return_raw=True,\n",
    "    debug_api=False,\n",
    ")\n",
    "print(res)\n"
   ]
  },
  {
   "attachments": {},
   "cell_type": "markdown",
   "metadata": {},
   "source": [
    "## CRUD Users"
   ]
  },
  {
   "cell_type": "code",
   "execution_count": null,
   "metadata": {},
   "outputs": [],
   "source": [
    "#| export\n",
    "class CreateUser_MissingRole(de.DomoError):\n",
    "    def __init__(self, domo_instance, email_address):\n",
    "        super().__init__(domo_instance= domo_instance, message = f\"error creating user {email_address} missing role_id\")"
   ]
  },
  {
   "cell_type": "code",
   "execution_count": null,
   "metadata": {},
   "outputs": [],
   "source": [
    "# | exporti\n",
    "\n",
    "@patch_to(DomoUsers, cls_method=True)\n",
    "async def create_user(\n",
    "    cls: DomoUsers,\n",
    "    auth: dmda.DomoAuth,\n",
    "    display_name,\n",
    "    email_address,\n",
    "    role_id,\n",
    "    password: str = None,\n",
    "    send_password_reset_email: bool = False,\n",
    "    debug_api: bool = False,\n",
    "    session : httpx.AsyncClient = None\n",
    "):\n",
    "    \"\"\"class method that creates a new Domo user\"\"\"\n",
    "\n",
    "    res = await user_routes.create_user(\n",
    "        auth=auth,\n",
    "        display_name=display_name,\n",
    "        email_address=email_address,\n",
    "        role_id=role_id,\n",
    "        debug_api=debug_api,\n",
    "        session = session\n",
    "    )\n",
    "\n",
    "    if not res.is_success:\n",
    "        raise Exception(res.response)\n",
    "\n",
    "    u = await DomoUser.get_by_id(\n",
    "        auth=auth,\n",
    "        user_id=res.response.get('id') or res.response.get('userId'),\n",
    "    )\n",
    "\n",
    "    if password:\n",
    "        await u.reset_password(new_password=password)\n",
    "\n",
    "    elif send_password_reset_email:\n",
    "        await u.request_password_reset(\n",
    "            domo_instance=auth.domo_instance, email=u.email_address\n",
    "        )\n",
    "\n",
    "    return u\n"
   ]
  },
  {
   "cell_type": "code",
   "execution_count": null,
   "metadata": {},
   "outputs": [
    {
     "name": "stdout",
     "output_type": "stream",
     "text": [
      "Bad Request\n"
     ]
    }
   ],
   "source": [
    "import os\n",
    "import pandas as pd\n",
    "\n",
    "token_auth = dmda.DomoTokenAuth(\n",
    "    domo_instance=\"domo-community\", domo_access_token=os.environ[\"DOMO_DOJO_ACCESS_TOKEN\"]\n",
    ")\n",
    "try:\n",
    "    await DomoUsers.create_user(auth=token_auth, display_name='test_and_delete', email_address='test26@test.com', role_id=5)\n",
    "except Exception as e:\n",
    "    print(e)"
   ]
  },
  {
   "cell_type": "code",
   "execution_count": null,
   "metadata": {},
   "outputs": [],
   "source": [
    "# |exporti\n",
    "@patch_to(DomoUsers, cls_method=True)\n",
    "async def upsert_user(cls: DomoUsers,\n",
    "                      auth: dmda.DomoAuth,\n",
    "                      email_address: str,\n",
    "                      display_name: str = None,\n",
    "                      role_id: str = None,\n",
    "                      debug_api: bool = False,\n",
    "                      debug_prn: bool = False,\n",
    "                      session: httpx.AsyncClient = None\n",
    "                      ):\n",
    "\n",
    "    try:\n",
    "        domo_user = await cls.by_email(\n",
    "            email_ls=[email_address],\n",
    "            auth=auth,\n",
    "            only_allow_one=True,\n",
    "            debug_api=debug_api,\n",
    "        )\n",
    "\n",
    "        if domo_user:\n",
    "            user_property_ls = []\n",
    "            if display_name:\n",
    "                user_property_ls.append(user_routes.UserProperty(\n",
    "                    user_routes.UserProperty_Type.display_name, display_name))\n",
    "\n",
    "            if role_id:\n",
    "                user_property_ls.append(user_routes.UserProperty(\n",
    "                    user_routes.UserProperty_Type.role_id, role_id))\n",
    "            \n",
    "            if user_property_ls:\n",
    "                res = await user_routes.update_user(\n",
    "                    user_id=domo_user.id,\n",
    "                    user_property_ls=user_property_ls,\n",
    "                    auth=auth,\n",
    "                    debug_api=debug_api\n",
    "                )\n",
    "        return await DomoUser.get_by_id( auth=auth, user_id=domo_user.id)\n",
    "        \n",
    "        \n",
    "\n",
    "    except SearchUser_NoResults as e:\n",
    "        if debug_prn:\n",
    "            print(\n",
    "                f'No user match -- creating new user in {auth.domo_instance}')\n",
    "\n",
    "        if not role_id:\n",
    "            raise CreateUser_MissingRole(\n",
    "                domo_instance=auth.domo_instance, email_address=email_address) from e\n",
    "\n",
    "        return await cls.create_user(auth=auth,\n",
    "                                     display_name=display_name or f\"{email_address} - via dl {dt.date.today()}\",\n",
    "                                     email_address=email_address,\n",
    "                                     role_id=role_id,\n",
    "                                     debug_api=debug_api, \n",
    "                                     session=session)\n",
    "\n",
    "    # finally:\n",
    "    #     if grant_ls:\n",
    "    #         grant_ls = domo_role._valid_grant_ls(grant_ls)\n",
    "    #         await domo_role.set_grants(grant_ls=grant_ls)\n"
   ]
  },
  {
   "cell_type": "code",
   "execution_count": null,
   "metadata": {},
   "outputs": [
    {
     "data": {
      "text/plain": [
       "DomoUser(id='663516735', title=None, department=None, display_name='test - updated via dl 2023-09-25', email_address='test4@test.com', role_id=3, avatar_key=None, phone_number=None, web_landing_page=None, web_mobile_landing_page=None, employee_id=None, employee_number=None, hire_date=None, reports_to=None, publisher_domain=None, subscriber_domain=None, virtual_user_id=None, custom_attributes={})"
      ]
     },
     "execution_count": null,
     "metadata": {},
     "output_type": "execute_result"
    }
   ],
   "source": [
    "import os\n",
    "import pandas as pd\n",
    "import datetime as dt\n",
    "\n",
    "token_auth = dmda.DomoTokenAuth(\n",
    "    domo_instance=\"domo-community\", domo_access_token=os.environ[\"DOMO_DOJO_ACCESS_TOKEN\"]\n",
    ")\n",
    "\n",
    "await DomoUsers.upsert_user(email_address='test4@test.com',\n",
    "                            display_name= f'test - updated via dl {dt.date.today()}',\n",
    "                            role_id = 3,\n",
    "                            auth=token_auth, debug_prn=True, debug_api = False)\n"
   ]
  },
  {
   "cell_type": "code",
   "execution_count": null,
   "metadata": {},
   "outputs": [],
   "source": [
    "# | hide\n",
    "import nbdev\n",
    "\n",
    "nbdev.nbdev_export()"
   ]
  }
 ],
 "metadata": {
  "jupytext": {
   "split_at_heading": true
  },
  "kernelspec": {
   "display_name": "python3",
   "language": "python",
   "name": "python3"
  }
 },
 "nbformat": 4,
 "nbformat_minor": 4
}
