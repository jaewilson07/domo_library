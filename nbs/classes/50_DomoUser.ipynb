{
 "cells": [
  {
   "cell_type": "raw",
   "metadata": {},
   "source": [
    "---\n",
    "output-file: user_class.html\n",
    "title : User\n",
    "description : a class-based approach to interacting with Users\n",
    "---"
   ]
  },
  {
   "cell_type": "code",
   "execution_count": null,
   "metadata": {},
   "outputs": [],
   "source": [
    "# | default_exp classes.DomoUser"
   ]
  },
  {
   "cell_type": "code",
   "execution_count": null,
   "metadata": {},
   "outputs": [],
   "source": [
    "# | export\n",
    "from domolibrary.routes.user import (\n",
    "    UserProperty,\n",
    "    UserProperty_Type,\n",
    "    GetUser_Error,\n",
    "    SearchUser_NoResults,\n",
    "    User_CrudError,\n",
    "    ResetPassword_PasswordUsed,\n",
    "    DownloadAvatar_Error,\n",
    ")"
   ]
  },
  {
   "cell_type": "code",
   "execution_count": null,
   "metadata": {},
   "outputs": [],
   "source": [
    "# | exporti\n",
    "\n",
    "import datetime as dt\n",
    "from dataclasses import dataclass, field\n",
    "from typing import Optional\n",
    "import httpx\n",
    "\n",
    "from nbdev.showdoc import patch_to\n",
    "\n",
    "from pprint import pprint\n",
    "\n",
    "import domolibrary.utils.DictDot as util_dd\n",
    "from domolibrary.utils.convert import test_valid_email\n",
    "\n",
    "import domolibrary.client.DomoAuth as dmda\n",
    "import domolibrary.client.Logger as lc\n",
    "import domolibrary.client.DomoError as de\n",
    "import domolibrary.routes.user as user_routes"
   ]
  },
  {
   "cell_type": "code",
   "execution_count": null,
   "metadata": {},
   "outputs": [],
   "source": [
    "# | hide\n",
    "import os\n",
    "import pandas as pd\n",
    "import datetime as dt\n",
    "\n",
    "import domolibrary.routes.bootstrap as bootstrap_routes\n",
    "\n",
    "from pprint import pprint\n",
    "\n",
    "\n",
    "from nbdev.showdoc import show_doc"
   ]
  },
  {
   "cell_type": "code",
   "execution_count": null,
   "metadata": {},
   "outputs": [],
   "source": [
    "# | hide\n",
    "from PIL import Image\n",
    "from IPython.display import display\n",
    "import io"
   ]
  },
  {
   "cell_type": "markdown",
   "metadata": {},
   "source": [
    "# Class Errors"
   ]
  },
  {
   "cell_type": "code",
   "execution_count": null,
   "metadata": {},
   "outputs": [],
   "source": [
    "# | export\n",
    "class CreateUser_MissingRole(de.DomoError):\n",
    "    def __init__(self, domo_instance, email_address):\n",
    "        super().__init__(\n",
    "            domo_instance=domo_instance,\n",
    "            message=f\"error creating user {email_address} missing role_id\",\n",
    "        )\n",
    "\n",
    "\n",
    "class DeleteUser_Error(de.DomoError):\n",
    "    def __init__(self, domo_instance, email_address):\n",
    "        super().__init__(\n",
    "            domo_instance=domo_instance,\n",
    "            message=f\"error deleting user {email_address}.\",\n",
    "        )\n",
    "\n",
    "\n",
    "class DownloadAvatar_NoAvatarKey(de.DomoError):\n",
    "    def __init__(\n",
    "        self,\n",
    "        domo_instance,\n",
    "        user_id,\n",
    "    ):\n",
    "        super().__init__(\n",
    "            domo_instance,\n",
    "            message=f\"This profile {user_id} doesn't have an avatar uploaded - unable to download\",\n",
    "        )"
   ]
  },
  {
   "attachments": {},
   "cell_type": "markdown",
   "metadata": {},
   "source": [
    "# MAIN -- Domo User\n"
   ]
  },
  {
   "cell_type": "code",
   "execution_count": null,
   "metadata": {},
   "outputs": [],
   "source": [
    "# | export\n",
    "@dataclass\n",
    "class DomoUser:\n",
    "    \"\"\"a class for interacting with a Domo User\"\"\"\n",
    "\n",
    "    id: str\n",
    "    display_name: str = None\n",
    "    email_address: str = None\n",
    "    role_id: str = None\n",
    "    department: str = None\n",
    "    title: str = None\n",
    "    avatar_key: str = None\n",
    "\n",
    "    phone_number: str = None\n",
    "    web_landing_page: str = None\n",
    "    web_mobile_landing_page: str = None\n",
    "    employee_id: str = None\n",
    "    employee_number: str = None\n",
    "    hire_date: str = None\n",
    "    reports_to: str = None\n",
    "\n",
    "    publisher_domain: str = None\n",
    "    subscriber_domain: str = None\n",
    "    virtual_user_id: str = None\n",
    "\n",
    "    custom_attributes: dict = field(default_factory=dict)\n",
    "\n",
    "    role: dict = None  # DomoRole\n",
    "\n",
    "    auth: Optional[dmda.DomoAuth] = field(repr=False, default=None)\n",
    "\n",
    "    def __post_init__(self):\n",
    "        self.id = str(self.id)\n",
    "\n",
    "    def __eq__(self, other):\n",
    "        if not isinstance(other, DomoUser):\n",
    "            return False\n",
    "\n",
    "        return self.id == other.id\n",
    "\n",
    "    @classmethod\n",
    "    def _from_search_json(cls, auth, user_obj):\n",
    "        user_dd = util_dd.DictDot(user_obj)\n",
    "\n",
    "        return cls(\n",
    "            auth=auth,\n",
    "            id=str(user_dd.id or user_dd.userId),\n",
    "            display_name=user_dd.displayName,\n",
    "            title=user_dd.title,\n",
    "            department=user_dd.department,\n",
    "            email_address=user_dd.emailAddress or user_dd.email,\n",
    "            role_id=user_dd.roleId,\n",
    "            avatar_key=user_dd.avatarKey,\n",
    "            phone_number=user_dd.phoneNumber,\n",
    "            web_landing_page=user_dd.webLandingPage,\n",
    "            web_mobile_landing_page=user_dd.webMobileLandingPage,\n",
    "            employee_id=user_dd.employeeId,\n",
    "            employee_number=user_dd.employeeNumber,\n",
    "            hire_date=user_dd.hireDate,\n",
    "            reports_to=user_dd.reportsTo,\n",
    "        )\n",
    "\n",
    "    @classmethod\n",
    "    def _from_virtual_json(cls, auth, user_obj):\n",
    "        user_dd = util_dd.DictDot(user_obj)\n",
    "\n",
    "        return cls(\n",
    "            id=user_dd.id,\n",
    "            auth=auth,\n",
    "            publisher_domain=user_dd.publisherDomain,\n",
    "            subscriber_domain=user_dd.subscriberDomain,\n",
    "            virtual_user_id=user_dd.virtualUserId,\n",
    "        )\n",
    "\n",
    "    @classmethod\n",
    "    def _from_bootstrap_json(cls, auth, user_obj):\n",
    "        dd = user_obj\n",
    "        if isinstance(user_obj, dict):\n",
    "            dd = util_dd.DictDot(user_obj)\n",
    "\n",
    "        return cls(id=dd.id, display_name=dd.displayName, auth=auth)"
   ]
  },
  {
   "cell_type": "code",
   "execution_count": null,
   "metadata": {},
   "outputs": [
    {
     "data": {
      "text/plain": [
       "DomoUser(id='1345408759', display_name='Alexis Lorenz (DataMaven)', email_address=None, role_id=None, department=None, title=None, avatar_key=None, phone_number=None, web_landing_page=None, web_mobile_landing_page=None, employee_id=None, employee_number=None, hire_date=None, reports_to=None, publisher_domain=None, subscriber_domain=None, virtual_user_id=None, custom_attributes={}, role=None)"
      ]
     },
     "execution_count": null,
     "metadata": {},
     "output_type": "execute_result"
    }
   ],
   "source": [
    "# | hide\n",
    "\n",
    "# import domolibrary.routes.bootstrap as bootstrap_routes\n",
    "\n",
    "\n",
    "auth = dmda.DomoFullAuth(\n",
    "    domo_instance=\"domo-community\",\n",
    "    domo_password=os.environ[\"DOJO_PASSWORD\"],\n",
    "    domo_username=os.environ[\"DOMO_USERNAME\"],\n",
    ")\n",
    "\n",
    "res = await bootstrap_routes.get_bootstrap_pages(auth=auth)\n",
    "\n",
    "page_obj = res.response[10]\n",
    "owners_ls = page_obj.get(\"owners\")\n",
    "\n",
    "DomoUser._from_bootstrap_json(auth=auth, user_obj=owners_ls[0])"
   ]
  },
  {
   "cell_type": "code",
   "execution_count": null,
   "metadata": {},
   "outputs": [],
   "source": [
    "# | exporti\n",
    "@patch_to(DomoUser)\n",
    "async def get_role(\n",
    "    self: DomoUser,\n",
    "    return_raw: bool = False,\n",
    "    debug_api: bool = False,\n",
    "    debug_num_stacks_to_drop=2,\n",
    "    session: httpx.AsyncClient = None,\n",
    "):\n",
    "    import domolibrary.classes.DomoRole as dmr\n",
    "\n",
    "    self.role = await dmr.DomoRole.get_by_id(\n",
    "        role_id=self.role_id,\n",
    "        auth=self.auth,\n",
    "        debug_api=debug_api,\n",
    "        debug_num_stacks_to_drop=debug_num_stacks_to_drop,\n",
    "        session=session,\n",
    "    )\n",
    "\n",
    "    return self.role"
   ]
  },
  {
   "cell_type": "code",
   "execution_count": null,
   "metadata": {},
   "outputs": [],
   "source": [
    "# | exporti\n",
    "@patch_to(DomoUser, cls_method=True)\n",
    "async def get_by_id(\n",
    "    cls: DomoUser,\n",
    "    user_id,\n",
    "    auth: dmda.DomoAuth,\n",
    "    return_raw: bool = False,\n",
    "    debug_api: bool = False,\n",
    "    debug_num_stacks_to_drop=2,\n",
    "    session: httpx.AsyncClient = None,\n",
    "):\n",
    "    \"\"\"\n",
    "    searches and returns a domo user\n",
    "    will throw an error if no user returned with an option to suppress_no_results_error\n",
    "    \"\"\"\n",
    "\n",
    "    res = await user_routes.get_by_id(\n",
    "        auth=auth,\n",
    "        user_id=user_id,\n",
    "        debug_api=debug_api,\n",
    "        debug_num_stacks_to_drop=debug_num_stacks_to_drop,\n",
    "        session=session,\n",
    "        parent_class=cls.__name__,\n",
    "    )\n",
    "\n",
    "    if return_raw:\n",
    "        return res\n",
    "\n",
    "    if not res.is_success:\n",
    "        return None\n",
    "\n",
    "    domo_user = cls._from_search_json(user_obj=res.response, auth=auth)\n",
    "\n",
    "    await domo_user.get_role()\n",
    "\n",
    "    return domo_user"
   ]
  },
  {
   "cell_type": "code",
   "execution_count": null,
   "metadata": {},
   "outputs": [
    {
     "data": {
      "text/markdown": [
       "---\n",
       "\n",
       "[source](https://github.com/jaewilson07/domo_library/blob/main/domolibrary/classes/DomoUser.py#L168){target=\"_blank\" style=\"float:right; font-size:smaller\"}\n",
       "\n",
       "### DomoUser.get_by_id\n",
       "\n",
       ">      DomoUser.get_by_id (user_id, auth:domolibrary.client.DomoAuth.DomoAuth,\n",
       ">                          return_raw:bool=False, debug_api:bool=False,\n",
       ">                          debug_num_stacks_to_drop=2,\n",
       ">                          session:httpx.AsyncClient=None)\n",
       "\n",
       "searches and returns a domo user\n",
       "will throw an error if no user returned with an option to suppress_no_results_error"
      ],
      "text/plain": [
       "---\n",
       "\n",
       "[source](https://github.com/jaewilson07/domo_library/blob/main/domolibrary/classes/DomoUser.py#L168){target=\"_blank\" style=\"float:right; font-size:smaller\"}\n",
       "\n",
       "### DomoUser.get_by_id\n",
       "\n",
       ">      DomoUser.get_by_id (user_id, auth:domolibrary.client.DomoAuth.DomoAuth,\n",
       ">                          return_raw:bool=False, debug_api:bool=False,\n",
       ">                          debug_num_stacks_to_drop=2,\n",
       ">                          session:httpx.AsyncClient=None)\n",
       "\n",
       "searches and returns a domo user\n",
       "will throw an error if no user returned with an option to suppress_no_results_error"
      ]
     },
     "execution_count": null,
     "metadata": {},
     "output_type": "execute_result"
    }
   ],
   "source": [
    "show_doc(DomoUser.get_by_id)"
   ]
  },
  {
   "cell_type": "markdown",
   "metadata": {},
   "source": [
    "#### sample implementation of get_by_id\n"
   ]
  },
  {
   "cell_type": "code",
   "execution_count": null,
   "metadata": {},
   "outputs": [
    {
     "name": "stdout",
     "output_type": "stream",
     "text": [
      "DomoUser(id='663516735',\n",
      "         display_name='test 3',\n",
      "         email_address='test33@test.com',\n",
      "         role_id=810756122,\n",
      "         department=None,\n",
      "         title=None,\n",
      "         avatar_key=None,\n",
      "         phone_number=None,\n",
      "         web_landing_page=None,\n",
      "         web_mobile_landing_page=None,\n",
      "         employee_id=None,\n",
      "         employee_number=None,\n",
      "         hire_date=None,\n",
      "         reports_to=None,\n",
      "         publisher_domain=None,\n",
      "         subscriber_domain=None,\n",
      "         virtual_user_id=None,\n",
      "         custom_attributes={},\n",
      "         role=DomoRole(id=810756122,\n",
      "                       name='super_admin',\n",
      "                       description='updated via domolibrary on 2024-02-15',\n",
      "                       is_system_role=0,\n",
      "                       is_default_role=None,\n",
      "                       grant_ls=[],\n",
      "                       membership_ls=[]))\n"
     ]
    }
   ],
   "source": [
    "token_auth = dmda.DomoTokenAuth(\n",
    "    domo_instance=\"domo-community\",\n",
    "    domo_access_token=os.environ[\"DOMO_DOJO_ACCESS_TOKEN\"],\n",
    ")\n",
    "user_id = os.environ[\"DOMO_DOJO_USER_ID\"]\n",
    "\n",
    "pprint(await DomoUser.get_by_id(user_id=user_id, auth=token_auth, return_raw=False))"
   ]
  },
  {
   "cell_type": "code",
   "execution_count": null,
   "metadata": {},
   "outputs": [],
   "source": [
    "# | exporti\n",
    "@patch_to(DomoUser)\n",
    "async def download_avatar(\n",
    "    self: DomoUser,\n",
    "    pixels: int = 300,\n",
    "    folder_path=\"./images\",\n",
    "    img_name=None,  # will default to user_id\n",
    "    auth: dmda.DomoAuth = None,\n",
    "    is_download_image: bool = True,  # option to prevent downloading the image file\n",
    "    debug_api: bool = False,\n",
    "    return_raw: bool = False,\n",
    "):\n",
    "    \"\"\"downloads a user's avatar to a folder\n",
    "    and returns the byte representation of the image\n",
    "    \"\"\"\n",
    "    auth = auth or self.auth\n",
    "\n",
    "    if not self.avatar_key:\n",
    "        raise DownloadAvatar_NoAvatarKey(\n",
    "            domo_instance=auth.domo_instance, user_id=self.id\n",
    "        )\n",
    "\n",
    "    res = await user_routes.download_avatar(\n",
    "        auth=self.auth,\n",
    "        user_id=self.id,\n",
    "        pixels=pixels,\n",
    "        folder_path=folder_path,\n",
    "        img_name=img_name,\n",
    "        is_download_image=is_download_image,\n",
    "        debug_api=debug_api,\n",
    "    )\n",
    "\n",
    "    if return_raw:\n",
    "        return res\n",
    "\n",
    "    return res.response"
   ]
  },
  {
   "cell_type": "code",
   "execution_count": null,
   "metadata": {},
   "outputs": [
    {
     "data": {
      "text/markdown": [
       "---\n",
       "\n",
       "[source](https://github.com/jaewilson07/domo_library/blob/main/domolibrary/classes/DomoUser.py#L205){target=\"_blank\" style=\"float:right; font-size:smaller\"}\n",
       "\n",
       "### DomoUser.download_avatar\n",
       "\n",
       ">      DomoUser.download_avatar (pixels:int=300, folder_path='./images',\n",
       ">                                img_name=None,\n",
       ">                                auth:domolibrary.client.DomoAuth.DomoAuth=None,\n",
       ">                                is_download_image:bool=True,\n",
       ">                                debug_api:bool=False, return_raw:bool=False)\n",
       "\n",
       "downloads a user's avatar to a folder\n",
       "and returns the byte representation of the image"
      ],
      "text/plain": [
       "---\n",
       "\n",
       "[source](https://github.com/jaewilson07/domo_library/blob/main/domolibrary/classes/DomoUser.py#L205){target=\"_blank\" style=\"float:right; font-size:smaller\"}\n",
       "\n",
       "### DomoUser.download_avatar\n",
       "\n",
       ">      DomoUser.download_avatar (pixels:int=300, folder_path='./images',\n",
       ">                                img_name=None,\n",
       ">                                auth:domolibrary.client.DomoAuth.DomoAuth=None,\n",
       ">                                is_download_image:bool=True,\n",
       ">                                debug_api:bool=False, return_raw:bool=False)\n",
       "\n",
       "downloads a user's avatar to a folder\n",
       "and returns the byte representation of the image"
      ]
     },
     "execution_count": null,
     "metadata": {},
     "output_type": "execute_result"
    }
   ],
   "source": [
    "show_doc(DomoUser.download_avatar)"
   ]
  },
  {
   "cell_type": "markdown",
   "metadata": {},
   "source": [
    "#### sample download_avatar\n"
   ]
  },
  {
   "cell_type": "code",
   "execution_count": null,
   "metadata": {},
   "outputs": [
    {
     "data": {
      "image/jpeg": "[encoded data removed]",
      "image/png": "[encoded data removed]",
      "text/plain": [
       "<PIL.PngImagePlugin.PngImageFile image mode=RGB size=300x300>"
      ]
     },
     "metadata": {},
     "output_type": "display_data"
    }
   ],
   "source": [
    "# from PIL import Image\n",
    "# from IPython.display import display\n",
    "# import io\n",
    "\n",
    "token_auth = dmda.DomoTokenAuth(\n",
    "    domo_instance=\"domo-community\",\n",
    "    domo_access_token=os.environ[\"DOMO_DOJO_ACCESS_TOKEN\"],\n",
    ")\n",
    "\n",
    "user_id = 1833256765\n",
    "\n",
    "domo_user = await DomoUser.get_by_id(user_id=user_id, auth=token_auth)\n",
    "\n",
    "image = await domo_user.download_avatar(\n",
    "    folder_path=\"../test/\", img_name=\"cls_sample.png\"\n",
    ")\n",
    "img = Image.open(io.BytesIO(image))\n",
    "display(img)"
   ]
  },
  {
   "cell_type": "code",
   "execution_count": null,
   "metadata": {},
   "outputs": [],
   "source": [
    "# | exporti\n",
    "@patch_to(DomoUser)\n",
    "async def reset_password(self: DomoUser, new_password: str, debug_api: bool = False):\n",
    "    \"\"\"reset your password, will respect password restrictions set up in the Domo UI\"\"\"\n",
    "\n",
    "    res = await user_routes.reset_password(\n",
    "        auth=self.auth, user_id=self.id, new_password=new_password, debug_api=debug_api\n",
    "    )\n",
    "\n",
    "    return res"
   ]
  },
  {
   "cell_type": "code",
   "execution_count": null,
   "metadata": {},
   "outputs": [
    {
     "data": {
      "text/markdown": [
       "---\n",
       "\n",
       "[source](https://github.com/jaewilson07/domo_library/blob/main/domolibrary/classes/DomoUser.py#L242){target=\"_blank\" style=\"float:right; font-size:smaller\"}\n",
       "\n",
       "### DomoUser.reset_password\n",
       "\n",
       ">      DomoUser.reset_password (new_password:str, debug_api:bool=False)\n",
       "\n",
       "reset your password, will respect password restrictions set up in the Domo UI"
      ],
      "text/plain": [
       "---\n",
       "\n",
       "[source](https://github.com/jaewilson07/domo_library/blob/main/domolibrary/classes/DomoUser.py#L242){target=\"_blank\" style=\"float:right; font-size:smaller\"}\n",
       "\n",
       "### DomoUser.reset_password\n",
       "\n",
       ">      DomoUser.reset_password (new_password:str, debug_api:bool=False)\n",
       "\n",
       "reset your password, will respect password restrictions set up in the Domo UI"
      ]
     },
     "execution_count": null,
     "metadata": {},
     "output_type": "execute_result"
    }
   ],
   "source": [
    "show_doc(DomoUser.reset_password)"
   ]
  },
  {
   "cell_type": "code",
   "execution_count": null,
   "metadata": {},
   "outputs": [],
   "source": [
    "# | exporti\n",
    "@patch_to(DomoUser, cls_method=True)\n",
    "async def request_password_reset(\n",
    "    cls,\n",
    "    domo_instance: str,\n",
    "    email: str,\n",
    "    locale: str = \"en-us\",\n",
    "    debug_api: bool = False,\n",
    "    session: httpx.AsyncClient = None,\n",
    "):\n",
    "    \"\"\"request password reset email.  Note: does not require authentication.\"\"\"\n",
    "\n",
    "    return await user_routes.request_password_reset(\n",
    "        domo_instance=domo_instance,\n",
    "        email=email,\n",
    "        locale=locale,\n",
    "        debug_api=debug_api,\n",
    "        session=session,\n",
    "    )"
   ]
  },
  {
   "cell_type": "code",
   "execution_count": null,
   "metadata": {},
   "outputs": [],
   "source": [
    "# | exporti\n",
    "@patch_to(DomoUser)\n",
    "async def set_user_landing_page(\n",
    "    self: DomoUser,\n",
    "    page_id: str,\n",
    "    user_id: str = None,\n",
    "    auth: dmda.DomoAuth = None,\n",
    "    debug_api: bool = False,\n",
    "):\n",
    "    res = await user_routes.set_user_landing_page(\n",
    "        auth=auth or self.auth,\n",
    "        page_id=page_id,\n",
    "        user_id=self.id or user_id,\n",
    "        debug_api=debug_api,\n",
    "    )\n",
    "\n",
    "    if res.status != 200:\n",
    "        return False\n",
    "\n",
    "    return True"
   ]
  },
  {
   "cell_type": "code",
   "execution_count": null,
   "metadata": {},
   "outputs": [
    {
     "data": {
      "text/markdown": [
       "---\n",
       "\n",
       "[source](https://github.com/jaewilson07/domo_library/blob/main/domolibrary/classes/DomoUser.py#L273){target=\"_blank\" style=\"float:right; font-size:smaller\"}\n",
       "\n",
       "### DomoUser.set_user_landing_page\n",
       "\n",
       ">      DomoUser.set_user_landing_page (page_id:str, user_id:str=None,\n",
       ">                                      auth:domolibrary.client.DomoAuth.DomoAuth\n",
       ">                                      =None, debug_api:bool=False)"
      ],
      "text/plain": [
       "---\n",
       "\n",
       "[source](https://github.com/jaewilson07/domo_library/blob/main/domolibrary/classes/DomoUser.py#L273){target=\"_blank\" style=\"float:right; font-size:smaller\"}\n",
       "\n",
       "### DomoUser.set_user_landing_page\n",
       "\n",
       ">      DomoUser.set_user_landing_page (page_id:str, user_id:str=None,\n",
       ">                                      auth:domolibrary.client.DomoAuth.DomoAuth\n",
       ">                                      =None, debug_api:bool=False)"
      ]
     },
     "execution_count": null,
     "metadata": {},
     "output_type": "execute_result"
    }
   ],
   "source": [
    "show_doc(DomoUser.set_user_landing_page)"
   ]
  },
  {
   "cell_type": "code",
   "execution_count": null,
   "metadata": {},
   "outputs": [],
   "source": [
    "# | exporti\n",
    "@patch_to(DomoUser)\n",
    "async def update_properties(\n",
    "    self: DomoUser,\n",
    "    property_ls: [\n",
    "        UserProperty\n",
    "    ],  # use the UserProperty class to define a list of user properties to update, see user route documentation to see a list of UserProperty_Types that can be updated\n",
    "    return_raw: bool = False,\n",
    "    auth: dmda.DomoAuth = None,\n",
    "    debug_api: bool = False,\n",
    "    session: httpx.AsyncClient = None,\n",
    "):\n",
    "    auth = auth or self.auth\n",
    "\n",
    "    res = await user_routes.update_user(\n",
    "        auth=auth,\n",
    "        user_id=self.id,\n",
    "        user_property_ls=property_ls,\n",
    "        debug_api=debug_api,\n",
    "        session=session,\n",
    "    )\n",
    "    if return_raw:\n",
    "        return res\n",
    "\n",
    "    self = await DomoUser.get_by_id(user_id=self.id, auth=auth)\n",
    "\n",
    "    return self"
   ]
  },
  {
   "cell_type": "code",
   "execution_count": null,
   "metadata": {},
   "outputs": [
    {
     "data": {
      "text/markdown": [
       "---\n",
       "\n",
       "[source](https://github.com/jaewilson07/domo_library/blob/main/domolibrary/classes/DomoUser.py#L294){target=\"_blank\" style=\"float:right; font-size:smaller\"}\n",
       "\n",
       "### DomoUser.update_properties\n",
       "\n",
       ">      DomoUser.update_properties\n",
       ">                                  (property_ls:[<class'domolibrary.routes.user.\n",
       ">                                  UserProperty'>], return_raw:bool=False, auth:\n",
       ">                                  domolibrary.client.DomoAuth.DomoAuth=None,\n",
       ">                                  debug_api:bool=False,\n",
       ">                                  session:httpx.AsyncClient=None)"
      ],
      "text/plain": [
       "---\n",
       "\n",
       "[source](https://github.com/jaewilson07/domo_library/blob/main/domolibrary/classes/DomoUser.py#L294){target=\"_blank\" style=\"float:right; font-size:smaller\"}\n",
       "\n",
       "### DomoUser.update_properties\n",
       "\n",
       ">      DomoUser.update_properties\n",
       ">                                  (property_ls:[<class'domolibrary.routes.user.\n",
       ">                                  UserProperty'>], return_raw:bool=False, auth:\n",
       ">                                  domolibrary.client.DomoAuth.DomoAuth=None,\n",
       ">                                  debug_api:bool=False,\n",
       ">                                  session:httpx.AsyncClient=None)"
      ]
     },
     "execution_count": null,
     "metadata": {},
     "output_type": "execute_result"
    }
   ],
   "source": [
    "show_doc(DomoUser.update_properties)"
   ]
  },
  {
   "attachments": {},
   "cell_type": "markdown",
   "metadata": {},
   "source": [
    "#### sample update_properties\n"
   ]
  },
  {
   "cell_type": "code",
   "execution_count": null,
   "metadata": {},
   "outputs": [],
   "source": [
    "token_auth = dmda.DomoTokenAuth(\n",
    "    domo_instance=\"domo-community\",\n",
    "    domo_access_token=os.environ[\"DOMO_DOJO_ACCESS_TOKEN\"],\n",
    ")\n",
    "\n",
    "domo_user = await DomoUser.get_by_id(\n",
    "    user_id=os.environ[\"DOMO_DOJO_USER_ID\"], auth=token_auth\n",
    ")\n",
    "\n",
    "property_ls = [\n",
    "    UserProperty(UserProperty_Type.display_name, \"test 3\"),\n",
    "    UserProperty(UserProperty_Type.email_address, \"test33@test.com\"),\n",
    "    UserProperty(UserProperty_Type.role_id, 810756122),\n",
    "]\n",
    "\n",
    "try:\n",
    "    await domo_user.update_properties(property_ls=property_ls)\n",
    "except User_CrudError as e:\n",
    "    print(e)"
   ]
  },
  {
   "attachments": {},
   "cell_type": "markdown",
   "metadata": {},
   "source": [
    "# MAIN -- DomoUsers\n",
    "\n",
    "> a class for searching Domo Users\n"
   ]
  },
  {
   "cell_type": "code",
   "execution_count": null,
   "metadata": {},
   "outputs": [],
   "source": [
    "# | export\n",
    "\n",
    "\n",
    "@dataclass\n",
    "class DomoUsers:\n",
    "    \"\"\"a class for searching for Users\"\"\"\n",
    "\n",
    "    logger: Optional[lc.Logger] = None\n",
    "\n",
    "    @classmethod\n",
    "    def _users_to_domo_user(cls, user_ls, auth: dmda.DomoAuth):\n",
    "        return [\n",
    "            DomoUser._from_search_json(auth=auth, user_obj=user_obj)\n",
    "            for user_obj in user_ls\n",
    "        ]\n",
    "\n",
    "    @classmethod\n",
    "    def _users_to_virtual_user(cls, user_ls, auth: dmda.DomoAuth):\n",
    "        return [\n",
    "            DomoUser._from_virtual_json(auth=auth, user_obj=user_obj)\n",
    "            for user_obj in user_ls\n",
    "        ]\n",
    "\n",
    "    def _generate_logger(self, logger: Optional[lc.Logger] = None):\n",
    "        self.logger = logger or self.logger or lc.Logger(app_name=\"domo_users\")"
   ]
  },
  {
   "attachments": {},
   "cell_type": "markdown",
   "metadata": {},
   "source": [
    "## Search and GET Users\n"
   ]
  },
  {
   "cell_type": "code",
   "execution_count": null,
   "metadata": {},
   "outputs": [],
   "source": [
    "# | exporti\n",
    "@patch_to(DomoUsers, cls_method=True)\n",
    "async def all_users(\n",
    "    cls: DomoUsers,\n",
    "    auth: dmda.DomoAuth,\n",
    "    return_raw: bool = False,\n",
    "    debug_api: bool = False,\n",
    "    debug_num_stacks_to_drop=2,\n",
    "    logger: Optional[lc.Logger] = None,\n",
    ") -> [DomoUser]:\n",
    "    \"\"\"retrieves all users from Domo\"\"\"\n",
    "\n",
    "    res = await user_routes.get_all_users(\n",
    "        auth=auth,\n",
    "        debug_api=debug_api,\n",
    "        debug_num_stacks_to_drop=debug_num_stacks_to_drop,\n",
    "        parent_class=cls.__name__,\n",
    "    )\n",
    "\n",
    "    if return_raw:\n",
    "        return res\n",
    "\n",
    "    if not res.is_success:\n",
    "        return None\n",
    "\n",
    "    users_ls = res.response\n",
    "\n",
    "    return cls._users_to_domo_user(user_ls=users_ls, auth=auth)"
   ]
  },
  {
   "cell_type": "code",
   "execution_count": null,
   "metadata": {},
   "outputs": [
    {
     "data": {
      "text/markdown": [
       "---\n",
       "\n",
       "[source](https://github.com/jaewilson07/domo_library/blob/main/domolibrary/classes/DomoUser.py#L346){target=\"_blank\" style=\"float:right; font-size:smaller\"}\n",
       "\n",
       "### DomoUsers.all_users\n",
       "\n",
       ">      DomoUsers.all_users (auth:domolibrary.client.DomoAuth.DomoAuth,\n",
       ">                           return_raw:bool=False, debug_api:bool=False,\n",
       ">                           debug_num_stacks_to_drop=2, logger:Optional[domolibr\n",
       ">                           ary.client.Logger.Logger]=None)\n",
       "\n",
       "retrieves all users from Domo"
      ],
      "text/plain": [
       "---\n",
       "\n",
       "[source](https://github.com/jaewilson07/domo_library/blob/main/domolibrary/classes/DomoUser.py#L346){target=\"_blank\" style=\"float:right; font-size:smaller\"}\n",
       "\n",
       "### DomoUsers.all_users\n",
       "\n",
       ">      DomoUsers.all_users (auth:domolibrary.client.DomoAuth.DomoAuth,\n",
       ">                           return_raw:bool=False, debug_api:bool=False,\n",
       ">                           debug_num_stacks_to_drop=2, logger:Optional[domolibr\n",
       ">                           ary.client.Logger.Logger]=None)\n",
       "\n",
       "retrieves all users from Domo"
      ]
     },
     "execution_count": null,
     "metadata": {},
     "output_type": "execute_result"
    }
   ],
   "source": [
    "show_doc(DomoUsers.all_users)"
   ]
  },
  {
   "attachments": {},
   "cell_type": "markdown",
   "metadata": {},
   "source": [
    "#### sample implementation of get all_users\n"
   ]
  },
  {
   "cell_type": "code",
   "execution_count": null,
   "metadata": {},
   "outputs": [
    {
     "data": {
      "text/html": [
       "<div>\n",
       "<style scoped>\n",
       "    .dataframe tbody tr th:only-of-type {\n",
       "        vertical-align: middle;\n",
       "    }\n",
       "\n",
       "    .dataframe tbody tr th {\n",
       "        vertical-align: top;\n",
       "    }\n",
       "\n",
       "    .dataframe thead th {\n",
       "        text-align: right;\n",
       "    }\n",
       "</style>\n",
       "<table border=\"1\" class=\"dataframe\">\n",
       "  <thead>\n",
       "    <tr style=\"text-align: right;\">\n",
       "      <th></th>\n",
       "      <th>id</th>\n",
       "      <th>display_name</th>\n",
       "      <th>email_address</th>\n",
       "      <th>role_id</th>\n",
       "      <th>department</th>\n",
       "      <th>title</th>\n",
       "      <th>avatar_key</th>\n",
       "      <th>phone_number</th>\n",
       "      <th>web_landing_page</th>\n",
       "      <th>web_mobile_landing_page</th>\n",
       "      <th>employee_id</th>\n",
       "      <th>employee_number</th>\n",
       "      <th>hire_date</th>\n",
       "      <th>reports_to</th>\n",
       "      <th>publisher_domain</th>\n",
       "      <th>subscriber_domain</th>\n",
       "      <th>virtual_user_id</th>\n",
       "      <th>custom_attributes</th>\n",
       "      <th>role</th>\n",
       "      <th>auth</th>\n",
       "    </tr>\n",
       "  </thead>\n",
       "  <tbody>\n",
       "    <tr>\n",
       "      <th>0</th>\n",
       "      <td>None</td>\n",
       "      <td>monitor</td>\n",
       "      <td>monitor@domo.com</td>\n",
       "      <td>1</td>\n",
       "      <td>None</td>\n",
       "      <td>None</td>\n",
       "      <td>None</td>\n",
       "      <td>None</td>\n",
       "      <td>None</td>\n",
       "      <td>None</td>\n",
       "      <td>None</td>\n",
       "      <td>None</td>\n",
       "      <td>None</td>\n",
       "      <td>None</td>\n",
       "      <td>None</td>\n",
       "      <td>None</td>\n",
       "      <td>None</td>\n",
       "      <td>{}</td>\n",
       "      <td>None</td>\n",
       "      <td>{'domo_instance': 'domo-community', 'domo_acce...</td>\n",
       "    </tr>\n",
       "    <tr>\n",
       "      <th>1</th>\n",
       "      <td>1003855998</td>\n",
       "      <td>Christine Hsieh</td>\n",
       "      <td>christine.hsieh@hellofresh.com</td>\n",
       "      <td>2</td>\n",
       "      <td>None</td>\n",
       "      <td>None</td>\n",
       "      <td>None</td>\n",
       "      <td>None</td>\n",
       "      <td>None</td>\n",
       "      <td>None</td>\n",
       "      <td>None</td>\n",
       "      <td>None</td>\n",
       "      <td>None</td>\n",
       "      <td>None</td>\n",
       "      <td>None</td>\n",
       "      <td>None</td>\n",
       "      <td>None</td>\n",
       "      <td>{}</td>\n",
       "      <td>None</td>\n",
       "      <td>{'domo_instance': 'domo-community', 'domo_acce...</td>\n",
       "    </tr>\n",
       "    <tr>\n",
       "      <th>2</th>\n",
       "      <td>1005321923</td>\n",
       "      <td>Matthew Lambourne</td>\n",
       "      <td>matthew.lambourne@frankandoak.com</td>\n",
       "      <td>2</td>\n",
       "      <td>None</td>\n",
       "      <td>Financial Controller</td>\n",
       "      <td>None</td>\n",
       "      <td>None</td>\n",
       "      <td>None</td>\n",
       "      <td>None</td>\n",
       "      <td>None</td>\n",
       "      <td>None</td>\n",
       "      <td>None</td>\n",
       "      <td>None</td>\n",
       "      <td>None</td>\n",
       "      <td>None</td>\n",
       "      <td>None</td>\n",
       "      <td>{}</td>\n",
       "      <td>None</td>\n",
       "      <td>{'domo_instance': 'domo-community', 'domo_acce...</td>\n",
       "    </tr>\n",
       "  </tbody>\n",
       "</table>\n",
       "</div>"
      ],
      "text/plain": [
       "           id       display_name                      email_address  role_id  \\\n",
       "0        None            monitor                   monitor@domo.com        1   \n",
       "1  1003855998    Christine Hsieh     christine.hsieh@hellofresh.com        2   \n",
       "2  1005321923  Matthew Lambourne  matthew.lambourne@frankandoak.com        2   \n",
       "\n",
       "  department                 title avatar_key phone_number web_landing_page  \\\n",
       "0       None                  None       None         None             None   \n",
       "1       None                  None       None         None             None   \n",
       "2       None  Financial Controller       None         None             None   \n",
       "\n",
       "  web_mobile_landing_page employee_id employee_number hire_date reports_to  \\\n",
       "0                    None        None            None      None       None   \n",
       "1                    None        None            None      None       None   \n",
       "2                    None        None            None      None       None   \n",
       "\n",
       "  publisher_domain subscriber_domain virtual_user_id custom_attributes  role  \\\n",
       "0             None              None            None                {}  None   \n",
       "1             None              None            None                {}  None   \n",
       "2             None              None            None                {}  None   \n",
       "\n",
       "                                                auth  \n",
       "0  {'domo_instance': 'domo-community', 'domo_acce...  \n",
       "1  {'domo_instance': 'domo-community', 'domo_acce...  \n",
       "2  {'domo_instance': 'domo-community', 'domo_acce...  "
      ]
     },
     "execution_count": null,
     "metadata": {},
     "output_type": "execute_result"
    }
   ],
   "source": [
    "token_auth = dmda.DomoTokenAuth(\n",
    "    domo_instance=\"domo-community\",\n",
    "    domo_access_token=os.environ[\"DOMO_DOJO_ACCESS_TOKEN\"],\n",
    ")\n",
    "\n",
    "domo_users = await DomoUsers.all_users(\n",
    "    auth=token_auth, debug_api=False, return_raw=False\n",
    ")\n",
    "\n",
    "pd.DataFrame(domo_users[0:3])"
   ]
  },
  {
   "cell_type": "code",
   "execution_count": null,
   "metadata": {},
   "outputs": [],
   "source": [
    "# | exporti\n",
    "@patch_to(DomoUsers, cls_method=True)\n",
    "async def by_id(\n",
    "    cls: DomoUsers,\n",
    "    auth: dmda.DomoAuth,\n",
    "    user_ids: list[str],  # can search for one or multiple users\n",
    "    only_allow_one: bool = True,\n",
    "    debug_num_stacks_to_drop=2,\n",
    "    debug_api: bool = False,\n",
    "    return_raw: bool = False,\n",
    ") -> list:\n",
    "\n",
    "    res = await user_routes.search_users_by_id(\n",
    "        return_raw=False,\n",
    "        user_ids=user_ids,\n",
    "        debug_api=debug_api,\n",
    "        auth=auth,\n",
    "        debug_num_stacks_to_drop=debug_num_stacks_to_drop,\n",
    "        parent_class=cls.__name__,\n",
    "    )\n",
    "\n",
    "    if return_raw:\n",
    "        return res\n",
    "\n",
    "    domo_users = cls._users_to_domo_user(user_ls=res.response, auth=auth)\n",
    "\n",
    "    if only_allow_one:\n",
    "        return domo_users[0]\n",
    "\n",
    "    return domo_users"
   ]
  },
  {
   "attachments": {},
   "cell_type": "markdown",
   "metadata": {},
   "source": [
    "#### sample implementation of searching users by_id\n"
   ]
  },
  {
   "cell_type": "code",
   "execution_count": null,
   "metadata": {},
   "outputs": [
    {
     "data": {
      "text/plain": [
       "[DomoUser(id='1012895591', display_name='JeMiller', email_address='JeMiller@marketaxess.com', role_id=2097317660, department=None, title=None, avatar_key=None, phone_number=None, web_landing_page=None, web_mobile_landing_page=None, employee_id=None, employee_number=None, hire_date=None, reports_to=None, publisher_domain=None, subscriber_domain=None, virtual_user_id=None, custom_attributes={}, role=None),\n",
       " DomoUser(id='1006847540', display_name='Marc-Anton Clavel', email_address='marcanton.clavel@domo.com', role_id=2, department=None, title=None, avatar_key=None, phone_number=None, web_landing_page=None, web_mobile_landing_page=None, employee_id=None, employee_number=None, hire_date=None, reports_to=None, publisher_domain=None, subscriber_domain=None, virtual_user_id=None, custom_attributes={}, role=None)]"
      ]
     },
     "execution_count": null,
     "metadata": {},
     "output_type": "execute_result"
    }
   ],
   "source": [
    "token_auth = dmda.DomoTokenAuth(\n",
    "    domo_instance=\"domo-community\",\n",
    "    domo_access_token=os.environ[\"DOMO_DOJO_ACCESS_TOKEN\"],\n",
    ")\n",
    "\n",
    "await DomoUsers.by_id(\n",
    "    auth=token_auth,\n",
    "    user_ids=[\"1006847540\", \"1012895591\"],\n",
    "    only_allow_one=False,\n",
    "    return_raw=False,\n",
    ")"
   ]
  },
  {
   "cell_type": "code",
   "execution_count": null,
   "metadata": {},
   "outputs": [],
   "source": [
    "# | exporti\n",
    "\n",
    "\n",
    "@patch_to(DomoUsers, cls_method=True)\n",
    "def util_match_domo_users_to_emails(\n",
    "    cls: DomoUsers, domo_users: list[DomoUser], user_email_ls: list[str]\n",
    ") -> list:\n",
    "    \"\"\"pass in an array of user emails to match against an array of Domo User\"\"\"\n",
    "\n",
    "    matches = []\n",
    "    for idx, email in enumerate(user_email_ls):\n",
    "        match_user = next(\n",
    "            (\n",
    "                domo_user\n",
    "                for domo_user in domo_users\n",
    "                if email.lower() == domo_user.email_address.lower()\n",
    "            ),\n",
    "            None,\n",
    "        )\n",
    "        if match_user:\n",
    "            matches.append(match_user)\n",
    "    return matches\n",
    "\n",
    "\n",
    "@patch_to(DomoUsers, cls_method=True)\n",
    "def util_match_users_obj_to_emails(\n",
    "    cls: DomoUsers, user_ls: list[dict], user_email_ls: list[str]\n",
    ") -> list:\n",
    "    \"\"\"pass in an array of user emails to match against an array of Domo User\"\"\"\n",
    "\n",
    "    matches = []\n",
    "    for idx, email in enumerate(user_email_ls):\n",
    "        match_user = next(\n",
    "            (\n",
    "                user_obj\n",
    "                for user_obj in user_ls\n",
    "                if email.lower() == user_obj.get(\"emailAddress\").lower()\n",
    "            ),\n",
    "            None,\n",
    "        )\n",
    "        if match_user:\n",
    "            matches.append(match_user)\n",
    "    return matches\n",
    "\n",
    "\n",
    "@patch_to(DomoUsers, cls_method=True)\n",
    "async def by_email(\n",
    "    cls: DomoUsers,\n",
    "    email_ls: list[str],\n",
    "    auth: dmda.DomoAuth,\n",
    "    only_allow_one: bool = True,\n",
    "    debug_api: bool = False,\n",
    "    debug_num_stacks_to_drop=2,\n",
    "    return_raw: bool = False,\n",
    ") -> list:\n",
    "\n",
    "    res = await user_routes.search_users_by_email(\n",
    "        user_email_ls=email_ls,\n",
    "        auth=auth,\n",
    "        return_raw=False,\n",
    "        debug_api=debug_api,\n",
    "        debug_num_stacks_to_drop=debug_num_stacks_to_drop,\n",
    "        parent_class=cls.__name__,\n",
    "    )\n",
    "\n",
    "    if return_raw:\n",
    "        return res\n",
    "\n",
    "    domo_users = cls._users_to_domo_user(res.response, auth=auth)\n",
    "\n",
    "    if only_allow_one:\n",
    "        return cls.util_match_domo_users_to_emails(domo_users, email_ls)[0]\n",
    "\n",
    "    return domo_users"
   ]
  },
  {
   "cell_type": "code",
   "execution_count": null,
   "metadata": {},
   "outputs": [
    {
     "data": {
      "text/markdown": [
       "---\n",
       "\n",
       "[source](https://github.com/jaewilson07/domo_library/blob/main/domolibrary/classes/DomoUser.py#L448){target=\"_blank\" style=\"float:right; font-size:smaller\"}\n",
       "\n",
       "### DomoUsers.by_email\n",
       "\n",
       ">      DomoUsers.by_email (email_ls:list[str],\n",
       ">                          auth:domolibrary.client.DomoAuth.DomoAuth,\n",
       ">                          only_allow_one:bool=True, debug_api:bool=False,\n",
       ">                          debug_num_stacks_to_drop=2, return_raw:bool=False)"
      ],
      "text/plain": [
       "---\n",
       "\n",
       "[source](https://github.com/jaewilson07/domo_library/blob/main/domolibrary/classes/DomoUser.py#L448){target=\"_blank\" style=\"float:right; font-size:smaller\"}\n",
       "\n",
       "### DomoUsers.by_email\n",
       "\n",
       ">      DomoUsers.by_email (email_ls:list[str],\n",
       ">                          auth:domolibrary.client.DomoAuth.DomoAuth,\n",
       ">                          only_allow_one:bool=True, debug_api:bool=False,\n",
       ">                          debug_num_stacks_to_drop=2, return_raw:bool=False)"
      ]
     },
     "execution_count": null,
     "metadata": {},
     "output_type": "execute_result"
    }
   ],
   "source": [
    "show_doc(DomoUsers.by_email)"
   ]
  },
  {
   "attachments": {},
   "cell_type": "markdown",
   "metadata": {},
   "source": [
    "#### sample implementation of searching for a user by email\n"
   ]
  },
  {
   "cell_type": "code",
   "execution_count": null,
   "metadata": {},
   "outputs": [
    {
     "data": {
      "text/plain": [
       "DomoUser(id='1893952720', display_name='Jae Wilson1', email_address='jae@onyxreporting.com', role_id=810756122, department=None, title=None, avatar_key=None, phone_number=None, web_landing_page=None, web_mobile_landing_page=None, employee_id=None, employee_number=None, hire_date=None, reports_to=None, publisher_domain=None, subscriber_domain=None, virtual_user_id=None, custom_attributes={}, role=None)"
      ]
     },
     "execution_count": null,
     "metadata": {},
     "output_type": "execute_result"
    }
   ],
   "source": [
    "token_auth = dmda.DomoTokenAuth(\n",
    "    domo_instance=\"domo-community\",\n",
    "    domo_access_token=os.environ[\"DOMO_DOJO_ACCESS_TOKEN\"],\n",
    ")\n",
    "\n",
    "\n",
    "await DomoUsers.by_email(\n",
    "    auth=token_auth,\n",
    "    email_ls=[\"jae@onyxreporting.com\"],\n",
    "    only_allow_one=True,\n",
    "    return_raw=False,\n",
    "    debug_api=False,\n",
    ")"
   ]
  },
  {
   "cell_type": "code",
   "execution_count": null,
   "metadata": {},
   "outputs": [],
   "source": [
    "# | exporti\n",
    "@patch_to(DomoUsers, cls_method=True)\n",
    "async def virtual_user_by_subscriber_instance(\n",
    "    cls: DomoUsers,\n",
    "    subscriber_instance_ls: str,\n",
    "    auth: dmda.DomoAuth,\n",
    "    debug_api: bool = False,\n",
    "    return_raw: bool = False,\n",
    "):\n",
    "    res = await user_routes.search_virtual_user_by_subscriber_instance(\n",
    "        auth=auth,\n",
    "        subscriber_instance_ls=subscriber_instance_ls,\n",
    "        debug_api=debug_api,\n",
    "    )\n",
    "\n",
    "    if return_raw:\n",
    "        return res\n",
    "\n",
    "    if not res.is_success:\n",
    "        return None\n",
    "\n",
    "    user_ls = res.response\n",
    "\n",
    "    domo_users = cls._users_to_virtual_user(user_ls, auth=auth)\n",
    "    return domo_users"
   ]
  },
  {
   "cell_type": "code",
   "execution_count": null,
   "metadata": {},
   "outputs": [
    {
     "data": {
      "text/markdown": [
       "---\n",
       "\n",
       "[source](https://github.com/jaewilson07/domo_library/blob/main/domolibrary/classes/DomoUser.py#L479){target=\"_blank\" style=\"float:right; font-size:smaller\"}\n",
       "\n",
       "### DomoUsers.virtual_user_by_subscriber_instance\n",
       "\n",
       ">      DomoUsers.virtual_user_by_subscriber_instance\n",
       ">                                                     (subscriber_instance_ls:st\n",
       ">                                                     r, auth:domolibrary.client\n",
       ">                                                     .DomoAuth.DomoAuth,\n",
       ">                                                     debug_api:bool=False,\n",
       ">                                                     return_raw:bool=False)"
      ],
      "text/plain": [
       "---\n",
       "\n",
       "[source](https://github.com/jaewilson07/domo_library/blob/main/domolibrary/classes/DomoUser.py#L479){target=\"_blank\" style=\"float:right; font-size:smaller\"}\n",
       "\n",
       "### DomoUsers.virtual_user_by_subscriber_instance\n",
       "\n",
       ">      DomoUsers.virtual_user_by_subscriber_instance\n",
       ">                                                     (subscriber_instance_ls:st\n",
       ">                                                     r, auth:domolibrary.client\n",
       ">                                                     .DomoAuth.DomoAuth,\n",
       ">                                                     debug_api:bool=False,\n",
       ">                                                     return_raw:bool=False)"
      ]
     },
     "execution_count": null,
     "metadata": {},
     "output_type": "execute_result"
    }
   ],
   "source": [
    "show_doc(DomoUsers.virtual_user_by_subscriber_instance)"
   ]
  },
  {
   "attachments": {},
   "cell_type": "markdown",
   "metadata": {},
   "source": [
    "#### sample implementation of retrieving virtual users for a subscriber instance\n"
   ]
  },
  {
   "cell_type": "code",
   "execution_count": null,
   "metadata": {},
   "outputs": [
    {
     "data": {
      "text/plain": [
       "[DomoUser(id='44a56146-f422-4175-9c3b-a194f339f9b6', display_name=None, email_address=None, role_id=None, department=None, title=None, avatar_key=None, phone_number=None, web_landing_page=None, web_mobile_landing_page=None, employee_id=None, employee_number=None, hire_date=None, reports_to=None, publisher_domain='domo-community.domo.com', subscriber_domain='domo-community.domo.com', virtual_user_id='fc:f230ba95-bc49-4875-a0db-3c7cd58ed3cc', custom_attributes={}, role=None),\n",
       " DomoUser(id='8b5c26e0-db3a-40f8-855f-6189ac3cf5c8', display_name=None, email_address=None, role_id=None, department=None, title=None, avatar_key=None, phone_number=None, web_landing_page=None, web_mobile_landing_page=None, employee_id=None, employee_number=None, hire_date=None, reports_to=None, publisher_domain='domo-community.domo.com', subscriber_domain='test.domo.com', virtual_user_id='fc:e3ce6205-6717-42b4-ba1c-16b5e40eca98', custom_attributes={}, role=None)]"
      ]
     },
     "execution_count": null,
     "metadata": {},
     "output_type": "execute_result"
    }
   ],
   "source": [
    "token_auth = dmda.DomoTokenAuth(\n",
    "    domo_instance=\"domo-community\",\n",
    "    domo_access_token=os.environ[\"DOMO_DOJO_ACCESS_TOKEN\"],\n",
    ")\n",
    "\n",
    "\n",
    "await DomoUsers.virtual_user_by_subscriber_instance(\n",
    "    auth=token_auth,\n",
    "    subscriber_instance_ls=[\"domo-community\", \"test\"],\n",
    "    # return_raw=True,\n",
    "    debug_api=False,\n",
    ")"
   ]
  },
  {
   "attachments": {},
   "cell_type": "markdown",
   "metadata": {},
   "source": [
    "## CRUD Users\n"
   ]
  },
  {
   "cell_type": "code",
   "execution_count": null,
   "metadata": {},
   "outputs": [],
   "source": [
    "# | exporti\n",
    "\n",
    "\n",
    "@patch_to(DomoUsers, cls_method=True)\n",
    "async def create_user(\n",
    "    cls: DomoUsers,\n",
    "    auth: dmda.DomoAuth,\n",
    "    display_name,\n",
    "    email_address,\n",
    "    role_id,\n",
    "    password: str = None,\n",
    "    send_password_reset_email: bool = False,\n",
    "    debug_api: bool = False,\n",
    "    session: httpx.AsyncClient = None,\n",
    "):\n",
    "    \"\"\"class method that creates a new Domo user\"\"\"\n",
    "\n",
    "    res = await user_routes.create_user(\n",
    "        auth=auth,\n",
    "        display_name=display_name,\n",
    "        email_address=email_address,\n",
    "        role_id=role_id,\n",
    "        debug_api=debug_api,\n",
    "        session=session,\n",
    "    )\n",
    "\n",
    "    if not res.is_success:\n",
    "        raise Exception(res.response)\n",
    "\n",
    "    u = await DomoUser.get_by_id(\n",
    "        auth=auth,\n",
    "        user_id=res.response.get(\"id\") or res.response.get(\"userId\"),\n",
    "    )\n",
    "\n",
    "    if password:\n",
    "        await u.reset_password(new_password=password)\n",
    "\n",
    "    elif send_password_reset_email:\n",
    "        await u.request_password_reset(\n",
    "            domo_instance=auth.domo_instance, email=u.email_address\n",
    "        )\n",
    "\n",
    "    return u"
   ]
  },
  {
   "cell_type": "code",
   "execution_count": null,
   "metadata": {},
   "outputs": [
    {
     "data": {
      "text/markdown": [
       "---\n",
       "\n",
       "[source](https://github.com/jaewilson07/domo_library/blob/main/domolibrary/classes/DomoUser.py#L505){target=\"_blank\" style=\"float:right; font-size:smaller\"}\n",
       "\n",
       "### DomoUsers.create_user\n",
       "\n",
       ">      DomoUsers.create_user (auth:domolibrary.client.DomoAuth.DomoAuth,\n",
       ">                             display_name, email_address, role_id,\n",
       ">                             password:str=None,\n",
       ">                             send_password_reset_email:bool=False,\n",
       ">                             debug_api:bool=False,\n",
       ">                             session:httpx.AsyncClient=None)\n",
       "\n",
       "class method that creates a new Domo user"
      ],
      "text/plain": [
       "---\n",
       "\n",
       "[source](https://github.com/jaewilson07/domo_library/blob/main/domolibrary/classes/DomoUser.py#L505){target=\"_blank\" style=\"float:right; font-size:smaller\"}\n",
       "\n",
       "### DomoUsers.create_user\n",
       "\n",
       ">      DomoUsers.create_user (auth:domolibrary.client.DomoAuth.DomoAuth,\n",
       ">                             display_name, email_address, role_id,\n",
       ">                             password:str=None,\n",
       ">                             send_password_reset_email:bool=False,\n",
       ">                             debug_api:bool=False,\n",
       ">                             session:httpx.AsyncClient=None)\n",
       "\n",
       "class method that creates a new Domo user"
      ]
     },
     "execution_count": null,
     "metadata": {},
     "output_type": "execute_result"
    }
   ],
   "source": [
    "show_doc(DomoUsers.create_user)"
   ]
  },
  {
   "cell_type": "code",
   "execution_count": null,
   "metadata": {},
   "outputs": [
    {
     "name": "stdout",
     "output_type": "stream",
     "text": [
      "🛑  User_CrudError 🛑 - function: create_user || status 400 || Bad Request - does this user (email) already exist? at domo-community\n"
     ]
    }
   ],
   "source": [
    "token_auth = dmda.DomoTokenAuth(\n",
    "    domo_instance=\"domo-community\",\n",
    "    domo_access_token=os.environ[\"DOMO_DOJO_ACCESS_TOKEN\"],\n",
    ")\n",
    "try:\n",
    "    await DomoUsers.create_user(\n",
    "        auth=token_auth,\n",
    "        display_name=\"test_and_delete\",\n",
    "        email_address=\"test26@test.com\",\n",
    "        role_id=5,\n",
    "    )\n",
    "except User_CrudError as e:\n",
    "    print(e)"
   ]
  },
  {
   "cell_type": "code",
   "execution_count": null,
   "metadata": {},
   "outputs": [],
   "source": [
    "# |exporti\n",
    "@patch_to(DomoUsers, cls_method=True)\n",
    "async def upsert_user(\n",
    "    cls: DomoUsers,\n",
    "    auth: dmda.DomoAuth,\n",
    "    email_address: str,\n",
    "    display_name: str = None,\n",
    "    role_id: str = None,\n",
    "    debug_api: bool = False,\n",
    "    debug_prn: bool = False,\n",
    "    session: httpx.AsyncClient = None,\n",
    "):\n",
    "    test_valid_email(email_address)\n",
    "\n",
    "    try:\n",
    "        domo_user = await cls.by_email(\n",
    "            email_ls=[email_address],\n",
    "            auth=auth,\n",
    "            only_allow_one=True,\n",
    "            debug_api=debug_api,\n",
    "        )\n",
    "\n",
    "        if domo_user:\n",
    "            user_property_ls = []\n",
    "            if display_name:\n",
    "                user_property_ls.append(\n",
    "                    user_routes.UserProperty(\n",
    "                        user_routes.UserProperty_Type.display_name, display_name\n",
    "                    )\n",
    "                )\n",
    "\n",
    "            if role_id:\n",
    "                user_property_ls.append(\n",
    "                    user_routes.UserProperty(\n",
    "                        user_routes.UserProperty_Type.role_id, role_id\n",
    "                    )\n",
    "                )\n",
    "\n",
    "            if user_property_ls:\n",
    "                res = await user_routes.update_user(\n",
    "                    user_id=domo_user.id,\n",
    "                    user_property_ls=user_property_ls,\n",
    "                    auth=auth,\n",
    "                    debug_api=debug_api,\n",
    "                )\n",
    "        return await DomoUser.get_by_id(auth=auth, user_id=domo_user.id)\n",
    "\n",
    "    except SearchUser_NoResults as e:\n",
    "        if debug_prn:\n",
    "            print(f\"No user match -- creating new user in {auth.domo_instance}\")\n",
    "\n",
    "        if not role_id:\n",
    "            raise CreateUser_MissingRole(\n",
    "                domo_instance=auth.domo_instance, email_address=email_address\n",
    "            ) from e\n",
    "\n",
    "        return await cls.create_user(\n",
    "            auth=auth,\n",
    "            display_name=display_name or f\"{email_address} - via dl {dt.date.today()}\",\n",
    "            email_address=email_address,\n",
    "            role_id=role_id,\n",
    "            debug_api=debug_api,\n",
    "            session=session,\n",
    "        )\n",
    "\n",
    "    # finally:\n",
    "    #     if grant_ls:\n",
    "    #         grant_ls = domo_role._valid_grant_ls(grant_ls)\n",
    "    #         await domo_role.set_grants(grant_ls=grant_ls)"
   ]
  },
  {
   "cell_type": "code",
   "execution_count": null,
   "metadata": {},
   "outputs": [
    {
     "data": {
      "text/plain": [
       "DomoUser(id='1793882853', display_name='test - updated via dl 2024-02-15', email_address='test4@test.com', role_id=3, department=None, title=None, avatar_key=None, phone_number=None, web_landing_page=None, web_mobile_landing_page=None, employee_id=None, employee_number=None, hire_date=None, reports_to=None, publisher_domain=None, subscriber_domain=None, virtual_user_id=None, custom_attributes={}, role=DomoRole(id=3, name='Editor', description='Can edit Cards, Pages, DataSets, and Dataflows', is_system_role=True, is_default_role=None, grant_ls=[], membership_ls=[]))"
      ]
     },
     "execution_count": null,
     "metadata": {},
     "output_type": "execute_result"
    }
   ],
   "source": [
    "token_auth = dmda.DomoTokenAuth(\n",
    "    domo_instance=\"domo-community\",\n",
    "    domo_access_token=os.environ[\"DOMO_DOJO_ACCESS_TOKEN\"],\n",
    ")\n",
    "\n",
    "await DomoUsers.upsert_user(\n",
    "    email_address=\"test4@test.com\",\n",
    "    display_name=f\"test - updated via dl {dt.date.today()}\",\n",
    "    role_id=3,\n",
    "    auth=token_auth,\n",
    "    debug_prn=True,\n",
    "    debug_api=False,\n",
    ")"
   ]
  },
  {
   "cell_type": "code",
   "execution_count": null,
   "metadata": {},
   "outputs": [],
   "source": [
    "# | export\n",
    "\n",
    "\n",
    "@patch_to(DomoUser)\n",
    "async def delete_user(\n",
    "    self: DomoUser,\n",
    "    auth: dmda.DomoAuth = None,\n",
    "    debug_api: bool = False,\n",
    "    session: httpx.AsyncClient = None,\n",
    "    debug_num_stacks_to_drop=2,\n",
    "    parent_class=None,\n",
    "):\n",
    "    auth = auth or self.auth\n",
    "\n",
    "    res = await user_routes.delete_user(\n",
    "        auth=auth,\n",
    "        user_id=self.id,\n",
    "        debug_api=debug_api,\n",
    "        session=session,\n",
    "        debug_num_stacks_to_drop=debug_num_stacks_to_drop,\n",
    "        parent_class=parent_class,\n",
    "    )\n",
    "\n",
    "    if not res.is_success:\n",
    "        raise DeleteUser_Error(account_id=self.id, domo_instance=auth.domo_instance)\n",
    "\n",
    "    return res"
   ]
  },
  {
   "cell_type": "code",
   "execution_count": null,
   "metadata": {},
   "outputs": [
    {
     "name": "stdout",
     "output_type": "stream",
     "text": [
      "DomoUser(id='1793882853', display_name='test - updated via dl 2024-02-15', email_address='test4@test.com', role_id=3, department=None, title=None, avatar_key=None, phone_number=None, web_landing_page=None, web_mobile_landing_page=None, employee_id=None, employee_number=None, hire_date=None, reports_to=None, publisher_domain=None, subscriber_domain=None, virtual_user_id=None, custom_attributes={}, role=None)\n"
     ]
    },
    {
     "data": {
      "text/plain": [
       "ResponseGetData(status=200, response='', is_success=True, parent_class=None)"
      ]
     },
     "execution_count": null,
     "metadata": {},
     "output_type": "execute_result"
    }
   ],
   "source": [
    "token_auth = dmda.DomoTokenAuth(\n",
    "    domo_instance=\"domo-community\",\n",
    "    domo_access_token=os.environ[\"DOMO_DOJO_ACCESS_TOKEN\"],\n",
    ")\n",
    "\n",
    "dmuser = await DomoUsers.by_email(\n",
    "    auth=token_auth,\n",
    "    email_ls=[\"test4@test.com\"],\n",
    "    only_allow_one=True,\n",
    "    return_raw=False,\n",
    "    debug_api=False,\n",
    ")\n",
    "print(dmuser)\n",
    "\n",
    "await dmuser.delete_user()"
   ]
  },
  {
   "cell_type": "code",
   "execution_count": null,
   "metadata": {},
   "outputs": [],
   "source": [
    "# | hide\n",
    "import nbdev\n",
    "\n",
    "nbdev.nbdev_export()"
   ]
  }
 ],
 "metadata": {
  "jupytext": {
   "split_at_heading": true
  },
  "kernelspec": {
   "display_name": "python3",
   "language": "python",
   "name": "python3"
  }
 },
 "nbformat": 4,
 "nbformat_minor": 4
}
