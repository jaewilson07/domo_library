{
 "cells": [
  {
   "cell_type": "raw",
   "metadata": {},
   "source": [
    "---\n",
    "title: Application\n",
    "output-file: application_class.html\n",
    "---\n"
   ]
  },
  {
   "cell_type": "code",
   "execution_count": 1,
   "metadata": {},
   "outputs": [],
   "source": [
    "# | default_exp classes.DomoApplication"
   ]
  },
  {
   "cell_type": "code",
   "execution_count": 2,
   "metadata": {},
   "outputs": [],
   "source": [
    "# | exporti\n",
    "import pandas as pd\n",
    "from dataclasses import dataclass, field\n",
    "from typing import Optional, List\n",
    "import httpx\n",
    "\n",
    "from nbdev.showdoc import patch_to\n",
    "\n",
    "import domolibrary.routes.application as application_routes\n",
    "import domolibrary.classes.DomoApplication_Job as dmdj\n",
    "import domolibrary.utils.DictDot as util_dd\n",
    "import domolibrary.client.DomoAuth as dmda"
   ]
  },
  {
   "cell_type": "code",
   "execution_count": 3,
   "metadata": {},
   "outputs": [],
   "source": [
    "# | hide\n",
    "import os\n",
    "from pprint import pprint"
   ]
  },
  {
   "cell_type": "markdown",
   "metadata": {},
   "source": [
    "# What are applications?\n",
    "Applications tend to be tooling that domo implemented on the executor framework or extensions to domo products that originated as custom apps that have been fully integrated into the UI.\n",
    "\n",
    "For example Publish started out as a 3rd party app that was later integrated into domo as an App, and then later received dedicated API paths.\n",
    "\n",
    "Similarly Remote DomoStats / Observability metrics started out as 3rd party scripting, which was later integrated into Domo's \"Executor Framework\" an internal framework for managing java / lambda functions, now defined under the application APIs.\n",
    "\n",
    "Note, pieces of the executor framework has slowly been morphed and adapted into CodeEngine and exposed to end users."
   ]
  },
  {
   "cell_type": "code",
   "execution_count": 4,
   "metadata": {},
   "outputs": [],
   "source": [
    "from enum import Enum\n",
    "import domolibrary.utils.convert as cc"
   ]
  },
  {
   "cell_type": "code",
   "execution_count": 5,
   "metadata": {},
   "outputs": [
    {
     "data": {
      "text/plain": [
       "domolibrary.classes.DomoApplication_Job.DomoJob"
      ]
     },
     "execution_count": 5,
     "metadata": {},
     "output_type": "execute_result"
    }
   ],
   "source": [
    "class DomoJob_Types(Enum):\n",
    "    REMOTE_DOMO_STATS = dmdj.DomoJob_RemoteDomoStats\n",
    "    DATA_WATCHDOG = dmdj.DomoJob_Watchdog\n",
    "\n",
    "    default = dmdj.DomoJob\n",
    "\n",
    "    @staticmethod\n",
    "    def _convert_api_name_to_member_name(api_name):\n",
    "        return cc.convert_str_to_snake_case(api_name, is_only_alphanumeric=True).upper().replace(\"TOOLKIT_\", '')\n",
    "    \n",
    "    @classmethod\n",
    "    def get_from_api_name(cls, api_name):\n",
    "        member_name = cls._convert_api_name_to_member_name(api_name)\n",
    "\n",
    "        if member_name not in cls.__members__:\n",
    "            return cls['default'].value\n",
    "        \n",
    "        return cls[member_name].value\n",
    "\n",
    "DomoJob_Types.get_from_api_name('Toolkit: Remote Domo Stat')"
   ]
  },
  {
   "cell_type": "code",
   "execution_count": 6,
   "metadata": {},
   "outputs": [],
   "source": [
    "# token_auth = dmda.DomoTokenAuth(\n",
    "#     domo_instance=\"domo-community\",\n",
    "#     domo_access_token=os.environ[\"DOMO_DOJO_ACCESS_TOKEN\"],\n",
    "# )\n",
    "\n",
    "# res = await application_routes.get_applications(auth = token_auth)\n",
    "\n",
    "# [app.get('name') for app in res.response]\n"
   ]
  },
  {
   "cell_type": "code",
   "execution_count": 7,
   "metadata": {},
   "outputs": [],
   "source": [
    "# | exports\n",
    "\n",
    "\n",
    "@dataclass\n",
    "class DomoApplication:\n",
    "    auth: dmda.DomoAuth = field(repr=False)\n",
    "    id: str\n",
    "    version : str = None\n",
    "    name: str = None\n",
    "    customer_id: str = None\n",
    "    description: str = None\n",
    "    execution_class: str = None\n",
    "    grants: List[str] = None\n",
    "    jobs: List[dmdj.DomoJob] = field(default=None)\n",
    "    jobs_schedule: List[dmdj.DomoTrigger_Schedule] = field(default=None, repr=False)\n",
    "\n",
    "\n",
    "    @classmethod\n",
    "    def _from_json(cls, obj, auth: dmda.DomoFullAuth = None):\n",
    "        dd = util_dd.DictDot(obj)\n",
    "\n",
    "        return cls(\n",
    "            id=dd.applicationId,\n",
    "            customer_id=dd.customerId,\n",
    "            name=dd.name,\n",
    "            description=dd.description,\n",
    "            version=dd.version,\n",
    "            execution_class=dd.executionClass,\n",
    "            grants=dd.authorities,\n",
    "            auth=auth\n",
    "        )\n",
    "    \n",
    "    def _get_job_class(self):\n",
    "        return DomoJob_Types.get_from_api_name(self.name)"
   ]
  },
  {
   "cell_type": "code",
   "execution_count": 8,
   "metadata": {},
   "outputs": [],
   "source": [
    "# | exporti\n",
    "@patch_to(DomoApplication, cls_method=True)\n",
    "async def get_from_id(\n",
    "    cls,\n",
    "    auth: dmda.DomoAuth,\n",
    "    application_id,\n",
    "    return_raw: bool = False,\n",
    "    debug_api: bool = False,\n",
    "    session: httpx.AsyncClient = None,\n",
    "    debug_num_stacks_to_drop=2,\n",
    "):\n",
    "    res = await application_routes.get_application_by_id(\n",
    "        application_id=application_id,\n",
    "        auth=auth,\n",
    "        session=session,\n",
    "        debug_api=debug_api,\n",
    "        debug_num_stacks_to_drop=debug_num_stacks_to_drop,\n",
    "    )\n",
    "\n",
    "    if return_raw:\n",
    "        return res\n",
    "\n",
    "    return cls._from_json(obj=res.response, auth=auth)"
   ]
  },
  {
   "cell_type": "code",
   "execution_count": 9,
   "metadata": {},
   "outputs": [
    {
     "name": "stdout",
     "output_type": "stream",
     "text": [
      "warning this token has not been validated by who_am_i, run get_auth_token first\n",
      "DomoApplication(id='33aab8f0-3397-45e1-933c-755abd0f5b3a',\n",
      "                version='1.0.46_2',\n",
      "                name='Toolkit: Data Watchdog',\n",
      "                customer_id='domo-alpha',\n",
      "                description='Monitors DataSets and DataFlows for execution '\n",
      "                            'errors or execution duration outliers.',\n",
      "                execution_class='com.domo.executor.datawatchdog.DataWatchdogExecutor',\n",
      "                grants=['dataflow.manage',\n",
      "                        'pipeline.executor.job.create',\n",
      "                        'dataset.manage'],\n",
      "                jobs=None)\n"
     ]
    }
   ],
   "source": [
    "# | eval : False\n",
    "token_auth = dmda.DomoTokenAuth(\n",
    "    domo_instance=\"domo-alpha\",\n",
    "    domo_access_token=os.environ[\"ALPHA_ACCESS_TOKEN\"],\n",
    ")\n",
    "test_application = await DomoApplication.get_from_id(\n",
    "    auth=token_auth,\n",
    "    application_id=\"33aab8f0-3397-45e1-933c-755abd0f5b3a\",\n",
    "    return_raw=False,\n",
    ")\n",
    "\n",
    "pprint(test_application)"
   ]
  },
  {
   "cell_type": "code",
   "execution_count": 10,
   "metadata": {},
   "outputs": [],
   "source": [
    "@patch_to(DomoApplication)\n",
    "async def get_jobs(\n",
    "    self,\n",
    "    debug_api: bool = False,\n",
    "    session: Optional[httpx.AsyncClient] = None,\n",
    "    return_raw: bool = False,\n",
    "):\n",
    "\n",
    "    res = await application_routes.get_application_jobs(\n",
    "        auth=self.auth,\n",
    "        application_id=self.id,\n",
    "        debug_api=debug_api,\n",
    "        session=session,\n",
    "        parent_class=self.__class__.__name__,\n",
    "    )\n",
    "\n",
    "    if return_raw:\n",
    "        return res\n",
    "    \n",
    "    job_cls = self._get_job_class()\n",
    "\n",
    "    self.jobs = [job_cls._from_json(job, auth=self.auth) for job in res.response]\n",
    "    return self.jobs"
   ]
  },
  {
   "cell_type": "code",
   "execution_count": 11,
   "metadata": {},
   "outputs": [
    {
     "name": "stdout",
     "output_type": "stream",
     "text": [
      "warning this token has not been validated by who_am_i, run get_auth_token first\n",
      "[DomoJob_RemoteDomoStats(name='domo-community',\n",
      "                         application_id='50e7230f-d2f2-42e2-a208-d94c8ae9f64c',\n",
      "                         logs_dataset_id='da68b3ea-088f-4493-ae69-ee5094feaa29',\n",
      "                         id='f7a1b31f-f774-4eeb-ba85-d56d29b1dedc',\n",
      "                         user_id=1893952720,\n",
      "                         execution_timeout=1440,\n",
      "                         is_enabled=True,\n",
      "                         customer_id='mmmm-0012-0200',\n",
      "                         created_dt=datetime.datetime(2024, 2, 26, 17, 10, 31),\n",
      "                         updated_dt=datetime.datetime(2024, 2, 27, 11, 13, 31),\n",
      "                         description='updated on 2024-02-27',\n",
      "                         execution_payload={'metricsDatasetId': 'da68b3ea-088f-4493-ae69-ee5094feaa29',\n",
      "                                            'policies': {'AccountPermissions': 'b156bfe4-d0e5-4410-8354-b3062973a99c'},\n",
      "                                            'remoteInstance': 'domo-community',\n",
      "                                            'subscriberJobId': 'd29c4551-5ec9-4eb8-8a93-b89e7a4ec300'},\n",
      "                         share_state={'sharedEntities': [{'accessLevel': 'OWNER',\n",
      "                                                          'id': '1893952720',\n",
      "                                                          'type': 'USER'}]},\n",
      "                         accounts=[96],\n",
      "                         triggers=[DomoTrigger(id='38524a92-05bd-459a-946c-33da00f77fa2',\n",
      "                                               job_id='f7a1b31f-f774-4eeb-ba85-d56d29b1dedc',\n",
      "                                               schedule=DomoTrigger_Schedule(schedule_text='0 '\n",
      "                                                                                           '29 '\n",
      "                                                                                           '1 '\n",
      "                                                                                           '? '\n",
      "                                                                                           '* '\n",
      "                                                                                           'MON-SUN '\n",
      "                                                                                           '*',\n",
      "                                                                             schedule_type='scheduleTriggered',\n",
      "                                                                             minute=29,\n",
      "                                                                             hour=1,\n",
      "                                                                             minute_str=None,\n",
      "                                                                             hour_str=None))],\n",
      "                         remote_instance='domo-community',\n",
      "                         subscriber_job_id='d29c4551-5ec9-4eb8-8a93-b89e7a4ec300',\n",
      "                         config=RemoteDomoStats_Config(policies=[RemoteDomoStats_Config_Policy(type='AccountPermissions',\n",
      "                                                                                               dataset_id='b156bfe4-d0e5-4410-8354-b3062973a99c')]))]\n"
     ]
    }
   ],
   "source": [
    "token_auth = dmda.DomoTokenAuth(\n",
    "    domo_instance=\"domo-community\",\n",
    "    domo_access_token=os.environ[\"DOMO_DOJO_ACCESS_TOKEN\"],\n",
    ")\n",
    "\n",
    "test_application = await DomoApplication.get_from_id(\n",
    "    auth=token_auth, application_id=\"50e7230f-d2f2-42e2-a208-d94c8ae9f64c\"\n",
    ")\n",
    "\n",
    "pprint(await test_application.get_jobs())"
   ]
  },
  {
   "cell_type": "code",
   "execution_count": 12,
   "metadata": {},
   "outputs": [],
   "source": [
    "@patch_to(DomoApplication)\n",
    "async def get_schedules(self) -> pd.DataFrame:\n",
    "    if not self.jobs:\n",
    "        await self.get_jobs()\n",
    "\n",
    "    # return self.jobs\n",
    "\n",
    "    schedules = pd.DataFrame(\n",
    "        [\n",
    "            {\n",
    "                **trigger.schedule.to_obj(),\n",
    "                \"job_name\": job.name,\n",
    "                \"job_id\": job.id,\n",
    "                \"description\": job.description,\n",
    "                \"remote_instance\" : job.remote_instance,\n",
    "                \"application\" : self.name\n",
    "            }\n",
    "            for job in self.jobs\n",
    "            for trigger in job.triggers\n",
    "        ]\n",
    "    )\n",
    "\n",
    "    # return schedules\n",
    "\n",
    "    self.jobs_schedule = schedules.sort_values(\n",
    "        [\"hour\", \"minute\"], ascending=True\n",
    "    ).reset_index(drop=True)\n",
    "    return self.jobs_schedule"
   ]
  },
  {
   "cell_type": "code",
   "execution_count": 13,
   "metadata": {},
   "outputs": [
    {
     "data": {
      "text/html": [
       "<div>\n",
       "<style scoped>\n",
       "    .dataframe tbody tr th:only-of-type {\n",
       "        vertical-align: middle;\n",
       "    }\n",
       "\n",
       "    .dataframe tbody tr th {\n",
       "        vertical-align: top;\n",
       "    }\n",
       "\n",
       "    .dataframe thead th {\n",
       "        text-align: right;\n",
       "    }\n",
       "</style>\n",
       "<table border=\"1\" class=\"dataframe\">\n",
       "  <thead>\n",
       "    <tr style=\"text-align: right;\">\n",
       "      <th></th>\n",
       "      <th>hour</th>\n",
       "      <th>minute</th>\n",
       "      <th>job_name</th>\n",
       "      <th>job_id</th>\n",
       "      <th>description</th>\n",
       "      <th>remote_instance</th>\n",
       "      <th>application</th>\n",
       "    </tr>\n",
       "  </thead>\n",
       "  <tbody>\n",
       "    <tr>\n",
       "      <th>0</th>\n",
       "      <td>1</td>\n",
       "      <td>29</td>\n",
       "      <td>domo-community</td>\n",
       "      <td>f7a1b31f-f774-4eeb-ba85-d56d29b1dedc</td>\n",
       "      <td>updated on 2024-02-27</td>\n",
       "      <td>domo-community</td>\n",
       "      <td>Toolkit: Remote Domo Stats</td>\n",
       "    </tr>\n",
       "  </tbody>\n",
       "</table>\n",
       "</div>"
      ],
      "text/plain": [
       "   hour  minute        job_name                                job_id  \\\n",
       "0     1      29  domo-community  f7a1b31f-f774-4eeb-ba85-d56d29b1dedc   \n",
       "\n",
       "             description remote_instance                 application  \n",
       "0  updated on 2024-02-27  domo-community  Toolkit: Remote Domo Stats  "
      ]
     },
     "execution_count": 13,
     "metadata": {},
     "output_type": "execute_result"
    }
   ],
   "source": [
    "#| eval : false\n",
    "\n",
    "test_application = await DomoApplication.get_from_id(\n",
    "    auth=token_auth, application_id=\"50e7230f-d2f2-42e2-a208-d94c8ae9f64c\"\n",
    ")\n",
    "\n",
    "await test_application.get_schedules()"
   ]
  },
  {
   "cell_type": "code",
   "execution_count": 14,
   "metadata": {},
   "outputs": [],
   "source": [
    "# | exporti\n",
    "@patch_to(DomoApplication)\n",
    "async def find_next_job_schedule(self, return_raw: bool = False) -> dmdj.DomoTrigger_Schedule:\n",
    "\n",
    "    await self.get_jobs()\n",
    "    await self.get_schedules()\n",
    "\n",
    "    df_all_hours = pd.DataFrame(range(0, 23), columns=[\"hour\"])\n",
    "    df_all_minutes = pd.DataFrame(range(0, 60), columns=[\"minute\"])\n",
    "\n",
    "    df_all_hours[\"tmp\"] = 1\n",
    "    df_all_minutes[\"tmp\"] = 1\n",
    "    df_all = pd.merge(df_all_hours, df_all_minutes, on=\"tmp\").drop(columns=[\"tmp\"])\n",
    "\n",
    "    # get the number of occurencies of each hour and minutes\n",
    "    schedules_grouped = (\n",
    "        self.jobs_schedule.groupby([\"hour\", \"minute\"])\n",
    "        .size()\n",
    "        .reset_index(name=\"cnt_schedule\")\n",
    "    )\n",
    "\n",
    "    # print(schedules_grouped)\n",
    "    # print(df_all)\n",
    "\n",
    "    schedules_interpolated = pd.merge(\n",
    "        df_all, schedules_grouped, how=\"left\", on=[\"hour\", \"minute\"]\n",
    "    )\n",
    "\n",
    "    schedules_interpolated[\"cnt_schedule\"] = schedules_interpolated[\n",
    "        \"cnt_schedule\"\n",
    "    ].fillna(value=0)\n",
    "    schedules_interpolated.sort_values(\n",
    "        [\"cnt_schedule\", \"hour\", \"minute\"], ascending=True, inplace=True\n",
    "    )\n",
    "\n",
    "    schedules_interpolated.reset_index(drop=True, inplace=True)\n",
    "\n",
    "    if return_raw:\n",
    "        return schedules_interpolated\n",
    "\n",
    "    return dmdj.DomoTrigger_Schedule(\n",
    "        hour=int(schedules_interpolated.loc[0].get(\"hour\")),\n",
    "        minute=int(schedules_interpolated.loc[0].get(\"minute\")),\n",
    "    )"
   ]
  },
  {
   "cell_type": "code",
   "execution_count": 15,
   "metadata": {},
   "outputs": [
    {
     "data": {
      "text/plain": [
       "DomoTrigger_Schedule(schedule_text=None, schedule_type='scheduleTriggered', minute=0, hour=0, minute_str=None, hour_str=None)"
      ]
     },
     "execution_count": 15,
     "metadata": {},
     "output_type": "execute_result"
    }
   ],
   "source": [
    "#| eval : false\n",
    "test_application = await DomoApplication.get_from_id(\n",
    "    auth=token_auth, application_id=\"50e7230f-d2f2-42e2-a208-d94c8ae9f64c\"\n",
    ")\n",
    "await test_application.find_next_job_schedule(return_raw= False)\n",
    "\n"
   ]
  },
  {
   "cell_type": "code",
   "execution_count": 16,
   "metadata": {},
   "outputs": [],
   "source": [
    "#| hide\n",
    "import nbdev\n",
    "nbdev.nbdev_export('50_DomoApplication.ipynb')"
   ]
  }
 ],
 "metadata": {
  "kernelspec": {
   "display_name": "python3",
   "language": "python",
   "name": "python3"
  },
  "language_info": {
   "codemirror_mode": {
    "name": "ipython",
    "version": 3
   },
   "file_extension": ".py",
   "mimetype": "text/x-python",
   "name": "python",
   "nbconvert_exporter": "python",
   "pygments_lexer": "ipython3",
   "version": "3.10.12"
  }
 },
 "nbformat": 4,
 "nbformat_minor": 2
}
