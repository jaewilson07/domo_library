{
 "cells": [
  {
   "cell_type": "raw",
   "metadata": {},
   "source": [
    "---\n",
    "output-file: role_class.html\n",
    "title: Domo Role\n",
    "---\n",
    "\n"
   ]
  },
  {
   "cell_type": "code",
   "execution_count": null,
   "metadata": {},
   "outputs": [],
   "source": [
    "#| default_exp classes.DomoRole"
   ]
  },
  {
   "cell_type": "code",
   "execution_count": null,
   "metadata": {},
   "outputs": [],
   "source": [
    "#| exporti\n",
    "from dataclasses import dataclass, field\n",
    "import httpx\n",
    "import asyncio\n",
    "\n",
    "\n",
    "from fastcore.basics import patch_to\n",
    "\n",
    "import domolibrary.client.DomoAuth as dmda\n",
    "import domolibrary.classes.DomoInstanceConfig as dic\n",
    "import domolibrary.client.DomoError as de\n",
    "\n",
    "import domolibrary.utils.DictDot as util_dd\n",
    "import domolibrary.routes.role as role_routes\n",
    "\n",
    "import domolibrary.classes.DomoUser as dmu\n",
    "import domolibrary.classes.DomoGrant as dmg"
   ]
  },
  {
   "cell_type": "code",
   "execution_count": null,
   "metadata": {},
   "outputs": [],
   "source": [
    "# | export\n",
    "@dataclass\n",
    "class DomoRole:\n",
    "    auth: dmda.DomoAuth = field(repr = False)\n",
    "\n",
    "    id: str\n",
    "    name: str = None\n",
    "    description: str = None\n",
    "    is_system_role: bool = False\n",
    "    is_default_role: bool = False\n",
    "\n",
    "    grant_ls: [dmg.DomoGrant] = field(default_factory=list)\n",
    "    membership_ls: list = field(default_factory=list)\n",
    "\n",
    "    def __post_init__(self):\n",
    "        self.is_system_role = True if self.id <= 5 else 0\n",
    "        \n",
    "        if self.grant_ls:\n",
    "            self.grant_ls = self._valid_grant_ls(self.grant_ls)\n",
    "    \n",
    "    @staticmethod\n",
    "    def _valid_grant_ls(grant_ls ) -> [dmg.DomoGrant]:\n",
    "\n",
    "        if isinstance(grant_ls[0], str):\n",
    "            return [dmg.DomoGrant(grant_str) for grant_str in grant_ls]\n",
    "        \n",
    "        elif isinstance(grant_ls[0], dmg.DomoGrant):\n",
    "            return grant_ls\n",
    "    \n",
    "\n",
    "    # @classmethod\n",
    "    # def _from_str(cls, id, name, description=None, auth: DomoAuth = None):\n",
    "\n",
    "    #     return cls(id=id,\n",
    "    #             name=name,\n",
    "    #             description=description,\n",
    "    #             auth=auth\n",
    "    #             )\n",
    "\n",
    "    @classmethod\n",
    "    def _from_json(cls, obj, auth=dmda.DomoAuth, is_default_role = None):\n",
    "\n",
    "        dd = obj\n",
    "        if not isinstance(dd, util_dd.DictDot):\n",
    "            dd = util_dd.DictDot(obj)\n",
    "\n",
    "        return cls(id=dd.id,\n",
    "                   name=dd.name,\n",
    "                   description=dd.description,\n",
    "                   auth=auth,\n",
    "                   is_default_role = is_default_role\n",
    "                   )\n"
   ]
  },
  {
   "attachments": {},
   "cell_type": "markdown",
   "metadata": {},
   "source": [
    "## Handle Role Grants"
   ]
  },
  {
   "cell_type": "code",
   "execution_count": null,
   "metadata": {},
   "outputs": [],
   "source": [
    "# | export\n",
    "@patch_to(DomoRole)\n",
    "async def get_grants(self: DomoRole,\n",
    "                          auth: dmda.DomoAuth = None,\n",
    "                          role_id: str = None,\n",
    "                          debug_api: bool = False,\n",
    "                          session: httpx.AsyncClient = None,\n",
    "                          return_raw: bool = False\n",
    "                          ):\n",
    "\n",
    "    auth = auth or self.auth\n",
    "    role_id = role_id or self.id\n",
    "    res = await role_routes.get_role_grants(auth=auth,\n",
    "                                            role_id=role_id,\n",
    "                                            debug_api=debug_api,\n",
    "                                            session=session)\n",
    "\n",
    "    if return_raw:\n",
    "        return res\n",
    "        \n",
    "    self.grant_ls = [dmg.DomoGrant(obj) for obj in res.response]\n",
    "\n",
    "    return self.grant_ls\n"
   ]
  },
  {
   "attachments": {},
   "cell_type": "markdown",
   "metadata": {},
   "source": [
    "#### sample implementation of get_role_grants"
   ]
  },
  {
   "cell_type": "code",
   "execution_count": null,
   "metadata": {},
   "outputs": [
    {
     "data": {
      "text/plain": [
       "[DomoGrant(id='versions.deployment.manage', display_group=None, title=None, depends_on_ls=None, description=None, role_membership_ls=None),\n",
       " DomoGrant(id='buzz.admin', display_group=None, title=None, depends_on_ls=None, description=None, role_membership_ls=None),\n",
       " DomoGrant(id='dataflow.admin', display_group=None, title=None, depends_on_ls=None, description=None, role_membership_ls=None),\n",
       " DomoGrant(id='goal.admin', display_group=None, title=None, depends_on_ls=None, description=None, role_membership_ls=None),\n",
       " DomoGrant(id='dataset.admin', display_group=None, title=None, depends_on_ls=None, description=None, role_membership_ls=None)]"
      ]
     },
     "execution_count": null,
     "metadata": {},
     "output_type": "execute_result"
    }
   ],
   "source": [
    "import os\n",
    "import pandas as pd\n",
    "\n",
    "token_auth = dmda.DomoTokenAuth(\n",
    "    domo_instance=\"domo-community\",\n",
    "    domo_access_token=os.environ[\"DOMO_DOJO_ACCESS_TOKEN\"]\n",
    ")\n",
    "\n",
    "domo_role = DomoRole(auth = token_auth, id = 1)\n",
    "\n",
    "res = await domo_role.get_grants(return_raw= False)\n",
    "res[0:5]\n"
   ]
  },
  {
   "cell_type": "code",
   "execution_count": null,
   "metadata": {},
   "outputs": [],
   "source": [
    "# | export\n",
    "\n",
    "class SetRoleGrants_MissingGrants(de.DomoError):\n",
    "    def __init__(self, role_id, missing_grants: [str], domo_instance):\n",
    "        super().__init__(domo_instance=domo_instance, entity_id=role_id,\n",
    "                         message=f\"failed to add grants: {', '.join(missing_grants)}\")\n",
    "\n",
    "\n",
    "@patch_to(DomoRole)\n",
    "async def set_grants(self: DomoRole,\n",
    "                     grant_ls: list[dmg.DomoGrant],\n",
    "                     role_id: str = None,\n",
    "                     auth: dmda.DomoAuth = None,\n",
    "                     debug_api: bool = False):\n",
    "\n",
    "    auth = auth or self.auth\n",
    "    role_id = role_id or self.id\n",
    "\n",
    "    domo_grants = self._valid_grant_ls(grant_ls)\n",
    "\n",
    "    # dmic = dic.DomoInstanceConfig(auth = auth)\n",
    "    # all_grants = await dmic.get_grants()\n",
    "\n",
    "    # filtered_grant_ls = []\n",
    "    \n",
    "    # for domo_grant in all_grants:\n",
    "    #     if domo_grant.id in grant_ls:\n",
    "    #         filtered_grant_ls.append(domo_grant.id)\n",
    "\n",
    "    #         if domo_grant.depends_on_ls:\n",
    "    #             for parent_grant_id in domo_grant.depends_on_ls:\n",
    "    #                 match_grant = next(( domo_grant for domo_grant in all_grants if parent_grant_id == domo_grant.id ))\n",
    "    #                 if match_grant:\n",
    "    #                     filtered_grant_ls.append(match_grant.id)\n",
    "\n",
    "    \n",
    "    \n",
    "    # set grants\n",
    "    res = await role_routes.set_role_grants(auth=auth,\n",
    "                                            role_id=role_id,\n",
    "                                            role_grant_ls=[domo_grant.id for domo_grant in domo_grants],\n",
    "                                            debug_api=debug_api)\n",
    "\n",
    "    # validate grants\n",
    "    await asyncio.sleep(2)\n",
    "\n",
    "    all_grants = await self.get_grants(auth=auth,\n",
    "                                        debug_api=debug_api)\n",
    "\n",
    "    missing_grants = [\n",
    "        grant.id for domo_grant in domo_grants if domo_grant not in all_grants]\n",
    "\n",
    "    if missing_grants:\n",
    "        raise SetRoleGrants_MissingGrants(\n",
    "            role_id=role_id, missing_grants=missing_grants, domo_instance=auth.domo_instance)\n",
    "\n",
    "    return domo_grants\n"
   ]
  },
  {
   "attachments": {},
   "cell_type": "markdown",
   "metadata": {},
   "source": [
    "#### sample implementation of set_grants"
   ]
  },
  {
   "cell_type": "code",
   "execution_count": null,
   "metadata": {},
   "outputs": [
    {
     "data": {
      "text/plain": [
       "[DomoGrant(id='cloud.admin', display_group=None, title=None, depends_on_ls=None, description=None, role_membership_ls=None),\n",
       " DomoGrant(id='versions.repository.admin', display_group=None, title=None, depends_on_ls=None, description=None, role_membership_ls=None),\n",
       " DomoGrant(id='codeengine.package.manage', display_group=None, title=None, depends_on_ls=None, description=None, role_membership_ls=None),\n",
       " DomoGrant(id='appstore.admin', display_group=None, title=None, depends_on_ls=None, description=None, role_membership_ls=None),\n",
       " DomoGrant(id='datastore.admin', display_group=None, title=None, depends_on_ls=None, description=None, role_membership_ls=None),\n",
       " DomoGrant(id='certifiedcontent.admin', display_group=None, title=None, depends_on_ls=None, description=None, role_membership_ls=None)]"
      ]
     },
     "execution_count": null,
     "metadata": {},
     "output_type": "execute_result"
    }
   ],
   "source": [
    "import os\n",
    "import pandas as pd\n",
    "\n",
    "token_auth = dmda.DomoTokenAuth(\n",
    "    domo_instance=\"domo-community\",\n",
    "    domo_access_token=os.environ[\"DOMO_DOJO_ACCESS_TOKEN\"]\n",
    ")\n",
    "\n",
    "domo_role = DomoRole(id=104295428, auth=token_auth)\n",
    "\n",
    "role_grant_ls = ['cloud.admin', 'versions.repository.admin',\n",
    "                 'codeengine.package.manage', 'appstore.admin', 'datastore.admin',\n",
    "                 'certifiedcontent.admin']\n",
    "\n",
    "await domo_role.set_grants(grant_ls=role_grant_ls)\n"
   ]
  },
  {
   "attachments": {},
   "cell_type": "markdown",
   "metadata": {},
   "source": [
    "## Handle Role Membership"
   ]
  },
  {
   "cell_type": "code",
   "execution_count": null,
   "metadata": {},
   "outputs": [],
   "source": [
    "# | export\n",
    "\n",
    "@patch_to(DomoRole)\n",
    "async def get_membership(self,\n",
    "                         role_id=None,\n",
    "                         auth: dmda.DomoAuth = None,\n",
    "                         return_raw:bool = False,\n",
    "                         debug_api: bool = False, session: httpx.AsyncClient = None):\n",
    "\n",
    "    auth = auth or self.auth\n",
    "    role_id = role_id or self.id\n",
    "\n",
    "    res = await role_routes.get_role_membership(auth=auth,\n",
    "                                                role_id=role_id,\n",
    "                                                debug_api=debug_api,\n",
    "                                                session=session)\n",
    "\n",
    "    if return_raw:\n",
    "        return res.response\n",
    "\n",
    "    membership_ls = [dmu.DomoUser._from_search_json(user_obj = obj, auth = auth)for obj in res.response]\n",
    "\n",
    "    self.membership_ls = membership_ls\n",
    "\n",
    "    return membership_ls\n"
   ]
  },
  {
   "attachments": {},
   "cell_type": "markdown",
   "metadata": {},
   "source": [
    "#### sample implementation of get_membership"
   ]
  },
  {
   "cell_type": "code",
   "execution_count": null,
   "metadata": {},
   "outputs": [
    {
     "data": {
      "text/plain": [
       "[DomoUser(id='1345408759', display_name='Alexis Lorenz (DataMaven)', email_address='DataMaven42@gmail.com', role_id=1, publisher_domain=None, subscriber_domain=None, virtual_user_id=None),\n",
       " DomoUser(id='1102391116', display_name='Andrea Henderson', email_address='andrea.henderson@domo.com', role_id=1, publisher_domain=None, subscriber_domain=None, virtual_user_id=None),\n",
       " DomoUser(id='1095515127', display_name='Andrew Chaffin', email_address='andrew@crystalballers.ai', role_id=1, publisher_domain=None, subscriber_domain=None, virtual_user_id=None),\n",
       " DomoUser(id='1865099622', display_name='Ben Schein', email_address='Ben.Schein@domo.com', role_id=1, publisher_domain=None, subscriber_domain=None, virtual_user_id=None),\n",
       " DomoUser(id='587894148', display_name='Bryan Van Kampen', email_address='bryan@bvankampen.net', role_id=1, publisher_domain=None, subscriber_domain=None, virtual_user_id=None),\n",
       " DomoUser(id='307632801', display_name='Dan Brinton', email_address='Dan.Brinton@domo.com', role_id=1, publisher_domain=None, subscriber_domain=None, virtual_user_id=None),\n",
       " DomoUser(id='68216396', display_name='Elliott Leonard', email_address='egleonard88@gmail.com', role_id=1, publisher_domain=None, subscriber_domain=None, virtual_user_id=None),\n",
       " DomoUser(id='55874022', display_name='Grant Smith', email_address='grantsmith@gmail.com', role_id=1, publisher_domain=None, subscriber_domain=None, virtual_user_id=None),\n",
       " DomoUser(id='805381129', display_name='Jack Wang', email_address='jack.wang@domo.com', role_id=1, publisher_domain=None, subscriber_domain=None, virtual_user_id=None),\n",
       " DomoUser(id='1893952720', display_name='Jae Wilson1', email_address='jae@onyxreporting.com', role_id=1, publisher_domain=None, subscriber_domain=None, virtual_user_id=None),\n",
       " DomoUser(id='583215149', display_name='John Jarnagin', email_address='John.Jarnagin@domo.com', role_id=1, publisher_domain=None, subscriber_domain=None, virtual_user_id=None),\n",
       " DomoUser(id='475856860', display_name='Noah Finberg', email_address='noah.finberg@domo.com', role_id=1, publisher_domain=None, subscriber_domain=None, virtual_user_id=None),\n",
       " DomoUser(id='617808774', display_name='Richard Carey', email_address='Richard.Carey@domo.com', role_id=1, publisher_domain=None, subscriber_domain=None, virtual_user_id=None)]"
      ]
     },
     "execution_count": null,
     "metadata": {},
     "output_type": "execute_result"
    }
   ],
   "source": [
    "import os\n",
    "import pandas as pd\n",
    "\n",
    "token_auth = dmda.DomoTokenAuth(\n",
    "    domo_instance=\"domo-community\",\n",
    "    domo_access_token=os.environ[\"DOMO_DOJO_ACCESS_TOKEN\"]\n",
    ")\n",
    "\n",
    "domo_role = DomoRole(id=1, auth=token_auth)\n",
    "\n",
    "await domo_role.get_membership(return_raw=False)\n",
    "\n"
   ]
  },
  {
   "cell_type": "code",
   "execution_count": null,
   "metadata": {},
   "outputs": [],
   "source": [
    "#| export\n",
    "\n",
    "class AddUser_Error(de.DomoError):\n",
    "    def __init__(self, role_id, domo_instance, user_id, user_name = None):\n",
    "        user_str = f\"{user_id} - {user_name}\" if user_name else user_id\n",
    "        super().__init__(domo_instance = domo_instance, message = f\"unable to add {user_str} to role {role_id}\")"
   ]
  },
  {
   "cell_type": "code",
   "execution_count": null,
   "metadata": {},
   "outputs": [],
   "source": [
    "# | export\n",
    "@patch_to(DomoRole)\n",
    "async def add_user(self,\n",
    "                   user: dmu.DomoUser,\n",
    "                   role_id: str = None,\n",
    "                   auth: dmda.DomoAuth = None, debug_api: bool = False,\n",
    "                   session : httpx.AsyncClient = None\n",
    "                   ):\n",
    "\n",
    "    role_id = role_id or self.id\n",
    "    auth = auth or self.auth\n",
    "\n",
    "    res = await role_routes.role_membership_add_users(auth=auth,\n",
    "                                                      role_id=role_id,\n",
    "                                                      user_list=[user.id],\n",
    "                                                      debug_api=debug_api,\n",
    "                                                      session = session\n",
    "                                                      )\n",
    "\n",
    "    domo_members = await self.get_membership(auth=auth or self.auth,\n",
    "                                             role_id=role_id or self.id,\n",
    "                                             debug_api=debug_api)\n",
    "    self.membership_ls = domo_members\n",
    "\n",
    "    if user not in domo_members:\n",
    "        raise AddUser_Error(role_id=role_id, domo_instance=auth.domo_instance,\n",
    "                            user_id=user.id, user_name=user.display_name)\n",
    "\n",
    "    return domo_members\n"
   ]
  },
  {
   "cell_type": "markdown",
   "metadata": {},
   "source": [
    "#### sample implementation of add_user"
   ]
  },
  {
   "cell_type": "code",
   "execution_count": null,
   "metadata": {},
   "outputs": [
    {
     "data": {
      "text/plain": [
       "[DomoUser(id='1345408759', display_name='Alexis Lorenz (DataMaven)', email_address='DataMaven42@gmail.com', role_id=1, publisher_domain=None, subscriber_domain=None, virtual_user_id=None),\n",
       " DomoUser(id='1102391116', display_name='Andrea Henderson', email_address='andrea.henderson@domo.com', role_id=1, publisher_domain=None, subscriber_domain=None, virtual_user_id=None),\n",
       " DomoUser(id='1095515127', display_name='Andrew Chaffin', email_address='andrew@crystalballers.ai', role_id=1, publisher_domain=None, subscriber_domain=None, virtual_user_id=None),\n",
       " DomoUser(id='1865099622', display_name='Ben Schein', email_address='Ben.Schein@domo.com', role_id=1, publisher_domain=None, subscriber_domain=None, virtual_user_id=None),\n",
       " DomoUser(id='587894148', display_name='Bryan Van Kampen', email_address='bryan@bvankampen.net', role_id=1, publisher_domain=None, subscriber_domain=None, virtual_user_id=None),\n",
       " DomoUser(id='307632801', display_name='Dan Brinton', email_address='Dan.Brinton@domo.com', role_id=1, publisher_domain=None, subscriber_domain=None, virtual_user_id=None),\n",
       " DomoUser(id='68216396', display_name='Elliott Leonard', email_address='egleonard88@gmail.com', role_id=1, publisher_domain=None, subscriber_domain=None, virtual_user_id=None),\n",
       " DomoUser(id='55874022', display_name='Grant Smith', email_address='grantsmith@gmail.com', role_id=1, publisher_domain=None, subscriber_domain=None, virtual_user_id=None),\n",
       " DomoUser(id='805381129', display_name='Jack Wang', email_address='jack.wang@domo.com', role_id=1, publisher_domain=None, subscriber_domain=None, virtual_user_id=None),\n",
       " DomoUser(id='1893952720', display_name='Jae Wilson1', email_address='jae@onyxreporting.com', role_id=1, publisher_domain=None, subscriber_domain=None, virtual_user_id=None),\n",
       " DomoUser(id='583215149', display_name='John Jarnagin', email_address='John.Jarnagin@domo.com', role_id=1, publisher_domain=None, subscriber_domain=None, virtual_user_id=None),\n",
       " DomoUser(id='475856860', display_name='Noah Finberg', email_address='noah.finberg@domo.com', role_id=1, publisher_domain=None, subscriber_domain=None, virtual_user_id=None),\n",
       " DomoUser(id='617808774', display_name='Richard Carey', email_address='Richard.Carey@domo.com', role_id=1, publisher_domain=None, subscriber_domain=None, virtual_user_id=None)]"
      ]
     },
     "execution_count": null,
     "metadata": {},
     "output_type": "execute_result"
    }
   ],
   "source": [
    "import os\n",
    "import pandas as pd\n",
    "\n",
    "token_auth = dmda.DomoTokenAuth(\n",
    "    domo_instance=\"domo-community\",\n",
    "    domo_access_token=os.environ[\"DOMO_DOJO_ACCESS_TOKEN\"]\n",
    ")\n",
    "\n",
    "domo_user = dmu.DomoUser(id = 587894148 , auth = token_auth)\n",
    "domo_role = DomoRole(id=1, auth=token_auth)\n",
    "\n",
    "await domo_role.add_user(user = domo_user)\n"
   ]
  },
  {
   "attachments": {},
   "cell_type": "markdown",
   "metadata": {},
   "source": [
    "## Handle Role Metadata"
   ]
  },
  {
   "cell_type": "code",
   "execution_count": null,
   "metadata": {},
   "outputs": [],
   "source": [
    "# | export\n",
    "\n",
    "@patch_to(DomoRole)\n",
    "async def update_role_metadata(self : DomoRole,\n",
    "                               auth: dmda.DomoAuth = None,\n",
    "                               role_name=None,\n",
    "                               role_description: str = None,\n",
    "                               debug_api: bool = False,\n",
    "                               session: httpx.AsyncClient = None,\n",
    "                               return_raw: bool = False\n",
    "                               ):\n",
    "\n",
    "    auth = auth or self.auth\n",
    "    role_name = role_name or self.name\n",
    "\n",
    "    res = await role_routes.update_role_metadata(\n",
    "        role_id=self.id,\n",
    "        role_name=role_name,\n",
    "        role_description=role_description or self.description,\n",
    "        auth = auth,\n",
    "        debug_api=debug_api,\n",
    "        session=session\n",
    "    )\n",
    "\n",
    "    if return_raw:\n",
    "        return res\n",
    "\n",
    "    role_ls = await role_routes.get_roles(auth = auth)\n",
    "\n",
    "    domo_role =  next(\n",
    "        (DomoRole._from_json(role, auth = auth) for role in role_ls.response if role.get('name') == role_name), None)\n",
    "    \n",
    "    return domo_role\n",
    "\n",
    "\n"
   ]
  },
  {
   "cell_type": "markdown",
   "metadata": {},
   "source": [
    "#### sample implementation of update_role_metadata"
   ]
  },
  {
   "cell_type": "code",
   "execution_count": null,
   "metadata": {},
   "outputs": [
    {
     "data": {
      "text/plain": [
       "DomoRole(id=810756122, name='super_admin', description='updated via domolibrary on 2023-04-10', is_system_role=0, is_default_role=None, grant_ls=[], membership_ls=[])"
      ]
     },
     "execution_count": null,
     "metadata": {},
     "output_type": "execute_result"
    }
   ],
   "source": [
    "import os\n",
    "import datetime as dt\n",
    "\n",
    "token_auth = dmda.DomoTokenAuth(\n",
    "    domo_instance=\"domo-community\",\n",
    "    domo_access_token=os.environ[\"DOMO_DOJO_ACCESS_TOKEN\"]\n",
    ")\n",
    "\n",
    "# retrieve the super_admin role\n",
    "role_res = await role_routes.get_roles(auth=token_auth)\n",
    "domo_role = next((DomoRole._from_json(role, auth=token_auth)\n",
    "                 for role in role_res.response if role.get('name') == 'super_admin'), None)\n",
    "\n",
    "await domo_role.update_role_metadata(role_description=f'updated via domolibrary on {dt.date.today()}', debug_api=False)\n"
   ]
  },
  {
   "attachments": {},
   "cell_type": "markdown",
   "metadata": {},
   "source": [
    "## handle CRUD Role"
   ]
  },
  {
   "cell_type": "code",
   "execution_count": null,
   "metadata": {},
   "outputs": [],
   "source": [
    "# | export\n",
    "class DeleteRole_Error(de.DomoError):\n",
    "    def __init__(self,\n",
    "                 role_id,\n",
    "                 domo_instance):\n",
    "        super().__init__(\n",
    "            message=f'role: {role_id} not found', domo_instance=domo_instance)\n",
    "\n",
    "\n",
    "@patch_to(DomoRole, cls_method=True)\n",
    "async def delete_role(cls: DomoRole,\n",
    "                      role_id: int,\n",
    "                      auth: dmda.DomoAuth = None,\n",
    "                      debug_api: bool = False,\n",
    "                      session: httpx.AsyncClient = None,\n",
    "                      ):\n",
    "\n",
    "    domo_res = await role_routes.get_roles(auth=auth)\n",
    "\n",
    "    domo_role = next((role for role in domo_res.response if role.get('id') == role_id), None)\n",
    "\n",
    "    if not domo_role:\n",
    "        raise DeleteRole_Error(\n",
    "            role_id=role_id, domo_instance=auth.domo_instance)\n",
    "\n",
    "    return await role_routes.delete_role(\n",
    "        role_id= role_id,\n",
    "        auth=auth,\n",
    "        debug_api=debug_api,\n",
    "        session=session\n",
    "    )\n"
   ]
  },
  {
   "attachments": {},
   "cell_type": "markdown",
   "metadata": {},
   "source": [
    "#### sample implementation of delete_role"
   ]
  },
  {
   "cell_type": "code",
   "execution_count": null,
   "metadata": {},
   "outputs": [
    {
     "name": "stdout",
     "output_type": "stream",
     "text": [
      "role: 1019636738 not found at domo-community\n"
     ]
    }
   ],
   "source": [
    "import os\n",
    "import datetime as dt\n",
    "\n",
    "token_auth = dmda.DomoTokenAuth(\n",
    "    domo_instance=\"domo-community\",\n",
    "    domo_access_token=os.environ[\"DOMO_DOJO_ACCESS_TOKEN\"]\n",
    ")\n",
    "\n",
    "try:\n",
    "    await DomoRole.delete_role(role_id = 1019636738 , auth = token_auth)\n",
    "except Exception as e:\n",
    "    print(e)\n",
    "    "
   ]
  },
  {
   "attachments": {},
   "cell_type": "markdown",
   "metadata": {},
   "source": [
    "# handle Domo Roles"
   ]
  },
  {
   "cell_type": "code",
   "execution_count": null,
   "metadata": {},
   "outputs": [],
   "source": [
    "# | export\n",
    "@dataclass\n",
    "class DomoRoles:\n",
    "    auth: dmda.DomoAuth\n"
   ]
  },
  {
   "cell_type": "code",
   "execution_count": null,
   "metadata": {},
   "outputs": [],
   "source": [
    "# | export\n",
    "\n",
    "@patch_to(DomoRoles, cls_method=True)\n",
    "async def get_roles(cls: DomoRoles,\n",
    "                    auth: dmda.DomoAuth,\n",
    "                    debug_api: bool = False,\n",
    "                    session: httpx.AsyncClient = None,\n",
    "                    return_raw: bool = False\n",
    "                    ):\n",
    "\n",
    "    res = await role_routes.get_roles(auth=auth, session=session, debug_api=debug_api)\n",
    "\n",
    "    if return_raw:\n",
    "        return res\n",
    "\n",
    "    role_ls = res.response\n",
    "\n",
    "    default_role_res = await role_routes.get_default_role(auth=auth, session=session, debug_api=debug_api)\n",
    "\n",
    "    return [DomoRole._from_json(role,\n",
    "                                auth, \n",
    "                                is_default_role=str(default_role_res.response) == str(role.get('id'))) for role in res.response]\n"
   ]
  },
  {
   "attachments": {},
   "cell_type": "markdown",
   "metadata": {},
   "source": [
    "## Search and Get Roles"
   ]
  },
  {
   "cell_type": "code",
   "execution_count": null,
   "metadata": {},
   "outputs": [
    {
     "data": {
      "text/plain": [
       "[DomoRole(id=1, name='Admin', description='Full access to everything', is_system_role=True, is_default_role=False, grant_ls=[], membership_ls=[]),\n",
       " DomoRole(id=2, name='Privileged', description='Full access except for editing users and settings owners', is_system_role=True, is_default_role=False, grant_ls=[], membership_ls=[]),\n",
       " DomoRole(id=3, name='Editor', description='Can edit Cards, Pages, DataSets, and Dataflows', is_system_role=True, is_default_role=False, grant_ls=[], membership_ls=[]),\n",
       " DomoRole(id=4, name='Participant', description='Read only access on Cards, Pages DataSets and Dataflows', is_system_role=True, is_default_role=False, grant_ls=[], membership_ls=[]),\n",
       " DomoRole(id=5, name='Social', description='Access limited to social features', is_system_role=True, is_default_role=False, grant_ls=[], membership_ls=[]),\n",
       " DomoRole(id=104295428, name='super_admin_v3', description='upsert via DomoLibrary', is_system_role=0, is_default_role=False, grant_ls=[], membership_ls=[]),\n",
       " DomoRole(id=275763436, name='Super_Admin', description='Full access to everything', is_system_role=0, is_default_role=False, grant_ls=[], membership_ls=[]),\n",
       " DomoRole(id=810756122, name='super_admin', description='updated via domolibrary on 2023-04-10', is_system_role=0, is_default_role=False, grant_ls=[], membership_ls=[]),\n",
       " DomoRole(id=1563101750, name='dl_department_admin', description='deployed via domo_library script - updated 2023-04-04', is_system_role=0, is_default_role=False, grant_ls=[], membership_ls=[]),\n",
       " DomoRole(id=1662852841, name='dl_test', description='deployed via domo_library script - updated 2023-04-04', is_system_role=0, is_default_role=False, grant_ls=[], membership_ls=[]),\n",
       " DomoRole(id=1927158482, name='Domo_Admins', description='Full access to everything', is_system_role=0, is_default_role=False, grant_ls=[], membership_ls=[]),\n",
       " DomoRole(id=2097317660, name='Dojo_Default_Priviliged', description='Full access except for editing users and settings owners', is_system_role=0, is_default_role=True, grant_ls=[], membership_ls=[])]"
      ]
     },
     "execution_count": null,
     "metadata": {},
     "output_type": "execute_result"
    }
   ],
   "source": [
    "import os\n",
    "import pandas as pd\n",
    "\n",
    "token_auth = dmda.DomoTokenAuth(\n",
    "    domo_instance=\"domo-community\",\n",
    "    domo_access_token=os.environ[\"DOMO_DOJO_ACCESS_TOKEN\"]\n",
    ")\n",
    "\n",
    "await DomoRoles.get_roles(auth=token_auth)"
   ]
  },
  {
   "cell_type": "code",
   "execution_count": null,
   "metadata": {},
   "outputs": [],
   "source": [
    "#| export\n",
    "class SearchRole_NotFound(de.DomoError):\n",
    "    def __init__(self, domo_instance,\n",
    "                 role_id,\n",
    "                 message='not found',\n",
    "                 function_name='search_role'):\n",
    "\n",
    "        super().__init__(domo_instance=domo_instance, message=message,\n",
    "                         entity_id=role_id, function_name=function_name)\n",
    "\n",
    "@patch_to(DomoRoles, cls_method=True)\n",
    "async def search_role(cls: DomoRoles,\n",
    "                    auth: dmda.DomoAuth,\n",
    "                    role_name: str = None,\n",
    "                    role_id : str = None,\n",
    "                    debug_api: bool = False,\n",
    "                    session: httpx.AsyncClient = None,\n",
    "                    return_raw: bool = False\n",
    "                    ):\n",
    "\n",
    "    all_roles = await DomoRoles.get_roles( auth=auth)\n",
    "\n",
    "    if role_name:\n",
    "        domo_role = next(\n",
    "            (role for role in all_roles if role.name == role_name), None)\n",
    "    \n",
    "    if role_id:\n",
    "        domo_role = next(\n",
    "            (role for role in all_roles if str(role.id) == str(role_id)), None)\n",
    "\n",
    "    if not domo_role:\n",
    "        raise SearchRole_NotFound(domo_instance=auth.domo_instance, role_id=role_name)\n",
    "\n",
    "    return domo_role"
   ]
  },
  {
   "attachments": {},
   "cell_type": "markdown",
   "metadata": {},
   "source": [
    "#### sample implementation of searhc_role"
   ]
  },
  {
   "cell_type": "code",
   "execution_count": null,
   "metadata": {},
   "outputs": [
    {
     "data": {
      "text/plain": [
       "DomoRole(id=1, name='Admin', description='Full access to everything', is_system_role=True, is_default_role=False, grant_ls=[], membership_ls=[])"
      ]
     },
     "execution_count": null,
     "metadata": {},
     "output_type": "execute_result"
    }
   ],
   "source": [
    "import os\n",
    "import pandas as pd\n",
    "\n",
    "token_auth = dmda.DomoTokenAuth(\n",
    "    domo_instance=\"domo-community\",\n",
    "    domo_access_token=os.environ[\"DOMO_DOJO_ACCESS_TOKEN\"]\n",
    ")\n",
    "\n",
    "await DomoRoles.search_role(auth=token_auth, role_name = 'Admin')\n"
   ]
  },
  {
   "attachments": {},
   "cell_type": "markdown",
   "metadata": {},
   "source": [
    "## Handle CRUD Roles"
   ]
  },
  {
   "cell_type": "code",
   "execution_count": null,
   "metadata": {},
   "outputs": [],
   "source": [
    "#| export\n",
    "class CreateRole_Error(de.DomoError):\n",
    "    def __init__(self, domo_instance,\n",
    "                 role_id,\n",
    "                 message,\n",
    "                 status,\n",
    "                 function_name='create_role'):\n",
    "\n",
    "        super().__init__(domo_instance=domo_instance,\n",
    "                         message=message, status=status,\n",
    "                         entity_id=role_id,\n",
    "                         function_name=function_name)\n"
   ]
  },
  {
   "cell_type": "code",
   "execution_count": null,
   "metadata": {},
   "outputs": [],
   "source": [
    "#| export\n",
    "@patch_to(DomoRoles, cls_method=True)\n",
    "async def create_role(cls: DomoRoles,\n",
    "                      auth: dmda.DomoAuth,\n",
    "                      name: str,\n",
    "                      description: str = None,\n",
    "                      debug_api: bool = False,\n",
    "                      session : httpx.AsyncClient = None\n",
    "                      ):\n",
    "\n",
    "    res = await role_routes.create_role(auth=auth,\n",
    "                                        name=name,\n",
    "                                        description=description,\n",
    "                                        debug_api=debug_api,\n",
    "                                        session = session\n",
    "                                        )\n",
    "                                    \n",
    "    if not res.is_success:\n",
    "        role_res = await cls.get_roles(auth = auth)\n",
    "        \n",
    "        domo_role = next((role for role in role_res if role.name == name))\n",
    "\n",
    "        if domo_role:\n",
    "            raise CreateRole_Error(\n",
    "                domo_instance = auth.domo_instance,\n",
    "                role_id = name,\n",
    "                message = \"role already exists\",\n",
    "                status = res.status,\n",
    "        )\n",
    "\n",
    "        raise CreateRole_Error(\n",
    "            domo_instance = auth.domo_instance,\n",
    "            role_id = name,\n",
    "            message = res.response,\n",
    "            status = res.status,\n",
    "        )\n",
    "    \n",
    "    return await DomoRoles.search_role(auth = auth, role_name= name)\n",
    "    "
   ]
  },
  {
   "attachments": {},
   "cell_type": "markdown",
   "metadata": {},
   "source": [
    "#### sample implementation of create_role"
   ]
  },
  {
   "cell_type": "code",
   "execution_count": null,
   "metadata": {},
   "outputs": [
    {
     "name": "stdout",
     "output_type": "stream",
     "text": [
      "create_role: super_admin :Status 400 - role already exists at domo-community\n"
     ]
    }
   ],
   "source": [
    "token_auth = dmda.DomoTokenAuth(\n",
    "    domo_instance=\"domo-community\",\n",
    "    domo_access_token=os.environ[\"DOMO_DOJO_ACCESS_TOKEN\"]\n",
    ")\n",
    "\n",
    "try:\n",
    "    await DomoRoles.create_role(auth = token_auth, name = 'super_admin', description = 'created via DomoLibrary',)\n",
    "except Exception as e:\n",
    "    print(e)"
   ]
  },
  {
   "cell_type": "code",
   "execution_count": null,
   "metadata": {},
   "outputs": [],
   "source": [
    "# | export\n",
    "\n",
    "@patch_to(DomoRoles, cls_method=True)\n",
    "async def upsert_role(cls: DomoRoles,\n",
    "                      auth: dmda.DomoAuth,\n",
    "                      name: str,\n",
    "                      description: str = None,\n",
    "                      grant_ls : [dmg.DomoGrant] = None,\n",
    "                      debug_api: bool = False,\n",
    "                      debug_prn: bool = False,\n",
    "                      session: httpx.AsyncClient = None\n",
    "                      ):\n",
    "\n",
    "    try:\n",
    "        domo_role = await DomoRoles.search_role(role_name=name,\n",
    "                                                auth=auth,\n",
    "                                                debug_api=debug_api,\n",
    "                                                session=session,\n",
    "                                                )\n",
    "\n",
    "        if domo_role:\n",
    "            await domo_role.update_role_metadata(\n",
    "                role_name=name,\n",
    "                role_description=description,\n",
    "                session=session\n",
    "            )\n",
    "        \n",
    "\n",
    "    except SearchRole_NotFound as e:\n",
    "        if debug_prn:\n",
    "            print(\n",
    "                f'No role match -- creating new role in {auth.domo_instance}')\n",
    "\n",
    "        domo_role = await DomoRoles.create_role(auth=auth,\n",
    "                                           name=name, description=description,\n",
    "                                           debug_api=debug_api, session=session)\n",
    "    \n",
    "    finally:\n",
    "        if grant_ls:\n",
    "            grant_ls = domo_role._valid_grant_ls(grant_ls)\n",
    "            await domo_role.set_grants(grant_ls= grant_ls)\n",
    "            \n",
    "\n",
    "        return domo_role\n"
   ]
  },
  {
   "cell_type": "markdown",
   "metadata": {},
   "source": [
    "#### sample implementation of upsert_role"
   ]
  },
  {
   "cell_type": "code",
   "execution_count": null,
   "metadata": {},
   "outputs": [
    {
     "data": {
      "text/plain": [
       "DomoRole(id=104295428, name='super_admin_v3', description='upsert via DomoLibrary', is_system_role=0, is_default_role=False, grant_ls=[DomoGrant(id='cloud.admin', display_group=None, title=None, depends_on_ls=None, description=None, role_membership_ls=None), DomoGrant(id='versions.repository.admin', display_group=None, title=None, depends_on_ls=None, description=None, role_membership_ls=None), DomoGrant(id='codeengine.package.manage', display_group=None, title=None, depends_on_ls=None, description=None, role_membership_ls=None), DomoGrant(id='appstore.admin', display_group=None, title=None, depends_on_ls=None, description=None, role_membership_ls=None), DomoGrant(id='datastore.admin', display_group=None, title=None, depends_on_ls=None, description=None, role_membership_ls=None), DomoGrant(id='certifiedcontent.admin', display_group=None, title=None, depends_on_ls=None, description=None, role_membership_ls=None)], membership_ls=[])"
      ]
     },
     "execution_count": null,
     "metadata": {},
     "output_type": "execute_result"
    }
   ],
   "source": [
    "token_auth = dmda.DomoTokenAuth(\n",
    "    domo_instance=\"domo-community\",\n",
    "    domo_access_token=os.environ[\"DOMO_DOJO_ACCESS_TOKEN\"]\n",
    ")\n",
    "\n",
    "grant_ls = ['cloud.admin',\n",
    "            'versions.repository.admin',\n",
    "            'codeengine.package.manage',\n",
    "            'appstore.admin',\n",
    "            'datastore.admin',\n",
    "            'certifiedcontent.admin']\n",
    "\n",
    "await DomoRoles.upsert_role(auth=token_auth, name='super_admin_v3', description='upsert via DomoLibrary',grant_ls= grant_ls)\n"
   ]
  },
  {
   "cell_type": "code",
   "execution_count": null,
   "metadata": {},
   "outputs": [],
   "source": [
    "async def get_default_role(auth, debug_api:bool = False):\n",
    "    url = f\"https://{auth.domo_instance}.domo.com/api/content/v1/customer-states/user.roleid.default\"\n",
    "    params = [ {'defaultValue' :2} , {'ignoreCache': True}]\n",
    "\n",
    "    return await role_routes.set_default_role(auth=self.auth,\n",
    "                                                role_id=self.id,\n",
    "                                                debug_api=debug_api)\n"
   ]
  },
  {
   "cell_type": "code",
   "execution_count": null,
   "metadata": {},
   "outputs": [],
   "source": [
    "#| export\n",
    "async def set_as_default_role(self, debug_api: bool = False, session : httpx.AsyncClient = None):\n",
    "    return await role_routes.set_default_role(auth=self.auth,\n",
    "                                                role_id=self.id,\n",
    "                                                debug_api=debug_api, session = session\n",
    "                                                )\n"
   ]
  },
  {
   "cell_type": "code",
   "execution_count": null,
   "metadata": {},
   "outputs": [
    {
     "name": "stderr",
     "output_type": "stream",
     "text": [
      "Bad pipe message: %s [b'\\x9d\\x18\\xf2Y\\x0e\\xc0\\xa1\\x15\\xf3\\xfbz\\x8eS\\xee\\x10\\x1a\\xad\\xc6 Z7\\xfa\\xc6\\xb6\\xde\\xc4\\xc3\\x9b', b'\\x90\\x04\\xde\\x1f\\xa2\\xd0eV\\x81o\\xaaN\\x885p\\x8e\\x03^n\\x98\\xbc\\x00\\x08\\x13\\x02\\x13\\x03\\x13\\x01\\x00\\xff\\x01\\x00\\x00\\x8f\\x00\\x00\\x00\\x0e\\x00\\x0c\\x00\\x00\\t127.0.0.1\\x00\\x0b\\x00\\x04\\x03\\x00\\x01\\x02\\x00\\n\\x00\\x0c\\x00\\n\\x00\\x1d\\x00\\x17\\x00\\x1e\\x00\\x19\\x00\\x18\\x00#\\x00\\x00\\x00\\x16\\x00\\x00\\x00\\x17\\x00\\x00\\x00\\r\\x00\\x1e\\x00\\x1c\\x04\\x03\\x05\\x03\\x06\\x03\\x08\\x07\\x08\\x08\\x08\\t\\x08\\n\\x08\\x0b\\x08\\x04\\x08\\x05\\x08\\x06\\x04\\x01\\x05\\x01\\x06\\x01\\x00+\\x00\\x03\\x02\\x03\\x04\\x00-\\x00\\x02\\x01\\x01\\x003\\x00&\\x00$\\x00\\x1d\\x00 \\xf6\\xffl\\x00\\xdc\\x8fPqX\\xc9j\\x02t\\x8e>\\xff\\x04\\xd6\\xd7\\xa69\\xcd=\\xe71\\x1a?']\n",
      "Bad pipe message: %s [b'\\xc8\\xa9\\x89@K9U\\xd6/\\xdf\\r\\xe0;\\x9fD\\r1\\xa1\\x00\\x00\\xa6\\xc0,\\xc00\\x00\\xa3\\x00\\x9f\\xcc\\xa9\\xcc\\xa8\\xcc\\xaa\\xc0\\xaf\\xc0\\xad\\xc0\\xa3\\xc0\\x9f\\xc0]\\xc0a\\xc0W\\xc0S\\xc0+\\xc0/\\x00\\xa2\\x00\\x9e\\xc0\\xae\\xc0\\xac\\xc0\\xa2\\xc0\\x9e\\xc0\\\\\\xc0`\\xc0V\\xc0R\\xc0$', b\"\\x00k\\x00j\\xc0s\\xc0w\\x00\\xc4\\x00\\xc3\\xc0#\\xc0'\\x00g\\x00@\\xc0r\\xc0v\\x00\\xbe\\x00\\xbd\\xc0\\n\\xc0\\x14\\x009\\x008\\x00\\x88\\x00\\x87\\xc0\\t\\xc0\\x13\\x003\\x002\\x00\\x9a\\x00\\x99\\x00E\\x00D\\xc0\\x07\\xc0\\x11\\xc0\\x08\\xc0\\x12\\x00\\x16\\x00\\x13\\x00\\x9d\\xc0\\xa1\\xc0\\x9d\\xc0Q\\x00\\x9c\\xc0\\xa0\\xc0\\x9c\\xc0P\\x00=\\x00\\xc0\\x00<\\x00\\xba\\x005\\x00\\x84\\x00/\\x00\\x96\\x00A\\x00\\x05\\x00\\n\\x00\\xff\\x01\\x00\\x00j\\x00\\x00\\x00\\x0e\\x00\\x0c\\x00\\x00\\t127.0.0.1\\x00\\x0b\\x00\\x04\\x03\\x00\\x01\\x02\\x00\\n\\x00\\x0c\\x00\\n\\x00\\x1d\\x00\\x17\\x00\\x1e\\x00\\x19\\x00\\x18\\x00#\\x00\\x00\\x00\\x16\\x00\\x00\\x00\\x17\\x00\\x00\\x00\\r\\x000\\x00.\\x04\\x03\\x05\\x03\\x06\\x03\\x08\\x07\\x08\\x08\\x08\\t\\x08\\n\\x08\\x0b\\x08\\x04\\x08\"]\n",
      "Bad pipe message: %s [b'\\x06\\x04\\x01\\x05']\n",
      "Bad pipe message: %s [b'']\n",
      "Bad pipe message: %s [b'', b'\\x03\\x03']\n",
      "Bad pipe message: %s [b'']\n",
      "Bad pipe message: %s [b'', b'\\x02']\n",
      "Bad pipe message: %s [b'\\x05\\x02\\x06']\n",
      "Bad pipe message: %s [b'%\\xaf\\x9b\\n\\xe9|y)\\x8bg\\xb5\\xb06\\xc2^`\\xda\\x0f\\x00\\x00\\xa2\\xc0\\x14\\xc0\\n\\x009\\x008\\x007\\x006\\x00\\x88\\x00\\x87\\x00\\x86\\x00\\x85\\xc0\\x19\\x00:\\x00\\x89\\xc0\\x0f\\xc0\\x05\\x005\\x00\\x84\\xc0\\x13\\xc0\\t\\x003\\x002\\x001\\x000\\x00\\x9a\\x00\\x99\\x00\\x98\\x00\\x97\\x00E\\x00D\\x00C\\x00B\\xc0\\x18\\x004\\x00\\x9b\\x00F\\xc0\\x0e\\xc0\\x04\\x00/\\x00\\x96\\x00A\\x00\\x07\\xc0\\x11\\xc0\\x07\\xc0\\x16\\x00\\x18\\xc0\\x0c\\xc0\\x02\\x00\\x05\\x00\\x04\\xc0\\x12\\xc0\\x08\\x00\\x16\\x00\\x13\\x00']\n",
      "Bad pipe message: %s [b'\\r\\xc0\\x17\\x00\\x1b\\xc0\\r\\xc0\\x03\\x00\\n\\x00\\x15\\x00\\x12']\n",
      "Bad pipe message: %s [b'\\xc4\\xd1\\xbb\\x04\\xcdg(P\\x13\\xd5\\x03\\x1c\\xf0]\\x84\\\\\\xf1\\xba\\x00\\x00>\\xc0\\x14\\xc0\\n\\x009\\x008\\x007\\x006\\xc0\\x0f\\xc0\\x05\\x005\\xc0\\x13\\xc0\\t\\x003\\x002\\x001\\x000\\xc0\\x0e\\xc0\\x04\\x00/\\x00\\x9a\\x00\\x99\\x00\\x98\\x00\\x97\\x00\\x96\\x00\\x07\\xc0\\x11\\xc0\\x07\\xc0', b'\\x02\\x00\\x05\\x00\\x04\\x00\\xff\\x02\\x01\\x00\\x00']\n",
      "Bad pipe message: %s [b'\\x00\\x00\\x0e\\x00\\x0c\\x00\\x00\\t127.0.0.1\\x00\\x0b\\x00\\x04\\x03\\x00\\x01\\x02\\x00\\n\\x00\\x1c\\x00\\x1a\\x00\\x17\\x00\\x19\\x00\\x1c\\x00\\x1b\\x00\\x18\\x00\\x1a\\x00\\x16\\x00\\x0e\\x00\\r\\x00\\x0b\\x00\\x0c\\x00\\t\\x00\\n\\x00#\\x00\\x00\\x00\\x0f\\x00\\x01\\x01']\n",
      "Bad pipe message: %s [b'\\xfd\\xa7\\xc9\\xf8\\x90\\x82\\x01\\xc2\\xdcyw\\xa9\\xb2i\\x00?\\xc0\\x10\\x00\\x00>\\xc0\\x14\\xc0\\n\\x009\\x008\\x007\\x006\\xc0\\x0f\\xc0\\x05\\x005\\xc0']\n",
      "Bad pipe message: %s [b'\\t\\x003\\x002\\x001\\x000\\xc0\\x0e\\xc0\\x04\\x00/\\x00\\x9a\\x00']\n",
      "Bad pipe message: %s [b\"(}\\x8a\\xf8K\\xa4\\xce\\xdb\\xc0R\\xd7 L\\xaf^]\\x81\\xda\\x00\\x00\\xf4\\xc00\\xc0,\\xc0(\\xc0$\\xc0\\x14\\xc0\\n\\x00\\xa5\\x00\\xa3\\x00\\xa1\\x00\\x9f\\x00k\\x00j\\x00i\\x00h\\x009\\x008\\x007\\x006\\x00\\x88\\x00\\x87\\x00\\x86\\x00\\x85\\xc0\\x19\\x00\\xa7\\x00m\\x00:\\x00\\x89\\xc02\\xc0.\\xc0*\\xc0&\\xc0\\x0f\\xc0\\x05\\x00\\x9d\\x00=\\x005\\x00\\x84\\xc0/\\xc0+\\xc0'\\xc0#\\xc0\\x13\\xc0\\t\\x00\\xa4\\x00\\xa2\\x00\\xa0\\x00\\x9e\\x00g\\x00@\\x00?\\x00>\\x003\\x002\\x001\\x000\\x00\\x9a\\x00\\x99\\x00\\x98\\x00\\x97\\x00E\\x00D\\x00C\\x00B\\xc0\\x18\\x00\\xa6\\x00l\\x004\\x00\\x9b\\x00F\\xc01\\xc0-\\xc0)\\xc0%\\xc0\\x0e\\xc0\\x04\\x00\\x9c\\x00<\\x00/\\x00\\x96\\x00A\\x00\\x07\\xc0\\x11\\xc0\\x07\\xc0\\x16\\x00\\x18\\xc0\\x0c\\xc0\\x02\\x00\\x05\\x00\\x04\\xc0\\x12\\xc0\\x08\\x00\\x16\\x00\\x13\\x00\\x10\\x00\\r\\xc0\\x17\\x00\\x1b\\xc0\\r\\xc0\\x03\\x00\\n\\x00\\x15\\x00\", b'\\x0f\\x00\\x0c\\x00\\x1a\\x00\\t\\x00\\x14\\x00\\x11\\x00\\x19\\x00\\x08\\x00\\x06']\n"
     ]
    }
   ],
   "source": [
    "#| hide\n",
    "import nbdev\n",
    "nbdev.nbdev_export()"
   ]
  }
 ],
 "metadata": {
  "jupytext": {
   "split_at_heading": true
  },
  "kernelspec": {
   "display_name": "Python 3",
   "language": "python",
   "name": "python3"
  }
 },
 "nbformat": 4,
 "nbformat_minor": 4
}
