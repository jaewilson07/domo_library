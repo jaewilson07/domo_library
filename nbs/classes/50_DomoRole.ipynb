{
 "cells": [
  {
   "cell_type": "raw",
   "metadata": {},
   "source": [
    "---\n",
    "output-file: role_class.html\n",
    "title: Role\n",
    "---\n",
    "\n"
   ]
  },
  {
   "cell_type": "code",
   "execution_count": null,
   "metadata": {},
   "outputs": [],
   "source": [
    "# | default_exp classes.DomoRole"
   ]
  },
  {
   "cell_type": "code",
   "execution_count": null,
   "metadata": {},
   "outputs": [],
   "source": [
    "# | exporti\n",
    "from dataclasses import dataclass, field\n",
    "import httpx\n",
    "import asyncio\n",
    "\n",
    "from fastcore.basics import patch_to\n",
    "\n",
    "import domolibrary.client.DomoAuth as dmda\n",
    "import domolibrary.client.DomoError as de\n",
    "\n",
    "import domolibrary.utils.DictDot as util_dd\n",
    "import domolibrary.routes.role as role_routes\n",
    "\n",
    "import domolibrary.classes.DomoUser as dmu\n",
    "import domolibrary.classes.DomoGrant as dmg"
   ]
  },
  {
   "cell_type": "code",
   "execution_count": null,
   "metadata": {},
   "outputs": [],
   "source": [
    "# | export\n",
    "@dataclass\n",
    "class DomoRole:\n",
    "    auth: dmda.DomoAuth = field(repr=False)\n",
    "\n",
    "    id: str\n",
    "    name: str = None\n",
    "    description: str = None\n",
    "    is_system_role: bool = False\n",
    "    is_default_role: bool = False\n",
    "\n",
    "    grant_ls: [dmg.DomoGrant] = field(default_factory=list)\n",
    "    membership_ls: list = field(default_factory=list)\n",
    "\n",
    "    def __post_init__(self):\n",
    "        self.is_system_role = True if self.id <= 5 else 0\n",
    "\n",
    "        if self.grant_ls:\n",
    "            self.grant_ls = self._valid_grant_ls(self.grant_ls)\n",
    "\n",
    "    @staticmethod\n",
    "    def _valid_grant_ls(grant_ls) -> [dmg.DomoGrant]:\n",
    "        if isinstance(grant_ls[0], str):\n",
    "            return [dmg.DomoGrant(grant_str) for grant_str in grant_ls]\n",
    "\n",
    "        elif isinstance(grant_ls[0], dmg.DomoGrant):\n",
    "            return grant_ls\n",
    "\n",
    "    # @classmethod\n",
    "    # def _from_str(cls, id, name, description=None, auth: DomoAuth = None):\n",
    "\n",
    "    #     return cls(id=id,\n",
    "    #             name=name,\n",
    "    #             description=description,\n",
    "    #             auth=auth\n",
    "    #             )\n",
    "\n",
    "    @classmethod\n",
    "    def _from_json(cls, obj, auth=dmda.DomoAuth, is_default_role=None):\n",
    "        dd = obj\n",
    "        if not isinstance(dd, util_dd.DictDot):\n",
    "            dd = util_dd.DictDot(obj)\n",
    "\n",
    "        return cls(\n",
    "            id=dd.id,\n",
    "            name=dd.name,\n",
    "            description=dd.description,\n",
    "            auth=auth,\n",
    "            is_default_role=is_default_role,\n",
    "        )"
   ]
  },
  {
   "cell_type": "code",
   "execution_count": null,
   "metadata": {},
   "outputs": [],
   "source": [
    "# | exporti\n",
    "@patch_to(DomoRole, cls_method=True)\n",
    "async def get_by_id(\n",
    "    cls: DomoRole,\n",
    "    role_id: int,\n",
    "    auth: dmda.DomoAuth,\n",
    "    session: httpx.AsyncClient = None,\n",
    "    debug_api: bool = False,\n",
    "    debug_num_stacks_to_drop: int = 1,\n",
    "    return_raw: bool = False,\n",
    "):\n",
    "    res = await role_routes.get_role_by_id(\n",
    "        role_id=role_id,\n",
    "        auth=auth,\n",
    "        debug_api=debug_api,\n",
    "        debug_num_stacks_to_drop=debug_num_stacks_to_drop,\n",
    "        session=session,\n",
    "        parent_class=cls.__name__,\n",
    "    )\n",
    "\n",
    "    if return_raw:\n",
    "        return res.response\n",
    "\n",
    "    return cls._from_json(res.response, auth=auth)"
   ]
  },
  {
   "cell_type": "markdown",
   "metadata": {},
   "source": [
    "#### sample get role by id\n"
   ]
  },
  {
   "cell_type": "code",
   "execution_count": null,
   "metadata": {},
   "outputs": [
    {
     "data": {
      "text/plain": [
       "DomoRole(id=1, name='Admin', description='Full access to everything', is_system_role=True, is_default_role=None, grant_ls=[], membership_ls=[])"
      ]
     },
     "execution_count": null,
     "metadata": {},
     "output_type": "execute_result"
    }
   ],
   "source": [
    "import os\n",
    "import pandas as pd\n",
    "\n",
    "token_auth = dmda.DomoTokenAuth(\n",
    "    domo_instance=\"domo-community\",\n",
    "    domo_access_token=os.environ[\"DOMO_DOJO_ACCESS_TOKEN\"],\n",
    ")\n",
    "\n",
    "await DomoRole.get_by_id(auth=token_auth, role_id=1, return_raw=False)"
   ]
  },
  {
   "attachments": {},
   "cell_type": "markdown",
   "metadata": {},
   "source": [
    "## Handle Role Grants\n"
   ]
  },
  {
   "cell_type": "code",
   "execution_count": null,
   "metadata": {},
   "outputs": [],
   "source": [
    "# | exporti\n",
    "@patch_to(DomoRole)\n",
    "async def get_grants(\n",
    "    self: DomoRole,\n",
    "    auth: dmda.DomoAuth = None,\n",
    "    role_id: str = None,\n",
    "    debug_api: bool = False,\n",
    "    session: httpx.AsyncClient = None,\n",
    "    return_raw: bool = False,\n",
    "):\n",
    "    auth = auth or self.auth\n",
    "    role_id = role_id or self.id\n",
    "    res = await role_routes.get_role_grants(\n",
    "        auth=auth,\n",
    "        role_id=role_id,\n",
    "        debug_api=debug_api,\n",
    "        session=session,\n",
    "        parent_class=self.__class__.__name__,\n",
    "    )\n",
    "\n",
    "    if return_raw:\n",
    "        return res\n",
    "\n",
    "    self.grant_ls = [dmg.DomoGrant(obj) for obj in res.response]\n",
    "\n",
    "    return self.grant_ls"
   ]
  },
  {
   "attachments": {},
   "cell_type": "markdown",
   "metadata": {},
   "source": [
    "#### sample implementation of get_role_grants\n"
   ]
  },
  {
   "cell_type": "code",
   "execution_count": null,
   "metadata": {},
   "outputs": [
    {
     "data": {
      "text/plain": [
       "[DomoGrant(id='versions.deployment.manage', display_group=None, title=None, depends_on_ls=None, description=None, role_membership_ls=None),\n",
       " DomoGrant(id='ai.model.create', display_group=None, title=None, depends_on_ls=None, description=None, role_membership_ls=None),\n",
       " DomoGrant(id='buzz.admin', display_group=None, title=None, depends_on_ls=None, description=None, role_membership_ls=None),\n",
       " DomoGrant(id='dataflow.admin', display_group=None, title=None, depends_on_ls=None, description=None, role_membership_ls=None),\n",
       " DomoGrant(id='goal.admin', display_group=None, title=None, depends_on_ls=None, description=None, role_membership_ls=None)]"
      ]
     },
     "execution_count": null,
     "metadata": {},
     "output_type": "execute_result"
    }
   ],
   "source": [
    "import os\n",
    "import pandas as pd\n",
    "\n",
    "token_auth = dmda.DomoTokenAuth(\n",
    "    domo_instance=\"domo-community\",\n",
    "    domo_access_token=os.environ[\"DOMO_DOJO_ACCESS_TOKEN\"],\n",
    ")\n",
    "\n",
    "domo_role = DomoRole(auth=token_auth, id=1)\n",
    "\n",
    "res = await domo_role.get_grants(return_raw=False)\n",
    "res[0:5]"
   ]
  },
  {
   "cell_type": "code",
   "execution_count": null,
   "metadata": {},
   "outputs": [],
   "source": [
    "# | export\n",
    "class SetRoleGrants_MissingGrants(de.DomoError):\n",
    "    def __init__(self, role_id, missing_grants: [str], domo_instance):\n",
    "        super().__init__(\n",
    "            domo_instance=domo_instance,\n",
    "            entity_id=role_id,\n",
    "            message=f\"failed to add grants: {', '.join(missing_grants)}\",\n",
    "        )"
   ]
  },
  {
   "cell_type": "code",
   "execution_count": null,
   "metadata": {},
   "outputs": [],
   "source": [
    "# | exporti\n",
    "\n",
    "\n",
    "@patch_to(DomoRole)\n",
    "async def set_grants(\n",
    "    self: DomoRole,\n",
    "    grant_ls: list[dmg.DomoGrant],\n",
    "    role_id: str = None,\n",
    "    auth: dmda.DomoAuth = None,\n",
    "    debug_api: bool = False,\n",
    "    debug_num_stacks_to_drop: bool = 2,\n",
    "    session: httpx.AsyncClient = None,\n",
    "):\n",
    "    auth = auth or self.auth\n",
    "    role_id = role_id or self.id\n",
    "\n",
    "    domo_grants = self._valid_grant_ls(grant_ls)\n",
    "\n",
    "    # dmic = dic.DomoInstanceConfig(auth = auth)\n",
    "    # all_grants = await dmic.get_grants()\n",
    "\n",
    "    # filtered_grant_ls = []\n",
    "\n",
    "    # for domo_grant in all_grants:\n",
    "    #     if domo_grant.id in grant_ls:\n",
    "    #         filtered_grant_ls.append(domo_grant.id)\n",
    "\n",
    "    #         if domo_grant.depends_on_ls:\n",
    "    #             for parent_grant_id in domo_grant.depends_on_ls:\n",
    "    #                 match_grant = next(( domo_grant for domo_grant in all_grants if parent_grant_id == domo_grant.id ))\n",
    "    #                 if match_grant:\n",
    "    #                     filtered_grant_ls.append(match_grant.id)\n",
    "\n",
    "    # set grants\n",
    "    res = await role_routes.set_role_grants(\n",
    "        auth=auth,\n",
    "        role_id=role_id,\n",
    "        role_grant_ls=[domo_grant.id for domo_grant in domo_grants],\n",
    "        debug_api=debug_api,\n",
    "        debug_num_stacks_to_drop=debug_num_stacks_to_drop,\n",
    "        session=session,\n",
    "        parent_class=self.__class__.__name__,\n",
    "    )\n",
    "\n",
    "    # validate grants\n",
    "    await asyncio.sleep(2)\n",
    "\n",
    "    all_grants = await self.get_grants(auth=auth, debug_api=debug_api, session=session)\n",
    "\n",
    "    missing_grants = [grant.id for grant in domo_grants if grant not in all_grants]\n",
    "\n",
    "    if missing_grants:\n",
    "        raise SetRoleGrants_MissingGrants(\n",
    "            role_id=role_id,\n",
    "            missing_grants=missing_grants,\n",
    "            domo_instance=auth.domo_instance,\n",
    "        )\n",
    "\n",
    "    return domo_grants"
   ]
  },
  {
   "attachments": {},
   "cell_type": "markdown",
   "metadata": {},
   "source": [
    "#### sample implementation of set_grants\n"
   ]
  },
  {
   "cell_type": "code",
   "execution_count": null,
   "metadata": {},
   "outputs": [
    {
     "data": {
      "text/plain": [
       "[DomoGrant(id='cloud.admin', display_group=None, title=None, depends_on_ls=None, description=None, role_membership_ls=None),\n",
       " DomoGrant(id='versions.repository.admin', display_group=None, title=None, depends_on_ls=None, description=None, role_membership_ls=None),\n",
       " DomoGrant(id='codeengine.package.manage', display_group=None, title=None, depends_on_ls=None, description=None, role_membership_ls=None),\n",
       " DomoGrant(id='appstore.admin', display_group=None, title=None, depends_on_ls=None, description=None, role_membership_ls=None),\n",
       " DomoGrant(id='datastore.admin', display_group=None, title=None, depends_on_ls=None, description=None, role_membership_ls=None),\n",
       " DomoGrant(id='certifiedcontent.admin', display_group=None, title=None, depends_on_ls=None, description=None, role_membership_ls=None)]"
      ]
     },
     "execution_count": null,
     "metadata": {},
     "output_type": "execute_result"
    }
   ],
   "source": [
    "import os\n",
    "import pandas as pd\n",
    "\n",
    "token_auth = dmda.DomoTokenAuth(\n",
    "    domo_instance=\"domo-community\",\n",
    "    domo_access_token=os.environ[\"DOMO_DOJO_ACCESS_TOKEN\"],\n",
    ")\n",
    "\n",
    "domo_role = DomoRole(id=104295428, auth=token_auth)\n",
    "\n",
    "role_grant_ls = [\n",
    "    \"cloud.admin\",\n",
    "    \"versions.repository.admin\",\n",
    "    \"codeengine.package.manage\",\n",
    "    \"appstore.admin\",\n",
    "    \"datastore.admin\",\n",
    "    \"certifiedcontent.admin\",\n",
    "]\n",
    "\n",
    "await domo_role.set_grants(grant_ls=role_grant_ls)"
   ]
  },
  {
   "attachments": {},
   "cell_type": "markdown",
   "metadata": {},
   "source": [
    "## Handle Role Membership\n"
   ]
  },
  {
   "cell_type": "code",
   "execution_count": null,
   "metadata": {},
   "outputs": [],
   "source": [
    "# | exporti\n",
    "\n",
    "\n",
    "@patch_to(DomoRole)\n",
    "async def get_membership(\n",
    "    self,\n",
    "    role_id=None,\n",
    "    auth: dmda.DomoAuth = None,\n",
    "    return_raw: bool = False,\n",
    "    debug_api: bool = False,\n",
    "    session: httpx.AsyncClient = None,\n",
    "):\n",
    "    auth = auth or self.auth\n",
    "    role_id = role_id or self.id\n",
    "\n",
    "    res = await role_routes.get_role_membership(\n",
    "        auth=auth, role_id=role_id, debug_api=debug_api, session=session\n",
    "    )\n",
    "\n",
    "    if return_raw:\n",
    "        return res.response\n",
    "\n",
    "    membership_ls = [\n",
    "        dmu.DomoUser._from_search_json(user_obj=obj, auth=auth) for obj in res.response\n",
    "    ]\n",
    "\n",
    "    self.membership_ls = membership_ls\n",
    "\n",
    "    return membership_ls"
   ]
  },
  {
   "attachments": {},
   "cell_type": "markdown",
   "metadata": {},
   "source": [
    "#### sample implementation of get_membership\n"
   ]
  },
  {
   "cell_type": "code",
   "execution_count": null,
   "metadata": {},
   "outputs": [
    {
     "data": {
      "text/plain": [
       "[DomoUser(id='1345408759', display_name='Alexis Lorenz (DataMaven)', email_address='DataMaven42@gmail.com', role_id=1, department='Owner', title=None, avatar_key=None, phone_number=None, web_landing_page=None, web_mobile_landing_page=None, employee_id=None, employee_number=None, hire_date=1590156374000, reports_to=None, publisher_domain=None, subscriber_domain=None, virtual_user_id=None, custom_attributes={}, role=None),\n",
       " DomoUser(id='1102391116', display_name='Andrea Henderson', email_address='andrea.henderson@domo.com', role_id=1, department=None, title=None, avatar_key=None, phone_number=None, web_landing_page=None, web_mobile_landing_page=None, employee_id=None, employee_number=None, hire_date=None, reports_to=None, publisher_domain=None, subscriber_domain=None, virtual_user_id=None, custom_attributes={}, role=None),\n",
       " DomoUser(id='1095515127', display_name='Andrew Chaffin', email_address='andrew@crystalballers.ai', role_id=1, department='Crystal Ballers', title=None, avatar_key=None, phone_number=None, web_landing_page=None, web_mobile_landing_page=None, employee_id=None, employee_number=None, hire_date=None, reports_to=None, publisher_domain=None, subscriber_domain=None, virtual_user_id=None, custom_attributes={}, role=None),\n",
       " DomoUser(id='1865099622', display_name='Ben Schein', email_address='Ben.Schein@domo.com', role_id=1, department=None, title=None, avatar_key=None, phone_number=None, web_landing_page=None, web_mobile_landing_page=None, employee_id=None, employee_number=None, hire_date=None, reports_to=None, publisher_domain=None, subscriber_domain=None, virtual_user_id=None, custom_attributes={}, role=None),\n",
       " DomoUser(id='587894148', display_name='Bryan Van Kampen', email_address='bryan@bvankampen.net', role_id=1, department='BT Partners', title=None, avatar_key=None, phone_number=None, web_landing_page=None, web_mobile_landing_page=None, employee_id=None, employee_number=None, hire_date=1588827600000, reports_to=None, publisher_domain=None, subscriber_domain=None, virtual_user_id=None, custom_attributes={}, role=None),\n",
       " DomoUser(id='1366439699', display_name='Chuck irwin', email_address='chuck.irwin@domo.com', role_id=1, department=None, title=None, avatar_key=None, phone_number=None, web_landing_page=None, web_mobile_landing_page=None, employee_id=None, employee_number=None, hire_date=None, reports_to=None, publisher_domain=None, subscriber_domain=None, virtual_user_id=None, custom_attributes={}, role=None),\n",
       " DomoUser(id='307632801', display_name='Dan Brinton', email_address='Dan.Brinton@domo.com', role_id=1, department=None, title=None, avatar_key=None, phone_number=None, web_landing_page=None, web_mobile_landing_page=None, employee_id=None, employee_number=None, hire_date=None, reports_to=None, publisher_domain=None, subscriber_domain=None, virtual_user_id=None, custom_attributes={}, role=None),\n",
       " DomoUser(id='1783864164', display_name='Eddie Small', email_address='Eddie.small@domo.com', role_id=1, department=None, title=None, avatar_key=None, phone_number=None, web_landing_page=None, web_mobile_landing_page=None, employee_id=None, employee_number=None, hire_date=None, reports_to=None, publisher_domain=None, subscriber_domain=None, virtual_user_id=None, custom_attributes={}, role=None),\n",
       " DomoUser(id='1127437771', display_name='Eli Gripp', email_address='egripp@onemagnify.com', role_id=1, department=None, title=None, avatar_key=None, phone_number=None, web_landing_page=None, web_mobile_landing_page=None, employee_id=None, employee_number=None, hire_date=None, reports_to=None, publisher_domain=None, subscriber_domain=None, virtual_user_id=None, custom_attributes={}, role=None),\n",
       " DomoUser(id='68216396', display_name='Elliott Leonard', email_address='egleonard88@gmail.com', role_id=1, department='Owner', title=None, avatar_key=None, phone_number=None, web_landing_page=None, web_mobile_landing_page=None, employee_id=None, employee_number=None, hire_date=None, reports_to=None, publisher_domain=None, subscriber_domain=None, virtual_user_id=None, custom_attributes={}, role=None),\n",
       " DomoUser(id='55874022', display_name='Grant Smith', email_address='grantsmith@gmail.com', role_id=1, department='', title=None, avatar_key=None, phone_number=None, web_landing_page=None, web_mobile_landing_page=None, employee_id=None, employee_number=None, hire_date=1618632000000, reports_to=None, publisher_domain=None, subscriber_domain=None, virtual_user_id=None, custom_attributes={}, role=None),\n",
       " DomoUser(id='152768850', display_name='Heath Pulham', email_address='heath.pulham@domo.com', role_id=1, department=None, title=None, avatar_key=None, phone_number=None, web_landing_page=None, web_mobile_landing_page=None, employee_id=None, employee_number=None, hire_date=None, reports_to=None, publisher_domain=None, subscriber_domain=None, virtual_user_id=None, custom_attributes={}, role=None),\n",
       " DomoUser(id='805381129', display_name='Jack Wang', email_address='jack.wang@domo.com', role_id=1, department=None, title=None, avatar_key=None, phone_number=None, web_landing_page=None, web_mobile_landing_page=None, employee_id=None, employee_number=None, hire_date=None, reports_to=None, publisher_domain=None, subscriber_domain=None, virtual_user_id=None, custom_attributes={}, role=None),\n",
       " DomoUser(id='1893952720', display_name='Jae Wilson1', email_address='jae@onyxreporting.com', role_id=1, department='Business Improvement', title=None, avatar_key=None, phone_number=None, web_landing_page=None, web_mobile_landing_page=None, employee_id=None, employee_number=None, hire_date=None, reports_to=None, publisher_domain=None, subscriber_domain=None, virtual_user_id=None, custom_attributes={}, role=None),\n",
       " DomoUser(id='1752469262', display_name='jesus gonzalez', email_address='Jesus.Gonzalez@sony.com', role_id=1, department=None, title=None, avatar_key=None, phone_number=None, web_landing_page=None, web_mobile_landing_page=None, employee_id=None, employee_number=None, hire_date=None, reports_to=None, publisher_domain=None, subscriber_domain=None, virtual_user_id=None, custom_attributes={}, role=None),\n",
       " DomoUser(id='583215149', display_name='John Jarnagin', email_address='John.Jarnagin@domo.com', role_id=1, department='Domo Customer EX Group', title=None, avatar_key=None, phone_number=None, web_landing_page=None, web_mobile_landing_page=None, employee_id=None, employee_number=None, hire_date=1680757200000, reports_to=None, publisher_domain=None, subscriber_domain=None, virtual_user_id=None, custom_attributes={}, role=None),\n",
       " DomoUser(id='1786804487', display_name='Khushboo', email_address='khushboo@domo.com', role_id=1, department=None, title=None, avatar_key=None, phone_number=None, web_landing_page=None, web_mobile_landing_page=None, employee_id=None, employee_number=None, hire_date=None, reports_to=None, publisher_domain=None, subscriber_domain=None, virtual_user_id=None, custom_attributes={}, role=None),\n",
       " DomoUser(id='475856860', display_name='Noah Finberg', email_address='noah.finberg@domo.com', role_id=1, department=None, title=None, avatar_key=None, phone_number=None, web_landing_page=None, web_mobile_landing_page=None, employee_id=None, employee_number=None, hire_date=None, reports_to=None, publisher_domain=None, subscriber_domain=None, virtual_user_id=None, custom_attributes={}, role=None),\n",
       " DomoUser(id='617808774', display_name='Richard Carey', email_address='richard@bcamp.dev', role_id=1, department=None, title=None, avatar_key=None, phone_number=None, web_landing_page=None, web_mobile_landing_page=None, employee_id=None, employee_number=None, hire_date=None, reports_to=None, publisher_domain=None, subscriber_domain=None, virtual_user_id=None, custom_attributes={}, role=None)]"
      ]
     },
     "execution_count": null,
     "metadata": {},
     "output_type": "execute_result"
    }
   ],
   "source": [
    "import os\n",
    "import pandas as pd\n",
    "\n",
    "token_auth = dmda.DomoTokenAuth(\n",
    "    domo_instance=\"domo-community\",\n",
    "    domo_access_token=os.environ[\"DOMO_DOJO_ACCESS_TOKEN\"],\n",
    ")\n",
    "\n",
    "domo_role = DomoRole(id=1, auth=token_auth)\n",
    "\n",
    "await domo_role.get_membership(return_raw=False)"
   ]
  },
  {
   "cell_type": "code",
   "execution_count": null,
   "metadata": {},
   "outputs": [],
   "source": [
    "# | export\n",
    "\n",
    "\n",
    "class AddUser_Error(de.DomoError):\n",
    "    def __init__(self, role_id, domo_instance, user_id, user_name=None):\n",
    "        user_str = f\"{user_id} - {user_name}\" if user_name else user_id\n",
    "        super().__init__(\n",
    "            domo_instance=domo_instance,\n",
    "            message=f\"unable to add {user_str} to role {role_id}\",\n",
    "        )"
   ]
  },
  {
   "cell_type": "code",
   "execution_count": null,
   "metadata": {},
   "outputs": [],
   "source": [
    "# | exporti\n",
    "@patch_to(DomoRole)\n",
    "async def add_user(\n",
    "    self,\n",
    "    user: dmu.DomoUser,\n",
    "    role_id: str = None,\n",
    "    auth: dmda.DomoAuth = None,\n",
    "    debug_api: bool = False,\n",
    "    session: httpx.AsyncClient = None,\n",
    "):\n",
    "    role_id = role_id or self.id\n",
    "    auth = auth or self.auth\n",
    "\n",
    "    await role_routes.role_membership_add_users(\n",
    "        auth=auth,\n",
    "        role_id=role_id,\n",
    "        user_list=[user.id],\n",
    "        debug_api=debug_api,\n",
    "        session=session,\n",
    "    )\n",
    "\n",
    "    domo_members = await self.get_membership(\n",
    "        auth=auth or self.auth, role_id=role_id or self.id, debug_api=debug_api\n",
    "    )\n",
    "    self.membership_ls = domo_members\n",
    "\n",
    "    if user not in domo_members:\n",
    "        raise AddUser_Error(\n",
    "            role_id=role_id,\n",
    "            domo_instance=auth.domo_instance,\n",
    "            user_id=user.id,\n",
    "            user_name=user.display_name,\n",
    "        )\n",
    "\n",
    "    return domo_members"
   ]
  },
  {
   "attachments": {},
   "cell_type": "markdown",
   "metadata": {},
   "source": [
    "#### sample implementation of add_user\n"
   ]
  },
  {
   "cell_type": "code",
   "execution_count": null,
   "metadata": {},
   "outputs": [
    {
     "data": {
      "text/plain": [
       "[DomoUser(id='1345408759', display_name='Alexis Lorenz (DataMaven)', email_address='DataMaven42@gmail.com', role_id=1, department='Owner', title=None, avatar_key=None, phone_number=None, web_landing_page=None, web_mobile_landing_page=None, employee_id=None, employee_number=None, hire_date=1590156374000, reports_to=None, publisher_domain=None, subscriber_domain=None, virtual_user_id=None, custom_attributes={}, role=None),\n",
       " DomoUser(id='1102391116', display_name='Andrea Henderson', email_address='andrea.henderson@domo.com', role_id=1, department=None, title=None, avatar_key=None, phone_number=None, web_landing_page=None, web_mobile_landing_page=None, employee_id=None, employee_number=None, hire_date=None, reports_to=None, publisher_domain=None, subscriber_domain=None, virtual_user_id=None, custom_attributes={}, role=None),\n",
       " DomoUser(id='1095515127', display_name='Andrew Chaffin', email_address='andrew@crystalballers.ai', role_id=1, department='Crystal Ballers', title=None, avatar_key=None, phone_number=None, web_landing_page=None, web_mobile_landing_page=None, employee_id=None, employee_number=None, hire_date=None, reports_to=None, publisher_domain=None, subscriber_domain=None, virtual_user_id=None, custom_attributes={}, role=None),\n",
       " DomoUser(id='1865099622', display_name='Ben Schein', email_address='Ben.Schein@domo.com', role_id=1, department=None, title=None, avatar_key=None, phone_number=None, web_landing_page=None, web_mobile_landing_page=None, employee_id=None, employee_number=None, hire_date=None, reports_to=None, publisher_domain=None, subscriber_domain=None, virtual_user_id=None, custom_attributes={}, role=None),\n",
       " DomoUser(id='587894148', display_name='Bryan Van Kampen', email_address='bryan@bvankampen.net', role_id=1, department='BT Partners', title=None, avatar_key=None, phone_number=None, web_landing_page=None, web_mobile_landing_page=None, employee_id=None, employee_number=None, hire_date=1588827600000, reports_to=None, publisher_domain=None, subscriber_domain=None, virtual_user_id=None, custom_attributes={}, role=None),\n",
       " DomoUser(id='1366439699', display_name='Chuck irwin', email_address='chuck.irwin@domo.com', role_id=1, department=None, title=None, avatar_key=None, phone_number=None, web_landing_page=None, web_mobile_landing_page=None, employee_id=None, employee_number=None, hire_date=None, reports_to=None, publisher_domain=None, subscriber_domain=None, virtual_user_id=None, custom_attributes={}, role=None),\n",
       " DomoUser(id='307632801', display_name='Dan Brinton', email_address='Dan.Brinton@domo.com', role_id=1, department=None, title=None, avatar_key=None, phone_number=None, web_landing_page=None, web_mobile_landing_page=None, employee_id=None, employee_number=None, hire_date=None, reports_to=None, publisher_domain=None, subscriber_domain=None, virtual_user_id=None, custom_attributes={}, role=None),\n",
       " DomoUser(id='1783864164', display_name='Eddie Small', email_address='Eddie.small@domo.com', role_id=1, department=None, title=None, avatar_key=None, phone_number=None, web_landing_page=None, web_mobile_landing_page=None, employee_id=None, employee_number=None, hire_date=None, reports_to=None, publisher_domain=None, subscriber_domain=None, virtual_user_id=None, custom_attributes={}, role=None),\n",
       " DomoUser(id='1127437771', display_name='Eli Gripp', email_address='egripp@onemagnify.com', role_id=1, department=None, title=None, avatar_key=None, phone_number=None, web_landing_page=None, web_mobile_landing_page=None, employee_id=None, employee_number=None, hire_date=None, reports_to=None, publisher_domain=None, subscriber_domain=None, virtual_user_id=None, custom_attributes={}, role=None),\n",
       " DomoUser(id='68216396', display_name='Elliott Leonard', email_address='egleonard88@gmail.com', role_id=1, department='Owner', title=None, avatar_key=None, phone_number=None, web_landing_page=None, web_mobile_landing_page=None, employee_id=None, employee_number=None, hire_date=None, reports_to=None, publisher_domain=None, subscriber_domain=None, virtual_user_id=None, custom_attributes={}, role=None),\n",
       " DomoUser(id='55874022', display_name='Grant Smith', email_address='grantsmith@gmail.com', role_id=1, department='', title=None, avatar_key=None, phone_number=None, web_landing_page=None, web_mobile_landing_page=None, employee_id=None, employee_number=None, hire_date=1618632000000, reports_to=None, publisher_domain=None, subscriber_domain=None, virtual_user_id=None, custom_attributes={}, role=None),\n",
       " DomoUser(id='152768850', display_name='Heath Pulham', email_address='heath.pulham@domo.com', role_id=1, department=None, title=None, avatar_key=None, phone_number=None, web_landing_page=None, web_mobile_landing_page=None, employee_id=None, employee_number=None, hire_date=None, reports_to=None, publisher_domain=None, subscriber_domain=None, virtual_user_id=None, custom_attributes={}, role=None),\n",
       " DomoUser(id='805381129', display_name='Jack Wang', email_address='jack.wang@domo.com', role_id=1, department=None, title=None, avatar_key=None, phone_number=None, web_landing_page=None, web_mobile_landing_page=None, employee_id=None, employee_number=None, hire_date=None, reports_to=None, publisher_domain=None, subscriber_domain=None, virtual_user_id=None, custom_attributes={}, role=None),\n",
       " DomoUser(id='1893952720', display_name='Jae Wilson1', email_address='jae@onyxreporting.com', role_id=1, department='Business Improvement', title=None, avatar_key=None, phone_number=None, web_landing_page=None, web_mobile_landing_page=None, employee_id=None, employee_number=None, hire_date=None, reports_to=None, publisher_domain=None, subscriber_domain=None, virtual_user_id=None, custom_attributes={}, role=None),\n",
       " DomoUser(id='1752469262', display_name='jesus gonzalez', email_address='Jesus.Gonzalez@sony.com', role_id=1, department=None, title=None, avatar_key=None, phone_number=None, web_landing_page=None, web_mobile_landing_page=None, employee_id=None, employee_number=None, hire_date=None, reports_to=None, publisher_domain=None, subscriber_domain=None, virtual_user_id=None, custom_attributes={}, role=None),\n",
       " DomoUser(id='583215149', display_name='John Jarnagin', email_address='John.Jarnagin@domo.com', role_id=1, department='Domo Customer EX Group', title=None, avatar_key=None, phone_number=None, web_landing_page=None, web_mobile_landing_page=None, employee_id=None, employee_number=None, hire_date=1680757200000, reports_to=None, publisher_domain=None, subscriber_domain=None, virtual_user_id=None, custom_attributes={}, role=None),\n",
       " DomoUser(id='1786804487', display_name='Khushboo', email_address='khushboo@domo.com', role_id=1, department=None, title=None, avatar_key=None, phone_number=None, web_landing_page=None, web_mobile_landing_page=None, employee_id=None, employee_number=None, hire_date=None, reports_to=None, publisher_domain=None, subscriber_domain=None, virtual_user_id=None, custom_attributes={}, role=None),\n",
       " DomoUser(id='475856860', display_name='Noah Finberg', email_address='noah.finberg@domo.com', role_id=1, department=None, title=None, avatar_key=None, phone_number=None, web_landing_page=None, web_mobile_landing_page=None, employee_id=None, employee_number=None, hire_date=None, reports_to=None, publisher_domain=None, subscriber_domain=None, virtual_user_id=None, custom_attributes={}, role=None),\n",
       " DomoUser(id='617808774', display_name='Richard Carey', email_address='richard@bcamp.dev', role_id=1, department=None, title=None, avatar_key=None, phone_number=None, web_landing_page=None, web_mobile_landing_page=None, employee_id=None, employee_number=None, hire_date=None, reports_to=None, publisher_domain=None, subscriber_domain=None, virtual_user_id=None, custom_attributes={}, role=None)]"
      ]
     },
     "execution_count": null,
     "metadata": {},
     "output_type": "execute_result"
    }
   ],
   "source": [
    "import os\n",
    "import pandas as pd\n",
    "\n",
    "token_auth = dmda.DomoTokenAuth(\n",
    "    domo_instance=\"domo-community\",\n",
    "    domo_access_token=os.environ[\"DOMO_DOJO_ACCESS_TOKEN\"],\n",
    ")\n",
    "\n",
    "domo_user = dmu.DomoUser(id=587894148, auth=token_auth)\n",
    "domo_role = DomoRole(id=1, auth=token_auth)\n",
    "\n",
    "await domo_role.add_user(user=domo_user)"
   ]
  },
  {
   "attachments": {},
   "cell_type": "markdown",
   "metadata": {},
   "source": [
    "## Handle Role Metadata\n"
   ]
  },
  {
   "cell_type": "code",
   "execution_count": null,
   "metadata": {},
   "outputs": [],
   "source": [
    "# | exporti\n",
    "\n",
    "\n",
    "@patch_to(DomoRole)\n",
    "async def update_role_metadata(\n",
    "    self: DomoRole,\n",
    "    auth: dmda.DomoAuth = None,\n",
    "    role_name=None,\n",
    "    role_description: str = None,\n",
    "    debug_api: bool = False,\n",
    "    session: httpx.AsyncClient = None,\n",
    "    return_raw: bool = False,\n",
    "):\n",
    "    auth = auth or self.auth\n",
    "    role_name = role_name or self.name\n",
    "\n",
    "    res = await role_routes.update_role_metadata(\n",
    "        role_id=self.id,\n",
    "        role_name=role_name,\n",
    "        role_description=role_description or self.description,\n",
    "        auth=auth,\n",
    "        debug_api=debug_api,\n",
    "        session=session,\n",
    "    )\n",
    "\n",
    "    if return_raw:\n",
    "        return res\n",
    "\n",
    "    role_ls = await role_routes.get_roles(auth=auth)\n",
    "\n",
    "    domo_role = next(\n",
    "        (\n",
    "            DomoRole._from_json(role, auth=auth)\n",
    "            for role in role_ls.response\n",
    "            if role.get(\"name\") == role_name\n",
    "        ),\n",
    "        None,\n",
    "    )\n",
    "\n",
    "    return domo_role"
   ]
  },
  {
   "attachments": {},
   "cell_type": "markdown",
   "metadata": {},
   "source": [
    "#### sample implementation of update_role_metadata\n"
   ]
  },
  {
   "cell_type": "code",
   "execution_count": null,
   "metadata": {},
   "outputs": [
    {
     "data": {
      "text/plain": [
       "DomoRole(id=810756122, name='super_admin', description='updated via domolibrary on 2023-12-08', is_system_role=0, is_default_role=None, grant_ls=[], membership_ls=[])"
      ]
     },
     "execution_count": null,
     "metadata": {},
     "output_type": "execute_result"
    }
   ],
   "source": [
    "import os\n",
    "import datetime as dt\n",
    "\n",
    "token_auth = dmda.DomoTokenAuth(\n",
    "    domo_instance=\"domo-community\",\n",
    "    domo_access_token=os.environ[\"DOMO_DOJO_ACCESS_TOKEN\"],\n",
    ")\n",
    "\n",
    "# retrieve the super_admin role\n",
    "role_res = await role_routes.get_roles(auth=token_auth)\n",
    "domo_role = next(\n",
    "    (\n",
    "        DomoRole._from_json(role, auth=token_auth)\n",
    "        for role in role_res.response\n",
    "        if role.get(\"name\") == \"super_admin\"\n",
    "    ),\n",
    "    None,\n",
    ")\n",
    "\n",
    "await domo_role.update_role_metadata(\n",
    "    role_description=f\"updated via domolibrary on {dt.date.today()}\", debug_api=False\n",
    ")"
   ]
  },
  {
   "attachments": {},
   "cell_type": "markdown",
   "metadata": {},
   "source": [
    "## handle CRUD Role\n"
   ]
  },
  {
   "cell_type": "code",
   "execution_count": null,
   "metadata": {},
   "outputs": [],
   "source": [
    "# | export\n",
    "class DeleteRole_Error(de.DomoError):\n",
    "    def __init__(self, role_id, domo_instance):\n",
    "        super().__init__(\n",
    "            message=f\"role: {role_id} not found\", domo_instance=domo_instance\n",
    "        )"
   ]
  },
  {
   "cell_type": "code",
   "execution_count": null,
   "metadata": {},
   "outputs": [],
   "source": [
    "# | exporti\n",
    "\n",
    "\n",
    "@patch_to(DomoRole, cls_method=True)\n",
    "async def delete_role(\n",
    "    cls: DomoRole,\n",
    "    role_id: int,\n",
    "    auth: dmda.DomoAuth = None,\n",
    "    debug_api: bool = False,\n",
    "    session: httpx.AsyncClient = None,\n",
    "):\n",
    "    domo_res = await role_routes.get_roles(auth=auth)\n",
    "\n",
    "    domo_role = next(\n",
    "        (role for role in domo_res.response if role.get(\"id\") == role_id), None\n",
    "    )\n",
    "\n",
    "    if not domo_role:\n",
    "        raise DeleteRole_Error(role_id=role_id, domo_instance=auth.domo_instance)\n",
    "\n",
    "    return await role_routes.delete_role(\n",
    "        role_id=role_id, auth=auth, debug_api=debug_api, session=session\n",
    "    )"
   ]
  },
  {
   "attachments": {},
   "cell_type": "markdown",
   "metadata": {},
   "source": [
    "#### sample implementation of delete_role\n"
   ]
  },
  {
   "cell_type": "code",
   "execution_count": null,
   "metadata": {},
   "outputs": [
    {
     "name": "stdout",
     "output_type": "stream",
     "text": [
      "🛑  DeleteRole_Error 🛑 - function: role: 1019636738 not found at domo-community\n"
     ]
    }
   ],
   "source": [
    "import os\n",
    "import datetime as dt\n",
    "\n",
    "token_auth = dmda.DomoTokenAuth(\n",
    "    domo_instance=\"domo-community\",\n",
    "    domo_access_token=os.environ[\"DOMO_DOJO_ACCESS_TOKEN\"],\n",
    ")\n",
    "\n",
    "try:\n",
    "    await DomoRole.delete_role(role_id=1019636738, auth=token_auth)\n",
    "except Exception as e:\n",
    "    print(e)"
   ]
  },
  {
   "attachments": {},
   "cell_type": "markdown",
   "metadata": {},
   "source": [
    "# handle Domo Roles\n"
   ]
  },
  {
   "cell_type": "code",
   "execution_count": null,
   "metadata": {},
   "outputs": [],
   "source": [
    "# | export\n",
    "@dataclass\n",
    "class DomoRoles:\n",
    "    auth: dmda.DomoAuth"
   ]
  },
  {
   "cell_type": "code",
   "execution_count": null,
   "metadata": {},
   "outputs": [],
   "source": [
    "# | exporti\n",
    "\n",
    "\n",
    "@patch_to(DomoRoles, cls_method=True)\n",
    "async def get_roles(\n",
    "    cls: DomoRoles,\n",
    "    auth: dmda.DomoAuth,\n",
    "    debug_api: bool = False,\n",
    "    session: httpx.AsyncClient = None,\n",
    "    return_raw: bool = False,\n",
    "):\n",
    "    res = await role_routes.get_roles(auth=auth, session=session, debug_api=debug_api)\n",
    "\n",
    "    if return_raw:\n",
    "        return res\n",
    "\n",
    "    default_role_res = await role_routes.get_default_role(\n",
    "        auth=auth, session=session, debug_api=debug_api\n",
    "    )\n",
    "\n",
    "    return [\n",
    "        DomoRole._from_json(\n",
    "            role,\n",
    "            auth,\n",
    "            is_default_role=str(default_role_res.response) == str(role.get(\"id\")),\n",
    "        )\n",
    "        for role in res.response\n",
    "    ]"
   ]
  },
  {
   "attachments": {},
   "cell_type": "markdown",
   "metadata": {},
   "source": [
    "## Search and Get Roles\n"
   ]
  },
  {
   "cell_type": "code",
   "execution_count": null,
   "metadata": {},
   "outputs": [
    {
     "data": {
      "text/plain": [
       "[DomoRole(id=1, name='Admin', description='Full access to everything', is_system_role=True, is_default_role=False, grant_ls=[], membership_ls=[]),\n",
       " DomoRole(id=2, name='Privileged', description='Full access except for editing users and settings owners', is_system_role=True, is_default_role=True, grant_ls=[], membership_ls=[]),\n",
       " DomoRole(id=3, name='Editor', description='Can edit Cards, Pages, DataSets, and Dataflows', is_system_role=True, is_default_role=False, grant_ls=[], membership_ls=[]),\n",
       " DomoRole(id=4, name='Participant', description='Read only access to Cards and Pages', is_system_role=True, is_default_role=False, grant_ls=[], membership_ls=[]),\n",
       " DomoRole(id=5, name='Social', description='Access limited to social features', is_system_role=True, is_default_role=False, grant_ls=[], membership_ls=[]),\n",
       " DomoRole(id=104295428, name='super_admin_v3', description='upsert via DomoLibrary', is_system_role=0, is_default_role=False, grant_ls=[], membership_ls=[]),\n",
       " DomoRole(id=275763436, name='manual_super_admin', description='Full access to everything - h9', is_system_role=0, is_default_role=False, grant_ls=[], membership_ls=[]),\n",
       " DomoRole(id=810756122, name='super_admin', description='updated via domolibrary on 2023-12-08', is_system_role=0, is_default_role=False, grant_ls=[], membership_ls=[]),\n",
       " DomoRole(id=1563101750, name='dl_department_admin', description='deployed via domo_library script - updated 2023-12-08', is_system_role=0, is_default_role=False, grant_ls=[], membership_ls=[]),\n",
       " DomoRole(id=1662852841, name='dl_test', description='deployed via domo_library script - updated 2023-12-08', is_system_role=0, is_default_role=False, grant_ls=[], membership_ls=[]),\n",
       " DomoRole(id=1927158482, name='Domo_Admins', description='Full access to everything', is_system_role=0, is_default_role=False, grant_ls=[], membership_ls=[]),\n",
       " DomoRole(id=2097317660, name='Community_Default_Priviliged', description='Full access except for editing users and settings owners', is_system_role=0, is_default_role=False, grant_ls=[], membership_ls=[])]"
      ]
     },
     "execution_count": null,
     "metadata": {},
     "output_type": "execute_result"
    }
   ],
   "source": [
    "import os\n",
    "import pandas as pd\n",
    "\n",
    "token_auth = dmda.DomoTokenAuth(\n",
    "    domo_instance=\"domo-community\",\n",
    "    domo_access_token=os.environ[\"DOMO_DOJO_ACCESS_TOKEN\"],\n",
    ")\n",
    "\n",
    "await DomoRoles.get_roles(auth=token_auth)"
   ]
  },
  {
   "cell_type": "code",
   "execution_count": null,
   "metadata": {},
   "outputs": [],
   "source": [
    "# | export\n",
    "class SearchRole_NotFound(de.DomoError):\n",
    "    def __init__(\n",
    "        self, domo_instance, role_id, message=\"not found\", function_name=\"search_role\"\n",
    "    ):\n",
    "        super().__init__(\n",
    "            domo_instance=domo_instance,\n",
    "            message=message,\n",
    "            entity_id=role_id,\n",
    "            function_name=function_name,\n",
    "        )"
   ]
  },
  {
   "cell_type": "code",
   "execution_count": null,
   "metadata": {},
   "outputs": [],
   "source": [
    "# | exporti\n",
    "\n",
    "\n",
    "@patch_to(DomoRoles, cls_method=True)\n",
    "async def search_role(\n",
    "    cls: DomoRoles,\n",
    "    auth: dmda.DomoAuth,\n",
    "    role_name: str = None,\n",
    "    role_id: str = None,\n",
    "    debug_api: bool = False,\n",
    "    session: httpx.AsyncClient = None,\n",
    "    return_raw: bool = False,\n",
    "):\n",
    "    all_roles = await DomoRoles.get_roles(\n",
    "        auth=auth, debug_api=debug_api, session=session, return_raw=return_raw\n",
    "    )\n",
    "\n",
    "    if return_raw:\n",
    "        return all_roles\n",
    "\n",
    "    if role_name:\n",
    "        domo_role = next((role for role in all_roles if role.name == role_name), None)\n",
    "\n",
    "    if role_id:\n",
    "        domo_role = next(\n",
    "            (role for role in all_roles if str(role.id) == str(role_id)), None\n",
    "        )\n",
    "\n",
    "    if not domo_role:\n",
    "        raise SearchRole_NotFound(domo_instance=auth.domo_instance, role_id=role_name)\n",
    "\n",
    "    return domo_role"
   ]
  },
  {
   "attachments": {},
   "cell_type": "markdown",
   "metadata": {},
   "source": [
    "#### sample implementation of searhc_role\n"
   ]
  },
  {
   "cell_type": "code",
   "execution_count": null,
   "metadata": {},
   "outputs": [
    {
     "data": {
      "text/plain": [
       "DomoRole(id=1, name='Admin', description='Full access to everything', is_system_role=True, is_default_role=False, grant_ls=[], membership_ls=[])"
      ]
     },
     "execution_count": null,
     "metadata": {},
     "output_type": "execute_result"
    }
   ],
   "source": [
    "import os\n",
    "import pandas as pd\n",
    "\n",
    "token_auth = dmda.DomoTokenAuth(\n",
    "    domo_instance=\"domo-community\",\n",
    "    domo_access_token=os.environ[\"DOMO_DOJO_ACCESS_TOKEN\"],\n",
    ")\n",
    "\n",
    "await DomoRoles.search_role(auth=token_auth, role_name=\"Admin\")"
   ]
  },
  {
   "attachments": {},
   "cell_type": "markdown",
   "metadata": {},
   "source": [
    "## Handle CRUD Roles\n"
   ]
  },
  {
   "cell_type": "code",
   "execution_count": null,
   "metadata": {},
   "outputs": [],
   "source": [
    "# | export\n",
    "class CreateRole_Error(de.DomoError):\n",
    "    def __init__(\n",
    "        self, domo_instance, role_id, message, status, function_name=\"create_role\"\n",
    "    ):\n",
    "        super().__init__(\n",
    "            domo_instance=domo_instance,\n",
    "            message=message,\n",
    "            status=status,\n",
    "            entity_id=role_id,\n",
    "            function_name=function_name,\n",
    "        )"
   ]
  },
  {
   "cell_type": "code",
   "execution_count": null,
   "metadata": {},
   "outputs": [],
   "source": [
    "# | exporti\n",
    "\n",
    "\n",
    "@patch_to(DomoRoles, cls_method=True)\n",
    "async def create_role(\n",
    "    cls: DomoRoles,\n",
    "    auth: dmda.DomoAuth,\n",
    "    name: str,\n",
    "    description: str = None,\n",
    "    debug_api: bool = False,\n",
    "    session: httpx.AsyncClient = None,\n",
    "):\n",
    "    res = await role_routes.create_role(\n",
    "        auth=auth,\n",
    "        name=name,\n",
    "        description=description,\n",
    "        debug_api=debug_api,\n",
    "        session=session,\n",
    "    )\n",
    "\n",
    "    if not res.is_success:\n",
    "        role_res = await cls.get_roles(auth=auth)\n",
    "\n",
    "        domo_role = next((role for role in role_res if role.name == name))\n",
    "\n",
    "        if domo_role:\n",
    "            raise CreateRole_Error(\n",
    "                domo_instance=auth.domo_instance,\n",
    "                role_id=name,\n",
    "                message=\"role already exists\",\n",
    "                status=res.status,\n",
    "            )\n",
    "\n",
    "        raise CreateRole_Error(\n",
    "            domo_instance=auth.domo_instance,\n",
    "            role_id=name,\n",
    "            message=res.response,\n",
    "            status=res.status,\n",
    "        )\n",
    "\n",
    "    return await DomoRoles.search_role(auth=auth, role_name=name)"
   ]
  },
  {
   "attachments": {},
   "cell_type": "markdown",
   "metadata": {},
   "source": [
    "#### sample implementation of create_role\n"
   ]
  },
  {
   "cell_type": "code",
   "execution_count": null,
   "metadata": {},
   "outputs": [
    {
     "name": "stdout",
     "output_type": "stream",
     "text": [
      "'DomoTokenAuth' object has no attribute 'domo_auth'\n"
     ]
    }
   ],
   "source": [
    "token_auth = dmda.DomoTokenAuth(\n",
    "    domo_instance=\"domo-community\",\n",
    "    domo_access_token=os.environ[\"DOMO_DOJO_ACCESS_TOKEN\"],\n",
    ")\n",
    "\n",
    "try:\n",
    "    await DomoRoles.create_role(\n",
    "        auth=token_auth,\n",
    "        name=\"super_admin\",\n",
    "        description=\"created via DomoLibrary\",\n",
    "    )\n",
    "except Exception as e:\n",
    "    print(e)"
   ]
  },
  {
   "cell_type": "code",
   "execution_count": null,
   "metadata": {},
   "outputs": [],
   "source": [
    "# | exporti\n",
    "\n",
    "\n",
    "@patch_to(DomoRoles, cls_method=True)\n",
    "async def upsert_role(\n",
    "    cls: DomoRoles,\n",
    "    auth: dmda.DomoAuth,\n",
    "    name: str,\n",
    "    description: str = None,\n",
    "    grant_ls: [dmg.DomoGrant] = None,\n",
    "    debug_api: bool = False,\n",
    "    debug_prn: bool = False,\n",
    "    session: httpx.AsyncClient = None,\n",
    "):\n",
    "    domo_role = None\n",
    "    \n",
    "    try:\n",
    "        domo_role = await DomoRoles.search_role(\n",
    "            role_name=name,\n",
    "            auth=auth,\n",
    "            debug_api=debug_api,\n",
    "            session=session,\n",
    "        )\n",
    "\n",
    "        if domo_role:\n",
    "            await domo_role.update_role_metadata(\n",
    "                role_name=name, role_description=description, session=session\n",
    "            )\n",
    "\n",
    "    except SearchRole_NotFound as e:\n",
    "        if debug_prn:\n",
    "            print(f\"No role match -- creating new role in {auth.domo_instance} - {e}\")\n",
    "\n",
    "        domo_role = await DomoRoles.create_role(\n",
    "            auth=auth,\n",
    "            name=name,\n",
    "            description=description,\n",
    "            debug_api=debug_api,\n",
    "            session=session,\n",
    "        )\n",
    "\n",
    "\n",
    "    if grant_ls:\n",
    "        grant_ls = domo_role._valid_grant_ls(grant_ls)\n",
    "        await domo_role.set_grants(grant_ls=grant_ls)\n",
    "\n",
    "    return domo_role"
   ]
  },
  {
   "attachments": {},
   "cell_type": "markdown",
   "metadata": {},
   "source": [
    "#### sample implementation of upsert_role\n"
   ]
  },
  {
   "cell_type": "code",
   "execution_count": null,
   "metadata": {},
   "outputs": [
    {
     "data": {
      "text/plain": [
       "DomoRole(id=104295428, name='super_admin_v3', description='upsert via DomoLibrary', is_system_role=0, is_default_role=False, grant_ls=[DomoGrant(id='cloud.admin', display_group=None, title=None, depends_on_ls=None, description=None, role_membership_ls=None), DomoGrant(id='versions.repository.admin', display_group=None, title=None, depends_on_ls=None, description=None, role_membership_ls=None), DomoGrant(id='codeengine.package.manage', display_group=None, title=None, depends_on_ls=None, description=None, role_membership_ls=None), DomoGrant(id='appstore.admin', display_group=None, title=None, depends_on_ls=None, description=None, role_membership_ls=None), DomoGrant(id='datastore.admin', display_group=None, title=None, depends_on_ls=None, description=None, role_membership_ls=None), DomoGrant(id='certifiedcontent.admin', display_group=None, title=None, depends_on_ls=None, description=None, role_membership_ls=None)], membership_ls=[])"
      ]
     },
     "execution_count": null,
     "metadata": {},
     "output_type": "execute_result"
    }
   ],
   "source": [
    "token_auth = dmda.DomoTokenAuth(\n",
    "    domo_instance=\"domo-community\",\n",
    "    domo_access_token=os.environ[\"DOMO_DOJO_ACCESS_TOKEN\"],\n",
    ")\n",
    "\n",
    "grant_ls = [\n",
    "    \"cloud.admin\",\n",
    "    \"versions.repository.admin\",\n",
    "    \"codeengine.package.manage\",\n",
    "    \"appstore.admin\",\n",
    "    \"datastore.admin\",\n",
    "    \"certifiedcontent.admin\",\n",
    "]\n",
    "\n",
    "await DomoRoles.upsert_role(\n",
    "    auth=token_auth,\n",
    "    name=\"super_admin_v3\",\n",
    "    description=\"upsert via DomoLibrary\",\n",
    "    grant_ls=grant_ls,\n",
    ")"
   ]
  },
  {
   "cell_type": "code",
   "execution_count": null,
   "metadata": {},
   "outputs": [],
   "source": [
    "# # async def get_default_role(auth, debug_api:bool = False):\n",
    "#     url = f\"https://{auth.domo_instance}.domo.com/api/content/v1/customer-states/user.roleid.default\"\n",
    "#     params = [ {'defaultValue' :2} , {'ignoreCache': True}]\n",
    "\n",
    "#     return await role_routes.set_default_role(auth=self.auth,\n",
    "#                                                 role_id=self.id,\n",
    "#                                                 debug_api=debug_api)"
   ]
  },
  {
   "cell_type": "code",
   "execution_count": null,
   "metadata": {},
   "outputs": [],
   "source": [
    "# | exporti\n",
    "@patch_to(DomoRole)\n",
    "async def set_as_default_role(\n",
    "    self: DomoRole, debug_api: bool = False, session: httpx.AsyncClient = None\n",
    "):\n",
    "    return await role_routes.set_default_role(\n",
    "        auth=self.auth, role_id=self.id, debug_api=debug_api, session=session\n",
    "    )"
   ]
  },
  {
   "cell_type": "code",
   "execution_count": null,
   "metadata": {},
   "outputs": [],
   "source": [
    "# | hide\n",
    "import nbdev\n",
    "\n",
    "nbdev.nbdev_export()"
   ]
  }
 ],
 "metadata": {
  "jupytext": {
   "split_at_heading": true
  },
  "kernelspec": {
   "display_name": "python3",
   "language": "python",
   "name": "python3"
  }
 },
 "nbformat": 4,
 "nbformat_minor": 4
}
