{
 "cells": [
  {
   "cell_type": "raw",
   "metadata": {},
   "source": [
    "---\n",
    "description: a class based approach to interacting with dataflows\n",
    "output-file: dataflow_history_class.html\n",
    "title: Dataflow\n",
    "---"
   ]
  },
  {
   "cell_type": "code",
   "execution_count": null,
   "metadata": {},
   "outputs": [],
   "source": [
    "# | default_exp classes.DomoDataflow_History"
   ]
  },
  {
   "cell_type": "code",
   "execution_count": null,
   "metadata": {},
   "outputs": [],
   "source": [
    "# | exporti\n",
    "\n",
    "from __future__ import annotations\n",
    "\n",
    "from dataclasses import dataclass, field\n",
    "from typing import List\n",
    "import datetime as dt\n",
    "\n",
    "import httpx\n",
    "\n",
    "from nbdev.showdoc import patch_to\n",
    "\n",
    "import domolibrary.utils.convert as ct\n",
    "import domolibrary.utils.chunk_execution as ce\n",
    "\n",
    "import domolibrary.client.DomoAuth as dmda\n",
    "import domolibrary.routes.dataflow as dataflow_routes\n",
    "\n"
   ]
  },
  {
   "cell_type": "code",
   "execution_count": null,
   "metadata": {},
   "outputs": [],
   "source": [
    "\n",
    "#| export\n",
    "from domolibrary.classes.DomoDataflow_Action import DomoDataflow_ActionResult"
   ]
  },
  {
   "cell_type": "code",
   "execution_count": null,
   "metadata": {},
   "outputs": [],
   "source": [
    "#| hide\n",
    "from nbdev.showdoc import patch_to, show_doc"
   ]
  },
  {
   "cell_type": "markdown",
   "metadata": {},
   "source": [
    "# Dataflow_History_Execution\n",
    "\n",
    "class that models a dataflow execution event.\n",
    "can include list of `DomoDataflow_ActionResult` which are tile executions\n"
   ]
  },
  {
   "cell_type": "code",
   "execution_count": null,
   "metadata": {},
   "outputs": [],
   "source": [
    "#| export\n",
    "@dataclass\n",
    "class DomoDataflow_History_Execution:\n",
    "    auth: dmda.DomoAuth = field(repr=False)\n",
    "    id: str\n",
    "    dataflow_id: str\n",
    "    dataflow_execution_id: str\n",
    "    dataflow_version: str\n",
    "\n",
    "    begin_time: dt.datetime\n",
    "    end_time: dt.datetime\n",
    "    last_updated: dt.datetime\n",
    "\n",
    "    is_failed: bool\n",
    "    state: str\n",
    "    activation_type: str\n",
    "    data_processor: str\n",
    "    telemetry: dict\n",
    "    execution_stats: dict\n",
    "\n",
    "    action_results : List[DomoDataflow_ActionResult] = None\n",
    "\n",
    "    @classmethod\n",
    "    def _from_json(cls, de_obj, auth: dmda.DomoAuth):\n",
    "        \n",
    "        action_results = None\n",
    "        if de_obj.get('actionResults'):\n",
    "            action_results = [DomoDataflow_ActionResult._from_json(action_obj) for action_obj in de_obj.get('actionResults')]\n",
    "\n",
    "\n",
    "        return cls(\n",
    "            auth=auth,\n",
    "            id=de_obj[\"id\"],\n",
    "            dataflow_id=de_obj[\"onboardFlowId\"],\n",
    "            dataflow_execution_id=de_obj[\"dapDataFlowExecutionId\"],\n",
    "            dataflow_version=de_obj.get(\"dataFlowVersion\"),\n",
    "            begin_time=ct.convert_epoch_millisecond_to_datetime(de_obj.get(\"beginTime\")),\n",
    "            end_time=ct.convert_epoch_millisecond_to_datetime(de_obj.get(\"endTime\")),\n",
    "            last_updated=ct.convert_epoch_millisecond_to_datetime(\n",
    "                de_obj[\"lastUpdated\"]\n",
    "            ),\n",
    "            is_failed=de_obj.get(\"failed\"),\n",
    "            state=de_obj[\"state\"],\n",
    "            activation_type=de_obj[\"activationType\"],\n",
    "            data_processor=de_obj[\"dataProcessor\"],\n",
    "            telemetry=de_obj.get(\"telemetry\"),\n",
    "            execution_stats={\n",
    "                \"total_bytes_written\": de_obj.get(\"totalBytesWritten\", 0),\n",
    "                \"total_rows_read\": de_obj.get(\"totalRowsRead\", 0),\n",
    "                \"total_bytes_read\": de_obj.get(\"totalBytesRead\", 0),\n",
    "                \"mean_download_rate_kbps\": de_obj.get(\"meanDownloadRateKbps\", 0),\n",
    "                \"total_rows_written\": de_obj.get(\"totalRowsWritten\", 0),\n",
    "            },\n",
    "            action_results = action_results\n",
    "        )"
   ]
  },
  {
   "cell_type": "code",
   "execution_count": null,
   "metadata": {},
   "outputs": [],
   "source": [
    "#| exporti\n",
    "\n",
    "@patch_to(DomoDataflow_History_Execution, cls_method = True)\n",
    "async def get_by_id(cls, \n",
    "    auth: dmda.DomoAuth,\n",
    "    dataflow_id: int,\n",
    "    execution_id : int,\n",
    "    debug_api: bool = False,\n",
    "    debug_num_stacks_to_drop=1,\n",
    "    session: httpx.AsyncClient = None,\n",
    "    return_raw: bool = False):\n",
    "\n",
    "    \"\"\"retrieves details about a dataflow execution including actions\"\"\"\n",
    "\n",
    "    res = await dataflow_routes.get_dataflow_execution_by_id(\n",
    "        auth = auth,\n",
    "        dataflow_id = dataflow_id,\n",
    "        execution_id = execution_id,\n",
    "        debug_api = debug_api,\n",
    "        debug_num_stacks_to_drop = debug_num_stacks_to_drop,\n",
    "        parent_class = cls.__name__,\n",
    "        session = session\n",
    "    )\n",
    "\n",
    "    if return_raw:\n",
    "        return res\n",
    "        \n",
    "    return cls._from_json(auth = auth, de_obj = res.response)\n",
    "    "
   ]
  },
  {
   "cell_type": "code",
   "execution_count": null,
   "metadata": {},
   "outputs": [
    {
     "data": {
      "text/markdown": [
       "---\n",
       "\n",
       "[source](https://github.com/jaewilson07/domo_library/blob/main/domolibrary/classes/DomoDataflow_History.py#L83){target=\"_blank\" style=\"float:right; font-size:smaller\"}\n",
       "\n",
       "### DomoDataflow_History_Execution.get_by_id\n",
       "\n",
       ">      DomoDataflow_History_Execution.get_by_id\n",
       ">                                                (auth:domolibrary.client.DomoAu\n",
       ">                                                th.DomoAuth, dataflow_id:int,\n",
       ">                                                execution_id:int,\n",
       ">                                                debug_api:bool=False,\n",
       ">                                                debug_num_stacks_to_drop=1,\n",
       ">                                                session:httpx.AsyncClient=None,\n",
       ">                                                return_raw:bool=False)\n",
       "\n",
       "retrieves details about a dataflow execution including actions"
      ],
      "text/plain": [
       "---\n",
       "\n",
       "[source](https://github.com/jaewilson07/domo_library/blob/main/domolibrary/classes/DomoDataflow_History.py#L83){target=\"_blank\" style=\"float:right; font-size:smaller\"}\n",
       "\n",
       "### DomoDataflow_History_Execution.get_by_id\n",
       "\n",
       ">      DomoDataflow_History_Execution.get_by_id\n",
       ">                                                (auth:domolibrary.client.DomoAu\n",
       ">                                                th.DomoAuth, dataflow_id:int,\n",
       ">                                                execution_id:int,\n",
       ">                                                debug_api:bool=False,\n",
       ">                                                debug_num_stacks_to_drop=1,\n",
       ">                                                session:httpx.AsyncClient=None,\n",
       ">                                                return_raw:bool=False)\n",
       "\n",
       "retrieves details about a dataflow execution including actions"
      ]
     },
     "execution_count": null,
     "metadata": {},
     "output_type": "execute_result"
    }
   ],
   "source": [
    "show_doc(DomoDataflow_History_Execution.get_by_id)"
   ]
  },
  {
   "cell_type": "markdown",
   "metadata": {},
   "source": [
    "#### sample implementation of Dataflow_History_Execution get_by_id\n"
   ]
  },
  {
   "cell_type": "code",
   "execution_count": null,
   "metadata": {},
   "outputs": [
    {
     "name": "stdout",
     "output_type": "stream",
     "text": [
      "DomoDataflow_History_Execution(id=433238,\n",
      "                               dataflow_id=70,\n",
      "                               dataflow_execution_id='88e96b86-0dcd-4a84-a946-bcb22224ea2f',\n",
      "                               dataflow_version=262,\n",
      "                               begin_time=datetime.datetime(2023, 12, 5, 6, 16, 31),\n",
      "                               end_time=datetime.datetime(2023, 12, 5, 6, 17, 4),\n",
      "                               last_updated=datetime.datetime(2023, 12, 5, 6, 17, 4),\n",
      "                               is_failed=False,\n",
      "                               state='SUCCESS',\n",
      "                               activation_type='MANUAL',\n",
      "                               data_processor='MYSQL',\n",
      "                               telemetry=None,\n",
      "                               execution_stats={'mean_download_rate_kbps': 56.014071115596686,\n",
      "                                                'total_bytes_read': 291266,\n",
      "                                                'total_bytes_written': 97986,\n",
      "                                                'total_rows_read': 909,\n",
      "                                                'total_rows_written': 1816},\n",
      "                               action_results=[DomoDataflow_ActionResult(id='8edc3d78-3586-47a8-9775-c7b146a50d19',\n",
      "                                                                         type='PublishToVault',\n",
      "                                                                         depends_on=None,\n",
      "                                                                         name=None,\n",
      "                                                                         datasource_id=None,\n",
      "                                                                         sql=None,\n",
      "                                                                         is_success=True,\n",
      "                                                                         rows_processed=1816,\n",
      "                                                                         begin_time=1701757021487,\n",
      "                                                                         end_time=1701757022754),\n",
      "                                               DomoDataflow_ActionResult(id='c176aa53-122a-4a2e-8b6f-41ca4a72d67c',\n",
      "                                                                         type='GenerateTableAction',\n",
      "                                                                         depends_on=None,\n",
      "                                                                         name=None,\n",
      "                                                                         datasource_id=None,\n",
      "                                                                         sql=None,\n",
      "                                                                         is_success=True,\n",
      "                                                                         rows_processed=909,\n",
      "                                                                         begin_time=1701757020983,\n",
      "                                                                         end_time=1701757021100),\n",
      "                                               DomoDataflow_ActionResult(id='241025d7-3cca-4369-b7c0-b3264277c0e1',\n",
      "                                                                         type='DataHubManifestLoaderAction',\n",
      "                                                                         depends_on=None,\n",
      "                                                                         name=None,\n",
      "                                                                         datasource_id=None,\n",
      "                                                                         sql=None,\n",
      "                                                                         is_success=True,\n",
      "                                                                         rows_processed=909,\n",
      "                                                                         begin_time=1701757015894,\n",
      "                                                                         end_time=1701757020972),\n",
      "                                               DomoDataflow_ActionResult(id='ac9f630d-d865-4925-b955-4316e227229a',\n",
      "                                                                         type='GenerateTableAction',\n",
      "                                                                         depends_on=None,\n",
      "                                                                         name=None,\n",
      "                                                                         datasource_id=None,\n",
      "                                                                         sql=None,\n",
      "                                                                         is_success=True,\n",
      "                                                                         rows_processed=1816,\n",
      "                                                                         begin_time=1701757021100,\n",
      "                                                                         end_time=1701757021487)])\n"
     ]
    }
   ],
   "source": [
    "import os\n",
    "import pandas as pd\n",
    "\n",
    "token_auth = dmda.DomoTokenAuth(\n",
    "    domo_instance=\"domo-community\",\n",
    "    domo_access_token=os.environ[\"DOMO_DOJO_ACCESS_TOKEN\"],\n",
    ")\n",
    "\n",
    "from pprint import pprint\n",
    "\n",
    "pprint( await DomoDataflow_History_Execution.get_by_id(\n",
    "    dataflow_id=70, execution_id=433238, auth=token_auth,\n",
    "    return_raw = False\n",
    "))"
   ]
  },
  {
   "cell_type": "code",
   "execution_count": null,
   "metadata": {},
   "outputs": [],
   "source": [
    "#| exporti\n",
    "\n",
    "@patch_to(DomoDataflow_History_Execution)\n",
    "async def get_actions(self : DomoDataflow_History_Execution, \n",
    "    debug_api: bool = False,\n",
    "    debug_num_stacks_to_drop=1,\n",
    "    session: httpx.AsyncClient = None,\n",
    "    return_raw: bool = False):\n",
    "\n",
    "    \"\"\"retrieves details execution action results\"\"\"\n",
    "\n",
    "\n",
    "    res = await dataflow_routes.get_dataflow_execution_by_id(\n",
    "        auth = self.auth,\n",
    "        dataflow_id = self.dataflow_id,\n",
    "        execution_id = self.id,\n",
    "        debug_api = debug_api,\n",
    "        debug_num_stacks_to_drop = debug_num_stacks_to_drop,\n",
    "        parent_class = self.__class__.__name__,\n",
    "        session = session\n",
    "    )\n",
    "\n",
    "    if return_raw:\n",
    "        return res\n",
    "\n",
    "    action_results = res.response.get('actionResults')\n",
    "    if action_results:\n",
    "        action_results = [DomoDataflow_ActionResult._from_json(action_obj) for action_obj in action_results]\n",
    "    \n",
    "    self.action_results = action_results\n",
    "    return self.action_results\n",
    "\n",
    "    "
   ]
  },
  {
   "cell_type": "code",
   "execution_count": null,
   "metadata": {},
   "outputs": [
    {
     "data": {
      "text/plain": [
       "[DomoDataflow_ActionResult(id='8edc3d78-3586-47a8-9775-c7b146a50d19', type='PublishToVault', depends_on=None, name=None, datasource_id=None, sql=None, is_success=True, rows_processed=1816, begin_time=1701757021487, end_time=1701757022754),\n",
       " DomoDataflow_ActionResult(id='c176aa53-122a-4a2e-8b6f-41ca4a72d67c', type='GenerateTableAction', depends_on=None, name=None, datasource_id=None, sql=None, is_success=True, rows_processed=909, begin_time=1701757020983, end_time=1701757021100),\n",
       " DomoDataflow_ActionResult(id='241025d7-3cca-4369-b7c0-b3264277c0e1', type='DataHubManifestLoaderAction', depends_on=None, name=None, datasource_id=None, sql=None, is_success=True, rows_processed=909, begin_time=1701757015894, end_time=1701757020972),\n",
       " DomoDataflow_ActionResult(id='ac9f630d-d865-4925-b955-4316e227229a', type='GenerateTableAction', depends_on=None, name=None, datasource_id=None, sql=None, is_success=True, rows_processed=1816, begin_time=1701757021100, end_time=1701757021487)]"
      ]
     },
     "execution_count": null,
     "metadata": {},
     "output_type": "execute_result"
    }
   ],
   "source": [
    "import os\n",
    "import pandas as pd\n",
    "\n",
    "token_auth = dmda.DomoTokenAuth(\n",
    "    domo_instance=\"domo-community\",\n",
    "    domo_access_token=os.environ[\"DOMO_DOJO_ACCESS_TOKEN\"],\n",
    ")\n",
    "\n",
    "from pprint import pprint\n",
    "\n",
    "domo_dataflow_execution = await DomoDataflow_History_Execution.get_by_id(\n",
    "    dataflow_id=70, execution_id=433238, auth=token_auth,\n",
    "    return_raw = False\n",
    ")\n",
    "await domo_dataflow_execution.get_actions()"
   ]
  },
  {
   "cell_type": "code",
   "execution_count": null,
   "metadata": {},
   "outputs": [],
   "source": [
    "#| export\n",
    "@dataclass\n",
    "class DomoDataflow_History:\n",
    "    auth : dmda.DomoAuth\n",
    "    dataflow_id : int = field(repr = False)\n",
    "\n",
    "    dataflow : None = field(repr = False, default = None)\n",
    "    \n",
    "    execution_history : List[DomoDataflow_History_Execution] = None"
   ]
  },
  {
   "cell_type": "code",
   "execution_count": null,
   "metadata": {},
   "outputs": [],
   "source": []
  },
  {
   "cell_type": "code",
   "execution_count": null,
   "metadata": {},
   "outputs": [],
   "source": [
    "#| exporti\n",
    "@patch_to(DomoDataflow_History)\n",
    "async def get_execution_history(\n",
    "    self: DomoDataflow_History,\n",
    "    auth: dmda.DomoAuth = None,\n",
    "    maximum=10,  # maximum number of execution histories to retrieve\n",
    "    debug_api: bool = False,\n",
    "    debug_num_stacks_to_drop=2,\n",
    "    return_raw: bool = False,\n",
    "):\n",
    "    \"\"\"retrieves metadata about execution history.\n",
    "    includes details like execution status.\n",
    "    \"\"\"\n",
    "\n",
    "    auth = auth or self.auth or self.dataflow.auth\n",
    "\n",
    "    res = await dataflow_routes.get_dataflow_execution_history(\n",
    "        auth=auth,\n",
    "        dataflow_id=self.dataflow_id,\n",
    "        debug_api=debug_api,\n",
    "        debug_num_stacks_to_drop=debug_num_stacks_to_drop,\n",
    "        parent_class=self.__class__.__name__,\n",
    "        maximum=maximum,\n",
    "    )\n",
    "\n",
    "    if return_raw:\n",
    "        return res\n",
    "\n",
    "    execution_history = [\n",
    "        DomoDataflow_History_Execution._from_json(df_obj, auth) for df_obj in res.response\n",
    "    ]\n",
    "\n",
    "    await ce.gather_with_concurrency( *[domo_execution.get_actions() for domo_execution in execution_history], n = 20)\n",
    "\n",
    "    self.execution_history = execution_history\n",
    "\n",
    "    return self.execution_history"
   ]
  },
  {
   "cell_type": "code",
   "execution_count": null,
   "metadata": {},
   "outputs": [
    {
     "data": {
      "text/markdown": [
       "---\n",
       "\n",
       "[source](https://github.com/jaewilson07/domo_library/blob/main/domolibrary/classes/DomoDataflow_History.py#L155){target=\"_blank\" style=\"float:right; font-size:smaller\"}\n",
       "\n",
       "### DomoDataflow_History.get_execution_history\n",
       "\n",
       ">      DomoDataflow_History.get_execution_history\n",
       ">                                                  (auth:domolibrary.client.Domo\n",
       ">                                                  Auth.DomoAuth=None,\n",
       ">                                                  maximum=10,\n",
       ">                                                  debug_api:bool=False,\n",
       ">                                                  debug_num_stacks_to_drop=2,\n",
       ">                                                  return_raw:bool=False)\n",
       "\n",
       "retrieves metadata about execution history.\n",
       "includes details like execution status."
      ],
      "text/plain": [
       "---\n",
       "\n",
       "[source](https://github.com/jaewilson07/domo_library/blob/main/domolibrary/classes/DomoDataflow_History.py#L155){target=\"_blank\" style=\"float:right; font-size:smaller\"}\n",
       "\n",
       "### DomoDataflow_History.get_execution_history\n",
       "\n",
       ">      DomoDataflow_History.get_execution_history\n",
       ">                                                  (auth:domolibrary.client.Domo\n",
       ">                                                  Auth.DomoAuth=None,\n",
       ">                                                  maximum=10,\n",
       ">                                                  debug_api:bool=False,\n",
       ">                                                  debug_num_stacks_to_drop=2,\n",
       ">                                                  return_raw:bool=False)\n",
       "\n",
       "retrieves metadata about execution history.\n",
       "includes details like execution status."
      ]
     },
     "execution_count": null,
     "metadata": {},
     "output_type": "execute_result"
    }
   ],
   "source": [
    "show_doc(DomoDataflow_History.get_execution_history)"
   ]
  },
  {
   "cell_type": "code",
   "execution_count": null,
   "metadata": {},
   "outputs": [
    {
     "data": {
      "text/plain": [
       "[DomoDataflow_History_Execution(id=327615, dataflow_id=185, dataflow_execution_id='98fb0606-fa1b-48ea-bf96-0f3a052b7e99', dataflow_version=741, begin_time=datetime.datetime(2023, 6, 15, 21, 17, 58), end_time=datetime.datetime(2023, 6, 15, 21, 18, 9), last_updated=datetime.datetime(2023, 6, 15, 21, 18, 9), is_failed=False, state='SUCCESS', activation_type='MANUAL', data_processor='MAGIC', telemetry=[{'name': 'activeOptimizations', 'value': 'c'}], execution_stats={'total_bytes_written': 2299757, 'total_rows_read': 5988, 'total_bytes_read': 624402, 'mean_download_rate_kbps': 239.78276764648052, 'total_rows_written': 5988}, action_results=[DomoDataflow_ActionResult(id='b9bb0f01-2517-4595-a077-c9778e5ffc48', type='DataHubManifestLoaderAction', depends_on=None, name=None, datasource_id=None, sql=None, is_success=True, rows_processed=5988, begin_time=1686863885716, end_time=1686863887008), DomoDataflow_ActionResult(id='52f47029-06e0-4599-9ed8-21c4b9386c89', type='WindowAction', depends_on=None, name=None, datasource_id=None, sql=None, is_success=True, rows_processed=5988, begin_time=1686863887133, end_time=1686863887590), DomoDataflow_ActionResult(id='623883e9-bdc1-44cd-9fb4-6277d0e123de', type='ExpressionEvaluator', depends_on=None, name=None, datasource_id=None, sql=None, is_success=True, rows_processed=5988, begin_time=1686863887180, end_time=1686863887590), DomoDataflow_ActionResult(id='99ad5978-9a19-41e1-99d7-3d0ce58f7467', type='Metadata', depends_on=None, name=None, datasource_id=None, sql=None, is_success=True, rows_processed=5988, begin_time=1686863887216, end_time=1686863887590), DomoDataflow_ActionResult(id='4cf42103-c52d-4b92-b26f-63832ead11ee', type='SelectValues', depends_on=None, name=None, datasource_id=None, sql=None, is_success=True, rows_processed=5988, begin_time=1686863887216, end_time=1686863887590), DomoDataflow_ActionResult(id='435803f2-08a4-42b3-8eb2-295b1519c85f', type='ExpressionEvaluator', depends_on=None, name=None, datasource_id=None, sql=None, is_success=True, rows_processed=5988, begin_time=1686863887217, end_time=1686863887590), DomoDataflow_ActionResult(id='0c0f0aa1-06b7-4ec1-a3bb-2b28c9a28fa7', type='PublishToVault', depends_on=None, name=None, datasource_id=None, sql=None, is_success=True, rows_processed=5988, begin_time=1686863887218, end_time=1686863887693)]),\n",
       " DomoDataflow_History_Execution(id=327600, dataflow_id=185, dataflow_execution_id='33118cae-2a9f-45dc-96dc-7bad72301333', dataflow_version=704, begin_time=datetime.datetime(2023, 6, 15, 21, 3, 5), end_time=datetime.datetime(2023, 6, 15, 21, 3, 16), last_updated=datetime.datetime(2023, 6, 15, 21, 3, 16), is_failed=False, state='SUCCESS', activation_type='MANUAL', data_processor='MAGIC', telemetry=[{'name': 'activeOptimizations', 'value': 'c'}], execution_stats={'total_bytes_written': 1874609, 'total_rows_read': 5988, 'total_bytes_read': 624402, 'mean_download_rate_kbps': 271.8535791908159, 'total_rows_written': 5988}, action_results=[DomoDataflow_ActionResult(id='b9bb0f01-2517-4595-a077-c9778e5ffc48', type='DataHubManifestLoaderAction', depends_on=None, name=None, datasource_id=None, sql=None, is_success=True, rows_processed=5988, begin_time=1686862992484, end_time=1686862993668), DomoDataflow_ActionResult(id='52f47029-06e0-4599-9ed8-21c4b9386c89', type='WindowAction', depends_on=None, name=None, datasource_id=None, sql=None, is_success=True, rows_processed=5988, begin_time=1686862993774, end_time=1686862994273), DomoDataflow_ActionResult(id='623883e9-bdc1-44cd-9fb4-6277d0e123de', type='ExpressionEvaluator', depends_on=None, name=None, datasource_id=None, sql=None, is_success=True, rows_processed=5988, begin_time=1686862993852, end_time=1686862994262), DomoDataflow_ActionResult(id='99ad5978-9a19-41e1-99d7-3d0ce58f7467', type='Metadata', depends_on=None, name=None, datasource_id=None, sql=None, is_success=True, rows_processed=5988, begin_time=1686862993866, end_time=1686862994262), DomoDataflow_ActionResult(id='4cf42103-c52d-4b92-b26f-63832ead11ee', type='SelectValues', depends_on=None, name=None, datasource_id=None, sql=None, is_success=True, rows_processed=5988, begin_time=1686862993867, end_time=1686862994262), DomoDataflow_ActionResult(id='435803f2-08a4-42b3-8eb2-295b1519c85f', type='ExpressionEvaluator', depends_on=None, name=None, datasource_id=None, sql=None, is_success=True, rows_processed=5988, begin_time=1686862993868, end_time=1686862994262), DomoDataflow_ActionResult(id='0c0f0aa1-06b7-4ec1-a3bb-2b28c9a28fa7', type='PublishToVault', depends_on=None, name=None, datasource_id=None, sql=None, is_success=True, rows_processed=5988, begin_time=1686862993874, end_time=1686862994408)]),\n",
       " DomoDataflow_History_Execution(id=311629, dataflow_id=185, dataflow_execution_id='ff0206d4-2117-408e-b45c-f651281bb531', dataflow_version=667, begin_time=datetime.datetime(2023, 5, 18, 23, 0, 45), end_time=datetime.datetime(2023, 5, 18, 23, 0, 56), last_updated=datetime.datetime(2023, 5, 18, 23, 0, 56), is_failed=False, state='SUCCESS', activation_type='MANUAL', data_processor='MAGIC', telemetry=[{'name': 'activeOptimizations', 'value': 'c'}], execution_stats={'total_bytes_written': 1820717, 'total_rows_read': 5988, 'total_bytes_read': 624402, 'mean_download_rate_kbps': 267.7942811264822, 'total_rows_written': 5988}, action_results=[DomoDataflow_ActionResult(id='b9bb0f01-2517-4595-a077-c9778e5ffc48', type='DataHubManifestLoaderAction', depends_on=None, name=None, datasource_id=None, sql=None, is_success=True, rows_processed=5988, begin_time=1684450852937, end_time=1684450854159), DomoDataflow_ActionResult(id='52f47029-06e0-4599-9ed8-21c4b9386c89', type='WindowAction', depends_on=None, name=None, datasource_id=None, sql=None, is_success=True, rows_processed=5988, begin_time=1684450854316, end_time=1684450854762), DomoDataflow_ActionResult(id='623883e9-bdc1-44cd-9fb4-6277d0e123de', type='ExpressionEvaluator', depends_on=None, name=None, datasource_id=None, sql=None, is_success=True, rows_processed=5988, begin_time=1684450854341, end_time=1684450854762), DomoDataflow_ActionResult(id='99ad5978-9a19-41e1-99d7-3d0ce58f7467', type='Metadata', depends_on=None, name=None, datasource_id=None, sql=None, is_success=True, rows_processed=5988, begin_time=1684450854356, end_time=1684450854762), DomoDataflow_ActionResult(id='4cf42103-c52d-4b92-b26f-63832ead11ee', type='SelectValues', depends_on=None, name=None, datasource_id=None, sql=None, is_success=True, rows_processed=5988, begin_time=1684450854357, end_time=1684450854762), DomoDataflow_ActionResult(id='0c0f0aa1-06b7-4ec1-a3bb-2b28c9a28fa7', type='PublishToVault', depends_on=None, name=None, datasource_id=None, sql=None, is_success=True, rows_processed=5988, begin_time=1684450854358, end_time=1684450854900)]),\n",
       " DomoDataflow_History_Execution(id=311627, dataflow_id=185, dataflow_execution_id='10367d5b-3f1a-40ac-a235-eddd23fbc436', dataflow_version=666, begin_time=datetime.datetime(2023, 5, 18, 22, 57, 23), end_time=datetime.datetime(2023, 5, 18, 22, 57, 33), last_updated=datetime.datetime(2023, 5, 18, 22, 57, 33), is_failed=False, state='SUCCESS', activation_type='MANUAL', data_processor='MAGIC', telemetry=[{'name': 'activeOptimizations', 'value': 'c'}], execution_stats={'total_bytes_written': 1814729, 'total_rows_read': 5988, 'total_bytes_read': 624402, 'mean_download_rate_kbps': 268.50179573976226, 'total_rows_written': 5988}, action_results=[DomoDataflow_ActionResult(id='b9bb0f01-2517-4595-a077-c9778e5ffc48', type='DataHubManifestLoaderAction', depends_on=None, name=None, datasource_id=None, sql=None, is_success=True, rows_processed=5988, begin_time=1684450650089, end_time=1684450651402), DomoDataflow_ActionResult(id='52f47029-06e0-4599-9ed8-21c4b9386c89', type='WindowAction', depends_on=None, name=None, datasource_id=None, sql=None, is_success=True, rows_processed=5988, begin_time=1684450651579, end_time=1684450651982), DomoDataflow_ActionResult(id='623883e9-bdc1-44cd-9fb4-6277d0e123de', type='ExpressionEvaluator', depends_on=None, name=None, datasource_id=None, sql=None, is_success=True, rows_processed=5988, begin_time=1684450651602, end_time=1684450651982), DomoDataflow_ActionResult(id='99ad5978-9a19-41e1-99d7-3d0ce58f7467', type='Metadata', depends_on=None, name=None, datasource_id=None, sql=None, is_success=True, rows_processed=5988, begin_time=1684450651610, end_time=1684450651982), DomoDataflow_ActionResult(id='4cf42103-c52d-4b92-b26f-63832ead11ee', type='SelectValues', depends_on=None, name=None, datasource_id=None, sql=None, is_success=True, rows_processed=5988, begin_time=1684450651675, end_time=1684450651982), DomoDataflow_ActionResult(id='0c0f0aa1-06b7-4ec1-a3bb-2b28c9a28fa7', type='PublishToVault', depends_on=None, name=None, datasource_id=None, sql=None, is_success=True, rows_processed=5988, begin_time=1684450651676, end_time=1684450652114)]),\n",
       " DomoDataflow_History_Execution(id=311626, dataflow_id=185, dataflow_execution_id='0c493b3f-e44f-4e5a-8aec-db2f4fb3ce97', dataflow_version=664, begin_time=datetime.datetime(2023, 5, 18, 22, 55, 36), end_time=datetime.datetime(2023, 5, 18, 22, 55, 47), last_updated=datetime.datetime(2023, 5, 18, 22, 55, 47), is_failed=False, state='SUCCESS', activation_type='MANUAL', data_processor='MAGIC', telemetry=[{'name': 'activeOptimizations', 'value': 'c'}], execution_stats={'total_bytes_written': 1366868, 'total_rows_read': 5988, 'total_bytes_read': 624402, 'mean_download_rate_kbps': 314.1512509659969, 'total_rows_written': 5988}, action_results=[DomoDataflow_ActionResult(id='b9bb0f01-2517-4595-a077-c9778e5ffc48', type='DataHubManifestLoaderAction', depends_on=None, name=None, datasource_id=None, sql=None, is_success=True, rows_processed=5988, begin_time=1684450544063, end_time=1684450545077), DomoDataflow_ActionResult(id='52f47029-06e0-4599-9ed8-21c4b9386c89', type='WindowAction', depends_on=None, name=None, datasource_id=None, sql=None, is_success=True, rows_processed=5988, begin_time=1684450545261, end_time=1684450545653), DomoDataflow_ActionResult(id='623883e9-bdc1-44cd-9fb4-6277d0e123de', type='ExpressionEvaluator', depends_on=None, name=None, datasource_id=None, sql=None, is_success=True, rows_processed=5988, begin_time=1684450545269, end_time=1684450545653), DomoDataflow_ActionResult(id='99ad5978-9a19-41e1-99d7-3d0ce58f7467', type='Metadata', depends_on=None, name=None, datasource_id=None, sql=None, is_success=True, rows_processed=5988, begin_time=1684450545354, end_time=1684450545653), DomoDataflow_ActionResult(id='4cf42103-c52d-4b92-b26f-63832ead11ee', type='SelectValues', depends_on=None, name=None, datasource_id=None, sql=None, is_success=True, rows_processed=5988, begin_time=1684450545355, end_time=1684450545653), DomoDataflow_ActionResult(id='0c0f0aa1-06b7-4ec1-a3bb-2b28c9a28fa7', type='PublishToVault', depends_on=None, name=None, datasource_id=None, sql=None, is_success=True, rows_processed=5988, begin_time=1684450545356, end_time=1684450545777)]),\n",
       " DomoDataflow_History_Execution(id=311625, dataflow_id=185, dataflow_execution_id='7d552982-b821-4d7f-83ac-2e2424240b10', dataflow_version=663, begin_time=datetime.datetime(2023, 5, 18, 22, 54, 52), end_time=datetime.datetime(2023, 5, 18, 22, 55, 3), last_updated=datetime.datetime(2023, 5, 18, 22, 55, 3), is_failed=False, state='SUCCESS', activation_type='MANUAL', data_processor='MAGIC', telemetry=[{'name': 'activeOptimizations', 'value': 'c'}], execution_stats={'total_bytes_written': 1345874, 'total_rows_read': 5988, 'total_bytes_read': 624402, 'mean_download_rate_kbps': 245.4780910326087, 'total_rows_written': 5988}, action_results=[DomoDataflow_ActionResult(id='b9bb0f01-2517-4595-a077-c9778e5ffc48', type='DataHubManifestLoaderAction', depends_on=None, name=None, datasource_id=None, sql=None, is_success=True, rows_processed=5988, begin_time=1684450499486, end_time=1684450500874), DomoDataflow_ActionResult(id='52f47029-06e0-4599-9ed8-21c4b9386c89', type='WindowAction', depends_on=None, name=None, datasource_id=None, sql=None, is_success=True, rows_processed=5988, begin_time=1684450500990, end_time=1684450501476), DomoDataflow_ActionResult(id='623883e9-bdc1-44cd-9fb4-6277d0e123de', type='ExpressionEvaluator', depends_on=None, name=None, datasource_id=None, sql=None, is_success=True, rows_processed=5988, begin_time=1684450501069, end_time=1684450501476), DomoDataflow_ActionResult(id='99ad5978-9a19-41e1-99d7-3d0ce58f7467', type='Metadata', depends_on=None, name=None, datasource_id=None, sql=None, is_success=True, rows_processed=5988, begin_time=1684450501098, end_time=1684450501476), DomoDataflow_ActionResult(id='4cf42103-c52d-4b92-b26f-63832ead11ee', type='SelectValues', depends_on=None, name=None, datasource_id=None, sql=None, is_success=True, rows_processed=5988, begin_time=1684450501099, end_time=1684450501476), DomoDataflow_ActionResult(id='0c0f0aa1-06b7-4ec1-a3bb-2b28c9a28fa7', type='PublishToVault', depends_on=None, name=None, datasource_id=None, sql=None, is_success=True, rows_processed=5988, begin_time=1684450501100, end_time=1684450501666)]),\n",
       " DomoDataflow_History_Execution(id=311623, dataflow_id=185, dataflow_execution_id='4bef80ed-6478-4a88-b728-dc754893ee5b', dataflow_version=662, begin_time=datetime.datetime(2023, 5, 18, 22, 53, 19), end_time=datetime.datetime(2023, 5, 18, 22, 53, 30), last_updated=datetime.datetime(2023, 5, 18, 22, 53, 30), is_failed=False, state='SUCCESS', activation_type='MANUAL', data_processor='MAGIC', telemetry=[{'name': 'activeOptimizations', 'value': 'c'}], execution_stats={'total_bytes_written': 1714555, 'total_rows_read': 5988, 'total_bytes_read': 624402, 'mean_download_rate_kbps': 272.58273496870805, 'total_rows_written': 5988}, action_results=[DomoDataflow_ActionResult(id='b9bb0f01-2517-4595-a077-c9778e5ffc48', type='DataHubManifestLoaderAction', depends_on=None, name=None, datasource_id=None, sql=None, is_success=True, rows_processed=5988, begin_time=1684450406453, end_time=1684450407770), DomoDataflow_ActionResult(id='52f47029-06e0-4599-9ed8-21c4b9386c89', type='WindowAction', depends_on=None, name=None, datasource_id=None, sql=None, is_success=True, rows_processed=5988, begin_time=1684450407879, end_time=1684450408276), DomoDataflow_ActionResult(id='623883e9-bdc1-44cd-9fb4-6277d0e123de', type='ExpressionEvaluator', depends_on=None, name=None, datasource_id=None, sql=None, is_success=True, rows_processed=5988, begin_time=1684450407962, end_time=1684450408276), DomoDataflow_ActionResult(id='99ad5978-9a19-41e1-99d7-3d0ce58f7467', type='Metadata', depends_on=None, name=None, datasource_id=None, sql=None, is_success=True, rows_processed=5988, begin_time=1684450407977, end_time=1684450408276), DomoDataflow_ActionResult(id='4cf42103-c52d-4b92-b26f-63832ead11ee', type='SelectValues', depends_on=None, name=None, datasource_id=None, sql=None, is_success=True, rows_processed=5988, begin_time=1684450407978, end_time=1684450408276), DomoDataflow_ActionResult(id='0c0f0aa1-06b7-4ec1-a3bb-2b28c9a28fa7', type='PublishToVault', depends_on=None, name=None, datasource_id=None, sql=None, is_success=True, rows_processed=5988, begin_time=1684450407979, end_time=1684450408443)]),\n",
       " DomoDataflow_History_Execution(id=311620, dataflow_id=185, dataflow_execution_id='99e71d66-ce5b-4d07-8fb7-6ab4d6b8511d', dataflow_version=660, begin_time=datetime.datetime(2023, 5, 18, 22, 46, 46), end_time=datetime.datetime(2023, 5, 18, 22, 46, 57), last_updated=datetime.datetime(2023, 5, 18, 22, 46, 57), is_failed=False, state='SUCCESS', activation_type='MANUAL', data_processor='MAGIC', telemetry=[{'name': 'activeOptimizations', 'value': 'c'}], execution_stats={'total_bytes_written': 1714555, 'total_rows_read': 5988, 'total_bytes_read': 602586, 'mean_download_rate_kbps': 254.63560823236693, 'total_rows_written': 5988}, action_results=[DomoDataflow_ActionResult(id='b9bb0f01-2517-4595-a077-c9778e5ffc48', type='DataHubManifestLoaderAction', depends_on=None, name=None, datasource_id=None, sql=None, is_success=True, rows_processed=5988, begin_time=1684450013976, end_time=1684450015193), DomoDataflow_ActionResult(id='52f47029-06e0-4599-9ed8-21c4b9386c89', type='WindowAction', depends_on=None, name=None, datasource_id=None, sql=None, is_success=True, rows_processed=5988, begin_time=1684450015367, end_time=1684450015780), DomoDataflow_ActionResult(id='623883e9-bdc1-44cd-9fb4-6277d0e123de', type='ExpressionEvaluator', depends_on=None, name=None, datasource_id=None, sql=None, is_success=True, rows_processed=5988, begin_time=1684450015391, end_time=1684450015779), DomoDataflow_ActionResult(id='99ad5978-9a19-41e1-99d7-3d0ce58f7467', type='Metadata', depends_on=None, name=None, datasource_id=None, sql=None, is_success=True, rows_processed=5988, begin_time=1684450015467, end_time=1684450015780), DomoDataflow_ActionResult(id='4cf42103-c52d-4b92-b26f-63832ead11ee', type='SelectValues', depends_on=None, name=None, datasource_id=None, sql=None, is_success=True, rows_processed=5988, begin_time=1684450015467, end_time=1684450015780), DomoDataflow_ActionResult(id='0c0f0aa1-06b7-4ec1-a3bb-2b28c9a28fa7', type='PublishToVault', depends_on=None, name=None, datasource_id=None, sql=None, is_success=True, rows_processed=5988, begin_time=1684450015469, end_time=1684450015977)])]"
      ]
     },
     "execution_count": null,
     "metadata": {},
     "output_type": "execute_result"
    }
   ],
   "source": [
    "import os\n",
    "\n",
    "token_auth = dmda.DomoTokenAuth(\n",
    "    domo_instance=\"domo-community\",\n",
    "    domo_access_token=os.environ[\"DOMO_DOJO_ACCESS_TOKEN\"],\n",
    ")\n",
    "\n",
    "domo_dataflow_history = DomoDataflow_History(dataflow_id=185, auth=token_auth)\n",
    "\n",
    "await domo_dataflow_history.get_execution_history(debug_api=False, return_raw=False)"
   ]
  },
  {
   "cell_type": "code",
   "execution_count": null,
   "metadata": {},
   "outputs": [],
   "source": [
    "# | hide\n",
    "import nbdev\n",
    "\n",
    "nbdev.nbdev_export()"
   ]
  }
 ],
 "metadata": {
  "jupytext": {
   "split_at_heading": true
  },
  "kernelspec": {
   "display_name": "python3",
   "language": "python",
   "name": "python3"
  }
 },
 "nbformat": 4,
 "nbformat_minor": 4
}
