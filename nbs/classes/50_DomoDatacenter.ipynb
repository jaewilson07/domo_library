{
 "cells": [
  {
   "cell_type": "raw",
   "metadata": {},
   "source": [
    "---\n",
    "title: DataCenter\n",
    "output-file: domodatacenter_class.html\n",
    "description: a class based approach to searching the datacenter\n",
    "---\n"
   ]
  },
  {
   "cell_type": "code",
   "execution_count": null,
   "metadata": {},
   "outputs": [],
   "source": [
    "# | default_exp classes.DomoDatacenter\n"
   ]
  },
  {
   "cell_type": "code",
   "execution_count": null,
   "metadata": {},
   "outputs": [],
   "source": [
    "# | exporti\n",
    "import asyncio\n",
    "from dataclasses import dataclass\n",
    "from typing import Union\n",
    "from enum import Enum\n",
    "\n",
    "import httpx\n",
    "\n",
    "from fastcore.basics import patch_to\n",
    "\n",
    "import domolibrary.utils.chunk_execution as ce\n",
    "\n",
    "import domolibrary.client.DomoAuth as dmda\n",
    "import domolibrary.classes.DomoDataset as dmds\n",
    "import domolibrary.classes.DomoAccount as dma\n",
    "import domolibrary.classes.DomoCard as dmc \n",
    "\n",
    "import domolibrary.routes.datacenter as datacenter_routes\n",
    "import domolibrary.routes.card as card_routes\n"
   ]
  },
  {
   "cell_type": "code",
   "execution_count": null,
   "metadata": {},
   "outputs": [],
   "source": []
  },
  {
   "cell_type": "code",
   "execution_count": null,
   "metadata": {},
   "outputs": [],
   "source": [
    "# | export\n",
    "\n",
    "@dataclass\n",
    "class DomoDatacenter:\n",
    "    \"class for quering entities in the datacenter\"\n",
    "    auth: dmda.DomoAuth = None"
   ]
  },
  {
   "cell_type": "code",
   "execution_count": null,
   "metadata": {},
   "outputs": [],
   "source": [
    "# | exporti\n",
    "\n",
    "@patch_to(DomoDatacenter, cls_method=True)\n",
    "async def search_datacenter(\n",
    "    cls,\n",
    "    auth: dmda.DomoAuth,\n",
    "    maximum: int = None,  # maximum number of results to return\n",
    "    body: dict = None,  # either pass a body or generate a body in the function using search_text, entity_type, and additional_filters parameters\n",
    "    search_text=None,\n",
    "    # can accept one value or a list of values\n",
    "    entity_type: Union[str, list] = \"dataset\",\n",
    "    additional_filters_ls=None,\n",
    "    return_raw: bool = False,\n",
    "    session: httpx.AsyncClient = None,\n",
    "    debug_api: bool = False,\n",
    ") -> list:\n",
    "\n",
    "    res = await datacenter_routes.search_datacenter(\n",
    "        auth=auth,\n",
    "        maximum=maximum,\n",
    "        body=body,\n",
    "        session=session,\n",
    "        search_text=search_text,\n",
    "        entity_type=entity_type,\n",
    "        additional_filters_ls=additional_filters_ls,\n",
    "        debug_api=debug_api,\n",
    "    )\n",
    "\n",
    "    if return_raw:\n",
    "        return res\n",
    "\n",
    "    return res.response"
   ]
  },
  {
   "attachments": {},
   "cell_type": "markdown",
   "metadata": {},
   "source": [
    "#### sample implementation of search_datacenter\n"
   ]
  },
  {
   "cell_type": "code",
   "execution_count": null,
   "metadata": {},
   "outputs": [
    {
     "data": {
      "text/html": [
       "<div>\n",
       "<style scoped>\n",
       "    .dataframe tbody tr th:only-of-type {\n",
       "        vertical-align: middle;\n",
       "    }\n",
       "\n",
       "    .dataframe tbody tr th {\n",
       "        vertical-align: top;\n",
       "    }\n",
       "\n",
       "    .dataframe thead th {\n",
       "        text-align: right;\n",
       "    }\n",
       "</style>\n",
       "<table border=\"1\" class=\"dataframe\">\n",
       "  <thead>\n",
       "    <tr style=\"text-align: right;\">\n",
       "      <th></th>\n",
       "      <th>entityType</th>\n",
       "      <th>databaseId</th>\n",
       "      <th>searchId</th>\n",
       "      <th>createDate</th>\n",
       "      <th>lastModified</th>\n",
       "      <th>lastIndexed</th>\n",
       "      <th>highlightedFields</th>\n",
       "      <th>language</th>\n",
       "      <th>requestAccess</th>\n",
       "      <th>score</th>\n",
       "      <th>...</th>\n",
       "      <th>pdpEnabled</th>\n",
       "      <th>used</th>\n",
       "      <th>owners</th>\n",
       "      <th>ownersLocalized</th>\n",
       "      <th>cloudName</th>\n",
       "      <th>cloudId</th>\n",
       "      <th>winnerText</th>\n",
       "      <th>systemTagFields</th>\n",
       "      <th>ownedByType</th>\n",
       "      <th>customer</th>\n",
       "    </tr>\n",
       "  </thead>\n",
       "  <tbody>\n",
       "    <tr>\n",
       "      <th>0</th>\n",
       "      <td>dataset</td>\n",
       "      <td>04c1574e-c8be-4721-9846-c6ffa491144b</td>\n",
       "      <td>{'indexName': None, 'databaseId': '04c1574e-c8...</td>\n",
       "      <td>1668379680000</td>\n",
       "      <td>1695306445000</td>\n",
       "      <td>1695314768905</td>\n",
       "      <td>{}</td>\n",
       "      <td>English</td>\n",
       "      <td>False</td>\n",
       "      <td>11.0</td>\n",
       "      <td>...</td>\n",
       "      <td>False</td>\n",
       "      <td>False</td>\n",
       "      <td>[{'id': '1893952720', 'type': 'USER', 'display...</td>\n",
       "      <td>{'localizedMessage': 'Jae Wilson1', 'count': 1}</td>\n",
       "      <td>Domo</td>\n",
       "      <td>domo</td>\n",
       "      <td>domo_kbs</td>\n",
       "      <td>[system_tags]</td>\n",
       "      <td>USER</td>\n",
       "      <td>mmmm-0012-0200</td>\n",
       "    </tr>\n",
       "  </tbody>\n",
       "</table>\n",
       "<p>1 rows × 47 columns</p>\n",
       "</div>"
      ],
      "text/plain": [
       "  entityType                            databaseId  \\\n",
       "0    dataset  04c1574e-c8be-4721-9846-c6ffa491144b   \n",
       "\n",
       "                                            searchId     createDate  \\\n",
       "0  {'indexName': None, 'databaseId': '04c1574e-c8...  1668379680000   \n",
       "\n",
       "    lastModified    lastIndexed highlightedFields language  requestAccess  \\\n",
       "0  1695306445000  1695314768905                {}  English          False   \n",
       "\n",
       "   score  ... pdpEnabled   used  \\\n",
       "0   11.0  ...      False  False   \n",
       "\n",
       "                                              owners  \\\n",
       "0  [{'id': '1893952720', 'type': 'USER', 'display...   \n",
       "\n",
       "                                   ownersLocalized  cloudName  cloudId  \\\n",
       "0  {'localizedMessage': 'Jae Wilson1', 'count': 1}       Domo     domo   \n",
       "\n",
       "  winnerText systemTagFields ownedByType        customer  \n",
       "0   domo_kbs   [system_tags]        USER  mmmm-0012-0200  \n",
       "\n",
       "[1 rows x 47 columns]"
      ]
     },
     "execution_count": null,
     "metadata": {},
     "output_type": "execute_result"
    }
   ],
   "source": [
    "import domolibrary.client.DomoAuth as dmda\n",
    "import os\n",
    "import pandas as pd\n",
    "\n",
    "token_auth = dmda.DomoTokenAuth(\n",
    "    domo_instance=\"domo-community\",\n",
    "    domo_access_token=os.environ[\"DOMO_DOJO_ACCESS_TOKEN\"],\n",
    ")\n",
    "\n",
    "additional_filters_ls = [\n",
    "    datacenter_routes.generate_search_datacenter_filter(\n",
    "        \"dataprovidername_facet\", \"Jupyter Data\"\n",
    "    )\n",
    "]\n",
    "\n",
    "res = await DomoDatacenter.search_datacenter(\n",
    "    auth=token_auth,\n",
    "    additional_filters_ls=additional_filters_ls,\n",
    "       search_text = \"*kb*\",\n",
    "    entity_type=datacenter_routes.Datacenter_Enum.DATASET.value,\n",
    ")\n",
    "\n",
    "pd.DataFrame(res[0:5])"
   ]
  },
  {
   "cell_type": "code",
   "execution_count": null,
   "metadata": {},
   "outputs": [],
   "source": [
    "import domolibrary.client.DomoAuth as dmda\n",
    "import os\n",
    "import pandas as pd\n",
    "\n",
    "token_auth = dmda.DomoTokenAuth(\n",
    "    domo_instance=\"domo-community\",\n",
    "    domo_access_token=os.environ[\"DOMO_DOJO_ACCESS_TOKEN\"],\n",
    ")\n",
    "\n",
    "\n",
    "res = await DomoDatacenter.search_datacenter(\n",
    "    auth=token_auth,\n",
    "    entity_type=datacenter_routes.Datacenter_Enum.CARD.value,\n",
    ")\n",
    "\n",
    "pd.DataFrame(res[0:5])\n"
   ]
  },
  {
   "cell_type": "code",
   "execution_count": null,
   "metadata": {},
   "outputs": [],
   "source": [
    "# | exporti\n",
    "@patch_to(DomoDatacenter, cls_method=True)\n",
    "async def search_datasets(\n",
    "    cls,\n",
    "    auth=dmda.DomoAuth,\n",
    "    maximum: int = None,  # maximum number of results to return\n",
    "    search_text=None,\n",
    "    # can accept one value or a list of values\n",
    "    additional_filters_ls=None,\n",
    "    return_raw: bool = False,\n",
    "    debug_api: bool = False,\n",
    "    session: httpx.AsyncClient = None,\n",
    ") -> list[dmds.DomoDataset]:\n",
    "\n",
    "    json_list = await cls.search_datacenter(\n",
    "        auth=auth,\n",
    "        maximum=maximum,\n",
    "        search_text=search_text,\n",
    "        entity_type=datacenter_routes.Datacenter_Enum.DATASET.value,\n",
    "        additional_filters_ls=additional_filters_ls,\n",
    "        return_raw=return_raw,\n",
    "        session=session,\n",
    "        debug_api=debug_api,\n",
    "    )\n",
    "\n",
    "    if return_raw or len(json_list) == 0:\n",
    "        return json_list\n",
    "\n",
    "    return await ce.gather_with_concurrency( n = 60,\n",
    "        *[\n",
    "            dmds.DomoDataset.get_from_id(\n",
    "                dataset_id=json_obj.get(\"databaseId\"),\n",
    "                auth=auth,\n",
    "                debug_api=debug_api,\n",
    "                session=session,\n",
    "            )\n",
    "            for json_obj in json_list\n",
    "        ]\n",
    "    )"
   ]
  },
  {
   "attachments": {},
   "cell_type": "markdown",
   "metadata": {},
   "source": [
    "#### sample implementation search_datasets\n"
   ]
  },
  {
   "cell_type": "code",
   "execution_count": null,
   "metadata": {},
   "outputs": [
    {
     "data": {
      "text/plain": [
       "[DomoDataset(id='04c1574e-c8be-4721-9846-c6ffa491144b', display_type='domo-jupyterdata', data_provider_type='domo-jupyterdata', name='domo_kbs', description=None, row_count=1185, column_count=7, stream_id=825, owner={'id': '1893952720', 'name': 'Jae Wilson1', 'type': 'USER', 'group': False}, formula={'calculation_ca9d4b1c-f73a-4f76-9f94-d3c4ca6871c5': {'templateId': 2664, 'id': 'calculation_ca9d4b1c-f73a-4f76-9f94-d3c4ca6871c5', 'name': 'rowcount', 'formula': 'sum(1)', 'status': 'VALID', 'dataType': 'LONG', 'persistedOnDataSource': True, 'isAggregatable': True, 'bignumber': False}, 'calculation_38846559-d190-4ab1-809b-bcd361db5670': {'templateId': 2665, 'id': 'calculation_38846559-d190-4ab1-809b-bcd361db5670', 'name': 'max_views', 'formula': 'max(views)', 'status': 'VALID', 'dataType': 'LONG', 'persistedOnDataSource': True, 'isAggregatable': True, 'bignumber': False, 'columnPositions': [{'columnName': 'views', 'columnPosition': 4}]}}, schema=DomoDataset_Schema(dataset=..., columns=[]), tags=DomoDataset_Tags(dataset=..., tag_ls=['developer_documentation', 'hackercore']), certification=None, PDP=<domolibrary.classes.DomoPDP.Dataset_PDP_Policies object>)]"
      ]
     },
     "execution_count": null,
     "metadata": {},
     "output_type": "execute_result"
    }
   ],
   "source": [
    "import domolibrary.client.DomoAuth as dmda\n",
    "import os\n",
    "import pandas as pd\n",
    "\n",
    "token_auth = dmda.DomoTokenAuth(\n",
    "    domo_instance=\"domo-community\",\n",
    "    domo_access_token=os.environ[\"DOMO_DOJO_ACCESS_TOKEN\"],\n",
    ")\n",
    "\n",
    "additional_filters_ls = [\n",
    "    datacenter_routes.generate_search_datacenter_filter(\n",
    "        \"dataprovidername_facet\", \"Jupyter Data\"\n",
    "    )\n",
    "]\n",
    "\n",
    "res = await DomoDatacenter.search_datasets(\n",
    "    auth=token_auth,\n",
    "    search_text=\"*kb*\",\n",
    "    additional_filters_ls=additional_filters_ls,\n",
    ")\n",
    "\n",
    "res"
   ]
  },
  {
   "cell_type": "code",
   "execution_count": null,
   "metadata": {},
   "outputs": [],
   "source": [
    "# | exporti\n",
    "@patch_to(DomoDatacenter, cls_method=True)\n",
    "async def get_accounts(\n",
    "    cls,\n",
    "    auth=dmda.DomoAuth,\n",
    "    maximum: int = None,  # maximum number of results to return\n",
    "    # can accept one value or a list of values\n",
    "    additional_filters_ls=None,\n",
    "    return_raw: bool = False,\n",
    "    debug_api: bool = False,\n",
    "    session: httpx.AsyncClient = None,\n",
    ") -> list[dma.DomoAccount]:\n",
    "    \"\"\"search Domo Datacenter account api.\n",
    "Note: at the time of this writing 7/18/2023, the datacenter api does not support searching accounts by name\"\"\"\n",
    "    \n",
    "    json_list = await cls.search_datacenter(\n",
    "        auth=auth,\n",
    "        maximum=maximum,\n",
    "        entity_type=datacenter_routes.Datacenter_Enum.ACCOUNT.value,\n",
    "        additional_filters_ls=additional_filters_ls,\n",
    "        return_raw=return_raw,\n",
    "        session=session,\n",
    "        debug_api=debug_api,\n",
    "    )\n",
    "\n",
    "    if return_raw or len(json_list) == 0:\n",
    "        return json_list\n",
    "\n",
    "    domo_account_ls = [\n",
    "            dma.DomoAccount._from_json(\n",
    "                json_obj,\n",
    "                auth=auth ) for json_obj in json_list\n",
    "        ]\n",
    "    \n",
    "    return domo_account_ls"
   ]
  },
  {
   "attachments": {},
   "cell_type": "markdown",
   "metadata": {},
   "source": [
    "#### sample implementation search_accounts\n"
   ]
  },
  {
   "cell_type": "code",
   "execution_count": null,
   "metadata": {},
   "outputs": [
    {
     "name": "stdout",
     "output_type": "stream",
     "text": [
      "51\n"
     ]
    },
    {
     "data": {
      "text/plain": [
       "[DomoAccount(name='**ReplicationUtility**:modocorp.domo.com', data_provider_type='dataset-copy', id='50', created_dt=datetime.datetime(2022, 10, 6, 19, 20, 34), modified_dt=datetime.datetime(2022, 10, 6, 19, 20, 34), config=None),\n",
       " DomoAccount(name='onyxReporting@gmail.com', data_provider_type='google-spreadsheets', id='45', created_dt=datetime.datetime(2022, 10, 4, 22, 59, 14), modified_dt=datetime.datetime(2022, 10, 4, 22, 59, 14), config=None),\n",
       " DomoAccount(name='Domo Governance Datasets Third Party Account', data_provider_type='domo-governance-d14c2fef-49a8-4898-8ddd-f64998005600', id='5', created_dt=datetime.datetime(2021, 3, 26, 16, 54, 41), modified_dt=datetime.datetime(2021, 3, 26, 16, 54, 41), config=None),\n",
       " DomoAccount(name='jaemyong.wilson@sony.com', data_provider_type='google-spreadsheets', id='70', created_dt=datetime.datetime(2023, 4, 26, 12, 20, 51), modified_dt=datetime.datetime(2023, 4, 26, 12, 20, 51), config=None),\n",
       " DomoAccount(name='domo_creds', data_provider_type='abstract-credential-store', id='71', created_dt=datetime.datetime(2023, 5, 18, 21, 58, 12), modified_dt=datetime.datetime(2023, 5, 18, 21, 58, 12), config=None)]"
      ]
     },
     "execution_count": null,
     "metadata": {},
     "output_type": "execute_result"
    }
   ],
   "source": [
    "import domolibrary.client.DomoAuth as dmda\n",
    "import domolibrary.routes.datacenter as datacenter_routes\n",
    "import os\n",
    "import pandas as pd\n",
    "\n",
    "auth = dmda.DomoTokenAuth(\n",
    "    domo_instance=\"domo-community\",\n",
    "    domo_access_token=os.environ[\"DOMO_DOJO_ACCESS_TOKEN\"],\n",
    ")\n",
    "\n",
    "additional_filters_ls = [\n",
    "    datacenter_routes.generate_search_datacenter_filter(\n",
    "        datacenter_routes.Datacenter_Filter_Field_Enum.DATAPROVIDER.value,\n",
    "        \"Google Sheets\",\n",
    "    )\n",
    "]\n",
    "\n",
    "res = await DomoDatacenter.get_accounts(\n",
    "    auth=auth,\n",
    "    # additional_filters_ls=additional_filters_ls,\n",
    "    return_raw=False,\n",
    "    debug_api=False,\n",
    ")\n",
    "\n",
    "print(len(res))\n",
    "res[0:5]"
   ]
  },
  {
   "cell_type": "code",
   "execution_count": null,
   "metadata": {},
   "outputs": [
    {
     "data": {
      "text/plain": [
       "'DATAFLOW'"
      ]
     },
     "execution_count": null,
     "metadata": {},
     "output_type": "execute_result"
    }
   ],
   "source": [
    "import domolibrary.classes.DomoDataset as dmds\n",
    "\n",
    "a = dmds.DomoDataset(id = 123)\n",
    "a.__class__.__name__\n",
    "\n",
    "\n",
    "datacenter_routes.Datacenter_Enum.DATAFLOW.value"
   ]
  },
  {
   "cell_type": "code",
   "execution_count": null,
   "metadata": {},
   "outputs": [],
   "source": [
    "#| exporti\n",
    "\n",
    "class LineageTypes_Enum(Enum):\n",
    "    DomoDataset = 'DATA_SOURCE'\n",
    "    DomoDataflow = 'DATAFLOW'\n",
    "\n",
    "\n",
    "@patch_to(DomoDatacenter, cls_method=True)\n",
    "async def get_lineage_upstream(\n",
    "    cls,\n",
    "    auth: dmda.DomoAuth,\n",
    "    domo_entity, # DomoDataset or DomoDataflow\n",
    "    return_raw: bool = False,\n",
    "    session: httpx.AsyncClient = None,\n",
    "    debug_api: bool = False,\n",
    "    debug_prn: bool = False):\n",
    "\n",
    "    import domolibrary.classes.DomoDataset as dmds\n",
    "    import domolibrary.classes.DomoDataflow as dmdf\n",
    "\n",
    "    if not session:\n",
    "        session = httpx.AsyncClient()\n",
    "        is_close_session = True\n",
    "\n",
    "\n",
    "    res = await datacenter_routes.get_lineage_upstream(\n",
    "        auth=auth,\n",
    "        entity_type= LineageTypes_Enum[domo_entity.__class__.__name__].value,\n",
    "        entity_id=domo_entity.id,\n",
    "        session=session,\n",
    "        debug_api=debug_api,\n",
    "    )\n",
    "\n",
    "    if return_raw or res.status != 200:\n",
    "        await session.aclose()\n",
    "        return res\n",
    "\n",
    "    obj = res.response\n",
    "\n",
    "    domo_obj = []\n",
    "    for key, item in obj.items():\n",
    "        if item.get(\"type\") == \"DATA_SOURCE\":\n",
    "            domo_obj.append(\n",
    "                await dmds.DomoDataset.get_from_id(auth=auth, dataset_id=item.get(\"id\"), session= session)\n",
    "            )\n",
    "\n",
    "        if item.get(\"type\") == \"DATAFLOW\":\n",
    "            # print(item.get('id'))\n",
    "            domo_obj.append(\n",
    "                await dmdf.DomoDataflow.get_from_id(\n",
    "                    auth=auth, dataflow_id=item.get(\"id\"), session = session\n",
    "                    \n",
    "                )\n",
    "            )\n",
    "            pass\n",
    "\n",
    "    await session.aclose()\n",
    "    return domo_obj\n",
    "    "
   ]
  },
  {
   "cell_type": "code",
   "execution_count": null,
   "metadata": {},
   "outputs": [
    {
     "data": {
      "text/plain": [
       "[DomoDataset(id='45a7a24e-c738-44f9-9019-00d5a33613ae', display_type='dataflow', data_provider_type='dataflow', name='sys_date', description=None, row_count=7299, column_count=9, stream_id=None, owner={'id': '1893952720', 'name': 'Jae Wilson1', 'type': 'USER', 'group': False}, formula={}, schema=DomoDataset_Schema(dataset=..., columns=[]), tags=DomoDataset_Tags(dataset=..., tag_ls=['s_domostats', 'domoStats', 'domostats', 'c_people']), certification=None, PDP=<domolibrary.classes.DomoPDP.Dataset_PDP_Policies object>),\n",
       " DomoDataflow(id=2, name='sys_numbers', auth=DomoTokenAuth(domo_instance='domo-community', token_name='token_auth', is_valid_token=True, url_manual_login='https://domo-community.domo.com/auth/index?domoManualLogin=true'), owner=None, description=None, tags=None, actions=[DomoDataflow_Action(type='LoadFromVault', id='241025d7-3cca-4369-b7c0-b3264277c0e1', name='people', data_source_id='241025d7-3cca-4369-b7c0-b3264277c0e1', sql=None), DomoDataflow_Action(type='GenerateTableAction', id='51e63668-5ccd-46db-8180-554909545f38', name='num', data_source_id=None, sql='SELECT\\ncast( p0.n\\n+ p1.n*2\\n+ p2.n * POWER(2,2)\\n+ p3.n * POWER(2,3)\\n+ p4.n * POWER(2,4)\\n+ p5.n * POWER(2,5)\\n+ p6.n * POWER(2,6)\\n+ p7.n * POWER(2,7)\\n+ p8.n * POWER(2,8)\\n+ p9.n * POWER(2,9)\\n+ p10.n * POWER(2,10)\\n+ p11.n * POWER(2,11) as unsigned) num\\nFROM\\n(SELECT 0 as n UNION SELECT 1) p0,\\n(SELECT 0 as n UNION SELECT 1) p1,\\n(SELECT 0 as n UNION SELECT 1) p2,\\n(SELECT 0 as n UNION SELECT 1) p3,\\n(SELECT 0 as n UNION SELECT 1) p4,\\n(SELECT 0 as n UNION SELECT 1) p5,\\n(SELECT 0 as n UNION SELECT 1) p6,\\n(SELECT 0 as n UNION SELECT 1) p7,\\n(SELECT 0 as n UNION SELECT 1) p8,\\n(SELECT 0 as n UNION SELECT 1) p9,\\n(SELECT 0 as n UNION SELECT 1) p10,\\n(SELECT 0 as n UNION SELECT 1) p11'), DomoDataflow_Action(type='PublishToVault', id='fc3375d6-46ae-4ccf-b6a1-3e75f2f7388d', name='sys_numbers', data_source_id='0647a9ed-1a8e-420e-bd66-34f313a18595', sql='select * from num'), DomoDataflow_Action(type='PublishToVault', id='52f1684a-cb14-44b1-8f98-e13f958f3d63', name='sys_num_1M', data_source_id='2640b08d-e2c6-49c3-9bc4-efcb12e0a45d', sql='select \\na.num ,\\nb.num as join_num\\nfrom num a\\njoin num b\\n\\non a.num <= b.`num`')]),\n",
       " DomoDataset(id='0647a9ed-1a8e-420e-bd66-34f313a18595', display_type='dataflow', data_provider_type='dataflow', name='sys_numbers', description=None, row_count=4096, column_count=1, stream_id=None, owner={'id': '1893952720', 'name': 'Jae Wilson1', 'type': 'USER', 'group': False}, formula={}, schema=DomoDataset_Schema(dataset=..., columns=[]), tags=DomoDataset_Tags(dataset=..., tag_ls=['s_domostats', 'domoStats', 'domostats', 'c_people']), certification=None, PDP=<domolibrary.classes.DomoPDP.Dataset_PDP_Policies object>),\n",
       " DomoDataflow(id=3, name='sys_date', auth=DomoTokenAuth(domo_instance='domo-community', token_name='token_auth', is_valid_token=True, url_manual_login='https://domo-community.domo.com/auth/index?domoManualLogin=true'), owner=None, description=None, tags=None, actions=[DomoDataflow_Action(type='LoadFromVault', id='0647a9ed-1a8e-420e-bd66-34f313a18595', name='sys_numbers', data_source_id='0647a9ed-1a8e-420e-bd66-34f313a18595', sql=None), DomoDataflow_Action(type='GenerateTableAction', id='a4b32643-76c1-426e-932c-b6adbf66bcce', name='sm_date', data_source_id=None, sql='SELECT\\n\\tdate_add( CURRENT_DATE() , interval num day) as db_date\\nfrom `sys_numbers`\\nwhere num < 3650\\nUNION\\nSELECT\\n\\tdate_add( CURRENT_DATE() , interval -num day)\\nfrom `sys_numbers`\\nwhere num < 3650'), DomoDataflow_Action(type='PublishToVault', id='4d9a5129-a0e6-4a2a-8530-a8ad4ae59746', name='sys_date', data_source_id='45a7a24e-c738-44f9-9019-00d5a33613ae', sql='-- create table sys_date\\nselect\\n\\tdb_date,\\n    dayofweek(db_date) day_of_week,\\n    case when dayofweek(db_date) in (7,1) then 1 else 0 end isWeekend,\\n    date_format(db_date, \"%a\") as day,\\n    \\n    YEAR(`db_date`)*10000+MONTH(`db_date`)*100 + DAY(`db_date`) as DateValue,\\n\\t\\n\\tYEAR(`db_date`) as year,\\n\\tMONTH(`db_date` ) as month,\\n\\tYEAR(`db_date`) *100+ MONTH(`db_date`) as yearmonth,\\n\\tlast_day(`db_date` ) endOfMonth\\n   \\nFROM\\n\\t`sm_date` d')]),\n",
       " DomoDataset(id='241025d7-3cca-4369-b7c0-b3264277c0e1', display_type='domostats', data_provider_type='domostats', name='DomoStats - People', description=None, row_count=770, column_count=26, stream_id=306, owner={'id': '587894148', 'name': 'Bryan Van Kampen', 'type': 'USER', 'group': False}, formula={'calculation_e83e232b-be18-40f9-b5a5-e388ac53ed2d': {'templateId': 1136, 'id': 'calculation_e83e232b-be18-40f9-b5a5-e388ac53ed2d', 'name': 'Department null Handling', 'formula': \"(CASE WHEN `Department` IS NULL THEN 'Unknown' ELSE `Department` END)\", 'status': 'VALID', 'dataType': 'STRING', 'persistedOnDataSource': True, 'isAggregatable': False, 'bignumber': False, 'columnPositions': [{'columnName': '`Department`', 'columnPosition': 11}, {'columnName': '`Department`', 'columnPosition': 52}]}, 'calculation_74b07cba-f5ef-40db-8e15-6aeb83fb6a9a': {'templateId': 356, 'id': 'calculation_74b07cba-f5ef-40db-8e15-6aeb83fb6a9a', 'name': 'Last Login Greater Than 30 Days', 'formula': '-- Author: Grant Smith\\n-- Created: 2021-04-06\\n-- Last Modified: 2021-04-06\\n-- Description: Count the number of logins greater than 30 days ago\\nSUM((CASE  WHEN (DATEDIFF(CURRENT_DATE,`Last Login`) > 30) THEN 1 ELSE 0 END ))', 'status': 'VALID', 'dataType': 'LONG', 'persistedOnDataSource': True, 'isAggregatable': True, 'bignumber': False, 'columnPositions': [{'columnName': '`Last Login`', 'columnPosition': 182}]}, 'calculation_32905031-5fc1-40ab-8f5d-12e9da088f7c': {'templateId': 1075, 'id': 'calculation_32905031-5fc1-40ab-8f5d-12e9da088f7c', 'name': 'Login Rates Last 14 Days (Merged from datasource: 241025d7-3cca-4369-b7c0-b3264277c0e1)', 'formula': '(CASE WHEN (COUNT(`User ID`) = 0) THEN 0 ELSE ((SUM((CASE WHEN (DATEDIFF(CURRENT_DATE, `Last Login`) <= 14) THEN 1 ELSE 0 END)) / COUNT(`User ID`)) * 100) END)', 'status': 'VALID', 'dataType': 'DECIMAL', 'persistedOnDataSource': True, 'isAggregatable': True, 'bignumber': False, 'columnPositions': [{'columnName': '`User ID`', 'columnPosition': 18}, {'columnName': '`Last Login`', 'columnPosition': 87}, {'columnName': '`User ID`', 'columnPosition': 136}]}, 'calculation_80a57e9e-adc2-41a7-a55b-686c144b87df': {'templateId': 1074, 'id': 'calculation_80a57e9e-adc2-41a7-a55b-686c144b87df', 'name': 'Logins Last 14 Days (Merged from datasource: 241025d7-3cca-4369-b7c0-b3264277c0e1)', 'formula': 'SUM((CASE WHEN (DATEDIFF(CURRENT_DATE, DATE(`Last Login`)) <= 14) THEN 1 ELSE 0 END))', 'status': 'VALID', 'dataType': 'LONG', 'persistedOnDataSource': True, 'isAggregatable': True, 'bignumber': False, 'columnPositions': [{'columnName': '`Last Login`', 'columnPosition': 44}]}, 'calculation_7cb5313b-5818-4af3-b236-19298a5fa2c1': {'templateId': 1076, 'id': 'calculation_7cb5313b-5818-4af3-b236-19298a5fa2c1', 'name': 'Last Login Greater Than 30 Days (Merged from datasource: 241025d7-3cca-4369-b7c0-b3264277c0e1)', 'formula': 'SUM((CASE WHEN (DATEDIFF(CURRENT_DATE, `Last Login`) > 30) THEN 1 ELSE 0 END))', 'status': 'VALID', 'dataType': 'LONG', 'persistedOnDataSource': True, 'isAggregatable': True, 'bignumber': False, 'columnPositions': [{'columnName': '`Last Login`', 'columnPosition': 39}]}, 'calculation_e9fd6ca3-8384-4f5c-9047-f06dfb59225b': {'templateId': 364, 'id': 'calculation_e9fd6ca3-8384-4f5c-9047-f06dfb59225b', 'name': 'Distinct Users', 'formula': '-- Author: Grant Smith\\n-- Created: 2021-04-06\\n-- Last Modified: 2021-04-06\\n-- Description: Count the unique number of users\\nCOUNT(DISTINCT `User ID`)', 'status': 'VALID', 'dataType': 'LONG', 'persistedOnDataSource': True, 'isAggregatable': True, 'bignumber': False, 'columnPositions': [{'columnName': '`User ID`', 'columnPosition': 139}]}, 'calculation_a5592105-4c5b-4540-83eb-b0453be17694': {'templateId': 1135, 'id': 'calculation_a5592105-4c5b-4540-83eb-b0453be17694', 'name': 'AVG Users per Department', 'formula': \"(CASE WHEN (COUNT(DISTINCT (CASE WHEN `Department` IS NULL THEN 'Unknown' ELSE `Department` END)) = 0) THEN 0 ELSE (COUNT(`User ID`) / COUNT(DISTINCT (CASE WHEN `Department` IS NULL THEN 'Unknown' ELSE `Department` END))) END)\", 'status': 'VALID', 'dataType': 'DECIMAL', 'persistedOnDataSource': True, 'isAggregatable': True, 'bignumber': False, 'columnPositions': [{'columnName': '`Department`', 'columnPosition': 38}, {'columnName': '`Department`', 'columnPosition': 79}, {'columnName': '`User ID`', 'columnPosition': 122}, {'columnName': '`Department`', 'columnPosition': 161}, {'columnName': '`Department`', 'columnPosition': 202}]}, 'calculation_df9deb86-0c9b-4044-ad87-66fc089404f4': {'templateId': 354, 'id': 'calculation_df9deb86-0c9b-4044-ad87-66fc089404f4', 'name': 'Login Rates Last 14 Days', 'formula': '-- Author: Grant Smith\\n-- Created: 2021-04-06\\n-- Last Modified: 2021-04-06\\n-- Description: Determine the percentage of users who logged in over the past 14 days\\n(CASE  WHEN (COUNT(`User ID`) = 0) THEN 0 ELSE ((SUM((CASE  WHEN (DATEDIFF(CURRENT_DATE,`Last Login`) <= 14) THEN 1 ELSE 0 END )) / COUNT(`User ID`)) * 100) END )', 'status': 'VALID', 'dataType': 'DECIMAL', 'persistedOnDataSource': True, 'isAggregatable': True, 'bignumber': False, 'columnPositions': [{'columnName': '`User ID`', 'columnPosition': 180}, {'columnName': '`Last Login`', 'columnPosition': 249}, {'columnName': '`User ID`', 'columnPosition': 299}]}, 'calculation_96f39efa-d108-4ab8-a4a6-07e826c05484': {'templateId': 355, 'id': 'calculation_96f39efa-d108-4ab8-a4a6-07e826c05484', 'name': 'Logins Last 14 Days', 'formula': '-- Author: Grant Smith\\n-- Created: 2021-04-06\\n-- Last Modified: 2021-04-06\\n-- Description: Count the number of logins over the last 14 days\\nSUM((CASE  WHEN (DATEDIFF(CURRENT_DATE,DATE(`Last Login`)) <= 14) THEN 1 ELSE 0 END ))', 'status': 'VALID', 'dataType': 'LONG', 'persistedOnDataSource': True, 'isAggregatable': True, 'bignumber': False, 'columnPositions': [{'columnName': '`Last Login`', 'columnPosition': 184}]}, 'calculation_910a2e31-a188-4a7d-a11c-c7d89595194c': {'templateId': 1134, 'id': 'calculation_910a2e31-a188-4a7d-a11c-c7d89595194c', 'name': 'Last Login Date', 'formula': 'DATE(`Last Login`)', 'status': 'VALID', 'dataType': 'DATE', 'persistedOnDataSource': True, 'isAggregatable': False, 'bignumber': False, 'columnPositions': [{'columnName': '`Last Login`', 'columnPosition': 5}]}}, schema=DomoDataset_Schema(dataset=..., columns=[]), tags=DomoDataset_Tags(dataset=..., tag_ls=['s_domostats', 'domoStats', 'um_REPLACE', 'udt_DAY at 4:55 PM', 'domostats', 'c_people']), certification=None, PDP=<domolibrary.classes.DomoPDP.Dataset_PDP_Policies object>)]"
      ]
     },
     "execution_count": null,
     "metadata": {},
     "output_type": "execute_result"
    }
   ],
   "source": [
    "import domolibrary.client.DomoAuth as dmda\n",
    "import domolibrary.classes.DomoDataset as dmds\n",
    "import os\n",
    "\n",
    "auth = dmda.DomoTokenAuth(\n",
    "    domo_instance=\"domo-community\",\n",
    "    domo_access_token=os.environ[\"DOMO_DOJO_ACCESS_TOKEN\"],\n",
    ")\n",
    "\n",
    "domo_dataset = dmds.DomoDataset(id = '45a7a24e-c738-44f9-9019-00d5a33613ae')\n",
    "\n",
    "await DomoDatacenter.get_lineage_upstream(\n",
    "    auth=auth,\n",
    "    domo_entity = domo_dataset\n",
    "    # return_raw = True,\n",
    "    # debug_api = True\n",
    ")\n"
   ]
  },
  {
   "cell_type": "code",
   "execution_count": null,
   "metadata": {},
   "outputs": [],
   "source": [
    "# | exporti\n",
    "@patch_to(DomoDatacenter, cls_method=True)\n",
    "async def search_cards(\n",
    "    cls,\n",
    "    auth=dmda.DomoAuth,\n",
    "    maximum: int = None,  # maximum number of results to return\n",
    "    search_text=None,\n",
    "    # can accept one value or a list of values\n",
    "    additional_filters_ls=None,\n",
    "    return_raw: bool = False,\n",
    "    debug_api: bool = False,\n",
    "    session: httpx.AsyncClient = None,\n",
    ") -> list[dmds.DomoDataset]:\n",
    "\n",
    "    json_list = await cls.search_datacenter(\n",
    "        auth=auth,\n",
    "        maximum=maximum,\n",
    "        search_text=search_text,\n",
    "        entity_type=datacenter_routes.Datacenter_Enum.CARD.value,\n",
    "        additional_filters_ls=additional_filters_ls,\n",
    "        return_raw=return_raw,\n",
    "        session=session,\n",
    "        debug_api=debug_api,\n",
    "    )\n",
    "\n",
    "    if return_raw or len(json_list) == 0:\n",
    "        return json_list\n",
    "\n",
    "    return await ce.gather_with_concurrency( n = 60,\n",
    "        *[\n",
    "            dmc.DomoCard.get_by_id(\n",
    "                card_id=json_obj.get(\"databaseId\"),\n",
    "                auth=auth,\n",
    "                debug_api=debug_api,\n",
    "                session=session,\n",
    "            )\n",
    "            for json_obj in json_list\n",
    "        ]\n",
    "    )"
   ]
  },
  {
   "cell_type": "code",
   "execution_count": null,
   "metadata": {},
   "outputs": [
    {
     "name": "stdout",
     "output_type": "stream",
     "text": [
      "[{'filterType': 'term', 'field': 'certification.state', 'value': 'CERTIFIED', 'not': False}]\n"
     ]
    },
    {
     "data": {
      "text/plain": [
       "[DomoCard(id=1693394557, title='gov_datasetEfficiency', description='', type='kpi', urn='1693394557', chart_type='badge_basic_table', dataset_id='4fc29727-43a4-47ad-94a0-d0021dad8f40', certification=DictDot(state='CERTIFIED', lastUpdated=1690401760016, userId='1893952720', processType='COMPANY', approvalRequestId='80573acf-7877-44b1-b995-2e9b869a936d', processName='Company', adminCertified=False), owners=[DomoUser(id='1893952720', title=None, department='Business Improvement', display_name='Jae Wilson1', email_address='jae@onyxreporting.com', role_id=810756122, avatar_key='c605f478-0cd2-4451-9fd4-d82090b71e66', phone_number=None, web_landing_page=None, web_mobile_landing_page=None, employee_id=None, employee_number=None, hire_date=None, reports_to=None, publisher_domain=None, subscriber_domain=None, virtual_user_id=None)])]"
      ]
     },
     "execution_count": null,
     "metadata": {},
     "output_type": "execute_result"
    }
   ],
   "source": [
    "import os\n",
    "import domolibrary.client.DomoAuth as dmda\n",
    "from domolibrary.routes.datacenter import generate_search_datacenter_filter, Datacenter_Filter_Field_Enum, Datacenter_Filter_Field_Certification_Enum\n",
    "\n",
    "auth = dmda.DomoTokenAuth(\n",
    "    domo_instance=\"domo-community\",\n",
    "    domo_access_token=os.environ[\"DOMO_DOJO_ACCESS_TOKEN\"],\n",
    ")\n",
    "\n",
    "additional_filters_ls = [\n",
    "    generate_search_datacenter_filter(\n",
    "        field=Datacenter_Filter_Field_Enum.CERTIFICATION.value,\n",
    "        value=Datacenter_Filter_Field_Certification_Enum.CERTIFIED.value\n",
    "    )]\n",
    "\n",
    "print(additional_filters_ls)\n",
    "\n",
    "await DomoDatacenter.search_cards(\n",
    "    auth=auth,\n",
    "    additional_filters_ls = additional_filters_ls,\n",
    "    maximum=5\n",
    "    # return_raw = True,\n",
    "    # debug_api = True\n",
    ")\n"
   ]
  },
  {
   "cell_type": "code",
   "execution_count": null,
   "metadata": {},
   "outputs": [],
   "source": [
    "# | exporti\n",
    "\n",
    "@patch_to(DomoDatacenter, cls_method=True)\n",
    "async def get_cards_admin_summary(\n",
    "    cls,\n",
    "    auth=dmda.DomoAuth,\n",
    "    page_ids: [str] = None,\n",
    "    card_search_text: str = None,\n",
    "    page_search_text: str = None,\n",
    "\n",
    "    maximum: int = None,  # maximum number of results to return\n",
    "    # can accept one value or a list of values\n",
    "    return_raw: bool = False,\n",
    "    debug_api: bool = False,\n",
    "    debug_loop: bool = False,\n",
    "    session: httpx.AsyncClient = None,\n",
    ") -> list[dmc.DomoCard]:\n",
    "    \"\"\"search Domo Datacenter card api.\"\"\"\n",
    "\n",
    "    search_body = card_routes.generate_body_search_cards_admin_summary(page_ids = page_ids,\n",
    "                                             card_search_text = card_search_text,\n",
    "                                             page_search_text = page_search_text)\n",
    "\n",
    "    res = await card_routes.search_cards_admin_summary(\n",
    "        auth=auth,\n",
    "        body = search_body,\n",
    "        maximum=maximum,\n",
    "        debug_api=debug_api,\n",
    "        debug_loop=debug_loop,\n",
    "        session=session,\n",
    "        wait_sleep = 5\n",
    "    )\n",
    "\n",
    "    if return_raw or len(res.response) == 0:\n",
    "        return res\n",
    "\n",
    "    domo_account_ls = await ce.gather_with_concurrency(n=60,*[\n",
    "            dmc.DomoCard._from_json(\n",
    "                json_obj,\n",
    "                auth=auth ) for json_obj in res.response\n",
    "        ])\n",
    "\n",
    "    return domo_account_ls\n"
   ]
  },
  {
   "cell_type": "code",
   "execution_count": null,
   "metadata": {},
   "outputs": [
    {
     "data": {
      "text/plain": [
       "[DomoCard(id=332819959, title=' Forecast-Sales_MG', description=None, type='kpi', urn=None, chart_type=None, dataset_id=None, certification=None, owners=[DomoUser(id='722128535', title=None, department=None, display_name='Miguel Guedes', email_address='Miguel.guedes@cgi.com', role_id=2, avatar_key='ef7c051e-2b2f-4ad4-844b-bf348853beb6', phone_number='+351913017621', web_landing_page=None, web_mobile_landing_page=None, employee_id=None, employee_number=None, hire_date=None, reports_to=None, publisher_domain=None, subscriber_domain=None, virtual_user_id=None)]),\n",
       " DomoCard(id=1582016299, title=\" Incorrect Append - Forecast Column Header Names Don't Match\", description=None, type='document', urn=None, chart_type=None, dataset_id=None, certification=None, owners=[DomoUser(id='583215149', title='Sr. Customer Experience Eng.', department='Domo Client Services', display_name='John Jarnagin', email_address='John.Jarnagin@domo.com', role_id=1, avatar_key='f672207a-b3b4-4142-9036-560086f4b297', phone_number='', web_landing_page=None, web_mobile_landing_page=None, employee_id=None, employee_number=None, hire_date=1680757200000, reports_to=None, publisher_domain=None, subscriber_domain=None, virtual_user_id=None)]),\n",
       " DomoCard(id=231472916, title='# Active Users', description=None, type='kpi', urn=None, chart_type=None, dataset_id=None, certification=None, owners=[DomoUser(id='1251168784', title='', department='', display_name='Andre Wieczorkiewicz', email_address='andre@clearinsight.fr', role_id=2, avatar_key='6a279915-a5ed-40b9-a1cb-13841f82e885', phone_number='+33663472589', web_landing_page=None, web_mobile_landing_page=None, employee_id=None, employee_number=None, hire_date=None, reports_to=None, publisher_domain=None, subscriber_domain=None, virtual_user_id=None)]),\n",
       " DomoCard(id=1025952623, title='# Active Users', description=None, type='kpi', urn=None, chart_type=None, dataset_id=None, certification=None, owners=[DomoUser(id='1251168784', title='', department='', display_name='Andre Wieczorkiewicz', email_address='andre@clearinsight.fr', role_id=2, avatar_key='6a279915-a5ed-40b9-a1cb-13841f82e885', phone_number='+33663472589', web_landing_page=None, web_mobile_landing_page=None, employee_id=None, employee_number=None, hire_date=None, reports_to=None, publisher_domain=None, subscriber_domain=None, virtual_user_id=None)]),\n",
       " DomoCard(id=391084879, title='# Active Users Today', description=None, type='kpi', urn=None, chart_type=None, dataset_id=None, certification=None, owners=[DomoUser(id='1251168784', title='', department='', display_name='Andre Wieczorkiewicz', email_address='andre@clearinsight.fr', role_id=2, avatar_key='6a279915-a5ed-40b9-a1cb-13841f82e885', phone_number='+33663472589', web_landing_page=None, web_mobile_landing_page=None, employee_id=None, employee_number=None, hire_date=None, reports_to=None, publisher_domain=None, subscriber_domain=None, virtual_user_id=None)])]"
      ]
     },
     "execution_count": null,
     "metadata": {},
     "output_type": "execute_result"
    }
   ],
   "source": [
    "import os\n",
    "import domolibrary.client.DomoAuth as dmda\n",
    "\n",
    "auth = dmda.DomoTokenAuth(\n",
    "    domo_instance=\"domo-community\",\n",
    "    domo_access_token=os.environ[\"DOMO_DOJO_ACCESS_TOKEN\"],\n",
    ")\n",
    "\n",
    "await DomoDatacenter.get_cards_admin_summary(\n",
    "    auth=auth,\n",
    "    # return_raw = True,\n",
    "    maximum = 5\n",
    "    # debug_api = True\n",
    ")\n"
   ]
  },
  {
   "cell_type": "code",
   "execution_count": null,
   "metadata": {},
   "outputs": [],
   "source": [
    "# | hide\n",
    "import nbdev\n",
    "\n",
    "nbdev.nbdev_export()"
   ]
  }
 ],
 "metadata": {
  "jupytext": {
   "split_at_heading": true
  },
  "kernelspec": {
   "display_name": "python3",
   "language": "python",
   "name": "python3"
  }
 },
 "nbformat": 4,
 "nbformat_minor": 4
}
