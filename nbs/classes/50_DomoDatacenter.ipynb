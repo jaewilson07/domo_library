{
 "cells": [
  {
   "cell_type": "raw",
   "metadata": {},
   "source": [
    "# DomoDatacenter\n",
    "> a class based approach to searching the datacenter\n"
   ]
  },
  {
   "cell_type": "raw",
   "metadata": {},
   "source": [
    "---\n",
    "output-file: domodatacenter_class.html\n",
    "---\n"
   ]
  },
  {
   "cell_type": "code",
   "execution_count": 1,
   "metadata": {},
   "outputs": [],
   "source": [
    "# | default_exp classes.DomoDatacenter\n"
   ]
  },
  {
   "cell_type": "code",
   "execution_count": 26,
   "metadata": {},
   "outputs": [],
   "source": [
    "# | exporti\n",
    "import asyncio\n",
    "from dataclasses import dataclass\n",
    "from typing import Union\n",
    "from enum import Enum\n",
    "\n",
    "import httpx\n",
    "\n",
    "from fastcore.basics import patch_to\n",
    "\n",
    "import domolibrary.client.DomoAuth as dmda\n",
    "import domolibrary.classes.DomoDataset as dmds\n",
    "import domolibrary.classes.DomoAccount as dma\n",
    "\n",
    "import domolibrary.routes.datacenter as datacenter_routes\n"
   ]
  },
  {
   "cell_type": "code",
   "execution_count": 3,
   "metadata": {},
   "outputs": [],
   "source": [
    "# | export\n",
    "\n",
    "@dataclass\n",
    "class DomoDatacenter:\n",
    "    \"class for quering entities in the datacenter\"\n",
    "    auth: dmda.DomoAuth = None"
   ]
  },
  {
   "cell_type": "code",
   "execution_count": 4,
   "metadata": {},
   "outputs": [],
   "source": [
    "# | exporti\n",
    "\n",
    "@patch_to(DomoDatacenter, cls_method=True)\n",
    "async def search_datacenter(\n",
    "    cls,\n",
    "    auth: dmda.DomoAuth,\n",
    "    maximum: int = None,  # maximum number of results to return\n",
    "    body: dict = None,  # either pass a body or generate a body in the function using search_text, entity_type, and additional_filters parameters\n",
    "    search_text=None,\n",
    "    # can accept one value or a list of values\n",
    "    entity_type: Union[str, list] = \"dataset\",\n",
    "    additional_filters_ls=None,\n",
    "    return_raw: bool = False,\n",
    "    session: httpx.AsyncClient = None,\n",
    "    debug_api: bool = False,\n",
    ") -> list:\n",
    "\n",
    "    res = await datacenter_routes.search_datacenter(\n",
    "        auth=auth,\n",
    "        maximum=maximum,\n",
    "        body=body,\n",
    "        session=session,\n",
    "        search_text=search_text,\n",
    "        entity_type=entity_type,\n",
    "        additional_filters_ls=additional_filters_ls,\n",
    "        debug_api=debug_api,\n",
    "    )\n",
    "\n",
    "    if return_raw:\n",
    "        return res\n",
    "\n",
    "    return res.response"
   ]
  },
  {
   "attachments": {},
   "cell_type": "markdown",
   "metadata": {},
   "source": [
    "#### sample implementation of search_datacenter\n"
   ]
  },
  {
   "cell_type": "code",
   "execution_count": 5,
   "metadata": {},
   "outputs": [
    {
     "data": {
      "text/html": [
       "<div>\n",
       "<style scoped>\n",
       "    .dataframe tbody tr th:only-of-type {\n",
       "        vertical-align: middle;\n",
       "    }\n",
       "\n",
       "    .dataframe tbody tr th {\n",
       "        vertical-align: top;\n",
       "    }\n",
       "\n",
       "    .dataframe thead th {\n",
       "        text-align: right;\n",
       "    }\n",
       "</style>\n",
       "<table border=\"1\" class=\"dataframe\">\n",
       "  <thead>\n",
       "    <tr style=\"text-align: right;\">\n",
       "      <th></th>\n",
       "      <th>entityType</th>\n",
       "      <th>databaseId</th>\n",
       "      <th>searchId</th>\n",
       "      <th>createDate</th>\n",
       "      <th>lastModified</th>\n",
       "      <th>lastIndexed</th>\n",
       "      <th>highlightedFields</th>\n",
       "      <th>language</th>\n",
       "      <th>requestAccess</th>\n",
       "      <th>score</th>\n",
       "      <th>...</th>\n",
       "      <th>pdpEnabled</th>\n",
       "      <th>used</th>\n",
       "      <th>owners</th>\n",
       "      <th>ownersLocalized</th>\n",
       "      <th>cloudName</th>\n",
       "      <th>cloudId</th>\n",
       "      <th>winnerText</th>\n",
       "      <th>systemTagFields</th>\n",
       "      <th>ownedByType</th>\n",
       "      <th>customer</th>\n",
       "    </tr>\n",
       "  </thead>\n",
       "  <tbody>\n",
       "    <tr>\n",
       "      <th>0</th>\n",
       "      <td>dataset</td>\n",
       "      <td>04c1574e-c8be-4721-9846-c6ffa491144b</td>\n",
       "      <td>{'indexName': None, 'databaseId': '04c1574e-c8...</td>\n",
       "      <td>1668379680000</td>\n",
       "      <td>1689702377000</td>\n",
       "      <td>1689703513613</td>\n",
       "      <td>{}</td>\n",
       "      <td>English</td>\n",
       "      <td>False</td>\n",
       "      <td>11.0</td>\n",
       "      <td>...</td>\n",
       "      <td>False</td>\n",
       "      <td>False</td>\n",
       "      <td>[{'id': '1893952720', 'type': 'USER', 'display...</td>\n",
       "      <td>{'localizedMessage': 'Jae Wilson1', 'count': 1}</td>\n",
       "      <td>Domo</td>\n",
       "      <td>domo</td>\n",
       "      <td>domo_kbs</td>\n",
       "      <td>[system_tags]</td>\n",
       "      <td>USER</td>\n",
       "      <td>mmmm-0012-0200</td>\n",
       "    </tr>\n",
       "  </tbody>\n",
       "</table>\n",
       "<p>1 rows × 47 columns</p>\n",
       "</div>"
      ],
      "text/plain": [
       "  entityType                            databaseId   \n",
       "0    dataset  04c1574e-c8be-4721-9846-c6ffa491144b  \\\n",
       "\n",
       "                                            searchId     createDate   \n",
       "0  {'indexName': None, 'databaseId': '04c1574e-c8...  1668379680000  \\\n",
       "\n",
       "    lastModified    lastIndexed highlightedFields language  requestAccess   \n",
       "0  1689702377000  1689703513613                {}  English          False  \\\n",
       "\n",
       "   score  ... pdpEnabled   used   \n",
       "0   11.0  ...      False  False  \\\n",
       "\n",
       "                                              owners   \n",
       "0  [{'id': '1893952720', 'type': 'USER', 'display...  \\\n",
       "\n",
       "                                   ownersLocalized  cloudName  cloudId   \n",
       "0  {'localizedMessage': 'Jae Wilson1', 'count': 1}       Domo     domo  \\\n",
       "\n",
       "  winnerText systemTagFields ownedByType        customer  \n",
       "0   domo_kbs   [system_tags]        USER  mmmm-0012-0200  \n",
       "\n",
       "[1 rows x 47 columns]"
      ]
     },
     "execution_count": 5,
     "metadata": {},
     "output_type": "execute_result"
    }
   ],
   "source": [
    "import domolibrary.client.DomoAuth as dmda\n",
    "import os\n",
    "import pandas as pd\n",
    "\n",
    "token_auth = dmda.DomoTokenAuth(\n",
    "    domo_instance=\"domo-community\",\n",
    "    domo_access_token=os.environ[\"DOMO_DOJO_ACCESS_TOKEN\"],\n",
    ")\n",
    "\n",
    "additional_filters_ls = [\n",
    "    datacenter_routes.generate_search_datacenter_filter(\n",
    "        \"dataprovidername_facet\", \"Jupyter Data\"\n",
    "    )\n",
    "]\n",
    "\n",
    "res = await DomoDatacenter.search_datacenter(\n",
    "    auth=token_auth,\n",
    "    additional_filters_ls=additional_filters_ls,\n",
    "       search_text = \"*kb*\",\n",
    "    entity_type=datacenter_routes.Datacenter_Enum.DATASET.value,\n",
    ")\n",
    "\n",
    "pd.DataFrame(res[0:5])"
   ]
  },
  {
   "cell_type": "code",
   "execution_count": 6,
   "metadata": {},
   "outputs": [],
   "source": [
    "# | exporti\n",
    "@patch_to(DomoDatacenter, cls_method=True)\n",
    "async def search_datasets(\n",
    "    cls,\n",
    "    auth=dmda.DomoAuth,\n",
    "    maximum: int = None,  # maximum number of results to return\n",
    "    search_text=None,\n",
    "    # can accept one value or a list of values\n",
    "    additional_filters_ls=None,\n",
    "    return_raw: bool = False,\n",
    "    debug_api: bool = False,\n",
    "    session: httpx.AsyncClient = None,\n",
    ") -> list[dmds.DomoDataset]:\n",
    "\n",
    "    json_list = await cls.search_datacenter(\n",
    "        auth=auth,\n",
    "        maximum=maximum,\n",
    "        search_text=search_text,\n",
    "        entity_type=datacenter_routes.Datacenter_Enum.DATASET.value,\n",
    "        additional_filters_ls=additional_filters_ls,\n",
    "        return_raw=return_raw,\n",
    "        session=session,\n",
    "        debug_api=debug_api,\n",
    "    )\n",
    "\n",
    "    if return_raw or len(json_list) == 0:\n",
    "        return json_list\n",
    "\n",
    "    return await asyncio.gather(\n",
    "        *[\n",
    "            dmds.DomoDataset.get_from_id(\n",
    "                dataset_id=json_obj.get(\"databaseId\"),\n",
    "                auth=auth,\n",
    "                debug_api=debug_api,\n",
    "                session=session,\n",
    "            )\n",
    "            for json_obj in json_list\n",
    "        ]\n",
    "    )"
   ]
  },
  {
   "attachments": {},
   "cell_type": "markdown",
   "metadata": {},
   "source": [
    "#### sample implementation search_datasets\n"
   ]
  },
  {
   "cell_type": "code",
   "execution_count": 7,
   "metadata": {},
   "outputs": [
    {
     "data": {
      "text/plain": [
       "[DomoDataset(id='04c1574e-c8be-4721-9846-c6ffa491144b', display_type='domo-jupyterdata', data_provider_type='domo-jupyterdata', name='domo_kbs', description=None, row_count=1185, column_count=7, stream_id=825, owner={'id': '1893952720', 'name': 'Jae Wilson1', 'type': 'USER', 'group': False}, formula={'calculation_ca9d4b1c-f73a-4f76-9f94-d3c4ca6871c5': {'templateId': 2664, 'id': 'calculation_ca9d4b1c-f73a-4f76-9f94-d3c4ca6871c5', 'name': 'rowcount', 'formula': 'sum(1)', 'status': 'VALID', 'dataType': 'LONG', 'persistedOnDataSource': True, 'isAggregatable': True, 'bignumber': False}, 'calculation_38846559-d190-4ab1-809b-bcd361db5670': {'templateId': 2665, 'id': 'calculation_38846559-d190-4ab1-809b-bcd361db5670', 'name': 'max_views', 'formula': 'max(views)', 'status': 'VALID', 'dataType': 'LONG', 'persistedOnDataSource': True, 'isAggregatable': True, 'bignumber': False, 'columnPositions': [{'columnName': 'views', 'columnPosition': 4}]}}, schema=DomoDataset_Schema(dataset=..., columns=[]), tags=DomoDataset_Tags(dataset=..., tag_ls=['developer_documentation', 'hackercore', 'Jul-18-2023 17:46']), certification=None, PDP=<domolibrary.classes.DomoPDP.Dataset_PDP_Policies object at 0x7fdf8b5bd5d0>)]"
      ]
     },
     "execution_count": 7,
     "metadata": {},
     "output_type": "execute_result"
    }
   ],
   "source": [
    "import domolibrary.client.DomoAuth as dmda\n",
    "import os\n",
    "import pandas as pd\n",
    "\n",
    "token_auth = dmda.DomoTokenAuth(\n",
    "    domo_instance=\"domo-community\",\n",
    "    domo_access_token=os.environ[\"DOMO_DOJO_ACCESS_TOKEN\"],\n",
    ")\n",
    "\n",
    "additional_filters_ls = [\n",
    "    datacenter_routes.generate_search_datacenter_filter(\n",
    "        \"dataprovidername_facet\", \"Jupyter Data\"\n",
    "    )\n",
    "]\n",
    "\n",
    "res = await DomoDatacenter.search_datasets(\n",
    "    auth=token_auth,\n",
    "    search_text=\"*kb*\",\n",
    "    additional_filters_ls=additional_filters_ls,\n",
    ")\n",
    "\n",
    "res"
   ]
  },
  {
   "cell_type": "code",
   "execution_count": 8,
   "metadata": {},
   "outputs": [],
   "source": [
    "# | exporti\n",
    "@patch_to(DomoDatacenter, cls_method=True)\n",
    "async def get_accounts(\n",
    "    cls,\n",
    "    auth=dmda.DomoAuth,\n",
    "    maximum: int = None,  # maximum number of results to return\n",
    "    # can accept one value or a list of values\n",
    "    additional_filters_ls=None,\n",
    "    return_raw: bool = False,\n",
    "    debug_api: bool = False,\n",
    "    session: httpx.AsyncClient = None,\n",
    ") -> list[dma.DomoAccount]:\n",
    "    \"\"\"search Domo Datacenter account api.\n",
    "Note: at the time of this writing 7/18/2023, the datacenter api does not support searching accounts by name\"\"\"\n",
    "    \n",
    "    json_list = await cls.search_datacenter(\n",
    "        auth=auth,\n",
    "        maximum=maximum,\n",
    "        entity_type=datacenter_routes.Datacenter_Enum.ACCOUNT.value,\n",
    "        additional_filters_ls=additional_filters_ls,\n",
    "        return_raw=return_raw,\n",
    "        session=session,\n",
    "        debug_api=debug_api,\n",
    "    )\n",
    "\n",
    "    if return_raw or len(json_list) == 0:\n",
    "        return json_list\n",
    "\n",
    "    domo_account_ls = [\n",
    "            dma.DomoAccount._from_json(\n",
    "                json_obj,\n",
    "                auth=auth ) for json_obj in json_list\n",
    "        ]\n",
    "    \n",
    "    return domo_account_ls"
   ]
  },
  {
   "attachments": {},
   "cell_type": "markdown",
   "metadata": {},
   "source": [
    "#### sample implementation search_accounts\n"
   ]
  },
  {
   "cell_type": "code",
   "execution_count": 9,
   "metadata": {},
   "outputs": [
    {
     "name": "stdout",
     "output_type": "stream",
     "text": [
      "49\n"
     ]
    },
    {
     "data": {
      "text/plain": [
       "[DomoAccount(name='**ReplicationUtility**:modocorp.domo.com', data_provider_type='dataset-copy', id='50', created_dt=datetime.datetime(2022, 10, 6, 19, 20, 34), modified_dt=datetime.datetime(2022, 10, 6, 19, 20, 34), config=None),\n",
       " DomoAccount(name='onyxReporting@gmail.com', data_provider_type='google-spreadsheets', id='45', created_dt=datetime.datetime(2022, 10, 4, 22, 59, 14), modified_dt=datetime.datetime(2022, 10, 4, 22, 59, 14), config=None),\n",
       " DomoAccount(name='Domo Governance Datasets Third Party Account', data_provider_type='domo-governance-d14c2fef-49a8-4898-8ddd-f64998005600', id='5', created_dt=datetime.datetime(2021, 3, 26, 16, 54, 41), modified_dt=datetime.datetime(2021, 3, 26, 16, 54, 41), config=None),\n",
       " DomoAccount(name='jaemyong.wilson@sony.com', data_provider_type='google-spreadsheets', id='70', created_dt=datetime.datetime(2023, 4, 26, 12, 20, 51), modified_dt=datetime.datetime(2023, 4, 26, 12, 20, 51), config=None),\n",
       " DomoAccount(name='domo_creds', data_provider_type='abstract-credential-store', id='71', created_dt=datetime.datetime(2023, 5, 18, 21, 58, 12), modified_dt=datetime.datetime(2023, 5, 18, 21, 58, 12), config=None)]"
      ]
     },
     "execution_count": 9,
     "metadata": {},
     "output_type": "execute_result"
    }
   ],
   "source": [
    "import domolibrary.client.DomoAuth as dmda\n",
    "import domolibrary.routes.datacenter as datacenter_routes\n",
    "import os\n",
    "import pandas as pd\n",
    "\n",
    "auth = dmda.DomoTokenAuth(\n",
    "    domo_instance=\"domo-community\",\n",
    "    domo_access_token=os.environ[\"DOMO_DOJO_ACCESS_TOKEN\"],\n",
    ")\n",
    "\n",
    "additional_filters_ls = [\n",
    "    datacenter_routes.generate_search_datacenter_filter(\n",
    "        datacenter_routes.Datacenter_Filter_Field_Enum.DATAPROVIDER.value,\n",
    "        \"Google Sheets\",\n",
    "    )\n",
    "]\n",
    "\n",
    "res = await DomoDatacenter.get_accounts(\n",
    "    auth=auth,\n",
    "    # additional_filters_ls=additional_filters_ls,\n",
    "    return_raw=False,\n",
    "    debug_api=False,\n",
    ")\n",
    "\n",
    "print(len(res))\n",
    "res[0:5]"
   ]
  },
  {
   "cell_type": "code",
   "execution_count": 16,
   "metadata": {},
   "outputs": [
    {
     "data": {
      "text/plain": [
       "'DATAFLOW'"
      ]
     },
     "execution_count": 16,
     "metadata": {},
     "output_type": "execute_result"
    }
   ],
   "source": [
    "import domolibrary.classes.DomoDataset as dmds\n",
    "\n",
    "a = dmds.DomoDataset(id = 123)\n",
    "a.__class__.__name__\n",
    "\n",
    "\n",
    "datacenter_routes.Datacenter_Enum.DATAFLOW.value"
   ]
  },
  {
   "cell_type": "code",
   "execution_count": 50,
   "metadata": {},
   "outputs": [],
   "source": [
    "#| exporti\n",
    "\n",
    "class LineageTypes_Enum(Enum):\n",
    "    DomoDataset = 'DATA_SOURCE'\n",
    "    DomoDataflow = 'DATAFLOW'\n",
    "\n",
    "\n",
    "@patch_to(DomoDatacenter, cls_method=True)\n",
    "async def get_lineage_upstream(\n",
    "    cls,\n",
    "    auth: dmda.DomoAuth,\n",
    "    domo_entity, # DomoDataset or DomoDataflow\n",
    "    return_raw: bool = False,\n",
    "    session: httpx.AsyncClient = None,\n",
    "    debug_api: bool = False,\n",
    "    debug_prn: bool = False):\n",
    "\n",
    "    import domolibrary.classes.DomoDataset as dmds\n",
    "    import domolibrary.classes.DomoDataflow as dmdf\n",
    "\n",
    "    if not session:\n",
    "        session = httpx.AsyncClient()\n",
    "        is_close_session = True\n",
    "\n",
    "\n",
    "    res = await datacenter_routes.get_lineage_upstream(\n",
    "        auth=auth,\n",
    "        entity_type= LineageTypes_Enum[domo_entity.__class__.__name__].value,\n",
    "        entity_id=domo_entity.id,\n",
    "        session=session,\n",
    "        debug_api=debug_api,\n",
    "    )\n",
    "\n",
    "    if return_raw or res.status != 200:\n",
    "        await session.aclose()\n",
    "        return res\n",
    "\n",
    "    obj = res.response\n",
    "\n",
    "    domo_obj = []\n",
    "    for key, item in obj.items():\n",
    "        if item.get(\"type\") == \"DATA_SOURCE\":\n",
    "            domo_obj.append(\n",
    "                await dmds.DomoDataset.get_from_id(auth=auth, dataset_id=item.get(\"id\"), session= session)\n",
    "            )\n",
    "\n",
    "        if item.get(\"type\") == \"DATAFLOW\":\n",
    "            # print(item.get('id'))\n",
    "            domo_obj.append(\n",
    "                await dmdf.DomoDataflow.get_from_id(\n",
    "                    auth=auth, dataflow_id=item.get(\"id\"), session = session\n",
    "                    \n",
    "                )\n",
    "            )\n",
    "            pass\n",
    "\n",
    "    await session.aclose()\n",
    "    return domo_obj\n",
    "    "
   ]
  },
  {
   "cell_type": "code",
   "execution_count": 51,
   "metadata": {},
   "outputs": [
    {
     "ename": "TypeError",
     "evalue": "DomoDataflow.get_from_id() got an unexpected keyword argument 'session'",
     "output_type": "error",
     "traceback": [
      "\u001b[0;31m---------------------------------------------------------------------------\u001b[0m",
      "\u001b[0;31mTypeError\u001b[0m                                 Traceback (most recent call last)",
      "Cell \u001b[0;32mIn[51], line 12\u001b[0m\n\u001b[1;32m      5\u001b[0m auth \u001b[39m=\u001b[39m dmda\u001b[39m.\u001b[39mDomoTokenAuth(\n\u001b[1;32m      6\u001b[0m     domo_instance\u001b[39m=\u001b[39m\u001b[39m\"\u001b[39m\u001b[39mdomo-community\u001b[39m\u001b[39m\"\u001b[39m,\n\u001b[1;32m      7\u001b[0m     domo_access_token\u001b[39m=\u001b[39mos\u001b[39m.\u001b[39menviron[\u001b[39m\"\u001b[39m\u001b[39mDOMO_DOJO_ACCESS_TOKEN\u001b[39m\u001b[39m\"\u001b[39m],\n\u001b[1;32m      8\u001b[0m )\n\u001b[1;32m     10\u001b[0m domo_dataset \u001b[39m=\u001b[39m dmds\u001b[39m.\u001b[39mDomoDataset(\u001b[39mid\u001b[39m \u001b[39m=\u001b[39m \u001b[39m'\u001b[39m\u001b[39m45a7a24e-c738-44f9-9019-00d5a33613ae\u001b[39m\u001b[39m'\u001b[39m)\n\u001b[0;32m---> 12\u001b[0m \u001b[39mawait\u001b[39;00m DomoDatacenter\u001b[39m.\u001b[39mget_lineage_upstream(\n\u001b[1;32m     13\u001b[0m     auth\u001b[39m=\u001b[39mauth,\n\u001b[1;32m     14\u001b[0m     domo_entity \u001b[39m=\u001b[39m domo_dataset,\n\u001b[1;32m     15\u001b[0m     \u001b[39m# return_raw = True,\u001b[39;00m\n\u001b[1;32m     16\u001b[0m     \u001b[39m# debug_api = True\u001b[39;00m\n\u001b[1;32m     17\u001b[0m )\n",
      "Cell \u001b[0;32mIn[50], line 50\u001b[0m, in \u001b[0;36mget_lineage_upstream\u001b[0;34m(cls, auth, domo_entity, return_raw, session, debug_api, debug_prn)\u001b[0m\n\u001b[1;32m     43\u001b[0m         domo_obj\u001b[39m.\u001b[39mappend(\n\u001b[1;32m     44\u001b[0m             \u001b[39mawait\u001b[39;00m dmds\u001b[39m.\u001b[39mDomoDataset\u001b[39m.\u001b[39mget_from_id(auth\u001b[39m=\u001b[39mauth, dataset_id\u001b[39m=\u001b[39mitem\u001b[39m.\u001b[39mget(\u001b[39m\"\u001b[39m\u001b[39mid\u001b[39m\u001b[39m\"\u001b[39m), session\u001b[39m=\u001b[39m session)\n\u001b[1;32m     45\u001b[0m         )\n\u001b[1;32m     47\u001b[0m     \u001b[39mif\u001b[39;00m item\u001b[39m.\u001b[39mget(\u001b[39m\"\u001b[39m\u001b[39mtype\u001b[39m\u001b[39m\"\u001b[39m) \u001b[39m==\u001b[39m \u001b[39m\"\u001b[39m\u001b[39mDATAFLOW\u001b[39m\u001b[39m\"\u001b[39m:\n\u001b[1;32m     48\u001b[0m         \u001b[39m# print(item.get('id'))\u001b[39;00m\n\u001b[1;32m     49\u001b[0m         domo_obj\u001b[39m.\u001b[39mappend(\n\u001b[0;32m---> 50\u001b[0m             \u001b[39mawait\u001b[39;00m dmdf\u001b[39m.\u001b[39;49mDomoDataflow\u001b[39m.\u001b[39;49mget_from_id(\n\u001b[1;32m     51\u001b[0m                 auth\u001b[39m=\u001b[39;49mauth, dataflow_id\u001b[39m=\u001b[39;49mitem\u001b[39m.\u001b[39;49mget(\u001b[39m\"\u001b[39;49m\u001b[39mid\u001b[39;49m\u001b[39m\"\u001b[39;49m), session \u001b[39m=\u001b[39;49m session\n\u001b[1;32m     52\u001b[0m                 \n\u001b[1;32m     53\u001b[0m             )\n\u001b[1;32m     54\u001b[0m         )\n\u001b[1;32m     55\u001b[0m         \u001b[39mpass\u001b[39;00m\n\u001b[1;32m     57\u001b[0m \u001b[39mawait\u001b[39;00m session\u001b[39m.\u001b[39maclose()\n",
      "\u001b[0;31mTypeError\u001b[0m: DomoDataflow.get_from_id() got an unexpected keyword argument 'session'"
     ]
    }
   ],
   "source": [
    "import domolibrary.client.DomoAuth as dmda\n",
    "import domolibrary.classes.DomoDataset as dmds\n",
    "import os\n",
    "\n",
    "auth = dmda.DomoTokenAuth(\n",
    "    domo_instance=\"domo-community\",\n",
    "    domo_access_token=os.environ[\"DOMO_DOJO_ACCESS_TOKEN\"],\n",
    ")\n",
    "\n",
    "domo_dataset = dmds.DomoDataset(id = '45a7a24e-c738-44f9-9019-00d5a33613ae')\n",
    "\n",
    "await DomoDatacenter.get_lineage_upstream(\n",
    "    auth=auth,\n",
    "    domo_entity = domo_dataset,\n",
    "    # return_raw = True,\n",
    "    # debug_api = True\n",
    ")\n"
   ]
  },
  {
   "cell_type": "code",
   "execution_count": null,
   "metadata": {},
   "outputs": [],
   "source": [
    "# | hide\n",
    "import nbdev\n",
    "\n",
    "nbdev.nbdev_export()"
   ]
  }
 ],
 "metadata": {
  "jupytext": {
   "split_at_heading": true
  },
  "kernelspec": {
   "display_name": "python3",
   "language": "python",
   "name": "python3"
  },
  "language_info": {
   "codemirror_mode": {
    "name": "ipython",
    "version": 3
   },
   "file_extension": ".py",
   "mimetype": "text/x-python",
   "name": "python",
   "nbconvert_exporter": "python",
   "pygments_lexer": "ipython3",
   "version": "3.10.4"
  }
 },
 "nbformat": 4,
 "nbformat_minor": 4
}
