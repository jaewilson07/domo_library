{
 "cells": [
  {
   "cell_type": "raw",
   "metadata": {},
   "source": [
    "---\n",
    "title: AccessToken\n",
    "description: a class based approach AccessTokens\n",
    "output-file: access_token_class.html\n",
    "---"
   ]
  },
  {
   "cell_type": "code",
   "execution_count": 1,
   "metadata": {},
   "outputs": [],
   "source": [
    "# | default_exp classes.DomoAccessToken"
   ]
  },
  {
   "cell_type": "code",
   "execution_count": 2,
   "metadata": {},
   "outputs": [],
   "source": [
    "# | exporti\n",
    "import httpx\n",
    "import datetime as dt\n",
    "from nbdev.showdoc import patch_to\n",
    "\n",
    "from dataclasses import dataclass, field, asdict\n",
    "\n",
    "import domolibrary.client.DomoAuth as dmda\n",
    "import domolibrary.client.DomoError as de\n",
    "import domolibrary.utils.chunk_execution as ce\n",
    "\n",
    "import domolibrary.routes.access_token as access_token_routes"
   ]
  },
  {
   "cell_type": "code",
   "execution_count": 3,
   "metadata": {},
   "outputs": [],
   "source": [
    "# |hide\n",
    "from nbdev.showdoc import show_doc\n",
    "import os"
   ]
  },
  {
   "cell_type": "markdown",
   "metadata": {},
   "source": [
    "# Access Token"
   ]
  },
  {
   "cell_type": "code",
   "execution_count": 4,
   "metadata": {},
   "outputs": [],
   "source": [
    "# | export\n",
    "\n",
    "\n",
    "@dataclass\n",
    "class DomoAccessToken:\n",
    "    id: int\n",
    "    name: str\n",
    "    owner: None\n",
    "    expiration_date: dt.datetime\n",
    "    token : str = field(repr = False)\n",
    "\n",
    "    auth: dmda.DomoAuth = field(repr = False)\n",
    "\n",
    "    def __eq__(self, other):\n",
    "        if not isinstance(other, DomoAccessToken):\n",
    "            return False\n",
    "\n",
    "        return self.id == other.id\n",
    "\n",
    "    @classmethod\n",
    "    async def _from_json(cls, obj, auth):\n",
    "        import domolibrary.classes.DomoUser as dmu\n",
    "\n",
    "        owner = await dmu.DomoUser.get_by_id(user_id=obj[\"ownerId\"], auth=auth)\n",
    "\n",
    "        return cls(\n",
    "            id=obj[\"id\"],\n",
    "            name=obj[\"name\"],\n",
    "            owner=owner,\n",
    "            expiration_date=obj[\"expires\"],\n",
    "            auth=auth,\n",
    "            token = obj.get('token')\n",
    "        )"
   ]
  },
  {
   "cell_type": "code",
   "execution_count": 5,
   "metadata": {},
   "outputs": [],
   "source": [
    "# | export\n",
    "async def get_access_tokens(\n",
    "    auth: dmda.DomoAuth = None,\n",
    "    return_raw: bool = False,\n",
    "    debug_api: bool = False,\n",
    "    debug_num_stacks_to_drop=2,\n",
    "    session: httpx.AsyncClient = None,\n",
    "    parent_class=None,\n",
    "):\n",
    "    res = await access_token_routes.get_access_tokens(\n",
    "        auth=auth,\n",
    "        session=session,\n",
    "        debug_api=debug_api,\n",
    "        parent_class=parent_class,\n",
    "        debug_num_stacks_to_drop=debug_num_stacks_to_drop,\n",
    "    )\n",
    "\n",
    "    if return_raw:\n",
    "        return res\n",
    "\n",
    "    return await ce.gather_with_concurrency(\n",
    "        *[DomoAccessToken._from_json(obj=obj, auth=auth) for obj in res.response], n=10\n",
    "    )"
   ]
  },
  {
   "cell_type": "code",
   "execution_count": 6,
   "metadata": {},
   "outputs": [
    {
     "name": "stdout",
     "output_type": "stream",
     "text": [
      "warning this token has not been validated by who_am_i, run get_auth_token first\n"
     ]
    },
    {
     "data": {
      "text/plain": [
       "[DomoAccessToken(id=156180, name='Governance', owner=DomoUser(id='587894148', display_name='Bryan Van Kampen', email_address='bryan@bvankampen.net', role_id=1, department='BT Partners', title='Executive Analytics', avatar_key='09/6CF6C801EEF440968C88ECC9824D66', phone_number='6304647034', web_landing_page=None, web_mobile_landing_page=None, employee_id=None, employee_number=None, hire_date=1588827600000, reports_to=None, publisher_domain=None, subscriber_domain=None, virtual_user_id=None, custom_attributes={}, role=DomoRole(id=1, name='Admin', description='Full access to everything', is_system_role=True, is_default_role=None, grant_ls=[], membership_ls=[])), expiration_date=datetime.datetime(2030, 5, 13, 14, 47, 33)),\n",
       " DomoAccessToken(id=159191, name='Java CLI', owner=DomoUser(id='1345408759', display_name='Alexis Lorenz (DataMaven)', email_address='DataMaven42@gmail.com', role_id=1, department='Owner', title='Major Domo Support Specialist', avatar_key='3ad4c694-c9e8-4b6b-8b80-366d347d826e', phone_number='518-496-4710', web_landing_page=None, web_mobile_landing_page=None, employee_id=None, employee_number=None, hire_date=1590156374000, reports_to=None, publisher_domain=None, subscriber_domain=None, virtual_user_id=None, custom_attributes={}, role=DomoRole(id=1, name='Admin', description='Full access to everything', is_system_role=True, is_default_role=None, grant_ls=[], membership_ls=[])), expiration_date=datetime.datetime(2030, 7, 26, 20, 11, 21)),\n",
       " DomoAccessToken(id=163868, name='Governance', owner=DomoUser(id='1345408759', display_name='Alexis Lorenz (DataMaven)', email_address='DataMaven42@gmail.com', role_id=1, department='Owner', title='Major Domo Support Specialist', avatar_key='3ad4c694-c9e8-4b6b-8b80-366d347d826e', phone_number='518-496-4710', web_landing_page=None, web_mobile_landing_page=None, employee_id=None, employee_number=None, hire_date=1590156374000, reports_to=None, publisher_domain=None, subscriber_domain=None, virtual_user_id=None, custom_attributes={}, role=DomoRole(id=1, name='Admin', description='Full access to everything', is_system_role=True, is_default_role=None, grant_ls=[], membership_ls=[])), expiration_date=datetime.datetime(2030, 11, 4, 21, 6)),\n",
       " DomoAccessToken(id=168840, name='Dataset Copy', owner=DomoUser(id='1345408759', display_name='Alexis Lorenz (DataMaven)', email_address='DataMaven42@gmail.com', role_id=1, department='Owner', title='Major Domo Support Specialist', avatar_key='3ad4c694-c9e8-4b6b-8b80-366d347d826e', phone_number='518-496-4710', web_landing_page=None, web_mobile_landing_page=None, employee_id=None, employee_number=None, hire_date=1590156374000, reports_to=None, publisher_domain=None, subscriber_domain=None, virtual_user_id=None, custom_attributes={}, role=DomoRole(id=1, name='Admin', description='Full access to everything', is_system_role=True, is_default_role=None, grant_ls=[], membership_ls=[])), expiration_date=datetime.datetime(2031, 2, 20, 18, 55, 14)),\n",
       " DomoAccessToken(id=182879, name='S3 Export', owner=DomoUser(id='68216396', display_name='Elliott Leonard', email_address='egleonard88@gmail.com', role_id=1, department='Owner', title=None, avatar_key='77cad494-6551-47e1-82eb-9e7d840d3a2d', phone_number='9702198956', web_landing_page=None, web_mobile_landing_page=None, employee_id=None, employee_number=None, hire_date=None, reports_to=None, publisher_domain=None, subscriber_domain=None, virtual_user_id=None, custom_attributes={}, role=DomoRole(id=1, name='Admin', description='Full access to everything', is_system_role=True, is_default_role=None, grant_ls=[], membership_ls=[])), expiration_date=datetime.datetime(2022, 10, 8, 2, 51, 55))]"
      ]
     },
     "execution_count": 6,
     "metadata": {},
     "output_type": "execute_result"
    }
   ],
   "source": [
    "token_auth = dmda.DomoTokenAuth(\n",
    "    domo_instance=\"domo-community\",\n",
    "    domo_access_token=os.environ[\"DOMO_DOJO_ACCESS_TOKEN\"],\n",
    ")\n",
    "\n",
    "domo_tokens = await get_access_tokens(auth=token_auth)\n",
    "domo_tokens[0:5]"
   ]
  },
  {
   "cell_type": "code",
   "execution_count": 7,
   "metadata": {},
   "outputs": [],
   "source": [
    "# | exporti\n",
    "@patch_to(DomoAccessToken, cls_method=True)\n",
    "async def generate(\n",
    "    cls: DomoAccessToken,\n",
    "    duration_in_days: int,\n",
    "    token_name: str,\n",
    "    auth: dmda.DomoAuth,\n",
    "    owner: None,  # DomoUser\n",
    "    debug_api: bool = False,\n",
    "    session: httpx.AsyncClient = None,\n",
    "    debug_num_stacks_to_drop: int = 2,\n",
    "    return_raw: bool = False,\n",
    "    parent_class: str = None,\n",
    "):\n",
    "\n",
    "    res = await access_token_routes.generate_access_token(\n",
    "        user_id=owner.id,\n",
    "        token_name=token_name,\n",
    "        duration_in_days=duration_in_days,\n",
    "        auth=auth,\n",
    "        debug_api=debug_api,\n",
    "        session=session,\n",
    "        debug_num_stacks_to_drop=debug_num_stacks_to_drop,\n",
    "        parent_class=parent_class or cls.__name__,\n",
    "    )\n",
    "\n",
    "    if return_raw:\n",
    "        return res\n",
    "\n",
    "    return await cls._from_json(obj=res.response, auth=auth)"
   ]
  },
  {
   "cell_type": "code",
   "execution_count": 8,
   "metadata": {},
   "outputs": [],
   "source": [
    "# | exporti\n",
    "\n",
    "\n",
    "@patch_to(DomoAccessToken)\n",
    "async def revoke(\n",
    "    self,\n",
    "    debug_api: bool = False,\n",
    "    session: httpx.AsyncClient = None,\n",
    "    debug_num_stacks_to_drop: int = 2,\n",
    "):\n",
    "    return await access_token_routes.revoke_access_token(\n",
    "        auth=self.auth,\n",
    "        access_token_id=self.id,\n",
    "        debug_api=debug_api,\n",
    "        debug_num_stacks_to_drop=debug_num_stacks_to_drop,\n",
    "        parent_class=self.__class__.__name__,\n",
    "        session=session,\n",
    "    )"
   ]
  },
  {
   "cell_type": "code",
   "execution_count": 24,
   "metadata": {},
   "outputs": [
    {
     "name": "stdout",
     "output_type": "stream",
     "text": [
      "warning this token has not been validated by who_am_i, run get_auth_token first\n"
     ]
    },
    {
     "data": {
      "text/plain": [
       "DomoAccessToken(id=186851, name='DL test 2024-03-20', owner=DomoUser(id='1216550715', display_name='8:26 - go to sleep', email_address='test4@domo.com', role_id=2, department='test', title=None, avatar_key=None, phone_number='152', web_landing_page=None, web_mobile_landing_page=None, employee_id=None, employee_number=None, hire_date=None, reports_to=None, publisher_domain=None, subscriber_domain=None, virtual_user_id=None, custom_attributes={}, role=DomoRole(id=2, name='Privileged', description='Full access except for editing users and settings owners', is_system_role=True, is_default_role=None, grant_ls=[], membership_ls=[])), expiration_date=1713553489000)"
      ]
     },
     "execution_count": 24,
     "metadata": {},
     "output_type": "execute_result"
    }
   ],
   "source": [
    "import domolibrary.classes.DomoUser as dmu\n",
    "\n",
    "token_auth = dmda.DomoTokenAuth(\n",
    "    domo_instance=\"domo-community\",\n",
    "    domo_access_token=os.environ[\"DOMO_DOJO_ACCESS_TOKEN\"],\n",
    ")\n",
    "\n",
    "domo_user = await dmu.DomoUsers.by_email(email_ls=[\"test4@domo.com\"], auth=token_auth)\n",
    "\n",
    "token = await DomoAccessToken.generate(\n",
    "    token_name=f\"DL test {dt.date.today()}\",\n",
    "    owner=domo_user,\n",
    "    duration_in_days=30,\n",
    "    auth=token_auth,\n",
    "    debug_api=False,\n",
    ")\n",
    "token"
   ]
  },
  {
   "cell_type": "code",
   "execution_count": 22,
   "metadata": {},
   "outputs": [],
   "source": [
    "# | exporti\n",
    "\n",
    "\n",
    "@patch_to(DomoAccessToken)\n",
    "async def regenerate(\n",
    "    self,\n",
    "    session: httpx.AsyncClient = None,\n",
    "    duration_in_days: int = 90,\n",
    "    debug_api: bool = False,\n",
    "    return_raw: bool = False,\n",
    "    debug_num_stacks_to_drop: int = 2,\n",
    "):\n",
    "\n",
    "    await self.revoke()\n",
    "\n",
    "    return await self.generate(\n",
    "        duration_in_days=duration_in_days,\n",
    "        token_name=self.name,\n",
    "        auth=self.auth,\n",
    "        owner=self.owner,\n",
    "        debug_api=debug_api,\n",
    "        session=session,\n",
    "        debug_num_stacks_to_drop=debug_num_stacks_to_drop,\n",
    "        return_raw=return_raw,\n",
    "        parent_class=self.__class__.__name__,\n",
    "    )"
   ]
  },
  {
   "cell_type": "code",
   "execution_count": 25,
   "metadata": {},
   "outputs": [
    {
     "data": {
      "text/plain": [
       "DomoAccessToken(id=186852, name='DL test 2024-03-20', owner=DomoUser(id='1216550715', display_name='8:26 - go to sleep', email_address='test4@domo.com', role_id=2, department='test', title=None, avatar_key=None, phone_number='152', web_landing_page=None, web_mobile_landing_page=None, employee_id=None, employee_number=None, hire_date=None, reports_to=None, publisher_domain=None, subscriber_domain=None, virtual_user_id=None, custom_attributes={}, role=DomoRole(id=2, name='Privileged', description='Full access except for editing users and settings owners', is_system_role=True, is_default_role=None, grant_ls=[], membership_ls=[])), expiration_date=1718737497000)"
      ]
     },
     "execution_count": 25,
     "metadata": {},
     "output_type": "execute_result"
    }
   ],
   "source": [
    "#| eval : false\n",
    "token_auth = dmda.DomoTokenAuth(\n",
    "    domo_instance=\"domo-community\",\n",
    "    domo_access_token=os.environ[\"DOMO_DOJO_ACCESS_TOKEN\"],\n",
    ")\n",
    "\n",
    "await token.regenerate()"
   ]
  },
  {
   "cell_type": "code",
   "execution_count": null,
   "metadata": {},
   "outputs": [],
   "source": [
    "# | hide\n",
    "import nbdev\n",
    "\n",
    "nbdev.nbdev_export(\"./50_DomoAccessToken.ipynb\")"
   ]
  }
 ],
 "metadata": {
  "jupytext": {
   "split_at_heading": true
  },
  "kernelspec": {
   "display_name": "python3",
   "language": "python",
   "name": "python3"
  },
  "language_info": {
   "codemirror_mode": {
    "name": "ipython",
    "version": 3
   },
   "file_extension": ".py",
   "mimetype": "text/x-python",
   "name": "python",
   "nbconvert_exporter": "python",
   "pygments_lexer": "ipython3",
   "version": "3.10.12"
  }
 },
 "nbformat": 4,
 "nbformat_minor": 4
}
