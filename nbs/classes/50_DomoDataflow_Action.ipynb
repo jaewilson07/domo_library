{
 "cells": [
  {
   "cell_type": "raw",
   "metadata": {},
   "source": [
    "---\n",
    "description: a class based approach to interacting with dataflows\n",
    "output-file: dataflow_action_class.html\n",
    "title: Dataflow_Action\n",
    "---"
   ]
  },
  {
   "cell_type": "code",
   "execution_count": null,
   "metadata": {},
   "outputs": [],
   "source": [
    "# | default_exp classes.DomoDataflow_Action"
   ]
  },
  {
   "cell_type": "code",
   "execution_count": null,
   "metadata": {},
   "outputs": [],
   "source": [
    "# | exporti\n",
    "\n",
    "from __future__ import annotations\n",
    "\n",
    "from enum import Enum\n",
    "from dataclasses import dataclass\n",
    "\n",
    "import datetime as dt\n",
    "import domolibrary.utils.DictDot as util_dd"
   ]
  },
  {
   "cell_type": "code",
   "execution_count": null,
   "metadata": {},
   "outputs": [],
   "source": [
    "#|hide\n",
    "import domolibrary.routes.dataflow as dataflow_routes\n",
    "import domolibrary.client.DomoAuth as dmda\n",
    "\n",
    "from nbdev.showdoc import show_doc"
   ]
  },
  {
   "cell_type": "code",
   "execution_count": null,
   "metadata": {},
   "outputs": [],
   "source": [
    "# | export\n",
    "\n",
    "class DomoDataflow_Action_Type(Enum):\n",
    "    LoadFromVault = \"LoadFromVault\"\n",
    "    PublishToVault = \"PublishToVault\"\n",
    "    GenerateTableAction = \"GenerateTableAction\"\n",
    "\n",
    "\n",
    "@dataclass\n",
    "class DomoDataflow_Action:\n",
    "    id: str\n",
    "\n",
    "    type: str = None\n",
    "    depends_on : str = None\n",
    "    name: str = None\n",
    "    \n",
    "    datasource_id: str  = None\n",
    "    sql: str = None\n",
    "\n",
    "\n",
    "    @classmethod\n",
    "    def _from_json(cls, obj: dict):\n",
    "        dd = obj\n",
    "\n",
    "        if isinstance(dd, dict):\n",
    "            dd = util_dd.DictDot(obj)\n",
    "\n",
    "        tbl_name = dd.dataSource.name if dd.dataSource else None\n",
    "        ds_id = dd.dataSource.guid if dd.dataSource else None\n",
    "\n",
    "        return  cls(\n",
    "            type=dd.type,\n",
    "            id=dd.id,\n",
    "            name=dd.name or dd.targetTableName or dd.tableName or tbl_name,\n",
    "            depends_on = dd.dependsOn,\n",
    "            \n",
    "            datasource_id=dd.dataSourceId or ds_id,\n",
    "            sql=dd.selectStatement or dd.query,\n",
    "        )\n",
    "\n"
   ]
  },
  {
   "attachments": {},
   "cell_type": "markdown",
   "metadata": {},
   "source": [
    "#### sample implementation of DataFlow_Action\n",
    "\n",
    "Note: this list of properties that can be attached to `DomoDataflow_Action` is by no means comprehensive. To capture more data from the API, simply add properties to the class and extend the `DomoDataflow_Action._from_json` private method.\n"
   ]
  },
  {
   "cell_type": "code",
   "execution_count": null,
   "metadata": {},
   "outputs": [
    {
     "data": {
      "text/plain": [
       "[DomoDataflow_Action(id='b9bb0f01-2517-4595-a077-c9778e5ffc48', type='LoadFromVault', depends_on=None, name='monit_user_accesslist', datasource_id='6ddbcb8d-0f38-48ad-bd73-f6b35c4b7daf', sql=None),\n",
       " DomoDataflow_Action(id='52f47029-06e0-4599-9ed8-21c4b9386c89', type='WindowAction', depends_on=['b9bb0f01-2517-4595-a077-c9778e5ffc48'], name='Rank & Window', datasource_id=None, sql=None),\n",
       " DomoDataflow_Action(id='623883e9-bdc1-44cd-9fb4-6277d0e123de', type='ExpressionEvaluator', depends_on=['52f47029-06e0-4599-9ed8-21c4b9386c89'], name='Add Formula', datasource_id=None, sql=None),\n",
       " DomoDataflow_Action(id='99ad5978-9a19-41e1-99d7-3d0ce58f7467', type='Metadata', depends_on=['623883e9-bdc1-44cd-9fb4-6277d0e123de'], name='Alter Columns', datasource_id=None, sql=None),\n",
       " DomoDataflow_Action(id='4cf42103-c52d-4b92-b26f-63832ead11ee', type='SelectValues', depends_on=['99ad5978-9a19-41e1-99d7-3d0ce58f7467'], name='Select Columns', datasource_id=None, sql=None),\n",
       " DomoDataflow_Action(id='435803f2-08a4-42b3-8eb2-295b1519c85f', type='ExpressionEvaluator', depends_on=['4cf42103-c52d-4b92-b26f-63832ead11ee'], name='Add Formula 1', datasource_id=None, sql=None),\n",
       " DomoDataflow_Action(id='0c0f0aa1-06b7-4ec1-a3bb-2b28c9a28fa7', type='PublishToVault', depends_on=['435803f2-08a4-42b3-8eb2-295b1519c85f'], name='DDX_Landing Page_DEV', datasource_id='15543b0f-dfe7-4a91-b7db-a86b9e8fec82', sql=None)]"
      ]
     },
     "execution_count": null,
     "metadata": {},
     "output_type": "execute_result"
    }
   ],
   "source": [
    "import os\n",
    "import pandas as pd\n",
    "\n",
    "token_auth = dmda.DomoTokenAuth(\n",
    "    domo_instance=\"domo-community\",\n",
    "    domo_access_token=os.environ[\"DOMO_DOJO_ACCESS_TOKEN\"],\n",
    ")\n",
    "\n",
    "dataflow_id = 70\n",
    "dataflow_id = 185\n",
    "\n",
    "res = await dataflow_routes.get_dataflow_by_id(dataflow_id=dataflow_id, auth=token_auth)\n",
    "actions_ls = res.response.get('actions')\n",
    "\n",
    "[\n",
    "    DomoDataflow_Action._from_json(action)\n",
    "    for action in actions_ls\n",
    "]"
   ]
  },
  {
   "cell_type": "code",
   "execution_count": null,
   "metadata": {},
   "outputs": [],
   "source": [
    "#| export\n",
    "\n",
    "@dataclass\n",
    "class DomoDataflow_ActionResult(DomoDataflow_Action):\n",
    "    is_success : bool = None\n",
    "    rows_processed : int = None\n",
    "    begin_time : dt.datetime = None\n",
    "    end_time : dt.datetime = None\n",
    "\n",
    "    @classmethod\n",
    "    def _from_json(cls, obj: dict):\n",
    "        return  cls(\n",
    "            id=obj.get('actionId'),\n",
    "            type = obj.get('type'),\n",
    "            is_success = obj.get('wasSuccessful'),\n",
    "            begin_time = obj.get('beginTime', None),\n",
    "            end_time = obj.get('endTime', None),\n",
    "            rows_processed =  obj.get('rowsProcessed', None),\n",
    "        )\n"
   ]
  },
  {
   "cell_type": "code",
   "execution_count": null,
   "metadata": {},
   "outputs": [
    {
     "data": {
      "text/plain": [
       "[DomoDataflow_ActionResult(id='8edc3d78-3586-47a8-9775-c7b146a50d19', type='PublishToVault', depends_on=None, name=None, datasource_id=None, sql=None, is_success=True, rows_processed=1816, begin_time=1701757021487, end_time=1701757022754),\n",
       " DomoDataflow_ActionResult(id='c176aa53-122a-4a2e-8b6f-41ca4a72d67c', type='GenerateTableAction', depends_on=None, name=None, datasource_id=None, sql=None, is_success=True, rows_processed=909, begin_time=1701757020983, end_time=1701757021100),\n",
       " DomoDataflow_ActionResult(id='241025d7-3cca-4369-b7c0-b3264277c0e1', type='DataHubManifestLoaderAction', depends_on=None, name=None, datasource_id=None, sql=None, is_success=True, rows_processed=909, begin_time=1701757015894, end_time=1701757020972),\n",
       " DomoDataflow_ActionResult(id='ac9f630d-d865-4925-b955-4316e227229a', type='GenerateTableAction', depends_on=None, name=None, datasource_id=None, sql=None, is_success=True, rows_processed=1816, begin_time=1701757021100, end_time=1701757021487)]"
      ]
     },
     "execution_count": null,
     "metadata": {},
     "output_type": "execute_result"
    }
   ],
   "source": [
    "import os\n",
    "import pandas as pd\n",
    "\n",
    "token_auth = dmda.DomoTokenAuth(\n",
    "    domo_instance=\"domo-community\",\n",
    "    domo_access_token=os.environ[\"DOMO_DOJO_ACCESS_TOKEN\"],\n",
    ")\n",
    "\n",
    "res = await dataflow_routes.get_dataflow_execution_by_id(\n",
    "    dataflow_id=70, execution_id=433238, auth=token_auth\n",
    ")\n",
    "\n",
    "action_ls = res.response['actionResults']\n",
    "\n",
    "[DomoDataflow_ActionResult._from_json(action_obj) for action_obj in action_ls]"
   ]
  },
  {
   "cell_type": "code",
   "execution_count": null,
   "metadata": {},
   "outputs": [],
   "source": [
    "# | hide\n",
    "import nbdev\n",
    "\n",
    "nbdev.nbdev_export()"
   ]
  }
 ],
 "metadata": {
  "jupytext": {
   "split_at_heading": true
  },
  "kernelspec": {
   "display_name": "python3",
   "language": "python",
   "name": "python3"
  }
 },
 "nbformat": 4,
 "nbformat_minor": 4
}
