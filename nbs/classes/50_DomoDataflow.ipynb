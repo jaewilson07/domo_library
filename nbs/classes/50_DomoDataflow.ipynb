{
 "cells": [
  {
   "cell_type": "raw",
   "metadata": {},
   "source": [
    "---\n",
    "description: a class based approach to interacting with dataflows\n",
    "output-file: dataflow_class.html\n",
    "title: Dataflow\n",
    "---"
   ]
  },
  {
   "cell_type": "code",
   "execution_count": 1,
   "metadata": {},
   "outputs": [],
   "source": [
    "# | default_exp classes.DomoDataflow"
   ]
  },
  {
   "cell_type": "code",
   "execution_count": 2,
   "metadata": {},
   "outputs": [],
   "source": [
    "# | exporti\n",
    "from fastcore.basics import patch_to\n",
    "\n",
    "from enum import Enum\n",
    "from dataclasses import dataclass, field\n",
    "\n",
    "import domolibrary.utils.DictDot as util_dd\n",
    "import domolibrary.client.DomoAuth as dmda\n",
    "import domolibrary.client.DomoError as de\n",
    "import domolibrary.routes.dataflow as dataflow_routes"
   ]
  },
  {
   "cell_type": "code",
   "execution_count": 3,
   "metadata": {},
   "outputs": [],
   "source": [
    "# | exporti\n",
    "\n",
    "\n",
    "class DomoDataflow_Action_Type(Enum):\n",
    "    LoadFromVault = \"LoadFromVault\"\n",
    "    PublishToVault = \"PublishToVault\"\n",
    "    GenerateTableAction = \"GenerateTableAction\"\n",
    "\n",
    "\n",
    "@dataclass\n",
    "class DomoDataflow_Action:\n",
    "    type: str\n",
    "    id: str\n",
    "    name: str\n",
    "    data_source_id: str\n",
    "    sql: str\n",
    "\n",
    "    @classmethod\n",
    "    def _from_obj(cls, obj: dict):\n",
    "        dd = obj\n",
    "        if isinstance(dd, dict):\n",
    "            dd = util_dd.DictDot(obj)\n",
    "\n",
    "        tbl_name = dd.dataSource.name if dd.dataSource else None\n",
    "        ds_id = dd.dataSource.guid if dd.dataSource else None\n",
    "\n",
    "        return cls(\n",
    "            type=dd.type,\n",
    "            id=dd.id,\n",
    "            name=dd.name or dd.targetTableName or dd.tableName or tbl_name,\n",
    "            data_source_id=dd.dataSourceId or ds_id,\n",
    "            sql=dd.selectStatement or dd.query,\n",
    "        )"
   ]
  },
  {
   "attachments": {},
   "cell_type": "markdown",
   "metadata": {},
   "source": [
    "#### sample implementation of DataFlow_Action\n",
    "\n",
    "Note: this list of properties that can be attached to `DomoDataflow_Action` is by no means comprehensive. To capture more data from the API, simply add properties to the class and extend the `DomoDataflow_Action._from_obj` private method.\n"
   ]
  },
  {
   "cell_type": "code",
   "execution_count": 4,
   "metadata": {},
   "outputs": [
    {
     "data": {
      "text/plain": [
       "[{'type': 'LoadFromVault',\n",
       "  'id': '241025d7-3cca-4369-b7c0-b3264277c0e1',\n",
       "  'name': 'domostats_people',\n",
       "  'data_source_id': '241025d7-3cca-4369-b7c0-b3264277c0e1',\n",
       "  'sql': None},\n",
       " {'type': 'GenerateTableAction',\n",
       "  'id': 'c176aa53-122a-4a2e-8b6f-41ca4a72d67c',\n",
       "  'name': 't_1',\n",
       "  'data_source_id': None,\n",
       "  'sql': 'SELECT\\n`Display Name`,\\n`User ID`\\n, @row := @row+1 as id\\n, @isReset := case when @iter = @rowCounter then 1 else 0 end isReset\\n, @group := @isReset + @group   as rowGroup\\n, @iter := case when @isReset = 1 then 1 else @iter + 1 end iter\\n, @rowCounter := case when @isReset = 1 then FLOOR( RAND() * (7-3) + 3) else @rowCounter end numChildren\\n\\n\\nfrom `domostats_people` p\\n\\n, (select @row:= 0,@rowCounter:= 1, @iter := 1, @isReset := 0 , @group := 0) r'},\n",
       " {'type': 'GenerateTableAction',\n",
       "  'id': 'ac9f630d-d865-4925-b955-4316e227229a',\n",
       "  'name': 'reportsto',\n",
       "  'data_source_id': None,\n",
       "  'sql': \"\\nselect  b.`User ID` as userID , 'reportsTo' as Action , a.`User ID` as bodyID\\n\\nfrom t_1 a \\n\\njoin t_1 b \\n\\non a.id = b.`rowGroup`\\nwhere a.`User ID` <> b.`User ID`\\n\\nUNION\\n\\nselect  b.`User ID` as userID , 'directReports' as Action , a.`User ID` as bodyID\\n\\nfrom t_1 a \\n\\njoin t_1 b \\n\\non b.id = a.`rowGroup`\\n\\nwhere a.`User ID` <> b.`User ID`\\n\\n\"},\n",
       " {'type': 'PublishToVault',\n",
       "  'id': '8edc3d78-3586-47a8-9775-c7b146a50d19',\n",
       "  'name': 'domoStats_people_reports',\n",
       "  'data_source_id': 'd9257748-c181-496e-8f9a-016ee99b4a14',\n",
       "  'sql': 'select * from `reportsto`'}]"
      ]
     },
     "execution_count": 4,
     "metadata": {},
     "output_type": "execute_result"
    }
   ],
   "source": [
    "import os\n",
    "import pandas as pd\n",
    "\n",
    "token_auth = dmda.DomoTokenAuth(\n",
    "    domo_instance=\"domo-community\",\n",
    "    domo_access_token=os.environ[\"DOMO_DOJO_ACCESS_TOKEN\"],\n",
    ")\n",
    "\n",
    "res = await dataflow_routes.get_dataflow_by_id(dataflow_id=70, auth=token_auth)\n",
    "\n",
    "[\n",
    "    DomoDataflow_Action._from_obj(action).__dict__\n",
    "    for action in res.response.get(\"actions\")\n",
    "]"
   ]
  },
  {
   "cell_type": "code",
   "execution_count": 5,
   "metadata": {},
   "outputs": [],
   "source": [
    "# | export\n",
    "@dataclass\n",
    "class DomoDataflow:\n",
    "    id: str\n",
    "    name: str = None\n",
    "    auth: dmda.DomoAuth = field(default=None)\n",
    "    owner: str = None\n",
    "    description: str = None\n",
    "    tags: list[str] = None\n",
    "    actions: list[DomoDataflow_Action] = None"
   ]
  },
  {
   "cell_type": "code",
   "execution_count": 6,
   "metadata": {},
   "outputs": [],
   "source": [
    "# | exporti\n",
    "@patch_to(DomoDataflow, cls_method=True)\n",
    "async def get_from_id(\n",
    "    cls: DomoDataflow,\n",
    "    dataflow_id: int,\n",
    "    auth: dmda.DomoAuth = None,\n",
    "    debug_api: bool = False,\n",
    "    return_raw: bool = False,\n",
    "):\n",
    "    res = await dataflow_routes.get_dataflow_by_id(\n",
    "        auth=auth, dataflow_id=dataflow_id, debug_api=debug_api\n",
    "    )\n",
    "\n",
    "    if return_raw:\n",
    "        return res\n",
    "\n",
    "    if not res.is_success:\n",
    "        return None\n",
    "\n",
    "    dd = util_dd.DictDot(res.response)\n",
    "    domo_dataflow = cls(\n",
    "        auth=auth,\n",
    "        id=dd.id,\n",
    "        name=dd.name,\n",
    "        description=dd.description,\n",
    "        owner=dd.owner,\n",
    "        tags=dd.tags,\n",
    "    )\n",
    "\n",
    "    if dd.actions:\n",
    "        domo_dataflow.actions = [\n",
    "            DomoDataflow_Action._from_obj(action) for action in dd.actions\n",
    "        ]\n",
    "\n",
    "    return domo_dataflow"
   ]
  },
  {
   "attachments": {},
   "cell_type": "markdown",
   "metadata": {},
   "source": [
    "#### sample implementation of get_from_id\n"
   ]
  },
  {
   "cell_type": "code",
   "execution_count": 7,
   "metadata": {},
   "outputs": [
    {
     "data": {
      "text/plain": [
       "DomoDataflow(id=70, name='DomoStats - people - reports', auth=DomoTokenAuth(domo_instance='domo-community', token_name='token_auth', is_valid_token=True, url_manual_login='https://domo-community.domo.com/auth/index?domoManualLogin=true'), owner=None, description=None, tags=None, actions=[DomoDataflow_Action(type='LoadFromVault', id='241025d7-3cca-4369-b7c0-b3264277c0e1', name='domostats_people', data_source_id='241025d7-3cca-4369-b7c0-b3264277c0e1', sql=None), DomoDataflow_Action(type='GenerateTableAction', id='c176aa53-122a-4a2e-8b6f-41ca4a72d67c', name='t_1', data_source_id=None, sql='SELECT\\n`Display Name`,\\n`User ID`\\n, @row := @row+1 as id\\n, @isReset := case when @iter = @rowCounter then 1 else 0 end isReset\\n, @group := @isReset + @group   as rowGroup\\n, @iter := case when @isReset = 1 then 1 else @iter + 1 end iter\\n, @rowCounter := case when @isReset = 1 then FLOOR( RAND() * (7-3) + 3) else @rowCounter end numChildren\\n\\n\\nfrom `domostats_people` p\\n\\n, (select @row:= 0,@rowCounter:= 1, @iter := 1, @isReset := 0 , @group := 0) r'), DomoDataflow_Action(type='GenerateTableAction', id='ac9f630d-d865-4925-b955-4316e227229a', name='reportsto', data_source_id=None, sql=\"\\nselect  b.`User ID` as userID , 'reportsTo' as Action , a.`User ID` as bodyID\\n\\nfrom t_1 a \\n\\njoin t_1 b \\n\\non a.id = b.`rowGroup`\\nwhere a.`User ID` <> b.`User ID`\\n\\nUNION\\n\\nselect  b.`User ID` as userID , 'directReports' as Action , a.`User ID` as bodyID\\n\\nfrom t_1 a \\n\\njoin t_1 b \\n\\non b.id = a.`rowGroup`\\n\\nwhere a.`User ID` <> b.`User ID`\\n\\n\"), DomoDataflow_Action(type='PublishToVault', id='8edc3d78-3586-47a8-9775-c7b146a50d19', name='domoStats_people_reports', data_source_id='d9257748-c181-496e-8f9a-016ee99b4a14', sql='select * from `reportsto`')])"
      ]
     },
     "execution_count": 7,
     "metadata": {},
     "output_type": "execute_result"
    }
   ],
   "source": [
    "import os\n",
    "\n",
    "token_auth = dmda.DomoTokenAuth(\n",
    "    domo_instance=\"domo-community\",\n",
    "    domo_access_token=os.environ[\"DOMO_DOJO_ACCESS_TOKEN\"],\n",
    ")\n",
    "\n",
    "await DomoDataflow.get_from_id(dataflow_id=70, auth=token_auth)"
   ]
  },
  {
   "cell_type": "code",
   "execution_count": 8,
   "metadata": {},
   "outputs": [],
   "source": [
    "# | exporti\n",
    "@patch_to(DomoDataflow)\n",
    "async def execute(\n",
    "    self: DomoDataflow, auth: dmda.DomoAuth = None, debug_api: bool = False\n",
    "):\n",
    "    return await dataflow_routes.execute_dataflow(\n",
    "        auth=auth or self.auth, dataflow_id=self.id, debug_api=debug_api\n",
    "    )"
   ]
  },
  {
   "attachments": {},
   "cell_type": "markdown",
   "metadata": {},
   "source": [
    "#### sample execute_dataflow\n"
   ]
  },
  {
   "cell_type": "code",
   "execution_count": 9,
   "metadata": {},
   "outputs": [
    {
     "data": {
      "text/plain": [
       "ResponseGetData(status=200, response={'id': 345995, 'onboardFlowId': 70, 'previewRows': 0, 'dapDataFlowExecutionId': '29053f2b-840e-4394-bf96-4bd98c4635ac', 'beginTime': 1689697414175, 'lastUpdated': 1689697415039, 'state': 'CREATED', 'activationType': 'MANUAL', 'executionEngine': {'platform': 'K8S', 'engine': 'MYSQL_SQL_ENGINE'}, 'dataProcessor': 'MYSQL', 'dataFlowVersion': 262}, is_success=True)"
      ]
     },
     "execution_count": 9,
     "metadata": {},
     "output_type": "execute_result"
    }
   ],
   "source": [
    "import os\n",
    "\n",
    "token_auth = dmda.DomoTokenAuth(\n",
    "    domo_instance=\"domo-community\",\n",
    "    domo_access_token=os.environ[\"DOMO_DOJO_ACCESS_TOKEN\"],\n",
    ")\n",
    "\n",
    "domo_dataflow = DomoDataflow(id=70, auth=token_auth)\n",
    "\n",
    "await domo_dataflow.execute()"
   ]
  },
  {
   "cell_type": "code",
   "execution_count": 10,
   "metadata": {},
   "outputs": [],
   "source": [
    "# | hide\n",
    "import nbdev\n",
    "\n",
    "nbdev.nbdev_export()"
   ]
  }
 ],
 "metadata": {
  "jupytext": {
   "split_at_heading": true
  },
  "kernelspec": {
   "display_name": "python3",
   "language": "python",
   "name": "python3"
  },
  "language_info": {
   "codemirror_mode": {
    "name": "ipython",
    "version": 3
   },
   "file_extension": ".py",
   "mimetype": "text/x-python",
   "name": "python",
   "nbconvert_exporter": "python",
   "pygments_lexer": "ipython3",
   "version": "3.10.4"
  }
 },
 "nbformat": 4,
 "nbformat_minor": 4
}
