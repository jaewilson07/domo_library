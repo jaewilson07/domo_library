{
 "cells": [
  {
   "cell_type": "raw",
   "metadata": {},
   "source": [
    "---\n",
    "description: a class based approach to interacting with dataflows\n",
    "output-file: dataflow_class.html\n",
    "title: Dataflow\n",
    "---"
   ]
  },
  {
   "cell_type": "code",
   "execution_count": null,
   "metadata": {},
   "outputs": [],
   "source": [
    "# | default_exp classes.DomoDataflow"
   ]
  },
  {
   "cell_type": "code",
   "execution_count": null,
   "metadata": {},
   "outputs": [],
   "source": [
    "#| exporti\n",
    "from __future__ import annotations"
   ]
  },
  {
   "cell_type": "code",
   "execution_count": null,
   "metadata": {},
   "outputs": [],
   "source": [
    "# | exporti\n",
    "\n",
    "from dataclasses import dataclass, field\n",
    "import httpx\n",
    "\n",
    "import domolibrary.utils.DictDot as util_dd\n",
    "\n",
    "import domolibrary.client.DomoAuth as dmda\n",
    "import domolibrary.routes.dataflow as dataflow_routes\n",
    "\n",
    "from nbdev.showdoc import patch_to\n",
    "\n"
   ]
  },
  {
   "cell_type": "code",
   "execution_count": null,
   "metadata": {},
   "outputs": [],
   "source": [
    "#| export\n",
    "from domolibrary.classes.DomoDataflow_Action import DomoDataflow_Action\n",
    "from domolibrary.classes.DomoDataflow_History import DomoDataflow_History, DomoDataflow_ActionResult"
   ]
  },
  {
   "cell_type": "code",
   "execution_count": null,
   "metadata": {},
   "outputs": [],
   "source": [
    "#| hide\n",
    "from nbdev.showdoc import show_doc"
   ]
  },
  {
   "cell_type": "code",
   "execution_count": null,
   "metadata": {},
   "outputs": [],
   "source": [
    "# | export\n",
    "@dataclass\n",
    "class DomoDataflow:\n",
    "    id: str\n",
    "    name: str = None\n",
    "    auth: dmda.DomoAuth = field(default=None)\n",
    "    owner: str = None\n",
    "    description: str = None\n",
    "    tags: list[str] = None\n",
    "    actions: list[DomoDataflow_Action] = None\n",
    "    \n",
    "    history : DomoDataflow_History = None # class for managing the history of a dataflow\n",
    "\n",
    "    def __post_init__(self):\n",
    "        self.history = DomoDataflow_History(dataflow = self, dataflow_id = self. id, auth = self.auth)"
   ]
  },
  {
   "cell_type": "code",
   "execution_count": null,
   "metadata": {},
   "outputs": [],
   "source": [
    "# | exporti\n",
    "@patch_to(DomoDataflow, cls_method=True)\n",
    "async def get_from_id(\n",
    "    cls: DomoDataflow,\n",
    "    dataflow_id: int,\n",
    "    auth: dmda.DomoAuth = None,\n",
    "    return_raw: bool = False,\n",
    "    session: httpx.AsyncClient = None,\n",
    "    debug_api: bool = False,\n",
    "    debug_num_stacks_to_drop=2,\n",
    "):\n",
    "    res = await dataflow_routes.get_dataflow_by_id(\n",
    "        auth=auth,\n",
    "        dataflow_id=dataflow_id,\n",
    "        debug_api=debug_api,\n",
    "        debug_num_stacks_to_drop=debug_num_stacks_to_drop,\n",
    "        parent_class=cls.__name__,\n",
    "        session=session,\n",
    "    )\n",
    "\n",
    "    if return_raw:\n",
    "        return res\n",
    "\n",
    "    if not res.is_success:\n",
    "        return None\n",
    "\n",
    "    dd = util_dd.DictDot(res.response)\n",
    "\n",
    "    domo_dataflow = cls(\n",
    "        auth=auth,\n",
    "        id=dd.id,\n",
    "        name=dd.name,\n",
    "        description=dd.description,\n",
    "        owner=dd.owner,\n",
    "        tags=dd.tags,\n",
    "    )\n",
    "\n",
    "    if dd.actions:\n",
    "        domo_dataflow.actions = [\n",
    "            DomoDataflow_Action._from_json(action) for action in dd.actions\n",
    "        ]\n",
    "\n",
    "    return domo_dataflow"
   ]
  },
  {
   "attachments": {},
   "cell_type": "markdown",
   "metadata": {},
   "source": [
    "#### sample implementation of get_from_id\n"
   ]
  },
  {
   "cell_type": "code",
   "execution_count": null,
   "metadata": {},
   "outputs": [
    {
     "data": {
      "text/plain": [
       "DomoDataflow(id=70, name='DomoStats - people - reports', auth=DomoTokenAuth(domo_instance='domo-community', token_name='token_auth', is_valid_token=True, url_manual_login='https://domo-community.domo.com/auth/index?domoManualLogin=true'), owner=None, description=None, tags=None, actions=[DomoDataflow_Action(id='241025d7-3cca-4369-b7c0-b3264277c0e1', type='LoadFromVault', depends_on=None, name='domostats_people', datasource_id='241025d7-3cca-4369-b7c0-b3264277c0e1', sql=None), DomoDataflow_Action(id='c176aa53-122a-4a2e-8b6f-41ca4a72d67c', type='GenerateTableAction', depends_on=['241025d7-3cca-4369-b7c0-b3264277c0e1'], name='t_1', datasource_id=None, sql='SELECT\\n`Display Name`,\\n`User ID`\\n, @row := @row+1 as id\\n, @isReset := case when @iter = @rowCounter then 1 else 0 end isReset\\n, @group := @isReset + @group   as rowGroup\\n, @iter := case when @isReset = 1 then 1 else @iter + 1 end iter\\n, @rowCounter := case when @isReset = 1 then FLOOR( RAND() * (7-3) + 3) else @rowCounter end numChildren\\n\\n\\nfrom `domostats_people` p\\n\\n, (select @row:= 0,@rowCounter:= 1, @iter := 1, @isReset := 0 , @group := 0) r'), DomoDataflow_Action(id='ac9f630d-d865-4925-b955-4316e227229a', type='GenerateTableAction', depends_on=['c176aa53-122a-4a2e-8b6f-41ca4a72d67c'], name='reportsto', datasource_id=None, sql=\"\\nselect  b.`User ID` as userID , 'reportsTo' as Action , a.`User ID` as bodyID\\n\\nfrom t_1 a \\n\\njoin t_1 b \\n\\non a.id = b.`rowGroup`\\nwhere a.`User ID` <> b.`User ID`\\n\\nUNION\\n\\nselect  b.`User ID` as userID , 'directReports' as Action , a.`User ID` as bodyID\\n\\nfrom t_1 a \\n\\njoin t_1 b \\n\\non b.id = a.`rowGroup`\\n\\nwhere a.`User ID` <> b.`User ID`\\n\\n\"), DomoDataflow_Action(id='8edc3d78-3586-47a8-9775-c7b146a50d19', type='PublishToVault', depends_on=['ac9f630d-d865-4925-b955-4316e227229a'], name='domoStats_people_reports', datasource_id='d9257748-c181-496e-8f9a-016ee99b4a14', sql='select * from `reportsto`')], history=DomoDataflow_History(auth=DomoTokenAuth(domo_instance='domo-community', token_name='token_auth', is_valid_token=True, url_manual_login='https://domo-community.domo.com/auth/index?domoManualLogin=true'), execution_history=None))"
      ]
     },
     "execution_count": null,
     "metadata": {},
     "output_type": "execute_result"
    }
   ],
   "source": [
    "import os\n",
    "\n",
    "token_auth = dmda.DomoTokenAuth(\n",
    "    domo_instance=\"domo-community\",\n",
    "    domo_access_token=os.environ[\"DOMO_DOJO_ACCESS_TOKEN\"],\n",
    ")\n",
    "\n",
    "await DomoDataflow.get_from_id(dataflow_id=70, auth=token_auth)"
   ]
  },
  {
   "cell_type": "markdown",
   "metadata": {},
   "source": [
    "#### sample retrieval that also interacts with dataflow history from `DomoDataflow_History`\n",
    "note will return actions history"
   ]
  },
  {
   "cell_type": "code",
   "execution_count": null,
   "metadata": {},
   "outputs": [
    {
     "data": {
      "text/plain": [
       "[DomoDataflow_History_Execution(id=435276, dataflow_id=70, dataflow_execution_id='6ada1dc7-2629-4164-a74b-752567a03ca5', dataflow_version=262, begin_time=datetime.datetime(2023, 12, 7, 17, 14, 6), end_time=datetime.datetime(2023, 12, 7, 17, 14, 42), last_updated=datetime.datetime(2023, 12, 7, 17, 14, 42), is_failed=False, state='SUCCESS', activation_type='MANUAL', data_processor='MYSQL', telemetry=None, execution_stats={'total_bytes_written': 98048, 'total_rows_read': 910, 'total_bytes_read': 291559, 'mean_download_rate_kbps': 51.796541011006006, 'total_rows_written': 1818}, action_results=[DomoDataflow_ActionResult(id='8edc3d78-3586-47a8-9775-c7b146a50d19', type='PublishToVault', depends_on=None, name=None, datasource_id=None, sql=None, is_success=True, rows_processed=1818, begin_time=1701969276108, end_time=1701969279328), DomoDataflow_ActionResult(id='c176aa53-122a-4a2e-8b6f-41ca4a72d67c', type='GenerateTableAction', depends_on=None, name=None, datasource_id=None, sql=None, is_success=True, rows_processed=910, begin_time=1701969275488, end_time=1701969275498), DomoDataflow_ActionResult(id='241025d7-3cca-4369-b7c0-b3264277c0e1', type='DataHubManifestLoaderAction', depends_on=None, name=None, datasource_id=None, sql=None, is_success=True, rows_processed=910, begin_time=1701969269979, end_time=1701969275476), DomoDataflow_ActionResult(id='ac9f630d-d865-4925-b955-4316e227229a', type='GenerateTableAction', depends_on=None, name=None, datasource_id=None, sql=None, is_success=True, rows_processed=1818, begin_time=1701969275499, end_time=1701969276098)]),\n",
       " DomoDataflow_History_Execution(id=435274, dataflow_id=70, dataflow_execution_id='9226f63b-9b6f-40bb-b555-c8853a730539', dataflow_version=262, begin_time=datetime.datetime(2023, 12, 7, 17, 13, 15), end_time=datetime.datetime(2023, 12, 7, 17, 13, 46), last_updated=datetime.datetime(2023, 12, 7, 17, 13, 46), is_failed=False, state='SUCCESS', activation_type='MANUAL', data_processor='MYSQL', telemetry=None, execution_stats={'total_bytes_written': 98076, 'total_rows_read': 910, 'total_bytes_read': 291559, 'mean_download_rate_kbps': 59.40446191059879, 'total_rows_written': 1818}, action_results=[DomoDataflow_ActionResult(id='8edc3d78-3586-47a8-9775-c7b146a50d19', type='PublishToVault', depends_on=None, name=None, datasource_id=None, sql=None, is_success=True, rows_processed=1818, begin_time=1701969222711, end_time=1701969224849), DomoDataflow_ActionResult(id='c176aa53-122a-4a2e-8b6f-41ca4a72d67c', type='GenerateTableAction', depends_on=None, name=None, datasource_id=None, sql=None, is_success=True, rows_processed=910, begin_time=1701969222073, end_time=1701969222284), DomoDataflow_ActionResult(id='241025d7-3cca-4369-b7c0-b3264277c0e1', type='DataHubManifestLoaderAction', depends_on=None, name=None, datasource_id=None, sql=None, is_success=True, rows_processed=910, begin_time=1701969217193, end_time=1701969221986), DomoDataflow_ActionResult(id='ac9f630d-d865-4925-b955-4316e227229a', type='GenerateTableAction', depends_on=None, name=None, datasource_id=None, sql=None, is_success=True, rows_processed=1818, begin_time=1701969222284, end_time=1701969222710)]),\n",
       " DomoDataflow_History_Execution(id=435270, dataflow_id=70, dataflow_execution_id='90076a67-3ab3-448c-a0b5-6c44312878a6', dataflow_version=262, begin_time=datetime.datetime(2023, 12, 7, 17, 11, 10), end_time=datetime.datetime(2023, 12, 7, 17, 11, 42), last_updated=datetime.datetime(2023, 12, 7, 17, 11, 42), is_failed=False, state='SUCCESS', activation_type='MANUAL', data_processor='MYSQL', telemetry=None, execution_stats={'total_bytes_written': 98104, 'total_rows_read': 910, 'total_bytes_read': 291559, 'mean_download_rate_kbps': 66.44704455950992, 'total_rows_written': 1818}, action_results=[DomoDataflow_ActionResult(id='8edc3d78-3586-47a8-9775-c7b146a50d19', type='PublishToVault', depends_on=None, name=None, datasource_id=None, sql=None, is_success=True, rows_processed=1818, begin_time=1701969098896, end_time=1701969100629), DomoDataflow_ActionResult(id='c176aa53-122a-4a2e-8b6f-41ca4a72d67c', type='GenerateTableAction', depends_on=None, name=None, datasource_id=None, sql=None, is_success=True, rows_processed=910, begin_time=1701969098281, end_time=1701969098399), DomoDataflow_ActionResult(id='241025d7-3cca-4369-b7c0-b3264277c0e1', type='DataHubManifestLoaderAction', depends_on=None, name=None, datasource_id=None, sql=None, is_success=True, rows_processed=910, begin_time=1701969093981, end_time=1701969098266), DomoDataflow_ActionResult(id='ac9f630d-d865-4925-b955-4316e227229a', type='GenerateTableAction', depends_on=None, name=None, datasource_id=None, sql=None, is_success=True, rows_processed=1818, begin_time=1701969098399, end_time=1701969098895)]),\n",
       " DomoDataflow_History_Execution(id=435265, dataflow_id=70, dataflow_execution_id='ccba2624-2cd8-4532-a40f-637d18c1717b', dataflow_version=262, begin_time=datetime.datetime(2023, 12, 7, 17, 7, 36), end_time=datetime.datetime(2023, 12, 7, 17, 8, 6), last_updated=datetime.datetime(2023, 12, 7, 17, 8, 6), is_failed=False, state='SUCCESS', activation_type='MANUAL', data_processor='MYSQL', telemetry=None, execution_stats={'total_bytes_written': 98090, 'total_rows_read': 910, 'total_bytes_read': 291559, 'mean_download_rate_kbps': 67.50250970542912, 'total_rows_written': 1818}, action_results=[DomoDataflow_ActionResult(id='8edc3d78-3586-47a8-9775-c7b146a50d19', type='PublishToVault', depends_on=None, name=None, datasource_id=None, sql=None, is_success=True, rows_processed=1818, begin_time=1701968883790, end_time=1701968885311), DomoDataflow_ActionResult(id='c176aa53-122a-4a2e-8b6f-41ca4a72d67c', type='GenerateTableAction', depends_on=None, name=None, datasource_id=None, sql=None, is_success=True, rows_processed=910, begin_time=1701968883169, end_time=1701968883280), DomoDataflow_ActionResult(id='241025d7-3cca-4369-b7c0-b3264277c0e1', type='DataHubManifestLoaderAction', depends_on=None, name=None, datasource_id=None, sql=None, is_success=True, rows_processed=910, begin_time=1701968878871, end_time=1701968883089), DomoDataflow_ActionResult(id='ac9f630d-d865-4925-b955-4316e227229a', type='GenerateTableAction', depends_on=None, name=None, datasource_id=None, sql=None, is_success=True, rows_processed=1818, begin_time=1701968883280, end_time=1701968883790)]),\n",
       " DomoDataflow_History_Execution(id=435214, dataflow_id=70, dataflow_execution_id='07a7f1f2-45cd-456a-af8e-f6b50efb9295', dataflow_version=262, begin_time=datetime.datetime(2023, 12, 7, 15, 47, 26), end_time=datetime.datetime(2023, 12, 7, 15, 48), last_updated=datetime.datetime(2023, 12, 7, 15, 48), is_failed=False, state='SUCCESS', activation_type='MANUAL', data_processor='MYSQL', telemetry=None, execution_stats={'total_bytes_written': 98102, 'total_rows_read': 910, 'total_bytes_read': 291559, 'mean_download_rate_kbps': 63.370929431894055, 'total_rows_written': 1818}, action_results=[DomoDataflow_ActionResult(id='8edc3d78-3586-47a8-9775-c7b146a50d19', type='PublishToVault', depends_on=None, name=None, datasource_id=None, sql=None, is_success=True, rows_processed=1818, begin_time=1701964077389, end_time=1701964078769), DomoDataflow_ActionResult(id='c176aa53-122a-4a2e-8b6f-41ca4a72d67c', type='GenerateTableAction', depends_on=None, name=None, datasource_id=None, sql=None, is_success=True, rows_processed=910, begin_time=1701964076962, end_time=1701964077062), DomoDataflow_ActionResult(id='241025d7-3cca-4369-b7c0-b3264277c0e1', type='DataHubManifestLoaderAction', depends_on=None, name=None, datasource_id=None, sql=None, is_success=True, rows_processed=910, begin_time=1701964072460, end_time=1701964076953), DomoDataflow_ActionResult(id='ac9f630d-d865-4925-b955-4316e227229a', type='GenerateTableAction', depends_on=None, name=None, datasource_id=None, sql=None, is_success=True, rows_processed=1818, begin_time=1701964077062, end_time=1701964077389)])]"
      ]
     },
     "execution_count": null,
     "metadata": {},
     "output_type": "execute_result"
    }
   ],
   "source": [
    "import os\n",
    "\n",
    "token_auth = dmda.DomoTokenAuth(\n",
    "    domo_instance=\"domo-community\",\n",
    "    domo_access_token=os.environ[\"DOMO_DOJO_ACCESS_TOKEN\"],\n",
    ")\n",
    "\n",
    "domo_dataflow = await DomoDataflow.get_from_id(dataflow_id=70, auth=token_auth)\n",
    "await domo_dataflow.history.get_execution_history(maximum = 5)"
   ]
  },
  {
   "cell_type": "code",
   "execution_count": null,
   "metadata": {},
   "outputs": [],
   "source": [
    "# | exporti\n",
    "@patch_to(DomoDataflow)\n",
    "async def execute(\n",
    "    self: DomoDataflow,\n",
    "    auth: dmda.DomoAuth = None,\n",
    "    debug_api: bool = False,\n",
    "    debug_num_stacks_to_drop=2,\n",
    "):\n",
    "    return await dataflow_routes.execute_dataflow(\n",
    "        auth=auth or self.auth,\n",
    "        dataflow_id=self.id,\n",
    "        parent_class=self.__class__.__name__,\n",
    "        debug_api=debug_api,\n",
    "        debug_num_stacks_to_drop=debug_num_stacks_to_drop,\n",
    "    )"
   ]
  },
  {
   "attachments": {},
   "cell_type": "markdown",
   "metadata": {},
   "source": [
    "#### sample execute_dataflow\n"
   ]
  },
  {
   "cell_type": "code",
   "execution_count": null,
   "metadata": {},
   "outputs": [
    {
     "data": {
      "text/plain": [
       "ResponseGetData(status=200, response={'id': 435277, 'onboardFlowId': 70, 'previewRows': 0, 'dapDataFlowExecutionId': '629431b9-a742-432d-afb7-1863a1769e2a', 'beginTime': 1701969342374, 'lastUpdated': 1701969343966, 'state': 'CREATED', 'activationType': 'MANUAL', 'executionEngine': {'platform': 'K8S', 'engine': 'MYSQL_SQL_ENGINE'}, 'dataProcessor': 'MYSQL', 'dataFlowVersion': 262}, is_success=True, parent_class=None)"
      ]
     },
     "execution_count": null,
     "metadata": {},
     "output_type": "execute_result"
    }
   ],
   "source": [
    "import os\n",
    "\n",
    "token_auth = dmda.DomoTokenAuth(\n",
    "    domo_instance=\"domo-community\",\n",
    "    domo_access_token=os.environ[\"DOMO_DOJO_ACCESS_TOKEN\"],\n",
    ")\n",
    "\n",
    "domo_dataflow = DomoDataflow(id=70, auth=token_auth)\n",
    "\n",
    "await domo_dataflow.execute()"
   ]
  },
  {
   "cell_type": "code",
   "execution_count": null,
   "metadata": {},
   "outputs": [],
   "source": [
    "# | hide\n",
    "import nbdev\n",
    "\n",
    "nbdev.nbdev_export()"
   ]
  }
 ],
 "metadata": {
  "jupytext": {
   "split_at_heading": true
  },
  "kernelspec": {
   "display_name": "python3",
   "language": "python",
   "name": "python3"
  }
 },
 "nbformat": 4,
 "nbformat_minor": 4
}
