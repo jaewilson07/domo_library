{
 "cells": [
  {
   "cell_type": "raw",
   "metadata": {},
   "source": [
    "---\n",
    "description: a class based approach to interacting with dataflows\n",
    "output-file: dataflow_class.html\n",
    "title: Dataflow\n",
    "---"
   ]
  },
  {
   "cell_type": "code",
   "execution_count": 1,
   "metadata": {},
   "outputs": [],
   "source": [
    "# | default_exp classes.DomoDataflow"
   ]
  },
  {
   "cell_type": "code",
   "execution_count": 2,
   "metadata": {},
   "outputs": [],
   "source": [
    "# | exporti\n",
    "from __future__ import annotations"
   ]
  },
  {
   "cell_type": "code",
   "execution_count": 3,
   "metadata": {},
   "outputs": [],
   "source": [
    "# | exporti\n",
    "\n",
    "from dataclasses import dataclass, field\n",
    "from typing import List\n",
    "\n",
    "import domolibrary.utils.DictDot as util_dd\n",
    "import domolibrary.utils.chunk_execution as ce\n",
    "\n",
    "import domolibrary.client.DomoAuth as dmda\n",
    "import domolibrary.routes.dataflow as dataflow_routes\n",
    "\n",
    "import httpx\n",
    "from nbdev.showdoc import patch_to"
   ]
  },
  {
   "cell_type": "code",
   "execution_count": 4,
   "metadata": {},
   "outputs": [],
   "source": [
    "# | export\n",
    "from domolibrary.classes.DomoDataflow_Action import DomoDataflow_Action\n",
    "from domolibrary.classes.DomoDataflow_History import (\n",
    "    DomoDataflow_History,\n",
    "    DomoDataflow_ActionResult,\n",
    ")"
   ]
  },
  {
   "cell_type": "code",
   "execution_count": 5,
   "metadata": {},
   "outputs": [],
   "source": [
    "# | hide\n",
    "import os\n",
    "\n",
    "from nbdev.showdoc import show_doc"
   ]
  },
  {
   "cell_type": "code",
   "execution_count": 6,
   "metadata": {},
   "outputs": [],
   "source": [
    "# | export\n",
    "@dataclass\n",
    "class DomoDataflow:\n",
    "    id: str\n",
    "    name: str = None\n",
    "    auth: dmda.DomoAuth = field(default=None, repr=False)\n",
    "    owner: str = None\n",
    "    description: str = None\n",
    "    tags: list[str] = None\n",
    "    actions: list[DomoDataflow_Action] = None\n",
    "\n",
    "    version_id: int = None\n",
    "    version_number: int = None\n",
    "    versions: List[dict] = None  # list of DomoDataflow Versions\n",
    "\n",
    "    history: DomoDataflow_History = None  # class for managing the history of a dataflow\n",
    "\n",
    "    def __post_init__(self):\n",
    "        self.history = DomoDataflow_History(\n",
    "            dataflow=self, dataflow_id=self.id, auth=self.auth\n",
    "        )\n",
    "\n",
    "    @classmethod\n",
    "    def _from_json(cls, obj, auth, version_id=None, version_number=None):\n",
    "        dd = util_dd.DictDot(obj)\n",
    "\n",
    "        domo_dataflow = cls(\n",
    "            auth=auth,\n",
    "            id=dd.id,\n",
    "            name=dd.name,\n",
    "            description=dd.description,\n",
    "            owner=dd.owner,\n",
    "            tags=dd.tags,\n",
    "            version_id=version_id,\n",
    "            version_number=version_number,\n",
    "        )\n",
    "\n",
    "        if dd.actions:\n",
    "            domo_dataflow.actions = [\n",
    "                DomoDataflow_Action._from_json(action) for action in dd.actions\n",
    "            ]\n",
    "\n",
    "            [\n",
    "                domo_action.get_parents(domo_dataflow.actions)\n",
    "                for domo_action in domo_dataflow.actions\n",
    "            ]\n",
    "\n",
    "        return domo_dataflow"
   ]
  },
  {
   "cell_type": "code",
   "execution_count": 7,
   "metadata": {},
   "outputs": [],
   "source": [
    "# | exporti\n",
    "@patch_to(DomoDataflow, cls_method=True)\n",
    "async def get_from_id(\n",
    "    cls: DomoDataflow,\n",
    "    dataflow_id: int,\n",
    "    auth: dmda.DomoAuth = None,\n",
    "    return_raw: bool = False,\n",
    "    session: httpx.AsyncClient = None,\n",
    "    debug_api: bool = False,\n",
    "    debug_num_stacks_to_drop=2,\n",
    "):\n",
    "    res = await dataflow_routes.get_dataflow_by_id(\n",
    "        auth=auth,\n",
    "        dataflow_id=dataflow_id,\n",
    "        debug_api=debug_api,\n",
    "        debug_num_stacks_to_drop=debug_num_stacks_to_drop,\n",
    "        parent_class=cls.__name__,\n",
    "        session=session,\n",
    "    )\n",
    "\n",
    "    if return_raw:\n",
    "        return res\n",
    "\n",
    "    if not res.is_success:\n",
    "        return None\n",
    "\n",
    "    return cls._from_json(res.response, auth=auth)"
   ]
  },
  {
   "attachments": {},
   "cell_type": "markdown",
   "metadata": {},
   "source": [
    "#### sample implementation of get_from_id\n"
   ]
  },
  {
   "cell_type": "code",
   "execution_count": 8,
   "metadata": {},
   "outputs": [
    {
     "name": "stdout",
     "output_type": "stream",
     "text": [
      "warning this token has not been validated by who_am_i, run get_auth_token first\n"
     ]
    },
    {
     "data": {
      "text/plain": [
       "DomoDataflow(id=70, name='DomoStats - people - reports', owner=None, description=None, tags=None, actions=[DomoDataflow_Action(id='241025d7-3cca-4369-b7c0-b3264277c0e1', type='LoadFromVault', name='domostats_people', datasource_id='241025d7-3cca-4369-b7c0-b3264277c0e1', sql=None, depends_on=None, parent_actions=None), DomoDataflow_Action(id='c176aa53-122a-4a2e-8b6f-41ca4a72d67c', type='GenerateTableAction', name='t_1', datasource_id=None, sql='SELECT\\n`Display Name`,\\n`User ID`\\n, @row := @row+1 as id\\n, @isReset := case when @iter = @rowCounter then 1 else 0 end isReset\\n, @group := @isReset + @group   as rowGroup\\n, @iter := case when @isReset = 1 then 1 else @iter + 1 end iter\\n, @rowCounter := case when @isReset = 1 then FLOOR( RAND() * (7-3) + 3) else @rowCounter end numChildren\\n\\n\\nfrom `domostats_people` p\\n\\n, (select @row:= 0,@rowCounter:= 1, @iter := 1, @isReset := 0 , @group := 0) r', depends_on=['241025d7-3cca-4369-b7c0-b3264277c0e1'], parent_actions=[DomoDataflow_Action(id='241025d7-3cca-4369-b7c0-b3264277c0e1', type='LoadFromVault', name='domostats_people', datasource_id='241025d7-3cca-4369-b7c0-b3264277c0e1', sql=None, depends_on=None, parent_actions=None)]), DomoDataflow_Action(id='ac9f630d-d865-4925-b955-4316e227229a', type='GenerateTableAction', name='reportsto', datasource_id=None, sql=\"\\nselect  b.`User ID` as userID , 'reportsTo' as Action , a.`User ID` as bodyID\\n\\nfrom t_1 a \\n\\njoin t_1 b \\n\\non a.id = b.`rowGroup`\\nwhere a.`User ID` <> b.`User ID`\\n\\nUNION\\n\\nselect  b.`User ID` as userID , 'directReports' as Action , a.`User ID` as bodyID\\n\\nfrom t_1 a \\n\\njoin t_1 b \\n\\non b.id = a.`rowGroup`\\n\\nwhere a.`User ID` <> b.`User ID`\\n\\n\", depends_on=['c176aa53-122a-4a2e-8b6f-41ca4a72d67c'], parent_actions=[DomoDataflow_Action(id='c176aa53-122a-4a2e-8b6f-41ca4a72d67c', type='GenerateTableAction', name='t_1', datasource_id=None, sql='SELECT\\n`Display Name`,\\n`User ID`\\n, @row := @row+1 as id\\n, @isReset := case when @iter = @rowCounter then 1 else 0 end isReset\\n, @group := @isReset + @group   as rowGroup\\n, @iter := case when @isReset = 1 then 1 else @iter + 1 end iter\\n, @rowCounter := case when @isReset = 1 then FLOOR( RAND() * (7-3) + 3) else @rowCounter end numChildren\\n\\n\\nfrom `domostats_people` p\\n\\n, (select @row:= 0,@rowCounter:= 1, @iter := 1, @isReset := 0 , @group := 0) r', depends_on=['241025d7-3cca-4369-b7c0-b3264277c0e1'], parent_actions=[DomoDataflow_Action(id='241025d7-3cca-4369-b7c0-b3264277c0e1', type='LoadFromVault', name='domostats_people', datasource_id='241025d7-3cca-4369-b7c0-b3264277c0e1', sql=None, depends_on=None, parent_actions=None)])]), DomoDataflow_Action(id='8edc3d78-3586-47a8-9775-c7b146a50d19', type='PublishToVault', name='domoStats_people_reports', datasource_id='d9257748-c181-496e-8f9a-016ee99b4a14', sql='select * from `reportsto`', depends_on=['ac9f630d-d865-4925-b955-4316e227229a'], parent_actions=[DomoDataflow_Action(id='ac9f630d-d865-4925-b955-4316e227229a', type='GenerateTableAction', name='reportsto', datasource_id=None, sql=\"\\nselect  b.`User ID` as userID , 'reportsTo' as Action , a.`User ID` as bodyID\\n\\nfrom t_1 a \\n\\njoin t_1 b \\n\\non a.id = b.`rowGroup`\\nwhere a.`User ID` <> b.`User ID`\\n\\nUNION\\n\\nselect  b.`User ID` as userID , 'directReports' as Action , a.`User ID` as bodyID\\n\\nfrom t_1 a \\n\\njoin t_1 b \\n\\non b.id = a.`rowGroup`\\n\\nwhere a.`User ID` <> b.`User ID`\\n\\n\", depends_on=['c176aa53-122a-4a2e-8b6f-41ca4a72d67c'], parent_actions=[DomoDataflow_Action(id='c176aa53-122a-4a2e-8b6f-41ca4a72d67c', type='GenerateTableAction', name='t_1', datasource_id=None, sql='SELECT\\n`Display Name`,\\n`User ID`\\n, @row := @row+1 as id\\n, @isReset := case when @iter = @rowCounter then 1 else 0 end isReset\\n, @group := @isReset + @group   as rowGroup\\n, @iter := case when @isReset = 1 then 1 else @iter + 1 end iter\\n, @rowCounter := case when @isReset = 1 then FLOOR( RAND() * (7-3) + 3) else @rowCounter end numChildren\\n\\n\\nfrom `domostats_people` p\\n\\n, (select @row:= 0,@rowCounter:= 1, @iter := 1, @isReset := 0 , @group := 0) r', depends_on=['241025d7-3cca-4369-b7c0-b3264277c0e1'], parent_actions=[DomoDataflow_Action(id='241025d7-3cca-4369-b7c0-b3264277c0e1', type='LoadFromVault', name='domostats_people', datasource_id='241025d7-3cca-4369-b7c0-b3264277c0e1', sql=None, depends_on=None, parent_actions=None)])])])], version_id=None, version_number=None, versions=None, history=DomoDataflow_History(execution_history=None))"
      ]
     },
     "execution_count": 8,
     "metadata": {},
     "output_type": "execute_result"
    }
   ],
   "source": [
    "#| eval : false\n",
    "token_auth = dmda.DomoTokenAuth(\n",
    "    domo_instance=\"domo-community\",\n",
    "    domo_access_token=os.environ[\"DOMO_DOJO_ACCESS_TOKEN\"],\n",
    ")\n",
    "\n",
    "await DomoDataflow.get_from_id(dataflow_id=70, auth=token_auth)"
   ]
  },
  {
   "cell_type": "markdown",
   "metadata": {},
   "source": [
    "#### sample retrieval that also interacts with dataflow history from `DomoDataflow_History`\n",
    "\n",
    "note will return actions history\n"
   ]
  },
  {
   "cell_type": "code",
   "execution_count": 9,
   "metadata": {},
   "outputs": [
    {
     "name": "stdout",
     "output_type": "stream",
     "text": [
      "warning this token has not been validated by who_am_i, run get_auth_token first\n"
     ]
    },
    {
     "data": {
      "text/plain": [
       "[DomoDataflow_History_Execution(id=497905, dataflow_id=70, dataflow_execution_id='dae127f7-e7b8-4b9c-a36f-7b6c9a71b605', dataflow_version=262, begin_time=datetime.datetime(2024, 3, 23, 11, 20, 54), end_time=datetime.datetime(2024, 3, 23, 11, 21, 25), last_updated=datetime.datetime(2024, 3, 23, 11, 21, 25), is_failed=False, state='SUCCESS', activation_type='MANUAL', data_processor='MYSQL', telemetry=None, execution_stats={'total_bytes_written': 102918, 'total_rows_read': 955, 'total_bytes_read': 360657, 'mean_download_rate_kbps': 71.42650609663355, 'total_rows_written': 1908}, action_results=[DomoDataflow_ActionResult(id='8edc3d78-3586-47a8-9775-c7b146a50d19', type='PublishToVault', name=None, is_success=True, rows_processed=1908, begin_time=datetime.datetime(2024, 3, 23, 11, 21, 23, 215000), end_time=datetime.datetime(2024, 3, 23, 11, 21, 24, 225000), duration_in_sec=1.01), DomoDataflow_ActionResult(id='c176aa53-122a-4a2e-8b6f-41ca4a72d67c', type='GenerateTableAction', name=None, is_success=True, rows_processed=955, begin_time=datetime.datetime(2024, 3, 23, 11, 21, 22, 485000), end_time=datetime.datetime(2024, 3, 23, 11, 21, 22, 521000), duration_in_sec=0.036), DomoDataflow_ActionResult(id='241025d7-3cca-4369-b7c0-b3264277c0e1', type='DataHubManifestLoaderAction', name=None, is_success=True, rows_processed=955, begin_time=datetime.datetime(2024, 3, 23, 11, 21, 17, 486000), end_time=datetime.datetime(2024, 3, 23, 11, 21, 22, 417000), duration_in_sec=4.931), DomoDataflow_ActionResult(id='ac9f630d-d865-4925-b955-4316e227229a', type='GenerateTableAction', name=None, is_success=True, rows_processed=1908, begin_time=datetime.datetime(2024, 3, 23, 11, 21, 22, 521000), end_time=datetime.datetime(2024, 3, 23, 11, 21, 23, 215000), duration_in_sec=0.694)]),\n",
       " DomoDataflow_History_Execution(id=497904, dataflow_id=70, dataflow_execution_id='d5042f0f-a72a-49cc-9340-301bf077ac01', dataflow_version=262, begin_time=datetime.datetime(2024, 3, 23, 11, 20, 23), end_time=datetime.datetime(2024, 3, 23, 11, 20, 52), last_updated=datetime.datetime(2024, 3, 23, 11, 20, 52), is_failed=False, state='SUCCESS', activation_type='MANUAL', data_processor='MYSQL', telemetry=None, execution_stats={'total_bytes_written': 102950, 'total_rows_read': 955, 'total_bytes_read': 360657, 'mean_download_rate_kbps': 81.96511556027461, 'total_rows_written': 1908}, action_results=[DomoDataflow_ActionResult(id='8edc3d78-3586-47a8-9775-c7b146a50d19', type='PublishToVault', name=None, is_success=True, rows_processed=1908, begin_time=datetime.datetime(2024, 3, 23, 11, 20, 50, 878000), end_time=datetime.datetime(2024, 3, 23, 11, 20, 51, 734000), duration_in_sec=0.856), DomoDataflow_ActionResult(id='c176aa53-122a-4a2e-8b6f-41ca4a72d67c', type='GenerateTableAction', name=None, is_success=True, rows_processed=955, begin_time=datetime.datetime(2024, 3, 23, 11, 20, 50, 288000), end_time=datetime.datetime(2024, 3, 23, 11, 20, 50, 472000), duration_in_sec=0.184), DomoDataflow_ActionResult(id='241025d7-3cca-4369-b7c0-b3264277c0e1', type='DataHubManifestLoaderAction', name=None, is_success=True, rows_processed=955, begin_time=datetime.datetime(2024, 3, 23, 11, 20, 45, 979000), end_time=datetime.datetime(2024, 3, 23, 11, 20, 50, 276000), duration_in_sec=4.297), DomoDataflow_ActionResult(id='ac9f630d-d865-4925-b955-4316e227229a', type='GenerateTableAction', name=None, is_success=True, rows_processed=1908, begin_time=datetime.datetime(2024, 3, 23, 11, 20, 50, 482000), end_time=datetime.datetime(2024, 3, 23, 11, 20, 50, 878000), duration_in_sec=0.396)]),\n",
       " DomoDataflow_History_Execution(id=497888, dataflow_id=70, dataflow_execution_id='35a0e7aa-c93d-40ff-a3b9-f513bf3bd16d', dataflow_version=262, begin_time=datetime.datetime(2024, 3, 23, 10, 57, 13), end_time=datetime.datetime(2024, 3, 23, 10, 57, 45), last_updated=datetime.datetime(2024, 3, 23, 10, 57, 45), is_failed=False, state='SUCCESS', activation_type='MANUAL', data_processor='MYSQL', telemetry=None, execution_stats={'total_bytes_written': 102920, 'total_rows_read': 955, 'total_bytes_read': 360657, 'mean_download_rate_kbps': 73.498351745096, 'total_rows_written': 1908}, action_results=[DomoDataflow_ActionResult(id='8edc3d78-3586-47a8-9775-c7b146a50d19', type='PublishToVault', name=None, is_success=True, rows_processed=1908, begin_time=datetime.datetime(2024, 3, 23, 10, 57, 43, 375000), end_time=datetime.datetime(2024, 3, 23, 10, 57, 44, 293000), duration_in_sec=0.918), DomoDataflow_ActionResult(id='c176aa53-122a-4a2e-8b6f-41ca4a72d67c', type='GenerateTableAction', name=None, is_success=True, rows_processed=955, begin_time=datetime.datetime(2024, 3, 23, 10, 57, 42, 680000), end_time=datetime.datetime(2024, 3, 23, 10, 57, 42, 787000), duration_in_sec=0.107), DomoDataflow_ActionResult(id='241025d7-3cca-4369-b7c0-b3264277c0e1', type='DataHubManifestLoaderAction', name=None, is_success=True, rows_processed=955, begin_time=datetime.datetime(2024, 3, 23, 10, 57, 37, 801000), end_time=datetime.datetime(2024, 3, 23, 10, 57, 42, 593000), duration_in_sec=4.792), DomoDataflow_ActionResult(id='ac9f630d-d865-4925-b955-4316e227229a', type='GenerateTableAction', name=None, is_success=True, rows_processed=1908, begin_time=datetime.datetime(2024, 3, 23, 10, 57, 42, 787000), end_time=datetime.datetime(2024, 3, 23, 10, 57, 43, 375000), duration_in_sec=0.588)]),\n",
       " DomoDataflow_History_Execution(id=497884, dataflow_id=70, dataflow_execution_id='b7b18cf7-eb36-4252-9b67-aff280921f1b', dataflow_version=262, begin_time=datetime.datetime(2024, 3, 23, 10, 55, 43), end_time=datetime.datetime(2024, 3, 23, 10, 56, 14), last_updated=datetime.datetime(2024, 3, 23, 10, 56, 14), is_failed=False, state='SUCCESS', activation_type='MANUAL', data_processor='MYSQL', telemetry=None, execution_stats={'total_bytes_written': 102934, 'total_rows_read': 955, 'total_bytes_read': 360657, 'mean_download_rate_kbps': 82.09885817307692, 'total_rows_written': 1908}, action_results=[DomoDataflow_ActionResult(id='8edc3d78-3586-47a8-9775-c7b146a50d19', type='PublishToVault', name=None, is_success=True, rows_processed=1908, begin_time=datetime.datetime(2024, 3, 23, 10, 56, 12, 183000), end_time=datetime.datetime(2024, 3, 23, 10, 56, 13, 103000), duration_in_sec=0.92), DomoDataflow_ActionResult(id='c176aa53-122a-4a2e-8b6f-41ca4a72d67c', type='GenerateTableAction', name=None, is_success=True, rows_processed=955, begin_time=datetime.datetime(2024, 3, 23, 10, 56, 11, 478000), end_time=datetime.datetime(2024, 3, 23, 10, 56, 11, 678000), duration_in_sec=0.2), DomoDataflow_ActionResult(id='241025d7-3cca-4369-b7c0-b3264277c0e1', type='DataHubManifestLoaderAction', name=None, is_success=True, rows_processed=955, begin_time=datetime.datetime(2024, 3, 23, 10, 56, 7, 179000), end_time=datetime.datetime(2024, 3, 23, 10, 56, 11, 469000), duration_in_sec=4.29), DomoDataflow_ActionResult(id='ac9f630d-d865-4925-b955-4316e227229a', type='GenerateTableAction', name=None, is_success=True, rows_processed=1908, begin_time=datetime.datetime(2024, 3, 23, 10, 56, 11, 678000), end_time=datetime.datetime(2024, 3, 23, 10, 56, 12, 183000), duration_in_sec=0.505)]),\n",
       " DomoDataflow_History_Execution(id=497857, dataflow_id=70, dataflow_execution_id='34d56c91-d107-4d7c-b5bd-8023f3c37816', dataflow_version=262, begin_time=datetime.datetime(2024, 3, 23, 9, 56, 42), end_time=datetime.datetime(2024, 3, 23, 9, 57, 12), last_updated=datetime.datetime(2024, 3, 23, 9, 57, 12), is_failed=False, state='SUCCESS', activation_type='MANUAL', data_processor='MYSQL', telemetry=None, execution_stats={'total_bytes_written': 102832, 'total_rows_read': 954, 'total_bytes_read': 360293, 'mean_download_rate_kbps': 73.31707289279016, 'total_rows_written': 1906}, action_results=[DomoDataflow_ActionResult(id='8edc3d78-3586-47a8-9775-c7b146a50d19', type='PublishToVault', name=None, is_success=True, rows_processed=1906, begin_time=datetime.datetime(2024, 3, 23, 9, 57, 10, 322000), end_time=datetime.datetime(2024, 3, 23, 9, 57, 11, 171000), duration_in_sec=0.849), DomoDataflow_ActionResult(id='c176aa53-122a-4a2e-8b6f-41ca4a72d67c', type='GenerateTableAction', name=None, is_success=True, rows_processed=954, begin_time=datetime.datetime(2024, 3, 23, 9, 57, 9, 707000), end_time=datetime.datetime(2024, 3, 23, 9, 57, 9, 737000), duration_in_sec=0.03), DomoDataflow_ActionResult(id='241025d7-3cca-4369-b7c0-b3264277c0e1', type='DataHubManifestLoaderAction', name=None, is_success=True, rows_processed=954, begin_time=datetime.datetime(2024, 3, 23, 9, 57, 4, 825000), end_time=datetime.datetime(2024, 3, 23, 9, 57, 9, 624000), duration_in_sec=4.799), DomoDataflow_ActionResult(id='ac9f630d-d865-4925-b955-4316e227229a', type='GenerateTableAction', name=None, is_success=True, rows_processed=1906, begin_time=datetime.datetime(2024, 3, 23, 9, 57, 9, 737000), end_time=datetime.datetime(2024, 3, 23, 9, 57, 10, 312000), duration_in_sec=0.575)])]"
      ]
     },
     "execution_count": 9,
     "metadata": {},
     "output_type": "execute_result"
    }
   ],
   "source": [
    "#| eval : false\n",
    "\n",
    "token_auth = dmda.DomoTokenAuth(\n",
    "    domo_instance=\"domo-community\",\n",
    "    domo_access_token=os.environ[\"DOMO_DOJO_ACCESS_TOKEN\"],\n",
    ")\n",
    "\n",
    "domo_dataflow = await DomoDataflow.get_from_id(dataflow_id=70, auth=token_auth)\n",
    "await domo_dataflow.history.get_execution_history(maximum=5)"
   ]
  },
  {
   "cell_type": "code",
   "execution_count": 10,
   "metadata": {},
   "outputs": [],
   "source": [
    "# | exporti\n",
    "@patch_to(DomoDataflow)\n",
    "async def execute(\n",
    "    self: DomoDataflow,\n",
    "    auth: dmda.DomoAuth = None,\n",
    "    debug_api: bool = False,\n",
    "    debug_num_stacks_to_drop=2,\n",
    "):\n",
    "    return await dataflow_routes.execute_dataflow(\n",
    "        auth=auth or self.auth,\n",
    "        dataflow_id=self.id,\n",
    "        parent_class=self.__class__.__name__,\n",
    "        debug_api=debug_api,\n",
    "        debug_num_stacks_to_drop=debug_num_stacks_to_drop,\n",
    "    )"
   ]
  },
  {
   "attachments": {},
   "cell_type": "markdown",
   "metadata": {},
   "source": [
    "#### sample execute_dataflow\n"
   ]
  },
  {
   "cell_type": "code",
   "execution_count": 11,
   "metadata": {},
   "outputs": [
    {
     "name": "stdout",
     "output_type": "stream",
     "text": [
      "warning this token has not been validated by who_am_i, run get_auth_token first\n"
     ]
    },
    {
     "data": {
      "text/plain": [
       "ResponseGetData(status=200, response={'id': 497906, 'onboardFlowId': 70, 'previewRows': 0, 'dapDataFlowExecutionId': 'f88408f6-2550-4eed-9ac8-73f3e181d740', 'beginTime': 1711214526048, 'lastUpdated': 1711214526582, 'state': 'CREATED', 'activationType': 'MANUAL', 'executionEngine': {'platform': 'K8S', 'engine': 'MYSQL_SQL_ENGINE'}, 'dataProcessor': 'MYSQL', 'dataFlowVersion': 262}, is_success=True, parent_class=None)"
      ]
     },
     "execution_count": 11,
     "metadata": {},
     "output_type": "execute_result"
    }
   ],
   "source": [
    "#| eval : false\n",
    "\n",
    "token_auth = dmda.DomoTokenAuth(\n",
    "    domo_instance=\"domo-community\",\n",
    "    domo_access_token=os.environ[\"DOMO_DOJO_ACCESS_TOKEN\"],\n",
    ")\n",
    "\n",
    "domo_dataflow = DomoDataflow(id=70, auth=token_auth)\n",
    "\n",
    "await domo_dataflow.execute()"
   ]
  },
  {
   "cell_type": "markdown",
   "metadata": {},
   "source": [
    "# Dataflow Versions\n"
   ]
  },
  {
   "cell_type": "code",
   "execution_count": 12,
   "metadata": {},
   "outputs": [],
   "source": [
    "# | exporti\n",
    "\n",
    "\n",
    "@patch_to(DomoDataflow, cls_method=True)\n",
    "async def get_by_version_id(\n",
    "    cls: DomoDataflow,\n",
    "    auth: dmda.DomoAuth,\n",
    "    dataflow_id: int,\n",
    "    version_id: int,\n",
    "    debug_api: bool = False,\n",
    "    debug_num_stacks_to_drop=2,\n",
    "    session: httpx.AsyncClient = None,\n",
    "    return_raw: bool = False,\n",
    "):\n",
    "    res = await dataflow_routes.get_dataflow_by_id_and_version(\n",
    "        auth=auth,\n",
    "        dataflow_id=dataflow_id,\n",
    "        version_id=version_id,\n",
    "        debug_api=debug_api,\n",
    "        debug_num_stacks_to_drop=debug_num_stacks_to_drop,\n",
    "        parent_class=cls.__name__,\n",
    "        session=session,\n",
    "    )\n",
    "\n",
    "    if return_raw:\n",
    "        return res\n",
    "\n",
    "    domo_dataflow = cls._from_json(\n",
    "        res.response[\"dataFlow\"],\n",
    "        version_id=res.response[\"id\"],\n",
    "        version_number=res.response[\"versionNumber\"],\n",
    "        auth=auth,\n",
    "    )\n",
    "\n",
    "    return domo_dataflow"
   ]
  },
  {
   "cell_type": "code",
   "execution_count": 13,
   "metadata": {},
   "outputs": [
    {
     "name": "stdout",
     "output_type": "stream",
     "text": [
      "warning this token has not been validated by who_am_i, run get_auth_token first\n"
     ]
    },
    {
     "data": {
      "text/plain": [
       "DomoDataflow(id=70, name='DomoStats - people - reports', owner=None, description=None, tags=None, actions=[DomoDataflow_Action(id='241025d7-3cca-4369-b7c0-b3264277c0e1', type='LoadFromVault', name='domostats_people', datasource_id='241025d7-3cca-4369-b7c0-b3264277c0e1', sql=None, depends_on=None, parent_actions=None), DomoDataflow_Action(id='c176aa53-122a-4a2e-8b6f-41ca4a72d67c', type='GenerateTableAction', name='t_1', datasource_id=None, sql='SELECT\\n`Display Name`,\\n`User ID`\\n, @row := @row+1 as id\\n, @isReset := case when @iter = @rowCounter then 1 else 0 end isReset\\n, @group := @isReset + @group   as rowGroup\\n, @iter := case when @isReset = 1 then 1 else @iter + 1 end iter\\n, @rowCounter := case when @isReset = 1 then FLOOR( RAND() * (7-3) + 3) else @rowCounter end numChildren\\n\\n\\nfrom `domostats_people` p\\n\\n, (select @row:= 0,@rowCounter:= 1, @iter := 1, @isReset := 0 , @group := 0) r', depends_on=['241025d7-3cca-4369-b7c0-b3264277c0e1'], parent_actions=[DomoDataflow_Action(id='241025d7-3cca-4369-b7c0-b3264277c0e1', type='LoadFromVault', name='domostats_people', datasource_id='241025d7-3cca-4369-b7c0-b3264277c0e1', sql=None, depends_on=None, parent_actions=None)]), DomoDataflow_Action(id='ac9f630d-d865-4925-b955-4316e227229a', type='GenerateTableAction', name='reportsto', datasource_id=None, sql=\"\\nselect  b.`User ID` as userID , 'reportsTo' as Action , a.`User ID` as bodyID\\n\\nfrom t_1 a \\n\\njoin t_1 b \\n\\non a.id = b.`rowGroup`\\nwhere a.`User ID` <> b.`User ID`\\n\\nUNION\\n\\nselect  b.`User ID` as userID , 'directReports' as Action , a.`User ID` as bodyID\\n\\nfrom t_1 a \\n\\njoin t_1 b \\n\\non b.id = a.`rowGroup`\\n\\nwhere a.`User ID` <> b.`User ID`\\n\\n\", depends_on=['c176aa53-122a-4a2e-8b6f-41ca4a72d67c'], parent_actions=[DomoDataflow_Action(id='c176aa53-122a-4a2e-8b6f-41ca4a72d67c', type='GenerateTableAction', name='t_1', datasource_id=None, sql='SELECT\\n`Display Name`,\\n`User ID`\\n, @row := @row+1 as id\\n, @isReset := case when @iter = @rowCounter then 1 else 0 end isReset\\n, @group := @isReset + @group   as rowGroup\\n, @iter := case when @isReset = 1 then 1 else @iter + 1 end iter\\n, @rowCounter := case when @isReset = 1 then FLOOR( RAND() * (7-3) + 3) else @rowCounter end numChildren\\n\\n\\nfrom `domostats_people` p\\n\\n, (select @row:= 0,@rowCounter:= 1, @iter := 1, @isReset := 0 , @group := 0) r', depends_on=['241025d7-3cca-4369-b7c0-b3264277c0e1'], parent_actions=[DomoDataflow_Action(id='241025d7-3cca-4369-b7c0-b3264277c0e1', type='LoadFromVault', name='domostats_people', datasource_id='241025d7-3cca-4369-b7c0-b3264277c0e1', sql=None, depends_on=None, parent_actions=None)])]), DomoDataflow_Action(id='8edc3d78-3586-47a8-9775-c7b146a50d19', type='PublishToVault', name='domoStats_people_reports', datasource_id='d9257748-c181-496e-8f9a-016ee99b4a14', sql='select * from `reportsto`', depends_on=['ac9f630d-d865-4925-b955-4316e227229a'], parent_actions=[DomoDataflow_Action(id='ac9f630d-d865-4925-b955-4316e227229a', type='GenerateTableAction', name='reportsto', datasource_id=None, sql=\"\\nselect  b.`User ID` as userID , 'reportsTo' as Action , a.`User ID` as bodyID\\n\\nfrom t_1 a \\n\\njoin t_1 b \\n\\non a.id = b.`rowGroup`\\nwhere a.`User ID` <> b.`User ID`\\n\\nUNION\\n\\nselect  b.`User ID` as userID , 'directReports' as Action , a.`User ID` as bodyID\\n\\nfrom t_1 a \\n\\njoin t_1 b \\n\\non b.id = a.`rowGroup`\\n\\nwhere a.`User ID` <> b.`User ID`\\n\\n\", depends_on=['c176aa53-122a-4a2e-8b6f-41ca4a72d67c'], parent_actions=[DomoDataflow_Action(id='c176aa53-122a-4a2e-8b6f-41ca4a72d67c', type='GenerateTableAction', name='t_1', datasource_id=None, sql='SELECT\\n`Display Name`,\\n`User ID`\\n, @row := @row+1 as id\\n, @isReset := case when @iter = @rowCounter then 1 else 0 end isReset\\n, @group := @isReset + @group   as rowGroup\\n, @iter := case when @isReset = 1 then 1 else @iter + 1 end iter\\n, @rowCounter := case when @isReset = 1 then FLOOR( RAND() * (7-3) + 3) else @rowCounter end numChildren\\n\\n\\nfrom `domostats_people` p\\n\\n, (select @row:= 0,@rowCounter:= 1, @iter := 1, @isReset := 0 , @group := 0) r', depends_on=['241025d7-3cca-4369-b7c0-b3264277c0e1'], parent_actions=[DomoDataflow_Action(id='241025d7-3cca-4369-b7c0-b3264277c0e1', type='LoadFromVault', name='domostats_people', datasource_id='241025d7-3cca-4369-b7c0-b3264277c0e1', sql=None, depends_on=None, parent_actions=None)])])])], version_id=262, version_number=3, versions=None, history=DomoDataflow_History(execution_history=None))"
      ]
     },
     "execution_count": 13,
     "metadata": {},
     "output_type": "execute_result"
    }
   ],
   "source": [
    "#| eval : false\n",
    "token_auth = dmda.DomoTokenAuth(\n",
    "    domo_instance=\"domo-community\",\n",
    "    domo_access_token=os.environ[\"DOMO_DOJO_ACCESS_TOKEN\"],\n",
    ")\n",
    "\n",
    "await DomoDataflow.get_by_version_id(\n",
    "    dataflow_id=70, version_id=262, auth=token_auth, return_raw=False\n",
    ")"
   ]
  },
  {
   "cell_type": "code",
   "execution_count": 14,
   "metadata": {},
   "outputs": [],
   "source": [
    "# | exporti\n",
    "@patch_to(DomoDataflow)\n",
    "async def get_versions(\n",
    "    self: DomoDataflow,\n",
    "    debug_api: bool = False,\n",
    "    debug_num_stacks_to_drop=2,\n",
    "    session: httpx.AsyncClient = None,\n",
    "    return_raw: bool = False,\n",
    "):\n",
    "    res = await dataflow_routes.get_dataflow_versions(\n",
    "        auth=self.auth,\n",
    "        dataflow_id=self.id,\n",
    "        debug_api=debug_api,\n",
    "        session=session,\n",
    "        debug_num_stacks_to_drop=debug_num_stacks_to_drop,\n",
    "        parent_class=self.__class__.__name__,\n",
    "    )\n",
    "\n",
    "    if return_raw:\n",
    "        return res\n",
    "\n",
    "    version_ids = [df_obj[\"id\"] for df_obj in res.response]\n",
    "\n",
    "    self.versions = await ce.gather_with_concurrency(\n",
    "        *[\n",
    "            DomoDataflow.get_by_version_id(\n",
    "                dataflow_id=self.id,\n",
    "                version_id=version_id,\n",
    "                auth=self.auth,\n",
    "                session=session,\n",
    "                debug_api=debug_api,\n",
    "                debug_num_stacks_to_drop=debug_num_stacks_to_drop,\n",
    "            )\n",
    "            for version_id in version_ids\n",
    "        ],\n",
    "        n=10\n",
    "    )\n",
    "\n",
    "    return self.versions"
   ]
  },
  {
   "cell_type": "code",
   "execution_count": 15,
   "metadata": {},
   "outputs": [
    {
     "name": "stdout",
     "output_type": "stream",
     "text": [
      "warning this token has not been validated by who_am_i, run get_auth_token first\n"
     ]
    },
    {
     "data": {
      "text/plain": [
       "[DomoDataflow(id=70, name='DomoStats - people - reports', owner=None, description=None, tags=None, actions=[DomoDataflow_Action(id='241025d7-3cca-4369-b7c0-b3264277c0e1', type='LoadFromVault', name='domostats_people', datasource_id='241025d7-3cca-4369-b7c0-b3264277c0e1', sql=None, depends_on=None, parent_actions=None), DomoDataflow_Action(id='c176aa53-122a-4a2e-8b6f-41ca4a72d67c', type='GenerateTableAction', name='t_1', datasource_id=None, sql='SELECT\\n`Display Name`,\\n`User ID`\\n, @row := @row+1 as id\\n, @isReset := case when @iter = @rowCounter then 1 else 0 end isReset\\n, @group := @isReset + @group   as rowGroup\\n, @iter := case when @isReset = 1 then 1 else @iter + 1 end iter\\n, @rowCounter := case when @isReset = 1 then FLOOR( RAND() * (7-3) + 3) else @rowCounter end numChildren\\n\\n\\nfrom `domostats_people` p\\n\\n, (select @row:= 0,@rowCounter:= 1, @iter := 1, @isReset := 0 , @group := 0) r', depends_on=['241025d7-3cca-4369-b7c0-b3264277c0e1'], parent_actions=[DomoDataflow_Action(id='241025d7-3cca-4369-b7c0-b3264277c0e1', type='LoadFromVault', name='domostats_people', datasource_id='241025d7-3cca-4369-b7c0-b3264277c0e1', sql=None, depends_on=None, parent_actions=None)]), DomoDataflow_Action(id='ac9f630d-d865-4925-b955-4316e227229a', type='GenerateTableAction', name='reportsto', datasource_id=None, sql=\"\\nselect  b.`User ID` as userID , 'reportsTo' as Action , a.`User ID` as bodyID\\n\\nfrom t_1 a \\n\\njoin t_1 b \\n\\non a.id = b.`rowGroup`\\nwhere a.`User ID` <> b.`User ID`\\n\\nUNION\\n\\nselect  b.`User ID` as userID , 'directReports' as Action , a.`User ID` as bodyID\\n\\nfrom t_1 a \\n\\njoin t_1 b \\n\\non b.id = a.`rowGroup`\\n\\nwhere a.`User ID` <> b.`User ID`\\n\\n\", depends_on=['c176aa53-122a-4a2e-8b6f-41ca4a72d67c'], parent_actions=[DomoDataflow_Action(id='c176aa53-122a-4a2e-8b6f-41ca4a72d67c', type='GenerateTableAction', name='t_1', datasource_id=None, sql='SELECT\\n`Display Name`,\\n`User ID`\\n, @row := @row+1 as id\\n, @isReset := case when @iter = @rowCounter then 1 else 0 end isReset\\n, @group := @isReset + @group   as rowGroup\\n, @iter := case when @isReset = 1 then 1 else @iter + 1 end iter\\n, @rowCounter := case when @isReset = 1 then FLOOR( RAND() * (7-3) + 3) else @rowCounter end numChildren\\n\\n\\nfrom `domostats_people` p\\n\\n, (select @row:= 0,@rowCounter:= 1, @iter := 1, @isReset := 0 , @group := 0) r', depends_on=['241025d7-3cca-4369-b7c0-b3264277c0e1'], parent_actions=[DomoDataflow_Action(id='241025d7-3cca-4369-b7c0-b3264277c0e1', type='LoadFromVault', name='domostats_people', datasource_id='241025d7-3cca-4369-b7c0-b3264277c0e1', sql=None, depends_on=None, parent_actions=None)])]), DomoDataflow_Action(id='8edc3d78-3586-47a8-9775-c7b146a50d19', type='PublishToVault', name='domoStats_people_reports', datasource_id='d9257748-c181-496e-8f9a-016ee99b4a14', sql='select * from `reportsto`', depends_on=['ac9f630d-d865-4925-b955-4316e227229a'], parent_actions=[DomoDataflow_Action(id='ac9f630d-d865-4925-b955-4316e227229a', type='GenerateTableAction', name='reportsto', datasource_id=None, sql=\"\\nselect  b.`User ID` as userID , 'reportsTo' as Action , a.`User ID` as bodyID\\n\\nfrom t_1 a \\n\\njoin t_1 b \\n\\non a.id = b.`rowGroup`\\nwhere a.`User ID` <> b.`User ID`\\n\\nUNION\\n\\nselect  b.`User ID` as userID , 'directReports' as Action , a.`User ID` as bodyID\\n\\nfrom t_1 a \\n\\njoin t_1 b \\n\\non b.id = a.`rowGroup`\\n\\nwhere a.`User ID` <> b.`User ID`\\n\\n\", depends_on=['c176aa53-122a-4a2e-8b6f-41ca4a72d67c'], parent_actions=[DomoDataflow_Action(id='c176aa53-122a-4a2e-8b6f-41ca4a72d67c', type='GenerateTableAction', name='t_1', datasource_id=None, sql='SELECT\\n`Display Name`,\\n`User ID`\\n, @row := @row+1 as id\\n, @isReset := case when @iter = @rowCounter then 1 else 0 end isReset\\n, @group := @isReset + @group   as rowGroup\\n, @iter := case when @isReset = 1 then 1 else @iter + 1 end iter\\n, @rowCounter := case when @isReset = 1 then FLOOR( RAND() * (7-3) + 3) else @rowCounter end numChildren\\n\\n\\nfrom `domostats_people` p\\n\\n, (select @row:= 0,@rowCounter:= 1, @iter := 1, @isReset := 0 , @group := 0) r', depends_on=['241025d7-3cca-4369-b7c0-b3264277c0e1'], parent_actions=[DomoDataflow_Action(id='241025d7-3cca-4369-b7c0-b3264277c0e1', type='LoadFromVault', name='domostats_people', datasource_id='241025d7-3cca-4369-b7c0-b3264277c0e1', sql=None, depends_on=None, parent_actions=None)])])])], version_id=262, version_number=3, versions=None, history=DomoDataflow_History(execution_history=None)),\n",
       " DomoDataflow(id=70, name='sel', owner=None, description=None, tags=None, actions=[DomoDataflow_Action(id='241025d7-3cca-4369-b7c0-b3264277c0e1', type='LoadFromVault', name='domostats_people', datasource_id='241025d7-3cca-4369-b7c0-b3264277c0e1', sql=None, depends_on=None, parent_actions=None), DomoDataflow_Action(id='c176aa53-122a-4a2e-8b6f-41ca4a72d67c', type='GenerateTableAction', name='t_1', datasource_id=None, sql='SELECT\\n`Display Name`,\\n`User ID`\\n, @row := @row+1 as id\\n, @isReset := case when @iter = @rowCounter then 1 else 0 end isReset\\n, @group := @isReset + @group   as rowGroup\\n, @iter := case when @isReset = 1 then 1 else @iter + 1 end iter\\n, @rowCounter := case when @isReset = 1 then FLOOR( RAND() * (7-3) + 3) else @rowCounter end numChildren\\n\\n\\nfrom `domostats_people` p\\n\\n, (select @row:= 0,@rowCounter:= 1, @iter := 1, @isReset := 0 , @group := 0) r', depends_on=['241025d7-3cca-4369-b7c0-b3264277c0e1'], parent_actions=[DomoDataflow_Action(id='241025d7-3cca-4369-b7c0-b3264277c0e1', type='LoadFromVault', name='domostats_people', datasource_id='241025d7-3cca-4369-b7c0-b3264277c0e1', sql=None, depends_on=None, parent_actions=None)]), DomoDataflow_Action(id='ac9f630d-d865-4925-b955-4316e227229a', type='GenerateTableAction', name='reportsto', datasource_id=None, sql=\"\\nselect  b.`User ID` as userID , 'reportsTo' as Action , a.`User ID` as bodyID\\n\\nfrom t_1 a \\n\\njoin t_1 b \\n\\non a.id = b.`rowGroup`\\nwhere a.`User ID` <> b.`User ID`\\n\\nUNION\\n\\nselect  b.`User ID` as userID , 'directReports' as Action , a.`User ID` as bodyID\\n\\nfrom t_1 a \\n\\njoin t_1 b \\n\\non b.id = a.`rowGroup`\\n\\nwhere a.`User ID` <> b.`User ID`\\n\\n\", depends_on=['c176aa53-122a-4a2e-8b6f-41ca4a72d67c'], parent_actions=[DomoDataflow_Action(id='c176aa53-122a-4a2e-8b6f-41ca4a72d67c', type='GenerateTableAction', name='t_1', datasource_id=None, sql='SELECT\\n`Display Name`,\\n`User ID`\\n, @row := @row+1 as id\\n, @isReset := case when @iter = @rowCounter then 1 else 0 end isReset\\n, @group := @isReset + @group   as rowGroup\\n, @iter := case when @isReset = 1 then 1 else @iter + 1 end iter\\n, @rowCounter := case when @isReset = 1 then FLOOR( RAND() * (7-3) + 3) else @rowCounter end numChildren\\n\\n\\nfrom `domostats_people` p\\n\\n, (select @row:= 0,@rowCounter:= 1, @iter := 1, @isReset := 0 , @group := 0) r', depends_on=['241025d7-3cca-4369-b7c0-b3264277c0e1'], parent_actions=[DomoDataflow_Action(id='241025d7-3cca-4369-b7c0-b3264277c0e1', type='LoadFromVault', name='domostats_people', datasource_id='241025d7-3cca-4369-b7c0-b3264277c0e1', sql=None, depends_on=None, parent_actions=None)])]), DomoDataflow_Action(id='8edc3d78-3586-47a8-9775-c7b146a50d19', type='PublishToVault', name='domoStats_people_reports', datasource_id='d9257748-c181-496e-8f9a-016ee99b4a14', sql='select * from `reportsto`', depends_on=['ac9f630d-d865-4925-b955-4316e227229a'], parent_actions=[DomoDataflow_Action(id='ac9f630d-d865-4925-b955-4316e227229a', type='GenerateTableAction', name='reportsto', datasource_id=None, sql=\"\\nselect  b.`User ID` as userID , 'reportsTo' as Action , a.`User ID` as bodyID\\n\\nfrom t_1 a \\n\\njoin t_1 b \\n\\non a.id = b.`rowGroup`\\nwhere a.`User ID` <> b.`User ID`\\n\\nUNION\\n\\nselect  b.`User ID` as userID , 'directReports' as Action , a.`User ID` as bodyID\\n\\nfrom t_1 a \\n\\njoin t_1 b \\n\\non b.id = a.`rowGroup`\\n\\nwhere a.`User ID` <> b.`User ID`\\n\\n\", depends_on=['c176aa53-122a-4a2e-8b6f-41ca4a72d67c'], parent_actions=[DomoDataflow_Action(id='c176aa53-122a-4a2e-8b6f-41ca4a72d67c', type='GenerateTableAction', name='t_1', datasource_id=None, sql='SELECT\\n`Display Name`,\\n`User ID`\\n, @row := @row+1 as id\\n, @isReset := case when @iter = @rowCounter then 1 else 0 end isReset\\n, @group := @isReset + @group   as rowGroup\\n, @iter := case when @isReset = 1 then 1 else @iter + 1 end iter\\n, @rowCounter := case when @isReset = 1 then FLOOR( RAND() * (7-3) + 3) else @rowCounter end numChildren\\n\\n\\nfrom `domostats_people` p\\n\\n, (select @row:= 0,@rowCounter:= 1, @iter := 1, @isReset := 0 , @group := 0) r', depends_on=['241025d7-3cca-4369-b7c0-b3264277c0e1'], parent_actions=[DomoDataflow_Action(id='241025d7-3cca-4369-b7c0-b3264277c0e1', type='LoadFromVault', name='domostats_people', datasource_id='241025d7-3cca-4369-b7c0-b3264277c0e1', sql=None, depends_on=None, parent_actions=None)])])])], version_id=261, version_number=2, versions=None, history=DomoDataflow_History(execution_history=None)),\n",
       " DomoDataflow(id=70, name='sel', owner=None, description=None, tags=None, actions=[DomoDataflow_Action(id='241025d7-3cca-4369-b7c0-b3264277c0e1', type='LoadFromVault', name='domostats_people', datasource_id='241025d7-3cca-4369-b7c0-b3264277c0e1', sql=None, depends_on=None, parent_actions=None), DomoDataflow_Action(id='c176aa53-122a-4a2e-8b6f-41ca4a72d67c', type='GenerateTableAction', name='t_1', datasource_id=None, sql='SELECT\\n`Display Name`,\\n`User ID`\\n, @row := @row+1 as id\\n, @isReset := case when @iter = @rowCounter then 1 else 0 end isReset\\n, @group := @isReset + @group   as rowGroup\\n, @iter := case when @isReset = 1 then 1 else @iter + 1 end iter\\n, @rowCounter := case when @isReset = 1 then FLOOR( RAND() * (7-3) + 3) else @rowCounter end numChildren\\n\\n\\nfrom `domostats_people` p\\n\\n, (select @row:= 0,@rowCounter:= 1, @iter := 1, @isReset := 0 , @group := 0) r', depends_on=['241025d7-3cca-4369-b7c0-b3264277c0e1'], parent_actions=[DomoDataflow_Action(id='241025d7-3cca-4369-b7c0-b3264277c0e1', type='LoadFromVault', name='domostats_people', datasource_id='241025d7-3cca-4369-b7c0-b3264277c0e1', sql=None, depends_on=None, parent_actions=None)]), DomoDataflow_Action(id='ac9f630d-d865-4925-b955-4316e227229a', type='GenerateTableAction', name='reportsto', datasource_id=None, sql=\"select  a.`User ID` as parent, b.`User ID` , 'reportsTo' as Action\\n\\nfrom t_1 a \\n\\njoin t_1 b \\n\\non a.id = b.`rowGroup`\", depends_on=['c176aa53-122a-4a2e-8b6f-41ca4a72d67c'], parent_actions=[DomoDataflow_Action(id='c176aa53-122a-4a2e-8b6f-41ca4a72d67c', type='GenerateTableAction', name='t_1', datasource_id=None, sql='SELECT\\n`Display Name`,\\n`User ID`\\n, @row := @row+1 as id\\n, @isReset := case when @iter = @rowCounter then 1 else 0 end isReset\\n, @group := @isReset + @group   as rowGroup\\n, @iter := case when @isReset = 1 then 1 else @iter + 1 end iter\\n, @rowCounter := case when @isReset = 1 then FLOOR( RAND() * (7-3) + 3) else @rowCounter end numChildren\\n\\n\\nfrom `domostats_people` p\\n\\n, (select @row:= 0,@rowCounter:= 1, @iter := 1, @isReset := 0 , @group := 0) r', depends_on=['241025d7-3cca-4369-b7c0-b3264277c0e1'], parent_actions=[DomoDataflow_Action(id='241025d7-3cca-4369-b7c0-b3264277c0e1', type='LoadFromVault', name='domostats_people', datasource_id='241025d7-3cca-4369-b7c0-b3264277c0e1', sql=None, depends_on=None, parent_actions=None)])]), DomoDataflow_Action(id='8edc3d78-3586-47a8-9775-c7b146a50d19', type='PublishToVault', name='output_dataset_1', datasource_id='d9257748-c181-496e-8f9a-016ee99b4a14', sql='select 1', depends_on=['ac9f630d-d865-4925-b955-4316e227229a'], parent_actions=[DomoDataflow_Action(id='ac9f630d-d865-4925-b955-4316e227229a', type='GenerateTableAction', name='reportsto', datasource_id=None, sql=\"select  a.`User ID` as parent, b.`User ID` , 'reportsTo' as Action\\n\\nfrom t_1 a \\n\\njoin t_1 b \\n\\non a.id = b.`rowGroup`\", depends_on=['c176aa53-122a-4a2e-8b6f-41ca4a72d67c'], parent_actions=[DomoDataflow_Action(id='c176aa53-122a-4a2e-8b6f-41ca4a72d67c', type='GenerateTableAction', name='t_1', datasource_id=None, sql='SELECT\\n`Display Name`,\\n`User ID`\\n, @row := @row+1 as id\\n, @isReset := case when @iter = @rowCounter then 1 else 0 end isReset\\n, @group := @isReset + @group   as rowGroup\\n, @iter := case when @isReset = 1 then 1 else @iter + 1 end iter\\n, @rowCounter := case when @isReset = 1 then FLOOR( RAND() * (7-3) + 3) else @rowCounter end numChildren\\n\\n\\nfrom `domostats_people` p\\n\\n, (select @row:= 0,@rowCounter:= 1, @iter := 1, @isReset := 0 , @group := 0) r', depends_on=['241025d7-3cca-4369-b7c0-b3264277c0e1'], parent_actions=[DomoDataflow_Action(id='241025d7-3cca-4369-b7c0-b3264277c0e1', type='LoadFromVault', name='domostats_people', datasource_id='241025d7-3cca-4369-b7c0-b3264277c0e1', sql=None, depends_on=None, parent_actions=None)])])])], version_id=260, version_number=1, versions=None, history=DomoDataflow_History(execution_history=None))]"
      ]
     },
     "execution_count": 15,
     "metadata": {},
     "output_type": "execute_result"
    }
   ],
   "source": [
    "#| eval : false \n",
    "\n",
    "token_auth = dmda.DomoTokenAuth(\n",
    "    domo_instance=\"domo-community\",\n",
    "    domo_access_token=os.environ[\"DOMO_DOJO_ACCESS_TOKEN\"],\n",
    ")\n",
    "\n",
    "domo_dataflow = DomoDataflow(id=70, auth=token_auth)\n",
    "\n",
    "await domo_dataflow.get_versions(return_raw=False)"
   ]
  },
  {
   "cell_type": "code",
   "execution_count": 16,
   "metadata": {},
   "outputs": [],
   "source": [
    "# | hide\n",
    "import nbdev\n",
    "\n",
    "nbdev.nbdev_export()"
   ]
  }
 ],
 "metadata": {
  "jupytext": {
   "split_at_heading": true
  },
  "kernelspec": {
   "display_name": "python3",
   "language": "python",
   "name": "python3"
  },
  "language_info": {
   "codemirror_mode": {
    "name": "ipython",
    "version": 3
   },
   "file_extension": ".py",
   "mimetype": "text/x-python",
   "name": "python",
   "nbconvert_exporter": "python",
   "pygments_lexer": "ipython3",
   "version": "3.10.12"
  }
 },
 "nbformat": 4,
 "nbformat_minor": 4
}
