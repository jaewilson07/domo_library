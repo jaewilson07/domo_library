{
 "cells": [
  {
   "cell_type": "raw",
   "metadata": {},
   "source": [
    "---\n",
    "description: a class based approach to interacting with dataflows\n",
    "output-file: dataflow_class.html\n",
    "title: Dataflow\n",
    "---"
   ]
  },
  {
   "cell_type": "code",
   "execution_count": 1,
   "metadata": {},
   "outputs": [],
   "source": [
    "# | default_exp classes.DomoDataflow"
   ]
  },
  {
   "cell_type": "code",
   "execution_count": 2,
   "metadata": {},
   "outputs": [],
   "source": [
    "# | exporti\n",
    "\n",
    "from __future__ import annotations\n",
    "\n",
    "from enum import Enum\n",
    "from dataclasses import dataclass, field\n",
    "import httpx\n",
    "\n",
    "import datetime as dt\n",
    "import domolibrary.utils.convert as ct\n",
    "import domolibrary.utils.DictDot as util_dd\n",
    "\n",
    "import domolibrary.client.DomoAuth as dmda\n",
    "import domolibrary.client.DomoError as de\n",
    "import domolibrary.routes.dataflow as dataflow_routes\n",
    "from nbdev.showdoc import patch_to, show_doc"
   ]
  },
  {
   "cell_type": "code",
   "execution_count": 3,
   "metadata": {},
   "outputs": [],
   "source": [
    "# | exporti\n",
    "\n",
    "\n",
    "class DomoDataflow_Action_Type(Enum):\n",
    "    LoadFromVault = \"LoadFromVault\"\n",
    "    PublishToVault = \"PublishToVault\"\n",
    "    GenerateTableAction = \"GenerateTableAction\"\n",
    "\n",
    "\n",
    "@dataclass\n",
    "class DomoDataflow_Action:\n",
    "    id: str\n",
    "    name: str\n",
    "    depends_on : str\n",
    "    type: str\n",
    "\n",
    "    datasource_id: str  = None\n",
    "    sql: str = None\n",
    "\n",
    "    @classmethod\n",
    "    def _from_json(cls, obj: dict):\n",
    "        dd = obj\n",
    "\n",
    "        if isinstance(dd, dict):\n",
    "            dd = util_dd.DictDot(obj)\n",
    "\n",
    "        tbl_name = dd.dataSource.name if dd.dataSource else None\n",
    "        ds_id = dd.dataSource.guid if dd.dataSource else None\n",
    "\n",
    "        return  cls(\n",
    "            type=dd.type,\n",
    "            id=dd.id,\n",
    "            name=dd.name or dd.targetTableName or dd.tableName or tbl_name,\n",
    "            depends_on = dd.dependsOn,\n",
    "            \n",
    "            datasource_id=dd.dataSourceId or ds_id,\n",
    "            sql=dd.selectStatement or dd.query,\n",
    "        )\n",
    "\n",
    "@dataclass\n",
    "class DomoDataflow_ActionExecuted(DomoDataflow_Action):\n",
    "    begin_time : dt.datetime = None\n",
    "    end_time : dt.datetime = field(init = False )\n",
    "    is_success : bool = field(init=False)\n",
    "    rows_process : int = field(init = False)\n",
    "\n",
    "    @classmethod\n",
    "    def _from_json(cls, obj):\n",
    "        dd = obj\n",
    "\n",
    "        if isinstance(dd, dict):\n",
    "            dd = util_dd.DictDot(obj)\n",
    "\n",
    "        base_cls = super()._from_json(obj)\n",
    "\n",
    "        print(base_cls.__dict__, base_cls.__class__.__name__)\n",
    "\n",
    "        cls(\n",
    "            rows_processed =  dd.rowsProcessed,\n",
    "            is_success = dd.wasSuccessful,\n",
    "            begin_time = dd.beginTime,\n",
    "            end_time = dd.endTime,\n",
    "\n",
    "            **base_cls.__dict__,\n",
    "        \n",
    "        )"
   ]
  },
  {
   "attachments": {},
   "cell_type": "markdown",
   "metadata": {},
   "source": [
    "#### sample implementation of DataFlow_Action\n",
    "\n",
    "Note: this list of properties that can be attached to `DomoDataflow_Action` is by no means comprehensive. To capture more data from the API, simply add properties to the class and extend the `DomoDataflow_Action._from_json` private method.\n"
   ]
  },
  {
   "cell_type": "code",
   "execution_count": 4,
   "metadata": {},
   "outputs": [
    {
     "data": {
      "text/plain": [
       "[DomoDataflow_Action(id='b9bb0f01-2517-4595-a077-c9778e5ffc48', name='monit_user_accesslist', depends_on=None, type='LoadFromVault', datasource_id='6ddbcb8d-0f38-48ad-bd73-f6b35c4b7daf', sql=None),\n",
       " DomoDataflow_Action(id='52f47029-06e0-4599-9ed8-21c4b9386c89', name='Rank & Window', depends_on=['b9bb0f01-2517-4595-a077-c9778e5ffc48'], type='WindowAction', datasource_id=None, sql=None),\n",
       " DomoDataflow_Action(id='623883e9-bdc1-44cd-9fb4-6277d0e123de', name='Add Formula', depends_on=['52f47029-06e0-4599-9ed8-21c4b9386c89'], type='ExpressionEvaluator', datasource_id=None, sql=None),\n",
       " DomoDataflow_Action(id='99ad5978-9a19-41e1-99d7-3d0ce58f7467', name='Alter Columns', depends_on=['623883e9-bdc1-44cd-9fb4-6277d0e123de'], type='Metadata', datasource_id=None, sql=None),\n",
       " DomoDataflow_Action(id='4cf42103-c52d-4b92-b26f-63832ead11ee', name='Select Columns', depends_on=['99ad5978-9a19-41e1-99d7-3d0ce58f7467'], type='SelectValues', datasource_id=None, sql=None),\n",
       " DomoDataflow_Action(id='435803f2-08a4-42b3-8eb2-295b1519c85f', name='Add Formula 1', depends_on=['4cf42103-c52d-4b92-b26f-63832ead11ee'], type='ExpressionEvaluator', datasource_id=None, sql=None),\n",
       " DomoDataflow_Action(id='0c0f0aa1-06b7-4ec1-a3bb-2b28c9a28fa7', name='DDX_Landing Page_DEV', depends_on=['435803f2-08a4-42b3-8eb2-295b1519c85f'], type='PublishToVault', datasource_id='15543b0f-dfe7-4a91-b7db-a86b9e8fec82', sql=None)]"
      ]
     },
     "execution_count": 4,
     "metadata": {},
     "output_type": "execute_result"
    }
   ],
   "source": [
    "import os\n",
    "import pandas as pd\n",
    "\n",
    "token_auth = dmda.DomoTokenAuth(\n",
    "    domo_instance=\"domo-community\",\n",
    "    domo_access_token=os.environ[\"DOMO_DOJO_ACCESS_TOKEN\"],\n",
    ")\n",
    "\n",
    "dataflow_id = 70\n",
    "dataflow_id = 185\n",
    "\n",
    "res = await dataflow_routes.get_dataflow_by_id(dataflow_id=dataflow_id, auth=token_auth)\n",
    "actions_ls = res.response.get('actions')\n",
    "\n",
    "[\n",
    "    DomoDataflow_Action._from_json(action)\n",
    "    for action in actions_ls\n",
    "]"
   ]
  },
  {
   "cell_type": "code",
   "execution_count": 5,
   "metadata": {},
   "outputs": [],
   "source": [
    "# | export\n",
    "@dataclass\n",
    "class DomoDataflow:\n",
    "    id: str\n",
    "    name: str = None\n",
    "    auth: dmda.DomoAuth = field(default=None)\n",
    "    owner: str = None\n",
    "    description: str = None\n",
    "    tags: list[str] = None\n",
    "    actions: list[DomoDataflow_Action] = None\n",
    "    execution_history : list[DataflowExecution_Summary] = None"
   ]
  },
  {
   "cell_type": "code",
   "execution_count": 6,
   "metadata": {},
   "outputs": [],
   "source": [
    "# | exporti\n",
    "@patch_to(DomoDataflow, cls_method=True)\n",
    "async def get_from_id(\n",
    "    cls: DomoDataflow,\n",
    "    dataflow_id: int,\n",
    "    auth: dmda.DomoAuth = None,\n",
    "    return_raw: bool = False,\n",
    "    session: httpx.AsyncClient = None,\n",
    "    debug_api: bool = False,\n",
    "    debug_num_stacks_to_drop=2,\n",
    "):\n",
    "    res = await dataflow_routes.get_dataflow_by_id(\n",
    "        auth=auth,\n",
    "        dataflow_id=dataflow_id,\n",
    "        debug_api=debug_api,\n",
    "        debug_num_stacks_to_drop=debug_num_stacks_to_drop,\n",
    "        parent_class=cls.__name__,\n",
    "        session=session,\n",
    "    )\n",
    "\n",
    "    if return_raw:\n",
    "        return res\n",
    "\n",
    "    if not res.is_success:\n",
    "        return None\n",
    "\n",
    "    dd = util_dd.DictDot(res.response)\n",
    "    domo_dataflow = cls(\n",
    "        auth=auth,\n",
    "        id=dd.id,\n",
    "        name=dd.name,\n",
    "        description=dd.description,\n",
    "        owner=dd.owner,\n",
    "        tags=dd.tags,\n",
    "    )\n",
    "\n",
    "    if dd.actions:\n",
    "        domo_dataflow.actions = [\n",
    "            DomoDataflow_Action._from_json(action) for action in dd.actions\n",
    "        ]\n",
    "\n",
    "    return domo_dataflow"
   ]
  },
  {
   "attachments": {},
   "cell_type": "markdown",
   "metadata": {},
   "source": [
    "#### sample implementation of get_from_id\n"
   ]
  },
  {
   "cell_type": "code",
   "execution_count": 7,
   "metadata": {},
   "outputs": [
    {
     "data": {
      "text/plain": [
       "DomoDataflow(id=70, name='DomoStats - people - reports', auth=DomoTokenAuth(domo_instance='domo-community', token_name='token_auth', is_valid_token=True, url_manual_login='https://domo-community.domo.com/auth/index?domoManualLogin=true'), owner=None, description=None, tags=None, actions=[DomoDataflow_Action(id='241025d7-3cca-4369-b7c0-b3264277c0e1', name='domostats_people', depends_on=None, type='LoadFromVault', datasource_id='241025d7-3cca-4369-b7c0-b3264277c0e1', sql=None), DomoDataflow_Action(id='c176aa53-122a-4a2e-8b6f-41ca4a72d67c', name='t_1', depends_on=['241025d7-3cca-4369-b7c0-b3264277c0e1'], type='GenerateTableAction', datasource_id=None, sql='SELECT\\n`Display Name`,\\n`User ID`\\n, @row := @row+1 as id\\n, @isReset := case when @iter = @rowCounter then 1 else 0 end isReset\\n, @group := @isReset + @group   as rowGroup\\n, @iter := case when @isReset = 1 then 1 else @iter + 1 end iter\\n, @rowCounter := case when @isReset = 1 then FLOOR( RAND() * (7-3) + 3) else @rowCounter end numChildren\\n\\n\\nfrom `domostats_people` p\\n\\n, (select @row:= 0,@rowCounter:= 1, @iter := 1, @isReset := 0 , @group := 0) r'), DomoDataflow_Action(id='ac9f630d-d865-4925-b955-4316e227229a', name='reportsto', depends_on=['c176aa53-122a-4a2e-8b6f-41ca4a72d67c'], type='GenerateTableAction', datasource_id=None, sql=\"\\nselect  b.`User ID` as userID , 'reportsTo' as Action , a.`User ID` as bodyID\\n\\nfrom t_1 a \\n\\njoin t_1 b \\n\\non a.id = b.`rowGroup`\\nwhere a.`User ID` <> b.`User ID`\\n\\nUNION\\n\\nselect  b.`User ID` as userID , 'directReports' as Action , a.`User ID` as bodyID\\n\\nfrom t_1 a \\n\\njoin t_1 b \\n\\non b.id = a.`rowGroup`\\n\\nwhere a.`User ID` <> b.`User ID`\\n\\n\"), DomoDataflow_Action(id='8edc3d78-3586-47a8-9775-c7b146a50d19', name='domoStats_people_reports', depends_on=['ac9f630d-d865-4925-b955-4316e227229a'], type='PublishToVault', datasource_id='d9257748-c181-496e-8f9a-016ee99b4a14', sql='select * from `reportsto`')], execution_history=None)"
      ]
     },
     "execution_count": 7,
     "metadata": {},
     "output_type": "execute_result"
    }
   ],
   "source": [
    "import os\n",
    "\n",
    "token_auth = dmda.DomoTokenAuth(\n",
    "    domo_instance=\"domo-community\",\n",
    "    domo_access_token=os.environ[\"DOMO_DOJO_ACCESS_TOKEN\"],\n",
    ")\n",
    "\n",
    "await DomoDataflow.get_from_id(dataflow_id=70, auth=token_auth)"
   ]
  },
  {
   "cell_type": "code",
   "execution_count": 8,
   "metadata": {},
   "outputs": [],
   "source": [
    "@dataclass\n",
    "class DomoDataflow_ExecutionSummary:\n",
    "    auth: dmda.DomoAuth = field(repr=False)\n",
    "    id: str\n",
    "    dataflow_id: str\n",
    "    dataflow_execution_id: str\n",
    "    dataflow_version: str\n",
    "\n",
    "    begin_time: dt.datetime\n",
    "    end_time: dt.datetime\n",
    "    last_updated: dt.datetime\n",
    "\n",
    "    is_failed: bool\n",
    "    state: str\n",
    "    activation_type: str\n",
    "    data_processor: str\n",
    "    telemetry: dict\n",
    "    execution_stats: dict\n",
    "\n",
    "    @classmethod\n",
    "    def _from_json(cls, df_obj, auth: dmda.DomoAuth):\n",
    "        return cls(\n",
    "            auth=auth,\n",
    "            id=df_obj[\"id\"],\n",
    "            dataflow_id=df_obj[\"onboardFlowId\"],\n",
    "            dataflow_execution_id=df_obj[\"dapDataFlowExecutionId\"],\n",
    "            dataflow_version=df_obj.get(\"dataFlowVersion\"),\n",
    "            begin_time=ct.convert_epoch_millisecond_to_datetime(df_obj[\"beginTime\"]),\n",
    "            end_time=ct.convert_epoch_millisecond_to_datetime(df_obj[\"endTime\"]),\n",
    "            last_updated=ct.convert_epoch_millisecond_to_datetime(\n",
    "                df_obj[\"lastUpdated\"]\n",
    "            ),\n",
    "            is_failed=df_obj[\"failed\"],\n",
    "            state=df_obj[\"state\"],\n",
    "            activation_type=df_obj[\"activationType\"],\n",
    "            data_processor=df_obj[\"dataProcessor\"],\n",
    "            telemetry=df_obj.get(\"telemetry\"),\n",
    "            execution_stats={\n",
    "                \"total_bytes_written\": df_obj.get(\"totalBytesWritten\", 0),\n",
    "                \"total_rows_read\": df_obj.get(\"totalRowsRead\", 0),\n",
    "                \"total_bytes_read\": df_obj.get(\"totalBytesRead\", 0),\n",
    "                \"mean_download_rate_kbps\": df_obj.get(\"meanDownloadRateKbps\", 0),\n",
    "                \"total_rows_written\": df_obj.get(\"totalRowsWritten\", 0),\n",
    "            },\n",
    "        )\n",
    "        return cls(auth=auth, **df_obj)"
   ]
  },
  {
   "cell_type": "code",
   "execution_count": 9,
   "metadata": {},
   "outputs": [],
   "source": [
    "# | exporti\n",
    "\n",
    "\n",
    "@patch_to(DomoDataflow)\n",
    "async def get_execution_history(\n",
    "    self: DomoDataflow,\n",
    "    auth: dmda.DomoAuth = None,\n",
    "    maximum=100,  # maximum number of execution histories to retrieve\n",
    "    debug_api: bool = False,\n",
    "    debug_num_stacks_to_drop=2,\n",
    "    return_raw: bool = False,\n",
    "):\n",
    "    \"\"\"retrieves metadata about execution history.  includes details like execution status\"\"\"\n",
    "\n",
    "    auth = auth or self.auth\n",
    "\n",
    "    res = await dataflow_routes.get_dataflow_execution_history(\n",
    "        auth=auth,\n",
    "        dataflow_id=self.id,\n",
    "        debug_api=debug_api,\n",
    "        debug_num_stacks_to_drop=debug_num_stacks_to_drop,\n",
    "        parent_class=self.__class__.__name__,\n",
    "        maximum=maximum,\n",
    "    )\n",
    "\n",
    "    if return_raw:\n",
    "        return res\n",
    "\n",
    "    self.execution_history = [\n",
    "        DomoDataflow_ExecutionSummary._from_json(df_obj, auth) for df_obj in res.response\n",
    "    ]\n",
    "\n",
    "    return self.execution_history"
   ]
  },
  {
   "cell_type": "code",
   "execution_count": 10,
   "metadata": {},
   "outputs": [
    {
     "data": {
      "text/markdown": [
       "---\n",
       "\n",
       "[source](https://github.com/jaewilson07/domo_library/blob/main/domolibrary/classes/DomoDataflow.py#L147){target=\"_blank\" style=\"float:right; font-size:smaller\"}\n",
       "\n",
       "### DomoDataflow.get_execution_history\n",
       "\n",
       ">      DomoDataflow.get_execution_history\n",
       ">                                          (auth:domolibrary.client.DomoAuth.Dom\n",
       ">                                          oAuth=None, maximum=100,\n",
       ">                                          debug_api:bool=False,\n",
       ">                                          debug_num_stacks_to_drop=2,\n",
       ">                                          return_raw:bool=False)\n",
       "\n",
       "retrieves metadata about execution history.  includes details like execution status"
      ],
      "text/plain": [
       "---\n",
       "\n",
       "[source](https://github.com/jaewilson07/domo_library/blob/main/domolibrary/classes/DomoDataflow.py#L147){target=\"_blank\" style=\"float:right; font-size:smaller\"}\n",
       "\n",
       "### DomoDataflow.get_execution_history\n",
       "\n",
       ">      DomoDataflow.get_execution_history\n",
       ">                                          (auth:domolibrary.client.DomoAuth.Dom\n",
       ">                                          oAuth=None, maximum=100,\n",
       ">                                          debug_api:bool=False,\n",
       ">                                          debug_num_stacks_to_drop=2,\n",
       ">                                          return_raw:bool=False)\n",
       "\n",
       "retrieves metadata about execution history.  includes details like execution status"
      ]
     },
     "execution_count": 10,
     "metadata": {},
     "output_type": "execute_result"
    }
   ],
   "source": [
    "show_doc(DomoDataflow.get_execution_history)"
   ]
  },
  {
   "cell_type": "code",
   "execution_count": 11,
   "metadata": {},
   "outputs": [
    {
     "data": {
      "text/plain": [
       "[DomoDataflow_ExecutionSummary(id=327615, dataflow_id=185, dataflow_execution_id='98fb0606-fa1b-48ea-bf96-0f3a052b7e99', dataflow_version=741, begin_time=datetime.datetime(2023, 6, 15, 21, 17, 58), end_time=datetime.datetime(2023, 6, 15, 21, 18, 9), last_updated=datetime.datetime(2023, 6, 15, 21, 18, 9), is_failed=False, state='SUCCESS', activation_type='MANUAL', data_processor='MAGIC', telemetry=[{'name': 'activeOptimizations', 'value': 'c'}], execution_stats={'total_bytes_written': 2299757, 'total_rows_read': 5988, 'total_bytes_read': 624402, 'mean_download_rate_kbps': 239.78276764648052, 'total_rows_written': 5988}),\n",
       " DomoDataflow_ExecutionSummary(id=327600, dataflow_id=185, dataflow_execution_id='33118cae-2a9f-45dc-96dc-7bad72301333', dataflow_version=704, begin_time=datetime.datetime(2023, 6, 15, 21, 3, 5), end_time=datetime.datetime(2023, 6, 15, 21, 3, 16), last_updated=datetime.datetime(2023, 6, 15, 21, 3, 16), is_failed=False, state='SUCCESS', activation_type='MANUAL', data_processor='MAGIC', telemetry=[{'name': 'activeOptimizations', 'value': 'c'}], execution_stats={'total_bytes_written': 1874609, 'total_rows_read': 5988, 'total_bytes_read': 624402, 'mean_download_rate_kbps': 271.8535791908159, 'total_rows_written': 5988}),\n",
       " DomoDataflow_ExecutionSummary(id=311629, dataflow_id=185, dataflow_execution_id='ff0206d4-2117-408e-b45c-f651281bb531', dataflow_version=667, begin_time=datetime.datetime(2023, 5, 18, 23, 0, 45), end_time=datetime.datetime(2023, 5, 18, 23, 0, 56), last_updated=datetime.datetime(2023, 5, 18, 23, 0, 56), is_failed=False, state='SUCCESS', activation_type='MANUAL', data_processor='MAGIC', telemetry=[{'name': 'activeOptimizations', 'value': 'c'}], execution_stats={'total_bytes_written': 1820717, 'total_rows_read': 5988, 'total_bytes_read': 624402, 'mean_download_rate_kbps': 267.7942811264822, 'total_rows_written': 5988}),\n",
       " DomoDataflow_ExecutionSummary(id=311627, dataflow_id=185, dataflow_execution_id='10367d5b-3f1a-40ac-a235-eddd23fbc436', dataflow_version=666, begin_time=datetime.datetime(2023, 5, 18, 22, 57, 23), end_time=datetime.datetime(2023, 5, 18, 22, 57, 33), last_updated=datetime.datetime(2023, 5, 18, 22, 57, 33), is_failed=False, state='SUCCESS', activation_type='MANUAL', data_processor='MAGIC', telemetry=[{'name': 'activeOptimizations', 'value': 'c'}], execution_stats={'total_bytes_written': 1814729, 'total_rows_read': 5988, 'total_bytes_read': 624402, 'mean_download_rate_kbps': 268.50179573976226, 'total_rows_written': 5988}),\n",
       " DomoDataflow_ExecutionSummary(id=311626, dataflow_id=185, dataflow_execution_id='0c493b3f-e44f-4e5a-8aec-db2f4fb3ce97', dataflow_version=664, begin_time=datetime.datetime(2023, 5, 18, 22, 55, 36), end_time=datetime.datetime(2023, 5, 18, 22, 55, 47), last_updated=datetime.datetime(2023, 5, 18, 22, 55, 47), is_failed=False, state='SUCCESS', activation_type='MANUAL', data_processor='MAGIC', telemetry=[{'name': 'activeOptimizations', 'value': 'c'}], execution_stats={'total_bytes_written': 1366868, 'total_rows_read': 5988, 'total_bytes_read': 624402, 'mean_download_rate_kbps': 314.1512509659969, 'total_rows_written': 5988}),\n",
       " DomoDataflow_ExecutionSummary(id=311625, dataflow_id=185, dataflow_execution_id='7d552982-b821-4d7f-83ac-2e2424240b10', dataflow_version=663, begin_time=datetime.datetime(2023, 5, 18, 22, 54, 52), end_time=datetime.datetime(2023, 5, 18, 22, 55, 3), last_updated=datetime.datetime(2023, 5, 18, 22, 55, 3), is_failed=False, state='SUCCESS', activation_type='MANUAL', data_processor='MAGIC', telemetry=[{'name': 'activeOptimizations', 'value': 'c'}], execution_stats={'total_bytes_written': 1345874, 'total_rows_read': 5988, 'total_bytes_read': 624402, 'mean_download_rate_kbps': 245.4780910326087, 'total_rows_written': 5988}),\n",
       " DomoDataflow_ExecutionSummary(id=311623, dataflow_id=185, dataflow_execution_id='4bef80ed-6478-4a88-b728-dc754893ee5b', dataflow_version=662, begin_time=datetime.datetime(2023, 5, 18, 22, 53, 19), end_time=datetime.datetime(2023, 5, 18, 22, 53, 30), last_updated=datetime.datetime(2023, 5, 18, 22, 53, 30), is_failed=False, state='SUCCESS', activation_type='MANUAL', data_processor='MAGIC', telemetry=[{'name': 'activeOptimizations', 'value': 'c'}], execution_stats={'total_bytes_written': 1714555, 'total_rows_read': 5988, 'total_bytes_read': 624402, 'mean_download_rate_kbps': 272.58273496870805, 'total_rows_written': 5988}),\n",
       " DomoDataflow_ExecutionSummary(id=311620, dataflow_id=185, dataflow_execution_id='99e71d66-ce5b-4d07-8fb7-6ab4d6b8511d', dataflow_version=660, begin_time=datetime.datetime(2023, 5, 18, 22, 46, 46), end_time=datetime.datetime(2023, 5, 18, 22, 46, 57), last_updated=datetime.datetime(2023, 5, 18, 22, 46, 57), is_failed=False, state='SUCCESS', activation_type='MANUAL', data_processor='MAGIC', telemetry=[{'name': 'activeOptimizations', 'value': 'c'}], execution_stats={'total_bytes_written': 1714555, 'total_rows_read': 5988, 'total_bytes_read': 602586, 'mean_download_rate_kbps': 254.63560823236693, 'total_rows_written': 5988})]"
      ]
     },
     "execution_count": 11,
     "metadata": {},
     "output_type": "execute_result"
    }
   ],
   "source": [
    "import os\n",
    "\n",
    "token_auth = dmda.DomoTokenAuth(\n",
    "    domo_instance=\"domo-community\",\n",
    "    domo_access_token=os.environ[\"DOMO_DOJO_ACCESS_TOKEN\"],\n",
    ")\n",
    "\n",
    "domo_dataflow = DomoDataflow(id=185, auth=token_auth)\n",
    "\n",
    "await domo_dataflow.get_execution_history(debug_api=False, return_raw=False)"
   ]
  },
  {
   "cell_type": "code",
   "execution_count": 12,
   "metadata": {},
   "outputs": [],
   "source": [
    "# | exporti\n",
    "@patch_to(DomoDataflow)\n",
    "async def execute(\n",
    "    self: DomoDataflow,\n",
    "    auth: dmda.DomoAuth = None,\n",
    "    debug_api: bool = False,\n",
    "    debug_num_stacks_to_drop=2,\n",
    "):\n",
    "    return await dataflow_routes.execute_dataflow(\n",
    "        auth=auth or self.auth,\n",
    "        dataflow_id=self.id,\n",
    "        parent_class=self.__class__.__name__,\n",
    "        debug_api=debug_api,\n",
    "        debug_num_stacks_to_drop=debug_num_stacks_to_drop,\n",
    "    )"
   ]
  },
  {
   "attachments": {},
   "cell_type": "markdown",
   "metadata": {},
   "source": [
    "#### sample execute_dataflow\n"
   ]
  },
  {
   "cell_type": "code",
   "execution_count": 13,
   "metadata": {},
   "outputs": [
    {
     "data": {
      "text/plain": [
       "ResponseGetData(status=200, response={'id': 434017, 'onboardFlowId': 70, 'previewRows': 0, 'dapDataFlowExecutionId': '3c548a62-911f-4830-b4b9-debf5af16f06', 'beginTime': 1701837531130, 'lastUpdated': 1701837532426, 'state': 'CREATED', 'activationType': 'MANUAL', 'executionEngine': {'platform': 'K8S', 'engine': 'MYSQL_SQL_ENGINE'}, 'dataProcessor': 'MYSQL', 'dataFlowVersion': 262}, is_success=True, parent_class=None)"
      ]
     },
     "execution_count": 13,
     "metadata": {},
     "output_type": "execute_result"
    }
   ],
   "source": [
    "import os\n",
    "\n",
    "token_auth = dmda.DomoTokenAuth(\n",
    "    domo_instance=\"domo-community\",\n",
    "    domo_access_token=os.environ[\"DOMO_DOJO_ACCESS_TOKEN\"],\n",
    ")\n",
    "\n",
    "domo_dataflow = DomoDataflow(id=70, auth=token_auth)\n",
    "\n",
    "await domo_dataflow.execute()"
   ]
  },
  {
   "cell_type": "code",
   "execution_count": 14,
   "metadata": {},
   "outputs": [],
   "source": [
    "# | hide\n",
    "import nbdev\n",
    "\n",
    "nbdev.nbdev_export()"
   ]
  }
 ],
 "metadata": {
  "jupytext": {
   "split_at_heading": true
  },
  "kernelspec": {
   "display_name": "python3",
   "language": "python",
   "name": "python3"
  },
  "language_info": {
   "codemirror_mode": {
    "name": "ipython",
    "version": 3
   },
   "file_extension": ".py",
   "mimetype": "text/x-python",
   "name": "python",
   "nbconvert_exporter": "python",
   "pygments_lexer": "ipython3",
   "version": "3.10.13"
  }
 },
 "nbformat": 4,
 "nbformat_minor": 4
}
