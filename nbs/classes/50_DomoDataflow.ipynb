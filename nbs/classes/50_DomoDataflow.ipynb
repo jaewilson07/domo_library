{
 "cells": [
  {
   "cell_type": "raw",
   "metadata": {},
   "source": [
    "---\n",
    "description: a class based approach to interacting with dataflows\n",
    "output-file: dataflow_class.html\n",
    "title: Dataflow\n",
    "---"
   ]
  },
  {
   "cell_type": "code",
   "execution_count": null,
   "metadata": {},
   "outputs": [],
   "source": [
    "# | default_exp classes.DomoDataflow"
   ]
  },
  {
   "cell_type": "code",
   "execution_count": null,
   "metadata": {},
   "outputs": [],
   "source": [
    "# | exporti\n",
    "from __future__ import annotations"
   ]
  },
  {
   "cell_type": "code",
   "execution_count": null,
   "metadata": {},
   "outputs": [],
   "source": [
    "# | exporti\n",
    "\n",
    "from dataclasses import dataclass, field\n",
    "from typing import List\n",
    "\n",
    "import domolibrary.utils.DictDot as util_dd\n",
    "import domolibrary.utils.chunk_execution as ce\n",
    "\n",
    "import domolibrary.client.DomoAuth as dmda\n",
    "import domolibrary.routes.dataflow as dataflow_routes\n",
    "\n",
    "import httpx\n",
    "from nbdev.showdoc import patch_to"
   ]
  },
  {
   "cell_type": "code",
   "execution_count": null,
   "metadata": {},
   "outputs": [],
   "source": [
    "# | export\n",
    "from domolibrary.classes.DomoDataflow_Action import DomoDataflow_Action\n",
    "from domolibrary.classes.DomoDataflow_History import (\n",
    "    DomoDataflow_History,\n",
    "    DomoDataflow_ActionResult,\n",
    ")"
   ]
  },
  {
   "cell_type": "code",
   "execution_count": null,
   "metadata": {},
   "outputs": [],
   "source": [
    "# | hide\n",
    "from nbdev.showdoc import show_doc"
   ]
  },
  {
   "cell_type": "code",
   "execution_count": null,
   "metadata": {},
   "outputs": [],
   "source": [
    "# | export\n",
    "@dataclass\n",
    "class DomoDataflow:\n",
    "    id: str\n",
    "    name: str = None\n",
    "    auth: dmda.DomoAuth = field(default=None, repr=False)\n",
    "    owner: str = None\n",
    "    description: str = None\n",
    "    tags: list[str] = None\n",
    "    actions: list[DomoDataflow_Action] = None\n",
    "\n",
    "    version_id: int = None\n",
    "    version_number: int = None\n",
    "    versions : List[dict] = None # list of DomoDataflow Versions\n",
    "\n",
    "    history: DomoDataflow_History = None  # class for managing the history of a dataflow\n",
    "\n",
    "    def __post_init__(self):\n",
    "        self.history = DomoDataflow_History(\n",
    "            dataflow=self, dataflow_id=self.id, auth=self.auth\n",
    "        )\n",
    "\n",
    "\n",
    "    @classmethod\n",
    "    def _from_json(cls, obj, auth, version_id=None, version_number=None):\n",
    "        dd = util_dd.DictDot(obj)\n",
    "\n",
    "        domo_dataflow = cls(\n",
    "            auth=auth,\n",
    "            id=dd.id,\n",
    "            name=dd.name,\n",
    "            description=dd.description,\n",
    "            owner=dd.owner,\n",
    "            tags=dd.tags,\n",
    "            version_id=version_id,\n",
    "            version_number=version_number,\n",
    "        )\n",
    "\n",
    "        if dd.actions:\n",
    "            domo_dataflow.actions = [\n",
    "                DomoDataflow_Action._from_json(action) for action in dd.actions\n",
    "            ]\n",
    "\n",
    "            [ domo_action.get_parents(domo_dataflow.actions) for domo_action in domo_dataflow.actions]\n",
    "\n",
    "        return domo_dataflow"
   ]
  },
  {
   "cell_type": "code",
   "execution_count": null,
   "metadata": {},
   "outputs": [],
   "source": [
    "# | exporti\n",
    "@patch_to(DomoDataflow, cls_method=True)\n",
    "async def get_from_id(\n",
    "    cls: DomoDataflow,\n",
    "    dataflow_id: int,\n",
    "    auth: dmda.DomoAuth = None,\n",
    "    return_raw: bool = False,\n",
    "    session: httpx.AsyncClient = None,\n",
    "    debug_api: bool = False,\n",
    "    debug_num_stacks_to_drop=2,\n",
    "):\n",
    "    res = await dataflow_routes.get_dataflow_by_id(\n",
    "        auth=auth,\n",
    "        dataflow_id=dataflow_id,\n",
    "        debug_api=debug_api,\n",
    "        debug_num_stacks_to_drop=debug_num_stacks_to_drop,\n",
    "        parent_class=cls.__name__,\n",
    "        session=session,\n",
    "    )\n",
    "\n",
    "    if return_raw:\n",
    "        return res\n",
    "\n",
    "    if not res.is_success:\n",
    "        return None\n",
    "\n",
    "    return cls._from_json(res.response, auth=auth)"
   ]
  },
  {
   "attachments": {},
   "cell_type": "markdown",
   "metadata": {},
   "source": [
    "#### sample implementation of get_from_id\n"
   ]
  },
  {
   "cell_type": "code",
   "execution_count": null,
   "metadata": {},
   "outputs": [
    {
     "data": {
      "text/plain": [
       "DomoDataflow(id=70, name='DomoStats - people - reports', owner=None, description=None, tags=None, actions=[DomoDataflow_Action(id='241025d7-3cca-4369-b7c0-b3264277c0e1', type='LoadFromVault', depends_on=None, name='domostats_people', datasource_id='241025d7-3cca-4369-b7c0-b3264277c0e1', sql=None, parent_actions=None), DomoDataflow_Action(id='c176aa53-122a-4a2e-8b6f-41ca4a72d67c', type='GenerateTableAction', depends_on=['241025d7-3cca-4369-b7c0-b3264277c0e1'], name='t_1', datasource_id=None, sql='SELECT\\n`Display Name`,\\n`User ID`\\n, @row := @row+1 as id\\n, @isReset := case when @iter = @rowCounter then 1 else 0 end isReset\\n, @group := @isReset + @group   as rowGroup\\n, @iter := case when @isReset = 1 then 1 else @iter + 1 end iter\\n, @rowCounter := case when @isReset = 1 then FLOOR( RAND() * (7-3) + 3) else @rowCounter end numChildren\\n\\n\\nfrom `domostats_people` p\\n\\n, (select @row:= 0,@rowCounter:= 1, @iter := 1, @isReset := 0 , @group := 0) r', parent_actions=[DomoDataflow_Action(id='241025d7-3cca-4369-b7c0-b3264277c0e1', type='LoadFromVault', depends_on=None, name='domostats_people', datasource_id='241025d7-3cca-4369-b7c0-b3264277c0e1', sql=None, parent_actions=None)]), DomoDataflow_Action(id='ac9f630d-d865-4925-b955-4316e227229a', type='GenerateTableAction', depends_on=['c176aa53-122a-4a2e-8b6f-41ca4a72d67c'], name='reportsto', datasource_id=None, sql=\"\\nselect  b.`User ID` as userID , 'reportsTo' as Action , a.`User ID` as bodyID\\n\\nfrom t_1 a \\n\\njoin t_1 b \\n\\non a.id = b.`rowGroup`\\nwhere a.`User ID` <> b.`User ID`\\n\\nUNION\\n\\nselect  b.`User ID` as userID , 'directReports' as Action , a.`User ID` as bodyID\\n\\nfrom t_1 a \\n\\njoin t_1 b \\n\\non b.id = a.`rowGroup`\\n\\nwhere a.`User ID` <> b.`User ID`\\n\\n\", parent_actions=[DomoDataflow_Action(id='c176aa53-122a-4a2e-8b6f-41ca4a72d67c', type='GenerateTableAction', depends_on=['241025d7-3cca-4369-b7c0-b3264277c0e1'], name='t_1', datasource_id=None, sql='SELECT\\n`Display Name`,\\n`User ID`\\n, @row := @row+1 as id\\n, @isReset := case when @iter = @rowCounter then 1 else 0 end isReset\\n, @group := @isReset + @group   as rowGroup\\n, @iter := case when @isReset = 1 then 1 else @iter + 1 end iter\\n, @rowCounter := case when @isReset = 1 then FLOOR( RAND() * (7-3) + 3) else @rowCounter end numChildren\\n\\n\\nfrom `domostats_people` p\\n\\n, (select @row:= 0,@rowCounter:= 1, @iter := 1, @isReset := 0 , @group := 0) r', parent_actions=[DomoDataflow_Action(id='241025d7-3cca-4369-b7c0-b3264277c0e1', type='LoadFromVault', depends_on=None, name='domostats_people', datasource_id='241025d7-3cca-4369-b7c0-b3264277c0e1', sql=None, parent_actions=None)])]), DomoDataflow_Action(id='8edc3d78-3586-47a8-9775-c7b146a50d19', type='PublishToVault', depends_on=['ac9f630d-d865-4925-b955-4316e227229a'], name='domoStats_people_reports', datasource_id='d9257748-c181-496e-8f9a-016ee99b4a14', sql='select * from `reportsto`', parent_actions=[DomoDataflow_Action(id='ac9f630d-d865-4925-b955-4316e227229a', type='GenerateTableAction', depends_on=['c176aa53-122a-4a2e-8b6f-41ca4a72d67c'], name='reportsto', datasource_id=None, sql=\"\\nselect  b.`User ID` as userID , 'reportsTo' as Action , a.`User ID` as bodyID\\n\\nfrom t_1 a \\n\\njoin t_1 b \\n\\non a.id = b.`rowGroup`\\nwhere a.`User ID` <> b.`User ID`\\n\\nUNION\\n\\nselect  b.`User ID` as userID , 'directReports' as Action , a.`User ID` as bodyID\\n\\nfrom t_1 a \\n\\njoin t_1 b \\n\\non b.id = a.`rowGroup`\\n\\nwhere a.`User ID` <> b.`User ID`\\n\\n\", parent_actions=[DomoDataflow_Action(id='c176aa53-122a-4a2e-8b6f-41ca4a72d67c', type='GenerateTableAction', depends_on=['241025d7-3cca-4369-b7c0-b3264277c0e1'], name='t_1', datasource_id=None, sql='SELECT\\n`Display Name`,\\n`User ID`\\n, @row := @row+1 as id\\n, @isReset := case when @iter = @rowCounter then 1 else 0 end isReset\\n, @group := @isReset + @group   as rowGroup\\n, @iter := case when @isReset = 1 then 1 else @iter + 1 end iter\\n, @rowCounter := case when @isReset = 1 then FLOOR( RAND() * (7-3) + 3) else @rowCounter end numChildren\\n\\n\\nfrom `domostats_people` p\\n\\n, (select @row:= 0,@rowCounter:= 1, @iter := 1, @isReset := 0 , @group := 0) r', parent_actions=[DomoDataflow_Action(id='241025d7-3cca-4369-b7c0-b3264277c0e1', type='LoadFromVault', depends_on=None, name='domostats_people', datasource_id='241025d7-3cca-4369-b7c0-b3264277c0e1', sql=None, parent_actions=None)])])])], version_id=None, version_number=None, versions=None, history=DomoDataflow_History(execution_history=None))"
      ]
     },
     "execution_count": null,
     "metadata": {},
     "output_type": "execute_result"
    }
   ],
   "source": [
    "import os\n",
    "\n",
    "token_auth = dmda.DomoTokenAuth(\n",
    "    domo_instance=\"domo-community\",\n",
    "    domo_access_token=os.environ[\"DOMO_DOJO_ACCESS_TOKEN\"],\n",
    ")\n",
    "\n",
    "await DomoDataflow.get_from_id(dataflow_id=70, auth=token_auth)"
   ]
  },
  {
   "cell_type": "markdown",
   "metadata": {},
   "source": [
    "#### sample retrieval that also interacts with dataflow history from `DomoDataflow_History`\n",
    "\n",
    "note will return actions history\n"
   ]
  },
  {
   "cell_type": "code",
   "execution_count": null,
   "metadata": {},
   "outputs": [
    {
     "data": {
      "text/plain": [
       "[DomoDataflow_History_Execution(id=436301, dataflow_id=70, dataflow_execution_id='39850865-7669-4897-bc21-96a3bb66589f', dataflow_version=262, begin_time=datetime.datetime(2023, 12, 8, 21, 6, 53), end_time=datetime.datetime(2023, 12, 8, 21, 7, 25), last_updated=datetime.datetime(2023, 12, 8, 21, 7, 25), is_failed=False, state='SUCCESS', activation_type='MANUAL', data_processor='MYSQL', telemetry=None, execution_stats={'total_bytes_written': 98190, 'total_rows_read': 911, 'total_bytes_read': 291865, 'mean_download_rate_kbps': 60.604808433446735, 'total_rows_written': 1820}, action_results=[DomoDataflow_ActionResult(id='8edc3d78-3586-47a8-9775-c7b146a50d19', type='PublishToVault', depends_on=None, name=None, is_success=True, rows_processed=1820, begin_time=datetime.datetime(2023, 12, 8, 21, 7, 23, 501000), end_time=datetime.datetime(2023, 12, 8, 21, 7, 24, 635000), duration_in_sec=1.134), DomoDataflow_ActionResult(id='c176aa53-122a-4a2e-8b6f-41ca4a72d67c', type='GenerateTableAction', depends_on=None, name=None, is_success=True, rows_processed=911, begin_time=datetime.datetime(2023, 12, 8, 21, 7, 22, 973000), end_time=datetime.datetime(2023, 12, 8, 21, 7, 22, 988000), duration_in_sec=0.015), DomoDataflow_ActionResult(id='241025d7-3cca-4369-b7c0-b3264277c0e1', type='DataHubManifestLoaderAction', depends_on=None, name=None, is_success=True, rows_processed=911, begin_time=datetime.datetime(2023, 12, 8, 21, 7, 18, 183000), end_time=datetime.datetime(2023, 12, 8, 21, 7, 22, 886000), duration_in_sec=4.703), DomoDataflow_ActionResult(id='ac9f630d-d865-4925-b955-4316e227229a', type='GenerateTableAction', depends_on=None, name=None, is_success=True, rows_processed=1820, begin_time=datetime.datetime(2023, 12, 8, 21, 7, 22, 988000), end_time=datetime.datetime(2023, 12, 8, 21, 7, 23, 501000), duration_in_sec=0.513)]),\n",
       " DomoDataflow_History_Execution(id=436299, dataflow_id=70, dataflow_execution_id='a18744f6-1743-434c-8a3c-4b158fd3cec6', dataflow_version=262, begin_time=datetime.datetime(2023, 12, 8, 21, 2, 25), end_time=datetime.datetime(2023, 12, 8, 21, 2, 57), last_updated=datetime.datetime(2023, 12, 8, 21, 2, 57), is_failed=False, state='SUCCESS', activation_type='MANUAL', data_processor='MYSQL', telemetry=None, execution_stats={'total_bytes_written': 98214, 'total_rows_read': 911, 'total_bytes_read': 291865, 'mean_download_rate_kbps': 63.198317973946786, 'total_rows_written': 1820}, action_results=[DomoDataflow_ActionResult(id='8edc3d78-3586-47a8-9775-c7b146a50d19', type='PublishToVault', depends_on=None, name=None, is_success=True, rows_processed=1820, begin_time=datetime.datetime(2023, 12, 8, 21, 2, 55, 110000), end_time=datetime.datetime(2023, 12, 8, 21, 2, 56, 292000), duration_in_sec=1.182), DomoDataflow_ActionResult(id='c176aa53-122a-4a2e-8b6f-41ca4a72d67c', type='GenerateTableAction', depends_on=None, name=None, is_success=True, rows_processed=911, begin_time=datetime.datetime(2023, 12, 8, 21, 2, 54, 474000), end_time=datetime.datetime(2023, 12, 8, 21, 2, 54, 486000), duration_in_sec=0.012), DomoDataflow_ActionResult(id='241025d7-3cca-4369-b7c0-b3264277c0e1', type='DataHubManifestLoaderAction', depends_on=None, name=None, is_success=True, rows_processed=911, begin_time=datetime.datetime(2023, 12, 8, 21, 2, 49, 874000), end_time=datetime.datetime(2023, 12, 8, 21, 2, 54, 384000), duration_in_sec=4.51), DomoDataflow_ActionResult(id='ac9f630d-d865-4925-b955-4316e227229a', type='GenerateTableAction', depends_on=None, name=None, is_success=True, rows_processed=1820, begin_time=datetime.datetime(2023, 12, 8, 21, 2, 54, 486000), end_time=datetime.datetime(2023, 12, 8, 21, 2, 55, 110000), duration_in_sec=0.624)]),\n",
       " DomoDataflow_History_Execution(id=436280, dataflow_id=70, dataflow_execution_id='6c1dff9e-73af-41a3-9c4b-b804f5bc3ef2', dataflow_version=262, begin_time=datetime.datetime(2023, 12, 8, 20, 34, 9), end_time=datetime.datetime(2023, 12, 8, 20, 34, 39), last_updated=datetime.datetime(2023, 12, 8, 20, 34, 39), is_failed=False, state='SUCCESS', activation_type='MANUAL', data_processor='MYSQL', telemetry=None, execution_stats={'total_bytes_written': 98200, 'total_rows_read': 911, 'total_bytes_read': 291865, 'mean_download_rate_kbps': 54.61284040285495, 'total_rows_written': 1820}, action_results=[DomoDataflow_ActionResult(id='8edc3d78-3586-47a8-9775-c7b146a50d19', type='PublishToVault', depends_on=None, name=None, is_success=True, rows_processed=1820, begin_time=datetime.datetime(2023, 12, 8, 20, 34, 37, 571000), end_time=datetime.datetime(2023, 12, 8, 20, 34, 38, 487000), duration_in_sec=0.916), DomoDataflow_ActionResult(id='c176aa53-122a-4a2e-8b6f-41ca4a72d67c', type='GenerateTableAction', depends_on=None, name=None, is_success=True, rows_processed=911, begin_time=datetime.datetime(2023, 12, 8, 20, 34, 36, 991000), end_time=datetime.datetime(2023, 12, 8, 20, 34, 37, 87000), duration_in_sec=0.096), DomoDataflow_ActionResult(id='241025d7-3cca-4369-b7c0-b3264277c0e1', type='DataHubManifestLoaderAction', depends_on=None, name=None, is_success=True, rows_processed=911, begin_time=datetime.datetime(2023, 12, 8, 20, 34, 31, 771000), end_time=datetime.datetime(2023, 12, 8, 20, 34, 36, 990000), duration_in_sec=5.219), DomoDataflow_ActionResult(id='ac9f630d-d865-4925-b955-4316e227229a', type='GenerateTableAction', depends_on=None, name=None, is_success=True, rows_processed=1820, begin_time=datetime.datetime(2023, 12, 8, 20, 34, 37, 94000), end_time=datetime.datetime(2023, 12, 8, 20, 34, 37, 571000), duration_in_sec=0.477)]),\n",
       " DomoDataflow_History_Execution(id=436279, dataflow_id=70, dataflow_execution_id='34ebad00-8d0f-41f4-a254-b4949b242592', dataflow_version=262, begin_time=datetime.datetime(2023, 12, 8, 20, 33, 16), end_time=datetime.datetime(2023, 12, 8, 20, 33, 49), last_updated=datetime.datetime(2023, 12, 8, 20, 33, 49), is_failed=False, state='SUCCESS', activation_type='MANUAL', data_processor='MYSQL', telemetry=None, execution_stats={'total_bytes_written': 98166, 'total_rows_read': 911, 'total_bytes_read': 291865, 'mean_download_rate_kbps': 59.17052399055429, 'total_rows_written': 1820}, action_results=[DomoDataflow_ActionResult(id='8edc3d78-3586-47a8-9775-c7b146a50d19', type='PublishToVault', depends_on=None, name=None, is_success=True, rows_processed=1820, begin_time=datetime.datetime(2023, 12, 8, 20, 33, 47, 346000), end_time=datetime.datetime(2023, 12, 8, 20, 33, 48, 477000), duration_in_sec=1.131), DomoDataflow_ActionResult(id='c176aa53-122a-4a2e-8b6f-41ca4a72d67c', type='GenerateTableAction', depends_on=None, name=None, is_success=True, rows_processed=911, begin_time=datetime.datetime(2023, 12, 8, 20, 33, 46, 670000), end_time=datetime.datetime(2023, 12, 8, 20, 33, 46, 678000), duration_in_sec=0.008), DomoDataflow_ActionResult(id='241025d7-3cca-4369-b7c0-b3264277c0e1', type='DataHubManifestLoaderAction', depends_on=None, name=None, is_success=True, rows_processed=911, begin_time=datetime.datetime(2023, 12, 8, 20, 33, 41, 760000), end_time=datetime.datetime(2023, 12, 8, 20, 33, 46, 577000), duration_in_sec=4.817), DomoDataflow_ActionResult(id='ac9f630d-d865-4925-b955-4316e227229a', type='GenerateTableAction', depends_on=None, name=None, is_success=True, rows_processed=1820, begin_time=datetime.datetime(2023, 12, 8, 20, 33, 46, 678000), end_time=datetime.datetime(2023, 12, 8, 20, 33, 47, 258000), duration_in_sec=0.58)]),\n",
       " DomoDataflow_History_Execution(id=436277, dataflow_id=70, dataflow_execution_id='e17d1e90-8b79-4dac-a20e-f833b69a5851', dataflow_version=262, begin_time=datetime.datetime(2023, 12, 8, 20, 31, 35), end_time=datetime.datetime(2023, 12, 8, 20, 32, 7), last_updated=datetime.datetime(2023, 12, 8, 20, 32, 7), is_failed=False, state='SUCCESS', activation_type='MANUAL', data_processor='MYSQL', telemetry=None, execution_stats={'total_bytes_written': 98186, 'total_rows_read': 911, 'total_bytes_read': 291865, 'mean_download_rate_kbps': 69.62003274609184, 'total_rows_written': 1820}, action_results=[DomoDataflow_ActionResult(id='8edc3d78-3586-47a8-9775-c7b146a50d19', type='PublishToVault', depends_on=None, name=None, is_success=True, rows_processed=1820, begin_time=datetime.datetime(2023, 12, 8, 20, 32, 4, 802000), end_time=datetime.datetime(2023, 12, 8, 20, 32, 6, 394000), duration_in_sec=1.592), DomoDataflow_ActionResult(id='c176aa53-122a-4a2e-8b6f-41ca4a72d67c', type='GenerateTableAction', depends_on=None, name=None, is_success=True, rows_processed=911, begin_time=datetime.datetime(2023, 12, 8, 20, 32, 4, 103000), end_time=datetime.datetime(2023, 12, 8, 20, 32, 4, 391000), duration_in_sec=0.288), DomoDataflow_ActionResult(id='241025d7-3cca-4369-b7c0-b3264277c0e1', type='DataHubManifestLoaderAction', depends_on=None, name=None, is_success=True, rows_processed=911, begin_time=datetime.datetime(2023, 12, 8, 20, 32, 0, 7000), end_time=datetime.datetime(2023, 12, 8, 20, 32, 4, 101000), duration_in_sec=4.094), DomoDataflow_ActionResult(id='ac9f630d-d865-4925-b955-4316e227229a', type='GenerateTableAction', depends_on=None, name=None, is_success=True, rows_processed=1820, begin_time=datetime.datetime(2023, 12, 8, 20, 32, 4, 391000), end_time=datetime.datetime(2023, 12, 8, 20, 32, 4, 802000), duration_in_sec=0.411)])]"
      ]
     },
     "execution_count": null,
     "metadata": {},
     "output_type": "execute_result"
    }
   ],
   "source": [
    "import os\n",
    "\n",
    "token_auth = dmda.DomoTokenAuth(\n",
    "    domo_instance=\"domo-community\",\n",
    "    domo_access_token=os.environ[\"DOMO_DOJO_ACCESS_TOKEN\"],\n",
    ")\n",
    "\n",
    "domo_dataflow = await DomoDataflow.get_from_id(dataflow_id=70, auth=token_auth)\n",
    "await domo_dataflow.history.get_execution_history(maximum=5)"
   ]
  },
  {
   "cell_type": "code",
   "execution_count": null,
   "metadata": {},
   "outputs": [],
   "source": [
    "# | exporti\n",
    "@patch_to(DomoDataflow)\n",
    "async def execute(\n",
    "    self: DomoDataflow,\n",
    "    auth: dmda.DomoAuth = None,\n",
    "    debug_api: bool = False,\n",
    "    debug_num_stacks_to_drop=2,\n",
    "):\n",
    "    return await dataflow_routes.execute_dataflow(\n",
    "        auth=auth or self.auth,\n",
    "        dataflow_id=self.id,\n",
    "        parent_class=self.__class__.__name__,\n",
    "        debug_api=debug_api,\n",
    "        debug_num_stacks_to_drop=debug_num_stacks_to_drop,\n",
    "    )"
   ]
  },
  {
   "attachments": {},
   "cell_type": "markdown",
   "metadata": {},
   "source": [
    "#### sample execute_dataflow\n"
   ]
  },
  {
   "cell_type": "code",
   "execution_count": null,
   "metadata": {},
   "outputs": [
    {
     "data": {
      "text/plain": [
       "ResponseGetData(status=200, response={'id': 436301, 'onboardFlowId': 70, 'previewRows': 0, 'dapDataFlowExecutionId': '39850865-7669-4897-bc21-96a3bb66589f', 'beginTime': 1702069612558, 'lastUpdated': 1702069613275, 'state': 'CREATED', 'activationType': 'MANUAL', 'executionEngine': {'platform': 'K8S', 'engine': 'MYSQL_SQL_ENGINE'}, 'dataProcessor': 'MYSQL', 'dataFlowVersion': 262}, is_success=True, parent_class=None)"
      ]
     },
     "execution_count": null,
     "metadata": {},
     "output_type": "execute_result"
    }
   ],
   "source": [
    "import os\n",
    "\n",
    "token_auth = dmda.DomoTokenAuth(\n",
    "    domo_instance=\"domo-community\",\n",
    "    domo_access_token=os.environ[\"DOMO_DOJO_ACCESS_TOKEN\"],\n",
    ")\n",
    "\n",
    "domo_dataflow = DomoDataflow(id=70, auth=token_auth)\n",
    "\n",
    "await domo_dataflow.execute()"
   ]
  },
  {
   "cell_type": "markdown",
   "metadata": {},
   "source": [
    "# Dataflow Versions\n"
   ]
  },
  {
   "cell_type": "code",
   "execution_count": null,
   "metadata": {},
   "outputs": [],
   "source": [
    "# | exporti\n",
    "\n",
    "\n",
    "@patch_to(DomoDataflow, cls_method=True)\n",
    "async def get_by_version_id(\n",
    "    cls: DomoDataflow,\n",
    "    auth: dmda.DomoAuth,\n",
    "    dataflow_id: int,\n",
    "    version_id: int,\n",
    "    debug_api: bool = False,\n",
    "    debug_num_stacks_to_drop=2,\n",
    "    session: httpx.AsyncClient = None,\n",
    "    return_raw: bool = False,\n",
    "):\n",
    "    res = await dataflow_routes.get_dataflow_by_id_and_version(\n",
    "        auth=auth,\n",
    "        dataflow_id=dataflow_id,\n",
    "        version_id=version_id,\n",
    "        debug_api=debug_api,\n",
    "        debug_num_stacks_to_drop=debug_num_stacks_to_drop,\n",
    "        parent_class=cls.__name__,\n",
    "        session = session\n",
    "    )\n",
    "\n",
    "    if return_raw:\n",
    "        return res\n",
    "\n",
    "    domo_dataflow = cls._from_json(\n",
    "        res.response[\"dataFlow\"],\n",
    "        version_id=res.response[\"id\"],\n",
    "        version_number=res.response[\"versionNumber\"],\n",
    "        auth=auth,\n",
    "    )\n",
    "\n",
    "    return domo_dataflow"
   ]
  },
  {
   "cell_type": "code",
   "execution_count": null,
   "metadata": {},
   "outputs": [
    {
     "data": {
      "text/plain": [
       "DomoDataflow(id=70, name='DomoStats - people - reports', owner=None, description=None, tags=None, actions=[DomoDataflow_Action(id='241025d7-3cca-4369-b7c0-b3264277c0e1', type='LoadFromVault', depends_on=None, name='domostats_people', datasource_id='241025d7-3cca-4369-b7c0-b3264277c0e1', sql=None, parent_actions=None), DomoDataflow_Action(id='c176aa53-122a-4a2e-8b6f-41ca4a72d67c', type='GenerateTableAction', depends_on=['241025d7-3cca-4369-b7c0-b3264277c0e1'], name='t_1', datasource_id=None, sql='SELECT\\n`Display Name`,\\n`User ID`\\n, @row := @row+1 as id\\n, @isReset := case when @iter = @rowCounter then 1 else 0 end isReset\\n, @group := @isReset + @group   as rowGroup\\n, @iter := case when @isReset = 1 then 1 else @iter + 1 end iter\\n, @rowCounter := case when @isReset = 1 then FLOOR( RAND() * (7-3) + 3) else @rowCounter end numChildren\\n\\n\\nfrom `domostats_people` p\\n\\n, (select @row:= 0,@rowCounter:= 1, @iter := 1, @isReset := 0 , @group := 0) r', parent_actions=[DomoDataflow_Action(id='241025d7-3cca-4369-b7c0-b3264277c0e1', type='LoadFromVault', depends_on=None, name='domostats_people', datasource_id='241025d7-3cca-4369-b7c0-b3264277c0e1', sql=None, parent_actions=None)]), DomoDataflow_Action(id='ac9f630d-d865-4925-b955-4316e227229a', type='GenerateTableAction', depends_on=['c176aa53-122a-4a2e-8b6f-41ca4a72d67c'], name='reportsto', datasource_id=None, sql=\"\\nselect  b.`User ID` as userID , 'reportsTo' as Action , a.`User ID` as bodyID\\n\\nfrom t_1 a \\n\\njoin t_1 b \\n\\non a.id = b.`rowGroup`\\nwhere a.`User ID` <> b.`User ID`\\n\\nUNION\\n\\nselect  b.`User ID` as userID , 'directReports' as Action , a.`User ID` as bodyID\\n\\nfrom t_1 a \\n\\njoin t_1 b \\n\\non b.id = a.`rowGroup`\\n\\nwhere a.`User ID` <> b.`User ID`\\n\\n\", parent_actions=[DomoDataflow_Action(id='c176aa53-122a-4a2e-8b6f-41ca4a72d67c', type='GenerateTableAction', depends_on=['241025d7-3cca-4369-b7c0-b3264277c0e1'], name='t_1', datasource_id=None, sql='SELECT\\n`Display Name`,\\n`User ID`\\n, @row := @row+1 as id\\n, @isReset := case when @iter = @rowCounter then 1 else 0 end isReset\\n, @group := @isReset + @group   as rowGroup\\n, @iter := case when @isReset = 1 then 1 else @iter + 1 end iter\\n, @rowCounter := case when @isReset = 1 then FLOOR( RAND() * (7-3) + 3) else @rowCounter end numChildren\\n\\n\\nfrom `domostats_people` p\\n\\n, (select @row:= 0,@rowCounter:= 1, @iter := 1, @isReset := 0 , @group := 0) r', parent_actions=[DomoDataflow_Action(id='241025d7-3cca-4369-b7c0-b3264277c0e1', type='LoadFromVault', depends_on=None, name='domostats_people', datasource_id='241025d7-3cca-4369-b7c0-b3264277c0e1', sql=None, parent_actions=None)])]), DomoDataflow_Action(id='8edc3d78-3586-47a8-9775-c7b146a50d19', type='PublishToVault', depends_on=['ac9f630d-d865-4925-b955-4316e227229a'], name='domoStats_people_reports', datasource_id='d9257748-c181-496e-8f9a-016ee99b4a14', sql='select * from `reportsto`', parent_actions=[DomoDataflow_Action(id='ac9f630d-d865-4925-b955-4316e227229a', type='GenerateTableAction', depends_on=['c176aa53-122a-4a2e-8b6f-41ca4a72d67c'], name='reportsto', datasource_id=None, sql=\"\\nselect  b.`User ID` as userID , 'reportsTo' as Action , a.`User ID` as bodyID\\n\\nfrom t_1 a \\n\\njoin t_1 b \\n\\non a.id = b.`rowGroup`\\nwhere a.`User ID` <> b.`User ID`\\n\\nUNION\\n\\nselect  b.`User ID` as userID , 'directReports' as Action , a.`User ID` as bodyID\\n\\nfrom t_1 a \\n\\njoin t_1 b \\n\\non b.id = a.`rowGroup`\\n\\nwhere a.`User ID` <> b.`User ID`\\n\\n\", parent_actions=[DomoDataflow_Action(id='c176aa53-122a-4a2e-8b6f-41ca4a72d67c', type='GenerateTableAction', depends_on=['241025d7-3cca-4369-b7c0-b3264277c0e1'], name='t_1', datasource_id=None, sql='SELECT\\n`Display Name`,\\n`User ID`\\n, @row := @row+1 as id\\n, @isReset := case when @iter = @rowCounter then 1 else 0 end isReset\\n, @group := @isReset + @group   as rowGroup\\n, @iter := case when @isReset = 1 then 1 else @iter + 1 end iter\\n, @rowCounter := case when @isReset = 1 then FLOOR( RAND() * (7-3) + 3) else @rowCounter end numChildren\\n\\n\\nfrom `domostats_people` p\\n\\n, (select @row:= 0,@rowCounter:= 1, @iter := 1, @isReset := 0 , @group := 0) r', parent_actions=[DomoDataflow_Action(id='241025d7-3cca-4369-b7c0-b3264277c0e1', type='LoadFromVault', depends_on=None, name='domostats_people', datasource_id='241025d7-3cca-4369-b7c0-b3264277c0e1', sql=None, parent_actions=None)])])])], version_id=262, version_number=3, versions=None, history=DomoDataflow_History(execution_history=None))"
      ]
     },
     "execution_count": null,
     "metadata": {},
     "output_type": "execute_result"
    }
   ],
   "source": [
    "import os\n",
    "\n",
    "token_auth = dmda.DomoTokenAuth(\n",
    "    domo_instance=\"domo-community\",\n",
    "    domo_access_token=os.environ[\"DOMO_DOJO_ACCESS_TOKEN\"],\n",
    ")\n",
    "\n",
    "await DomoDataflow.get_by_version_id(\n",
    "    dataflow_id=70, version_id=262, auth=token_auth, return_raw=False\n",
    ")"
   ]
  },
  {
   "cell_type": "code",
   "execution_count": null,
   "metadata": {},
   "outputs": [],
   "source": [
    "# | exporti\n",
    "@patch_to(DomoDataflow)\n",
    "async def get_versions(\n",
    "    self: DomoDataflow,\n",
    "    debug_api: bool = False,\n",
    "    debug_num_stacks_to_drop=2,\n",
    "    session: httpx.AsyncClient = None,\n",
    "    return_raw: bool = False,\n",
    "):\n",
    "    res = await dataflow_routes.get_dataflow_versions(\n",
    "        auth=self.auth, dataflow_id=self.id,\n",
    "        debug_api = debug_api, session = session,\n",
    "        debug_num_stacks_to_drop = debug_num_stacks_to_drop,\n",
    "        parent_class = self.__class__.__name__\n",
    "    )\n",
    "\n",
    "    if return_raw:\n",
    "        return res\n",
    "\n",
    "    version_ids = [df_obj[\"id\"] for df_obj in res.response]\n",
    "\n",
    "    self.versions= await ce.gather_with_concurrency(\n",
    "        *[\n",
    "            DomoDataflow.get_by_version_id(\n",
    "                dataflow_id=self.id, version_id=version_id, auth=self.auth,\n",
    "                session = session,\n",
    "                debug_api = debug_api,\n",
    "                debug_num_stacks_to_drop = debug_num_stacks_to_drop\n",
    "\n",
    "            )\n",
    "            for version_id in version_ids\n",
    "        ],\n",
    "        n=10\n",
    "    )\n",
    "\n",
    "    return self.versions"
   ]
  },
  {
   "cell_type": "code",
   "execution_count": null,
   "metadata": {},
   "outputs": [
    {
     "data": {
      "text/plain": [
       "[DomoDataflow(id=70, name='DomoStats - people - reports', owner=None, description=None, tags=None, actions=[DomoDataflow_Action(id='241025d7-3cca-4369-b7c0-b3264277c0e1', type='LoadFromVault', depends_on=None, name='domostats_people', datasource_id='241025d7-3cca-4369-b7c0-b3264277c0e1', sql=None, parent_actions=None), DomoDataflow_Action(id='c176aa53-122a-4a2e-8b6f-41ca4a72d67c', type='GenerateTableAction', depends_on=['241025d7-3cca-4369-b7c0-b3264277c0e1'], name='t_1', datasource_id=None, sql='SELECT\\n`Display Name`,\\n`User ID`\\n, @row := @row+1 as id\\n, @isReset := case when @iter = @rowCounter then 1 else 0 end isReset\\n, @group := @isReset + @group   as rowGroup\\n, @iter := case when @isReset = 1 then 1 else @iter + 1 end iter\\n, @rowCounter := case when @isReset = 1 then FLOOR( RAND() * (7-3) + 3) else @rowCounter end numChildren\\n\\n\\nfrom `domostats_people` p\\n\\n, (select @row:= 0,@rowCounter:= 1, @iter := 1, @isReset := 0 , @group := 0) r', parent_actions=[DomoDataflow_Action(id='241025d7-3cca-4369-b7c0-b3264277c0e1', type='LoadFromVault', depends_on=None, name='domostats_people', datasource_id='241025d7-3cca-4369-b7c0-b3264277c0e1', sql=None, parent_actions=None)]), DomoDataflow_Action(id='ac9f630d-d865-4925-b955-4316e227229a', type='GenerateTableAction', depends_on=['c176aa53-122a-4a2e-8b6f-41ca4a72d67c'], name='reportsto', datasource_id=None, sql=\"\\nselect  b.`User ID` as userID , 'reportsTo' as Action , a.`User ID` as bodyID\\n\\nfrom t_1 a \\n\\njoin t_1 b \\n\\non a.id = b.`rowGroup`\\nwhere a.`User ID` <> b.`User ID`\\n\\nUNION\\n\\nselect  b.`User ID` as userID , 'directReports' as Action , a.`User ID` as bodyID\\n\\nfrom t_1 a \\n\\njoin t_1 b \\n\\non b.id = a.`rowGroup`\\n\\nwhere a.`User ID` <> b.`User ID`\\n\\n\", parent_actions=[DomoDataflow_Action(id='c176aa53-122a-4a2e-8b6f-41ca4a72d67c', type='GenerateTableAction', depends_on=['241025d7-3cca-4369-b7c0-b3264277c0e1'], name='t_1', datasource_id=None, sql='SELECT\\n`Display Name`,\\n`User ID`\\n, @row := @row+1 as id\\n, @isReset := case when @iter = @rowCounter then 1 else 0 end isReset\\n, @group := @isReset + @group   as rowGroup\\n, @iter := case when @isReset = 1 then 1 else @iter + 1 end iter\\n, @rowCounter := case when @isReset = 1 then FLOOR( RAND() * (7-3) + 3) else @rowCounter end numChildren\\n\\n\\nfrom `domostats_people` p\\n\\n, (select @row:= 0,@rowCounter:= 1, @iter := 1, @isReset := 0 , @group := 0) r', parent_actions=[DomoDataflow_Action(id='241025d7-3cca-4369-b7c0-b3264277c0e1', type='LoadFromVault', depends_on=None, name='domostats_people', datasource_id='241025d7-3cca-4369-b7c0-b3264277c0e1', sql=None, parent_actions=None)])]), DomoDataflow_Action(id='8edc3d78-3586-47a8-9775-c7b146a50d19', type='PublishToVault', depends_on=['ac9f630d-d865-4925-b955-4316e227229a'], name='domoStats_people_reports', datasource_id='d9257748-c181-496e-8f9a-016ee99b4a14', sql='select * from `reportsto`', parent_actions=[DomoDataflow_Action(id='ac9f630d-d865-4925-b955-4316e227229a', type='GenerateTableAction', depends_on=['c176aa53-122a-4a2e-8b6f-41ca4a72d67c'], name='reportsto', datasource_id=None, sql=\"\\nselect  b.`User ID` as userID , 'reportsTo' as Action , a.`User ID` as bodyID\\n\\nfrom t_1 a \\n\\njoin t_1 b \\n\\non a.id = b.`rowGroup`\\nwhere a.`User ID` <> b.`User ID`\\n\\nUNION\\n\\nselect  b.`User ID` as userID , 'directReports' as Action , a.`User ID` as bodyID\\n\\nfrom t_1 a \\n\\njoin t_1 b \\n\\non b.id = a.`rowGroup`\\n\\nwhere a.`User ID` <> b.`User ID`\\n\\n\", parent_actions=[DomoDataflow_Action(id='c176aa53-122a-4a2e-8b6f-41ca4a72d67c', type='GenerateTableAction', depends_on=['241025d7-3cca-4369-b7c0-b3264277c0e1'], name='t_1', datasource_id=None, sql='SELECT\\n`Display Name`,\\n`User ID`\\n, @row := @row+1 as id\\n, @isReset := case when @iter = @rowCounter then 1 else 0 end isReset\\n, @group := @isReset + @group   as rowGroup\\n, @iter := case when @isReset = 1 then 1 else @iter + 1 end iter\\n, @rowCounter := case when @isReset = 1 then FLOOR( RAND() * (7-3) + 3) else @rowCounter end numChildren\\n\\n\\nfrom `domostats_people` p\\n\\n, (select @row:= 0,@rowCounter:= 1, @iter := 1, @isReset := 0 , @group := 0) r', parent_actions=[DomoDataflow_Action(id='241025d7-3cca-4369-b7c0-b3264277c0e1', type='LoadFromVault', depends_on=None, name='domostats_people', datasource_id='241025d7-3cca-4369-b7c0-b3264277c0e1', sql=None, parent_actions=None)])])])], version_id=262, version_number=3, versions=None, history=DomoDataflow_History(execution_history=None)),\n",
       " DomoDataflow(id=70, name='sel', owner=None, description=None, tags=None, actions=[DomoDataflow_Action(id='241025d7-3cca-4369-b7c0-b3264277c0e1', type='LoadFromVault', depends_on=None, name='domostats_people', datasource_id='241025d7-3cca-4369-b7c0-b3264277c0e1', sql=None, parent_actions=None), DomoDataflow_Action(id='c176aa53-122a-4a2e-8b6f-41ca4a72d67c', type='GenerateTableAction', depends_on=['241025d7-3cca-4369-b7c0-b3264277c0e1'], name='t_1', datasource_id=None, sql='SELECT\\n`Display Name`,\\n`User ID`\\n, @row := @row+1 as id\\n, @isReset := case when @iter = @rowCounter then 1 else 0 end isReset\\n, @group := @isReset + @group   as rowGroup\\n, @iter := case when @isReset = 1 then 1 else @iter + 1 end iter\\n, @rowCounter := case when @isReset = 1 then FLOOR( RAND() * (7-3) + 3) else @rowCounter end numChildren\\n\\n\\nfrom `domostats_people` p\\n\\n, (select @row:= 0,@rowCounter:= 1, @iter := 1, @isReset := 0 , @group := 0) r', parent_actions=[DomoDataflow_Action(id='241025d7-3cca-4369-b7c0-b3264277c0e1', type='LoadFromVault', depends_on=None, name='domostats_people', datasource_id='241025d7-3cca-4369-b7c0-b3264277c0e1', sql=None, parent_actions=None)]), DomoDataflow_Action(id='ac9f630d-d865-4925-b955-4316e227229a', type='GenerateTableAction', depends_on=['c176aa53-122a-4a2e-8b6f-41ca4a72d67c'], name='reportsto', datasource_id=None, sql=\"\\nselect  b.`User ID` as userID , 'reportsTo' as Action , a.`User ID` as bodyID\\n\\nfrom t_1 a \\n\\njoin t_1 b \\n\\non a.id = b.`rowGroup`\\nwhere a.`User ID` <> b.`User ID`\\n\\nUNION\\n\\nselect  b.`User ID` as userID , 'directReports' as Action , a.`User ID` as bodyID\\n\\nfrom t_1 a \\n\\njoin t_1 b \\n\\non b.id = a.`rowGroup`\\n\\nwhere a.`User ID` <> b.`User ID`\\n\\n\", parent_actions=[DomoDataflow_Action(id='c176aa53-122a-4a2e-8b6f-41ca4a72d67c', type='GenerateTableAction', depends_on=['241025d7-3cca-4369-b7c0-b3264277c0e1'], name='t_1', datasource_id=None, sql='SELECT\\n`Display Name`,\\n`User ID`\\n, @row := @row+1 as id\\n, @isReset := case when @iter = @rowCounter then 1 else 0 end isReset\\n, @group := @isReset + @group   as rowGroup\\n, @iter := case when @isReset = 1 then 1 else @iter + 1 end iter\\n, @rowCounter := case when @isReset = 1 then FLOOR( RAND() * (7-3) + 3) else @rowCounter end numChildren\\n\\n\\nfrom `domostats_people` p\\n\\n, (select @row:= 0,@rowCounter:= 1, @iter := 1, @isReset := 0 , @group := 0) r', parent_actions=[DomoDataflow_Action(id='241025d7-3cca-4369-b7c0-b3264277c0e1', type='LoadFromVault', depends_on=None, name='domostats_people', datasource_id='241025d7-3cca-4369-b7c0-b3264277c0e1', sql=None, parent_actions=None)])]), DomoDataflow_Action(id='8edc3d78-3586-47a8-9775-c7b146a50d19', type='PublishToVault', depends_on=['ac9f630d-d865-4925-b955-4316e227229a'], name='domoStats_people_reports', datasource_id='d9257748-c181-496e-8f9a-016ee99b4a14', sql='select * from `reportsto`', parent_actions=[DomoDataflow_Action(id='ac9f630d-d865-4925-b955-4316e227229a', type='GenerateTableAction', depends_on=['c176aa53-122a-4a2e-8b6f-41ca4a72d67c'], name='reportsto', datasource_id=None, sql=\"\\nselect  b.`User ID` as userID , 'reportsTo' as Action , a.`User ID` as bodyID\\n\\nfrom t_1 a \\n\\njoin t_1 b \\n\\non a.id = b.`rowGroup`\\nwhere a.`User ID` <> b.`User ID`\\n\\nUNION\\n\\nselect  b.`User ID` as userID , 'directReports' as Action , a.`User ID` as bodyID\\n\\nfrom t_1 a \\n\\njoin t_1 b \\n\\non b.id = a.`rowGroup`\\n\\nwhere a.`User ID` <> b.`User ID`\\n\\n\", parent_actions=[DomoDataflow_Action(id='c176aa53-122a-4a2e-8b6f-41ca4a72d67c', type='GenerateTableAction', depends_on=['241025d7-3cca-4369-b7c0-b3264277c0e1'], name='t_1', datasource_id=None, sql='SELECT\\n`Display Name`,\\n`User ID`\\n, @row := @row+1 as id\\n, @isReset := case when @iter = @rowCounter then 1 else 0 end isReset\\n, @group := @isReset + @group   as rowGroup\\n, @iter := case when @isReset = 1 then 1 else @iter + 1 end iter\\n, @rowCounter := case when @isReset = 1 then FLOOR( RAND() * (7-3) + 3) else @rowCounter end numChildren\\n\\n\\nfrom `domostats_people` p\\n\\n, (select @row:= 0,@rowCounter:= 1, @iter := 1, @isReset := 0 , @group := 0) r', parent_actions=[DomoDataflow_Action(id='241025d7-3cca-4369-b7c0-b3264277c0e1', type='LoadFromVault', depends_on=None, name='domostats_people', datasource_id='241025d7-3cca-4369-b7c0-b3264277c0e1', sql=None, parent_actions=None)])])])], version_id=261, version_number=2, versions=None, history=DomoDataflow_History(execution_history=None)),\n",
       " DomoDataflow(id=70, name='sel', owner=None, description=None, tags=None, actions=[DomoDataflow_Action(id='241025d7-3cca-4369-b7c0-b3264277c0e1', type='LoadFromVault', depends_on=None, name='domostats_people', datasource_id='241025d7-3cca-4369-b7c0-b3264277c0e1', sql=None, parent_actions=None), DomoDataflow_Action(id='c176aa53-122a-4a2e-8b6f-41ca4a72d67c', type='GenerateTableAction', depends_on=['241025d7-3cca-4369-b7c0-b3264277c0e1'], name='t_1', datasource_id=None, sql='SELECT\\n`Display Name`,\\n`User ID`\\n, @row := @row+1 as id\\n, @isReset := case when @iter = @rowCounter then 1 else 0 end isReset\\n, @group := @isReset + @group   as rowGroup\\n, @iter := case when @isReset = 1 then 1 else @iter + 1 end iter\\n, @rowCounter := case when @isReset = 1 then FLOOR( RAND() * (7-3) + 3) else @rowCounter end numChildren\\n\\n\\nfrom `domostats_people` p\\n\\n, (select @row:= 0,@rowCounter:= 1, @iter := 1, @isReset := 0 , @group := 0) r', parent_actions=[DomoDataflow_Action(id='241025d7-3cca-4369-b7c0-b3264277c0e1', type='LoadFromVault', depends_on=None, name='domostats_people', datasource_id='241025d7-3cca-4369-b7c0-b3264277c0e1', sql=None, parent_actions=None)]), DomoDataflow_Action(id='ac9f630d-d865-4925-b955-4316e227229a', type='GenerateTableAction', depends_on=['c176aa53-122a-4a2e-8b6f-41ca4a72d67c'], name='reportsto', datasource_id=None, sql=\"select  a.`User ID` as parent, b.`User ID` , 'reportsTo' as Action\\n\\nfrom t_1 a \\n\\njoin t_1 b \\n\\non a.id = b.`rowGroup`\", parent_actions=[DomoDataflow_Action(id='c176aa53-122a-4a2e-8b6f-41ca4a72d67c', type='GenerateTableAction', depends_on=['241025d7-3cca-4369-b7c0-b3264277c0e1'], name='t_1', datasource_id=None, sql='SELECT\\n`Display Name`,\\n`User ID`\\n, @row := @row+1 as id\\n, @isReset := case when @iter = @rowCounter then 1 else 0 end isReset\\n, @group := @isReset + @group   as rowGroup\\n, @iter := case when @isReset = 1 then 1 else @iter + 1 end iter\\n, @rowCounter := case when @isReset = 1 then FLOOR( RAND() * (7-3) + 3) else @rowCounter end numChildren\\n\\n\\nfrom `domostats_people` p\\n\\n, (select @row:= 0,@rowCounter:= 1, @iter := 1, @isReset := 0 , @group := 0) r', parent_actions=[DomoDataflow_Action(id='241025d7-3cca-4369-b7c0-b3264277c0e1', type='LoadFromVault', depends_on=None, name='domostats_people', datasource_id='241025d7-3cca-4369-b7c0-b3264277c0e1', sql=None, parent_actions=None)])]), DomoDataflow_Action(id='8edc3d78-3586-47a8-9775-c7b146a50d19', type='PublishToVault', depends_on=['ac9f630d-d865-4925-b955-4316e227229a'], name='output_dataset_1', datasource_id='d9257748-c181-496e-8f9a-016ee99b4a14', sql='select 1', parent_actions=[DomoDataflow_Action(id='ac9f630d-d865-4925-b955-4316e227229a', type='GenerateTableAction', depends_on=['c176aa53-122a-4a2e-8b6f-41ca4a72d67c'], name='reportsto', datasource_id=None, sql=\"select  a.`User ID` as parent, b.`User ID` , 'reportsTo' as Action\\n\\nfrom t_1 a \\n\\njoin t_1 b \\n\\non a.id = b.`rowGroup`\", parent_actions=[DomoDataflow_Action(id='c176aa53-122a-4a2e-8b6f-41ca4a72d67c', type='GenerateTableAction', depends_on=['241025d7-3cca-4369-b7c0-b3264277c0e1'], name='t_1', datasource_id=None, sql='SELECT\\n`Display Name`,\\n`User ID`\\n, @row := @row+1 as id\\n, @isReset := case when @iter = @rowCounter then 1 else 0 end isReset\\n, @group := @isReset + @group   as rowGroup\\n, @iter := case when @isReset = 1 then 1 else @iter + 1 end iter\\n, @rowCounter := case when @isReset = 1 then FLOOR( RAND() * (7-3) + 3) else @rowCounter end numChildren\\n\\n\\nfrom `domostats_people` p\\n\\n, (select @row:= 0,@rowCounter:= 1, @iter := 1, @isReset := 0 , @group := 0) r', parent_actions=[DomoDataflow_Action(id='241025d7-3cca-4369-b7c0-b3264277c0e1', type='LoadFromVault', depends_on=None, name='domostats_people', datasource_id='241025d7-3cca-4369-b7c0-b3264277c0e1', sql=None, parent_actions=None)])])])], version_id=260, version_number=1, versions=None, history=DomoDataflow_History(execution_history=None))]"
      ]
     },
     "execution_count": null,
     "metadata": {},
     "output_type": "execute_result"
    }
   ],
   "source": [
    "import os\n",
    "\n",
    "token_auth = dmda.DomoTokenAuth(\n",
    "    domo_instance=\"domo-community\",\n",
    "    domo_access_token=os.environ[\"DOMO_DOJO_ACCESS_TOKEN\"],\n",
    ")\n",
    "\n",
    "domo_dataflow = DomoDataflow(id=70, auth=token_auth)\n",
    "\n",
    "await domo_dataflow.get_versions(return_raw=False)"
   ]
  },
  {
   "cell_type": "code",
   "execution_count": null,
   "metadata": {},
   "outputs": [],
   "source": [
    "# | hide\n",
    "import nbdev\n",
    "\n",
    "nbdev.nbdev_export()"
   ]
  }
 ],
 "metadata": {
  "jupytext": {
   "split_at_heading": true
  },
  "kernelspec": {
   "display_name": "python3",
   "language": "python",
   "name": "python3"
  }
 },
 "nbformat": 4,
 "nbformat_minor": 4
}
