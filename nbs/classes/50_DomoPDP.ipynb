{
 "cells": [
  {
   "cell_type": "raw",
   "metadata": {},
   "source": [
    "---\n",
    "output-file: pdp_class.html\n",
    "title: PDP\n",
    "\n",
    "---"
   ]
  },
  {
   "cell_type": "code",
   "execution_count": null,
   "metadata": {},
   "outputs": [],
   "source": [
    "# | default_exp classes.DomoPDP"
   ]
  },
  {
   "cell_type": "code",
   "execution_count": null,
   "metadata": {},
   "outputs": [],
   "source": [
    "# | exporti\n",
    "import asyncio\n",
    "import datetime as dt\n",
    "import io\n",
    "import json\n",
    "\n",
    "import httpx\n",
    "import pandas as pd\n",
    "\n",
    "from nbdev.showdoc import patch_to\n",
    "\n",
    "from dataclasses import dataclass, field\n",
    "from enum import Enum, auto\n",
    "\n",
    "import domolibrary.utils.DictDot as util_dd\n",
    "import domolibrary.utils.chunk_execution as ce\n",
    "\n",
    "import domolibrary.routes.pdp as pdp_routes\n",
    "\n",
    "import domolibrary.client.DomoAuth as dmda\n",
    "import domolibrary.client.DomoError as de\n",
    "\n",
    "# from ..utils.chunk_execution import chunk_list\n",
    "# from . import DomoCertification as dmdc"
   ]
  },
  {
   "cell_type": "markdown",
   "metadata": {},
   "source": [
    "The PDP class is an example of how domolibrary uses composition.  PDP is a feature of Datasets; however to segment classes, PDP was written as a separate class.  In a future sprint the naming of this class may be modified for clarity."
   ]
  },
  {
   "attachments": {},
   "cell_type": "markdown",
   "metadata": {},
   "source": [
    "### PDP Policy Parameter"
   ]
  },
  {
   "cell_type": "code",
   "execution_count": null,
   "metadata": {},
   "outputs": [],
   "source": [
    "# | export\n",
    "@dataclass\n",
    "class PDP_Parameter:\n",
    "    column_name: str\n",
    "    column_values_ls: list\n",
    "    operator: str = (\n",
    "        \"EQUALS\"\n",
    "        or \"GREATER_THAN\"\n",
    "        or \"LESS_THAN\"\n",
    "        or \"GREATER_THAN_EQUAL\"\n",
    "        or \"LESS_THAN_EQUAL\"\n",
    "        or \"BETWEEN\"\n",
    "    )\n",
    "    ignore_case: bool = True\n",
    "    type: str = (\n",
    "        \"COLUMN\" or \"DYNAMIC\"\n",
    "    )  # column sets parameter on data vs dynamic creates on Domo Trusted Attribute"
   ]
  },
  {
   "cell_type": "code",
   "execution_count": null,
   "metadata": {},
   "outputs": [],
   "source": [
    "# | export\n",
    "@patch_to(PDP_Parameter)\n",
    "def generate_parameter_simple(obj):\n",
    "\n",
    "    return pdp_routes.generate_policy_parameter_simple(\n",
    "        column_name=obj.name,\n",
    "        type=obj.type,\n",
    "        column_values_ls=obj.values,\n",
    "        operator=obj.operator,\n",
    "        ignore_case=obj.ignoreCase,\n",
    "    )\n",
    "\n",
    "\n",
    "@patch_to(PDP_Parameter)\n",
    "def generate_body_from_parameter(self):\n",
    "\n",
    "    return pdp_routes.generate_policy_parameter_simple(\n",
    "        column_name=self.column_name,\n",
    "        type=self.type,\n",
    "        column_values_ls=self.column_values_ls,\n",
    "        operator=self.operator,\n",
    "        ignore_case=self.ignore_case,\n",
    "    )"
   ]
  },
  {
   "cell_type": "code",
   "execution_count": null,
   "metadata": {},
   "outputs": [
    {
     "data": {
      "text/plain": [
       "{'type': 'COLUMN',\n",
       " 'name': 'instance',\n",
       " 'values': ['domo-community'],\n",
       " 'operator': 'EQUALS',\n",
       " 'ignoreCase': True}"
      ]
     },
     "execution_count": null,
     "metadata": {},
     "output_type": "execute_result"
    }
   ],
   "source": [
    "param = PDP_Parameter(column_name=\"instance\", column_values_ls=[\"domo-community\"])\n",
    "\n",
    "PDP_Parameter.generate_body_from_parameter(param)"
   ]
  },
  {
   "attachments": {},
   "cell_type": "markdown",
   "metadata": {},
   "source": [
    "### PDP Policy"
   ]
  },
  {
   "cell_type": "code",
   "execution_count": null,
   "metadata": {},
   "outputs": [],
   "source": [
    "# | export\n",
    "@dataclass\n",
    "class PDP_Policy:\n",
    "    dataset_id: str\n",
    "    filter_group_id: str\n",
    "    name: str\n",
    "    # resources: list\n",
    "    parameters_ls: list[dict]\n",
    "    user_ls: list[str]\n",
    "    group_ls: list[str]\n",
    "    virtual_user_ls: list[str]\n",
    "\n",
    "    @classmethod\n",
    "    async def _from_json(cls, obj, auth: dmda.DomoAuth):\n",
    "        dd = util_dd.DictDot(obj)\n",
    "\n",
    "        import domolibrary.classes.DomoUser as dmu\n",
    "        import domolibrary.classes.DomoGroup as dmg\n",
    "\n",
    "        return cls(\n",
    "            dataset_id=dd.dataSourceId,\n",
    "            filter_group_id=dd.filterGroupId,\n",
    "            name=dd.name,\n",
    "            # resources=dd.resources,\n",
    "            parameters_ls=dd.parameters,\n",
    "            user_ls=(\n",
    "                await ce.gather_with_concurrency(\n",
    "                    n=60,\n",
    "                    *[\n",
    "                        dmu.DomoUser.get_by_id(user_id=id, auth=auth)\n",
    "                        for id in dd.userIds\n",
    "                    ],\n",
    "                )\n",
    "                if dd.userIds\n",
    "                else None\n",
    "            ),\n",
    "            group_ls=(\n",
    "                await ce.gather_with_concurrency(\n",
    "                    n=60,\n",
    "                    *[\n",
    "                        dmg.DomoGroup.get_by_id(group_id=id, auth=auth)\n",
    "                        for id in dd.groupIds\n",
    "                    ],\n",
    "                )\n",
    "                if dd.groupIds\n",
    "                else None\n",
    "            ),\n",
    "            virtual_user_ls=dd.virtualUserIds,\n",
    "        )\n",
    "\n",
    "    @classmethod\n",
    "    async def upsert_policy(\n",
    "        cls,\n",
    "        auth: dmda.DomoAuth,\n",
    "        dataset_id: str,\n",
    "        # body sent to the API (uses camelCase instead of snake_case)\n",
    "        policy_definition: dict,\n",
    "        debug_api: bool = False,\n",
    "        debug_prn: bool = False,\n",
    "    ):\n",
    "\n",
    "        # print(policy_definition)\n",
    "        policy_id = policy_definition.get(\"filterGroupId\")\n",
    "        if policy_id:\n",
    "            if debug_prn:\n",
    "                print(f\"Updating policy {policy_id} in {auth.domo_instance}\")\n",
    "            res = await pdp_routes.update_policy(\n",
    "                auth=auth,\n",
    "                dataset_id=dataset_id,\n",
    "                policy_id=policy_id,\n",
    "                body=policy_definition,\n",
    "                debug_api=debug_api,\n",
    "            )\n",
    "            return res\n",
    "        else:\n",
    "            if debug_prn:\n",
    "                print(f\"Policy does not exist. Creating policy in {auth.domo_instance}\")\n",
    "            res = await pdp_routes.create_policy(\n",
    "                auth=auth,\n",
    "                dataset_id=dataset_id,\n",
    "                body=policy_definition,\n",
    "                debug_api=debug_api,\n",
    "            )\n",
    "            return res"
   ]
  },
  {
   "cell_type": "code",
   "execution_count": null,
   "metadata": {},
   "outputs": [],
   "source": [
    "# #| export\n",
    "# @patch_to(PDP_Policy)\n",
    "# def add_parameter(self: PDP_Policy, parameter_obj):\n",
    "#     self.parameters.concat(parameter_obj)"
   ]
  },
  {
   "cell_type": "code",
   "execution_count": null,
   "metadata": {},
   "outputs": [],
   "source": [
    "# | exporti\n",
    "@patch_to(PDP_Policy)\n",
    "def generate_body_from_policy(\n",
    "    self: PDP_Policy,\n",
    "    # params: list[dict] = ''\n",
    "):\n",
    "    if not self.parameters_ls:\n",
    "        raise Exception(\"generate_body_from_policy: no parameters\")\n",
    "\n",
    "    self.parameters_ls = [\n",
    "        PDP_Parameter.generate_parameter_simple(param) for param in self.parameters_ls\n",
    "    ]\n",
    "\n",
    "    return pdp_routes.generate_policy_body(\n",
    "        policy_name=self.name,\n",
    "        dataset_id=self.dataset_id,\n",
    "        parameters_ls=self.parameters_ls,\n",
    "        policy_id=self.filter_group_id,\n",
    "        user_ids=self.user_ls,\n",
    "        group_ids=self.group_ls,\n",
    "        virtual_user_ids=self.virtual_user_ls,\n",
    "    )"
   ]
  },
  {
   "attachments": {},
   "cell_type": "markdown",
   "metadata": {},
   "source": [
    "### Dataset PDP Policies "
   ]
  },
  {
   "cell_type": "code",
   "execution_count": null,
   "metadata": {},
   "outputs": [],
   "source": [
    "# | export\n",
    "class Dataset_PDP_Policies:\n",
    "\n",
    "    dataset = None  # domo dataset class\n",
    "    policies: list[PDP_Policy] = None\n",
    "    auth = None\n",
    "\n",
    "    def __init__(self, dataset):\n",
    "        self.dataset = dataset\n",
    "        self.policies = []"
   ]
  },
  {
   "attachments": {},
   "cell_type": "markdown",
   "metadata": {},
   "source": [
    "### Get PDP Policies from dataset"
   ]
  },
  {
   "cell_type": "code",
   "execution_count": null,
   "metadata": {},
   "outputs": [],
   "source": [
    "# | exporti\n",
    "@patch_to(Dataset_PDP_Policies)\n",
    "async def get_policies(\n",
    "    self: Dataset_PDP_Policies,\n",
    "    include_all_rows: bool = True,\n",
    "    auth: dmda.DomoAuth = None,\n",
    "    dataset_id: str = None,\n",
    "    return_raw: bool = False,\n",
    "    debug_api: bool = False,\n",
    "):\n",
    "\n",
    "    dataset_id = dataset_id or self.dataset.id\n",
    "    auth = auth or self.dataset.auth\n",
    "\n",
    "    res = await pdp_routes.get_pdp_policies(\n",
    "        auth=auth,\n",
    "        dataset_id=dataset_id,\n",
    "        debug_api=debug_api,\n",
    "        include_all_rows=include_all_rows,\n",
    "    )\n",
    "\n",
    "    if return_raw:\n",
    "        return res\n",
    "\n",
    "    if res.status == 200:\n",
    "        domo_policy = await ce.gather_with_concurrency(\n",
    "            n=60,\n",
    "            *[\n",
    "                PDP_Policy._from_json(policy_obj, auth=auth)\n",
    "                for policy_obj in res.response\n",
    "            ]\n",
    "        )\n",
    "        self.policies = domo_policy\n",
    "        return domo_policy"
   ]
  },
  {
   "attachments": {},
   "cell_type": "markdown",
   "metadata": {},
   "source": [
    "### sample implementation of get_policies"
   ]
  },
  {
   "cell_type": "code",
   "execution_count": null,
   "metadata": {},
   "outputs": [
    {
     "data": {
      "text/plain": [
       "[PDP_Policy(dataset_id='04c1574e-c8be-4721-9846-c6ffa491144b', filter_group_id=797, name='All Rows', parameters_ls=None, user_ls=None, group_ls=None, virtual_user_ls=['vu:a8841f70-909a-438e-9853-49783846bf22', 'vu:0ed4455a-35df-4049-8d6d-80341083b2f4', 'vu:566d15dc-9600-48af-b5ad-89cd0ea00cb7', 'vu:ed6853bb-d8c7-4777-be41-0af475fde7ba', 'vu:20e30033-edb3-44f0-a121-5ccf5f8161bc']),\n",
       " PDP_Policy(dataset_id='04c1574e-c8be-4721-9846-c6ffa491144b', filter_group_id=1149, name='Test Update Policy Name', parameters_ls=[DictDot(name='objectID', value='000003007', values=['000003007'], type='COLUMN', operator='EQUALS', not=False, ignoreCase=True)], user_ls=[DomoUser(id='308783524', title=None, department=None, display_name='test1', email_address='test1@test.com', role_id=1563101750, avatar_key=None, phone_number=None, web_landing_page=None, web_mobile_landing_page=None, employee_id=None, employee_number=None, hire_date=None, reports_to=None, publisher_domain=None, subscriber_domain=None, virtual_user_id=None)], group_ls=None, virtual_user_ls=['fc:e3ce6205-6717-42b4-ba1c-16b5e40eca98']),\n",
       " PDP_Policy(dataset_id='04c1574e-c8be-4721-9846-c6ffa491144b', filter_group_id=1224, name='t2', parameters_ls=[DictDot(name='Title', value='AWS Cost and Usage Dashboard', values=['AWS Cost and Usage Dashboard'], type='COLUMN', operator='EQUALS', not=False, ignoreCase=False)], user_ls=[DomoUser(id='663516735', title=None, department=None, display_name='test - updated via dl 2023-09-09', email_address='test4@test.com', role_id=1662852841, avatar_key=None, phone_number=None, web_landing_page=None, web_mobile_landing_page=None, employee_id=None, employee_number=None, hire_date=None, reports_to=None, publisher_domain=None, subscriber_domain=None, virtual_user_id=None), DomoUser(id='1681443709', title=None, department=None, display_name='test 3', email_address='test3@test.com', role_id=810756122, avatar_key=None, phone_number=None, web_landing_page=None, web_mobile_landing_page=None, employee_id=None, employee_number=None, hire_date=None, reports_to=None, publisher_domain=None, subscriber_domain=None, virtual_user_id=None)], group_ls=[DomoGroup(id=1513712315, name='Test Group', type='closed', description='updated via upsert_group on 2023-09-09')], virtual_user_ls=None),\n",
       " PDP_Policy(dataset_id='04c1574e-c8be-4721-9846-c6ffa491144b', filter_group_id=1225, name='t3s', parameters_ls=[DictDot(name='Title', value='Accessing Goals Data', values=['Accessing Goals Data'], type='COLUMN', operator='EQUALS', not=False, ignoreCase=False)], user_ls=[DomoUser(id='987822803', title=None, department=None, display_name='test_pdp2@sony.com - via dl 2023-05-05', email_address='test_pdp2@sony.com', role_id=2097317660, avatar_key=None, phone_number=None, web_landing_page=None, web_mobile_landing_page=None, employee_id=None, employee_number=None, hire_date=None, reports_to=None, publisher_domain=None, subscriber_domain=None, virtual_user_id=None), DomoUser(id='838842812', title=None, department=None, display_name='test_pdp3@sony.com - via dl 2023-05-05', email_address='test_pdp3@sony.com', role_id=2097317660, avatar_key=None, phone_number=None, web_landing_page=None, web_mobile_landing_page=None, employee_id=None, employee_number=None, hire_date=None, reports_to=None, publisher_domain=None, subscriber_domain=None, virtual_user_id=None), DomoUser(id='1186995515', title=None, department=None, display_name='test_pdp1@sony.com - via dl 2023-05-05', email_address='test_pdp1@sony.com', role_id=2097317660, avatar_key=None, phone_number=None, web_landing_page=None, web_mobile_landing_page=None, employee_id=None, employee_number=None, hire_date=None, reports_to=None, publisher_domain=None, subscriber_domain=None, virtual_user_id=None)], group_ls=None, virtual_user_ls=None),\n",
       " PDP_Policy(dataset_id='04c1574e-c8be-4721-9846-c6ffa491144b', filter_group_id=1226, name='sds', parameters_ls=[DictDot(name='Title', value='Adding Scale Markers to Your Charts', values=['Adding Scale Markers to Your Charts'], type='COLUMN', operator='EQUALS', not=False, ignoreCase=False)], user_ls=[DomoUser(id='838842812', title=None, department=None, display_name='test_pdp3@sony.com - via dl 2023-05-05', email_address='test_pdp3@sony.com', role_id=2097317660, avatar_key=None, phone_number=None, web_landing_page=None, web_mobile_landing_page=None, employee_id=None, employee_number=None, hire_date=None, reports_to=None, publisher_domain=None, subscriber_domain=None, virtual_user_id=None)], group_ls=None, virtual_user_ls=None)]"
      ]
     },
     "execution_count": null,
     "metadata": {},
     "output_type": "execute_result"
    }
   ],
   "source": [
    "import os\n",
    "import domolibrary.classes.DomoDataset as dmd\n",
    "\n",
    "token_auth = dmda.DomoTokenAuth(\n",
    "    domo_instance=\"domo-community\",\n",
    "    domo_access_token=os.environ[\"DOMO_DOJO_ACCESS_TOKEN\"],\n",
    ")\n",
    "# instantiate dataset class\n",
    "dataset = dmd.DomoDataset(auth=token_auth, id=os.environ[\"DOJO_DATASET_ID\"])\n",
    "# instantiate dataset_pdp_policies\n",
    "dataset_pdp_policies = Dataset_PDP_Policies(dataset=dataset)\n",
    "# get policies\n",
    "await dataset_pdp_policies.get_policies(return_raw=False)\n",
    "\n",
    "\n",
    "# print(dataset.id)\n",
    "# for res in res.response:\n",
    "#     print(res['resources'])"
   ]
  },
  {
   "attachments": {},
   "cell_type": "markdown",
   "metadata": {},
   "source": [
    "### sample implementation of generate_body_from_policy"
   ]
  },
  {
   "cell_type": "code",
   "execution_count": null,
   "metadata": {},
   "outputs": [
    {
     "data": {
      "text/plain": [
       "PDP_Policy(dataset_id='04c1574e-c8be-4721-9846-c6ffa491144b', filter_group_id=797, name='All Rows', parameters_ls=None, user_ls=None, group_ls=None, virtual_user_ls=['vu:a8841f70-909a-438e-9853-49783846bf22', 'vu:0ed4455a-35df-4049-8d6d-80341083b2f4', 'vu:566d15dc-9600-48af-b5ad-89cd0ea00cb7', 'vu:ed6853bb-d8c7-4777-be41-0af475fde7ba', 'vu:20e30033-edb3-44f0-a121-5ccf5f8161bc'])"
      ]
     },
     "execution_count": null,
     "metadata": {},
     "output_type": "execute_result"
    }
   ],
   "source": [
    "import os\n",
    "import domolibrary.classes.DomoDataset as dmd\n",
    "\n",
    "token_auth = dmda.DomoTokenAuth(\n",
    "    domo_instance=\"domo-community\",\n",
    "    domo_access_token=os.environ[\"DOMO_DOJO_ACCESS_TOKEN\"],\n",
    ")\n",
    "\n",
    "# instantiate dataset class\n",
    "dataset = dmd.DomoDataset(auth=token_auth, id=os.environ[\"DOJO_DATASET_ID\"])\n",
    "\n",
    "# instantiate dataset_pdp_policies\n",
    "dataset_pdp_policies = Dataset_PDP_Policies(dataset=dataset)\n",
    "# get policies\n",
    "await dataset_pdp_policies.get_policies(return_raw=False)\n",
    "\n",
    "selected_policy = dataset_pdp_policies.policies[0]\n",
    "\n",
    "selected_policy\n",
    "\n",
    "\n",
    "# selected_policy.generate_body_from_policy()"
   ]
  },
  {
   "attachments": {},
   "cell_type": "markdown",
   "metadata": {},
   "source": [
    "### sample implementation of upsert_policy"
   ]
  },
  {
   "cell_type": "code",
   "execution_count": null,
   "metadata": {},
   "outputs": [
    {
     "name": "stdout",
     "output_type": "stream",
     "text": [
      "generate_body_from_policy: no parameters\n"
     ]
    }
   ],
   "source": [
    "token_auth = dmda.DomoTokenAuth(\n",
    "    domo_instance=\"domo-community\",\n",
    "    domo_access_token=os.environ[\"DOMO_DOJO_ACCESS_TOKEN\"],\n",
    ")\n",
    "\n",
    "# instantiate dataset class\n",
    "dataset = dmd.DomoDataset(auth=token_auth, id=os.environ[\"DOJO_DATASET_ID\"])\n",
    "\n",
    "# instantiate dataset_pdp_policies\n",
    "dataset_pdp_policies = Dataset_PDP_Policies(dataset=dataset)\n",
    "\n",
    "# Updating existing policy\n",
    "new_param = {\n",
    "    \"type\": \"COLUMN\",\n",
    "    \"name\": \"Country\",\n",
    "    \"values\": [\"Japan\", \"United States\"],\n",
    "    \"operator\": \"EQUALS\",\n",
    "    \"ignoreCase\": True,\n",
    "}\n",
    "\n",
    "await dataset_pdp_policies.get_policies(return_raw=False)\n",
    "\n",
    "selected_policy = dataset_pdp_policies.policies[0]\n",
    "try:\n",
    "    body = selected_policy.generate_body_from_policy()\n",
    "\n",
    "    body[\"parameters\"].append(new_param)\n",
    "\n",
    "    await PDP_Policy.upsert_policy(\n",
    "        auth=token_auth,\n",
    "        dataset_id=dataset.id,\n",
    "        policy_definition=body,\n",
    "        debug_api=False,\n",
    "        debug_prn=True,\n",
    "    )\n",
    "\n",
    "except Exception as e:\n",
    "    print(e)"
   ]
  },
  {
   "cell_type": "code",
   "execution_count": null,
   "metadata": {},
   "outputs": [
    {
     "name": "stdout",
     "output_type": "stream",
     "text": [
      "Country\n",
      "Creating policy...\n"
     ]
    },
    {
     "data": {
      "text/plain": [
       "ResponseGetData(status=400, response='Bad Request', is_success=False, parent_class=None, traceback_details=TracebackDetails(function_name='upsert_policy', file_name='/tmp/ipykernel_15375/1590334250.py', function_trail='<module> -> upsert_policy', traceback_stack=[<FrameSummary file /tmp/ipykernel_15375/799330789.py, line 23 in <module>>, <FrameSummary file /tmp/ipykernel_15375/1590334250.py, line 56 in upsert_policy>], parent_class=None))"
      ]
     },
     "execution_count": null,
     "metadata": {},
     "output_type": "execute_result"
    }
   ],
   "source": [
    "# upsert_policy, no policy exists so creates new policy\n",
    "import json\n",
    "\n",
    "# instantiate dataset class\n",
    "dataset = dmd.DomoDataset(auth=token_auth, id=os.environ[\"DOJO_DATASET_ID\"])\n",
    "\n",
    "param = {\n",
    "    \"type\": \"COLUMN\",\n",
    "    \"name\": \"Country\",\n",
    "    \"values\": [\"Philippines\"],\n",
    "    \"operator\": \"EQUALS\",\n",
    "    \"ignoreCase\": True,\n",
    "}\n",
    "\n",
    "print(param[\"name\"])\n",
    "new_pdp_policy = PDP_Policy(\n",
    "    dataset_id=dataset.id,\n",
    "    filter_group_id=None,\n",
    "    name=\"New PDP Policy\",\n",
    "    parameters_ls=[util_dd.DictDot(param)],\n",
    "    user_ls=[\"612085674\"],\n",
    "    group_ls=[\"1259653287\"],\n",
    "    virtual_user_ls=[],\n",
    ")\n",
    "body = new_pdp_policy.generate_body_from_policy()\n",
    "await PDP_Policy.upsert_policy(\n",
    "    auth=dataset.auth, dataset_id=dataset.id, policy_definition=body\n",
    ")"
   ]
  },
  {
   "attachments": {},
   "cell_type": "markdown",
   "metadata": {},
   "source": [
    "### Search PDP Policies by name and ID"
   ]
  },
  {
   "cell_type": "code",
   "execution_count": null,
   "metadata": {},
   "outputs": [],
   "source": [
    "# | export\n",
    "class SearchPDP_NotFound(de.DomoError):\n",
    "    def __init__(\n",
    "        self, domo_instance, dataset_id, message=\"not found\", function_name=\"search_pdp\"\n",
    "    ):\n",
    "\n",
    "        super().__init__(\n",
    "            domo_instance=domo_instance,\n",
    "            entity_id=dataset_id,\n",
    "            message=message,\n",
    "            function_name=function_name,\n",
    "        )\n",
    "\n",
    "\n",
    "@patch_to(Dataset_PDP_Policies, cls_method=True)\n",
    "async def search_pdp_policies(\n",
    "    cls: Dataset_PDP_Policies,\n",
    "    auth: dmda.DomoAuth,\n",
    "    search: str,\n",
    "    dataset_id: str = None,\n",
    "    search_method: str = \"id\" or \"name\",\n",
    "    is_exact_match: bool = True,\n",
    "    return_raw: bool = False,\n",
    "    debug_api: bool = False,\n",
    "    session: httpx.AsyncClient = None,\n",
    "):\n",
    "\n",
    "    all_pdp_policies = await Dataset_PDP_Policies(cls).get_policies(\n",
    "        auth=auth, dataset_id=dataset_id, debug_api=debug_api\n",
    "    )\n",
    "\n",
    "    if return_raw:\n",
    "        return all_pdp_policies\n",
    "\n",
    "    if search_method == \"name\":\n",
    "        if is_exact_match:\n",
    "            policy_search = next(\n",
    "                (policy for policy in all_pdp_policies if policy.name == search), None\n",
    "            )\n",
    "            # print(policy_search)\n",
    "\n",
    "            if not policy_search:\n",
    "                raise SearchPDP_NotFound(\n",
    "                    dataset_id=dataset_id,\n",
    "                    message=f'There is no policy named \"{search}\" on dataset_id {dataset_id}',\n",
    "                    domo_instance=auth.domo_instance,\n",
    "                )\n",
    "\n",
    "            return policy_search\n",
    "        else:\n",
    "            policy_search = [\n",
    "                policy\n",
    "                for policy in all_pdp_policies\n",
    "                if search.lower() in policy.name.lower()\n",
    "            ]\n",
    "            if not policy_search:\n",
    "                raise SearchPDP_NotFound(\n",
    "                    dataset_id=dataset_id,\n",
    "                    message=f'There is no policy name containing \"{search}\" on dataset_id {dataset_id}',\n",
    "                    domo_instance=auth.domo_instance,\n",
    "                )\n",
    "\n",
    "            return policy_search\n",
    "    else:\n",
    "        policy_search = next(\n",
    "            (policy for policy in all_pdp_policies if policy.filter_group_id == search),\n",
    "            None,\n",
    "        )\n",
    "\n",
    "    if not policy_search:\n",
    "        raise SearchPDP_NotFound(\n",
    "            dataset_id=dataset_id,\n",
    "            message=f'There is no policy id \"{search}\" on dataset_id {dataset_id}',\n",
    "            domo_instance=auth.domo_instance,\n",
    "        )\n",
    "\n",
    "    return policy_search"
   ]
  },
  {
   "attachments": {},
   "cell_type": "markdown",
   "metadata": {},
   "source": [
    "### sample implementation of search_pdp_policies"
   ]
  },
  {
   "cell_type": "code",
   "execution_count": null,
   "metadata": {},
   "outputs": [
    {
     "name": "stdout",
     "output_type": "stream",
     "text": [
      "search_pdp: 04c1574e-c8be-4721-9846-c6ffa491144b :There is no policy named \"Test 94\" on dataset_id 04c1574e-c8be-4721-9846-c6ffa491144b at domo-community\n"
     ]
    }
   ],
   "source": [
    "import os\n",
    "import domolibrary.classes.DomoDataset as dmd\n",
    "\n",
    "dataset_id = os.environ[\"DOJO_DATASET_ID\"]\n",
    "\n",
    "# authenticate into instance\n",
    "token_auth = dmda.DomoTokenAuth(\n",
    "    domo_instance=\"domo-community\",\n",
    "    domo_access_token=os.environ[\"DOMO_DOJO_ACCESS_TOKEN\"],\n",
    ")\n",
    "\n",
    "# instance of dataset class\n",
    "dataset = dmd.DomoDataset(auth=token_auth, id=dataset_id)\n",
    "\n",
    "# instance of pdp_policies for the dataset\n",
    "dpp = Dataset_PDP_Policies(dataset=dataset)\n",
    "\n",
    "# pull all policies for that dataset\n",
    "await dpp.get_policies()\n",
    "\n",
    "# search policies based on name\n",
    "try:\n",
    "    policy = await dpp.search_pdp_policies(\n",
    "        auth=token_auth,\n",
    "        dataset_id=dataset.id,\n",
    "        search=\"Test 94\",\n",
    "        search_method=\"name\",\n",
    "        is_exact_match=True,\n",
    "        debug_api=False,\n",
    "    )\n",
    "    print(policy)\n",
    "\n",
    "except SearchPDP_NotFound as e:\n",
    "    print(e)"
   ]
  },
  {
   "attachments": {},
   "cell_type": "markdown",
   "metadata": {},
   "source": [
    "### Delete PDP Policy"
   ]
  },
  {
   "cell_type": "code",
   "execution_count": null,
   "metadata": {},
   "outputs": [],
   "source": [
    "# | export\n",
    "@patch_to(PDP_Policy)\n",
    "async def delete_policy(\n",
    "    self: PDP_Policy,\n",
    "    auth: dmda.DomoAuth,\n",
    "    policy_id: str = None,\n",
    "    dataset_id: str = None,\n",
    "    debug_api: bool = False,\n",
    "):\n",
    "\n",
    "    dataset_id = dataset_id or self.dataset_id\n",
    "    policy_id = policy_id or self.filter_group_id\n",
    "\n",
    "    res = await pdp_routes.delete_policy(\n",
    "        auth=auth, dataset_id=dataset_id, policy_id=policy_id, debug_api=debug_api\n",
    "    )\n",
    "\n",
    "    return res"
   ]
  },
  {
   "attachments": {},
   "cell_type": "markdown",
   "metadata": {},
   "source": [
    "#### Sample implementation of delete_policy"
   ]
  },
  {
   "cell_type": "code",
   "execution_count": null,
   "metadata": {},
   "outputs": [
    {
     "name": "stdout",
     "output_type": "stream",
     "text": [
      "search_pdp: 04c1574e-c8be-4721-9846-c6ffa491144b :There is no policy named \"Test Policy Name Employee 123\" on dataset_id 04c1574e-c8be-4721-9846-c6ffa491144b at domo-community\n",
      "name 'policy' is not defined\n"
     ]
    }
   ],
   "source": [
    "import os\n",
    "import domolibrary.classes.DomoDataset as dmd\n",
    "\n",
    "dataset_id = os.environ[\"DOJO_DATASET_ID\"]\n",
    "\n",
    "# authenticate into instance\n",
    "token_auth = dmda.DomoTokenAuth(\n",
    "    domo_instance=\"domo-community\",\n",
    "    domo_access_token=os.environ[\"DOMO_DOJO_ACCESS_TOKEN\"],\n",
    ")\n",
    "\n",
    "# instance of dataset class\n",
    "dataset = dmd.DomoDataset(auth=token_auth, id=dataset_id)\n",
    "\n",
    "# instance of pdp_policies for the dataset\n",
    "dpp = Dataset_PDP_Policies(dataset=dataset)\n",
    "\n",
    "# search policies based on name\n",
    "try:\n",
    "    policy = await dpp.search_pdp_policies(\n",
    "        auth=token_auth,\n",
    "        dataset_id=dataset.id,\n",
    "        search=\"Test Policy Name Employee 123\",\n",
    "        search_method=\"name\",\n",
    "        is_exact_match=True,\n",
    "        debug_api=False,\n",
    "    )\n",
    "    print(policy)\n",
    "\n",
    "except SearchPDP_NotFound as e:\n",
    "    print(e)\n",
    "\n",
    "# delete the policy based on filtergroup id\n",
    "try:\n",
    "    await policy.delete_policy(\n",
    "        auth=token_auth, debug_api=False\n",
    "    )  # don't need to include policy or dataset since those are already tied with policy class\n",
    "except Exception as e:\n",
    "    print(e)"
   ]
  },
  {
   "attachments": {},
   "cell_type": "markdown",
   "metadata": {},
   "source": [
    "### Enable/Disable PDP on dataset"
   ]
  },
  {
   "cell_type": "code",
   "execution_count": null,
   "metadata": {},
   "outputs": [],
   "source": [
    "# | export\n",
    "@patch_to(Dataset_PDP_Policies)\n",
    "async def toggle_dataset_pdp(\n",
    "    self: Dataset_PDP_Policies,\n",
    "    auth: dmda.DomoAuth = None,\n",
    "    dataset_id: str = None,\n",
    "    is_enable: bool = True,  # True will enable pdp, False will disable pdp\n",
    "    debug_api: bool = False,\n",
    "    session: httpx.AsyncClient = None,\n",
    "):\n",
    "    auth = auth or self.dataset.auth\n",
    "\n",
    "    return await pdp_routes.toggle_pdp(\n",
    "        auth=auth,\n",
    "        dataset_id=dataset_id or self.dataset.id,\n",
    "        is_enable=is_enable,\n",
    "        debug_api=debug_api,\n",
    "        session=session,\n",
    "    )"
   ]
  },
  {
   "attachments": {},
   "cell_type": "markdown",
   "metadata": {},
   "source": [
    "### sample implementation of toggle_dataset_pdp"
   ]
  },
  {
   "cell_type": "code",
   "execution_count": null,
   "metadata": {},
   "outputs": [
    {
     "data": {
      "text/plain": [
       "ResponseGetData(status=200, response={'enabled': False, 'secured': False, 'external': False}, is_success=True, parent_class=None, traceback_details=TracebackDetails(function_name='toggle_dataset_pdp', file_name='/tmp/ipykernel_15375/1954515221.py', function_trail='<module> -> toggle_dataset_pdp', traceback_stack=[<FrameSummary file /tmp/ipykernel_15375/2715666841.py, line 19 in <module>>, <FrameSummary file /tmp/ipykernel_15375/1954515221.py, line 14 in toggle_dataset_pdp>], parent_class=None))"
      ]
     },
     "execution_count": null,
     "metadata": {},
     "output_type": "execute_result"
    }
   ],
   "source": [
    "import os\n",
    "import domolibrary.classes.DomoDataset as dmd\n",
    "\n",
    "dataset_id = os.environ[\"DOJO_DATASET_ID\"]\n",
    "\n",
    "# authenticate into instancedataset_id\n",
    "token_auth = dmda.DomoTokenAuth(\n",
    "    domo_instance=\"domo-community\",\n",
    "    domo_access_token=os.environ[\"DOMO_DOJO_ACCESS_TOKEN\"],\n",
    ")\n",
    "\n",
    "# instance of dataset class\n",
    "dataset = dmd.DomoDataset(auth=token_auth, id=dataset_id)\n",
    "\n",
    "# instance of pdp_policies for the dataset\n",
    "dpp = Dataset_PDP_Policies(dataset=dataset)\n",
    "\n",
    "# toggle pdp on dataset\n",
    "await dpp.toggle_dataset_pdp(\n",
    "    auth=token_auth, dataset_id=dataset.id, is_enable=False, debug_api=False\n",
    ")"
   ]
  },
  {
   "cell_type": "code",
   "execution_count": null,
   "metadata": {},
   "outputs": [],
   "source": [
    "# | hide\n",
    "import nbdev\n",
    "\n",
    "nbdev.nbdev_export()"
   ]
  }
 ],
 "metadata": {
  "jupytext": {
   "split_at_heading": true
  },
  "kernelspec": {
   "display_name": "python3",
   "language": "python",
   "name": "python3"
  }
 },
 "nbformat": 4,
 "nbformat_minor": 2
}
