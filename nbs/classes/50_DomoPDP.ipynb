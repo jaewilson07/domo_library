{
 "cells": [
  {
   "cell_type": "raw",
   "metadata": {},
   "source": [
    "---\n",
    "output-file: pdp_class.html\n",
    "title: Domo PDP\n",
    "\n",
    "---\n",
    "\n"
   ]
  },
  {
   "cell_type": "code",
   "execution_count": 1,
   "metadata": {},
   "outputs": [],
   "source": [
    "#| default_exp classes.DomoPDP"
   ]
  },
  {
   "cell_type": "code",
   "execution_count": 2,
   "metadata": {},
   "outputs": [],
   "source": [
    "#| exporti\n",
    "import asyncio\n",
    "import datetime as dt\n",
    "import io\n",
    "import json\n",
    "from dataclasses import dataclass, field\n",
    "from enum import Enum, auto\n",
    "\n",
    "from fastcore.basics import patch_to\n",
    "\n",
    "import httpx\n",
    "import pandas as pd\n",
    "\n",
    "#from ..utils.chunk_execution import chunk_list\n",
    "#from ..utils.DictDot import DictDot\n",
    "import domolibrary.utils.DictDot as util_dd\n",
    "#from . import DomoCertification as dmdc\n",
    "#from .DomoAuth import DomoDeveloperAuth, DomoFullAuth\n",
    "import domolibrary.client.DomoAuth as dmda\n",
    "#from .routes import pdp_routes\n",
    "import domolibrary.routes.pdp as pdp_routes\n",
    "import domolibrary.client.DomoError as de\n",
    "import domolibrary.classes.DomoDataset as dmd\n",
    "\n"
   ]
  },
  {
   "attachments": {},
   "cell_type": "markdown",
   "metadata": {},
   "source": [
    "### PDP Policy Parameter"
   ]
  },
  {
   "cell_type": "code",
   "execution_count": 3,
   "metadata": {},
   "outputs": [],
   "source": [
    "#| export\n",
    "class PDP_Parameter:\n",
    "    column_name: str\n",
    "    column_values_ls: list\n",
    "    operator: str = 'EQUALS' or 'GREATER_THAN' or 'LESS_THAN' or 'GREATER_THAN_EQUAL' or 'LESS_THAN_EQUAL' or 'BETWEEN'\n",
    "    ignore_case: bool = True\n",
    "    type: str = 'COLUMN' or 'DYNAMIC' #column sets parameter on data vs dynamic creates on Domo Trusted Attribute\n"
   ]
  },
  {
   "cell_type": "code",
   "execution_count": 4,
   "metadata": {},
   "outputs": [],
   "source": [
    "#| export\n",
    "@patch_to(PDP_Parameter)\n",
    "def generate_parameter_simple(obj):\n",
    "\n",
    "        return pdp_routes.generate_policy_parameter_simple(column_name=obj.name,\n",
    "                                                           type=obj.type,\n",
    "                                                           column_values_ls=obj.values,\n",
    "                                                           operator=obj.operator,\n",
    "                                                           ignore_case=obj.ignoreCase\n",
    "                                                           )"
   ]
  },
  {
   "attachments": {},
   "cell_type": "markdown",
   "metadata": {},
   "source": [
    "### PDP Policy"
   ]
  },
  {
   "cell_type": "code",
   "execution_count": 5,
   "metadata": {},
   "outputs": [],
   "source": [
    "#| export\n",
    "@dataclass\n",
    "class PDP_Policy:\n",
    "    dataset_id: str\n",
    "    filter_group_id: str\n",
    "    name: str\n",
    "    #resources: list\n",
    "    parameters_ls: list[dict]\n",
    "    user_ls: list[str]\n",
    "    group_ls: list[str]\n",
    "    virtual_user_ls: list[str]\n",
    "\n",
    "    @classmethod\n",
    "    def _from_json(cls, obj):\n",
    "        dd = util_dd.DictDot(obj)\n",
    "\n",
    "        return cls(dataset_id=dd.dataSourceId,\n",
    "                   filter_group_id=dd.filterGroupId,\n",
    "                   name=dd.name,\n",
    "                   #resources=dd.resources,\n",
    "                   parameters_ls=dd.parameters,\n",
    "                   user_ls=dd.userIds,\n",
    "                   group_ls=dd.groupIds,\n",
    "                   virtual_user_ls=dd.virtualUserIds)\n",
    "\n",
    "    @classmethod\n",
    "    async def upsert_policy(cls, \n",
    "                            auth: dmda.DomoAuth,\n",
    "                            dataset_id: str,\n",
    "                            policy_definition: dict, # body sent to the API (uses camelCase instead of snake_case)\n",
    "                            debug_api: bool = False,\n",
    "                            debug_prn: bool = False\n",
    "                            ):\n",
    "        \n",
    "        #print(policy_definition)\n",
    "        policy_id = policy_definition.get('filterGroupId')\n",
    "        if policy_id:\n",
    "            if debug_prn:\n",
    "                print(f'Updating policy {policy_id} in {auth.domo_instance}')    \n",
    "            res = await pdp_routes.update_policy(auth=auth,\n",
    "                                                 dataset_id=dataset_id,\n",
    "                                                 policy_id=policy_id,\n",
    "                                                 body=policy_definition,\n",
    "                                                 debug_api=debug_api)\n",
    "            return res\n",
    "        else:\n",
    "            if debug_prn:\n",
    "                print(f'Policy does not exist. Creating policy in {auth.domo_instance}')\n",
    "            res = await pdp_routes.create_policy(auth=auth,\n",
    "                                                 dataset_id=dataset_id,\n",
    "                                                 body=policy_definition,\n",
    "                                                 debug_api=debug_api)\n",
    "            return res\n",
    "    "
   ]
  },
  {
   "cell_type": "code",
   "execution_count": 6,
   "metadata": {},
   "outputs": [],
   "source": [
    "# #| export\n",
    "# @patch_to(PDP_Policy)\n",
    "# def add_parameter(self: PDP_Policy, parameter_obj):\n",
    "#     self.parameters.concat(parameter_obj)"
   ]
  },
  {
   "cell_type": "code",
   "execution_count": 7,
   "metadata": {},
   "outputs": [],
   "source": [
    "#| export\n",
    "@patch_to(PDP_Policy)\n",
    "def generate_body_from_policy(\n",
    "        self: PDP_Policy, \n",
    "        #params: list[dict] = ''\n",
    "        ):\n",
    "        self.parameters_ls = [PDP_Parameter.generate_parameter_simple(param) for param in self.parameters_ls]\n",
    "        return pdp_routes.generate_policy_body(policy_name=self.name,\n",
    "                                               dataset_id=self.dataset_id,\n",
    "                                               parameters_ls=self.parameters_ls,\n",
    "                                               policy_id=self.filter_group_id,\n",
    "                                               user_ids=self.user_ls,\n",
    "                                               group_ids=self.group_ls,\n",
    "                                               virtual_user_ids=self.virtual_user_ls)"
   ]
  },
  {
   "attachments": {},
   "cell_type": "markdown",
   "metadata": {},
   "source": [
    "### Dataset PDP Policies "
   ]
  },
  {
   "cell_type": "code",
   "execution_count": 8,
   "metadata": {},
   "outputs": [],
   "source": [
    "#| export\n",
    "class Dataset_PDP_Policies:\n",
    "\n",
    "    dataset: dmd.DomoDataset  # domo dataset class\n",
    "    policies: list[PDP_Policy] = None  \n",
    "\n",
    "    def __init__(self, dataset):\n",
    "        self.dataset = dataset\n",
    "        self.policies = []"
   ]
  },
  {
   "attachments": {},
   "cell_type": "markdown",
   "metadata": {},
   "source": [
    "### Get PDP Policies from dataset"
   ]
  },
  {
   "cell_type": "code",
   "execution_count": 9,
   "metadata": {},
   "outputs": [],
   "source": [
    "#| export\n",
    "@patch_to(Dataset_PDP_Policies)\n",
    "async def get_policies(\n",
    "        self: Dataset_PDP_Policies, \n",
    "        auth: dmda.DomoAuth = None, \n",
    "        dataset_id: str = None, \n",
    "        return_raw: bool = False,\n",
    "        debug_api: bool = False\n",
    "    ):\n",
    "\n",
    "        dataset_id = dataset_id or self.dataset.id\n",
    "        auth = auth or self.dataset.auth\n",
    "\n",
    "        res = await pdp_routes.get_pdp_policies(auth=auth, dataset_id=dataset_id, debug_api=debug_api)\n",
    "\n",
    "        if return_raw:\n",
    "              return res\n",
    "\n",
    "        if res.status == 200:\n",
    "            domo_policy = [PDP_Policy._from_json(\n",
    "                policy_obj) for policy_obj in res.response]\n",
    "            self.policies = domo_policy\n",
    "            return domo_policy"
   ]
  },
  {
   "attachments": {},
   "cell_type": "markdown",
   "metadata": {},
   "source": [
    "### sample implementation of get_policies"
   ]
  },
  {
   "cell_type": "code",
   "execution_count": 10,
   "metadata": {},
   "outputs": [
    {
     "data": {
      "text/plain": [
       "[PDP_Policy(dataset_id='0e7f7755-eccc-4612-890c-c3dc3d5002c3', filter_group_id=1156, name='Test 456', parameters_ls=[DictDot(name='Employee ID', value='465', values=['465'], type='COLUMN', operator='EQUALS', not=False, ignoreCase=False), DictDot(name='Country', value='Philippines', values=['Philippines'], type='COLUMN', operator='EQUALS', not=False, ignoreCase=False), DictDot(name='Country', value='Japan\\x06United States', values=['Japan', 'United States'], type='COLUMN', operator='EQUALS', not=False, ignoreCase=True), DictDot(name='Country', value='Japan\\x06United States', values=['Japan', 'United States'], type='COLUMN', operator='EQUALS', not=False, ignoreCase=True)], user_ls=[2072616249], group_ls=None, virtual_user_ls=None),\n",
       " PDP_Policy(dataset_id='0e7f7755-eccc-4612-890c-c3dc3d5002c3', filter_group_id=1180, name='Test Policy Name Employee 1789', parameters_ls=[DictDot(name='Employee ID', value='123', values=['123'], type='COLUMN', operator='EQUALS', not=False, ignoreCase=True)], user_ls=[1893952720], group_ls=None, virtual_user_ls=None)]"
      ]
     },
     "execution_count": 10,
     "metadata": {},
     "output_type": "execute_result"
    }
   ],
   "source": [
    "import os\n",
    "import domolibrary.classes.DomoDataset as dmd\n",
    "\n",
    "token_auth = dmda.DomoTokenAuth(\n",
    "    domo_instance=\"domo-community\",\n",
    "    domo_access_token=os.environ[\"DOMO_DOJO_ACCESS_TOKEN\"]\n",
    ")\n",
    "\n",
    "# instantiate dataset class\n",
    "dataset = dmd.DomoDataset(auth=token_auth, id=os.environ[\"DOJO_DATASET_ID\"]) \n",
    "# instantiate dataset_pdp_policies\n",
    "dataset_pdp_policies = Dataset_PDP_Policies(dataset=dataset)\n",
    "# get policies\n",
    "await dataset_pdp_policies.get_policies(return_raw=False)"
   ]
  },
  {
   "attachments": {},
   "cell_type": "markdown",
   "metadata": {},
   "source": [
    "### sample implementation of generate_body_from_policy"
   ]
  },
  {
   "cell_type": "code",
   "execution_count": 20,
   "metadata": {},
   "outputs": [],
   "source": [
    "import os\n",
    "import domolibrary.classes.DomoDataset as dmd\n",
    "\n",
    "token_auth = dmda.DomoTokenAuth(\n",
    "    domo_instance=\"domo-community\",\n",
    "    domo_access_token=os.environ[\"DOMO_DOJO_ACCESS_TOKEN\"]\n",
    ")\n",
    "\n",
    "# instantiate dataset class\n",
    "dataset = dmd.DomoDataset(auth=token_auth, id=os.environ[\"DOJO_DATASET_ID\"]) \n",
    "# instantiate dataset_pdp_policies\n",
    "dataset_pdp_policies = Dataset_PDP_Policies(dataset=dataset)\n",
    "# get policies\n",
    "await dataset_pdp_policies.get_policies(return_raw=False)\n",
    "\n",
    "selected_policy = next(\n",
    "    (policy for policy in dataset_pdp_policies.policies if policy.name == 'Test 456'), None)\n",
    "    # print(selected_policy)\n",
    "\n",
    "body = selected_policy.generate_body_from_policy()\n"
   ]
  },
  {
   "attachments": {},
   "cell_type": "markdown",
   "metadata": {},
   "source": [
    "### sample implementation of upsert_policy"
   ]
  },
  {
   "cell_type": "code",
   "execution_count": 21,
   "metadata": {},
   "outputs": [
    {
     "name": "stdout",
     "output_type": "stream",
     "text": [
      "Updating policy 1156 in domo-community\n"
     ]
    }
   ],
   "source": [
    "# Updating existing policy\n",
    "new_param = {'type': 'COLUMN', \n",
    "    'name': 'Country', \n",
    "    'values': ['Japan', 'United States'], \n",
    "    'operator': 'EQUALS', \n",
    "    'ignoreCase': True}\n",
    "\n",
    "selected_policy = next(\n",
    "    (policy for policy in dataset_pdp_policies.policies if policy.name == 'Test 456'), None)\n",
    "    \n",
    "body['parameters'].append(new_param)\n",
    "\n",
    "dataset_id = body['dataSourceId']\n",
    "policy_id = body['filterGroupId']\n",
    "\n",
    "res = await PDP_Policy.upsert_policy(\n",
    "    auth=token_auth,\n",
    "    dataset_id=dataset_id,\n",
    "    policy_definition=body,\n",
    "    debug_api=False,\n",
    "    debug_prn=True\n",
    ")"
   ]
  },
  {
   "cell_type": "code",
   "execution_count": 24,
   "metadata": {},
   "outputs": [
    {
     "data": {
      "text/plain": [
       "ResponseGetData(status=200, response={'name': 'Test 456', 'filterGroupId': 1156, 'dataSourceId': '0e7f7755-eccc-4612-890c-c3dc3d5002c3', 'userIds': [2072616249], 'dataSourcePermissions': False, 'parameters': [{'name': 'Employee ID', 'value': '465', 'values': ['465'], 'type': 'COLUMN', 'operator': 'EQUALS', 'not': False, 'ignoreCase': False}, {'name': 'Country', 'value': 'Philippines', 'values': ['Philippines'], 'type': 'COLUMN', 'operator': 'EQUALS', 'not': False, 'ignoreCase': False}, {'name': 'Country', 'value': 'Japan\\x06United States', 'values': ['Japan', 'United States'], 'type': 'COLUMN', 'operator': 'EQUALS', 'not': False, 'ignoreCase': True}, {'name': 'Country', 'value': 'Japan\\x06United States', 'values': ['Japan', 'United States'], 'type': 'COLUMN', 'operator': 'EQUALS', 'not': False, 'ignoreCase': True}, {'name': 'Country', 'value': 'Japan\\x06United States', 'values': ['Japan', 'United States'], 'type': 'COLUMN', 'operator': 'EQUALS', 'not': False, 'ignoreCase': True}]}, is_success=True)"
      ]
     },
     "execution_count": 24,
     "metadata": {},
     "output_type": "execute_result"
    }
   ],
   "source": [
    "# upsert_policy, no policy exists so creates new policy\n",
    "\n",
    "# instantiate dataset class\n",
    "dataset = dmd.DomoDataset(auth=token_auth, id=os.environ[\"DOJO_DATASET_ID\"]) \n",
    "\n",
    "param = {'type': 'COLUMN', \n",
    "    'name': 'Country', \n",
    "    'values': ['Philippines'], \n",
    "    'operator': 'EQUALS', \n",
    "    'ignoreCase': True}\n",
    "\n",
    "new_pdp_policy = PDP_Policy(\n",
    "    dataset_id=dataset.id,\n",
    "    filter_group_id=None,\n",
    "    name='New PDP Policy',\n",
    "    parameters_ls=[param],\n",
    "    user_ls=['1893952720'],\n",
    "    group_ls=['1259653287'],\n",
    "    virtual_user_ls=[]\n",
    "    )\n",
    "\n",
    "await new_pdp_policy.upsert_policy(auth=dataset.auth, dataset_id=dataset_id, policy_definition=body)\n"
   ]
  },
  {
   "attachments": {},
   "cell_type": "markdown",
   "metadata": {},
   "source": [
    "### Search PDP Policies by name and ID"
   ]
  },
  {
   "cell_type": "code",
   "execution_count": 25,
   "metadata": {},
   "outputs": [],
   "source": [
    "#| export\n",
    "class SearchPDP_NotFound(de.DomoError):\n",
    "    def __init__(self, \n",
    "                 domo_instance,\n",
    "                 dataset_id,\n",
    "                 message='not found',\n",
    "                 function_name='search_pdp'):\n",
    "\n",
    "        super().__init__(domo_instance=domo_instance, entity_id=dataset_id, message=message, function_name=function_name)\n",
    "         \n",
    "@patch_to(Dataset_PDP_Policies, cls_method=True)\n",
    "async def search_pdp_policies(\n",
    "    cls: Dataset_PDP_Policies,\n",
    "    auth: dmda.DomoAuth,\n",
    "    search: str,\n",
    "    dataset_id: str = None,\n",
    "    search_method: str = 'id' or 'name',\n",
    "    is_exact_match: bool = True,\n",
    "    return_raw: bool = False, \n",
    "    debug_api: bool = False,\n",
    "    session: httpx.AsyncClient = None\n",
    "):\n",
    "    \n",
    "    all_pdp_policies = await Dataset_PDP_Policies(cls).get_policies(\n",
    "        auth = auth,\n",
    "        dataset_id = dataset_id,\n",
    "        debug_api=debug_api\n",
    "    )\n",
    "    \n",
    "    if return_raw:\n",
    "        return all_pdp_polcies\n",
    "\n",
    "    if search_method == 'name':\n",
    "        if is_exact_match:\n",
    "            policy_search = next((policy for policy in all_pdp_policies if policy.name == search), None)\n",
    "            #print(policy_search)   \n",
    "            \n",
    "            if not policy_search:\n",
    "                raise SearchPDP_NotFound(\n",
    "                    dataset_id=dataset_id,\n",
    "                    message=f'There is no policy named \"{search}\" on dataset_id {dataset_id}',\n",
    "                    domo_instance=auth.domo_instance\n",
    "                )  \n",
    "            \n",
    "            return policy_search\n",
    "        else:\n",
    "            policy_search = [policy for policy in all_pdp_policies if search.lower() in policy.name.lower()]\n",
    "            if not policy_search:\n",
    "                raise SearchPDP_NotFound(\n",
    "                    dataset_id=dataset_id,\n",
    "                    message=f'There is no policy name containing \"{search}\" on dataset_id {dataset_id}',\n",
    "                    domo_instance=auth.domo_instance\n",
    "                )  \n",
    "            \n",
    "            return policy_search\n",
    "    else:\n",
    "        policy_search = next((policy for policy in all_pdp_policies if policy.filter_group_id == search), None)\n",
    "         \n",
    "    if not policy_search:\n",
    "        raise SearchPDP_NotFound(\n",
    "            dataset_id=dataset_id,\n",
    "            message=f'There is no policy id \"{search}\" on dataset_id {dataset_id}',\n",
    "            domo_instance=auth.domo_instance\n",
    "        )  \n",
    "          \n",
    "    return policy_search    \n",
    "    "
   ]
  },
  {
   "attachments": {},
   "cell_type": "markdown",
   "metadata": {},
   "source": [
    "### sample implementation of search_pdp_policies"
   ]
  },
  {
   "cell_type": "code",
   "execution_count": 26,
   "metadata": {},
   "outputs": [
    {
     "name": "stdout",
     "output_type": "stream",
     "text": [
      "search_pdp: 0e7f7755-eccc-4612-890c-c3dc3d5002c3 :There is no policy named \"Test 94\" on dataset_id 0e7f7755-eccc-4612-890c-c3dc3d5002c3 at domo-community\n"
     ]
    }
   ],
   "source": [
    "import os\n",
    "import domolibrary.classes.DomoDataset as dmd\n",
    "\n",
    "dataset_id = os.environ[\"DOJO_DATASET_ID\"]\n",
    "\n",
    "#authenticate into instance\n",
    "token_auth = dmda.DomoTokenAuth(\n",
    "    domo_instance=\"domo-community\",\n",
    "    domo_access_token=os.environ[\"DOMO_DOJO_ACCESS_TOKEN\"]\n",
    ")\n",
    "\n",
    "#instance of dataset class\n",
    "dataset = dmd.DomoDataset(auth=token_auth, id=dataset_id)\n",
    "\n",
    "#instance of pdp_policies for the dataset\n",
    "dpp = Dataset_PDP_Policies(dataset=dataset)\n",
    "\n",
    "#pull all policies for that dataset\n",
    "await dpp.get_policies()\n",
    "\n",
    "#search policies based on name\n",
    "try:\n",
    "    policy = await dpp.search_pdp_policies(\n",
    "        auth=token_auth, \n",
    "        dataset_id=dataset.id, \n",
    "        search='Test 94', \n",
    "        search_method='name', \n",
    "        is_exact_match=True, \n",
    "        debug_api=False\n",
    "    )\n",
    "    print(policy)\n",
    "\n",
    "except SearchPDP_NotFound as e:\n",
    "    print(e)"
   ]
  },
  {
   "attachments": {},
   "cell_type": "markdown",
   "metadata": {},
   "source": [
    "### Delete PDP Policy"
   ]
  },
  {
   "cell_type": "code",
   "execution_count": 27,
   "metadata": {},
   "outputs": [],
   "source": [
    "#| export\n",
    "@patch_to(PDP_Policy)\n",
    "async def delete_policy(\n",
    "    self: PDP_Policy, \n",
    "    auth: dmda.DomoAuth, \n",
    "    policy_id: str = None,\n",
    "    dataset_id: str = None, \n",
    "    debug_api: bool = False\n",
    "):\n",
    "\n",
    "    dataset_id = dataset_id or self.dataset_id\n",
    "    policy_id = policy_id or self.filter_group_id\n",
    "\n",
    "    res = await pdp_routes.delete_policy(auth=auth, dataset_id=dataset_id, policy_id=policy_id, debug_api=debug_api)\n",
    "    \n",
    "    return res"
   ]
  },
  {
   "attachments": {},
   "cell_type": "markdown",
   "metadata": {},
   "source": [
    "#### Sample implementation of delete_policy"
   ]
  },
  {
   "cell_type": "code",
   "execution_count": 28,
   "metadata": {},
   "outputs": [
    {
     "name": "stdout",
     "output_type": "stream",
     "text": [
      "search_pdp: 0e7f7755-eccc-4612-890c-c3dc3d5002c3 :There is no policy named \"Test Policy Name Employee 123\" on dataset_id 0e7f7755-eccc-4612-890c-c3dc3d5002c3 at domo-community\n",
      "name 'policy' is not defined\n"
     ]
    }
   ],
   "source": [
    "import os\n",
    "import domolibrary.classes.DomoDataset as dmd\n",
    "\n",
    "dataset_id = os.environ[\"DOJO_DATASET_ID\"]\n",
    "\n",
    "#authenticate into instance\n",
    "token_auth = dmda.DomoTokenAuth(\n",
    "    domo_instance=\"domo-community\",\n",
    "    domo_access_token=os.environ[\"DOMO_DOJO_ACCESS_TOKEN\"]\n",
    ")\n",
    "\n",
    "#instance of dataset class\n",
    "dataset = dmd.DomoDataset(auth=token_auth, id=dataset_id)\n",
    "\n",
    "#instance of pdp_policies for the dataset\n",
    "dpp = Dataset_PDP_Policies(dataset=dataset)\n",
    "\n",
    "#search policies based on name\n",
    "try:\n",
    "    policy = await dpp.search_pdp_policies(\n",
    "        auth=token_auth, \n",
    "        dataset_id=dataset.id, \n",
    "        search='Test Policy Name Employee 123', \n",
    "        search_method='name', \n",
    "        is_exact_match=True, \n",
    "        debug_api=False\n",
    "    )\n",
    "    print(policy)\n",
    "\n",
    "except SearchPDP_NotFound as e:\n",
    "    print(e)\n",
    "\n",
    "#delete the policy based on filtergroup id\n",
    "try:\n",
    "    await policy.delete_policy(auth=token_auth, debug_api=False) #don't need to include policy or dataset since those are already tied with policy class\n",
    "except Exception as e:\n",
    "    print(e)"
   ]
  },
  {
   "attachments": {},
   "cell_type": "markdown",
   "metadata": {},
   "source": [
    "### Enable/Disable PDP on dataset"
   ]
  },
  {
   "cell_type": "code",
   "execution_count": 29,
   "metadata": {},
   "outputs": [],
   "source": [
    "#| export\n",
    "@patch_to(Dataset_PDP_Policies)\n",
    "async def toggle_dataset_pdp(\n",
    "    self: Dataset_PDP_Policies,\n",
    "    auth: dmda.DomoAuth,\n",
    "    dataset_id: str = None,\n",
    "    is_enable: bool = True, # True will enable pdp, False will disable pdp\n",
    "    debug_api: bool = False,\n",
    "    session: httpx.AsyncClient = None\n",
    "):\n",
    "\n",
    "    return await pdp_routes.toggle_pdp(\n",
    "        auth=auth or self.auth,\n",
    "        dataset_id=dataset_id or self.dataset_id,\n",
    "        is_enable=is_enable,\n",
    "        debug_api=debug_api,\n",
    "        session=session\n",
    "    )\n",
    "\n"
   ]
  },
  {
   "attachments": {},
   "cell_type": "markdown",
   "metadata": {},
   "source": [
    "### sample implementation of toggle_dataset_pdp"
   ]
  },
  {
   "cell_type": "code",
   "execution_count": 30,
   "metadata": {},
   "outputs": [
    {
     "data": {
      "text/plain": [
       "ResponseGetData(status=200, response={'enabled': False, 'secured': False, 'external': False}, is_success=True)"
      ]
     },
     "execution_count": 30,
     "metadata": {},
     "output_type": "execute_result"
    }
   ],
   "source": [
    "import os\n",
    "import domolibrary.classes.DomoDataset as dmd\n",
    "\n",
    "dataset_id = os.environ[\"DOJO_DATASET_ID\"]\n",
    "\n",
    "#authenticate into instance\n",
    "token_auth = dmda.DomoTokenAuth(\n",
    "    domo_instance=\"domo-community\",\n",
    "    domo_access_token=os.environ[\"DOMO_DOJO_ACCESS_TOKEN\"]\n",
    ")\n",
    "\n",
    "#instance of dataset class\n",
    "dataset = dmd.DomoDataset(auth=token_auth, id=dataset_id)\n",
    "\n",
    "#instance of pdp_policies for the dataset\n",
    "dpp = Dataset_PDP_Policies(dataset=dataset)\n",
    "\n",
    "#toggle pdp on dataset\n",
    "await dpp.toggle_dataset_pdp(auth=token_auth, dataset_id=dataset.id, is_enable=False, debug_api=False)"
   ]
  }
 ],
 "metadata": {
  "jupytext": {
   "split_at_heading": true
  },
  "kernelspec": {
   "display_name": "Python 3",
   "language": "python",
   "name": "python3"
  },
  "language_info": {
   "codemirror_mode": {
    "name": "ipython",
    "version": 3
   },
   "file_extension": ".py",
   "mimetype": "text/x-python",
   "name": "python",
   "nbconvert_exporter": "python",
   "pygments_lexer": "ipython3",
   "version": "3.10.4"
  }
 },
 "nbformat": 4,
 "nbformat_minor": 2
}
