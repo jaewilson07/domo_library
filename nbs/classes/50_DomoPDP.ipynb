{
  "cells": [
    {
      "cell_type": "raw",
      "metadata": {},
      "source": [
        "---\n",
        "output-file: pdp_class.html\n",
        "title: Domo PDP\n",
        "\n",
        "---\n",
        "\n"
      ]
    },
    {
      "cell_type": "code",
      "execution_count": 1,
      "metadata": {},
      "outputs": [],
      "source": [
        "#| default_exp classes.DomoPDP"
      ]
    },
    {
      "cell_type": "code",
      "execution_count": 2,
      "metadata": {},
      "outputs": [],
      "source": [
        "#| exporti\n",
        "import asyncio\n",
        "import datetime as dt\n",
        "import io\n",
        "import json\n",
        "from dataclasses import dataclass, field\n",
        "from enum import Enum, auto\n",
        "\n",
        "from fastcore.basics import patch_to\n",
        "\n",
        "import httpx\n",
        "import pandas as pd\n",
        "\n",
        "#from ..utils.chunk_execution import chunk_list\n",
        "#from ..utils.DictDot import DictDot\n",
        "import domolibrary.utils.DictDot as util_dd\n",
        "#from . import DomoCertification as dmdc\n",
        "#from .DomoAuth import DomoDeveloperAuth, DomoFullAuth\n",
        "import domolibrary.client.DomoAuth as dmda\n",
        "#from .routes import pdp_routes\n",
        "import domolibrary.routes.pdp as pdp_routes\n",
        "import domolibrary.client.DomoError as de\n",
        "import domolibrary.classes.DomoDataset as dmd\n",
        "\n"
      ]
    },
    {
      "attachments": {},
      "cell_type": "markdown",
      "metadata": {},
      "source": [
        "### PDP Policy Parameter"
      ]
    },
    {
      "cell_type": "code",
      "execution_count": 3,
      "metadata": {},
      "outputs": [],
      "source": [
        "#| export\n",
        "class PDP_Parameter:\n",
        "    column_name: str\n",
        "    column_values_ls: list\n",
        "    operator: str = 'EQUALS' or 'GREATER_THAN' or 'LESS_THAN' or 'GREATER_THAN_EQUAL' or 'LESS_THAN_EQUAL' or 'BETWEEN'\n",
        "    ignore_case: bool = True\n",
        "    type: str = 'COLUMN' or 'DYNAMIC' #column sets parameter on data vs dynamic creates on Domo Trusted Attribute\n"
      ]
    },
    {
      "cell_type": "code",
      "execution_count": 4,
      "metadata": {},
      "outputs": [],
      "source": [
        "#| export\n",
        "@patch_to(PDP_Parameter)\n",
        "# def generate_parameter_simple(column_name, column_values_list, operator='EQUALS', ignore_case: bool = True):\n",
        "def generate_parameter_simple(obj):\n",
        "\n",
        "        return pdp_routes.generate_policy_parameter_simple(column_name=obj.name,\n",
        "                                                           column_values_ls=obj.values,\n",
        "                                                           operator=obj.operator,\n",
        "                                                           ignore_case=obj.ignoreCase)"
      ]
    },
    {
      "attachments": {},
      "cell_type": "markdown",
      "metadata": {},
      "source": [
        "### PDP Policy"
      ]
    },
    {
      "cell_type": "code",
      "execution_count": 5,
      "metadata": {},
      "outputs": [],
      "source": [
        "#| export\n",
        "@dataclass\n",
        "class PDP_Policy:\n",
        "    dataset_id: str\n",
        "    filter_group_id: str\n",
        "    name: str\n",
        "    #resources: list\n",
        "    parameters_ls: list\n",
        "    user_ls: list\n",
        "    group_ls: list\n",
        "    virtual_user_ls: list\n",
        "    \n",
        "\n",
        "    @classmethod\n",
        "    def _from_json(cls, obj):\n",
        "        dd = util_dd.DictDot(obj)\n",
        "\n",
        "        return cls(dataset_id=dd.dataSourceId,\n",
        "                   filter_group_id=dd.filterGroupId,\n",
        "                   name=dd.name,\n",
        "                   #resources=dd.resources,\n",
        "                   parameters_ls=dd.parameters,\n",
        "                   user_ls=dd.userIds,\n",
        "                   group_ls=dd.groupIds,\n",
        "                   virtual_user_ls=dd.virtualUserIds)\n",
        "\n",
        "    # @staticmethod\n",
        "    # def generate_parameter_simple(column_name, column_values_list, operator='EQUALS', ignore_case: bool = True):\n",
        "    #     return pdp_routes.generate_policy_parameter_simple(column_name=column_name,\n",
        "    #                                                        column_values_list=column_values_list,\n",
        "    #                                                        operator=operator,\n",
        "    #                                                        ignore_case=ignore_case)\n",
        "\n",
        "    # @staticmethod\n",
        "    # def generate_body(policy_name, dataset_id, parameters_list, policy_id=None, user_ids=None, group_ids=None, virtual_user_ids=None):\n",
        "    #     return pdp_routes.generate_policy_body(policy_name=policy_name,\n",
        "    #                                            dataset_id=dataset_id,\n",
        "    #                                            parameters_list=parameters_list,\n",
        "    #                                            policy_id=policy_id,\n",
        "    #                                            user_ids=user_ids,\n",
        "    #                                            group_ids=group_ids,\n",
        "    #                                            virtual_user_ids=virtual_user_ids)\n",
        "\n",
        "    @classmethod\n",
        "    async def upsert_policy(cls, \n",
        "                            auth: dmda.DomoAuth,\n",
        "                            dataset_id: str,\n",
        "                            policy_definition: dict, # body sent to the API (uses camelCase instead of snake_case)\n",
        "                            debug_api: bool = False,\n",
        "                            debug_prn: bool = False\n",
        "                            ):\n",
        "        \n",
        "        # print(policy_definition)\n",
        "        \n",
        "        if policy_definition.get('filterGroupId'):\n",
        "            if debug_prn:\n",
        "                print(f'Updating policy in {auth.domo_instance}')    \n",
        "            res = await pdp_routes.update_policy(auth=auth,\n",
        "                                                 dataset_id=dataset_id,\n",
        "                                                 filter_group_id=policy_definition.get(\n",
        "                                                     'filterGroupId'),\n",
        "                                                 body=policy_definition,\n",
        "                                                 debug_api=debug_api)\n",
        "            return cls._from_json(res.response)\n",
        "        else:\n",
        "            if debug_prn:\n",
        "                print(f'Policy does not exist. Creating policy in {auth.domo_instance}')\n",
        "            res = await pdp_routes.create_policy(auth=auth,\n",
        "                                                 dataset_id=dataset_id,\n",
        "                                                 body=policy_definition,\n",
        "                                                 debug_api=debug_api)\n",
        "\n",
        "            return cls._from_json(res.response)\n",
        "    "
      ]
    },
    {
      "cell_type": "code",
      "execution_count": 6,
      "metadata": {},
      "outputs": [],
      "source": [
        "#| export\n",
        "@patch_to(PDP_Policy)\n",
        "def add_parameter(self: PDP_Policy, parameter_obj):\n",
        "    self.parameters.concat(parameter_obj)"
      ]
    },
    {
      "cell_type": "code",
      "execution_count": 7,
      "metadata": {},
      "outputs": [],
      "source": [
        "#| export\n",
        "@patch_to(PDP_Policy)\n",
        "#def generate_body(policy_name, dataset_id, parameters_list, policy_id=None, user_ids=None, group_ids=None, virtual_user_ids=None):\n",
        "def generate_body(\n",
        "        self: PDP_Policy, \n",
        "        #params: list[dict] = ''\n",
        "        ):\n",
        "        self.parameters_ls = [PDP_Parameter.generate_parameter_simple(param) for param in self.parameters_ls]\n",
        "        return pdp_routes.generate_policy_body(policy_name=self.name,\n",
        "                                               dataset_id=self.dataset_id,\n",
        "                                               parameters_ls=self.parameters_ls,\n",
        "                                               policy_id=self.filter_group_id,\n",
        "                                               user_ids=self.user_ls,\n",
        "                                               group_ids=self.group_ls,\n",
        "                                               virtual_user_ids=self.virtual_user_ls)"
      ]
    },
    {
      "attachments": {},
      "cell_type": "markdown",
      "metadata": {},
      "source": [
        "### Dataset PDP Policies "
      ]
    },
    {
      "cell_type": "code",
      "execution_count": 8,
      "metadata": {},
      "outputs": [],
      "source": [
        "#| export\n",
        "class Dataset_PDP_Policies:\n",
        "\n",
        "    dataset: dmd.DomoDataset  # domo dataset class\n",
        "    policies: list[PDP_Policy] = None  \n",
        "\n",
        "    def __init__(self, dataset):\n",
        "        self.dataset = dataset\n",
        "        self.policies = []"
      ]
    },
    {
      "cell_type": "code",
      "execution_count": 9,
      "metadata": {},
      "outputs": [],
      "source": [
        "@patch_to(Dataset_PDP_Policies)\n",
        "async def get_policies(\n",
        "        self: Dataset_PDP_Policies, \n",
        "        auth: dmda.DomoAuth = None, \n",
        "        dataset_id: str = None, \n",
        "        return_raw: bool = False,\n",
        "        debug_api: bool = False\n",
        "    ):\n",
        "\n",
        "        dataset_id = dataset_id or self.dataset.id\n",
        "        auth = auth or self.dataset.auth\n",
        "\n",
        "        res = await pdp_routes.get_pdp_policies(auth=auth, dataset_id=dataset_id, debug_api=debug_api)\n",
        "\n",
        "        if return_raw:\n",
        "              return res\n",
        "\n",
        "        if res.status == 200:\n",
        "            domo_policy = [PDP_Policy._from_json(\n",
        "                policy_obj) for policy_obj in res.response]\n",
        "            self.policies = domo_policy\n",
        "            return domo_policy"
      ]
    },
    {
      "attachments": {},
      "cell_type": "markdown",
      "metadata": {},
      "source": [
        "### sample implementation of get_policies"
      ]
    },
    {
      "cell_type": "code",
      "execution_count": 10,
      "metadata": {},
      "outputs": [
        {
          "data": {
            "text/plain": [
              "[PDP_Policy(dataset_id='0e7f7755-eccc-4612-890c-c3dc3d5002c3', filter_group_id=1153, name='Test Policy Name Employee 123', parameters_ls=[DictDot(name='Employee ID', value='456', values=['456'], type='COLUMN', operator='EQUALS', not=False, ignoreCase=True), DictDot(name='Sales', value='domo.policy.managed_email_address', values=['domo.policy.managed_email_address'], type='DYNAMIC', operator='EQUALS', not=False, ignoreCase=False)], user_ls=[1893952720], group_ls=[1259653287], virtual_user_ls=None),\n",
              " PDP_Policy(dataset_id='0e7f7755-eccc-4612-890c-c3dc3d5002c3', filter_group_id=1156, name='Test 456', parameters_ls=[DictDot(name='Employee ID', value='465', values=['465'], type='COLUMN', operator='EQUALS', not=False, ignoreCase=False), DictDot(name='Country', value='Philippines', values=['Philippines'], type='COLUMN', operator='EQUALS', not=False, ignoreCase=False)], user_ls=[2072616249], group_ls=None, virtual_user_ls=None),\n",
              " PDP_Policy(dataset_id='0e7f7755-eccc-4612-890c-c3dc3d5002c3', filter_group_id=1157, name='Test 94', parameters_ls=[DictDot(name='Employee ID', value='465', values=['465'], type='COLUMN', operator='EQUALS', not=False, ignoreCase=False), DictDot(name='Customer ID', value='8978', values=['8978'], type='COLUMN', operator='EQUALS', not=False, ignoreCase=False), DictDot(name='Country', value='U', values=['U'], type='COLUMN', operator='BEGINS_WITH', not=False, ignoreCase=False)], user_ls=[1893952720], group_ls=[1259653287], virtual_user_ls=None),\n",
              " PDP_Policy(dataset_id='0e7f7755-eccc-4612-890c-c3dc3d5002c3', filter_group_id=1159, name='Test Policy Name Employee 1234', parameters_ls=[DictDot(name='Employee ID', value='1234', values=['1234'], type='COLUMN', operator='EQUALS', not=False, ignoreCase=True)], user_ls=[1893952720], group_ls=None, virtual_user_ls=None),\n",
              " PDP_Policy(dataset_id='0e7f7755-eccc-4612-890c-c3dc3d5002c3', filter_group_id=1160, name='Test Policy Name Employee 1234', parameters_ls=[DictDot(name='Employee ID', value='1234', values=['1234'], type='COLUMN', operator='EQUALS', not=False, ignoreCase=True)], user_ls=[1893952720], group_ls=None, virtual_user_ls=None),\n",
              " PDP_Policy(dataset_id='0e7f7755-eccc-4612-890c-c3dc3d5002c3', filter_group_id=1161, name='Test Policy Name Employee 1234', parameters_ls=[DictDot(name='Employee ID', value='1234', values=['1234'], type='COLUMN', operator='EQUALS', not=False, ignoreCase=True), DictDot(name='Sales', value='1', values=['1'], type='COLUMN', operator='GREATER_THAN', not=False, ignoreCase=False), DictDot(name='Sales', value='1', values=['1'], type='COLUMN', operator='LESS_THAN', not=False, ignoreCase=False), DictDot(name='Sales', value='1', values=['1'], type='COLUMN', operator='GREATER_THAN_EQUAL', not=False, ignoreCase=False), DictDot(name='Sales', value='1', values=['1'], type='COLUMN', operator='LESS_THAN_EQUAL', not=False, ignoreCase=False), DictDot(name='Sales', value='12\\x0621', values=['12', '21'], type='COLUMN', operator='BETWEEN', not=False, ignoreCase=False)], user_ls=[1893952720], group_ls=None, virtual_user_ls=None),\n",
              " PDP_Policy(dataset_id='0e7f7755-eccc-4612-890c-c3dc3d5002c3', filter_group_id=1175, name='Test Policy Name Employee 1234', parameters_ls=[DictDot(name='Employee ID', value='1234', values=['1234'], type='COLUMN', operator='EQUALS', not=False, ignoreCase=True)], user_ls=[1893952720], group_ls=None, virtual_user_ls=None)]"
            ]
          },
          "execution_count": 10,
          "metadata": {},
          "output_type": "execute_result"
        }
      ],
      "source": [
        "import os\n",
        "import domolibrary.classes.DomoDataset as dmd\n",
        "\n",
        "token_auth = dmda.DomoTokenAuth(\n",
        "    domo_instance=\"domo-community\",\n",
        "    domo_access_token=os.environ[\"DOMO_DOJO_ACCESS_TOKEN\"]\n",
        ")\n",
        "\n",
        "# instantiate dataset class\n",
        "dataset = dmd.DomoDataset(auth=token_auth, id=os.environ[\"DOJO_DATASET_ID\"]) \n",
        "# instantiate dataset_pdp_policies\n",
        "dataset_pdp_policies = Dataset_PDP_Policies(dataset=dataset)\n",
        "# get policies\n",
        "await dataset_pdp_policies.get_policies(return_raw=False)"
      ]
    },
    {
      "attachments": {},
      "cell_type": "markdown",
      "metadata": {},
      "source": [
        "### sample implementation of generate_body"
      ]
    },
    {
      "cell_type": "code",
      "execution_count": 11,
      "metadata": {},
      "outputs": [
        {
          "data": {
            "text/plain": [
              "{'name': 'Test Policy Name Employee 123',\n",
              " 'dataSourceId': '0e7f7755-eccc-4612-890c-c3dc3d5002c3',\n",
              " 'userIds': [1893952720],\n",
              " 'virtualUserIds': [],\n",
              " 'groupIds': [1259653287],\n",
              " 'dataSourcePermissions': False,\n",
              " 'parameters': [{'type': 'COLUMN',\n",
              "   'name': 'Employee ID',\n",
              "   'values': ['456'],\n",
              "   'operator': 'EQUALS',\n",
              "   'ignoreCase': True},\n",
              "  {'type': 'COLUMN',\n",
              "   'name': 'Sales',\n",
              "   'values': ['domo.policy.managed_email_address'],\n",
              "   'operator': 'EQUALS',\n",
              "   'ignoreCase': False}],\n",
              " 'filterGroupId': 1153}"
            ]
          },
          "execution_count": 11,
          "metadata": {},
          "output_type": "execute_result"
        }
      ],
      "source": [
        "selected_policy = next(\n",
        "    (policy for policy in dataset_pdp_policies.policies if policy.name == 'Test Policy Name Employee 123'), None)\n",
        "# print(selected_policy)\n",
        "body = selected_policy.generate_body()\n",
        "body"
      ]
    },
    {
      "attachments": {},
      "cell_type": "markdown",
      "metadata": {},
      "source": [
        "### sample implementation of upsert_policy"
      ]
    },
    {
      "cell_type": "code",
      "execution_count": 13,
      "metadata": {},
      "outputs": [
        {
          "data": {
            "text/plain": [
              "{'name': 'Test Policy Name Employee 123',\n",
              " 'dataSourceId': '0e7f7755-eccc-4612-890c-c3dc3d5002c3',\n",
              " 'userIds': [1893952720],\n",
              " 'virtualUserIds': [],\n",
              " 'groupIds': [1259653287],\n",
              " 'dataSourcePermissions': False,\n",
              " 'parameters': [{'type': 'COLUMN',\n",
              "   'name': 'Employee ID',\n",
              "   'values': ['456'],\n",
              "   'operator': 'EQUALS',\n",
              "   'ignoreCase': True},\n",
              "  {'type': 'COLUMN',\n",
              "   'name': 'Sales',\n",
              "   'values': ['domo.policy.managed_email_address'],\n",
              "   'operator': 'EQUALS',\n",
              "   'ignoreCase': False},\n",
              "  {'type': 'COLUMN',\n",
              "   'name': 'Country',\n",
              "   'values': 'Japan',\n",
              "   'operator': 'EQUALS',\n",
              "   'ignoreCase': True}],\n",
              " 'filterGroupId': 1153}"
            ]
          },
          "execution_count": 13,
          "metadata": {},
          "output_type": "execute_result"
        }
      ],
      "source": [
        "new_param = {'type': 'COLUMN', 'name': 'Country', 'values': 'Japan', 'operator': 'EQUALS', 'ignoreCase': True}\n",
        "body['parameters'].append(new_param)\n",
        "body"
      ]
    },
    {
      "cell_type": "code",
      "execution_count": null,
      "metadata": {},
      "outputs": [],
      "source": [
        "# sample_parameter = dataset_pdp_policies.policies.generate_policy_parameter_simple(\n",
        "#     column_name=\"Employee ID\",\n",
        "#     column_values_ls=['456'],\n",
        "#     operator=\"EQUALS\",\n",
        "#     ignore_case=True,\n",
        "# )\n",
        "\n",
        "# body = dataset_pdp_policies.policies.generate_policy_body(\n",
        "#     policy_name=\"Test Policy Name Employee 4567\",\n",
        "#     dataset_id = dataset_id,\n",
        "#     policy_id=None,  # including the policy_id updates that existing policy\n",
        "#     parameters_ls=sample_parameter,\n",
        "#     user_ids=['1893952720']\n",
        "# )"
      ]
    },
    {
      "cell_type": "code",
      "execution_count": null,
      "metadata": {},
      "outputs": [],
      "source": [
        "#await PDP_Policy.upsert_policy()"
      ]
    },
    {
      "attachments": {},
      "cell_type": "markdown",
      "metadata": {},
      "source": [
        "### Search PDP Policies by name and ID"
      ]
    },
    {
      "cell_type": "code",
      "execution_count": null,
      "metadata": {},
      "outputs": [],
      "source": [
        "#| export\n",
        "class SearchPDP_NotFound(de.DomoError):\n",
        "    def __init__(self, \n",
        "                 domo_instance,\n",
        "                 dataset_id,\n",
        "                 message='not found',\n",
        "                 function_name='search_pdp'):\n",
        "\n",
        "        super().__init__(domo_instance=domo_instance, entity_id=dataset_id, message=message, function_name=function_name)\n",
        "         \n",
        "@patch_to(Dataset_PDP_Policies, cls_method=True)\n",
        "async def search_pdp_policies(\n",
        "    cls: Dataset_PDP_Policies,\n",
        "    auth: dmda.DomoAuth,\n",
        "    search: str,\n",
        "    dataset_id: str = None,\n",
        "    search_method: str = 'id' or 'name',\n",
        "    is_exact_match: bool = True,\n",
        "    return_raw: bool = False, \n",
        "    debug_api: bool = False,\n",
        "    session: httpx.AsyncClient = None\n",
        "):\n",
        "    \n",
        "    all_pdp_policies = await Dataset_PDP_Policies(cls).get_policies(\n",
        "        auth = auth,\n",
        "        dataset_id = dataset_id,\n",
        "        debug_api=debug_api\n",
        "    )\n",
        "    \n",
        "    if return_raw:\n",
        "        return all_pdp_polcies\n",
        "\n",
        "    if search_method == 'name':\n",
        "        if is_exact_match:\n",
        "            policy_search = next((policy for policy in all_pdp_policies if policy.name == search), None)\n",
        "            #print(policy_search)   \n",
        "            \n",
        "            if not policy_search:\n",
        "                raise SearchPDP_NotFound(\n",
        "                    dataset_id=dataset_id,\n",
        "                    message=f'There is no policy named \"{search}\" on dataset_id {dataset_id}',\n",
        "                    domo_instance=auth.domo_instance\n",
        "                )  \n",
        "            \n",
        "            return policy_search\n",
        "        else:\n",
        "            policy_search = [policy for policy in all_pdp_policies if search.lower() in policy.name.lower()]\n",
        "            if not policy_search:\n",
        "                raise SearchPDP_NotFound(\n",
        "                    dataset_id=dataset_id,\n",
        "                    message=f'There is no policy name containing \"{search}\" on dataset_id {dataset_id}',\n",
        "                    domo_instance=auth.domo_instance\n",
        "                )  \n",
        "            \n",
        "            return policy_search\n",
        "    else:\n",
        "        policy_search = next((policy for policy in all_pdp_policies if policy.filter_group_id == search), None)\n",
        "         \n",
        "    if not policy_search:\n",
        "        raise SearchPDP_NotFound(\n",
        "            dataset_id=dataset_id,\n",
        "            message=f'There is no policy id \"{search}\" on dataset_id {dataset_id}',\n",
        "            domo_instance=auth.domo_instance\n",
        "        )  \n",
        "          \n",
        "    return policy_search    \n",
        "    "
      ]
    },
    {
      "attachments": {},
      "cell_type": "markdown",
      "metadata": {},
      "source": [
        "### sample implementation of search_pdp_policies"
      ]
    },
    {
      "cell_type": "code",
      "execution_count": null,
      "metadata": {},
      "outputs": [],
      "source": [
        "import os\n",
        "import domolibrary.classes.DomoDataset as dmd\n",
        "\n",
        "dataset_id = os.environ[\"DOJO_DATASET_ID\"]\n",
        "\n",
        "#authenticate into instance\n",
        "token_auth = dmda.DomoTokenAuth(\n",
        "    domo_instance=\"domo-community\",\n",
        "    domo_access_token=os.environ[\"DOMO_DOJO_ACCESS_TOKEN\"]\n",
        ")\n",
        "\n",
        "#instance of dataset class\n",
        "dataset = dmd.DomoDataset(auth=token_auth, id=dataset_id)\n",
        "\n",
        "#instance of pdp_policies for the dataset\n",
        "dpp = Dataset_PDP_Policies(dataset=dataset)\n",
        "\n",
        "#pull all policies for that dataset\n",
        "await dpp.get_policies()\n",
        "\n",
        "#search policies based on name\n",
        "try:\n",
        "    policy = await dpp.search_pdp_policies(\n",
        "        auth=token_auth, \n",
        "        dataset_id=dataset.id, \n",
        "        search='Test Policy Name Employee 123', \n",
        "        search_method='name', \n",
        "        is_exact_match=True, \n",
        "        debug_api=False\n",
        "    )\n",
        "    policy\n",
        "\n",
        "except SearchPDP_NotFound as e:\n",
        "    print(e)"
      ]
    },
    {
      "attachments": {},
      "cell_type": "markdown",
      "metadata": {},
      "source": [
        "### Enable/Disable PDP on dataset"
      ]
    },
    {
      "cell_type": "code",
      "execution_count": null,
      "metadata": {},
      "outputs": [],
      "source": [
        "#| export\n",
        "@patch_to(Dataset_PDP_Policies, cls_method=True)\n",
        "async def toggle_dataset_pdp(\n",
        "    cls: Dataset_PDP_Policies,\n",
        "    auth: dmda.DomoAuth,\n",
        "    dataset_id: str = None,\n",
        "    is_enable: bool = True, # True will enable pdp, False will disable pdp\n",
        "    debug_api: bool = False,\n",
        "    session: httpx.AsyncClient = None\n",
        "):\n",
        "\n",
        "    return await pdp_routes.toggle_pdp(\n",
        "        auth=auth,\n",
        "        dataset_id=dataset_id,\n",
        "        is_enable=is_enable,\n",
        "        debug_api=debug_api,\n",
        "        session=session\n",
        "    )\n",
        "\n"
      ]
    },
    {
      "attachments": {},
      "cell_type": "markdown",
      "metadata": {},
      "source": [
        "### sample implementation of toggle_dataset_pdp"
      ]
    },
    {
      "cell_type": "code",
      "execution_count": null,
      "metadata": {},
      "outputs": [
        {
          "data": {
            "text/plain": [
              "ResponseGetData(status=200, response={'enabled': True, 'secured': False, 'external': False}, is_success=True)"
            ]
          },
          "execution_count": 12,
          "metadata": {},
          "output_type": "execute_result"
        }
      ],
      "source": [
        "import os\n",
        "import domolibrary.classes.DomoDataset as dmd\n",
        "\n",
        "dataset_id = os.environ[\"DOJO_DATASET_ID\"]\n",
        "\n",
        "#authenticate into instance\n",
        "token_auth = dmda.DomoTokenAuth(\n",
        "    domo_instance=\"domo-community\",\n",
        "    domo_access_token=os.environ[\"DOMO_DOJO_ACCESS_TOKEN\"]\n",
        ")\n",
        "\n",
        "#instance of dataset class\n",
        "dataset = dmd.DomoDataset(auth=token_auth, id=dataset_id)\n",
        "\n",
        "#instance of pdp_policies for the dataset\n",
        "dpp = Dataset_PDP_Policies(dataset=dataset)\n",
        "\n",
        "#toggle pdp on dataset\n",
        "await dpp.toggle_dataset_pdp(auth=token_auth, dataset_id=dataset.id, is_enable=True, debug_api=False)"
      ]
    }
  ],
  "metadata": {
    "jupytext": {
      "split_at_heading": true
    },
    "kernelspec": {
      "display_name": "Python 3",
      "language": "python",
      "name": "python3"
    },
    "language_info": {
      "codemirror_mode": {
        "name": "ipython",
        "version": 3
      },
      "file_extension": ".py",
      "mimetype": "text/x-python",
      "name": "python",
      "nbconvert_exporter": "python",
      "pygments_lexer": "ipython3",
      "version": "3.10.4"
    }
  },
  "nbformat": 4,
  "nbformat_minor": 4
}
