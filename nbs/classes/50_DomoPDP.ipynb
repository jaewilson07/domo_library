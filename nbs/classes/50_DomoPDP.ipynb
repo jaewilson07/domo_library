{
  "cells": [
    {
      "cell_type": "raw",
      "metadata": {},
      "source": [
        "---\n",
        "output-file: pdp_class.html\n",
        "title: Domo PDP\n",
        "\n",
        "---\n",
        "\n"
      ]
    },
    {
      "cell_type": "code",
      "execution_count": 1,
      "metadata": {},
      "outputs": [],
      "source": [
        "#| default_exp classes.DomoPDP"
      ]
    },
    {
      "cell_type": "code",
      "execution_count": 2,
      "metadata": {},
      "outputs": [],
      "source": [
        "#| exporti\n",
        "import asyncio\n",
        "import datetime as dt\n",
        "import io\n",
        "import json\n",
        "from dataclasses import dataclass, field\n",
        "from enum import Enum, auto\n",
        "\n",
        "from fastcore.basics import patch_to\n",
        "\n",
        "import httpx\n",
        "import pandas as pd\n",
        "\n",
        "#from ..utils.chunk_execution import chunk_list\n",
        "#from ..utils.DictDot import DictDot\n",
        "import domolibrary.utils.DictDot as util_dd\n",
        "#from . import DomoCertification as dmdc\n",
        "#from .DomoAuth import DomoDeveloperAuth, DomoFullAuth\n",
        "import domolibrary.client.DomoAuth as dmda\n",
        "#from .routes import pdp_routes\n",
        "import domolibrary.routes.pdp as pdp_routes\n",
        "import domolibrary.client.DomoError as de\n",
        "import domolibrary.classes.DomoDataset as dmd\n",
        "\n"
      ]
    },
    {
      "cell_type": "code",
      "execution_count": 3,
      "metadata": {},
      "outputs": [],
      "source": [
        "#| export\n",
        "@dataclass\n",
        "class PDP_Policy():\n",
        "    dataset_id: str\n",
        "    filter_group_id: str\n",
        "    name: str\n",
        "    resources: list\n",
        "    parameters: list\n",
        "\n",
        "    @classmethod\n",
        "    def _from_json(cls, obj):\n",
        "        dd = util_dd.DictDot(obj)\n",
        "\n",
        "        return cls(dataset_id=dd.dataSourceId,\n",
        "                   filter_group_id=dd.filterGroupId,\n",
        "                   name=dd.name,\n",
        "                   resources=dd.resources,\n",
        "                   parameters=dd.parameters)\n",
        "\n",
        "    @staticmethod\n",
        "    def generate_parameter_simple(column_name, column_values_list, operator='EQUALS', ignore_case: bool = True):\n",
        "        return pdp_routes.generate_policy_parameter_simple(column_name=column_name,\n",
        "                                                           column_values_list=column_values_list,\n",
        "                                                           operator=operator,\n",
        "                                                           ignore_case=ignore_case)\n",
        "\n",
        "    @staticmethod\n",
        "    def generate_body(policy_name, dataset_id, parameters_list, policy_id=None, user_ids=None, group_ids=None, virtual_user_ids=None):\n",
        "        return pdp_routes.generate_policy_body(policy_name=policy_name,\n",
        "                                               dataset_id=dataset_id,\n",
        "                                               parameters_list=parameters_list,\n",
        "                                               policy_id=policy_id,\n",
        "                                               user_ids=user_ids,\n",
        "                                               group_ids=group_ids,\n",
        "                                               virtual_user_ids=virtual_user_ids)\n",
        "\n",
        "    @classmethod\n",
        "    async def upsert_policy(cls, \n",
        "                            auth: dmda.DomoAuth,\n",
        "                            dataset_id: str,\n",
        "                            policy_definition: dict, # body sent to the API (uses camelCase instead of snake_case)\n",
        "                            debug_api: bool = False,\n",
        "                            debug_prn: bool = False\n",
        "                            ):\n",
        "        \n",
        "        # print(policy_definition)\n",
        "        \n",
        "        if policy_definition.get('filterGroupId'):\n",
        "            if debug_prn:\n",
        "                print(f'Updating policy in {auth.domo_instance}')    \n",
        "            res = await pdp_routes.update_policy(auth=auth,\n",
        "                                                 dataset_id=dataset_id,\n",
        "                                                 filter_group_id=policy_definition.get(\n",
        "                                                     'filterGroupId'),\n",
        "                                                 body=policy_definition,\n",
        "                                                 debug_api=debug_api)\n",
        "            return cls._from_json(res.response)\n",
        "        else:\n",
        "            if debug_prn:\n",
        "                print(f'Policy does not exist. Creating policy in {auth.domo_instance}')\n",
        "            res = await pdp_routes.create_policy(auth=auth,\n",
        "                                                 dataset_id=dataset_id,\n",
        "                                                 body=policy_definition,\n",
        "                                                 debug_api=debug_api)\n",
        "\n",
        "            return cls._from_json(res.response)\n",
        "    "
      ]
    },
    {
      "cell_type": "code",
      "execution_count": 4,
      "metadata": {},
      "outputs": [],
      "source": [
        "#| export\n",
        "class Dataset_PDP_Policies:\n",
        "\n",
        "    dataset: dict  # domo dataset class\n",
        "    policies: list[PDP_Policy] = None  \n",
        "\n",
        "    def __init__(self, dataset):\n",
        "        self.dataset = dataset\n",
        "        self.policies = []\n",
        "\n",
        "    async def get_policies(self, \n",
        "                           auth: dmda.DomoAuth = None, \n",
        "                           dataset_id: str = None, \n",
        "                           debug_api: bool = False):\n",
        "\n",
        "        dataset_id = dataset_id or self.dataset.id\n",
        "        auth = auth or self.dataset.auth\n",
        "\n",
        "        res = await pdp_routes.get_pdp_policies(auth=auth, dataset_id=dataset_id, debug_api=debug_api)\n",
        "\n",
        "\n",
        "        if res.status == 200:\n",
        "            domo_policy = [PDP_Policy._from_json(\n",
        "                policy_obj) for policy_obj in res.response]\n",
        "            self.policies = domo_policy\n",
        "            return domo_policy"
      ]
    },
    {
      "attachments": {},
      "cell_type": "markdown",
      "metadata": {},
      "source": [
        "### sample implementation of get_policies"
      ]
    },
    {
      "cell_type": "code",
      "execution_count": 5,
      "metadata": {},
      "outputs": [
        {
          "data": {
            "text/plain": [
              "[PDP_Policy(dataset_id='04c1574e-c8be-4721-9846-c6ffa491144b', filter_group_id=1149, name='Test Update Policy Name', resources=DictDot(USER=['1893952720']), parameters=[DictDot(name='objectID', value='000003007', values=['000003007'], type='COLUMN', operator='EQUALS', not=False, ignoreCase=True)])]"
            ]
          },
          "execution_count": 5,
          "metadata": {},
          "output_type": "execute_result"
        }
      ],
      "source": [
        "import os\n",
        "\n",
        "token_auth = dmda.DomoTokenAuth(\n",
        "    domo_instance=\"domo-community\",\n",
        "    domo_access_token=os.environ[\"DOMO_DOJO_ACCESS_TOKEN\"]\n",
        ")\n",
        "\n",
        "dataset_id = os.environ[\"DOJO_DATASET_ID\"]\n",
        "dataset_pdp_policies = Dataset_PDP_Policies(dataset=dmd.DomoDataset(auth=token_auth, id=dataset_id))\n",
        "await dataset_pdp_policies.get_policies()\n"
      ]
    },
    {
      "cell_type": "code",
      "execution_count": 6,
      "metadata": {},
      "outputs": [],
      "source": [
        "# sample_parameter = dataset_pdp_policies.policies.generate_policy_parameter_simple(\n",
        "#     column_name=\"Employee ID\",\n",
        "#     column_values_ls=['456'],\n",
        "#     operator=\"EQUALS\",\n",
        "#     ignore_case=True,\n",
        "# )\n",
        "\n",
        "# body = dataset_pdp_policies.policies.generate_policy_body(\n",
        "#     policy_name=\"Test Policy Name Employee 4567\",\n",
        "#     dataset_id = dataset_id,\n",
        "#     policy_id=None,  # including the policy_id updates that existing policy\n",
        "#     parameters_ls=sample_parameter,\n",
        "#     user_ids=['1893952720']\n",
        "# )"
      ]
    },
    {
      "cell_type": "code",
      "execution_count": 7,
      "metadata": {},
      "outputs": [],
      "source": [
        "#await PDP_Policy.upsert_policy()"
      ]
    },
    {
      "attachments": {},
      "cell_type": "markdown",
      "metadata": {},
      "source": [
        "### Search PDP Policies by name and ID"
      ]
    },
    {
      "cell_type": "code",
      "execution_count": 8,
      "metadata": {},
      "outputs": [],
      "source": [
        "#| export\n",
        "class SearchPDP_NotFound(de.DomoError):\n",
        "    def __init__(self, \n",
        "                 domo_instance,\n",
        "                 dataset_id,\n",
        "                 message='not found',\n",
        "                 function_name='search_pdp'):\n",
        "\n",
        "        super().__init__(domo_instance=domo_instance, entity_id=dataset_id, message=message, function_name=function_name)\n",
        "         \n",
        "@patch_to(Dataset_PDP_Policies, cls_method=True)\n",
        "async def search_pdp_policies(\n",
        "    cls: Dataset_PDP_Policies,\n",
        "    auth: dmda.DomoAuth,\n",
        "    search: str,\n",
        "    dataset_id: str = None,\n",
        "    search_method: str = 'id' or 'name',\n",
        "    is_exact_match: bool = True,\n",
        "    return_raw: bool = False, \n",
        "    debug_api: bool = False,\n",
        "    session: httpx.AsyncClient = None\n",
        "):\n",
        "    \n",
        "    all_pdp_policies = await Dataset_PDP_Policies(cls).get_policies(\n",
        "        auth = auth,\n",
        "        dataset_id = dataset_id,\n",
        "        debug_api=debug_api\n",
        "    )\n",
        "    \n",
        "    if return_raw:\n",
        "        return all_pdp_polcies\n",
        "\n",
        "    if search_method == 'name':\n",
        "        if is_exact_match:\n",
        "            policy_search = next((policy for policy in all_pdp_policies if policy.name == search), None)\n",
        "            #print(policy_search)   \n",
        "            \n",
        "            if not policy_search:\n",
        "                raise SearchPDP_NotFound(\n",
        "                    dataset_id=dataset_id,\n",
        "                    message=f'There is no policy named \"{search}\" on dataset_id {dataset_id}',\n",
        "                    domo_instance=auth.domo_instance\n",
        "                )  \n",
        "            \n",
        "            return policy_search\n",
        "        else:\n",
        "            policy_search = [policy for policy in all_pdp_policies if search.lower() in policy.name.lower()]\n",
        "            if not policy_search:\n",
        "                raise SearchPDP_NotFound(\n",
        "                    dataset_id=dataset_id,\n",
        "                    message=f'There is no policy name containing \"{search}\" on dataset_id {dataset_id}',\n",
        "                    domo_instance=auth.domo_instance\n",
        "                )  \n",
        "            \n",
        "            return policy_search\n",
        "    else:\n",
        "        policy_search = next((policy for policy in all_pdp_policies if policy.filter_group_id == search), None)\n",
        "         \n",
        "    if not policy_search:\n",
        "        raise SearchPDP_NotFound(\n",
        "            dataset_id=dataset_id,\n",
        "            message=f'There is no policy id \"{search}\" on dataset_id {dataset_id}',\n",
        "            domo_instance=auth.domo_instance\n",
        "        )  \n",
        "          \n",
        "    return policy_search    \n",
        "    "
      ]
    },
    {
      "attachments": {},
      "cell_type": "markdown",
      "metadata": {},
      "source": [
        "### sample implementation of search_pdp_policies"
      ]
    },
    {
      "cell_type": "code",
      "execution_count": 9,
      "metadata": {},
      "outputs": [
        {
          "name": "stdout",
          "output_type": "stream",
          "text": [
            "search_pdp: 04c1574e-c8be-4721-9846-c6ffa491144b :There is no policy named \"Test Policy Name Employee 123\" on dataset_id 04c1574e-c8be-4721-9846-c6ffa491144b at domo-community\n"
          ]
        }
      ],
      "source": [
        "import os\n",
        "import domolibrary.classes.DomoDataset as dmd\n",
        "\n",
        "dataset_id = os.environ[\"DOJO_DATASET_ID\"]\n",
        "\n",
        "#authenticate into instance\n",
        "token_auth = dmda.DomoTokenAuth(\n",
        "    domo_instance=\"domo-community\",\n",
        "    domo_access_token=os.environ[\"DOMO_DOJO_ACCESS_TOKEN\"]\n",
        ")\n",
        "\n",
        "#instance of dataset class\n",
        "dataset = dmd.DomoDataset(auth=token_auth, id=dataset_id)\n",
        "\n",
        "#instance of pdp_policies for the dataset\n",
        "dpp = Dataset_PDP_Policies(dataset=dataset)\n",
        "\n",
        "#pull all policies for that dataset\n",
        "await dpp.get_policies()\n",
        "\n",
        "#search policies based on name\n",
        "try:\n",
        "    policy = await dpp.search_pdp_policies(\n",
        "        auth=token_auth, \n",
        "        dataset_id=dataset.id, \n",
        "        search='Test Policy Name Employee 123', \n",
        "        search_method='name', \n",
        "        is_exact_match=True, \n",
        "        debug_api=False\n",
        "    )\n",
        "    policy\n",
        "\n",
        "except SearchPDP_NotFound as e:\n",
        "    print(e)"
      ]
    },
    {
      "attachments": {},
      "cell_type": "markdown",
      "metadata": {},
      "source": [
        "### Enable/Disable PDP on dataset"
      ]
    },
    {
      "cell_type": "code",
      "execution_count": 10,
      "metadata": {},
      "outputs": [],
      "source": [
        "#| export\n",
        "@patch_to(Dataset_PDP_Policies, cls_method=True)\n",
        "async def toggle_dataset_pdp(\n",
        "    cls: Dataset_PDP_Policies,\n",
        "    auth: dmda.DomoAuth,\n",
        "    dataset_id: str = None,\n",
        "    is_enable: bool = True, # True will enable pdp, False will disable pdp\n",
        "    debug_api: bool = False,\n",
        "    session: httpx.AsyncClient = None\n",
        "):\n",
        "\n",
        "    return await pdp_routes.toggle_pdp(\n",
        "        auth=auth,\n",
        "        dataset_id=dataset_id,\n",
        "        is_enable=is_enable,\n",
        "        debug_api=debug_api,\n",
        "        session=session\n",
        "    )\n",
        "\n"
      ]
    },
    {
      "attachments": {},
      "cell_type": "markdown",
      "metadata": {},
      "source": [
        "### sample implementation of toggle_dataset_pdp"
      ]
    },
    {
      "cell_type": "code",
      "execution_count": 11,
      "metadata": {},
      "outputs": [
        {
          "data": {
            "text/plain": [
              "ResponseGetData(status=200, response={'enabled': True, 'secured': False, 'external': False}, is_success=True)"
            ]
          },
          "execution_count": 11,
          "metadata": {},
          "output_type": "execute_result"
        }
      ],
      "source": [
        "import os\n",
        "import domolibrary.classes.DomoDataset as dmd\n",
        "\n",
        "dataset_id = os.environ[\"DOJO_DATASET_ID\"]\n",
        "\n",
        "#authenticate into instance\n",
        "token_auth = dmda.DomoTokenAuth(\n",
        "    domo_instance=\"domo-community\",\n",
        "    domo_access_token=os.environ[\"DOMO_DOJO_ACCESS_TOKEN\"]\n",
        ")\n",
        "\n",
        "#instance of dataset class\n",
        "dataset = dmd.DomoDataset(auth=token_auth, id=dataset_id)\n",
        "\n",
        "#instance of pdp_policies for the dataset\n",
        "dpp = Dataset_PDP_Policies(dataset=dataset)\n",
        "\n",
        "#toggle pdp on dataset\n",
        "await dpp.toggle_dataset_pdp(auth=token_auth, dataset_id=dataset.id, is_enable=True, debug_api=False)"
      ]
    }
  ],
  "metadata": {
    "jupytext": {
      "split_at_heading": true
    },
    "kernelspec": {
      "display_name": "Python 3",
      "language": "python",
      "name": "python3"
    },
    "language_info": {
      "codemirror_mode": {
        "name": "ipython",
        "version": 3
      },
      "file_extension": ".py",
      "mimetype": "text/x-python",
      "name": "python",
      "nbconvert_exporter": "python",
      "pygments_lexer": "ipython3",
      "version": "3.10.4"
    }
  },
  "nbformat": 4,
  "nbformat_minor": 4
}
