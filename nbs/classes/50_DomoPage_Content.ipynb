{
    "cells": [
        {
            "cell_type": "raw",
            "metadata": {},
            "source": [
                "---\n",
                "output-file: pagecontent_class.html\n",
                "title: PageContent\n",
                "---"
            ]
        },
        {
            "cell_type": "code",
            "execution_count": null,
            "metadata": {
                "vscode": {
                    "languageId": "python"
                }
            },
            "outputs": [],
            "source": [
                "# | default_exp classes.DomoPage_Content"
            ]
        },
        {
            "cell_type": "code",
            "execution_count": null,
            "metadata": {
                "vscode": {
                    "languageId": "python"
                }
            },
            "outputs": [],
            "source": [
                "# | exporti\n",
                "from nbdev.showdoc import patch_to\n",
                "from dataclasses import dataclass, field\n",
                "\n",
                "import asyncio\n",
                "import httpx\n",
                "\n",
                "import domolibrary.client.DomoAuth as dmda\n",
                "\n",
                "import domolibrary.routes.page as page_routes\n",
                "\n",
                "import domolibrary.utils.DictDot as util_dd\n",
                "import domolibrary.utils.chunk_execution as ce"
            ]
        },
        {
            "cell_type": "code",
            "execution_count": null,
            "metadata": {
                "vscode": {
                    "languageId": "python"
                }
            },
            "outputs": [],
            "source": [
                "#| hide\n",
                "from nbdev import show_doc\n"
            ]
        },
        {
            "cell_type": "markdown",
            "metadata": {},
            "source": [
                "# Page Layout classses"
            ]
        },
        {
            "cell_type": "markdown",
            "metadata": {},
            "source": [
                "## PageLayoutTemplate"
            ]
        },
        {
            "cell_type": "code",
            "execution_count": null,
            "metadata": {
                "vscode": {
                    "languageId": "python"
                }
            },
            "outputs": [],
            "source": [
                "# | exporti\n",
                "@dataclass\n",
                "class PageLayoutTemplate:\n",
                "    content_key: int\n",
                "    x: int\n",
                "    y: int\n",
                "    width: int\n",
                "    height: int\n",
                "    type: str\n",
                "    virtual: bool\n",
                "    virtual_appendix: bool\n",
                "\n",
                "    @classmethod\n",
                "    def _from_json(cls, dd):\n",
                "        return cls(\n",
                "            content_key=dd.contentKey,\n",
                "            x=dd.x,\n",
                "            y=dd.y,\n",
                "            width=dd.width,\n",
                "            height=dd.height,\n",
                "            type=dd.type,\n",
                "            virtual=dd.virtual,\n",
                "            virtual_appendix=dd.virtualAppendix,\n",
                "        )\n",
                "\n",
                "    def get_body(self):\n",
                "        return {\n",
                "            \"contentKey\": self.content_key,\n",
                "            \"x\": self.x,\n",
                "            \"y\": self.y,\n",
                "            \"width\": self.width,\n",
                "            \"height\": self.height,\n",
                "            \"type\": self.type,\n",
                "            \"virtual\": self.virtual,\n",
                "            \"virtualAppendix\": self.virtual_appendix,\n",
                "        }"
            ]
        },
        {
            "cell_type": "code",
            "execution_count": null,
            "metadata": {
                "vscode": {
                    "languageId": "python"
                }
            },
            "outputs": [],
            "source": [
                "#| exporti\n",
                "@dataclass\n",
                "class PageLayoutBackground:\n",
                "    id: int\n",
                "    crop_height: int\n",
                "    crop_width: int\n",
                "    x: int\n",
                "    y: str\n",
                "    data_file_id: int\n",
                "    image_brightness: int\n",
                "    image_height: int\n",
                "    image_width: int\n",
                "    selected_color: str\n",
                "    text_color: str\n",
                "    type: str\n",
                "    is_darkMode: bool\n",
                "    alpha: float\n",
                "    src: str\n",
                "\n",
                "    @classmethod\n",
                "    def _from_json(cls, dd):\n",
                "        if dd is not None:\n",
                "            return cls(\n",
                "                id=dd.id,\n",
                "                crop_height=dd.cropHeight,\n",
                "                crop_width=dd.cropWidth,\n",
                "                x=dd.x,\n",
                "                y=dd.y,\n",
                "                data_file_id=dd.dataFileId,\n",
                "                image_brightness=dd.imageBrightness,\n",
                "                image_height=dd.imageHeight,\n",
                "                image_width=dd.imageWidth,\n",
                "                selected_color=dd.selectedColor,\n",
                "                text_color=dd.textColor,\n",
                "                type=dd.type,\n",
                "                is_darkMode=dd.darkMode,\n",
                "                alpha=dd.alpha,\n",
                "                src=dd.src,\n",
                "            )\n",
                "        else:\n",
                "            return None\n",
                "\n",
                "    def get_body(self):\n",
                "        return {\n",
                "            \"id\": self.id,\n",
                "            \"cropHeight\": self.crop_height,\n",
                "            \"cropWidth\": self.crop_width,\n",
                "            \"x\": self.x,\n",
                "            \"y\": self.y,\n",
                "            \"dataFileId\": self.data_file_id,\n",
                "            \"imageBrightness\": self.image_brightness,\n",
                "            \"imageHeight\": self.image_height,\n",
                "            \"imageWidth\": self.image_width,\n",
                "            \"selectedColor\": self.selected_color,\n",
                "            \"textColor\": self.text_color,\n",
                "            \"type\": self.type,\n",
                "            \"darkMode\": self.is_darkMode,\n",
                "            \"alpha\": self.alpha,\n",
                "            \"src\": self.src,\n",
                "        }"
            ]
        },
        {
            "cell_type": "markdown",
            "metadata": {},
            "source": [
                "## PageLayoutContent"
            ]
        },
        {
            "cell_type": "code",
            "execution_count": null,
            "metadata": {
                "vscode": {
                    "languageId": "python"
                }
            },
            "outputs": [],
            "source": [
                "#| exporti\n",
                "@dataclass\n",
                "class PageLayoutContent:\n",
                "    accept_date_filter: bool\n",
                "    accept_filters: bool\n",
                "    accept_segments: bool\n",
                "    card_id: int\n",
                "    card_urn: str\n",
                "    compact_interaction_default: bool\n",
                "    content_key: int\n",
                "    fit_to_frame: bool\n",
                "    has_summary: bool\n",
                "    hide_border: bool\n",
                "    hide_description: bool\n",
                "    hide_footer: bool\n",
                "    hide_margins: bool\n",
                "    hide_summary: bool\n",
                "    hide_timeframe: bool\n",
                "    hide_title: bool\n",
                "    hide_wrench: bool\n",
                "    id: int\n",
                "    summary_number_only: bool\n",
                "    type: str\n",
                "    text: str\n",
                "    background_id: int\n",
                "    background: PageLayoutBackground\n",
                "\n",
                "    @classmethod\n",
                "    def _from_json(cls, dd):\n",
                "        return cls(\n",
                "            accept_date_filter=dd.acceptDateFilter,\n",
                "            accept_filters=dd.acceptFilters,\n",
                "            accept_segments=dd.acceptSegments,\n",
                "            card_id=dd.cardId,\n",
                "            card_urn=dd.cardUrn,\n",
                "            compact_interaction_default=dd.compactInteractionDefault,\n",
                "            content_key=dd.contentKey,\n",
                "            fit_to_frame=dd.fitToFrame,\n",
                "            has_summary=dd.hasSummary,\n",
                "            hide_border=dd.hideBorder,\n",
                "            hide_description=dd.hideDescription,\n",
                "            hide_footer=dd.hideFooter,\n",
                "            hide_margins=dd.hideMargins,\n",
                "            hide_summary=dd.hideSummary,\n",
                "            hide_timeframe=dd.hideTimeframe,\n",
                "            hide_title=dd.hideTitle,\n",
                "            hide_wrench=dd.hideWrench,\n",
                "            id=dd.id,\n",
                "            summary_number_only=dd.summaryNumberOnly,\n",
                "            type=dd.type,\n",
                "            text=dd.text,\n",
                "            background_id=dd.backgroundId,\n",
                "            background=PageLayoutBackground._from_json(dd=dd.background),\n",
                "        )\n",
                "\n",
                "    def get_body(self):\n",
                "        body = {\n",
                "            \"acceptDateFilter\": self.accept_date_filter,\n",
                "            \"acceptFilters\": self.accept_filters,\n",
                "            \"acceptSegments\": self.accept_segments,\n",
                "            \"cardId\": self.card_id,\n",
                "            \"cardUrn\": self.card_urn,\n",
                "            \"compactInteractionDefault\": self.compact_interaction_default,\n",
                "            \"contentKey\": self.content_key,\n",
                "            \"fitToFrame\": self.fit_to_frame,\n",
                "            \"hasSummary\": self.has_summary,\n",
                "            \"hideBorder\": self.hide_border,\n",
                "            \"hideDescription\": self.hide_description,\n",
                "            \"hideFooter\": self.hide_footer,\n",
                "            \"hideMargins\": self.hide_margins,\n",
                "            \"hideSummary\": self.hide_summary,\n",
                "            \"hideTimeframe\": self.hide_timeframe,\n",
                "            \"hideTitle\": self.hide_title,\n",
                "            \"hideWrench\": self.hide_wrench,\n",
                "            \"id\": self.id,\n",
                "            \"summaryNumberOnly\": self.summary_number_only,\n",
                "            \"type\": self.type,\n",
                "            \"text\": self.text,\n",
                "            \"backgroundId\": self.background_id,\n",
                "        }\n",
                "\n",
                "        if self.background is not None:\n",
                "            body[\"background\"] = self.background.get_body()\n",
                "        return body"
            ]
        },
        {
            "cell_type": "code",
            "execution_count": null,
            "metadata": {
                "vscode": {
                    "languageId": "python"
                }
            },
            "outputs": [],
            "source": [
                "#| exporti\n",
                "@dataclass\n",
                "class PageLayoutStandard:\n",
                "    aspect_ratio: float\n",
                "    width: int\n",
                "    frame_margin: int\n",
                "    frame_padding: int\n",
                "    type: str\n",
                "    template: list[PageLayoutTemplate]\n",
                "\n",
                "    @classmethod\n",
                "    def _from_json(cls, dd):\n",
                "        obj = cls(\n",
                "            aspect_ratio=dd.aspectRatio,\n",
                "            width=dd.width,\n",
                "            frame_margin=dd.frameMargin,\n",
                "            frame_padding=dd.framePadding,\n",
                "            type=dd.type,\n",
                "            template=[],\n",
                "        )\n",
                "\n",
                "        if dd.template is not None:\n",
                "            for template_item in dd.template:\n",
                "                dc = PageLayoutTemplate._from_json(dd=template_item)\n",
                "                if dc not in obj.template:\n",
                "                    obj.template.append(dc)\n",
                "        return obj"
            ]
        },
        {
            "cell_type": "markdown",
            "metadata": {},
            "source": [
                "## PageLayoutCompact"
            ]
        },
        {
            "cell_type": "code",
            "execution_count": null,
            "metadata": {
                "vscode": {
                    "languageId": "python"
                }
            },
            "outputs": [],
            "source": [
                "#| exporti\n",
                "@dataclass\n",
                "class PageLayoutCompact:\n",
                "    aspect_ratio: float\n",
                "    width: int\n",
                "    frame_margin: int\n",
                "    frame_padding: int\n",
                "    type: str\n",
                "    template: list[PageLayoutTemplate]\n",
                "\n",
                "    @classmethod\n",
                "    def _from_json(cls, dd):\n",
                "        obj = cls(\n",
                "            aspect_ratio=dd.aspectRatio,\n",
                "            width=dd.width,\n",
                "            frame_margin=dd.frameMargin,\n",
                "            frame_padding=dd.framePadding,\n",
                "            type=dd.type,\n",
                "            template=[],\n",
                "        )\n",
                "        if dd.template is not None:\n",
                "            for template_item in dd.template:\n",
                "                dc = PageLayoutTemplate._from_json(dd=template_item)\n",
                "                if dc not in obj.template:\n",
                "                    obj.template.append(dc)\n",
                "        return obj"
            ]
        },
        {
            "cell_type": "markdown",
            "metadata": {},
            "source": [
                "PageLayout"
            ]
        },
        {
            "cell_type": "code",
            "execution_count": null,
            "metadata": {
                "vscode": {
                    "languageId": "python"
                }
            },
            "outputs": [],
            "source": [
                "#| exporti\n",
                "@dataclass\n",
                "class PageLayout:\n",
                "    id: str\n",
                "    page_id: int\n",
                "    is_print_friendly: bool\n",
                "    is_enabled: bool\n",
                "    is_dynamic: bool\n",
                "    has_page_breaks: bool\n",
                "    content: list[PageLayoutContent]\n",
                "    standard: PageLayoutStandard\n",
                "    compact: PageLayoutCompact\n",
                "    background: PageLayoutBackground\n",
                "\n",
                "    @classmethod\n",
                "    def _from_json(cls, dd):\n",
                "        obj = cls(\n",
                "            id=dd.layoutId,\n",
                "            page_id=dd.pageUrn,\n",
                "            is_print_friendly=dd.printFriendly,\n",
                "            is_enabled=dd.enabled,\n",
                "            is_dynamic=dd.isDynamic,\n",
                "            content=[],\n",
                "            has_page_breaks=dd.hasPageBreaks,\n",
                "            standard=PageLayoutStandard._from_json(dd=dd.standard),\n",
                "            compact=PageLayoutCompact._from_json(dd=dd.compact),\n",
                "            background=PageLayoutBackground._from_json(dd=dd.background),\n",
                "        )\n",
                "        if dd.content is not None:\n",
                "            for content_item in dd.content:\n",
                "                dc = PageLayoutContent._from_json(dd=content_item)\n",
                "                if dc not in obj.content:\n",
                "                    obj.content.append(dc)\n",
                "        return obj\n",
                "\n",
                "    @classmethod\n",
                "    def generate_new_background_body(cls):\n",
                "        background_body = {\n",
                "            \"selectedColor\": \"#EEE000\",\n",
                "            \"textColor\": \"#4A4A4A\",\n",
                "            \"type\": \"COLOR\",\n",
                "            \"darkMode\": False,\n",
                "            \"alpha\": 1,\n",
                "        }\n",
                "\n",
                "        return background_body\n",
                "\n",
                "    def get_body(self):\n",
                "        body = {\n",
                "            \"layoutId\": self.id,\n",
                "            \"pageUrn\": self.page_id,\n",
                "            \"printFriendly\": self.is_print_friendly,\n",
                "            \"enabled\": self.is_enabled,\n",
                "            \"isDynamic\": self.is_dynamic,\n",
                "            \"hasPageBreaks\": self.has_page_breaks,\n",
                "            \"standard\": {\n",
                "                \"aspectRatio\": self.standard.aspect_ratio,\n",
                "                \"width\": self.standard.width,\n",
                "                \"frameMargin\": self.standard.frame_margin,\n",
                "                \"framePadding\": self.standard.frame_padding,\n",
                "                \"type\": self.standard.type,\n",
                "            },\n",
                "            \"compact\": {\n",
                "                \"aspectRatio\": self.compact.aspect_ratio,\n",
                "                \"width\": self.compact.width,\n",
                "                \"frameMargin\": self.compact.frame_margin,\n",
                "                \"framePadding\": self.compact.frame_padding,\n",
                "                \"type\": self.compact.type,\n",
                "            },\n",
                "        }\n",
                "        if self.background is not None:\n",
                "            body[\"background\"] = self.background.get_body()\n",
                "\n",
                "        if self.content == [] or self.content is None:\n",
                "            body[\"content\"] = []\n",
                "        else:\n",
                "            temp_list = []\n",
                "            for content_item in self.content:\n",
                "                temp_list.append(content_item.get_body())\n",
                "            body[\"content\"] = temp_list\n",
                "\n",
                "        if self.standard.template is None or self.standard.template == []:\n",
                "            body[\"standard\"][\"template\"] = []\n",
                "        else:\n",
                "            temp_list = []\n",
                "            for template_item in self.standard.template:\n",
                "                temp_list.append(template_item.get_body())\n",
                "            body[\"standard\"][\"template\"] = temp_list\n",
                "\n",
                "        if self.compact.template is None or self.compact.template == []:\n",
                "            body[\"compact\"][\"template\"] = []\n",
                "        else:\n",
                "            temp_list = []\n",
                "            for template_item in self.compact.template:\n",
                "                temp_list.append(template_item.get_body())\n",
                "            body[\"compact\"][\"template\"] = temp_list\n",
                "        return body"
            ]
        },
        {
            "cell_type": "code",
            "execution_count": null,
            "metadata": {
                "vscode": {
                    "languageId": "python"
                }
            },
            "outputs": [],
            "source": [
                "#| hide\n",
                "\n",
                "import nbdev\n",
                "nbdev.nbdev_export()"
            ]
        }
    ],
    "metadata": {
        "kernelspec": {
            "display_name": "python3",
            "language": "python",
            "name": "python3"
        }
    },
    "nbformat": 4,
    "nbformat_minor": 2
}
