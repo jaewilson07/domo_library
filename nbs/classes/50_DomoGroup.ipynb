{
 "cells": [
  {
   "cell_type": "raw",
   "metadata": {},
   "source": [
    "---\n",
    "description: class based approach to interacting with Domo Groups\n",
    "output-file: group_class.html\n",
    "title: Domo Group\n",
    "---"
   ]
  },
  {
   "cell_type": "code",
   "execution_count": null,
   "metadata": {},
   "outputs": [],
   "source": [
    "# | default_exp classes.DomoGroup\n"
   ]
  },
  {
   "cell_type": "code",
   "execution_count": null,
   "metadata": {},
   "outputs": [],
   "source": [
    "# | exporti\n",
    "from dataclasses import dataclass, field\n",
    "from typing import List, Union\n",
    "\n",
    "import httpx\n",
    "import asyncio\n",
    "\n",
    "from fastcore.basics import patch_to\n",
    "\n",
    "\n",
    "import domolibrary.utils.chunk_execution as ce\n",
    "\n",
    "import domolibrary.client.DomoAuth as dmda\n",
    "import domolibrary.client.DomoError as de\n",
    "import domolibrary.utils.DictDot as util_dd\n",
    "\n",
    "import domolibrary.routes.group as group_routes\n",
    "\n",
    "# import domolibrary.routes.publish as publish_routes\n",
    "\n",
    "import domolibrary.classes.DomoUser as dmu\n"
   ]
  },
  {
   "cell_type": "code",
   "execution_count": null,
   "metadata": {},
   "outputs": [],
   "source": [
    "#| export \n",
    "\n",
    "from domolibrary.routes.group import GroupType_Enum, SearchGroups_Error\n"
   ]
  },
  {
   "attachments": {},
   "cell_type": "markdown",
   "metadata": {},
   "source": [
    "# Group Membership"
   ]
  },
  {
   "cell_type": "code",
   "execution_count": null,
   "metadata": {},
   "outputs": [],
   "source": [
    "# | export\n",
    "class UpdateGroupMembership(de.DomoError):\n",
    "    def __init__(self, member_name, group_name, domo_instance):\n",
    "        super().__init__(domo_instance=domo_instance,\n",
    "                         message=f\"unable to add {member_name} to {group_name}\")\n",
    "\n",
    "\n",
    "class GroupMembership:\n",
    "    _add_member_ls: list[str]\n",
    "    _remove_group_ls: list[str]\n",
    "\n",
    "    _add_owners_ls: list[str]\n",
    "    _remove_owner_ls: list[str]\n",
    "\n",
    "    _current_member_ls: list[str]\n",
    "    _current_owner_ls: list[str]\n",
    "\n",
    "    group = None\n",
    "\n",
    "    def __init__(self, group):\n",
    "        self.group = group\n",
    "\n",
    "        self._add_member_ls: [dict] = []\n",
    "        self._remove_member_ls: [dict] = []\n",
    "\n",
    "        self._add_owner_ls: [dict] = []\n",
    "        self._remove_owner_ls: [dict] = []\n",
    "\n",
    "        self._current_member_ls = []\n",
    "        self._current_owner_ls = []\n",
    "\n",
    "    def _add_to_list(self, member, list_to_update, debug_prn: bool = False):\n",
    "\n",
    "        import domolibrary.classes.DomoUser as dmu\n",
    "\n",
    "        match_obj = next((user_obj for user_obj in list_to_update if user_obj.get(\n",
    "            'id') == member.id), None)\n",
    "        if match_obj:\n",
    "            print(f\"➡️ {member}  of type {type(member).__name__} already in ls\")\n",
    "            return list_to_update\n",
    "\n",
    "        if debug_prn:\n",
    "            print(\n",
    "                f\"➡️ adding {member.id}  of type {type(member).__name__} to {self.group.name}\")\n",
    "\n",
    "        if isinstance(member, dmu.DomoUser):\n",
    "            list_to_update.append({'id': str(member.id), 'type': 'USER'})\n",
    "\n",
    "            return list_to_update\n",
    "\n",
    "        if isinstance(member, DomoGroup):\n",
    "            list_to_update.append({'id': str(member.id), 'type': 'GROUP'})\n",
    "\n",
    "            return list_to_update\n",
    "\n",
    "        member_name = getattr(member, 'name', None) or getattr(\n",
    "            member, 'display_name', None) or \"name not provided\"\n",
    "\n",
    "        raise UpdateGroupMembership(domo_instance=self.group.auth.domo_instance,\n",
    "                                    group_name=self.group.name,\n",
    "                                    member_name=member_name)\n",
    "\n",
    "    def _add_member(self, member, debug_prn: bool = False):\n",
    "        return self._add_to_list(member, self._add_member_ls, debug_prn)\n",
    "\n",
    "    def _remove_member(self, member, debug_prn: bool = False):\n",
    "        if type(member).__name__ == 'DomoGroup' and member.type == 'system':\n",
    "            if debug_prn:\n",
    "                print(f\"remove_owner - skipping {member.name} type is {member.type}\")\n",
    "            return\n",
    "        return self._add_to_list(member, self._remove_member_ls, debug_prn)\n",
    "\n",
    "    def _add_owner(self, member, debug_prn: bool = False):\n",
    "        return self._add_to_list(member, self._add_owner_ls, debug_prn)\n",
    "\n",
    "    def _remove_owner(self, member, debug_prn: bool = False):\n",
    "        if type(member).__name__ == 'DomoGroup' and member.type == 'system':\n",
    "            if debug_prn:\n",
    "                print(f\"remove_owner - skipping {member.name} type is {member.type}\")\n",
    "            return\n",
    "            \n",
    "        return self._add_to_list(member, self._remove_owner_ls, debug_prn)\n",
    "\n",
    "    def _reset_obj(self):\n",
    "        self._add_member_ls = []\n",
    "        self._remove_member_ls = []\n",
    "\n",
    "        self._add_owner_ls = []\n",
    "        self._remove_owner_ls = []\n",
    "\n",
    "    async def _update_group_access(self,\n",
    "                                   debug_api: bool = False, session: httpx.AsyncClient = None,\n",
    "                                   ):\n",
    "\n",
    "        res = await group_routes.update_group_membership(auth=self.group.auth,\n",
    "                                                         group_id=self.group.id,\n",
    "                                                         add_member_arr=self._add_member_ls,\n",
    "                                                         remove_member_arr=self._remove_member_ls,\n",
    "                                                         add_owner_arr=self._add_owner_ls,\n",
    "                                                         remove_owner_arr=self._remove_owner_ls,\n",
    "                                                         debug_api=debug_api,\n",
    "                                                         session=session)\n",
    "        self._reset_obj()\n",
    "\n",
    "        # add\n",
    "        # remove\n",
    "        # set\n"
   ]
  },
  {
   "attachments": {},
   "cell_type": "markdown",
   "metadata": {},
   "source": [
    "## implement GET methods"
   ]
  },
  {
   "cell_type": "code",
   "execution_count": null,
   "metadata": {},
   "outputs": [],
   "source": [
    "#| exporti\n",
    "@patch_to(GroupMembership)\n",
    "async def get_owners(\n",
    "    self: GroupMembership,\n",
    "    auth: dmda.DomoAuth = None,\n",
    "    return_raw: bool = False,\n",
    "    debug_api: bool = False,\n",
    "    session: httpx.AsyncClient = None,\n",
    "):\n",
    "    import domolibrary.classes.DomoUser as dmu\n",
    "\n",
    "    auth = auth or self.group.auth\n",
    "\n",
    "    self._current_owner_ls = []\n",
    "\n",
    "    res = await group_routes.get_group_owners(group_id=self.group.id, auth=self.group.auth)\n",
    "    if return_raw:\n",
    "        return res\n",
    "    \n",
    "    group_ids = [obj.get('id') for obj in res.response if obj.get('type') == 'GROUP']\n",
    "    if group_ids:\n",
    "        domo_groups = await ce.gather_with_concurrency(n = 60, * [DomoGroup.get_by_id(group_id=group_id, auth=auth) for group_id in group_ids])\n",
    "        self._current_owner_ls += domo_groups\n",
    "    \n",
    "    user_ids = [obj.get('id') for obj in res.response if obj.get('type') == 'USER']\n",
    "    if user_ids:\n",
    "        domo_users = await dmu.DomoUsers.by_id(user_ids=user_ids, auth=auth, only_allow_one = False)\n",
    "        self._current_owner_ls += domo_users\n",
    "        \n",
    "    self.group.owner_id_ls = group_ids + user_ids\n",
    "    self.group.owner_ls = self._current_owner_ls \n",
    "\n",
    "    return self._current_owner_ls\n",
    "    # return domo_users\n"
   ]
  },
  {
   "cell_type": "code",
   "execution_count": null,
   "metadata": {},
   "outputs": [],
   "source": [
    "#| exporti\n",
    "@patch_to(GroupMembership)\n",
    "async def get_members(\n",
    "    self: GroupMembership,\n",
    "    auth: dmda.DomoAuth = None,\n",
    "    return_raw: bool = False,\n",
    "    debug_api: bool = False,\n",
    "    session: httpx.AsyncClient = None,\n",
    "):\n",
    "    import domolibrary.classes.DomoUser as dmu\n",
    "\n",
    "    auth = auth or self.group.auth\n",
    "\n",
    "    self._current_member_ls = []\n",
    "\n",
    "    res = await group_routes.get_group_membership(group_id=self.group.id, auth=self.group.auth)\n",
    "    if return_raw:\n",
    "        return res\n",
    "    \n",
    "    user_ids = [obj.get('userId') for obj in res.response ]\n",
    "    if user_ids:\n",
    "        domo_users = await dmu.DomoUsers.by_id(user_ids=user_ids, auth=auth, only_allow_one = False)\n",
    "        self._current_member_ls += domo_users\n",
    "\n",
    "    self.group.members_id_ls = user_ids\n",
    "    self.group.members_ls = self._current_member_ls\n",
    "\n",
    "    return self.group.members_ls\n"
   ]
  },
  {
   "attachments": {},
   "cell_type": "markdown",
   "metadata": {},
   "source": [
    "## implement CRUD methods"
   ]
  },
  {
   "cell_type": "code",
   "execution_count": null,
   "metadata": {},
   "outputs": [],
   "source": [
    "# | exporti\n",
    "@patch_to(GroupMembership)\n",
    "async def add_members(\n",
    "    self: GroupMembership,\n",
    "    add_user_ls: list[dmu.DomoUser],\n",
    "    return_raw: bool = False,\n",
    "    debug_api: bool = False, \n",
    "    debug_prn: bool = False,\n",
    "    session: httpx.AsyncClient = None,\n",
    "):\n",
    "    self._reset_obj()\n",
    "\n",
    "    [self._add_member(domo_user, debug_prn) for domo_user in add_user_ls]\n",
    "\n",
    "    res = await self._update_group_access(debug_api=debug_api, session=session)\n",
    "\n",
    "    if return_raw:\n",
    "        return res\n",
    "\n",
    "    return await self.get_members()\n",
    "\n",
    "\n",
    "@patch_to(GroupMembership)\n",
    "async def remove_members(\n",
    "    self: GroupMembership,\n",
    "    remove_user_ls: list[dmu.DomoUser],\n",
    "    return_raw: bool = False,\n",
    "    debug_api: bool = False, debug_prn: bool = False, session: httpx.AsyncClient = None,\n",
    "):\n",
    "    self._reset_obj()\n",
    "\n",
    "    [self._remove_member(domo_user, debug_prn) for domo_user in remove_user_ls]\n",
    "\n",
    "    res = await self._update_group_access(debug_api=debug_api, session=session)\n",
    "\n",
    "    if return_raw:\n",
    "        return res\n",
    "\n",
    "    return await self.get_members()\n",
    "\n",
    "\n",
    "@patch_to(GroupMembership)\n",
    "async def set_members(\n",
    "    self: GroupMembership,\n",
    "    user_ls: list[dmu.DomoUser],\n",
    "    return_raw: bool = False,\n",
    "    debug_api: bool = False, debug_prn:bool = False ,session: httpx.AsyncClient = None,\n",
    "):\n",
    "    self._reset_obj()\n",
    "\n",
    "    domo_users = await self.get_members()\n",
    "\n",
    "    if debug_prn:\n",
    "        print({'domo_users': domo_users, 'user_ls': user_ls})\n",
    "\n",
    "    [self._add_member(domo_user, debug_prn) for domo_user in user_ls]\n",
    "    [self._remove_member(domo_user, debug_prn) for domo_user in domo_users if domo_user not in user_ls]\n",
    "\n",
    "\n",
    "    res= await self._update_group_access(debug_api=debug_api, session=session)\n",
    "\n",
    "    if return_raw:\n",
    "        return res\n",
    "\n",
    "    return await self.get_members()\n"
   ]
  },
  {
   "cell_type": "code",
   "execution_count": null,
   "metadata": {},
   "outputs": [],
   "source": [
    "# | exporti\n",
    "@patch_to(GroupMembership)\n",
    "async def add_owners(\n",
    "    self: GroupMembership,\n",
    "    add_owner_ls,\n",
    "    return_raw: bool = False,\n",
    "    debug_api: bool = False,\n",
    "    debug_prn: bool = False,\n",
    "    session: httpx.AsyncClient = None,\n",
    "):\n",
    "    self._reset_obj()\n",
    "\n",
    "    [self._add_owner(domo_user, debug_prn) for domo_user in add_owner_ls]\n",
    "\n",
    "    res = await self._update_group_access(debug_api=debug_api, session=session)\n",
    "\n",
    "    if return_raw:\n",
    "        return res\n",
    "\n",
    "    return await self.get_owners()\n",
    "\n",
    "\n",
    "@patch_to(GroupMembership)\n",
    "async def remove_owners(\n",
    "    self: GroupMembership,\n",
    "    remove_owner_ls,\n",
    "    return_raw: bool = False,\n",
    "    debug_api: bool = False, debug_prn: bool = False, session: httpx.AsyncClient = None,\n",
    "):\n",
    "    self._reset_obj()\n",
    "\n",
    "    [self._remove_owner(domo_user, debug_prn) for domo_user in remove_owner_ls]\n",
    "\n",
    "    res = await self._update_group_access(debug_api=debug_api, session=session)\n",
    "\n",
    "    if return_raw:\n",
    "        return res\n",
    "\n",
    "    return await self.get_owners()\n",
    "\n",
    "\n",
    "@patch_to(GroupMembership)\n",
    "async def set_owners(\n",
    "    self: GroupMembership,\n",
    "    owner_ls,\n",
    "    return_raw: bool = False,\n",
    "    debug_api: bool = False, debug_prn: bool = False, session: httpx.AsyncClient = None,\n",
    "):\n",
    "    self._reset_obj()\n",
    "\n",
    "    domo_users = await self.get_owners()\n",
    "\n",
    "    if debug_prn:\n",
    "        print({'domo_users': domo_users, 'user_ls': owner_ls})\n",
    "\n",
    "    [self._add_owner(domo_user, debug_prn) for domo_user in owner_ls]\n",
    "    [self._remove_owner(domo_user, debug_prn)\n",
    "     for domo_user in domo_users if domo_user not in owner_ls]\n",
    "\n",
    "    res = await self._update_group_access(debug_api=debug_api, session=session)\n",
    "\n",
    "    if return_raw:\n",
    "        return res\n",
    "\n",
    "    return await self.get_owners()\n"
   ]
  },
  {
   "attachments": {},
   "cell_type": "markdown",
   "metadata": {},
   "source": [
    "# Domo Group"
   ]
  },
  {
   "cell_type": "code",
   "execution_count": null,
   "metadata": {},
   "outputs": [],
   "source": [
    "# | export\n",
    "@dataclass\n",
    "class DomoGroup:\n",
    "    auth: dmda.DomoAuth = field(repr=False, default=None)\n",
    "    id: str = None\n",
    "    name: str = None\n",
    "    type: str = None\n",
    "    description: str = None\n",
    "    members_id_ls: list[str] = field(repr=False, default_factory=list)\n",
    "    owner_id_ls: list[str] = field(repr=False, default_factory=list)\n",
    "    \n",
    "    members_ls: list[dict] = field(repr=False, default_factory=list)\n",
    "    owner_ls : list[dict]= field(repr = False, default_factory = list)\n",
    "\n",
    "    def __post_init__(self):\n",
    "        # self.domo_instance = self.domo_instance or auth.domo_instance\n",
    "        self.Membership = GroupMembership(self)\n",
    "\n",
    "    @classmethod\n",
    "    def _from_group_json(cls, auth: dmda.DomoAuth, json_obj):\n",
    "        dd = json_obj\n",
    "\n",
    "        if not isinstance(json_obj, util_dd.DictDot):\n",
    "            dd = util_dd.DictDot(json_obj)\n",
    "\n",
    "        return cls(\n",
    "            auth=auth,\n",
    "            id=dd.id or dd.groupId,\n",
    "            name=dd.name,\n",
    "            description=dd.description,\n",
    "            type=dd.type or dd.groupType,\n",
    "            members_id_ls=dd.userIds,\n",
    "            owner_ls=dd.owners,\n",
    "        )\n",
    "\n",
    "    @classmethod\n",
    "    def _from_grouplist_json(cls, auth: dmda.DomoAuth, json_obj):\n",
    "        dd = json_obj\n",
    "\n",
    "        if not isinstance(json_obj, util_dd.DictDot):\n",
    "            dd = util_dd.DictDot(json_obj)\n",
    "\n",
    "        return cls(\n",
    "            auth=auth,\n",
    "            id=dd.groupId,\n",
    "            name=dd.name,\n",
    "            description=dd.description,\n",
    "            type=dd.groupType,\n",
    "            owner_ls = dd.owners,\n",
    "            owner_id_ls = [owner.id for owner in dd.owners],\n",
    "            \n",
    "            members_ls=dd.groupMembers,\n",
    "            members_id_ls= [member.id for member in dd.members]\n",
    "        )\n",
    "\n",
    "\n",
    "    @staticmethod\n",
    "    def _groups_to_domo_group(json_list, auth: dmda.DomoAuth) -> List[dict]:\n",
    "        domo_groups = [\n",
    "            DomoGroup._from_group_json(auth=auth, json_obj=json_obj)\n",
    "            for json_obj in json_list\n",
    "        ]\n",
    "\n",
    "        return domo_groups"
   ]
  },
  {
   "attachments": {},
   "cell_type": "markdown",
   "metadata": {},
   "source": [
    "## GET Methods"
   ]
  },
  {
   "cell_type": "code",
   "execution_count": null,
   "metadata": {},
   "outputs": [],
   "source": [
    "# | exporti\n",
    "@patch_to(DomoGroup, cls_method=True)\n",
    "async def get_by_id(\n",
    "    cls,\n",
    "    auth: dmda.DomoAuth,\n",
    "    group_id: str,\n",
    "    return_raw: bool = False,\n",
    "    debug_api: bool = False,\n",
    "    session: httpx.AsyncClient = None,\n",
    "):\n",
    "\n",
    "    res = await group_routes.get_group_by_id(\n",
    "        auth=auth, group_id=group_id, debug_api=debug_api, session=session\n",
    "    )\n",
    "    if return_raw:\n",
    "        return res\n",
    "\n",
    "    if res.status != 200:\n",
    "        raise Exception()\n",
    "\n",
    "    dg = cls._from_group_json(auth=auth, json_obj=res.response)\n",
    "\n",
    "    # await dg.Membership.get_owners()\n",
    "    # await dg.Membership.get_members() # disabled because causes recursion\n",
    "    return dg\n"
   ]
  },
  {
   "attachments": {},
   "cell_type": "markdown",
   "metadata": {},
   "source": [
    "#### sample get_by_id\n"
   ]
  },
  {
   "cell_type": "code",
   "execution_count": null,
   "metadata": {},
   "outputs": [
    {
     "data": {
      "text/plain": [
       "DomoGroup(id=2146122228, name='test', type='closed', description='with_description')"
      ]
     },
     "execution_count": null,
     "metadata": {},
     "output_type": "execute_result"
    }
   ],
   "source": [
    "import os\n",
    "\n",
    "token_auth = dmda.DomoTokenAuth(\n",
    "    domo_instance=\"domo-community\",\n",
    "    domo_access_token=os.environ[\"DOMO_DOJO_ACCESS_TOKEN\"],\n",
    ")\n",
    "\n",
    "group_id = 2146122228\n",
    "\n",
    "res = await DomoGroup.get_by_id(auth=token_auth, group_id=group_id, return_raw= False)\n",
    "\n",
    "res"
   ]
  },
  {
   "cell_type": "code",
   "execution_count": null,
   "metadata": {},
   "outputs": [],
   "source": [
    "# | exporti\n",
    "@patch_to(DomoGroup, cls_method=True)\n",
    "async def search_by_name(\n",
    "    cls,\n",
    "    auth: dmda.DomoAuth,\n",
    "    group_name: str,\n",
    "    is_exact_match: bool = True,\n",
    "    return_raw: bool = False,\n",
    "    debug_api: bool = False,\n",
    "    debug_prn: bool = False,\n",
    "    session: httpx.AsyncClient = None,\n",
    "):\n",
    "    \n",
    "    res = await group_routes.search_groups_by_name(\n",
    "        auth=auth,\n",
    "        search_name=group_name,\n",
    "        debug_api=debug_api,\n",
    "        is_exact_match=is_exact_match,\n",
    "        session=session,\n",
    "    )\n",
    "\n",
    "    if return_raw:\n",
    "        return res\n",
    "\n",
    "    if isinstance(res.response, list):\n",
    "        return cls._groups_to_domo_group(res.response, auth)\n",
    "\n",
    "    return cls._from_group_json(auth=auth, json_obj=res.response)"
   ]
  },
  {
   "attachments": {},
   "cell_type": "markdown",
   "metadata": {},
   "source": [
    "#### sample search_by_name\n"
   ]
  },
  {
   "cell_type": "code",
   "execution_count": null,
   "metadata": {},
   "outputs": [
    {
     "name": "stdout",
     "output_type": "stream",
     "text": [
      "search_groups_by_name: Status 200 - There is no exact match for Test Group 2q32 at domo-community\n"
     ]
    }
   ],
   "source": [
    "import os\n",
    "\n",
    "token_auth = dmda.DomoTokenAuth(\n",
    "    domo_instance=\"domo-community\",\n",
    "    domo_access_token=os.environ[\"DOMO_DOJO_ACCESS_TOKEN\"],\n",
    ")\n",
    "\n",
    "group_name = \"Test Group 2q32\"\n",
    "\n",
    "try:\n",
    "    res = await DomoGroup.search_by_name(group_name=group_name, auth=token_auth )\n",
    "    print(res)\n",
    "\n",
    "except SearchGroups_Error as e:\n",
    "    print(e)\n"
   ]
  },
  {
   "attachments": {},
   "cell_type": "markdown",
   "metadata": {},
   "source": [
    "# Sample Group Membership"
   ]
  },
  {
   "attachments": {},
   "cell_type": "markdown",
   "metadata": {},
   "source": [
    "## GET Methods\n",
    "#### sample get_owners"
   ]
  },
  {
   "cell_type": "code",
   "execution_count": null,
   "metadata": {},
   "outputs": [
    {
     "name": "stdout",
     "output_type": "stream",
     "text": [
      "['1781661643', '822382906', '1893952720']\n"
     ]
    },
    {
     "data": {
      "text/plain": [
       "[DomoGroup(id=1781661643, name='TestMembership', type='open', description='group with membership'),\n",
       " DomoGroup(id=822382906, name='Grant: Manage all groups', type='system', description='Create, edit and delete any groups. Add and remove people from any group.'),\n",
       " DomoUser(id='1893952720', title=None, department=None, display_name='Jae Wilson1', email_address='jae@onyxreporting.com', role_id=810756122, avatar_key=None, phone_number=None, web_landing_page=None, web_mobile_landing_page=None, employee_id=None, employee_number=None, hire_date=None, reports_to=None, publisher_domain=None, subscriber_domain=None, virtual_user_id=None)]"
      ]
     },
     "execution_count": null,
     "metadata": {},
     "output_type": "execute_result"
    }
   ],
   "source": [
    "import os\n",
    "\n",
    "token_auth = dmda.DomoTokenAuth(\n",
    "    domo_instance=\"domo-community\",\n",
    "    domo_access_token=os.environ[\"DOMO_DOJO_ACCESS_TOKEN\"],\n",
    ")\n",
    "\n",
    "group = DomoGroup(id=1781661643, auth=token_auth)\n",
    "\n",
    "await group.Membership.get_owners()\n",
    "\n",
    "print(group.owner_id_ls) #does not differentiate between users and groups\n",
    "\n",
    "group.owner_ls"
   ]
  },
  {
   "attachments": {},
   "cell_type": "markdown",
   "metadata": {},
   "source": [
    "#### sample get_members"
   ]
  },
  {
   "cell_type": "code",
   "execution_count": null,
   "metadata": {},
   "outputs": [
    {
     "data": {
      "text/plain": [
       "[DomoUser(id='696468809', title=None, department=None, display_name='Abish Srinath', email_address='abish.srinath@domo.com', role_id=2097317660, avatar_key=None, phone_number=None, web_landing_page=None, web_mobile_landing_page=None, employee_id=None, employee_number=None, hire_date=None, reports_to=None, publisher_domain=None, subscriber_domain=None, virtual_user_id=None),\n",
       " DomoUser(id='1345737456', title=None, department=None, display_name='Aditya Jain', email_address='jain_aditya95@yahoo.com', role_id=2, avatar_key=None, phone_number=None, web_landing_page=None, web_mobile_landing_page=None, employee_id=None, employee_number=None, hire_date=None, reports_to=None, publisher_domain=None, subscriber_domain=None, virtual_user_id=None),\n",
       " DomoUser(id='1141078945', title=None, department=None, display_name='Justin Pumford', email_address='jpumford@gmail.com', role_id=2097317660, avatar_key=None, phone_number=None, web_landing_page=None, web_mobile_landing_page=None, employee_id=None, employee_number=None, hire_date=None, reports_to=None, publisher_domain=None, subscriber_domain=None, virtual_user_id=None)]"
      ]
     },
     "execution_count": null,
     "metadata": {},
     "output_type": "execute_result"
    }
   ],
   "source": [
    "import os\n",
    "\n",
    "token_auth = dmda.DomoTokenAuth(\n",
    "    domo_instance=\"domo-community\",\n",
    "    domo_access_token=os.environ[\"DOMO_DOJO_ACCESS_TOKEN\"],\n",
    ")\n",
    "\n",
    "group = DomoGroup(id=1781661643, auth=token_auth)\n",
    "\n",
    "await group.Membership.get_members()"
   ]
  },
  {
   "attachments": {},
   "cell_type": "markdown",
   "metadata": {},
   "source": [
    "## CRUD Methods\n",
    "#### sample add_members"
   ]
  },
  {
   "cell_type": "code",
   "execution_count": null,
   "metadata": {},
   "outputs": [
    {
     "name": "stdout",
     "output_type": "stream",
     "text": [
      "validate old membership 1141078945, 1725780094\n",
      "user 1833256765 - Aaron Schofield successfully added\n",
      "user 1141078945 - Justin Pumford successfully added\n"
     ]
    }
   ],
   "source": [
    "import os\n",
    "\n",
    "token_auth = dmda.DomoTokenAuth(\n",
    "    domo_instance=\"domo-community\",\n",
    "    domo_access_token=os.environ[\"DOMO_DOJO_ACCESS_TOKEN\"],\n",
    ")\n",
    "\n",
    "\n",
    "group_id = 2146122228\n",
    "domo_group = await DomoGroup.get_by_id(auth=token_auth, group_id=group_id)\n",
    "\n",
    "print(\n",
    "    f\"validate old membership {', '.join([str(id) for id in domo_group.members_id_ls])}\")\n",
    "\n",
    "\n",
    "new_membership = await dmu.DomoUsers.by_id(user_ids=[1141078945, 1833256765], auth=token_auth, only_allow_one=False)\n",
    "await domo_group.Membership.add_members(add_user_ls=new_membership, debug_prn=False)\n",
    "\n",
    "for user in new_membership :\n",
    "    if user in domo_group.members_ls:\n",
    "        print(f\"user {user.id} - {user.display_name} successfully added\")"
   ]
  },
  {
   "attachments": {},
   "cell_type": "markdown",
   "metadata": {},
   "source": [
    "#### sample remove_members"
   ]
  },
  {
   "cell_type": "code",
   "execution_count": null,
   "metadata": {},
   "outputs": [
    {
     "name": "stdout",
     "output_type": "stream",
     "text": [
      "validate old membership 1141078945, 1725780094, 1833256765\n",
      "user 1542225148 - Adam Landefeld successfully removed\n"
     ]
    }
   ],
   "source": [
    "import os\n",
    "\n",
    "token_auth = dmda.DomoTokenAuth(\n",
    "    domo_instance=\"domo-community\",\n",
    "    domo_access_token=os.environ[\"DOMO_DOJO_ACCESS_TOKEN\"],\n",
    ")\n",
    "\n",
    "\n",
    "group_id = 2146122228\n",
    "domo_group = await DomoGroup.get_by_id(auth=token_auth, group_id=group_id)\n",
    "\n",
    "print(\n",
    "    f\"validate old membership {', '.join([str(id) for id in domo_group.members_id_ls])}\")\n",
    "\n",
    "\n",
    "remove_membership = await dmu.DomoUsers.by_id(user_ids=[1542225148], auth=token_auth, only_allow_one=False)\n",
    "await domo_group.Membership.remove_members(remove_user_ls=remove_membership, debug_prn=False)\n",
    "\n",
    "for user in remove_membership:\n",
    "    if user  not in domo_group.members_ls:\n",
    "        print(f\"user {user.id} - {user.display_name} successfully removed\")"
   ]
  },
  {
   "attachments": {},
   "cell_type": "markdown",
   "metadata": {},
   "source": [
    "#### sample set_members"
   ]
  },
  {
   "cell_type": "code",
   "execution_count": null,
   "metadata": {},
   "outputs": [
    {
     "name": "stdout",
     "output_type": "stream",
     "text": [
      "validate old membership 1141078945, 1725780094, 1833256765\n",
      "user 1542225148 - Adam Landefeld belongs\n",
      "user 1725780094 - Brett Gibson belongs\n",
      "user 1141078945 - Justin Pumford belongs\n"
     ]
    }
   ],
   "source": [
    "import os\n",
    "\n",
    "token_auth = dmda.DomoTokenAuth(\n",
    "    domo_instance=\"domo-community\",\n",
    "    domo_access_token=os.environ[\"DOMO_DOJO_ACCESS_TOKEN\"],\n",
    ")\n",
    "\n",
    "\n",
    "group_id = 2146122228\n",
    "domo_group = await DomoGroup.get_by_id(auth=token_auth, group_id=group_id)\n",
    "\n",
    "print(\n",
    "    f\"validate old membership {', '.join([str(id) for id in domo_group.members_id_ls])}\")\n",
    "\n",
    "\n",
    "set_membership = await dmu.DomoUsers.by_id(user_ids=[1141078945, 1542225148, 1725780094,\n",
    "                                                        ], auth=token_auth, only_allow_one=False)\n",
    "await domo_group.Membership.set_members(user_ls=set_membership, debug_prn=False)\n",
    "\n",
    "test_members = set_membership\n",
    "for member in domo_group.members_ls:\n",
    "    if member not in test_members:\n",
    "        test_members.append(member)\n",
    "                                                     \n",
    "for user in test_members:\n",
    "    if user not in set_membership:\n",
    "        print(f\"user {user.id} - {user.display_name} does not belong\")\n",
    "\n",
    "    if user in set_membership:\n",
    "        print(f\"user {user.id} - {user.display_name} belongs\")"
   ]
  },
  {
   "cell_type": "code",
   "execution_count": null,
   "metadata": {},
   "outputs": [
    {
     "name": "stdout",
     "output_type": "stream",
     "text": [
      "validate membership 1141078945, 1542225148, 1725780094\n"
     ]
    },
    {
     "data": {
      "text/plain": [
       "[DomoUser(id='1725780094', title=None, department=None, display_name='Brett Gibson', email_address='Brett.Gibson@domo.com', role_id=2, avatar_key=None, phone_number=None, web_landing_page=None, web_mobile_landing_page=None, employee_id=None, employee_number=None, hire_date=None, reports_to=None, publisher_domain=None, subscriber_domain=None, virtual_user_id=None),\n",
       " DomoUser(id='1141078945', title=None, department=None, display_name='Justin Pumford', email_address='jpumford@gmail.com', role_id=2097317660, avatar_key=None, phone_number=None, web_landing_page=None, web_mobile_landing_page=None, employee_id=None, employee_number=None, hire_date=None, reports_to=None, publisher_domain=None, subscriber_domain=None, virtual_user_id=None)]"
      ]
     },
     "execution_count": null,
     "metadata": {},
     "output_type": "execute_result"
    }
   ],
   "source": [
    "import os\n",
    "\n",
    "token_auth = dmda.DomoTokenAuth(\n",
    "    domo_instance=\"domo-community\",\n",
    "    domo_access_token=os.environ[\"DOMO_DOJO_ACCESS_TOKEN\"],\n",
    ")\n",
    "\n",
    "group_id = 2146122228\n",
    "\n",
    "membership = [dmu.DomoUser(id=1141078945, auth=token_auth),\n",
    "              dmu.DomoUser(id = 1725780094, auth = token_auth)]\n",
    "\n",
    "\n",
    "domo_group = await DomoGroup.get_by_id(auth=token_auth, group_id=group_id)\n",
    "\n",
    "print(\n",
    "    f\"validate membership {', '.join([str(id) for id in domo_group.members_id_ls])}\")\n",
    "\n",
    "# await domo_group.Membership.get_members()\n",
    "\n",
    "await domo_group.Membership.set_members(user_ls=membership , debug_prn = False)\n"
   ]
  },
  {
   "attachments": {},
   "cell_type": "markdown",
   "metadata": {},
   "source": [
    "#### sample add_owners"
   ]
  },
  {
   "cell_type": "code",
   "execution_count": null,
   "metadata": {},
   "outputs": [
    {
     "name": "stdout",
     "output_type": "stream",
     "text": [
      "validate old ownership 1028365465, 822382906, 797235532\n",
      "user 1345408759 - Alexis Lorenz (DataMaven) successfully added\n",
      "user 1028365465 - Team Alpha successfully added\n"
     ]
    }
   ],
   "source": [
    "import os\n",
    "\n",
    "token_auth = dmda.DomoTokenAuth(\n",
    "    domo_instance=\"domo-community\",\n",
    "    domo_access_token=os.environ[\"DOMO_DOJO_ACCESS_TOKEN\"],\n",
    ")\n",
    "\n",
    "\n",
    "group_id = 2146122228\n",
    "domo_group = await DomoGroup.get_by_id(auth=token_auth, group_id=group_id)\n",
    "await domo_group.Membership.get_owners()\n",
    "\n",
    "print(\n",
    "    f\"validate old ownership {', '.join([str(id) for id in domo_group.owner_id_ls])}\")\n",
    "\n",
    "\n",
    "new_ownership_user = await dmu.DomoUsers.by_id(user_ids=[1345408759], auth=token_auth, only_allow_one=False)\n",
    "new_ownership_group = await DomoGroup.get_by_id(group_id=1028365465, auth = token_auth)\n",
    "new_ownership = new_ownership_user + [new_ownership_group]\n",
    "\n",
    "await domo_group.Membership.add_owners(add_owner_ls=new_ownership, debug_prn=False)\n",
    "\n",
    "for user in new_ownership:\n",
    "    if user in domo_group.owner_ls:\n",
    "        if isinstance(user, dmu.DomoUser) :\n",
    "            print(f\"user {user.id} - {user.display_name} successfully added\")\n",
    "        if isinstance(user, DomoGroup):\n",
    "            print(f\"user {user.id} - {user.name} successfully added\")\n"
   ]
  },
  {
   "attachments": {},
   "cell_type": "markdown",
   "metadata": {},
   "source": [
    "#### sample remove_owners"
   ]
  },
  {
   "cell_type": "code",
   "execution_count": null,
   "metadata": {},
   "outputs": [
    {
     "name": "stdout",
     "output_type": "stream",
     "text": [
      "validate old ownership \n",
      "user 797235532 - Teddy Murphy successfully removed\n"
     ]
    }
   ],
   "source": [
    "import os\n",
    "\n",
    "token_auth = dmda.DomoTokenAuth(\n",
    "    domo_instance=\"domo-community\",\n",
    "    domo_access_token=os.environ[\"DOMO_DOJO_ACCESS_TOKEN\"],\n",
    ")\n",
    "\n",
    "\n",
    "group_id = 2146122228\n",
    "domo_group = await DomoGroup.get_by_id(auth=token_auth, group_id=group_id)\n",
    "\n",
    "print(\n",
    "    f\"validate old ownership {', '.join([str(id) for id in domo_group.owner_id_ls])}\")\n",
    "\n",
    "remove_owner = await dmu.DomoUsers.by_id(user_ids=[797235532], auth=token_auth, only_allow_one=False)\n",
    "\n",
    "await domo_group.Membership.remove_owners(remove_owner_ls=remove_owner, debug_prn=False)\n",
    "\n",
    "\n",
    "for user in remove_owner:\n",
    "    if user not in domo_group.owner_ls:\n",
    "        print(f\"user {user.id} - {user.display_name} successfully removed\")\n"
   ]
  },
  {
   "attachments": {},
   "cell_type": "markdown",
   "metadata": {},
   "source": [
    "#### set_ownership"
   ]
  },
  {
   "cell_type": "code",
   "execution_count": null,
   "metadata": {},
   "outputs": [
    {
     "name": "stdout",
     "output_type": "stream",
     "text": [
      "validate old ownership 1141078945, 1725780094\n",
      "DomoUser 797235532 - Teddy Murphy belongs\n",
      "DomoGroup 1028365465 - Team Alpha belongs\n",
      "DomoGroup 822382906 - Grant: Manage all groups belongs\n"
     ]
    }
   ],
   "source": [
    "\n",
    "import os\n",
    "\n",
    "token_auth = dmda.DomoTokenAuth(\n",
    "    domo_instance=\"domo-community\",\n",
    "    domo_access_token=os.environ[\"DOMO_DOJO_ACCESS_TOKEN\"],\n",
    ")\n",
    "\n",
    "\n",
    "group_id = 2146122228\n",
    "domo_group = await DomoGroup.get_by_id(auth=token_auth, group_id=group_id)\n",
    "\n",
    "print(\n",
    "    f\"validate old ownership {', '.join([str(id) for id in domo_group.members_id_ls])}\")\n",
    "\n",
    "\n",
    "set_ownership_user = await dmu.DomoUsers.by_id(user_ids=[797235532], auth=token_auth, only_allow_one=False)\n",
    "set_ownership_group = await ce.gather_with_concurrency(n = 60, *[DomoGroup.get_by_id(group_id=group_id, auth=token_auth) for group_id in [1028365465,822382906]])\n",
    "set_ownership = set_ownership_user + set_ownership_group\n",
    "\n",
    "await domo_group.Membership.set_owners(owner_ls=set_ownership, debug_prn=False)\n",
    "\n",
    "test_owners = set_ownership\n",
    "for owner in domo_group.owner_ls:\n",
    "    if owner not in test_owners:\n",
    "        test_owners.append(owner)\n",
    "                                                     \n",
    "for owner in test_owners:\n",
    "    if owner not in set_ownership:\n",
    "        print(\n",
    "            f\"{type(owner).__name__} {owner.id} - {getattr(owner, 'display_name', None) or getattr(owner, 'name', None)} does not belong\")\n",
    "\n",
    "    if user in set_ownership:\n",
    "        print(\n",
    "            f\"{type(owner).__name__} {owner.id} - {getattr(owner, 'display_name', None) or getattr(owner, 'name', None)} belongs\")\n"
   ]
  },
  {
   "attachments": {},
   "cell_type": "markdown",
   "metadata": {},
   "source": [
    "# Domo Groups"
   ]
  },
  {
   "cell_type": "code",
   "execution_count": null,
   "metadata": {},
   "outputs": [],
   "source": [
    "# | export\n",
    "class DomoGroups:\n",
    "    def __init__(self):\n",
    "        pass\n",
    "\n",
    "    @staticmethod\n",
    "    def _groups_to_domo_group(json_list, auth: dmda.DomoAuth):\n",
    "\n",
    "        return [\n",
    "            DomoGroup._from_group_json(auth=auth, json_obj=json_obj)\n",
    "            for json_obj in json_list\n",
    "        ]"
   ]
  },
  {
   "cell_type": "markdown",
   "metadata": {},
   "source": [
    "### get_all_groups"
   ]
  },
  {
   "cell_type": "code",
   "execution_count": null,
   "metadata": {},
   "outputs": [],
   "source": [
    "# | export\n",
    "@patch_to(DomoGroups, cls_method=True)\n",
    "async def get_all_groups(\n",
    "    cls: DomoGroups,\n",
    "    auth: dmda.DomoAuth,\n",
    "    debug_api: bool = False,\n",
    "    session: httpx.AsyncClient = None,\n",
    "):\n",
    "\n",
    "    res = await group_routes.get_all_groups(\n",
    "        auth=auth, debug_api=debug_api, session=session\n",
    "    )\n",
    "\n",
    "    if len(res.response) > 0:\n",
    "        json_list = res.response\n",
    "\n",
    "        return cls._groups_to_domo_group(json_list=json_list, auth=auth)\n",
    "\n",
    "    else:\n",
    "        return []\n"
   ]
  },
  {
   "attachments": {},
   "cell_type": "markdown",
   "metadata": {},
   "source": [
    "#### sample implementation of get_all_groups\n"
   ]
  },
  {
   "cell_type": "code",
   "execution_count": null,
   "metadata": {},
   "outputs": [],
   "source": [
    "import os\n",
    "import pandas as pd\n",
    "\n",
    "token_auth = dmda.DomoTokenAuth(\n",
    "    domo_instance=\"domo-community\",\n",
    "    domo_access_token=os.environ[\"DOMO_DOJO_ACCESS_TOKEN\"],\n",
    ")\n",
    "\n",
    "domo_groups = await DomoGroups.get_all_groups(auth=token_auth)\n",
    "\n"
   ]
  },
  {
   "cell_type": "markdown",
   "metadata": {},
   "source": [
    "### Toggle Group Visibility"
   ]
  },
  {
   "cell_type": "code",
   "execution_count": null,
   "metadata": {},
   "outputs": [],
   "source": [
    "# |exporti\n",
    "\n",
    "@patch_to(DomoGroups, cls_method=True)\n",
    "async def toggle_system_group_visibility(cls: DomoGroups,auth: dmda.DomoAuth,\n",
    "                                         is_hide_system_groups: bool,\n",
    "                                         debug_api: bool = False):\n",
    "\n",
    "    return await group_routes.toggle_system_group_visibility(auth=auth,\n",
    "                                                is_hide_system_groups=is_hide_system_groups,\n",
    "                                                debug_api=debug_api)\n"
   ]
  },
  {
   "cell_type": "markdown",
   "metadata": {},
   "source": [
    "#### sample toggle_system_group_visibility"
   ]
  },
  {
   "cell_type": "code",
   "execution_count": null,
   "metadata": {},
   "outputs": [
    {
     "name": "stdout",
     "output_type": "stream",
     "text": [
      "toggling group visiblity in domo-community show system groups\n"
     ]
    },
    {
     "name": "stdout",
     "output_type": "stream",
     "text": [
      "toggling group visiblity in domo-community hiding system groups\n",
      "there are 34 standard groups, and 107 groups including system groups\n"
     ]
    }
   ],
   "source": [
    "import os\n",
    "import domolibrary.client.DomoAuth as dmda\n",
    "\n",
    "token_auth = dmda.DomoTokenAuth(\n",
    "    domo_instance=\"domo-community\",\n",
    "    domo_access_token=os.environ[\"DOMO_DOJO_ACCESS_TOKEN\"],\n",
    ")\n",
    "\n",
    "await DomoGroups.toggle_system_group_visibility(auth=token_auth, is_hide_system_groups = False)\n",
    "\n",
    "all_groups_with_hidden = await DomoGroups.get_all_groups(auth = token_auth)\n",
    "\n",
    "await DomoGroups.toggle_system_group_visibility(auth=token_auth, is_hide_system_groups = True)\n",
    "\n",
    "all_groups = await DomoGroups.get_all_groups(auth = token_auth)\n",
    "\n",
    "\n",
    "print(f\"there are {len(all_groups)} standard groups, and {len(all_groups_with_hidden)} groups including system groups\")\n",
    "\n",
    "\n"
   ]
  },
  {
   "attachments": {},
   "cell_type": "markdown",
   "metadata": {},
   "source": [
    "# CRUD Group"
   ]
  },
  {
   "cell_type": "code",
   "execution_count": null,
   "metadata": {},
   "outputs": [],
   "source": [
    "#| exporti\n",
    "\n",
    "@patch_to(GroupMembership)\n",
    "async def add_owner_manage_groups_role(self : GroupMembership):\n",
    "    \n",
    "    await DomoGroups.toggle_system_group_visibility(auth = self.group.auth, is_hide_system_groups=False)\n",
    "    \n",
    "    grant_group = await DomoGroup.search_by_name(auth =self.group.auth , group_name = 'Grant: Manage all groups')\n",
    "       \n",
    "    await self.add_owners(add_owner_ls = [grant_group])\n",
    "\n",
    "    await DomoGroups.toggle_system_group_visibility(auth = self.group.auth, is_hide_system_groups=True)"
   ]
  },
  {
   "cell_type": "code",
   "execution_count": null,
   "metadata": {},
   "outputs": [
    {
     "name": "stdout",
     "output_type": "stream",
     "text": [
      "toggling group visiblity in domo-community show system groups\n",
      "toggling group visiblity in domo-community hiding system groups\n"
     ]
    }
   ],
   "source": [
    "import os\n",
    "\n",
    "token_auth = dmda.DomoTokenAuth(\n",
    "    domo_instance=\"domo-community\",\n",
    "    domo_access_token=os.environ[\"DOMO_DOJO_ACCESS_TOKEN\"],\n",
    ")\n",
    "\n",
    "group_name = \"Test Group ac\"\n",
    "\n",
    "domo_group = await DomoGroup.search_by_name(auth = token_auth, group_name=group_name)\n",
    "await domo_group.Membership.add_owner_manage_groups_role()\n",
    "\n"
   ]
  },
  {
   "cell_type": "code",
   "execution_count": null,
   "metadata": {},
   "outputs": [],
   "source": [
    "# | exporti\n",
    "\n",
    "@patch_to(DomoGroup, cls_method=True)\n",
    "async def create_from_name(\n",
    "    cls: DomoGroup,\n",
    "    auth: dmda.DomoAuth,\n",
    "    group_name: str = None,\n",
    "    group_type: str = \"open\",  # use GroupType_Enum\n",
    "    description: str = None,\n",
    "    is_include_manage_groups_role: bool = True,\n",
    "    debug_api: bool = False,\n",
    "    session: httpx.AsyncClient = None,\n",
    "):\n",
    "\n",
    "    res = await group_routes.create_group(\n",
    "        auth=auth,\n",
    "        group_name=group_name,\n",
    "        group_type=group_type,\n",
    "        description=description,\n",
    "        debug_api=debug_api,\n",
    "    )\n",
    "\n",
    "    \n",
    "    domo_group = cls._from_group_json(auth=auth, json_obj=res.response)\n",
    "\n",
    "    await domo_group.Membership.add_owner_manage_groups_role()\n",
    "\n",
    "    return domo_group\n"
   ]
  },
  {
   "attachments": {},
   "cell_type": "markdown",
   "metadata": {},
   "source": [
    "#### sample create_from_name\n"
   ]
  },
  {
   "cell_type": "code",
   "execution_count": null,
   "metadata": {},
   "outputs": [
    {
     "name": "stdout",
     "output_type": "stream",
     "text": [
      "create_group: Status 400 - Test Group ac already exists. Choose a different group_name at domo-community\n"
     ]
    }
   ],
   "source": [
    "import os\n",
    "\n",
    "token_auth = dmda.DomoTokenAuth(\n",
    "    domo_instance=\"domo-community\",\n",
    "    domo_access_token=os.environ[\"DOMO_DOJO_ACCESS_TOKEN\"],\n",
    ")\n",
    "\n",
    "group_name = \"Test Group ac\"\n",
    "\n",
    "try:\n",
    "    res = await DomoGroup.create_from_name(group_name=group_name, auth=token_auth)\n",
    "    print(res)\n",
    "except group_routes.CreateGroup_Error as e:\n",
    "    print(e)"
   ]
  },
  {
   "cell_type": "markdown",
   "metadata": {},
   "source": [
    "## update metadata"
   ]
  },
  {
   "cell_type": "code",
   "execution_count": null,
   "metadata": {},
   "outputs": [],
   "source": [
    "# | exporti\n",
    "\n",
    "@patch_to(DomoGroup)\n",
    "async def update_metadata(\n",
    "    self: DomoGroup,\n",
    "    auth: dmda.DomoAuth = None,\n",
    "\n",
    "    group_name: str = None,\n",
    "    group_type: str = None,  # use GroupType_Enum\n",
    "    description: str = None,\n",
    "    debug_api: bool = False,\n",
    "    return_raw: bool = False,\n",
    "    session: httpx.AsyncClient = None,\n",
    "):\n",
    "    auth = auth or self.auth\n",
    "    \n",
    "    res = await group_routes.update_group(\n",
    "        auth=auth,\n",
    "        group_id = self.id,\n",
    "        group_name = group_name,\n",
    "        group_type = group_type,\n",
    "        description = description,\n",
    "        debug_api = debug_api,\n",
    "        session = session)\n",
    "\n",
    "    if return_raw:\n",
    "        return res\n",
    "    \n",
    "    updated_group = await DomoGroup.get_by_id(auth = auth, group_id = self.id )\n",
    "    \n",
    "\n",
    "    self.name = updated_group.name or self.name\n",
    "    self.description = updated_group.description or self.description\n",
    "    self.type = updated_group.type or self.type\n",
    "\n",
    "    return self"
   ]
  },
  {
   "attachments": {},
   "cell_type": "markdown",
   "metadata": {},
   "source": [
    "#### sample update_metadata"
   ]
  },
  {
   "cell_type": "code",
   "execution_count": null,
   "metadata": {},
   "outputs": [
    {
     "data": {
      "text/plain": [
       "DomoGroup(id=1259653287, name='Test Group 2_deleted_7ece7d46-48ef-11ee-b1a1-12193c00dc43', type='open', description='update metadata - updated 2023-09-01')"
      ]
     },
     "execution_count": null,
     "metadata": {},
     "output_type": "execute_result"
    }
   ],
   "source": [
    "import os\n",
    "import datetime as dt\n",
    "\n",
    "token_auth = dmda.DomoTokenAuth(\n",
    "    domo_instance=\"domo-community\",\n",
    "    domo_access_token=os.environ[\"DOMO_DOJO_ACCESS_TOKEN\"],\n",
    ")\n",
    "\n",
    "group_id = 1259653287\n",
    "\n",
    "description = f'update metadata - updated {dt.date.today()}'\n",
    "\n",
    "domo_group = await DomoGroup.get_by_id(group_id = group_id, auth = token_auth)\n",
    "\n",
    "await domo_group.update_metadata(description = description,  return_raw=False)"
   ]
  },
  {
   "cell_type": "code",
   "execution_count": null,
   "metadata": {},
   "outputs": [
    {
     "ename": "SyntaxError",
     "evalue": "positional argument follows keyword argument (<unknown>, line 34)",
     "output_type": "error",
     "traceback": [
      "Traceback \u001b[0;36m(most recent call last)\u001b[0m:\n",
      "\u001b[0m  File \u001b[1;32m~/.local/lib/python3.10/site-packages/IPython/core/interactiveshell.py:3508\u001b[0m in \u001b[1;35mrun_code\u001b[0m\n    exec(code_obj, self.user_global_ns, self.user_ns)\u001b[0m\n",
      "\u001b[0m  Cell \u001b[1;32mIn[34], line 3\u001b[0m\n    nbdev.nbdev_export()\u001b[0m\n",
      "\u001b[0m  File \u001b[1;32m~/.python/current/lib/python3.10/site-packages/fastcore/script.py:110\u001b[0m in \u001b[1;35m_f\u001b[0m\n    if not mod: return func(*args, **kwargs)\u001b[0m\n",
      "\u001b[0m  File \u001b[1;32m~/.python/current/lib/python3.10/site-packages/nbdev/doclinks.py:140\u001b[0m in \u001b[1;35mnbdev_export\u001b[0m\n    _build_modidx()\u001b[0m\n",
      "\u001b[0m  File \u001b[1;32m~/.python/current/lib/python3.10/site-packages/nbdev/doclinks.py:102\u001b[0m in \u001b[1;35m_build_modidx\u001b[0m\n    res['syms'].update(_get_modidx((dest.parent/file).resolve(), code_root, nbs_path=nbs_path))\u001b[0m\n",
      "\u001b[0m  File \u001b[1;32m~/.python/current/lib/python3.10/site-packages/nbdev/doclinks.py:79\u001b[0m in \u001b[1;35m_get_modidx\u001b[0m\n    for tree in ast.parse(cell.code).body:\u001b[0m\n",
      "\u001b[0;36m  File \u001b[0;32m~/.python/current/lib/python3.10/ast.py:50\u001b[0;36m in \u001b[0;35mparse\u001b[0;36m\n\u001b[0;31m    return compile(source, filename, mode, flags,\u001b[0;36m\n",
      "\u001b[0;36m  File \u001b[0;32m<unknown>:34\u001b[0;36m\u001b[0m\n\u001b[0;31m    )\u001b[0m\n\u001b[0m    ^\u001b[0m\n\u001b[0;31mSyntaxError\u001b[0m\u001b[0;31m:\u001b[0m positional argument follows keyword argument\n"
     ]
    }
   ],
   "source": [
    "# | hide\n",
    "import nbdev\n",
    "nbdev.nbdev_export()\n"
   ]
  },
  {
   "cell_type": "markdown",
   "metadata": {},
   "source": [
    "## Upsert Groups"
   ]
  },
  {
   "cell_type": "code",
   "execution_count": null,
   "metadata": {},
   "outputs": [],
   "source": [
    "# | exporti\n",
    "@patch_to(DomoGroup, cls_method=True)\n",
    "async def upsert(\n",
    "    cls: DomoGroup,\n",
    "    auth: dmda.DomoAuth,\n",
    "    group_name: str,\n",
    "    group_type: str = None, # if create_group, use routes.class.GroupType_Enum\n",
    "    description: str = None,\n",
    "    debug_api: bool = False,\n",
    "    debug_prn: bool = False,\n",
    "    session: httpx.AsyncClient = None,\n",
    "):\n",
    "\n",
    "    try:\n",
    "        res = await group_routes.search_groups_by_name(\n",
    "            auth=auth,\n",
    "            search_name=group_name,\n",
    "            debug_api=debug_api,\n",
    "            is_exact_match=True,\n",
    "            session=session,\n",
    "        )\n",
    "\n",
    "        domo_group = cls._from_group_json(auth=auth, json_obj=res.response)\n",
    "        \n",
    "        return await domo_group.update_metadata(\n",
    "            group_type = group_type,\n",
    "            description = description,\n",
    "            debug_api = debug_api)\n",
    "\n",
    "    except group_routes.SearchGroups_Error as e:\n",
    "        \n",
    "        return await DomoGroup.create_from_name(\n",
    "                auth=auth, \n",
    "                group_name=group_name, \n",
    "                group_type = group_type,\n",
    "                description = description,\n",
    "                debug_api=debug_api, session=session)\n",
    "\n",
    "        return e"
   ]
  },
  {
   "attachments": {},
   "cell_type": "markdown",
   "metadata": {},
   "source": [
    "#### sample upsert"
   ]
  },
  {
   "cell_type": "code",
   "execution_count": null,
   "metadata": {},
   "outputs": [
    {
     "data": {
      "text/plain": [
       "DomoGroup(id=1513712315, name='Test Group', type='closed', description='updated via upsert_group on 2023-09-01')"
      ]
     },
     "execution_count": null,
     "metadata": {},
     "output_type": "execute_result"
    }
   ],
   "source": [
    "import os\n",
    "import datetime as dt\n",
    "\n",
    "token_auth = dmda.DomoTokenAuth(\n",
    "    domo_instance=\"domo-community\",\n",
    "    domo_access_token=os.environ[\"DOMO_DOJO_ACCESS_TOKEN\"],\n",
    ")\n",
    "\n",
    "group_name = \"Test Group\"\n",
    "description = f\"updated via upsert_group on {dt.date.today()}\"\n",
    "\n",
    "await DomoGroup.upsert(group_name=group_name, auth=token_auth , description = description)"
   ]
  },
  {
   "cell_type": "code",
   "execution_count": null,
   "metadata": {},
   "outputs": [],
   "source": [
    "from nbev import nbdev_export\n",
    "nbdev.nbdev_export()"
   ]
  }
 ],
 "metadata": {
  "jupytext": {
   "split_at_heading": true
  },
  "kernelspec": {
   "display_name": "python3",
   "language": "python",
   "name": "python3"
  }
 },
 "nbformat": 4,
 "nbformat_minor": 4
}
