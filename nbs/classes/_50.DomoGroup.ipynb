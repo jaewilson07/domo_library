{
 "cells": [
  {
   "cell_type": "raw",
   "metadata": {},
   "source": [
    "---\n",
    "description: class based approach to interacting with Domo Groups\n",
    "output-file: group_class.html\n",
    "title: Domo Group\n",
    "---"
   ]
  },
  {
   "cell_type": "code",
   "execution_count": 18,
   "metadata": {},
   "outputs": [],
   "source": [
    "# | default_exp classes.DomoGroup\n"
   ]
  },
  {
   "cell_type": "code",
   "execution_count": 19,
   "metadata": {},
   "outputs": [],
   "source": [
    "# | exporti\n",
    "from dataclasses import dataclass, field\n",
    "from typing import List\n",
    "\n",
    "import httpx\n",
    "import asyncio\n",
    "\n",
    "from fastcore.basics import patch_to\n",
    "\n",
    "\n",
    "# from ..utils.Base import Base\n",
    "# from ..utils.DictDot import DictDot\n",
    "\n",
    "import domolibrary.client.DomoAuth as dmda\n",
    "import domolibrary.client.DomoError as de\n",
    "import domolibrary.utils.DictDot as util_dd\n",
    "\n",
    "import domolibrary.routes.group as group_routes\n",
    "\n",
    "# import domolibrary.routes.publish as publish_routes\n",
    "\n",
    "import domolibrary.classes.DomoUser as dmu\n"
   ]
  },
  {
   "attachments": {},
   "cell_type": "markdown",
   "metadata": {},
   "source": [
    "# Group Membership"
   ]
  },
  {
   "cell_type": "code",
   "execution_count": 20,
   "metadata": {},
   "outputs": [],
   "source": [
    "# | export\n",
    "class UpdateGroupMembership(de.DomoError):\n",
    "    def __init__(member_name, group_name, domo_instance):\n",
    "        super().__init__(domo_instance=domo_instance,\n",
    "                         message=f\"unable to add {member_name} to {group_name}\")\n",
    "\n",
    "\n",
    "class GroupMembership:\n",
    "    _add_group_ls: list[str]\n",
    "    _remove_group_ls: list[str]\n",
    "\n",
    "    _add_owners_ls: list[str]\n",
    "    _remove_owner_ls: list[str]\n",
    "\n",
    "    _current_group_ls: list[str]\n",
    "    _current_owner_ls: list[str]\n",
    "\n",
    "    group = None\n",
    "\n",
    "    def __init__(self, group):\n",
    "        self.group = group\n",
    "\n",
    "        self._add_group_ls = []\n",
    "        self._remove_group_ls = []\n",
    "\n",
    "        self._add_owners_ls = []\n",
    "        self._remove_owner_ls = []\n",
    "\n",
    "        self._current_group_ls = []\n",
    "        self._current_owner_ls = []\n",
    "\n",
    "    def _add_group_member(self, member):\n",
    "        import domolibrary.classes.DomoUser as dmu\n",
    "\n",
    "        if not isinstance(member, DomoGroup) or isinstance(member, dmu.DomoUser):\n",
    "            raise UpdateGroupMembership(domo_instance=self.group.auth.domo_instance,\n",
    "                                        group_name=self.group.name,\n",
    "                                        member_name=member.name)\n",
    "\n",
    "        if member not in self._add_group_ls:\n",
    "            self._add_group_ls.append(member)\n",
    "\n",
    "    def _remove_group_member(self, member):\n",
    "        import domolibrary.classes.DomoUser as dmu\n",
    "\n",
    "        if not isinstance(member, DomoGroup) or isinstance(member, dmu.DomoUser):\n",
    "            raise UpdateGroupMembership(domo_instance=self.group.auth.domo_instance,\n",
    "                                        group_name=self.group.name,\n",
    "                                        member_name=member.name)\n",
    "\n",
    "        if member not in self._remove_group_ls:\n",
    "            self._remove_group_ls.append(member)\n",
    "\n",
    "    def _add_owner_member(self, member):\n",
    "        import domolibrary.classes.DomoUser as dmu\n",
    "\n",
    "        if not isinstance(member, DomoGroup) or isinstance(member, dmu.DomoUser):\n",
    "            raise UpdateGroupMembership(domo_instance=self.group.auth.domo_instance,\n",
    "                                        group_name=self.group.name,\n",
    "                                        member_name=member.name)\n",
    "\n",
    "        if member not in self._add_owners_ls:\n",
    "            self._add_owners_ls.append(member)\n",
    "\n",
    "    def _remove_owner_member(self, member):\n",
    "        import domolibrary.classes.DomoUser as dmu\n",
    "\n",
    "        if not isinstance(member, DomoGroup) or isinstance(member, dmu.DomoUser):\n",
    "            raise UpdateGroupMembership(domo_instance=self.group.auth.domo_instance,\n",
    "                                        group_name=self.group.name,\n",
    "                                        member_name=member.name)\n",
    "\n",
    "        if member not in self._remove_owner_ls:\n",
    "            self._remove_owner_ls.append(member)\n",
    "\n",
    "    async def _update_group_access(self,\n",
    "                                       add_member_arr = None,\n",
    "                                       remove_member_arr = None,\n",
    "                                       add_owner_arr = None,\n",
    "                                       remove_owner_arr = None,\n",
    "\n",
    "                                       debug_api: bool = False,\n",
    "                                       session: httpx.AsyncClient = None,\n",
    "                                       ):\n",
    "\n",
    "        return await group_routes.update_group_membership(auth=self.group.auth,\n",
    "                                                   group_id = self.group.id,\n",
    "                                                   add_member_arr = add_member_arr,\n",
    "                                                   remove_member_arr=remove_member_arr,\n",
    "                                                   add_owner_arr= add_owner_arr,\n",
    "                                                   remove_owner_arr=remove_owner_arr,\n",
    "                                                   debug_api= debug_api,\n",
    "                                                   session = session)\n",
    "\n",
    "        # add\n",
    "        # remove\n",
    "        # set\n"
   ]
  },
  {
   "cell_type": "code",
   "execution_count": 21,
   "metadata": {},
   "outputs": [],
   "source": [
    "#| export\n",
    "@patch_to(GroupMembership)\n",
    "async def get_owners(\n",
    "    self: GroupMembership,\n",
    "    auth: dmda.DomoAuth = None,\n",
    "    return_raw: bool = False,\n",
    "    debug_api: bool = False,\n",
    "    session: httpx.AsyncClient = None,\n",
    "):\n",
    "    import domolibrary.classes.DomoUser as dmu\n",
    "\n",
    "    auth = auth or self.group.auth\n",
    "\n",
    "    res = await group_routes.get_group_owners(group_id=self.group.id, auth=self.group.auth)\n",
    "\n",
    "    if return_raw:\n",
    "        return res\n",
    "\n",
    "    owners = []\n",
    "    \n",
    "    group_ids = [obj.get('id') for obj in res.response if obj.get('type') == 'GROUP']\n",
    "    if group_ids:\n",
    "        domo_groups = await asyncio.gather(* [DomoGroup.get_by_id(group_id=group_id, auth=auth) for group_id in group_ids])\n",
    "        self._current_owner_ls += domo_groups\n",
    "    \n",
    "    user_ids = [obj.get('id') for obj in res.response if obj.get('type') == 'USER']\n",
    "    if user_ids:\n",
    "        domo_users = await dmu.DomoUsers.by_id(user_ids=user_ids, auth=auth, only_allow_one = False)\n",
    "        self._current_owner_ls += domo_users\n",
    "\n",
    "\n",
    "    return self._current_owner_ls\n",
    "    # return domo_users\n"
   ]
  },
  {
   "cell_type": "code",
   "execution_count": 22,
   "metadata": {},
   "outputs": [],
   "source": [
    "@patch_to(GroupMembership)\n",
    "async def get_membership(\n",
    "    self: GroupMembership,\n",
    "    auth: dmda.DomoAuth = None,\n",
    "    return_raw: bool = False,\n",
    "    debug_api: bool = False,\n",
    "    session: httpx.AsyncClient = None,\n",
    "):\n",
    "    import domolibrary.classes.DomoUser as dmu\n",
    "\n",
    "    auth = auth or self.group.auth\n",
    "\n",
    "    res = await group_routes.get_group_membership(group_id=self.group.id, auth=self.group.auth)\n",
    "\n",
    "    if return_raw:\n",
    "        return res\n",
    "\n",
    "    domo_users = [dmu.DomoUser._from_search_json(user_obj = obj, auth = auth) for obj in res.response]\n",
    "\n",
    "    self._current_group_ls = domo_users\n",
    "\n",
    "    return domo_users\n"
   ]
  },
  {
   "cell_type": "code",
   "execution_count": 23,
   "metadata": {},
   "outputs": [],
   "source": [
    "# | exporti\n",
    "\n",
    "@patch_to(GroupMembership)\n",
    "async def set_membership(\n",
    "    self: GroupMembership,\n",
    "    user_ls: list[dmu.DomoUser],\n",
    "    return_raw: bool = False,\n",
    "    debug_api: bool = False, session: httpx.AsyncClient = None,\n",
    "):\n",
    "\n",
    "    add_user_arr = [{id: str(uid), 'type': 'USER'} for uid in user_ls]\n",
    "\n",
    "    remove_user_arr = [\n",
    "        {'id': str(uid), 'type': 'USER'} for uid in self.group.group_members_id_ls if str(uid) not in add_user_arr\n",
    "    ]\n",
    "\n",
    "    res = await self._update_group_access(\n",
    "        add_member_arr=add_user_arr,\n",
    "        remove_member_arr = remove_user_arr,\n",
    "        debug_api=debug_api, session=session\n",
    "    )\n",
    "\n",
    "    if return_raw:\n",
    "        return res\n",
    "\n",
    "    return await self.get_membership()\n"
   ]
  },
  {
   "cell_type": "code",
   "execution_count": 24,
   "metadata": {},
   "outputs": [],
   "source": [
    "# | exporti\n",
    "@patch_to(GroupMembership)\n",
    "async def alter_owner(self: GroupMembership, auth: dmda.DomoAuth,\n",
    "                      add_owner_ids_ls=None,\n",
    "                      remove_owner_ids_ls=None,\n",
    "                      debug_api: bool = False,\n",
    "                      session: httpx.AsyncClient = None\n",
    "                      ):\n",
    "\n",
    "    body = group_routes.generate_body_update_group_membership(group_id=self.group.id,\n",
    "                                                              add_owner_user_arr=add_owner_ids_ls,\n",
    "                                                              remove_owner_user_arr=remove_owner_ids_ls)\n",
    "\n",
    "    return await self._update_group_access(auth=auth, body=body, log_results=log_results, debug_api=debug)\n"
   ]
  },
  {
   "cell_type": "code",
   "execution_count": 25,
   "metadata": {},
   "outputs": [],
   "source": [
    "\n",
    "#     async def alter_membership(self, auth: dmda.DomoAuth, add_user_ids_list, remove_users_ids_list,\n",
    "#                                log_results: bool = False, debug_api: bool = False):\n",
    "\n",
    "#         body = group_routes.generate_body_update_group_membership(group_id=self.group.id,\n",
    "#                                                                   add_user_arr=add_user_ids_list,\n",
    "#                                                                   remove_user_arr=remove_users_ids_list)\n",
    "\n",
    "#         return await self._update_group_access(auth=auth, body=body, log_results=log_results, debug_api=debug)"
   ]
  },
  {
   "attachments": {},
   "cell_type": "markdown",
   "metadata": {},
   "source": [
    "# Domo Group"
   ]
  },
  {
   "cell_type": "code",
   "execution_count": 26,
   "metadata": {},
   "outputs": [],
   "source": [
    "# | export\n",
    "@dataclass\n",
    "class DomoGroup:\n",
    "    auth: dmda.DomoAuth = field(repr=False, default=None)\n",
    "    id: str = None\n",
    "    name: str = None\n",
    "    type: str = None\n",
    "    description: str = None\n",
    "    group_members_id_ls: list[str] = field(repr=False, default_factory=list)\n",
    "    owner_members_id_ls: list[str] = field(repr=False, default_factory=list)\n",
    "    \n",
    "    group_members_ls: list[dict] = field(repr=False, default_factory=list)\n",
    "    owner_members_ls : list[dict]= field(repr = False, default_factory = list)\n",
    "\n",
    "    def __post_init__(self):\n",
    "        # self.domo_instance = self.domo_instance or auth.domo_instance\n",
    "        self.Membership = GroupMembership(self)\n",
    "\n",
    "    @classmethod\n",
    "    def _from_group_json(cls, auth: dmda.DomoAuth, json_obj):\n",
    "        dd = json_obj\n",
    "\n",
    "        if not isinstance(json_obj, util_dd.DictDot):\n",
    "            dd = util_dd.DictDot(json_obj)\n",
    "\n",
    "        return cls(\n",
    "            auth=auth,\n",
    "            id=dd.id,\n",
    "            name=dd.name,\n",
    "            description=dd.description,\n",
    "            type=dd.type or dd.groupType,\n",
    "            group_members_id_ls=dd.userIds,\n",
    "            owner_members_ls=dd.owners,\n",
    "        )\n",
    "\n",
    "    @classmethod\n",
    "    def _from_grouplist_json(cls, auth: dmda.DomoAuth, json_obj):\n",
    "        dd = json_obj\n",
    "\n",
    "        if not isinstance(json_obj, util_dd.DictDot):\n",
    "            dd = util_dd.DictDot(json_obj)\n",
    "\n",
    "        return cls(\n",
    "            auth=auth,\n",
    "            id=dd.groupId,\n",
    "            name=dd.name,\n",
    "            description=dd.description,\n",
    "            type=dd.groupType,\n",
    "            owner_members_ls = dd.owners,\n",
    "            owner_members_id_ls = [owner.id for owner in dd.owners],\n",
    "            \n",
    "            group_members_ls=dd.groupMembers,\n",
    "            group_members_id_ls= [member.id for member in dd.members]\n",
    "        )\n",
    "\n",
    "\n",
    "    @staticmethod\n",
    "    def _groups_to_domo_group(json_list, auth: dmda.DomoAuth) -> List[dict]:\n",
    "        domo_groups = [\n",
    "            DomoGroup._from_group_json(auth=auth, json_obj=json_obj)\n",
    "            for json_obj in json_list\n",
    "        ]\n",
    "\n",
    "        return domo_groups"
   ]
  },
  {
   "cell_type": "code",
   "execution_count": 27,
   "metadata": {},
   "outputs": [],
   "source": [
    "# | exporti\n",
    "@patch_to(DomoGroup, cls_method=True)\n",
    "async def get_by_id(\n",
    "    cls,\n",
    "    auth: dmda.DomoAuth,\n",
    "    group_id: str,\n",
    "    return_raw: bool = False,\n",
    "    debug_api: bool = False,\n",
    "    session: httpx.AsyncClient = None,\n",
    "):\n",
    "\n",
    "    res = await group_routes.get_group_by_id(\n",
    "        auth=auth, group_id=group_id, debug_api=debug_api, session=session\n",
    "    )\n",
    "    if return_raw:\n",
    "        return res\n",
    "\n",
    "    if res.status == 200:\n",
    "        return cls._from_group_json(auth=auth, json_obj=res.response)\n"
   ]
  },
  {
   "attachments": {},
   "cell_type": "markdown",
   "metadata": {},
   "source": [
    "#### sample implementation of get_by_id\n"
   ]
  },
  {
   "cell_type": "code",
   "execution_count": 28,
   "metadata": {},
   "outputs": [
    {
     "data": {
      "text/plain": [
       "DomoGroup(id=2146122228, name='test', type='closed', description='with_description')"
      ]
     },
     "execution_count": 28,
     "metadata": {},
     "output_type": "execute_result"
    }
   ],
   "source": [
    "import os\n",
    "\n",
    "token_auth = dmda.DomoTokenAuth(\n",
    "    domo_instance=\"domo-community\",\n",
    "    domo_access_token=os.environ[\"DOMO_DOJO_ACCESS_TOKEN\"],\n",
    ")\n",
    "\n",
    "group_id = 2146122228\n",
    "\n",
    "res = await DomoGroup.get_by_id(auth=token_auth, group_id=group_id, return_raw= False)\n",
    "\n",
    "res"
   ]
  },
  {
   "attachments": {},
   "cell_type": "markdown",
   "metadata": {},
   "source": [
    "## Membership\n",
    "### Get and SEARCH"
   ]
  },
  {
   "attachments": {},
   "cell_type": "markdown",
   "metadata": {},
   "source": [
    "#### sample implementation of get_owners"
   ]
  },
  {
   "cell_type": "code",
   "execution_count": 29,
   "metadata": {},
   "outputs": [
    {
     "data": {
      "text/plain": [
       "[DomoGroup(id=1781661643, name='TestMembership', type='open', description='group with membership'),\n",
       " DomoGroup(id=822382906, name='Grant: Manage all groups', type='system', description='Create, edit and delete any groups. Add and remove people from any group.'),\n",
       " DomoUser(id='1893952720', display_name='Jae Wilson1', email_address='jae@onyxreporting.com', role_id=1, publisher_domain=None, subscriber_domain=None, virtual_user_id=None)]"
      ]
     },
     "execution_count": 29,
     "metadata": {},
     "output_type": "execute_result"
    }
   ],
   "source": [
    "import os\n",
    "\n",
    "token_auth = dmda.DomoTokenAuth(\n",
    "    domo_instance=\"domo-community\",\n",
    "    domo_access_token=os.environ[\"DOMO_DOJO_ACCESS_TOKEN\"],\n",
    ")\n",
    "\n",
    "group = DomoGroup(id=1781661643, auth=token_auth)\n",
    "\n",
    "domo_group = GroupMembership(group=group)\n",
    "\n",
    "await domo_group.get_owners()\n",
    "\n",
    "# domo_group._current_owner_ls\n"
   ]
  },
  {
   "attachments": {},
   "cell_type": "markdown",
   "metadata": {},
   "source": [
    "#### sample implementation of get_membership"
   ]
  },
  {
   "cell_type": "code",
   "execution_count": 30,
   "metadata": {},
   "outputs": [
    {
     "data": {
      "text/plain": [
       "[DomoUser(id='696468809', display_name=None, email_address=None, role_id=2097317660, publisher_domain=None, subscriber_domain=None, virtual_user_id=None),\n",
       " DomoUser(id='1345737456', display_name=None, email_address=None, role_id=2, publisher_domain=None, subscriber_domain=None, virtual_user_id=None),\n",
       " DomoUser(id='1141078945', display_name=None, email_address=None, role_id=2097317660, publisher_domain=None, subscriber_domain=None, virtual_user_id=None)]"
      ]
     },
     "execution_count": 30,
     "metadata": {},
     "output_type": "execute_result"
    }
   ],
   "source": [
    "import os\n",
    "\n",
    "token_auth = dmda.DomoTokenAuth(\n",
    "    domo_instance=\"domo-community\",\n",
    "    domo_access_token=os.environ[\"DOMO_DOJO_ACCESS_TOKEN\"],\n",
    ")\n",
    "\n",
    "group = DomoGroup( id =  1781661643, auth= token_auth )\n",
    "\n",
    "domo_group = GroupMembership( group = group)\n",
    "\n",
    "await domo_group.get_membership()\n"
   ]
  },
  {
   "attachments": {},
   "cell_type": "markdown",
   "metadata": {},
   "source": [
    "#### sample implementation of Group Membership\n",
    "##### set_membership"
   ]
  },
  {
   "cell_type": "code",
   "execution_count": 31,
   "metadata": {},
   "outputs": [
    {
     "name": "stdout",
     "output_type": "stream",
     "text": [
      "validate membership 1141078945, 1725780094, 1802840904, 861444808\n"
     ]
    },
    {
     "data": {
      "text/plain": [
       "[DomoUser(id='1725780094', display_name=None, email_address=None, role_id=2, publisher_domain=None, subscriber_domain=None, virtual_user_id=None),\n",
       " DomoUser(id='1141078945', display_name=None, email_address=None, role_id=2097317660, publisher_domain=None, subscriber_domain=None, virtual_user_id=None),\n",
       " DomoUser(id='861444808', display_name=None, email_address=None, role_id=2, publisher_domain=None, subscriber_domain=None, virtual_user_id=None),\n",
       " DomoUser(id='1802840904', display_name=None, email_address=None, role_id=4, publisher_domain=None, subscriber_domain=None, virtual_user_id=None)]"
      ]
     },
     "execution_count": 31,
     "metadata": {},
     "output_type": "execute_result"
    }
   ],
   "source": [
    "import os\n",
    "\n",
    "token_auth = dmda.DomoTokenAuth(\n",
    "    domo_instance=\"domo-community\",\n",
    "    domo_access_token=os.environ[\"DOMO_DOJO_ACCESS_TOKEN\"],\n",
    ")\n",
    "\n",
    "group_id = 2146122228\n",
    "\n",
    "membership = [{'type': 'USER', 'id': 1141078945},\n",
    "              {'type': 'USER', 'id': 1725780094},\n",
    "              {'type': 'USER', 'id': 861444808},\n",
    "              {'type': 'USER', 'id': 1802840904}]\n",
    "\n",
    "\n",
    "membership = [dmu.DomoUser(id = 1141078945, auth = token_auth),\n",
    "              dmu.DomoUser(id = 1725780094, auth = token_auth)]\n",
    "\n",
    "\n",
    "domo_group = await DomoGroup.get_by_id(auth=token_auth, group_id=group_id)\n",
    "\n",
    "print(\n",
    "    f\"validate membership {', '.join([str(id) for id in domo_group.group_members_id_ls])}\")\n",
    "\n",
    "# await domo_group.Membership.get_membership()\n",
    "await domo_group.Membership.set_membership(user_ls=membership )\n"
   ]
  },
  {
   "cell_type": "code",
   "execution_count": null,
   "metadata": {},
   "outputs": [],
   "source": []
  },
  {
   "attachments": {},
   "cell_type": "markdown",
   "metadata": {},
   "source": [
    "##### alter_owners"
   ]
  },
  {
   "cell_type": "code",
   "execution_count": 32,
   "metadata": {},
   "outputs": [
    {
     "ename": "AttributeError",
     "evalue": "'GroupMembership' object has no attribute 'group_members_id_ls'",
     "output_type": "error",
     "traceback": [
      "\u001b[0;31m---------------------------------------------------------------------------\u001b[0m",
      "\u001b[0;31mAttributeError\u001b[0m                            Traceback (most recent call last)",
      "Cell \u001b[0;32mIn[32], line 14\u001b[0m\n\u001b[1;32m     10\u001b[0m add_membership \u001b[39m=\u001b[39m [\u001b[39m1141078945\u001b[39m, \u001b[39m1725780094\u001b[39m, \u001b[39m861444808\u001b[39m, \u001b[39m1802840904\u001b[39m]\n\u001b[1;32m     12\u001b[0m domo_group \u001b[39m=\u001b[39m \u001b[39mawait\u001b[39;00m DomoGroup\u001b[39m.\u001b[39mget_by_id(auth\u001b[39m=\u001b[39mtoken_auth, group_id\u001b[39m=\u001b[39mgroup_id)\n\u001b[0;32m---> 14\u001b[0m \u001b[39mprint\u001b[39m(\u001b[39mf\u001b[39m\u001b[39m\"\u001b[39m\u001b[39mvalidate membership \u001b[39m\u001b[39m{\u001b[39;00m\u001b[39m'\u001b[39m\u001b[39m, \u001b[39m\u001b[39m'\u001b[39m\u001b[39m.\u001b[39mjoin([\u001b[39mstr\u001b[39m(\u001b[39mid\u001b[39m) \u001b[39mfor\u001b[39;00m \u001b[39mid\u001b[39m \u001b[39min\u001b[39;00m domo_group\u001b[39m.\u001b[39;49mMembership\u001b[39m.\u001b[39;49mgroup_members_id_ls])\u001b[39m}\u001b[39;00m\u001b[39m\"\u001b[39m)\n\u001b[1;32m     16\u001b[0m \u001b[39mawait\u001b[39;00m domo_group\u001b[39m.\u001b[39mMembership\u001b[39m.\u001b[39mset_membership(\n\u001b[1;32m     17\u001b[0m     user_ids_list\u001b[39m=\u001b[39m membership, return_raw \u001b[39m=\u001b[39m \u001b[39mTrue\u001b[39;00m\n\u001b[1;32m     18\u001b[0m )\n",
      "\u001b[0;31mAttributeError\u001b[0m: 'GroupMembership' object has no attribute 'group_members_id_ls'"
     ]
    }
   ],
   "source": [
    "import os\n",
    "\n",
    "token_auth = dmda.DomoTokenAuth(\n",
    "    domo_instance=\"domo-community\",\n",
    "    domo_access_token=os.environ[\"DOMO_DOJO_ACCESS_TOKEN\"],\n",
    ")\n",
    "\n",
    "group_id = 2146122228\n",
    "\n",
    "add_membership = [1141078945, 1725780094, 861444808, 1802840904]\n",
    "\n",
    "domo_group = await DomoGroup.get_by_id(auth=token_auth, group_id=group_id)\n",
    "\n",
    "print(f\"validate membership {', '.join([str(id) for id in domo_group.Membership.group_members_id_ls])}\")\n",
    "\n",
    "await domo_group.Membership.set_membership(\n",
    "    user_ids_list= membership, return_raw = True\n",
    ")\n"
   ]
  },
  {
   "cell_type": "code",
   "execution_count": null,
   "metadata": {},
   "outputs": [],
   "source": [
    "# import os\n",
    "\n",
    "# token_auth = dmda.DomoTokenAuth(\n",
    "#     domo_instance=\"domo-community\",\n",
    "#     domo_access_token=os.environ[\"DOMO_DOJO_ACCESS_TOKEN\"],\n",
    "# )\n",
    "\n",
    "# group_id = 2146122228\n",
    "\n",
    "# membership = [1141078945, 1725780094, 861444808, 1802840904]\n",
    "\n",
    "# domo_group = await DomoGroup.get_by_id(auth=token_auth, group_id=group_id)\n",
    "\n",
    "# print(\n",
    "#     f\"validate membership {', '.join([str(id) for id in domo_group.Membership.group_members_id_ls])}\")\n",
    "\n",
    "# await domo_group.Membership.set_membership(\n",
    "#     user_ids_list=membership\n",
    "# )\n"
   ]
  },
  {
   "cell_type": "code",
   "execution_count": null,
   "metadata": {},
   "outputs": [],
   "source": [
    "# | exporti\n",
    "\n",
    "@patch_to(DomoGroup, cls_method=True)\n",
    "async def create_from_name(\n",
    "    cls: DomoGroup,\n",
    "    auth: dmda.DomoAuth,\n",
    "    group_name: str = None,\n",
    "    group_type: str = \"open\",  # use GroupType_Enum\n",
    "    description: str = None,\n",
    "    debug_api: bool = False,\n",
    "    session: httpx.AsyncClient = None,\n",
    "):\n",
    "\n",
    "    res = await group_routes.create_group(\n",
    "        auth=auth,\n",
    "        group_name=group_name,\n",
    "        group_type=group_type,\n",
    "        description=description,\n",
    "        debug_api=debug_api,\n",
    "    )\n",
    "\n",
    "    domo_group = cls._from_group_json(auth=auth, json_obj=res.response)\n"
   ]
  },
  {
   "attachments": {},
   "cell_type": "markdown",
   "metadata": {},
   "source": [
    "#### sample implementation of create_from_name\n"
   ]
  },
  {
   "cell_type": "code",
   "execution_count": null,
   "metadata": {},
   "outputs": [],
   "source": [
    "import os\n",
    "\n",
    "token_auth = dmda.DomoTokenAuth(\n",
    "    domo_instance=\"domo-community\",\n",
    "    domo_access_token=os.environ[\"DOMO_DOJO_ACCESS_TOKEN\"],\n",
    ")\n",
    "\n",
    "group_name = \"Test Group 2\"\n",
    "try:\n",
    "    await DomoGroup.create_from_name(group_name=group_name, auth=token_auth)\n",
    "\n",
    "except group_routes.CreateGroup_Error as e:\n",
    "    print(e)"
   ]
  },
  {
   "cell_type": "code",
   "execution_count": null,
   "metadata": {},
   "outputs": [],
   "source": []
  },
  {
   "cell_type": "code",
   "execution_count": null,
   "metadata": {},
   "outputs": [],
   "source": [
    "# | exporti\n",
    "\n",
    "\n",
    "@patch_to(DomoGroup, cls_method=True)\n",
    "async def search_by_name(\n",
    "    cls,\n",
    "    auth: dmda.DomoAuth,\n",
    "    group_name: str,\n",
    "    is_exact_match: bool = True,\n",
    "    create_if_not_exist: bool = True,  # will set is_exact_match = True if enabled\n",
    "    debug_api: bool = False,\n",
    "    debug_prn: bool = False,\n",
    "    session: httpx.AsyncClient = None,\n",
    "):\n",
    "\n",
    "    if create_if_not_exist:\n",
    "        is_exact_match = True\n",
    "\n",
    "    try:\n",
    "        res = await group_routes.search_groups_by_name(\n",
    "            auth=auth,\n",
    "            search_name=group_name,\n",
    "            debug_api=debug_api,\n",
    "            is_exact_match=is_exact_match,\n",
    "            session=session,\n",
    "        )\n",
    "        json_list = res.response\n",
    "\n",
    "        if isinstance(json_list, list):\n",
    "            return cls._groups_to_domo_group(json_list, auth)\n",
    "\n",
    "        return cls._from_group_json(auth=auth, json_obj=json_list)\n",
    "\n",
    "    except group_routes.SearchGroups_Error as e:\n",
    "        print(\"create group\")\n",
    "\n",
    "        return await DomoGroup.create_from_name(\n",
    "            auth=auth, group_name=group_name, debug_api=debug_api, session=session\n",
    "        )\n"
   ]
  },
  {
   "attachments": {},
   "cell_type": "markdown",
   "metadata": {},
   "source": [
    "#### sample implementation of search_by_name\n"
   ]
  },
  {
   "cell_type": "code",
   "execution_count": null,
   "metadata": {},
   "outputs": [],
   "source": [
    "import os\n",
    "\n",
    "token_auth = dmda.DomoTokenAuth(\n",
    "    domo_instance=\"domo-community\",\n",
    "    domo_access_token=os.environ[\"DOMO_DOJO_ACCESS_TOKEN\"],\n",
    ")\n",
    "\n",
    "group_name = \"Test Group 2\"\n",
    "\n",
    "res = await DomoGroup.search_by_name(group_name=group_name, auth=token_auth)\n",
    "print(res)"
   ]
  },
  {
   "attachments": {},
   "cell_type": "markdown",
   "metadata": {},
   "source": [
    "# Domo Groups"
   ]
  },
  {
   "cell_type": "code",
   "execution_count": null,
   "metadata": {},
   "outputs": [],
   "source": [
    "# | export\n",
    "class DomoGroups:\n",
    "    def __init__(self):\n",
    "        pass\n",
    "\n",
    "    @staticmethod\n",
    "    def _groups_to_domo_group(json_list, auth: dmda.DomoAuth):\n",
    "\n",
    "        return [\n",
    "            DomoGroup._from_group_json(auth=auth, json_obj=json_obj)\n",
    "            for json_obj in json_list\n",
    "        ]"
   ]
  },
  {
   "cell_type": "code",
   "execution_count": null,
   "metadata": {},
   "outputs": [],
   "source": [
    "# | export\n",
    "@patch_to(DomoGroups, cls_method=True)\n",
    "async def get_all_groups(\n",
    "    cls: DomoGroups,\n",
    "    auth: dmda.DomoAuth,\n",
    "    debug_api: bool = False,\n",
    "    session: httpx.AsyncClient = None,\n",
    "):\n",
    "\n",
    "    res = await group_routes.get_all_groups(\n",
    "        auth=auth, debug_api=debug_api, session=session\n",
    "    )\n",
    "\n",
    "    if len(res.response) > 0:\n",
    "        json_list = res.response\n",
    "\n",
    "        return cls._groups_to_domo_group(json_list=json_list, auth=auth)\n",
    "\n",
    "    else:\n",
    "        return []\n"
   ]
  },
  {
   "attachments": {},
   "cell_type": "markdown",
   "metadata": {},
   "source": [
    "#### sample implementation of get_all_groups\n"
   ]
  },
  {
   "cell_type": "code",
   "execution_count": null,
   "metadata": {},
   "outputs": [],
   "source": [
    "import os\n",
    "import pandas as pd\n",
    "\n",
    "token_auth = dmda.DomoTokenAuth(\n",
    "    domo_instance=\"domo-community\",\n",
    "    domo_access_token=os.environ[\"DOMO_DOJO_ACCESS_TOKEN\"],\n",
    ")\n",
    "\n",
    "domo_groups = await DomoGroups.get_all_groups(auth=token_auth)\n",
    "domo_groups[0:5]\n"
   ]
  },
  {
   "attachments": {},
   "cell_type": "markdown",
   "metadata": {},
   "source": [
    "# CRUD DomoGroups"
   ]
  },
  {
   "cell_type": "code",
   "execution_count": null,
   "metadata": {},
   "outputs": [],
   "source": [
    "@patch_to(DomoGroups, cls_method=True)\n",
    "async def upsert_group(cls: DomoGroups,\n",
    "                       auth: dmda.DomoAuth,\n",
    "                       group_name: str = None,\n",
    "                       description: str = None,\n",
    "                       group_id: str = None,\n",
    "                       debug_api: bool = False,\n",
    "                       debug_prn: bool = False,\n",
    "                       session: httpx.AsyncClient = None):\n",
    "\n",
    "    try:\n",
    "        domo_group = None\n",
    "        if group_id:\n",
    "            domo_group = await DomoGroup.get_by_id(auth=auth, group_id=group_id, return_raw=False)\n",
    "\n",
    "        if not domo_group and group_name:\n",
    "            domo_goup = await DomoGroup.search_by_name(group_name=group_name, auth=auth)\n",
    "\n",
    "        if not domo_group:\n",
    "            raise user_routes. SearchGroups_Error(status=200,\n",
    "                                                  message=f\"{group_id or group_name} - not found\",\n",
    "                                                  domo_instance=auth.domo_instance,\n",
    "                                                  function_name='upsert_groups')\n",
    "        #     user_property_ls = []\n",
    "        #     if display_name:\n",
    "        #         user_property_ls.append(user_routes.UserProperty(\n",
    "        #             user_routes.UserProperty_Type.display_name, display_name))\n",
    "\n",
    "        #     if role_id:\n",
    "        #         user_property_ls.append(user_routes.UserProperty(\n",
    "        #             user_routes.UserProperty_Type.role_id, role_id))\n",
    "\n",
    "        #     return await user_routes.update_user(\n",
    "        #         user_id=domo_user.id,\n",
    "        #         user_property_ls=user_property_ls,\n",
    "        #         auth=auth,\n",
    "        #         debug_api=debug_api\n",
    "        #     )\n",
    "\n",
    "        # if not role_id:\n",
    "        #     raise CreateUser_MissingRole(\n",
    "        #         domo_instance=auth.domo_instance, email_address=email_address)\n",
    "\n",
    "        # return await cls.create_user(auth=auth,\n",
    "        #                              display_name=display_name or f\"{email_address} - via dl {dt.date.today()}\",\n",
    "        #                              email_address=email_address,\n",
    "        #                              role_id=role_id,\n",
    "        #                              debug_api=debug_api,\n",
    "        #                              session=session)\n",
    "    except:\n",
    "        print(\"create User\")\n"
   ]
  },
  {
   "attachments": {},
   "cell_type": "markdown",
   "metadata": {},
   "source": [
    "#### sample implementation of upsert_groups"
   ]
  },
  {
   "cell_type": "code",
   "execution_count": null,
   "metadata": {},
   "outputs": [],
   "source": [
    "import os\n",
    "import pandas as pd\n",
    "\n",
    "token_auth = dmda.DomoTokenAuth(\n",
    "    domo_instance=\"domo-community\",\n",
    "    domo_access_token=os.environ[\"DOMO_DOJO_ACCESS_TOKEN\"],\n",
    ")\n",
    "\n",
    "group_name = \"Test Group 2\"\n",
    "\n",
    "await DomoGroups.upsert_groups(auth=token_auth, group_name = group_name\n",
    ")\n",
    "\n"
   ]
  },
  {
   "cell_type": "code",
   "execution_count": null,
   "metadata": {},
   "outputs": [],
   "source": [
    "# | hide\n",
    "import nbdev\n",
    "nbdev.nbdev_export()\n"
   ]
  }
 ],
 "metadata": {
  "jupytext": {
   "split_at_heading": true
  },
  "kernelspec": {
   "display_name": "Python 3",
   "language": "python",
   "name": "python3"
  },
  "language_info": {
   "codemirror_mode": {
    "name": "ipython",
    "version": 3
   },
   "file_extension": ".py",
   "mimetype": "text/x-python",
   "name": "python",
   "nbconvert_exporter": "python",
   "pygments_lexer": "ipython3",
   "version": "3.10.4"
  }
 },
 "nbformat": 4,
 "nbformat_minor": 4
}
