{
  "cells": [
    {
      "cell_type": "raw",
      "metadata": {},
      "source": [
        "---\n",
        "description: class based approach to interacting with Domo Groups\n",
        "output-file: group_class.html\n",
        "title: Domo Group\n",
        "---"
      ]
    },
    {
      "cell_type": "code",
      "execution_count": 15,
      "metadata": {},
      "outputs": [],
      "source": [
        "# | default_exp classes.DomoGroup\n"
      ]
    },
    {
      "cell_type": "code",
      "execution_count": 16,
      "metadata": {},
      "outputs": [],
      "source": [
        "# | exporti\n",
        "from dataclasses import dataclass, field\n",
        "from typing import List\n",
        "\n",
        "import httpx\n",
        "\n",
        "from fastcore.basics import patch_to\n",
        "\n",
        "\n",
        "# from ..utils.Base import Base\n",
        "# from ..utils.DictDot import DictDot\n",
        "\n",
        "import domolibrary.client.DomoAuth as dmda\n",
        "import domolibrary.client.DomoError as de\n",
        "import domolibrary.utils.DictDot as util_dd\n",
        "\n",
        "import domolibrary.routes.group as group_routes\n",
        "\n",
        "# import domolibrary.routes.publish as publish_routes\n"
      ]
    },
    {
      "attachments": {},
      "cell_type": "markdown",
      "metadata": {},
      "source": [
        "# Group Membership"
      ]
    },
    {
      "cell_type": "code",
      "execution_count": 17,
      "metadata": {},
      "outputs": [],
      "source": [
        "# | export\n",
        "class GroupMembership:\n",
        "    group_members_id_ls: list[str] = None\n",
        "    group_owners_id_ls: list[str] = None\n",
        "    group = None\n",
        "\n",
        "    def __init__(self, group):\n",
        "        self.group = group\n",
        "        self._update_group_members_ids()\n",
        "\n",
        "    def _update_group_members_ids(self, ):\n",
        "        if self.group.group_members_id_ls and len(self.group.group_members_id_ls) > 0:\n",
        "            # print(f\"_update_group_members_ids: {len(self.group.group_members)}\")\n",
        "\n",
        "            self.group_members_id_ls = self.group.group_members_id_ls\n",
        "\n",
        "            return self.group_members_id_ls\n",
        "\n",
        "    async def _update_group_access(\n",
        "        self,\n",
        "        auth: dmda.DomoAuth,\n",
        "        body,  # use group_routes.generate_body_update_group_membership to generate an appropriate body\n",
        "        return_raw: bool = False,\n",
        "        debug_api: bool = False,\n",
        "        session: httpx.AsyncClient = None,\n",
        "    ):\n",
        "\n",
        "        res = await group_routes.update_group_membership(\n",
        "            auth=auth, body=body, debug_api=debug_api, session=session\n",
        "        )\n",
        "\n",
        "        if return_raw:\n",
        "            return res\n",
        "\n",
        "        return res\n"
      ]
    },
    {
      "cell_type": "code",
      "execution_count": 18,
      "metadata": {},
      "outputs": [],
      "source": [
        "# | exporti\n",
        "\n",
        "@patch_to(GroupMembership)\n",
        "async def set_membership(\n",
        "    self: GroupMembership,\n",
        "    user_ids_list : list[str],\n",
        "    auth: dmda.DomoAuth = None,\n",
        "    return_raw: bool = False,\n",
        "    debug_api: bool = False, session: httpx.AsyncClient = None,\n",
        "):\n",
        "\n",
        "    auth = auth or self.group.auth\n",
        "\n",
        "    add_user_arr = [str(uid) for uid in user_ids_list]\n",
        "\n",
        "    remove_user_arr = [\n",
        "        str(uid) for uid in self.group_members_id_ls if str(uid) not in add_user_arr\n",
        "    ]\n",
        "\n",
        "    body = group_routes.generate_body_update_group_membership(\n",
        "        group_id=self.group.id,\n",
        "        add_user_arr=add_user_arr,\n",
        "        remove_user_arr=remove_user_arr,\n",
        "    )\n",
        "\n",
        "    return await self._update_group_access(\n",
        "        auth=auth, body=body, debug_api=debug_api, session=session, return_raw = return_raw\n",
        "    )"
      ]
    },
    {
      "cell_type": "code",
      "execution_count": 19,
      "metadata": {},
      "outputs": [],
      "source": [
        "# | exporti\n",
        "@patch_to(GroupMembership)\n",
        "async def alter_owner(self: GroupMembership, auth: dmda.DomoAuth,\n",
        "                      add_owner_ids_ls=None,\n",
        "                      remove_owner_ids_ls=None,\n",
        "                      debug_api: bool = False,\n",
        "                      session: httpx.AsyncClient = None\n",
        "                      ):\n",
        "\n",
        "    body = group_routes.generate_body_update_group_membership(group_id=self.group.id,\n",
        "                                                              add_owner_user_arr=add_owner_ids_ls,\n",
        "                                                              remove_owner_user_arr=remove_owner_ids_ls)\n",
        "\n",
        "    return await self._update_group_access(auth=auth, body=body, log_results=log_results, debug_api=debug)\n"
      ]
    },
    {
      "cell_type": "code",
      "execution_count": 20,
      "metadata": {},
      "outputs": [],
      "source": [
        "\n",
        "#     async def alter_membership(self, auth: dmda.DomoAuth, add_user_ids_list, remove_users_ids_list,\n",
        "#                                log_results: bool = False, debug_api: bool = False):\n",
        "\n",
        "#         body = group_routes.generate_body_update_group_membership(group_id=self.group.id,\n",
        "#                                                                   add_user_arr=add_user_ids_list,\n",
        "#                                                                   remove_user_arr=remove_users_ids_list)\n",
        "\n",
        "#         return await self._update_group_access(auth=auth, body=body, log_results=log_results, debug_api=debug)"
      ]
    },
    {
      "attachments": {},
      "cell_type": "markdown",
      "metadata": {},
      "source": [
        "# Domo Group"
      ]
    },
    {
      "cell_type": "code",
      "execution_count": 38,
      "metadata": {},
      "outputs": [
        {
          "ename": "TypeError",
          "evalue": "'owner_members_ls' is a field but has no type annotation",
          "output_type": "error",
          "traceback": [
            "\u001b[0;31m---------------------------------------------------------------------------\u001b[0m",
            "\u001b[0;31mTypeError\u001b[0m                                 Traceback (most recent call last)",
            "Cell \u001b[0;32mIn[38], line 3\u001b[0m\n\u001b[1;32m      1\u001b[0m \u001b[39m# | export\u001b[39;00m\n\u001b[1;32m      2\u001b[0m \u001b[39m@dataclass\u001b[39;49m\n\u001b[0;32m----> 3\u001b[0m \u001b[39mclass\u001b[39;49;00m \u001b[39mDomoGroup\u001b[39;49;00m:\n\u001b[1;32m      4\u001b[0m     auth: dmda\u001b[39m.\u001b[39;49mDomoAuth \u001b[39m=\u001b[39;49m field(\u001b[39mrepr\u001b[39;49m\u001b[39m=\u001b[39;49m\u001b[39mFalse\u001b[39;49;00m, default\u001b[39m=\u001b[39;49m\u001b[39mNone\u001b[39;49;00m)\n\u001b[1;32m      5\u001b[0m     \u001b[39mid\u001b[39;49m: \u001b[39mstr\u001b[39;49m \u001b[39m=\u001b[39;49m \u001b[39mNone\u001b[39;49;00m\n",
            "File \u001b[0;32m~/.python/current/lib/python3.10/dataclasses.py:1185\u001b[0m, in \u001b[0;36mdataclass\u001b[0;34m(cls, init, repr, eq, order, unsafe_hash, frozen, match_args, kw_only, slots)\u001b[0m\n\u001b[1;32m   1182\u001b[0m     \u001b[39mreturn\u001b[39;00m wrap\n\u001b[1;32m   1184\u001b[0m \u001b[39m# We're called as @dataclass without parens.\u001b[39;00m\n\u001b[0;32m-> 1185\u001b[0m \u001b[39mreturn\u001b[39;00m wrap(\u001b[39mcls\u001b[39;49m)\n",
            "File \u001b[0;32m~/.python/current/lib/python3.10/dataclasses.py:1176\u001b[0m, in \u001b[0;36mdataclass.<locals>.wrap\u001b[0;34m(cls)\u001b[0m\n\u001b[1;32m   1175\u001b[0m \u001b[39mdef\u001b[39;00m \u001b[39mwrap\u001b[39m(\u001b[39mcls\u001b[39m):\n\u001b[0;32m-> 1176\u001b[0m     \u001b[39mreturn\u001b[39;00m _process_class(\u001b[39mcls\u001b[39;49m, init, \u001b[39mrepr\u001b[39;49m, eq, order, unsafe_hash,\n\u001b[1;32m   1177\u001b[0m                           frozen, match_args, kw_only, slots)\n",
            "File \u001b[0;32m~/.python/current/lib/python3.10/dataclasses.py:980\u001b[0m, in \u001b[0;36m_process_class\u001b[0;34m(cls, init, repr, eq, order, unsafe_hash, frozen, match_args, kw_only, slots)\u001b[0m\n\u001b[1;32m    978\u001b[0m \u001b[39mfor\u001b[39;00m name, value \u001b[39min\u001b[39;00m \u001b[39mcls\u001b[39m\u001b[39m.\u001b[39m\u001b[39m__dict__\u001b[39m\u001b[39m.\u001b[39mitems():\n\u001b[1;32m    979\u001b[0m     \u001b[39mif\u001b[39;00m \u001b[39misinstance\u001b[39m(value, Field) \u001b[39mand\u001b[39;00m \u001b[39mnot\u001b[39;00m name \u001b[39min\u001b[39;00m cls_annotations:\n\u001b[0;32m--> 980\u001b[0m         \u001b[39mraise\u001b[39;00m \u001b[39mTypeError\u001b[39;00m(\u001b[39mf\u001b[39m\u001b[39m'\u001b[39m\u001b[39m{\u001b[39;00mname\u001b[39m!r}\u001b[39;00m\u001b[39m is a field but has no type annotation\u001b[39m\u001b[39m'\u001b[39m)\n\u001b[1;32m    982\u001b[0m \u001b[39m# Check rules that apply if we are derived from any dataclasses.\u001b[39;00m\n\u001b[1;32m    983\u001b[0m \u001b[39mif\u001b[39;00m has_dataclass_bases:\n\u001b[1;32m    984\u001b[0m     \u001b[39m# Raise an exception if any of our bases are frozen, but we're not.\u001b[39;00m\n",
            "\u001b[0;31mTypeError\u001b[0m: 'owner_members_ls' is a field but has no type annotation"
          ]
        }
      ],
      "source": [
        "# | export\n",
        "@dataclass\n",
        "class DomoGroup:\n",
        "    auth: dmda.DomoAuth = field(repr=False, default=None)\n",
        "    id: str = None\n",
        "    name: str = None\n",
        "    type: str = None\n",
        "    description: str = None\n",
        "    group_members_id_ls: list[str] = field(repr=False, default_factory=list)\n",
        "    owner_members_id_ls: list[str] = field(repr=False, default_factory=list)\n",
        "    \n",
        "    group_members_ls: list[dict] = field(repr=False, default_factory=list)\n",
        "    owner_members_ls : list[dict]= field(repr = False, default_factory = list)\n",
        "\n",
        "    def __post_init__(self):\n",
        "        # self.domo_instance = self.domo_instance or auth.domo_instance\n",
        "        self.Membership = GroupMembership(self)\n",
        "\n",
        "    @classmethod\n",
        "    def _from_group_json(cls, auth: dmda.DomoAuth, json_obj):\n",
        "        dd = json_obj\n",
        "\n",
        "        if not isinstance(json_obj, util_dd.DictDot):\n",
        "            dd = util_dd.DictDot(json_obj)\n",
        "\n",
        "        return cls(\n",
        "            auth=auth,\n",
        "            id=dd.id,\n",
        "            name=dd.name,\n",
        "            description=dd.description,\n",
        "            type=dd.type or dd.groupType,\n",
        "            group_members_id_ls=ddd.userIds,\n",
        "            owner_members=dd.owners,\n",
        "        )\n",
        "\n",
        "    @classmethod\n",
        "    def _from_grouplist_json(cls, auth: dmda.DomoAuth, json_obj):\n",
        "        dd = json_obj\n",
        "\n",
        "        if not isinstance(json_obj, util_dd.DictDot):\n",
        "            dd = util_dd.DictDot(json_obj)\n",
        "\n",
        "        return cls(\n",
        "            auth=auth,\n",
        "            id=dd.groupId,\n",
        "            name=dd.name,\n",
        "            description=dd.description,\n",
        "            type=dd.groupType,\n",
        "            owner_members_ls = dd.owners,\n",
        "            owner_members_id_ls = [owner.id for owner in dd.owners],\n",
        "            \n",
        "            group_members_ls=dd.groupMembers,\n",
        "            group_members_id_ls= [member.id for member in dd.members]\n",
        "        )\n",
        "\n",
        "    @staticmethod\n",
        "    def _groups_to_domo_group(json_list, auth: dmda.DomoAuth) -> List[dict]:\n",
        "        domo_groups = [\n",
        "            DomoGroup._from_search_json(auth=auth, json_obj=json_obj)\n",
        "            for json_obj in json_list\n",
        "        ]\n",
        "\n",
        "        return domo_groups"
      ]
    },
    {
      "cell_type": "code",
      "execution_count": 22,
      "metadata": {},
      "outputs": [],
      "source": [
        "# | exporti\n",
        "@patch_to(DomoGroup, cls_method=True)\n",
        "async def get_by_id(\n",
        "    cls,\n",
        "    auth: dmda.DomoAuth,\n",
        "    group_id: str,\n",
        "    return_raw: bool = False,\n",
        "    debug_api: bool = False,\n",
        "    session: httpx.AsyncClient = None,\n",
        "):\n",
        "\n",
        "    res = await group_routes.get_group_by_id(\n",
        "        auth=auth, group_id=group_id, debug_api=debug_api, session=session\n",
        "    )\n",
        "    if return_raw:\n",
        "        return res\n",
        "\n",
        "    if res.status == 200:\n",
        "        return cls._from_groups_API_json(auth=auth, json_obj=res.response)"
      ]
    },
    {
      "attachments": {},
      "cell_type": "markdown",
      "metadata": {},
      "source": [
        "#### sample implementation of get_by_id\n"
      ]
    },
    {
      "cell_type": "code",
      "execution_count": 23,
      "metadata": {},
      "outputs": [
        {
          "data": {
            "text/plain": [
              "DomoGroup(id=2146122228, name='test', type='closed', description='with_description')"
            ]
          },
          "execution_count": 23,
          "metadata": {},
          "output_type": "execute_result"
        }
      ],
      "source": [
        "import os\n",
        "\n",
        "token_auth = dmda.DomoTokenAuth(\n",
        "    domo_instance=\"domo-community\",\n",
        "    domo_access_token=os.environ[\"DOMO_DOJO_ACCESS_TOKEN\"],\n",
        ")\n",
        "\n",
        "group_id = 2146122228\n",
        "\n",
        "await DomoGroup.get_by_id(auth=token_auth, group_id=group_id, return_raw= False)"
      ]
    },
    {
      "attachments": {},
      "cell_type": "markdown",
      "metadata": {},
      "source": [
        "#### sample implementation of Group Membership\n",
        "##### set_membership"
      ]
    },
    {
      "cell_type": "code",
      "execution_count": 24,
      "metadata": {},
      "outputs": [
        {
          "name": "stdout",
          "output_type": "stream",
          "text": [
            "validate membership 1141078945, 1725780094, 1802840904, 861444808\n"
          ]
        },
        {
          "data": {
            "text/plain": [
              "ResponseGetData(status=200, response='', is_success=True)"
            ]
          },
          "execution_count": 24,
          "metadata": {},
          "output_type": "execute_result"
        }
      ],
      "source": [
        "import os\n",
        "\n",
        "token_auth = dmda.DomoTokenAuth(\n",
        "    domo_instance=\"domo-community\",\n",
        "    domo_access_token=os.environ[\"DOMO_DOJO_ACCESS_TOKEN\"],\n",
        ")\n",
        "\n",
        "group_id = 2146122228\n",
        "\n",
        "membership = [1141078945, 1725780094, 861444808, 1802840904]\n",
        "\n",
        "domo_group = await DomoGroup.get_by_id(auth=token_auth, group_id=group_id)\n",
        "\n",
        "print(f\"validate membership {', '.join([str(id) for id in domo_group.Membership.group_members_id_ls])}\")\n",
        "\n",
        "await domo_group.Membership.set_membership(\n",
        "    user_ids_list= membership\n",
        ")\n"
      ]
    },
    {
      "attachments": {},
      "cell_type": "markdown",
      "metadata": {},
      "source": [
        "##### alter_owners"
      ]
    },
    {
      "cell_type": "code",
      "execution_count": 25,
      "metadata": {},
      "outputs": [
        {
          "name": "stdout",
          "output_type": "stream",
          "text": [
            "validate membership 1141078945, 1725780094, 1802840904, 861444808\n"
          ]
        },
        {
          "data": {
            "text/plain": [
              "ResponseGetData(status=200, response='', is_success=True)"
            ]
          },
          "execution_count": 25,
          "metadata": {},
          "output_type": "execute_result"
        }
      ],
      "source": [
        "import os\n",
        "\n",
        "token_auth = dmda.DomoTokenAuth(\n",
        "    domo_instance=\"domo-community\",\n",
        "    domo_access_token=os.environ[\"DOMO_DOJO_ACCESS_TOKEN\"],\n",
        ")\n",
        "\n",
        "group_id = 2146122228\n",
        "\n",
        "add_membership = [1141078945, 1725780094, 861444808, 1802840904]\n",
        "\n",
        "domo_group = await DomoGroup.get_by_id(auth=token_auth, group_id=group_id)\n",
        "\n",
        "print(f\"validate membership {', '.join([str(id) for id in domo_group.Membership.group_members_id_ls])}\")\n",
        "\n",
        "await domo_group.Membership.set_membership(\n",
        "    user_ids_list= membership, return_raw = True\n",
        ")\n"
      ]
    },
    {
      "cell_type": "code",
      "execution_count": 26,
      "metadata": {},
      "outputs": [],
      "source": [
        "# import os\n",
        "\n",
        "# token_auth = dmda.DomoTokenAuth(\n",
        "#     domo_instance=\"domo-community\",\n",
        "#     domo_access_token=os.environ[\"DOMO_DOJO_ACCESS_TOKEN\"],\n",
        "# )\n",
        "\n",
        "# group_id = 2146122228\n",
        "\n",
        "# membership = [1141078945, 1725780094, 861444808, 1802840904]\n",
        "\n",
        "# domo_group = await DomoGroup.get_by_id(auth=token_auth, group_id=group_id)\n",
        "\n",
        "# print(\n",
        "#     f\"validate membership {', '.join([str(id) for id in domo_group.Membership.group_members_id_ls])}\")\n",
        "\n",
        "# await domo_group.Membership.set_membership(\n",
        "#     user_ids_list=membership\n",
        "# )\n"
      ]
    },
    {
      "cell_type": "code",
      "execution_count": null,
      "metadata": {},
      "outputs": [],
      "source": []
    },
    {
      "cell_type": "code",
      "execution_count": 27,
      "metadata": {},
      "outputs": [],
      "source": [
        "# | exporti\n",
        "\n",
        "@patch_to(DomoGroup, cls_method=True)\n",
        "async def create_from_name(\n",
        "    cls: DomoGroup,\n",
        "    auth: dmda.DomoAuth,\n",
        "    group_name: str = None,\n",
        "    group_type: str = \"open\",  # use GroupType_Enum\n",
        "    description: str = None,\n",
        "    debug_api: bool = False,\n",
        "    session: httpx.AsyncClient = None,\n",
        "):\n",
        "\n",
        "    res = await group_routes.create_group(\n",
        "        auth=auth,\n",
        "        group_name=group_name,\n",
        "        group_type=group_type,\n",
        "        description=description,\n",
        "        debug_api=debug_api,\n",
        "    )\n",
        "\n",
        "    domo_group = cls._from_search_json(auth=auth, json_obj=res.response)\n"
      ]
    },
    {
      "attachments": {},
      "cell_type": "markdown",
      "metadata": {},
      "source": [
        "#### sample implementation of create_from_name\n"
      ]
    },
    {
      "cell_type": "code",
      "execution_count": 28,
      "metadata": {},
      "outputs": [
        {
          "name": "stdout",
          "output_type": "stream",
          "text": [
            "create_group: Status 400 - Test Group 2 already exists. Choose a different group_name at domo-community\n"
          ]
        }
      ],
      "source": [
        "import os\n",
        "\n",
        "token_auth = dmda.DomoTokenAuth(\n",
        "    domo_instance=\"domo-community\",\n",
        "    domo_access_token=os.environ[\"DOMO_DOJO_ACCESS_TOKEN\"],\n",
        ")\n",
        "\n",
        "group_name = \"Test Group 2\"\n",
        "try:\n",
        "    await DomoGroup.create_from_name(group_name=group_name, auth=token_auth)\n",
        "\n",
        "except group_routes.CreateGroup_Error as e:\n",
        "    print(e)"
      ]
    },
    {
      "cell_type": "code",
      "execution_count": 29,
      "metadata": {},
      "outputs": [],
      "source": [
        "# | exporti\n",
        "\n",
        "\n",
        "@patch_to(DomoGroup, cls_method=True)\n",
        "async def search_by_name(\n",
        "    cls,\n",
        "    auth: dmda.DomoAuth,\n",
        "    group_name: str,\n",
        "    is_exact_match: bool = True,\n",
        "    create_if_not_exist: bool = True,  # will set is_exact_match = True if enabled\n",
        "    debug_api: bool = False,\n",
        "    debug_prn: bool = False,\n",
        "    session: httpx.AsyncClient = None,\n",
        "):\n",
        "\n",
        "    if create_if_not_exist:\n",
        "        is_exact_match = True\n",
        "\n",
        "    try:\n",
        "        res = await group_routes.search_groups_by_name(\n",
        "            auth=auth,\n",
        "            search_name=group_name,\n",
        "            debug_api=debug_api,\n",
        "            is_exact_match=is_exact_match,\n",
        "            session=session,\n",
        "        )\n",
        "        json_list = res.response\n",
        "\n",
        "        if isinstance(json_list, list):\n",
        "            return cls._groups_to_domo_group(json_list, auth)\n",
        "\n",
        "        return cls._from_search_json(auth=auth, json_obj=json_list)\n",
        "\n",
        "    except group_routes.SearchGroups_Error as e:\n",
        "        print(\"create group\")\n",
        "\n",
        "        return await DomoGroup.create_from_name(\n",
        "            auth=auth, group_name=group_name, debug_api=debug_api, session=session\n",
        "        )\n"
      ]
    },
    {
      "attachments": {},
      "cell_type": "markdown",
      "metadata": {},
      "source": [
        "#### sample implementation of search_by_name\n"
      ]
    },
    {
      "cell_type": "code",
      "execution_count": 30,
      "metadata": {},
      "outputs": [
        {
          "name": "stdout",
          "output_type": "stream",
          "text": [
            "DomoGroup(id=1259653287, name='Test Group 2', type='open', description='')\n"
          ]
        }
      ],
      "source": [
        "import os\n",
        "\n",
        "token_auth = dmda.DomoTokenAuth(\n",
        "    domo_instance=\"domo-community\",\n",
        "    domo_access_token=os.environ[\"DOMO_DOJO_ACCESS_TOKEN\"],\n",
        ")\n",
        "\n",
        "group_name = \"Test Group 2\"\n",
        "\n",
        "res = await DomoGroup.search_by_name(group_name=group_name, auth=token_auth)\n",
        "print(res)"
      ]
    },
    {
      "attachments": {},
      "cell_type": "markdown",
      "metadata": {},
      "source": [
        "# Domo Groups"
      ]
    },
    {
      "cell_type": "code",
      "execution_count": 31,
      "metadata": {},
      "outputs": [],
      "source": [
        "# | export\n",
        "class DomoGroups:\n",
        "    def __init__(self):\n",
        "        pass\n",
        "\n",
        "    @staticmethod\n",
        "    def _groups_to_domo_group(json_list, auth: dmda.DomoAuth):\n",
        "\n",
        "        return [\n",
        "            DomoGroup._from_search_json(auth=auth, json_obj=json_obj)\n",
        "            for json_obj in json_list\n",
        "        ]"
      ]
    },
    {
      "cell_type": "code",
      "execution_count": 32,
      "metadata": {},
      "outputs": [],
      "source": [
        "# | export\n",
        "@patch_to(DomoGroups, cls_method=True)\n",
        "async def get_all_groups(\n",
        "    cls: DomoGroups,\n",
        "    auth: dmda.DomoAuth,\n",
        "    debug_api: bool = False,\n",
        "    session: httpx.AsyncClient = None,\n",
        "):\n",
        "\n",
        "    res = await group_routes.get_all_groups(\n",
        "        auth=auth, debug_api=debug_api, session=session\n",
        "    )\n",
        "\n",
        "    if len(res.response) > 0:\n",
        "        json_list = res.response\n",
        "\n",
        "        return cls._groups_to_domo_group(json_list=json_list, auth=auth)\n",
        "\n",
        "    else:\n",
        "        return []\n"
      ]
    },
    {
      "attachments": {},
      "cell_type": "markdown",
      "metadata": {},
      "source": [
        "#### sample implementation of get_all_groups\n"
      ]
    },
    {
      "cell_type": "code",
      "execution_count": 33,
      "metadata": {},
      "outputs": [
        {
          "data": {
            "text/plain": [
              "[DomoGroup(id=1814479647, name='Admin Test', type='closed', description=''),\n",
              " DomoGroup(id=926594289, name='April 2023 Cohort', type='closed', description='Group for ALL Domo Customer Orientation workshop attendees in April 2023'),\n",
              " DomoGroup(id=180920085, name='Content', type='adHoc', description=None),\n",
              " DomoGroup(id=892007656, name='DCO Team Guides', type='closed', description='Admin Group - for Domo Customer Orientation workshops'),\n",
              " DomoGroup(id=1324037627, name='Default', type='adHoc', description=None)]"
            ]
          },
          "execution_count": 33,
          "metadata": {},
          "output_type": "execute_result"
        }
      ],
      "source": [
        "import os\n",
        "import pandas as pd\n",
        "\n",
        "token_auth = dmda.DomoTokenAuth(\n",
        "    domo_instance=\"domo-community\",\n",
        "    domo_access_token=os.environ[\"DOMO_DOJO_ACCESS_TOKEN\"],\n",
        ")\n",
        "\n",
        "domo_groups = await DomoGroups.get_all_groups(auth=token_auth)\n",
        "domo_groups[0:5]\n"
      ]
    }
  ],
  "metadata": {
    "jupytext": {
      "split_at_heading": true
    },
    "kernelspec": {
      "display_name": "Python 3",
      "language": "python",
      "name": "python3"
    },
    "language_info": {
      "codemirror_mode": {
        "name": "ipython",
        "version": 3
      },
      "file_extension": ".py",
      "mimetype": "text/x-python",
      "name": "python",
      "nbconvert_exporter": "python",
      "pygments_lexer": "ipython3",
      "version": "3.10.4"
    }
  },
  "nbformat": 4,
  "nbformat_minor": 4
}
