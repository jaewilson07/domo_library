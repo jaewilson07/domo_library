{
 "cells": [
  {
   "cell_type": "raw",
   "metadata": {},
   "source": [
    "---\n",
    "description: a class based approach to interacting with DomoCards\n",
    "output-file: card_class.html\n",
    "title: Domo Card\n",
    "\n",
    "---\n",
    "\n"
   ]
  },
  {
   "cell_type": "code",
   "execution_count": null,
   "metadata": {},
   "outputs": [],
   "source": [
    "#| default_exp classes.DomoCard"
   ]
  },
  {
   "cell_type": "code",
   "execution_count": null,
   "metadata": {},
   "outputs": [],
   "source": [
    "#| export\n",
    "from dataclasses import dataclass, field\n",
    "\n",
    "import domolibrary.routes.card as card_routes\n",
    "\n",
    "import domolibrary.client.DomoAuth as dmda\n",
    "import domolibrary.client.DomoError as de\n",
    "import domolibrary.utils.DictDot as util_dd"
   ]
  },
  {
   "cell_type": "code",
   "execution_count": null,
   "metadata": {},
   "outputs": [
    {
     "ename": "NameError",
     "evalue": "name 'Base' is not defined",
     "output_type": "error",
     "traceback": [
      "\u001b[0;31m---------------------------------------------------------------------------\u001b[0m",
      "\u001b[0;31mNameError\u001b[0m                                 Traceback (most recent call last)",
      "Cell \u001b[0;32mIn[5], line 3\u001b[0m\n\u001b[1;32m      1\u001b[0m \u001b[39m#| export\u001b[39;00m\n\u001b[1;32m      2\u001b[0m \u001b[39m@dataclass\u001b[39m\n\u001b[0;32m----> 3\u001b[0m \u001b[39mclass\u001b[39;00m \u001b[39mDomoCard\u001b[39;00m(Base):\n\u001b[1;32m      4\u001b[0m     \u001b[39mid\u001b[39m: \u001b[39mstr\u001b[39m\n\u001b[1;32m      5\u001b[0m     full_auth: DomoFullAuth \u001b[39m=\u001b[39m field(\u001b[39mrepr\u001b[39m\u001b[39m=\u001b[39m\u001b[39mFalse\u001b[39;00m)\n",
      "\u001b[0;31mNameError\u001b[0m: name 'Base' is not defined"
     ]
    }
   ],
   "source": [
    "#| export\n",
    "@dataclass\n",
    "class DomoCard(Base):\n",
    "    id: str\n",
    "    full_auth: DomoFullAuth = field(repr=False)\n",
    "    title: str = None\n",
    "    description: str = None\n",
    "    type: str = None\n",
    "    urn: str = None\n",
    "    chart_type: str = None\n",
    "    dataset_id: str = None\n",
    "    certification: field(default_factory=dict) = None\n",
    "    owner_members: field(default_factory=list) = None\n",
    "\n",
    "    def __post_init__(self):\n",
    "        Base().__init__()\n",
    "\n",
    "        self.domo_instance = self.full_auth.domo_instance\n",
    "        # self.Definition = CardDefinition(self)\n",
    "\n",
    "    def display_url(self) -> str:\n",
    "        return f'https://{self.domo_instance}.domo.com/kpis/details/{self.id}'\n",
    "\n",
    "    @classmethod\n",
    "    async def get_from_id(cls, id: str, full_auth: DomoFullAuth, debug: bool = False):\n",
    "        res = await card_routes.get_card_metadata(full_auth=full_auth, card_id=id, debug=debug)\n",
    "\n",
    "        if res.status == 200:\n",
    "            dd = DictDot(res.response[0])\n",
    "\n",
    "            card = cls(\n",
    "                full_auth=full_auth,\n",
    "                id=dd.id,\n",
    "                title=dd.title,\n",
    "                description=dd.description,\n",
    "                type=dd.type,\n",
    "                urn=dd.urn,\n",
    "                certification=dd.certification,\n",
    "                owner_members=dd.owners,\n",
    "                chart_type=dd.metadata.chartType\n",
    "            )\n",
    "\n",
    "            if dd.datasources:\n",
    "                card.dataset_id = dd.datasources[0].dataSourceId\n",
    "\n",
    "            return card"
   ]
  }
 ],
 "metadata": {
  "jupytext": {
   "split_at_heading": true
  },
  "kernelspec": {
   "display_name": "Python 3",
   "language": "python",
   "name": "python3"
  }
 },
 "nbformat": 4,
 "nbformat_minor": 4
}
