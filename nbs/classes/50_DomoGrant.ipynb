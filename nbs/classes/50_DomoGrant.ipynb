{
 "cells": [
  {
   "cell_type": "raw",
   "metadata": {},
   "source": [
    "---\n",
    "output-file: domogrant.html\n",
    "title: Grant\n",
    "\n",
    "---\n",
    "\n"
   ]
  },
  {
   "cell_type": "code",
   "execution_count": null,
   "metadata": {},
   "outputs": [],
   "source": [
    "#| default_exp classes.DomoGrant"
   ]
  },
  {
   "cell_type": "code",
   "execution_count": null,
   "metadata": {},
   "outputs": [],
   "source": [
    "#| export\n",
    "from dataclasses import dataclass, field\n",
    "from nbdev.showdoc import patch_to\n",
    "import httpx\n",
    "\n",
    "import domolibrary.client.DomoAuth as dmda\n",
    "import domolibrary.utils.DictDot as util_dd\n",
    "import domolibrary.routes.grant as grant_routes\n"
   ]
  },
  {
   "cell_type": "code",
   "execution_count": null,
   "metadata": {},
   "outputs": [],
   "source": [
    "# | export\n",
    "@dataclass\n",
    "class DomoGrant:\n",
    "    id: str\n",
    "    display_group: str = None\n",
    "    title: str = None\n",
    "    depends_on_ls: list[str] = None\n",
    "    description: str = None\n",
    "    role_membership_ls: list[str] = field(default=None)\n",
    "\n",
    "    def __post_init__(self):\n",
    "        self.id = str(self.id)\n",
    "\n",
    "    def __eq__(self, other):\n",
    "        if not isinstance(other, DomoGrant):\n",
    "            return False\n",
    "\n",
    "        return self.id == other.id\n",
    "\n",
    "\n",
    "    @classmethod\n",
    "    def _from_json(cls, obj):\n",
    "\n",
    "        dd = obj\n",
    "        if not isinstance(dd, util_dd.DictDot):\n",
    "            dd = util_dd.DictDot(obj)\n",
    "\n",
    "        return cls(id=dd.authority,\n",
    "                   display_group=dd.authorityUIGroup,\n",
    "                   depends_on_ls=dd.dependsOnAuthorities,\n",
    "                   title=dd.title,\n",
    "                   description=dd.description,\n",
    "                   role_membership_ls=[str(role) for role in dd.roleIds])\n"
   ]
  },
  {
   "cell_type": "code",
   "execution_count": null,
   "metadata": {},
   "outputs": [],
   "source": [
    "#| export\n",
    "@dataclass\n",
    "class DomoGrants:\n",
    "    pass\n",
    "\n"
   ]
  },
  {
   "cell_type": "code",
   "execution_count": null,
   "metadata": {},
   "outputs": [],
   "source": [
    "# | exporti\n",
    "@patch_to(DomoGrants, cls_method=True)\n",
    "async def get_grants(cls: DomoGrants,\n",
    "                     auth: dmda.DomoAuth,\n",
    "                     session: httpx.AsyncClient = None, debug_api: bool = False, return_raw: bool = False,\n",
    "                     ):\n",
    "    res = await grant_routes.get_grants(auth=auth, debug_api = debug_api, session = session)\n",
    "\n",
    "    if return_raw or not res.is_success: \n",
    "        return res\n",
    "    \n",
    "    return [DomoGrant._from_json(row) for index, row in enumerate(res.response)]\n"
   ]
  },
  {
   "cell_type": "code",
   "execution_count": null,
   "metadata": {},
   "outputs": [
    {
     "data": {
      "text/plain": [
       "[DomoGrant(id='authorization.roles', display_group='COMPANY', title='Manage all roles', depends_on_ls=['ui.admin'], description='Create, edit and delete custom roles. Assign anyone to any role in this instance.', role_membership_ls=['1', '275763436', '810756122']),\n",
       " DomoGrant(id='audit', display_group='COMPANY', title='View activity logs', depends_on_ls=['ui.admin'], description='View and export audit logs.', role_membership_ls=['1', '275763436', '810756122', '1927158482', '1563101750', '2097317660']),\n",
       " DomoGrant(id='customer.edit', display_group='COMPANY', title='Manage all company settings', depends_on_ls=['ui.admin'], description='Manage company metadata, authentication rules, authorized domain rules, export security, mobile home screen layouts, publishing, SSO Configuration, whitelist rules, report scheduler and licenses.', role_membership_ls=['1', '275763436', '810756122']),\n",
       " DomoGrant(id='developer.token.manage', display_group='COMPANY', title='Manage all access tokens and API clients', depends_on_ls=['ui.admin'], description='Create and delete any access tokens and API clients.', role_membership_ls=['1', '275763436', '810756122', '1927158482']),\n",
       " DomoGrant(id='domo.system.messages', display_group='COMPANY', title='Receive Domo System Messages', depends_on_ls=['ui.admin'], description='Receive Domo system messages about maintenance and feature updates. Ensure at least one Admin receives these messages.', role_membership_ls=['1', '275763436', '810756122', '1927158482'])]"
      ]
     },
     "execution_count": null,
     "metadata": {},
     "output_type": "execute_result"
    }
   ],
   "source": [
    "import os\n",
    "import pandas as pd\n",
    "\n",
    "token_auth = dmda.DomoTokenAuth(\n",
    "    domo_access_token=os.environ[\"DOMO_DOJO_ACCESS_TOKEN\"],\n",
    "    domo_instance=\"domo-community\",\n",
    ")\n",
    "\n",
    "res =await DomoGrants.get_grants(auth = token_auth)\n",
    "res[0:5]"
   ]
  },
  {
   "cell_type": "code",
   "execution_count": null,
   "metadata": {},
   "outputs": [],
   "source": [
    "# | hide\n",
    "import nbdev\n",
    "\n",
    "nbdev.nbdev_export()\n"
   ]
  }
 ],
 "metadata": {
  "jupytext": {
   "split_at_heading": true
  },
  "kernelspec": {
   "display_name": "python3",
   "language": "python",
   "name": "python3"
  }
 },
 "nbformat": 4,
 "nbformat_minor": 4
}
