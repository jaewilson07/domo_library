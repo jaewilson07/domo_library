{
 "cells": [
  {
   "attachments": {},
   "cell_type": "markdown",
   "metadata": {},
   "source": [
    "# Account Config extensions\n"
   ]
  },
  {
   "cell_type": "raw",
   "metadata": {},
   "source": [
    "---\n",
    "output-file: account_config_class.html\n",
    "---\n",
    "\n"
   ]
  },
  {
   "cell_type": "code",
   "execution_count": null,
   "metadata": {},
   "outputs": [],
   "source": [
    "# | default_exp classes.DomoAccount_Config"
   ]
  },
  {
   "cell_type": "code",
   "execution_count": null,
   "metadata": {},
   "outputs": [],
   "source": [
    "# | exporti\n",
    "from enum import Enum\n",
    "from dataclasses import dataclass, field\n",
    "from abc import ABC, abstractmethod\n",
    "\n",
    "import domolibrary.utils.DictDot as util_dd"
   ]
  },
  {
   "attachments": {},
   "cell_type": "markdown",
   "metadata": {},
   "source": [
    "# Account Connector Config\n",
    "\n",
    "Each Domo Dataset that pulls data into Vault must have a stream, which stores the configuration information related to which data is exctracted from a datasource. Each stream has an associated account which stores the source data's authentication information.\n",
    "\n",
    "Because each datasource may have different authentication parameters, there may be multiple versions of the same account type (with different credentials) or multiple account types deployed within a domo instance if the user is extracting data from multiple systems.\n",
    "\n",
    "Account's can be configured such that certain fields are designated as encrypted fields, and the user will never be able to see the encrypted values EXCEPT in Domo's Jupyter Notebook integration.\n"
   ]
  },
  {
   "cell_type": "code",
   "execution_count": null,
   "metadata": {},
   "outputs": [],
   "source": [
    "# | export\n",
    "class DomoAccount_Config(ABC):\n",
    "    \"\"\"DomoAccount Config abstract base class\"\"\"\n",
    "\n",
    "    data_provider_type: str\n",
    "    is_defined_config: bool = True\n",
    "    _associated_exception = None\n",
    "\n",
    "    @classmethod\n",
    "    @abstractmethod\n",
    "    def _from_json(cls, obj):\n",
    "        \"\"\"convert accounts API response into a class object\"\"\"\n",
    "\n",
    "    @abstractmethod\n",
    "    def to_json(self):\n",
    "        \"\"\"convert class object into a format the accounts API expects\"\"\""
   ]
  },
  {
   "cell_type": "code",
   "execution_count": null,
   "metadata": {},
   "outputs": [],
   "source": [
    "# | export\n",
    "class AccountConfig_UsesOauth(Exception):\n",
    "    def __init__(self, data_provider_type):\n",
    "        super().__init__(\n",
    "            f\"data provider type {data_provider_type} uses OAuth and therefore wouldn't return a Config object\"\n",
    "        )\n",
    "\n",
    "\n",
    "class AccountConfig_ProviderTypeNotDefined(Exception):\n",
    "    def __init__(self, data_provider_type):\n",
    "        super().__init__(\n",
    "            f\"data provider type {data_provider_type} not defined yet. Extend the AccountConfig class\"\n",
    "        )\n",
    "\n",
    "\n",
    "@dataclass\n",
    "class DomoAccount_NoConfig_OAuth(DomoAccount_Config):\n",
    "    is_oauth: bool = True\n",
    "    is_defined_config: bool = False\n",
    "    _associated_exception = AccountConfig_UsesOauth\n",
    "\n",
    "    @classmethod\n",
    "    def _from_json(cls, obj):\n",
    "        return cls()\n",
    "\n",
    "    def to_json(self):\n",
    "        return {}\n",
    "\n",
    "\n",
    "@dataclass\n",
    "class DomoAccount_NoConfig(DomoAccount_Config):\n",
    "    is_defined_config: bool = False\n",
    "    _associated_exception = AccountConfig_ProviderTypeNotDefined\n",
    "\n",
    "    @classmethod\n",
    "    def _from_json(cls, obj):\n",
    "        return cls()\n",
    "\n",
    "    def to_json(self):\n",
    "        return {}"
   ]
  },
  {
   "attachments": {},
   "cell_type": "markdown",
   "metadata": {},
   "source": [
    "## Utility Connector\n"
   ]
  },
  {
   "cell_type": "code",
   "execution_count": null,
   "metadata": {},
   "outputs": [],
   "source": [
    "# | export\n",
    "@dataclass\n",
    "class DomoAccount_Config_AbstractCredential(DomoAccount_Config):\n",
    "    data_provider_type = \"abstract-credential-store\"\n",
    "    credentials: dict\n",
    "\n",
    "    @classmethod\n",
    "    def _from_json(cls, obj):\n",
    "        dd = util_dd.DictDot(obj)\n",
    "\n",
    "        return cls(\n",
    "            credentials=dd.credentials,\n",
    "        )\n",
    "\n",
    "    def to_json(self):\n",
    "        return {\"credentials\": self.credentials}"
   ]
  },
  {
   "cell_type": "code",
   "execution_count": null,
   "metadata": {},
   "outputs": [],
   "source": [
    "# | export\n",
    "@dataclass\n",
    "class DomoAccount_Config_DatasetCopy(DomoAccount_Config):\n",
    "    domo_instance: str\n",
    "    access_token: str = field(repr=False)\n",
    "\n",
    "    data_provider_type = \"dataset-copy\"\n",
    "\n",
    "    @classmethod\n",
    "    def _from_json(cls, obj):\n",
    "        dd = util_dd.DictDot(obj)\n",
    "\n",
    "        return cls(access_token=dd.accessToken, domo_instance=dd.instance)\n",
    "\n",
    "    def to_json(self):\n",
    "        return {\"accessToken\": self.access_token, \"instance\": self.domo_instance}\n",
    "\n",
    "\n",
    "@dataclass\n",
    "class DomoAccount_Config_DomoAccessToken(DomoAccount_Config):\n",
    "    data_provider_type = \"domo-access-token\"\n",
    "\n",
    "    domo_access_token: str = field(repr=False, default=None)\n",
    "    username: str = None\n",
    "    password: str = field(repr=False, default=None)\n",
    "\n",
    "    @classmethod\n",
    "    def _from_json(cls, obj):\n",
    "        dd = util_dd.DictDot(obj)\n",
    "\n",
    "        return cls(\n",
    "            domo_access_token=dd.domoAccessToken,\n",
    "            username=dd.username,\n",
    "            password=dd.password,\n",
    "        )\n",
    "\n",
    "    def to_json(self):\n",
    "        return {\n",
    "            \"domoAccessToken\": self.domo_access_token,\n",
    "            \"username\": self.username,\n",
    "            \"password\": self.password,\n",
    "        }"
   ]
  },
  {
   "cell_type": "code",
   "execution_count": null,
   "metadata": {},
   "outputs": [],
   "source": [
    "# | export\n",
    "@dataclass\n",
    "class DomoAccount_Config_Governance(DomoAccount_Config):\n",
    "    domo_instance: str\n",
    "    access_token: str = field(repr=False)\n",
    "\n",
    "    data_provider_type = \"domo-governance-d14c2fef-49a8-4898-8ddd-f64998005600\"\n",
    "\n",
    "    @classmethod\n",
    "    def _from_json(cls, obj):\n",
    "        dd = util_dd.DictDot(obj)\n",
    "\n",
    "        return cls(access_token=dd.apikey, domo_instance=dd.customer)\n",
    "\n",
    "    def to_json(self):\n",
    "        return {\"apikey\": self.access_token, \"customer\": self.domo_instance}"
   ]
  },
  {
   "attachments": {},
   "cell_type": "markdown",
   "metadata": {},
   "source": [
    "## Amazon Connector\n"
   ]
  },
  {
   "cell_type": "code",
   "execution_count": null,
   "metadata": {},
   "outputs": [],
   "source": [
    "# | export\n",
    "@dataclass\n",
    "class DomoAccount_Config_AmazonS3(DomoAccount_Config):\n",
    "    access_key: str\n",
    "    secret_key: str = field(repr=False)\n",
    "    bucket: str\n",
    "    region: str = \"us-west-2\"\n",
    "    data_provider_type = \"amazon-s3\"\n",
    "\n",
    "    @classmethod\n",
    "    def _from_json(cls, obj):\n",
    "        dd = util_dd.DictDot(obj)\n",
    "\n",
    "        return cls(\n",
    "            access_key=dd.accessKey,\n",
    "            secret_key=dd.secretKey,\n",
    "            bucket=dd.bucket,\n",
    "            region=dd.region,\n",
    "        )\n",
    "\n",
    "    def to_json(self):\n",
    "        bucket = self.bucket\n",
    "\n",
    "        if bucket and bucket.lower().startswith(\"s3://\"):\n",
    "            bucket = bucket[5:]\n",
    "            print(\n",
    "                f\"🤦‍♀️- Domo bucket expects string without s3:// prefix. Trimming to '{bucket}' for the output\"\n",
    "            )\n",
    "        return {\n",
    "            \"accessKey\": self.access_key,\n",
    "            \"secretKey\": self.secret_key,\n",
    "            \"bucket\": bucket,\n",
    "            \"region\": self.region,\n",
    "        }"
   ]
  },
  {
   "cell_type": "code",
   "execution_count": null,
   "metadata": {},
   "outputs": [],
   "source": [
    "# | export\n",
    "\n",
    "\n",
    "@dataclass\n",
    "class DomoAccount_Config_AmazonS3Advanced(DomoAccount_Config):\n",
    "    access_key: str\n",
    "    secret_key: str = field(repr=False)\n",
    "    bucket: str\n",
    "    region: str = \"us-west-2\"\n",
    "    data_provider_type = \"amazons3-advanced\"\n",
    "\n",
    "    @classmethod\n",
    "    def _from_json(cls, obj):\n",
    "        dd = util_dd.DictDot(obj)\n",
    "\n",
    "        return cls(\n",
    "            access_key=dd.accessKey,\n",
    "            secret_key=dd.secretKey,\n",
    "            bucket=dd.bucket,\n",
    "            region=dd.region,\n",
    "        )\n",
    "\n",
    "    def to_json(self):\n",
    "        bucket = self.bucket\n",
    "\n",
    "        if bucket and bucket.lower().startswith(\"s3://\"):\n",
    "            bucket = bucket[5:]\n",
    "            print(\n",
    "                f\"🤦‍♀️- Domo bucket expects string without s3:// prefix. Trimming to '{bucket}' for the output\"\n",
    "            )\n",
    "        return {\n",
    "            \"accessKey\": self.access_key,\n",
    "            \"secretKey\": self.secret_key,\n",
    "            \"bucket\": bucket,\n",
    "            \"region\": self.region,\n",
    "        }"
   ]
  },
  {
   "cell_type": "code",
   "execution_count": null,
   "metadata": {},
   "outputs": [],
   "source": [
    "# | export\n",
    "@dataclass\n",
    "class DomoAccount_Config_AwsAthena(DomoAccount_Config):\n",
    "    access_key: str\n",
    "    secret_key: str = field(repr=False)\n",
    "    bucket: str\n",
    "    workgroup: str\n",
    "\n",
    "    region: str = \"us-west-2\"\n",
    "    data_provider_type = \"aws-athena\"\n",
    "\n",
    "    @classmethod\n",
    "    def _from_json(cls, obj):\n",
    "        dd = util_dd.DictDot(obj)\n",
    "\n",
    "        return cls(\n",
    "            access_key=dd.awsAccessKey,\n",
    "            secret_key=dd.awsSecretKey,\n",
    "            bucket=dd.s3StagingDir,\n",
    "            region=dd.region,\n",
    "            workgroup=dd.workgroup,\n",
    "        )\n",
    "\n",
    "    def to_json(self):\n",
    "        return {\n",
    "            \"awsAccessKey\": self.access_key,\n",
    "            \"awsSecretKey\": self.secret_key,\n",
    "            \"s3StagingDir\": self.bucket,\n",
    "            \"region\": self.region,\n",
    "            \"workgroup\": self.workgroup,\n",
    "        }"
   ]
  },
  {
   "cell_type": "code",
   "execution_count": null,
   "metadata": {},
   "outputs": [],
   "source": [
    "# | export\n",
    "@dataclass\n",
    "class DomoAccount_Config_HighBandwidthConnector(DomoAccount_Config):\n",
    "    \"\"\"this connector is not enabled by default contact your CSM / AE\"\"\"\n",
    "\n",
    "    access_key: str\n",
    "    secret_key: str = field(repr=False)\n",
    "    bucket: str\n",
    "\n",
    "    region: str = \"us-west-2\"\n",
    "    data_provider_type = \"amazon-athena-high-bandwidth\"\n",
    "\n",
    "    @classmethod\n",
    "    def _from_json(cls, obj):\n",
    "        dd = util_dd.DictDot(obj)\n",
    "\n",
    "        return cls(\n",
    "            access_key=dd.awsAccessKey,\n",
    "            secret_key=dd.awsSecretKey,\n",
    "            bucket=dd.s3StagingDir,\n",
    "            region=dd.region,\n",
    "        )\n",
    "\n",
    "    def to_json(self):\n",
    "        return {\n",
    "            \"awsAccessKey\": self.access_key,\n",
    "            \"awsSecretKey\": self.secret_key,\n",
    "            \"s3StagingDir\": self.bucket,\n",
    "            \"region\": self.region,\n",
    "        }"
   ]
  },
  {
   "attachments": {},
   "cell_type": "markdown",
   "metadata": {},
   "source": [
    "#### sample domoaccount_config_amazons3\n"
   ]
  },
  {
   "cell_type": "code",
   "execution_count": null,
   "metadata": {},
   "outputs": [
    {
     "name": "stdout",
     "output_type": "stream",
     "text": [
      "🤦‍♀️- Domo bucket expects string without s3:// prefix. Trimming to 'mybucket_string' for the output\n"
     ]
    },
    {
     "data": {
      "text/plain": [
       "{'accessKey': 'abc',\n",
       " 'secretKey': 'abc',\n",
       " 'bucket': 'mybucket_string',\n",
       " 'region': 'us-west-2'}"
      ]
     },
     "execution_count": null,
     "metadata": {},
     "output_type": "execute_result"
    }
   ],
   "source": [
    "account_config = DomoAccount_Config_AmazonS3(\n",
    "    access_key=\"abc\",\n",
    "    secret_key=\"abc\",\n",
    "    bucket=\"s3://mybucket_string\",\n",
    "    region=\"us-west-2\",\n",
    ")\n",
    "\n",
    "account_config.to_json()"
   ]
  },
  {
   "cell_type": "markdown",
   "metadata": {},
   "source": [
    "# Snowflake\n"
   ]
  },
  {
   "cell_type": "code",
   "execution_count": null,
   "metadata": {},
   "outputs": [],
   "source": [
    "# |export\n",
    "@dataclass\n",
    "class DomoAccount_Config_Snowflake(DomoAccount_Config):\n",
    "    \"\"\"this connector is not enabled by default contact your CSM / AE\"\"\"\n",
    "\n",
    "    account: str\n",
    "    username: str\n",
    "    password: str = field(repr=False)\n",
    "    role: str = None\n",
    "\n",
    "    data_provider_type = \"snowflake\"\n",
    "\n",
    "    @classmethod\n",
    "    def _from_json(cls, obj):\n",
    "        dd = util_dd.DictDot(obj)\n",
    "\n",
    "        return cls(\n",
    "            account=dd.account,\n",
    "            username=dd.username,\n",
    "            password=dd.password,\n",
    "            role=dd.role,\n",
    "        )\n",
    "\n",
    "    def to_json(self):\n",
    "        return {\n",
    "            \"account\": self.account,\n",
    "            \"username\": self.username,\n",
    "            \"password\": self.password,\n",
    "            \"role\": self.role,\n",
    "        }"
   ]
  },
  {
   "cell_type": "code",
   "execution_count": null,
   "metadata": {},
   "outputs": [
    {
     "data": {
      "text/plain": [
       "DomoAccount_Config_Snowflake(account='abc', username='doge', role=None)"
      ]
     },
     "execution_count": null,
     "metadata": {},
     "output_type": "execute_result"
    }
   ],
   "source": [
    "DomoAccount_Config_Snowflake._from_json(\n",
    "    {\"account\": \"abc\", \"username\": \"doge\", \"password\": \"test_me\", \"role\": None}\n",
    ")"
   ]
  },
  {
   "cell_type": "code",
   "execution_count": null,
   "metadata": {},
   "outputs": [],
   "source": [
    "# |export\n",
    "@dataclass\n",
    "class DomoAccount_Config_SnowflakeUnload_V2(DomoAccount_Config):\n",
    "    \"\"\"this connector is not enabled by default contact your CSM / AE\"\"\"\n",
    "\n",
    "    account: str\n",
    "    username: str\n",
    "    password: str = field(repr=False)\n",
    "\n",
    "    access_key: str\n",
    "    secret_key: str = field(repr=False)\n",
    "    region: str\n",
    "    bucket: str\n",
    "\n",
    "    role: str = None\n",
    "\n",
    "    data_provider_type = \"snowflake-unload-v2\"\n",
    "\n",
    "    @classmethod\n",
    "    def _from_json(cls, obj):\n",
    "        dd = util_dd.DictDot(obj)\n",
    "\n",
    "        return cls(\n",
    "            account=dd.account,\n",
    "            username=dd.username,\n",
    "            password=dd.password,\n",
    "            access_key=dd.accessKey,\n",
    "            secret_key=dd.secretKey,\n",
    "            bucket=dd.bucket,\n",
    "            region=dd.region,\n",
    "            role=dd.role,\n",
    "        )\n",
    "\n",
    "    def to_json(self):\n",
    "        return {\n",
    "            \"account\": self.account,\n",
    "            \"username\": self.username,\n",
    "            \"password\": self.password,\n",
    "            \"role\": self.role,\n",
    "            \"accessKey\": self.access_key,\n",
    "            \"secretKey\": self.secret_key,\n",
    "            \"bucket\": self.bucket,\n",
    "            \"region\": self.region,\n",
    "        }"
   ]
  },
  {
   "cell_type": "code",
   "execution_count": null,
   "metadata": {},
   "outputs": [
    {
     "data": {
      "text/plain": [
       "{'account': 'abs',\n",
       " 'username': 'username',\n",
       " 'password': 'ab',\n",
       " 'role': None,\n",
       " 'accessKey': 'ab',\n",
       " 'secretKey': 'abc',\n",
       " 'bucket': 'aws_s1',\n",
       " 'region': '123'}"
      ]
     },
     "execution_count": null,
     "metadata": {},
     "output_type": "execute_result"
    }
   ],
   "source": [
    "v = DomoAccount_Config_SnowflakeUnload_V2(\n",
    "    account=\"abs\",\n",
    "    username=\"username\",\n",
    "    password=\"ab\",\n",
    "    access_key=\"ab\",\n",
    "    secret_key=\"abc\",\n",
    "    bucket=\"aws_s1\",\n",
    "    region=\"123\",\n",
    ")\n",
    "\n",
    "v.to_json()"
   ]
  },
  {
   "cell_type": "code",
   "execution_count": null,
   "metadata": {},
   "outputs": [],
   "source": [
    "# | export\n",
    "@dataclass\n",
    "class DomoAccount_Config_SnowflakeUnloadAdvancedPartition(DomoAccount_Config):\n",
    "    password: str = field(repr=False)\n",
    "    account: str\n",
    "    username: str\n",
    "    role: str = None\n",
    "\n",
    "    data_provider_type = \"snowflake-internal-unload-advanced-partition\"\n",
    "\n",
    "    @classmethod\n",
    "    def _from_json(cls, obj):\n",
    "        return cls(\n",
    "            password=obj[\"password\"],\n",
    "            role=obj.get(\"role\"),\n",
    "            account=obj[\"account\"],\n",
    "            username=obj[\"username\"],\n",
    "        )\n",
    "\n",
    "    def to_json(self):\n",
    "        return {\n",
    "            \"password\": self.password,\n",
    "            \"role\": self.role,\n",
    "            \"account\": self.account,\n",
    "            \"username\": self.username,\n",
    "        }"
   ]
  },
  {
   "cell_type": "code",
   "execution_count": null,
   "metadata": {},
   "outputs": [],
   "source": [
    "# | export\n",
    "\n",
    "\n",
    "@dataclass\n",
    "class DomoAccount_Config_SnowflakeWriteback(DomoAccount_Config):\n",
    "    domo_client_secret: str = field(repr=False)\n",
    "    domo_client_id: str\n",
    "    account: str\n",
    "    password: str = field(repr=False)\n",
    "    username: str\n",
    "\n",
    "    data_provider_type = \"snowflake-writeback\"\n",
    "\n",
    "    @classmethod\n",
    "    def _from_json(cls, obj):\n",
    "        return cls(\n",
    "            domo_client_secret=obj[\"domoClientSecret\"],\n",
    "            domo_client_id=obj[\"domoClientId\"],\n",
    "            account=obj[\"account\"],\n",
    "            username=obj[\"username\"],\n",
    "            password=obj[\"password\"],\n",
    "        )\n",
    "\n",
    "    def to_json(self):\n",
    "        return {\n",
    "            \"domoClientSecret\": self.domo_client_secret,\n",
    "            \"password\": self.password,\n",
    "            \"domoClientId\": self.domo_client_id,\n",
    "            \"account\": self.account,\n",
    "            \"username\": self.username,\n",
    "        }"
   ]
  },
  {
   "cell_type": "code",
   "execution_count": null,
   "metadata": {},
   "outputs": [],
   "source": [
    "# | export\n",
    "\n",
    "\n",
    "@dataclass\n",
    "class DomoAccount_Config_SnowflakeUnload(DomoAccount_Config):\n",
    "    secret_key: str = field(repr=False)\n",
    "    access_key: str\n",
    "    account: str\n",
    "    password: str = field(repr=False)\n",
    "    username: str\n",
    "    bucket: str\n",
    "\n",
    "    data_provider_type = \"snowflake-unload\"\n",
    "\n",
    "    @classmethod\n",
    "    def _from_json(cls, obj):\n",
    "        return cls(\n",
    "            secret_key=obj[\"secretKey\"],\n",
    "            access_key=obj[\"accessKey\"],\n",
    "            account=obj[\"account\"],\n",
    "            username=obj[\"username\"],\n",
    "            password=obj[\"password\"],\n",
    "            bucket=obj[\"bucket\"],\n",
    "        )\n",
    "\n",
    "    def to_json(self):\n",
    "        return {\n",
    "            \"bucket\": self.bucket,\n",
    "            \"password\": self.password,\n",
    "            \"secretKey\": self.secret_key,\n",
    "            \"accessKey\": self.access_key,\n",
    "            \"account\": self.account,\n",
    "            \"username\": self.username,\n",
    "        }"
   ]
  },
  {
   "cell_type": "code",
   "execution_count": null,
   "metadata": {},
   "outputs": [],
   "source": [
    "# | export\n",
    "\n",
    "\n",
    "@dataclass\n",
    "class DomoAccount_Config_SnowflakeFederated(DomoAccount_Config):\n",
    "    password: str = field(repr=False)\n",
    "    host: str\n",
    "    warehouse: str\n",
    "    username: str\n",
    "    port: str = None\n",
    "    role: str = None\n",
    "\n",
    "    data_provider_type = \"snowflake-federated\"\n",
    "\n",
    "    @classmethod\n",
    "    def _from_json(cls, obj):\n",
    "        return cls(\n",
    "            password=obj[\"password\"],\n",
    "            host=obj[\"host\"],\n",
    "            warehouse=obj[\"warehouse\"],\n",
    "            username=obj[\"user\"],\n",
    "            role=obj.get(\"role\"),\n",
    "            port=obj.get(\"port\"),\n",
    "        )\n",
    "\n",
    "    def to_json(self):\n",
    "        return {\n",
    "            \"password\": self.password,\n",
    "            \"port\": self.port,\n",
    "            \"host\": self.host,\n",
    "            \"warehouse\": self.warehouse,\n",
    "            \"user\": self.username,\n",
    "            \"role\": self.role,\n",
    "        }"
   ]
  },
  {
   "cell_type": "code",
   "execution_count": null,
   "metadata": {},
   "outputs": [],
   "source": [
    "# | export\n",
    "@dataclass\n",
    "class DomoAccount_Config_SnowflakeInternalUnload(DomoAccount_Config):\n",
    "    password: str = field(repr=False)\n",
    "    account: str\n",
    "    username: str\n",
    "    role: str = None\n",
    "    data_provider_type = \"snowflake-internal-unload\"\n",
    "\n",
    "    @classmethod\n",
    "    def _from_json(cls, obj):\n",
    "        return cls(\n",
    "            password=obj[\"password\"],\n",
    "            role=obj.get(\"role\"),\n",
    "            account=obj[\"account\"],\n",
    "            username=obj[\"username\"],\n",
    "        )\n",
    "\n",
    "    def to_json(self):\n",
    "        return {\n",
    "            \"password\": self.password,\n",
    "            \"role\": self.role,\n",
    "            \"account\": self.account,\n",
    "            \"username\": self.username,\n",
    "        }"
   ]
  },
  {
   "cell_type": "code",
   "execution_count": null,
   "metadata": {},
   "outputs": [],
   "source": [
    "# | export\n",
    "@dataclass\n",
    "class DomoAccount_Config_SnowflakeKeyPairAuthentication(DomoAccount_Config):\n",
    "    private_key: str = field(repr=False)\n",
    "    account: str = field(repr=False)\n",
    "    passphrase: str = field(repr=False)\n",
    "    username: str\n",
    "    role: str = None\n",
    "    data_provider_type = \"snowflakekeypairauthentication\"\n",
    "\n",
    "    @classmethod\n",
    "    def _from_json(cls, obj):\n",
    "        return cls(\n",
    "            private_key=obj[\"privateKey\"],\n",
    "            role=obj.get(\"role\"),\n",
    "            account=obj[\"account\"],\n",
    "            username=obj[\"username\"],\n",
    "            passphrase=obj[\"passPhrase\"],\n",
    "        )\n",
    "\n",
    "    def to_json(self):\n",
    "        return {\n",
    "            \"privateKey\": self.private_key,\n",
    "            \"role\": self.role,\n",
    "            \"account\": self.account,\n",
    "            \"username\": self.username,\n",
    "            \"passPhrase\": self.passphrase,\n",
    "        }"
   ]
  },
  {
   "cell_type": "code",
   "execution_count": null,
   "metadata": {},
   "outputs": [],
   "source": [
    "# | export\n",
    "\n",
    "\n",
    "class AccountConfig(Enum):\n",
    "    \"\"\"\n",
    "    Enum provides appropriate spelling for data_provider_type and config object.\n",
    "    The name of the enum should correspond with the data_provider_type with hyphens replaced with underscores.\n",
    "    \"\"\"\n",
    "\n",
    "    abstract_credential_store = DomoAccount_Config_AbstractCredential\n",
    "    dataset_copy = DomoAccount_Config_DatasetCopy\n",
    "    domo_access_token = DomoAccount_Config_DomoAccessToken\n",
    "    domo_governance_d14c2fef_49a8_4898_8ddd_f64998005600 = DomoAccount_Config_Governance\n",
    "    aws_athena = DomoAccount_Config_AwsAthena\n",
    "    amazon_athena_high_bandwidth = DomoAccount_Config_HighBandwidthConnector\n",
    "    amazon_s3 = DomoAccount_Config_AmazonS3\n",
    "    amazons3_advanced = DomoAccount_Config_AmazonS3Advanced\n",
    "\n",
    "    snowflake = DomoAccount_Config_Snowflake\n",
    "\n",
    "    snowflake_unload = DomoAccount_Config_SnowflakeUnload\n",
    "    snowflake_unload_v2 = DomoAccount_Config_SnowflakeUnload_V2\n",
    "\n",
    "    snowflake_internal_unload_advanced_partition = (\n",
    "        DomoAccount_Config_SnowflakeUnloadAdvancedPartition\n",
    "    )\n",
    "\n",
    "    snowflake_internal_unload = DomoAccount_Config_SnowflakeInternalUnload\n",
    "\n",
    "    snowflakekeypairauthentication = DomoAccount_Config_SnowflakeKeyPairAuthentication\n",
    "\n",
    "    snowflake_writeback = DomoAccount_Config_SnowflakeWriteback\n",
    "    snowflake_federated = DomoAccount_Config_SnowflakeFederated\n",
    "\n",
    "    _uses_oauth = [\"google_spreadsheets\"]\n",
    "\n",
    "    _config_oauth = DomoAccount_NoConfig_OAuth\n",
    "    _config_notdefined = DomoAccount_NoConfig\n",
    "\n",
    "    @classmethod\n",
    "    def _test_altname_search(cls, raw_value):\n",
    "        alt_search_str = raw_value.lower().replace(\"-\", \"_\")\n",
    "\n",
    "        alt_search = next(\n",
    "            (member for member in cls if member.name == alt_search_str), None\n",
    "        )\n",
    "\n",
    "        ## best case scenario alt_search yields a result\n",
    "        if alt_search:\n",
    "            return alt_search\n",
    "\n",
    "        ## second best case, display_type is an oauth and therefore has mo matching config\n",
    "        oauth_match = next(\n",
    "            (\n",
    "                oauth_str\n",
    "                for oauth_str in cls._uses_oauth.value\n",
    "                if oauth_str == alt_search_str\n",
    "            ),\n",
    "            None,\n",
    "        )\n",
    "        if oauth_match:\n",
    "            raise AccountConfig_UsesOauth(raw_value)\n",
    "\n",
    "        ## worst case, unencountered display_type\n",
    "        raise AccountConfig_ProviderTypeNotDefined(raw_value)\n",
    "\n",
    "    @classmethod\n",
    "    def _missing_(cls, value):\n",
    "        try:\n",
    "            return cls._test_altname_search(value)\n",
    "\n",
    "        except AccountConfig_UsesOauth as e:\n",
    "            print(e)\n",
    "            return cls._config_oauth\n",
    "\n",
    "        except AccountConfig_ProviderTypeNotDefined as e:\n",
    "            print(e)\n",
    "            return cls._config_notdefined"
   ]
  },
  {
   "cell_type": "code",
   "execution_count": null,
   "metadata": {},
   "outputs": [
    {
     "data": {
      "text/plain": [
       "['abstract_credential_store',\n",
       " 'dataset_copy',\n",
       " 'domo_access_token',\n",
       " 'domo_governance_d14c2fef_49a8_4898_8ddd_f64998005600',\n",
       " 'aws_athena',\n",
       " 'amazon_athena_high_bandwidth',\n",
       " 'amazon_s3',\n",
       " 'amazons3_advanced',\n",
       " 'snowflake',\n",
       " 'snowflake_unload',\n",
       " 'snowflake_unload_v2',\n",
       " 'snowflake_internal_unload_advanced_partition',\n",
       " 'snowflake_internal_unload',\n",
       " 'snowflakekeypairauthentication',\n",
       " 'snowflake_writeback',\n",
       " 'snowflake_federated',\n",
       " '_uses_oauth',\n",
       " '_config_oauth',\n",
       " '_config_notdefined']"
      ]
     },
     "execution_count": null,
     "metadata": {},
     "output_type": "execute_result"
    }
   ],
   "source": [
    "[member.name for member in AccountConfig]"
   ]
  },
  {
   "cell_type": "markdown",
   "metadata": {},
   "source": [
    "the `_missing_` dunder method will return the results of an alternative search if it can match\n"
   ]
  },
  {
   "cell_type": "code",
   "execution_count": null,
   "metadata": {},
   "outputs": [
    {
     "data": {
      "text/plain": [
       "DomoAccount_Config_AbstractCredential(credentials='abc123')"
      ]
     },
     "execution_count": null,
     "metadata": {},
     "output_type": "execute_result"
    }
   ],
   "source": [
    "config_fn = AccountConfig(\"ABSTRACT-CREDENTIAL-STORE\").value\n",
    "config_fn(credentials=\"abc123\")"
   ]
  },
  {
   "cell_type": "markdown",
   "metadata": {},
   "source": [
    "the `_missing_` dunder method will also check if the account type uses OAauth in which case it raises an Error which can be captured and dealth with in class methods downstream\n"
   ]
  },
  {
   "cell_type": "code",
   "execution_count": null,
   "metadata": {},
   "outputs": [
    {
     "name": "stdout",
     "output_type": "stream",
     "text": [
      "data provider type google-spreadsheets uses OAuth and therefore wouldn't return a Config object\n"
     ]
    },
    {
     "data": {
      "text/plain": [
       "<AccountConfig._config_oauth: <class '__main__.DomoAccount_NoConfig_OAuth'>>"
      ]
     },
     "execution_count": null,
     "metadata": {},
     "output_type": "execute_result"
    }
   ],
   "source": [
    "AccountConfig(\"google-spreadsheets\")"
   ]
  },
  {
   "cell_type": "markdown",
   "metadata": {},
   "source": [
    "the `_missing_` dunder method will throw an error if the config has not been accounted\n"
   ]
  },
  {
   "cell_type": "code",
   "execution_count": null,
   "metadata": {},
   "outputs": [
    {
     "name": "stdout",
     "output_type": "stream",
     "text": [
      "data provider type abc not defined yet. Extend the AccountConfig class\n"
     ]
    },
    {
     "data": {
      "text/plain": [
       "<AccountConfig._config_notdefined: <class '__main__.DomoAccount_NoConfig'>>"
      ]
     },
     "execution_count": null,
     "metadata": {},
     "output_type": "execute_result"
    }
   ],
   "source": [
    "AccountConfig(\"abc\")"
   ]
  },
  {
   "cell_type": "code",
   "execution_count": null,
   "metadata": {},
   "outputs": [],
   "source": [
    "# | hide\n",
    "import nbdev\n",
    "\n",
    "nbdev.nbdev_export()"
   ]
  }
 ],
 "metadata": {
  "jupytext": {
   "split_at_heading": true
  },
  "kernelspec": {
   "display_name": "python3",
   "language": "python",
   "name": "python3"
  },
  "language_info": {
   "name": "python",
   "version": "3.10.12"
  }
 },
 "nbformat": 4,
 "nbformat_minor": 4
}
