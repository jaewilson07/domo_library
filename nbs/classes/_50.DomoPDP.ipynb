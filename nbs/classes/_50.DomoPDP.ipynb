{
  "cells": [
    {
      "cell_type": "raw",
      "metadata": {},
      "source": [
        "---\n",
        "output-file: pdp_class.html\n",
        "title: Domo PDP\n",
        "\n",
        "---\n",
        "\n"
      ]
    },
    {
      "cell_type": "code",
      "execution_count": 1,
      "metadata": {},
      "outputs": [],
      "source": [
        "#| default_exp classes.DomoPDP"
      ]
    },
    {
      "cell_type": "code",
      "execution_count": 5,
      "metadata": {},
      "outputs": [],
      "source": [
        "#| exporti\n",
        "import asyncio\n",
        "import datetime as dt\n",
        "import io\n",
        "import json\n",
        "from dataclasses import dataclass, field\n",
        "from enum import Enum, auto\n",
        "\n",
        "from fastcore.basics import patch_to\n",
        "\n",
        "import httpx\n",
        "import pandas as pd\n",
        "\n",
        "#from ..utils.chunk_execution import chunk_list\n",
        "#from ..utils.DictDot import DictDot\n",
        "import domolibrary.utils.DictDot as util_dd\n",
        "#from . import DomoCertification as dmdc\n",
        "#from .DomoAuth import DomoDeveloperAuth, DomoFullAuth\n",
        "import domolibrary.client.DomoAuth as dmda\n",
        "#from .routes import pdp_routes\n",
        "import domolibrary.routes.pdp as pdp_routes"
      ]
    },
    {
      "cell_type": "code",
      "execution_count": 6,
      "metadata": {},
      "outputs": [],
      "source": [
        "#| export\n",
        "@dataclass\n",
        "class PDP_Policy():\n",
        "    dataset_id: str\n",
        "    filter_group_id: str\n",
        "    name: str\n",
        "    resources: list\n",
        "    parameters: list\n",
        "\n",
        "    @classmethod\n",
        "    def _from_json(cls, obj):\n",
        "        dd = util_dd.DictDot(obj)\n",
        "\n",
        "        return cls(dataset_id=dd.dataSourceId,\n",
        "                   filter_group_id=dd.filterGroupId,\n",
        "                   name=dd.name,\n",
        "                   resources=dd.resources,\n",
        "                   parameters=dd.parameters)\n",
        "\n",
        "    @staticmethod\n",
        "    def generate_parameter_simple(column_name, column_values_list, operator='EQUALS', ignore_case: bool = True):\n",
        "        return pdp_routes.generate_policy_parameter_simple(column_name=column_name,\n",
        "                                                           column_values_list=column_values_list,\n",
        "                                                           operator=operator,\n",
        "                                                           ignore_case=ignore_case)\n",
        "\n",
        "    @staticmethod\n",
        "    def generate_body(policy_name, dataset_id, parameters_list, policy_id=None, user_ids=None, group_ids=None, virtual_user_ids=None):\n",
        "        return pdp_routes.generate_policy_body(policy_name=policy_name,\n",
        "                                               dataset_id=dataset_id,\n",
        "                                               parameters_list=parameters_list,\n",
        "                                               policy_id=policy_id,\n",
        "                                               user_ids=user_ids,\n",
        "                                               group_ids=group_ids,\n",
        "                                               virtual_user_ids=virtual_user_ids)\n",
        "\n",
        "    @classmethod\n",
        "    async def upsert_policy(cls, \n",
        "                            auth: dmda.DomoAuth,\n",
        "                            dataset_id: str,\n",
        "                            policy_definition: dict, # body sent to the API (uses camelCase instead of snake_case)\n",
        "                            debug_api: bool = False,\n",
        "                            debug_prn: bool = False\n",
        "                            ):\n",
        "        \n",
        "        print(policy_definition)\n",
        "        \n",
        "        if policy_definition.get('filterGroupId'):\n",
        "            if debug_prn:\n",
        "                print(f'Updating policy in {auth.domo_instance}')    \n",
        "            res = await pdp_routes.update_policy(auth=auth,\n",
        "                                                 dataset_id=dataset_id,\n",
        "                                                 filter_group_id=policy_definition.get(\n",
        "                                                     'filterGroupId'),\n",
        "                                                 body=policy_definition,\n",
        "                                                 debug_api=debug_api)\n",
        "            return cls._from_json(res.response)\n",
        "        else:\n",
        "            if debug_prn:\n",
        "                print(f'Policy does not exist. Creating policy in {auth.domo_instance}')\n",
        "            res = await pdp_routes.create_policy(auth=auth,\n",
        "                                                 dataset_id=dataset_id,\n",
        "                                                 body=policy_definition,\n",
        "                                                 debug_api=debug_api)\n",
        "\n",
        "            return cls._from_json(res.response)\n",
        "    "
      ]
    },
    {
      "attachments": {},
      "cell_type": "markdown",
      "metadata": {},
      "source": [
        "#### sample implementation of upsert_policy"
      ]
    },
    {
      "cell_type": "code",
      "execution_count": 7,
      "metadata": {},
      "outputs": [
        {
          "ename": "TypeError",
          "evalue": "PDP_Policy.__init__() missing 2 required positional arguments: 'resources' and 'parameters'",
          "output_type": "error",
          "traceback": [
            "\u001b[0;31m---------------------------------------------------------------------------\u001b[0m",
            "\u001b[0;31mTypeError\u001b[0m                                 Traceback (most recent call last)",
            "Cell \u001b[0;32mIn[7], line 8\u001b[0m\n\u001b[1;32m      1\u001b[0m \u001b[39mimport\u001b[39;00m \u001b[39mos\u001b[39;00m\n\u001b[1;32m      3\u001b[0m token_auth \u001b[39m=\u001b[39m dmda\u001b[39m.\u001b[39mDomoTokenAuth(\n\u001b[1;32m      4\u001b[0m     domo_instance\u001b[39m=\u001b[39m\u001b[39m\"\u001b[39m\u001b[39mdomo-community\u001b[39m\u001b[39m\"\u001b[39m,\n\u001b[1;32m      5\u001b[0m     domo_access_token\u001b[39m=\u001b[39mos\u001b[39m.\u001b[39menviron[\u001b[39m\"\u001b[39m\u001b[39mDOMO_DOJO_ACCESS_TOKEN\u001b[39m\u001b[39m\"\u001b[39m]\n\u001b[1;32m      6\u001b[0m )\n\u001b[0;32m----> 8\u001b[0m pdp_policy \u001b[39m=\u001b[39m PDP_Policy(\n\u001b[1;32m      9\u001b[0m     dataset_id\u001b[39m=\u001b[39;49mos\u001b[39m.\u001b[39;49menviron[\u001b[39m\"\u001b[39;49m\u001b[39mDOJO_DATASET_ID\u001b[39;49m\u001b[39m\"\u001b[39;49m],\n\u001b[1;32m     10\u001b[0m     filter_group_id\u001b[39m=\u001b[39;49m \u001b[39m'\u001b[39;49m\u001b[39m1153\u001b[39;49m\u001b[39m'\u001b[39;49m,\n\u001b[1;32m     11\u001b[0m     name\u001b[39m=\u001b[39;49m \u001b[39m'\u001b[39;49m\u001b[39mTest Policy Name Employee 123\u001b[39;49m\u001b[39m'\u001b[39;49m\n\u001b[1;32m     12\u001b[0m )\n",
            "\u001b[0;31mTypeError\u001b[0m: PDP_Policy.__init__() missing 2 required positional arguments: 'resources' and 'parameters'"
          ]
        }
      ],
      "source": [
        "import os\n",
        "\n",
        "token_auth = dmda.DomoTokenAuth(\n",
        "    domo_instance=\"domo-community\",\n",
        "    domo_access_token=os.environ[\"DOMO_DOJO_ACCESS_TOKEN\"]\n",
        ")\n",
        "\n",
        "pdp_policy = PDP_Policy(\n",
        "    dataset_id=os.environ[\"DOJO_DATASET_ID\"],\n",
        "    filter_group_id= '1153',\n",
        "    name= 'Test Policy Name Employee 123'\n",
        ")\n"
      ]
    },
    {
      "cell_type": "code",
      "execution_count": null,
      "metadata": {},
      "outputs": [],
      "source": [
        "#| export\n",
        "class Dataset_PDP_Policies:\n",
        "\n",
        "    dataset: dict  # domo dataset class\n",
        "    policies: list[PDP_Policy] = None  \n",
        "\n",
        "    def __init__(self, dataset):\n",
        "        self.dataset = dataset\n",
        "        self.policies = []\n",
        "\n",
        "    async def get_policies(self, full_auth: DomoFullAuth = None, dataset_id: str = None, debug: bool = False):\n",
        "\n",
        "        dataset_id = dataset_id or self.dataset.id\n",
        "        full_auth = full_auth or self.dataset.full_auth\n",
        "\n",
        "        res = await pdp_routes.get_pdp_policies(full_auth=full_auth, dataset_id=dataset_id, debug=debug)\n",
        "\n",
        "        if debug:\n",
        "            print(\"debug\")\n",
        "            print(res.status)\n",
        "            print(res.response)\n",
        "\n",
        "        if res.status == 200:\n",
        "            domo_policy = [PDP_Policy._from_json(\n",
        "                policy_obj) for policy_obj in res.response]\n",
        "            self.policies = domo_policy\n",
        "            return domo_policy"
      ]
    }
  ],
  "metadata": {
    "jupytext": {
      "split_at_heading": true
    },
    "kernelspec": {
      "display_name": "Python 3",
      "language": "python",
      "name": "python3"
    },
    "language_info": {
      "codemirror_mode": {
        "name": "ipython",
        "version": 3
      },
      "file_extension": ".py",
      "mimetype": "text/x-python",
      "name": "python",
      "nbconvert_exporter": "python",
      "pygments_lexer": "ipython3",
      "version": "3.10.4"
    }
  },
  "nbformat": 4,
  "nbformat_minor": 4
}
