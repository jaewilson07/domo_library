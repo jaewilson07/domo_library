{
  "cells": [
    {
      "cell_type": "raw",
      "metadata": {},
      "source": [
        "---\n",
        "output-file: pdp_class.html\n",
        "title: Domo PDP\n",
        "\n",
        "---\n",
        "\n"
      ]
    },
    {
      "cell_type": "code",
      "execution_count": 1,
      "metadata": {},
      "outputs": [],
      "source": [
        "#| default_exp classes.DomoPDP"
      ]
    },
    {
      "cell_type": "code",
      "execution_count": 2,
      "metadata": {},
      "outputs": [],
      "source": [
        "#| exporti\n",
        "import asyncio\n",
        "import datetime as dt\n",
        "import io\n",
        "import json\n",
        "from dataclasses import dataclass, field\n",
        "from enum import Enum, auto\n",
        "\n",
        "from fastcore.basics import patch_to\n",
        "\n",
        "import httpx\n",
        "import pandas as pd\n",
        "\n",
        "#from ..utils.chunk_execution import chunk_list\n",
        "#from ..utils.DictDot import DictDot\n",
        "import domolibrary.utils.DictDot as util_dd\n",
        "#from . import DomoCertification as dmdc\n",
        "#from .DomoAuth import DomoDeveloperAuth, DomoFullAuth\n",
        "import domolibrary.client.DomoAuth as dmda\n",
        "#from .routes import pdp_routes\n",
        "import domolibrary.routes.pdp as pdp_routes"
      ]
    },
    {
      "cell_type": "code",
      "execution_count": 3,
      "metadata": {},
      "outputs": [],
      "source": [
        "#| export\n",
        "@dataclass\n",
        "class PDP_Policy():\n",
        "    dataset_id: str\n",
        "    filter_group_id: str\n",
        "    name: str\n",
        "    resources: list\n",
        "    parameters: list\n",
        "\n",
        "    @classmethod\n",
        "    def _from_json(cls, obj):\n",
        "        dd = util_dd.DictDot(obj)\n",
        "\n",
        "        return cls(dataset_id=dd.dataSourceId,\n",
        "                   filter_group_id=dd.filterGroupId,\n",
        "                   name=dd.name,\n",
        "                   resources=dd.resources,\n",
        "                   parameters=dd.parameters)\n",
        "\n",
        "    @staticmethod\n",
        "    def generate_parameter_simple(column_name, column_values_list, operator='EQUALS', ignore_case: bool = True):\n",
        "        return pdp_routes.generate_policy_parameter_simple(column_name=column_name,\n",
        "                                                           column_values_list=column_values_list,\n",
        "                                                           operator=operator,\n",
        "                                                           ignore_case=ignore_case)\n",
        "\n",
        "    @staticmethod\n",
        "    def generate_body(policy_name, dataset_id, parameters_list, policy_id=None, user_ids=None, group_ids=None, virtual_user_ids=None):\n",
        "        return pdp_routes.generate_policy_body(policy_name=policy_name,\n",
        "                                               dataset_id=dataset_id,\n",
        "                                               parameters_list=parameters_list,\n",
        "                                               policy_id=policy_id,\n",
        "                                               user_ids=user_ids,\n",
        "                                               group_ids=group_ids,\n",
        "                                               virtual_user_ids=virtual_user_ids)\n",
        "\n",
        "    @classmethod\n",
        "    async def upsert_policy(cls, \n",
        "                            auth: dmda.DomoAuth,\n",
        "                            dataset_id: str,\n",
        "                            policy_definition: dict, # body sent to the API (uses camelCase instead of snake_case)\n",
        "                            debug_api: bool = False,\n",
        "                            debug_prn: bool = False\n",
        "                            ):\n",
        "        \n",
        "        print(policy_definition)\n",
        "        \n",
        "        if policy_definition.get('filterGroupId'):\n",
        "            if debug_prn:\n",
        "                print(f'Updating policy in {auth.domo_instance}')    \n",
        "            res = await pdp_routes.update_policy(auth=auth,\n",
        "                                                 dataset_id=dataset_id,\n",
        "                                                 filter_group_id=policy_definition.get(\n",
        "                                                     'filterGroupId'),\n",
        "                                                 body=policy_definition,\n",
        "                                                 debug_api=debug_api)\n",
        "            return cls._from_json(res.response)\n",
        "        else:\n",
        "            if debug_prn:\n",
        "                print(f'Policy does not exist. Creating policy in {auth.domo_instance}')\n",
        "            res = await pdp_routes.create_policy(auth=auth,\n",
        "                                                 dataset_id=dataset_id,\n",
        "                                                 body=policy_definition,\n",
        "                                                 debug_api=debug_api)\n",
        "\n",
        "            return cls._from_json(res.response)\n",
        "    "
      ]
    },
    {
      "cell_type": "code",
      "execution_count": 4,
      "metadata": {},
      "outputs": [],
      "source": [
        "#| export\n",
        "class Dataset_PDP_Policies:\n",
        "\n",
        "    dataset: dict  # domo dataset class\n",
        "    policies: list[PDP_Policy] = None  \n",
        "\n",
        "    def __init__(self, dataset):\n",
        "        self.dataset = dataset\n",
        "        self.policies = []\n",
        "\n",
        "    async def get_policies(self, \n",
        "                           auth: dmda.DomoAuth = None, \n",
        "                           dataset_id: str = None, \n",
        "                           debug_api: bool = False):\n",
        "\n",
        "        dataset_id = dataset_id or self.dataset.id\n",
        "        auth = auth or self.dataset.auth\n",
        "\n",
        "        res = await pdp_routes.get_pdp_policies(auth=auth, dataset_id=dataset_id, debug_api=debug_api)\n",
        "\n",
        "        if debug_api:\n",
        "            print(\"debug\")\n",
        "            print(res.status)\n",
        "            print(res.response)\n",
        "\n",
        "        if res.status == 200:\n",
        "            domo_policy = [PDP_Policy._from_json(\n",
        "                policy_obj) for policy_obj in res.response]\n",
        "            self.policies = domo_policy\n",
        "            return domo_policy"
      ]
    },
    {
      "cell_type": "code",
      "execution_count": null,
      "metadata": {},
      "outputs": [],
      "source": [
        "#| export\n",
        "@patch_to(Dataset_PDP_Policies, cls_method=True)\n"
      ]
    },
    {
      "attachments": {},
      "cell_type": "markdown",
      "metadata": {},
      "source": [
        "### sample implementation of get_policies and upsert_policy"
      ]
    },
    {
      "cell_type": "code",
      "execution_count": 5,
      "metadata": {},
      "outputs": [],
      "source": [
        "import os\n",
        "\n",
        "token_auth = dmda.DomoTokenAuth(\n",
        "    domo_instance=\"domo-community\",\n",
        "    domo_access_token=os.environ[\"DOMO_DOJO_ACCESS_TOKEN\"]\n",
        ")\n"
      ]
    },
    {
      "cell_type": "code",
      "execution_count": 6,
      "metadata": {},
      "outputs": [
        {
          "data": {
            "text/plain": [
              "[PDP_Policy(dataset_id='0e7f7755-eccc-4612-890c-c3dc3d5002c3', filter_group_id=1153, name='Test Policy Name Employee 123', resources=None, parameters=[DictDot(name='Employee ID', value='456', values=['456'], type='COLUMN', operator='EQUALS', not=False, ignoreCase=True)]),\n",
              " PDP_Policy(dataset_id='0e7f7755-eccc-4612-890c-c3dc3d5002c3', filter_group_id=1156, name='Test 456', resources=DictDot(USER=['2072616249']), parameters=[DictDot(name='Employee ID', value='465', values=['465'], type='COLUMN', operator='EQUALS', not=False, ignoreCase=False)]),\n",
              " PDP_Policy(dataset_id='0e7f7755-eccc-4612-890c-c3dc3d5002c3', filter_group_id=1157, name='Test 94', resources=DictDot(USER=['1893952720']), parameters=[DictDot(name='Employee ID', value='465', values=['465'], type='COLUMN', operator='EQUALS', not=False, ignoreCase=False), DictDot(name='Customer ID', value='8978', values=['8978'], type='COLUMN', operator='EQUALS', not=False, ignoreCase=False)]),\n",
              " PDP_Policy(dataset_id='0e7f7755-eccc-4612-890c-c3dc3d5002c3', filter_group_id=1159, name='Test Policy Name Employee 1234', resources=DictDot(USER=['1893952720']), parameters=[DictDot(name='Employee ID', value='1234', values=['1234'], type='COLUMN', operator='EQUALS', not=False, ignoreCase=True)]),\n",
              " PDP_Policy(dataset_id='0e7f7755-eccc-4612-890c-c3dc3d5002c3', filter_group_id=1160, name='Test Policy Name Employee 1234', resources=DictDot(USER=['1893952720']), parameters=[DictDot(name='Employee ID', value='1234', values=['1234'], type='COLUMN', operator='EQUALS', not=False, ignoreCase=True)])]"
            ]
          },
          "execution_count": 6,
          "metadata": {},
          "output_type": "execute_result"
        }
      ],
      "source": [
        "import domolibrary.classes.DomoDataset as dmd\n",
        "\n",
        "dataset_id = os.environ[\"DOJO_DATASET_ID\"]\n",
        "dataset_pdp_policies = Dataset_PDP_Policies(dataset=dmd.DomoDataset(auth=token_auth, id=dataset_id))\n",
        "await dataset_pdp_policies.get_policies()\n"
      ]
    },
    {
      "cell_type": "code",
      "execution_count": 19,
      "metadata": {},
      "outputs": [
        {
          "name": "stdout",
          "output_type": "stream",
          "text": [
            "1153\n",
            "1156\n",
            "1157\n",
            "1159\n",
            "1160\n"
          ]
        }
      ],
      "source": [
        "select_policy = policy for policy in dataset_pdp_policies \n",
        "for policy in dataset_pdp_policies.policies:\n",
        "    print(policy.filter_group_id)"
      ]
    },
    {
      "cell_type": "code",
      "execution_count": 20,
      "metadata": {},
      "outputs": [
        {
          "ename": "AttributeError",
          "evalue": "'list' object has no attribute 'generate_policy_parameter_simple'",
          "output_type": "error",
          "traceback": [
            "\u001b[0;31m---------------------------------------------------------------------------\u001b[0m",
            "\u001b[0;31mAttributeError\u001b[0m                            Traceback (most recent call last)",
            "Cell \u001b[0;32mIn[20], line 1\u001b[0m\n\u001b[0;32m----> 1\u001b[0m sample_parameter \u001b[39m=\u001b[39m dataset_pdp_policies\u001b[39m.\u001b[39;49mpolicies\u001b[39m.\u001b[39;49mgenerate_policy_parameter_simple(\n\u001b[1;32m      2\u001b[0m     column_name\u001b[39m=\u001b[39m\u001b[39m\"\u001b[39m\u001b[39mEmployee ID\u001b[39m\u001b[39m\"\u001b[39m,\n\u001b[1;32m      3\u001b[0m     column_values_ls\u001b[39m=\u001b[39m[\u001b[39m'\u001b[39m\u001b[39m456\u001b[39m\u001b[39m'\u001b[39m],\n\u001b[1;32m      4\u001b[0m     operator\u001b[39m=\u001b[39m\u001b[39m\"\u001b[39m\u001b[39mEQUALS\u001b[39m\u001b[39m\"\u001b[39m,\n\u001b[1;32m      5\u001b[0m     ignore_case\u001b[39m=\u001b[39m\u001b[39mTrue\u001b[39;00m,\n\u001b[1;32m      6\u001b[0m )\n\u001b[1;32m      8\u001b[0m body \u001b[39m=\u001b[39m dataset_pdp_policies\u001b[39m.\u001b[39mpolicies\u001b[39m.\u001b[39mgenerate_policy_body(\n\u001b[1;32m      9\u001b[0m     policy_name\u001b[39m=\u001b[39m\u001b[39m\"\u001b[39m\u001b[39mTest Policy Name Employee 4567\u001b[39m\u001b[39m\"\u001b[39m,\n\u001b[1;32m     10\u001b[0m     dataset_id \u001b[39m=\u001b[39m dataset_id,\n\u001b[0;32m   (...)\u001b[0m\n\u001b[1;32m     13\u001b[0m     user_ids\u001b[39m=\u001b[39m[\u001b[39m'\u001b[39m\u001b[39m1893952720\u001b[39m\u001b[39m'\u001b[39m]\n\u001b[1;32m     14\u001b[0m )\n",
            "\u001b[0;31mAttributeError\u001b[0m: 'list' object has no attribute 'generate_policy_parameter_simple'"
          ]
        }
      ],
      "source": [
        "sample_parameter = dataset_pdp_policies.policies.generate_policy_parameter_simple(\n",
        "    column_name=\"Employee ID\",\n",
        "    column_values_ls=['456'],\n",
        "    operator=\"EQUALS\",\n",
        "    ignore_case=True,\n",
        ")\n",
        "\n",
        "body = dataset_pdp_policies.policies.generate_policy_body(\n",
        "    policy_name=\"Test Policy Name Employee 4567\",\n",
        "    dataset_id = dataset_id,\n",
        "    policy_id=None,  # including the policy_id updates that existing policy\n",
        "    parameters_ls=sample_parameter,\n",
        "    user_ids=['1893952720']\n",
        ")"
      ]
    },
    {
      "cell_type": "code",
      "execution_count": 7,
      "metadata": {},
      "outputs": [],
      "source": [
        "#await PDP_Policy.upsert_policy()"
      ]
    },
    {
      "cell_type": "code",
      "execution_count": null,
      "metadata": {},
      "outputs": [],
      "source": []
    }
  ],
  "metadata": {
    "jupytext": {
      "split_at_heading": true
    },
    "kernelspec": {
      "display_name": "Python 3",
      "language": "python",
      "name": "python3"
    },
    "language_info": {
      "codemirror_mode": {
        "name": "ipython",
        "version": 3
      },
      "file_extension": ".py",
      "mimetype": "text/x-python",
      "name": "python",
      "nbconvert_exporter": "python",
      "pygments_lexer": "ipython3",
      "version": "3.10.4"
    }
  },
  "nbformat": 4,
  "nbformat_minor": 4
}
