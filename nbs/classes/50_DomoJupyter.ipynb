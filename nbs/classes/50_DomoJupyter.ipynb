{
 "cells": [
  {
   "cell_type": "raw",
   "id": "e6194b5b",
   "metadata": {},
   "source": [
    "---\n",
    "title: Jupyter Routes\n",
    "output-file: jupyter_routes.html\n",
    "---"
   ]
  },
  {
   "cell_type": "code",
   "execution_count": 16,
   "id": "771369de",
   "metadata": {},
   "outputs": [],
   "source": [
    "# | default_exp routes.jupyter"
   ]
  },
  {
   "cell_type": "code",
   "execution_count": 17,
   "id": "edd2a3b7",
   "metadata": {
    "tags": []
   },
   "outputs": [],
   "source": [
    "# | exporti\n",
    "\n",
    "from dataclasses import dataclass, field\n",
    "from typing import Union\n",
    "import datetime as dt\n",
    "import domolibrary.utils.DictDot as util_dd\n",
    "from dateutil.parser import parse\n",
    "\n",
    "import domolibrary.client.DomoAuth as dmda\n",
    "import domolibrary.routes.jupyter as jupyter_routes\n",
    "# import domolibrary.client.DomoError as de\n",
    "# import domolibrary.utils.chunk_execution as ce"
   ]
  },
  {
   "cell_type": "markdown",
   "id": "19ef7970",
   "metadata": {},
   "source": [
    "[![Tutorial Video pt 4 of 4]](https://youtu.be/RbfbQ8V2erM)\n",
    "\n",
    "## DomoJupyter Content and Class\n"
   ]
  },
  {
   "cell_type": "code",
   "execution_count": 18,
   "id": "8210dad2",
   "metadata": {},
   "outputs": [],
   "source": [
    "#| export\n",
    "\n",
    "@dataclass\n",
    "class DomoJupyter_Content:\n",
    "    name: str\n",
    "    folder: str\n",
    "    last_modified: dt.datetime\n",
    "    file_type: str\n",
    "    content: str\n",
    "\n",
    "    auth: dmda.DomoJupyterAuth = field(repr=False)\n",
    "\n",
    "    default_export_folder: str = \"export\"\n",
    "\n",
    "    def __post_init__(self):\n",
    "\n",
    "        dmda.test_is_jupyter_auth(self.auth)\n",
    "\n",
    "        if self.folder.endswith(self.name):\n",
    "            self.folder = self.folder.replace(self.name, \"\")\n",
    "\n",
    "    @classmethod\n",
    "    def _from_json(cls, obj: dict, auth: dmda.DomoJupyterAuth):\n",
    "        dd = util_dd.DictDot(obj) if not isinstance(obj, util_dd.DictDot) else obj\n",
    "\n",
    "        dc = cls(\n",
    "            name=dd.name,\n",
    "            folder=dd.path,\n",
    "            last_modified=parse(dd.last_modified),\n",
    "            file_type=dd.type,\n",
    "            auth=auth,\n",
    "            content=obj.get(\"content\"),\n",
    "        )\n",
    "\n",
    "        return dc\n",
    "\n",
    "    def export_content(\n",
    "        self,\n",
    "        output_folder: str = None,\n",
    "        file_name: str = None,\n",
    "    ):\n",
    "        output_folder = output_folder or os.path.join(\n",
    "            self.default_export_folder, self.folder\n",
    "        )\n",
    "\n",
    "        file_name = file_name or self.name\n",
    "\n",
    "        if not os.path.exists(output_folder):\n",
    "            print(output_folder)\n",
    "            os.makedirs(output_folder)\n",
    "\n",
    "        content_str = self.content\n",
    "        if isinstance(self.content, dict):\n",
    "            import json\n",
    "\n",
    "            content_str = json.dumps(self.content)\n",
    "\n",
    "        output_path = os.path.join(output_folder, file_name)\n",
    "        with open(output_path, \"w\", encoding=\"utf-8\") as f:\n",
    "            f.write(content_str)\n",
    "            f.close()\n",
    "\n",
    "        return output_path\n",
    "\n",
    "    async def update(\n",
    "        self,\n",
    "        jupyter_folder: str = None,\n",
    "        jupyter_file_name: str = None,\n",
    "        debug_api: bool = False,\n",
    "    ):\n",
    "        if jupyter_folder and jupyter_file_name:\n",
    "            content_patuh = f\"{jupyter_folder}/{jupyter_file_name}\"\n",
    "\n",
    "        if len(self.folder) > 0:\n",
    "            content_path = f\"{self.folder}/{self.name}\"\n",
    "\n",
    "        else:\n",
    "            content_path = self.name\n",
    "\n",
    "            if content_path.lower().startswith(self.default_export_folder.lower()):\n",
    "                content_path = content_path.replace(self.default_export_folder, \"\")\n",
    "\n",
    "        content_path = \"/\".join(os.path.normpath(content_path).split(os.sep))\n",
    "\n",
    "        return await jupyter_routes.update_jupyter_file(\n",
    "            auth=self.auth,\n",
    "            content_path=content_path,\n",
    "            new_content=self.content,\n",
    "            debug_api=debug_api,\n",
    "            debug_num_stacks_to_drop = 2,\n",
    "            parent_class = self.__class__.__name__\n",
    "        )\n"
   ]
  },
  {
   "cell_type": "code",
   "execution_count": 19,
   "id": "402ef434-477d-4a76-8f03-d6516d6e8542",
   "metadata": {
    "tags": []
   },
   "outputs": [],
   "source": [
    "\n",
    "#|export\n",
    "\n",
    "@dataclass\n",
    "class DomoJupyter:\n",
    "    auth: dmda.DomoJupyterAuth = field(repr=False)\n",
    "    content: [DomoJupyter_Content] = field(default=None)\n",
    "\n",
    "    jupyter_token = None\n",
    "    service_location = None\n",
    "    service_prefix = None\n",
    "\n",
    "    def __post_init__(self):\n",
    "        dmda.test_is_jupyter_auth(self.auth)\n",
    "\n",
    "        if hasattr(self.auth, \"domo_password\") and not isinstance(\n",
    "            self.auth, dmda.DomoJupyterFullAuth\n",
    "        ):\n",
    "            self.auth = DomoJupyterFullAuth.convert_auth(\n",
    "                full_auth=self.auth,\n",
    "                jupyter_token=self.jupyter_token,\n",
    "                service_location=self.service_location,\n",
    "                service_prefix=self.service_prefix,\n",
    "            )\n",
    "        if hasattr(self.auth, \"developer_token\") and not isinstance(\n",
    "            self.auth, DomoJupyterDeveloperToken\n",
    "        ):\n",
    "            \n",
    "\n",
    "            self.auth = dmda.DomoJupyterTokenAuth.convert_auth(\n",
    "                auth=self.auth,\n",
    "                jupyter_token=self.jupyter_token,\n",
    "                service_location=self.service_location,\n",
    "                service_prefix=self.service_prefix,\n",
    "            )\n",
    "\n",
    "    async def get_content(\n",
    "        self,\n",
    "        debug_api: bool = False,\n",
    "        return_raw: bool = False,\n",
    "        is_recursive: bool = True,\n",
    "        content_path: str = \"\",\n",
    "    ):\n",
    "        if is_recursive:\n",
    "            res = await jupyter_routes.get_content_recursive(\n",
    "                auth=self.auth, debug_api=False, content_path=content_path, debug_num_stacks_to_drop= 3, parent_class = self.__class__.__name__\n",
    "            )\n",
    "            content_ls = res.response\n",
    "\n",
    "        else:\n",
    "            res = await jupyter_routes.get_jupyter_content(\n",
    "                auth=self.auth, debug_api=False, content_path=content_path, debug_num_stacks_to_drop =2, parent_class = self.__class__.__name__\n",
    "            )\n",
    "\n",
    "            content_ls = res.response[\"content\"]\n",
    "\n",
    "        if return_raw:\n",
    "            return res\n",
    "\n",
    "        return [\n",
    "            DomoJupyter_Content._from_json(obj, auth=self.auth) for obj in content_ls\n",
    "        ]"
   ]
  },
  {
   "cell_type": "markdown",
   "id": "1b917180",
   "metadata": {},
   "source": [
    "#### sample impelemntation of get_contet\n"
   ]
  },
  {
   "cell_type": "code",
   "execution_count": 20,
   "id": "aa7bb7fe-8573-4cf5-9997-c4fb07d46702",
   "metadata": {
    "tags": []
   },
   "outputs": [
    {
     "data": {
      "text/plain": [
       "['tutorial_env.ipynb',\n",
       " 'my_terrible_demo.txt',\n",
       " 'UpdateDatasets.ipynb',\n",
       " 'untitled1.txt',\n",
       " 'DataflowExecution.ipynb',\n",
       " 'MakeDomoFaster.ipynb',\n",
       " 'untitled1.txt',\n",
       " 'get_content.ipynb',\n",
       " 'Untitled.ipynb',\n",
       " 'instance_pdp_access.ipynb',\n",
       " 'README.md',\n",
       " 'untitled.txt',\n",
       " 'env.txt',\n",
       " 'my_great_demo.txt',\n",
       " 'datatypes.ipynb']"
      ]
     },
     "execution_count": 20,
     "metadata": {},
     "output_type": "execute_result"
    }
   ],
   "source": [
    "#| eval: false\n",
    "\n",
    "import os\n",
    "import domolibrary.client.DomoAuth as dmda\n",
    "\n",
    "jupyter_token = \"mgaHHqXQafZhWMIcbT5cVsW9KZY7c4\"\n",
    "service_location = \"jupyter-prod1.domodatascience.com\"\n",
    "service_prefix = \"/user/domo-community-1893952720/19fb3535/\"\n",
    "\n",
    "dj_auth = dmda.DomoJupyterTokenAuth(\n",
    "    domo_instance=\"domo-community\",\n",
    "    domo_access_token=os.environ[\"DOMO_DOJO_ACCESS_TOKEN\"],\n",
    "    jupyter_token=jupyter_token,\n",
    "    service_location=service_location,\n",
    "    service_prefix=service_prefix,\n",
    ")\n",
    "\n",
    "domo_dj = DomoJupyter(auth=dj_auth)\n",
    "\n",
    "domo_dj_content = await domo_dj.get_content(\n",
    "    debug_api=False, \n",
    "    return_raw=False, \n",
    "    is_recursive=True\n",
    ")\n",
    "\n",
    "[domo_content.name for domo_content in domo_dj_content]\n"
   ]
  },
  {
   "cell_type": "markdown",
   "id": "3a1baac1",
   "metadata": {},
   "source": [
    "#### sample implementation of updating content with DomoJupyter_Content class\n"
   ]
  },
  {
   "cell_type": "code",
   "execution_count": 21,
   "id": "6b335e28",
   "metadata": {
    "tags": []
   },
   "outputs": [
    {
     "data": {
      "text/plain": [
       "ResponseGetData(status=200, response={'name': 'untitled1.txt', 'path': 'untitled1.txt', 'last_modified': '2023-09-15T22:24:41.623000Z', 'created': '2023-09-15T22:24:41.623000Z', 'content': None, 'format': None, 'mimetype': 'text/plain', 'size': 33, 'writable': True, 'type': 'file'}, is_success=True, parent_class=None, traceback_details=TracebackDetails(function_name='update', file_name='/tmp/ipykernel_4655/1805607417.py', function_trail='<module> -> update', traceback_stack=[<FrameSummary file /tmp/ipykernel_4655/3813769592.py, line 30 in <module>>, <FrameSummary file /tmp/ipykernel_4655/1805607417.py, line 85 in update>], parent_class='DomoJupyter_Content'))"
      ]
     },
     "execution_count": 21,
     "metadata": {},
     "output_type": "execute_result"
    }
   ],
   "source": [
    "#|eval: False\n",
    "\n",
    "import os\n",
    "import domolibrary.client.DomoAuth as dmda\n",
    "\n",
    "jupyter_token = \"mgaHHqXQafZhWMIcbT5cVsW9KZY7c4\"\n",
    "service_location = \"jupyter-prod1.domodatascience.com\"\n",
    "service_prefix = \"/user/domo-community-1893952720/19fb3535/\"\n",
    "\n",
    "dj_auth = dmda.DomoJupyterTokenAuth(\n",
    "    domo_instance=\"domo-community\",\n",
    "    domo_access_token=os.environ[\"DOMO_DOJO_ACCESS_TOKEN\"],\n",
    "    jupyter_token=jupyter_token,\n",
    "    service_location=service_location,\n",
    "    service_prefix=service_prefix,\n",
    ")\n",
    "\n",
    "domo_dj = DomoJupyter(auth=dj_auth)\n",
    "\n",
    "domo_dj_content = await domo_dj.get_content(\n",
    "    debug_api=False, \n",
    "    return_raw=False, \n",
    "    is_recursive=True\n",
    ")\n",
    "\n",
    "test_content = domo_dj_content[1]\n",
    "\n",
    "test_content.content = \"jae rocks at debugging on the fly\"\n",
    "\n",
    "await test_content.update(debug_api=False)"
   ]
  },
  {
   "cell_type": "markdown",
   "id": "3ed98553",
   "metadata": {},
   "source": [
    "#### sample implementation of export_content"
   ]
  },
  {
   "cell_type": "code",
   "execution_count": 22,
   "id": "8034b42a-f645-4974-a25b-8c403a0886fd",
   "metadata": {
    "tags": []
   },
   "outputs": [
    {
     "data": {
      "text/plain": [
       "'../test/untitled1.txt'"
      ]
     },
     "execution_count": 22,
     "metadata": {},
     "output_type": "execute_result"
    }
   ],
   "source": [
    "#| eval : False\n",
    "\n",
    "import os\n",
    "import domolibrary.client.DomoAuth as dmda\n",
    "\n",
    "jupyter_token = \"mgaHHqXQafZhWMIcbT5cVsW9KZY7c4\"\n",
    "service_location = \"jupyter-prod1.domodatascience.com\"\n",
    "service_prefix = \"/user/domo-community-1893952720/19fb3535/\"\n",
    "\n",
    "dj_auth = dmda.DomoJupyterTokenAuth(\n",
    "    domo_instance=\"domo-community\",\n",
    "    domo_access_token=os.environ[\"DOMO_DOJO_ACCESS_TOKEN\"],\n",
    "    jupyter_token=jupyter_token,\n",
    "    service_location=service_location,\n",
    "    service_prefix=service_prefix,\n",
    ")\n",
    "\n",
    "domo_dj = DomoJupyter(auth=dj_auth)\n",
    "\n",
    "domo_dj_content = await domo_dj.get_content(\n",
    "    debug_api=False, \n",
    "    return_raw=False, \n",
    "    is_recursive=True\n",
    ")\n",
    "\n",
    "test_content = domo_dj_content[1]\n",
    "\n",
    "test_content.content = \"jae rocks at debugging on the fly\"\n",
    "test_content\n",
    "\n",
    "await test_content.update(debug_api=False)\n",
    "\n",
    "test_content.export_content(output_folder= '../test/')\n"
   ]
  },
  {
   "cell_type": "code",
   "execution_count": 23,
   "id": "0e51b255",
   "metadata": {},
   "outputs": [],
   "source": [
    "#| hide\n",
    "import nbdev\n",
    "nbdev.nbdev_export()"
   ]
  }
 ],
 "metadata": {
  "kernelspec": {
   "display_name": "Python 3",
   "language": "python",
   "name": "python3"
  },
  "language_info": {
   "codemirror_mode": {
    "name": "ipython",
    "version": 3
   },
   "file_extension": ".py",
   "mimetype": "text/x-python",
   "name": "python",
   "nbconvert_exporter": "python",
   "pygments_lexer": "ipython3",
   "version": "3.10.8"
  }
 },
 "nbformat": 4,
 "nbformat_minor": 5
}
