{
 "cells": [
  {
   "cell_type": "raw",
   "id": "e6194b5b",
   "metadata": {},
   "source": [
    "---\n",
    "title: DomoJupyter Integration\n",
    "output-file: jupyter_class.html\n",
    "---"
   ]
  },
  {
   "cell_type": "code",
   "execution_count": 1,
   "id": "771369de",
   "metadata": {},
   "outputs": [],
   "source": [
    "# | default_exp classes.DomoJupyter"
   ]
  },
  {
   "cell_type": "code",
   "execution_count": 2,
   "id": "edd2a3b7",
   "metadata": {},
   "outputs": [],
   "source": [
    "# | exporti\n",
    "\n",
    "import os\n",
    "import json\n",
    "\n",
    "from dataclasses import dataclass, field\n",
    "from typing import Union, List\n",
    "import datetime as dt\n",
    "\n",
    "import httpx\n",
    "\n",
    "import domolibrary.utils.DictDot as util_dd\n",
    "from dateutil.parser import parse\n",
    "\n",
    "import domolibrary.client.DomoAuth as dmda\n",
    "import domolibrary.routes.jupyter as jupyter_routes\n",
    "\n",
    "# import domolibrary.client.DomoError as de\n",
    "# import domolibrary.utils.chunk_execution as ce\n",
    "\n",
    "from nbdev.showdoc import patch_to"
   ]
  },
  {
   "cell_type": "markdown",
   "id": "19ef7970",
   "metadata": {},
   "source": [
    "[![Tutorial Video pt 4 of 4]](https://youtu.be/RbfbQ8V2erM)\n",
    "\n",
    "## DomoJupyter Content and Class\n"
   ]
  },
  {
   "cell_type": "code",
   "execution_count": 3,
   "id": "8210dad2",
   "metadata": {},
   "outputs": [],
   "source": [
    "# | export\n",
    "\n",
    "\n",
    "@dataclass\n",
    "class DomoJupyterWorkspace_Content:\n",
    "    name: str\n",
    "    folder: str\n",
    "    last_modified: dt.datetime\n",
    "    file_type: str\n",
    "    content: str\n",
    "\n",
    "    auth: dmda.DomoJupyterAuth = field(repr=False)\n",
    "\n",
    "    default_export_folder: str = \"export\"\n",
    "\n",
    "    def __post_init__(self):\n",
    "        dmda.test_is_jupyter_auth(self.auth)\n",
    "\n",
    "        if self.folder.endswith(self.name):\n",
    "            self.folder = self.folder.replace(self.name, \"\")\n",
    "\n",
    "    @classmethod\n",
    "    def _from_json(cls, obj: dict, auth: dmda.DomoJupyterAuth):\n",
    "        dd = util_dd.DictDot(obj) if not isinstance(obj, util_dd.DictDot) else obj\n",
    "\n",
    "        dc = cls(\n",
    "            name=dd.name,\n",
    "            folder=dd.path,\n",
    "            last_modified=parse(dd.last_modified),\n",
    "            file_type=dd.type,\n",
    "            auth=auth,\n",
    "            content=obj.get(\"content\"),\n",
    "        )\n",
    "\n",
    "        return dc\n",
    "\n",
    "    def export(\n",
    "        self,\n",
    "        output_folder: str = None,\n",
    "        file_name: str = None,\n",
    "    ):\n",
    "        output_folder = output_folder or os.path.join(\n",
    "            self.default_export_folder, self.folder\n",
    "        )\n",
    "\n",
    "        file_name = file_name or self.name\n",
    "\n",
    "        if not os.path.exists(output_folder):\n",
    "            print(output_folder)\n",
    "            os.makedirs(output_folder)\n",
    "\n",
    "        content_str = self.content\n",
    "        if isinstance(self.content, dict):\n",
    "\n",
    "            content_str = json.dumps(self.content)\n",
    "\n",
    "        output_path = os.path.join(output_folder, file_name)\n",
    "        with open(output_path, \"w\", encoding=\"utf-8\") as f:\n",
    "            f.write(content_str)\n",
    "            f.close()\n",
    "\n",
    "        return output_path\n",
    "\n",
    "    async def update(\n",
    "        self,\n",
    "        jupyter_folder: str = None,\n",
    "        jupyter_file_name: str = None,\n",
    "        debug_api: bool = False,\n",
    "    ):\n",
    "        if jupyter_folder and jupyter_file_name:\n",
    "            content_patuh = f\"{jupyter_folder}/{jupyter_file_name}\"\n",
    "\n",
    "        if len(self.folder) > 0:\n",
    "            content_path = f\"{self.folder}/{self.name}\"\n",
    "\n",
    "        else:\n",
    "            content_path = self.name\n",
    "\n",
    "            if content_path.lower().startswith(self.default_export_folder.lower()):\n",
    "                content_path = content_path.replace(self.default_export_folder, \"\")\n",
    "\n",
    "        content_path = \"/\".join(os.path.normpath(content_path).split(os.sep))\n",
    "\n",
    "        return await jupyter_routes.update_jupyter_file(\n",
    "            auth=self.auth,\n",
    "            content_path=content_path,\n",
    "            new_content=self.content,\n",
    "            debug_api=debug_api,\n",
    "            debug_num_stacks_to_drop=2,\n",
    "            parent_class=self.__class__.__name__,\n",
    "        )"
   ]
  },
  {
   "cell_type": "markdown",
   "id": "02c1dd1b",
   "metadata": {},
   "source": [
    "# DomoJupyerWorkspace Class"
   ]
  },
  {
   "cell_type": "code",
   "execution_count": 4,
   "id": "402ef434-477d-4a76-8f03-d6516d6e8542",
   "metadata": {},
   "outputs": [],
   "source": [
    "# |export\n",
    "\n",
    "\n",
    "@dataclass\n",
    "class DomoJupyterWorkspace:\n",
    "    auth: dmda.DomoJupyterAuth = field(repr=False)\n",
    "    id: str\n",
    "    name: str\n",
    "    description: str\n",
    "\n",
    "    created_dt: dt.datetime\n",
    "    updated_dt: dt.datetime\n",
    "    last_run_dt: dt.datetime\n",
    "\n",
    "    # owner\n",
    "    # cpu\n",
    "    # memory\n",
    "\n",
    "    instances: List[dict] = None\n",
    "    input_configuration: list[dict] = None\n",
    "    output_configuration: list[dict] = None\n",
    "    account_configuration: list[dict] = None\n",
    "    collection_configuration: list[dict] = None\n",
    "    fileshare_configuration: list[dict] = None\n",
    "\n",
    "    content: List[DomoJupyterWorkspace_Content] = field(default=None)\n",
    "\n",
    "    jupyter_token: str = None\n",
    "    service_location: str = None\n",
    "    service_prefix: str = None\n",
    "\n",
    "    def __post_init__(self):\n",
    "        self._update_auth_params()\n",
    "\n",
    "    def _update_auth_params(self):\n",
    "        if self.instances:\n",
    "            res = jupyter_routes.parse_instance_service_location_and_prefix(\n",
    "                self.instances[0], self.auth.domo_instance\n",
    "            )\n",
    "            self.service_location = res[\"service_location\"]\n",
    "            self.service_prefix = res[\"service_prefix\"]\n",
    "    \n",
    "        if self.service_location and self.service_prefix and self.jupyter_token:\n",
    "            self.update_auth()\n",
    "\n",
    "    \n",
    "    def update_auth(self, service_location= None, service_prefix = None, jupyter_token = None):\n",
    "        \n",
    "        self.service_location = service_location or self.service_location\n",
    "        self.service_prefix = service_prefix or self.service_prefix\n",
    "        self.jupyer_token = jupyter_token or self.jupyter_token\n",
    "                            \n",
    "        if isinstance(self.auth, dmda.DomoFullAuth):\n",
    "            self.auth = dmda.DomoJupyterFullAuth.convert_auth(\n",
    "                auth=self.auth,\n",
    "                service_location= self.service_location,\n",
    "                jupyter_token= self.jupyter_token,\n",
    "                service_prefix= self.service_prefix,\n",
    "            )\n",
    "        \n",
    "        if isinstance(self.auth, dmda.DomoTokenAuth):\n",
    "            self.auth = dmda.DomoJupyterTokenAuth.convert_auth(\n",
    "                auth=self.auth,\n",
    "                service_location=self.service_location,\n",
    "                jupyter_token=self.jupyter_token,\n",
    "                service_prefix=self.service_prefix,\n",
    "            )\n",
    "    \n",
    "        self.auth.service_location = self.service_location\n",
    "        self.auth.service_prefix = self.service_prefix\n",
    "        self.auth.jupyer_token = self.jupyter_token\n",
    "        \n",
    "\n",
    "\n",
    "    @classmethod\n",
    "    def _from_json(\n",
    "        cls,\n",
    "        obj,\n",
    "        auth,\n",
    "        jupyter_token: str = None,\n",
    "    ):\n",
    "        domo_workspace = cls(\n",
    "            auth=auth,\n",
    "            id=obj[\"id\"],\n",
    "            name=obj[\"name\"],\n",
    "            description=obj[\"description\"],\n",
    "            created_dt=obj[\"created\"],\n",
    "            updated_dt=obj[\"updated\"],\n",
    "            last_run_dt=obj[\"lastRun\"],\n",
    "            instances=obj[\"instances\"],\n",
    "            output_configuration=obj[\"outputConfiguration\"],\n",
    "            account_configuration=obj[\"accountConfiguration\"],\n",
    "            fileshare_configuration=obj[\"collectionConfiguration\"],\n",
    "            jupyter_token=jupyter_token,\n",
    "        )\n",
    "        return domo_workspace"
   ]
  },
  {
   "cell_type": "code",
   "execution_count": 5,
   "id": "e49701fe",
   "metadata": {},
   "outputs": [],
   "source": [
    "#| exporti\n",
    "\n",
    "\n",
    "@patch_to(DomoJupyterWorkspace, cls_method=True)\n",
    "async def get_by_id(\n",
    "    cls,\n",
    "    workspace_id,\n",
    "    auth: dmda.DomoAuth, # this API does not require the jupyter_token, but activities inside the workspace will require additional authentication\n",
    "    jupyter_token = None,\n",
    "    return_raw: bool = False,\n",
    "    debug_api: bool = False,\n",
    "    session:httpx.AsyncClient = None,\n",
    "):\n",
    "\n",
    "    res = await jupyter_routes.get_jupyter_workspace_by_id(\n",
    "        workspace_id=workspace_id, auth=auth,\n",
    "        session = session, debug_api = debug_api, parent_class = cls.__name__\n",
    "    )\n",
    "\n",
    "    if return_raw:\n",
    "        return res\n",
    "\n",
    "    return cls._from_json(auth = auth, obj = res.response, jupyter_token = jupyter_token)"
   ]
  },
  {
   "cell_type": "code",
   "execution_count": 6,
   "id": "7ca85fd2",
   "metadata": {},
   "outputs": [
    {
     "name": "stdout",
     "output_type": "stream",
     "text": [
      "warning this token has not been validated by who_am_i, run get_auth_token first\n"
     ]
    },
    {
     "data": {
      "text/plain": [
       "{'auth': DomoJupyterTokenAuth(jupyter_token='9meJVc62g4nVWvlD9qdJFgmO3Oxm0r', service_location='jupyter-prod1.domodatascience.com', service_prefix='/user/domo-community-1893952720/1cfe9db4/', domo_instance='domo-community', token_name=None, is_valid_token=None, url_manual_login='https://domo-community.domo.com/auth/index?domoManualLogin=true'),\n",
       " 'id': '1cfe9db4-5937-4889-beb3-a311fc42f246',\n",
       " 'name': 'learn_jupyter',\n",
       " 'description': '',\n",
       " 'created_dt': '2024-02-22T17:13:54.653+00:00',\n",
       " 'updated_dt': '2024-03-06T12:51:25.114+00:00',\n",
       " 'last_run_dt': '2024-03-06T12:51:25.114+00:00',\n",
       " 'instances': [{'started': '2024-03-06T12:51:25.794+00:00',\n",
       "   'lastActivity': '2024-03-06T18:45:03.800+00:00',\n",
       "   'url': 'https://domo-community.jupyter-prod1.domodatascience.com/hub/auth_refresh?domo_hostname=https%3A%2F%2Fdomo-community.domo.com&next=https%3A%2F%2Fdomo-community.jupyter-prod1.domodatascience.com%2Fuser%2Fdomo-community-1893952720%2F1cfe9db4%2F',\n",
       "   'status': 'RUNNING',\n",
       "   'userId': 1893952720}],\n",
       " 'input_configuration': None,\n",
       " 'output_configuration': [{'dataSourceId': '84658e41-924e-499c-987b-f82dc10163cc',\n",
       "   'alias': 'DomoStats - Accounts',\n",
       "   'streamId': 1375}],\n",
       " 'account_configuration': [{'account_id': 92,\n",
       "   'alias': 'username_password_auth'}],\n",
       " 'collection_configuration': None,\n",
       " 'fileshare_configuration': [],\n",
       " 'content': None,\n",
       " 'jupyter_token': '9meJVc62g4nVWvlD9qdJFgmO3Oxm0r',\n",
       " 'service_location': 'jupyter-prod1.domodatascience.com',\n",
       " 'service_prefix': '/user/domo-community-1893952720/1cfe9db4/',\n",
       " 'jupyer_token': '9meJVc62g4nVWvlD9qdJFgmO3Oxm0r'}"
      ]
     },
     "execution_count": 6,
     "metadata": {},
     "output_type": "execute_result"
    }
   ],
   "source": [
    "token_auth = dmda.DomoTokenAuth(\n",
    "    domo_instance=\"domo-community\",\n",
    "    domo_access_token=os.environ[\"DOMO_DOJO_ACCESS_TOKEN\"],\n",
    ")\n",
    "\n",
    "workspace_id = \"1cfe9db4-5937-4889-beb3-a311fc42f246\"\n",
    "jupyter_token = \"9meJVc62g4nVWvlD9qdJFgmO3Oxm0r\"\n",
    "\n",
    "domo_workspace = await DomoJupyterWorkspace.get_by_id(workspace_id=workspace_id, auth=token_auth, jupyter_token = '9meJVc62g4nVWvlD9qdJFgmO3Oxm0r'\n",
    ")\n",
    "\n",
    "domo_workspace.__dict__"
   ]
  },
  {
   "cell_type": "code",
   "execution_count": 7,
   "id": "a1e0cafe",
   "metadata": {},
   "outputs": [],
   "source": [
    "# | exporti\n",
    "@patch_to(DomoJupyterWorkspace)\n",
    "async def get_content(\n",
    "    self,\n",
    "    debug_api: bool = False,\n",
    "    return_raw: bool = False,\n",
    "    is_recursive: bool = True,\n",
    "    content_path: str = \"\",\n",
    "):\n",
    "    res = await jupyter_routes.get_content(\n",
    "        auth=self.auth,\n",
    "        debug_api=False,\n",
    "        content_path=content_path,\n",
    "        debug_num_stacks_to_drop=2,\n",
    "        parent_class=self.__class__.__name__,\n",
    "        is_recursive=is_recursive,\n",
    "        return_raw=return_raw,\n",
    "    )\n",
    "\n",
    "    if return_raw:\n",
    "        return res\n",
    "\n",
    "    return [\n",
    "        DomoJupyterWorkspace_Content._from_json(obj, auth=self.auth)\n",
    "        for obj in res.response\n",
    "    ]"
   ]
  },
  {
   "cell_type": "markdown",
   "id": "1b917180",
   "metadata": {},
   "source": [
    "#### sample impelemntation of get_contet\n"
   ]
  },
  {
   "cell_type": "code",
   "execution_count": 10,
   "id": "aa7bb7fe-8573-4cf5-9997-c4fb07d46702",
   "metadata": {},
   "outputs": [
    {
     "name": "stdout",
     "output_type": "stream",
     "text": [
      "warning this token has not been validated by who_am_i, run get_auth_token first\n"
     ]
    },
    {
     "data": {
      "text/plain": [
       "[DomoJupyterWorkspace_Content(name='', folder='', last_modified=datetime.datetime(2024, 3, 6, 13, 23, 30, 550000, tzinfo=tzutc()), file_type='directory', content=[{'name': 'tutorial', 'path': 'tutorial', 'last_modified': '2024-02-23T03:12:17.665000Z', 'created': '2024-02-23T03:12:17.665000Z', 'content': None, 'format': None, 'mimetype': None, 'size': None, 'writable': True, 'hash': None, 'hash_algorithm': None, 'type': 'directory'}, {'name': 'new_folder', 'path': 'new_folder', 'last_modified': '2024-03-06T18:45:03.793000Z', 'created': '2024-03-06T18:45:03.793000Z', 'content': None, 'format': None, 'mimetype': None, 'size': None, 'writable': True, 'hash': None, 'hash_algorithm': None, 'type': 'directory'}, {'name': 'README.md', 'path': 'README.md', 'last_modified': '2024-03-06T12:54:02.500000Z', 'created': '2024-03-06T12:54:02.500000Z', 'content': None, 'format': None, 'mimetype': 'text/markdown', 'size': 3847, 'writable': True, 'hash': None, 'hash_algorithm': None, 'type': 'file'}, {'name': 'domo_jupyter_examples', 'path': 'domo_jupyter_examples', 'last_modified': '2024-02-22T17:17:48.269000Z', 'created': '2024-02-22T17:17:48.269000Z', 'content': None, 'format': None, 'mimetype': None, 'size': None, 'writable': False, 'hash': None, 'hash_algorithm': None, 'type': 'directory'}], default_export_folder='export'),\n",
       " DomoJupyterWorkspace_Content(name='tutorial', folder='', last_modified=datetime.datetime(2024, 2, 23, 3, 12, 17, 665000, tzinfo=tzutc()), file_type='directory', content=[{'name': 'Tut2 - Send an API request.ipynb', 'path': 'tutorial/Tut2 - Send an API request.ipynb', 'last_modified': '2024-02-22T18:49:23.799000Z', 'created': '2024-02-22T18:49:23.799000Z', 'content': None, 'format': None, 'mimetype': None, 'size': 13875, 'writable': True, 'hash': None, 'hash_algorithm': None, 'type': 'notebook'}, {'name': 'Tut3 - Generate a DomoStats style Dataset.ipynb', 'path': 'tutorial/Tut3 - Generate a DomoStats style Dataset.ipynb', 'last_modified': '2024-02-23T02:23:24.393000Z', 'created': '2024-02-23T02:23:24.393000Z', 'content': None, 'format': None, 'mimetype': None, 'size': 30367, 'writable': True, 'hash': None, 'hash_algorithm': None, 'type': 'notebook'}, {'name': 'Tut1 - Authentication In Domo.ipynb', 'path': 'tutorial/Tut1 - Authentication In Domo.ipynb', 'last_modified': '2024-02-22T18:39:15.136000Z', 'created': '2024-02-22T18:39:15.136000Z', 'content': None, 'format': None, 'mimetype': None, 'size': 12048, 'writable': True, 'hash': None, 'hash_algorithm': None, 'type': 'notebook'}, {'name': 'functions', 'path': 'tutorial/functions', 'last_modified': '2024-02-22T23:51:30.195000Z', 'created': '2024-02-22T23:51:30.195000Z', 'content': None, 'format': None, 'mimetype': None, 'size': None, 'writable': True, 'hash': None, 'hash_algorithm': None, 'type': 'directory'}, {'name': 'README.md', 'path': 'tutorial/README.md', 'last_modified': '2024-02-22T17:28:04.617000Z', 'created': '2024-02-22T17:28:04.617000Z', 'content': None, 'format': None, 'mimetype': 'text/markdown', 'size': 552, 'writable': True, 'hash': None, 'hash_algorithm': None, 'type': 'file'}, {'name': 'Tut4 - Using Access Token Authentication and Updating Domo via API.ipynb', 'path': 'tutorial/Tut4 - Using Access Token Authentication and Updating Domo via API.ipynb', 'last_modified': '2024-02-23T03:12:17.656000Z', 'created': '2024-02-23T03:12:17.656000Z', 'content': None, 'format': None, 'mimetype': None, 'size': 16589, 'writable': True, 'hash': None, 'hash_algorithm': None, 'type': 'notebook'}], default_export_folder='export'),\n",
       " DomoJupyterWorkspace_Content(name='new_folder', folder='', last_modified=datetime.datetime(2024, 3, 6, 18, 45, 3, 793000, tzinfo=tzutc()), file_type='directory', content=[{'name': 'updated_2024-03-06.txt', 'path': 'new_folder/updated_2024-03-06.txt', 'last_modified': '2024-03-06T18:45:03.787000Z', 'created': '2024-03-06T18:45:03.787000Z', 'content': None, 'format': None, 'mimetype': 'text/plain', 'size': 60, 'writable': True, 'hash': None, 'hash_algorithm': None, 'type': 'file'}], default_export_folder='export'),\n",
       " DomoJupyterWorkspace_Content(name='README.md', folder='', last_modified=datetime.datetime(2024, 3, 6, 12, 54, 2, 500000, tzinfo=tzutc()), file_type='file', content='# Jupyter Workspaces - Python\\n\\n\\n## Intro\\n\\nJupyter Workspaces in Domo are a web-based interactive development environment for Jupyter notebooks, code, and data. Workspaces are tightly integrated with Domo to allow users to easily explore their Domo DataSets, leverage instantaneous code execution to develop pipelines for data science and machine learning, document their processes, create custom visualizations, and write transformed data back into Domo.\\n\\nSee the Domo [Knowledge Base](https://domo-support.domo.com/s/article/36004740075?language=en_US)\\nfor more information on using Jupyter Workspaces: \\n\\nHaving issues with your workspace? Check out our [troubleshooting guide](https://domo-support.domo.com/s/article/7440921035671?language=en_US)!\\n\\n---\\n\\n## Exploring Your Data in Jupyter\\n\\nAny dataset that has been configured as an *Input* to your Jupyter Workspace in Domo can be read into a dataframe in Jupyter. In order to do this, import the domojupyter library and call the `read_dataframe()` function with the alias you\\'ve configured for your input dataset.\\n\\n```python\\n    import domojupyter as domo\\n    # Read the dataset configured with alias \\'BMX I\\' as a pandas dataframe\\n    bmx = domo.read_dataframe(\\'BMX I\\')\\n    bmx.head()\\n```\\n\\ndomo.read_dataframe will cast the column\\'s dtypes based on the provided schema. However, the user can override the default dtypes. \\nWhen using the domo.read_dataframe function you are able to use any parameter that is included in [pandas.read_csv](https://pandas.pydata.org/docs/reference/api/pandas.read_csv.html):\\n\\nHere\\'s an example utilizing multiple args, overriding a few of the column\\'s dypes and changing the \"date\" column into a datetime64 dtype:  \\n```python\\nread_dataframe(\\'Test_DataSource\\', query=\\'SELECT * FROM table\\', dtype={\\'P\\': \\'int64\\', \\'D\\': \\'object\\', \\'price\\': \\'float64\\'}, parse_dates=[\\'date\\'], na_filter=False)\\n```\\n\\n\\n---\\n\\n## Query Data Using SQL\\n\\nDatasets can be queried with SQL-like syntax. This can be used to limit the size of the data returned for large datasets or to leverage the power of Domo to perform aggregations on the fly.\\n\\n```python\\n    import domojupyter as domo\\n    demo = domo.read_dataframe(\\'DEMO I\\', query=\\'SELECT SEQN, RIAGENDR AS Gender, RIDAGEYR AS Age FROM table WHERE RIDAGEYR > 20\\')\\n    demo.head()\\n```\\n---\\n\\n## Write Data Back to Domo\\n\\nIf you\\'ve made some transformations that you\\'d like to preserve as a separate dataset in Domo, configure your workspace to include an *Output* dataset. Then use the `write_dataframe()` function with your dataframe and the alias you\\'ve configured for your output dataset as parameters.\\n\\n\\n```python\\n    import domojupyter as domo\\n    # Write dataframe to Domo dataset configured with alias \\'Jupyter Data\\'\\n    domo.write_dataframe(df, \\'Jupyter Data\\')\\n```\\n\\nTo leverage Append, Upsert and or Partition functionality, use the following commands to update a DataSet:\\n\\n```python\\ndomo.write_dataframe(df, output_dataset)\\ndomo.write_dataframe(df, output_dataset, update_method=\"APPEND\")\\ndomo.write_dataframe(df, output_dataset, update_method=\"UPSERT\", update_key=column_name)\\ndomo.write_dataframe(df, output_dataset, update_method=\"PARTITION\", partition_name=’Example Name’)\\n```\\n\\n---\\n\\n## Updating or checking your sdk version\\nYou can check your domojupyter version by running the following command in a cell:\\n```python\\n    import domojupyter as domo\\n    domo.__version__\\n```\\n\\nUpdate to the latest version by running:\\n```commandline\\nconda install -c {conda_channel} domojupyter={latest}\\n```\\n\\nEx:\\n```commandline\\nconda install -c $DOMO_CONDA_CHANNEL domojupyter=1.1.0\\n```\\n\\n---\\n\\n## Installing Additional Libraries\\n\\n3rd party libraries not already included in the workspace can be installed using pip for Python, CRAN for R or Conda for both.\\n\\n```bash\\n    pip install requests-toolbelt\\n    \\n    OR\\n\\n    conda install requests-toolbelt\\n```', default_export_folder='export'),\n",
       " DomoJupyterWorkspace_Content(name='Tut1 - Authentication In Domo.ipynb', folder='tutorial/', last_modified=datetime.datetime(2024, 2, 22, 18, 39, 15, 136000, tzinfo=tzutc()), file_type='notebook', content={'cells': [{'cell_type': 'markdown', 'id': '416e4643-3929-401a-a290-c16f5fa669d3', 'metadata': {}, 'source': '# How do I send an API request?\\n\\n1. specifically how can i figure out the API request when there is no documentation?\\n2. How does Domo handle authentication?\\n\\n**Domo uses \"username and password\" to generate an token which is then used to authenticate most API requests that get sent in the user interface.**\\n\\n1. Go to Data > Accounts to view a list of all accounts you have access to.\\n\\n2. Monitor network traffic (different for each browser -- Inspect > Network on Chrome) to see what API request is being sent to retrieve a list of auth objects.\\n\\n3. Find the API request.  Filter for \"providers\".  Examine the URL, headers, request Method (GET, PUT, POST, DELETE) and body<br>\\n\\n   usually you can right click the query and copy paste into raw text\\n   \\n   below, the CURL request had a few unnecessary attributes removed, but the cookie is handling authentication.'}, {'cell_type': 'raw', 'id': 'e2bec108-314d-4d95-9921-ecf26f57de7b', 'metadata': {}, 'source': \"curl 'https://domo-community.domo.com/api/data/v2/datasources/providers' \\\\\\n  -H 'accept-language: en' \\\\\\n  -H 'cookie: <REMOVED>\\n  --compressed\"}, {'cell_type': 'markdown', 'id': 'c2319cc6-ca05-4fe5-b4b1-4f3eb0dd6773', 'metadata': {}, 'source': '## convert an API request into a function\\n- We will use the requests library to send an API request to the providers endpoint.\\n- In the above sample, authentication is handled by the cookie.  in a later step we will show how to handle authentication in Domo.\\n- Functions allow us to call snippets of code multiple times.\\nUsing functions improves legibility, recycle-ability, and maitainability of code\\n'}, {'cell_type': 'code', 'execution_count': 1, 'id': '94c0d58d-df1c-491a-b0f8-afa5a4ad4078', 'metadata': {'tags': [], 'trusted': True}, 'outputs': [{'data': {'text/plain': '<Response [401]>'}, 'execution_count': 1, 'metadata': {}, 'output_type': 'execute_result'}], 'source': 'import requests\\n\\nDOMO_INSTANCE = \\'domo-community\\' ## it\\'s common practice to declare constants using all caps.\\n\\ndef get_accounts(domo_instance):\\n    # v1 does not accept authentication and therefore will fail\\n    \\n    url = f\\'https://{domo_instance}.domo.com/api/data/v2/datasources/providers\\'\\n    \\n    return requests.request(method = \"GET\",\\n                            url = url)\\n\\nres = get_accounts(domo_instance = DOMO_INSTANCE)\\nres'}, {'cell_type': 'markdown', 'id': 'b24bdbff-ac57-4f8a-a443-578b10014431', 'metadata': {'tags': []}, 'source': '### debugging what happened\\n\\nDEVELOPER_TIP\\n- get comfortable googling \"example of sending an API request with the requests library\"\\n- use the type() function to see the data type of the response\\n\\nthe get_accounts function returns a class \"Response\" from the requests.request library\\nthe Response class has attributes like status_code and a method json() which allows us to view the response as a json object'}, {'cell_type': 'code', 'execution_count': 2, 'id': '54769366-26ab-46a5-9667-248933af6ff0', 'metadata': {'tags': [], 'trusted': True}, 'outputs': [{'name': 'stdout', 'output_type': 'stream', 'text': \"<class 'requests.models.Response'>\\n401\\n{'status': 401, 'statusReason': 'Unauthorized', 'path': '/api/data/v2/datasources/providers', 'message': 'Full authentication is required to access this resource', 'toe': 'NYPSO7AJYW-7MPCT-WTWVN'}\\n\"}], 'source': \"print(type(res))\\nprint(res.status_code)\\nprint(res.json())\\n\\n# from the error message it's clear we need to pass authentication with our API request\"}, {'cell_type': 'markdown', 'id': '70e93111-f9a5-461e-9067-5980c301adfe', 'metadata': {}, 'source': '## Use Full Auth to handle Domo API Authentication\\n\\n- \"full authentication\" is not the same as client_id and secret authentication which can be retrieved from developer.domo.com\\n\\n- client_id and secret auth (we will call developer_token authentication moving forward) only applies to a small handful of APIs documented under developer.domo.com\\n\\n- \"full authentication actually has two flavors.<br>\\n    - username and password authentication (session_token which has a short expiration date)\\n    - access_token authentication (Admin > Security > Access Token) which tends to have a longer expiration date, we will cover this later\\n\\n\\nDEVELOPER TIPS:\\n- document the type we expect to receive for each input and output variable (str)\\n- provide a document string (denoted in triple quotes) to describe what the function does\\n- notice the use of logic to test for success'}, {'cell_type': 'code', 'execution_count': 3, 'id': '21beb207-e0b2-44d0-909e-6442ea4b2425', 'metadata': {'tags': [], 'trusted': True}, 'outputs': [], 'source': 'def get_full_auth(\\n    domo_instance: str,\\n    domo_username: str,\\n    domo_password: str\\n) -> str:  # returns a session token\\n    \"\"\"use username and password to generate an access token\"\"\"\\n\\n    url = f\"https://{domo_instance}.domo.com/api/content/v2/authentication\"\\n\\n    body = {\\n        \"method\": \"password\",\\n        \"emailAddress\": domo_username,\\n        \"password\": domo_password,\\n    }\\n\\n    res = requests.request(method=\"POST\", url=url, json=body)\\n    data = res.json()\\n\\n    token = data.get(\"sessionToken\")\\n    \\n    if not token:\\n        raise Exception(\"unable to retrieve a session token\")\\n\\n    return token'}, {'cell_type': 'markdown', 'id': '1b55b271-7d84-4640-8d54-0aa2f9820c11', 'metadata': {'tags': []}, 'source': '### handle sensitive credentials appropriately\\n\\nDO NOT STORE YOUR PASSWORD IN PLAIN TEXT on the internet!!<br>\\n\\nInstead use the Abstract Account object in Domo to store credentials.  They can only be seen in clear text in DomoJupyter and use the same encryption security platform as Domo connectors.\\n\\n1. create an abstract account object (Data > Accounts).\\n2. store your credentials as a properly formatted json object<br>\\n    { \"DOMO_USERNAME\": \"<your_username>\", \"DOMO_PASSWORD\": \"<your_password>\", \"DOMO_INSTANCE\": \"<domo_instance>\"}<br><br>\\n3. edit this workspace to share the account with this notebook'}, {'cell_type': 'code', 'execution_count': 4, 'id': 'd53e13a0-603b-4548-9ef2-92f68bae53c6', 'metadata': {'tags': [], 'trusted': True}, 'outputs': [], 'source': 'import domojupyter as domo\\n# Requires domojupyter Python version 1.0.3\\n\\n# we will refactor the default script into a function\\n# account_properties = domo.get_account_property_keys(\\'username_password_auth\\')\\n# account_property_value = domo.get_account_property_value(\\'jw_username_password_auth\\', account_properties[0])\\n\\n\\ndef get_account_credentials(account_name):\\n    \"\"\"version 1 of get_account credentaials\"\"\"\\n    \\n    account_properties = domo.get_account_property_keys(account_name)\\n    return {prop: domo.get_account_property_value(account_name, prop) for prop in account_properties} # in python this technique is called a \"list comprehension\" its similar to a for loop\\n\\ncreds = get_account_credentials(\"username_password_auth\")\\n\\n# umncomment to print your creds, and then recomment so that you don\\'t save your file with your creds in clear text\\n# creds '}, {'cell_type': 'markdown', 'id': 'b7f8d3ad-7cc9-49ad-ad0e-b8369ab27566', 'metadata': {}, 'source': 'DEVELOPER TIPS\\nyou could have two functions, one for handling any account type, and one specifically for handling abstract credentials.\\n\\nin the case of abstract credentials, we only want the \"credentials\" key from the JSON created (notice the modified return statement)\\n\\nwe\\'ll pass an is_abstract_account boolean parameter with a default value of True (assumes we are usually'}, {'cell_type': 'code', 'execution_count': 5, 'id': '624bcae4-40ac-42c0-89cd-1d939787cbc6', 'metadata': {'trusted': True}, 'outputs': [], 'source': 'import json\\n\\n# to accommod\\ndef get_account_credentials(account_name, is_abstract_account: bool = True):\\n    \"\"\"version 2 of get_account credentaials\"\"\"\\n    \\n    account_properties = domo.get_account_property_keys(account_name)\\n    res = {prop: domo.get_account_property_value(account_name, prop) for prop in account_properties}\\n    return json.loads(res[\\'credentials\\'])\\n\\ncreds = get_account_credentials(\"username_password_auth\")\\n# creds'}, {'cell_type': 'markdown', 'id': '3c5fac9d-d98f-434a-a959-f83329580f23', 'metadata': {}, 'source': '## put it all together\\n1. retrieve username and password from an account object\\n2. get a session token from get_full_auth\\n3. authenticate our API request'}, {'cell_type': 'code', 'execution_count': 6, 'id': '69170328-f07a-4007-ac6d-b1c0ad86ae18', 'metadata': {'tags': [], 'trusted': True}, 'outputs': [], 'source': 'def get_accounts(domo_instance, session_token):\\n    # v2 refactored to handle authentication\\n    \\n    headers = {\"x-domo-authentication\": session_token}\\n    \\n    url = f\\'https://{domo_instance}.domo.com/api/data/v2/datasources/providers\\'\\n    \\n    return requests.request(method = \"GET\",\\n                            url = url,\\n                            headers = headers\\n                           )'}, {'cell_type': 'code', 'execution_count': 7, 'id': '3d0665f6-e734-426e-a0c5-0dd2bd0678e5', 'metadata': {'tags': [], 'trusted': True}, 'outputs': [{'data': {'text/plain': '<Response [200]>'}, 'execution_count': 7, 'metadata': {}, 'output_type': 'execute_result'}], 'source': \"creds = get_account_credentials('username_password_auth')\\n\\ndomo_instance = creds['DOMO_INSTANCE']\\n\\nsession_token = get_full_auth(domo_username = creds['DOMO_USERNAME'],\\n                              domo_password = creds['DOMO_PASSWORD'],\\n                              domo_instance = creds['DOMO_INSTANCE'] )\\n\\nget_accounts(domo_instance = domo_instance, session_token = session_token)\\n\"}], 'metadata': {'kernelspec': {'display_name': 'Python 3.9', 'language': 'python', 'name': 'python_3_9'}, 'language_info': {'codemirror_mode': {'name': 'ipython', 'version': 3}, 'file_extension': '.py', 'mimetype': 'text/x-python', 'name': 'python', 'nbconvert_exporter': 'python', 'pygments_lexer': 'ipython3', 'version': '3.9.13'}}, 'nbformat': 4, 'nbformat_minor': 5}, default_export_folder='export'),\n",
       " DomoJupyterWorkspace_Content(name='README.md', folder='tutorial/', last_modified=datetime.datetime(2024, 2, 22, 17, 28, 4, 617000, tzinfo=tzutc()), file_type='file', content='# Getting Started\\nNote: preview this markdown file using Markdown Preview\\n\\nRight Click File > Open > Markdown Preview\\n\\nGenerating documentation is seldom fun.  But Markdown is the *de facto tool* tool of choice for generating documentation\\n\\n# To Clone a Git Repository into Jupyter\\n\\nOpen a new Terminal\\n\\n- File > New Terminal\\n\\n```\\ngit clone https://github.com/jaewilson07/domopalooza-24.git tutorial\\n```\\n\\n[Creating and Managing Repositories from GitHub](https://docs.github.com/en/repositories/creating-and-managing-repositories/cloning-a-repository)\\n\\n', default_export_folder='export'),\n",
       " DomoJupyterWorkspace_Content(name='Tut3 - Generate a DomoStats style Dataset.ipynb', folder='tutorial/', last_modified=datetime.datetime(2024, 2, 23, 2, 23, 24, 393000, tzinfo=tzutc()), file_type='notebook', content={'cells': [{'cell_type': 'markdown', 'id': '70e93111-f9a5-461e-9067-5980c301adfe', 'metadata': {'tags': []}, 'source': '# Generate a DomoStats style Dataset\\n\\nGenerating the Dataset is just a case of getting your data into the shape that you want it.\\n\\nDeveloper Tip\\n- separate the act of retrieving data from act of restructuring your data for use\\n- to have recycleable code, consider moving functions into a separate .py file in a subfolder.\\n- notice you must have an `__ini__.py` file in the subfolder in order to import it as a module'}, {'cell_type': 'markdown', 'id': 'ca099d5b-9b54-4879-ab3a-86df9d4d1d2a', 'metadata': {'tags': []}, 'source': '# Domo Authentication'}, {'cell_type': 'code', 'execution_count': 1, 'id': 'c2916efa-7a46-4054-86d4-caaa24045cc5', 'metadata': {'tags': [], 'trusted': True}, 'outputs': [], 'source': 'import functions.utils as utils\\n\\ncreds = utils.get_account_credentials(\"username_password_auth\", is_abstract_account=True)\\ndomo_instance = creds[\\'DOMO_INSTANCE\\']'}, {'cell_type': 'code', 'execution_count': 2, 'id': '21beb207-e0b2-44d0-909e-6442ea4b2425', 'metadata': {'tags': [], 'trusted': True}, 'outputs': [], 'source': \"import functions.auth as auth\\n\\nsession_token = auth.get_full_auth(domo_username = creds['DOMO_USERNAME'],\\n                              domo_password = creds['DOMO_PASSWORD'],\\n                              domo_instance = creds['DOMO_INSTANCE'] )\\nassert session_token\"}, {'cell_type': 'markdown', 'id': 'b31f8ba0-0809-4111-ba08-728f361e7036', 'metadata': {'tags': []}, 'source': '# Interact with Domo'}, {'cell_type': 'code', 'execution_count': 3, 'id': '69170328-f07a-4007-ac6d-b1c0ad86ae18', 'metadata': {'tags': [], 'trusted': True}, 'outputs': [{'data': {'text/plain': \"[{'key': 'abstract-credential-store',\\n  'name': 'Abstract Credential Store',\\n  'authenticationScheme': 'fields',\\n  'unassociatedDataSourceCount': 0,\\n  'accounts': [{'id': 71,\\n    'name': 'domo_creds',\\n    'userId': '1893952720',\\n    'displayName': 'domo_creds - update 2024-02-21',\\n    'type': 'data',\\n    'dataProviderType': 'abstract-credential-store',\\n    'valid': True,\\n    'dateOfExpiration': None,\\n    'dataSourceCount': 0,\\n    'daysToExpiry': None,\\n    'expired': None},\\n   {'id': 87,\\n    'name': 'Abstract Credential Store Account',\\n    'userId': '1893952720',\\n    'displayName': 'jw_creds',\\n    'type': 'data',\\n    'dataProviderType': 'abstract-credential-store',\\n    'valid': True,\\n    'dateOfExpiration': None,\\n    'dataSourceCount': 0,\\n    'daysToExpiry': None,\\n    'expired': None},\\n   {'id': 88,\\n    'name': 'fake_account',\\n    'userId': '1893952720',\\n    'displayName': 'fake_account',\\n    'type': 'data',\\n    'dataProviderType': 'abstract-credential-store',\\n    'valid': True,\\n    'dateOfExpiration': None,\\n    'dataSourceCount': 0,\\n    'daysToExpiry': None,\\n    'expired': None},\\n   {'id': 92,\\n    'name': 'jw_username_password_auth',\\n    'userId': '1893952720',\\n    'displayName': 'jw_username_password_auth',\\n    'type': 'data',\\n    'dataProviderType': 'abstract-credential-store',\\n    'valid': True,\\n    'dateOfExpiration': None,\\n    'dataSourceCount': 0,\\n    'daysToExpiry': None,\\n    'expired': None}]}]\"}, 'execution_count': 3, 'metadata': {}, 'output_type': 'execute_result'}], 'source': 'import requests\\nfrom typing import List\\n\\ndef get_accounts(domo_instance, session_token) -> List[dict]:\\n    \"\"\"retrieves a list of accounts this user has access to\"\"\"\\n    \\n    headers = {\"x-domo-authentication\": session_token}    \\n    url = f\\'https://{domo_instance}.domo.com/api/data/v2/datasources/providers\\'\\n    \\n    res= requests.request(method = \"GET\",\\n                            url = url,\\n                            headers = headers\\n                           )\\n    \\n    data = res.json()\\n    \\n    if not res.ok:\\n        DomoAPIRequestError(data)\\n        \\n    return data\\n\\nget_accounts(domo_instance = domo_instance, session_token = session_token)[0:1]'}, {'cell_type': 'markdown', 'id': '01b7413e-1626-4d4f-bd9e-f5ce34d0ff7c', 'metadata': {}, 'source': '# How should we begin?\\nLook at what the API, `get_accounts` gives you -- a `List[dict]` where each dict represents a `dataProiderType` and within each `dataProviderType` there\\'s the list of `accounts` that belong to that data provider type.\\n\\n💡 BIG TIP!  Express your Target granularity\\n\"We want one row for each account\"\\n\\nDEVELOPER_NOTE\\n- while it is common for APIs to return JSON in `camelCase`, in our code we will rewrite everything in `snake_case`.\\n- we can also take the liberty of renaming properties to something user friendly'}, {'cell_type': 'markdown', 'id': 'bba41863-cb0c-4f93-9d8c-d06fab7c1555', 'metadata': {'tags': []}, 'source': '## utils'}, {'cell_type': 'code', 'execution_count': 4, 'id': '00a77352-c7c3-4428-bcbc-9fd4ca1d5947', 'metadata': {'tags': [], 'trusted': True}, 'outputs': [{'name': 'stdout', 'output_type': 'stream', 'text': 'does_this_work?\\nwhat_about_this?\\n'}], 'source': 'import re\\n\\ndef format_str_camel_case(text):\\n    # https://www.w3resource.com/python-exercises/string/python-data-type-string-exercise-97.php\\n    # Replace hyphens with spaces, then apply regular expression substitutions for title case conversion\\n    # and add an underscore between words, finally convert the result to lowercase\\n\\n    return \\'_\\'.join(\\n        re.sub(\\'([A-Z][a-z]+)\\', r\\' \\\\1\\',\\n        re.sub(\\'([A-Z]+)\\', r\\' \\\\1\\',\\n        text.replace(\\'-\\', \\' \\'))).split()).lower() \\n\\nprint(format_str_camel_case(\"doesThisWork?\"))\\nprint(format_str_camel_case(\"what about This?\"))'}, {'cell_type': 'markdown', 'id': 'f917f73c-615a-4074-923b-4e6f3e1ccd3b', 'metadata': {'tags': []}, 'source': '## process API Response\\ninstead of a bunch of nested for loops, we will build a function to handle data transformation at the row granularity.<br>\\nThis approach improves testabilty because we can test the output of one row'}, {'cell_type': 'code', 'execution_count': 5, 'id': '46b15d7d-b737-4ac0-9509-e4ca5fcfe06e', 'metadata': {'tags': [], 'trusted': True}, 'outputs': [{'data': {'text/plain': \"{'key': 'abstract-credential-store',\\n 'name': 'Abstract Credential Store',\\n 'authenticationScheme': 'fields',\\n 'unassociatedDataSourceCount': 0,\\n 'accounts': [{'id': 71,\\n   'name': 'domo_creds',\\n   'userId': '1893952720',\\n   'displayName': 'domo_creds - update 2024-02-21',\\n   'type': 'data',\\n   'dataProviderType': 'abstract-credential-store',\\n   'valid': True,\\n   'dateOfExpiration': None,\\n   'dataSourceCount': 0,\\n   'daysToExpiry': None,\\n   'expired': None},\\n  {'id': 87,\\n   'name': 'Abstract Credential Store Account',\\n   'userId': '1893952720',\\n   'displayName': 'jw_creds',\\n   'type': 'data',\\n   'dataProviderType': 'abstract-credential-store',\\n   'valid': True,\\n   'dateOfExpiration': None,\\n   'dataSourceCount': 0,\\n   'daysToExpiry': None,\\n   'expired': None},\\n  {'id': 88,\\n   'name': 'fake_account',\\n   'userId': '1893952720',\\n   'displayName': 'fake_account',\\n   'type': 'data',\\n   'dataProviderType': 'abstract-credential-store',\\n   'valid': True,\\n   'dateOfExpiration': None,\\n   'dataSourceCount': 0,\\n   'daysToExpiry': None,\\n   'expired': None},\\n  {'id': 92,\\n   'name': 'jw_username_password_auth',\\n   'userId': '1893952720',\\n   'displayName': 'jw_username_password_auth',\\n   'type': 'data',\\n   'dataProviderType': 'abstract-credential-store',\\n   'valid': True,\\n   'dateOfExpiration': None,\\n   'dataSourceCount': 0,\\n   'daysToExpiry': None,\\n   'expired': None}]}\"}, 'execution_count': 5, 'metadata': {}, 'output_type': 'execute_result'}], 'source': 'test_data = get_accounts(domo_instance = domo_instance, session_token = session_token)\\ntest_data[0]'}, {'cell_type': 'code', 'execution_count': 6, 'id': 'e5f27591-3fc8-4a16-980e-db562303cc10', 'metadata': {'tags': [], 'trusted': True}, 'outputs': [{'data': {'text/plain': \"{'id': 71,\\n 'name': 'domo_creds',\\n 'userId': '1893952720',\\n 'displayName': 'domo_creds - update 2024-02-21',\\n 'type': 'data',\\n 'dataProviderType': 'abstract-credential-store',\\n 'valid': True,\\n 'dateOfExpiration': None,\\n 'dataSourceCount': 0,\\n 'daysToExpiry': None,\\n 'expired': None}\"}, 'execution_count': 6, 'metadata': {}, 'output_type': 'execute_result'}], 'source': \"test_data[0]['accounts'][0]\"}, {'cell_type': 'code', 'execution_count': 7, 'id': '35702d2b-5f9a-4d2f-ae68-b10b9414d78d', 'metadata': {'tags': [], 'trusted': True}, 'outputs': [{'data': {'text/plain': \"{'user_id': '1893952720',\\n 'data_provider_type': 'abstract-credential-store',\\n 'date_of_expiration': None,\\n 'data_source_count': 0,\\n 'data_provider_name': 'domo_creds',\\n 'account_id': 71,\\n 'account_name': 'domo_creds - update 2024-02-21'}\"}, 'execution_count': 7, 'metadata': {}, 'output_type': 'execute_result'}], 'source': 'def process_domostats_get_accounts_account(account_obj, data_provider_name):\\n    \"\"\"most granular level\"\"\"\\n    \\n    account_obj.update({\"data_provider_name\": data_provider_name}) \\n    \\n    account_obj[\\'dataProviderType\\'] = account_obj[\\'dataProviderType\\'] \\n    account_obj[\\'account_id\\'] = account_obj.pop(\\'id\\')\\n    account_obj[\\'account_name\\'] = account_obj.pop(\\'displayName\\')\\n\\n    account_obj.pop(\\'name\\')\\n    account_obj.pop(\\'type\\')\\n    account_obj.pop(\\'daysToExpiry\\')\\n    account_obj.pop(\\'valid\\')\\n    account_obj.pop(\\'expired\\')\\n\\n    return { format_str_camel_case(key) : value for key, value in account_obj.items()}\\n\\ntest_data_provider_type = test_data[0][\\'accounts\\'][0].copy()\\ntest_account = test_data[0][\\'accounts\\'][0].copy()\\n\\nprocess_domostats_get_accounts_account(account_obj = test_account , \\n                                       data_provider_name = test_data_provider_type[\\'name\\'])'}, {'cell_type': 'code', 'execution_count': 8, 'id': 'd2b79a65-c6a2-4ee0-b3d2-d5368ec0c784', 'metadata': {'tags': [], 'trusted': True}, 'outputs': [{'data': {'text/html': '<div>\\n<style scoped>\\n    .dataframe tbody tr th:only-of-type {\\n        vertical-align: middle;\\n    }\\n\\n    .dataframe tbody tr th {\\n        vertical-align: top;\\n    }\\n\\n    .dataframe thead th {\\n        text-align: right;\\n    }\\n</style>\\n<table border=\"1\" class=\"dataframe\">\\n  <thead>\\n    <tr style=\"text-align: right;\">\\n      <th></th>\\n      <th>user_id</th>\\n      <th>data_provider_type</th>\\n      <th>date_of_expiration</th>\\n      <th>data_source_count</th>\\n      <th>data_provider_name</th>\\n      <th>account_id</th>\\n      <th>account_name</th>\\n    </tr>\\n  </thead>\\n  <tbody>\\n    <tr>\\n      <th>0</th>\\n      <td>1893952720</td>\\n      <td>abstract-credential-store</td>\\n      <td>None</td>\\n      <td>0</td>\\n      <td>Abstract Credential Store</td>\\n      <td>71</td>\\n      <td>domo_creds - update 2024-02-21</td>\\n    </tr>\\n    <tr>\\n      <th>1</th>\\n      <td>1893952720</td>\\n      <td>abstract-credential-store</td>\\n      <td>None</td>\\n      <td>0</td>\\n      <td>Abstract Credential Store</td>\\n      <td>87</td>\\n      <td>jw_creds</td>\\n    </tr>\\n    <tr>\\n      <th>2</th>\\n      <td>1893952720</td>\\n      <td>abstract-credential-store</td>\\n      <td>None</td>\\n      <td>0</td>\\n      <td>Abstract Credential Store</td>\\n      <td>88</td>\\n      <td>fake_account</td>\\n    </tr>\\n    <tr>\\n      <th>3</th>\\n      <td>1893952720</td>\\n      <td>abstract-credential-store</td>\\n      <td>None</td>\\n      <td>0</td>\\n      <td>Abstract Credential Store</td>\\n      <td>92</td>\\n      <td>jw_username_password_auth</td>\\n    </tr>\\n  </tbody>\\n</table>\\n</div>', 'text/plain': '      user_id         data_provider_type date_of_expiration  \\\\\\n0  1893952720  abstract-credential-store               None   \\n1  1893952720  abstract-credential-store               None   \\n2  1893952720  abstract-credential-store               None   \\n3  1893952720  abstract-credential-store               None   \\n\\n   data_source_count         data_provider_name  account_id  \\\\\\n0                  0  Abstract Credential Store          71   \\n1                  0  Abstract Credential Store          87   \\n2                  0  Abstract Credential Store          88   \\n3                  0  Abstract Credential Store          92   \\n\\n                     account_name  \\n0  domo_creds - update 2024-02-21  \\n1                        jw_creds  \\n2                    fake_account  \\n3       jw_username_password_auth  '}, 'execution_count': 8, 'metadata': {}, 'output_type': 'execute_result'}], 'source': 'import pandas as pd \\n\\ndef process_domostats_get_accounts_data_povider(data_provider_obj) -> List[dict]:\\n    \"\"\"receives the data_provider obj and flattens to the account obj\"\"\"\\n    account_ls = data_provider_obj[\\'accounts\\']\\n    \\n    return [process_domostats_get_accounts_account(account_obj.copy(), \\n                                                   data_provider_name = data_provider_obj[\\'name\\']) for account_obj in account_ls]\\n    \\ntest_data_provider_type = test_data[0].copy()\\n\\npd.DataFrame(process_domostats_get_accounts_data_povider(test_data_provider_type))[0:5]'}, {'cell_type': 'markdown', 'id': '0c42eabe-19f6-4949-9262-ed40fef19c95', 'metadata': {}, 'source': 'because the `api_response` contains nested lists, we have to do a double list comprehension to flatten into a list of dictionaries.\\n\\n```\\nfor list_of_dictionaries in list_of_lists:\\n    for dict in list_of_dictionaries:\\n        <do_something_with_dict>\\n```\\n\\nis same as\\n\\n\\n```\\n[<do_something_with_dict> for list_of_dictionaries in list_of_lists for dict in list_of_dictionaries]\\n```\\n'}, {'cell_type': 'code', 'execution_count': 9, 'id': '5e657a24-090b-4ead-842e-3cd411d6f99c', 'metadata': {'tags': [], 'trusted': True}, 'outputs': [{'data': {'text/html': '<div>\\n<style scoped>\\n    .dataframe tbody tr th:only-of-type {\\n        vertical-align: middle;\\n    }\\n\\n    .dataframe tbody tr th {\\n        vertical-align: top;\\n    }\\n\\n    .dataframe thead th {\\n        text-align: right;\\n    }\\n</style>\\n<table border=\"1\" class=\"dataframe\">\\n  <thead>\\n    <tr style=\"text-align: right;\">\\n      <th></th>\\n      <th>user_id</th>\\n      <th>data_provider_type</th>\\n      <th>date_of_expiration</th>\\n      <th>data_source_count</th>\\n      <th>data_provider_name</th>\\n      <th>account_id</th>\\n      <th>account_name</th>\\n    </tr>\\n  </thead>\\n  <tbody>\\n    <tr>\\n      <th>0</th>\\n      <td>1893952720</td>\\n      <td>abstract-credential-store</td>\\n      <td>None</td>\\n      <td>0</td>\\n      <td>Abstract Credential Store</td>\\n      <td>71</td>\\n      <td>domo_creds - update 2024-02-21</td>\\n    </tr>\\n    <tr>\\n      <th>1</th>\\n      <td>1893952720</td>\\n      <td>abstract-credential-store</td>\\n      <td>None</td>\\n      <td>0</td>\\n      <td>Abstract Credential Store</td>\\n      <td>87</td>\\n      <td>jw_creds</td>\\n    </tr>\\n    <tr>\\n      <th>2</th>\\n      <td>1893952720</td>\\n      <td>abstract-credential-store</td>\\n      <td>None</td>\\n      <td>0</td>\\n      <td>Abstract Credential Store</td>\\n      <td>88</td>\\n      <td>fake_account</td>\\n    </tr>\\n    <tr>\\n      <th>3</th>\\n      <td>1893952720</td>\\n      <td>abstract-credential-store</td>\\n      <td>None</td>\\n      <td>0</td>\\n      <td>Abstract Credential Store</td>\\n      <td>92</td>\\n      <td>jw_username_password_auth</td>\\n    </tr>\\n    <tr>\\n      <th>4</th>\\n      <td>1893952720</td>\\n      <td>dataset-copy</td>\\n      <td>None</td>\\n      <td>1</td>\\n      <td>DataSet Copy</td>\\n      <td>1</td>\\n      <td>dsa - northshore</td>\\n    </tr>\\n  </tbody>\\n</table>\\n</div>', 'text/plain': '      user_id         data_provider_type date_of_expiration  \\\\\\n0  1893952720  abstract-credential-store               None   \\n1  1893952720  abstract-credential-store               None   \\n2  1893952720  abstract-credential-store               None   \\n3  1893952720  abstract-credential-store               None   \\n4  1893952720               dataset-copy               None   \\n\\n   data_source_count         data_provider_name  account_id  \\\\\\n0                  0  Abstract Credential Store          71   \\n1                  0  Abstract Credential Store          87   \\n2                  0  Abstract Credential Store          88   \\n3                  0  Abstract Credential Store          92   \\n4                  1               DataSet Copy           1   \\n\\n                     account_name  \\n0  domo_creds - update 2024-02-21  \\n1                        jw_creds  \\n2                    fake_account  \\n3       jw_username_password_auth  \\n4                dsa - northshore  '}, 'execution_count': 9, 'metadata': {}, 'output_type': 'execute_result'}], 'source': 'import pandas as pd\\n\\n\\ndef generate_domostats_get_accounts(\\n    domo_instance, session_token\\n) -> pd.DataFrame:\\n    \\n    api_response = get_accounts(domo_instance = domo_instance, session_token = session_token) \\n    \\n    accounts_by_providers_ls = [ process_domostats_get_accounts_data_povider(data_provider_obj) for data_provider_obj in api_response] # produces nested list of lists\\n    \\n    # return accounts_by_providers_ls # one list of accounts per data_provider_type.  uncomment to see an early return\\n    \\n    account_ls = [account for account_ls in accounts_by_providers_ls for account in account_ls] \\n    \\n    # return account_ls # a list of accounts.  uncomment to see an early return\\n    \\n    return pd.DataFrame(account_ls)\\n\\ngenerate_domostats_get_accounts(\\n    domo_instance = domo_instance,\\n    session_token = session_token\\n)[0:5]\\n    '}, {'cell_type': 'markdown', 'id': '3a423d80-8464-44d2-a856-0149e9514415', 'metadata': {}, 'source': '## 🚧 HOMEWORK!!\\n\\nNotice that the named user_id is just a user_id is just a name.  \\n\\n1. Construct a function, `get_user_by_id` that retrieves user information\\n2. Modify `process_domostats_get_accounts_account` to call the `get_user_by_id` function for the `userId`\\n3. Modify the upstream functions to pass the appropriate authentication information'}, {'cell_type': 'code', 'execution_count': 10, 'id': '70f6d0a1-6a97-4c56-9fc9-1122d0d7a081', 'metadata': {'tags': [], 'trusted': True}, 'outputs': [], 'source': '# def get_user_by_id(user_id, access_token, domo_instance):\\n#     url = f\\'https://{domo_instance}.domo.com/api/content/v2/users/{user_id}\\'\\n    \\n#     return {\"username\" : \"sample_response\"} # delete this row and finish\\n\\n# test_user_id = 123 # your_user_id\\n# get_user_by_id( test_user_id, session_token, domo_instance)   \\n\\n# def process_domostats_get_accounts_account(account_obj, data_provider_name, session_token, domo_instance):\\n#     \"\"\"most granular level\"\"\"\\n    \\n#     account_obj.update({\"data_provider_name\": data_provider_name}) \\n    \\n#     account_obj.update({\"user_name\" : get_user_by_id(user_id = account_obj[\\'userId\\'])}) # finish this line!\\n                                                     \\n#     account_obj[\\'dataProviderType\\'] = account_obj[\\'dataProviderType\\'] \\n#     account_obj[\\'account_id\\'] = account_obj.pop(\\'id\\')\\n#     account_obj[\\'account_name\\'] = account_obj.pop(\\'displayName\\')\\n    \\n#     account_obj.pop(\\'name\\')\\n#     account_obj.pop(\\'type\\')\\n#     account_obj.pop(\\'daysToExpiry\\')\\n#     account_obj.pop(\\'valid\\')\\n#     account_obj.pop(\\'expired\\')\\n\\n#     return { format_str_camel_case(key) : value for key, value in account_obj.items()}\\n\\n# test_data_provider_type = test_data[0].copy()\\n\\n# pd.DataFrame(process_domostats_get_accounts_data_povider(test_data_provider_type))[0:5]'}, {'cell_type': 'markdown', 'id': 'c89acf02-180a-4527-a69a-f12c70b9bf32', 'metadata': {'tags': []}, 'source': '## Output as a Dataframe\\n\\nTo output as a dataframe, modify the configuration of the JupyterWorkspace to have an output file.\\n\\n1. add an output dataset to domojupyter workspace to interact with<br><br>\\n   Data > Jupyter Workspaces > Edit (Workspace Name) > Output Datasets > Add Output Dataset - \"DomoStas - Accounts\"\\n\\n2. call `domojupyter.write_dataframe` to output the dataset.  Note it is theoretically possible to apply a PARTITION or UPSERT scheme instead of a straight REPLACE'}, {'cell_type': 'code', 'execution_count': 13, 'id': '3d0665f6-e734-426e-a0c5-0dd2bd0678e5', 'metadata': {'tags': [], 'trusted': True}, 'outputs': [{'name': 'stderr', 'output_type': 'stream', 'text': \"/home/domo/.conda/lib/python3.9/site-packages/domojupyter/io.py:125: FutureWarning: Series.__getitem__ treating keys as positions is deprecated. In a future version, integer keys will always be treated as labels (consistent with DataFrame behavior). To access a value by position, use `ser.iloc[pos]`\\n  columns = [{'name': column, 'type': _convert_type(df.dtypes[ind].name)} for ind, column in enumerate(df.columns)]\\n/home/domo/.conda/lib/python3.9/site-packages/domojupyter/io.py:125: FutureWarning: Series.__getitem__ treating keys as positions is deprecated. In a future version, integer keys will always be treated as labels (consistent with DataFrame behavior). To access a value by position, use `ser.iloc[pos]`\\n  columns = [{'name': column, 'type': _convert_type(df.dtypes[ind].name)} for ind, column in enumerate(df.columns)]\\n/home/domo/.conda/lib/python3.9/site-packages/domojupyter/io.py:125: FutureWarning: Series.__getitem__ treating keys as positions is deprecated. In a future version, integer keys will always be treated as labels (consistent with DataFrame behavior). To access a value by position, use `ser.iloc[pos]`\\n  columns = [{'name': column, 'type': _convert_type(df.dtypes[ind].name)} for ind, column in enumerate(df.columns)]\\n/home/domo/.conda/lib/python3.9/site-packages/domojupyter/io.py:125: FutureWarning: Series.__getitem__ treating keys as positions is deprecated. In a future version, integer keys will always be treated as labels (consistent with DataFrame behavior). To access a value by position, use `ser.iloc[pos]`\\n  columns = [{'name': column, 'type': _convert_type(df.dtypes[ind].name)} for ind, column in enumerate(df.columns)]\\n/home/domo/.conda/lib/python3.9/site-packages/domojupyter/io.py:125: FutureWarning: Series.__getitem__ treating keys as positions is deprecated. In a future version, integer keys will always be treated as labels (consistent with DataFrame behavior). To access a value by position, use `ser.iloc[pos]`\\n  columns = [{'name': column, 'type': _convert_type(df.dtypes[ind].name)} for ind, column in enumerate(df.columns)]\\n/home/domo/.conda/lib/python3.9/site-packages/domojupyter/io.py:125: FutureWarning: Series.__getitem__ treating keys as positions is deprecated. In a future version, integer keys will always be treated as labels (consistent with DataFrame behavior). To access a value by position, use `ser.iloc[pos]`\\n  columns = [{'name': column, 'type': _convert_type(df.dtypes[ind].name)} for ind, column in enumerate(df.columns)]\\n/home/domo/.conda/lib/python3.9/site-packages/domojupyter/io.py:125: FutureWarning: Series.__getitem__ treating keys as positions is deprecated. In a future version, integer keys will always be treated as labels (consistent with DataFrame behavior). To access a value by position, use `ser.iloc[pos]`\\n  columns = [{'name': column, 'type': _convert_type(df.dtypes[ind].name)} for ind, column in enumerate(df.columns)]\\n\"}], 'source': \"import domojupyter as domo\\n\\ndef main():\\n    \\n    creds = utils.get_account_credentials('username_password_auth')\\n    domo_instance = creds['DOMO_INSTANCE']\\n    \\n    session_token = auth.get_full_auth(domo_username = creds['DOMO_USERNAME'],\\n                                  domo_password = creds['DOMO_PASSWORD'],\\n                                  domo_instance = domo_instance\\n                                )\\n\\n    df = generate_domostats_get_accounts(domo_instance = domo_instance,\\n                                         session_token = session_token)\\n    \\n\\n    domo.write_dataframe(df, 'DomoStats - Accounts')\\n    \\n    \\nmain()\"}], 'metadata': {'kernelspec': {'display_name': 'Python 3.9', 'language': 'python', 'name': 'python_3_9'}, 'language_info': {'codemirror_mode': {'name': 'ipython', 'version': 3}, 'file_extension': '.py', 'mimetype': 'text/x-python', 'name': 'python', 'nbconvert_exporter': 'python', 'pygments_lexer': 'ipython3', 'version': '3.9.13'}}, 'nbformat': 4, 'nbformat_minor': 5}, default_export_folder='export'),\n",
       " DomoJupyterWorkspace_Content(name='functions', folder='tutorial/', last_modified=datetime.datetime(2024, 2, 22, 23, 51, 30, 195000, tzinfo=tzutc()), file_type='directory', content=[{'name': 'utils.py', 'path': 'tutorial/functions/utils.py', 'last_modified': '2024-02-22T21:09:32.310000Z', 'created': '2024-02-22T21:09:32.310000Z', 'content': None, 'format': None, 'mimetype': 'text/x-python', 'size': 397, 'writable': True, 'hash': None, 'hash_algorithm': None, 'type': 'file'}, {'name': 'errors.py', 'path': 'tutorial/functions/errors.py', 'last_modified': '2024-02-22T21:33:58.385000Z', 'created': '2024-02-22T21:33:58.385000Z', 'content': None, 'format': None, 'mimetype': 'text/x-python', 'size': 173, 'writable': True, 'hash': None, 'hash_algorithm': None, 'type': 'file'}, {'name': 'auth.py', 'path': 'tutorial/functions/auth.py', 'last_modified': '2024-02-22T23:51:30.191000Z', 'created': '2024-02-22T23:51:30.191000Z', 'content': None, 'format': None, 'mimetype': 'text/x-python', 'size': 686, 'writable': True, 'hash': None, 'hash_algorithm': None, 'type': 'file'}, {'name': '__init__.py', 'path': 'tutorial/functions/__init__.py', 'last_modified': '2024-02-22T21:10:17.177000Z', 'created': '2024-02-22T21:10:17.177000Z', 'content': None, 'format': None, 'mimetype': 'text/x-python', 'size': 0, 'writable': True, 'hash': None, 'hash_algorithm': None, 'type': 'file'}], default_export_folder='export'),\n",
       " DomoJupyterWorkspace_Content(name='Tut2 - Send an API request.ipynb', folder='tutorial/', last_modified=datetime.datetime(2024, 2, 22, 18, 49, 23, 799000, tzinfo=tzutc()), file_type='notebook', content={'cells': [{'cell_type': 'markdown', 'id': '70e93111-f9a5-461e-9067-5980c301adfe', 'metadata': {}, 'source': '## Use Full Auth to handle Domo API Authentication\\n\\n- \"full authentication\" is not the same as client_id and secret authentication which can be retrieved from developer.domo.com\\n\\n- client_id and secret auth (we will call developer_token authentication moving forward) only applies to a small handful of APIs documented under developer.domo.com\\n\\n- \"full authentication actually has two flavors.<br>\\n    - username and password authentication (session_token which has a short expiration date)\\n    - access_token authentication (Admin > Security > Access Token) which tends to have a longer expiration date, we will cover this later\\n\\n\\nDEVELOPER TIPS:\\n- document the type we expect to receive for each input and output variable (str)\\n- provide a document string (denoted in triple quotes) to describe what the function does\\n- notice the use of logic to test for success\\n\\n- 🆕notebooks allow you to compartmentalize your code, write a simple test under each function'}, {'cell_type': 'code', 'execution_count': 1, 'id': 'c2916efa-7a46-4054-86d4-caaa24045cc5', 'metadata': {'tags': [], 'trusted': True}, 'outputs': [], 'source': 'import domojupyter as domo\\nimport json\\n\\ndef get_account_credentials(account_name, is_abstract_account: bool = True):\\n    \"\"\"handles retrieving account properties in domo jupter\"\"\"\\n    \\n    account_properties = domo.get_account_property_keys(account_name)\\n    res = {prop: domo.get_account_property_value(account_name, prop) for prop in account_properties}\\n    return json.loads(res[\\'credentials\\'])\\n\\ncreds = get_account_credentials(\"username_password_auth\", is_abstract_account=True)\\nassert creds'}, {'cell_type': 'markdown', 'id': 'defe5b8d-fefe-4c30-b7a1-11d4abb8f313', 'metadata': {}, 'source': 'DEVELOPER TIP:\\ncreate custom Exception classes to handle error catching in your application\\n\\nwhen you initialize the `DomoAPIRequest_Error` class, you must pass an error `message`.  \\nthat message gets passed to the parent function `Exception` via the `super().__init__()` call'}, {'cell_type': 'code', 'execution_count': 20, 'id': 'b6ecf1e6-7e84-4b86-8838-ff3a97e4b529', 'metadata': {'tags': [], 'trusted': True}, 'outputs': [], 'source': 'class DomoAPIRequest_Error(Exception):\\n    \"\"\"a customized Exception class for handing Domo errors\"\"\"\\n    \\n    def __init__(self, message):\\n        super().__init__(message)'}, {'cell_type': 'code', 'execution_count': 21, 'id': '21beb207-e0b2-44d0-909e-6442ea4b2425', 'metadata': {'tags': [], 'trusted': True}, 'outputs': [], 'source': 'import requests\\n\\ndef get_full_auth(\\n    domo_instance: str,\\n    domo_username: str,\\n    domo_password: str\\n) -> str:  # returns a session token\\n    \"\"\"use username and password to generate an access token\"\"\"\\n\\n    url = f\"https://{domo_instance}.domo.com/api/content/v2/authentication\"\\n\\n    body = {\\n        \"method\": \"password\",\\n        \"emailAddress\": domo_username,\\n        \"password\": domo_password,\\n    }\\n\\n    res = requests.request(method=\"POST\", url=url, json=body)\\n    data = res.json()\\n\\n    token = data.get(\"sessionToken\")\\n    \\n    if not token:\\n        raise DomoAPIRequest_Error(\"unable to retrieve a session token\")\\n\\n    return token\\n\\nsession_token = get_full_auth(domo_username = creds[\\'DOMO_USERNAME\\'],\\n                              domo_password = creds[\\'DOMO_PASSWORD\\'],\\n                              domo_instance = creds[\\'DOMO_INSTANCE\\'] )\\nassert session_token'}, {'cell_type': 'markdown', 'id': 'b7f8d3ad-7cc9-49ad-ad0e-b8369ab27566', 'metadata': {}, 'source': 'DEVELOPER TIPS\\nyou could have two functions, one for handling any account type, and one specifically for handling abstract credentials.\\n\\nin the case of abstract credentials, we only want the \"credentials\" key from the JSON created (notice the modified return statement)\\n\\nIn the v2 of this function, we\\'ll pass `is_abstract_account` boolean parameter with a default value of `True` to modify how `get_account_credentials` behaves'}, {'cell_type': 'code', 'execution_count': 3, 'id': '624bcae4-40ac-42c0-89cd-1d939787cbc6', 'metadata': {'trusted': True}, 'outputs': [], 'source': 'import json\\n\\n# to accommod\\ndef get_account_credentials(account_name, is_abstract_account: bool = True):\\n    \"\"\"version 2 of get_account credentaials\"\"\"\\n    \\n    account_properties = domo.get_account_property_keys(account_name)\\n    res = {prop: domo.get_account_property_value(account_name, prop) for prop in account_properties}\\n    return json.loads(res[\\'credentials\\'])\\n\\ncreds = get_account_credentials(\"username_password_auth\")\\n# creds'}, {'cell_type': 'code', 'execution_count': 22, 'id': '69170328-f07a-4007-ac6d-b1c0ad86ae18', 'metadata': {'tags': [], 'trusted': True}, 'outputs': [], 'source': 'def get_accounts(domo_instance, session_token):\\n    \"\"\"retrieves a list of accounts this user has access to\"\"\"\\n    \\n    headers = {\"x-domo-authentication\": session_token}    \\n    url = f\\'https://{domo_instance}.domo.com/api/data/v2/datasources/providers\\'\\n    \\n    res= requests.request(method = \"GET\",\\n                            url = url,\\n                            headers = headers\\n                           )\\n    \\n    data = res.json()\\n    \\n    if not res.ok:\\n        DomoAPIRequestError(data)\\n        \\n    return data'}, {'cell_type': 'code', 'execution_count': 24, 'id': '3d0665f6-e734-426e-a0c5-0dd2bd0678e5', 'metadata': {'tags': [], 'trusted': True}, 'outputs': [{'data': {'text/plain': \"[{'key': 'abstract-credential-store',\\n  'name': 'Abstract Credential Store',\\n  'authenticationScheme': 'fields',\\n  'unassociatedDataSourceCount': 0,\\n  'accounts': [{'id': 71,\\n    'name': 'domo_creds',\\n    'userId': '1893952720',\\n    'displayName': 'domo_creds - update 2024-02-21',\\n    'type': 'data',\\n    'dataProviderType': 'abstract-credential-store',\\n    'valid': True,\\n    'dateOfExpiration': None,\\n    'dataSourceCount': 0,\\n    'daysToExpiry': None,\\n    'expired': None},\\n   {'id': 87,\\n    'name': 'Abstract Credential Store Account',\\n    'userId': '1893952720',\\n    'displayName': 'jw_creds',\\n    'type': 'data',\\n    'dataProviderType': 'abstract-credential-store',\\n    'valid': True,\\n    'dateOfExpiration': None,\\n    'dataSourceCount': 0,\\n    'daysToExpiry': None,\\n    'expired': None},\\n   {'id': 88,\\n    'name': 'fake_account',\\n    'userId': '1893952720',\\n    'displayName': 'fake_account',\\n    'type': 'data',\\n    'dataProviderType': 'abstract-credential-store',\\n    'valid': True,\\n    'dateOfExpiration': None,\\n    'dataSourceCount': 0,\\n    'daysToExpiry': None,\\n    'expired': None},\\n   {'id': 92,\\n    'name': 'jw_username_password_auth',\\n    'userId': '1893952720',\\n    'displayName': 'jw_username_password_auth',\\n    'type': 'data',\\n    'dataProviderType': 'abstract-credential-store',\\n    'valid': True,\\n    'dateOfExpiration': None,\\n    'dataSourceCount': 0,\\n    'daysToExpiry': None,\\n    'expired': None}]},\\n {'key': 'api',\\n  'name': 'API',\\n  'unassociatedDataSourceCount': 6,\\n  'accounts': []},\\n {'key': 'dataset-copy',\\n  'name': 'DataSet Copy',\\n  'authenticationScheme': 'fields',\\n  'unassociatedDataSourceCount': 0,\\n  'accounts': [{'id': 1,\\n    'name': 'DataSet Copy Account',\\n    'userId': '1893952720',\\n    'displayName': 'dsa - northshore',\\n    'type': 'data',\\n    'dataProviderType': 'dataset-copy',\\n    'valid': True,\\n    'dateOfExpiration': None,\\n    'dataSourceCount': 1,\\n    'daysToExpiry': None,\\n    'expired': None}]},\\n {'key': 'dataset-view',\\n  'name': 'DataSet View',\\n  'unassociatedDataSourceCount': 7,\\n  'accounts': []},\\n {'key': 'domo-csv',\\n  'name': 'DataSet Copy',\\n  'authenticationScheme': 'fields',\\n  'unassociatedDataSourceCount': 0,\\n  'accounts': [{'id': 27,\\n    'name': 'DataSet Copy Account',\\n    'userId': '1893952720',\\n    'displayName': 'DataSet Copy Account',\\n    'type': 'data',\\n    'dataProviderType': 'domo-csv',\\n    'valid': True,\\n    'dateOfExpiration': None,\\n    'dataSourceCount': 0,\\n    'daysToExpiry': None,\\n    'expired': None}]},\\n {'key': 'domo-jupyterdata',\\n  'name': 'Jupyter Data',\\n  'unassociatedDataSourceCount': 9,\\n  'accounts': []},\\n {'key': 'file-upload',\\n  'name': 'File Upload',\\n  'unassociatedDataSourceCount': 1,\\n  'accounts': []},\\n {'key': 'google-spreadsheets',\\n  'name': 'Google Sheets',\\n  'authenticationScheme': 'oauth',\\n  'unassociatedDataSourceCount': 0,\\n  'accounts': [{'id': 45,\\n    'name': 'onyxReporting@gmail.com',\\n    'userId': '1893952720',\\n    'displayName': 'test-goolesheets',\\n    'type': 'data',\\n    'dataProviderType': 'google-spreadsheets',\\n    'valid': True,\\n    'dateOfExpiration': None,\\n    'dataSourceCount': 1,\\n    'daysToExpiry': None,\\n    'expired': None},\\n   {'id': 70,\\n    'name': 'jaemyong.wilson@sony.com',\\n    'userId': '1893952720',\\n    'displayName': 'jaemyong.wilson@sony.com',\\n    'type': 'data',\\n    'dataProviderType': 'google-spreadsheets',\\n    'valid': True,\\n    'dateOfExpiration': None,\\n    'dataSourceCount': 0,\\n    'daysToExpiry': None,\\n    'expired': None}]},\\n {'key': 'json5',\\n  'name': 'JSON',\\n  'authenticationScheme': 'fields',\\n  'unassociatedDataSourceCount': 0,\\n  'accounts': [{'id': 91,\\n    'name': 'JSON Account',\\n    'userId': '1893952720',\\n    'displayName': 'JSON Account',\\n    'type': 'data',\\n    'dataProviderType': 'json5',\\n    'valid': True,\\n    'dateOfExpiration': None,\\n    'dataSourceCount': 0,\\n    'daysToExpiry': None,\\n    'expired': None}]},\\n {'key': 'large-file-upload',\\n  'name': 'Large File Upload',\\n  'unassociatedDataSourceCount': 2,\\n  'accounts': []},\\n {'key': 'sample-data',\\n  'name': 'Sample Data',\\n  'unassociatedDataSourceCount': 6,\\n  'accounts': []},\\n {'key': 'webform',\\n  'name': 'Domo Webform',\\n  'unassociatedDataSourceCount': 29,\\n  'accounts': []},\\n {'key': 'workbench-csv',\\n  'name': 'CSV',\\n  'unassociatedDataSourceCount': 1,\\n  'accounts': []}]\"}, 'execution_count': 24, 'metadata': {}, 'output_type': 'execute_result'}], 'source': \"\\ndef main():\\n    \\n    creds = get_account_credentials('username_password_auth')\\n\\n    session_token = get_full_auth(domo_username = creds['DOMO_USERNAME'],\\n                                  domo_password = creds['DOMO_PASSWORD'],\\n                                  domo_instance = creds['DOMO_INSTANCE']\\n                                )\\n\\n    return get_accounts(domo_instance = domo_instance, session_token = session_token)\\n\\nmain()\"}], 'metadata': {'kernelspec': {'display_name': 'Python 3.9', 'language': 'python', 'name': 'python_3_9'}, 'language_info': {'codemirror_mode': {'name': 'ipython', 'version': 3}, 'file_extension': '.py', 'mimetype': 'text/x-python', 'name': 'python', 'nbconvert_exporter': 'python', 'pygments_lexer': 'ipython3', 'version': '3.9.13'}}, 'nbformat': 4, 'nbformat_minor': 5}, default_export_folder='export'),\n",
       " DomoJupyterWorkspace_Content(name='updated_2024-03-06.txt', folder='new_folder/', last_modified=datetime.datetime(2024, 3, 6, 18, 45, 3, 787000, tzinfo=tzutc()), file_type='file', content=\"jae rocks at debugging.  he's superfly -- updated 2024-03-06\", default_export_folder='export'),\n",
       " DomoJupyterWorkspace_Content(name='Tut4 - Using Access Token Authentication and Updating Domo via API.ipynb', folder='tutorial/', last_modified=datetime.datetime(2024, 2, 23, 3, 12, 17, 656000, tzinfo=tzutc()), file_type='notebook', content={'cells': [{'cell_type': 'markdown', 'id': '70e93111-f9a5-461e-9067-5980c301adfe', 'metadata': {}, 'source': '# Tut4 - Using Access Token Authentication and Updating Domo via API\\nIn an ideal world Domo \\'wants\\' you use Access Toke authentication.\\n\\nCan we\\n1. monitor network traffic to see how an access token gets issued\\n2. capture that access token and upload it to an abstract account object in DomoJupyter?\\n\\n3. 🚧 for take home extra credit\\n    - Using Tutorial 3 - create a dataset that lists available access tokens\\n    - Using Tutorial 2 - create a function that revokes an access token\\n\\nRECALL:\\n- client_id and secret auth (we will call developer_token authentication moving forward) only applies to a small handful of APIs documented under developer.domo.com\\n\\n- \"full authentication actually has two flavors.<br>\\n    - username and password authentication (session_token which has a short expiration date)\\n    - access_token authentication (Admin > Security > Access Token) which tends to have a longer expiration date, we will cover this later\\n    \\nDEVELOPER TIP\\n- to have recycleable code, consider moving functions into a separate .py file in a subfolder.\\n- notice you must have an `__ini__.py` file in the subfolder in order to import it as a module'}, {'cell_type': 'markdown', 'id': '3b55c719-3ee5-4983-9308-89bccef91eb4', 'metadata': {}, 'source': '# Auth'}, {'cell_type': 'code', 'execution_count': 1, 'id': 'ae537a33-b670-4989-9309-11ab802ba0eb', 'metadata': {'tags': [], 'trusted': True}, 'outputs': [], 'source': 'import functions.utils as utils\\nimport functions.auth as auth\\nimport functions.errors as errors'}, {'cell_type': 'code', 'execution_count': 2, 'id': '21cf3e80-9d4b-42fb-ba00-aed5983eb0cd', 'metadata': {'tags': [], 'trusted': True}, 'outputs': [], 'source': 'creds = utils.get_account_credentials(\"username_password_auth\", is_abstract_account=True)\\nassert creds\\n\\ndomo_instance = creds[\\'DOMO_INSTANCE\\']'}, {'cell_type': 'code', 'execution_count': 3, 'id': 'ec6cab69-d0cc-4848-aeb8-efcaf2f97414', 'metadata': {'tags': [], 'trusted': True}, 'outputs': [], 'source': \"session_token = auth.get_full_auth(domo_username = creds['DOMO_USERNAME'],\\n                              domo_password = creds['DOMO_PASSWORD'],\\n                              domo_instance = creds['DOMO_INSTANCE']\\n                            )\\n\\nassert session_token\"}, {'cell_type': 'code', 'execution_count': 4, 'id': '845ba6de-4526-4e43-bec8-937ebfca8818', 'metadata': {'tags': [], 'trusted': True}, 'outputs': [{'data': {'text/plain': \"{'id': 1893952720,\\n 'invitorUserId': 587894148,\\n 'displayName': 'Jae Wilson1',\\n 'department': 'Business Improvement',\\n 'userName': 'jae@onyxreporting.com',\\n 'emailAddress': 'jae@onyxreporting.com',\\n 'avatarKey': 'c605f478-0cd2-4451-9fd4-d82090b71e66',\\n 'accepted': True,\\n 'userType': 'USER',\\n 'modified': 1708035568417,\\n 'created': 1588960518,\\n 'active': True,\\n 'pending': False,\\n 'anonymous': False,\\n 'systemUser': False}\"}, 'execution_count': 4, 'metadata': {}, 'output_type': 'execute_result'}], 'source': 'import requests\\n\\n# ultimately we will move this to auth.py, but surfacing here since this is a new function for us\\n\\ndef who_am_i(domo_instance, session_token):\\n    \"\"\"uses session_token and returns who API request is authorized as\"\"\"\\n    \\n    headers = {\"x-domo-authentication\": session_token}\\n    url = f\"https://{domo_instance}.domo.com/api/content/v2/users/me\"\\n    \\n    res = requests.request(method = \\'GET\\', url = url, headers = headers)\\n    \\n    data = res.json()\\n    \\n    if not res.ok:\\n        raise errors.DomoAPIRequest_Error(data)\\n    return data\\n\\nwho_am_i(domo_instance = domo_instance, session_token = session_token)'}, {'cell_type': 'markdown', 'id': '4f7f7879-b98b-4fd1-9374-7145623aa8c6', 'metadata': {}, 'source': '## utils'}, {'cell_type': 'code', 'execution_count': 5, 'id': '03bcd5e0-c798-46fe-991e-b2b3c51bf5ab', 'metadata': {'tags': [], 'trusted': True}, 'outputs': [{'name': 'stdout', 'output_type': 'stream', 'text': '2024-02-28 02:50:32 is 5 days in the future\\n'}], 'source': 'import datetime as dt\\nimport time\\ndef generate_expiration_unixtimestamp(\\n    duration_in_days: int = 30, debug_prn: bool = False\\n):\\n    \"\"\"generate a unixtimestamp `duration_in_days` into the future\"\"\"\\n\\n    today = dt.datetime.today()\\n    expiration_date = today + dt.timedelta(days=duration_in_days)\\n\\n    if debug_prn:\\n        print(f\"expiration_date is {duration_in_days} from today {expiration_date}\")\\n\\n    return int(time.mktime(expiration_date.timetuple()) * 1000)\\n\\nprint(f\"{dt.datetime.utcfromtimestamp(generate_expiration_unixtimestamp(5)/1000)} is 5 days in the future\")'}, {'cell_type': 'markdown', 'id': 'ca1619cb-6221-4829-999f-7ecdf777bea0', 'metadata': {}, 'source': '# Access Token\\n'}, {'cell_type': 'code', 'execution_count': 6, 'id': '6d652024-cbc5-4c98-82e0-4cefc7b700df', 'metadata': {'trusted': True}, 'outputs': [{'name': 'stdout', 'output_type': 'stream', 'text': '🚀 generating token for 123 - will expire on 2024-03-24 02:50:32\\n'}, {'data': {'text/plain': \"{'name': 'test', 'ownerId': 123, 'expires': 1711248632000}\"}, 'execution_count': 6, 'metadata': {}, 'output_type': 'execute_result'}], 'source': 'import datetime as dt\\n\\ndef generate_request_accesstoken_body(token_name, owner_id, duration_in_days: int = 30, debug_prn: bool = False):\\n    \\n    expires_ts = generate_expiration_unixtimestamp(duration_in_days)\\n    \\n    res = {\"name\":token_name,\"ownerId\":owner_id,\"expires\":expires_ts}\\n    \\n    if debug_prn:\\n        print(f\"🚀 generating token for {owner_id} - will expire on {dt.datetime.utcfromtimestamp(expires_ts/1000)}\")\\n    \\n    return res\\n\\ngenerate_request_accesstoken_body(token_name = \\'test\\', owner_id = 123, debug_prn = True)'}, {'cell_type': 'code', 'execution_count': 12, 'id': 'fcb69565-549b-4b18-9d3b-f50380c3d6b5', 'metadata': {'trusted': True}, 'outputs': [{'data': {'text/plain': \"{'id': 186721,\\n 'name': 'tutorial',\\n 'ownerId': 1893952720,\\n 'ownerName': 'Jae Wilson1',\\n 'ownerEmail': 'jae@onyxreporting.com',\\n 'expires': 1711249039000,\\n 'token': '51f7ee083ff2306230dbdb780ba71435b57c6f5ae498709f'}\"}, 'execution_count': 12, 'metadata': {}, 'output_type': 'execute_result'}], 'source': 'def request_access_token(\\n    token_name : str,\\n    session_token, \\n    domo_instance,\\n    duration_in_days : int= 30,\\n    owner_id = None, # if no user_id provided, will generate for authenticated user\\n    debug_prn:bool = False\\n):\\n    \\n    # update user_id based on who_am_i\\n    res = who_am_i(domo_instance = domo_instance, \\n                   session_token = session_token)\\n    \\n    owner_id = owner_id or res[\\'id\\']\\n    \\n    body = generate_request_accesstoken_body(token_name,\\n                                             owner_id = owner_id,\\n                                             duration_in_days = duration_in_days,\\n                                             debug_prn = debug_prn)\\n    \\n    headers = {\"x-domo-authentication\": session_token}\\n    \\n    url = f\\'https://{domo_instance}.domo.com/api/data/v1/accesstokens\\'\\n    \\n    res = requests.request(method = \\'POST\\', \\n                           url = url, \\n                           json = body,\\n                           headers = headers)\\n    \\n    data = res.json()\\n    \\n    if not res.ok:\\n        raise errors.DomoAPIRequest_Error(data)\\n        \\n    return data\\n\\naccess_token = request_access_token(token_name = \"tutorial\", \\n                                    session_token= session_token,\\n                                    domo_instance = domo_instance\\n                                   )\\naccess_token'}, {'cell_type': 'markdown', 'id': '16226601-8a1f-4ebd-accb-19c45523416d', 'metadata': {'tags': []}, 'source': '## use an Abstract Account to store credentials\\n\\nRemember, once we retrieve the token, we\\'ll never see it again in clear text\\n\\nHow might we store it in an abstract account object?\\n\\nRemember in tutorial 3 we generated a DomoStats dataset.  \\n1. retrieve the desired data\\n2. structure the data the way we want it\\n3. put it someplace\\n\\nAt this point we have retrieved the data, now we just need to understand how the DomoAccounts api needs to receive the access token for storage\\n\\n1. monitor network traffic to see what it takes to store an abstract credential.\\n\\nHomework\\nWe don\\'t always want to create a new account object, when we revoke and generate a new access_token, we probably just want to update the existing account object.  How might we.\\n\\n1. get_all_accounts (already done!)\\n2. retrieve \"the correct\" account object (search by name)\\n3. update \"the correct\" account object'}, {'cell_type': 'code', 'execution_count': 20, 'id': '185b40cd-b431-40ce-a557-43739935f1ca', 'metadata': {'tags': [], 'trusted': True}, 'outputs': [{'data': {'text/plain': \"{'name': 'Abstract Credential Store Account',\\n 'displayName': 'test - updated 2024-02-23',\\n 'dataProviderType': 'abstract-credential-store',\\n 'configurations': {'credentials': 'my creds go here'}}\"}, 'execution_count': 20, 'metadata': {}, 'output_type': 'execute_result'}], 'source': 'import datetime as dt\\nimport json\\ndef generate_abstract_credential_account_body( account_name, credentials, is_timestamp: bool = True):\\n    \\n    # the API expects credentials to be type string, so conditionally convert dict to string\\n    if isinstance(credentials, dict):\\n        credentials = json.dumps(credentials)\\n    \\n    if is_timestamp:\\n        account_name = f\"{account_name} - updated {dt.date.today()}\"\\n    return {\"name\":\"Abstract Credential Store Account\",\\n            \"displayName\": account_name,\\n            \"dataProviderType\":\"abstract-credential-store\",\\n            \"configurations\":{\"credentials\": credentials}}\\n\\ngenerate_abstract_credential_account_body( \"test\", \"my creds go here\", is_timestamp = True)\\n'}, {'cell_type': 'code', 'execution_count': 22, 'id': '35b54d23-5d84-4912-9380-9c582fee6c22', 'metadata': {'trusted': True}, 'outputs': [{'data': {'text/plain': \"{'id': 94,\\n 'userId': 1893952720,\\n 'name': 'Abstract Credential Store Account',\\n 'displayName': 'my_domo_community_access_token - updated 2024-02-23',\\n 'type': 'data',\\n 'valid': False,\\n 'dataProviderType': 'abstract-credential-store',\\n 'credentialsType': 'fields',\\n 'createdAt': None,\\n 'createdBy': 1893952720,\\n 'modifiedAt': None,\\n 'modifiedBy': 1893952720,\\n 'configurations': {},\\n 'accountId': 94,\\n 'accountTemplateId': None,\\n 'accountTemplateAuthorizationId': None}\"}, 'execution_count': 22, 'metadata': {}, 'output_type': 'execute_result'}], 'source': 'import requests\\ndef create_account(body, domo_instance, session_token):\\n    url = f\"https://{domo_instance}.domo.com/api/data/v1/accounts\"\\n    \\n    headers = {\"x-domo-authentication\": session_token}\\n    \\n    res = requests.request(method = \\'POST\\', url = url, json = body, headers = headers)\\n    data = res.json()\\n    \\n    if not res.ok:\\n        raise errors.DomoAPIRequest_Error(data)\\n        \\n    return data\\n\\ncreate_account_body = generate_abstract_credential_account_body(account_name = \"my_domo_community_access_token\", credentials = access_token)\\n\\ncreate_account(body = create_account_body,\\n               domo_instance = domo_instance,\\n               session_token = session_token)'}, {'cell_type': 'code', 'execution_count': 23, 'id': '3d0665f6-e734-426e-a0c5-0dd2bd0678e5', 'metadata': {'tags': [], 'trusted': True}, 'outputs': [{'data': {'text/plain': \"{'id': 95,\\n 'userId': 1893952720,\\n 'name': 'my_domo_community_access_token - updated 2024-02-23 (2)',\\n 'displayName': 'my_domo_community_access_token - updated 2024-02-23 (2)',\\n 'type': 'data',\\n 'valid': False,\\n 'dataProviderType': 'abstract-credential-store',\\n 'credentialsType': 'fields',\\n 'createdAt': None,\\n 'createdBy': 1893952720,\\n 'modifiedAt': None,\\n 'modifiedBy': 1893952720,\\n 'configurations': {},\\n 'accountId': 95,\\n 'accountTemplateId': None,\\n 'accountTemplateAuthorizationId': None}\"}, 'execution_count': 23, 'metadata': {}, 'output_type': 'execute_result'}], 'source': '\\ndef main():\\n    \\n    creds = utils.get_account_credentials(\"username_password_auth\", is_abstract_account=True)\\n    domo_instance = creds[\\'DOMO_INSTANCE\\']\\n    \\n    session_token = auth.get_full_auth(domo_username = creds[\\'DOMO_USERNAME\\'],\\n                              domo_password = creds[\\'DOMO_PASSWORD\\'],\\n                              domo_instance = creds[\\'DOMO_INSTANCE\\']\\n                            )\\n    \\n    access_token = request_access_token(token_name = \"b\", \\n                                    session_token= session_token,\\n                                    domo_instance = domo_instance\\n                                   )\\n    \\n    create_account_body = generate_abstract_credential_account_body(account_name = \"my_domo_community_access_token\", credentials = access_token)\\n\\n    return create_account(body = create_account_body,\\n               domo_instance = domo_instance,\\n               session_token = session_token)\\n\\nmain()'}], 'metadata': {'kernelspec': {'display_name': 'Python 3.9', 'language': 'python', 'name': 'python_3_9'}, 'language_info': {'codemirror_mode': {'name': 'ipython', 'version': 3}, 'file_extension': '.py', 'mimetype': 'text/x-python', 'name': 'python', 'nbconvert_exporter': 'python', 'pygments_lexer': 'ipython3', 'version': '3.9.13'}}, 'nbformat': 4, 'nbformat_minor': 5}, default_export_folder='export'),\n",
       " DomoJupyterWorkspace_Content(name='auth.py', folder='tutorial/functions/', last_modified=datetime.datetime(2024, 2, 22, 23, 51, 30, 191000, tzinfo=tzutc()), file_type='file', content='import requests\\nfrom .errors import DomoAPIRequest_Error\\n\\ndef get_full_auth(\\n    domo_instance: str,\\n    domo_username: str,\\n    domo_password: str\\n) -> str:  # returns a session token\\n    \"\"\"use username and password to generate an access token\"\"\"\\n\\n    url = f\"https://{domo_instance}.domo.com/api/content/v2/authentication\"\\n\\n    body = {\\n        \"method\": \"password\",\\n        \"emailAddress\": domo_username,\\n        \"password\": domo_password,\\n    }\\n\\n    res = requests.request(method=\"POST\", url=url, json=body)\\n    data = res.json()\\n\\n    token = data.get(\"sessionToken\")\\n    \\n    if not token:\\n        raise DomoAPIRequest_Error(\"unable to retrieve a session token\")\\n\\n    return token', default_export_folder='export'),\n",
       " DomoJupyterWorkspace_Content(name='__init__.py', folder='tutorial/functions/', last_modified=datetime.datetime(2024, 2, 22, 21, 10, 17, 177000, tzinfo=tzutc()), file_type='file', content='', default_export_folder='export'),\n",
       " DomoJupyterWorkspace_Content(name='utils.py', folder='tutorial/functions/', last_modified=datetime.datetime(2024, 2, 22, 21, 9, 32, 310000, tzinfo=tzutc()), file_type='file', content='import domojupyter as domo\\nimport json\\n\\ndef get_account_credentials(account_name, is_abstract_account: bool = True):\\n    \"\"\"handles retrieving account properties in domo jupter\"\"\"\\n    \\n    account_properties = domo.get_account_property_keys(account_name)\\n    res = {prop: domo.get_account_property_value(account_name, prop) for prop in account_properties}\\n    return json.loads(res[\\'credentials\\'])', default_export_folder='export'),\n",
       " DomoJupyterWorkspace_Content(name='errors.py', folder='tutorial/functions/', last_modified=datetime.datetime(2024, 2, 22, 21, 33, 58, 385000, tzinfo=tzutc()), file_type='file', content='class DomoAPIRequest_Error(Exception):\\n    \"\"\"a customized Exception class for handing Domo errors\"\"\"\\n    \\n    def __init__(self, message):\\n        super().__init__(message)', default_export_folder='export')]"
      ]
     },
     "execution_count": 10,
     "metadata": {},
     "output_type": "execute_result"
    }
   ],
   "source": [
    "domo_workspace = await DomoJupyterWorkspace.get_by_id(\n",
    "    workspace_id=workspace_id,\n",
    "    auth=token_auth,\n",
    "    jupyter_token=\"9meJVc62g4nVWvlD9qdJFgmO3Oxm0r\",\n",
    ")\n",
    "domo_workspace_content = await domo_workspace.get_content()\n",
    "\n",
    "domo_workspace_content"
   ]
  },
  {
   "cell_type": "markdown",
   "id": "3a1baac1",
   "metadata": {},
   "source": [
    "#### sample implementation of updating content with DomoJupyter_Content class\n"
   ]
  },
  {
   "cell_type": "code",
   "execution_count": 12,
   "id": "6b335e28",
   "metadata": {},
   "outputs": [
    {
     "data": {
      "text/plain": [
       "ResponseGetData(status=200, response={'name': 'updated_2024-03-06.txt', 'path': 'new_folder/updated_2024-03-06.txt', 'last_modified': '2024-03-06T20:02:13.483000Z', 'created': '2024-03-06T20:02:13.483000Z', 'content': None, 'format': None, 'mimetype': 'text/plain', 'size': 60, 'writable': True, 'hash': None, 'hash_algorithm': None, 'type': 'file'}, is_success=True, parent_class=None)"
      ]
     },
     "execution_count": 12,
     "metadata": {},
     "output_type": "execute_result"
    }
   ],
   "source": [
    "test_content = next(\n",
    "    (\n",
    "        content\n",
    "        for content in domo_workspace_content\n",
    "        if content.name.startswith( 'updated_') and content.folder == \"new_folder/\"\n",
    "    )\n",
    ")\n",
    "test_content.content = f\"jae rocks at debugging.  he's superfly -- updated {dt.date.today()}\"\n",
    "\n",
    "await test_content.update(debug_api=False)"
   ]
  },
  {
   "cell_type": "markdown",
   "id": "3ed98553",
   "metadata": {},
   "source": [
    "#### sample implementation of export_content\n"
   ]
  },
  {
   "cell_type": "code",
   "execution_count": 13,
   "id": "8034b42a-f645-4974-a25b-8c403a0886fd",
   "metadata": {},
   "outputs": [
    {
     "data": {
      "text/plain": [
       "'../test/updated_2024-03-06.txt'"
      ]
     },
     "execution_count": 13,
     "metadata": {},
     "output_type": "execute_result"
    }
   ],
   "source": [
    "test_content.export(output_folder=\"../test/\")"
   ]
  },
  {
   "cell_type": "code",
   "execution_count": 14,
   "id": "0e51b255",
   "metadata": {},
   "outputs": [],
   "source": [
    "# | hide\n",
    "import nbdev\n",
    "\n",
    "nbdev.nbdev_export()"
   ]
  }
 ],
 "metadata": {
  "kernelspec": {
   "display_name": "python3",
   "language": "python",
   "name": "python3"
  },
  "language_info": {
   "codemirror_mode": {
    "name": "ipython",
    "version": 3
   },
   "file_extension": ".py",
   "mimetype": "text/x-python",
   "name": "python",
   "nbconvert_exporter": "python",
   "pygments_lexer": "ipython3",
   "version": "3.10.12"
  }
 },
 "nbformat": 4,
 "nbformat_minor": 5
}
