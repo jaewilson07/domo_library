{
 "cells": [
  {
   "cell_type": "raw",
   "metadata": {},
   "source": [
    "---\n",
    "description: a class based approach to interacting with DomoCards\n",
    "output-file: card_class.html\n",
    "title: Domo Card\n",
    "\n",
    "---\n",
    "\n"
   ]
  },
  {
   "cell_type": "code",
   "execution_count": 27,
   "metadata": {},
   "outputs": [],
   "source": [
    "#| default_exp classes.DomoCard"
   ]
  },
  {
   "cell_type": "code",
   "execution_count": 28,
   "metadata": {},
   "outputs": [],
   "source": [
    "#| exporti\n",
    "from dataclasses import dataclass, field\n",
    "\n",
    "import asyncio\n",
    "from fastcore.basics import patch_to\n",
    "\n",
    "import domolibrary.routes.card as card_routes\n",
    "\n",
    "import domolibrary.client.DomoAuth as dmda\n",
    "import domolibrary.client.DomoError as de\n",
    "import domolibrary.utils.DictDot as util_dd"
   ]
  },
  {
   "cell_type": "code",
   "execution_count": 29,
   "metadata": {},
   "outputs": [],
   "source": [
    "# | export\n",
    "@dataclass\n",
    "class DomoCard:\n",
    "    id: str\n",
    "    auth: dmda.DomoAuth = field(repr=False)\n",
    "    title: str = None\n",
    "    description: str = None\n",
    "    type: str = None\n",
    "    urn: str = None\n",
    "    chart_type: str = None\n",
    "    dataset_id: str = None\n",
    "\n",
    "    certification: field(default_factory=dict) = None\n",
    "    owners: field(default_factory=list) = None\n",
    "\n",
    "    def __post_init__(self):\n",
    "        # self.Definition = CardDefinition(self)\n",
    "        pass\n",
    "\n",
    "    def display_url(self) -> str:\n",
    "        return f'https://{self.domo_instance}.domo.com/kpis/details/{self.id}'\n",
    "\n",
    "    @classmethod\n",
    "    async def _from_json(cls,\n",
    "                  card_obj,\n",
    "                   auth: dmda.DomoAuth):\n",
    "\n",
    "        import domolibrary.classes.DomoUser as dmu\n",
    "        import domolibrary.classes.DomoGroup as dmg\n",
    "\n",
    "        dd = card_obj\n",
    "        if isinstance(card_obj, dict):\n",
    "            dd = util_dd.DictDot(card_obj)\n",
    "\n",
    "        card = cls(\n",
    "            auth=auth,\n",
    "            id=dd.id,\n",
    "            title=dd.title,\n",
    "            description=dd.description,\n",
    "            type=dd.type,\n",
    "            urn=dd.urn,\n",
    "            certification=dd.certification,\n",
    "            chart_type=dd.metadata.chartType,\n",
    "            dataset_id = dd.datasources[0].dataSourceId if dd.datasources else None\n",
    "        )\n",
    "\n",
    "        tasks = []\n",
    "        for user in dd.owners:\n",
    "            if user.type =='USER':\n",
    "                tasks.append(dmu.DomoUser.get_by_id(user_id=user.id, auth=auth))\n",
    "            if user.type == 'GROUP':\n",
    "                tasks.append(dmg.DomoGroup.get_by_id(group_id=group.get('id'), auth=auth))\n",
    "\n",
    "        card.owners = await asyncio.gather( *tasks)\n",
    "\n",
    "        return card\n"
   ]
  },
  {
   "cell_type": "code",
   "execution_count": 30,
   "metadata": {},
   "outputs": [],
   "source": [
    "@patch_to(DomoCard, cls_method=True)\n",
    "async def get_by_id(cls: DomoCard, card_id: str,\n",
    "                      auth: dmda.DomoAuth, debug_api: bool = False):\n",
    "\n",
    "    res = await card_routes.get_card_metadata(auth=auth,\n",
    "                                              card_id=card_id, debug_api=debug_api)\n",
    "\n",
    "    if not res.is_success:\n",
    "        raise Exception('unable to retrieve card {card_id}')\n",
    "\n",
    "    domo_card = await cls._from_json(res.response, auth)\n",
    "\n",
    "    return domo_card\n"
   ]
  },
  {
   "cell_type": "code",
   "execution_count": 31,
   "metadata": {},
   "outputs": [
    {
     "data": {
      "text/plain": [
       "DomoCard(id=1766265020, title='Vendor Amounts Dates', description='', type='kpi', urn='1766265020', chart_type='badge_vert_stackedbar', dataset_id='fd70d83b-38dc-40a2-9349-357ec4321d3e', certification=DictDot(state='NOT_CERTIFIED', adminCertified=False), owners=[DomoUser(id='1893952720', title=None, department='Business Improvement', display_name='Jae Wilson1', email_address='jae@onyxreporting.com', role_id=1, phone_number=None, web_landing_page=None, web_mobile_landing_page=None, employee_id=None, employee_number=None, hire_date=None, reports_to=None, publisher_domain=None, subscriber_domain=None, virtual_user_id=None)])"
      ]
     },
     "execution_count": 31,
     "metadata": {},
     "output_type": "execute_result"
    }
   ],
   "source": [
    "import os\n",
    "token_auth = dmda.DomoTokenAuth(\n",
    "    domo_instance=\"domo-community\",\n",
    "    domo_access_token=os.environ[\"DOMO_DOJO_ACCESS_TOKEN\"],\n",
    ")\n",
    "\n",
    "await DomoCard.get_by_id(card_id=1766265020, auth=token_auth)"
   ]
  },
  {
   "cell_type": "code",
   "execution_count": 32,
   "metadata": {},
   "outputs": [],
   "source": [
    "#| hide\n",
    "import nbdev\n",
    "nbdev.nbdev_export()"
   ]
  }
 ],
 "metadata": {
  "jupytext": {
   "split_at_heading": true
  },
  "kernelspec": {
   "display_name": "Python 3",
   "language": "python",
   "name": "python3"
  },
  "language_info": {
   "codemirror_mode": {
    "name": "ipython",
    "version": 3
   },
   "file_extension": ".py",
   "mimetype": "text/x-python",
   "name": "python",
   "nbconvert_exporter": "python",
   "pygments_lexer": "ipython3",
   "version": "3.10.4"
  }
 },
 "nbformat": 4,
 "nbformat_minor": 4
}
