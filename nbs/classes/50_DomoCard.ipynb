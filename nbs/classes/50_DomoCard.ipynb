{
 "cells": [
  {
   "cell_type": "raw",
   "metadata": {},
   "source": [
    "---\n",
    "description: a class based approach to interacting with DomoCards\n",
    "output-file: card_class.html\n",
    "title: Card\n",
    "\n",
    "---\n",
    "\n"
   ]
  },
  {
   "cell_type": "code",
   "execution_count": null,
   "metadata": {},
   "outputs": [],
   "source": [
    "# | default_exp classes.DomoCard"
   ]
  },
  {
   "cell_type": "code",
   "execution_count": null,
   "metadata": {},
   "outputs": [],
   "source": [
    "# | exporti\n",
    "from dataclasses import dataclass, field\n",
    "\n",
    "import asyncio\n",
    "import httpx\n",
    "from nbdev.showdoc import patch_to\n",
    "\n",
    "import domolibrary.utils.DictDot as util_dd\n",
    "import domolibrary.utils.chunk_execution as ce\n",
    "\n",
    "import domolibrary.routes.card as card_routes\n",
    "\n",
    "import domolibrary.client.DomoAuth as dmda"
   ]
  },
  {
   "cell_type": "code",
   "execution_count": null,
   "metadata": {},
   "outputs": [],
   "source": [
    "# | export\n",
    "@dataclass\n",
    "class DomoCard:\n",
    "    id: str\n",
    "    auth: dmda.DomoAuth = field(repr=False)\n",
    "    title: str = None\n",
    "    description: str = None\n",
    "    type: str = None\n",
    "    urn: str = None\n",
    "    chart_type: str = None\n",
    "    dataset_id: str = None\n",
    "\n",
    "    certification: field(default_factory=dict) = None\n",
    "    owners: field(default_factory=list) = None\n",
    "\n",
    "    def __post_init__(self):\n",
    "        # self.Definition = CardDefinition(self)\n",
    "        pass\n",
    "\n",
    "    def display_url(self) -> str:\n",
    "        return f\"https://{self.auth.domo_instance}.domo.com/kpis/details/{self.id}\"\n",
    "\n",
    "    @classmethod\n",
    "    async def _from_json(cls, card_obj, auth: dmda.DomoAuth):\n",
    "        import domolibrary.classes.DomoUser as dmu\n",
    "        import domolibrary.classes.DomoGroup as dmg\n",
    "\n",
    "        dd = card_obj\n",
    "        if isinstance(card_obj, dict):\n",
    "            dd = util_dd.DictDot(card_obj)\n",
    "\n",
    "        card = cls(\n",
    "            auth=auth,\n",
    "            id=dd.id,\n",
    "            title=dd.title,\n",
    "            description=dd.description,\n",
    "            type=dd.type,\n",
    "            urn=dd.urn,\n",
    "            certification=dd.certification,\n",
    "            chart_type=dd.metadata and dd.metadata.chartType,\n",
    "            dataset_id=dd.datasources[0].dataSourceId if dd.datasources else None,\n",
    "        )\n",
    "\n",
    "        tasks = []\n",
    "        for user in dd.owners:\n",
    "            if user.type == \"USER\":\n",
    "                tasks.append(dmu.DomoUser.get_by_id(user_id=user.id, auth=auth))\n",
    "            if user.type == \"GROUP\":\n",
    "                tasks.append(dmg.DomoGroup.get_by_id(group_id=user.id, auth=auth))\n",
    "\n",
    "        card.owners = await ce.gather_with_concurrency(n=60, *tasks)\n",
    "\n",
    "        return card"
   ]
  },
  {
   "cell_type": "code",
   "execution_count": null,
   "metadata": {},
   "outputs": [],
   "source": [
    "# | exporti\n",
    "@patch_to(DomoCard, cls_method=True)\n",
    "async def get_by_id(\n",
    "    cls: DomoCard,\n",
    "    card_id: str,\n",
    "    auth: dmda.DomoAuth,\n",
    "    debug_api: bool = False,\n",
    "    session: httpx.AsyncClient = None,\n",
    "):\n",
    "    res = await card_routes.get_card_metadata(\n",
    "        auth=auth, card_id=card_id, debug_api=debug_api, session=session\n",
    "    )\n",
    "\n",
    "    if not res.is_success:\n",
    "        raise Exception(\"unable to retrieve card {card_id}\")\n",
    "\n",
    "    domo_card = await cls._from_json(res.response, auth)\n",
    "\n",
    "    return domo_card"
   ]
  },
  {
   "cell_type": "code",
   "execution_count": null,
   "metadata": {},
   "outputs": [
    {
     "data": {
      "text/plain": [
       "DomoCard(id=1766265020, title='Vendor Amounts Dates', description='', type='kpi', urn='1766265020', chart_type='badge_vert_stackedbar', dataset_id='fd70d83b-38dc-40a2-9349-357ec4321d3e', certification=DictDot(state='NOT_CERTIFIED', adminCertified=False), owners=[DomoUser(id='1893952720', title=None, department='Business Improvement', display_name='Jae Wilson1', email_address='jae@onyxreporting.com', role_id=810756122, phone_number=None, web_landing_page=None, web_mobile_landing_page=None, employee_id=None, employee_number=None, hire_date=None, reports_to=None, publisher_domain=None, subscriber_domain=None, virtual_user_id=None)])"
      ]
     },
     "execution_count": null,
     "metadata": {},
     "output_type": "execute_result"
    }
   ],
   "source": [
    "import os\n",
    "\n",
    "token_auth = dmda.DomoTokenAuth(\n",
    "    domo_instance=\"domo-community\",\n",
    "    domo_access_token=os.environ[\"DOMO_DOJO_ACCESS_TOKEN\"],\n",
    ")\n",
    "\n",
    "await DomoCard.get_by_id(card_id=1766265020, auth=token_auth)"
   ]
  },
  {
   "cell_type": "code",
   "execution_count": null,
   "metadata": {},
   "outputs": [],
   "source": [
    "# | exporti\n",
    "@patch_to(DomoCard)\n",
    "async def share(\n",
    "    self: DomoCard,\n",
    "    auth: dmda.DomoAuth = None,\n",
    "    domo_users: list = None,  # DomoUsers to share card with,\n",
    "    domo_groups: list = None,  # DomoGroups to share card with\n",
    "    message: str = None,  # message for automated email\n",
    "    debug_api: bool = False,\n",
    "    session: httpx.AsyncClient = None,\n",
    "):\n",
    "    import domolibrary.routes.datacenter as datacenter_routes\n",
    "\n",
    "    if domo_groups:\n",
    "        domo_groups = domo_groups if isinstance(domo_groups, list) else [domo_groups]\n",
    "    if domo_users:\n",
    "        domo_users = domo_users if isinstance(domo_users, list) else [domo_users]\n",
    "\n",
    "    res = await datacenter_routes.share_resource(\n",
    "        auth=auth or self.auth,\n",
    "        resource_ids=[self.id],\n",
    "        resource_type=datacenter_routes.ShareResource_Enum.CARD,\n",
    "        group_ids=[group.id for group in domo_groups] if domo_groups else None,\n",
    "        user_ids=[user.id for user in domo_users] if domo_users else None,\n",
    "        message=message,\n",
    "        debug_api=debug_api,\n",
    "        session=session,\n",
    "    )\n",
    "\n",
    "    return res"
   ]
  },
  {
   "attachments": {},
   "cell_type": "markdown",
   "metadata": {},
   "source": [
    "#### sample share_card"
   ]
  },
  {
   "cell_type": "code",
   "execution_count": null,
   "metadata": {},
   "outputs": [
    {
     "data": {
      "text/plain": [
       "ResponseGetData(status=200, response='badge 1766265020 successfully shared with 1324037627', is_success=True)"
      ]
     },
     "execution_count": null,
     "metadata": {},
     "output_type": "execute_result"
    }
   ],
   "source": [
    "import os\n",
    "import domolibrary.client.DomoAuth as dmda\n",
    "import domolibrary.classes.DomoGroup as dmg\n",
    "\n",
    "\n",
    "token_auth = dmda.DomoTokenAuth(\n",
    "    domo_instance=\"domo-community\",\n",
    "    domo_access_token=os.environ[\"DOMO_DOJO_ACCESS_TOKEN\"],\n",
    ")\n",
    "\n",
    "domo_group = await dmg.DomoGroup.get_by_id(group_id=1324037627, auth=token_auth)\n",
    "domo_group\n",
    "\n",
    "domo_card = DomoCard(id=1766265020, auth=token_auth)\n",
    "\n",
    "await domo_card.share(\n",
    "    auth=token_auth,\n",
    "    domo_groups=[domo_group],\n",
    "    message=None,\n",
    "    debug_api=False,\n",
    ")"
   ]
  },
  {
   "cell_type": "code",
   "execution_count": null,
   "metadata": {},
   "outputs": [],
   "source": [
    "# | hide\n",
    "import nbdev\n",
    "\n",
    "nbdev.nbdev_export()\n",
    "\n",
    "!nbqa black 50_DomoCard.ipynb"
   ]
  }
 ],
 "metadata": {
  "jupytext": {
   "split_at_heading": true
  },
  "kernelspec": {
   "display_name": "python3",
   "language": "python",
   "name": "python3"
  }
 },
 "nbformat": 4,
 "nbformat_minor": 4
}
