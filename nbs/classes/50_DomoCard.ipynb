{
 "cells": [
  {
   "cell_type": "raw",
   "metadata": {},
   "source": [
    "---\n",
    "description: a class based approach to interacting with DomoCards\n",
    "output-file: card_class.html\n",
    "title: Domo Card\n",
    "\n",
    "---\n",
    "\n"
   ]
  },
  {
   "cell_type": "code",
   "execution_count": null,
   "metadata": {},
   "outputs": [],
   "source": [
    "#| default_exp classes.DomoCard"
   ]
  },
  {
   "cell_type": "code",
   "execution_count": null,
   "metadata": {},
   "outputs": [],
   "source": [
    "#| exporti\n",
    "from dataclasses import dataclass, field\n",
    "\n",
    "import asyncio\n",
    "from fastcore.basics import patch_to\n",
    "\n",
    "import domolibrary.routes.card as card_routes\n",
    "\n",
    "import domolibrary.client.DomoAuth as dmda\n",
    "import domolibrary.client.DomoError as de\n",
    "import domolibrary.utils.DictDot as util_dd"
   ]
  },
  {
   "cell_type": "code",
   "execution_count": null,
   "metadata": {},
   "outputs": [],
   "source": [
    "# | export\n",
    "@dataclass\n",
    "class DomoCard:\n",
    "    id: str\n",
    "    auth: dmda.DomoAuth = field(repr=False)\n",
    "    title: str = None\n",
    "    description: str = None\n",
    "    type: str = None\n",
    "    urn: str = None\n",
    "    chart_type: str = None\n",
    "    dataset_id: str = None\n",
    "\n",
    "    certification: field(default_factory=dict) = None\n",
    "    owners: field(default_factory=list) = None\n",
    "\n",
    "    def __post_init__(self):\n",
    "        # self.Definition = CardDefinition(self)\n",
    "        pass\n",
    "\n",
    "    def display_url(self) -> str:\n",
    "        return f'https://{self.domo_instance}.domo.com/kpis/details/{self.id}'\n",
    "\n",
    "    @classmethod\n",
    "    async def _from_json(cls,\n",
    "                  card_obj,\n",
    "                   auth: dmda.DomoAuth):\n",
    "\n",
    "        import domolibrary.classes.DomoUser as dmu\n",
    "        import domolibrary.classes.DomoGroup as dmg\n",
    "\n",
    "        dd = card_obj\n",
    "        if isinstance(card_obj, dict):\n",
    "            dd = util_dd.DictDot(card_obj)\n",
    "\n",
    "        card = cls(\n",
    "            auth=auth,\n",
    "            id=dd.id,\n",
    "            title=dd.title,\n",
    "            description=dd.description,\n",
    "            type=dd.type,\n",
    "            urn=dd.urn,\n",
    "            certification=dd.certification,\n",
    "            chart_type=dd.metadata.chartType,\n",
    "            dataset_id = dd.datasources[0].dataSourceId if dd.datasources else None\n",
    "        )\n",
    "\n",
    "        tasks = []\n",
    "        for user in dd.owners:\n",
    "            if user.type =='USER':\n",
    "                tasks.append(dmu.DomoUser.get_by_id(user_id=user.id, auth=auth))\n",
    "            if user.type == 'GROUP':\n",
    "                tasks.append(dmg.DomoGroup.get_by_id(group_id=user.id, auth=auth))\n",
    "\n",
    "        card.owners = await asyncio.gather( *tasks)\n",
    "\n",
    "        return card\n"
   ]
  },
  {
   "cell_type": "code",
   "execution_count": null,
   "metadata": {},
   "outputs": [],
   "source": [
    "@patch_to(DomoCard, cls_method=True)\n",
    "async def get_by_id(cls: DomoCard, card_id: str,\n",
    "                      auth: dmda.DomoAuth, debug_api: bool = False):\n",
    "\n",
    "    res = await card_routes.get_card_metadata(auth=auth,\n",
    "                                              card_id=card_id, debug_api=debug_api)\n",
    "\n",
    "    if not res.is_success:\n",
    "        raise Exception('unable to retrieve card {card_id}')\n",
    "\n",
    "    domo_card = await cls._from_json(res.response, auth)\n",
    "\n",
    "    return domo_card\n"
   ]
  },
  {
   "cell_type": "code",
   "execution_count": null,
   "metadata": {},
   "outputs": [
    {
     "data": {
      "text/plain": [
       "DomoCard(id=1766265020, title='Vendor Amounts Dates', description='', type='kpi', urn='1766265020', chart_type='badge_vert_stackedbar', dataset_id='fd70d83b-38dc-40a2-9349-357ec4321d3e', certification=DictDot(state='NOT_CERTIFIED', adminCertified=False), owners=[DomoUser(id='1893952720', title=None, department='Business Improvement', display_name='Jae Wilson1', email_address='jae@onyxreporting.com', role_id=1, phone_number=None, web_landing_page=None, web_mobile_landing_page=None, employee_id=None, employee_number=None, hire_date=None, reports_to=None, publisher_domain=None, subscriber_domain=None, virtual_user_id=None)])"
      ]
     },
     "execution_count": null,
     "metadata": {},
     "output_type": "execute_result"
    }
   ],
   "source": [
    "import os\n",
    "token_auth = dmda.DomoTokenAuth(\n",
    "    domo_instance=\"domo-community\",\n",
    "    domo_access_token=os.environ[\"DOMO_DOJO_ACCESS_TOKEN\"],\n",
    ")\n",
    "\n",
    "await DomoCard.get_by_id(card_id=1766265020, auth=token_auth)"
   ]
  },
  {
   "cell_type": "code",
   "execution_count": null,
   "metadata": {},
   "outputs": [
    {
     "ename": "SyntaxError",
     "evalue": "invalid syntax (<unknown>, line 2)",
     "output_type": "error",
     "traceback": [
      "Traceback \u001b[0;36m(most recent call last)\u001b[0m:\n",
      "\u001b[0m  File \u001b[1;32m~/.local/lib/python3.10/site-packages/IPython/core/interactiveshell.py:3433\u001b[0m in \u001b[1;35mrun_code\u001b[0m\n    exec(code_obj, self.user_global_ns, self.user_ns)\u001b[0m\n",
      "\u001b[0m  Cell \u001b[1;32mIn[7], line 3\u001b[0m\n    nbdev.nbdev_export()\u001b[0m\n",
      "\u001b[0m  File \u001b[1;32m~/.python/current/lib/python3.10/site-packages/fastcore/script.py:110\u001b[0m in \u001b[1;35m_f\u001b[0m\n    if not mod: return func(*args, **kwargs)\u001b[0m\n",
      "\u001b[0m  File \u001b[1;32m~/.python/current/lib/python3.10/site-packages/nbdev/doclinks.py:139\u001b[0m in \u001b[1;35mnbdev_export\u001b[0m\n    _build_modidx()\u001b[0m\n",
      "\u001b[0m  File \u001b[1;32m~/.python/current/lib/python3.10/site-packages/nbdev/doclinks.py:101\u001b[0m in \u001b[1;35m_build_modidx\u001b[0m\n    res['syms'].update(_get_modidx((dest.parent/file).resolve(), code_root, nbs_path=nbs_path))\u001b[0m\n",
      "\u001b[0m  File \u001b[1;32m~/.python/current/lib/python3.10/site-packages/nbdev/doclinks.py:78\u001b[0m in \u001b[1;35m_get_modidx\u001b[0m\n    for tree in ast.parse(cell.code).body:\u001b[0m\n",
      "\u001b[0;36m  File \u001b[0;32m~/.python/current/lib/python3.10/ast.py:50\u001b[0;36m in \u001b[0;35mparse\u001b[0;36m\n\u001b[0;31m    return compile(source, filename, mode, flags,\u001b[0;36m\n",
      "\u001b[0;36m  File \u001b[0;32m<unknown>:2\u001b[0;36m\u001b[0m\n\u001b[0;31m    await def _get_domo_users(self, user_ls: [dict]):\u001b[0m\n\u001b[0m    ^\u001b[0m\n\u001b[0;31mSyntaxError\u001b[0m\u001b[0;31m:\u001b[0m invalid syntax\n"
     ]
    },
    {
     "name": "stderr",
     "output_type": "stream",
     "text": [
      "Bad pipe message: %s [b\"\\xcb\\x81vP\\x8d|\\xdd\\xdf\\x00\\\\\\xf4;3,\\xc3\\xf2\\x80w T\\xe0\\t\\x9e\\xc7FD_\\xb4jiu2\\xc7\\x1e9\\x8c\\xad\\xbd\\xd3\\xbe7\\xf1\\xed'fq<\\xe8\\x03\\xa7\\x8b\\x00\\x08\\x13\\x02\\x13\\x03\\x13\", b'']\n",
      "Bad pipe message: %s [b'\\xb8\\xbe\\xa3$XO\\x04\\xf3\"\\x19\\x19\\xb3=\\x11\\x90\\xdb\\xc1\\xa4 \\x17\\xdf\"]\\x8ee\\x98HI\\xaf\\xb2\\x81\\x8a\\x8a\\xde\\xa1']\n",
      "Bad pipe message: %s [b'e\\x935\\xfb\\xe8\\xa9\\xb0\\xe2\\x17\\xaaa]\\xfdA\\x00\\x08\\x13\\x02\\x13\\x03\\x13\\x01\\x00\\xff\\x01\\x00\\x00\\x8f\\x00\\x00\\x00\\x0e\\x00\\x0c\\x00\\x00\\t127.0.']\n",
      "Bad pipe message: %s [b'1\\x00\\x0b\\x00\\x04\\x03\\x00\\x01\\x02\\x00\\n\\x00\\x0c\\x00\\n\\x00\\x1d\\x00\\x17\\x00\\x1e\\x00\\x19\\x00\\x18\\x00#\\x00\\x00\\x00\\x16\\x00\\x00\\x00\\x17\\x00\\x00\\x00\\r\\x00\\x1e\\x00\\x1c\\x04\\x03\\x05\\x03']\n",
      "Bad pipe message: %s [b'\\x08\\x07\\x08\\x08\\x08', b'\\n\\x08\\x0b\\x08\\x04\\x08\\x05\\x08']\n",
      "Bad pipe message: %s [b'\\x01\\x05\\x01\\x06\\x01']\n",
      "Bad pipe message: %s [b':\\xc0-\\xd4\\x02\\xe7%\\xdc\\x896\\t\\xb2\\xbd,\\x9cwM6\\x00\\x00\\xa2\\xc0\\x14\\xc0\\n\\x009\\x008\\x007\\x006\\x00\\x88\\x00\\x87\\x00\\x86\\x00\\x85\\xc0\\x19\\x00:\\x00\\x89\\xc0\\x0f\\xc0\\x05\\x005\\x00\\x84\\xc0\\x13\\xc0\\t\\x003\\x002\\x001\\x000\\x00\\x9a\\x00\\x99\\x00\\x98\\x00\\x97\\x00E\\x00D\\x00C\\x00B\\xc0\\x18\\x004\\x00\\x9b\\x00F\\xc0\\x0e\\xc0']\n",
      "Bad pipe message: %s [b'/\\x00\\x96']\n",
      "Bad pipe message: %s [b'a}T\\xd3\\xae\\xb9=\\xe9WL\\xfb\\xc8N9\\xa1\\xe6\\xf3d\\x00\\x00']\n",
      "Bad pipe message: %s [b'\\x14\\xc0\\n\\x009\\x008\\x007\\x006\\x00\\x88\\x00\\x87\\x00\\x86\\x00\\x85\\xc0\\x19\\x00:\\x00\\x89\\xc0\\x0f\\xc0\\x05\\x005\\x00\\x84\\xc0\\x13\\xc0\\t\\x003\\x002\\x001\\x000\\x00\\x9a\\x00\\x99\\x00\\x98\\x00\\x97\\x00E\\x00D\\x00C\\x00B\\xc0\\x18\\x004\\x00\\x9b\\x00F\\xc0\\x0e\\xc0\\x04\\x00/\\x00\\x96\\x00A\\x00\\x07\\xc0\\x11\\xc0\\x07\\xc0\\x16\\x00\\x18\\xc0\\x0c\\xc0\\x02\\x00\\x05\\x00\\x04\\xc0\\x12\\xc0\\x08\\x00\\x16\\x00\\x13\\x00\\x10\\x00\\r\\xc0\\x17\\x00\\x1b\\xc0\\r\\xc0\\x03\\x00\\n\\x00\\x15\\x00\\x12\\x00\\x0f\\x00\\x0c\\x00\\x1a\\x00\\t\\x00\\x14\\x00\\x11\\x00\\x19\\x00\\x08\\x00\\x06\\x00\\x17\\x00\\x03\\xc0\\x10\\xc0\\x06\\xc0\\x15\\xc0\\x0b\\xc0\\x01\\x00\\x02\\x00\\x01\\x00\\xff']\n",
      "Bad pipe message: %s [b\"\\x08\\xb6X\\x0c\\x15\\xa2\\xcaQi\\xd75D\\x01\\xa9s\\xae\\x1a\\xda\\x00\\x00\\xf4\\xc00\\xc0,\\xc0(\\xc0$\\xc0\\x14\\xc0\\n\\x00\\xa5\\x00\\xa3\\x00\\xa1\\x00\\x9f\\x00k\\x00j\\x00i\\x00h\\x009\\x008\\x007\\x006\\x00\\x88\\x00\\x87\\x00\\x86\\x00\\x85\\xc0\\x19\\x00\\xa7\\x00m\\x00:\\x00\\x89\\xc02\\xc0.\\xc0*\\xc0&\\xc0\\x0f\\xc0\\x05\\x00\\x9d\\x00=\\x005\\x00\\x84\\xc0/\\xc0+\\xc0'\\xc0#\\xc0\\x13\\xc0\\t\\x00\\xa4\\x00\\xa2\\x00\\xa0\\x00\\x9e\\x00g\\x00@\\x00?\\x00>\\x003\\x002\\x001\\x000\\x00\\x9a\\x00\\x99\\x00\\x98\\x00\\x97\\x00E\\x00D\\x00C\\x00B\\xc0\\x18\\x00\\xa6\\x00l\\x004\\x00\\x9b\\x00F\\xc01\\xc0-\\xc0)\\xc0%\\xc0\\x0e\\xc0\\x04\\x00\\x9c\\x00<\\x00/\\x00\\x96\\x00A\\x00\\x07\\xc0\\x11\\xc0\\x07\\xc0\\x16\\x00\\x18\\xc0\\x0c\\xc0\\x02\\x00\\x05\\x00\\x04\\xc0\\x12\\xc0\\x08\\x00\\x16\\x00\\x13\\x00\\x10\\x00\\r\\xc0\\x17\\x00\\x1b\\xc0\\r\\xc0\\x03\\x00\\n\\x00\\x15\\x00\\x12\\x00\\x0f\\x00\\x0c\\x00\\x1a\\x00\\t\\x00\\x14\\x00\\x11\\x00\\x19\\x00\\x08\\x00\\x06\\x00\"]\n",
      "Bad pipe message: %s [b'\\x03\\xc0\\x10\\xc0\\x06\\xc0\\x15\\xc0\\x0b\\xc0\\x01\\x00;\\x00\\x02\\x00\\x01\\x00\\xff\\x02\\x01\\x00']\n"
     ]
    }
   ],
   "source": [
    "#| hide\n",
    "import nbdev\n",
    "nbdev.nbdev_export()"
   ]
  }
 ],
 "metadata": {
  "jupytext": {
   "split_at_heading": true
  },
  "kernelspec": {
   "display_name": "Python 3",
   "language": "python",
   "name": "python3"
  }
 },
 "nbformat": 4,
 "nbformat_minor": 4
}
