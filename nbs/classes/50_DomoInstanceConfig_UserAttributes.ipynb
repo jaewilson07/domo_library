{
 "cells": [
  {
   "cell_type": "raw",
   "metadata": {},
   "source": [
    "---\n",
    "title: Instance Configuration User Attributes\n",
    "description: a class based approach to configuring your domo instance\n",
    "output-file: instanceconfig_user_attributes_class.html\n",
    "---"
   ]
  },
  {
   "cell_type": "code",
   "execution_count": null,
   "metadata": {},
   "outputs": [],
   "source": [
    "# | default_exp classes.DomoInstanceConfig_UserAttribute"
   ]
  },
  {
   "cell_type": "code",
   "execution_count": null,
   "metadata": {},
   "outputs": [],
   "source": [
    "# | export\n",
    "from domolibrary.routes.user_attributes import (\n",
    "    UserAttributes_GET_Error,\n",
    "    UserAttributes_CRUD_Error,\n",
    "    UserAttributes_IssuerType,\n",
    ")"
   ]
  },
  {
   "cell_type": "code",
   "execution_count": null,
   "metadata": {},
   "outputs": [],
   "source": [
    "# | exporti\n",
    "\n",
    "from dataclasses import dataclass, field\n",
    "\n",
    "import httpx\n",
    "from nbdev.showdoc import patch_to\n",
    "from typing import List, Any\n",
    "\n",
    "import domolibrary.client.DomoAuth as dmda\n",
    "import domolibrary.routes.user_attributes as user_attribute_routes\n",
    "\n",
    "import datetime as dt\n",
    "\n",
    "# import asyncio\n",
    "# import sys\n",
    "# import pandas as pd\n",
    "\n",
    "\n",
    "# from typing import List\n",
    "\n",
    "# import domolibrary.utils.DictDot as util_dd\n",
    "# import domolibrary.utils.chunk_execution as ce\n",
    "\n",
    "# import domolibrary.client.DomoError as de\n",
    "# import domolibrary.client.Logger as lg\n",
    "\n",
    "# import domolibrary.routes.instance_config as instance_config_routes\n",
    "# import domolibrary.routes.bootstrap as bootstrap_routes\n",
    "# import domolibrary.routes.sandbox as sandbox_routes\n",
    "# import domolibrary.routes.publish as publish_routes\n",
    "# import domolibrary.routes.application as application_routes"
   ]
  },
  {
   "cell_type": "code",
   "execution_count": null,
   "metadata": {},
   "outputs": [],
   "source": [
    "# | hide\n",
    "from nbdev.showdoc import show_doc\n",
    "import os"
   ]
  },
  {
   "cell_type": "code",
   "execution_count": null,
   "metadata": {},
   "outputs": [],
   "source": [
    "# | export\n",
    "\n",
    "\n",
    "@dataclass\n",
    "class UserAttribute:\n",
    "    \"\"\"utility class that absorbs many of the domo instance configuration methods\"\"\"\n",
    "\n",
    "    auth: dmda.DomoAuth = field(repr=False)\n",
    "    id: str\n",
    "    name: str\n",
    "    description: str\n",
    "\n",
    "    issuer_type: UserAttributes_IssuerType\n",
    "    customer_id: str\n",
    "    value_type: str\n",
    "\n",
    "    validator: str\n",
    "    validator_configuration: None\n",
    "\n",
    "    security_voter: str\n",
    "    custom: bool\n",
    "\n",
    "    def __eq__(self, other):\n",
    "        return self.id == other.id\n",
    "\n",
    "    @classmethod\n",
    "    def _from_json(cls, obj, auth):\n",
    "        return cls(\n",
    "            auth=auth,\n",
    "            id=obj[\"key\"],\n",
    "            name=obj[\"title\"],\n",
    "            description=obj[\"description\"],\n",
    "            issuer_type=UserAttributes_IssuerType(obj[\"keyspace\"]),\n",
    "            customer_id=obj[\"context\"],\n",
    "            value_type=obj[\"valueType\"],\n",
    "            validator=obj[\"validator\"],\n",
    "            validator_configuration=obj[\"validatorConfiguration\"],\n",
    "            security_voter=obj[\"securityVoter\"],\n",
    "            custom=obj[\"custom\"],\n",
    "        )"
   ]
  },
  {
   "cell_type": "code",
   "execution_count": null,
   "metadata": {},
   "outputs": [],
   "source": [
    "# | exporti\n",
    "\n",
    "\n",
    "@patch_to(UserAttribute, cls_method=True)\n",
    "async def get_by_id(\n",
    "    cls: UserAttribute,\n",
    "    auth: dmda.DomoAuth,\n",
    "    attribute_id: str,\n",
    "    session: httpx.AsyncClient = None,\n",
    "    debug_api: bool = False,\n",
    "    debug_num_stacks_to_drop=2,\n",
    "    return_raw: bool = False,\n",
    "):\n",
    "    res = await user_attribute_routes.get_user_attribute_by_id(\n",
    "        auth=auth,\n",
    "        attribute_id=attribute_id,\n",
    "        session=session,\n",
    "        debug_api=debug_api,\n",
    "        parent_class=cls.__name__,\n",
    "        debug_num_stacks_to_drop=debug_num_stacks_to_drop,\n",
    "    )\n",
    "\n",
    "    if return_raw:\n",
    "        return res\n",
    "    return cls._from_json(obj=res.response, auth=auth)"
   ]
  },
  {
   "cell_type": "code",
   "execution_count": null,
   "metadata": {},
   "outputs": [
    {
     "data": {
      "text/markdown": [
       "---\n",
       "\n",
       "[source](https://github.com/jaewilson07/domo_library/blob/main/domolibrary/classes/DomoInstanceConfig_UserAttributes.py#L87){target=\"_blank\" style=\"float:right; font-size:smaller\"}\n",
       "\n",
       "### UserAttribute.get_by_id\n",
       "\n",
       ">      UserAttribute.get_by_id (auth:domolibrary.client.DomoAuth.DomoAuth,\n",
       ">                               attribute_id:str,\n",
       ">                               session:httpx.AsyncClient=None,\n",
       ">                               debug_api:bool=False,\n",
       ">                               debug_num_stacks_to_drop=2,\n",
       ">                               return_raw:bool=False)"
      ],
      "text/plain": [
       "---\n",
       "\n",
       "[source](https://github.com/jaewilson07/domo_library/blob/main/domolibrary/classes/DomoInstanceConfig_UserAttributes.py#L87){target=\"_blank\" style=\"float:right; font-size:smaller\"}\n",
       "\n",
       "### UserAttribute.get_by_id\n",
       "\n",
       ">      UserAttribute.get_by_id (auth:domolibrary.client.DomoAuth.DomoAuth,\n",
       ">                               attribute_id:str,\n",
       ">                               session:httpx.AsyncClient=None,\n",
       ">                               debug_api:bool=False,\n",
       ">                               debug_num_stacks_to_drop=2,\n",
       ">                               return_raw:bool=False)"
      ]
     },
     "execution_count": null,
     "metadata": {},
     "output_type": "execute_result"
    }
   ],
   "source": [
    "show_doc(UserAttribute.get_by_id)"
   ]
  },
  {
   "cell_type": "code",
   "execution_count": null,
   "metadata": {},
   "outputs": [
    {
     "data": {
      "text/plain": [
       "UserAttribute(id='DomoLibraryTestFranchise', name='franchise_id', description='test', issuer_type=<UserAttributes_IssuerType.CUSTOM: 'customer-defined'>, customer_id='mmmm-0012-0200', value_type='STRING', validator='ANY_VALUE', validator_configuration=None, security_voter='FULL_VIS_ADMIN_IDP', custom=True)"
      ]
     },
     "execution_count": null,
     "metadata": {},
     "output_type": "execute_result"
    }
   ],
   "source": [
    "# import os\n",
    "# import domolibrary.client.DomoAuth as dmda\n",
    "\n",
    "token_auth = dmda.DomoTokenAuth(\n",
    "    domo_instance=\"domo-community\",\n",
    "    domo_access_token=os.environ[\"DOMO_DOJO_ACCESS_TOKEN\"],\n",
    ")\n",
    "\n",
    "await UserAttribute.get_by_id(\n",
    "    attribute_id=\"DomoLibraryTestFranchise\", auth=token_auth, debug_api=False\n",
    ")"
   ]
  },
  {
   "cell_type": "code",
   "execution_count": null,
   "metadata": {},
   "outputs": [],
   "source": [
    "# |exporti\n",
    "@patch_to(UserAttribute)\n",
    "async def update(\n",
    "    self: UserAttribute,\n",
    "    name=None,\n",
    "    description=None,\n",
    "    issuer_type: UserAttributes_IssuerType = None,\n",
    "    data_type: str = None,\n",
    "    security_voter=None,\n",
    "    session: httpx.AsyncClient = None,\n",
    "    debug_api: bool = False,\n",
    "    debug_num_stacks_to_drop=2,\n",
    "):\n",
    "    await user_attribute_routes.update_user_attribute(\n",
    "        auth=self.auth,\n",
    "        attribute_id=self.id,\n",
    "        name=name,\n",
    "        description=description,\n",
    "        issuer_type=issuer_type,\n",
    "        data_type=data_type,\n",
    "        security_voter=security_voter,\n",
    "        session=session,\n",
    "        debug_api=debug_api,\n",
    "        parent_class=self.__class__.__name__,\n",
    "        debug_num_stacks_to_drop=debug_num_stacks_to_drop,\n",
    "    )\n",
    "\n",
    "    new = await UserAttribute.get_by_id(attribute_id=self.id, auth=self.auth)\n",
    "\n",
    "    [setattr(self, key, value) for key, value in new.__dict__.items()]\n",
    "\n",
    "    return self"
   ]
  },
  {
   "cell_type": "code",
   "execution_count": null,
   "metadata": {},
   "outputs": [
    {
     "data": {
      "text/markdown": [
       "---\n",
       "\n",
       "[source](https://github.com/jaewilson07/domo_library/blob/main/domolibrary/classes/DomoInstanceConfig_UserAttributes.py#L112){target=\"_blank\" style=\"float:right; font-size:smaller\"}\n",
       "\n",
       "### UserAttribute.update\n",
       "\n",
       ">      UserAttribute.update (name=None, description=None, issuer_type:domolibrar\n",
       ">                            y.routes.user_attributes.UserAttributes_IssuerType=\n",
       ">                            None, data_type:str=None, security_voter=None,\n",
       ">                            session:httpx.AsyncClient=None,\n",
       ">                            debug_api:bool=False, debug_num_stacks_to_drop=2)"
      ],
      "text/plain": [
       "---\n",
       "\n",
       "[source](https://github.com/jaewilson07/domo_library/blob/main/domolibrary/classes/DomoInstanceConfig_UserAttributes.py#L112){target=\"_blank\" style=\"float:right; font-size:smaller\"}\n",
       "\n",
       "### UserAttribute.update\n",
       "\n",
       ">      UserAttribute.update (name=None, description=None, issuer_type:domolibrar\n",
       ">                            y.routes.user_attributes.UserAttributes_IssuerType=\n",
       ">                            None, data_type:str=None, security_voter=None,\n",
       ">                            session:httpx.AsyncClient=None,\n",
       ">                            debug_api:bool=False, debug_num_stacks_to_drop=2)"
      ]
     },
     "execution_count": null,
     "metadata": {},
     "output_type": "execute_result"
    }
   ],
   "source": [
    "show_doc(UserAttribute.update)"
   ]
  },
  {
   "cell_type": "code",
   "execution_count": null,
   "metadata": {},
   "outputs": [
    {
     "name": "stdout",
     "output_type": "stream",
     "text": [
      "🛑  UserAttributes_GET_Error 🛑 - function: UserAttribute.get_user_attributes || status 200 || attribute TestLibraryStore not found at domo-community\n"
     ]
    }
   ],
   "source": [
    "# import os\n",
    "# import domolibrary.client.DomoAuth as dmda\n",
    "\n",
    "token_auth = dmda.DomoTokenAuth(\n",
    "    domo_instance=\"domo-community\",\n",
    "    domo_access_token=os.environ[\"DOMO_DOJO_ACCESS_TOKEN\"],\n",
    ")\n",
    "try:\n",
    "    domo_user_attribute = await UserAttribute.get_by_id(\n",
    "        auth=token_auth, attribute_id=\"TestLibraryStore\"\n",
    "    )\n",
    "\n",
    "    res = await domo_user_attribute.update(\n",
    "        description=f\"domo_library test:  updated from classmethod, {dt.datetime.now().strftime('%Y-%m-%d - %H:%M')}\"\n",
    "    )\n",
    "    print(res)\n",
    "\n",
    "except (UserAttributes_GET_Error, UserAttributes_CRUD_Error) as e:\n",
    "    print(e)"
   ]
  },
  {
   "cell_type": "code",
   "execution_count": null,
   "metadata": {},
   "outputs": [],
   "source": [
    "# | export\n",
    "\n",
    "\n",
    "@dataclass\n",
    "class UserAttributes:\n",
    "    auth: dmda.DomoAuth = field(repr=False)\n",
    "\n",
    "    attributes: List[UserAttribute] = field(default=None)"
   ]
  },
  {
   "cell_type": "code",
   "execution_count": null,
   "metadata": {},
   "outputs": [],
   "source": [
    "# | exporti\n",
    "@patch_to(UserAttributes)\n",
    "async def get_attributes(\n",
    "    self: UserAttributes,\n",
    "    issuer_type_ls: List[\n",
    "        UserAttributes_IssuerType\n",
    "    ] = None,  # use `UserAttributes_IssuerType` enum\n",
    "    session: httpx.AsyncClient = None,\n",
    "    debug_api: bool = False,\n",
    "    debug_num_stacks_to_drop=2,\n",
    "):\n",
    "    auth = self.auth\n",
    "\n",
    "    res = await user_attribute_routes.get_user_attributes(\n",
    "        auth=auth,\n",
    "        session=session,\n",
    "        issuer_type_ls=issuer_type_ls,\n",
    "        debug_api=debug_api,\n",
    "        parent_class=self.__class__.__name__,\n",
    "        debug_num_stacks_to_drop=debug_num_stacks_to_drop,\n",
    "    )\n",
    "\n",
    "    self.attributes = [\n",
    "        UserAttribute._from_json(obj=obj, auth=auth) for obj in res.response\n",
    "    ]\n",
    "    return self.attributes"
   ]
  },
  {
   "cell_type": "code",
   "execution_count": null,
   "metadata": {},
   "outputs": [
    {
     "data": {
      "text/markdown": [
       "---\n",
       "\n",
       "[source](https://github.com/jaewilson07/domo_library/blob/main/domolibrary/classes/DomoInstanceConfig_UserAttribute.py#L149){target=\"_blank\" style=\"float:right; font-size:smaller\"}\n",
       "\n",
       "### UserAttributes.get_attributes\n",
       "\n",
       ">      UserAttributes.get_attributes (issuer_type_ls:List[domolibrary.routes.use\n",
       ">                                     r_attributes.UserAttributes_IssuerType]=No\n",
       ">                                     ne, session:httpx.AsyncClient=None,\n",
       ">                                     debug_api:bool=False,\n",
       ">                                     debug_num_stacks_to_drop=2)"
      ],
      "text/plain": [
       "---\n",
       "\n",
       "[source](https://github.com/jaewilson07/domo_library/blob/main/domolibrary/classes/DomoInstanceConfig_UserAttribute.py#L149){target=\"_blank\" style=\"float:right; font-size:smaller\"}\n",
       "\n",
       "### UserAttributes.get_attributes\n",
       "\n",
       ">      UserAttributes.get_attributes (issuer_type_ls:List[domolibrary.routes.use\n",
       ">                                     r_attributes.UserAttributes_IssuerType]=No\n",
       ">                                     ne, session:httpx.AsyncClient=None,\n",
       ">                                     debug_api:bool=False,\n",
       ">                                     debug_num_stacks_to_drop=2)"
      ]
     },
     "execution_count": null,
     "metadata": {},
     "output_type": "execute_result"
    }
   ],
   "source": [
    "show_doc(UserAttributes.get_attributes)"
   ]
  },
  {
   "cell_type": "code",
   "execution_count": null,
   "metadata": {},
   "outputs": [
    {
     "data": {
      "text/plain": [
       "[UserAttribute(id='DomoLibraryStore', name='store_id', description='store ids', issuer_type=<UserAttributes_IssuerType.CUSTOM: 'customer-defined'>, customer_id='mmmm-0012-0200', value_type='STRING', validator='ANY_VALUE', validator_configuration=None, security_voter='FULL_VIS_ADMIN_IDP', custom=True),\n",
       " UserAttribute(id='DomoLibraryTestFranchise', name='franchise_id', description='test', issuer_type=<UserAttributes_IssuerType.CUSTOM: 'customer-defined'>, customer_id='mmmm-0012-0200', value_type='STRING', validator='ANY_VALUE', validator_configuration=None, security_voter='FULL_VIS_ADMIN_IDP', custom=True),\n",
       " UserAttribute(id='domo.policy.managed_email_address', name=None, description=None, issuer_type=<UserAttributes_IssuerType.SYSTEM: 'domo-defined'>, customer_id=None, value_type=None, validator='ANY_VALUE', validator_configuration=None, security_voter='FULL_VIS_ADMIN_IDP', custom=False),\n",
       " UserAttribute(id='domo.policy.managed_employee_id', name=None, description=None, issuer_type=<UserAttributes_IssuerType.SYSTEM: 'domo-defined'>, customer_id=None, value_type=None, validator='ANY_VALUE', validator_configuration=None, security_voter='FULL_VIS_ADMIN_IDP', custom=False),\n",
       " UserAttribute(id='domo.policy.managed_employee_number', name=None, description=None, issuer_type=<UserAttributes_IssuerType.SYSTEM: 'domo-defined'>, customer_id=None, value_type=None, validator='ANY_VALUE', validator_configuration=None, security_voter='FULL_VIS_ADMIN_IDP', custom=False),\n",
       " UserAttribute(id='domo.policy.managed_hire_date', name=None, description=None, issuer_type=<UserAttributes_IssuerType.SYSTEM: 'domo-defined'>, customer_id=None, value_type=None, validator='ANY_VALUE', validator_configuration=None, security_voter='FULL_VIS_ADMIN_IDP', custom=False),\n",
       " UserAttribute(id='domo.policy.managed_user_department', name=None, description=None, issuer_type=<UserAttributes_IssuerType.SYSTEM: 'domo-defined'>, customer_id=None, value_type=None, validator='ANY_VALUE', validator_configuration=None, security_voter='FULL_VIS_ADMIN_IDP', custom=False),\n",
       " UserAttribute(id='domo.policy.managed_user_title', name=None, description=None, issuer_type=<UserAttributes_IssuerType.SYSTEM: 'domo-defined'>, customer_id=None, value_type=None, validator='ANY_VALUE', validator_configuration=None, security_voter='FULL_VIS_ADMIN_IDP', custom=False)]"
      ]
     },
     "execution_count": null,
     "metadata": {},
     "output_type": "execute_result"
    }
   ],
   "source": [
    "# import os\n",
    "# import domolibrary.client.DomoAuth as dmda\n",
    "\n",
    "token_auth = dmda.DomoTokenAuth(\n",
    "    domo_instance=\"domo-community\",\n",
    "    domo_access_token=os.environ[\"DOMO_DOJO_ACCESS_TOKEN\"],\n",
    ")\n",
    "\n",
    "domo_user_attributes = UserAttributes(auth=token_auth)\n",
    "\n",
    "await domo_user_attributes.get_attributes(debug_api=False)"
   ]
  },
  {
   "cell_type": "code",
   "execution_count": null,
   "metadata": {},
   "outputs": [],
   "source": [
    "# | exporti\n",
    "\n",
    "\n",
    "@patch_to(UserAttributes)\n",
    "async def create(\n",
    "    self: UserAttributes,\n",
    "    attribute_id: str,\n",
    "    name=None,\n",
    "    description=f\"updated via domolibrary {dt.datetime.now().strftime('%Y-%m-%d - %H:%M')}\",\n",
    "    data_type: str = \"ANY_VALUE\",\n",
    "    security_voter=\"FULL_VIS_ADMIN_IDP\",\n",
    "    issuer_type: UserAttributes_IssuerType = UserAttributes_IssuerType.CUSTOM,\n",
    "    session: httpx.AsyncClient = None,\n",
    "    debug_api: bool = False,\n",
    "    debug_num_stacks_to_drop=2,\n",
    "    return_raw: bool = False,\n",
    "):\n",
    "\n",
    "    auth = self.auth\n",
    "    attribute_id = user_attribute_routes.clean_attribute_id(attribute_id)\n",
    "\n",
    "    res = await user_attribute_routes.create_user_attribute(\n",
    "        auth=auth,\n",
    "        session=session,\n",
    "        issuer_type=issuer_type,\n",
    "        name=name,\n",
    "        attribute_id=attribute_id,\n",
    "        description=description,\n",
    "        data_type=data_type,\n",
    "        security_voter=security_voter,\n",
    "        debug_api=debug_api,\n",
    "        parent_class=self.__class__.__name__,\n",
    "        debug_num_stacks_to_drop=debug_num_stacks_to_drop,\n",
    "    )\n",
    "\n",
    "    await self.get_attributes()\n",
    "\n",
    "    if return_raw:\n",
    "        return res\n",
    "\n",
    "    return await UserAttribute.get_by_id(auth=auth, attribute_id=attribute_id)"
   ]
  },
  {
   "cell_type": "code",
   "execution_count": null,
   "metadata": {},
   "outputs": [
    {
     "data": {
      "text/markdown": [
       "---\n",
       "\n",
       "[source](https://github.com/jaewilson07/domo_library/blob/main/domolibrary/classes/DomoInstanceConfig_UserAttribute.py#L176){target=\"_blank\" style=\"float:right; font-size:smaller\"}\n",
       "\n",
       "### UserAttributes.create\n",
       "\n",
       ">      UserAttributes.create (attribute_id:str, name=None, description='updated\n",
       ">                             via domolibrary 2024-01-03 - 04:50',\n",
       ">                             data_type:str='ANY_VALUE',\n",
       ">                             security_voter='FULL_VIS_ADMIN_IDP', issuer_type:d\n",
       ">                             omolibrary.routes.user_attributes.UserAttributes_I\n",
       ">                             ssuerType=<UserAttributes_IssuerType.CUSTOM:\n",
       ">                             'customer-defined'>,\n",
       ">                             session:httpx.AsyncClient=None,\n",
       ">                             debug_api:bool=False, debug_num_stacks_to_drop=2,\n",
       ">                             return_raw:bool=False)"
      ],
      "text/plain": [
       "---\n",
       "\n",
       "[source](https://github.com/jaewilson07/domo_library/blob/main/domolibrary/classes/DomoInstanceConfig_UserAttribute.py#L176){target=\"_blank\" style=\"float:right; font-size:smaller\"}\n",
       "\n",
       "### UserAttributes.create\n",
       "\n",
       ">      UserAttributes.create (attribute_id:str, name=None, description='updated\n",
       ">                             via domolibrary 2024-01-03 - 04:50',\n",
       ">                             data_type:str='ANY_VALUE',\n",
       ">                             security_voter='FULL_VIS_ADMIN_IDP', issuer_type:d\n",
       ">                             omolibrary.routes.user_attributes.UserAttributes_I\n",
       ">                             ssuerType=<UserAttributes_IssuerType.CUSTOM:\n",
       ">                             'customer-defined'>,\n",
       ">                             session:httpx.AsyncClient=None,\n",
       ">                             debug_api:bool=False, debug_num_stacks_to_drop=2,\n",
       ">                             return_raw:bool=False)"
      ]
     },
     "execution_count": null,
     "metadata": {},
     "output_type": "execute_result"
    }
   ],
   "source": [
    "show_doc(UserAttributes.create)"
   ]
  },
  {
   "cell_type": "code",
   "execution_count": null,
   "metadata": {},
   "outputs": [
    {
     "name": "stdout",
     "output_type": "stream",
     "text": [
      "UserAttribute(id='TestLibraryStore', name='test library store', description='updated via domolibrary 2024-01-03 - 04:50', issuer_type=<UserAttributes_IssuerType.CUSTOM: 'customer-defined'>, customer_id='mmmm-0012-0200', value_type='STRING', validator='ANY_VALUE', validator_configuration=None, security_voter='FULL_VIS_ADMIN_IDP', custom=True)\n"
     ]
    }
   ],
   "source": [
    "# import os\n",
    "# import domolibrary.client.DomoAuth as dmda\n",
    "\n",
    "token_auth = dmda.DomoTokenAuth(\n",
    "    domo_instance=\"domo-community\",\n",
    "    domo_access_token=os.environ[\"DOMO_DOJO_ACCESS_TOKEN\"],\n",
    ")\n",
    "\n",
    "domo_user_attributes = UserAttributes(auth=token_auth)\n",
    "try:\n",
    "    res = await domo_user_attributes.create(\n",
    "        attribute_id=\"Test Library Store\", name=\"test library store\"\n",
    "    )\n",
    "    print(res)\n",
    "\n",
    "except UserAttributes_CRUD_Error as e:\n",
    "    print(e)"
   ]
  },
  {
   "cell_type": "code",
   "execution_count": null,
   "metadata": {},
   "outputs": [],
   "source": [
    "# | exporti\n",
    "\n",
    "\n",
    "@patch_to(UserAttributes)\n",
    "async def upsert(\n",
    "    self: UserAttributes,\n",
    "    attribute_id,\n",
    "    name=None,\n",
    "    description=None,\n",
    "    issuer_type: UserAttributes_IssuerType = None,\n",
    "    data_type: str = None,\n",
    "    security_voter=None,\n",
    "    session: httpx.AsyncClient = None,\n",
    "    debug_api: bool = False,\n",
    "    debug_num_stacks_to_drop=2,\n",
    "    debug_prn: bool = False,\n",
    "):\n",
    "\n",
    "    auth = self.auth\n",
    "    attribute_id = user_attribute_routes.clean_attribute_id(attribute_id)\n",
    "\n",
    "    user_attribute = None\n",
    "\n",
    "    try:\n",
    "        user_attribute = await UserAttribute.get_by_id(\n",
    "            attribute_id=attribute_id,\n",
    "            auth=auth,\n",
    "            session=session,\n",
    "            debug_num_stacks_to_drop=debug_num_stacks_to_drop,\n",
    "            debug_api=debug_api,\n",
    "        )\n",
    "\n",
    "        if user_attribute:\n",
    "            if debug_prn:\n",
    "                print(f\"upserting {attribute_id} in {auth.domo_instance}\")\n",
    "\n",
    "            await user_attribute.update(\n",
    "                name=name,\n",
    "                description=description,\n",
    "                issuer_type=issuer_type,\n",
    "                data_type=data_type,\n",
    "                security_voter=security_voter,\n",
    "                session=session,\n",
    "                debug_api=debug_api,\n",
    "                debug_num_stacks_to_drop=debug_num_stacks_to_drop,\n",
    "            )\n",
    "\n",
    "        return user_attribute\n",
    "\n",
    "    except (UserAttributes_CRUD_Error, UserAttributes_GET_Error) as e:\n",
    "        if debug_prn:\n",
    "            print(f\"creating {attribute_id} in {auth.domo_instance}\")\n",
    "\n",
    "        return await self.create(\n",
    "            attribute_id=attribute_id,\n",
    "            name=name,\n",
    "            description=description,\n",
    "            issuer_type=issuer_type or UserAttributes_IssuerType.CUSTOM,\n",
    "            data_type=data_type,\n",
    "            security_voter=security_voter,\n",
    "            session=session,\n",
    "            debug_api=debug_api,\n",
    "            debug_num_stacks_to_drop=debug_num_stacks_to_drop + 1,\n",
    "        )\n",
    "\n",
    "    finally:\n",
    "        await self.get_attributes()"
   ]
  },
  {
   "cell_type": "code",
   "execution_count": null,
   "metadata": {},
   "outputs": [
    {
     "name": "stdout",
     "output_type": "stream",
     "text": [
      "creating TestLibraryStore in domo-community\n",
      "🐛 debugging get_data\n",
      "{'body': {'description': 'domo_libary upsert test 2024-01-03 - 04:51',\n",
      "          'key': 'TestLibraryStore',\n",
      "          'keyspace': 'customer-defined',\n",
      "          'securityVoter': 'FULL_VIS_ADMIN_IDP',\n",
      "          'title': 'TestLibraryStore',\n",
      "          'validator': 'ANY_VALUE'},\n",
      " 'function_name': 'create',\n",
      " 'headers': {'Connection': 'keep-alive',\n",
      "             'Content-Type': 'application/json',\n",
      "             'accept': 'application/json, text/plain',\n",
      "             'x-domo-developer-token': '83ece44f1451d4b581e1191f98cd411164f0b5b6ad2755b3'},\n",
      " 'method': 'POST',\n",
      " 'params': None,\n",
      " 'parent_class': 'UserAttributes',\n",
      " 'url': 'https://domo-community.domo.com/api/user/v1/properties/meta/keys/TestLibraryStore'}\n",
      "get_data: sending json\n",
      "get_data_response <Response [200 OK]>\n"
     ]
    },
    {
     "data": {
      "text/plain": [
       "UserAttribute(id='TestLibraryStore', name='TestLibraryStore', description='domo_libary upsert test 2024-01-03 - 04:51', issuer_type=<UserAttributes_IssuerType.CUSTOM: 'customer-defined'>, customer_id='mmmm-0012-0200', value_type='STRING', validator='ANY_VALUE', validator_configuration=None, security_voter='FULL_VIS_ADMIN_IDP', custom=True)"
      ]
     },
     "execution_count": null,
     "metadata": {},
     "output_type": "execute_result"
    }
   ],
   "source": [
    "# import os\n",
    "# import domolibrary.client.DomoAuth as dmda\n",
    "\n",
    "token_auth = dmda.DomoTokenAuth(\n",
    "    domo_instance=\"domo-community\",\n",
    "    domo_access_token=os.environ[\"DOMO_DOJO_ACCESS_TOKEN\"],\n",
    ")\n",
    "\n",
    "domo_user_attributes = UserAttributes(auth=token_auth)\n",
    "\n",
    "await domo_user_attributes.upsert(\n",
    "    attribute_id=\"TestLibraryStore\",\n",
    "    description=f\"domo_libary upsert test {dt.datetime.now().strftime('%Y-%m-%d - %H:%M')}\",\n",
    "    debug_prn=True,\n",
    "    debug_api=True,\n",
    ")"
   ]
  },
  {
   "cell_type": "code",
   "execution_count": null,
   "metadata": {},
   "outputs": [],
   "source": [
    "# | exporti\n",
    "@patch_to(UserAttributes)\n",
    "async def delete(\n",
    "    self: UserAttributes,\n",
    "    attribute_id: str,\n",
    "    session: httpx.AsyncClient = None,\n",
    "    debug_api: bool = False,\n",
    "    debug_num_stacks_to_drop=2,\n",
    "    return_raw: bool = False,\n",
    "):\n",
    "\n",
    "    auth = self.auth\n",
    "\n",
    "    res = await user_attribute_routes.delete_user_attribute(\n",
    "        auth=auth,\n",
    "        session=session,\n",
    "        debug_api=debug_api,\n",
    "        parent_class=self.__class__.__name__,\n",
    "        debug_num_stacks_to_drop=debug_num_stacks_to_drop,\n",
    "        attribute_id=attribute_id,\n",
    "    )\n",
    "\n",
    "    await self.get_attributes()\n",
    "\n",
    "    return res"
   ]
  },
  {
   "cell_type": "code",
   "execution_count": null,
   "metadata": {},
   "outputs": [
    {
     "data": {
      "text/markdown": [
       "---\n",
       "\n",
       "[source](https://github.com/jaewilson07/domo_library/blob/main/domolibrary/classes/DomoInstanceConfig_UserAttribute.py#L282){target=\"_blank\" style=\"float:right; font-size:smaller\"}\n",
       "\n",
       "### UserAttributes.delete\n",
       "\n",
       ">      UserAttributes.delete (attribute_id:str, session:httpx.AsyncClient=None,\n",
       ">                             debug_api:bool=False, debug_num_stacks_to_drop=2,\n",
       ">                             return_raw:bool=False)"
      ],
      "text/plain": [
       "---\n",
       "\n",
       "[source](https://github.com/jaewilson07/domo_library/blob/main/domolibrary/classes/DomoInstanceConfig_UserAttribute.py#L282){target=\"_blank\" style=\"float:right; font-size:smaller\"}\n",
       "\n",
       "### UserAttributes.delete\n",
       "\n",
       ">      UserAttributes.delete (attribute_id:str, session:httpx.AsyncClient=None,\n",
       ">                             debug_api:bool=False, debug_num_stacks_to_drop=2,\n",
       ">                             return_raw:bool=False)"
      ]
     },
     "execution_count": null,
     "metadata": {},
     "output_type": "execute_result"
    }
   ],
   "source": [
    "show_doc(UserAttributes.delete)"
   ]
  },
  {
   "cell_type": "code",
   "execution_count": null,
   "metadata": {},
   "outputs": [
    {
     "data": {
      "text/plain": [
       "ResponseGetData(status=200, response='deleted TestLibraryStore', is_success=True, parent_class=None)"
      ]
     },
     "execution_count": null,
     "metadata": {},
     "output_type": "execute_result"
    }
   ],
   "source": [
    "# import os\n",
    "# import domolibrary.client.DomoAuth as dmda\n",
    "\n",
    "token_auth = dmda.DomoTokenAuth(\n",
    "    domo_instance=\"domo-community\",\n",
    "    domo_access_token=os.environ[\"DOMO_DOJO_ACCESS_TOKEN\"],\n",
    ")\n",
    "\n",
    "domo_user_attributes = UserAttributes(auth=token_auth)\n",
    "\n",
    "await domo_user_attributes.delete(\n",
    "    attribute_id=\"TestLibraryStore\",\n",
    ")"
   ]
  },
  {
   "cell_type": "code",
   "execution_count": null,
   "metadata": {},
   "outputs": [],
   "source": [
    "# | hide\n",
    "import nbdev\n",
    "\n",
    "nbdev.nbdev_export()"
   ]
  }
 ],
 "metadata": {
  "jupytext": {
   "split_at_heading": true
  },
  "kernelspec": {
   "display_name": "python3",
   "language": "python",
   "name": "python3"
  }
 },
 "nbformat": 4,
 "nbformat_minor": 4
}
