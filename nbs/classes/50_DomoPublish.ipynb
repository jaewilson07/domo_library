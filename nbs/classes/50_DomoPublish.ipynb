{
 "cells": [
  {
   "cell_type": "raw",
   "metadata": {},
   "source": [
    "---\n",
    "description: a class based approach to interacting with Domo Publish\n",
    "output-file: publish_class.html\n",
    "title: Publish\n",
    "\n",
    "---\n",
    "\n"
   ]
  },
  {
   "cell_type": "code",
   "execution_count": 26,
   "metadata": {},
   "outputs": [],
   "source": [
    "# | default_exp classes.DomoPublish"
   ]
  },
  {
   "cell_type": "code",
   "execution_count": 49,
   "metadata": {},
   "outputs": [],
   "source": [
    "# | exporti\n",
    "from dataclasses import dataclass, field\n",
    "from typing import Optional, List\n",
    "\n",
    "import datetime as dt\n",
    "import pandas as pd\n",
    "import asyncio\n",
    "import httpx\n",
    "\n",
    "import uuid\n",
    "\n",
    "from nbdev.showdoc import patch_to\n",
    "\n",
    "import domolibrary.utils.DictDot as util_dd\n",
    "import domolibrary.client.DomoAuth as dmda\n",
    "import domolibrary.routes.publish as publish_routes\n",
    "\n",
    "import domolibrary.classes.DomoLineage as dmdl\n",
    "\n",
    "import domolibrary.utils.chunk_execution as ce"
   ]
  },
  {
   "cell_type": "code",
   "execution_count": 28,
   "metadata": {},
   "outputs": [],
   "source": [
    "#| hide\n",
    "\n",
    "import os\n"
   ]
  },
  {
   "attachments": {},
   "cell_type": "markdown",
   "metadata": {},
   "source": [
    "# Publish"
   ]
  },
  {
   "cell_type": "code",
   "execution_count": 29,
   "metadata": {},
   "outputs": [],
   "source": [
    "# | export\n",
    "@dataclass\n",
    "class DomoPublication_Subscription:\n",
    "    subscription_id: str\n",
    "    publication_id: str\n",
    "    domain: str\n",
    "    created_dt: Optional[dt.datetime] = None\n",
    "\n",
    "    @classmethod\n",
    "    def _from_json(cls, json):\n",
    "\n",
    "        dd = json\n",
    "        if not isinstance(dd, util_dd.DictDot):\n",
    "            dd = util_dd.DictDot(json)\n",
    "\n",
    "        return cls(\n",
    "            subscription_id=dd.id or dd.subscriptionId,\n",
    "            publication_id=dd.publicationId,\n",
    "            domain=dd.domain or dd.publisherDomain,\n",
    "            created_dt=(\n",
    "                dt.datetime.fromtimestamp(dd.created / 1000) if dd.created else None\n",
    "            ),\n",
    "        )"
   ]
  },
  {
   "cell_type": "code",
   "execution_count": 30,
   "metadata": {},
   "outputs": [
    {
     "name": "stdout",
     "output_type": "stream",
     "text": [
      "warning this token has not been validated by who_am_i, run get_auth_token first\n",
      "adjusting num_stacks_to_drop, consider revising `get_traceback` call\n",
      "{'stack_length': 16, 'module_index': 12, 'num_stacks_to_drop_passed': 3}\n",
      "{'id': '891a25be-30b3-4b77-bbc4-18c4619417c4', 'domain': 'domo-community.domo.com', 'customerId': '', 'userId': '1893952720', 'domoObjectId': '1880852133', 'type': 'PAGE', 'updated': 1711219377788, 'hash': 'e783def6-b6d2-4188-bb67-f161db8e107b'}\n",
      "{'id': '3ec590ae-641c-4a2d-b0af-632448479f03', 'domain': 'domo-community.domo.com', 'customerId': '', 'userId': '1893952720', 'domoObjectId': 'ea859b06-5dbe-4c31-be76-de921447d550', 'type': 'DATASET', 'updated': 1711219377788, 'hash': '065d8f18-0882-4266-a21c-19ade9ce32ab'}\n",
      "{'id': '011bd6fc-4713-42cd-9ae3-fc92ab1352e3', 'domain': 'domo-community.domo.com', 'customerId': '', 'userId': '1893952720', 'domoObjectId': 'cf149711-df55-4dc3-a159-59a26d066baa', 'type': 'DATASET', 'updated': 1711219377788, 'hash': '568de3d8-8c95-42b2-8d9f-04e51e81584a'}\n",
      "{'id': 'a9305110-2330-4c07-a798-d5ede792e7d3', 'domain': 'domo-community.domo.com', 'customerId': '', 'userId': '1893952720', 'domoObjectId': 'ee24d234-303e-46aa-b062-9905dc0d8622', 'type': 'DATASET', 'updated': 1711219377788, 'hash': 'd073d08d-8e12-4194-a203-e655251cc9bc'}\n",
      "{'id': '7234b90b-09d9-48cb-876a-d8ed11fc6c2a', 'domain': 'domo-community.domo.com', 'customerId': '', 'userId': '612085674', 'domoObjectId': 'e17fd398-8abf-4cb5-8ed1-5394e274fbf4', 'type': 'DATASET', 'updated': 1711219377788, 'hash': '80739b4e-c74d-4708-8d2f-b21d55462bd6'}\n"
     ]
    }
   ],
   "source": [
    "# | hide\n",
    "\n",
    "publication_id = \"701eb547-4244-43f6-bcda-003ed2c483c7\"\n",
    "\n",
    "token_auth = dmda.DomoTokenAuth(\n",
    "    domo_instance=\"domo-community\",\n",
    "    domo_access_token=os.environ[\"DOMO_DOJO_ACCESS_TOKEN\"],\n",
    ")\n",
    "\n",
    "res = await publish_routes.get_publication_by_id(\n",
    "    publication_id=publication_id, auth=token_auth\n",
    ")\n",
    "\n",
    "# res.response\n",
    "for child in res.response[\"children\"]:\n",
    "    print(child[\"content\"])\n",
    "# subscriber_ls = res.response.get(\"subscriptionAuthorizations\")\n",
    "\n",
    "# [\n",
    "#     DomoPublication_Subscription._from_json(subscriber).__dict__\n",
    "#     for subscriber in subscriber_ls\n",
    "# ]"
   ]
  },
  {
   "cell_type": "code",
   "execution_count": 31,
   "metadata": {},
   "outputs": [],
   "source": [
    "# | export\n",
    "@dataclass\n",
    "class DomoPublication_Content:\n",
    "    content_id: str\n",
    "    entity_type: str\n",
    "    entity_id: str\n",
    "    entity_domain: str\n",
    "    is_v2: bool\n",
    "    is_direct_content: bool\n",
    "\n",
    "    @classmethod\n",
    "    def _from_json(cls, obj: dict):\n",
    "\n",
    "        dd = obj\n",
    "        if not isinstance(dd, util_dd.DictDot):\n",
    "            dd = util_dd.DictDot(obj)\n",
    "\n",
    "        dmpc = cls(\n",
    "            content_id=dd.id,\n",
    "            entity_type=dd.content.type,\n",
    "            entity_id=dd.content.domoObjectId,\n",
    "            entity_domain=dd.content.domain,\n",
    "            is_v2=dd.isV2,\n",
    "            is_direct_content=dd.useDirectContent,\n",
    "        )\n",
    "\n",
    "        return dmpc\n",
    "\n",
    "    def to_api_json(self):\n",
    "        temp_dict = {\n",
    "            \"domain\": self.entity_domain,\n",
    "            \"domoObjectId\": self.entity_id,\n",
    "            \"customerId\": self.entity_domain,\n",
    "            \"type\": self.entity_type,\n",
    "        }\n",
    "        return temp_dict"
   ]
  },
  {
   "cell_type": "code",
   "execution_count": 32,
   "metadata": {},
   "outputs": [
    {
     "name": "stdout",
     "output_type": "stream",
     "text": [
      "warning this token has not been validated by who_am_i, run get_auth_token first\n",
      "adjusting num_stacks_to_drop, consider revising `get_traceback` call\n",
      "{'stack_length': 16, 'module_index': 12, 'num_stacks_to_drop_passed': 3}\n"
     ]
    }
   ],
   "source": [
    "# | hide\n",
    "\n",
    "publication_id = \"701eb547-4244-43f6-bcda-003ed2c483c7\"\n",
    "token_auth = dmda.DomoTokenAuth(\n",
    "    domo_instance=\"domo-community\",\n",
    "    domo_access_token=os.environ[\"DOMO_DOJO_ACCESS_TOKEN\"],\n",
    ")\n",
    "\n",
    "res = await publish_routes.get_publication_by_id(\n",
    "    publication_id=publication_id, auth=token_auth\n",
    ")\n",
    "\n",
    "if res.is_success:\n",
    "    content_ls = res.response.get(\"children\")\n",
    "    # print(content_ls[0])\n",
    "\n",
    "    pd.DataFrame(\n",
    "        [DomoPublication_Content._from_json(content) for content in content_ls]\n",
    "    )"
   ]
  },
  {
   "cell_type": "code",
   "execution_count": 33,
   "metadata": {},
   "outputs": [],
   "source": [
    "# | export\n",
    "class DomoPublication_UnexpectedContentType(Exception):\n",
    "    def __init__(self, publication_id, content_type, domo_instance):\n",
    "        super().__init__(\n",
    "            f\"DomoPublication_Instantiation: Unexpected content type {content_type} in publication {publication_id} in {domo_instance}\"\n",
    "        )"
   ]
  },
  {
   "cell_type": "code",
   "execution_count": 34,
   "metadata": {},
   "outputs": [],
   "source": [
    "# | export\n",
    "@dataclass\n",
    "class DomoPublication:\n",
    "    id: str\n",
    "    name: str\n",
    "    description: str\n",
    "    is_v2: bool\n",
    "    created_dt: dt.datetime\n",
    "\n",
    "    auth: dmda.DomoAuth = field(default=None, repr=False)\n",
    "\n",
    "    subscription_authorizations: List[DomoPublication_Subscription] = field(\n",
    "        default_factory=list\n",
    "    )\n",
    "    content: List[DomoPublication_Content] = field(default_factory=list)\n",
    "\n",
    "    content_page_id_ls: List[str] = field(default_factory=list)\n",
    "    content_dataset_id_ls: List[str] = field(default_factory=list)\n",
    "\n",
    "    lineage: dmdl.DomoLineage = None\n",
    "\n",
    "    def __post_init__(self):\n",
    "        self.lineage = dmdl.DomoLineage(parent=self)\n",
    "\n",
    "    @classmethod\n",
    "    def _from_json(cls, obj, auth: dmda.DomoAuth = None):\n",
    "\n",
    "        dd = util_dd.DictDot(obj)\n",
    "\n",
    "        domo_pub = cls(\n",
    "            id=dd.id,\n",
    "            name=dd.name,\n",
    "            description=dd.description,\n",
    "            created_dt=(\n",
    "                dt.datetime.fromtimestamp(dd.created / 1000) if dd.created else None\n",
    "            ),\n",
    "            is_v2=dd.isV2,\n",
    "            auth=auth,\n",
    "        )\n",
    "\n",
    "        if dd.subscriptionAuthorizations and len(dd.subscriptionAuthorizations) > 0:\n",
    "            domo_pub.subscription_authorizations = [\n",
    "                DomoPublication_Subscription._from_json(sub)\n",
    "                for sub in dd.subscriptionAuthorizations\n",
    "            ]\n",
    "\n",
    "        # publish only supports sharing pages and datasets\n",
    "        if dd.children and len(dd.children) > 0:\n",
    "            for child in dd.children:\n",
    "\n",
    "                dmpc = DomoPublication_Content._from_json(child)\n",
    "                domo_pub.content.append(dmpc)\n",
    "\n",
    "                if dmpc.entity_type == \"PAGE\":\n",
    "                    domo_pub.content_page_id_ls.append(dmpc.entity_id)\n",
    "\n",
    "                elif dmpc.entity_type == \"DATASET\":\n",
    "                    domo_pub.content_dataset_id_ls.append(dmpc.entity_id)\n",
    "\n",
    "                else:\n",
    "                    raise DomoPublication_UnexpectedContentType(\n",
    "                        publication_id=domo_pub.id,\n",
    "                        content_type=dmpc.entity_type,\n",
    "                        domo_instance=auth.domo_instance,\n",
    "                    )\n",
    "\n",
    "        return domo_pub"
   ]
  },
  {
   "cell_type": "code",
   "execution_count": 35,
   "metadata": {},
   "outputs": [],
   "source": [
    "# | export\n",
    "@patch_to(DomoPublication, cls_method=True)\n",
    "async def get_from_id(cls, publication_id=None, auth: dmda.DomoAuth = None, timeout=10):\n",
    "\n",
    "    auth = auth or cls.auth\n",
    "\n",
    "    publication_id = publication_id or cls.publication_id\n",
    "\n",
    "    res = await publish_routes.get_publication_by_id(\n",
    "        auth=auth, publication_id=publication_id, timeout=timeout\n",
    "    )\n",
    "\n",
    "    if not res.is_success:\n",
    "        return None\n",
    "\n",
    "    return cls._from_json(obj=res.response, auth=auth)"
   ]
  },
  {
   "attachments": {},
   "cell_type": "markdown",
   "metadata": {},
   "source": [
    "#### sample implementation of get_from_id\n"
   ]
  },
  {
   "cell_type": "code",
   "execution_count": 36,
   "metadata": {},
   "outputs": [
    {
     "name": "stdout",
     "output_type": "stream",
     "text": [
      "warning this token has not been validated by who_am_i, run get_auth_token first\n",
      "DomoPublication(id='701eb547-4244-43f6-bcda-003ed2c483c7',\n",
      "                name='test_publish',\n",
      "                description='',\n",
      "                is_v2=True,\n",
      "                created_dt=datetime.datetime(2023, 4, 27, 1, 36, 20, 642000),\n",
      "                subscription_authorizations=[DomoPublication_Subscription(subscription_id='447bf630-7113-4323-bf67-773dcc450a3a',\n",
      "                                                                          publication_id='701eb547-4244-43f6-bcda-003ed2c483c7',\n",
      "                                                                          domain='test.domo.com',\n",
      "                                                                          created_dt=datetime.datetime(2023, 4, 27, 1, 36, 20, 642000))],\n",
      "                content=[DomoPublication_Content(content_id='cb257f38-6d6b-46b7-92c5-aee90fde7b66',\n",
      "                                                 entity_type='PAGE',\n",
      "                                                 entity_id='1880852133',\n",
      "                                                 entity_domain='domo-community.domo.com',\n",
      "                                                 is_v2=True,\n",
      "                                                 is_direct_content=True),\n",
      "                         DomoPublication_Content(content_id='06c56df0-c58b-4afd-ab3f-41de5089273a',\n",
      "                                                 entity_type='DATASET',\n",
      "                                                 entity_id='ea859b06-5dbe-4c31-be76-de921447d550',\n",
      "                                                 entity_domain='domo-community.domo.com',\n",
      "                                                 is_v2=True,\n",
      "                                                 is_direct_content=True),\n",
      "                         DomoPublication_Content(content_id='40d4d296-af58-42e9-98a1-131d3b9c1c97',\n",
      "                                                 entity_type='DATASET',\n",
      "                                                 entity_id='cf149711-df55-4dc3-a159-59a26d066baa',\n",
      "                                                 entity_domain='domo-community.domo.com',\n",
      "                                                 is_v2=True,\n",
      "                                                 is_direct_content=True),\n",
      "                         DomoPublication_Content(content_id='a600cd85-3820-47ab-b66f-6ad682d139fb',\n",
      "                                                 entity_type='DATASET',\n",
      "                                                 entity_id='ee24d234-303e-46aa-b062-9905dc0d8622',\n",
      "                                                 entity_domain='domo-community.domo.com',\n",
      "                                                 is_v2=True,\n",
      "                                                 is_direct_content=True),\n",
      "                         DomoPublication_Content(content_id='f80ef8c8-a133-439c-b459-7967ce7df4b3',\n",
      "                                                 entity_type='DATASET',\n",
      "                                                 entity_id='e17fd398-8abf-4cb5-8ed1-5394e274fbf4',\n",
      "                                                 entity_domain='domo-community.domo.com',\n",
      "                                                 is_v2=True,\n",
      "                                                 is_direct_content=True)],\n",
      "                content_page_id_ls=['1880852133'],\n",
      "                content_dataset_id_ls=['ea859b06-5dbe-4c31-be76-de921447d550',\n",
      "                                       'cf149711-df55-4dc3-a159-59a26d066baa',\n",
      "                                       'ee24d234-303e-46aa-b062-9905dc0d8622',\n",
      "                                       'e17fd398-8abf-4cb5-8ed1-5394e274fbf4'],\n",
      "                lineage=DomoLineage(page_id_ls=[],\n",
      "                                    card_id_ls=[],\n",
      "                                    dataflow_id_ls=[],\n",
      "                                    dataset_id_ls=[],\n",
      "                                    entity_ls=[]))\n"
     ]
    }
   ],
   "source": [
    "#| eval : false\n",
    "\n",
    "publication_id = \"701eb547-4244-43f6-bcda-003ed2c483c7\"\n",
    "token_auth = dmda.DomoTokenAuth(\n",
    "    domo_instance=\"domo-community\",\n",
    "    domo_access_token=os.environ[\"DOMO_DOJO_ACCESS_TOKEN\"],\n",
    ")\n",
    "\n",
    "domo_publication = await DomoPublication.get_from_id(\n",
    "    publication_id=publication_id, auth=token_auth\n",
    ")\n",
    "\n",
    "from pprint import pprint\n",
    "\n",
    "pprint(domo_publication)"
   ]
  },
  {
   "attachments": {},
   "cell_type": "markdown",
   "metadata": {},
   "source": [
    "# Subscription"
   ]
  },
  {
   "attachments": {},
   "cell_type": "markdown",
   "metadata": {},
   "source": [
    "# DomoPublications"
   ]
  },
  {
   "cell_type": "code",
   "execution_count": 37,
   "metadata": {},
   "outputs": [],
   "source": [
    "# | export\n",
    "\n",
    "\n",
    "@dataclass\n",
    "class DomoPublications:\n",
    "    @classmethod\n",
    "    async def get_subscription_summaries(\n",
    "        cls,\n",
    "        auth: dmda.DomoAuth,\n",
    "        session: httpx.AsyncClient = None,\n",
    "        return_raw: bool = False,\n",
    "        debug_api: bool = False,\n",
    "    ):\n",
    "        \"\"\"get instances subscription summaries\"\"\"\n",
    "\n",
    "        res = await publish_routes.get_subscription_summaries(\n",
    "            auth=auth, session=session, debug_api=debug_api\n",
    "        )\n",
    "\n",
    "        if return_raw:\n",
    "            return res\n",
    "\n",
    "        if not res.is_success:\n",
    "            return res\n",
    "\n",
    "        sub_ls = res.response\n",
    "\n",
    "        return [DomoPublication_Subscription._from_json(sub) for sub in sub_ls]"
   ]
  },
  {
   "attachments": {},
   "cell_type": "markdown",
   "metadata": {},
   "source": [
    "#### sample implementation of get_subscription_summaries"
   ]
  },
  {
   "cell_type": "code",
   "execution_count": 38,
   "metadata": {},
   "outputs": [
    {
     "name": "stdout",
     "output_type": "stream",
     "text": [
      "warning this token has not been validated by who_am_i, run get_auth_token first\n"
     ]
    },
    {
     "data": {
      "text/plain": [
       "[]"
      ]
     },
     "execution_count": 38,
     "metadata": {},
     "output_type": "execute_result"
    }
   ],
   "source": [
    "#| eval : false\n",
    "\n",
    "token_auth = dmda.DomoTokenAuth(\n",
    "    domo_instance=\"domo-community\",\n",
    "    domo_access_token=os.environ[\"DOMO_DOJO_ACCESS_TOKEN\"],\n",
    ")\n",
    "\n",
    "await DomoPublications.get_subscription_summaries(auth=token_auth, return_raw=False)"
   ]
  },
  {
   "cell_type": "code",
   "execution_count": 39,
   "metadata": {},
   "outputs": [],
   "source": [
    "# | export\n",
    "@patch_to(DomoPublications, cls_method=True)\n",
    "async def search_publications(\n",
    "    cls: DomoPublications,\n",
    "    auth=dmda.DomoAuth,\n",
    "    search_term: str = None,\n",
    "    session: httpx.AsyncClient = None,\n",
    "    debug_api: bool = False,\n",
    "    return_raw: bool = False,\n",
    "):\n",
    "    res = await publish_routes.search_publications(\n",
    "        auth=auth,\n",
    "        search_term=search_term,\n",
    "        session=session,\n",
    "        debug_api=debug_api,\n",
    "    )\n",
    "\n",
    "    if return_raw:\n",
    "        return res\n",
    "\n",
    "    if not res.is_success or (res.is_success and len(res.response) == 0):\n",
    "        return None\n",
    "\n",
    "    return await ce.gather_with_concurrency(\n",
    "        n=60,\n",
    "        *[\n",
    "            DomoPublication.get_from_id(publication_id=sub_obj[\"id\"], auth=auth)\n",
    "            for sub_obj in res.response\n",
    "        ]\n",
    "    )"
   ]
  },
  {
   "cell_type": "code",
   "execution_count": 40,
   "metadata": {},
   "outputs": [
    {
     "name": "stdout",
     "output_type": "stream",
     "text": [
      "warning this token has not been validated by who_am_i, run get_auth_token first\n"
     ]
    },
    {
     "data": {
      "text/plain": [
       "[DomoPublication(id='095426a1-2c35-468b-bb96-36c516382f19', name='Ellibot', description='', is_v2=True, created_dt=datetime.datetime(2023, 11, 10, 11, 5, 10, 961000), subscription_authorizations=[DomoPublication_Subscription(subscription_id='173ee64d-4f68-4d40-b634-22b5332f4e45', publication_id='095426a1-2c35-468b-bb96-36c516382f19', domain='domo-community-ellibot.domo.com', created_dt=datetime.datetime(2023, 11, 10, 11, 5, 10, 961000))], content=[DomoPublication_Content(content_id='c61531b6-81ac-45ec-9a77-d41194406097', entity_type='DATASET', entity_id='f6210193-5322-4481-a1de-d07aed544050', entity_domain='domo-community.domo.com', is_v2=True, is_direct_content=True)], content_page_id_ls=[], content_dataset_id_ls=['f6210193-5322-4481-a1de-d07aed544050'], lineage=DomoLineage(page_id_ls=[], card_id_ls=[], dataflow_id_ls=[], dataset_id_ls=[], entity_ls=[])),\n",
       " DomoPublication(id='99a4f772-f0e0-47a6-873a-5870d03b9134', name='Landing Page QA', description='', is_v2=True, created_dt=datetime.datetime(2023, 6, 15, 15, 14, 23, 791000), subscription_authorizations=[DomoPublication_Subscription(subscription_id='e0788b4e-5973-4c48-8a56-433dfb280496', publication_id='99a4f772-f0e0-47a6-873a-5870d03b9134', domain='test.domo.com', created_dt=datetime.datetime(2023, 6, 15, 15, 14, 23, 791000))], content=[DomoPublication_Content(content_id='b10b76dd-17f6-4459-9279-d1764035fad8', entity_type='DATASET', entity_id='51260f1d-b146-4dff-a1d8-68b7aa0b740b', entity_domain='domo-community.domo.com', is_v2=True, is_direct_content=True)], content_page_id_ls=[], content_dataset_id_ls=['51260f1d-b146-4dff-a1d8-68b7aa0b740b'], lineage=DomoLineage(page_id_ls=[], card_id_ls=[], dataflow_id_ls=[], dataset_id_ls=[], entity_ls=[])),\n",
       " DomoPublication(id='e3295d79-4dbe-4994-8f8e-f105b178cc3b', name='Sandbox_PROD', description='', is_v2=True, created_dt=datetime.datetime(2023, 6, 15, 14, 54, 18, 747000), subscription_authorizations=[DomoPublication_Subscription(subscription_id='7ff7ec45-4a5b-4f5b-ab82-c2d4e00527a1', publication_id='e3295d79-4dbe-4994-8f8e-f105b178cc3b', domain='test.domo.com', created_dt=datetime.datetime(2023, 6, 15, 14, 54, 18, 748000))], content=[DomoPublication_Content(content_id='d4414dfc-3d05-41ef-bb47-8b29b75bb6b8', entity_type='DATASET', entity_id='15543b0f-dfe7-4a91-b7db-a86b9e8fec82', entity_domain='domo-community.domo.com', is_v2=True, is_direct_content=True)], content_page_id_ls=[], content_dataset_id_ls=['15543b0f-dfe7-4a91-b7db-a86b9e8fec82'], lineage=DomoLineage(page_id_ls=[], card_id_ls=[], dataflow_id_ls=[], dataset_id_ls=[], entity_ls=[])),\n",
       " DomoPublication(id='17ec9f81-906f-42f7-b70b-6a26e2db523f', name='Test OZ', description='', is_v2=True, created_dt=datetime.datetime(2023, 6, 27, 12, 5, 0, 235000), subscription_authorizations=[DomoPublication_Subscription(subscription_id='c3e2d03e-fd02-4bdc-a2c5-1daa0ae134c4', publication_id='17ec9f81-906f-42f7-b70b-6a26e2db523f', domain='test.domo.com', created_dt=datetime.datetime(2023, 6, 27, 12, 5, 0, 235000))], content=[DomoPublication_Content(content_id='72d3f072-cecc-4940-af69-e25a64170148', entity_type='DATASET', entity_id='e17fd398-8abf-4cb5-8ed1-5394e274fbf4', entity_domain='domo-community.domo.com', is_v2=True, is_direct_content=True)], content_page_id_ls=[], content_dataset_id_ls=['e17fd398-8abf-4cb5-8ed1-5394e274fbf4'], lineage=DomoLineage(page_id_ls=[], card_id_ls=[], dataflow_id_ls=[], dataset_id_ls=[], entity_ls=[])),\n",
       " DomoPublication(id='5b4a61f0-4f65-4191-97ff-245702756a4a', name='Test OZ', description='', is_v2=True, created_dt=datetime.datetime(2023, 7, 7, 10, 44, 0, 2000), subscription_authorizations=[DomoPublication_Subscription(subscription_id='5f0989bd-fc58-4590-bdf1-9d358ea9287a', publication_id='5b4a61f0-4f65-4191-97ff-245702756a4a', domain='test.domo.com', created_dt=datetime.datetime(2023, 7, 7, 10, 44, 0, 2000))], content=[DomoPublication_Content(content_id='ede617cc-65d1-419b-bd9d-1ea7205cde62', entity_type='DATASET', entity_id='e17fd398-8abf-4cb5-8ed1-5394e274fbf4', entity_domain='domo-community.domo.com', is_v2=True, is_direct_content=True)], content_page_id_ls=[], content_dataset_id_ls=['e17fd398-8abf-4cb5-8ed1-5394e274fbf4'], lineage=DomoLineage(page_id_ls=[], card_id_ls=[], dataflow_id_ls=[], dataset_id_ls=[], entity_ls=[]))]"
      ]
     },
     "execution_count": 40,
     "metadata": {},
     "output_type": "execute_result"
    }
   ],
   "source": [
    "#| eval : false\n",
    "\n",
    "token_auth = dmda.DomoTokenAuth(\n",
    "    domo_instance=\"domo-community\",\n",
    "    domo_access_token=os.environ[\"DOMO_DOJO_ACCESS_TOKEN\"],\n",
    ")\n",
    "\n",
    "(await DomoPublications.search_publications(auth=token_auth, return_raw=False))[0:5]"
   ]
  },
  {
   "cell_type": "code",
   "execution_count": 41,
   "metadata": {},
   "outputs": [],
   "source": [
    "# | export\n",
    "\n",
    "\n",
    "@patch_to(DomoPublication, cls_method=False)\n",
    "def convert_content_to_dataframe(self, return_raw: bool = False):\n",
    "\n",
    "    output_ls = [\n",
    "        {\n",
    "            \"plubication_id\": self.id,\n",
    "            \"publication_name\": self.name,\n",
    "            \"is_v2\": self.is_v2,\n",
    "            \"publish_created_dt\": self.created_dt,\n",
    "            \"entity_type\": row.type,\n",
    "            \"entity_id\": row.id,\n",
    "        }\n",
    "        for row in self.content_entity_ls\n",
    "    ]\n",
    "\n",
    "    if return_raw:\n",
    "        return output_ls\n",
    "\n",
    "    return pd.DataFrame(output_ls)\n",
    "\n",
    "\n",
    "@patch_to(DomoPublication, cls_method=False)\n",
    "def convert_lineage_to_dataframe(self, return_raw: bool = False):\n",
    "\n",
    "    flat_lineage_ls = self.lineage._flatten_lineage()\n",
    "\n",
    "    output_ls = [\n",
    "        {\n",
    "            \"plubication_id\": self.id,\n",
    "            \"publication_name\": self.name,\n",
    "            \"is_v2\": self.is_v2,\n",
    "            \"publish_created_dt\": self.created_dt,\n",
    "            \"entity_type\": row.get(\"entity_type\"),\n",
    "            \"entity_id\": row.get(\"entity_id\"),\n",
    "        }\n",
    "        for row in flat_lineage_ls\n",
    "    ]\n",
    "\n",
    "    if return_raw:\n",
    "        return output_ls\n",
    "\n",
    "    return pd.DataFrame(output_ls)"
   ]
  },
  {
   "cell_type": "code",
   "execution_count": 42,
   "metadata": {},
   "outputs": [],
   "source": [
    "# | export\n",
    "@patch_to(DomoPublication, cls_method=True)\n",
    "async def create_publication(\n",
    "    cls,\n",
    "    name: str,\n",
    "    content_ls: List[DomoPublication_Content],\n",
    "    subscription_ls: List[DomoPublication_Subscription],\n",
    "    unique_id: str = None,\n",
    "    description: str = None,\n",
    "    auth: dmda.DomoAuth = None,\n",
    "    debug_api: bool = False,\n",
    "):\n",
    "\n",
    "    if not isinstance(subscription_ls, list):\n",
    "        subscription_ls = [subscription_ls]\n",
    "\n",
    "    auth = auth or cls.auth\n",
    "    domain_ls = []\n",
    "    content_json_ls = []\n",
    "    for sub in subscription_ls:\n",
    "        domain_ls.append(sub.domain)\n",
    "    for content_item in content_ls:\n",
    "        content_json_ls.append(content_item.to_api_json())\n",
    "\n",
    "    if not unique_id:\n",
    "        unique_id = str(uuid.uuid4())\n",
    "    if not description:\n",
    "        description = \"\"\n",
    "\n",
    "    body = publish_routes.generate_publish_body(\n",
    "        url=f\"{auth.domo_instance}.domo.com\",\n",
    "        sub_domain_ls=domain_ls,\n",
    "        content_ls=content_json_ls,\n",
    "        name=name,\n",
    "        unique_id=unique_id,\n",
    "        description=description,\n",
    "        is_new=True,\n",
    "    )\n",
    "\n",
    "    res = await publish_routes.create_publish_job(auth=auth, body=body)\n",
    "    if debug_api:\n",
    "        print(\"Create the new Publish job\")\n",
    "    if res.status != 200:\n",
    "        print(res)\n",
    "        await asyncio.sleep(2)\n",
    "        res = await publish_routes.get_publication_by_id(\n",
    "            auth=auth, publication_id=unique_id\n",
    "        )\n",
    "        if res.status != 200:\n",
    "            return None\n",
    "        else:\n",
    "            return cls._from_json(obj=res.response, auth=auth)\n",
    "\n",
    "    return cls._from_json(obj=res.response, auth=auth)"
   ]
  },
  {
   "cell_type": "code",
   "execution_count": 43,
   "metadata": {},
   "outputs": [],
   "source": [
    "#| eval : false\n",
    "token_auth = dmda.DomoTokenAuth(\n",
    "    domo_instance=\"domo-community\",\n",
    "    domo_access_token=os.environ[\"DOMO_DOJO_ACCESS_TOKEN\"],\n",
    ")\n",
    "\n",
    "content_ls = []\n",
    "content_item = DomoPublication_Content(\n",
    "    content_id=\"\",\n",
    "    entity_type=\"DATASET\",\n",
    "    entity_id=\"e17fd398-8abf-4cb5-8ed1-5394e274fbf4\",\n",
    "    entity_domain=\"domo-community.domo.com\",\n",
    "    is_v2=True,\n",
    "    is_direct_content=True,\n",
    ")\n",
    "content_ls.append(content_item)\n",
    "\n",
    "sub_ls = []\n",
    "sub_item = DomoPublication_Subscription(\n",
    "    subscription_id=\"\",\n",
    "    publication_id=\"\",\n",
    "    domain=\"test.domo.com\",\n",
    "    created_dt=dt.datetime.now(),\n",
    ")\n",
    "sub_ls.append(sub_item)\n",
    "\n",
    "# await DomoPublication.create_publication(auth = token_auth, name=\"Test OZ\",\n",
    "#                                  content_ls=content_ls,\n",
    "#                                  subscription_ls=sub_ls)"
   ]
  },
  {
   "cell_type": "code",
   "execution_count": 44,
   "metadata": {},
   "outputs": [],
   "source": [
    "# | export\n",
    "@patch_to(DomoPublication, cls_method=True)\n",
    "async def update_publication(\n",
    "    cls,\n",
    "    name: str,\n",
    "    content_ls: List[DomoPublication_Content],\n",
    "    subscription_ls: List[DomoPublication_Subscription],\n",
    "    publication_id: str,\n",
    "    description: str = None,\n",
    "    auth: dmda.DomoAuth = None,\n",
    "    debug_api: bool = False,\n",
    "):\n",
    "\n",
    "    if not isinstance(subscription_ls, list):\n",
    "        subscription_ls = [subscription_ls]\n",
    "\n",
    "    auth = auth or cls.auth\n",
    "    domain_ls = []\n",
    "    content_json_ls = []\n",
    "    for sub in subscription_ls:\n",
    "        domain_ls.append(sub.domain)\n",
    "    for content_item in content_ls:\n",
    "        content_json_ls.append(content_item.to_api_json())\n",
    "\n",
    "    if not description:\n",
    "        description = \"\"\n",
    "    body = publish_routes.generate_publish_body(\n",
    "        url=f\"{auth.domo_instance}.domo.com\",\n",
    "        sub_domain_ls=domain_ls,\n",
    "        content_ls=content_json_ls,\n",
    "        name=name,\n",
    "        unique_id=publication_id,\n",
    "        description=description,\n",
    "        is_new=False,\n",
    "    )\n",
    "\n",
    "    res = await publish_routes.udpate_publish_job(\n",
    "        auth=auth, publication_id=publication_id, body=body\n",
    "    )\n",
    "    if debug_api:\n",
    "        print(\"Update Publish job by id\")\n",
    "    if res.status != 200:\n",
    "        print(res)\n",
    "        await asyncio.sleep(2)\n",
    "        res = await publish_routes.get_publication_by_id(\n",
    "            auth=auth, publication_id=publication_id\n",
    "        )\n",
    "        if res.status != 200:\n",
    "            return None\n",
    "        else:\n",
    "            return cls._from_json(obj=res.response, auth=auth)\n",
    "\n",
    "    return cls._from_json(obj=res.response, auth=auth)"
   ]
  },
  {
   "cell_type": "code",
   "execution_count": 45,
   "metadata": {},
   "outputs": [
    {
     "name": "stdout",
     "output_type": "stream",
     "text": [
      "warning this token has not been validated by who_am_i, run get_auth_token first\n",
      "ResponseGetData(status=202, response={'name': 'Test OZ - updated', 'description': '', 'domain': 'domo-community.domo.com', 'content': [{'id': '5b49b7a5-8bad-4531-845e-aea6a600248e', 'domain': 'domo-community.domo.com', 'customerId': 'domo-community.domo.com', 'userId': 'Fake User Id', 'domoObjectId': '384424178', 'type': 'PAGE', 'updated': 1711219382904, 'hash': '01d7c069-9912-4948-9b2f-4a1223d944f7'}, {'id': '23543278-a0e3-4f68-a9cc-15931d1d81f9', 'domain': 'domo-community.domo.com', 'customerId': 'domo-community.domo.com', 'userId': 'Fake User Id', 'domoObjectId': '4ef43af5-67e7-4b9e-bd58-c4e592aa289a', 'type': 'DATASET', 'updated': 1711219382904, 'hash': '73dfb293-73c9-4ea9-b8e3-755059f6c375'}, {'id': '92856ce0-4c33-41c1-bbd6-b89f94e42867', 'domain': 'domo-community.domo.com', 'customerId': 'domo-community.domo.com', 'userId': 'Fake User Id', 'domoObjectId': 'e17fd398-8abf-4cb5-8ed1-5394e274fbf4', 'type': 'DATASET', 'updated': 1711219382904, 'hash': '84a0ed90-757b-4e42-aaaa-5e26e326ebdf'}, {'id': 'a7472c23-4083-4a4d-9f5c-d935cde1405f', 'domain': 'domo-community.domo.com', 'customerId': 'domo-community.domo.com', 'userId': 'Fake User Id', 'domoObjectId': '04c1574e-c8be-4721-9846-c6ffa491144b', 'type': 'DATASET', 'updated': 1711219382904, 'hash': '334bdfaf-077f-486a-9082-52d68b58c666'}], 'subscriberDomain': ['test.domo.com'], 'id': '438731a1-7e4e-4863-967f-fcfad22c9247', 'type': 'CONTENT', 'isPublic': False}, is_success=True, parent_class=None)\n"
     ]
    },
    {
     "data": {
      "text/plain": [
       "DomoPublication(id='438731a1-7e4e-4863-967f-fcfad22c9247', name='Test OZ - updated', description='', is_v2=True, created_dt=datetime.datetime(2023, 5, 2, 15, 6, 24, 358000), subscription_authorizations=[DomoPublication_Subscription(subscription_id='a0272907-d34c-4c27-b716-f2386dfecd19', publication_id='438731a1-7e4e-4863-967f-fcfad22c9247', domain='test.domo.com', created_dt=datetime.datetime(2023, 5, 2, 15, 6, 24, 358000))], content=[DomoPublication_Content(content_id='16e1b47f-6677-41a3-9c80-894550fec649', entity_type='PAGE', entity_id='384424178', entity_domain='domo-community.domo.com', is_v2=True, is_direct_content=True), DomoPublication_Content(content_id='14d1a1e9-8673-4b3f-aa72-1d32a6041140', entity_type='DATASET', entity_id='4ef43af5-67e7-4b9e-bd58-c4e592aa289a', entity_domain='domo-community.domo.com', is_v2=True, is_direct_content=True), DomoPublication_Content(content_id='53ab2b71-7b4c-47c9-9d0f-5deb3c7974f8', entity_type='DATASET', entity_id='e17fd398-8abf-4cb5-8ed1-5394e274fbf4', entity_domain='domo-community.domo.com', is_v2=True, is_direct_content=True), DomoPublication_Content(content_id='87579059-fb6a-4d35-99ab-8ff624472dfd', entity_type='DATASET', entity_id='04c1574e-c8be-4721-9846-c6ffa491144b', entity_domain='domo-community.domo.com', is_v2=True, is_direct_content=True)], content_page_id_ls=['384424178'], content_dataset_id_ls=['4ef43af5-67e7-4b9e-bd58-c4e592aa289a', 'e17fd398-8abf-4cb5-8ed1-5394e274fbf4', '04c1574e-c8be-4721-9846-c6ffa491144b'], lineage=DomoLineage(page_id_ls=[], card_id_ls=[], dataflow_id_ls=[], dataset_id_ls=[], entity_ls=[]))"
      ]
     },
     "execution_count": 45,
     "metadata": {},
     "output_type": "execute_result"
    }
   ],
   "source": [
    "#| eval : false\n",
    "\n",
    "token_auth = dmda.DomoTokenAuth(\n",
    "    domo_instance=\"domo-community\",\n",
    "    domo_access_token=os.environ[\"DOMO_DOJO_ACCESS_TOKEN\"],\n",
    ")\n",
    "publication_id = \"438731a1-7e4e-4863-967f-fcfad22c9247\"\n",
    "domo_publication = await DomoPublication.get_from_id(\n",
    "    publication_id=publication_id, auth=token_auth\n",
    ")\n",
    "\n",
    "await DomoPublication.update_publication(\n",
    "    auth=token_auth,\n",
    "    name=\"Test OZ - updated\",\n",
    "    publication_id=publication_id,\n",
    "    content_ls=domo_publication.content,\n",
    "    subscription_ls=domo_publication.subscription_authorizations,\n",
    ")"
   ]
  },
  {
   "cell_type": "code",
   "execution_count": 46,
   "metadata": {},
   "outputs": [],
   "source": [
    "# | export\n",
    "@patch_to(DomoPublication, cls_method=True)\n",
    "async def get_subscription_invites_list(\n",
    "    cls, auth: dmda.DomoAuth, debug_api: bool = False\n",
    "):\n",
    "\n",
    "    res = await publish_routes.get_subscription_invititations(\n",
    "        auth=auth, debug_api=debug_api\n",
    "    )\n",
    "    if debug_api:\n",
    "        print(\"Getting Publish subscription invites\")\n",
    "\n",
    "    if res.status == 200:\n",
    "        return res.response\n",
    "    else:\n",
    "        return None\n",
    "\n",
    "\n",
    "# | export\n",
    "@patch_to(DomoPublication, cls_method=True)\n",
    "async def accept_invite_by_id(\n",
    "    cls, auth: dmda.DomoAuth, subscription_id: str, debug_api: bool = False\n",
    "):\n",
    "\n",
    "    res = await publish_routes.accept_invite_by_id(\n",
    "        auth=auth, subscription_id=subscription_id, debug_api=debug_api\n",
    "    )\n",
    "    if debug_api:\n",
    "        print(f\"Accept invite by id {subscription_id}\")\n",
    "\n",
    "    if res.status == 200:\n",
    "        return res.response\n",
    "    else:\n",
    "        return None"
   ]
  },
  {
   "cell_type": "code",
   "execution_count": 47,
   "metadata": {},
   "outputs": [
    {
     "name": "stdout",
     "output_type": "stream",
     "text": [
      "warning this token has not been validated by who_am_i, run get_auth_token first\n"
     ]
    },
    {
     "data": {
      "text/plain": [
       "[]"
      ]
     },
     "execution_count": 47,
     "metadata": {},
     "output_type": "execute_result"
    }
   ],
   "source": [
    "#| eval : false\n",
    "\n",
    "token_auth = dmda.DomoTokenAuth(\n",
    "    domo_instance=\"domo-community\",\n",
    "    domo_access_token=os.environ[\"DOMO_DOJO_ACCESS_TOKEN\"],\n",
    ")\n",
    "\n",
    "await DomoPublication.get_subscription_invites_list(auth=token_auth)"
   ]
  },
  {
   "cell_type": "code",
   "execution_count": 48,
   "metadata": {},
   "outputs": [],
   "source": [
    "# | hide\n",
    "\n",
    "import nbdev\n",
    "\n",
    "nbdev.nbdev_export()"
   ]
  }
 ],
 "metadata": {
  "jupytext": {
   "split_at_heading": true
  },
  "kernelspec": {
   "display_name": "python3",
   "language": "python",
   "name": "python3"
  },
  "language_info": {
   "codemirror_mode": {
    "name": "ipython",
    "version": 3
   },
   "file_extension": ".py",
   "mimetype": "text/x-python",
   "name": "python",
   "nbconvert_exporter": "python",
   "pygments_lexer": "ipython3",
   "version": "3.10.12"
  }
 },
 "nbformat": 4,
 "nbformat_minor": 4
}
