{
 "cells": [
  {
   "cell_type": "raw",
   "metadata": {},
   "source": [
    "---\n",
    "description: a class based approach to interacting with Domo Publish\n",
    "output-file: publish_class.html\n",
    "title: Domo Publish\n",
    "\n",
    "---\n",
    "\n"
   ]
  },
  {
   "cell_type": "code",
   "execution_count": 1,
   "metadata": {},
   "outputs": [],
   "source": [
    "# | default_exp classes.DomoPublish"
   ]
  },
  {
   "cell_type": "code",
   "execution_count": 2,
   "metadata": {},
   "outputs": [],
   "source": [
    "# | exporti\n",
    "from dataclasses import dataclass, field\n",
    "\n",
    "from typing import Optional\n",
    "import datetime as dt\n",
    "import asyncio\n",
    "import httpx\n",
    "import uuid\n",
    "from fastcore.basics import patch_to\n",
    "\n",
    "# import importlib\n",
    "# import json\n",
    "# import uuid\n",
    "# import time\n",
    "\n",
    "import domolibrary.utils.DictDot as util_dd\n",
    "import domolibrary.client.DomoAuth as dmda\n",
    "import domolibrary.client.DomoError as de\n",
    "import domolibrary.routes.publish as publish_routes\n",
    "\n",
    "# import Library.DomoClasses.DomoDataset as dmda\n",
    "import domolibrary.classes.DomoLineage as dmdl"
   ]
  },
  {
   "attachments": {},
   "cell_type": "markdown",
   "metadata": {},
   "source": [
    "# Publish"
   ]
  },
  {
   "cell_type": "code",
   "execution_count": 3,
   "metadata": {},
   "outputs": [],
   "source": [
    "# | export\n",
    "@dataclass\n",
    "class DomoPublication_Subscription:\n",
    "    subscription_id: str\n",
    "    publication_id: str\n",
    "    domain: str\n",
    "    created_dt: Optional[dt.datetime] = None\n",
    "\n",
    "    @classmethod\n",
    "    def _from_json(cls, json):\n",
    "\n",
    "        dd = json\n",
    "        if not isinstance(dd, util_dd.DictDot):\n",
    "            dd = util_dd.DictDot(json)\n",
    "\n",
    "        return cls(\n",
    "            subscription_id=dd.id,\n",
    "            publication_id=dd.publicationId,\n",
    "            domain=dd.domain,\n",
    "            created_dt=dt.datetime.fromtimestamp(dd.created / 1000)\n",
    "            if dd.created\n",
    "            else None,\n",
    "        )\n",
    "\n",
    "\n"
   ]
  },
  {
   "cell_type": "code",
   "execution_count": 4,
   "metadata": {},
   "outputs": [
    {
     "name": "stdout",
     "output_type": "stream",
     "text": [
      "ResponseGetData(status=200, response={'id': '701eb547-4244-43f6-bcda-003ed2c483c7', 'name': 'test_publish', 'customerId': 'mmmm-0012-0200', 'created': 1682580980642, 'content': {'id': 'dc7b65dd-28fc-4fa6-b469-26873c668549', 'domain': 'domo-community.domo.com', 'customerId': 'mmmm-0012-0200', 'userId': '612085674', 'type': 'PACKAGE', 'updated': 1682580980642, 'hash': '2178c426-9c5c-49e1-beff-d3c539f14260', 'publicationId': '701eb547-4244-43f6-bcda-003ed2c483c7'}, 'description': '', 'isV2': True, 'hasDuplicate': False, 'useDirectContent': True, 'type': 'CONTENT', 'isBackup': False, 'children': [{'id': 'cb257f38-6d6b-46b7-92c5-aee90fde7b66', 'customerId': '', 'created': 1688748204876, 'content': {'id': '891a25be-30b3-4b77-bbc4-18c4619417c4', 'domain': 'domo-community.domo.com', 'customerId': '', 'userId': '1893952720', 'domoObjectId': '1880852133', 'type': 'PAGE', 'updated': 1688748204876, 'hash': '386cba08-6220-49a2-91b6-ae771c7dc125'}, 'isV2': True, 'hasDuplicate': False, 'useDirectContent': True, 'type': 'CONTENT', 'isBackup': False, 'children': [], 'subscriptionAuthorizations': [], 'subscribers': []}, {'id': '06c56df0-c58b-4afd-ab3f-41de5089273a', 'customerId': '', 'created': 1688748204876, 'content': {'id': '3ec590ae-641c-4a2d-b0af-632448479f03', 'domain': 'domo-community.domo.com', 'customerId': '', 'userId': '1893952720', 'domoObjectId': 'ea859b06-5dbe-4c31-be76-de921447d550', 'type': 'DATASET', 'updated': 1688748204876, 'hash': '76b5bd6c-9ffd-4cab-9f85-4cf95f3ed6f8'}, 'isV2': True, 'hasDuplicate': False, 'useDirectContent': True, 'type': 'CONTENT', 'isBackup': False, 'children': [], 'subscriptionAuthorizations': [], 'subscribers': []}, {'id': '40d4d296-af58-42e9-98a1-131d3b9c1c97', 'customerId': '', 'created': 1688748204876, 'content': {'id': '011bd6fc-4713-42cd-9ae3-fc92ab1352e3', 'domain': 'domo-community.domo.com', 'customerId': '', 'userId': '1893952720', 'domoObjectId': 'cf149711-df55-4dc3-a159-59a26d066baa', 'type': 'DATASET', 'updated': 1688748204876, 'hash': '89a55f6e-96f3-40a8-a595-487f0efe78f3'}, 'isV2': True, 'hasDuplicate': False, 'useDirectContent': True, 'type': 'CONTENT', 'isBackup': False, 'children': [], 'subscriptionAuthorizations': [], 'subscribers': []}, {'id': 'a600cd85-3820-47ab-b66f-6ad682d139fb', 'customerId': '', 'created': 1688748204876, 'content': {'id': 'a9305110-2330-4c07-a798-d5ede792e7d3', 'domain': 'domo-community.domo.com', 'customerId': '', 'userId': '1893952720', 'domoObjectId': 'ee24d234-303e-46aa-b062-9905dc0d8622', 'type': 'DATASET', 'updated': 1688748204876, 'hash': 'e9abf9f2-b333-47a9-90dc-0d53b30fb37d'}, 'isV2': True, 'hasDuplicate': False, 'useDirectContent': True, 'type': 'CONTENT', 'isBackup': False, 'children': [], 'subscriptionAuthorizations': [], 'subscribers': []}, {'id': 'f80ef8c8-a133-439c-b459-7967ce7df4b3', 'customerId': '', 'created': 1688748204876, 'content': {'id': '7234b90b-09d9-48cb-876a-d8ed11fc6c2a', 'domain': 'domo-community.domo.com', 'customerId': '', 'userId': '612085674', 'domoObjectId': 'e17fd398-8abf-4cb5-8ed1-5394e274fbf4', 'type': 'DATASET', 'updated': 1688748204876, 'hash': '1febaf17-9908-47b3-bdc5-f5986c3c4959'}, 'isV2': True, 'hasDuplicate': False, 'useDirectContent': True, 'type': 'CONTENT', 'isBackup': False, 'children': [], 'subscriptionAuthorizations': [], 'subscribers': []}], 'subscriptionAuthorizations': [{'id': '447bf630-7113-4323-bf67-773dcc450a3a', 'domain': 'test.domo.com', 'created': 1682580980642, 'publicationId': '701eb547-4244-43f6-bcda-003ed2c483c7'}], 'subscribers': [], 'userId': 612085674}, is_success=True)\n"
     ]
    }
   ],
   "source": [
    "# | hide\n",
    "import os\n",
    "import pandas as pd\n",
    "\n",
    "publication_id = \"701eb547-4244-43f6-bcda-003ed2c483c7\"\n",
    "\n",
    "token_auth = dmda.DomoTokenAuth(\n",
    "    domo_instance=\"domo-community\", domo_access_token=os.environ[\"DOMO_DOJO_ACCESS_TOKEN\"]\n",
    ")\n",
    "\n",
    "res = await publish_routes.get_publication_by_id(\n",
    "    \n",
    "    publication_id=publication_id, auth=token_auth\n",
    ")\n",
    "\n",
    "print(res)\n",
    "\n",
    "# subscriber_ls = res.response.get(\"subscriptionAuthorizations\")\n",
    "\n",
    "# [\n",
    "#     DomoPublication_Subscription._from_json(subscriber).__dict__\n",
    "#     for subscriber in subscriber_ls\n",
    "# ]"
   ]
  },
  {
   "cell_type": "code",
   "execution_count": 5,
   "metadata": {},
   "outputs": [],
   "source": [
    "# | export\n",
    "@dataclass\n",
    "class DomoPublication_Content:\n",
    "    content_id: str\n",
    "    entity_type: str\n",
    "    entity_id: str\n",
    "    entity_domain: str\n",
    "    is_v2: bool\n",
    "    is_direct_content: bool\n",
    "\n",
    "    @classmethod\n",
    "    def _from_json(cls, obj: dict):\n",
    "\n",
    "        dd = obj\n",
    "        if not isinstance(dd, util_dd.DictDot):\n",
    "            dd = util_dd.DictDot(obj)\n",
    "\n",
    "        dmpc = cls(\n",
    "            content_id=dd.id,\n",
    "            entity_type=dd.content.type,\n",
    "            entity_id=dd.content.domoObjectId,\n",
    "            entity_domain=dd.content.domain,\n",
    "            is_v2=dd.isV2,\n",
    "            is_direct_content=dd.useDirectContent,\n",
    "        )\n",
    "\n",
    "        return dmpc\n",
    "\n",
    "    def to_api_json(self):\n",
    "        temp_dict = {\n",
    "            \"domain\": self.entity_domain,\n",
    "            \"domoObjectId\": self.entity_id,\n",
    "            \"customerId\": self.entity_domain,\n",
    "            \"type\": self.entity_type,\n",
    "        }\n",
    "        return temp_dict\n"
   ]
  },
  {
   "cell_type": "code",
   "execution_count": 6,
   "metadata": {},
   "outputs": [],
   "source": [
    "# | hide\n",
    "import os\n",
    "import pandas as pd\n",
    "\n",
    "publication_id = \"701eb547-4244-43f6-bcda-003ed2c483c7\"\n",
    "token_auth = dmda.DomoTokenAuth(\n",
    "    domo_instance=\"domo-community\", domo_access_token=os.environ[\"DOMO_DOJO_ACCESS_TOKEN\"]\n",
    ")\n",
    "\n",
    "res = await publish_routes.get_publication_by_id(\n",
    "    publication_id=publication_id, auth=token_auth\n",
    ")\n",
    "\n",
    "if res.is_success:\n",
    "    content_ls = res.response.get(\"children\")\n",
    "    # print(content_ls[0])\n",
    "\n",
    "    pd.DataFrame([DomoPublication_Content._from_json(content) for content in content_ls])\n",
    "    "
   ]
  },
  {
   "cell_type": "code",
   "execution_count": 7,
   "metadata": {},
   "outputs": [],
   "source": [
    "#| export\n",
    "class DomoPublication_UnexpectedContentType(Exception):\n",
    "    def __init__(self, publication_id, content_type, domo_instance):\n",
    "        super().__init__(f\"DomoPublication_Instantiation: Unexpected content type {content_type} in publication {publication_id} in {domo_instance}\")"
   ]
  },
  {
   "cell_type": "code",
   "execution_count": 8,
   "metadata": {},
   "outputs": [],
   "source": [
    "# | export\n",
    "@dataclass\n",
    "class DomoPublication:\n",
    "    id: str\n",
    "    name: str\n",
    "    description: str\n",
    "    is_v2: bool\n",
    "    created_dt: dt.datetime\n",
    "\n",
    "    auth: dmda.DomoAuth = field(default=None, repr=False)\n",
    "\n",
    "    subscription_authorizations: [DomoPublication_Subscription] = field(\n",
    "        default_factory=list\n",
    "    )\n",
    "    content: [DomoPublication_Content] = field(default_factory=list)\n",
    "\n",
    "    content_page_id_ls: [str] = field(default_factory=list)\n",
    "    content_dataset_id_ls: [str] = field(default_factory=list)\n",
    "\n",
    "    lineage: dmdl.DomoLineage = None\n",
    "\n",
    "    def __post_init__(self):\n",
    "        self.lineage = dmdl.DomoLineage(parent=self)\n",
    "\n",
    "    @classmethod\n",
    "    def _from_json(cls, obj, auth: dmda.DomoAuth = None):\n",
    "\n",
    "        dd = util_dd.DictDot(obj)\n",
    "\n",
    "        domo_pub = cls(\n",
    "            id=dd.id,\n",
    "            name=dd.name,\n",
    "            description=dd.description,\n",
    "            created_dt=dt.datetime.fromtimestamp(dd.created / 1000)\n",
    "            if dd.created\n",
    "            else None,\n",
    "            is_v2=dd.isV2,\n",
    "            auth=auth,\n",
    "        )\n",
    "\n",
    "        if dd.subscriptionAuthorizations and len(dd.subscriptionAuthorizations) > 0:\n",
    "            domo_pub.subscription_authorizations = [\n",
    "                DomoPublication_Subscription._from_json(sub)\n",
    "                for sub in dd.subscriptionAuthorizations\n",
    "            ]\n",
    "\n",
    "        # publish only supports sharing pages and datasets\n",
    "        if dd.children and len(dd.children) > 0:\n",
    "            for child in dd.children:\n",
    "\n",
    "                dmpc = DomoPublication_Content._from_json(child)\n",
    "                domo_pub.content.append(dmpc)\n",
    "\n",
    "                if dmpc.entity_type == \"PAGE\":\n",
    "                    domo_pub.content_page_id_ls.append(dmpc.entity_id)\n",
    "\n",
    "                elif dmpc.entity_type == \"DATASET\":\n",
    "                    domo_pub.content_dataset_id_ls.append(dmpc.entity_id)\n",
    "\n",
    "                else:\n",
    "                    raise DomoPublication_UnexpectedContentType(\n",
    "                        publication_id=domo_pub.id, \n",
    "                        content_type=dmpc.entity_type, \n",
    "                        domo_instance=auth.domo_instance)\n",
    "\n",
    "        return domo_pub\n"
   ]
  },
  {
   "cell_type": "code",
   "execution_count": 9,
   "metadata": {},
   "outputs": [],
   "source": [
    "#| export\n",
    "@patch_to(DomoPublication, cls_method=True)\n",
    "async def get_from_id(cls, publication_id=None, auth: dmda.DomoAuth = None, timeout = 10):\n",
    "\n",
    "    auth = auth or cls.auth\n",
    "\n",
    "    publication_id = publication_id or cls.publication_id\n",
    "\n",
    "    res = await publish_routes.get_publication_by_id(\n",
    "        auth=auth, publication_id=publication_id\n",
    "        , timeout = 10\n",
    "    )\n",
    "\n",
    "    if not res.is_success:\n",
    "        return None\n",
    "\n",
    "    return cls._from_json(obj=res.response, auth=auth)"
   ]
  },
  {
   "attachments": {},
   "cell_type": "markdown",
   "metadata": {},
   "source": [
    "#### sample implementation of get_from_id\n"
   ]
  },
  {
   "cell_type": "code",
   "execution_count": 10,
   "metadata": {},
   "outputs": [
    {
     "name": "stdout",
     "output_type": "stream",
     "text": [
      "DomoPublication(id='701eb547-4244-43f6-bcda-003ed2c483c7',\n",
      "                name='test_publish',\n",
      "                description='',\n",
      "                is_v2=True,\n",
      "                created_dt=datetime.datetime(2023, 4, 27, 7, 36, 20, 642000),\n",
      "                subscription_authorizations=[DomoPublication_Subscription(subscription_id='447bf630-7113-4323-bf67-773dcc450a3a',\n",
      "                                                                          publication_id='701eb547-4244-43f6-bcda-003ed2c483c7',\n",
      "                                                                          domain='test.domo.com',\n",
      "                                                                          created_dt=datetime.datetime(2023, 4, 27, 7, 36, 20, 642000))],\n",
      "                content=[DomoPublication_Content(content_id='cb257f38-6d6b-46b7-92c5-aee90fde7b66',\n",
      "                                                 entity_type='PAGE',\n",
      "                                                 entity_id='1880852133',\n",
      "                                                 entity_domain='domo-community.domo.com',\n",
      "                                                 is_v2=True,\n",
      "                                                 is_direct_content=True),\n",
      "                         DomoPublication_Content(content_id='06c56df0-c58b-4afd-ab3f-41de5089273a',\n",
      "                                                 entity_type='DATASET',\n",
      "                                                 entity_id='ea859b06-5dbe-4c31-be76-de921447d550',\n",
      "                                                 entity_domain='domo-community.domo.com',\n",
      "                                                 is_v2=True,\n",
      "                                                 is_direct_content=True),\n",
      "                         DomoPublication_Content(content_id='40d4d296-af58-42e9-98a1-131d3b9c1c97',\n",
      "                                                 entity_type='DATASET',\n",
      "                                                 entity_id='cf149711-df55-4dc3-a159-59a26d066baa',\n",
      "                                                 entity_domain='domo-community.domo.com',\n",
      "                                                 is_v2=True,\n",
      "                                                 is_direct_content=True),\n",
      "                         DomoPublication_Content(content_id='a600cd85-3820-47ab-b66f-6ad682d139fb',\n",
      "                                                 entity_type='DATASET',\n",
      "                                                 entity_id='ee24d234-303e-46aa-b062-9905dc0d8622',\n",
      "                                                 entity_domain='domo-community.domo.com',\n",
      "                                                 is_v2=True,\n",
      "                                                 is_direct_content=True),\n",
      "                         DomoPublication_Content(content_id='f80ef8c8-a133-439c-b459-7967ce7df4b3',\n",
      "                                                 entity_type='DATASET',\n",
      "                                                 entity_id='e17fd398-8abf-4cb5-8ed1-5394e274fbf4',\n",
      "                                                 entity_domain='domo-community.domo.com',\n",
      "                                                 is_v2=True,\n",
      "                                                 is_direct_content=True)],\n",
      "                content_page_id_ls=['1880852133'],\n",
      "                content_dataset_id_ls=['ea859b06-5dbe-4c31-be76-de921447d550',\n",
      "                                       'cf149711-df55-4dc3-a159-59a26d066baa',\n",
      "                                       'ee24d234-303e-46aa-b062-9905dc0d8622',\n",
      "                                       'e17fd398-8abf-4cb5-8ed1-5394e274fbf4'],\n",
      "                lineage=DomoLineage(page_id_ls=[],\n",
      "                                    card_id_ls=[],\n",
      "                                    dataflow_id_ls=[],\n",
      "                                    dataset_id_ls=[],\n",
      "                                    entity_ls=[]))\n"
     ]
    }
   ],
   "source": [
    "import os\n",
    "import pandas as pd\n",
    "\n",
    "\n",
    "publication_id = \"701eb547-4244-43f6-bcda-003ed2c483c7\"\n",
    "token_auth = dmda.DomoTokenAuth(\n",
    "    domo_instance=\"domo-community\", domo_access_token=os.environ[\"DOMO_DOJO_ACCESS_TOKEN\"]\n",
    ")\n",
    "\n",
    "domo_publication = await DomoPublication.get_from_id(\n",
    "    publication_id=publication_id, auth=token_auth\n",
    ")\n",
    "\n",
    "from pprint import pprint\n",
    "\n",
    "pprint(domo_publication)"
   ]
  },
  {
   "attachments": {},
   "cell_type": "markdown",
   "metadata": {},
   "source": [
    "# Subscription"
   ]
  },
  {
   "attachments": {},
   "cell_type": "markdown",
   "metadata": {},
   "source": [
    "# DomoPublications"
   ]
  },
  {
   "cell_type": "code",
   "execution_count": 11,
   "metadata": {},
   "outputs": [],
   "source": [
    "#| export\n",
    "\n",
    "@dataclass\n",
    "class DomoPublications:\n",
    "\n",
    "    @classmethod\n",
    "    async def get_subscription_summaries(cls, \n",
    "                                         auth: dmda.DomoAuth,\n",
    "                                         session: httpx.AsyncClient = None,\n",
    "                                         return_raw: bool = False,\n",
    "                                         debug_api: bool = False):\n",
    "        \"\"\"get instances subscription summaries\"\"\"\n",
    "\n",
    "        res = await publish_routes.get_subscription_summaries(auth=auth,\n",
    "                                                              session=session,\n",
    "                                                              debug_api=debug_api\n",
    "                                                              )\n",
    "\n",
    "        if return_raw:\n",
    "            return res\n",
    "\n",
    "        if not res.is_success:\n",
    "            return res\n",
    "\n",
    "        sub_ls = res.response\n",
    "\n",
    "        return [ sub for sub in sub_ls]\n",
    "        \n",
    "        \n"
   ]
  },
  {
   "attachments": {},
   "cell_type": "markdown",
   "metadata": {},
   "source": [
    "#### sample implementation of get_subscription_summaries"
   ]
  },
  {
   "cell_type": "code",
   "execution_count": 12,
   "metadata": {},
   "outputs": [
    {
     "data": {
      "text/plain": [
       "[]"
      ]
     },
     "execution_count": 12,
     "metadata": {},
     "output_type": "execute_result"
    }
   ],
   "source": [
    "import os\n",
    "\n",
    "token_auth = dmda.DomoTokenAuth(\n",
    "    domo_instance=\"domo-community\", domo_access_token=os.environ[\"DOMO_DOJO_ACCESS_TOKEN\"]\n",
    ")\n",
    "\n",
    "await DomoPublications.get_subscription_summaries(auth = token_auth, return_raw= False)\n"
   ]
  },
  {
   "cell_type": "code",
   "execution_count": 13,
   "metadata": {},
   "outputs": [],
   "source": [
    "# | export\n",
    "@patch_to(DomoPublications, cls_method=True)\n",
    "async def search_publications(cls: DomoPublications,\n",
    "                              auth = dmda.DomoAuth,\n",
    "                              search_term: str = None,\n",
    "                              session: httpx.AsyncClient = None,\n",
    "                              debug_api: bool = False,\n",
    "                              return_raw: bool = False):\n",
    "\n",
    "    res = await publish_routes.search_publications(auth=auth)\n",
    "\n",
    "    if return_raw:\n",
    "        return res\n",
    "\n",
    "    if not res.is_success or (res.is_success and len(res.response) == 0):\n",
    "        return None\n",
    "\n",
    "    return [DomoPublication._from_json(sub_obj)for sub_obj in res.response]\n"
   ]
  },
  {
   "cell_type": "code",
   "execution_count": 14,
   "metadata": {},
   "outputs": [
    {
     "data": {
      "text/plain": [
       "[DomoPublication(id='99a4f772-f0e0-47a6-873a-5870d03b9134', name='Landing Page QA', description='', is_v2=True, created_dt=None, subscription_authorizations=[], content=[], content_page_id_ls=[], content_dataset_id_ls=[], lineage=DomoLineage(page_id_ls=[], card_id_ls=[], dataflow_id_ls=[], dataset_id_ls=[], entity_ls=[])),\n",
       " DomoPublication(id='e3295d79-4dbe-4994-8f8e-f105b178cc3b', name='Sandbox_PROD', description='', is_v2=True, created_dt=None, subscription_authorizations=[], content=[], content_page_id_ls=[], content_dataset_id_ls=[], lineage=DomoLineage(page_id_ls=[], card_id_ls=[], dataflow_id_ls=[], dataset_id_ls=[], entity_ls=[])),\n",
       " DomoPublication(id='12569e57-ecea-4e3e-88b9-108317051047', name='Test OZ', description='', is_v2=True, created_dt=None, subscription_authorizations=[], content=[], content_page_id_ls=[], content_dataset_id_ls=[], lineage=DomoLineage(page_id_ls=[], card_id_ls=[], dataflow_id_ls=[], dataset_id_ls=[], entity_ls=[])),\n",
       " DomoPublication(id='868e5bfa-3e0b-43f4-819a-6a34e33f039c', name='Test OZ', description='', is_v2=True, created_dt=None, subscription_authorizations=[], content=[], content_page_id_ls=[], content_dataset_id_ls=[], lineage=DomoLineage(page_id_ls=[], card_id_ls=[], dataflow_id_ls=[], dataset_id_ls=[], entity_ls=[])),\n",
       " DomoPublication(id='6af270bd-fe87-4672-abdb-cba982567b3b', name='Test OZ', description='', is_v2=True, created_dt=None, subscription_authorizations=[], content=[], content_page_id_ls=[], content_dataset_id_ls=[], lineage=DomoLineage(page_id_ls=[], card_id_ls=[], dataflow_id_ls=[], dataset_id_ls=[], entity_ls=[])),\n",
       " DomoPublication(id='544c3a06-84db-441a-b1a1-051e84020976', name='Test OZ', description='', is_v2=True, created_dt=None, subscription_authorizations=[], content=[], content_page_id_ls=[], content_dataset_id_ls=[], lineage=DomoLineage(page_id_ls=[], card_id_ls=[], dataflow_id_ls=[], dataset_id_ls=[], entity_ls=[])),\n",
       " DomoPublication(id='acc9b806-0d17-4a53-b3f0-d8c6b39be67a', name='Test OZ', description='', is_v2=True, created_dt=None, subscription_authorizations=[], content=[], content_page_id_ls=[], content_dataset_id_ls=[], lineage=DomoLineage(page_id_ls=[], card_id_ls=[], dataflow_id_ls=[], dataset_id_ls=[], entity_ls=[])),\n",
       " DomoPublication(id='8e3547ed-9337-49d1-a32b-bf91077b39ac', name='Test OZ', description='', is_v2=True, created_dt=None, subscription_authorizations=[], content=[], content_page_id_ls=[], content_dataset_id_ls=[], lineage=DomoLineage(page_id_ls=[], card_id_ls=[], dataflow_id_ls=[], dataset_id_ls=[], entity_ls=[])),\n",
       " DomoPublication(id='3ed4e4b3-2d0d-422f-8c2a-e0de94d57ef9', name='Test OZ', description='', is_v2=True, created_dt=None, subscription_authorizations=[], content=[], content_page_id_ls=[], content_dataset_id_ls=[], lineage=DomoLineage(page_id_ls=[], card_id_ls=[], dataflow_id_ls=[], dataset_id_ls=[], entity_ls=[])),\n",
       " DomoPublication(id='17ec9f81-906f-42f7-b70b-6a26e2db523f', name='Test OZ', description='', is_v2=True, created_dt=None, subscription_authorizations=[], content=[], content_page_id_ls=[], content_dataset_id_ls=[], lineage=DomoLineage(page_id_ls=[], card_id_ls=[], dataflow_id_ls=[], dataset_id_ls=[], entity_ls=[])),\n",
       " DomoPublication(id='4386c956-205b-4860-a60a-1ba281dc3113', name='Test OZ', description='', is_v2=True, created_dt=None, subscription_authorizations=[], content=[], content_page_id_ls=[], content_dataset_id_ls=[], lineage=DomoLineage(page_id_ls=[], card_id_ls=[], dataflow_id_ls=[], dataset_id_ls=[], entity_ls=[])),\n",
       " DomoPublication(id='234bff3e-bfe7-4b2d-859e-18077fa6f151', name='Test OZ', description='', is_v2=True, created_dt=None, subscription_authorizations=[], content=[], content_page_id_ls=[], content_dataset_id_ls=[], lineage=DomoLineage(page_id_ls=[], card_id_ls=[], dataflow_id_ls=[], dataset_id_ls=[], entity_ls=[])),\n",
       " DomoPublication(id='1e7eb490-64fa-4e76-8e48-7bf7e7b73851', name='Test OZ', description='', is_v2=True, created_dt=None, subscription_authorizations=[], content=[], content_page_id_ls=[], content_dataset_id_ls=[], lineage=DomoLineage(page_id_ls=[], card_id_ls=[], dataflow_id_ls=[], dataset_id_ls=[], entity_ls=[])),\n",
       " DomoPublication(id='5696c128-299c-4f43-a7bc-91bf9b412efa', name='Test OZ', description='', is_v2=True, created_dt=None, subscription_authorizations=[], content=[], content_page_id_ls=[], content_dataset_id_ls=[], lineage=DomoLineage(page_id_ls=[], card_id_ls=[], dataflow_id_ls=[], dataset_id_ls=[], entity_ls=[])),\n",
       " DomoPublication(id='67fa93ca-173a-43e1-b830-51ac188d3a2a', name='Test OZ', description='', is_v2=True, created_dt=None, subscription_authorizations=[], content=[], content_page_id_ls=[], content_dataset_id_ls=[], lineage=DomoLineage(page_id_ls=[], card_id_ls=[], dataflow_id_ls=[], dataset_id_ls=[], entity_ls=[])),\n",
       " DomoPublication(id='e5f7461f-66f9-4e88-8cb3-2112923748ae', name='Test OZ', description='', is_v2=True, created_dt=None, subscription_authorizations=[], content=[], content_page_id_ls=[], content_dataset_id_ls=[], lineage=DomoLineage(page_id_ls=[], card_id_ls=[], dataflow_id_ls=[], dataset_id_ls=[], entity_ls=[])),\n",
       " DomoPublication(id='438731a1-7e4e-4863-967f-fcfad22c9247', name='Test OZ - updated', description='', is_v2=True, created_dt=None, subscription_authorizations=[], content=[], content_page_id_ls=[], content_dataset_id_ls=[], lineage=DomoLineage(page_id_ls=[], card_id_ls=[], dataflow_id_ls=[], dataset_id_ls=[], entity_ls=[])),\n",
       " DomoPublication(id='701eb547-4244-43f6-bcda-003ed2c483c7', name='test_publish', description='', is_v2=True, created_dt=None, subscription_authorizations=[], content=[], content_page_id_ls=[], content_dataset_id_ls=[], lineage=DomoLineage(page_id_ls=[], card_id_ls=[], dataflow_id_ls=[], dataset_id_ls=[], entity_ls=[]))]"
      ]
     },
     "execution_count": 14,
     "metadata": {},
     "output_type": "execute_result"
    }
   ],
   "source": [
    "\n",
    "token_auth = dmda.DomoTokenAuth(\n",
    "    domo_instance='domo-community', domo_access_token=os.environ[\"DOMO_DOJO_ACCESS_TOKEN\"]\n",
    ")\n",
    "\n",
    "await DomoPublications.search_publications(auth = token_auth, return_raw=False)"
   ]
  },
  {
   "cell_type": "code",
   "execution_count": 15,
   "metadata": {},
   "outputs": [],
   "source": [
    "#    def convert_content_to_dataframe(self, return_raw: bool = False):\n",
    "\n",
    "#         output_ls = [{'plubication_id': self.id,\n",
    "#                       'publication_name': self.name,\n",
    "#                       'is_v2': self.is_v2,\n",
    "#                       'publish_created_dt': self.created_dt,\n",
    "#                       'entity_type': row.type,\n",
    "#                       'entity_id': row.id\n",
    "#                       } for row in self.content_entity_ls]\n",
    "\n",
    "#         if return_raw:\n",
    "#             return output_ls\n",
    "\n",
    "#         return pd.DataFrame(output_ls)\n",
    "\n",
    "#     def convert_lineage_to_dataframe(self, return_raw: bool = False):\n",
    "#         import pandas as pd\n",
    "#         import re\n",
    "\n",
    "#         flat_lineage_ls = self.lineage._flatten_lineage()\n",
    "\n",
    "#         output_ls = [{'plubication_id': self.id,\n",
    "#                       'publication_name': self.name,\n",
    "#                       'is_v2': self.is_v2,\n",
    "#                       'publish_created_dt': self.created_dt,\n",
    "#                       'entity_type': row.get('entity_type'),\n",
    "#                       'entity_id': row.get('entity_id')\n",
    "#                       } for row in flat_lineage_ls]\n",
    "\n",
    "#         if return_raw:\n",
    "#             return output_ls\n",
    "\n",
    "#         return pd.DataFrame(output_ls)\n"
   ]
  },
  {
   "cell_type": "code",
   "execution_count": 16,
   "metadata": {},
   "outputs": [],
   "source": [
    "\n",
    "#| export\n",
    "@patch_to(DomoPublication, cls_method=True)\n",
    "async def create_publication(cls,\n",
    "                                 name: str,\n",
    "                                 content_ls: [DomoPublication_Content],\n",
    "                                 subscription_ls: [DomoPublication_Subscription],\n",
    "                                 unique_id: str = None,\n",
    "                                 description: str = None,\n",
    "                                 auth: dmda.DomoAuth = None,\n",
    "                                 debug_api: bool = False):\n",
    "\n",
    "    if not isinstance(subscription_ls, list):\n",
    "        subscription_ls = [subscription_ls]\n",
    "\n",
    "    auth = auth or cls.auth\n",
    "    domain_ls = []\n",
    "    content_json_ls = []\n",
    "    for sub in subscription_ls:\n",
    "        domain_ls.append(sub.domain)\n",
    "    for content_item in content_ls:\n",
    "        content_json_ls.append(content_item.to_api_json())\n",
    "\n",
    "    if not unique_id:\n",
    "        unique_id = str(uuid.uuid4())\n",
    "    if not description:\n",
    "        description = ''\n",
    "\n",
    "    body = publish_routes.generate_publish_body(url=f'{auth.domo_instance}.domo.com',\n",
    "                                                    sub_domain_ls=domain_ls,\n",
    "                                                    content_ls=content_json_ls,\n",
    "                                                    name=name,\n",
    "                                                    unique_id=unique_id,\n",
    "                                                    description=description,\n",
    "                                                    is_new=True)\n",
    "\n",
    "    res = await publish_routes.create_publish_job(auth=auth, body=body)\n",
    "    if debug_api:\n",
    "        print('Create the new Publish job')\n",
    "    if res.status != 200:\n",
    "        print(res)\n",
    "        await asyncio.sleep(2)\n",
    "        res = await publish_routes.get_publication_by_id(auth=auth, publication_id=unique_id)\n",
    "        if res.status != 200:\n",
    "            return None\n",
    "        else:\n",
    "            return cls._from_json(obj=res.response, auth=auth)\n",
    "\n",
    "    return cls._from_json(obj=res.response, auth=auth)\n"
   ]
  },
  {
   "cell_type": "code",
   "execution_count": 17,
   "metadata": {},
   "outputs": [
    {
     "name": "stdout",
     "output_type": "stream",
     "text": [
      "ResponseGetData(status=202, response='', is_success=True)\n"
     ]
    },
    {
     "data": {
      "text/plain": [
       "DomoPublication(id='0d5e5bab-8907-4afc-9e81-61b5c8b7196d', name='Test OZ', description='', is_v2=True, created_dt=datetime.datetime(2023, 7, 7, 16, 43, 28, 875000), subscription_authorizations=[DomoPublication_Subscription(subscription_id='827a6e8f-d1c9-432c-a7ec-029e998f07a2', publication_id='0d5e5bab-8907-4afc-9e81-61b5c8b7196d', domain='test.domo.com', created_dt=datetime.datetime(2023, 7, 7, 16, 43, 28, 875000))], content=[DomoPublication_Content(content_id='c6436d38-e321-483e-b297-211556375b16', entity_type='DATASET', entity_id='e17fd398-8abf-4cb5-8ed1-5394e274fbf4', entity_domain='domo-community.domo.com', is_v2=True, is_direct_content=True)], content_page_id_ls=[], content_dataset_id_ls=['e17fd398-8abf-4cb5-8ed1-5394e274fbf4'], lineage=DomoLineage(page_id_ls=[], card_id_ls=[], dataflow_id_ls=[], dataset_id_ls=[], entity_ls=[]))"
      ]
     },
     "execution_count": 17,
     "metadata": {},
     "output_type": "execute_result"
    }
   ],
   "source": [
    "token_auth = dmda.DomoTokenAuth(\n",
    "    domo_instance='domo-community', domo_access_token=os.environ[\"DOMO_DOJO_ACCESS_TOKEN\"]\n",
    ")\n",
    "\n",
    "content_ls=[]\n",
    "content_item = DomoPublication_Content (content_id='',\n",
    "                                        entity_type='DATASET',\n",
    "                                        entity_id='e17fd398-8abf-4cb5-8ed1-5394e274fbf4',\n",
    "                                        entity_domain='domo-community.domo.com',\n",
    "                                                 is_v2=True,\n",
    "                                                 is_direct_content=True)\n",
    "content_ls.append(content_item)\n",
    "\n",
    "sub_ls= []\n",
    "sub_item = DomoPublication_Subscription (subscription_id='',\n",
    "                                         publication_id='',\n",
    "                                         domain='test.domo.com',\n",
    "                                         created_dt=dt.datetime.now())\n",
    "sub_ls.append(sub_item)\n",
    "\n",
    "# await DomoPublication.create_publication(auth = token_auth, name=\"Test OZ\",\n",
    "#                                  content_ls=content_ls,\n",
    "#                                  subscription_ls=sub_ls)"
   ]
  },
  {
   "cell_type": "code",
   "execution_count": 18,
   "metadata": {},
   "outputs": [],
   "source": [
    "#| export\n",
    "@patch_to(DomoPublication, cls_method=True)\n",
    "async def update_publication(cls,\n",
    "                                 name: str,\n",
    "                                 content_ls: [DomoPublication_Content],\n",
    "                                 subscription_ls: [DomoPublication_Subscription],\n",
    "                                 publication_id: str,\n",
    "                                 description: str = None,\n",
    "                                 auth: dmda.DomoAuth = None,\n",
    "                                 debug_api: bool = False):\n",
    "\n",
    "    if not isinstance(subscription_ls, list):\n",
    "        subscription_ls = [subscription_ls]\n",
    "\n",
    "    auth = auth or cls.auth\n",
    "    domain_ls = []\n",
    "    content_json_ls = []\n",
    "    for sub in subscription_ls:\n",
    "        domain_ls.append(sub.domain)\n",
    "    for content_item in content_ls:\n",
    "        content_json_ls.append(content_item.to_api_json())\n",
    "\n",
    "    if not description:\n",
    "        description = ''\n",
    "    body = publish_routes.generate_publish_body(url=f'{auth.domo_instance}.domo.com',\n",
    "                                                    sub_domain_ls=domain_ls,\n",
    "                                                    content_ls=content_json_ls,\n",
    "                                                    name=name,\n",
    "                                                    unique_id=publication_id,\n",
    "                                                    description=description,\n",
    "                                                    is_new=False)\n",
    "\n",
    "    res = await publish_routes.udpate_publish_job(auth= auth,\n",
    "                                                      publication_id=publication_id,\n",
    "                                                      body=body)\n",
    "    if debug_api:\n",
    "        print('Update Publish job by id')\n",
    "    if res.status != 200:\n",
    "        print(res)\n",
    "        await asyncio.sleep(2)\n",
    "        res = await publish_routes.get_publication_by_id(auth=auth, publication_id=publication_id)\n",
    "        if res.status != 200:\n",
    "            return None\n",
    "        else:\n",
    "            return cls._from_json(obj=res.response, auth=auth)\n",
    "\n",
    "    return cls._from_json(obj=res.response, auth=auth)\n",
    "\n",
    "\n"
   ]
  },
  {
   "cell_type": "code",
   "execution_count": 19,
   "metadata": {},
   "outputs": [
    {
     "name": "stdout",
     "output_type": "stream",
     "text": [
      "ResponseGetData(status=202, response='', is_success=True)\n"
     ]
    },
    {
     "data": {
      "text/plain": [
       "DomoPublication(id='438731a1-7e4e-4863-967f-fcfad22c9247', name='Test OZ - updated', description='', is_v2=True, created_dt=datetime.datetime(2023, 5, 2, 21, 6, 24, 358000), subscription_authorizations=[DomoPublication_Subscription(subscription_id='a0272907-d34c-4c27-b716-f2386dfecd19', publication_id='438731a1-7e4e-4863-967f-fcfad22c9247', domain='test.domo.com', created_dt=datetime.datetime(2023, 5, 2, 21, 6, 24, 358000))], content=[DomoPublication_Content(content_id='16e1b47f-6677-41a3-9c80-894550fec649', entity_type='PAGE', entity_id='384424178', entity_domain='domo-community.domo.com', is_v2=True, is_direct_content=True), DomoPublication_Content(content_id='14d1a1e9-8673-4b3f-aa72-1d32a6041140', entity_type='DATASET', entity_id='4ef43af5-67e7-4b9e-bd58-c4e592aa289a', entity_domain='domo-community.domo.com', is_v2=True, is_direct_content=True), DomoPublication_Content(content_id='53ab2b71-7b4c-47c9-9d0f-5deb3c7974f8', entity_type='DATASET', entity_id='e17fd398-8abf-4cb5-8ed1-5394e274fbf4', entity_domain='domo-community.domo.com', is_v2=True, is_direct_content=True), DomoPublication_Content(content_id='87579059-fb6a-4d35-99ab-8ff624472dfd', entity_type='DATASET', entity_id='04c1574e-c8be-4721-9846-c6ffa491144b', entity_domain='domo-community.domo.com', is_v2=True, is_direct_content=True)], content_page_id_ls=['384424178'], content_dataset_id_ls=['4ef43af5-67e7-4b9e-bd58-c4e592aa289a', 'e17fd398-8abf-4cb5-8ed1-5394e274fbf4', '04c1574e-c8be-4721-9846-c6ffa491144b'], lineage=DomoLineage(page_id_ls=[], card_id_ls=[], dataflow_id_ls=[], dataset_id_ls=[], entity_ls=[]))"
      ]
     },
     "execution_count": 19,
     "metadata": {},
     "output_type": "execute_result"
    }
   ],
   "source": [
    "token_auth = dmda.DomoTokenAuth(\n",
    "    domo_instance='domo-community', domo_access_token=os.environ[\"DOMO_DOJO_ACCESS_TOKEN\"]\n",
    ")\n",
    "publication_id = \"438731a1-7e4e-4863-967f-fcfad22c9247\"\n",
    "domo_publication = await DomoPublication.get_from_id(\n",
    "    publication_id=publication_id, auth=token_auth\n",
    ")\n",
    "\n",
    "await DomoPublication.update_publication (auth = token_auth, name=\"Test OZ - updated\",\n",
    "                                          publication_id=publication_id,\n",
    "                                 content_ls=domo_publication.content,\n",
    "                                 subscription_ls=domo_publication.subscription_authorizations)"
   ]
  },
  {
   "cell_type": "code",
   "execution_count": 20,
   "metadata": {},
   "outputs": [],
   "source": [
    "#| export\n",
    "@patch_to(DomoPublication, cls_method=True)\n",
    "async def get_subscription_invites_list(cls, auth: dmda.DomoAuth,\n",
    "                                            debug_api: bool = False):\n",
    "\n",
    "    res = await publish_routes.get_subscription_invititations(auth=auth,\n",
    "                                                                debug_api=debug_api)\n",
    "    if debug_api:\n",
    "        print('Getting Publish subscription invites')\n",
    "\n",
    "    if res.status == 200:\n",
    "        return res.response\n",
    "    else:\n",
    "        return None\n",
    "\n",
    "#| export\n",
    "@patch_to(DomoPublication, cls_method=True)\n",
    "async def accept_invite_by_id(cls,\n",
    "                                  auth: dmda.DomoAuth,\n",
    "                                  subscription_id: str,\n",
    "                                  debug_api: bool = False):\n",
    "\n",
    "    res = await publish_routes.accept_invite_by_id(auth=auth,\n",
    "                                                       subscription_id=subscription_id,\n",
    "                                                      debug_api=debug_api)\n",
    "    if debug_api:\n",
    "        print(f'Accept invite by id {subscription_id}')\n",
    "\n",
    "    if res.status == 200:\n",
    "        return res.response\n",
    "    else:\n",
    "        return None"
   ]
  },
  {
   "cell_type": "code",
   "execution_count": 21,
   "metadata": {},
   "outputs": [
    {
     "data": {
      "text/plain": [
       "[]"
      ]
     },
     "execution_count": 21,
     "metadata": {},
     "output_type": "execute_result"
    }
   ],
   "source": [
    "token_auth = dmda.DomoTokenAuth(\n",
    "    domo_instance='domo-community', domo_access_token=os.environ[\"DOMO_DOJO_ACCESS_TOKEN\"]\n",
    ")\n",
    "\n",
    "await DomoPublication.get_subscription_invites_list(\n",
    "                                          auth = token_auth)"
   ]
  }
 ],
 "metadata": {
  "jupytext": {
   "split_at_heading": true
  },
  "kernelspec": {
   "display_name": "python3",
   "language": "python",
   "name": "python3"
  },
  "language_info": {
   "codemirror_mode": {
    "name": "ipython",
    "version": 3
   },
   "file_extension": ".py",
   "mimetype": "text/x-python",
   "name": "python",
   "nbconvert_exporter": "python",
   "pygments_lexer": "ipython3",
   "version": "3.10.4"
  }
 },
 "nbformat": 4,
 "nbformat_minor": 4
}
