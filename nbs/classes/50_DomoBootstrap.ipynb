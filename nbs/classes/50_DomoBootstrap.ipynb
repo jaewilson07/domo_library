{
 "cells": [
  {
   "cell_type": "raw",
   "metadata": {},
   "source": [
    "---\n",
    "output-file: bootstrap_class.html\n",
    "title: Bootstrap\n",
    "---\n",
    "\n"
   ]
  },
  {
   "cell_type": "code",
   "execution_count": null,
   "metadata": {},
   "outputs": [],
   "source": [
    "# | default_exp classes.DomoBootstrap"
   ]
  },
  {
   "cell_type": "code",
   "execution_count": null,
   "metadata": {},
   "outputs": [],
   "source": [
    "# | exporti\n",
    "from dataclasses import dataclass, field\n",
    "from fastcore.basics import patch_to\n",
    "import httpx\n",
    "\n",
    "import domolibrary.classes.DomoPage as dmpg\n",
    "\n",
    "import domolibrary.utils.DictDot as util_dd\n",
    "import domolibrary.client.DomoAuth as dmda\n",
    "import domolibrary.routes.bootstrap as bootstrap_routes\n",
    "import domolibrary.utils.chunk_execution as ce"
   ]
  },
  {
   "cell_type": "code",
   "execution_count": null,
   "metadata": {},
   "outputs": [],
   "source": [
    "#|export\n",
    "from domolibrary.routes.bootstrap import InvalidAuthTypeError"
   ]
  },
  {
   "cell_type": "code",
   "execution_count": null,
   "metadata": {},
   "outputs": [],
   "source": [
    "# | export\n",
    "@dataclass\n",
    "class DomoBootstrap_Feature:\n",
    "    id: int\n",
    "    name: str\n",
    "    label: str\n",
    "    type: str\n",
    "    purchased: bool\n",
    "    enabled: bool\n",
    "\n",
    "    @classmethod\n",
    "    def _from_json_bootstrap(cls, json_obj: dict):\n",
    "        dd = util_dd.DictDot(json_obj)\n",
    "\n",
    "        bsf = cls(\n",
    "            id=dd.id,\n",
    "            name=dd.name,\n",
    "            label=dd.label,\n",
    "            type=dd.type,\n",
    "            purchased=dd.purchased,\n",
    "            enabled=dd.enabled,\n",
    "        )\n",
    "        return bsf"
   ]
  },
  {
   "cell_type": "code",
   "execution_count": null,
   "metadata": {},
   "outputs": [],
   "source": [
    "# | export\n",
    "@dataclass\n",
    "class DomoBootstrap:\n",
    "    auth: dmda.DomoAuth = field(repr=False)\n",
    "    bootstrap: dict = field(default=None)\n",
    "    customer_id: str = None\n",
    "    page_ls: list[dmpg.DomoPage] = field(default=None)\n",
    "    feature_ls: list[DomoBootstrap_Feature] = field(default=None)"
   ]
  },
  {
   "cell_type": "code",
   "execution_count": null,
   "metadata": {},
   "outputs": [],
   "source": [
    "# | export\n",
    "\n",
    "@patch_to(DomoBootstrap)\n",
    "async def get_all(\n",
    "    self: DomoBootstrap,\n",
    "    auth: dmda.DomoFullAuth = None,\n",
    "    debug_api: bool = False,\n",
    "    return_raw: bool = False,\n",
    "    debug_num_stacks_to_drop=2,\n",
    "):\n",
    "    auth = auth or self.auth\n",
    "\n",
    "    res = await bootstrap_routes.get_bootstrap(\n",
    "        auth=auth,\n",
    "        debug_api=debug_api,\n",
    "        debug_num_stacks_to_drop=debug_num_stacks_to_drop,\n",
    "        parent_class=self.__class__.__name__,\n",
    "    )\n",
    "\n",
    "    self.bootstrap = res.response\n",
    "\n",
    "    if return_raw:\n",
    "        return res\n",
    "\n",
    "    return res.response"
   ]
  },
  {
   "attachments": {},
   "cell_type": "markdown",
   "metadata": {},
   "source": [
    "#### sample implementation of get_all\n"
   ]
  },
  {
   "cell_type": "code",
   "execution_count": null,
   "metadata": {},
   "outputs": [
    {
     "data": {
      "text/plain": [
       "dict_keys(['landingPageId', 'favorites', 'pages', 'conf', 'analytics', 'brandKit', 'environmentId', 'features', 'authorities', 'customerHash', 'locale', 'isWhitelabeled', 'isCustomerWhitelabeled', 'isFullWhitelabeled', 'trialEndDate', 'trialContactPhone', 'whitelabeledProductName', 'userAnonymous', 'userIsProxied', 'domoappsDomain', 'customerTier', 'companyTimeZone', 'disableAutoRefresh', 'wasTrial', 'buzzSignup', 'authorizedAppDomains', 'isDomoAppDomainWhitelistEnabled', 'configProperties', 'domoPublicUrl', 'advancedColorControls', 'gettingStartedPageEnabled', 'landingEntities', 'isSignupSingleSolutionInstance', 'signupApp', 'cardPageMaxConcurrentRenders', 'version'])"
      ]
     },
     "execution_count": null,
     "metadata": {},
     "output_type": "execute_result"
    }
   ],
   "source": [
    "import os\n",
    "\n",
    "full_auth = dmda.DomoFullAuth(\n",
    "    domo_instance=\"domo-community\",\n",
    "    domo_password=os.environ[\"DOJO_PASSWORD\"],\n",
    "    domo_username=os.environ[\"DOMO_USERNAME\"],\n",
    ")\n",
    "\n",
    "bs = DomoBootstrap(auth=full_auth)\n",
    "\n",
    "res = await bs.get_all(return_raw=True, debug_api=False)\n",
    "\n",
    "bs.bootstrap[\"data\"].keys()"
   ]
  },
  {
   "cell_type": "code",
   "execution_count": null,
   "metadata": {},
   "outputs": [],
   "source": [
    "# |exporti\n",
    "@patch_to(DomoBootstrap)\n",
    "async def get_customer_id(\n",
    "    self: DomoBootstrap,\n",
    "    auth: dmda.DomoFullAuth = None,\n",
    "    debug_api: bool = False,\n",
    "    debug_num_stacks_to_drop=3,\n",
    "    return_raw: bool = False\n",
    "):\n",
    "    res = await bootstrap_routes.get_bootstrap_customerid(\n",
    "        auth=auth or self.auth,\n",
    "        debug_api=debug_api,\n",
    "        debug_num_stacks_to_drop=debug_num_stacks_to_drop,\n",
    "        return_raw = return_raw,\n",
    "        parent_class = self.__class__.__name__\n",
    "    )\n",
    "\n",
    "    if return_raw:\n",
    "        return res\n",
    "\n",
    "    self.customer_id = res.response\n",
    "\n",
    "    return self.customer_id"
   ]
  },
  {
   "cell_type": "markdown",
   "metadata": {},
   "source": [
    "#### sample implementation of get_customer_id\n"
   ]
  },
  {
   "cell_type": "code",
   "execution_count": null,
   "metadata": {},
   "outputs": [
    {
     "data": {
      "text/plain": [
       "'mmmm-0012-0200'"
      ]
     },
     "execution_count": null,
     "metadata": {},
     "output_type": "execute_result"
    }
   ],
   "source": [
    "import os\n",
    "import pandas as pd\n",
    "\n",
    "full_auth = dmda.DomoFullAuth(\n",
    "    domo_instance=\"domo-community\",\n",
    "    domo_password=os.environ[\"DOJO_PASSWORD\"],\n",
    "    domo_username=os.environ[\"DOMO_USERNAME\"],\n",
    ")\n",
    "\n",
    "bs = DomoBootstrap(auth=full_auth)\n",
    "\n",
    "await bs.get_customer_id(debug_api=False, return_raw= False)"
   ]
  },
  {
   "cell_type": "code",
   "execution_count": null,
   "metadata": {},
   "outputs": [],
   "source": [
    "# | exporti\n",
    "\n",
    "\n",
    "@patch_to(DomoBootstrap)\n",
    "async def get_pages(\n",
    "    self: DomoBootstrap,\n",
    "    auth: dmda.DomoFullAuth = None,\n",
    "    return_raw: bool = False,\n",
    "    debug_api: bool = False,\n",
    "    debug_num_stacks_to_drop=2,\n",
    ") -> list[dmpg.DomoPage]:\n",
    "    auth = auth or self.auth\n",
    "\n",
    "    res = await bootstrap_routes.get_bootstrap_pages(\n",
    "        auth=auth,\n",
    "        debug_api=debug_api,\n",
    "        parent_class=self.__class__.__name__,\n",
    "        debug_num_stacks_to_drop=debug_num_stacks_to_drop,\n",
    "    )\n",
    "\n",
    "    if return_raw:\n",
    "        return res\n",
    "\n",
    "    if not res.is_success:\n",
    "        return None\n",
    "\n",
    "    self.page_ls = await ce.gather_with_concurrency(\n",
    "        n=60,\n",
    "        *[\n",
    "            dmpg.DomoPage._from_bootstrap(page_obj, auth=auth)\n",
    "            for page_obj in res.response\n",
    "        ]\n",
    "    )\n",
    "\n",
    "    return self.page_ls"
   ]
  },
  {
   "attachments": {},
   "cell_type": "markdown",
   "metadata": {},
   "source": [
    "#### sample implementation of get_pages\n"
   ]
  },
  {
   "cell_type": "code",
   "execution_count": null,
   "metadata": {},
   "outputs": [
    {
     "data": {
      "text/plain": [
       "[DomoPage(id=-100000, title='Overview', top_page_id=None, parent_page_id=None, is_locked=None, collections=[], owners=[], cards=[], custom_attributes={}, layout={}),\n",
       " DomoPage(id=-100003, title='Favorites', top_page_id=None, parent_page_id=None, is_locked=None, collections=[], owners=[], cards=[], custom_attributes={}, layout={}),\n",
       " DomoPage(id=-100002, title='Shared', top_page_id=None, parent_page_id=None, is_locked=None, collections=[], owners=[], cards=[], custom_attributes={}, layout={}),\n",
       " DomoPage(id=30507758, title='Welcome', top_page_id=None, parent_page_id=None, is_locked=None, collections=[], owners=[DomoGroup(id=1814479647, name='Admin Test', type='closed', description='', custom_attributes={}), DomoUser(id='587894148', display_name='Bryan Van Kampen', email_address='bryan@bvankampen.net', role_id=1, department=None, title=None, avatar_key=None, phone_number=None, web_landing_page=None, web_mobile_landing_page=None, employee_id=None, employee_number=None, hire_date=None, reports_to=None, publisher_domain=None, subscriber_domain=None, virtual_user_id=None, custom_attributes={})], cards=[], custom_attributes={}, layout={}),\n",
       " DomoPage(id=1267639476, title='Community Solutions', top_page_id=None, parent_page_id=None, is_locked=None, collections=[], owners=[DomoUser(id='587894148', display_name='Bryan Van Kampen', email_address='bryan@bvankampen.net', role_id=1, department=None, title=None, avatar_key=None, phone_number=None, web_landing_page=None, web_mobile_landing_page=None, employee_id=None, employee_number=None, hire_date=None, reports_to=None, publisher_domain=None, subscriber_domain=None, virtual_user_id=None, custom_attributes={})], cards=[], custom_attributes={}, layout={})]"
      ]
     },
     "execution_count": null,
     "metadata": {},
     "output_type": "execute_result"
    }
   ],
   "source": [
    "import os\n",
    "import pandas as pd\n",
    "\n",
    "full_auth = dmda.DomoFullAuth(\n",
    "    domo_instance=\"domo-community\",\n",
    "    domo_password=os.environ[\"DOJO_PASSWORD\"],\n",
    "    domo_username=os.environ[\"DOMO_USERNAME\"],\n",
    ")\n",
    "\n",
    "bs = DomoBootstrap(auth=full_auth)\n",
    "\n",
    "page_ls = await bs.get_pages(return_raw=False, debug_api=False)\n",
    "\n",
    "page_ls[0:5]"
   ]
  },
  {
   "cell_type": "code",
   "execution_count": null,
   "metadata": {},
   "outputs": [],
   "source": [
    "# | exporti\n",
    "@patch_to(DomoBootstrap)\n",
    "async def get_features(\n",
    "    self: DomoBootstrap,\n",
    "    auth: dmda.DomoAuth = None,\n",
    "    debug_api: bool = False,\n",
    "    return_raw: bool = False,\n",
    "    debug_num_stacks_to_drop=2,\n",
    "    session: httpx.AsyncClient = None,\n",
    "):\n",
    "    auth = auth or self.auth\n",
    "\n",
    "    res = await bootstrap_routes.get_bootstrap_features(\n",
    "        auth=auth,\n",
    "        session=session,\n",
    "        debug_api=debug_api,\n",
    "        return_raw=return_raw,\n",
    "        debug_num_stacks_to_drop=debug_num_stacks_to_drop,\n",
    "        parent_class=self.__class__.__name__,\n",
    "    )\n",
    "\n",
    "    if return_raw:\n",
    "        return res\n",
    "\n",
    "    feature_list = [\n",
    "        DomoBootstrap_Feature._from_json_bootstrap(json_obj)\n",
    "        for json_obj in res.response\n",
    "    ]\n",
    "\n",
    "    return feature_list"
   ]
  },
  {
   "cell_type": "markdown",
   "metadata": {},
   "source": [
    "#### sample implementation of get_features"
   ]
  },
  {
   "cell_type": "code",
   "execution_count": null,
   "metadata": {},
   "outputs": [
    {
     "data": {
      "text/html": [
       "<div>\n",
       "<style scoped>\n",
       "    .dataframe tbody tr th:only-of-type {\n",
       "        vertical-align: middle;\n",
       "    }\n",
       "\n",
       "    .dataframe tbody tr th {\n",
       "        vertical-align: top;\n",
       "    }\n",
       "\n",
       "    .dataframe thead th {\n",
       "        text-align: right;\n",
       "    }\n",
       "</style>\n",
       "<table border=\"1\" class=\"dataframe\">\n",
       "  <thead>\n",
       "    <tr style=\"text-align: right;\">\n",
       "      <th></th>\n",
       "      <th>id</th>\n",
       "      <th>name</th>\n",
       "      <th>label</th>\n",
       "      <th>type</th>\n",
       "      <th>purchased</th>\n",
       "      <th>enabled</th>\n",
       "    </tr>\n",
       "  </thead>\n",
       "  <tbody>\n",
       "    <tr>\n",
       "      <th>0</th>\n",
       "      <td>3440</td>\n",
       "      <td>admin-pages</td>\n",
       "      <td></td>\n",
       "      <td>PREMIUM</td>\n",
       "      <td>True</td>\n",
       "      <td>True</td>\n",
       "    </tr>\n",
       "    <tr>\n",
       "      <th>1</th>\n",
       "      <td>3441</td>\n",
       "      <td>admin-slideshows</td>\n",
       "      <td></td>\n",
       "      <td>PREMIUM</td>\n",
       "      <td>True</td>\n",
       "      <td>True</td>\n",
       "    </tr>\n",
       "    <tr>\n",
       "      <th>2</th>\n",
       "      <td>3442</td>\n",
       "      <td>admin-access-rights</td>\n",
       "      <td></td>\n",
       "      <td>PREMIUM</td>\n",
       "      <td>True</td>\n",
       "      <td>True</td>\n",
       "    </tr>\n",
       "    <tr>\n",
       "      <th>3</th>\n",
       "      <td>3443</td>\n",
       "      <td>admin-tool-downloads</td>\n",
       "      <td></td>\n",
       "      <td>PREMIUM</td>\n",
       "      <td>True</td>\n",
       "      <td>True</td>\n",
       "    </tr>\n",
       "  </tbody>\n",
       "</table>\n",
       "</div>"
      ],
      "text/plain": [
       "     id                  name label     type  purchased  enabled\n",
       "0  3440           admin-pages        PREMIUM       True     True\n",
       "1  3441      admin-slideshows        PREMIUM       True     True\n",
       "2  3442   admin-access-rights        PREMIUM       True     True\n",
       "3  3443  admin-tool-downloads        PREMIUM       True     True"
      ]
     },
     "execution_count": null,
     "metadata": {},
     "output_type": "execute_result"
    }
   ],
   "source": [
    "import os\n",
    "import pandas as pd\n",
    "\n",
    "full_auth = dmda.DomoFullAuth(\n",
    "    domo_instance=\"domo-community\",\n",
    "    domo_password=os.environ[\"DOJO_PASSWORD\"],\n",
    "    domo_username=os.environ[\"DOMO_USERNAME\"],\n",
    ")\n",
    "\n",
    "bs = DomoBootstrap(auth=full_auth)\n",
    "\n",
    "feature_ls = await bs.get_features(return_raw=False, debug_api=False)\n",
    "\n",
    "pd.DataFrame(feature_ls[10:14])"
   ]
  },
  {
   "cell_type": "code",
   "execution_count": null,
   "metadata": {},
   "outputs": [],
   "source": [
    "# | exporti\n",
    "@patch_to(DomoBootstrap)\n",
    "async def is_feature_accountsv2_enabled(\n",
    "    self :DomoBootstrap,\n",
    "    auth: dmda.DomoAuth = None,\n",
    "    debug_api: bool = False,\n",
    "    return_raw: bool = False,\n",
    "    debug_num_stacks_to_drop=3,\n",
    "):\n",
    "    res = await bootstrap_routes.get_bootstrap_features_is_accountsv2_enabled(\n",
    "        auth=auth or self.auth,\n",
    "        return_raw=return_raw,\n",
    "        debug_api=debug_api,\n",
    "        debug_num_stacks_to_drop=debug_num_stacks_to_drop,\n",
    "        parent_class=self.__class__.__name__,\n",
    "    )\n",
    "\n",
    "    if return_raw:\n",
    "        return res\n",
    "\n",
    "    return res.response"
   ]
  },
  {
   "cell_type": "markdown",
   "metadata": {},
   "source": [
    "### sample implementation of is_group_ownership_beta"
   ]
  },
  {
   "cell_type": "code",
   "execution_count": null,
   "metadata": {},
   "outputs": [
    {
     "data": {
      "text/plain": [
       "False"
      ]
     },
     "execution_count": null,
     "metadata": {},
     "output_type": "execute_result"
    }
   ],
   "source": [
    "import os\n",
    "import pandas as pd\n",
    "\n",
    "full_auth = dmda.DomoFullAuth(\n",
    "    domo_instance=\"domo-community\",\n",
    "    domo_password=os.environ[\"DOJO_PASSWORD\"],\n",
    "    domo_username=os.environ[\"DOMO_USERNAME\"],\n",
    ")\n",
    "\n",
    "bs = DomoBootstrap(auth=full_auth)\n",
    "\n",
    "await bs.is_feature_accountsv2_enabled(debug_api=False)"
   ]
  },
  {
   "cell_type": "code",
   "execution_count": null,
   "metadata": {},
   "outputs": [
    {
     "name": "stdout",
     "output_type": "stream",
     "text": [
      "All done! ✨ 🍰 ✨\n",
      "1 file left unchanged.\n"
     ]
    }
   ],
   "source": [
    "# | hide\n",
    "import nbdev\n",
    "\n",
    "nbdev.nbdev_export()\n",
    "!nbqa black 50_DomoBootstrap.ipynb"
   ]
  }
 ],
 "metadata": {
  "jupytext": {
   "split_at_heading": true
  },
  "kernelspec": {
   "display_name": "python3",
   "language": "python",
   "name": "python3"
  },
  "language_info": {
   "name": "python",
   "version": "3.10.8"
  }
 },
 "nbformat": 4,
 "nbformat_minor": 4
}
