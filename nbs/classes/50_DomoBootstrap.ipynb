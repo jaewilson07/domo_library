{
 "cells": [
  {
   "cell_type": "raw",
   "metadata": {},
   "source": [
    "---\n",
    "output-file: bootstrap_class.html\n",
    "title: Bootstrap\n",
    "---\n",
    "\n"
   ]
  },
  {
   "cell_type": "code",
   "execution_count": 1,
   "metadata": {},
   "outputs": [],
   "source": [
    "#| default_exp classes.DomoBootstrap"
   ]
  },
  {
   "cell_type": "code",
   "execution_count": 2,
   "metadata": {},
   "outputs": [],
   "source": [
    "#| exporti\n",
    "from dataclasses import dataclass, field\n",
    "from fastcore.basics import patch_to\n",
    "import httpx\n",
    "import asyncio\n",
    "\n",
    "import domolibrary.classes.DomoPage as dmpg\n",
    "\n",
    "import domolibrary.utils.DictDot as util_dd\n",
    "import domolibrary.client.DomoAuth as dmda\n",
    "import domolibrary.client.Logger as lc\n",
    "import domolibrary.routes.bootstrap as bootstrap_routes\n"
   ]
  },
  {
   "cell_type": "code",
   "execution_count": 3,
   "metadata": {},
   "outputs": [],
   "source": [
    "#| export\n",
    "@dataclass\n",
    "class DomoBootstrap_Feature:\n",
    "    id: int\n",
    "    name: str\n",
    "    label: str\n",
    "    type: str\n",
    "    purchased: bool\n",
    "    enabled: bool\n",
    "\n",
    "    @classmethod\n",
    "    def _from_json_bootstrap(cls, json_obj: dict):\n",
    "        dd = util_dd.DictDot(json_obj)\n",
    "\n",
    "        bsf = cls(\n",
    "            id=dd.id,\n",
    "            name=dd.name,\n",
    "            label=dd.label,\n",
    "            type=dd.type,\n",
    "            purchased=dd.purchased,\n",
    "            enabled=dd.enabled\n",
    "        )\n",
    "        return bsf"
   ]
  },
  {
   "cell_type": "code",
   "execution_count": 4,
   "metadata": {},
   "outputs": [],
   "source": [
    "#| export\n",
    "@dataclass\n",
    "class DomoBootstrap:\n",
    "    auth : dmda.DomoAuth = field(repr = False)\n",
    "    page_ls : list[dmpg.DomoPage] = field(default = None)\n",
    "    feature_ls : list[DomoBootstrap_Feature] = field(default = None)\n",
    "    "
   ]
  },
  {
   "cell_type": "code",
   "execution_count": 5,
   "metadata": {},
   "outputs": [],
   "source": [
    "# | export\n",
    "@patch_to(DomoBootstrap)\n",
    "async def get_all(self: DomoBootstrap,\n",
    "                  auth: dmda.DomoAuth = None, debug_api: bool = False):\n",
    "    \n",
    "    auth = auth or self.auth\n",
    "\n",
    "    res =  await bootstrap_routes.get_bootstrap(auth=auth, debug_api=debug_api)\n",
    "\n",
    "    return res.response\n"
   ]
  },
  {
   "attachments": {},
   "cell_type": "markdown",
   "metadata": {},
   "source": [
    "#### sample implementation of get_all"
   ]
  },
  {
   "cell_type": "code",
   "execution_count": 15,
   "metadata": {},
   "outputs": [
    {
     "data": {
      "text/plain": [
       "dict_keys(['landingPageId', 'favorites', 'pages', 'conf', 'analytics', 'brandKit', 'environmentId', 'features', 'authorities', 'customerHash', 'locale', 'isWhitelabeled', 'isCustomerWhitelabeled', 'isFullWhitelabeled', 'trialEndDate', 'trialContactPhone', 'whitelabeledProductName', 'userAnonymous', 'userIsProxied', 'domoappsDomain', 'customerTier', 'companyTimeZone', 'disableAutoRefresh', 'wasTrial', 'buzzSignup', 'authorizedAppDomains', 'isDomoAppDomainWhitelistEnabled', 'configProperties', 'domoPublicUrl', 'advancedColorControls', 'gettingStartedPageEnabled', 'landingEntities', 'isSignupSingleSolutionInstance', 'signupApp', 'cardPageMaxConcurrentRenders', 'version'])"
      ]
     },
     "execution_count": 15,
     "metadata": {},
     "output_type": "execute_result"
    }
   ],
   "source": [
    "import os\n",
    "\n",
    "full_auth = dmda.DomoFullAuth(\n",
    "    domo_instance='domo-community', \n",
    "    domo_password = os.environ['DOJO_PASSWORD'], \n",
    "    domo_username= os.environ['DOMO_USERNAME'])\n",
    "\n",
    "bs = DomoBootstrap( auth = full_auth)\n",
    "\n",
    "bsr = await bs.get_all()\n",
    "bsr['data'].keys()\n",
    "\n"
   ]
  },
  {
   "cell_type": "code",
   "execution_count": 7,
   "metadata": {},
   "outputs": [],
   "source": [
    "# | exporti\n",
    "@patch_to(DomoBootstrap)\n",
    "async def get_pages(self: DomoBootstrap,\n",
    "                    auth: dmda.DomoAuth = None, return_raw : bool = False, debug_api: bool = False) -> list[dmpg.DomoPage]:\n",
    "\n",
    "    auth = auth or self.auth\n",
    "\n",
    "    res = await bootstrap_routes.get_bootstrap_pages(auth=auth,\n",
    "                                                     debug_api=debug_api)\n",
    "    \n",
    "    if return_raw:\n",
    "        return res.response\n",
    "        \n",
    "    if not res.is_success:\n",
    "        return None\n",
    "    \n",
    "    page_ls = res.response\n",
    "\n",
    "    self.page_ls =  await asyncio.gather(*[dmpg.DomoPage._from_bootstrap(page_obj, auth = auth) for page_obj in page_ls])\n",
    "\n",
    "    return self.page_ls\n"
   ]
  },
  {
   "attachments": {},
   "cell_type": "markdown",
   "metadata": {},
   "source": [
    "#### sample implementation of get_pages"
   ]
  },
  {
   "cell_type": "code",
   "execution_count": 8,
   "metadata": {},
   "outputs": [
    {
     "data": {
      "text/html": [
       "<div>\n",
       "<style scoped>\n",
       "    .dataframe tbody tr th:only-of-type {\n",
       "        vertical-align: middle;\n",
       "    }\n",
       "\n",
       "    .dataframe tbody tr th {\n",
       "        vertical-align: top;\n",
       "    }\n",
       "\n",
       "    .dataframe thead th {\n",
       "        text-align: right;\n",
       "    }\n",
       "</style>\n",
       "<table border=\"1\" class=\"dataframe\">\n",
       "  <thead>\n",
       "    <tr style=\"text-align: right;\">\n",
       "      <th></th>\n",
       "      <th>id</th>\n",
       "      <th>title</th>\n",
       "      <th>parent_page_id</th>\n",
       "      <th>top_page_id</th>\n",
       "      <th>owners</th>\n",
       "      <th>cards</th>\n",
       "      <th>collections</th>\n",
       "      <th>children</th>\n",
       "      <th>is_locked</th>\n",
       "      <th>layout</th>\n",
       "    </tr>\n",
       "  </thead>\n",
       "  <tbody>\n",
       "    <tr>\n",
       "      <th>0</th>\n",
       "      <td>790951325</td>\n",
       "      <td>Coronavirus (COVID-19) Dashboard</td>\n",
       "      <td>None</td>\n",
       "      <td>None</td>\n",
       "      <td>[{'id': '1345408759', 'title': None, 'departme...</td>\n",
       "      <td>[]</td>\n",
       "      <td>[]</td>\n",
       "      <td>[{'id': '1289295627', 'title': 'Dataset Schema...</td>\n",
       "      <td>None</td>\n",
       "      <td>None</td>\n",
       "    </tr>\n",
       "    <tr>\n",
       "      <th>1</th>\n",
       "      <td>1891382078</td>\n",
       "      <td>Fun Stuff</td>\n",
       "      <td>None</td>\n",
       "      <td>None</td>\n",
       "      <td>[{'id': '1345408759', 'title': None, 'departme...</td>\n",
       "      <td>[]</td>\n",
       "      <td>[]</td>\n",
       "      <td>[{'id': '1124898205', 'title': 'Quotes', 'pare...</td>\n",
       "      <td>None</td>\n",
       "      <td>None</td>\n",
       "    </tr>\n",
       "    <tr>\n",
       "      <th>2</th>\n",
       "      <td>545237196</td>\n",
       "      <td>Demo Apps</td>\n",
       "      <td>None</td>\n",
       "      <td>None</td>\n",
       "      <td>[{'id': '826020125', 'title': None, 'departmen...</td>\n",
       "      <td>[]</td>\n",
       "      <td>[]</td>\n",
       "      <td>[]</td>\n",
       "      <td>None</td>\n",
       "      <td>None</td>\n",
       "    </tr>\n",
       "    <tr>\n",
       "      <th>3</th>\n",
       "      <td>400620119</td>\n",
       "      <td>Data Science Workshop</td>\n",
       "      <td>None</td>\n",
       "      <td>None</td>\n",
       "      <td>[{'id': '1504505648', 'title': None, 'departme...</td>\n",
       "      <td>[]</td>\n",
       "      <td>[]</td>\n",
       "      <td>[]</td>\n",
       "      <td>None</td>\n",
       "      <td>None</td>\n",
       "    </tr>\n",
       "  </tbody>\n",
       "</table>\n",
       "</div>"
      ],
      "text/plain": [
       "           id                             title parent_page_id top_page_id   \n",
       "0   790951325  Coronavirus (COVID-19) Dashboard           None        None  \\\n",
       "1  1891382078                         Fun Stuff           None        None   \n",
       "2   545237196                         Demo Apps           None        None   \n",
       "3   400620119             Data Science Workshop           None        None   \n",
       "\n",
       "                                              owners cards collections   \n",
       "0  [{'id': '1345408759', 'title': None, 'departme...    []          []  \\\n",
       "1  [{'id': '1345408759', 'title': None, 'departme...    []          []   \n",
       "2  [{'id': '826020125', 'title': None, 'departmen...    []          []   \n",
       "3  [{'id': '1504505648', 'title': None, 'departme...    []          []   \n",
       "\n",
       "                                            children is_locked layout  \n",
       "0  [{'id': '1289295627', 'title': 'Dataset Schema...      None   None  \n",
       "1  [{'id': '1124898205', 'title': 'Quotes', 'pare...      None   None  \n",
       "2                                                 []      None   None  \n",
       "3                                                 []      None   None  "
      ]
     },
     "execution_count": 8,
     "metadata": {},
     "output_type": "execute_result"
    }
   ],
   "source": [
    "import os\n",
    "import pandas as pd\n",
    "\n",
    "full_auth = dmda.DomoFullAuth(\n",
    "    domo_instance='domo-community', \n",
    "    domo_password=os.environ['DOJO_PASSWORD'],\n",
    "    domo_username= os.environ['DOMO_USERNAME'])\n",
    "\n",
    "bs = DomoBootstrap(auth=full_auth)\n",
    "\n",
    "page_ls = await bs.get_pages(return_raw = False)\n",
    "\n",
    "# bs.page_ls\n",
    "pd.DataFrame(page_ls[10:14]).drop(columns = ['auth'] )\n"
   ]
  },
  {
   "cell_type": "code",
   "execution_count": 9,
   "metadata": {},
   "outputs": [],
   "source": [
    "#| exporti\n",
    "@patch_to(DomoBootstrap)\n",
    "async def get_features(self : DomoBootstrap,\n",
    "                        auth: dmda.DomoAuth = None,\n",
    "                        debug_api: bool = False,\n",
    "                        return_raw:bool = False,\n",
    "                        session: httpx.AsyncClient = None, \n",
    "                        ):\n",
    "    \n",
    "    auth = auth or self.auth\n",
    "\n",
    "    res = await bootstrap_routes.get_bootstrap_features(auth=auth, session=session, debug_api=debug_api, return_raw=return_raw)\n",
    "\n",
    "    if return_raw:\n",
    "        return res\n",
    "\n",
    "    feature_list = [DomoBootstrap_Feature._from_json_bootstrap(\n",
    "        json_obj) for json_obj in res.response]\n",
    "\n",
    "    return feature_list"
   ]
  },
  {
   "cell_type": "code",
   "execution_count": 10,
   "metadata": {},
   "outputs": [
    {
     "data": {
      "text/html": [
       "<div>\n",
       "<style scoped>\n",
       "    .dataframe tbody tr th:only-of-type {\n",
       "        vertical-align: middle;\n",
       "    }\n",
       "\n",
       "    .dataframe tbody tr th {\n",
       "        vertical-align: top;\n",
       "    }\n",
       "\n",
       "    .dataframe thead th {\n",
       "        text-align: right;\n",
       "    }\n",
       "</style>\n",
       "<table border=\"1\" class=\"dataframe\">\n",
       "  <thead>\n",
       "    <tr style=\"text-align: right;\">\n",
       "      <th></th>\n",
       "      <th>id</th>\n",
       "      <th>name</th>\n",
       "      <th>label</th>\n",
       "      <th>type</th>\n",
       "      <th>purchased</th>\n",
       "      <th>enabled</th>\n",
       "    </tr>\n",
       "  </thead>\n",
       "  <tbody>\n",
       "    <tr>\n",
       "      <th>0</th>\n",
       "      <td>3440</td>\n",
       "      <td>admin-pages</td>\n",
       "      <td></td>\n",
       "      <td>PREMIUM</td>\n",
       "      <td>True</td>\n",
       "      <td>True</td>\n",
       "    </tr>\n",
       "    <tr>\n",
       "      <th>1</th>\n",
       "      <td>3441</td>\n",
       "      <td>admin-slideshows</td>\n",
       "      <td></td>\n",
       "      <td>PREMIUM</td>\n",
       "      <td>True</td>\n",
       "      <td>True</td>\n",
       "    </tr>\n",
       "    <tr>\n",
       "      <th>2</th>\n",
       "      <td>3442</td>\n",
       "      <td>admin-access-rights</td>\n",
       "      <td></td>\n",
       "      <td>PREMIUM</td>\n",
       "      <td>True</td>\n",
       "      <td>True</td>\n",
       "    </tr>\n",
       "    <tr>\n",
       "      <th>3</th>\n",
       "      <td>3443</td>\n",
       "      <td>admin-tool-downloads</td>\n",
       "      <td></td>\n",
       "      <td>PREMIUM</td>\n",
       "      <td>True</td>\n",
       "      <td>True</td>\n",
       "    </tr>\n",
       "  </tbody>\n",
       "</table>\n",
       "</div>"
      ],
      "text/plain": [
       "     id                  name label     type  purchased  enabled\n",
       "0  3440           admin-pages        PREMIUM       True     True\n",
       "1  3441      admin-slideshows        PREMIUM       True     True\n",
       "2  3442   admin-access-rights        PREMIUM       True     True\n",
       "3  3443  admin-tool-downloads        PREMIUM       True     True"
      ]
     },
     "execution_count": 10,
     "metadata": {},
     "output_type": "execute_result"
    }
   ],
   "source": [
    "import os\n",
    "import pandas as pd\n",
    "\n",
    "full_auth = dmda.DomoFullAuth(\n",
    "    domo_instance='domo-community',\n",
    "    domo_password=os.environ['DOJO_PASSWORD'],\n",
    "    domo_username= os.environ['DOMO_USERNAME'])\n",
    "\n",
    "bs = DomoBootstrap(auth=full_auth)\n",
    "\n",
    "feature_ls = await bs.get_features(return_raw=False)\n",
    "\n",
    "pd.DataFrame(feature_ls[10:14])\n"
   ]
  },
  {
   "cell_type": "code",
   "execution_count": 11,
   "metadata": {},
   "outputs": [],
   "source": [
    "#| exporti\n",
    "@patch_to(DomoBootstrap)\n",
    "async def is_group_ownership_beta(self, return_raw : bool = False):\n",
    "    \n",
    "    domo_feature_ls = await self.get_features(return_raw= return_raw)\n",
    "\n",
    "    if return_raw:\n",
    "        return domo_feature_ls\n",
    "\n",
    "    match_accounts_v2 = next(\n",
    "        (domo_feature for domo_feature in domo_feature_ls if domo_feature.name == 'accounts-v2'), None)\n",
    "\n",
    "    return True if match_accounts_v2 else False"
   ]
  },
  {
   "cell_type": "code",
   "execution_count": 12,
   "metadata": {},
   "outputs": [
    {
     "data": {
      "text/plain": [
       "False"
      ]
     },
     "execution_count": 12,
     "metadata": {},
     "output_type": "execute_result"
    }
   ],
   "source": [
    "import os\n",
    "import pandas as pd\n",
    "\n",
    "full_auth = dmda.DomoFullAuth(\n",
    "    domo_instance='domo-community',\n",
    "    domo_password=os.environ['DOJO_PASSWORD'],\n",
    "    domo_username= os.environ['DOMO_USERNAME'])\n",
    "\n",
    "bs = DomoBootstrap(auth=full_auth)\n",
    "await bs.is_group_ownership_beta()"
   ]
  },
  {
   "cell_type": "code",
   "execution_count": 13,
   "metadata": {},
   "outputs": [],
   "source": [
    "#| hide\n",
    "import nbdev\n",
    "nbdev.nbdev_export()"
   ]
  }
 ],
 "metadata": {
  "jupytext": {
   "split_at_heading": true
  },
  "kernelspec": {
   "display_name": "python3",
   "language": "python",
   "name": "python3"
  },
  "language_info": {
   "codemirror_mode": {
    "name": "ipython",
    "version": 3
   },
   "file_extension": ".py",
   "mimetype": "text/x-python",
   "name": "python",
   "nbconvert_exporter": "python",
   "pygments_lexer": "ipython3",
   "version": "3.10.4"
  }
 },
 "nbformat": 4,
 "nbformat_minor": 4
}
