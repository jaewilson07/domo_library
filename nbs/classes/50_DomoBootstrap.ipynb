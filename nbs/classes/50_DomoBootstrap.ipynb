{
 "cells": [
  {
   "cell_type": "raw",
   "metadata": {},
   "source": [
    "---\n",
    "output-file: bootstrap_class.html\n",
    "title: Bootstrap\n",
    "---\n",
    "\n"
   ]
  },
  {
   "cell_type": "code",
   "execution_count": 1,
   "metadata": {},
   "outputs": [],
   "source": [
    "# | default_exp classes.DomoBootstrap"
   ]
  },
  {
   "cell_type": "code",
   "execution_count": 2,
   "metadata": {},
   "outputs": [],
   "source": [
    "# | exporti\n",
    "from dataclasses import dataclass, field\n",
    "from fastcore.basics import patch_to\n",
    "import httpx\n",
    "import asyncio\n",
    "\n",
    "import domolibrary.classes.DomoPage as dmpg\n",
    "\n",
    "import domolibrary.utils.DictDot as util_dd\n",
    "import domolibrary.client.DomoAuth as dmda\n",
    "import domolibrary.client.DomoError as de\n",
    "import domolibrary.routes.bootstrap as bootstrap_routes\n",
    "import domolibrary.utils.chunk_execution as ce"
   ]
  },
  {
   "cell_type": "code",
   "execution_count": 3,
   "metadata": {},
   "outputs": [],
   "source": [
    "# | export\n",
    "@dataclass\n",
    "class DomoBootstrap_Feature:\n",
    "    id: int\n",
    "    name: str\n",
    "    label: str\n",
    "    type: str\n",
    "    purchased: bool\n",
    "    enabled: bool\n",
    "\n",
    "    @classmethod\n",
    "    def _from_json_bootstrap(cls, json_obj: dict):\n",
    "        dd = util_dd.DictDot(json_obj)\n",
    "\n",
    "        bsf = cls(\n",
    "            id=dd.id,\n",
    "            name=dd.name,\n",
    "            label=dd.label,\n",
    "            type=dd.type,\n",
    "            purchased=dd.purchased,\n",
    "            enabled=dd.enabled,\n",
    "        )\n",
    "        return bsf"
   ]
  },
  {
   "cell_type": "code",
   "execution_count": 4,
   "metadata": {},
   "outputs": [],
   "source": [
    "# | export\n",
    "@dataclass\n",
    "class DomoBootstrap:\n",
    "    auth: dmda.DomoAuth = field(repr=False)\n",
    "    bootstrap: dict = field(default=None)\n",
    "    customer_id: str = None\n",
    "    page_ls: list[dmpg.DomoPage] = field(default=None)\n",
    "    feature_ls: list[DomoBootstrap_Feature] = field(default=None)"
   ]
  },
  {
   "cell_type": "code",
   "execution_count": 5,
   "metadata": {},
   "outputs": [],
   "source": [
    "# | export\n",
    "class Bootstrap_RetrievalError(de.DomoError):\n",
    "    def __init__(self, status, response, domo_instance):\n",
    "        super().__init__(status=status, response=response, domo_instance=domo_instance)\n",
    "\n",
    "\n",
    "@patch_to(DomoBootstrap)\n",
    "async def get_all(\n",
    "    self: DomoBootstrap,\n",
    "    auth: dmda.DomoFullAuth = None,\n",
    "    debug_api: bool = False,\n",
    "    return_raw: bool = False,\n",
    "    debug_num_stacks_to_drop=2,\n",
    "):\n",
    "    auth = auth or self.auth\n",
    "\n",
    "    res = await bootstrap_routes.get_bootstrap(\n",
    "        auth=auth,\n",
    "        debug_api=debug_api,\n",
    "        debug_num_stacks_to_drop=debug_num_stacks_to_drop,\n",
    "        parent_class=self.__class__.__name__,\n",
    "    )\n",
    "\n",
    "    if not res.is_success:\n",
    "        raise Bootstrap_RetrievalError(\n",
    "            status=res.status, response=res.response, domo_instance=auth.domo_instance\n",
    "        )\n",
    "\n",
    "    self.bootstrap = res.response\n",
    "\n",
    "    if return_raw:\n",
    "        return res\n",
    "\n",
    "    return res.response"
   ]
  },
  {
   "attachments": {},
   "cell_type": "markdown",
   "metadata": {},
   "source": [
    "#### sample implementation of get_all\n"
   ]
  },
  {
   "cell_type": "code",
   "execution_count": 6,
   "metadata": {},
   "outputs": [
    {
     "data": {
      "text/plain": [
       "dict_keys(['landingPageId', 'favorites', 'pages', 'conf', 'analytics', 'brandKit', 'environmentId', 'features', 'authorities', 'customerHash', 'locale', 'isWhitelabeled', 'isCustomerWhitelabeled', 'isFullWhitelabeled', 'trialEndDate', 'trialContactPhone', 'whitelabeledProductName', 'userAnonymous', 'userIsProxied', 'domoappsDomain', 'customerTier', 'companyTimeZone', 'disableAutoRefresh', 'wasTrial', 'buzzSignup', 'authorizedAppDomains', 'isDomoAppDomainWhitelistEnabled', 'configProperties', 'domoPublicUrl', 'advancedColorControls', 'gettingStartedPageEnabled', 'landingEntities', 'isSignupSingleSolutionInstance', 'signupApp', 'cardPageMaxConcurrentRenders', 'version'])"
      ]
     },
     "execution_count": 6,
     "metadata": {},
     "output_type": "execute_result"
    }
   ],
   "source": [
    "import os\n",
    "\n",
    "full_auth = dmda.DomoFullAuth(\n",
    "    domo_instance=\"domo-community\",\n",
    "    domo_password=os.environ[\"DOJO_PASSWORD\"],\n",
    "    domo_username=os.environ[\"DOMO_USERNAME\"],\n",
    ")\n",
    "\n",
    "bs = DomoBootstrap(auth=full_auth)\n",
    "\n",
    "res = await bs.get_all(return_raw=True, debug_api=False)\n",
    "\n",
    "bs.bootstrap[\"data\"].keys()\n",
    "\n",
    "# res.traceback_details.function_trail"
   ]
  },
  {
   "cell_type": "code",
   "execution_count": 16,
   "metadata": {},
   "outputs": [],
   "source": [
    "# |exporti\n",
    "@patch_to(DomoBootstrap)\n",
    "async def get_customer_id(\n",
    "    self: DomoBootstrap,\n",
    "    auth: dmda.DomoFullAuth = None,\n",
    "    debug_api: bool = False,\n",
    "    debug_num_stacks_to_drop=3,\n",
    "):\n",
    "    await self.get_all(\n",
    "        auth=auth or self.auth,\n",
    "        debug_api=debug_api,\n",
    "        debug_num_stacks_to_drop=debug_num_stacks_to_drop,\n",
    "    )\n",
    "\n",
    "    self.customer_id = self.bootstrap[\"currentUser\"][\"USER_GROUP\"]\n",
    "    return self.customer_id"
   ]
  },
  {
   "cell_type": "markdown",
   "metadata": {},
   "source": [
    "#### sample implementation of get_customer_id\n"
   ]
  },
  {
   "cell_type": "code",
   "execution_count": 17,
   "metadata": {},
   "outputs": [
    {
     "data": {
      "text/plain": [
       "'mmmm-0012-0200'"
      ]
     },
     "execution_count": 17,
     "metadata": {},
     "output_type": "execute_result"
    }
   ],
   "source": [
    "import os\n",
    "import pandas as pd\n",
    "\n",
    "full_auth = dmda.DomoFullAuth(\n",
    "    domo_instance=\"domo-community\",\n",
    "    domo_password=os.environ[\"DOJO_PASSWORD\"],\n",
    "    domo_username=os.environ[\"DOMO_USERNAME\"],\n",
    ")\n",
    "\n",
    "bs = DomoBootstrap(auth=full_auth)\n",
    "\n",
    "await bs.get_customer_id(debug_api=False)"
   ]
  },
  {
   "cell_type": "code",
   "execution_count": 9,
   "metadata": {},
   "outputs": [],
   "source": [
    "# | exporti\n",
    "\n",
    "\n",
    "@patch_to(DomoBootstrap)\n",
    "async def get_pages(\n",
    "    self: DomoBootstrap,\n",
    "    auth: dmda.DomoFullAuth = None,\n",
    "    return_raw: bool = False,\n",
    "    debug_api: bool = False,\n",
    "    debug_num_stacks_to_drop=2,\n",
    ") -> list[dmpg.DomoPage]:\n",
    "    auth = auth or self.auth\n",
    "\n",
    "    res = await bootstrap_routes.get_bootstrap_pages(\n",
    "        auth=auth,\n",
    "        debug_api=debug_api,\n",
    "        parent_class=self.__class__.__name__,\n",
    "        debug_num_stacks_to_drop=debug_num_stacks_to_drop,\n",
    "    )\n",
    "\n",
    "    if return_raw:\n",
    "        return res\n",
    "\n",
    "    if not res.is_success:\n",
    "        return None\n",
    "\n",
    "    self.page_ls = await ce.gather_with_concurrency(\n",
    "        n=60,\n",
    "        *[\n",
    "            dmpg.DomoPage._from_bootstrap(page_obj, auth=auth)\n",
    "            for page_obj in res.response\n",
    "        ]\n",
    "    )\n",
    "\n",
    "    return self.page_ls"
   ]
  },
  {
   "attachments": {},
   "cell_type": "markdown",
   "metadata": {},
   "source": [
    "#### sample implementation of get_pages\n"
   ]
  },
  {
   "cell_type": "code",
   "execution_count": 18,
   "metadata": {},
   "outputs": [
    {
     "data": {
      "text/plain": [
       "[DomoPage(id=-100000, title='Overview', top_page_id=None, parent_page_id=None, is_locked=None, collections=[], owners=[], cards=[], custom_attributes={}, layout={}),\n",
       " DomoPage(id=-100003, title='Favorites', top_page_id=None, parent_page_id=None, is_locked=None, collections=[], owners=[], cards=[], custom_attributes={}, layout={}),\n",
       " DomoPage(id=-100002, title='Shared', top_page_id=None, parent_page_id=None, is_locked=None, collections=[], owners=[], cards=[], custom_attributes={}, layout={}),\n",
       " DomoPage(id=30507758, title='Welcome', top_page_id=None, parent_page_id=None, is_locked=None, collections=[], owners=[DomoGroup(id=1814479647, name='Admin Test', type='closed', description='', custom_attributes={}), DomoUser(id='587894148', display_name='Bryan Van Kampen', email_address='bryan@bvankampen.net', role_id=1, department=None, title=None, avatar_key=None, phone_number=None, web_landing_page=None, web_mobile_landing_page=None, employee_id=None, employee_number=None, hire_date=None, reports_to=None, publisher_domain=None, subscriber_domain=None, virtual_user_id=None, custom_attributes={})], cards=[], custom_attributes={}, layout={}),\n",
       " DomoPage(id=1267639476, title='Community Solutions', top_page_id=None, parent_page_id=None, is_locked=None, collections=[], owners=[DomoUser(id='587894148', display_name='Bryan Van Kampen', email_address='bryan@bvankampen.net', role_id=1, department=None, title=None, avatar_key=None, phone_number=None, web_landing_page=None, web_mobile_landing_page=None, employee_id=None, employee_number=None, hire_date=None, reports_to=None, publisher_domain=None, subscriber_domain=None, virtual_user_id=None, custom_attributes={})], cards=[], custom_attributes={}, layout={}),\n",
       " DomoPage(id=109096720, title='Domo IDEA Exchange', top_page_id=None, parent_page_id=None, is_locked=None, collections=[], owners=[DomoUser(id='1893952720', display_name='Jae Wilson1', email_address='jae@onyxreporting.com', role_id=810756122, department=None, title=None, avatar_key=None, phone_number=None, web_landing_page=None, web_mobile_landing_page=None, employee_id=None, employee_number=None, hire_date=None, reports_to=None, publisher_domain=None, subscriber_domain=None, virtual_user_id=None, custom_attributes={})], cards=[], custom_attributes={}, layout={}),\n",
       " DomoPage(id=1845973736, title='DomoStats Activity Log', top_page_id=None, parent_page_id=None, is_locked=None, collections=[], owners=[DomoUser(id='587894148', display_name='Bryan Van Kampen', email_address='bryan@bvankampen.net', role_id=1, department=None, title=None, avatar_key=None, phone_number=None, web_landing_page=None, web_mobile_landing_page=None, employee_id=None, employee_number=None, hire_date=None, reports_to=None, publisher_domain=None, subscriber_domain=None, virtual_user_id=None, custom_attributes={})], cards=[], custom_attributes={}, layout={}),\n",
       " DomoPage(id=522373865, title='Learn Domo', top_page_id=None, parent_page_id=None, is_locked=None, collections=[], owners=[DomoUser(id='1893952720', display_name='Jae Wilson1', email_address='jae@onyxreporting.com', role_id=810756122, department=None, title=None, avatar_key=None, phone_number=None, web_landing_page=None, web_mobile_landing_page=None, employee_id=None, employee_number=None, hire_date=None, reports_to=None, publisher_domain=None, subscriber_domain=None, virtual_user_id=None, custom_attributes={})], cards=[], custom_attributes={}, layout={}),\n",
       " DomoPage(id=1213767347, title='Instance Maintenance', top_page_id=None, parent_page_id=None, is_locked=None, collections=[], owners=[DomoUser(id='1768567034', display_name='Ashleigh Stevenson', email_address='Ashleigh.Stevenson@caemilusa.com', role_id=2097317660, department=None, title=None, avatar_key=None, phone_number=None, web_landing_page=None, web_mobile_landing_page=None, employee_id=None, employee_number=None, hire_date=None, reports_to=None, publisher_domain=None, subscriber_domain=None, virtual_user_id=None, custom_attributes={})], cards=[], custom_attributes={}, layout={}),\n",
       " DomoPage(id=377658733, title='PUG Meetings', top_page_id=None, parent_page_id=None, is_locked=None, collections=[], owners=[DomoUser(id='1345408759', display_name='Alexis Lorenz (DataMaven)', email_address='DataMaven42@gmail.com', role_id=1, department=None, title=None, avatar_key=None, phone_number=None, web_landing_page=None, web_mobile_landing_page=None, employee_id=None, employee_number=None, hire_date=None, reports_to=None, publisher_domain=None, subscriber_domain=None, virtual_user_id=None, custom_attributes={})], cards=[], custom_attributes={}, layout={}),\n",
       " DomoPage(id=790951325, title='Coronavirus (COVID-19) Dashboard', top_page_id=None, parent_page_id=None, is_locked=None, collections=[], owners=[DomoUser(id='1345408759', display_name='Alexis Lorenz (DataMaven)', email_address='DataMaven42@gmail.com', role_id=1, department=None, title=None, avatar_key=None, phone_number=None, web_landing_page=None, web_mobile_landing_page=None, employee_id=None, employee_number=None, hire_date=None, reports_to=None, publisher_domain=None, subscriber_domain=None, virtual_user_id=None, custom_attributes={})], cards=[], custom_attributes={}, layout={}),\n",
       " DomoPage(id=1891382078, title='Fun Stuff', top_page_id=None, parent_page_id=None, is_locked=None, collections=[], owners=[DomoUser(id='1345408759', display_name='Alexis Lorenz (DataMaven)', email_address='DataMaven42@gmail.com', role_id=1, department=None, title=None, avatar_key=None, phone_number=None, web_landing_page=None, web_mobile_landing_page=None, employee_id=None, employee_number=None, hire_date=None, reports_to=None, publisher_domain=None, subscriber_domain=None, virtual_user_id=None, custom_attributes={})], cards=[], custom_attributes={}, layout={}),\n",
       " DomoPage(id=545237196, title='Demo Apps', top_page_id=None, parent_page_id=None, is_locked=None, collections=[], owners=[DomoUser(id='826020125', display_name='Ritwik', email_address='ritwik@woodpartners.com', role_id=2097317660, department=None, title=None, avatar_key=None, phone_number=None, web_landing_page=None, web_mobile_landing_page=None, employee_id=None, employee_number=None, hire_date=None, reports_to=None, publisher_domain=None, subscriber_domain=None, virtual_user_id=None, custom_attributes={})], cards=[], custom_attributes={}, layout={}),\n",
       " DomoPage(id=400620119, title='Data Science Workshop', top_page_id=None, parent_page_id=None, is_locked=None, collections=[], owners=[DomoUser(id='1504505648', display_name='Ken Lorenz', email_address='ken@datamavenllc.io', role_id=2097317660, department=None, title=None, avatar_key=None, phone_number=None, web_landing_page=None, web_mobile_landing_page=None, employee_id=None, employee_number=None, hire_date=None, reports_to=None, publisher_domain=None, subscriber_domain=None, virtual_user_id=None, custom_attributes={})], cards=[], custom_attributes={}, layout={}),\n",
       " DomoPage(id=1642445256, title='Marketing Calendar Demo', top_page_id=None, parent_page_id=None, is_locked=None, collections=[], owners=[DomoUser(id='204012057', display_name='DuncanDomo', email_address='duncan.wood22@gmail.com', role_id=2, department=None, title=None, avatar_key=None, phone_number=None, web_landing_page=None, web_mobile_landing_page=None, employee_id=None, employee_number=None, hire_date=None, reports_to=None, publisher_domain=None, subscriber_domain=None, virtual_user_id=None, custom_attributes={})], cards=[], custom_attributes={}, layout={}),\n",
       " DomoPage(id=1873244253, title='Inline Editing', top_page_id=None, parent_page_id=None, is_locked=None, collections=[], owners=[DomoUser(id='1893952720', display_name='Jae Wilson1', email_address='jae@onyxreporting.com', role_id=810756122, department=None, title=None, avatar_key=None, phone_number=None, web_landing_page=None, web_mobile_landing_page=None, employee_id=None, employee_number=None, hire_date=None, reports_to=None, publisher_domain=None, subscriber_domain=None, virtual_user_id=None, custom_attributes={})], cards=[], custom_attributes={}, layout={}),\n",
       " DomoPage(id=1761849366, title='delete me', top_page_id=None, parent_page_id=None, is_locked=None, collections=[], owners=[DomoGroup(id=592838897, name='Test Group ABC', type='open', description='', custom_attributes={})], cards=[], custom_attributes={}, layout={}),\n",
       " DomoPage(id=384424178, title='75th Percentile Test', top_page_id=None, parent_page_id=None, is_locked=None, collections=[], owners=[DomoUser(id='1898323170', display_name='Creed Smith', email_address='creed.smith@domo.com', role_id=2, department=None, title=None, avatar_key=None, phone_number=None, web_landing_page=None, web_mobile_landing_page=None, employee_id=None, employee_number=None, hire_date=None, reports_to=None, publisher_domain=None, subscriber_domain=None, virtual_user_id=None, custom_attributes={})], cards=[], custom_attributes={}, layout={}),\n",
       " DomoPage(id=1239400587, title='DEV', top_page_id=None, parent_page_id=None, is_locked=None, collections=[], owners=[DomoUser(id='1893952720', display_name='Jae Wilson1', email_address='jae@onyxreporting.com', role_id=810756122, department=None, title=None, avatar_key=None, phone_number=None, web_landing_page=None, web_mobile_landing_page=None, employee_id=None, employee_number=None, hire_date=None, reports_to=None, publisher_domain=None, subscriber_domain=None, virtual_user_id=None, custom_attributes={})], cards=[], custom_attributes={}, layout={}),\n",
       " DomoPage(id=423813863, title='delete_prod me', top_page_id=None, parent_page_id=None, is_locked=None, collections=[], owners=[DomoUser(id='1893952720', display_name='Jae Wilson1', email_address='jae@onyxreporting.com', role_id=810756122, department=None, title=None, avatar_key=None, phone_number=None, web_landing_page=None, web_mobile_landing_page=None, employee_id=None, employee_number=None, hire_date=None, reports_to=None, publisher_domain=None, subscriber_domain=None, virtual_user_id=None, custom_attributes={})], cards=[], custom_attributes={}, layout={}),\n",
       " DomoPage(id=138471350, title='Virtual User Group', top_page_id=None, parent_page_id=None, is_locked=None, collections=[], owners=[DomoUser(id='55874022', display_name='Grant Smith', email_address='grantsmith@gmail.com', role_id=1, department=None, title=None, avatar_key=None, phone_number=None, web_landing_page=None, web_mobile_landing_page=None, employee_id=None, employee_number=None, hire_date=None, reports_to=None, publisher_domain=None, subscriber_domain=None, virtual_user_id=None, custom_attributes={})], cards=[], custom_attributes={}, layout={}),\n",
       " DomoPage(id=1880852133, title='Domo Variables Use Cases', top_page_id=None, parent_page_id=None, is_locked=None, collections=[], owners=[DomoUser(id='694942127', display_name='Chris Wright', email_address='Chris.Wright@domo.com', role_id=2, department=None, title=None, avatar_key=None, phone_number=None, web_landing_page=None, web_mobile_landing_page=None, employee_id=None, employee_number=None, hire_date=None, reports_to=None, publisher_domain=None, subscriber_domain=None, virtual_user_id=None, custom_attributes={}), DomoUser(id='749054906', display_name='Dan Hendriksen', email_address='Dan.Hendriksen@domo.com', role_id=2, department=None, title=None, avatar_key=None, phone_number=None, web_landing_page=None, web_mobile_landing_page=None, employee_id=None, employee_number=None, hire_date=None, reports_to=None, publisher_domain=None, subscriber_domain=None, virtual_user_id=None, custom_attributes={}), DomoUser(id='1430590895', display_name='David.Wills', email_address='david.wills@domo.com', role_id=1927158482, department=None, title=None, avatar_key=None, phone_number=None, web_landing_page=None, web_mobile_landing_page=None, employee_id=None, employee_number=None, hire_date=None, reports_to=None, publisher_domain=None, subscriber_domain=None, virtual_user_id=None, custom_attributes={}), DomoUser(id='316139172', display_name='Matt Tannyhill', email_address='Matt.Tannyhill@domo.com', role_id=2, department=None, title=None, avatar_key=None, phone_number=None, web_landing_page=None, web_mobile_landing_page=None, employee_id=None, employee_number=None, hire_date=None, reports_to=None, publisher_domain=None, subscriber_domain=None, virtual_user_id=None, custom_attributes={}), DomoUser(id='1548628586', display_name='Mike Zollinger', email_address='mike.zollinger@domo.com', role_id=2, department=None, title=None, avatar_key=None, phone_number=None, web_landing_page=None, web_mobile_landing_page=None, employee_id=None, employee_number=None, hire_date=None, reports_to=None, publisher_domain=None, subscriber_domain=None, virtual_user_id=None, custom_attributes={})], cards=[], custom_attributes={}, layout={}),\n",
       " DomoPage(id=2048834623, title='Course Builder Training Tracking Demo', top_page_id=None, parent_page_id=None, is_locked=None, collections=[], owners=[DomoUser(id='1768567034', display_name='Ashleigh Stevenson', email_address='Ashleigh.Stevenson@caemilusa.com', role_id=2097317660, department=None, title=None, avatar_key=None, phone_number=None, web_landing_page=None, web_mobile_landing_page=None, employee_id=None, employee_number=None, hire_date=None, reports_to=None, publisher_domain=None, subscriber_domain=None, virtual_user_id=None, custom_attributes={})], cards=[], custom_attributes={}, layout={}),\n",
       " DomoPage(id=1559830188, title='Datacrew Meetups', top_page_id=None, parent_page_id=None, is_locked=None, collections=[], owners=[DomoUser(id='1893952720', display_name='Jae Wilson1', email_address='jae@onyxreporting.com', role_id=810756122, department=None, title=None, avatar_key=None, phone_number=None, web_landing_page=None, web_mobile_landing_page=None, employee_id=None, employee_number=None, hire_date=None, reports_to=None, publisher_domain=None, subscriber_domain=None, virtual_user_id=None, custom_attributes={})], cards=[], custom_attributes={}, layout={}),\n",
       " DomoPage(id=754581154, title='DDX Bricks Examples', top_page_id=None, parent_page_id=None, is_locked=None, collections=[], owners=[DomoUser(id='68216396', display_name='Elliott Leonard', email_address='egleonard88@gmail.com', role_id=1, department=None, title=None, avatar_key=None, phone_number=None, web_landing_page=None, web_mobile_landing_page=None, employee_id=None, employee_number=None, hire_date=None, reports_to=None, publisher_domain=None, subscriber_domain=None, virtual_user_id=None, custom_attributes={})], cards=[], custom_attributes={}, layout={}),\n",
       " DomoPage(id=950006533, title='Time Zone Handling', top_page_id=None, parent_page_id=None, is_locked=None, collections=[], owners=[DomoUser(id='1345408759', display_name='Alexis Lorenz (DataMaven)', email_address='DataMaven42@gmail.com', role_id=1, department=None, title=None, avatar_key=None, phone_number=None, web_landing_page=None, web_mobile_landing_page=None, employee_id=None, employee_number=None, hire_date=None, reports_to=None, publisher_domain=None, subscriber_domain=None, virtual_user_id=None, custom_attributes={})], cards=[], custom_attributes={}, layout={}),\n",
       " DomoPage(id=429731019, title='Overview Dashboard (EXAMPLE)', top_page_id=None, parent_page_id=None, is_locked=None, collections=[], owners=[DomoUser(id='68216396', display_name='Elliott Leonard', email_address='egleonard88@gmail.com', role_id=1, department=None, title=None, avatar_key=None, phone_number=None, web_landing_page=None, web_mobile_landing_page=None, employee_id=None, employee_number=None, hire_date=None, reports_to=None, publisher_domain=None, subscriber_domain=None, virtual_user_id=None, custom_attributes={})], cards=[], custom_attributes={}, layout={}),\n",
       " DomoPage(id=746348664, title='Snowflake Dashboard', top_page_id=None, parent_page_id=None, is_locked=None, collections=[], owners=[DomoUser(id='68216396', display_name='Elliott Leonard', email_address='egleonard88@gmail.com', role_id=1, department=None, title=None, avatar_key=None, phone_number=None, web_landing_page=None, web_mobile_landing_page=None, employee_id=None, employee_number=None, hire_date=None, reports_to=None, publisher_domain=None, subscriber_domain=None, virtual_user_id=None, custom_attributes={})], cards=[], custom_attributes={}, layout={}),\n",
       " DomoPage(id=1144548940, title='New Feature Releases', top_page_id=None, parent_page_id=None, is_locked=None, collections=[], owners=[DomoUser(id='1345408759', display_name='Alexis Lorenz (DataMaven)', email_address='DataMaven42@gmail.com', role_id=1, department=None, title=None, avatar_key=None, phone_number=None, web_landing_page=None, web_mobile_landing_page=None, employee_id=None, employee_number=None, hire_date=None, reports_to=None, publisher_domain=None, subscriber_domain=None, virtual_user_id=None, custom_attributes={})], cards=[], custom_attributes={}, layout={}),\n",
       " DomoPage(id=96678585, title='Hidden Gem Cards', top_page_id=None, parent_page_id=None, is_locked=None, collections=[], owners=[DomoUser(id='68216396', display_name='Elliott Leonard', email_address='egleonard88@gmail.com', role_id=1, department=None, title=None, avatar_key=None, phone_number=None, web_landing_page=None, web_mobile_landing_page=None, employee_id=None, employee_number=None, hire_date=None, reports_to=None, publisher_domain=None, subscriber_domain=None, virtual_user_id=None, custom_attributes={})], cards=[], custom_attributes={}, layout={}),\n",
       " DomoPage(id=1007334884, title='Interactive Mapbox Markers Brick', top_page_id=None, parent_page_id=None, is_locked=None, collections=[], owners=[DomoUser(id='1893952720', display_name='Jae Wilson1', email_address='jae@onyxreporting.com', role_id=810756122, department=None, title=None, avatar_key=None, phone_number=None, web_landing_page=None, web_mobile_landing_page=None, employee_id=None, employee_number=None, hire_date=None, reports_to=None, publisher_domain=None, subscriber_domain=None, virtual_user_id=None, custom_attributes={})], cards=[], custom_attributes={}, layout={}),\n",
       " DomoPage(id=2147023786, title='Mapbox Markers Map', top_page_id=None, parent_page_id=None, is_locked=None, collections=[], owners=[DomoUser(id='699075231', display_name='Mark Snodgrass', email_address='msnodgrass@nlcmutual.com', role_id=2097317660, department=None, title=None, avatar_key=None, phone_number=None, web_landing_page=None, web_mobile_landing_page=None, employee_id=None, employee_number=None, hire_date=None, reports_to=None, publisher_domain=None, subscriber_domain=None, virtual_user_id=None, custom_attributes={})], cards=[], custom_attributes={}, layout={}),\n",
       " DomoPage(id=1910242641, title='Games!', top_page_id=None, parent_page_id=None, is_locked=None, collections=[], owners=[DomoUser(id='55874022', display_name='Grant Smith', email_address='grantsmith@gmail.com', role_id=1, department=None, title=None, avatar_key=None, phone_number=None, web_landing_page=None, web_mobile_landing_page=None, employee_id=None, employee_number=None, hire_date=None, reports_to=None, publisher_domain=None, subscriber_domain=None, virtual_user_id=None, custom_attributes={})], cards=[], custom_attributes={}, layout={}),\n",
       " DomoPage(id=1450021064, title='Example Sales', top_page_id=None, parent_page_id=None, is_locked=None, collections=[], owners=[DomoUser(id='68216396', display_name='Elliott Leonard', email_address='egleonard88@gmail.com', role_id=1, department=None, title=None, avatar_key=None, phone_number=None, web_landing_page=None, web_mobile_landing_page=None, employee_id=None, employee_number=None, hire_date=None, reports_to=None, publisher_domain=None, subscriber_domain=None, virtual_user_id=None, custom_attributes={})], cards=[], custom_attributes={}, layout={}),\n",
       " DomoPage(id=595708801, title='Oleksii_DDX', top_page_id=None, parent_page_id=None, is_locked=None, collections=[], owners=[DomoUser(id='612085674', display_name='Oleksii Zakrevskyi', email_address='zakrevskyi@gmail.com', role_id=810756122, department=None, title=None, avatar_key=None, phone_number=None, web_landing_page=None, web_mobile_landing_page=None, employee_id=None, employee_number=None, hire_date=None, reports_to=None, publisher_domain=None, subscriber_domain=None, virtual_user_id=None, custom_attributes={})], cards=[], custom_attributes={}, layout={}),\n",
       " DomoPage(id=1770373204, title='AI Example - ChatGPT Text-to-SQL Query Brick', top_page_id=None, parent_page_id=None, is_locked=None, collections=[], owners=[DomoUser(id='617808774', display_name='Richard Carey', email_address='Richard.Carey@domo.com', role_id=1, department=None, title=None, avatar_key=None, phone_number=None, web_landing_page=None, web_mobile_landing_page=None, employee_id=None, employee_number=None, hire_date=None, reports_to=None, publisher_domain=None, subscriber_domain=None, virtual_user_id=None, custom_attributes={})], cards=[], custom_attributes={}, layout={}),\n",
       " DomoPage(id=980318001, title='Customers - All', top_page_id=None, parent_page_id=None, is_locked=None, collections=[], owners=[DomoUser(id='68216396', display_name='Elliott Leonard', email_address='egleonard88@gmail.com', role_id=1, department=None, title=None, avatar_key=None, phone_number=None, web_landing_page=None, web_mobile_landing_page=None, employee_id=None, employee_number=None, hire_date=None, reports_to=None, publisher_domain=None, subscriber_domain=None, virtual_user_id=None, custom_attributes={})], cards=[], custom_attributes={}, layout={})]"
      ]
     },
     "execution_count": 18,
     "metadata": {},
     "output_type": "execute_result"
    }
   ],
   "source": [
    "import os\n",
    "import pandas as pd\n",
    "\n",
    "full_auth = dmda.DomoFullAuth(\n",
    "    domo_instance=\"domo-community\",\n",
    "    domo_password=os.environ[\"DOJO_PASSWORD\"],\n",
    "    domo_username=os.environ[\"DOMO_USERNAME\"],\n",
    ")\n",
    "\n",
    "bs = DomoBootstrap(auth=full_auth)\n",
    "\n",
    "page_ls = await bs.get_pages(return_raw=False, debug_api=False)\n",
    "\n",
    "page_ls\n",
    "# pd.DataFrame(page_ls[10:14]).drop(columns=[\"auth\"])"
   ]
  },
  {
   "cell_type": "code",
   "execution_count": 11,
   "metadata": {},
   "outputs": [],
   "source": [
    "# | exporti\n",
    "@patch_to(DomoBootstrap)\n",
    "async def get_features(\n",
    "    self: DomoBootstrap,\n",
    "    auth: dmda.DomoAuth = None,\n",
    "    debug_api: bool = False,\n",
    "    return_raw: bool = False,\n",
    "    debug_num_stacks_to_drop=2,\n",
    "    session: httpx.AsyncClient = None,\n",
    "):\n",
    "    auth = auth or self.auth\n",
    "\n",
    "    res = await bootstrap_routes.get_bootstrap_features(\n",
    "        auth=auth,\n",
    "        session=session,\n",
    "        debug_api=debug_api,\n",
    "        return_raw=return_raw,\n",
    "        debug_num_stacks_to_drop=debug_num_stacks_to_drop,\n",
    "        parent_class=self.__class__.__name__,\n",
    "    )\n",
    "\n",
    "    if return_raw:\n",
    "        return res\n",
    "\n",
    "    feature_list = [\n",
    "        DomoBootstrap_Feature._from_json_bootstrap(json_obj)\n",
    "        for json_obj in res.response\n",
    "    ]\n",
    "\n",
    "    return feature_list"
   ]
  },
  {
   "cell_type": "code",
   "execution_count": 12,
   "metadata": {},
   "outputs": [
    {
     "data": {
      "text/html": [
       "<div>\n",
       "<style scoped>\n",
       "    .dataframe tbody tr th:only-of-type {\n",
       "        vertical-align: middle;\n",
       "    }\n",
       "\n",
       "    .dataframe tbody tr th {\n",
       "        vertical-align: top;\n",
       "    }\n",
       "\n",
       "    .dataframe thead th {\n",
       "        text-align: right;\n",
       "    }\n",
       "</style>\n",
       "<table border=\"1\" class=\"dataframe\">\n",
       "  <thead>\n",
       "    <tr style=\"text-align: right;\">\n",
       "      <th></th>\n",
       "      <th>id</th>\n",
       "      <th>name</th>\n",
       "      <th>label</th>\n",
       "      <th>type</th>\n",
       "      <th>purchased</th>\n",
       "      <th>enabled</th>\n",
       "    </tr>\n",
       "  </thead>\n",
       "  <tbody>\n",
       "    <tr>\n",
       "      <th>0</th>\n",
       "      <td>3440</td>\n",
       "      <td>admin-pages</td>\n",
       "      <td></td>\n",
       "      <td>PREMIUM</td>\n",
       "      <td>True</td>\n",
       "      <td>True</td>\n",
       "    </tr>\n",
       "    <tr>\n",
       "      <th>1</th>\n",
       "      <td>3441</td>\n",
       "      <td>admin-slideshows</td>\n",
       "      <td></td>\n",
       "      <td>PREMIUM</td>\n",
       "      <td>True</td>\n",
       "      <td>True</td>\n",
       "    </tr>\n",
       "    <tr>\n",
       "      <th>2</th>\n",
       "      <td>3442</td>\n",
       "      <td>admin-access-rights</td>\n",
       "      <td></td>\n",
       "      <td>PREMIUM</td>\n",
       "      <td>True</td>\n",
       "      <td>True</td>\n",
       "    </tr>\n",
       "    <tr>\n",
       "      <th>3</th>\n",
       "      <td>3443</td>\n",
       "      <td>admin-tool-downloads</td>\n",
       "      <td></td>\n",
       "      <td>PREMIUM</td>\n",
       "      <td>True</td>\n",
       "      <td>True</td>\n",
       "    </tr>\n",
       "  </tbody>\n",
       "</table>\n",
       "</div>"
      ],
      "text/plain": [
       "     id                  name label     type  purchased  enabled\n",
       "0  3440           admin-pages        PREMIUM       True     True\n",
       "1  3441      admin-slideshows        PREMIUM       True     True\n",
       "2  3442   admin-access-rights        PREMIUM       True     True\n",
       "3  3443  admin-tool-downloads        PREMIUM       True     True"
      ]
     },
     "execution_count": 12,
     "metadata": {},
     "output_type": "execute_result"
    }
   ],
   "source": [
    "import os\n",
    "import pandas as pd\n",
    "\n",
    "full_auth = dmda.DomoFullAuth(\n",
    "    domo_instance=\"domo-community\",\n",
    "    domo_password=os.environ[\"DOJO_PASSWORD\"],\n",
    "    domo_username=os.environ[\"DOMO_USERNAME\"],\n",
    ")\n",
    "\n",
    "bs = DomoBootstrap(auth=full_auth)\n",
    "\n",
    "feature_ls = await bs.get_features(return_raw=False, debug_api=False)\n",
    "\n",
    "pd.DataFrame(feature_ls[10:14])"
   ]
  },
  {
   "cell_type": "code",
   "execution_count": 13,
   "metadata": {},
   "outputs": [],
   "source": [
    "# | exporti\n",
    "@patch_to(DomoBootstrap)\n",
    "async def is_group_ownership_beta(\n",
    "    self, debug_api: bool = False, return_raw: bool = False\n",
    "):\n",
    "    domo_feature_ls = await self.get_features(\n",
    "        return_raw=return_raw, debug_api=debug_api, debug_num_stacks_to_drop=3\n",
    "    )\n",
    "\n",
    "    if return_raw:\n",
    "        return domo_feature_ls\n",
    "\n",
    "    match_accounts_v2 = next(\n",
    "        (\n",
    "            domo_feature\n",
    "            for domo_feature in domo_feature_ls\n",
    "            if domo_feature.name == \"accounts-v2\"\n",
    "        ),\n",
    "        None,\n",
    "    )\n",
    "\n",
    "    return True if match_accounts_v2 else False"
   ]
  },
  {
   "cell_type": "code",
   "execution_count": 14,
   "metadata": {},
   "outputs": [
    {
     "data": {
      "text/plain": [
       "False"
      ]
     },
     "execution_count": 14,
     "metadata": {},
     "output_type": "execute_result"
    }
   ],
   "source": [
    "import os\n",
    "import pandas as pd\n",
    "\n",
    "full_auth = dmda.DomoFullAuth(\n",
    "    domo_instance=\"domo-community\",\n",
    "    domo_password=os.environ[\"DOJO_PASSWORD\"],\n",
    "    domo_username=os.environ[\"DOMO_USERNAME\"],\n",
    ")\n",
    "\n",
    "bs = DomoBootstrap(auth=full_auth)\n",
    "\n",
    "await bs.is_group_ownership_beta(debug_api=False)"
   ]
  },
  {
   "cell_type": "code",
   "execution_count": 1,
   "metadata": {},
   "outputs": [
    {
     "name": "stdout",
     "output_type": "stream",
     "text": [
      "All done! ✨ 🍰 ✨\n",
      "1 file left unchanged.\n"
     ]
    }
   ],
   "source": [
    "# | hide\n",
    "import nbdev\n",
    "\n",
    "nbdev.nbdev_export()\n",
    "!nbqa black 50_DomoBootstrap.ipynb"
   ]
  }
 ],
 "metadata": {
  "jupytext": {
   "split_at_heading": true
  },
  "kernelspec": {
   "display_name": "python3",
   "language": "python",
   "name": "python3"
  },
  "language_info": {
   "codemirror_mode": {
    "name": "ipython",
    "version": 3
   },
   "file_extension": ".py",
   "mimetype": "text/x-python",
   "name": "python",
   "nbconvert_exporter": "python",
   "pygments_lexer": "ipython3",
   "version": "3.10.8"
  }
 },
 "nbformat": 4,
 "nbformat_minor": 4
}
