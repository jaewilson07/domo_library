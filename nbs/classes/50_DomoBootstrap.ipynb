{
 "cells": [
  {
   "cell_type": "raw",
   "metadata": {},
   "source": [
    "---\n",
    "output-file: bootstrap_class.html\n",
    "title: Bootstrap\n",
    "---\n",
    "\n"
   ]
  },
  {
   "cell_type": "code",
   "execution_count": null,
   "metadata": {},
   "outputs": [],
   "source": [
    "# | default_exp classes.DomoBootstrap\n"
   ]
  },
  {
   "cell_type": "code",
   "execution_count": null,
   "metadata": {},
   "outputs": [],
   "source": [
    "# | exporti\n",
    "from dataclasses import dataclass, field\n",
    "from fastcore.basics import patch_to\n",
    "import httpx\n",
    "import asyncio\n",
    "\n",
    "import domolibrary.classes.DomoPage as dmpg\n",
    "\n",
    "import domolibrary.utils.DictDot as util_dd\n",
    "import domolibrary.client.DomoAuth as dmda\n",
    "import domolibrary.client.DomoError as de\n",
    "import domolibrary.routes.bootstrap as bootstrap_routes\n",
    "import domolibrary.utils.chunk_execution as ce\n"
   ]
  },
  {
   "cell_type": "code",
   "execution_count": null,
   "metadata": {},
   "outputs": [],
   "source": [
    "# | export\n",
    "@dataclass\n",
    "class DomoBootstrap_Feature:\n",
    "    id: int\n",
    "    name: str\n",
    "    label: str\n",
    "    type: str\n",
    "    purchased: bool\n",
    "    enabled: bool\n",
    "\n",
    "    @classmethod\n",
    "    def _from_json_bootstrap(cls, json_obj: dict):\n",
    "        dd = util_dd.DictDot(json_obj)\n",
    "\n",
    "        bsf = cls(\n",
    "            id=dd.id,\n",
    "            name=dd.name,\n",
    "            label=dd.label,\n",
    "            type=dd.type,\n",
    "            purchased=dd.purchased,\n",
    "            enabled=dd.enabled,\n",
    "        )\n",
    "        return bsf\n"
   ]
  },
  {
   "cell_type": "code",
   "execution_count": null,
   "metadata": {},
   "outputs": [],
   "source": [
    "# | export\n",
    "@dataclass\n",
    "class DomoBootstrap:\n",
    "    auth: dmda.DomoAuth = field(repr=False)\n",
    "    bootstrap: dict = field(default=None)\n",
    "    customer_id: str = None\n",
    "    page_ls: list[dmpg.DomoPage] = field(default=None)\n",
    "    feature_ls: list[DomoBootstrap_Feature] = field(default=None)"
   ]
  },
  {
   "cell_type": "code",
   "execution_count": null,
   "metadata": {},
   "outputs": [],
   "source": [
    "# | export\n",
    "class Bootstrap_RetrievalError(de.DomoError):\n",
    "    def __init__(self, status, response, domo_instance):\n",
    "        super().__init__(status=status, response=response, domo_instance=domo_instance)\n",
    "\n",
    "\n",
    "@patch_to(DomoBootstrap)\n",
    "async def get_all(\n",
    "    self: DomoBootstrap, \n",
    "    auth: dmda.DomoFullAuth = None, \n",
    "    debug_api: bool = False\n",
    "):\n",
    "    auth = auth or self.auth\n",
    "\n",
    "    res = await bootstrap_routes.get_bootstrap(auth=auth, debug_api=debug_api)\n",
    "\n",
    "    if not res.is_success:\n",
    "        raise Bootstrap_RetrievalError(\n",
    "            status=res.status, response=res.response, domo_instance=auth.domo_instance\n",
    "        )\n",
    "\n",
    "    self.bootstrap = res.response\n",
    "\n",
    "    return res.response\n"
   ]
  },
  {
   "attachments": {},
   "cell_type": "markdown",
   "metadata": {},
   "source": [
    "#### sample implementation of get_all\n"
   ]
  },
  {
   "cell_type": "code",
   "execution_count": null,
   "metadata": {},
   "outputs": [
    {
     "data": {
      "text/plain": [
       "dict_keys(['landingPageId', 'favorites', 'pages', 'conf', 'analytics', 'brandKit', 'environmentId', 'features', 'authorities', 'customerHash', 'locale', 'isWhitelabeled', 'isCustomerWhitelabeled', 'isFullWhitelabeled', 'trialEndDate', 'trialContactPhone', 'whitelabeledProductName', 'userAnonymous', 'userIsProxied', 'domoappsDomain', 'customerTier', 'companyTimeZone', 'disableAutoRefresh', 'wasTrial', 'buzzSignup', 'authorizedAppDomains', 'isDomoAppDomainWhitelistEnabled', 'configProperties', 'domoPublicUrl', 'advancedColorControls', 'gettingStartedPageEnabled', 'landingEntities', 'isSignupSingleSolutionInstance', 'signupApp', 'cardPageMaxConcurrentRenders', 'version'])"
      ]
     },
     "execution_count": null,
     "metadata": {},
     "output_type": "execute_result"
    }
   ],
   "source": [
    "import os\n",
    "\n",
    "full_auth = dmda.DomoFullAuth(\n",
    "    domo_instance=\"domo-community\",\n",
    "    domo_password=os.environ[\"DOJO_PASSWORD\"],\n",
    "    domo_username=os.environ[\"DOMO_USERNAME\"],\n",
    ")\n",
    "\n",
    "bs = DomoBootstrap(auth=full_auth)\n",
    "\n",
    "await bs.get_all()\n",
    "\n",
    "bs.bootstrap[\"data\"].keys()\n"
   ]
  },
  {
   "cell_type": "code",
   "execution_count": null,
   "metadata": {},
   "outputs": [],
   "source": [
    "# |exporti\n",
    "@patch_to(\n",
    "    DomoBootstrap,\n",
    ")\n",
    "async def get_customer_id(self: DomoBootstrap, auth: dmda.DomoFullAuth = None):\n",
    "    await self.get_all(auth=auth or self.auth)\n",
    "\n",
    "    self.customer_id = self.bootstrap[\"currentUser\"][\"USER_GROUP\"]\n",
    "    return self.customer_id"
   ]
  },
  {
   "cell_type": "markdown",
   "metadata": {},
   "source": [
    "#### sample implementation of get_customer_id\n"
   ]
  },
  {
   "cell_type": "code",
   "execution_count": null,
   "metadata": {},
   "outputs": [
    {
     "data": {
      "text/plain": [
       "'mmmm-0012-0200'"
      ]
     },
     "execution_count": null,
     "metadata": {},
     "output_type": "execute_result"
    }
   ],
   "source": [
    "import os\n",
    "import pandas as pd\n",
    "\n",
    "full_auth = dmda.DomoFullAuth(\n",
    "    domo_instance=\"domo-community\",\n",
    "    domo_password=os.environ[\"DOJO_PASSWORD\"],\n",
    "    domo_username=os.environ[\"DOMO_USERNAME\"],\n",
    ")\n",
    "\n",
    "bs = DomoBootstrap(auth=full_auth)\n",
    "\n",
    "await bs.get_customer_id()\n"
   ]
  },
  {
   "cell_type": "code",
   "execution_count": null,
   "metadata": {},
   "outputs": [],
   "source": [
    "# | exporti\n",
    "@patch_to(DomoBootstrap)\n",
    "async def get_pages(\n",
    "    self: DomoBootstrap,\n",
    "    auth: dmda.DomoFullAuth = None,\n",
    "    return_raw: bool = False,\n",
    "    debug_api: bool = False,\n",
    ") -> list[dmpg.DomoPage]:\n",
    "    auth = auth or self.auth\n",
    "\n",
    "    res = await bootstrap_routes.get_bootstrap_pages(auth=auth, debug_api=debug_api)\n",
    "\n",
    "    if return_raw:\n",
    "        return res.response\n",
    "\n",
    "    if not res.is_success:\n",
    "        return None\n",
    "\n",
    "    page_ls = res.response\n",
    "\n",
    "    self.page_ls = await ce.gather_with_concurrency(n = 60,\n",
    "        *[dmpg.DomoPage._from_bootstrap(page_obj, auth=auth) for page_obj in page_ls]\n",
    "    )\n",
    "\n",
    "    return self.page_ls\n"
   ]
  },
  {
   "attachments": {},
   "cell_type": "markdown",
   "metadata": {},
   "source": [
    "#### sample implementation of get_pages\n"
   ]
  },
  {
   "cell_type": "code",
   "execution_count": null,
   "metadata": {},
   "outputs": [
    {
     "data": {
      "text/html": [
       "<div>\n",
       "<style scoped>\n",
       "    .dataframe tbody tr th:only-of-type {\n",
       "        vertical-align: middle;\n",
       "    }\n",
       "\n",
       "    .dataframe tbody tr th {\n",
       "        vertical-align: top;\n",
       "    }\n",
       "\n",
       "    .dataframe thead th {\n",
       "        text-align: right;\n",
       "    }\n",
       "</style>\n",
       "<table border=\"1\" class=\"dataframe\">\n",
       "  <thead>\n",
       "    <tr style=\"text-align: right;\">\n",
       "      <th></th>\n",
       "      <th>id</th>\n",
       "      <th>title</th>\n",
       "      <th>parent_page_id</th>\n",
       "      <th>top_page_id</th>\n",
       "      <th>owners</th>\n",
       "      <th>cards</th>\n",
       "      <th>collections</th>\n",
       "      <th>children</th>\n",
       "      <th>is_locked</th>\n",
       "      <th>layout</th>\n",
       "    </tr>\n",
       "  </thead>\n",
       "  <tbody>\n",
       "    <tr>\n",
       "      <th>0</th>\n",
       "      <td>790951325</td>\n",
       "      <td>Coronavirus (COVID-19) Dashboard</td>\n",
       "      <td>None</td>\n",
       "      <td>None</td>\n",
       "      <td>[{'id': '1345408759', 'title': None, 'departme...</td>\n",
       "      <td>[]</td>\n",
       "      <td>[]</td>\n",
       "      <td>[{'id': '1289295627', 'title': 'Dataset Schema...</td>\n",
       "      <td>None</td>\n",
       "      <td>None</td>\n",
       "    </tr>\n",
       "    <tr>\n",
       "      <th>1</th>\n",
       "      <td>1891382078</td>\n",
       "      <td>Fun Stuff</td>\n",
       "      <td>None</td>\n",
       "      <td>None</td>\n",
       "      <td>[{'id': '1345408759', 'title': None, 'departme...</td>\n",
       "      <td>[]</td>\n",
       "      <td>[]</td>\n",
       "      <td>[{'id': '1124898205', 'title': 'Quotes', 'pare...</td>\n",
       "      <td>None</td>\n",
       "      <td>None</td>\n",
       "    </tr>\n",
       "    <tr>\n",
       "      <th>2</th>\n",
       "      <td>545237196</td>\n",
       "      <td>Demo Apps</td>\n",
       "      <td>None</td>\n",
       "      <td>None</td>\n",
       "      <td>[{'id': '826020125', 'title': None, 'departmen...</td>\n",
       "      <td>[]</td>\n",
       "      <td>[]</td>\n",
       "      <td>[]</td>\n",
       "      <td>None</td>\n",
       "      <td>None</td>\n",
       "    </tr>\n",
       "    <tr>\n",
       "      <th>3</th>\n",
       "      <td>400620119</td>\n",
       "      <td>Data Science Workshop</td>\n",
       "      <td>None</td>\n",
       "      <td>None</td>\n",
       "      <td>[{'id': '1504505648', 'title': None, 'departme...</td>\n",
       "      <td>[]</td>\n",
       "      <td>[]</td>\n",
       "      <td>[]</td>\n",
       "      <td>None</td>\n",
       "      <td>None</td>\n",
       "    </tr>\n",
       "  </tbody>\n",
       "</table>\n",
       "</div>"
      ],
      "text/plain": [
       "           id                             title parent_page_id top_page_id  \\\n",
       "0   790951325  Coronavirus (COVID-19) Dashboard           None        None   \n",
       "1  1891382078                         Fun Stuff           None        None   \n",
       "2   545237196                         Demo Apps           None        None   \n",
       "3   400620119             Data Science Workshop           None        None   \n",
       "\n",
       "                                              owners cards collections  \\\n",
       "0  [{'id': '1345408759', 'title': None, 'departme...    []          []   \n",
       "1  [{'id': '1345408759', 'title': None, 'departme...    []          []   \n",
       "2  [{'id': '826020125', 'title': None, 'departmen...    []          []   \n",
       "3  [{'id': '1504505648', 'title': None, 'departme...    []          []   \n",
       "\n",
       "                                            children is_locked layout  \n",
       "0  [{'id': '1289295627', 'title': 'Dataset Schema...      None   None  \n",
       "1  [{'id': '1124898205', 'title': 'Quotes', 'pare...      None   None  \n",
       "2                                                 []      None   None  \n",
       "3                                                 []      None   None  "
      ]
     },
     "execution_count": null,
     "metadata": {},
     "output_type": "execute_result"
    }
   ],
   "source": [
    "import os\n",
    "import pandas as pd\n",
    "\n",
    "full_auth = dmda.DomoFullAuth(\n",
    "    domo_instance=\"domo-community\",\n",
    "    domo_password=os.environ[\"DOJO_PASSWORD\"],\n",
    "    domo_username=os.environ[\"DOMO_USERNAME\"],\n",
    ")\n",
    "\n",
    "bs = DomoBootstrap(auth=full_auth)\n",
    "\n",
    "page_ls = await bs.get_pages(return_raw=False)\n",
    "\n",
    "# bs.page_ls\n",
    "pd.DataFrame(page_ls[10:14]).drop(columns=[\"auth\"])\n"
   ]
  },
  {
   "cell_type": "code",
   "execution_count": null,
   "metadata": {},
   "outputs": [],
   "source": [
    "# | exporti\n",
    "@patch_to(DomoBootstrap)\n",
    "async def get_features(\n",
    "    self: DomoBootstrap,\n",
    "    auth: dmda.DomoAuth = None,\n",
    "    debug_api: bool = False,\n",
    "    return_raw: bool = False,\n",
    "    session: httpx.AsyncClient = None,\n",
    "):\n",
    "    auth = auth or self.auth\n",
    "\n",
    "    res = await bootstrap_routes.get_bootstrap_features(\n",
    "        auth=auth, session=session, debug_api=debug_api, return_raw=return_raw\n",
    "    )\n",
    "\n",
    "    if return_raw:\n",
    "        return res\n",
    "\n",
    "    feature_list = [\n",
    "        DomoBootstrap_Feature._from_json_bootstrap(json_obj)\n",
    "        for json_obj in res.response\n",
    "    ]\n",
    "\n",
    "    return feature_list\n"
   ]
  },
  {
   "cell_type": "code",
   "execution_count": null,
   "metadata": {},
   "outputs": [
    {
     "data": {
      "text/html": [
       "<div>\n",
       "<style scoped>\n",
       "    .dataframe tbody tr th:only-of-type {\n",
       "        vertical-align: middle;\n",
       "    }\n",
       "\n",
       "    .dataframe tbody tr th {\n",
       "        vertical-align: top;\n",
       "    }\n",
       "\n",
       "    .dataframe thead th {\n",
       "        text-align: right;\n",
       "    }\n",
       "</style>\n",
       "<table border=\"1\" class=\"dataframe\">\n",
       "  <thead>\n",
       "    <tr style=\"text-align: right;\">\n",
       "      <th></th>\n",
       "      <th>id</th>\n",
       "      <th>name</th>\n",
       "      <th>label</th>\n",
       "      <th>type</th>\n",
       "      <th>purchased</th>\n",
       "      <th>enabled</th>\n",
       "    </tr>\n",
       "  </thead>\n",
       "  <tbody>\n",
       "    <tr>\n",
       "      <th>0</th>\n",
       "      <td>3440</td>\n",
       "      <td>admin-pages</td>\n",
       "      <td></td>\n",
       "      <td>PREMIUM</td>\n",
       "      <td>True</td>\n",
       "      <td>True</td>\n",
       "    </tr>\n",
       "    <tr>\n",
       "      <th>1</th>\n",
       "      <td>3441</td>\n",
       "      <td>admin-slideshows</td>\n",
       "      <td></td>\n",
       "      <td>PREMIUM</td>\n",
       "      <td>True</td>\n",
       "      <td>True</td>\n",
       "    </tr>\n",
       "    <tr>\n",
       "      <th>2</th>\n",
       "      <td>3442</td>\n",
       "      <td>admin-access-rights</td>\n",
       "      <td></td>\n",
       "      <td>PREMIUM</td>\n",
       "      <td>True</td>\n",
       "      <td>True</td>\n",
       "    </tr>\n",
       "    <tr>\n",
       "      <th>3</th>\n",
       "      <td>3443</td>\n",
       "      <td>admin-tool-downloads</td>\n",
       "      <td></td>\n",
       "      <td>PREMIUM</td>\n",
       "      <td>True</td>\n",
       "      <td>True</td>\n",
       "    </tr>\n",
       "  </tbody>\n",
       "</table>\n",
       "</div>"
      ],
      "text/plain": [
       "     id                  name label     type  purchased  enabled\n",
       "0  3440           admin-pages        PREMIUM       True     True\n",
       "1  3441      admin-slideshows        PREMIUM       True     True\n",
       "2  3442   admin-access-rights        PREMIUM       True     True\n",
       "3  3443  admin-tool-downloads        PREMIUM       True     True"
      ]
     },
     "execution_count": null,
     "metadata": {},
     "output_type": "execute_result"
    }
   ],
   "source": [
    "import os\n",
    "import pandas as pd\n",
    "\n",
    "full_auth = dmda.DomoFullAuth(\n",
    "    domo_instance=\"domo-community\",\n",
    "    domo_password=os.environ[\"DOJO_PASSWORD\"],\n",
    "    domo_username=os.environ[\"DOMO_USERNAME\"],\n",
    ")\n",
    "\n",
    "bs = DomoBootstrap(auth=full_auth)\n",
    "\n",
    "feature_ls = await bs.get_features(return_raw=False)\n",
    "\n",
    "pd.DataFrame(feature_ls[10:14])\n"
   ]
  },
  {
   "cell_type": "code",
   "execution_count": null,
   "metadata": {},
   "outputs": [],
   "source": [
    "# | exporti\n",
    "@patch_to(DomoBootstrap)\n",
    "async def is_group_ownership_beta(self, return_raw: bool = False):\n",
    "    domo_feature_ls = await self.get_features(return_raw=return_raw)\n",
    "\n",
    "    if return_raw:\n",
    "        return domo_feature_ls\n",
    "\n",
    "    match_accounts_v2 = next(\n",
    "        (\n",
    "            domo_feature\n",
    "            for domo_feature in domo_feature_ls\n",
    "            if domo_feature.name == \"accounts-v2\"\n",
    "        ),\n",
    "        None,\n",
    "    )\n",
    "\n",
    "    return True if match_accounts_v2 else False\n"
   ]
  },
  {
   "cell_type": "code",
   "execution_count": null,
   "metadata": {},
   "outputs": [
    {
     "data": {
      "text/plain": [
       "False"
      ]
     },
     "execution_count": null,
     "metadata": {},
     "output_type": "execute_result"
    }
   ],
   "source": [
    "import os\n",
    "import pandas as pd\n",
    "\n",
    "full_auth = dmda.DomoFullAuth(\n",
    "    domo_instance=\"domo-community\",\n",
    "    domo_password=os.environ[\"DOJO_PASSWORD\"],\n",
    "    domo_username=os.environ[\"DOMO_USERNAME\"],\n",
    ")\n",
    "\n",
    "bs = DomoBootstrap(auth=full_auth)\n",
    "await bs.is_group_ownership_beta()\n"
   ]
  },
  {
   "cell_type": "code",
   "execution_count": null,
   "metadata": {},
   "outputs": [],
   "source": [
    "# | hide\n",
    "import nbdev\n",
    "\n",
    "nbdev.nbdev_export()\n"
   ]
  }
 ],
 "metadata": {
  "jupytext": {
   "split_at_heading": true
  },
  "kernelspec": {
   "display_name": "python3",
   "language": "python",
   "name": "python3"
  }
 },
 "nbformat": 4,
 "nbformat_minor": 4
}
