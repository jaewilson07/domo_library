{
 "cells": [
  {
   "cell_type": "raw",
   "metadata": {},
   "source": [
    "---\n",
    "output-file: page_class.html\n",
    "title: Page\n",
    "---"
   ]
  },
  {
   "cell_type": "code",
   "execution_count": null,
   "metadata": {},
   "outputs": [],
   "source": [
    "# | default_exp classes.DomoPage\n"
   ]
  },
  {
   "cell_type": "code",
   "execution_count": null,
   "metadata": {},
   "outputs": [],
   "source": [
    "# |export\n",
    "from fastcore.basics import patch_to"
   ]
  },
  {
   "cell_type": "code",
   "execution_count": null,
   "metadata": {},
   "outputs": [],
   "source": [
    "# | exporti\n",
    "from dataclasses import dataclass, field\n",
    "\n",
    "# import asyncio\n",
    "# import httpx\n",
    "\n",
    "import domolibrary.client.DomoAuth as dmda\n",
    "import domolibrary.classes.DomoUser as dmdu\n",
    "import domolibrary.utils.DictDot as util_dd\n",
    "\n",
    "# from .routes import page_routes\n",
    "# from ..utils.Base import Base"
   ]
  },
  {
   "cell_type": "code",
   "execution_count": null,
   "metadata": {},
   "outputs": [],
   "source": [
    "# | export\n",
    "@dataclass\n",
    "class DomoPage:\n",
    "    id: str\n",
    "    title: str = None\n",
    "    parent_page_id: str = None\n",
    "    auth: dmda.DomoAuth = field(default = None , repr = False)\n",
    "    owners: list = field(default_factory=list)\n",
    "    cards: list = field(default_factory=list)\n",
    "    collections: list = field(default_factory=list)\n",
    "    children: list = field(default_factory=list)\n",
    "\n",
    "    def display_url(self):\n",
    "        return f\"https://{self.auth.domo_instance}.domo.com/page/{self.id}\""
   ]
  },
  {
   "cell_type": "code",
   "execution_count": null,
   "metadata": {},
   "outputs": [],
   "source": [
    "# | export\n",
    "\n",
    "\n",
    "@patch_to(DomoPage, cls_method=True)\n",
    "def _from_bootstrap(cls: DomoPage, page_obj, auth: dmda.DomoAuth = None):\n",
    "\n",
    "    dd = page_obj\n",
    "    if isinstance(page_obj, dict):\n",
    "        dd = util_dd.DictDot(page_obj)\n",
    "\n",
    "    domo_page = cls(id=dd.id, title=dd.title, auth=auth)\n",
    "\n",
    "    if isinstance(dd.owners, list) and len(dd.owners) > 0:\n",
    "        domo_page.owners = [\n",
    "            dmdu.DomoUser._from_bootstrap_json(auth=auth, user_obj=user_dd)\n",
    "            for user_dd in dd.owners\n",
    "            if user_dd.type == 'USER'\n",
    "        ]\n",
    "\n",
    "        [print(other_dd) for other_dd in dd.owners\n",
    "         if other_dd.type != 'USER']\n",
    "\n",
    "    if isinstance(dd.children, list) and len(dd.children) > 0:\n",
    "        domo_page.children = [\n",
    "            cls._from_bootstrap(page_obj=child_dd, auth=auth)\n",
    "            for child_dd in dd.children\n",
    "            if child_dd.type == \"page\"\n",
    "        ]\n",
    "\n",
    "        [print(other_dd) for other_dd in dd.children\n",
    "            if other_dd.type != \"page\"]\n",
    "\n",
    "    return domo_page\n"
   ]
  },
  {
   "cell_type": "code",
   "execution_count": null,
   "metadata": {},
   "outputs": [
    {
     "data": {
      "text/plain": [
       "DomoPage(id='790951325', title='Coronavirus (COVID-19) Dashboard', parent_page_id=None, owners=[DomoUser(id=1345408759, display_name='Alexis Lorenz (DataMaven)', email_address=None, role_id=None, publisher_domain=None, subscriber_domain=None, virtual_user_id=None)], cards=[], collections=[], children=[DomoPage(id='1289295627', title='Dataset Schemas', parent_page_id=None, owners=[DomoUser(id=1345408759, display_name='Alexis Lorenz (DataMaven)', email_address=None, role_id=None, publisher_domain=None, subscriber_domain=None, virtual_user_id=None)], cards=[], collections=[], children=[]), DomoPage(id='756869253', title='Coronavirus (Alexis)', parent_page_id=None, owners=[DomoUser(id=1345408759, display_name='Alexis Lorenz (DataMaven)', email_address=None, role_id=None, publisher_domain=None, subscriber_domain=None, virtual_user_id=None)], cards=[], collections=[], children=[]), DomoPage(id='11555470', title='Contiguous United States Detail (Alexis)', parent_page_id=None, owners=[DomoUser(id=1345408759, display_name='Alexis Lorenz (DataMaven)', email_address=None, role_id=None, publisher_domain=None, subscriber_domain=None, virtual_user_id=None)], cards=[], collections=[], children=[])])"
      ]
     },
     "execution_count": null,
     "metadata": {},
     "output_type": "execute_result"
    }
   ],
   "source": [
    "import os\n",
    "import domolibrary.routes.bootstrap as bootstrap_routes\n",
    "\n",
    "auth = dmda.DomoFullAuth(\n",
    "    domo_instance='domo-community', domo_password = os.environ['DOJO_PASSWORD'], domo_username = 'jae@onyxreporting.com')\n",
    "\n",
    "res = await bootstrap_routes.get_bootstrap_pages(auth = auth)\n",
    "\n",
    "page_obj = res.response[10]\n",
    "DomoPage._from_bootstrap(page_obj, auth = auth)"
   ]
  },
  {
   "cell_type": "code",
   "execution_count": null,
   "metadata": {},
   "outputs": [],
   "source": [
    "#| export\n",
    "@patch_to(DomoPage)\n",
    "def _ol_fn():\n",
    "    pass\n"
   ]
  },
  {
   "cell_type": "code",
   "execution_count": null,
   "metadata": {},
   "outputs": [],
   "source": [
    "# @classmethod\n",
    "#     async def get_from_id(cls, page_id: str, full_auth: DomoFullAuth, debug: bool = False):\n",
    "#         import Library.DomoClasses.DomoCard as dc\n",
    "#         res = await page_routes.get_page_by_id(full_auth=full_auth, page_id=page_id, debug=debug)\n",
    "\n",
    "#         if res.status == 200:\n",
    "#             dd = DictDot(res.response)\n",
    "\n",
    "#             pg = cls(\n",
    "#                 id=dd.id,\n",
    "#                 domo_instance=full_auth.domo_instance,\n",
    "#                 title=dd.title,\n",
    "#                 parent_page_id=dd.page.parentPageId,\n",
    "#                 owners=dd.page.owners,\n",
    "#                 collections=dd.collections\n",
    "#             )\n",
    "\n",
    "#             pg.cards = await asyncio.gather(\n",
    "#                 *[dc.DomoCard.get_from_id(id=card.id, full_auth=full_auth) for card in dd.cards])\n",
    "\n",
    "#             return pg\n",
    "\n",
    "#     @classmethod\n",
    "#     async def get_cards(cls, full_auth, page_id, debug: bool = False, session: httpx.AsyncClient = None):\n",
    "#         try:\n",
    "#             import Library.DomoClasses.DomoCard as dc\n",
    "#             close_session = False if session else True\n",
    "\n",
    "#             if not session:\n",
    "#                 session = httpx.AsyncClient()\n",
    "\n",
    "#             res = await page_routes.get_page_definition(full_auth=full_auth, page_id=page_id, debug=debug, session=session)\n",
    "\n",
    "#             if res.status == 200:\n",
    "#                 json = res.response\n",
    "\n",
    "#                 card_list = [dc.DomoCard(id=card.get(\n",
    "#                     'id'), full_auth=full_auth) for card in json.get('cards')]\n",
    "\n",
    "#                 return card_list\n",
    "\n",
    "#             else:\n",
    "#                 return None\n",
    "\n",
    "#         finally:\n",
    "#             if close_session:\n",
    "#                 await session.aclose()\n",
    "\n",
    "#     async def get_datasets(full_auth, page_id, debug: bool = False, session: httpx.AsyncClient = None):\n",
    "#         try:\n",
    "#             import Library.DomoClasses.DomoDataset as dmds\n",
    "#             close_session = False if session else True\n",
    "\n",
    "#             if not session:\n",
    "#                 session = httpx.AsyncClient()\n",
    "\n",
    "#             res = await page_routes.get_page_definition(full_auth=full_auth, page_id=page_id, debug=debug, session=session)\n",
    "\n",
    "#             if res.status == 200:\n",
    "#                 json = res.response\n",
    "\n",
    "#                 dataset_ls = [card.get('datasources')\n",
    "#                               for card in json.get('cards')]\n",
    "\n",
    "#                 return [dmds.DomoDataset(id=ds.get('dataSourceId'), full_auth=full_auth) for ds_ls in dataset_ls for ds in ds_ls]\n",
    "\n",
    "#             else:\n",
    "#                 return None\n",
    "\n",
    "#         finally:\n",
    "#             if close_session:\n",
    "#                 await session.aclose()"
   ]
  },
  {
   "cell_type": "code",
   "execution_count": null,
   "metadata": {},
   "outputs": [],
   "source": [
    "# | hide\n",
    "import nbdev\n",
    "\n",
    "nbdev.nbdev_export()"
   ]
  }
 ],
 "metadata": {
  "jupytext": {
   "split_at_heading": true
  },
  "kernelspec": {
   "display_name": "Python 3",
   "language": "python",
   "name": "python3"
  }
 },
 "nbformat": 4,
 "nbformat_minor": 4
}
