{
    "cells": [
        {
            "cell_type": "raw",
            "metadata": {},
            "source": [
                "---\n",
                "output-file: page_class.html\n",
                "title: Page\n",
                "---"
            ]
        },
        {
            "cell_type": "code",
            "execution_count": null,
            "metadata": {
                "vscode": {
                    "languageId": "python"
                }
            },
            "outputs": [],
            "source": [
                "# | default_exp classes.DomoPage"
            ]
        },
        {
            "cell_type": "code",
            "execution_count": null,
            "metadata": {
                "vscode": {
                    "languageId": "python"
                }
            },
            "outputs": [],
            "source": [
                "# | exporti\n",
                "from nbdev.showdoc import patch_to\n",
                "from dataclasses import dataclass, field\n",
                "\n",
                "import asyncio\n",
                "import httpx\n",
                "\n",
                "import domolibrary.client.Logger as lg\n",
                "import domolibrary.client.DomoError as de\n",
                "import domolibrary.client.DomoAuth as dmda\n",
                "import domolibrary.classes.DomoPage_Content as dmpg_c\n",
                "import domolibrary.routes.page as page_routes\n",
                "\n",
                "import domolibrary.utils.DictDot as util_dd\n",
                "import domolibrary.utils.chunk_execution as ce"
            ]
        },
        {
            "cell_type": "code",
            "execution_count": null,
            "metadata": {
                "vscode": {
                    "languageId": "python"
                }
            },
            "outputs": [],
            "source": [
                "# |export\n",
                "from domolibrary.routes.page import PageRetrieval_byId_Error"
            ]
        },
        {
            "cell_type": "code",
            "execution_count": null,
            "metadata": {
                "vscode": {
                    "languageId": "python"
                }
            },
            "outputs": [],
            "source": [
                "#| hide\n",
                "from nbdev import show_doc"
            ]
        },
        {
            "cell_type": "markdown",
            "metadata": {},
            "source": [
                "# DomoPage\n"
            ]
        },
        {
            "cell_type": "code",
            "execution_count": null,
            "metadata": {
                "vscode": {
                    "languageId": "python"
                }
            },
            "outputs": [],
            "source": [
                "# | export\n",
                "@dataclass(\n",
                "    # frozen = True\n",
                ")\n",
                "class DomoPage:\n",
                "    id: int\n",
                "    title: str = None\n",
                "    top_page_id: int = None\n",
                "    parent_page_id: int = None\n",
                "    auth: dmda.DomoAuth = field(default=None, repr=False)\n",
                "    is_locked: bool = None\n",
                "\n",
                "    collections: list = field(default_factory=list)\n",
                "\n",
                "    owners: list = field(default_factory=list)\n",
                "    cards: list = field(default_factory=list)\n",
                "\n",
                "    custom_attributes: dict = field(default_factory=dict)\n",
                "\n",
                "    # parent_page: dict = None  # DomoPage\n",
                "    # top_page: dict = None  # DomoPage\n",
                "    # children: list = field(default_factory=list)\n",
                "    # parent_hierarchy: [dict] = None\n",
                "    # flat_children: list = None\n",
                "\n",
                "    layout: dmpg_c.PageLayout = field(default_factory=dict)\n",
                "\n",
                "    def display_url(self):\n",
                "        return f\"https://{self.auth.domo_instance}.domo.com/page/{self.id}\"\n",
                "\n",
                "    async def _get_domo_owners_from_dd(self, owners: util_dd.DictDot):\n",
                "        if not owners or len(owners) == 0:\n",
                "            return []\n",
                "\n",
                "        import domolibrary.classes.DomoUser as dmu\n",
                "        import domolibrary.classes.DomoGroup as dmg\n",
                "\n",
                "        domo_groups = []\n",
                "        domo_users = []\n",
                "\n",
                "        owner_group_ls = [\n",
                "            owner.id for owner in owners if owner.type == \"GROUP\" and owner.id\n",
                "        ]\n",
                "\n",
                "        if len(owner_group_ls) > 0:\n",
                "            domo_groups = await ce.gather_with_concurrency(\n",
                "                n=60,\n",
                "                *[\n",
                "                    dmg.DomoGroup.get_by_id(group_id=group_id, auth=self.auth)\n",
                "                    for group_id in owner_group_ls\n",
                "                ],\n",
                "            )\n",
                "\n",
                "        owner_user_ls = [\n",
                "            owner.id for owner in owners if owner.type == \"USER\" and owner.id\n",
                "        ]\n",
                "\n",
                "        if len(owner_user_ls) > 0:\n",
                "            domo_users = await dmu.DomoUsers.by_id(\n",
                "                user_ids=owner_user_ls, only_allow_one=False, auth=self.auth\n",
                "            )\n",
                "\n",
                "        owner_ce = (domo_groups or []) + (domo_users or [])\n",
                "\n",
                "        res = []\n",
                "        for owner in owner_ce:\n",
                "            if isinstance(owner, list):\n",
                "                [res.append(member) for member in owner]\n",
                "            else:\n",
                "                res.append(owner)\n",
                "\n",
                "        return res"
            ]
        },
        {
            "cell_type": "code",
            "execution_count": null,
            "metadata": {
                "vscode": {
                    "languageId": "python"
                }
            },
            "outputs": [],
            "source": [
                "# | exporti\n",
                "@patch_to(DomoPage, cls_method=True)\n",
                "async def _from_adminsummary(cls, page_obj, auth: dmda.DomoAuth):\n",
                "    import domolibrary.classes.DomoCard as dmc\n",
                "\n",
                "    dd = page_obj\n",
                "\n",
                "    if isinstance(page_obj, dict):\n",
                "        dd = util_dd.DictDot(page_obj)\n",
                "\n",
                "    pg = cls(\n",
                "        id=int(dd.id or dd.pageId),\n",
                "        title=dd.title or dd.pageTitle,\n",
                "        parent_page_id=int(dd.parentPageId) if dd.parentPageId else None,\n",
                "        top_page_id=int(dd.topPageId) if dd.topPageId else None,\n",
                "        collections=dd.collections,\n",
                "        is_locked=dd.locked,\n",
                "        auth=auth,\n",
                "    )\n",
                "\n",
                "    if dd.page and dd.page.owners and len(dd.page.owners) > 0:\n",
                "        pg.owners = await pg._get_domo_owners_from_dd(dd.page.owners)\n",
                "\n",
                "    if dd.cards and len(dd.cards) > 0:\n",
                "        pg.cards = await ce.gather_with_concurrency(\n",
                "            n=60,\n",
                "            *[dmc.DomoCard.get_from_id(id=card.id, auth=auth) for card in dd.cards],\n",
                "        )\n",
                "\n",
                "    return pg"
            ]
        },
        {
            "cell_type": "code",
            "execution_count": null,
            "metadata": {
                "vscode": {
                    "languageId": "python"
                }
            },
            "outputs": [],
            "source": [
                "# | exporti\n",
                "\n",
                "\n",
                "@patch_to(DomoPage, cls_method=True)\n",
                "async def _from_bootstrap(cls: DomoPage, page_obj, auth: dmda.DomoAuth = None):\n",
                "    dd = page_obj\n",
                "    if isinstance(page_obj, dict):\n",
                "        dd = util_dd.DictDot(page_obj)\n",
                "\n",
                "    pg = cls(id=int(dd.id), title=dd.title, auth=auth)\n",
                "\n",
                "    if isinstance(dd.owners, list) and len(dd.owners) > 0:\n",
                "        pg.owners = await pg._get_domo_owners_from_dd(dd.owners)\n",
                "\n",
                "    if isinstance(dd.children, list) and len(dd.children) > 0:\n",
                "        pg.children = await ce.gather_with_concurrency(\n",
                "            n=60,\n",
                "            *[\n",
                "                cls._from_bootstrap(page_obj=child_dd, auth=auth)\n",
                "                for child_dd in dd.children\n",
                "                if child_dd.type == \"page\"\n",
                "            ],\n",
                "        )\n",
                "\n",
                "        [print(other_dd) for other_dd in dd.children if other_dd.type != \"page\"]\n",
                "\n",
                "    return pg"
            ]
        },
        {
            "attachments": {},
            "cell_type": "markdown",
            "metadata": {},
            "source": [
                "# Domo Pages\n"
            ]
        },
        {
            "cell_type": "code",
            "execution_count": null,
            "metadata": {
                "vscode": {
                    "languageId": "python"
                }
            },
            "outputs": [],
            "source": [
                "# | export\n",
                "@dataclass\n",
                "class DomoPages:\n",
                "    @classmethod\n",
                "    async def get_pages(\n",
                "        cls,\n",
                "        auth=dmda.DomoAuth,\n",
                "        return_raw: bool = False,\n",
                "        debug_loop: bool = False,\n",
                "        debug_api: bool = False,\n",
                "        session: httpx.AsyncClient = None,\n",
                "    ):\n",
                "        \"\"\"use admin_summary to retrieve all pages in an instance -- regardless of user access\n",
                "        NOTE: some Page APIs will not return results if page access isn't explicitly shared\n",
                "        \"\"\"\n",
                "        is_close_session = False if session else True\n",
                "\n",
                "        session = session or httpx.AsyncClient()\n",
                "\n",
                "        try:\n",
                "            res = await page_routes.get_pages_adminsummary(\n",
                "                auth=auth, debug_loop=False, debug_api=False, session=session\n",
                "            )\n",
                "\n",
                "            if return_raw:\n",
                "                return res\n",
                "\n",
                "            if not res.is_success:\n",
                "                raise Exception(\"unable to retrieve pages\")\n",
                "\n",
                "            return await ce.gather_with_concurrency(\n",
                "                n=60,\n",
                "                *[\n",
                "                    DomoPage._from_adminsummary(page_obj, auth=auth)\n",
                "                    for page_obj in res.response\n",
                "                ],\n",
                "            )\n",
                "\n",
                "        finally:\n",
                "            if is_close_session:\n",
                "                await session.aclose()"
            ]
        },
        {
            "cell_type": "markdown",
            "metadata": {},
            "source": [
                "#### sample implementation of get_pages\n"
            ]
        },
        {
            "cell_type": "code",
            "execution_count": null,
            "metadata": {
                "vscode": {
                    "languageId": "python"
                }
            },
            "outputs": [
                {
                    "data": {
                        "text/plain": [
                            "[DomoPage(id=124947681, title='1nw', top_page_id=None, parent_page_id=None, is_locked=False, collections=None, owners=[], cards=[], custom_attributes={}, layout={}),\n",
                            " DomoPage(id=1316566624, title='20210623_TRAINING_DomoStats Activity Log App', top_page_id=522373865, parent_page_id=127044793, is_locked=False, collections=None, owners=[], cards=[], custom_attributes={}, layout={}),\n",
                            " DomoPage(id=1630657884, title='2023-10-24 Success Strategy - New', top_page_id=None, parent_page_id=None, is_locked=False, collections=None, owners=[], cards=[], custom_attributes={}, layout={}),\n",
                            " DomoPage(id=384424178, title='75th Percentile Test', top_page_id=None, parent_page_id=None, is_locked=False, collections=None, owners=[], cards=[], custom_attributes={}, layout={}),\n",
                            " DomoPage(id=1917664953, title='A', top_page_id=2054898013, parent_page_id=1603030697, is_locked=False, collections=None, owners=[], cards=[], custom_attributes={}, layout={})]"
                        ]
                    },
                    "execution_count": null,
                    "metadata": {},
                    "output_type": "execute_result"
                }
            ],
            "source": [
                "from pprint import pprint\n",
                "import os\n",
                "\n",
                "token_auth = dmda.DomoTokenAuth(\n",
                "    domo_instance=\"domo-community\",\n",
                "    domo_access_token=os.environ[\"DOMO_DOJO_ACCESS_TOKEN\"],\n",
                ")\n",
                "\n",
                "domo_pages = await DomoPages.get_pages(auth=token_auth, return_raw=False)\n",
                "domo_pages[0:5]"
            ]
        },
        {
            "cell_type": "markdown",
            "metadata": {},
            "source": [
                "# DomoPage Cont\n",
                "\n",
                "## get_by_id\n"
            ]
        },
        {
            "cell_type": "code",
            "execution_count": null,
            "metadata": {
                "vscode": {
                    "languageId": "python"
                }
            },
            "outputs": [],
            "source": [
                "# | exporti\n",
                "@patch_to(DomoPage, cls_method=True)\n",
                "async def _from_content_stacks_v3(cls: DomoPage, page_obj, auth: dmda.DomoAuth = None):\n",
                "    # import domolibrary.classes.DomoCard as dc\n",
                "\n",
                "    dd = page_obj\n",
                "    if isinstance(page_obj, dict):\n",
                "        dd = util_dd.DictDot(page_obj)\n",
                "\n",
                "    pg = cls(\n",
                "        id=int(dd.id),\n",
                "        title=dd.title,\n",
                "        parent_page_id=int(dd.page.parentPageId) if dd.page.parentPageId else None,\n",
                "        collections=dd.collections,\n",
                "        auth=auth,\n",
                "    )\n",
                "\n",
                "    if hasattr(dd, \"pageLayoutV4\") and dd.pageLayoutV4 is not None:\n",
                "        pg.layout = dmpg_c.PageLayout._from_json(dd=dd.pageLayoutV4)\n",
                "\n",
                "    if dd.page.owners and len(dd.page.owners) > 0:\n",
                "        pg.owners = await pg._get_domo_owners_from_dd(dd.page.owners)\n",
                "\n",
                "    # if dd.cards and len(dd.cards) > 0:\n",
                "    #     pg.cards = await asyncio.gather(\n",
                "    #         *[dc.DomoCard.get_from_id(id=card.id, auth=auth) for card in dd.cards])\n",
                "\n",
                "    return pg\n",
                "\n",
                "\n",
                "class DomoPage_GetRecursive(de.DomoError):\n",
                "    def __init__(\n",
                "        self,\n",
                "        include_recursive_children,\n",
                "        include_recursive_parents,\n",
                "        page_id,\n",
                "        domo_instance,\n",
                "        function_name,\n",
                "        parent_class,\n",
                "    ):\n",
                "        super().__init__(\n",
                "            domo_instance=domo_instance,\n",
                "            function_name=function_name,\n",
                "            parent_class=parent_class,\n",
                "            message=f\"error retrieving {page_id} can only trace parents OR children recursively but not both. include_recursive_children : {include_recursive_children}, include_recursive_parents: {include_recursive_parents}\",\n",
                "        )\n",
                "\n",
                "\n",
                "@patch_to(DomoPage, cls_method=True)\n",
                "async def get_by_id(\n",
                "    cls: DomoPage,\n",
                "    page_id: str,\n",
                "    auth: dmda.DomoAuth,\n",
                "    return_raw: bool = False,\n",
                "    debug_api: bool = False,\n",
                "    include_layout: bool = False,\n",
                "    # if True, will drill down to all the Children.  Set to False to prevent calculating children\n",
                "    include_recursive_children: bool = True,\n",
                "    include_recursive_parents: bool = False,\n",
                "):\n",
                "    # can only trace upstream or downstream but not both\n",
                "    if include_recursive_children and include_recursive_parents:\n",
                "        traceback_details = lg.get_traceback()\n",
                "\n",
                "        raise DomoPage_GetRecursive(\n",
                "            include_recursive_children=include_recursive_children,\n",
                "            include_recursive_parents=include_recursive_parents,\n",
                "            page_id=page_id,\n",
                "            domo_instance=auth.domo_instance,\n",
                "            function_name=traceback_details.function_name,\n",
                "            parent_class=cls.__name__,\n",
                "        )\n",
                "\n",
                "    res = await page_routes.get_page_by_id(\n",
                "        auth=auth, page_id=page_id, debug_api=debug_api, include_layout=include_layout\n",
                "    )\n",
                "\n",
                "    if return_raw:\n",
                "        return res\n",
                "\n",
                "    if not res.is_success:\n",
                "        return None\n",
                "\n",
                "    pg = await cls._from_content_stacks_v3(page_obj=res.response, auth=auth)\n",
                "\n",
                "    pg.custom_attributes[\"parent_page\"] = None\n",
                "    pg.custom_attributes[\"top_page\"] = None\n",
                "\n",
                "    if pg.parent_page_id and include_recursive_parents:\n",
                "        pg.custom_attributes[\"parent_page\"] = await cls.get_by_id(\n",
                "            auth=auth,\n",
                "            page_id=pg.parent_page_id,\n",
                "            include_recursive_parents=include_recursive_parents,\n",
                "            include_recursive_children=False,\n",
                "        )\n",
                "\n",
                "        if pg.custom_attributes[\"parent_page\"]:\n",
                "            pg.custom_attributes[\"parent_hierarchy\"] = pg.get_parent_hierarchy()\n",
                "\n",
                "            pg.custom_attributes[\"top_page\"] = pg.custom_attributes[\"parent_hierarchy\"][\n",
                "                -1\n",
                "            ][\"page\"]\n",
                "            pg.top_page_id = pg.custom_attributes[\"parent_hierarchy\"][-1][\"page\"].id\n",
                "\n",
                "    if include_recursive_children:\n",
                "        await pg.get_children(\n",
                "            include_recursive_children=include_recursive_children,\n",
                "        )\n",
                "        pg.flat_children = pg.flatten_children()\n",
                "\n",
                "    return pg\n",
                "\n",
                "\n",
                "@patch_to(DomoPage)\n",
                "def get_parent_hierarchy(self: DomoPage, path=None, hierarchy=0, results=None):\n",
                "    results = results or []\n",
                "\n",
                "    path = path or self.title\n",
                "\n",
                "    results.append({\"hierarchy\": hierarchy, \"path\": path, \"page\": self})\n",
                "\n",
                "    if self.custom_attributes[\"parent_page\"]:\n",
                "        path = f\"{path} > {self.custom_attributes['parent_page'].title}\"\n",
                "        self.custom_attributes[\"parent_page\"].get_parent_hierarchy(\n",
                "            path, hierarchy + 1, results\n",
                "        )\n",
                "\n",
                "    return results\n",
                "\n",
                "\n",
                "@patch_to(DomoPage)\n",
                "async def get_children(self: DomoPage, include_recursive_children: bool = False):\n",
                "    all_pages = await DomoPages.get_pages(auth=self.auth)\n",
                "\n",
                "    self.children = await ce.gather_with_concurrency(\n",
                "        n=10,\n",
                "        *[\n",
                "            DomoPage.get_by_id(\n",
                "                page_id=page.id,\n",
                "                auth=self.auth,\n",
                "                include_recursive_children=include_recursive_children,\n",
                "                include_recursive_parents=False,\n",
                "            )\n",
                "            for page in all_pages\n",
                "            if page.parent_page_id == self.id\n",
                "        ],\n",
                "    )\n",
                "\n",
                "    return self.children\n",
                "\n",
                "\n",
                "@patch_to(DomoPage)\n",
                "def flatten_children(self: DomoPage, path=None, hierarchy=0, results=None):\n",
                "    results = results or []\n",
                "\n",
                "    path = f\"{path} > {self.title}\" if path else self.title\n",
                "\n",
                "    results.append({\"hierarchy\": hierarchy, \"path\": path, \"page\": self})\n",
                "\n",
                "    if self.children:\n",
                "        [\n",
                "            child.flatten_children(path, hierarchy + 1, results)\n",
                "            for child in self.children\n",
                "        ]\n",
                "\n",
                "    return results"
            ]
        },
        {
            "cell_type": "code",
            "execution_count": null,
            "metadata": {
                "vscode": {
                    "languageId": "python"
                }
            },
            "outputs": [
                {
                    "data": {
                        "text/markdown": [
                            "---\n",
                            "\n",
                            "[source](https://github.com/jaewilson07/domo_library/blob/main/domolibrary/classes/DomoPage.py#L247){target=\"_blank\" style=\"float:right; font-size:smaller\"}\n",
                            "\n",
                            "### DomoPage.get_by_id\n",
                            "\n",
                            ">      DomoPage.get_by_id (page_id:str,\n",
                            ">                          auth:domolibrary.client.DomoAuth.DomoAuth,\n",
                            ">                          return_raw:bool=False, debug_api:bool=False,\n",
                            ">                          include_layout:bool=False,\n",
                            ">                          include_recursive_children:bool=True,\n",
                            ">                          include_recursive_parents:bool=False)"
                        ],
                        "text/plain": [
                            "---\n",
                            "\n",
                            "[source](https://github.com/jaewilson07/domo_library/blob/main/domolibrary/classes/DomoPage.py#L247){target=\"_blank\" style=\"float:right; font-size:smaller\"}\n",
                            "\n",
                            "### DomoPage.get_by_id\n",
                            "\n",
                            ">      DomoPage.get_by_id (page_id:str,\n",
                            ">                          auth:domolibrary.client.DomoAuth.DomoAuth,\n",
                            ">                          return_raw:bool=False, debug_api:bool=False,\n",
                            ">                          include_layout:bool=False,\n",
                            ">                          include_recursive_children:bool=True,\n",
                            ">                          include_recursive_parents:bool=False)"
                        ]
                    },
                    "execution_count": null,
                    "metadata": {},
                    "output_type": "execute_result"
                }
            ],
            "source": [
                "show_doc(DomoPage.get_by_id)"
            ]
        },
        {
            "cell_type": "markdown",
            "metadata": {},
            "source": [
                "#### sample implementations of get_by_id\n",
                "\n",
                "retrieve page without get_children_recursion\n"
            ]
        },
        {
            "cell_type": "code",
            "execution_count": null,
            "metadata": {
                "vscode": {
                    "languageId": "python"
                }
            },
            "outputs": [
                {
                    "data": {
                        "text/plain": [
                            "DomoPage(id=109096720, title='Domo IDEA Exchange', top_page_id=None, parent_page_id=None, is_locked=None, collections=[], owners=[DomoUser(id='1893952720', display_name='Jae Wilson1', email_address='jae@onyxreporting.com', role_id=1, department=None, title=None, avatar_key=None, phone_number=None, web_landing_page=None, web_mobile_landing_page=None, employee_id=None, employee_number=None, hire_date=None, reports_to=None, publisher_domain=None, subscriber_domain=None, virtual_user_id=None, custom_attributes={}, role=None)], cards=[], custom_attributes={'parent_page': None, 'top_page': None}, layout=PageLayout(id=391912007, page_id='109096720', is_print_friendly=True, is_enabled=True, is_dynamic=False, has_page_breaks=False, content=[PageLayoutContent(accept_date_filter=True, accept_filters=True, accept_segments=True, card_id=721561037, card_urn='721561037', compact_interaction_default=True, content_key=0, fit_to_frame=False, has_summary=False, hide_border=False, hide_description=True, hide_footer=True, hide_margins=False, hide_summary=False, hide_timeframe=False, hide_title=True, hide_wrench=True, id=1411, summary_number_only=False, type='CARD', text=None, background_id=None, background=None), PageLayoutContent(accept_date_filter=True, accept_filters=True, accept_segments=True, card_id=1133480621, card_urn='1133480621', compact_interaction_default=True, content_key=2, fit_to_frame=False, has_summary=False, hide_border=False, hide_description=True, hide_footer=True, hide_margins=False, hide_summary=False, hide_timeframe=False, hide_title=True, hide_wrench=False, id=1412, summary_number_only=False, type='CARD', text=None, background_id=None, background=None), PageLayoutContent(accept_date_filter=True, accept_filters=True, accept_segments=True, card_id=1786467530, card_urn='1786467530', compact_interaction_default=True, content_key=4, fit_to_frame=False, has_summary=True, hide_border=False, hide_description=True, hide_footer=True, hide_margins=False, hide_summary=False, hide_timeframe=False, hide_title=False, hide_wrench=False, id=1413, summary_number_only=False, type='CARD', text=None, background_id=None, background=None), PageLayoutContent(accept_date_filter=True, accept_filters=True, accept_segments=True, card_id=1879752213, card_urn='1879752213', compact_interaction_default=True, content_key=10, fit_to_frame=False, has_summary=False, hide_border=False, hide_description=True, hide_footer=True, hide_margins=False, hide_summary=False, hide_timeframe=False, hide_title=True, hide_wrench=True, id=1414, summary_number_only=False, type='CARD', text=None, background_id=None, background=None)], standard=PageLayoutStandard(aspect_ratio=1.67, width=60, frame_margin=None, frame_padding=None, type='STANDARD', template=[PageLayoutTemplate(content_key=0, x=0, y=0, width=44, height=26, type='CARD', virtual=False, virtual_appendix=False), PageLayoutTemplate(content_key=10, x=44, y=0, width=16, height=26, type='CARD', virtual=False, virtual_appendix=False), PageLayoutTemplate(content_key=4, x=0, y=26, width=18, height=26, type='CARD', virtual=False, virtual_appendix=False), PageLayoutTemplate(content_key=2, x=18, y=26, width=42, height=26, type='CARD', virtual=False, virtual_appendix=False)]), compact=PageLayoutCompact(aspect_ratio=1.0, width=12, frame_margin=None, frame_padding=None, type='COMPACT', template=[PageLayoutTemplate(content_key=0, x=0, y=0, width=12, height=6, type='CARD', virtual=False, virtual_appendix=False), PageLayoutTemplate(content_key=10, x=0, y=6, width=12, height=6, type='CARD', virtual=False, virtual_appendix=False), PageLayoutTemplate(content_key=4, x=0, y=12, width=12, height=6, type='CARD', virtual=False, virtual_appendix=False), PageLayoutTemplate(content_key=2, x=0, y=18, width=12, height=6, type='CARD', virtual=False, virtual_appendix=False)]), background=None))"
                        ]
                    },
                    "execution_count": null,
                    "metadata": {},
                    "output_type": "execute_result"
                }
            ],
            "source": [
                "token_auth = dmda.DomoTokenAuth(\n",
                "    domo_instance=\"domo-community\",\n",
                "    domo_access_token=os.environ[\"DOMO_DOJO_ACCESS_TOKEN\"],\n",
                ")\n",
                "\n",
                "page_id = 109096720\n",
                "\n",
                "await DomoPage.get_by_id(\n",
                "    page_id=page_id,\n",
                "    auth=token_auth,\n",
                "    return_raw=False,\n",
                "    include_layout=True,\n",
                "    include_recursive_children=False,\n",
                ")"
            ]
        },
        {
            "cell_type": "markdown",
            "metadata": {},
            "source": [
                "##### with parent_page and top_page\n"
            ]
        },
        {
            "cell_type": "code",
            "execution_count": null,
            "metadata": {
                "vscode": {
                    "languageId": "python"
                }
            },
            "outputs": [
                {
                    "name": "stdout",
                    "output_type": "stream",
                    "text": [
                        "DomoPage(id=109096720, title='Domo IDEA Exchange', top_page_id=None, parent_page_id=None, is_locked=None, collections=[], owners=[DomoUser(id='1893952720', display_name='Jae Wilson1', email_address='jae@onyxreporting.com', role_id=1, department=None, title=None, avatar_key=None, phone_number=None, web_landing_page=None, web_mobile_landing_page=None, employee_id=None, employee_number=None, hire_date=None, reports_to=None, publisher_domain=None, subscriber_domain=None, virtual_user_id=None, custom_attributes={}, role=None)], cards=[], custom_attributes={'parent_page': None, 'top_page': None}, layout={})\n",
                        "DomoPage(id=531423275, title='Domo APIs', top_page_id=109096720, parent_page_id=109096720, is_locked=None, collections=[], owners=[DomoUser(id='1158827447', display_name='Ken Boyer', email_address='ken.boyer@domo.com', role_id=2, department=None, title=None, avatar_key=None, phone_number=None, web_landing_page=None, web_mobile_landing_page=None, employee_id=None, employee_number=None, hire_date=None, reports_to=None, publisher_domain=None, subscriber_domain=None, virtual_user_id=None, custom_attributes={}, role=None)], cards=[], custom_attributes={'parent_page': DomoPage(id=109096720, title='Domo IDEA Exchange', top_page_id=None, parent_page_id=None, is_locked=None, collections=[], owners=[DomoUser(id='1893952720', display_name='Jae Wilson1', email_address='jae@onyxreporting.com', role_id=1, department=None, title=None, avatar_key=None, phone_number=None, web_landing_page=None, web_mobile_landing_page=None, employee_id=None, employee_number=None, hire_date=None, reports_to=None, publisher_domain=None, subscriber_domain=None, virtual_user_id=None, custom_attributes={}, role=None)], cards=[], custom_attributes={'parent_page': None, 'top_page': None}, layout={}), 'top_page': DomoPage(id=109096720, title='Domo IDEA Exchange', top_page_id=None, parent_page_id=None, is_locked=None, collections=[], owners=[DomoUser(id='1893952720', display_name='Jae Wilson1', email_address='jae@onyxreporting.com', role_id=1, department=None, title=None, avatar_key=None, phone_number=None, web_landing_page=None, web_mobile_landing_page=None, employee_id=None, employee_number=None, hire_date=None, reports_to=None, publisher_domain=None, subscriber_domain=None, virtual_user_id=None, custom_attributes={}, role=None)], cards=[], custom_attributes={'parent_page': None, 'top_page': None}, layout={}), 'parent_hierarchy': [{'hierarchy': 0, 'path': 'Domo APIs', 'page': ...}, {'hierarchy': 1, 'path': 'Domo APIs > Domo IDEA Exchange', 'page': DomoPage(id=109096720, title='Domo IDEA Exchange', top_page_id=None, parent_page_id=None, is_locked=None, collections=[], owners=[DomoUser(id='1893952720', display_name='Jae Wilson1', email_address='jae@onyxreporting.com', role_id=1, department=None, title=None, avatar_key=None, phone_number=None, web_landing_page=None, web_mobile_landing_page=None, employee_id=None, employee_number=None, hire_date=None, reports_to=None, publisher_domain=None, subscriber_domain=None, virtual_user_id=None, custom_attributes={}, role=None)], cards=[], custom_attributes={'parent_page': None, 'top_page': None}, layout={})}]}, layout={})\n"
                    ]
                },
                {
                    "data": {
                        "text/plain": [
                            "[{'hierarchy': 0,\n",
                            "  'path': 'CLI',\n",
                            "  'page': DomoPage(id=717329130, title='CLI', top_page_id=109096720, parent_page_id=531423275, is_locked=None, collections=[], owners=[DomoUser(id='1158827447', display_name='Ken Boyer', email_address='ken.boyer@domo.com', role_id=2, department=None, title=None, avatar_key=None, phone_number=None, web_landing_page=None, web_mobile_landing_page=None, employee_id=None, employee_number=None, hire_date=None, reports_to=None, publisher_domain=None, subscriber_domain=None, virtual_user_id=None, custom_attributes={}, role=None)], cards=[], custom_attributes={'parent_page': DomoPage(id=531423275, title='Domo APIs', top_page_id=109096720, parent_page_id=109096720, is_locked=None, collections=[], owners=[DomoUser(id='1158827447', display_name='Ken Boyer', email_address='ken.boyer@domo.com', role_id=2, department=None, title=None, avatar_key=None, phone_number=None, web_landing_page=None, web_mobile_landing_page=None, employee_id=None, employee_number=None, hire_date=None, reports_to=None, publisher_domain=None, subscriber_domain=None, virtual_user_id=None, custom_attributes={}, role=None)], cards=[], custom_attributes={'parent_page': DomoPage(id=109096720, title='Domo IDEA Exchange', top_page_id=None, parent_page_id=None, is_locked=None, collections=[], owners=[DomoUser(id='1893952720', display_name='Jae Wilson1', email_address='jae@onyxreporting.com', role_id=1, department=None, title=None, avatar_key=None, phone_number=None, web_landing_page=None, web_mobile_landing_page=None, employee_id=None, employee_number=None, hire_date=None, reports_to=None, publisher_domain=None, subscriber_domain=None, virtual_user_id=None, custom_attributes={}, role=None)], cards=[], custom_attributes={'parent_page': None, 'top_page': None}, layout={}), 'top_page': DomoPage(id=109096720, title='Domo IDEA Exchange', top_page_id=None, parent_page_id=None, is_locked=None, collections=[], owners=[DomoUser(id='1893952720', display_name='Jae Wilson1', email_address='jae@onyxreporting.com', role_id=1, department=None, title=None, avatar_key=None, phone_number=None, web_landing_page=None, web_mobile_landing_page=None, employee_id=None, employee_number=None, hire_date=None, reports_to=None, publisher_domain=None, subscriber_domain=None, virtual_user_id=None, custom_attributes={}, role=None)], cards=[], custom_attributes={'parent_page': None, 'top_page': None}, layout={}), 'parent_hierarchy': [{'hierarchy': 0, 'path': 'Domo APIs', 'page': ...}, {'hierarchy': 1, 'path': 'Domo APIs > Domo IDEA Exchange', 'page': DomoPage(id=109096720, title='Domo IDEA Exchange', top_page_id=None, parent_page_id=None, is_locked=None, collections=[], owners=[DomoUser(id='1893952720', display_name='Jae Wilson1', email_address='jae@onyxreporting.com', role_id=1, department=None, title=None, avatar_key=None, phone_number=None, web_landing_page=None, web_mobile_landing_page=None, employee_id=None, employee_number=None, hire_date=None, reports_to=None, publisher_domain=None, subscriber_domain=None, virtual_user_id=None, custom_attributes={}, role=None)], cards=[], custom_attributes={'parent_page': None, 'top_page': None}, layout={})}]}, layout={}), 'top_page': DomoPage(id=109096720, title='Domo IDEA Exchange', top_page_id=None, parent_page_id=None, is_locked=None, collections=[], owners=[DomoUser(id='1893952720', display_name='Jae Wilson1', email_address='jae@onyxreporting.com', role_id=1, department=None, title=None, avatar_key=None, phone_number=None, web_landing_page=None, web_mobile_landing_page=None, employee_id=None, employee_number=None, hire_date=None, reports_to=None, publisher_domain=None, subscriber_domain=None, virtual_user_id=None, custom_attributes={}, role=None)], cards=[], custom_attributes={'parent_page': None, 'top_page': None}, layout={}), 'parent_hierarchy': [{'hierarchy': 0, 'path': 'CLI', 'page': ...}, {'hierarchy': 1, 'path': 'CLI > Domo APIs', 'page': DomoPage(id=531423275, title='Domo APIs', top_page_id=109096720, parent_page_id=109096720, is_locked=None, collections=[], owners=[DomoUser(id='1158827447', display_name='Ken Boyer', email_address='ken.boyer@domo.com', role_id=2, department=None, title=None, avatar_key=None, phone_number=None, web_landing_page=None, web_mobile_landing_page=None, employee_id=None, employee_number=None, hire_date=None, reports_to=None, publisher_domain=None, subscriber_domain=None, virtual_user_id=None, custom_attributes={}, role=None)], cards=[], custom_attributes={'parent_page': DomoPage(id=109096720, title='Domo IDEA Exchange', top_page_id=None, parent_page_id=None, is_locked=None, collections=[], owners=[DomoUser(id='1893952720', display_name='Jae Wilson1', email_address='jae@onyxreporting.com', role_id=1, department=None, title=None, avatar_key=None, phone_number=None, web_landing_page=None, web_mobile_landing_page=None, employee_id=None, employee_number=None, hire_date=None, reports_to=None, publisher_domain=None, subscriber_domain=None, virtual_user_id=None, custom_attributes={}, role=None)], cards=[], custom_attributes={'parent_page': None, 'top_page': None}, layout={}), 'top_page': DomoPage(id=109096720, title='Domo IDEA Exchange', top_page_id=None, parent_page_id=None, is_locked=None, collections=[], owners=[DomoUser(id='1893952720', display_name='Jae Wilson1', email_address='jae@onyxreporting.com', role_id=1, department=None, title=None, avatar_key=None, phone_number=None, web_landing_page=None, web_mobile_landing_page=None, employee_id=None, employee_number=None, hire_date=None, reports_to=None, publisher_domain=None, subscriber_domain=None, virtual_user_id=None, custom_attributes={}, role=None)], cards=[], custom_attributes={'parent_page': None, 'top_page': None}, layout={}), 'parent_hierarchy': [{'hierarchy': 0, 'path': 'Domo APIs', 'page': ...}, {'hierarchy': 1, 'path': 'Domo APIs > Domo IDEA Exchange', 'page': DomoPage(id=109096720, title='Domo IDEA Exchange', top_page_id=None, parent_page_id=None, is_locked=None, collections=[], owners=[DomoUser(id='1893952720', display_name='Jae Wilson1', email_address='jae@onyxreporting.com', role_id=1, department=None, title=None, avatar_key=None, phone_number=None, web_landing_page=None, web_mobile_landing_page=None, employee_id=None, employee_number=None, hire_date=None, reports_to=None, publisher_domain=None, subscriber_domain=None, virtual_user_id=None, custom_attributes={}, role=None)], cards=[], custom_attributes={'parent_page': None, 'top_page': None}, layout={})}]}, layout={})}, {'hierarchy': 2, 'path': 'CLI > Domo APIs > Domo IDEA Exchange', 'page': DomoPage(id=109096720, title='Domo IDEA Exchange', top_page_id=None, parent_page_id=None, is_locked=None, collections=[], owners=[DomoUser(id='1893952720', display_name='Jae Wilson1', email_address='jae@onyxreporting.com', role_id=1, department=None, title=None, avatar_key=None, phone_number=None, web_landing_page=None, web_mobile_landing_page=None, employee_id=None, employee_number=None, hire_date=None, reports_to=None, publisher_domain=None, subscriber_domain=None, virtual_user_id=None, custom_attributes={}, role=None)], cards=[], custom_attributes={'parent_page': None, 'top_page': None}, layout={})}]}, layout={})},\n",
                            " {'hierarchy': 1,\n",
                            "  'path': 'CLI > Domo APIs',\n",
                            "  'page': DomoPage(id=531423275, title='Domo APIs', top_page_id=109096720, parent_page_id=109096720, is_locked=None, collections=[], owners=[DomoUser(id='1158827447', display_name='Ken Boyer', email_address='ken.boyer@domo.com', role_id=2, department=None, title=None, avatar_key=None, phone_number=None, web_landing_page=None, web_mobile_landing_page=None, employee_id=None, employee_number=None, hire_date=None, reports_to=None, publisher_domain=None, subscriber_domain=None, virtual_user_id=None, custom_attributes={}, role=None)], cards=[], custom_attributes={'parent_page': DomoPage(id=109096720, title='Domo IDEA Exchange', top_page_id=None, parent_page_id=None, is_locked=None, collections=[], owners=[DomoUser(id='1893952720', display_name='Jae Wilson1', email_address='jae@onyxreporting.com', role_id=1, department=None, title=None, avatar_key=None, phone_number=None, web_landing_page=None, web_mobile_landing_page=None, employee_id=None, employee_number=None, hire_date=None, reports_to=None, publisher_domain=None, subscriber_domain=None, virtual_user_id=None, custom_attributes={}, role=None)], cards=[], custom_attributes={'parent_page': None, 'top_page': None}, layout={}), 'top_page': DomoPage(id=109096720, title='Domo IDEA Exchange', top_page_id=None, parent_page_id=None, is_locked=None, collections=[], owners=[DomoUser(id='1893952720', display_name='Jae Wilson1', email_address='jae@onyxreporting.com', role_id=1, department=None, title=None, avatar_key=None, phone_number=None, web_landing_page=None, web_mobile_landing_page=None, employee_id=None, employee_number=None, hire_date=None, reports_to=None, publisher_domain=None, subscriber_domain=None, virtual_user_id=None, custom_attributes={}, role=None)], cards=[], custom_attributes={'parent_page': None, 'top_page': None}, layout={}), 'parent_hierarchy': [{'hierarchy': 0, 'path': 'Domo APIs', 'page': ...}, {'hierarchy': 1, 'path': 'Domo APIs > Domo IDEA Exchange', 'page': DomoPage(id=109096720, title='Domo IDEA Exchange', top_page_id=None, parent_page_id=None, is_locked=None, collections=[], owners=[DomoUser(id='1893952720', display_name='Jae Wilson1', email_address='jae@onyxreporting.com', role_id=1, department=None, title=None, avatar_key=None, phone_number=None, web_landing_page=None, web_mobile_landing_page=None, employee_id=None, employee_number=None, hire_date=None, reports_to=None, publisher_domain=None, subscriber_domain=None, virtual_user_id=None, custom_attributes={}, role=None)], cards=[], custom_attributes={'parent_page': None, 'top_page': None}, layout={})}]}, layout={})},\n",
                            " {'hierarchy': 2,\n",
                            "  'path': 'CLI > Domo APIs > Domo IDEA Exchange',\n",
                            "  'page': DomoPage(id=109096720, title='Domo IDEA Exchange', top_page_id=None, parent_page_id=None, is_locked=None, collections=[], owners=[DomoUser(id='1893952720', display_name='Jae Wilson1', email_address='jae@onyxreporting.com', role_id=1, department=None, title=None, avatar_key=None, phone_number=None, web_landing_page=None, web_mobile_landing_page=None, employee_id=None, employee_number=None, hire_date=None, reports_to=None, publisher_domain=None, subscriber_domain=None, virtual_user_id=None, custom_attributes={}, role=None)], cards=[], custom_attributes={'parent_page': None, 'top_page': None}, layout={})}]"
                        ]
                    },
                    "execution_count": null,
                    "metadata": {},
                    "output_type": "execute_result"
                }
            ],
            "source": [
                "token_auth = dmda.DomoTokenAuth(\n",
                "    domo_instance=\"domo-community\",\n",
                "    domo_access_token=os.environ[\"DOMO_DOJO_ACCESS_TOKEN\"],\n",
                ")\n",
                "\n",
                "page_id = 717329130\n",
                "\n",
                "domo_page = await DomoPage.get_by_id(\n",
                "    page_id=page_id,\n",
                "    auth=token_auth,\n",
                "    return_raw=False,\n",
                "    include_layout=True,\n",
                "    include_recursive_parents=True,\n",
                "    include_recursive_children=False,\n",
                ")\n",
                "\n",
                "print(domo_page.custom_attributes[\"top_page\"])\n",
                "print(domo_page.custom_attributes[\"parent_page\"])\n",
                "domo_page.custom_attributes.get(\"parent_hierarchy\", None)"
            ]
        },
        {
            "attachments": {},
            "cell_type": "markdown",
            "metadata": {},
            "source": [
                "with get_children_recursion\n"
            ]
        },
        {
            "cell_type": "code",
            "execution_count": null,
            "metadata": {
                "vscode": {
                    "languageId": "python"
                }
            },
            "outputs": [
                {
                    "data": {
                        "text/plain": [
                            "['0 - Domo IDEA Exchange : Domo IDEA Exchange',\n",
                            " '1 - Domo IDEA Exchange > Beast Modes : Beast Modes',\n",
                            " '1 - Domo IDEA Exchange > Crypto Use-Case : Crypto Use-Case',\n",
                            " '1 - Domo IDEA Exchange > Custom Apps : Custom Apps',\n",
                            " '1 - Domo IDEA Exchange > Data Stories : Data Stories',\n",
                            " '1 - Domo IDEA Exchange > Domo APIs : Domo APIs',\n",
                            " '2 - Domo IDEA Exchange > Domo APIs > CLI : CLI',\n",
                            " '2 - Domo IDEA Exchange > Domo APIs > Developer Portal : Developer Portal',\n",
                            " '2 - Domo IDEA Exchange > Domo APIs > SDKs : SDKs',\n",
                            " '1 - Domo IDEA Exchange > Forecasting / Inline Editor App : Forecasting / Inline Editor App',\n",
                            " '1 - Domo IDEA Exchange > Text Analytics : Text Analytics']"
                        ]
                    },
                    "execution_count": null,
                    "metadata": {},
                    "output_type": "execute_result"
                }
            ],
            "source": [
                "from pprint import pprint\n",
                "import os\n",
                "\n",
                "token_auth = dmda.DomoTokenAuth(\n",
                "    domo_instance=\"domo-community\",\n",
                "    domo_access_token=os.environ[\"DOMO_DOJO_ACCESS_TOKEN\"],\n",
                ")\n",
                "\n",
                "page_id = 109096720\n",
                "\n",
                "domo_page = await DomoPage.get_by_id(\n",
                "    page_id=page_id,\n",
                "    auth=token_auth,\n",
                "    return_raw=False,\n",
                "    include_recursive_children=True,\n",
                "    include_recursive_parents=False,\n",
                ")\n",
                "\n",
                "[\n",
                "    f\"{fc['hierarchy']} - {fc['path']} : {fc['page'].title}\"\n",
                "    for fc in domo_page.flat_children\n",
                "]"
            ]
        },
        {
            "cell_type": "code",
            "execution_count": null,
            "metadata": {
                "vscode": {
                    "languageId": "python"
                }
            },
            "outputs": [],
            "source": [
                "# | export\n",
                "\n",
                "\n",
                "class Page_NoAccess(de.DomoError):\n",
                "    def __init__(self, page_id, page_title, domo_instance, function_name, parent_class):\n",
                "        super().__init__(\n",
                "            function_name=function_name,\n",
                "            parent_class=parent_class,\n",
                "            domo_instance=domo_instance,\n",
                "            message=f'authenticated user doesn\\'t have access to {page_id} - \"{page_title}\" contact owners to share access',\n",
                "        )"
            ]
        },
        {
            "cell_type": "code",
            "execution_count": null,
            "metadata": {
                "vscode": {
                    "languageId": "python"
                }
            },
            "outputs": [],
            "source": [
                "# | exporti\n",
                "@patch_to(DomoPage)\n",
                "async def test_page_access(\n",
                "    self: DomoPage,\n",
                "    suppress_no_access_error: bool = False,  # suppresses error if user doesn't have access\n",
                "    debug_api: bool = False,\n",
                "    return_raw: bool = False,\n",
                "):\n",
                "    \"\"\"throws an error if user doesn't have access to the page\n",
                "    API returns the owners of the page\n",
                "    \"\"\"\n",
                "\n",
                "    res = await page_routes.get_page_access_test(auth=self.auth, page_id=self.id)\n",
                "\n",
                "    try:\n",
                "        page_access = res.response.get(\"pageAccess\")\n",
                "\n",
                "        if not page_access:\n",
                "            raise Page_NoAccess(\n",
                "                page_id=self.id,\n",
                "                page_title=self.title,\n",
                "                domo_instance=self.auth.domo_instance,\n",
                "                function_name=res.traceback_details.function_name,\n",
                "                parent_class=self.__class__.__name__,\n",
                "            )\n",
                "\n",
                "    except Page_NoAccess as e:\n",
                "        print(e)\n",
                "\n",
                "        if not suppress_no_access_error:\n",
                "            raise e\n",
                "\n",
                "    return res"
            ]
        },
        {
            "cell_type": "code",
            "execution_count": null,
            "metadata": {
                "vscode": {
                    "languageId": "python"
                }
            },
            "outputs": [
                {
                    "data": {
                        "text/markdown": [
                            "---\n",
                            "\n",
                            "[source](https://github.com/jaewilson07/domo_library/blob/main/domolibrary/classes/DomoPage.py#L377){target=\"_blank\" style=\"float:right; font-size:smaller\"}\n",
                            "\n",
                            "### DomoPage.test_page_access\n",
                            "\n",
                            ">      DomoPage.test_page_access (suppress_no_access_error:bool=False,\n",
                            ">                                 debug_api:bool=False, return_raw:bool=False)\n",
                            "\n",
                            "throws an error if user doesn't have access to the page\n",
                            "API returns the owners of the page"
                        ],
                        "text/plain": [
                            "---\n",
                            "\n",
                            "[source](https://github.com/jaewilson07/domo_library/blob/main/domolibrary/classes/DomoPage.py#L377){target=\"_blank\" style=\"float:right; font-size:smaller\"}\n",
                            "\n",
                            "### DomoPage.test_page_access\n",
                            "\n",
                            ">      DomoPage.test_page_access (suppress_no_access_error:bool=False,\n",
                            ">                                 debug_api:bool=False, return_raw:bool=False)\n",
                            "\n",
                            "throws an error if user doesn't have access to the page\n",
                            "API returns the owners of the page"
                        ]
                    },
                    "execution_count": null,
                    "metadata": {},
                    "output_type": "execute_result"
                }
            ],
            "source": [
                "show_doc(DomoPage.test_page_access)"
            ]
        },
        {
            "cell_type": "markdown",
            "metadata": {},
            "source": [
                "#### sample implementation of test_page_access"
            ]
        },
        {
            "cell_type": "code",
            "execution_count": null,
            "metadata": {
                "vscode": {
                    "languageId": "python"
                }
            },
            "outputs": [
                {
                    "data": {
                        "text/plain": [
                            "{'pageId': 1761849366,\n",
                            " 'pageName': 'delete me',\n",
                            " 'owners': [{'id': 592838897,\n",
                            "   'type': 'GROUP',\n",
                            "   'displayName': 'Test Group ABC'}],\n",
                            " 'pageAccess': True}"
                        ]
                    },
                    "execution_count": null,
                    "metadata": {},
                    "output_type": "execute_result"
                }
            ],
            "source": [
                "from pprint import pprint\n",
                "import os\n",
                "\n",
                "token_auth = dmda.DomoTokenAuth(\n",
                "    domo_instance=\"domo-community\",\n",
                "    domo_access_token=os.environ[\"DOMO_DOJO_ACCESS_TOKEN\"],\n",
                ")\n",
                "\n",
                "page_id = 1761849366\n",
                "domo_page = await DomoPage.get_by_id(page_id=page_id, auth=token_auth)\n",
                "\n",
                "res = await domo_page.test_page_access(suppress_no_access_error=True)\n",
                "\n",
                "res.response"
            ]
        },
        {
            "cell_type": "code",
            "execution_count": null,
            "metadata": {
                "vscode": {
                    "languageId": "python"
                }
            },
            "outputs": [],
            "source": [
                "# | export\n",
                "@patch_to(DomoPage)\n",
                "async def get_accesslist(\n",
                "    self,\n",
                "    auth: dmda.DomoAuth = None,\n",
                "    return_raw: bool = False,\n",
                "    debug_api: bool = False,\n",
                "):\n",
                "    auth = auth or self.auth\n",
                "\n",
                "    res = await page_routes.get_page_access_list(\n",
                "        auth=auth,\n",
                "        is_expand_users=True,\n",
                "        page_id=self.id,\n",
                "        debug_api=debug_api,\n",
                "        debug_num_stacks_to_drop=2,\n",
                "        parent_class=self.__class__.__name__,\n",
                "    )\n",
                "\n",
                "    if return_raw:\n",
                "        return res\n",
                "\n",
                "    if not res.is_success:\n",
                "        raise Exception(\"error getting access list\")\n",
                "\n",
                "    import domolibrary.classes.DomoUser as dmu\n",
                "    import domolibrary.classes.DomoGroup as dmg\n",
                "\n",
                "    s = {\n",
                "        \"explicit_shared_user_count\": res.response.get(\"explicitSharedUserCount\"),\n",
                "        \"total_user_count\": res.response.get(\"totalUserCount\"),\n",
                "    }\n",
                "\n",
                "    user_ls = res.response.get(\"users\", None)\n",
                "    domo_users = []\n",
                "    if user_ls and isinstance(user_ls, list) and len(user_ls) > 0:\n",
                "        domo_users = await dmu.DomoUsers.by_id(\n",
                "            user_ids=[user.get(\"id\") for user in user_ls],\n",
                "            only_allow_one=False,\n",
                "            auth=auth,\n",
                "        )\n",
                "\n",
                "    group_ls = res.response.get(\"groups\", None)\n",
                "    domo_groups = []\n",
                "    if group_ls and isinstance(group_ls, list) and len(group_ls) > 0:\n",
                "        domo_groups = await ce.gather_with_concurrency(\n",
                "            n=60,\n",
                "            *[\n",
                "                dmg.DomoGroup.get_by_id(group_id=group.get(\"id\"), auth=auth)\n",
                "                for group in group_ls\n",
                "            ],\n",
                "        )\n",
                "\n",
                "    res = await self.test_page_access(suppress_no_access_error=True)\n",
                "    owner_ls = res.response[\"owners\"]  # from test_page_access\n",
                "\n",
                "    for domo_user in domo_users:\n",
                "        # isExplicitShare is set by the get_access_list API response\n",
                "        domo_user.custom_attributes[\"is_explicit_share\"] = next(\n",
                "            (\n",
                "                user_obj[\"isExplicitShare\"]\n",
                "                for user_obj in user_ls\n",
                "                if int(user_obj.get(\"id\")) == int(domo_user.id)\n",
                "            )\n",
                "        )\n",
                "\n",
                "        # group membership is determined by get_access_list API response\n",
                "        domo_user.custom_attributes[\"group_membership\"] = [\n",
                "            domo_group\n",
                "            for group_obj in group_ls\n",
                "            for domo_group in domo_groups\n",
                "            if int(domo_user.id)\n",
                "            in [int(user_obj[\"id\"]) for user_obj in group_obj.get(\"users\")]\n",
                "            and domo_group.id == group_obj[\"id\"]\n",
                "        ]\n",
                "\n",
                "        # isOwner determined by test_access API response and group membership\n",
                "        domo_user.custom_attributes[\"is_owner\"] = False\n",
                "\n",
                "        # test ownership as a user\n",
                "        match_owner = next(\n",
                "            (\n",
                "                owner_obj\n",
                "                for owner_obj in owner_ls\n",
                "                if int(owner_obj[\"id\"]) == int(domo_user.id)\n",
                "                and owner_obj[\"type\"] == \"USER\"\n",
                "            ),\n",
                "            None,\n",
                "        )\n",
                "\n",
                "        match_group = next(\n",
                "            (\n",
                "                owner_obj\n",
                "                for owner_obj in owner_ls\n",
                "                if int(owner_obj[\"id\"])\n",
                "                in [\n",
                "                    int(domo_group.id)\n",
                "                    for domo_group in domo_user.custom_attributes[\"group_membership\"]\n",
                "                ]\n",
                "                and owner_obj[\"type\"] == \"GROUP\"\n",
                "            ),\n",
                "            None,\n",
                "        )\n",
                "\n",
                "        if match_owner or match_group:\n",
                "            domo_user.custom_attributes[\"is_owner\"] = True\n",
                "\n",
                "    # group ownership is confirmed test_access API\n",
                "    for domo_group in domo_groups:\n",
                "        match_owner = next(\n",
                "            (\n",
                "                owner_obj\n",
                "                for owner_obj in owner_ls\n",
                "                if int(owner_obj[\"id\"]) == int(domo_group.id)\n",
                "                and owner_obj[\"type\"] == \"GROUP\"\n",
                "            ),\n",
                "            None,\n",
                "        )\n",
                "\n",
                "        domo_group.custom_attributes[\"is_owner\"] = True if match_owner else False\n",
                "\n",
                "    return {\n",
                "        **s,\n",
                "        \"domo_users\": domo_users,\n",
                "        \"domo_groups\": domo_groups,\n",
                "    }"
            ]
        },
        {
            "attachments": {},
            "cell_type": "markdown",
            "metadata": {},
            "source": [
                "#### sample get_accesslist\n"
            ]
        },
        {
            "cell_type": "code",
            "execution_count": null,
            "metadata": {
                "vscode": {
                    "languageId": "python"
                }
            },
            "outputs": [
                {
                    "data": {
                        "text/plain": [
                            "{'explicit_shared_user_count': 1,\n",
                            " 'total_user_count': 6,\n",
                            " 'domo_users': [DomoUser(id='1628021317', display_name='Aaron Dean', email_address='aaron.dean@rxa.io', role_id=2097317660, department=None, title=None, avatar_key=None, phone_number=None, web_landing_page=None, web_mobile_landing_page=None, employee_id=None, employee_number=None, hire_date=None, reports_to=None, publisher_domain=None, subscriber_domain=None, virtual_user_id=None, custom_attributes={'is_explicit_share': False, 'group_membership': [DomoGroup(id=592838897, name='Test Group ABC', type='open', description='', custom_attributes={'is_owner': True})], 'is_owner': True}, role=None),\n",
                            "  DomoUser(id='587894148', display_name='Bryan Van Kampen', email_address='bryan@bvankampen.net', role_id=1, department=None, title=None, avatar_key=None, phone_number=None, web_landing_page=None, web_mobile_landing_page=None, employee_id=None, employee_number=None, hire_date=None, reports_to=None, publisher_domain=None, subscriber_domain=None, virtual_user_id=None, custom_attributes={'is_explicit_share': False, 'group_membership': [DomoGroup(id=592838897, name='Test Group ABC', type='open', description='', custom_attributes={'is_owner': True})], 'is_owner': True}, role=None),\n",
                            "  DomoUser(id='55874022', display_name='Grant Smith', email_address='grantsmith@gmail.com', role_id=1, department=None, title=None, avatar_key=None, phone_number=None, web_landing_page=None, web_mobile_landing_page=None, employee_id=None, employee_number=None, hire_date=None, reports_to=None, publisher_domain=None, subscriber_domain=None, virtual_user_id=None, custom_attributes={'is_explicit_share': False, 'group_membership': [DomoGroup(id=1307490673, name='Test Group a', type='open', description=None, custom_attributes={'is_owner': False})], 'is_owner': False}, role=None),\n",
                            "  DomoUser(id='1893952720', display_name='Jae Wilson1', email_address='jae@onyxreporting.com', role_id=1, department=None, title=None, avatar_key=None, phone_number=None, web_landing_page=None, web_mobile_landing_page=None, employee_id=None, employee_number=None, hire_date=None, reports_to=None, publisher_domain=None, subscriber_domain=None, virtual_user_id=None, custom_attributes={'is_explicit_share': False, 'group_membership': [DomoGroup(id=592838897, name='Test Group ABC', type='open', description='', custom_attributes={'is_owner': True})], 'is_owner': True}, role=None),\n",
                            "  DomoUser(id='612085674', display_name='Oleksii Zakrevskyi', email_address='zakrevskyi@gmail.com', role_id=810756122, department=None, title=None, avatar_key=None, phone_number=None, web_landing_page=None, web_mobile_landing_page=None, employee_id=None, employee_number=None, hire_date=None, reports_to=None, publisher_domain=None, subscriber_domain=None, virtual_user_id=None, custom_attributes={'is_explicit_share': False, 'group_membership': [DomoGroup(id=592838897, name='Test Group ABC', type='open', description='', custom_attributes={'is_owner': True})], 'is_owner': True}, role=None),\n",
                            "  DomoUser(id='1906627316', display_name='test_participant', email_address='test_participant@domo.com', role_id=4, department=None, title=None, avatar_key=None, phone_number=None, web_landing_page=None, web_mobile_landing_page=None, employee_id=None, employee_number=None, hire_date=None, reports_to=None, publisher_domain=None, subscriber_domain=None, virtual_user_id=None, custom_attributes={'is_explicit_share': True, 'group_membership': [], 'is_owner': False}, role=None)],\n",
                            " 'domo_groups': [DomoGroup(id=592838897, name='Test Group ABC', type='open', description='', custom_attributes={'is_owner': True}),\n",
                            "  DomoGroup(id=1307490673, name='Test Group a', type='open', description=None, custom_attributes={'is_owner': False})]}"
                        ]
                    },
                    "execution_count": null,
                    "metadata": {},
                    "output_type": "execute_result"
                }
            ],
            "source": [
                "from pprint import pprint\n",
                "import os\n",
                "\n",
                "token_auth = dmda.DomoTokenAuth(\n",
                "    domo_instance=\"domo-community\",\n",
                "    domo_access_token=os.environ[\"DOMO_DOJO_ACCESS_TOKEN\"],\n",
                ")\n",
                "\n",
                "page_id = 1761849366\n",
                "domo_page = DomoPage(id=page_id, auth=token_auth)\n",
                "\n",
                "res = await domo_page.get_accesslist(return_raw=False, debug_api=False)\n",
                "\n",
                "\n",
                "# res.response['groups']\n",
                "# res['domo_users']\n",
                "\n",
                "res"
            ]
        },
        {
            "cell_type": "code",
            "execution_count": null,
            "metadata": {
                "vscode": {
                    "languageId": "python"
                }
            },
            "outputs": [],
            "source": [
                "# | exporti\n",
                "@patch_to(DomoPage)\n",
                "async def share(\n",
                "    self: DomoPage,\n",
                "    auth: dmda.DomoAuth = None,\n",
                "    domo_users: list = None,  # DomoUsers to share page with,\n",
                "    domo_groups: list = None,  # DomoGroups to share page with\n",
                "    message: str = None,  # message for automated email\n",
                "    debug_api: bool = False,\n",
                "    session: httpx.AsyncClient = None,\n",
                "):\n",
                "    import domolibrary.routes.datacenter as datacenter_routes\n",
                "\n",
                "    if domo_groups:\n",
                "        domo_groups = domo_groups if isinstance(domo_groups, list) else [domo_groups]\n",
                "    if domo_users:\n",
                "        domo_users = domo_users if isinstance(domo_users, list) else [domo_users]\n",
                "\n",
                "    res = await datacenter_routes.share_resource(\n",
                "        auth=auth or self.auth,\n",
                "        resource_ids=[self.id],\n",
                "        resource_type=datacenter_routes.ShareResource_Enum.PAGE,\n",
                "        group_ids=[group.id for group in domo_groups] if domo_groups else None,\n",
                "        user_ids=[user.id for user in domo_users] if domo_users else None,\n",
                "        message=message,\n",
                "        debug_api=debug_api,\n",
                "        session=session,\n",
                "    )\n",
                "\n",
                "    return res"
            ]
        },
        {
            "attachments": {},
            "cell_type": "markdown",
            "metadata": {},
            "source": [
                "#### sample share_page\n"
            ]
        },
        {
            "cell_type": "code",
            "execution_count": null,
            "metadata": {
                "vscode": {
                    "languageId": "python"
                }
            },
            "outputs": [
                {
                    "data": {
                        "text/plain": [
                            "ResponseGetData(status=200, response='page 30507758 successfully shared with 1324037627', is_success=True, parent_class=None)"
                        ]
                    },
                    "execution_count": null,
                    "metadata": {},
                    "output_type": "execute_result"
                }
            ],
            "source": [
                "import os\n",
                "import domolibrary.client.DomoAuth as dmda\n",
                "import domolibrary.classes.DomoGroup as dmg\n",
                "\n",
                "\n",
                "token_auth = dmda.DomoTokenAuth(\n",
                "    domo_instance=\"domo-community\",\n",
                "    domo_access_token=os.environ[\"DOMO_DOJO_ACCESS_TOKEN\"],\n",
                ")\n",
                "\n",
                "domo_group = await dmg.DomoGroup.get_by_id(group_id=1324037627, auth=token_auth)\n",
                "\n",
                "domo_page = DomoPage(id=30507758, auth=token_auth)\n",
                "\n",
                "await domo_page.share(\n",
                "    auth=token_auth,\n",
                "    domo_groups=[domo_group],\n",
                "    message=None,\n",
                "    debug_api=False,\n",
                ")"
            ]
        },
        {
            "cell_type": "code",
            "execution_count": null,
            "metadata": {
                "vscode": {
                    "languageId": "python"
                }
            },
            "outputs": [],
            "source": [
                "# | exporti\n",
                "\n",
                "\n",
                "@patch_to(DomoPage, cls_method=True)\n",
                "async def get_cards(\n",
                "    cls,\n",
                "    auth: dmda.DomoAuth,\n",
                "    page_id,\n",
                "    debug_api: bool = False,\n",
                "    session: httpx.AsyncClient = None,\n",
                "):\n",
                "    import domolibrary.classes.DomoCard as dc\n",
                "\n",
                "    res = await page_routes.get_page_definition(\n",
                "        auth=auth, page_id=page_id, debug_api=debug_api, session=session\n",
                "    )\n",
                "\n",
                "    if res.status != 200:\n",
                "        raise Exception(\n",
                "            f\"unable to retrieve page definition for {page_id} in {auth.domo_instance}\"\n",
                "        )\n",
                "\n",
                "    if len(res.response.get(\"cards\")) == 0:\n",
                "        return []\n",
                "\n",
                "    return await ce.gather_with_concurrency(\n",
                "        n=60,\n",
                "        *[\n",
                "            dc.DomoCard.get_by_id(card_id=card[\"id\"], auth=auth)\n",
                "            for card in res.response.get(\"cards\")\n",
                "        ],\n",
                "    )\n",
                "\n",
                "\n",
                "@patch_to(DomoPage, cls_method=True)\n",
                "async def get_datasets(\n",
                "    cls,\n",
                "    auth: dmda.DomoAuth,\n",
                "    page_id,\n",
                "    debug_api: bool = False,\n",
                "    session: httpx.AsyncClient = None,\n",
                "):\n",
                "    import domolibrary.classes.DomoDataset as dmds\n",
                "\n",
                "    res = await page_routes.get_page_definition(\n",
                "        auth=auth, page_id=page_id, debug_api=debug_api, session=session\n",
                "    )\n",
                "\n",
                "    if res.status != 200:\n",
                "        raise Exception(\n",
                "            f\"unable to retrieve datasets for page {page_id} in {auth.domo_instance}\"\n",
                "        )\n",
                "\n",
                "    if len(res.response.get(\"cards\")) == 0:\n",
                "        return []\n",
                "\n",
                "    return await ce.gather_with_concurrency(\n",
                "        n=60,\n",
                "        *[\n",
                "            dmds.DomoDataset.get_from_id(dataset_id=ds.get(\"dataSourceId\"), auth=auth)\n",
                "            for card in res.response.get(\"cards\")\n",
                "            for ds in card.get(\"datasources\")\n",
                "        ],\n",
                "    )"
            ]
        },
        {
            "cell_type": "code",
            "execution_count": null,
            "metadata": {
                "vscode": {
                    "languageId": "python"
                }
            },
            "outputs": [
                {
                    "data": {
                        "text/plain": [
                            "[DomoCard(id=93347315, title=\"Bryan Van Kampen's Notebook Jul 25, 2023\", description=None, type='Text', urn='93347315', chart_type=None, dataset_id=None, certification=DictDot(state='NOT_CERTIFIED', adminCertified=False), owners=[DomoUser(id='587894148', display_name='Bryan Van Kampen', email_address='bryan@bvankampen.net', role_id=1, department='BT Partners', title='Executive Analytics', avatar_key='09/6CF6C801EEF440968C88ECC9824D66', phone_number='6304647034', web_landing_page=None, web_mobile_landing_page=None, employee_id=None, employee_number=None, hire_date=1588827600000, reports_to=None, publisher_domain=None, subscriber_domain=None, virtual_user_id=None, custom_attributes={}, role=DomoRole(id=1, name='Admin', description='Full access to everything', is_system_role=True, is_default_role=None, grant_ls=[], membership_ls=[]))]),\n",
                            " DomoCard(id=1642792973, title='Navbar with Track Events', description=None, type='domoapp', urn='1642792973', chart_type='domoapp', dataset_id='0baed823-d4d1-48cf-93bf-b5d75b0a5e47', certification=DictDot(state='NOT_CERTIFIED', adminCertified=False), owners=[DomoUser(id='68216396', display_name='Elliott Leonard', email_address='egleonard88@gmail.com', role_id=1, department='Owner', title=None, avatar_key='77cad494-6551-47e1-82eb-9e7d840d3a2d', phone_number='9702198956', web_landing_page=None, web_mobile_landing_page=None, employee_id=None, employee_number=None, hire_date=None, reports_to=None, publisher_domain=None, subscriber_domain=None, virtual_user_id=None, custom_attributes={}, role=DomoRole(id=1, name='Admin', description='Full access to everything', is_system_role=True, is_default_role=None, grant_ls=[], membership_ls=[]))]),\n",
                            " DomoCard(id=824650779, title=\"Bryan Van Kampen's Notebook May 8, 2020\", description=None, type='Text', urn='824650779', chart_type=None, dataset_id=None, certification=DictDot(state='NOT_CERTIFIED', adminCertified=False), owners=[DomoUser(id='587894148', display_name='Bryan Van Kampen', email_address='bryan@bvankampen.net', role_id=1, department='BT Partners', title='Executive Analytics', avatar_key='09/6CF6C801EEF440968C88ECC9824D66', phone_number='6304647034', web_landing_page=None, web_mobile_landing_page=None, employee_id=None, employee_number=None, hire_date=1588827600000, reports_to=None, publisher_domain=None, subscriber_domain=None, virtual_user_id=None, custom_attributes={}, role=DomoRole(id=1, name='Admin', description='Full access to everything', is_system_role=True, is_default_role=None, grant_ls=[], membership_ls=[]))]),\n",
                            " DomoCard(id=2004118217, title=\"Bryan Van Kampen's Notebook May 8, 2020\", description=None, type='Text', urn='2004118217', chart_type=None, dataset_id=None, certification=DictDot(state='NOT_CERTIFIED', adminCertified=False), owners=[DomoUser(id='587894148', display_name='Bryan Van Kampen', email_address='bryan@bvankampen.net', role_id=1, department='BT Partners', title='Executive Analytics', avatar_key='09/6CF6C801EEF440968C88ECC9824D66', phone_number='6304647034', web_landing_page=None, web_mobile_landing_page=None, employee_id=None, employee_number=None, hire_date=1588827600000, reports_to=None, publisher_domain=None, subscriber_domain=None, virtual_user_id=None, custom_attributes={}, role=DomoRole(id=1, name='Admin', description='Full access to everything', is_system_role=True, is_default_role=None, grant_ls=[], membership_ls=[]))]),\n",
                            " DomoCard(id=16688637, title='Slack.png', description='Slack.png', type='document', urn='16688637', chart_type=None, dataset_id=None, certification=DictDot(state='NOT_CERTIFIED', adminCertified=False), owners=[DomoUser(id='587894148', display_name='Bryan Van Kampen', email_address='bryan@bvankampen.net', role_id=1, department='BT Partners', title='Executive Analytics', avatar_key='09/6CF6C801EEF440968C88ECC9824D66', phone_number='6304647034', web_landing_page=None, web_mobile_landing_page=None, employee_id=None, employee_number=None, hire_date=1588827600000, reports_to=None, publisher_domain=None, subscriber_domain=None, virtual_user_id=None, custom_attributes={}, role=DomoRole(id=1, name='Admin', description='Full access to everything', is_system_role=True, is_default_role=None, grant_ls=[], membership_ls=[]))])]"
                        ]
                    },
                    "execution_count": null,
                    "metadata": {},
                    "output_type": "execute_result"
                }
            ],
            "source": [
                "import os\n",
                "import domolibrary.client.DomoAuth as dmda\n",
                "\n",
                "token_auth = dmda.DomoTokenAuth(\n",
                "    domo_instance=\"domo-community\",\n",
                "    domo_access_token=os.environ[\"DOMO_DOJO_ACCESS_TOKEN\"],\n",
                ")\n",
                "\n",
                "res = await DomoPage.get_cards(page_id=30507758, auth=token_auth)\n",
                "\n",
                "res[0:5]"
            ]
        },
        {
            "cell_type": "code",
            "execution_count": null,
            "metadata": {
                "vscode": {
                    "languageId": "python"
                }
            },
            "outputs": [
                {
                    "data": {
                        "text/plain": [
                            "[DomoDataset(id='0baed823-d4d1-48cf-93bf-b5d75b0a5e47', display_type='webform', data_provider_type='webform', name='Store Example Data', description=None, row_count=19378, column_count=5, stream_id=880, owner={'id': '68216396', 'name': 'Elliott Leonard', 'type': 'USER', 'group': False}, formula={}, schema=DomoDataset_Schema(dataset=..., columns=[]), tags=DomoDataset_Tags(dataset=..., tag_ls=[]), certification=None, PDP=<domolibrary.classes.DomoPDP.Dataset_PDP_Policies object>),\n",
                            " DomoDataset(id='bcfb536a-f4d8-4d1b-8d68-c6b2bf116ae8', display_type='webform', data_provider_type='webform', name='Budget 2022', description=None, row_count=12, column_count=2, stream_id=858, owner={'id': '68216396', 'name': 'Elliott Leonard', 'type': 'USER', 'group': False}, formula={}, schema=DomoDataset_Schema(dataset=..., columns=[]), tags=DomoDataset_Tags(dataset=..., tag_ls=[]), certification=None, PDP=<domolibrary.classes.DomoPDP.Dataset_PDP_Policies object>),\n",
                            " DomoDataset(id='8a721f95-d78b-4f8d-be8b-e06e913c4a5a', display_type='webform', data_provider_type='webform', name='Profit 2022', description=None, row_count=13, column_count=2, stream_id=860, owner={'id': '68216396', 'name': 'Elliott Leonard', 'type': 'USER', 'group': False}, formula={}, schema=DomoDataset_Schema(dataset=..., columns=[]), tags=DomoDataset_Tags(dataset=..., tag_ls=[]), certification=None, PDP=<domolibrary.classes.DomoPDP.Dataset_PDP_Policies object>),\n",
                            " DomoDataset(id='586d93d4-a31c-4457-8cb1-5d5417d63398', display_type='domo-governance-d14c2fef-49a8-4898-8ddd-f64998005600', data_provider_type='domo-governance-d14c2fef-49a8-4898-8ddd-f64998005600', name='Domo Governance - Users', description='', row_count=911, column_count=11, stream_id=900, owner={'id': '68216396', 'name': 'Elliott Leonard', 'type': 'USER', 'group': False}, formula={}, schema=DomoDataset_Schema(dataset=..., columns=[]), tags=DomoDataset_Tags(dataset=..., tag_ls=[]), certification=None, PDP=<domolibrary.classes.DomoPDP.Dataset_PDP_Policies object>),\n",
                            " DomoDataset(id='f8a99562-795f-46f4-8b2b-1e22754256e0', display_type='dataset-view', data_provider_type='dataset-view', name='Page Views - Last 30 Days', description='Excludes current day', row_count=5115, column_count=20, stream_id=903, owner={'id': '68216396', 'name': 'Elliott Leonard', 'type': 'USER', 'group': False}, formula={}, schema=DomoDataset_Schema(dataset=..., columns=[]), tags=DomoDataset_Tags(dataset=..., tag_ls=[]), certification=None, PDP=<domolibrary.classes.DomoPDP.Dataset_PDP_Policies object>)]"
                        ]
                    },
                    "execution_count": null,
                    "metadata": {},
                    "output_type": "execute_result"
                }
            ],
            "source": [
                "import os\n",
                "import domolibrary.client.DomoAuth as dmda\n",
                "\n",
                "token_auth = dmda.DomoTokenAuth(\n",
                "    domo_instance=\"domo-community\",\n",
                "    domo_access_token=os.environ[\"DOMO_DOJO_ACCESS_TOKEN\"],\n",
                ")\n",
                "\n",
                "res = await DomoPage.get_datasets(page_id=30507758, auth=token_auth)\n",
                "\n",
                "res[0:5]"
            ]
        },
        {
            "cell_type": "code",
            "execution_count": null,
            "metadata": {
                "vscode": {
                    "languageId": "python"
                }
            },
            "outputs": [],
            "source": [
                "# | exporti\n",
                "from datetime import datetime\n",
                "from domolibrary.utils import convert\n",
                "\n",
                "\n",
                "@patch_to(DomoPage, cls_method=True)\n",
                "async def update_layout(\n",
                "    cls, auth: dmda.DomoAuth, body: dict, layout_id: str, debug_api: bool = False\n",
                "):\n",
                "    datetime_now = datetime.now()\n",
                "    start_time_epoch = convert.convert_datetime_to_epoch_millisecond(datetime_now)\n",
                "\n",
                "    res_writelock = await page_routes.put_writelock(\n",
                "        auth=auth,\n",
                "        layout_id=layout_id,\n",
                "        user_id=auth.user_id,\n",
                "        epoch_time=start_time_epoch,\n",
                "    )\n",
                "    if res_writelock.status == 200:\n",
                "        res = await page_routes.update_page_layout(\n",
                "            auth=auth, body=body, layout_id=layout_id, debug_api=debug_api\n",
                "        )\n",
                "\n",
                "        if not res.is_success:\n",
                "            return False\n",
                "\n",
                "        res_writelock = await page_routes.delete_writelock(\n",
                "            auth=auth, layout_id=layout_id\n",
                "        )\n",
                "        if res_writelock.status != 200:\n",
                "            return False\n",
                "\n",
                "    else:\n",
                "        return False\n",
                "\n",
                "    return True"
            ]
        },
        {
            "attachments": {},
            "cell_type": "markdown",
            "metadata": {},
            "source": [
                "# Sample update page layout by background color\n"
            ]
        },
        {
            "cell_type": "code",
            "execution_count": null,
            "metadata": {
                "vscode": {
                    "languageId": "python"
                }
            },
            "outputs": [
                {
                    "data": {
                        "text/plain": [
                            "True"
                        ]
                    },
                    "execution_count": null,
                    "metadata": {},
                    "output_type": "execute_result"
                }
            ],
            "source": [
                "from pprint import pprint\n",
                "import os\n",
                "\n",
                "token_auth = dmda.DomoTokenAuth(\n",
                "    domo_instance=\"domo-community\",\n",
                "    domo_access_token=os.environ[\"DOMO_DOJO_ACCESS_TOKEN\"],\n",
                ")\n",
                "\n",
                "page_id = 1761849366\n",
                "domo_page = await DomoPage.get_by_id(\n",
                "    page_id=page_id, auth=token_auth, return_raw=False, include_layout=True\n",
                ")\n",
                "\n",
                "body = domo_page.layout.get_body()\n",
                "\n",
                "if not hasattr(body, \"background\"):\n",
                "    new_background_body = dmpg_c.PageLayout.generate_new_background_body()\n",
                "    body[\"background\"] = new_background_body\n",
                "\n",
                "body[\"background\"][\"selectedColor\"] = \"#FF0000\"\n",
                "auth = dmda.DomoFullAuth(\n",
                "    domo_instance=\"domo-community\",\n",
                "    domo_password=os.environ[\"DOJO_PASSWORD\"],\n",
                "    domo_username=os.environ[\"DOMO_USERNAME\"],\n",
                ")\n",
                "\n",
                "await DomoPage.update_layout(auth=auth, body=body, layout_id=domo_page.layout.id)"
            ]
        },
        {
            "cell_type": "code",
            "execution_count": null,
            "metadata": {
                "vscode": {
                    "languageId": "python"
                }
            },
            "outputs": [],
            "source": [
                "# | exporti\n",
                "@patch_to(DomoPage, cls_method=True)\n",
                "async def add_page_owner(\n",
                "    cls,\n",
                "    auth: dmda.DomoAuth,\n",
                "    page_id_ls: [],  # Page IDs to be updated by owner,\n",
                "    group_id_ls: [],  # DomoGroup IDs to share page with\n",
                "    user_id_ls: [],  # DomoUser IDs to share page with\n",
                "    note: str = None,  # message for automated email\n",
                "    send_email: bool = False,  # send or not email to the new owners\n",
                "    debug_api: bool = False,\n",
                "    session: httpx.AsyncClient = None,\n",
                "):\n",
                "    res = await page_routes.add_page_owner(\n",
                "        auth=auth,\n",
                "        page_id_ls=page_id_ls,\n",
                "        group_id_ls=group_id_ls,\n",
                "        user_id_ls=user_id_ls,\n",
                "        note=note,\n",
                "        send_email=send_email,\n",
                "        debug_api=debug_api,\n",
                "        session=session,\n",
                "    )\n",
                "\n",
                "    return res"
            ]
        },
        {
            "cell_type": "markdown",
            "metadata": {},
            "source": [
                "Sample implementation of add_page_owner"
            ]
        },
        {
            "cell_type": "code",
            "execution_count": null,
            "metadata": {
                "vscode": {
                    "languageId": "python"
                }
            },
            "outputs": [
                {
                    "name": "stdout",
                    "output_type": "stream",
                    "text": [
                        "''\n"
                    ]
                }
            ],
            "source": [
                "from pprint import pprint\n",
                "import os\n",
                "\n",
                "token_auth = dmda.DomoTokenAuth(\n",
                "    domo_instance=\"domo-community\",\n",
                "    domo_access_token=os.environ[\"DOMO_DOJO_ACCESS_TOKEN\"],\n",
                ")\n",
                "\n",
                "page_id = \"1755881138\"\n",
                "user_id = \"1893952720\"\n",
                "res = await DomoPage.add_page_owner(\n",
                "    page_id_ls=[page_id], auth=token_auth, group_id_ls=[], user_id_ls=[user_id]\n",
                ")\n",
                "\n",
                "\n",
                "pprint(res.response)"
            ]
        },
        {
            "cell_type": "code",
            "execution_count": null,
            "metadata": {
                "vscode": {
                    "languageId": "python"
                }
            },
            "outputs": [
                {
                    "name": "stdout",
                    "output_type": "stream",
                    "text": [
                        "All done! ✨ 🍰 ✨\n",
                        "1 file left unchanged.\n"
                    ]
                }
            ],
            "source": [
                "# | hide\n",
                "import nbdev\n",
                "\n",
                "nbdev.nbdev_export()\n",
                "!nbqa black 50_DomoPage.ipynb"
            ]
        }
    ],
    "metadata": {
        "jupytext": {
            "split_at_heading": true
        },
        "kernelspec": {
            "display_name": "python3",
            "language": "python",
            "name": "python3"
        }
    },
    "nbformat": 4,
    "nbformat_minor": 4
}
