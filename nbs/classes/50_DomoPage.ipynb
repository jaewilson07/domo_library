{
 "cells": [
  {
   "cell_type": "raw",
   "metadata": {},
   "source": [
    "---\n",
    "output-file: page_class.html\n",
    "title: Page\n",
    "---"
   ]
  },
  {
   "cell_type": "code",
   "execution_count": 26,
   "metadata": {},
   "outputs": [],
   "source": [
    "# | default_exp classes.DomoPage\n"
   ]
  },
  {
   "cell_type": "code",
   "execution_count": 27,
   "metadata": {},
   "outputs": [],
   "source": [
    "# | exporti\n",
    "from fastcore.basics import patch_to\n",
    "from dataclasses import dataclass, field\n",
    "\n",
    "import asyncio\n",
    "import httpx\n",
    "\n",
    "import domolibrary.client.DomoAuth as dmda\n",
    "import domolibrary.classes.DomoUser as dmdu\n",
    "import domolibrary.utils.DictDot as util_dd\n",
    "\n",
    "import domolibrary.routes.page as page_routes\n"
   ]
  },
  {
   "cell_type": "code",
   "execution_count": 28,
   "metadata": {},
   "outputs": [],
   "source": [
    "# | export\n",
    "@dataclass\n",
    "class DomoPage:\n",
    "    id: str\n",
    "    title: str = None\n",
    "    parent_page_id: str = None\n",
    "    auth: dmda.DomoAuth = field(default = None , repr = False)\n",
    "    owners: list = field(default_factory=list)\n",
    "    cards: list = field(default_factory=list)\n",
    "    collections: list = field(default_factory=list)\n",
    "    children: list = field(default_factory=list)\n",
    "\n",
    "    def display_url(self):\n",
    "        return f\"https://{self.auth.domo_instance}.domo.com/page/{self.id}\""
   ]
  },
  {
   "cell_type": "code",
   "execution_count": 29,
   "metadata": {},
   "outputs": [],
   "source": [
    "# | exporti\n",
    "\n",
    "@patch_to(DomoPage, cls_method=True)\n",
    "def _from_bootstrap(cls: DomoPage, page_obj, auth: dmda.DomoAuth = None):\n",
    "\n",
    "    dd = page_obj\n",
    "    if isinstance(page_obj, dict):\n",
    "        dd = util_dd.DictDot(page_obj)\n",
    "\n",
    "    domo_page = cls(id=dd.id, title=dd.title, auth=auth)\n",
    "\n",
    "    if isinstance(dd.owners, list) and len(dd.owners) > 0:\n",
    "        domo_page.owners = [\n",
    "            dmdu.DomoUser._from_bootstrap_json(auth=auth, user_obj=user_dd)\n",
    "            for user_dd in dd.owners\n",
    "            if user_dd.type == 'USER'\n",
    "        ]\n",
    "\n",
    "        [print(other_dd) for other_dd in dd.owners\n",
    "         if other_dd.type != 'USER']\n",
    "\n",
    "    if isinstance(dd.children, list) and len(dd.children) > 0:\n",
    "        domo_page.children = [\n",
    "            cls._from_bootstrap(page_obj=child_dd, auth=auth)\n",
    "            for child_dd in dd.children\n",
    "            if child_dd.type == \"page\"\n",
    "        ]\n",
    "\n",
    "        [print(other_dd) for other_dd in dd.children\n",
    "            if other_dd.type != \"page\"]\n",
    "\n",
    "    return domo_page\n"
   ]
  },
  {
   "attachments": {},
   "cell_type": "markdown",
   "metadata": {},
   "source": [
    "#### sample _from_bootstrap_routes"
   ]
  },
  {
   "cell_type": "code",
   "execution_count": 30,
   "metadata": {},
   "outputs": [
    {
     "data": {
      "text/plain": [
       "DomoPage(id='790951325', title='Coronavirus (COVID-19) Dashboard', parent_page_id=None, owners=[DomoUser(id='1345408759', display_name='Alexis Lorenz (DataMaven)', email_address=None, role_id=None, publisher_domain=None, subscriber_domain=None, virtual_user_id=None)], cards=[], collections=[], children=[DomoPage(id='1289295627', title='Dataset Schemas', parent_page_id=None, owners=[DomoUser(id='1345408759', display_name='Alexis Lorenz (DataMaven)', email_address=None, role_id=None, publisher_domain=None, subscriber_domain=None, virtual_user_id=None)], cards=[], collections=[], children=[]), DomoPage(id='756869253', title='Coronavirus (Alexis)', parent_page_id=None, owners=[DomoUser(id='1345408759', display_name='Alexis Lorenz (DataMaven)', email_address=None, role_id=None, publisher_domain=None, subscriber_domain=None, virtual_user_id=None)], cards=[], collections=[], children=[]), DomoPage(id='11555470', title='Contiguous United States Detail (Alexis)', parent_page_id=None, owners=[DomoUser(id='1345408759', display_name='Alexis Lorenz (DataMaven)', email_address=None, role_id=None, publisher_domain=None, subscriber_domain=None, virtual_user_id=None)], cards=[], collections=[], children=[])])"
      ]
     },
     "execution_count": 30,
     "metadata": {},
     "output_type": "execute_result"
    }
   ],
   "source": [
    "import os\n",
    "import domolibrary.routes.bootstrap as bootstrap_routes\n",
    "\n",
    "auth = dmda.DomoFullAuth(\n",
    "    domo_instance='domo-community', domo_password = os.environ['DOJO_PASSWORD'], domo_username= os.environ['DOMO_USERNAME'])\n",
    "\n",
    "res = await bootstrap_routes.get_bootstrap_pages(auth = auth)\n",
    "\n",
    "page_obj = res.response[10]\n",
    "DomoPage._from_bootstrap(page_obj, auth = auth)"
   ]
  },
  {
   "cell_type": "code",
   "execution_count": 34,
   "metadata": {},
   "outputs": [],
   "source": [
    "# | exporti\n",
    "\n",
    "@patch_to(DomoPage, cls_method=True)\n",
    "async def _from_content_stacks_v3(cls: DomoPage, page_obj, auth: dmda.DomoAuth = None):\n",
    "    # import domolibrary.classes.DomoCard as dc\n",
    "\n",
    "    dd = page_obj\n",
    "    if isinstance(page_obj, dict):\n",
    "        dd = util_dd.DictDot(page_obj)\n",
    "\n",
    "    pg = cls(\n",
    "        id=dd.id,\n",
    "        title=dd.title,\n",
    "        parent_page_id=dd.page.parentPageId,\n",
    "        owners=dd.page.owners,\n",
    "        collections=dd.collections,\n",
    "        auth=auth\n",
    "    )\n",
    "\n",
    "    # if dd.cards and len(dd.cards) > 0:\n",
    "    #     pg.cards = await asyncio.gather(\n",
    "    #         *[dc.DomoCard.get_from_id(id=card.id, auth=auth) for card in dd.cards])\n",
    "\n",
    "    return pg\n",
    "\n",
    "\n",
    "@patch_to(DomoPage, cls_method=True)\n",
    "async def get_by_id(cls: DomoPage,\n",
    "                    page_id: str,\n",
    "                    auth: dmda.DomoAuth,\n",
    "                    return_raw: bool = False, \n",
    "                    debug_api: bool = False):\n",
    "\n",
    "    res = await page_routes.get_page_by_id(auth=auth, page_id=page_id, debug_api=debug_api)\n",
    "\n",
    "    if return_raw:\n",
    "        return res\n",
    "        \n",
    "    if not res.status == 200:\n",
    "        return\n",
    "\n",
    "    pg = await cls._from_content_stacks_v3(page_obj=res.response, auth=auth)\n",
    "\n",
    "    return pg\n"
   ]
  },
  {
   "cell_type": "markdown",
   "metadata": {},
   "source": [
    "#### sample implementation of get_from_id"
   ]
  },
  {
   "cell_type": "code",
   "execution_count": 37,
   "metadata": {},
   "outputs": [
    {
     "data": {
      "text/plain": [
       "ResponseGetData(status=200, response={'id': '1761849366', 'page': {'pageId': 1761849366, 'ownerId': 1893952720, 'owners': [{'id': 1893952720, 'type': 'USER', 'displayName': 'Jae Wilson1'}], 'type': 'page', 'title': 'delete me', 'pageName': 'delete me', 'created': 1625863915000, 'updated': 1631900656760, 'locked': False, 'mobileEnabled': True, 'sharedViewPage': True, 'virtualPage': False, 'isOwner': True}, 'type': 'page', 'title': 'delete me', 'sizes': [{'id': '2056437956', 'size': ''}, {'id': '1548948000', 'size': ''}], 'cards': [{'metadata': {'chartType': 'badge_vert_multibar', 'chartVersion': '8', 'currentLabel': '', 'currentMethod': 'empty', 'historyId': '2e5a1be4-8d73-4872-9ce1-20151ccd7e31', 'calendar': 'default', 'columnAliases': '{}', 'columnFormats': '{}', 'SummaryNumberFormat': '{\"type\":\"number\",\"format\":\"#A\"}'}, 'urn': '2056437956', 'id': 2056437956, 'type': 'kpi', 'created': 1631619693, 'badgeUpdated': 1631619716000, 'creatorId': 1898323170, 'ownerId': 1898323170, 'description': '', 'title': 'Trying Card Beast Mode', 'active': True, 'allowTableDrill': True, 'locked': False}, {'metadata': {'chartType': 'badge_vert_multibar', 'chartVersion': '8', 'currentLabel': '', 'currentMethod': 'empty', 'historyId': '6fa216c4-1465-4242-917c-3ca9e018c8be', 'calendar': 'default', 'columnAliases': '{}', 'columnFormats': '{}', 'SummaryNumberFormat': '{\"type\":\"number\",\"format\":\"#A\"}'}, 'urn': '1548948000', 'id': 1548948000, 'type': 'kpi', 'created': 1631619158, 'badgeUpdated': 1631619767000, 'creatorId': 1898323170, 'ownerId': 1898323170, 'description': '', 'title': 'View of 75th Percentile Test - Baseball Stats', 'active': True, 'allowTableDrill': True, 'locked': False}], 'collections': [{'id': 2073919085, 'title': 'How did education impact povert', 'description': '', 'minimized': False, 'cardIndices': []}, {'id': 397530436, 'title': 'Whats the ratio between local versus foreign students', 'description': '', 'minimized': False, 'cardIndices': [0, 1]}], 'locked': False, 'isFavorite': False, 'pageAnalyzerSettings': {'pageId': 1761849366, 'interactionFilters': False, 'noAddingNewFilters': False, 'showFilterBar': True, 'showGlobalDateFilters': True, 'showSegments': True, 'showFilterIcons': True}}, is_success=True)"
      ]
     },
     "execution_count": 37,
     "metadata": {},
     "output_type": "execute_result"
    }
   ],
   "source": [
    "from pprint import pprint\n",
    "import os\n",
    "\n",
    "token_auth = dmda.DomoTokenAuth(\n",
    "    domo_instance=\"domo-community\",\n",
    "    domo_access_token=os.environ[\"DOMO_DOJO_ACCESS_TOKEN\"],\n",
    ")\n",
    "\n",
    "page_id = 1761849366\n",
    "await DomoPage.get_by_id(page_id=page_id, auth=token_auth, return_raw=True)\n",
    "\n",
    "\n",
    "\n"
   ]
  },
  {
   "cell_type": "code",
   "execution_count": null,
   "metadata": {},
   "outputs": [],
   "source": [
    "\n",
    "\n",
    "#     @classmethod\n",
    "#     async def get_cards(cls, auth, page_id, debug: bool = False, session: httpx.AsyncClient = None):\n",
    "#         try:\n",
    "#             import Library.DomoClasses.DomoCard as dc\n",
    "#             close_session = False if session else True\n",
    "\n",
    "#             if not session:\n",
    "#                 session = httpx.AsyncClient()\n",
    "\n",
    "#             res = await page_routes.get_page_definition(auth=auth, page_id=page_id, debug=debug, session=session)\n",
    "\n",
    "#             if res.status == 200:\n",
    "#                 json = res.response\n",
    "\n",
    "#                 card_list = [dc.DomoCard(id=card.get(\n",
    "#                     'id'), auth=auth) for card in json.get('cards')]\n",
    "\n",
    "#                 return card_list\n",
    "\n",
    "#             else:\n",
    "#                 return None\n",
    "\n",
    "#         finally:\n",
    "#             if close_session:\n",
    "#                 await session.aclose()\n",
    "\n",
    "#     async def get_datasets(auth, page_id, debug: bool = False, session: httpx.AsyncClient = None):\n",
    "#         try:\n",
    "#             import Library.DomoClasses.DomoDataset as dmds\n",
    "#             close_session = False if session else True\n",
    "\n",
    "#             if not session:\n",
    "#                 session = httpx.AsyncClient()\n",
    "\n",
    "#             res = await page_routes.get_page_definition(auth=auth, page_id=page_id, debug=debug, session=session)\n",
    "\n",
    "#             if res.status == 200:\n",
    "#                 json = res.response\n",
    "\n",
    "#                 dataset_ls = [card.get('datasources')\n",
    "#                               for card in json.get('cards')]\n",
    "\n",
    "#                 return [dmds.DomoDataset(id=ds.get('dataSourceId'), auth=auth) for ds_ls in dataset_ls for ds in ds_ls]\n",
    "\n",
    "#             else:\n",
    "#                 return None\n",
    "\n",
    "#         finally:\n",
    "#             if close_session:\n",
    "#                 await session.aclose()"
   ]
  },
  {
   "cell_type": "code",
   "execution_count": null,
   "metadata": {},
   "outputs": [],
   "source": [
    "# | hide\n",
    "import nbdev\n",
    "\n",
    "nbdev.nbdev_export()"
   ]
  }
 ],
 "metadata": {
  "jupytext": {
   "split_at_heading": true
  },
  "kernelspec": {
   "display_name": "Python 3",
   "language": "python",
   "name": "python3"
  },
  "language_info": {
   "codemirror_mode": {
    "name": "ipython",
    "version": 3
   },
   "file_extension": ".py",
   "mimetype": "text/x-python",
   "name": "python",
   "nbconvert_exporter": "python",
   "pygments_lexer": "ipython3",
   "version": "3.10.4"
  }
 },
 "nbformat": 4,
 "nbformat_minor": 4
}
