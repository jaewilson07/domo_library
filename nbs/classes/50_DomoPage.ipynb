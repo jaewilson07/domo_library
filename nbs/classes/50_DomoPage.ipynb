{
 "cells": [
  {
   "cell_type": "raw",
   "metadata": {},
   "source": [
    "---\n",
    "output-file: page_class.html\n",
    "title: Page\n",
    "---"
   ]
  },
  {
   "cell_type": "code",
   "execution_count": 27,
   "metadata": {},
   "outputs": [],
   "source": [
    "# | default_exp classes.DomoPage\n"
   ]
  },
  {
   "cell_type": "code",
   "execution_count": 28,
   "metadata": {},
   "outputs": [],
   "source": [
    "# | exporti\n",
    "from fastcore.basics import patch_to\n",
    "from dataclasses import dataclass, field\n",
    "\n",
    "import asyncio\n",
    "import httpx\n",
    "\n",
    "import domolibrary.client.DomoAuth as dmda\n",
    "import domolibrary.classes.DomoUser as dmdu\n",
    "import domolibrary.utils.DictDot as util_dd\n",
    "\n",
    "import domolibrary.routes.page as page_routes\n"
   ]
  },
  {
   "cell_type": "code",
   "execution_count": 29,
   "metadata": {},
   "outputs": [],
   "source": [
    "# | export\n",
    "@dataclass\n",
    "class DomoPage:\n",
    "    id: str\n",
    "    title: str = None\n",
    "    parent_page_id: str = None\n",
    "    auth: dmda.DomoAuth = field(default = None , repr = False)\n",
    "    owners: list = field(default_factory=list)\n",
    "    cards: list = field(default_factory=list)\n",
    "    collections: list = field(default_factory=list)\n",
    "    children: list = field(default_factory=list)\n",
    "\n",
    "    def display_url(self):\n",
    "        return f\"https://{self.auth.domo_instance}.domo.com/page/{self.id}\""
   ]
  },
  {
   "cell_type": "code",
   "execution_count": 30,
   "metadata": {},
   "outputs": [],
   "source": [
    "# | exporti\n",
    "\n",
    "@patch_to(DomoPage, cls_method=True)\n",
    "def _from_bootstrap(cls: DomoPage, page_obj, auth: dmda.DomoAuth = None):\n",
    "\n",
    "    dd = page_obj\n",
    "    if isinstance(page_obj, dict):\n",
    "        dd = util_dd.DictDot(page_obj)\n",
    "\n",
    "    domo_page = cls(id=dd.id, title=dd.title, auth=auth)\n",
    "\n",
    "    if isinstance(dd.owners, list) and len(dd.owners) > 0:\n",
    "        domo_page.owners = [\n",
    "            dmdu.DomoUser._from_bootstrap_json(auth=auth, user_obj=user_dd)\n",
    "            for user_dd in dd.owners\n",
    "            if user_dd.type == 'USER'\n",
    "        ]\n",
    "\n",
    "        [print(other_dd) for other_dd in dd.owners\n",
    "         if other_dd.type != 'USER']\n",
    "\n",
    "    if isinstance(dd.children, list) and len(dd.children) > 0:\n",
    "        domo_page.children = [\n",
    "            cls._from_bootstrap(page_obj=child_dd, auth=auth)\n",
    "            for child_dd in dd.children\n",
    "            if child_dd.type == \"page\"\n",
    "        ]\n",
    "\n",
    "        [print(other_dd) for other_dd in dd.children\n",
    "            if other_dd.type != \"page\"]\n",
    "\n",
    "    return domo_page\n"
   ]
  },
  {
   "attachments": {},
   "cell_type": "markdown",
   "metadata": {},
   "source": [
    "#### sample _from_bootstrap_routes"
   ]
  },
  {
   "cell_type": "code",
   "execution_count": 31,
   "metadata": {},
   "outputs": [],
   "source": [
    "import os\n",
    "import domolibrary.routes.bootstrap as bootstrap_routes\n",
    "\n",
    "auth = dmda.DomoFullAuth(\n",
    "    domo_instance='domo-community',\n",
    "    domo_password = os.environ['DOJO_PASSWORD'],\n",
    "    domo_username= os.environ['DOMO_USERNAME'])\n",
    "\n",
    "res = await bootstrap_routes.get_bootstrap_pages(auth = auth)\n",
    "\n",
    "page_obj = res.response[10]\n",
    "dp = DomoPage._from_bootstrap(page_obj, auth = auth)"
   ]
  },
  {
   "cell_type": "code",
   "execution_count": 32,
   "metadata": {},
   "outputs": [],
   "source": [
    "# | exporti\n",
    "\n",
    "@patch_to(DomoPage, cls_method=True)\n",
    "async def _from_content_stacks_v3(cls: DomoPage, page_obj, auth: dmda.DomoAuth = None):\n",
    "    # import domolibrary.classes.DomoCard as dc\n",
    "\n",
    "    dd = page_obj\n",
    "    if isinstance(page_obj, dict):\n",
    "        dd = util_dd.DictDot(page_obj)\n",
    "\n",
    "    pg = cls(\n",
    "        id=dd.id,\n",
    "        title=dd.title,\n",
    "        parent_page_id=dd.page.parentPageId,\n",
    "        owners=dd.page.owners,\n",
    "        collections=dd.collections,\n",
    "        auth=auth\n",
    "    )\n",
    "\n",
    "    # if dd.cards and len(dd.cards) > 0:\n",
    "    #     pg.cards = await asyncio.gather(\n",
    "    #         *[dc.DomoCard.get_from_id(id=card.id, auth=auth) for card in dd.cards])\n",
    "\n",
    "    return pg\n",
    "\n",
    "\n",
    "@patch_to(DomoPage, cls_method=True)\n",
    "async def get_by_id(cls: DomoPage,\n",
    "                    page_id: str,\n",
    "                    auth: dmda.DomoAuth,\n",
    "                    return_raw: bool = False, \n",
    "                    debug_api: bool = False):\n",
    "\n",
    "    res = await page_routes.get_page_by_id(auth=auth, page_id=page_id, debug_api=debug_api)\n",
    "\n",
    "    if return_raw:\n",
    "        return res\n",
    "        \n",
    "    if not res.status == 200:\n",
    "        return\n",
    "\n",
    "    pg = await cls._from_content_stacks_v3(page_obj=res.response, auth=auth)\n",
    "\n",
    "    return pg\n"
   ]
  },
  {
   "cell_type": "markdown",
   "metadata": {},
   "source": [
    "#### sample implementation of get_from_id"
   ]
  },
  {
   "cell_type": "code",
   "execution_count": 33,
   "metadata": {},
   "outputs": [
    {
     "data": {
      "text/plain": [
       "DomoPage(id='1761849366', title='delete me', parent_page_id=None, owners=[DictDot(id=1893952720, type='USER', displayName='Jae Wilson1')], cards=[], collections=[DictDot(id=2073919085, title='How did education impact povert', description='', minimized=False, cardIndices=[]), DictDot(id=397530436, title='Whats the ratio between local versus foreign students', description='', minimized=False, cardIndices=[0, 1])], children=[])"
      ]
     },
     "execution_count": 33,
     "metadata": {},
     "output_type": "execute_result"
    }
   ],
   "source": [
    "from pprint import pprint\n",
    "import os\n",
    "\n",
    "token_auth = dmda.DomoTokenAuth(\n",
    "    domo_instance=\"domo-community\",\n",
    "    domo_access_token=os.environ[\"DOMO_DOJO_ACCESS_TOKEN\"],\n",
    ")\n",
    "\n",
    "page_id = 1761849366\n",
    "domo_page = await DomoPage.get_by_id(page_id=page_id, auth=token_auth, return_raw=False)\n",
    "\n",
    "domo_page\n"
   ]
  },
  {
   "cell_type": "code",
   "execution_count": 40,
   "metadata": {},
   "outputs": [],
   "source": [
    "#| exporti\n",
    "\n",
    "@patch_to(DomoPage)\n",
    "async def _from_adminsummary():\n",
    "\n",
    "    import domolibrary.classes.DomoCard as dmc\n",
    "\n",
    "    dd = page_obj\n",
    "    if isinstance(page_obj, dict):\n",
    "        dd = util_dd.DictDot(page_obj)\n",
    "\n",
    "    pg = cls(\n",
    "        id=dd.id,\n",
    "        title=dd.title,\n",
    "        parent_page_id=dd.page.parentPageId,\n",
    "        owners=dd.page.owners,\n",
    "        collections=dd.collections,\n",
    "        auth=auth\n",
    "    )\n",
    "\n",
    "    if dd.cards and len(dd.cards) > 0:\n",
    "        pg.cards = await asyncio.gather(\n",
    "            *[dmc.DomoCard.get_from_id(id=card.id, auth=auth) for card in dd.cards])\n",
    "\n",
    "    return pg\n"
   ]
  },
  {
   "cell_type": "code",
   "execution_count": 41,
   "metadata": {},
   "outputs": [],
   "source": [
    "# | export\n",
    "@patch_to(DomoPage)\n",
    "async def get_accesslist(self,\n",
    "                         auth: dmda.DomoAuth = None,\n",
    "                         is_expand_users: bool = False,\n",
    "                         return_raw: bool = False,\n",
    "                         debug_api: bool = False):\n",
    "\n",
    "    auth = auth or self.auth\n",
    "\n",
    "    res = await page_routes.get_page_access_list(auth=auth,\n",
    "                                                is_expand_users=is_expand_users,\n",
    "                                                page_id=self.id,\n",
    "                                                debug_api=debug_api\n",
    "                                                )\n",
    "\n",
    "    if return_raw:\n",
    "        return res\n",
    "\n",
    "    if not res.is_success :\n",
    "        raise Exception('error getting access list')\n",
    "\n",
    "    import domolibrary.classes.DomoUser as dmu\n",
    "    import domolibrary.classes.DomoGroup as dmg\n",
    "    \n",
    "    tasks = await asyncio.gather( \n",
    "        dmu.DomoUsers.by_id(user_ids=[user.get('id') for user in res.response.get('users')], only_allow_one=False, auth=auth),\n",
    "        * [ dmg.DomoGroup.get_by_id( group_id = group.get('id'), auth = auth) for group in res.response.get('groups')]\n",
    "    )\n",
    "    \n",
    "    res.response.update({'users': tasks[0], 'groups': tasks[1:]})\n",
    "\n",
    "    return res.response\n"
   ]
  },
  {
   "attachments": {},
   "cell_type": "markdown",
   "metadata": {},
   "source": [
    "#### sample get_accesslist"
   ]
  },
  {
   "cell_type": "code",
   "execution_count": 45,
   "metadata": {},
   "outputs": [
    {
     "data": {
      "text/plain": [
       "{'users': [DomoUser(id='1216550715', title=None, department=None, display_name='8:26 - go to sleep', email_address='test4@domo.com', role_id=2, phone_number=None, web_landing_page=None, web_mobile_landing_page=None, employee_id=None, employee_number=None, hire_date=None, reports_to=None, publisher_domain=None, subscriber_domain=None, virtual_user_id=None),\n",
       "  DomoUser(id='1628021317', title=None, department=None, display_name='Aaron Dean', email_address='aaron.dean@rxa.io', role_id=2097317660, phone_number=None, web_landing_page=None, web_mobile_landing_page=None, employee_id=None, employee_number=None, hire_date=None, reports_to=None, publisher_domain=None, subscriber_domain=None, virtual_user_id=None),\n",
       "  DomoUser(id='1542225148', title=None, department=None, display_name='Adam Landefeld', email_address='Adam.Landefeld@domo.com', role_id=2097317660, phone_number=None, web_landing_page=None, web_mobile_landing_page=None, employee_id=None, employee_number=None, hire_date=None, reports_to=None, publisher_domain=None, subscriber_domain=None, virtual_user_id=None),\n",
       "  DomoUser(id='1345408759', title=None, department=None, display_name='Alexis Lorenz (DataMaven)', email_address='DataMaven42@gmail.com', role_id=1, phone_number=None, web_landing_page=None, web_mobile_landing_page=None, employee_id=None, employee_number=None, hire_date=None, reports_to=None, publisher_domain=None, subscriber_domain=None, virtual_user_id=None),\n",
       "  DomoUser(id='1416802348', title=None, department=None, display_name='Dean', email_address='dean.pangelinan@bluemoondigital.co', role_id=2, phone_number=None, web_landing_page=None, web_mobile_landing_page=None, employee_id=None, employee_number=None, hire_date=None, reports_to=None, publisher_domain=None, subscriber_domain=None, virtual_user_id=None),\n",
       "  DomoUser(id='68216396', title=None, department=None, display_name='Elliott Leonard', email_address='egleonard88@gmail.com', role_id=1, phone_number=None, web_landing_page=None, web_mobile_landing_page=None, employee_id=None, employee_number=None, hire_date=None, reports_to=None, publisher_domain=None, subscriber_domain=None, virtual_user_id=None),\n",
       "  DomoUser(id='1893952720', title=None, department=None, display_name='Jae Wilson1', email_address='jae@onyxreporting.com', role_id=1, phone_number=None, web_landing_page=None, web_mobile_landing_page=None, employee_id=None, employee_number=None, hire_date=None, reports_to=None, publisher_domain=None, subscriber_domain=None, virtual_user_id=None)],\n",
       " 'groups': [DomoGroup(id=746771171, name='test creator', type='adHoc', description=None),\n",
       "  DomoGroup(id=1944377875, name='Test Group 2q32', type='closed', description='updated via upsert_group on 2023-04-19')],\n",
       " 'resource': {'id': '1761849366', 'type': 'page'},\n",
       " 'totalUserCount': 7}"
      ]
     },
     "execution_count": 45,
     "metadata": {},
     "output_type": "execute_result"
    }
   ],
   "source": [
    "from pprint import pprint\n",
    "import os\n",
    "\n",
    "token_auth = dmda.DomoTokenAuth(\n",
    "    domo_instance=\"domo-community\",\n",
    "    domo_access_token=os.environ[\"DOMO_DOJO_ACCESS_TOKEN\"],\n",
    ")\n",
    "\n",
    "page_id = 1761849366\n",
    "domo_page = DomoPage(id=page_id, auth=token_auth)\n",
    "\n",
    "await domo_page.get_accesslist(is_expand_users=True, return_raw=False, debug_api=False)\n"
   ]
  },
  {
   "cell_type": "code",
   "execution_count": 37,
   "metadata": {},
   "outputs": [],
   "source": [
    "\n",
    "\n",
    "#     @classmethod\n",
    "#     async def get_cards(cls, auth, page_id, debug: bool = False, session: httpx.AsyncClient = None):\n",
    "#         try:\n",
    "#             import Library.DomoClasses.DomoCard as dc\n",
    "#             close_session = False if session else True\n",
    "\n",
    "#             if not session:\n",
    "#                 session = httpx.AsyncClient()\n",
    "\n",
    "#             res = await page_routes.get_page_definition(auth=auth, page_id=page_id, debug=debug, session=session)\n",
    "\n",
    "#             if res.status == 200:\n",
    "#                 json = res.response\n",
    "\n",
    "#                 card_list = [dc.DomoCard(id=card.get(\n",
    "#                     'id'), auth=auth) for card in json.get('cards')]\n",
    "\n",
    "#                 return card_list\n",
    "\n",
    "#             else:\n",
    "#                 return None\n",
    "\n",
    "#         finally:\n",
    "#             if close_session:\n",
    "#                 await session.aclose()\n",
    "\n",
    "#     async def get_datasets(auth, page_id, debug: bool = False, session: httpx.AsyncClient = None):\n",
    "#         try:\n",
    "#             import Library.DomoClasses.DomoDataset as dmds\n",
    "#             close_session = False if session else True\n",
    "\n",
    "#             if not session:\n",
    "#                 session = httpx.AsyncClient()\n",
    "\n",
    "#             res = await page_routes.get_page_definition(auth=auth, page_id=page_id, debug=debug, session=session)\n",
    "\n",
    "#             if res.status == 200:\n",
    "#                 json = res.response\n",
    "\n",
    "#                 dataset_ls = [card.get('datasources')\n",
    "#                               for card in json.get('cards')]\n",
    "\n",
    "#                 return [dmds.DomoDataset(id=ds.get('dataSourceId'), auth=auth) for ds_ls in dataset_ls for ds in ds_ls]\n",
    "\n",
    "#             else:\n",
    "#                 return None\n",
    "\n",
    "#         finally:\n",
    "#             if close_session:\n",
    "#                 await session.aclose()"
   ]
  },
  {
   "cell_type": "code",
   "execution_count": 38,
   "metadata": {},
   "outputs": [],
   "source": [
    "# | hide\n",
    "import nbdev\n",
    "\n",
    "nbdev.nbdev_export()"
   ]
  }
 ],
 "metadata": {
  "jupytext": {
   "split_at_heading": true
  },
  "kernelspec": {
   "display_name": "Python 3",
   "language": "python",
   "name": "python3"
  },
  "language_info": {
   "codemirror_mode": {
    "name": "ipython",
    "version": 3
   },
   "file_extension": ".py",
   "mimetype": "text/x-python",
   "name": "python",
   "nbconvert_exporter": "python",
   "pygments_lexer": "ipython3",
   "version": "3.10.4"
  }
 },
 "nbformat": 4,
 "nbformat_minor": 4
}
