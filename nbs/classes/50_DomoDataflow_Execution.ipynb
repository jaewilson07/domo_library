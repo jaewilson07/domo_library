{
 "cells": [
  {
   "cell_type": "raw",
   "metadata": {},
   "source": [
    "---\n",
    "description: a class based approach to interacting with dataflows\n",
    "output-file: dataflow_class.html\n",
    "title: Dataflow\n",
    "---"
   ]
  },
  {
   "cell_type": "code",
   "execution_count": 1,
   "metadata": {},
   "outputs": [],
   "source": [
    "# | default_exp classes.DomoDataflow_Execution"
   ]
  },
  {
   "cell_type": "code",
   "execution_count": 2,
   "metadata": {},
   "outputs": [],
   "source": [
    "# | exporti\n",
    "\n",
    "from __future__ import annotations\n",
    "\n",
    "from enum import Enum\n",
    "from dataclasses import dataclass, field\n",
    "import httpx\n",
    "\n",
    "import datetime as dt\n",
    "import domolibrary.utils.convert as ct\n",
    "import domolibrary.utils.DictDot as util_dd\n",
    "\n",
    "import domolibrary.client.DomoAuth as dmda\n",
    "import domolibrary.client.DomoError as de\n",
    "import domolibrary.routes.dataflow as dataflow_routes\n",
    "from nbdev.showdoc import patch_to, show_doc"
   ]
  },
  {
   "cell_type": "code",
   "execution_count": 3,
   "metadata": {},
   "outputs": [],
   "source": [
    "@dataclass\n",
    "class DomoDataflow_Execution:\n",
    "    auth: dmda.DomoAuth = field(repr=False)\n",
    "    id: str\n",
    "    dataflow_id: str\n",
    "    dataflow_execution_id: str\n",
    "    dataflow_version: str\n",
    "\n",
    "    begin_time: dt.datetime\n",
    "    end_time: dt.datetime\n",
    "    last_updated: dt.datetime\n",
    "\n",
    "    is_failed: bool\n",
    "    state: str\n",
    "    activation_type: str\n",
    "    data_processor: str\n",
    "    telemetry: dict\n",
    "    execution_stats: dict\n",
    "\n",
    "    @classmethod\n",
    "    def _from_json(cls, de_obj, auth: dmda.DomoAuth):\n",
    "        return cls(\n",
    "            auth=auth,\n",
    "            id=de_obj[\"id\"],\n",
    "            dataflow_id=de_obj[\"onboardFlowId\"],\n",
    "            dataflow_execution_id=de_obj[\"dapDataFlowExecutionId\"],\n",
    "            dataflow_version=de_obj.get(\"dataFlowVersion\"),\n",
    "            begin_time=ct.convert_epoch_millisecond_to_datetime(de_obj[\"beginTime\"]),\n",
    "            end_time=ct.convert_epoch_millisecond_to_datetime(de_obj[\"endTime\"]),\n",
    "            last_updated=ct.convert_epoch_millisecond_to_datetime(\n",
    "                de_obj[\"lastUpdated\"]\n",
    "            ),\n",
    "            is_failed=de_obj[\"failed\"],\n",
    "            state=de_obj[\"state\"],\n",
    "            activation_type=de_obj[\"activationType\"],\n",
    "            data_processor=de_obj[\"dataProcessor\"],\n",
    "            telemetry=de_obj.get(\"telemetry\"),\n",
    "            execution_stats={\n",
    "                \"total_bytes_written\": de_obj.get(\"totalBytesWritten\", 0),\n",
    "                \"total_rows_read\": de_obj.get(\"totalRowsRead\", 0),\n",
    "                \"total_bytes_read\": de_obj.get(\"totalBytesRead\", 0),\n",
    "                \"mean_download_rate_kbps\": de_obj.get(\"meanDownloadRateKbps\", 0),\n",
    "                \"total_rows_written\": de_obj.get(\"totalRowsWritten\", 0),\n",
    "            },\n",
    "        )\n",
    "        return cls(auth=auth, **de_obj)\n"
   ]
  },
  {
   "cell_type": "code",
   "execution_count": 4,
   "metadata": {},
   "outputs": [],
   "source": [
    "@patch_to(DomoDataflow_Execution, cls_method = True)\n",
    "async def get_by_id(cls, \n",
    "    auth: dmda.DomoAuth,\n",
    "    dataflow_id: int,\n",
    "    execution_id : int,\n",
    "    debug_api: bool = False,\n",
    "    debug_num_stacks_to_drop=1,\n",
    "    parent_class: str = None,\n",
    "    session: httpx.AsyncClient = None,\n",
    "    return_raw: bool = False):\n",
    "\n",
    "    res = await dataflow_routes.get_dataflow_execution_by_id(\n",
    "        auth = auth,\n",
    "        dataflow_id = dataflow_id,\n",
    "        execution_id = execution_id,\n",
    "        debug_api = debug_api,\n",
    "        debug_num_stacks_to_drop = debug_num_stacks_to_drop,\n",
    "        parent_class = parent_class,\n",
    "        session = session\n",
    "    )\n",
    "\n",
    "    if return_raw:\n",
    "        return res\n",
    "        \n",
    "    return cls._from_json(auth = auth, de_obj = res.response)\n",
    "    "
   ]
  },
  {
   "cell_type": "code",
   "execution_count": 5,
   "metadata": {},
   "outputs": [
    {
     "ename": "TypeError",
     "evalue": "DomoDataflow_ActionExecuted.__post_init__() takes 0 positional arguments but 1 was given",
     "output_type": "error",
     "traceback": [
      "\u001b[0;31m---------------------------------------------------------------------------\u001b[0m",
      "\u001b[0;31mTypeError\u001b[0m                                 Traceback (most recent call last)",
      "\u001b[1;32m/workspaces/domo_library/nbs/classes/50_DomoDataflow_Execution.ipynb Cell 6\u001b[0m line \u001b[0;36m1\n\u001b[1;32m     <a href='vscode-notebook-cell://codespaces%2Bvigilant-xylophone-xjq9jrv46hp7qj/workspaces/domo_library/nbs/classes/50_DomoDataflow_Execution.ipynb#W5sdnNjb2RlLXJlbW90ZQ%3D%3D?line=13'>14</a>\u001b[0m \u001b[39mfrom\u001b[39;00m \u001b[39mdomolibrary\u001b[39;00m\u001b[39m.\u001b[39;00m\u001b[39mclasses\u001b[39;00m\u001b[39m.\u001b[39;00m\u001b[39mDomoDataflow\u001b[39;00m \u001b[39mimport\u001b[39;00m DomoDataflow_Action, DomoDataflow_ActionExecuted\n\u001b[1;32m     <a href='vscode-notebook-cell://codespaces%2Bvigilant-xylophone-xjq9jrv46hp7qj/workspaces/domo_library/nbs/classes/50_DomoDataflow_Execution.ipynb#W5sdnNjb2RlLXJlbW90ZQ%3D%3D?line=15'>16</a>\u001b[0m action_ls \u001b[39m=\u001b[39m res\u001b[39m.\u001b[39mresponse[\u001b[39m'\u001b[39m\u001b[39mactionResults\u001b[39m\u001b[39m'\u001b[39m]\n\u001b[0;32m---> <a href='vscode-notebook-cell://codespaces%2Bvigilant-xylophone-xjq9jrv46hp7qj/workspaces/domo_library/nbs/classes/50_DomoDataflow_Execution.ipynb#W5sdnNjb2RlLXJlbW90ZQ%3D%3D?line=16'>17</a>\u001b[0m domo_actions \u001b[39m=\u001b[39m [DomoDataflow_ActionExecuted\u001b[39m.\u001b[39m_from_json(action_obj) \u001b[39mfor\u001b[39;00m action_obj \u001b[39min\u001b[39;00m action_ls]\n\u001b[1;32m     <a href='vscode-notebook-cell://codespaces%2Bvigilant-xylophone-xjq9jrv46hp7qj/workspaces/domo_library/nbs/classes/50_DomoDataflow_Execution.ipynb#W5sdnNjb2RlLXJlbW90ZQ%3D%3D?line=18'>19</a>\u001b[0m domo_actions[\u001b[39m0\u001b[39m]\u001b[39m.\u001b[39m\u001b[39m__dict__\u001b[39m\n",
      "\u001b[1;32m/workspaces/domo_library/nbs/classes/50_DomoDataflow_Execution.ipynb Cell 6\u001b[0m line \u001b[0;36m1\n\u001b[1;32m     <a href='vscode-notebook-cell://codespaces%2Bvigilant-xylophone-xjq9jrv46hp7qj/workspaces/domo_library/nbs/classes/50_DomoDataflow_Execution.ipynb#W5sdnNjb2RlLXJlbW90ZQ%3D%3D?line=13'>14</a>\u001b[0m \u001b[39mfrom\u001b[39;00m \u001b[39mdomolibrary\u001b[39;00m\u001b[39m.\u001b[39;00m\u001b[39mclasses\u001b[39;00m\u001b[39m.\u001b[39;00m\u001b[39mDomoDataflow\u001b[39;00m \u001b[39mimport\u001b[39;00m DomoDataflow_Action, DomoDataflow_ActionExecuted\n\u001b[1;32m     <a href='vscode-notebook-cell://codespaces%2Bvigilant-xylophone-xjq9jrv46hp7qj/workspaces/domo_library/nbs/classes/50_DomoDataflow_Execution.ipynb#W5sdnNjb2RlLXJlbW90ZQ%3D%3D?line=15'>16</a>\u001b[0m action_ls \u001b[39m=\u001b[39m res\u001b[39m.\u001b[39mresponse[\u001b[39m'\u001b[39m\u001b[39mactionResults\u001b[39m\u001b[39m'\u001b[39m]\n\u001b[0;32m---> <a href='vscode-notebook-cell://codespaces%2Bvigilant-xylophone-xjq9jrv46hp7qj/workspaces/domo_library/nbs/classes/50_DomoDataflow_Execution.ipynb#W5sdnNjb2RlLXJlbW90ZQ%3D%3D?line=16'>17</a>\u001b[0m domo_actions \u001b[39m=\u001b[39m [DomoDataflow_ActionExecuted\u001b[39m.\u001b[39m_from_json(action_obj) \u001b[39mfor\u001b[39;00m action_obj \u001b[39min\u001b[39;00m action_ls]\n\u001b[1;32m     <a href='vscode-notebook-cell://codespaces%2Bvigilant-xylophone-xjq9jrv46hp7qj/workspaces/domo_library/nbs/classes/50_DomoDataflow_Execution.ipynb#W5sdnNjb2RlLXJlbW90ZQ%3D%3D?line=18'>19</a>\u001b[0m domo_actions[\u001b[39m0\u001b[39m]\u001b[39m.\u001b[39m\u001b[39m__dict__\u001b[39m\n",
      "File \u001b[0;32m/workspaces/domo_library/domolibrary/classes/DomoDataflow.py:76\u001b[0m, in \u001b[0;36mDomoDataflow_ActionExecuted._from_json\u001b[0;34m(cls, obj)\u001b[0m\n\u001b[1;32m     73\u001b[0m \u001b[39mif\u001b[39;00m \u001b[39misinstance\u001b[39m(dd, \u001b[39mdict\u001b[39m):\n\u001b[1;32m     74\u001b[0m     dd \u001b[39m=\u001b[39m util_dd\u001b[39m.\u001b[39mDictDot(obj)\n\u001b[0;32m---> 76\u001b[0m base_cls \u001b[39m=\u001b[39m \u001b[39msuper\u001b[39;49m()\u001b[39m.\u001b[39;49m_from_json(obj)\n\u001b[1;32m     78\u001b[0m \u001b[39mprint\u001b[39m(base_cls\u001b[39m.\u001b[39m\u001b[39m__dict__\u001b[39m, base_cls\u001b[39m.\u001b[39m\u001b[39m__class__\u001b[39m\u001b[39m.\u001b[39m\u001b[39m__name__\u001b[39m)\n\u001b[1;32m     80\u001b[0m \u001b[39mcls\u001b[39m(\n\u001b[1;32m     81\u001b[0m     rows_processed \u001b[39m=\u001b[39m  dd\u001b[39m.\u001b[39mrowsProcessed,\n\u001b[1;32m     82\u001b[0m     is_success \u001b[39m=\u001b[39m dd\u001b[39m.\u001b[39mwasSuccessful,\n\u001b[0;32m   (...)\u001b[0m\n\u001b[1;32m     87\u001b[0m \n\u001b[1;32m     88\u001b[0m )\n",
      "File \u001b[0;32m/workspaces/domo_library/domolibrary/classes/DomoDataflow.py:49\u001b[0m, in \u001b[0;36mDomoDataflow_Action._from_json\u001b[0;34m(cls, obj)\u001b[0m\n\u001b[1;32m     46\u001b[0m tbl_name \u001b[39m=\u001b[39m dd\u001b[39m.\u001b[39mdataSource\u001b[39m.\u001b[39mname \u001b[39mif\u001b[39;00m dd\u001b[39m.\u001b[39mdataSource \u001b[39melse\u001b[39;00m \u001b[39mNone\u001b[39;00m\n\u001b[1;32m     47\u001b[0m ds_id \u001b[39m=\u001b[39m dd\u001b[39m.\u001b[39mdataSource\u001b[39m.\u001b[39mguid \u001b[39mif\u001b[39;00m dd\u001b[39m.\u001b[39mdataSource \u001b[39melse\u001b[39;00m \u001b[39mNone\u001b[39;00m\n\u001b[0;32m---> 49\u001b[0m \u001b[39mreturn\u001b[39;00m  \u001b[39mcls\u001b[39;49m(\n\u001b[1;32m     50\u001b[0m     \u001b[39mtype\u001b[39;49m\u001b[39m=\u001b[39;49mdd\u001b[39m.\u001b[39;49mtype,\n\u001b[1;32m     51\u001b[0m     \u001b[39mid\u001b[39;49m\u001b[39m=\u001b[39;49mdd\u001b[39m.\u001b[39;49mid,\n\u001b[1;32m     52\u001b[0m     name\u001b[39m=\u001b[39;49mdd\u001b[39m.\u001b[39;49mname \u001b[39mor\u001b[39;49;00m dd\u001b[39m.\u001b[39;49mtargetTableName \u001b[39mor\u001b[39;49;00m dd\u001b[39m.\u001b[39;49mtableName \u001b[39mor\u001b[39;49;00m tbl_name,\n\u001b[1;32m     53\u001b[0m     depends_on \u001b[39m=\u001b[39;49m dd\u001b[39m.\u001b[39;49mdependsOn,\n\u001b[1;32m     54\u001b[0m     \n\u001b[1;32m     55\u001b[0m     datasource_id\u001b[39m=\u001b[39;49mdd\u001b[39m.\u001b[39;49mdataSourceId \u001b[39mor\u001b[39;49;00m ds_id,\n\u001b[1;32m     56\u001b[0m     sql\u001b[39m=\u001b[39;49mdd\u001b[39m.\u001b[39;49mselectStatement \u001b[39mor\u001b[39;49;00m dd\u001b[39m.\u001b[39;49mquery,\n\u001b[1;32m     57\u001b[0m )\n",
      "File \u001b[0;32m<string>:10\u001b[0m, in \u001b[0;36m__init__\u001b[0;34m(self, id, name, depends_on, type, datasource_id, sql, begin_time)\u001b[0m\n",
      "\u001b[0;31mTypeError\u001b[0m: DomoDataflow_ActionExecuted.__post_init__() takes 0 positional arguments but 1 was given"
     ]
    }
   ],
   "source": [
    "import os\n",
    "import pandas as pd\n",
    "\n",
    "token_auth = dmda.DomoTokenAuth(\n",
    "    domo_instance=\"domo-community\",\n",
    "    domo_access_token=os.environ[\"DOMO_DOJO_ACCESS_TOKEN\"],\n",
    ")\n",
    "\n",
    "res = await DomoDataflow_Execution.get_by_id(\n",
    "    dataflow_id=70, execution_id=433238, auth=token_auth,\n",
    "    return_raw = True\n",
    ")\n",
    "\n",
    "from domolibrary.classes.DomoDataflow import DomoDataflow_Action, DomoDataflow_ActionExecuted\n",
    "\n",
    "action_ls = res.response['actionResults']\n",
    "domo_actions = [DomoDataflow_ActionExecuted._from_json(action_obj) for action_obj in action_ls]\n",
    "\n",
    "domo_actions[0].__dict__"
   ]
  },
  {
   "cell_type": "code",
   "execution_count": null,
   "metadata": {},
   "outputs": [],
   "source": [
    "# | hide\n",
    "import nbdev\n",
    "\n",
    "nbdev.nbdev_export()"
   ]
  }
 ],
 "metadata": {
  "jupytext": {
   "split_at_heading": true
  },
  "kernelspec": {
   "display_name": "python3",
   "language": "python",
   "name": "python3"
  },
  "language_info": {
   "codemirror_mode": {
    "name": "ipython",
    "version": 3
   },
   "file_extension": ".py",
   "mimetype": "text/x-python",
   "name": "python",
   "nbconvert_exporter": "python",
   "pygments_lexer": "ipython3",
   "version": "3.10.13"
  }
 },
 "nbformat": 4,
 "nbformat_minor": 4
}
