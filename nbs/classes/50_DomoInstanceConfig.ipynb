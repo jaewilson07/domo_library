{
 "cells": [
  {
   "cell_type": "raw",
   "metadata": {},
   "source": [
    "---\n",
    "title: Instance Configuration\n",
    "description: a class based approach to configuring your domo instance\n",
    "output-file: domoinstanceconfig_class.html\n",
    "---"
   ]
  },
  {
   "cell_type": "code",
   "execution_count": 66,
   "metadata": {},
   "outputs": [],
   "source": [
    "# | default_exp classes.DomoInstanceConfig"
   ]
  },
  {
   "cell_type": "code",
   "execution_count": 67,
   "metadata": {},
   "outputs": [],
   "source": [
    "# | export\n",
    "\n",
    "from domolibrary.routes.instance_config import UpdateSSO_Error"
   ]
  },
  {
   "cell_type": "code",
   "execution_count": 68,
   "metadata": {},
   "outputs": [],
   "source": [
    "# | exporti\n",
    "import httpx\n",
    "import datetime as dt\n",
    "from nbdev.showdoc import patch_to\n",
    "import sys\n",
    "import pandas as pd\n",
    "\n",
    "\n",
    "from dataclasses import dataclass, field, asdict\n",
    "\n",
    "import domolibrary.utils.DictDot as util_dd\n",
    "import domolibrary.utils.chunk_execution as ce\n",
    "import domolibrary.utils.convert as cd\n",
    "\n",
    "import domolibrary.client.DomoAuth as dmda\n",
    "\n",
    "import domolibrary.classes.DomoInstanceConfig_UserAttribute as dicua\n",
    "\n",
    "import domolibrary.routes.instance_config as instance_config_routes\n",
    "import domolibrary.routes.sandbox as sandbox_routes\n",
    "import domolibrary.routes.publish as publish_routes\n",
    "import domolibrary.routes.application as application_routes"
   ]
  },
  {
   "cell_type": "code",
   "execution_count": 69,
   "metadata": {},
   "outputs": [],
   "source": [
    "# |hide\n",
    "from nbdev.showdoc import show_doc\n",
    "import domolibrary.classes.DomoUser as dmu\n",
    "import os"
   ]
  },
  {
   "cell_type": "code",
   "execution_count": 70,
   "metadata": {},
   "outputs": [],
   "source": [
    "# | export\n",
    "@dataclass\n",
    "class DomoInstanceConfig:\n",
    "    \"\"\"utility class that absorbs many of the domo instance configuration methods\"\"\"\n",
    "\n",
    "    auth: dmda.DomoAuth\n",
    "    allowlist: list[str] = field(default_factory=list)\n",
    "\n",
    "    is_sandbox_self_instance_promotion_enabled: bool = field(default=None)\n",
    "    is_user_invite_notification_enabled: bool = field(default=None)\n",
    "    is_invite_social_users_enabled: bool = field(default=None)\n",
    "\n",
    "    sso_config: dict = field(default=None)\n",
    "\n",
    "    user_attributes: dicua.UserAttributes = None\n",
    "\n",
    "    def __post_init__(self):\n",
    "        self.user_attributes = dicua.UserAttributes(auth=self.auth)"
   ]
  },
  {
   "cell_type": "markdown",
   "metadata": {},
   "source": [
    "# domo_instance_config inherits UserAttributes\n",
    "\n",
    "see DomoInstanceConfig_UserAttributes for all methods"
   ]
  },
  {
   "cell_type": "code",
   "execution_count": 71,
   "metadata": {},
   "outputs": [
    {
     "data": {
      "text/markdown": [
       "---\n",
       "\n",
       "[source](https://github.com/jaewilson07/domo_library/blob/main/domolibrary/classes/DomoInstanceConfig_UserAttribute.py#LNone){target=\"_blank\" style=\"float:right; font-size:smaller\"}\n",
       "\n",
       "### UserAttributes.get_attributes\n",
       "\n",
       ">      UserAttributes.get_attributes (issuer_type_ls:List[domolibrary.routes.use\n",
       ">                                     r_attributes.UserAttributes_IssuerType]=No\n",
       ">                                     ne, session:httpx.AsyncClient=None,\n",
       ">                                     debug_api:bool=False,\n",
       ">                                     debug_num_stacks_to_drop=2)"
      ],
      "text/plain": [
       "---\n",
       "\n",
       "[source](https://github.com/jaewilson07/domo_library/blob/main/domolibrary/classes/DomoInstanceConfig_UserAttribute.py#LNone){target=\"_blank\" style=\"float:right; font-size:smaller\"}\n",
       "\n",
       "### UserAttributes.get_attributes\n",
       "\n",
       ">      UserAttributes.get_attributes (issuer_type_ls:List[domolibrary.routes.use\n",
       ">                                     r_attributes.UserAttributes_IssuerType]=No\n",
       ">                                     ne, session:httpx.AsyncClient=None,\n",
       ">                                     debug_api:bool=False,\n",
       ">                                     debug_num_stacks_to_drop=2)"
      ]
     },
     "execution_count": 71,
     "metadata": {},
     "output_type": "execute_result"
    }
   ],
   "source": [
    "show_doc(dicua.UserAttributes.get_attributes)"
   ]
  },
  {
   "cell_type": "code",
   "execution_count": 72,
   "metadata": {},
   "outputs": [
    {
     "name": "stdout",
     "output_type": "stream",
     "text": [
      "warning this token has not been validated by who_am_i, run get_auth_token first\n"
     ]
    },
    {
     "data": {
      "text/plain": [
       "[UserAttribute(id='fzManagerEmail', name='ManagerEmail', description='FZ_POC', issuer_type=<UserAttributes_IssuerType.CUSTOM: 'customer-defined'>, customer_id='mmmm-0012-0200', value_type='STRING', validator='ANY_VALUE', validator_configuration=None, security_voter='FULL_VIS_ADMIN_IDP', custom=True),\n",
       " UserAttribute(id='fzStoreID', name='StoreID', description='FZ_POC', issuer_type=<UserAttributes_IssuerType.CUSTOM: 'customer-defined'>, customer_id='mmmm-0012-0200', value_type='STRING', validator='ANY_VALUE', validator_configuration=None, security_voter='FULL_VIS_ADMIN_IDP', custom=True),\n",
       " UserAttribute(id='fzFranchiseID', name='FranchiseID', description='FZ_POC', issuer_type=<UserAttributes_IssuerType.CUSTOM: 'customer-defined'>, customer_id='mmmm-0012-0200', value_type='STRING', validator='ANY_VALUE', validator_configuration=None, security_voter='FULL_VIS_ADMIN_IDP', custom=True),\n",
       " UserAttribute(id='DomoLibraryStore', name='store_id', description='store ids', issuer_type=<UserAttributes_IssuerType.CUSTOM: 'customer-defined'>, customer_id='mmmm-0012-0200', value_type='STRING', validator='ANY_VALUE', validator_configuration=None, security_voter='FULL_VIS_ADMIN_IDP', custom=True),\n",
       " UserAttribute(id='DomoLibraryTestFranchise', name='franchise_id', description='test', issuer_type=<UserAttributes_IssuerType.CUSTOM: 'customer-defined'>, customer_id='mmmm-0012-0200', value_type='STRING', validator='ANY_VALUE', validator_configuration=None, security_voter='FULL_VIS_ADMIN_IDP', custom=True)]"
      ]
     },
     "execution_count": 72,
     "metadata": {},
     "output_type": "execute_result"
    }
   ],
   "source": [
    "# | eval : false\n",
    "\n",
    "token_auth = dmda.DomoTokenAuth(\n",
    "    domo_instance=\"domo-community\",\n",
    "    domo_access_token=os.environ[\"DOMO_DOJO_ACCESS_TOKEN\"],\n",
    ")\n",
    "domo_config = DomoInstanceConfig(auth=token_auth)\n",
    "\n",
    "(await domo_config.user_attributes.get_attributes())[0:5]"
   ]
  },
  {
   "cell_type": "markdown",
   "metadata": {},
   "source": [
    "# Toggle Sandbox - allow_same_instance_promotion"
   ]
  },
  {
   "cell_type": "code",
   "execution_count": 73,
   "metadata": {},
   "outputs": [],
   "source": [
    "# |exporti\n",
    "\n",
    "\n",
    "@patch_to(DomoInstanceConfig)\n",
    "async def get_sandbox_is_same_instance_promotion_enabled(\n",
    "    self: DomoInstanceConfig,\n",
    "    auth: dmda.DomoAuth = None,\n",
    "    debug_api: bool = False,\n",
    "    session: httpx.AsyncClient = None,\n",
    "    return_raw: bool = False,\n",
    "    debug_num_stacks_to_drop=2,\n",
    "):\n",
    "    auth = auth or self.auth\n",
    "\n",
    "    res = await sandbox_routes.get_is_allow_same_instance_promotion_enabled(\n",
    "        auth=auth or self.auth,\n",
    "        session=session,\n",
    "        debug_api=debug_api,\n",
    "        debug_num_stacks_to_drop=debug_num_stacks_to_drop,\n",
    "        parent_class=self.__class__.__name__,\n",
    "    )\n",
    "\n",
    "    self.is_sandbox_self_instance_promotion_enabled = res.response[\"is_enabled\"]\n",
    "\n",
    "    if return_raw:\n",
    "        return res\n",
    "\n",
    "    return res.response"
   ]
  },
  {
   "cell_type": "markdown",
   "metadata": {},
   "source": [
    "#### sample implementation of get is self promotion enabled"
   ]
  },
  {
   "cell_type": "code",
   "execution_count": 74,
   "metadata": {},
   "outputs": [
    {
     "data": {
      "text/plain": [
       "{'name': 'allow_same_instance_promotion', 'is_enabled': True}"
      ]
     },
     "execution_count": 74,
     "metadata": {},
     "output_type": "execute_result"
    }
   ],
   "source": [
    "full_auth = dmda.DomoFullAuth(\n",
    "    domo_instance=\"domo-community\",\n",
    "    domo_password=os.environ[\"DOJO_PASSWORD\"],\n",
    "    domo_username=os.environ[\"DOMO_USERNAME\"],\n",
    ")\n",
    "\n",
    "\n",
    "domo_config = DomoInstanceConfig(auth=full_auth)\n",
    "\n",
    "await domo_config.get_sandbox_is_same_instance_promotion_enabled(\n",
    "    auth=full_auth, debug_api=False, return_raw=False\n",
    ")"
   ]
  },
  {
   "cell_type": "code",
   "execution_count": 75,
   "metadata": {},
   "outputs": [],
   "source": [
    "# |exporti\n",
    "\n",
    "\n",
    "@patch_to(DomoInstanceConfig)\n",
    "async def toggle_sandbox_allow_same_instance_promotion(\n",
    "    self: DomoInstanceConfig,\n",
    "    auth: dmda.DomoAuth,\n",
    "    is_enabled: bool,\n",
    "    debug_api: bool = False,\n",
    "    session: httpx.AsyncClient = None,\n",
    "    return_raw: bool = False,\n",
    "    debug_num_stacks_to_drop=2,\n",
    "):\n",
    "    res = await sandbox_routes.toggle_allow_same_instance_promotion(\n",
    "        auth=auth or self.auth,\n",
    "        session=session,\n",
    "        is_enabled=is_enabled,\n",
    "        debug_api=debug_api,\n",
    "        debug_num_stacks_to_drop=debug_num_stacks_to_drop,\n",
    "        parent_class=self.__class__.__name__,\n",
    "    )\n",
    "\n",
    "    res_is_enabled = await self.get_sandbox_is_same_instance_promotion_enabled()\n",
    "\n",
    "    if return_raw:\n",
    "        return res\n",
    "\n",
    "    return res_is_enabled"
   ]
  },
  {
   "cell_type": "code",
   "execution_count": 76,
   "metadata": {},
   "outputs": [
    {
     "data": {
      "text/plain": [
       "{'name': 'allow_same_instance_promotion', 'is_enabled': True}"
      ]
     },
     "execution_count": 76,
     "metadata": {},
     "output_type": "execute_result"
    }
   ],
   "source": [
    "full_auth = dmda.DomoFullAuth(\n",
    "    domo_instance=\"domo-community\",\n",
    "    domo_password=os.environ[\"DOJO_PASSWORD\"],\n",
    "    domo_username=os.environ[\"DOMO_USERNAME\"],\n",
    ")\n",
    "\n",
    "\n",
    "domo_config = DomoInstanceConfig(auth=full_auth)\n",
    "\n",
    "await domo_config.toggle_sandbox_allow_same_instance_promotion(\n",
    "    is_enabled=True,\n",
    "    auth=full_auth,\n",
    "    debug_api=False,\n",
    "    return_raw=False,\n",
    ")"
   ]
  },
  {
   "cell_type": "markdown",
   "metadata": {},
   "source": [
    "# Toggle is user invite notification enabled"
   ]
  },
  {
   "cell_type": "code",
   "execution_count": 77,
   "metadata": {},
   "outputs": [],
   "source": [
    "# |exporti\n",
    "\n",
    "\n",
    "@patch_to(DomoInstanceConfig)\n",
    "async def get_is_user_invite_notification_enabled(\n",
    "    self: DomoInstanceConfig,\n",
    "    auth: dmda.DomoAuth = None,\n",
    "    debug_api: bool = False,\n",
    "    session: httpx.AsyncClient = None,\n",
    "    return_raw: bool = False,\n",
    "):\n",
    "    \"\"\"\n",
    "    Admin > Company Settings > Admin Notifications\n",
    "    Toggles whether user recieves 'You've been Domo'ed email\n",
    "    \"\"\"\n",
    "\n",
    "    auth = auth or self.auth\n",
    "\n",
    "    res = await instance_config_routes.get_is_user_invite_notifications_enabled(\n",
    "        auth=auth or self.auth,\n",
    "        session=session,\n",
    "        debug_api=debug_api,\n",
    "    )\n",
    "\n",
    "    self.is_user_invite_notification_enabled = res.response[\"is_enabled\"]\n",
    "\n",
    "    if return_raw:\n",
    "        return res\n",
    "\n",
    "    return res.response"
   ]
  },
  {
   "cell_type": "markdown",
   "metadata": {},
   "source": [
    "#### sample implementation of get_is_user_invite_notification_enabled\n"
   ]
  },
  {
   "cell_type": "code",
   "execution_count": 78,
   "metadata": {},
   "outputs": [
    {
     "data": {
      "text/plain": [
       "{'name': 'user.invite.email.enabled', 'is_enabled': True}"
      ]
     },
     "execution_count": 78,
     "metadata": {},
     "output_type": "execute_result"
    }
   ],
   "source": [
    "full_auth = dmda.DomoFullAuth(\n",
    "    domo_instance=\"domo-community\",\n",
    "    domo_password=os.environ[\"DOJO_PASSWORD\"],\n",
    "    domo_username=os.environ[\"DOMO_USERNAME\"],\n",
    ")\n",
    "\n",
    "\n",
    "domo_config = DomoInstanceConfig(auth=full_auth)\n",
    "\n",
    "await domo_config.get_is_user_invite_notification_enabled(\n",
    "    auth=full_auth, debug_api=False, return_raw=False\n",
    ")"
   ]
  },
  {
   "cell_type": "code",
   "execution_count": 79,
   "metadata": {},
   "outputs": [],
   "source": [
    "# |exporti\n",
    "@patch_to(DomoInstanceConfig)\n",
    "async def toggle_is_user_invite_notification_enabled(\n",
    "    self: DomoInstanceConfig,\n",
    "    auth: dmda.DomoFullAuth,\n",
    "    is_enabled: bool,\n",
    "    debug_api: bool = False,\n",
    "    debug_prn: bool = False,\n",
    "    session: httpx.AsyncClient = None,\n",
    "    return_raw: bool = False,\n",
    "):\n",
    "    res_is_enabled = await self.get_is_user_invite_notification_enabled(auth=auth)\n",
    "\n",
    "    if is_enabled == self.is_user_invite_notification_enabled:\n",
    "        if debug_prn:\n",
    "            print(\n",
    "                f\"User invite notification is already {'enabled' if is_enabled else 'disabled'} in {auth.domo_instance}\"\n",
    "            )\n",
    "        return res_is_enabled\n",
    "\n",
    "    if debug_prn:\n",
    "        print(\n",
    "            f\"{'enabling' if is_enabled else 'disabling'} User invite notification {auth.domo_instance}\"\n",
    "        )\n",
    "\n",
    "    res = await instance_config_routes.toggle_is_user_invite_enabled(\n",
    "        auth=auth or self.auth,\n",
    "        is_enabled=is_enabled,\n",
    "        session=session,\n",
    "        debug_api=debug_api,\n",
    "    )\n",
    "\n",
    "    res_is_enabled = await self.get_is_user_invite_notification_enabled(auth=auth)\n",
    "\n",
    "    if return_raw:\n",
    "        return res\n",
    "\n",
    "    return res_is_enabled"
   ]
  },
  {
   "cell_type": "markdown",
   "metadata": {},
   "source": [
    "### Sample implementation of toggle_is_user_invite_notification_enabled"
   ]
  },
  {
   "cell_type": "code",
   "execution_count": 80,
   "metadata": {},
   "outputs": [
    {
     "data": {
      "text/plain": [
       "{'name': 'user.invite.email.enabled', 'is_enabled': True}"
      ]
     },
     "execution_count": 80,
     "metadata": {},
     "output_type": "execute_result"
    }
   ],
   "source": [
    "auth = dmda.DomoFullAuth(\n",
    "    domo_instance=\"domo-community\",\n",
    "    domo_username=os.environ[\"DOMO_USERNAME\"],\n",
    "    domo_password=os.environ[\"DOJO_PASSWORD\"],\n",
    ")\n",
    "\n",
    "domo_config = DomoInstanceConfig(auth=auth)\n",
    "\n",
    "await domo_config.toggle_is_user_invite_notification_enabled(auth=auth, is_enabled=True)"
   ]
  },
  {
   "cell_type": "markdown",
   "metadata": {},
   "source": [
    "# Toggle Social Users\n"
   ]
  },
  {
   "cell_type": "code",
   "execution_count": 81,
   "metadata": {},
   "outputs": [],
   "source": [
    "# |exporti\n",
    "\n",
    "\n",
    "@patch_to(DomoInstanceConfig)\n",
    "async def get_is_invite_social_users_enabled(\n",
    "    self: DomoInstanceConfig,\n",
    "    auth: dmda.DomoFullAuth = None,\n",
    "    debug_api: bool = False,\n",
    "    session: httpx.AsyncClient = None,\n",
    "    return_raw: bool = False,\n",
    "):\n",
    "    import domolibrary.classes.DomoBootstrap as dmbp\n",
    "\n",
    "    auth = auth or self.auth\n",
    "    bs = dmbp.DomoBootstrap(auth=auth)\n",
    "    customer_id = await bs.get_customer_id()\n",
    "\n",
    "    res = await instance_config_routes.get_is_invite_social_users_enabled(\n",
    "        auth=auth or self.auth,\n",
    "        customer_id=customer_id,\n",
    "        session=session,\n",
    "        debug_api=debug_api,\n",
    "    )\n",
    "\n",
    "    self.is_invite_social_users_enabled = res.response[\"is_enabled\"]\n",
    "\n",
    "    if return_raw:\n",
    "        return res\n",
    "\n",
    "    return res.response"
   ]
  },
  {
   "cell_type": "markdown",
   "metadata": {},
   "source": [
    "#### sample implementation of is_invite_social_users_enabled\n"
   ]
  },
  {
   "cell_type": "code",
   "execution_count": 82,
   "metadata": {},
   "outputs": [
    {
     "data": {
      "text/plain": [
       "{'name': 'free-invite', 'is_enabled': True}"
      ]
     },
     "execution_count": 82,
     "metadata": {},
     "output_type": "execute_result"
    }
   ],
   "source": [
    "full_auth = dmda.DomoFullAuth(\n",
    "    domo_instance=\"domo-community\",\n",
    "    domo_password=os.environ[\"DOJO_PASSWORD\"],\n",
    "    domo_username=os.environ[\"DOMO_USERNAME\"],\n",
    ")\n",
    "\n",
    "\n",
    "domo_config = DomoInstanceConfig(auth=full_auth)\n",
    "\n",
    "await domo_config.get_is_invite_social_users_enabled(\n",
    "    auth=full_auth, debug_api=False, return_raw=False\n",
    ")"
   ]
  },
  {
   "cell_type": "code",
   "execution_count": 83,
   "metadata": {},
   "outputs": [],
   "source": [
    "# |exporti\n",
    "@patch_to(DomoInstanceConfig)\n",
    "async def toggle_is_invite_social_users_enabled(\n",
    "    self: DomoInstanceConfig,\n",
    "    is_enabled: bool,\n",
    "    auth: dmda.DomoFullAuth = None,\n",
    "    debug_api: bool = False,\n",
    "    debug_prn: bool = False,\n",
    "    session: httpx.AsyncClient = None,\n",
    "    return_raw: bool = False,\n",
    "):\n",
    "    auth = auth or self.auth\n",
    "\n",
    "    res_is_enabled = await self.get_is_invite_social_users_enabled(auth=auth)\n",
    "\n",
    "    if is_enabled == self.is_invite_social_users_enabled:\n",
    "        if debug_prn:\n",
    "            print(\n",
    "                f\"invite social users is already {'enabled' if is_enabled else 'disabled'} in {auth.domo_instance}\"\n",
    "            )\n",
    "        return res_is_enabled\n",
    "\n",
    "    if debug_prn:\n",
    "        print(\n",
    "            f\"{'enabling' if is_enabled else 'disabling'} invite social users {auth.domo_instance}\"\n",
    "        )\n",
    "\n",
    "    res = await instance_config_routes.toggle_is_social_users_enabled(\n",
    "        auth=auth or self.auth,\n",
    "        is_enabled=is_enabled,\n",
    "        session=session,\n",
    "        debug_api=debug_api,\n",
    "    )\n",
    "\n",
    "    res_is_enabled = await self.get_is_invite_social_users_enabled()\n",
    "\n",
    "    if return_raw:\n",
    "        return res\n",
    "\n",
    "    return res_is_enabled"
   ]
  },
  {
   "cell_type": "markdown",
   "metadata": {},
   "source": [
    "#### sample implementation of toggle_social_users\n"
   ]
  },
  {
   "cell_type": "code",
   "execution_count": 84,
   "metadata": {},
   "outputs": [
    {
     "data": {
      "text/plain": [
       "{'name': 'free-invite', 'is_enabled': True}"
      ]
     },
     "execution_count": 84,
     "metadata": {},
     "output_type": "execute_result"
    }
   ],
   "source": [
    "auth = dmda.DomoFullAuth(\n",
    "    domo_instance=\"domo-community\",\n",
    "    domo_username=os.environ[\"DOMO_USERNAME\"],\n",
    "    domo_password=os.environ[\"DOJO_PASSWORD\"],\n",
    ")\n",
    "\n",
    "domo_config = DomoInstanceConfig(auth=auth)\n",
    "\n",
    "await domo_config.toggle_is_invite_social_users_enabled(auth=auth, is_enabled=True)"
   ]
  },
  {
   "cell_type": "markdown",
   "metadata": {},
   "source": [
    "## Weekly Digest"
   ]
  },
  {
   "cell_type": "code",
   "execution_count": 85,
   "metadata": {},
   "outputs": [],
   "source": [
    "# |exporti\n",
    "\n",
    "\n",
    "@patch_to(DomoInstanceConfig)\n",
    "async def get_is_weekly_digest_enabled(\n",
    "    self: DomoInstanceConfig,\n",
    "    auth: dmda.DomoFullAuth = None,\n",
    "    return_raw: bool = False,\n",
    "    debug_api: bool = False,\n",
    "    debug_num_stacks_to_drop: int = 2,\n",
    "    session: httpx.AsyncClient = None,\n",
    "):\n",
    "\n",
    "    res = await instance_config_routes.get_is_weekly_digest_enabled(\n",
    "        auth=auth or self.auth,\n",
    "        session=session,\n",
    "        debug_api=debug_api,\n",
    "        debug_num_stacks_to_drop=debug_num_stacks_to_drop,\n",
    "        parent_class=self.__class__.__name__,\n",
    "    )\n",
    "\n",
    "    self.is_weekly_digest_enabled = res.response[\"is_enabled\"]\n",
    "\n",
    "    if return_raw:\n",
    "        return res\n",
    "\n",
    "    return res.response"
   ]
  },
  {
   "cell_type": "code",
   "execution_count": 86,
   "metadata": {},
   "outputs": [
    {
     "data": {
      "text/plain": [
       "{'is_enabled': False, 'feature': 'come-back-to-domo-all-users'}"
      ]
     },
     "execution_count": 86,
     "metadata": {},
     "output_type": "execute_result"
    }
   ],
   "source": [
    "auth = dmda.DomoFullAuth(\n",
    "    domo_instance=\"domo-community\",\n",
    "    domo_username=os.environ[\"DOMO_USERNAME\"],\n",
    "    domo_password=os.environ[\"DOJO_PASSWORD\"],\n",
    ")\n",
    "\n",
    "domo_config = DomoInstanceConfig(auth=auth)\n",
    "\n",
    "await domo_config.get_is_weekly_digest_enabled(auth=auth)"
   ]
  },
  {
   "cell_type": "code",
   "execution_count": 87,
   "metadata": {},
   "outputs": [],
   "source": [
    "# |exporti\n",
    "@patch_to(DomoInstanceConfig)\n",
    "async def toggle_is_weekly_digest_enabled(\n",
    "    self: DomoInstanceConfig,\n",
    "    is_enabled: bool,\n",
    "    auth: dmda.DomoFullAuth = None,\n",
    "    return_raw: bool = False,\n",
    "    session: httpx.AsyncClient = None,\n",
    "    debug_api: bool = False,\n",
    "    debug_prn: bool = False,\n",
    "    debug_num_stacks_to_drop=1,\n",
    "):\n",
    "    auth = auth or self.auth\n",
    "\n",
    "    res_is_enabled = await self.get_is_weekly_digest_enabled(auth=auth)\n",
    "\n",
    "    if is_enabled == self.is_weekly_digest_enabled:\n",
    "        if debug_prn:\n",
    "            print(\n",
    "                f\"weekly digest is already {'enabled' if is_enabled else 'disabled'} in {auth.domo_instance}\"\n",
    "            )\n",
    "        return res_is_enabled\n",
    "\n",
    "    if debug_prn:\n",
    "        print(\n",
    "            f\"{'enabling' if is_enabled else 'disabling'} weekly digest {auth.domo_instance}\"\n",
    "        )\n",
    "\n",
    "    res = await instance_config_routes.toggle_is_weekly_digest_enabled(\n",
    "        auth=auth or self.auth,\n",
    "        is_enabled=is_enabled,\n",
    "        session=session,\n",
    "        debug_api=debug_api,\n",
    "        parent_class=self.__class__.__name__,\n",
    "        debug_num_stacks_to_drop=debug_num_stacks_to_drop,\n",
    "    )\n",
    "\n",
    "    res_is_enabled = await self.get_is_weekly_digest_enabled()\n",
    "\n",
    "    if return_raw:\n",
    "        return res\n",
    "\n",
    "    return res_is_enabled"
   ]
  },
  {
   "cell_type": "code",
   "execution_count": 88,
   "metadata": {},
   "outputs": [
    {
     "data": {
      "text/plain": [
       "{'is_enabled': False, 'feature': 'come-back-to-domo-all-users'}"
      ]
     },
     "execution_count": 88,
     "metadata": {},
     "output_type": "execute_result"
    }
   ],
   "source": [
    "auth = dmda.DomoFullAuth(\n",
    "    domo_instance=\"domo-community\",\n",
    "    domo_username=os.environ[\"DOMO_USERNAME\"],\n",
    "    domo_password=os.environ[\"DOJO_PASSWORD\"],\n",
    ")\n",
    "\n",
    "domo_config = DomoInstanceConfig(auth=auth)\n",
    "\n",
    "await domo_config.toggle_is_weekly_digest_enabled(auth=auth, is_enabled=False)"
   ]
  },
  {
   "cell_type": "markdown",
   "metadata": {},
   "source": [
    "# SSO Configuration\n"
   ]
  },
  {
   "cell_type": "code",
   "execution_count": 89,
   "metadata": {},
   "outputs": [],
   "source": [
    "# | exporti\n",
    "py310 = sys.version_info.minor >= 10 or sys.version_info.major > 3"
   ]
  },
  {
   "cell_type": "code",
   "execution_count": 90,
   "metadata": {},
   "outputs": [],
   "source": [
    "# | export\n",
    "\n",
    "# class SSOConfig_InstantiationError(de.DomoError):\n",
    "#     def __init__(self, domo_instance, parent_class, function_name, message=\"invalid data types, check attribute types\"):\n",
    "\n",
    "#         super().__init__(\n",
    "#             domo_instance=domo_instance,\n",
    "#             message=message,\n",
    "#             parent_class=parent_class,\n",
    "#             function_name=function_name)\n",
    "\n",
    "\n",
    "@dataclass(**({\"slots\": True} if py310 else {}))\n",
    "class SSO_Config:\n",
    "    auth: dmda.DomoAuth = field(repr=False)\n",
    "\n",
    "    login_enabled: bool = None  # False\n",
    "    idp_enabled: bool = None  # False\n",
    "    import_groups: bool = None  # False\n",
    "    require_invitation: bool = None  # False\n",
    "    enforce_allowlist: bool = None  # False\n",
    "    skip_to_idp: bool = None  # False\n",
    "    auth_request_endpoint: str = None\n",
    "    token_endpoint: str = None\n",
    "    user_info_endpoint: str = None\n",
    "    public_key: str = None\n",
    "    redirect_url: str = None\n",
    "    certificate: str = None\n",
    "    override_sso: bool = None  # False\n",
    "    override_embed: bool = None  # False\n",
    "    # \"https://{domo_instance}}.domo.com/auth/oidc\"\n",
    "    well_known_config: str = None\n",
    "    assertion_endpoint: str = None\n",
    "    ingest_attributes: bool = None  # False\n",
    "\n",
    "    # def __post_init__(self):\n",
    "    #     self.override_sso = self.override_sso or f\"https://{auth.domo_instance}.domo.com/auth/oidc\"\n",
    "\n",
    "    @classmethod\n",
    "    def _from_json(cls, auth: dmda.DomoAuth, obj: dict):\n",
    "        dd = obj\n",
    "\n",
    "        if not isinstance(obj, util_dd.DictDot):\n",
    "            dd = util_dd.DictDot(obj)\n",
    "\n",
    "        return cls(\n",
    "            auth=auth,\n",
    "            login_enabled=dd.loginEnabled,\n",
    "            idp_enabled=dd.idpEnabled,\n",
    "            import_groups=dd.importGroups,\n",
    "            require_invitation=dd.requireInvitation,\n",
    "            enforce_allowlist=dd.enforceWhitelist,\n",
    "            skip_to_idp=dd.skipToIdp,\n",
    "            auth_request_endpoint=dd.authRequestEndpoint,\n",
    "            token_endpoint=dd.tokenEndpoint,\n",
    "            user_info_endpoint=dd.userInfoEndpoint,\n",
    "            public_key=dd.publicKey,\n",
    "            redirect_url=dd.redirectUrl,\n",
    "            certificate=dd.certificate,\n",
    "            override_sso=dd.overrideSSO,\n",
    "            override_embed=dd.overrideEmbed,\n",
    "            well_known_config=dd.wellKnownConfig,\n",
    "            assertion_endpoint=dd.assertionEndpoint,\n",
    "            ingest_attributes=dd.ingestAttributes,\n",
    "        )\n",
    "\n",
    "    def add_attribute(self, overwrite_existing: bool = False, **kwargs):\n",
    "        [\n",
    "            setattr(self, key, value)\n",
    "            for key, value in kwargs.items()\n",
    "            if value is not None\n",
    "        ]\n",
    "        return self\n",
    "\n",
    "        # except TypeError as e:\n",
    "        #     traceback_details = lg.get_traceback(num_stacks_to_drop=1)\n",
    "\n",
    "        #     raise SSOConfig_InstantiationError(\n",
    "        #         domo_instance=self.auth.domo_instance,\n",
    "        #         parent_class=self.__class__.__name__,\n",
    "        #         function_name=traceback_details.function_name)\n",
    "\n",
    "    def to_json(self, is_include_undefined: bool = False):\n",
    "        r = {\n",
    "            \"loginEnabled\": self.login_enabled,\n",
    "            \"idpEnabled\": self.idp_enabled,\n",
    "            \"importGroups\": self.import_groups,\n",
    "            \"requireInvitation\": self.require_invitation,\n",
    "            \"enforceWhitelist\": self.enforce_allowlist,\n",
    "            \"skipToIdp\": self.skip_to_idp,\n",
    "            \"authRequestEndpoint\": self.auth_request_endpoint,\n",
    "            \"tokenEndpoint\": self.token_endpoint,\n",
    "            \"userInfoEndpoint\": self.user_info_endpoint,\n",
    "            \"publicKey\": self.public_key,\n",
    "            \"redirectUrl\": self.redirect_url,\n",
    "            \"certificate\": self.certificate,\n",
    "            \"overrideSSO\": self.override_sso,\n",
    "            \"overrideEmbed\": self.override_embed,\n",
    "            \"wellKnownConfig\": self.well_known_config,\n",
    "            \"assertionEndpoint\": self.assertion_endpoint,\n",
    "            \"ingestAttributes\": self.ingest_attributes,\n",
    "        }\n",
    "\n",
    "        if not is_include_undefined:\n",
    "            return {key: value for key, value in r.items() if value is not None}\n",
    "\n",
    "        return r"
   ]
  },
  {
   "cell_type": "code",
   "execution_count": 91,
   "metadata": {},
   "outputs": [
    {
     "data": {
      "text/plain": [
       "{'loginEnabled': False,\n",
       " 'enforceWhitelist': True,\n",
       " 'skipToIdp': True,\n",
       " 'certificate': 'abc'}"
      ]
     },
     "execution_count": 91,
     "metadata": {},
     "output_type": "execute_result"
    }
   ],
   "source": [
    "sso_config = SSO_Config(enforce_allowlist=True, login_enabled=False, auth=auth)\n",
    "\n",
    "sso_config.add_attribute(skip_to_idp=True, certificate=\"abc\")\n",
    "\n",
    "sso_config.to_json()"
   ]
  },
  {
   "cell_type": "code",
   "execution_count": 92,
   "metadata": {},
   "outputs": [],
   "source": [
    "# | exporti\n",
    "@patch_to(DomoInstanceConfig)\n",
    "async def get_sso_config(\n",
    "    self: DomoInstanceConfig,\n",
    "    session: httpx.AsyncClient = None,\n",
    "    debug_api: bool = False,\n",
    "    return_raw: bool = False,\n",
    "):\n",
    "    res = await instance_config_routes.get_sso_config(\n",
    "        auth=self.auth,\n",
    "        session=session,\n",
    "        parent_class=self.__class__.__name__,\n",
    "        debug_api=debug_api,\n",
    "        debug_num_stacks_to_drop=2,\n",
    "    )\n",
    "\n",
    "    if return_raw:\n",
    "        return res\n",
    "\n",
    "    self.sso_config = SSO_Config._from_json(auth=self.auth, obj=res.response)\n",
    "\n",
    "    return self.sso_config"
   ]
  },
  {
   "cell_type": "markdown",
   "metadata": {},
   "source": [
    "#### sample implementation of get_sso_configuration\n"
   ]
  },
  {
   "cell_type": "code",
   "execution_count": 93,
   "metadata": {},
   "outputs": [
    {
     "name": "stdout",
     "output_type": "stream",
     "text": [
      "warning this token has not been validated by who_am_i, run get_auth_token first\n"
     ]
    },
    {
     "data": {
      "text/plain": [
       "{'loginEnabled': False,\n",
       " 'idpEnabled': False,\n",
       " 'importGroups': False,\n",
       " 'requireInvitation': False,\n",
       " 'enforceWhitelist': False,\n",
       " 'skipToIdp': False,\n",
       " 'authRequestEndpoint': '',\n",
       " 'tokenEndpoint': '',\n",
       " 'userInfoEndpoint': '',\n",
       " 'publicKey': '',\n",
       " 'redirectUrl': '',\n",
       " 'certificate': '',\n",
       " 'overrideSSO': False,\n",
       " 'overrideEmbed': False,\n",
       " 'wellKnownConfig': ''}"
      ]
     },
     "execution_count": 93,
     "metadata": {},
     "output_type": "execute_result"
    }
   ],
   "source": [
    "token_auth = dmda.DomoTokenAuth(\n",
    "    domo_instance=\"domo-community\",\n",
    "    domo_access_token=os.environ[\"DOMO_DOJO_ACCESS_TOKEN\"],\n",
    ")\n",
    "\n",
    "domo_config = DomoInstanceConfig(auth=token_auth)\n",
    "\n",
    "await domo_config.get_sso_config()\n",
    "\n",
    "domo_config.sso_config.to_json()"
   ]
  },
  {
   "cell_type": "markdown",
   "metadata": {},
   "source": [
    "## Update SSO Config\n"
   ]
  },
  {
   "cell_type": "code",
   "execution_count": 94,
   "metadata": {},
   "outputs": [],
   "source": [
    "# | exporti\n",
    "@patch_to(DomoInstanceConfig)\n",
    "async def update_sso_config(\n",
    "    self: DomoInstanceConfig,\n",
    "    login_enabled: bool = None,  # False\n",
    "    idp_enabled: bool = None,  # False\n",
    "    import_groups: bool = None,  # False\n",
    "    require_invitation: bool = None,  # False\n",
    "    enforce_allowlist: bool = None,  # False\n",
    "    skip_to_idp: bool = None,  # False\n",
    "    auth_request_endpoint: str = None,\n",
    "    token_endpoint: str = None,\n",
    "    user_info_endpoint: str = None,\n",
    "    public_key: str = None,\n",
    "    redirect_url: str = None,\n",
    "    certificate: str = None,\n",
    "    override_sso: bool = None,  # False\n",
    "    override_embed: bool = None,  # False\n",
    "    # \"https://{domo_instance}}.domo.com/auth/oidc\"\n",
    "    well_known_config: str = None,\n",
    "    assertion_endpoint: str = None,\n",
    "    ingest_attributes: bool = None,  # False\n",
    "    debug_is_test: bool = False,\n",
    "    session: httpx.AsyncClient = None,\n",
    "    debug_api: bool = False,\n",
    "):\n",
    "    update_config = await self.get_sso_config()\n",
    "\n",
    "    update_config.add_attribute(\n",
    "        overwrite_existing=True,\n",
    "        login_enabled=login_enabled,\n",
    "        idp_enabled=idp_enabled,\n",
    "        import_groups=import_groups,\n",
    "        require_invitation=require_invitation,\n",
    "        enforce_allowlist=enforce_allowlist,\n",
    "        skip_to_idp=skip_to_idp,\n",
    "        auth_request_endpoint=auth_request_endpoint,\n",
    "        token_endpoint=token_endpoint,\n",
    "        user_info_endpoint=user_info_endpoint,\n",
    "        public_key=public_key,\n",
    "        redirect_url=redirect_url,\n",
    "        certificate=certificate,\n",
    "        override_sso=override_sso,\n",
    "        override_embed=override_embed,\n",
    "        well_known_config=well_known_config,\n",
    "        assertion_endpoint=assertion_endpoint,\n",
    "        ingest_attributes=ingest_attributes,\n",
    "    )\n",
    "\n",
    "    config_body = update_config.to_json()\n",
    "\n",
    "    if debug_is_test:\n",
    "        print(\"⚗️⚠️ This is a test, SSO Config will not be updated\")\n",
    "        return config_body\n",
    "\n",
    "    res = await instance_config_routes.update_sso_config(\n",
    "        auth=self.auth,\n",
    "        config_body=config_body,\n",
    "        parent_class=self.__class__.__name__,\n",
    "        session=session,\n",
    "        debug_api=debug_api,\n",
    "        debug_num_stacks_to_drop=2,\n",
    "    )\n",
    "\n",
    "    # await asyncio.sleep(3)\n",
    "\n",
    "    await self.get_sso_config()\n",
    "\n",
    "    errors_obj = {\n",
    "        update_key: f\"expected_value: {str(update_value)  } , current_value: { str(self.sso_config[update_key])}\"\n",
    "        for update_key, update_value in asdict(update_config).items()\n",
    "        if asdict(self.sso_config)[update_key] != update_value\n",
    "    }\n",
    "\n",
    "    if len(errors_obj.keys()) > 0:\n",
    "        raise instance_config_routes.UpdateSSO_Error(\n",
    "            domo_instance=self.auth.domo_instance,\n",
    "            config_body=errors_obj,\n",
    "            function_name=res.traceback_details.function_name,\n",
    "            parent_class=self.__class__.__name,\n",
    "        )\n",
    "\n",
    "    return self.sso_config"
   ]
  },
  {
   "cell_type": "markdown",
   "metadata": {},
   "source": [
    "# sample implementation of update_sso_config\n"
   ]
  },
  {
   "cell_type": "code",
   "execution_count": 95,
   "metadata": {},
   "outputs": [
    {
     "name": "stdout",
     "output_type": "stream",
     "text": [
      "warning this token has not been validated by who_am_i, run get_auth_token first\n",
      "🛑  UpdateSSO_Error 🛑 - function: DomoInstanceConfig.wrapper || status 400 || failed to set config to loginEnabled : False || idpEnabled : False || importGroups : False || requireInvitation : True || enforceWhitelist : False || skipToIdp : False || authRequestEndpoint :  || tokenEndpoint :  || userInfoEndpoint :  || publicKey :  || redirectUrl :  || certificate :  || overrideSSO : False || overrideEmbed : abc || wellKnownConfig :  at domo-community\n"
     ]
    }
   ],
   "source": [
    "token_auth = dmda.DomoTokenAuth(\n",
    "    domo_instance=\"domo-community\",\n",
    "    domo_access_token=os.environ[\"DOMO_DOJO_ACCESS_TOKEN\"],\n",
    ")\n",
    "\n",
    "domo_config = DomoInstanceConfig(auth=token_auth)\n",
    "try:\n",
    "    await domo_config.update_sso_config(\n",
    "        require_invitation=True,\n",
    "        override_embed=\"abc\",\n",
    "        # debug_is_test=True,\n",
    "        debug_api=False,\n",
    "    )\n",
    "except UpdateSSO_Error as e:\n",
    "    print(e)"
   ]
  },
  {
   "cell_type": "markdown",
   "metadata": {},
   "source": [
    "## Get Publications\n"
   ]
  },
  {
   "cell_type": "code",
   "execution_count": 96,
   "metadata": {},
   "outputs": [],
   "source": [
    "# | exporti\n",
    "@patch_to(DomoInstanceConfig, cls_method=True)\n",
    "async def get_publications(\n",
    "    cls: DomoInstanceConfig,\n",
    "    auth: dmda.DomoFullAuth,\n",
    "    debug_api: bool = False,\n",
    "    session: httpx.AsyncClient = None,\n",
    "    return_raw: bool = False,\n",
    "):\n",
    "    import domolibrary.classes.DomoPublish as dmpb\n",
    "\n",
    "    res = await publish_routes.search_publications(\n",
    "        auth=auth, debug_api=debug_api, session=session\n",
    "    )\n",
    "    if debug_api:\n",
    "        print(\"Getting Publish jobs\")\n",
    "\n",
    "    if res.status == 200 and not return_raw:\n",
    "        return await ce.gather_with_concurrency(\n",
    "            n=60,\n",
    "            *[\n",
    "                dmpb.DomoPublication.get_from_id(\n",
    "                    publication_id=job.get(\"id\"), auth=auth\n",
    "                )\n",
    "                for job in res.response\n",
    "            ],\n",
    "        )\n",
    "\n",
    "    if res.status == 200 and return_raw:\n",
    "        return res.response"
   ]
  },
  {
   "attachments": {},
   "cell_type": "markdown",
   "metadata": {},
   "source": [
    "### sample implementation of get_publications\n"
   ]
  },
  {
   "cell_type": "code",
   "execution_count": 97,
   "metadata": {},
   "outputs": [
    {
     "name": "stdout",
     "output_type": "stream",
     "text": [
      "[DomoPublication(id='095426a1-2c35-468b-bb96-36c516382f19', name='Ellibot', description='', is_v2=True, created_dt=datetime.datetime(2023, 11, 10, 11, 5, 10, 961000), subscription_authorizations=[DomoPublication_Subscription(subscription_id='173ee64d-4f68-4d40-b634-22b5332f4e45', publication_id='095426a1-2c35-468b-bb96-36c516382f19', domain='domo-community-ellibot.domo.com', created_dt=datetime.datetime(2023, 11, 10, 11, 5, 10, 961000))], content=[DomoPublication_Content(content_id='c61531b6-81ac-45ec-9a77-d41194406097', entity_type='DATASET', entity_id='f6210193-5322-4481-a1de-d07aed544050', entity_domain='domo-community.domo.com', is_v2=True, is_direct_content=True)], content_page_id_ls=[], content_dataset_id_ls=['f6210193-5322-4481-a1de-d07aed544050'], lineage=DomoLineage(page_id_ls=[], card_id_ls=[], dataflow_id_ls=[], dataset_id_ls=[], entity_ls=[])), DomoPublication(id='99a4f772-f0e0-47a6-873a-5870d03b9134', name='Landing Page QA', description='', is_v2=True, created_dt=datetime.datetime(2023, 6, 15, 15, 14, 23, 791000), subscription_authorizations=[DomoPublication_Subscription(subscription_id='e0788b4e-5973-4c48-8a56-433dfb280496', publication_id='99a4f772-f0e0-47a6-873a-5870d03b9134', domain='test.domo.com', created_dt=datetime.datetime(2023, 6, 15, 15, 14, 23, 791000))], content=[DomoPublication_Content(content_id='b10b76dd-17f6-4459-9279-d1764035fad8', entity_type='DATASET', entity_id='51260f1d-b146-4dff-a1d8-68b7aa0b740b', entity_domain='domo-community.domo.com', is_v2=True, is_direct_content=True)], content_page_id_ls=[], content_dataset_id_ls=['51260f1d-b146-4dff-a1d8-68b7aa0b740b'], lineage=DomoLineage(page_id_ls=[], card_id_ls=[], dataflow_id_ls=[], dataset_id_ls=[], entity_ls=[])), DomoPublication(id='e3295d79-4dbe-4994-8f8e-f105b178cc3b', name='Sandbox_PROD', description='', is_v2=True, created_dt=datetime.datetime(2023, 6, 15, 14, 54, 18, 747000), subscription_authorizations=[DomoPublication_Subscription(subscription_id='7ff7ec45-4a5b-4f5b-ab82-c2d4e00527a1', publication_id='e3295d79-4dbe-4994-8f8e-f105b178cc3b', domain='test.domo.com', created_dt=datetime.datetime(2023, 6, 15, 14, 54, 18, 748000))], content=[DomoPublication_Content(content_id='d4414dfc-3d05-41ef-bb47-8b29b75bb6b8', entity_type='DATASET', entity_id='15543b0f-dfe7-4a91-b7db-a86b9e8fec82', entity_domain='domo-community.domo.com', is_v2=True, is_direct_content=True)], content_page_id_ls=[], content_dataset_id_ls=['15543b0f-dfe7-4a91-b7db-a86b9e8fec82'], lineage=DomoLineage(page_id_ls=[], card_id_ls=[], dataflow_id_ls=[], dataset_id_ls=[], entity_ls=[])), DomoPublication(id='17ec9f81-906f-42f7-b70b-6a26e2db523f', name='Test OZ', description='', is_v2=True, created_dt=datetime.datetime(2023, 6, 27, 12, 5, 0, 235000), subscription_authorizations=[DomoPublication_Subscription(subscription_id='c3e2d03e-fd02-4bdc-a2c5-1daa0ae134c4', publication_id='17ec9f81-906f-42f7-b70b-6a26e2db523f', domain='test.domo.com', created_dt=datetime.datetime(2023, 6, 27, 12, 5, 0, 235000))], content=[DomoPublication_Content(content_id='72d3f072-cecc-4940-af69-e25a64170148', entity_type='DATASET', entity_id='e17fd398-8abf-4cb5-8ed1-5394e274fbf4', entity_domain='domo-community.domo.com', is_v2=True, is_direct_content=True)], content_page_id_ls=[], content_dataset_id_ls=['e17fd398-8abf-4cb5-8ed1-5394e274fbf4'], lineage=DomoLineage(page_id_ls=[], card_id_ls=[], dataflow_id_ls=[], dataset_id_ls=[], entity_ls=[])), DomoPublication(id='5b4a61f0-4f65-4191-97ff-245702756a4a', name='Test OZ', description='', is_v2=True, created_dt=datetime.datetime(2023, 7, 7, 10, 44, 0, 2000), subscription_authorizations=[DomoPublication_Subscription(subscription_id='5f0989bd-fc58-4590-bdf1-9d358ea9287a', publication_id='5b4a61f0-4f65-4191-97ff-245702756a4a', domain='test.domo.com', created_dt=datetime.datetime(2023, 7, 7, 10, 44, 0, 2000))], content=[DomoPublication_Content(content_id='ede617cc-65d1-419b-bd9d-1ea7205cde62', entity_type='DATASET', entity_id='e17fd398-8abf-4cb5-8ed1-5394e274fbf4', entity_domain='domo-community.domo.com', is_v2=True, is_direct_content=True)], content_page_id_ls=[], content_dataset_id_ls=['e17fd398-8abf-4cb5-8ed1-5394e274fbf4'], lineage=DomoLineage(page_id_ls=[], card_id_ls=[], dataflow_id_ls=[], dataset_id_ls=[], entity_ls=[])), DomoPublication(id='1e7eb490-64fa-4e76-8e48-7bf7e7b73851', name='Test OZ', description='', is_v2=True, created_dt=datetime.datetime(2023, 6, 27, 14, 49, 45, 693000), subscription_authorizations=[DomoPublication_Subscription(subscription_id='f7402872-6a19-4da6-9afc-363efc9c4711', publication_id='1e7eb490-64fa-4e76-8e48-7bf7e7b73851', domain='test.domo.com', created_dt=datetime.datetime(2023, 6, 27, 14, 49, 45, 694000))], content=[DomoPublication_Content(content_id='94b4c694-fc20-40dc-9eac-f85ba64121a4', entity_type='DATASET', entity_id='e17fd398-8abf-4cb5-8ed1-5394e274fbf4', entity_domain='domo-community.domo.com', is_v2=True, is_direct_content=True)], content_page_id_ls=[], content_dataset_id_ls=['e17fd398-8abf-4cb5-8ed1-5394e274fbf4'], lineage=DomoLineage(page_id_ls=[], card_id_ls=[], dataflow_id_ls=[], dataset_id_ls=[], entity_ls=[])), DomoPublication(id='544c3a06-84db-441a-b1a1-051e84020976', name='Test OZ', description='', is_v2=True, created_dt=datetime.datetime(2023, 6, 28, 13, 37, 45, 633000), subscription_authorizations=[DomoPublication_Subscription(subscription_id='129a8b4d-298f-4eb8-b2ad-f4205189d0e3', publication_id='544c3a06-84db-441a-b1a1-051e84020976', domain='test.domo.com', created_dt=datetime.datetime(2023, 6, 28, 13, 37, 45, 633000))], content=[DomoPublication_Content(content_id='9768f3af-d016-4df2-8663-f01c6955336b', entity_type='DATASET', entity_id='e17fd398-8abf-4cb5-8ed1-5394e274fbf4', entity_domain='domo-community.domo.com', is_v2=True, is_direct_content=True)], content_page_id_ls=[], content_dataset_id_ls=['e17fd398-8abf-4cb5-8ed1-5394e274fbf4'], lineage=DomoLineage(page_id_ls=[], card_id_ls=[], dataflow_id_ls=[], dataset_id_ls=[], entity_ls=[])), DomoPublication(id='67fa93ca-173a-43e1-b830-51ac188d3a2a', name='Test OZ', description='', is_v2=True, created_dt=datetime.datetime(2023, 6, 28, 13, 39, 7, 435000), subscription_authorizations=[DomoPublication_Subscription(subscription_id='ae01ae3f-4461-4159-af58-6f0e977bfb66', publication_id='67fa93ca-173a-43e1-b830-51ac188d3a2a', domain='test.domo.com', created_dt=datetime.datetime(2023, 6, 28, 13, 39, 7, 435000))], content=[DomoPublication_Content(content_id='c9b1cf73-8161-435c-b489-808a87948f4b', entity_type='DATASET', entity_id='e17fd398-8abf-4cb5-8ed1-5394e274fbf4', entity_domain='domo-community.domo.com', is_v2=True, is_direct_content=True)], content_page_id_ls=[], content_dataset_id_ls=['e17fd398-8abf-4cb5-8ed1-5394e274fbf4'], lineage=DomoLineage(page_id_ls=[], card_id_ls=[], dataflow_id_ls=[], dataset_id_ls=[], entity_ls=[])), DomoPublication(id='0d5e5bab-8907-4afc-9e81-61b5c8b7196d', name='Test OZ', description='', is_v2=True, created_dt=datetime.datetime(2023, 7, 7, 10, 43, 28, 875000), subscription_authorizations=[DomoPublication_Subscription(subscription_id='827a6e8f-d1c9-432c-a7ec-029e998f07a2', publication_id='0d5e5bab-8907-4afc-9e81-61b5c8b7196d', domain='test.domo.com', created_dt=datetime.datetime(2023, 7, 7, 10, 43, 28, 875000))], content=[DomoPublication_Content(content_id='c6436d38-e321-483e-b297-211556375b16', entity_type='DATASET', entity_id='e17fd398-8abf-4cb5-8ed1-5394e274fbf4', entity_domain='domo-community.domo.com', is_v2=True, is_direct_content=True)], content_page_id_ls=[], content_dataset_id_ls=['e17fd398-8abf-4cb5-8ed1-5394e274fbf4'], lineage=DomoLineage(page_id_ls=[], card_id_ls=[], dataflow_id_ls=[], dataset_id_ls=[], entity_ls=[])), DomoPublication(id='3ed4e4b3-2d0d-422f-8c2a-e0de94d57ef9', name='Test OZ', description='', is_v2=True, created_dt=datetime.datetime(2023, 6, 27, 11, 53, 20, 79000), subscription_authorizations=[DomoPublication_Subscription(subscription_id='0aacf3c0-3c89-45fb-866c-f834c63d30aa', publication_id='3ed4e4b3-2d0d-422f-8c2a-e0de94d57ef9', domain='test.domo.com', created_dt=datetime.datetime(2023, 6, 27, 11, 53, 20, 79000))], content=[DomoPublication_Content(content_id='a785b401-34cc-419c-8728-d326f0a95e02', entity_type='DATASET', entity_id='e17fd398-8abf-4cb5-8ed1-5394e274fbf4', entity_domain='domo-community.domo.com', is_v2=True, is_direct_content=True)], content_page_id_ls=[], content_dataset_id_ls=['e17fd398-8abf-4cb5-8ed1-5394e274fbf4'], lineage=DomoLineage(page_id_ls=[], card_id_ls=[], dataflow_id_ls=[], dataset_id_ls=[], entity_ls=[])), DomoPublication(id='868e5bfa-3e0b-43f4-819a-6a34e33f039c', name='Test OZ', description='', is_v2=True, created_dt=datetime.datetime(2023, 6, 27, 16, 9, 29, 900000), subscription_authorizations=[DomoPublication_Subscription(subscription_id='53113e79-3671-4ed0-acf7-f54aef53ae8d', publication_id='868e5bfa-3e0b-43f4-819a-6a34e33f039c', domain='test.domo.com', created_dt=datetime.datetime(2023, 6, 27, 16, 9, 29, 900000))], content=[DomoPublication_Content(content_id='425bc84d-a961-4973-8fee-5aafb209431a', entity_type='DATASET', entity_id='e17fd398-8abf-4cb5-8ed1-5394e274fbf4', entity_domain='domo-community.domo.com', is_v2=True, is_direct_content=True)], content_page_id_ls=[], content_dataset_id_ls=['e17fd398-8abf-4cb5-8ed1-5394e274fbf4'], lineage=DomoLineage(page_id_ls=[], card_id_ls=[], dataflow_id_ls=[], dataset_id_ls=[], entity_ls=[])), DomoPublication(id='234bff3e-bfe7-4b2d-859e-18077fa6f151', name='Test OZ', description='', is_v2=True, created_dt=datetime.datetime(2023, 6, 26, 12, 52, 17, 175000), subscription_authorizations=[DomoPublication_Subscription(subscription_id='e34198a4-2885-483d-9916-750d9be78cbc', publication_id='234bff3e-bfe7-4b2d-859e-18077fa6f151', domain='test.domo.com', created_dt=datetime.datetime(2023, 6, 26, 12, 52, 17, 175000))], content=[DomoPublication_Content(content_id='80903d8d-1f5f-41bb-8fe9-c1534d2a73d9', entity_type='DATASET', entity_id='e17fd398-8abf-4cb5-8ed1-5394e274fbf4', entity_domain='domo-community.domo.com', is_v2=True, is_direct_content=True)], content_page_id_ls=[], content_dataset_id_ls=['e17fd398-8abf-4cb5-8ed1-5394e274fbf4'], lineage=DomoLineage(page_id_ls=[], card_id_ls=[], dataflow_id_ls=[], dataset_id_ls=[], entity_ls=[])), DomoPublication(id='6af270bd-fe87-4672-abdb-cba982567b3b', name='Test OZ', description='', is_v2=True, created_dt=datetime.datetime(2023, 6, 27, 14, 45, 27, 723000), subscription_authorizations=[DomoPublication_Subscription(subscription_id='4edebbf0-eef8-4a1b-9395-947714fd6438', publication_id='6af270bd-fe87-4672-abdb-cba982567b3b', domain='test.domo.com', created_dt=datetime.datetime(2023, 6, 27, 14, 45, 27, 723000))], content=[DomoPublication_Content(content_id='c32832cc-b316-4131-9823-098d0fb4e8dc', entity_type='DATASET', entity_id='e17fd398-8abf-4cb5-8ed1-5394e274fbf4', entity_domain='domo-community.domo.com', is_v2=True, is_direct_content=True)], content_page_id_ls=[], content_dataset_id_ls=['e17fd398-8abf-4cb5-8ed1-5394e274fbf4'], lineage=DomoLineage(page_id_ls=[], card_id_ls=[], dataflow_id_ls=[], dataset_id_ls=[], entity_ls=[])), DomoPublication(id='5696c128-299c-4f43-a7bc-91bf9b412efa', name='Test OZ', description='', is_v2=True, created_dt=datetime.datetime(2023, 6, 27, 14, 52, 26, 775000), subscription_authorizations=[DomoPublication_Subscription(subscription_id='6338cdaa-1103-4e2d-99a9-862a93073efd', publication_id='5696c128-299c-4f43-a7bc-91bf9b412efa', domain='test.domo.com', created_dt=datetime.datetime(2023, 6, 27, 14, 52, 26, 775000))], content=[DomoPublication_Content(content_id='2652fdf8-fa3f-4dc4-852f-b47ed5ccaaf7', entity_type='DATASET', entity_id='e17fd398-8abf-4cb5-8ed1-5394e274fbf4', entity_domain='domo-community.domo.com', is_v2=True, is_direct_content=True)], content_page_id_ls=[], content_dataset_id_ls=['e17fd398-8abf-4cb5-8ed1-5394e274fbf4'], lineage=DomoLineage(page_id_ls=[], card_id_ls=[], dataflow_id_ls=[], dataset_id_ls=[], entity_ls=[])), DomoPublication(id='acc9b806-0d17-4a53-b3f0-d8c6b39be67a', name='Test OZ', description='', is_v2=True, created_dt=datetime.datetime(2023, 7, 7, 10, 11, 10, 86000), subscription_authorizations=[DomoPublication_Subscription(subscription_id='e5f1fce4-008e-4ee1-8fe5-f080e80bbe0a', publication_id='acc9b806-0d17-4a53-b3f0-d8c6b39be67a', domain='test.domo.com', created_dt=datetime.datetime(2023, 7, 7, 10, 11, 10, 86000))], content=[DomoPublication_Content(content_id='91c7cb1a-2fa2-41a5-a0eb-e75b587971b6', entity_type='DATASET', entity_id='e17fd398-8abf-4cb5-8ed1-5394e274fbf4', entity_domain='domo-community.domo.com', is_v2=True, is_direct_content=True)], content_page_id_ls=[], content_dataset_id_ls=['e17fd398-8abf-4cb5-8ed1-5394e274fbf4'], lineage=DomoLineage(page_id_ls=[], card_id_ls=[], dataflow_id_ls=[], dataset_id_ls=[], entity_ls=[])), DomoPublication(id='e5f7461f-66f9-4e88-8cb3-2112923748ae', name='Test OZ', description='', is_v2=True, created_dt=datetime.datetime(2023, 5, 23, 6, 44, 24, 995000), subscription_authorizations=[DomoPublication_Subscription(subscription_id='3708f286-9c28-4d97-8e61-233950af35c8', publication_id='e5f7461f-66f9-4e88-8cb3-2112923748ae', domain='test.domo.com', created_dt=datetime.datetime(2023, 5, 23, 6, 44, 24, 995000))], content=[DomoPublication_Content(content_id='328d4a54-e066-4573-80cb-e94191b1b145', entity_type='DATASET', entity_id='e17fd398-8abf-4cb5-8ed1-5394e274fbf4', entity_domain='domo-community.domo.com', is_v2=True, is_direct_content=True)], content_page_id_ls=[], content_dataset_id_ls=['e17fd398-8abf-4cb5-8ed1-5394e274fbf4'], lineage=DomoLineage(page_id_ls=[], card_id_ls=[], dataflow_id_ls=[], dataset_id_ls=[], entity_ls=[])), DomoPublication(id='8e3547ed-9337-49d1-a32b-bf91077b39ac', name='Test OZ', description='', is_v2=True, created_dt=datetime.datetime(2023, 6, 26, 12, 54, 35, 983000), subscription_authorizations=[DomoPublication_Subscription(subscription_id='36a2e742-b091-4a87-ba2e-3dc570509c1a', publication_id='8e3547ed-9337-49d1-a32b-bf91077b39ac', domain='test.domo.com', created_dt=datetime.datetime(2023, 6, 26, 12, 54, 35, 983000))], content=[DomoPublication_Content(content_id='d7a63d01-cfac-43f8-8d47-6d4cfcb16722', entity_type='DATASET', entity_id='e17fd398-8abf-4cb5-8ed1-5394e274fbf4', entity_domain='domo-community.domo.com', is_v2=True, is_direct_content=True)], content_page_id_ls=[], content_dataset_id_ls=['e17fd398-8abf-4cb5-8ed1-5394e274fbf4'], lineage=DomoLineage(page_id_ls=[], card_id_ls=[], dataflow_id_ls=[], dataset_id_ls=[], entity_ls=[])), DomoPublication(id='12569e57-ecea-4e3e-88b9-108317051047', name='Test OZ', description='', is_v2=True, created_dt=datetime.datetime(2023, 6, 27, 16, 13, 6, 342000), subscription_authorizations=[DomoPublication_Subscription(subscription_id='21836f64-112a-4400-bbfb-8d89045fe937', publication_id='12569e57-ecea-4e3e-88b9-108317051047', domain='test.domo.com', created_dt=datetime.datetime(2023, 6, 27, 16, 13, 6, 343000))], content=[DomoPublication_Content(content_id='d223a65a-b72c-4ff4-b47c-e35b5a06dc33', entity_type='DATASET', entity_id='e17fd398-8abf-4cb5-8ed1-5394e274fbf4', entity_domain='domo-community.domo.com', is_v2=True, is_direct_content=True)], content_page_id_ls=[], content_dataset_id_ls=['e17fd398-8abf-4cb5-8ed1-5394e274fbf4'], lineage=DomoLineage(page_id_ls=[], card_id_ls=[], dataflow_id_ls=[], dataset_id_ls=[], entity_ls=[])), DomoPublication(id='4386c956-205b-4860-a60a-1ba281dc3113', name='Test OZ', description='', is_v2=True, created_dt=datetime.datetime(2023, 7, 7, 9, 17, 45, 236000), subscription_authorizations=[DomoPublication_Subscription(subscription_id='a382635c-676f-416c-95ab-c9b8d143fa8a', publication_id='4386c956-205b-4860-a60a-1ba281dc3113', domain='test.domo.com', created_dt=datetime.datetime(2023, 7, 7, 9, 17, 45, 236000))], content=[DomoPublication_Content(content_id='2be48c34-40df-45f0-b2cc-e46e43ea8841', entity_type='DATASET', entity_id='e17fd398-8abf-4cb5-8ed1-5394e274fbf4', entity_domain='domo-community.domo.com', is_v2=True, is_direct_content=True)], content_page_id_ls=[], content_dataset_id_ls=['e17fd398-8abf-4cb5-8ed1-5394e274fbf4'], lineage=DomoLineage(page_id_ls=[], card_id_ls=[], dataflow_id_ls=[], dataset_id_ls=[], entity_ls=[])), DomoPublication(id='438731a1-7e4e-4863-967f-fcfad22c9247', name='Test OZ - updated', description='', is_v2=True, created_dt=datetime.datetime(2023, 5, 2, 15, 6, 24, 358000), subscription_authorizations=[DomoPublication_Subscription(subscription_id='a0272907-d34c-4c27-b716-f2386dfecd19', publication_id='438731a1-7e4e-4863-967f-fcfad22c9247', domain='test.domo.com', created_dt=datetime.datetime(2023, 5, 2, 15, 6, 24, 358000))], content=[DomoPublication_Content(content_id='16e1b47f-6677-41a3-9c80-894550fec649', entity_type='PAGE', entity_id='384424178', entity_domain='domo-community.domo.com', is_v2=True, is_direct_content=True), DomoPublication_Content(content_id='14d1a1e9-8673-4b3f-aa72-1d32a6041140', entity_type='DATASET', entity_id='4ef43af5-67e7-4b9e-bd58-c4e592aa289a', entity_domain='domo-community.domo.com', is_v2=True, is_direct_content=True), DomoPublication_Content(content_id='53ab2b71-7b4c-47c9-9d0f-5deb3c7974f8', entity_type='DATASET', entity_id='e17fd398-8abf-4cb5-8ed1-5394e274fbf4', entity_domain='domo-community.domo.com', is_v2=True, is_direct_content=True), DomoPublication_Content(content_id='87579059-fb6a-4d35-99ab-8ff624472dfd', entity_type='DATASET', entity_id='04c1574e-c8be-4721-9846-c6ffa491144b', entity_domain='domo-community.domo.com', is_v2=True, is_direct_content=True)], content_page_id_ls=['384424178'], content_dataset_id_ls=['4ef43af5-67e7-4b9e-bd58-c4e592aa289a', 'e17fd398-8abf-4cb5-8ed1-5394e274fbf4', '04c1574e-c8be-4721-9846-c6ffa491144b'], lineage=DomoLineage(page_id_ls=[], card_id_ls=[], dataflow_id_ls=[], dataset_id_ls=[], entity_ls=[])), DomoPublication(id='701eb547-4244-43f6-bcda-003ed2c483c7', name='test_publish', description='', is_v2=True, created_dt=datetime.datetime(2023, 4, 27, 1, 36, 20, 642000), subscription_authorizations=[DomoPublication_Subscription(subscription_id='447bf630-7113-4323-bf67-773dcc450a3a', publication_id='701eb547-4244-43f6-bcda-003ed2c483c7', domain='test.domo.com', created_dt=datetime.datetime(2023, 4, 27, 1, 36, 20, 642000))], content=[DomoPublication_Content(content_id='cb257f38-6d6b-46b7-92c5-aee90fde7b66', entity_type='PAGE', entity_id='1880852133', entity_domain='domo-community.domo.com', is_v2=True, is_direct_content=True), DomoPublication_Content(content_id='06c56df0-c58b-4afd-ab3f-41de5089273a', entity_type='DATASET', entity_id='ea859b06-5dbe-4c31-be76-de921447d550', entity_domain='domo-community.domo.com', is_v2=True, is_direct_content=True), DomoPublication_Content(content_id='40d4d296-af58-42e9-98a1-131d3b9c1c97', entity_type='DATASET', entity_id='cf149711-df55-4dc3-a159-59a26d066baa', entity_domain='domo-community.domo.com', is_v2=True, is_direct_content=True), DomoPublication_Content(content_id='a600cd85-3820-47ab-b66f-6ad682d139fb', entity_type='DATASET', entity_id='ee24d234-303e-46aa-b062-9905dc0d8622', entity_domain='domo-community.domo.com', is_v2=True, is_direct_content=True), DomoPublication_Content(content_id='f80ef8c8-a133-439c-b459-7967ce7df4b3', entity_type='DATASET', entity_id='e17fd398-8abf-4cb5-8ed1-5394e274fbf4', entity_domain='domo-community.domo.com', is_v2=True, is_direct_content=True)], content_page_id_ls=['1880852133'], content_dataset_id_ls=['ea859b06-5dbe-4c31-be76-de921447d550', 'cf149711-df55-4dc3-a159-59a26d066baa', 'ee24d234-303e-46aa-b062-9905dc0d8622', 'e17fd398-8abf-4cb5-8ed1-5394e274fbf4'], lineage=DomoLineage(page_id_ls=[], card_id_ls=[], dataflow_id_ls=[], dataset_id_ls=[], entity_ls=[]))]\n"
     ]
    }
   ],
   "source": [
    "auth = dmda.DomoFullAuth(\n",
    "    domo_instance=\"domo-community\",\n",
    "    domo_username=os.environ[\"DOMO_USERNAME\"],\n",
    "    domo_password=os.environ[\"DOJO_PASSWORD\"],\n",
    ")\n",
    "\n",
    "list_pub = await DomoInstanceConfig.get_publications(auth=auth)\n",
    "print(list_pub)"
   ]
  },
  {
   "cell_type": "markdown",
   "metadata": {},
   "source": [
    "# Allowlist\n"
   ]
  },
  {
   "cell_type": "code",
   "execution_count": 98,
   "metadata": {},
   "outputs": [],
   "source": [
    "# | exporti\n",
    "@patch_to(DomoInstanceConfig)\n",
    "async def get_allowlist(\n",
    "    self: DomoInstanceConfig,\n",
    "    auth: dmda.DomoFullAuth = None,  # get_allowlist requires full authentication\n",
    "    session: httpx.AsyncClient = None,\n",
    "    return_raw: bool = False,\n",
    "    debug_api: bool = False,\n",
    ") -> list[str]:\n",
    "    \"\"\"retrieves the allowlist for an instance\"\"\"\n",
    "\n",
    "    auth = auth or self.auth\n",
    "\n",
    "    res = None\n",
    "    loop = 0\n",
    "\n",
    "    while not res and loop <= 5:\n",
    "        try:\n",
    "            res = await instance_config_routes.get_allowlist(\n",
    "                auth=auth, debug_api=debug_api, session=session\n",
    "            )\n",
    "        except Exception as e:\n",
    "            print(e)\n",
    "        finally:\n",
    "            loop += 1\n",
    "\n",
    "    if return_raw:\n",
    "        return res\n",
    "\n",
    "    if not res.is_success:\n",
    "        return None\n",
    "\n",
    "    allowlist = res.response.get(\"addresses\")\n",
    "\n",
    "    self.allowlist = allowlist\n",
    "\n",
    "    return allowlist"
   ]
  },
  {
   "attachments": {},
   "cell_type": "markdown",
   "metadata": {},
   "source": [
    "#### sample implementation of get_allowlist\n"
   ]
  },
  {
   "cell_type": "code",
   "execution_count": 99,
   "metadata": {},
   "outputs": [
    {
     "data": {
      "text/plain": [
       "['0.0.0.0/0', '172.59.153.95', '192.168.0.1']"
      ]
     },
     "execution_count": 99,
     "metadata": {},
     "output_type": "execute_result"
    }
   ],
   "source": [
    "# this route requires full auth\n",
    "# auth = dmda.DomoTokenAuth(domo_instance = 'domo-community', domo_access_token=os.environ['DOMO_DOJO_ACCESS_TOKEN'])\n",
    "\n",
    "auth = dmda.DomoFullAuth(\n",
    "    domo_instance=\"domo-community\",\n",
    "    domo_username=os.environ[\"DOMO_USERNAME\"],\n",
    "    domo_password=os.environ[\"DOJO_PASSWORD\"],\n",
    ")\n",
    "\n",
    "dmicnfg = DomoInstanceConfig(auth=auth)\n",
    "\n",
    "await dmicnfg.get_allowlist(auth=auth)"
   ]
  },
  {
   "attachments": {},
   "cell_type": "markdown",
   "metadata": {},
   "source": [
    "## ALTER the allowlist\n",
    "\n",
    "- The updating the allowlist will automatically include the IP Address that submits the set_allowlist request. This prevents users from accidentally locking themselves out of domo.\n",
    "- the set_allowlist API always does a SET command, by default there is no UPDATE or INSERT option. This class-based implementation uses a combination of get_allowlist, MERGE and set_allowlist to perform an UPSERT equivalent.\n"
   ]
  },
  {
   "cell_type": "code",
   "execution_count": 100,
   "metadata": {},
   "outputs": [],
   "source": [
    "# |exporti\n",
    "@patch_to(DomoInstanceConfig)\n",
    "async def set_allowlist(\n",
    "    self: DomoInstanceConfig,\n",
    "    ip_address_ls: list[str],\n",
    "    debug_api: bool = False,\n",
    "    auth: dmda.DomoFullAuth = None,\n",
    "    session: httpx.AsyncClient = None,\n",
    "):\n",
    "    auth = auth or self.auth\n",
    "\n",
    "    await instance_config_routes.set_allowlist(\n",
    "        auth=auth, ip_address_ls=ip_address_ls, debug_api=debug_api, session=session\n",
    "    )\n",
    "\n",
    "    return await self.get_allowlist(auth=auth, debug_api=debug_api, session=session)\n",
    "\n",
    "\n",
    "@patch_to(\n",
    "    DomoInstanceConfig,\n",
    ")\n",
    "async def upsert_allowlist(\n",
    "    self: DomoInstanceConfig,\n",
    "    ip_address_ls: list[str],\n",
    "    debug_api: bool = False,\n",
    "    session: httpx.AsyncClient = None,\n",
    "    auth: dmda.DomoAuth = None,\n",
    "):\n",
    "    exist_ip_address_ls = await self.get_allowlist(\n",
    "        auth=auth, debug_api=debug_api, session=session\n",
    "    )\n",
    "    ip_address_ls += exist_ip_address_ls\n",
    "\n",
    "    return await self.set_allowlist(\n",
    "        auth=auth,\n",
    "        ip_address_ls=list(set(ip_address_ls)),\n",
    "        debug_api=debug_api,\n",
    "        session=session,\n",
    "    )"
   ]
  },
  {
   "attachments": {},
   "cell_type": "markdown",
   "metadata": {},
   "source": [
    "#### sample implementation of set and upsert allowlist\n"
   ]
  },
  {
   "cell_type": "code",
   "execution_count": 101,
   "metadata": {},
   "outputs": [],
   "source": [
    "# this route requires full auth\n",
    "\n",
    "auth = dmda.DomoFullAuth(\n",
    "    domo_instance=\"domo-community\",\n",
    "    domo_username=os.environ[\"DOMO_USERNAME\"],\n",
    "    domo_password=os.environ[\"DOJO_PASSWORD\"],\n",
    ")\n",
    "\n",
    "dmicnfg = DomoInstanceConfig(auth=auth)\n",
    "try:\n",
    "    await dmicnfg.set_allowlist(auth=auth, ip_address_ls=[\"0.0.0.0/0\"])\n",
    "except Exception as e:\n",
    "    print(e)"
   ]
  },
  {
   "cell_type": "code",
   "execution_count": 102,
   "metadata": {},
   "outputs": [],
   "source": [
    "# this route requires full auth\n",
    "\n",
    "auth = dmda.DomoFullAuth(\n",
    "    domo_instance=\"domo-community\",\n",
    "    domo_username=os.environ[\"DOMO_USERNAME\"],\n",
    "    domo_password=os.environ[\"DOJO_PASSWORD\"],\n",
    ")\n",
    "\n",
    "dmicnfg = DomoInstanceConfig(auth=auth)\n",
    "try:\n",
    "    await dmicnfg.upsert_allowlist(auth=auth, ip_address_ls=[\"192.168.0.1\"])\n",
    "except Exception as e:\n",
    "    print(e)"
   ]
  },
  {
   "attachments": {},
   "cell_type": "markdown",
   "metadata": {},
   "source": [
    "## Domo Grants\n"
   ]
  },
  {
   "cell_type": "code",
   "execution_count": 103,
   "metadata": {},
   "outputs": [],
   "source": [
    "# | exporti\n",
    "@patch_to(DomoInstanceConfig)\n",
    "async def get_grants(\n",
    "    self: DomoInstanceConfig,\n",
    "    auth: dmda.DomoAuth = None,\n",
    "    debug_prn: bool = False,\n",
    "    debug_api: bool = False,\n",
    "    session: httpx.AsyncClient = None,\n",
    "    return_raw: bool = False,\n",
    "):\n",
    "    import domolibrary.classes.DomoGrant as dmg\n",
    "\n",
    "    auth = auth or self.auth\n",
    "\n",
    "    return await dmg.DomoGrants.get_grants(\n",
    "        auth=auth, return_raw=return_raw, session=session, debug_api=debug_api\n",
    "    )"
   ]
  },
  {
   "cell_type": "code",
   "execution_count": 104,
   "metadata": {},
   "outputs": [
    {
     "name": "stdout",
     "output_type": "stream",
     "text": [
      "warning this token has not been validated by who_am_i, run get_auth_token first\n"
     ]
    },
    {
     "data": {
      "text/html": [
       "<div>\n",
       "<style scoped>\n",
       "    .dataframe tbody tr th:only-of-type {\n",
       "        vertical-align: middle;\n",
       "    }\n",
       "\n",
       "    .dataframe tbody tr th {\n",
       "        vertical-align: top;\n",
       "    }\n",
       "\n",
       "    .dataframe thead th {\n",
       "        text-align: right;\n",
       "    }\n",
       "</style>\n",
       "<table border=\"1\" class=\"dataframe\">\n",
       "  <thead>\n",
       "    <tr style=\"text-align: right;\">\n",
       "      <th></th>\n",
       "      <th>id</th>\n",
       "      <th>display_group</th>\n",
       "      <th>title</th>\n",
       "      <th>depends_on_ls</th>\n",
       "      <th>description</th>\n",
       "      <th>role_membership_ls</th>\n",
       "    </tr>\n",
       "  </thead>\n",
       "  <tbody>\n",
       "    <tr>\n",
       "      <th>0</th>\n",
       "      <td>authorization.roles</td>\n",
       "      <td>COMPANY</td>\n",
       "      <td>Manage all roles</td>\n",
       "      <td>[ui.admin]</td>\n",
       "      <td>Create, edit and delete custom roles. Assign a...</td>\n",
       "      <td>[1, 275763436, 810756122]</td>\n",
       "    </tr>\n",
       "    <tr>\n",
       "      <th>1</th>\n",
       "      <td>authorization.roles.assign</td>\n",
       "      <td>COMPANY</td>\n",
       "      <td>Assign users to a role</td>\n",
       "      <td>[ui.admin]</td>\n",
       "      <td>Assign users to a role in the allowlist.</td>\n",
       "      <td>[1, 810756122]</td>\n",
       "    </tr>\n",
       "    <tr>\n",
       "      <th>2</th>\n",
       "      <td>entity.attribute.admin</td>\n",
       "      <td>COMPANY</td>\n",
       "      <td>Manage Certified Attributes</td>\n",
       "      <td>[ui.admin]</td>\n",
       "      <td>Create, edit and delete certified attributes</td>\n",
       "      <td>[1, 810756122]</td>\n",
       "    </tr>\n",
       "    <tr>\n",
       "      <th>3</th>\n",
       "      <td>audit</td>\n",
       "      <td>COMPANY</td>\n",
       "      <td>View activity logs</td>\n",
       "      <td>[ui.admin]</td>\n",
       "      <td>View and export audit logs.</td>\n",
       "      <td>[1, 275763436, 810756122, 1563101750, 2097317660]</td>\n",
       "    </tr>\n",
       "    <tr>\n",
       "      <th>4</th>\n",
       "      <td>customer.edit</td>\n",
       "      <td>COMPANY</td>\n",
       "      <td>Manage all company settings</td>\n",
       "      <td>[ui.admin]</td>\n",
       "      <td>Manage company metadata, authentication rules,...</td>\n",
       "      <td>[1, 275763436, 810756122]</td>\n",
       "    </tr>\n",
       "  </tbody>\n",
       "</table>\n",
       "</div>"
      ],
      "text/plain": [
       "                           id display_group                        title  \\\n",
       "0         authorization.roles       COMPANY             Manage all roles   \n",
       "1  authorization.roles.assign       COMPANY       Assign users to a role   \n",
       "2      entity.attribute.admin       COMPANY  Manage Certified Attributes   \n",
       "3                       audit       COMPANY           View activity logs   \n",
       "4               customer.edit       COMPANY  Manage all company settings   \n",
       "\n",
       "  depends_on_ls                                        description  \\\n",
       "0    [ui.admin]  Create, edit and delete custom roles. Assign a...   \n",
       "1    [ui.admin]           Assign users to a role in the allowlist.   \n",
       "2    [ui.admin]       Create, edit and delete certified attributes   \n",
       "3    [ui.admin]                        View and export audit logs.   \n",
       "4    [ui.admin]  Manage company metadata, authentication rules,...   \n",
       "\n",
       "                                  role_membership_ls  \n",
       "0                          [1, 275763436, 810756122]  \n",
       "1                                     [1, 810756122]  \n",
       "2                                     [1, 810756122]  \n",
       "3  [1, 275763436, 810756122, 1563101750, 2097317660]  \n",
       "4                          [1, 275763436, 810756122]  "
      ]
     },
     "execution_count": 104,
     "metadata": {},
     "output_type": "execute_result"
    }
   ],
   "source": [
    "token_auth = dmda.DomoTokenAuth(\n",
    "    domo_access_token=os.environ[\"DOMO_DOJO_ACCESS_TOKEN\"],\n",
    "    domo_instance=\"domo-community\",\n",
    ")\n",
    "\n",
    "dmicnfg = DomoInstanceConfig(auth=token_auth)\n",
    "\n",
    "res = await dmicnfg.get_grants(debug_prn=True)\n",
    "\n",
    "pd.DataFrame(res[0:5])"
   ]
  },
  {
   "attachments": {},
   "cell_type": "markdown",
   "metadata": {},
   "source": [
    "## Domo Roles\n"
   ]
  },
  {
   "cell_type": "code",
   "execution_count": 105,
   "metadata": {},
   "outputs": [],
   "source": [
    "# | exporti\n",
    "@patch_to(DomoInstanceConfig)\n",
    "async def get_roles(\n",
    "    self,\n",
    "    auth: dmda.DomoAuth = None,\n",
    "    debug_api: bool = False,\n",
    "    return_raw: bool = False,\n",
    "    session: httpx.AsyncClient = None,\n",
    "):\n",
    "    import domolibrary.classes.DomoRole as dmr\n",
    "\n",
    "    auth = auth or self.auth\n",
    "\n",
    "    return await dmr.DomoRoles.get_roles(\n",
    "        auth=auth, debug_api=debug_api, return_raw=return_raw, session=session\n",
    "    )"
   ]
  },
  {
   "attachments": {},
   "cell_type": "markdown",
   "metadata": {},
   "source": [
    "#### sample implementation of get_roles\n"
   ]
  },
  {
   "cell_type": "code",
   "execution_count": 106,
   "metadata": {},
   "outputs": [
    {
     "name": "stdout",
     "output_type": "stream",
     "text": [
      "warning this token has not been validated by who_am_i, run get_auth_token first\n"
     ]
    },
    {
     "data": {
      "text/html": [
       "<div>\n",
       "<style scoped>\n",
       "    .dataframe tbody tr th:only-of-type {\n",
       "        vertical-align: middle;\n",
       "    }\n",
       "\n",
       "    .dataframe tbody tr th {\n",
       "        vertical-align: top;\n",
       "    }\n",
       "\n",
       "    .dataframe thead th {\n",
       "        text-align: right;\n",
       "    }\n",
       "</style>\n",
       "<table border=\"1\" class=\"dataframe\">\n",
       "  <thead>\n",
       "    <tr style=\"text-align: right;\">\n",
       "      <th></th>\n",
       "      <th>auth</th>\n",
       "      <th>id</th>\n",
       "      <th>name</th>\n",
       "      <th>description</th>\n",
       "      <th>is_system_role</th>\n",
       "      <th>is_default_role</th>\n",
       "      <th>grant_ls</th>\n",
       "      <th>membership_ls</th>\n",
       "    </tr>\n",
       "  </thead>\n",
       "  <tbody>\n",
       "    <tr>\n",
       "      <th>0</th>\n",
       "      <td>{'domo_instance': 'domo-community', 'domo_acce...</td>\n",
       "      <td>1</td>\n",
       "      <td>Admin</td>\n",
       "      <td>Full access to everything</td>\n",
       "      <td>True</td>\n",
       "      <td>False</td>\n",
       "      <td>[]</td>\n",
       "      <td>[]</td>\n",
       "    </tr>\n",
       "    <tr>\n",
       "      <th>1</th>\n",
       "      <td>{'domo_instance': 'domo-community', 'domo_acce...</td>\n",
       "      <td>2</td>\n",
       "      <td>Privileged</td>\n",
       "      <td>Full access except for editing users and setti...</td>\n",
       "      <td>True</td>\n",
       "      <td>True</td>\n",
       "      <td>[]</td>\n",
       "      <td>[]</td>\n",
       "    </tr>\n",
       "    <tr>\n",
       "      <th>2</th>\n",
       "      <td>{'domo_instance': 'domo-community', 'domo_acce...</td>\n",
       "      <td>3</td>\n",
       "      <td>Editor</td>\n",
       "      <td>Can edit Cards, Pages, DataSets, and Dataflows</td>\n",
       "      <td>True</td>\n",
       "      <td>False</td>\n",
       "      <td>[]</td>\n",
       "      <td>[]</td>\n",
       "    </tr>\n",
       "    <tr>\n",
       "      <th>3</th>\n",
       "      <td>{'domo_instance': 'domo-community', 'domo_acce...</td>\n",
       "      <td>4</td>\n",
       "      <td>Participant</td>\n",
       "      <td>Read only access to Cards and Pages</td>\n",
       "      <td>True</td>\n",
       "      <td>False</td>\n",
       "      <td>[]</td>\n",
       "      <td>[]</td>\n",
       "    </tr>\n",
       "    <tr>\n",
       "      <th>4</th>\n",
       "      <td>{'domo_instance': 'domo-community', 'domo_acce...</td>\n",
       "      <td>5</td>\n",
       "      <td>Social</td>\n",
       "      <td>Access limited to social features</td>\n",
       "      <td>True</td>\n",
       "      <td>False</td>\n",
       "      <td>[]</td>\n",
       "      <td>[]</td>\n",
       "    </tr>\n",
       "    <tr>\n",
       "      <th>5</th>\n",
       "      <td>{'domo_instance': 'domo-community', 'domo_acce...</td>\n",
       "      <td>104295428</td>\n",
       "      <td>super_admin_v3</td>\n",
       "      <td>upsert via DomoLibrary</td>\n",
       "      <td>0</td>\n",
       "      <td>False</td>\n",
       "      <td>[]</td>\n",
       "      <td>[]</td>\n",
       "    </tr>\n",
       "    <tr>\n",
       "      <th>6</th>\n",
       "      <td>{'domo_instance': 'domo-community', 'domo_acce...</td>\n",
       "      <td>275763436</td>\n",
       "      <td>manual_super_admin</td>\n",
       "      <td>Full access to everything - h9</td>\n",
       "      <td>0</td>\n",
       "      <td>False</td>\n",
       "      <td>[]</td>\n",
       "      <td>[]</td>\n",
       "    </tr>\n",
       "    <tr>\n",
       "      <th>7</th>\n",
       "      <td>{'domo_instance': 'domo-community', 'domo_acce...</td>\n",
       "      <td>810756122</td>\n",
       "      <td>super_admin</td>\n",
       "      <td>last updated - 2024-03-23</td>\n",
       "      <td>0</td>\n",
       "      <td>False</td>\n",
       "      <td>[]</td>\n",
       "      <td>[]</td>\n",
       "    </tr>\n",
       "    <tr>\n",
       "      <th>8</th>\n",
       "      <td>{'domo_instance': 'domo-community', 'domo_acce...</td>\n",
       "      <td>1563101750</td>\n",
       "      <td>dl_department_admin</td>\n",
       "      <td>deployed via domo_library script - updated 202...</td>\n",
       "      <td>0</td>\n",
       "      <td>False</td>\n",
       "      <td>[]</td>\n",
       "      <td>[]</td>\n",
       "    </tr>\n",
       "    <tr>\n",
       "      <th>9</th>\n",
       "      <td>{'domo_instance': 'domo-community', 'domo_acce...</td>\n",
       "      <td>1662852841</td>\n",
       "      <td>dl_test</td>\n",
       "      <td>deployed via domo_library script - updated 202...</td>\n",
       "      <td>0</td>\n",
       "      <td>False</td>\n",
       "      <td>[]</td>\n",
       "      <td>[]</td>\n",
       "    </tr>\n",
       "    <tr>\n",
       "      <th>10</th>\n",
       "      <td>{'domo_instance': 'domo-community', 'domo_acce...</td>\n",
       "      <td>2097317660</td>\n",
       "      <td>Community_Default_Priviliged</td>\n",
       "      <td>Full access except for editing users and setti...</td>\n",
       "      <td>0</td>\n",
       "      <td>False</td>\n",
       "      <td>[]</td>\n",
       "      <td>[]</td>\n",
       "    </tr>\n",
       "  </tbody>\n",
       "</table>\n",
       "</div>"
      ],
      "text/plain": [
       "                                                 auth          id  \\\n",
       "0   {'domo_instance': 'domo-community', 'domo_acce...           1   \n",
       "1   {'domo_instance': 'domo-community', 'domo_acce...           2   \n",
       "2   {'domo_instance': 'domo-community', 'domo_acce...           3   \n",
       "3   {'domo_instance': 'domo-community', 'domo_acce...           4   \n",
       "4   {'domo_instance': 'domo-community', 'domo_acce...           5   \n",
       "5   {'domo_instance': 'domo-community', 'domo_acce...   104295428   \n",
       "6   {'domo_instance': 'domo-community', 'domo_acce...   275763436   \n",
       "7   {'domo_instance': 'domo-community', 'domo_acce...   810756122   \n",
       "8   {'domo_instance': 'domo-community', 'domo_acce...  1563101750   \n",
       "9   {'domo_instance': 'domo-community', 'domo_acce...  1662852841   \n",
       "10  {'domo_instance': 'domo-community', 'domo_acce...  2097317660   \n",
       "\n",
       "                            name  \\\n",
       "0                          Admin   \n",
       "1                     Privileged   \n",
       "2                         Editor   \n",
       "3                    Participant   \n",
       "4                         Social   \n",
       "5                 super_admin_v3   \n",
       "6             manual_super_admin   \n",
       "7                    super_admin   \n",
       "8            dl_department_admin   \n",
       "9                        dl_test   \n",
       "10  Community_Default_Priviliged   \n",
       "\n",
       "                                          description is_system_role  \\\n",
       "0                           Full access to everything           True   \n",
       "1   Full access except for editing users and setti...           True   \n",
       "2      Can edit Cards, Pages, DataSets, and Dataflows           True   \n",
       "3                 Read only access to Cards and Pages           True   \n",
       "4                   Access limited to social features           True   \n",
       "5                              upsert via DomoLibrary              0   \n",
       "6                      Full access to everything - h9              0   \n",
       "7                           last updated - 2024-03-23              0   \n",
       "8   deployed via domo_library script - updated 202...              0   \n",
       "9   deployed via domo_library script - updated 202...              0   \n",
       "10  Full access except for editing users and setti...              0   \n",
       "\n",
       "    is_default_role grant_ls membership_ls  \n",
       "0             False       []            []  \n",
       "1              True       []            []  \n",
       "2             False       []            []  \n",
       "3             False       []            []  \n",
       "4             False       []            []  \n",
       "5             False       []            []  \n",
       "6             False       []            []  \n",
       "7             False       []            []  \n",
       "8             False       []            []  \n",
       "9             False       []            []  \n",
       "10            False       []            []  "
      ]
     },
     "execution_count": 106,
     "metadata": {},
     "output_type": "execute_result"
    }
   ],
   "source": [
    "# import domolibrary.client.DomoAuth as dmda\n",
    "\n",
    "token_auth = dmda.DomoTokenAuth(\n",
    "    domo_instance=\"domo-community\",\n",
    "    domo_access_token=os.environ[\"DOMO_DOJO_ACCESS_TOKEN\"],\n",
    ")\n",
    "\n",
    "dmdic = DomoInstanceConfig(auth=token_auth)\n",
    "\n",
    "res = await dmdic.get_roles(return_raw=False)\n",
    "\n",
    "pd.DataFrame(res)"
   ]
  },
  {
   "attachments": {},
   "cell_type": "markdown",
   "metadata": {},
   "source": [
    "## Authorized Domains\n"
   ]
  },
  {
   "cell_type": "code",
   "execution_count": 107,
   "metadata": {},
   "outputs": [],
   "source": [
    "# | exporti\n",
    "\n",
    "\n",
    "@patch_to(DomoInstanceConfig)\n",
    "async def get_authorized_domains(\n",
    "    self: DomoInstanceConfig,\n",
    "    auth: dmda.DomoAuth = None,\n",
    "    debug_api: bool = False,\n",
    "    session: httpx.AsyncClient = None,\n",
    "    return_raw: bool = False,\n",
    "):\n",
    "    auth = auth or self.auth\n",
    "\n",
    "    res = await instance_config_routes.get_authorized_domains(\n",
    "        auth=auth, debug_api=debug_api, session=session, return_raw=return_raw\n",
    "    )\n",
    "\n",
    "    if return_raw:\n",
    "        return res\n",
    "\n",
    "    return res.response"
   ]
  },
  {
   "attachments": {},
   "cell_type": "markdown",
   "metadata": {},
   "source": [
    "#### sample implementation of get_authorized_domains\n"
   ]
  },
  {
   "cell_type": "code",
   "execution_count": 108,
   "metadata": {},
   "outputs": [
    {
     "name": "stdout",
     "output_type": "stream",
     "text": [
      "warning this token has not been validated by who_am_i, run get_auth_token first\n"
     ]
    },
    {
     "data": {
      "text/plain": [
       "[]"
      ]
     },
     "execution_count": 108,
     "metadata": {},
     "output_type": "execute_result"
    }
   ],
   "source": [
    "# import domolibrary.client.DomoAuth as dmda\n",
    "\n",
    "token_auth = dmda.DomoTokenAuth(\n",
    "    domo_instance=\"domo-community\",\n",
    "    domo_access_token=os.environ[\"DOMO_DOJO_ACCESS_TOKEN\"],\n",
    ")\n",
    "\n",
    "dmdic = DomoInstanceConfig(auth=token_auth)\n",
    "\n",
    "await dmdic.get_authorized_domains(return_raw=False)"
   ]
  },
  {
   "cell_type": "code",
   "execution_count": 109,
   "metadata": {},
   "outputs": [],
   "source": [
    "# | exporti\n",
    "@patch_to(DomoInstanceConfig, cls_method=True)\n",
    "async def set_authorized_domains(\n",
    "    cls: DomoInstanceConfig,\n",
    "    auth: dmda.DomoAuth,\n",
    "    authorized_domains: list[str],\n",
    "    debug_prn: bool = False,\n",
    "    debug_api: bool = False,\n",
    "    session: httpx.AsyncClient = None,\n",
    "):\n",
    "    if debug_prn:\n",
    "        print(f'🌡️ setting authorized domain with {\",\".join(authorized_domains)}')\n",
    "\n",
    "    res = await instance_config_routes.set_authorized_domains(\n",
    "        auth=auth,\n",
    "        authorized_domain_ls=authorized_domains,\n",
    "        debug_api=debug_api,\n",
    "        session=session,\n",
    "    )\n",
    "\n",
    "    if res.status == 200 or res.status == 204:\n",
    "        dmdic = DomoInstanceConfig(auth=auth)\n",
    "        res.response = {\n",
    "            \"authorized_domains\": await dmdic.get_authorized_domains(\n",
    "                debug_api=debug_api\n",
    "            ),\n",
    "            \"status\": 200,\n",
    "        }\n",
    "\n",
    "    return res\n",
    "\n",
    "\n",
    "@patch_to(DomoInstanceConfig, cls_method=True)\n",
    "async def upsert_authorized_domains(\n",
    "    cls: DomoInstanceConfig,\n",
    "    auth: dmda.DomoAuth,\n",
    "    authorized_domains: list[str],\n",
    "    debug_prn: bool = False,\n",
    "    debug_api: bool = False,\n",
    "    session: httpx.AsyncClient = None,\n",
    "):\n",
    "    existing_domains = await cls.get_authorized_domains(auth=auth, debug_api=debug_api)\n",
    "\n",
    "    authorized_domains += existing_domains\n",
    "\n",
    "    if debug_prn:\n",
    "        print(f'🌡️ upsertting authorized domain to {\",\".join(authorized_domains)}')\n",
    "\n",
    "    return await cls.set_authorized_domains(\n",
    "        auth=auth,\n",
    "        authorized_domains=authorized_domains,\n",
    "        debug_api=debug_api,\n",
    "        session=session,\n",
    "    )"
   ]
  },
  {
   "cell_type": "markdown",
   "metadata": {},
   "source": [
    "## Custom Application Authorized Domains\n"
   ]
  },
  {
   "cell_type": "code",
   "execution_count": 110,
   "metadata": {},
   "outputs": [],
   "source": [
    "# | exporti\n",
    "\n",
    "\n",
    "@patch_to(DomoInstanceConfig)\n",
    "async def get_authorized_custom_app_domains(\n",
    "    self: DomoInstanceConfig,\n",
    "    auth: dmda.DomoAuth = None,\n",
    "    debug_api: bool = False,\n",
    "    session: httpx.AsyncClient = None,\n",
    "    return_raw: bool = False,\n",
    "):\n",
    "    auth = auth or self.auth\n",
    "\n",
    "    res = await instance_config_routes.get_authorized_custom_app_domains(\n",
    "        auth=auth, debug_api=debug_api, session=session, return_raw=return_raw\n",
    "    )\n",
    "\n",
    "    if return_raw:\n",
    "        return res\n",
    "\n",
    "    return res.response"
   ]
  },
  {
   "cell_type": "markdown",
   "metadata": {},
   "source": [
    "#### sample implementation of get_authorized_custom_app_domains"
   ]
  },
  {
   "cell_type": "code",
   "execution_count": 111,
   "metadata": {},
   "outputs": [
    {
     "name": "stdout",
     "output_type": "stream",
     "text": [
      "warning this token has not been validated by who_am_i, run get_auth_token first\n"
     ]
    },
    {
     "data": {
      "text/plain": [
       "['domo.com',\n",
       " 'salesforce.com',\n",
       " 'facebook.com',\n",
       " 'twitter.com',\n",
       " 'instagram.com',\n",
       " 'youtube.com',\n",
       " 'linkedin.com']"
      ]
     },
     "execution_count": 111,
     "metadata": {},
     "output_type": "execute_result"
    }
   ],
   "source": [
    "# import domolibrary.client.DomoAuth as dmda\n",
    "token_auth = dmda.DomoTokenAuth(\n",
    "    domo_instance=\"domo-community\",\n",
    "    domo_access_token=os.environ[\"DOMO_DOJO_ACCESS_TOKEN\"],\n",
    ")\n",
    "\n",
    "dmdic = DomoInstanceConfig(auth=token_auth)\n",
    "\n",
    "await dmdic.get_authorized_custom_app_domains(return_raw=False)"
   ]
  },
  {
   "cell_type": "markdown",
   "metadata": {},
   "source": [
    "### Set and Upsert of custom app authorized domains"
   ]
  },
  {
   "cell_type": "code",
   "execution_count": 112,
   "metadata": {},
   "outputs": [],
   "source": [
    "# | exporti\n",
    "@patch_to(DomoInstanceConfig, cls_method=True)\n",
    "async def set_authorized_custom_app_domains(\n",
    "    cls: DomoInstanceConfig,\n",
    "    auth: dmda.DomoAuth,\n",
    "    authorized_domains: list[str],\n",
    "    debug_prn: bool = False,\n",
    "    debug_api: bool = False,\n",
    "    session: httpx.AsyncClient = None,\n",
    "):\n",
    "    if debug_prn:\n",
    "        print(f'🌡️ setting authorized domain with {\",\".join(authorized_domains)}')\n",
    "\n",
    "    res = await instance_config_routes.set_authorized_custom_app_domains(\n",
    "        auth=auth,\n",
    "        authorized_custom_app_domain_ls=authorized_domains,\n",
    "        debug_api=debug_api,\n",
    "        session=session,\n",
    "    )\n",
    "\n",
    "    if res.status == 200 or res.status == 204:\n",
    "        dmdic = DomoInstanceConfig(auth=auth)\n",
    "        res.response = {\n",
    "            \"authorized_domains\": await dmdic.get_authorized_custom_app_domains(\n",
    "                debug_api=debug_api\n",
    "            ),\n",
    "            \"status\": 200,\n",
    "        }\n",
    "\n",
    "    return res\n",
    "\n",
    "\n",
    "@patch_to(DomoInstanceConfig, cls_method=True)\n",
    "async def upsert_authorized_custom_app_domains(\n",
    "    cls: DomoInstanceConfig,\n",
    "    auth: dmda.DomoAuth,\n",
    "    authorized_domains: list[str],\n",
    "    debug_prn: bool = False,\n",
    "    debug_api: bool = False,\n",
    "    session: httpx.AsyncClient = None,\n",
    "):\n",
    "    existing_domains = await cls.get_authorized_custom_app_domains(\n",
    "        auth=auth, debug_api=debug_api\n",
    "    )\n",
    "\n",
    "    authorized_domains += existing_domains\n",
    "\n",
    "    if debug_prn:\n",
    "        print(f'🌡️ upsertting authorized domain to {\",\".join(authorized_domains)}')\n",
    "\n",
    "    return await cls.set_authorized_custom_app_domains(\n",
    "        auth=auth,\n",
    "        authorized_custom_app_domain_ls=authorized_domains,\n",
    "        debug_api=debug_api,\n",
    "        session=session,\n",
    "    )"
   ]
  },
  {
   "cell_type": "markdown",
   "metadata": {},
   "source": [
    "## Applications"
   ]
  },
  {
   "cell_type": "code",
   "execution_count": 113,
   "metadata": {},
   "outputs": [],
   "source": [
    "# | exporti\n",
    "@patch_to(DomoInstanceConfig, cls_method=True)\n",
    "async def get_applications(\n",
    "    cls,\n",
    "    auth: dmda.DomoAuth,\n",
    "    debug_api: bool = False,\n",
    "    session: httpx.AsyncClient = None,\n",
    "    return_raw: bool = False,\n",
    "    debug_num_stacks_to_drop=2,\n",
    "):\n",
    "    import domolibrary.classes.DomoApplication as dmapp\n",
    "\n",
    "    res = await application_routes.get_applications(\n",
    "        auth=auth,\n",
    "        debug_api=debug_api,\n",
    "        session=session,\n",
    "        parent_class=cls.__name__,\n",
    "        debug_num_stacks_to_drop=debug_num_stacks_to_drop,\n",
    "    )\n",
    "\n",
    "    if return_raw:\n",
    "        return res\n",
    "\n",
    "    if res.status != 200:\n",
    "        return res\n",
    "\n",
    "    return [dmapp.DomoApplication._from_json(job) for job in res.response]"
   ]
  },
  {
   "cell_type": "markdown",
   "metadata": {},
   "source": [
    "#### sample implementation of get_applications()"
   ]
  },
  {
   "cell_type": "code",
   "execution_count": 114,
   "metadata": {},
   "outputs": [
    {
     "data": {
      "text/plain": [
       "[DomoApplication(id='25a97e0c-df6b-11eb-ba80-0242ac130004', version='1.0.102_1', name='Toolkit: PDP Automation', customer_id='mmmm-0012-0200', description='PDP Automation', execution_class='com.domo.executor.pdp.PDPAutomationApplication', grants=['pipeline.executor.job.create', 'dataset.manage'], jobs=None),\n",
       " DomoApplication(id='4ddbf5d7-6441-4eb3-b5aa-97707cae2d2b', version='1.0.25_3', name='Toolkit: Schema Management', customer_id='mmmm-0012-0200', description='Schema Management', execution_class='com.domo.executor.schema.SchemaManagement', grants=['pipeline.executor.job.create', 'dataset.admin'], jobs=None),\n",
       " DomoApplication(id='e37a6942-9c0f-485a-8288-4fe95e10b23d', version='1.0.7_2', name='Toolkit: DataSet S3 Backup', customer_id='mmmm-0012-0200', description='DataSet S3 Backup', execution_class='com.domo.executor.backup.DataSetBackupExecutor', grants=['dataset.admin', 'search.allentities.query'], jobs=None),\n",
       " DomoApplication(id='b52f3c80-2642-4dcb-b874-b327326021b0', version='1.80_1', name='Toolkit: User Automation', customer_id='mmmm-0012-0200', description='Toolkit: User Automation', execution_class='com.domo.executor.userautomation.UserAutomationExecutor', grants=['pipeline.executor.job.create', 'dataset.manage', 'authorization.roles', 'user.invite', 'user.edit'], jobs=None),\n",
       " DomoApplication(id='2f6573a5-97d8-4e27-b0fd-3c0f2313a3c8', version='1.0.43_2', name='Toolkit: Group Management', customer_id='mmmm-0012-0200', description='Group Management', execution_class='com.domo.executor.automation.GroupAutomationExecutor', grants=['pipeline.executor.job.create', 'dataset.admin', 'group.admin', 'content.admin'], jobs=None),\n",
       " DomoApplication(id='bf651f89-2b76-4290-a5d8-d4dbcddc86a3', version='1.0.7_2', name='Toolkit: Triggered Reports', customer_id='mmmm-0012-0200', description='Triggers Scheduled reports based on triggered Alerts, or DataSet updates', execution_class='com.domo.executor.reports.ReportTriggerExecutor', grants=['pipeline.executor.job.create', 'dataset.manage', 'content.export', 'alert.edit'], jobs=None),\n",
       " DomoApplication(id='50e7230f-d2f2-42e2-a208-d94c8ae9f64c', version='1.2.401_1', name='Toolkit: Remote Domo Stats', customer_id='mmmm-0012-0200', description='Remote Domo Stats', execution_class='com.domo.executor.subscriberstats.SubscriberStatsExecutor', grants=['developer.token.manage', 'pipeline.executor.job.create', 'content.export', 'service.internal', 'dataset.admin', 'audit', 'domostats-connector', 'content.admin', 'usage.reports.view', 'authenticated.user'], jobs=None),\n",
       " DomoApplication(id='a99c3fd8-a0f6-4d06-9a1d-74f3d12293d4', version='1.0.35_2', name='Toolkit: DataSet Tag Automation', customer_id='mmmm-0012-0200', description='DataSet Tag Automation', execution_class='com.domo.executor.tags.ResourceTagApplication', grants=['dataflow.admin', 'dataset.admin', 'search.allentities.query'], jobs=None),\n",
       " DomoApplication(id='068a1c2d-7a1a-449d-82d9-5ab54e2eb16e', version='1.0.76_2', name='Geocoder Executor', customer_id='mmmm-0012-0200', description='Geocoder Executor Service', execution_class='com.domo.executor.geocoder.GeocoderApplication', grants=['pipeline.executor.job.create'], jobs=None),\n",
       " DomoApplication(id='69a16dc5-1d0e-45a6-8e15-459d8c0b1b42', version='1.0.21_2', name='Toolkit: Virtual Dataset Sharing', customer_id='mmmm-0012-0200', description='Virtual Dataset Sharing', execution_class='com.domo.executor.dataset.DataSetSharingApplication', grants=['pipeline.executor.job.create', 'dataset.manage'], jobs=None)]"
      ]
     },
     "execution_count": 114,
     "metadata": {},
     "output_type": "execute_result"
    }
   ],
   "source": [
    "# import domolibrary.client.DomoAuth as dmda\n",
    "\n",
    "token_auth = dmda.DomoTokenAuth(\n",
    "    domo_instance=\"domo-community\",\n",
    "    domo_access_token=os.environ[\"DOMO_DOJO_ACCESS_TOKEN\"],\n",
    ")\n",
    "\n",
    "dmdic = DomoInstanceConfig(auth=auth)\n",
    "\n",
    "await dmdic.get_applications(auth=auth, return_raw=False)"
   ]
  },
  {
   "cell_type": "code",
   "execution_count": 115,
   "metadata": {},
   "outputs": [],
   "source": [
    "# | exporti\n",
    "@patch_to(DomoInstanceConfig)\n",
    "async def generate_applications_report(\n",
    "    self,\n",
    "    debug_api: bool = False,\n",
    "    session: httpx.AsyncClient = None,\n",
    "    return_raw: bool = False,\n",
    "    debug_num_stacks_to_drop=2,\n",
    "):\n",
    "    import domolibrary.classes.DomoApplication as dmapp\n",
    "\n",
    "    domo_apps = await self.get_applications(auth=self.auth, debug_api=debug_api, session = session, debug_num_stacks_to_drop = debug_num_stacks_to_drop, return_raw = return_raw)\n",
    "\n",
    "    if return_raw: \n",
    "        return domo_apps\n",
    "\n",
    "    df = pd.DataFrame([app.__dict__ for app in domo_apps])\n",
    "    df[\"domo_instance\"] = self.auth.domo_instance\n",
    "\n",
    "    df.drop(columns=[\"auth\"], inplace=True)\n",
    "    df.rename(\n",
    "        columns={\n",
    "            \"id\": \"application_id\",\n",
    "            \"name\": \"application_name\",\n",
    "            \"description\": \"application_description\",\n",
    "            \"version\": \"application_version\",\n",
    "        },\n",
    "        inplace=True,\n",
    "    )\n",
    "\n",
    "    return df.sort_index(axis=1)"
   ]
  },
  {
   "cell_type": "markdown",
   "metadata": {},
   "source": [
    "#### sample implementation of generate_appications_report"
   ]
  },
  {
   "cell_type": "code",
   "execution_count": 116,
   "metadata": {},
   "outputs": [
    {
     "data": {
      "text/html": [
       "<div>\n",
       "<style scoped>\n",
       "    .dataframe tbody tr th:only-of-type {\n",
       "        vertical-align: middle;\n",
       "    }\n",
       "\n",
       "    .dataframe tbody tr th {\n",
       "        vertical-align: top;\n",
       "    }\n",
       "\n",
       "    .dataframe thead th {\n",
       "        text-align: right;\n",
       "    }\n",
       "</style>\n",
       "<table border=\"1\" class=\"dataframe\">\n",
       "  <thead>\n",
       "    <tr style=\"text-align: right;\">\n",
       "      <th></th>\n",
       "      <th>application_description</th>\n",
       "      <th>application_id</th>\n",
       "      <th>application_name</th>\n",
       "      <th>application_version</th>\n",
       "      <th>customer_id</th>\n",
       "      <th>domo_instance</th>\n",
       "      <th>execution_class</th>\n",
       "      <th>grants</th>\n",
       "      <th>jobs</th>\n",
       "      <th>jobs_schedule</th>\n",
       "    </tr>\n",
       "  </thead>\n",
       "  <tbody>\n",
       "    <tr>\n",
       "      <th>0</th>\n",
       "      <td>PDP Automation</td>\n",
       "      <td>25a97e0c-df6b-11eb-ba80-0242ac130004</td>\n",
       "      <td>Toolkit: PDP Automation</td>\n",
       "      <td>1.0.102_1</td>\n",
       "      <td>mmmm-0012-0200</td>\n",
       "      <td>domo-community</td>\n",
       "      <td>com.domo.executor.pdp.PDPAutomationApplication</td>\n",
       "      <td>[pipeline.executor.job.create, dataset.manage]</td>\n",
       "      <td>None</td>\n",
       "      <td>None</td>\n",
       "    </tr>\n",
       "    <tr>\n",
       "      <th>1</th>\n",
       "      <td>Schema Management</td>\n",
       "      <td>4ddbf5d7-6441-4eb3-b5aa-97707cae2d2b</td>\n",
       "      <td>Toolkit: Schema Management</td>\n",
       "      <td>1.0.25_3</td>\n",
       "      <td>mmmm-0012-0200</td>\n",
       "      <td>domo-community</td>\n",
       "      <td>com.domo.executor.schema.SchemaManagement</td>\n",
       "      <td>[pipeline.executor.job.create, dataset.admin]</td>\n",
       "      <td>None</td>\n",
       "      <td>None</td>\n",
       "    </tr>\n",
       "    <tr>\n",
       "      <th>2</th>\n",
       "      <td>DataSet S3 Backup</td>\n",
       "      <td>e37a6942-9c0f-485a-8288-4fe95e10b23d</td>\n",
       "      <td>Toolkit: DataSet S3 Backup</td>\n",
       "      <td>1.0.7_2</td>\n",
       "      <td>mmmm-0012-0200</td>\n",
       "      <td>domo-community</td>\n",
       "      <td>com.domo.executor.backup.DataSetBackupExecutor</td>\n",
       "      <td>[dataset.admin, search.allentities.query]</td>\n",
       "      <td>None</td>\n",
       "      <td>None</td>\n",
       "    </tr>\n",
       "    <tr>\n",
       "      <th>3</th>\n",
       "      <td>Toolkit: User Automation</td>\n",
       "      <td>b52f3c80-2642-4dcb-b874-b327326021b0</td>\n",
       "      <td>Toolkit: User Automation</td>\n",
       "      <td>1.80_1</td>\n",
       "      <td>mmmm-0012-0200</td>\n",
       "      <td>domo-community</td>\n",
       "      <td>com.domo.executor.userautomation.UserAutomatio...</td>\n",
       "      <td>[pipeline.executor.job.create, dataset.manage,...</td>\n",
       "      <td>None</td>\n",
       "      <td>None</td>\n",
       "    </tr>\n",
       "    <tr>\n",
       "      <th>4</th>\n",
       "      <td>Group Management</td>\n",
       "      <td>2f6573a5-97d8-4e27-b0fd-3c0f2313a3c8</td>\n",
       "      <td>Toolkit: Group Management</td>\n",
       "      <td>1.0.43_2</td>\n",
       "      <td>mmmm-0012-0200</td>\n",
       "      <td>domo-community</td>\n",
       "      <td>com.domo.executor.automation.GroupAutomationEx...</td>\n",
       "      <td>[pipeline.executor.job.create, dataset.admin, ...</td>\n",
       "      <td>None</td>\n",
       "      <td>None</td>\n",
       "    </tr>\n",
       "  </tbody>\n",
       "</table>\n",
       "</div>"
      ],
      "text/plain": [
       "    application_description                        application_id  \\\n",
       "0            PDP Automation  25a97e0c-df6b-11eb-ba80-0242ac130004   \n",
       "1         Schema Management  4ddbf5d7-6441-4eb3-b5aa-97707cae2d2b   \n",
       "2         DataSet S3 Backup  e37a6942-9c0f-485a-8288-4fe95e10b23d   \n",
       "3  Toolkit: User Automation  b52f3c80-2642-4dcb-b874-b327326021b0   \n",
       "4          Group Management  2f6573a5-97d8-4e27-b0fd-3c0f2313a3c8   \n",
       "\n",
       "             application_name application_version     customer_id  \\\n",
       "0     Toolkit: PDP Automation           1.0.102_1  mmmm-0012-0200   \n",
       "1  Toolkit: Schema Management            1.0.25_3  mmmm-0012-0200   \n",
       "2  Toolkit: DataSet S3 Backup             1.0.7_2  mmmm-0012-0200   \n",
       "3    Toolkit: User Automation              1.80_1  mmmm-0012-0200   \n",
       "4   Toolkit: Group Management            1.0.43_2  mmmm-0012-0200   \n",
       "\n",
       "    domo_instance                                    execution_class  \\\n",
       "0  domo-community     com.domo.executor.pdp.PDPAutomationApplication   \n",
       "1  domo-community          com.domo.executor.schema.SchemaManagement   \n",
       "2  domo-community     com.domo.executor.backup.DataSetBackupExecutor   \n",
       "3  domo-community  com.domo.executor.userautomation.UserAutomatio...   \n",
       "4  domo-community  com.domo.executor.automation.GroupAutomationEx...   \n",
       "\n",
       "                                              grants  jobs jobs_schedule  \n",
       "0     [pipeline.executor.job.create, dataset.manage]  None          None  \n",
       "1      [pipeline.executor.job.create, dataset.admin]  None          None  \n",
       "2          [dataset.admin, search.allentities.query]  None          None  \n",
       "3  [pipeline.executor.job.create, dataset.manage,...  None          None  \n",
       "4  [pipeline.executor.job.create, dataset.admin, ...  None          None  "
      ]
     },
     "execution_count": 116,
     "metadata": {},
     "output_type": "execute_result"
    }
   ],
   "source": [
    "#| eval : false\n",
    "\n",
    "token_auth = dmda.DomoTokenAuth(\n",
    "    domo_instance=\"domo-community\",\n",
    "    domo_access_token=os.environ[\"DOMO_DOJO_ACCESS_TOKEN\"],\n",
    ")\n",
    "\n",
    "domo_config = DomoInstanceConfig(auth=auth)\n",
    "\n",
    "(await domo_config.generate_applications_report())[0:5]"
   ]
  },
  {
   "cell_type": "markdown",
   "metadata": {},
   "source": [
    "# Domo Connectors"
   ]
  },
  {
   "cell_type": "code",
   "execution_count": 117,
   "metadata": {},
   "outputs": [],
   "source": [
    "# | export\n",
    "@dataclass\n",
    "class DomoConnector:\n",
    "    id: str\n",
    "    label: str\n",
    "    title: str\n",
    "    sub_title: str\n",
    "    description: str\n",
    "    create_date: dt.datetime\n",
    "    last_modified: dt.datetime\n",
    "    publisher_name: str\n",
    "    writeback_enabled: bool\n",
    "    tags: list[str] = field(default_factory=list)\n",
    "    capabilities: list[str] = field(default_factory=list)\n",
    "\n",
    "    @classmethod\n",
    "    def _from_str(cls, obj):\n",
    "        dd = util_dd.DictDot(obj)\n",
    "\n",
    "        return cls(\n",
    "            id=dd.databaseId,\n",
    "            label=dd.label,\n",
    "            title=dd.title,\n",
    "            sub_title=dd.subTitle,\n",
    "            description=dd.description,\n",
    "            create_date=cd.convert_epoch_millisecond_to_datetime(dd.createDate),\n",
    "            last_modified=cd.convert_epoch_millisecond_to_datetime(dd.lastModified),\n",
    "            publisher_name=dd.publisherName,\n",
    "            writeback_enabled=dd.writebackEnabled,\n",
    "            tags=dd.tags,\n",
    "            capabilities=dd.capabilities,\n",
    "        )"
   ]
  },
  {
   "cell_type": "code",
   "execution_count": 118,
   "metadata": {},
   "outputs": [],
   "source": [
    "# |exporti\n",
    "@patch_to(DomoInstanceConfig)\n",
    "async def get_connectors(\n",
    "    self: DomoInstanceConfig,\n",
    "    auth: dmda.DomoAuth = None,\n",
    "    search_text=None,\n",
    "    additional_filters_ls=None,\n",
    "    return_raw: bool = False,\n",
    "    debug_api: bool = False,\n",
    "    debug_num_stacks_to_drop=2,\n",
    "    session: httpx.AsyncClient = None,\n",
    "):\n",
    "    import domolibrary.routes.datacenter as datacenter_routes\n",
    "\n",
    "    res = await datacenter_routes.get_connectors(\n",
    "        auth=auth or self.auth,\n",
    "        session=session,\n",
    "        search_text=search_text,\n",
    "        additional_filters_ls=additional_filters_ls,\n",
    "        debug_api=debug_api,\n",
    "        parent_class=self.__class__.__name__,\n",
    "        debug_num_stacks_to_drop=debug_num_stacks_to_drop,\n",
    "    )\n",
    "\n",
    "    if return_raw:\n",
    "        return res\n",
    "\n",
    "    return [DomoConnector._from_str(obj) for obj in res.response]"
   ]
  },
  {
   "cell_type": "code",
   "execution_count": 119,
   "metadata": {},
   "outputs": [
    {
     "data": {
      "text/plain": [
       "[DomoConnector(id='com.domo.connector.snowflakekeypairauthentication', label='Snowflake Key Pair Authentication Connector', title='Snowflake Key Pair Authentication Connector', sub_title='Create an even more secure connection between Domo and your Snowflake database.', description=\"By combining the business intelligence power of Domo with your Snowflake data warehouse, you will be able to unlock even more data value and democratize data for your business. Use Domo's Snowflake Key Pair Authentication connector to maximize your cloud data strategy by connecting your data to Domo and making it accessible to everyone in your company.<br />With this connector, you'll be able to use key pair authentication to securely bring your Snowflake data into Domo. You can use key pair authentication as enhanced authentication security over basic authentication like a username and password.<br />Once you've connected Domo to your Snowflake database, you'll be able to combine it with all your other Domo data to get a centralized view of your most mission-critical information.\", create_date=datetime.datetime(2023, 3, 8, 21, 8, 44), last_modified=datetime.datetime(2023, 3, 27, 9, 13, 51), publisher_name='domo', writeback_enabled=False, tags=['BI', ' IT', ' Database', ' Query', ' Snowflake Keypair', ' SQL'], capabilities=['Connector']),\n",
       " DomoConnector(id='com.domo.connector.snowflake.partition', label='Snowflake Partition Connector', title='Snowflake Partition Connector', sub_title='Maximize your cloud data strategy and investments by connecting your Snowflake data to Domo based on the number of past days provided, then make it instantly accessible to business users.', description='The Domo Snowflake Partition Connector makes it easy to bring all your data from your Snowflake data warehouse into Domo based on the number of past days provided. If you are already using Snowflake as a data warehousing solution, this connector helps you use Domo in conjunction with it to get the most from your data. To use this connector, you must have your Snowflake account name (domain) and the username and password for your Snowflake account.<br><br>Once your Snowflake data is in Domo, you can combine it with all your other Domo data to get a centralized view of your most mission-critical data.', create_date=datetime.datetime(2023, 10, 18, 17, 10, 37), last_modified=datetime.datetime(2023, 10, 30, 9, 26, 51), publisher_name='domo', writeback_enabled=False, tags=[' Cloud Connector', ' IT', 'BI', ' Database', ' Partition', ' Snowflake'], capabilities=['Connector']),\n",
       " DomoConnector(id='com.domo.connector.snowflakeunload', label='Snowflake Unload Connector', title='Snowflake Unload Connector', sub_title='Unload data from your Snowflake database into Amazon S3.', description=\"Snowflake is a cloud-based analytic data warehouse system. Use Domo's Snowflake Unload connector to unload data from your Snowflake database into Amazon S3. The files are downloaded from S3 into Domo. This connector should be preferred over the Snowflake connector if you are executing very large queries.\", create_date=datetime.datetime(2023, 2, 6, 0, 1, 12), last_modified=datetime.datetime(2023, 2, 27, 8, 48, 57), publisher_name='domo', writeback_enabled=False, tags=['Database', 'Analytics', 'Cloud Connector', 'BI'], capabilities=['Connector']),\n",
       " DomoConnector(id='com.domo.connector.snowflake.oauth', label='Snowflake OAuth Connector', title='Snowflake OAuth Connector', sub_title='Maximize your cloud data strategy and investment by securely connecting your Snowflake data to Domo.', description='By combining the power of Domo with your Snowflake data warehouse, you will be able to unlock even more data value and democratize data for your business. The Domo Snowflake OAuth connector makes it easy to securely bring your data from your Snowflake data warehouse into Domo. If you are already using Snowflake as a data warehousing solution, this connector helps you use Domo in conjunction with it to get the most from your data.<br />With the OAuth connector for Snowflake, you can use your existing Snowflake account to access your data, including your Client ID and the Client Secret provided by Snowflake when you were registered. Once your Snowflake data is in Domo, you can combine it with all your other Domo data to get a centralized view of your most mission-critical data.', create_date=datetime.datetime(2023, 3, 13, 14, 41, 5), last_modified=datetime.datetime(2023, 3, 14, 9, 30, 28), publisher_name='domo', writeback_enabled=False, tags=['BI', ' IT', ' Database', ' Query', ' SQL', ' Snowflake OAuth'], capabilities=['Connector']),\n",
       " DomoConnector(id='com.domo.connector.snowflake', label='Snowflake Connector', title='Snowflake Connector', sub_title='Maximize your cloud data strategy and investments by connecting your data to Domo and making it instantly accessible to everyone in your company.', description='The Domo Snowflake connector makes it easy to bring all your data from your Snowflake data warehouse into Domo. If you are already using Snowflake as a data warehousing solution, this connector helps you use Domo in conjunction with it to get the most from your data. To use this connector, you must have your Snowflake account name (domain) and the username and password for your Snowflake account.<br><br>Once your Snowflake data is in Domo, you can combine it with all your other Domo data to get a centralized view of your most mission-critical data.', create_date=datetime.datetime(2023, 11, 29, 4, 17, 29), last_modified=datetime.datetime(2023, 12, 14, 7, 47, 27), publisher_name='domo', writeback_enabled=False, tags=['BI', 'Cloud Connector', 'Database'], capabilities=['Connector']),\n",
       " DomoConnector(id='com.domo.connector.snowflake.internal.unload.advanced.partition', label='Snowflake High Bandwidth With Advanced Partitions Connector', title='Snowflake High Bandwidth With Advanced Partitions Connector', sub_title='Unload data from Snowflake database into Domo easily and securely with a choice of partitioning selection.', description=\"Snowflake is a cloud-based analytic data warehouse system. Use Domo's Snowflake Internal Unload Advanced Partition to unload data from your Snowflake database into internal Amazon S3. The files are then downloaded from internal S3 into Domo. This connector allows you to select whether you want to use partitioning for your data. Also, unlike the other partition connectors, this connector allows you to use partitioning on non-date columns.\", create_date=datetime.datetime(2024, 1, 3, 13, 45, 7), last_modified=datetime.datetime(2024, 3, 13, 15, 41, 15), publisher_name='domo', writeback_enabled=False, tags=None, capabilities=['Connector']),\n",
       " DomoConnector(id='com.domo.connector.snowflakewritebacktile', label='Snowflake Writeback Connector', title='Snowflake Writeback Connector', sub_title='Get the power of Domo to transform your data, then write it back to Snowflake.', description='The Snowflake Writeback Connector makes it easy to bring all your data into Domo and normalize it, then send it back to Snowflake while simultaneously making it available for queries. If you are already using Snowflake as a data warehousing solution, this connector helps you use Domo in conjunction with it to get the most from your data. To use this connector, you must have your Snowflake account name (domain), the username and password for your Snowflake account, and your Domo developer account credentials (client id and client secret).', create_date=datetime.datetime(2020, 7, 31, 10, 4, 40), last_modified=datetime.datetime(2020, 7, 31, 10, 4, 50), publisher_name='domo', writeback_enabled=False, tags=['Database', 'Cloud Connector', 'BI'], capabilities=['Connector'])]"
      ]
     },
     "execution_count": 119,
     "metadata": {},
     "output_type": "execute_result"
    }
   ],
   "source": [
    "#| eval : false\n",
    "\n",
    "token_auth = dmda.DomoTokenAuth(\n",
    "    domo_instance=\"domo-community\",\n",
    "    domo_access_token=os.environ[\"DOMO_DOJO_ACCESS_TOKEN\"],\n",
    ")\n",
    "\n",
    "domo_config = DomoInstanceConfig(auth=auth)\n",
    "\n",
    "await domo_config.get_connectors(search_text=\"snowflake\")"
   ]
  },
  {
   "cell_type": "markdown",
   "metadata": {},
   "source": [
    "# Access Token"
   ]
  },
  {
   "cell_type": "code",
   "execution_count": 120,
   "metadata": {},
   "outputs": [],
   "source": [
    "# |exporti\n",
    "@patch_to(DomoInstanceConfig)\n",
    "async def get_access_tokens(\n",
    "    self: DomoInstanceConfig,\n",
    "    debug_api: bool = False,\n",
    "    debug_num_stacks_to_drop=3,\n",
    "    session: httpx.AsyncClient = None,\n",
    "):\n",
    "    import domolibrary.classes.DomoAccessToken as dmat\n",
    "\n",
    "    domo_tokens = await dmat.get_access_tokens(\n",
    "        auth=self.auth,\n",
    "        session=session,\n",
    "        debug_api=debug_api,\n",
    "        parent_class=self.__class__.__name__,\n",
    "        debug_num_stacks_to_drop=debug_num_stacks_to_drop,\n",
    "    )\n",
    "\n",
    "    self.access_tokens = domo_tokens\n",
    "\n",
    "    return self.access_tokens"
   ]
  },
  {
   "cell_type": "code",
   "execution_count": 121,
   "metadata": {},
   "outputs": [
    {
     "name": "stdout",
     "output_type": "stream",
     "text": [
      "warning this token has not been validated by who_am_i, run get_auth_token first\n"
     ]
    },
    {
     "data": {
      "text/plain": [
       "[DomoAccessToken(id=156180, name='Governance', owner=DomoUser(id='587894148', display_name='Bryan Van Kampen', email_address='bryan@bvankampen.net', role_id=1, department='BT Partners', title='Executive Analytics', avatar_key='09/6CF6C801EEF440968C88ECC9824D66', phone_number='6304647034', web_landing_page=None, web_mobile_landing_page=None, employee_id=None, employee_number=None, hire_date=1588827600000, reports_to=None, publisher_domain=None, subscriber_domain=None, virtual_user_id=None, custom_attributes={}, role=DomoRole(id=1, name='Admin', description='Full access to everything', is_system_role=True, is_default_role=None, grant_ls=[], membership_ls=[])), expiration_date=datetime.datetime(2030, 5, 13, 14, 47, 33)),\n",
       " DomoAccessToken(id=159191, name='Java CLI', owner=DomoUser(id='1345408759', display_name='Alexis Lorenz (DataMaven)', email_address='DataMaven42@gmail.com', role_id=1, department='Owner', title='Major Domo Support Specialist', avatar_key='3ad4c694-c9e8-4b6b-8b80-366d347d826e', phone_number='518-496-4710', web_landing_page=None, web_mobile_landing_page=None, employee_id=None, employee_number=None, hire_date=1590156374000, reports_to=None, publisher_domain=None, subscriber_domain=None, virtual_user_id=None, custom_attributes={}, role=DomoRole(id=1, name='Admin', description='Full access to everything', is_system_role=True, is_default_role=None, grant_ls=[], membership_ls=[])), expiration_date=datetime.datetime(2030, 7, 26, 20, 11, 21)),\n",
       " DomoAccessToken(id=163868, name='Governance', owner=DomoUser(id='1345408759', display_name='Alexis Lorenz (DataMaven)', email_address='DataMaven42@gmail.com', role_id=1, department='Owner', title='Major Domo Support Specialist', avatar_key='3ad4c694-c9e8-4b6b-8b80-366d347d826e', phone_number='518-496-4710', web_landing_page=None, web_mobile_landing_page=None, employee_id=None, employee_number=None, hire_date=1590156374000, reports_to=None, publisher_domain=None, subscriber_domain=None, virtual_user_id=None, custom_attributes={}, role=DomoRole(id=1, name='Admin', description='Full access to everything', is_system_role=True, is_default_role=None, grant_ls=[], membership_ls=[])), expiration_date=datetime.datetime(2030, 11, 4, 21, 6)),\n",
       " DomoAccessToken(id=168840, name='Dataset Copy', owner=DomoUser(id='1345408759', display_name='Alexis Lorenz (DataMaven)', email_address='DataMaven42@gmail.com', role_id=1, department='Owner', title='Major Domo Support Specialist', avatar_key='3ad4c694-c9e8-4b6b-8b80-366d347d826e', phone_number='518-496-4710', web_landing_page=None, web_mobile_landing_page=None, employee_id=None, employee_number=None, hire_date=1590156374000, reports_to=None, publisher_domain=None, subscriber_domain=None, virtual_user_id=None, custom_attributes={}, role=DomoRole(id=1, name='Admin', description='Full access to everything', is_system_role=True, is_default_role=None, grant_ls=[], membership_ls=[])), expiration_date=datetime.datetime(2031, 2, 20, 18, 55, 14)),\n",
       " DomoAccessToken(id=182879, name='S3 Export', owner=DomoUser(id='68216396', display_name='Elliott Leonard', email_address='egleonard88@gmail.com', role_id=1, department='Owner', title=None, avatar_key='77cad494-6551-47e1-82eb-9e7d840d3a2d', phone_number='9702198956', web_landing_page=None, web_mobile_landing_page=None, employee_id=None, employee_number=None, hire_date=None, reports_to=None, publisher_domain=None, subscriber_domain=None, virtual_user_id=None, custom_attributes={}, role=DomoRole(id=1, name='Admin', description='Full access to everything', is_system_role=True, is_default_role=None, grant_ls=[], membership_ls=[])), expiration_date=datetime.datetime(2022, 10, 8, 2, 51, 55))]"
      ]
     },
     "execution_count": 121,
     "metadata": {},
     "output_type": "execute_result"
    }
   ],
   "source": [
    "# | eval : false\n",
    "token_auth = dmda.DomoTokenAuth(\n",
    "    domo_instance=\"domo-community\",\n",
    "    domo_access_token=os.environ[\"DOMO_DOJO_ACCESS_TOKEN\"],\n",
    ")\n",
    "\n",
    "domo_config = DomoInstanceConfig(auth=token_auth)\n",
    "\n",
    "access_tokens = await domo_config.get_access_tokens()\n",
    "\n",
    "access_tokens[0:5]"
   ]
  },
  {
   "cell_type": "code",
   "execution_count": 122,
   "metadata": {},
   "outputs": [],
   "source": [
    "# |exporti\n",
    "@patch_to(DomoInstanceConfig)\n",
    "async def generate_access_token(\n",
    "    self: DomoInstanceConfig,\n",
    "    owner: None,  # DomoUser\n",
    "    duration_in_days: int,\n",
    "    token_name: str,\n",
    "    debug_api: bool = False,\n",
    "    debug_num_stacks_to_drop=3,\n",
    "    session: httpx.AsyncClient = None,\n",
    "    return_raw: bool = False,\n",
    "):\n",
    "    import domolibrary.classes.DomoAccessToken as dmat\n",
    "\n",
    "    token = await dmat.DomoAccessToken.generate(\n",
    "        auth=self.auth,\n",
    "        session=session,\n",
    "        token_name=token_name,\n",
    "        debug_api=debug_api,\n",
    "        parent_class=self.__class__.__name__,\n",
    "        owner=owner,\n",
    "        duration_in_days=duration_in_days,\n",
    "        debug_num_stacks_to_drop=debug_num_stacks_to_drop,\n",
    "        return_raw=return_raw,\n",
    "    )\n",
    "\n",
    "    return token"
   ]
  },
  {
   "cell_type": "code",
   "execution_count": 123,
   "metadata": {},
   "outputs": [
    {
     "name": "stdout",
     "output_type": "stream",
     "text": [
      "warning this token has not been validated by who_am_i, run get_auth_token first\n",
      "03095d5c44a0a6d3ad233d3aca11a460287b3815401471ba\n"
     ]
    },
    {
     "data": {
      "text/plain": [
       "ResponseGetData(status=200, response='', is_success=True, parent_class=None)"
      ]
     },
     "execution_count": 123,
     "metadata": {},
     "output_type": "execute_result"
    }
   ],
   "source": [
    "# | eval : false\n",
    "# import domolibrary.classes.DomoUser as dmu\n",
    "\n",
    "token_auth = dmda.DomoTokenAuth(\n",
    "    domo_instance=\"domo-community\",\n",
    "    domo_access_token=os.environ[\"DOMO_DOJO_ACCESS_TOKEN\"],\n",
    ")\n",
    "\n",
    "domo_user = await dmu.DomoUsers.by_email(email_ls=[\"test4@domo.com\"], auth=token_auth)\n",
    "\n",
    "domo_config = DomoInstanceConfig(auth=token_auth)\n",
    "\n",
    "token = await domo_config.generate_access_token(\n",
    "    owner=domo_user, duration_in_days=15, token_name=f\"DL test {dt.date.today()}\"\n",
    ")\n",
    "\n",
    "print(token.token)\n",
    "\n",
    "await token.revoke()"
   ]
  },
  {
   "cell_type": "code",
   "execution_count": 124,
   "metadata": {},
   "outputs": [],
   "source": [
    "# | exporti\n",
    "\n",
    "\n",
    "@patch_to(DomoInstanceConfig)\n",
    "async def regenerate_access_token(\n",
    "    self,\n",
    "    domo_user: None,  # domo_user\n",
    "    token_name,\n",
    "    session: httpx.AsyncClient = None,\n",
    "    duration_in_days: int = 90,\n",
    "    debug_api: bool = False,\n",
    "    return_raw: bool = False,\n",
    "):\n",
    "\n",
    "    access_tokens = await self.get_access_tokens()\n",
    "\n",
    "    match_token = next(\n",
    "        (\n",
    "            token\n",
    "            for token in access_tokens\n",
    "            if token.owner == domo_user and token.name == token_name\n",
    "        ),\n",
    "        None,\n",
    "    )\n",
    "\n",
    "    if match_token:\n",
    "        await match_token.revoke()\n",
    "\n",
    "    domo_access_token = await self.generate_access_token(\n",
    "        owner=domo_user,\n",
    "        duration_in_days=duration_in_days,\n",
    "        token_name=token_name,\n",
    "        debug_api=debug_api,\n",
    "        debug_num_stacks_to_drop=3,\n",
    "        session=session,\n",
    "        return_raw=return_raw,\n",
    "    )\n",
    "\n",
    "    return domo_access_token"
   ]
  },
  {
   "cell_type": "code",
   "execution_count": 125,
   "metadata": {},
   "outputs": [
    {
     "name": "stdout",
     "output_type": "stream",
     "text": [
      "a452107eff3e1353199c074ed1cf3cea38d6fbc0fc6d0d26\n"
     ]
    },
    {
     "data": {
      "text/plain": [
       "ResponseGetData(status=200, response='', is_success=True, parent_class=None)"
      ]
     },
     "execution_count": 125,
     "metadata": {},
     "output_type": "execute_result"
    }
   ],
   "source": [
    "# | eval : false\n",
    "token = await domo_config.regenerate_access_token(\n",
    "    domo_user=domo_user, duration_in_days=15, token_name=f\"DL test {dt.date.today()}\"\n",
    ")\n",
    "\n",
    "print(token.token)\n",
    "await token.revoke()"
   ]
  },
  {
   "cell_type": "code",
   "execution_count": 126,
   "metadata": {},
   "outputs": [],
   "source": [
    "# | hide\n",
    "import nbdev\n",
    "\n",
    "nbdev.nbdev_export(\"./50_DomoInstanceConfig.ipynb\")"
   ]
  }
 ],
 "metadata": {
  "jupytext": {
   "split_at_heading": true
  },
  "kernelspec": {
   "display_name": "python3",
   "language": "python",
   "name": "python3"
  },
  "language_info": {
   "codemirror_mode": {
    "name": "ipython",
    "version": 3
   },
   "file_extension": ".py",
   "mimetype": "text/x-python",
   "name": "python",
   "nbconvert_exporter": "python",
   "pygments_lexer": "ipython3",
   "version": "3.10.12"
  }
 },
 "nbformat": 4,
 "nbformat_minor": 4
}
