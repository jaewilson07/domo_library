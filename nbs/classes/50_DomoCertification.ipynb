{
 "cells": [
  {
   "cell_type": "raw",
   "metadata": {},
   "source": [
    "---\n",
    "description: a class based approach to interacting with Domo Certification\n",
    "output-file: Certification_class.html\n",
    "title: Domo Certification\n",
    "\n",
    "---"
   ]
  },
  {
   "cell_type": "code",
   "execution_count": null,
   "metadata": {},
   "outputs": [],
   "source": [
    "# | default_exp classes.DomoCertification"
   ]
  },
  {
   "cell_type": "code",
   "execution_count": 1,
   "metadata": {},
   "outputs": [],
   "source": [
    "# | exporti\n",
    "\n",
    "import datetime as dt\n",
    "from dataclasses import dataclass\n",
    "from enum import Enum\n",
    "import domolibrary.utils.convert as cd\n",
    "import domolibrary.utils.DictDot as util_dd\n",
    "\n",
    "\n",
    "class DomoCertificationState(Enum):\n",
    "    CERTIFIED = 'certified'\n",
    "\n",
    "\n",
    "@dataclass\n",
    "class DomoCertification:\n",
    "    certification_state: DomoCertificationState\n",
    "    last_updated: dt.datetime\n",
    "    certification_type: str\n",
    "    certification_name: str\n",
    "\n",
    "    @classmethod\n",
    "    def _from_json(cls, dd):\n",
    "        return cls(certification_state=DomoCertificationState[dd.state].value or dd.state,\n",
    "                   last_updated=cd.convert_epoch_millisecond_to_datetime(\n",
    "                       dd.lastUpdated),\n",
    "                   certification_type=dd.processType,\n",
    "                   certification_name=dd.processName\n",
    "                   )"
   ]
  }
 ],
 "metadata": {
  "kernelspec": {
   "display_name": "Python 3",
   "language": "python",
   "name": "python3"
  },
  "language_info": {
   "codemirror_mode": {
    "name": "ipython",
    "version": 3
   },
   "file_extension": ".py",
   "mimetype": "text/x-python",
   "name": "python",
   "nbconvert_exporter": "python",
   "pygments_lexer": "ipython3",
   "version": "3.10.4"
  },
  "orig_nbformat": 4
 },
 "nbformat": 4,
 "nbformat_minor": 2
}
