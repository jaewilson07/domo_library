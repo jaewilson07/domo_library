{
 "cells": [
  {
   "cell_type": "raw",
   "metadata": {},
   "source": [
    "---\n",
    "description: a class based approach to interacting with Domo Certification\n",
    "output-file: Certification_class.html\n",
    "title: Certification\n",
    "\n",
    "---"
   ]
  },
  {
   "cell_type": "code",
   "execution_count": null,
   "metadata": {},
   "outputs": [],
   "source": [
    "# | default_exp classes.DomoCertification"
   ]
  },
  {
   "cell_type": "code",
   "execution_count": null,
   "metadata": {},
   "outputs": [],
   "source": [
    "# | exporti\n",
    "\n",
    "import datetime as dt\n",
    "from dataclasses import dataclass\n",
    "from enum import Enum\n",
    "import domolibrary.utils.convert as cd\n",
    "import domolibrary.utils.DictDot as util_dd\n",
    "\n",
    "\n",
    "class DomoCertificationState(Enum):\n",
    "    CERTIFIED = 'certified'\n",
    "    PENDING = 'PENDING'\n",
    "\n",
    "\n",
    "@dataclass\n",
    "class DomoCertification:\n",
    "    certification_state: DomoCertificationState\n",
    "    last_updated: dt.datetime\n",
    "    certification_type: str\n",
    "    certification_name: str\n",
    "\n",
    "    @classmethod\n",
    "    def _from_json(cls, obj):\n",
    "        dd = util_dd.DictDot(obj) if isinstance(obj, dict) else obj\n",
    "        return cls(certification_state=DomoCertificationState[dd.state].value or dd.state,\n",
    "                   last_updated=cd.convert_epoch_millisecond_to_datetime(\n",
    "                       dd.lastUpdated),\n",
    "                   certification_type=dd.processType,\n",
    "                   certification_name=dd.processName\n",
    "                   )\n"
   ]
  },
  {
   "cell_type": "code",
   "execution_count": null,
   "metadata": {},
   "outputs": [
    {
     "name": "stdout",
     "output_type": "stream",
     "text": [
      "{'state': 'CERTIFIED', 'lastUpdated': 1680617331402, 'userId': '1893952720', 'processType': 'DEPARTMENT', 'approvalRequestId': 'c32fb7be-62aa-4632-90b5-55a9468a49e0', 'processName': 'Jae Test Certification', 'adminCertified': False}\n"
     ]
    },
    {
     "data": {
      "text/plain": [
       "DomoCertification(certification_state='certified', last_updated=datetime.datetime(2023, 4, 4, 14, 8, 51, 402000), certification_type='DEPARTMENT', certification_name='Jae Test Certification')"
      ]
     },
     "execution_count": null,
     "metadata": {},
     "output_type": "execute_result"
    }
   ],
   "source": [
    "import os\n",
    "import domolibrary.client.DomoAuth as dmda\n",
    "\n",
    "token_auth = dmda.DomoTokenAuth(\n",
    "    domo_instance=\"domo-community\",\n",
    "    domo_access_token=os.environ[\"DOMO_DOJO_ACCESS_TOKEN\"],\n",
    ")\n",
    "\n",
    "dataset_id = 'da552832-c04d-46ac-936a-f982d9d3f2e6'\n",
    "\n",
    "import domolibrary.routes.dataset as dataset_routes\n",
    "\n",
    "res = await dataset_routes.get_dataset_by_id(dataset_id = dataset_id, auth = token_auth)\n",
    "\n",
    "cert_obj = res.response['certification']\n",
    "print(cert_obj)\n",
    "DomoCertification._from_json(cert_obj)"
   ]
  }
 ],
 "metadata": {
  "kernelspec": {
   "display_name": "python3",
   "language": "python",
   "name": "python3"
  }
 },
 "nbformat": 4,
 "nbformat_minor": 2
}
