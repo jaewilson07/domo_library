{
 "cells": [
  {
   "cell_type": "code",
   "execution_count": null,
   "metadata": {},
   "outputs": [],
   "source": []
  },
  {
   "cell_type": "code",
   "execution_count": 1,
   "metadata": {},
   "outputs": [],
   "source": [
    "# | default_exp integrations.MonitDataset"
   ]
  },
  {
   "cell_type": "code",
   "execution_count": 2,
   "metadata": {},
   "outputs": [],
   "source": [
    "# | exporti\n",
    "from dataclasses import dataclass, field\n",
    "import datetime as dt\n",
    "import decimal\n",
    "import domolibrary.classes.DomoDataset as dcds\n",
    "import domolibrary.classes.DomoStream as dcdstr\n",
    "\n",
    "\n",
    "@dataclass\n",
    "class MonitDataset_Record:\n",
    "    id: str = None\n",
    "    stream_account_id: int = None\n",
    "    stream_account_userid: int = None\n",
    "    stream_account_display_name: str = None\n",
    "    nb_partitions: int = 0\n",
    "    name: str = None\n",
    "    data_provider_type: str = None\n",
    "    display_type: str = None\n",
    "    stream_id: str = None\n",
    "    stream_config_tables: str = None\n",
    "    stream_config_query: str = None\n",
    "    instance: str = None\n",
    "    owner: str = None\n",
    "    row_count: int = None\n",
    "    url: str = None\n",
    "    report_date: dt.datetime = dt.datetime.now()\n",
    "    tags: list = field(default=None)\n",
    "    is_certified: int = 0\n",
    "    certification_name: str = None\n",
    "    certification_status: str = None\n",
    "    connector_version: decimal.Decimal(2) = None\n",
    "    update_method: str = None\n",
    "    connector_id: str = None\n",
    "\n",
    "\n",
    "@dataclass\n",
    "class MonitDataset_Data:\n",
    "    ds: dcds.DomoDataset = None\n",
    "    stream_ds: dcdstr.DomoStream = None\n",
    "    partition_ls: list = None"
   ]
  }
 ],
 "metadata": {
  "kernelspec": {
   "display_name": "Python 3",
   "language": "python",
   "name": "python3"
  },
  "language_info": {
   "codemirror_mode": {
    "name": "ipython",
    "version": 3
   },
   "file_extension": ".py",
   "mimetype": "text/x-python",
   "name": "python",
   "nbconvert_exporter": "python",
   "pygments_lexer": "ipython3",
   "version": "3.10.4"
  },
  "orig_nbformat": 4
 },
 "nbformat": 4,
 "nbformat_minor": 2
}
