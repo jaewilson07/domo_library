{
  "cells": [
    {
      "cell_type": "raw",
      "metadata": {},
      "source": [
        "---\n",
        "description: Default description (change me)\n",
        "output-file: routes.stream_routes.html\n",
        "title: Default Title (change me)\n",
        "\n",
        "---\n",
        "\n"
      ]
    },
    {
      "cell_type": "code",
      "execution_count": null,
      "metadata": {},
      "outputs": [],
      "source": [
        "#| default_exp routes.stream_routes"
      ]
    },
    {
      "cell_type": "code",
      "execution_count": null,
      "metadata": {},
      "outputs": [],
      "source": [
        "#| export\n",
        "import httpx\n",
        "\n",
        "from .get_data import get_data\n",
        "from ..DomoAuth import DomoFullAuth\n",
        "from ...utils.ResponseGetData import ResponseGetData"
      ]
    },
    {
      "cell_type": "code",
      "execution_count": null,
      "metadata": {},
      "outputs": [],
      "source": [
        "#| export\n",
        "async def get_stream_definition(full_auth: DomoFullAuth, stream_id: str,\n",
        "                                session: httpx.AsyncClient = None, debug: bool = False) -> ResponseGetData:\n",
        "    url = f'https://{full_auth.domo_instance}.domo.com/api/data/v1/streams/{stream_id}'\n",
        "\n",
        "    if debug:\n",
        "        print(url)\n",
        "\n",
        "    res = await get_data(\n",
        "        auth=full_auth,\n",
        "        url=url,\n",
        "        method='GET',\n",
        "        session=session,\n",
        "        debug=debug,\n",
        "    )\n",
        "    return res"
      ]
    },
    {
      "cell_type": "code",
      "execution_count": null,
      "metadata": {},
      "outputs": [],
      "source": [
        "#| export\n",
        "async def update_stream(full_auth: DomoFullAuth, stream_id: str,\n",
        "                        body: dict,\n",
        "                        session: httpx.AsyncClient = None,\n",
        "                        debug: bool = False) -> ResponseGetData:\n",
        "    url = f'https://{full_auth.domo_instance}.domo.com/api/data/v1/streams/{stream_id}'\n",
        "\n",
        "    if debug:\n",
        "        print(url)\n",
        "\n",
        "    res = await get_data(\n",
        "        auth=full_auth,\n",
        "        url=url,\n",
        "        body=body,\n",
        "        method='PUT',\n",
        "        session=session,\n",
        "        debug=debug,\n",
        "    )\n",
        "    return res"
      ]
    },
    {
      "cell_type": "code",
      "execution_count": null,
      "metadata": {},
      "outputs": [],
      "source": [
        "#| export\n",
        "async def create_stream(full_auth: DomoFullAuth,\n",
        "                        body: dict,\n",
        "                        session: httpx.AsyncClient = None,\n",
        "                        debug: bool = False) -> ResponseGetData:\n",
        "    url = f'https://{full_auth.domo_instance}.domo.com/api/data/v1/streams'\n",
        "\n",
        "    if debug:\n",
        "        print(url)\n",
        "\n",
        "    res = await get_data(\n",
        "        auth=full_auth,\n",
        "        url=url,\n",
        "        body=body,\n",
        "        method='POST',\n",
        "        session=session,\n",
        "        debug=debug,\n",
        "    )\n",
        "    return res"
      ]
    }
  ],
  "metadata": {
    "jupytext": {
      "split_at_heading": true
    },
    "kernelspec": {
      "display_name": "Python 3",
      "language": "python",
      "name": "python3"
    }
  },
  "nbformat": 4,
  "nbformat_minor": 4
}
