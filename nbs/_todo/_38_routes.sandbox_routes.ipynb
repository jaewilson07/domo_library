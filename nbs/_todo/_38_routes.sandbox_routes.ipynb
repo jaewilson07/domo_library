{
  "cells": [
    {
      "cell_type": "raw",
      "metadata": {},
      "source": [
        "---\n",
        "description: Default description (change me)\n",
        "output-file: routes.sandbox_routes.html\n",
        "title: Default Title (change me)\n",
        "\n",
        "---\n",
        "\n"
      ]
    },
    {
      "cell_type": "code",
      "execution_count": null,
      "metadata": {},
      "outputs": [],
      "source": [
        "#| default_exp routes.sandbox_routes"
      ]
    },
    {
      "cell_type": "code",
      "execution_count": null,
      "metadata": {},
      "outputs": [],
      "source": [
        "#| export\n",
        "import httpx\n",
        "\n",
        "import Library.DomoClasses.DomoAuth as dmda\n",
        "import Library.utils.ResponseGetData as rgd\n",
        "\n",
        "from Library.DomoClasses.routes.get_data import get_data"
      ]
    },
    {
      "cell_type": "code",
      "execution_count": null,
      "metadata": {},
      "outputs": [],
      "source": [
        "#| export\n",
        "async def get_shared_repos(full_auth: dmda.DomoFullAuth, session: httpx.AsyncClient = None, debug: bool = False) -> rgd.ResponseGetData:\n",
        "    url = f\"https://{full_auth.domo_instance}.domo.com/api/version/v1/repositories/search\"\n",
        "    body = {\n",
        "        \"query\": {\n",
        "            \"offset\": 0,\n",
        "            \"limit\": 50,\n",
        "            \"fieldSearchMap\": {},\n",
        "            \"sort\": \"lastCommit\",\n",
        "            \"order\": \"desc\",\n",
        "            \"filters\": {\n",
        "                \"userId\": None\n",
        "            },\n",
        "            \"dateFilters\": {}\n",
        "        },\n",
        "        \"shared\": False\n",
        "    }\n",
        "\n",
        "    res = await get_data(auth=full_auth,\n",
        "                         method='POST',\n",
        "                         url=url,\n",
        "                         body=body,\n",
        "                         session=session,\n",
        "                         debug=debug)\n",
        "\n",
        "    return res"
      ]
    },
    {
      "cell_type": "code",
      "execution_count": null,
      "metadata": {},
      "outputs": [],
      "source": [
        "#| export\n",
        "async def get_repo_from_id(full_auth: dmda.DomoFullAuth,\n",
        "                           repository_id: str,\n",
        "                           debug: bool = False) -> rgd.ResponseGetData:\n",
        "\n",
        "    url = f\"https://{full_auth.domo_instance}.domo.com/api/version/v1/repositories/{repository_id}\"\n",
        "\n",
        "    return await get_data(auth=full_auth,\n",
        "                          method='GET',\n",
        "                          url=url,\n",
        "                          debug=debug)"
      ]
    },
    {
      "cell_type": "code",
      "execution_count": null,
      "metadata": {},
      "outputs": [],
      "source": [
        "#| export\n",
        "async def get_shared_repos(full_auth: dmda.DomoFullAuth, session: httpx.AsyncClient = None, debug: bool = False) -> rgd.ResponseGetData:\n",
        "    url = f\"https://{full_auth.domo_instance}.domo.com/api/version/v1/repositories/search\"\n",
        "    body = {\n",
        "        \"query\": {\n",
        "            \"offset\": 0,\n",
        "            \"limit\": 50,\n",
        "            \"fieldSearchMap\": {},\n",
        "            \"sort\": \"lastCommit\",\n",
        "            \"order\": \"desc\",\n",
        "            \"filters\": {\n",
        "                \"userId\": None\n",
        "            },\n",
        "            \"dateFilters\": {}\n",
        "        },\n",
        "        \"shared\": False\n",
        "    }\n",
        "\n",
        "    res = await get_data(auth=full_auth,\n",
        "                         method='POST',\n",
        "                         url=url,\n",
        "                         body=body,\n",
        "                         session=session,\n",
        "                         debug=debug)\n",
        "\n",
        "    return res"
      ]
    }
  ],
  "metadata": {
    "jupytext": {
      "split_at_heading": true
    },
    "kernelspec": {
      "display_name": "Python 3",
      "language": "python",
      "name": "python3"
    }
  },
  "nbformat": 4,
  "nbformat_minor": 4
}
