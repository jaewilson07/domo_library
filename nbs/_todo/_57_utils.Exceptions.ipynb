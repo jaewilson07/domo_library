{
 "cells": [
  {
   "cell_type": "raw",
   "metadata": {},
   "source": [
    "---\n",
    "description: Default description (change me)\n",
    "output-file: utils.exceptions.html\n",
    "title: Default Title (change me)\n",
    "\n",
    "---\n",
    "\n"
   ]
  },
  {
   "cell_type": "code",
   "execution_count": null,
   "metadata": {},
   "outputs": [],
   "source": [
    "# | default_exp utils.Exceptions"
   ]
  },
  {
   "cell_type": "code",
   "execution_count": null,
   "metadata": {},
   "outputs": [],
   "source": [
    "# | export"
   ]
  },
  {
   "cell_type": "code",
   "execution_count": null,
   "metadata": {},
   "outputs": [],
   "source": [
    "# | export\n",
    "class AuthRequiredException(Exception):\n",
    "    def __init__(self, message=\"Must include Auth Object\"):\n",
    "        self.message = message"
   ]
  },
  {
   "cell_type": "code",
   "execution_count": null,
   "metadata": {},
   "outputs": [],
   "source": [
    "# | export\n",
    "class InvalidCredentialsError(Exception):\n",
    "    def __init__(self, status, message=\"invalid credentials\"):\n",
    "        self.message = f\"Status {status} - {message}\" or message"
   ]
  },
  {
   "cell_type": "code",
   "execution_count": null,
   "metadata": {},
   "outputs": [],
   "source": [
    "# | export\n",
    "class InvalidInstanceError(Exception):\n",
    "    def __init__(self, message=\"invalid instance\"):\n",
    "        self.message = message"
   ]
  },
  {
   "cell_type": "code",
   "execution_count": null,
   "metadata": {},
   "outputs": [],
   "source": [
    "# | export\n",
    "class InvalidDataset(Exception):\n",
    "    def __init__(self, message=\"invalid dataset\", domo_instance=None, dataset_id=None):\n",
    "\n",
    "        if dataset_id:\n",
    "            message = f\"{message} - {dataset_id}\"\n",
    "\n",
    "        if domo_instance:\n",
    "            message = f\"{message} in {domo_instance}\"\n",
    "\n",
    "        self.message = message"
   ]
  },
  {
   "cell_type": "code",
   "execution_count": null,
   "metadata": {},
   "outputs": [],
   "source": [
    "# | export\n",
    "class NoDataReturned(Exception):\n",
    "    def __init__(self, message=\"invalid dataset\", domo_instance=None, dataset_id=None):\n",
    "\n",
    "        if dataset_id:\n",
    "            message = f\"{message} - {dataset_id}\"\n",
    "\n",
    "        if domo_instance:\n",
    "            message = f\"{message} in {domo_instance}\"\n",
    "\n",
    "        self.message = message"
   ]
  },
  {
   "cell_type": "code",
   "execution_count": null,
   "metadata": {},
   "outputs": [],
   "source": [
    "# | export\n",
    "class ResourceUnavailable(Exception):\n",
    "    \"\"\"Exception representing a failed request to a resource\"\"\"\n",
    "\n",
    "    def __init__(self, msg, http_response):\n",
    "        Exception.__init__(self)\n",
    "        self._msg = msg\n",
    "        self._status = http_response.status\n",
    "\n",
    "    def __str__(self):\n",
    "        return \"%s (HTTP status: %s)\" % (self._msg, self._status)"
   ]
  },
  {
   "cell_type": "code",
   "execution_count": null,
   "metadata": {},
   "outputs": [],
   "source": [
    "# | export\n",
    "class Unauthorized(ResourceUnavailable):\n",
    "    pass"
   ]
  },
  {
   "cell_type": "code",
   "execution_count": null,
   "metadata": {},
   "outputs": [],
   "source": [
    "# | export\n",
    "class TokenError(Exception):\n",
    "    pass"
   ]
  }
 ],
 "metadata": {
  "jupytext": {
   "split_at_heading": true
  },
  "kernelspec": {
   "display_name": "Python 3",
   "language": "python",
   "name": "python3"
  }
 },
 "nbformat": 4,
 "nbformat_minor": 4
}
