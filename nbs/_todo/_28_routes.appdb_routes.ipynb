{
  "cells": [
    {
      "cell_type": "raw",
      "metadata": {},
      "source": [
        "---\n",
        "description: Default description (change me)\n",
        "output-file: routes.appdb_routes.html\n",
        "title: Default Title (change me)\n",
        "\n",
        "---\n",
        "\n"
      ]
    },
    {
      "cell_type": "code",
      "execution_count": null,
      "metadata": {},
      "outputs": [],
      "source": [
        "#| default_exp routes.appdb_routes"
      ]
    },
    {
      "cell_type": "code",
      "execution_count": null,
      "metadata": {},
      "outputs": [],
      "source": [
        "#| export\n",
        "import httpx\n",
        "\n",
        "from ...DomoClasses import DomoAuth as dmda\n",
        "from ...utils.ResponseGetData import ResponseGetData\n",
        "from . import get_data as gd"
      ]
    },
    {
      "cell_type": "code",
      "execution_count": null,
      "metadata": {},
      "outputs": [],
      "source": [
        "#| export\n",
        "async def create_document(full_auth: dmda.DomoFullAuth, app_id: str,\n",
        "                          domo_environment: str,\n",
        "                          collection_name: str,\n",
        "                          document: dict,\n",
        "                          session: httpx.AsyncClient = None,\n",
        "                          debug: bool = False):\n",
        "    url = f'https://{app_id}.domoapps.{domo_environment}.domo.com/domo/datastores/v1/collections/{collection_name}/documents'\n",
        "\n",
        "    if debug:\n",
        "        print(url)\n",
        "\n",
        "    res = await gd.get_data(auth=full_auth,\n",
        "                            method='POST',\n",
        "                            url=url,\n",
        "                            body=document,\n",
        "                            session=session,\n",
        "                            debug=debug)\n",
        "    return res"
      ]
    },
    {
      "cell_type": "code",
      "execution_count": null,
      "metadata": {},
      "outputs": [],
      "source": [
        "#| export\n",
        "async def get_documents(full_auth: dmda.DomoFullAuth, app_id: str,\n",
        "                        domo_environment: str,\n",
        "                        collection_name: str):\n",
        "    url = f'https://{app_id}.domoapps.{domo_environment}.domo.com/domo/datastores/v1/collections/{collection_name}/documents/'\n",
        "\n",
        "    res = await gd.get_data(auth=full_auth,\n",
        "                            method='GET',\n",
        "                            url=url)\n",
        "    return res"
      ]
    }
  ],
  "metadata": {
    "jupytext": {
      "split_at_heading": true
    },
    "kernelspec": {
      "display_name": "Python 3",
      "language": "python",
      "name": "python3"
    }
  },
  "nbformat": 4,
  "nbformat_minor": 4
}
