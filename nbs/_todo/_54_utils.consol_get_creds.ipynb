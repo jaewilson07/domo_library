{
 "cells": [
  {
   "cell_type": "raw",
   "metadata": {},
   "source": [
    "---\n",
    "description: Default description (change me)\n",
    "output-file: utils.consol_get_creds.html\n",
    "title: Default Title (change me)\n",
    "\n",
    "---\n",
    "\n"
   ]
  },
  {
   "cell_type": "code",
   "execution_count": null,
   "metadata": {},
   "outputs": [],
   "source": [
    "#| default_exp utils.consol_get_creds"
   ]
  },
  {
   "cell_type": "code",
   "execution_count": null,
   "metadata": {},
   "outputs": [],
   "source": [
    "#| export\n",
    "from ..DomoClasses import DomoAuth as dmda\n",
    "from ..DomoClasses import DomoDataset as dmds\n",
    "from .read_creds_from_dotenv import read_creds_from_dotenv, split_creds"
   ]
  },
  {
   "cell_type": "code",
   "execution_count": null,
   "metadata": {},
   "outputs": [],
   "source": [
    "#| export\n",
    "def get_creds(array_env,\n",
    "              array_key_starts_with,\n",
    "              array_split,\n",
    "              consol_env,\n",
    "              consol_ds_id,\n",
    "              debug: bool = False):\n",
    "    instance_list = split_creds(env=array_env,\n",
    "                                key_starts_with=array_key_starts_with,\n",
    "                                env_var_list=array_split)\n",
    "\n",
    "    if debug:\n",
    "        print('\\nconsol_env')\n",
    "        print(consol_env, consol_env.CONSOL_INSTANCE)\n",
    "        print('\\ninstances to sync')\n",
    "        for instance in instance_list:\n",
    "            print(instance.domo_instance)\n",
    "\n",
    "    consol_auth = dmda.DomoFullAuth(domo_instance=consol_env.CONSOL_INSTANCE,\n",
    "                                    domo_username=consol_env.CONSOL_USERNAME,\n",
    "                                    domo_password=consol_env.CONSOL_PASSWORD)\n",
    "\n",
    "    consol_dataset = dmds.DomoDataset(full_auth=consol_auth, id=consol_ds_id)\n",
    "\n",
    "    return instance_list, consol_auth, consol_dataset"
   ]
  }
 ],
 "metadata": {
  "jupytext": {
   "split_at_heading": true
  },
  "kernelspec": {
   "display_name": "Python 3",
   "language": "python",
   "name": "python3"
  }
 },
 "nbformat": 4,
 "nbformat_minor": 4
}
