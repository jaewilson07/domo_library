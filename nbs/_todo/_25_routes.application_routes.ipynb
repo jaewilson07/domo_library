{
 "cells": [
  {
   "cell_type": "raw",
   "metadata": {},
   "source": [
    "---\n",
    "description: Default description (change me)\n",
    "output-file: routes.application_routes.html\n",
    "title: Default Title (change me)\n",
    "\n",
    "---\n",
    "\n"
   ]
  },
  {
   "cell_type": "code",
   "execution_count": null,
   "metadata": {},
   "outputs": [],
   "source": [
    "# | default_exp routes.application_routes"
   ]
  },
  {
   "cell_type": "code",
   "execution_count": null,
   "metadata": {},
   "outputs": [],
   "source": [
    "# | export\n",
    "from pprint import pprint\n",
    "\n",
    "import httpx\n",
    "\n",
    "from ...utils.ResponseGetData import ResponseGetData\n",
    "from ..DomoAuth import DomoFullAuth\n",
    "from .get_data import get_data, looper"
   ]
  },
  {
   "cell_type": "code",
   "execution_count": null,
   "metadata": {},
   "outputs": [],
   "source": [
    "# | export\n",
    "async def get_applications(\n",
    "    full_auth: DomoFullAuth,\n",
    "    session: httpx.AsyncClient = None,\n",
    "    debug: bool = False,\n",
    "    log_results: bool = False,\n",
    "):\n",
    "\n",
    "    url = f\"https://{full_auth.domo_instance}.domo.com/api/executor/v1/applications/\"\n",
    "\n",
    "    if debug:\n",
    "        print(url)\n",
    "\n",
    "    return await get_data(\n",
    "        auth=full_auth,\n",
    "        url=url,\n",
    "        method=\"GET\",\n",
    "        log_results=log_results,\n",
    "        debug=debug,\n",
    "        session=session,\n",
    "    )"
   ]
  },
  {
   "cell_type": "code",
   "execution_count": null,
   "metadata": {},
   "outputs": [],
   "source": [
    "# | export\n",
    "async def get_application_by_id(\n",
    "    full_auth: DomoFullAuth,\n",
    "    application_id: str,\n",
    "    session: httpx.AsyncClient = None,\n",
    "    debug: bool = False,\n",
    "    log_results: bool = False,\n",
    "):\n",
    "\n",
    "    url = f\"https://{full_auth.domo_instance}.domo.com/api/executor/v1/applications/{application_id}\"\n",
    "\n",
    "    if debug:\n",
    "        print(url)\n",
    "\n",
    "    return await get_data(\n",
    "        auth=full_auth,\n",
    "        url=url,\n",
    "        method=\"GET\",\n",
    "        log_results=log_results,\n",
    "        debug=debug,\n",
    "        session=session,\n",
    "    )"
   ]
  }
 ],
 "metadata": {
  "jupytext": {
   "split_at_heading": true
  },
  "kernelspec": {
   "display_name": "Python 3",
   "language": "python",
   "name": "python3"
  }
 },
 "nbformat": 4,
 "nbformat_minor": 4
}
