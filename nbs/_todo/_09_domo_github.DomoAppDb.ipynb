{
 "cells": [
  {
   "cell_type": "raw",
   "metadata": {},
   "source": [
    "---\n",
    "description: Default description (change me)\n",
    "output-file: domo_github.domoappdb.html\n",
    "title: Default Title (change me)\n",
    "\n",
    "---\n",
    "\n"
   ]
  },
  {
   "cell_type": "code",
   "execution_count": null,
   "metadata": {},
   "outputs": [],
   "source": [
    "# | default_exp domo_github.DomoAppDb"
   ]
  },
  {
   "cell_type": "code",
   "execution_count": null,
   "metadata": {},
   "outputs": [],
   "source": [
    "# | export\n",
    "import httpx\n",
    "from dataclasses import field, dataclass\n",
    "\n",
    "from .DomoAuth import DomoFullAuth\n",
    "from .routes import appdb_routes\n",
    "from ..utils.Base import Base"
   ]
  },
  {
   "cell_type": "code",
   "execution_count": null,
   "metadata": {},
   "outputs": [],
   "source": [
    "# | export\n",
    "@dataclass\n",
    "class AppdbDocument:\n",
    "    content: field(default_factory=dict)\n",
    "    collection_id: str = None\n",
    "    document_id: str = None\n",
    "\n",
    "    document_body: field(default_factory=dict) = None\n",
    "\n",
    "    def __post_init__(self):\n",
    "        self.generate_doc_body()\n",
    "\n",
    "    def generate_doc_body(self):\n",
    "        body = {\"content\": self.content}\n",
    "\n",
    "        self.document_body = body\n",
    "        return body"
   ]
  },
  {
   "cell_type": "code",
   "execution_count": null,
   "metadata": {},
   "outputs": [],
   "source": [
    "# | export\n",
    "@dataclass\n",
    "class DomoAppDbCollection:\n",
    "    app_id: str\n",
    "    domo_environment: str\n",
    "    collection_name: str\n",
    "    full_auth: DomoFullAuth\n",
    "\n",
    "    async def get_documents(self):\n",
    "        res = await appdb_routes.get_documents(\n",
    "            full_auth=self.full_auth,\n",
    "            app_id=self.app_id,\n",
    "            domo_environment=self.domo_environment,\n",
    "            collection_name=self.collection_name,\n",
    "        )\n",
    "\n",
    "        if res.status == 200:\n",
    "            return res.response\n",
    "\n",
    "    async def create_document(\n",
    "        self, content: dict, session: httpx.AsyncClient = None, debug: bool = False\n",
    "    ):\n",
    "        appdb_document = AppdbDocument(content=content)\n",
    "\n",
    "        res = await appdb_routes.create_document(\n",
    "            full_auth=self.full_auth,\n",
    "            app_id=self.app_id,\n",
    "            domo_environment=self.domo_environment,\n",
    "            collection_name=self.collection_name,\n",
    "            document=appdb_document.document_body,\n",
    "            session=session,\n",
    "            debug=debug,\n",
    "        )\n",
    "        # if debug:\n",
    "        print(res)\n",
    "        if res == 200:\n",
    "            return res.response"
   ]
  }
 ],
 "metadata": {
  "jupytext": {
   "split_at_heading": true
  },
  "kernelspec": {
   "display_name": "Python 3",
   "language": "python",
   "name": "python3"
  }
 },
 "nbformat": 4,
 "nbformat_minor": 4
}
