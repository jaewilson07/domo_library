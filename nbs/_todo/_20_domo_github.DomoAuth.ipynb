{
  "cells": [
    {
      "cell_type": "raw",
      "metadata": {},
      "source": [
        "---\n",
        "description: Default description (change me)\n",
        "output-file: domo_github.domoauth.html\n",
        "title: Default Title (change me)\n",
        "\n",
        "---\n",
        "\n"
      ]
    },
    {
      "cell_type": "code",
      "execution_count": null,
      "metadata": {},
      "outputs": [],
      "source": [
        "#| default_exp domo_github.DomoAuth"
      ]
    },
    {
      "cell_type": "code",
      "execution_count": null,
      "metadata": {},
      "outputs": [],
      "source": [
        "#| export\n",
        "from dataclasses import dataclass, field\n",
        "\n",
        "import httpx\n",
        "\n",
        "from ..utils import Exceptions as ex\n",
        "from ..utils import ResponseGetData as gd\n",
        "from .routes import auth_routes"
      ]
    },
    {
      "cell_type": "code",
      "execution_count": null,
      "metadata": {},
      "outputs": [],
      "source": [
        "#| export\n",
        "class Error(Exception):\n",
        "    \"\"\"Base class for other exceptions\"\"\"\n",
        "    pass"
      ]
    },
    {
      "cell_type": "code",
      "execution_count": null,
      "metadata": {},
      "outputs": [],
      "source": [
        "#| export\n",
        "class InvalidCredentialsError(Exception):\n",
        "    def __init__(self, status, message=\"invalid credentials\", domo_instance=None):\n",
        "\n",
        "        instance_str = f\" at {domo_instance}\" if domo_instance else None\n",
        "        self.message = f\"Status {status} - {message}{instance_str or ''}\" or message\n",
        "        super().__init__(self.message)"
      ]
    },
    {
      "cell_type": "code",
      "execution_count": null,
      "metadata": {},
      "outputs": [],
      "source": [
        "#| export\n",
        "@dataclass\n",
        "class _DA_Base:\n",
        "    domo_instance: str"
      ]
    },
    {
      "cell_type": "code",
      "execution_count": null,
      "metadata": {},
      "outputs": [],
      "source": [
        "#| export\n",
        "@dataclass\n",
        "class _DA_Default:\n",
        "    token: str = field(default=None, repr=False)\n",
        "    token_name: str = field(default=None)\n",
        "    user_id: str = field(default=None, repr=False)\n",
        "    auth_header: dict = field(default_factory=dict, repr=False)\n",
        "\n",
        "    url_manual_login: str = None\n",
        "\n",
        "    async def print_is_token(self, token_name=None) -> None:\n",
        "        self.token_name = token_name\n",
        "        if not self.token:\n",
        "            await self.get_auth_token()\n",
        "\n",
        "        token_str = f\"{token_name} \"\n",
        "\n",
        "        if not self.token:\n",
        "            print(\n",
        "                f\"🚧 failed to retrieve {token_str if token_name else ''}token from {self.domo_instance}\")\n",
        "            return False\n",
        "\n",
        "        print(\n",
        "            f\"🎉 {token_str if token_name else ''}token retrieved from {self.domo_instance} ⚙️\")\n",
        "        return True"
      ]
    },
    {
      "cell_type": "code",
      "execution_count": null,
      "metadata": {},
      "outputs": [],
      "source": [
        "#| export\n",
        "@dataclass\n",
        "class DomoAuth(_DA_Default, _DA_Base):\n",
        "    def _init__():\n",
        "        super().__init__()"
      ]
    },
    {
      "cell_type": "code",
      "execution_count": null,
      "metadata": {},
      "outputs": [],
      "source": [
        "#| export\n",
        "@dataclass\n",
        "class _DFA_Base(_DA_Base):\n",
        "    domo_username: str\n",
        "    domo_password: str = field(default=None, repr=False)"
      ]
    },
    {
      "cell_type": "code",
      "execution_count": null,
      "metadata": {},
      "outputs": [],
      "source": [
        "#| export\n",
        "@dataclass\n",
        "class DomoFullAuth(_DA_Default, _DFA_Base):\n",
        "    \"\"\"use for full authentication token\"\"\"\n",
        "\n",
        "    def __post_init__(self):\n",
        "        self.url_manual_login = f\"https://{self.domo_instance}.domo.com/auth/index?domoManualLogin=true\"\n",
        "\n",
        "    def generate_auth_header(self, token: str) -> dict:\n",
        "        self.auth_header = {'x-domo-authentication': token}\n",
        "        return self.auth_header\n",
        "\n",
        "    async def get_auth_token(self, domo_instance=None,\n",
        "                             domo_username=None, domo_password=None,\n",
        "                             debug: bool = False,\n",
        "                             session: httpx.AsyncClient = None) -> gd.ResponseGetData:\n",
        "\n",
        "        self.domo_username = domo_username or self.domo_username\n",
        "        self.domo_password = domo_password or self.domo_password\n",
        "        self.domo_instance = domo_instance or self.domo_instance\n",
        "\n",
        "        res = await auth_routes.get_full_auth(domo_instance=self.domo_instance,\n",
        "                                              domo_username=self.domo_username,\n",
        "                                              domo_password=self.domo_password,\n",
        "                                              session=session)\n",
        "        if debug:\n",
        "            print(res)\n",
        "\n",
        "        if res.is_success == True:\n",
        "            self.token = res.response.get('sessionToken')\n",
        "            self.user_id = res.response.get('userId')\n",
        "\n",
        "            self.auth_header = self.generate_auth_header(token=self.token)\n",
        "\n",
        "            return self.token\n",
        "\n",
        "        elif res.status == 200 and not res.is_success:\n",
        "            raise InvalidCredentialsError(status=res.status,\n",
        "                                          message=res.response.get(\"reason\"),\n",
        "                                          domo_instance=self.domo_instance)\n",
        "\n",
        "        else:\n",
        "            raise ex.InvalidInstanceError(\n",
        "                message=f'invalid instance {self.domo_instance}')"
      ]
    },
    {
      "cell_type": "code",
      "execution_count": null,
      "metadata": {},
      "outputs": [],
      "source": [
        "#| export\n",
        "@dataclass(init=False)\n",
        "class DomoDeveloperAuth(DomoAuth):\n",
        "    \"\"\"use for developer authentication token\"\"\"\n",
        "    domo_client_id: str\n",
        "    domo_client_secret: str\n",
        "    auth_header: str\n",
        "\n",
        "    def __init__(self, domo_client_id, domo_client_secret, domo_instance=None):\n",
        "        self.domo_client_id = domo_client_id\n",
        "        self.domo_client_secret = domo_client_secret\n",
        "        super().__init__(domo_instance)\n",
        "\n",
        "    def generate_auth_header(self, token: str) -> dict:\n",
        "        self.auth_header = {'Authorization': f'bearer {token}'}\n",
        "        return self.auth_header\n",
        "\n",
        "    def generate_auth_header_private(self, token: str) -> dict:\n",
        "        self.auth_header = {'X-domo-developer-token': f'bearer {token}'}\n",
        "        return self.auth_header\n",
        "\n",
        "    async def get_auth_token(self,\n",
        "                             domo_client_id=None,\n",
        "                             domo_client_secret=None) -> gd.ResponseGetData:\n",
        "\n",
        "        self.domo_client_id = domo_client_id or self.domo_client_id\n",
        "        self.domo_client_secret = domo_client_secret or self.domo_client_secret\n",
        "\n",
        "        res = await auth_routes.get_developer_auth(domo_client_id=self.domo_client_id,\n",
        "                                                   domo_client_secret=self.domo_client_secret)\n",
        "\n",
        "        if res.status == 200 and res.response.get('access_token'):\n",
        "            self.token = res.response.get('access_token')\n",
        "            self.user_id = res.response.get('userId')\n",
        "\n",
        "            self.auth_header = self.generate_auth_header(token=self.token)\n",
        "\n",
        "            return res\n",
        "\n",
        "        elif res.status == 200:\n",
        "            raise InvalidCredentialsError(\n",
        "                status=res.status, message=res.response.get(\"reason\"))"
      ]
    }
  ],
  "metadata": {
    "jupytext": {
      "split_at_heading": true
    },
    "kernelspec": {
      "display_name": "Python 3",
      "language": "python",
      "name": "python3"
    }
  },
  "nbformat": 4,
  "nbformat_minor": 4
}
