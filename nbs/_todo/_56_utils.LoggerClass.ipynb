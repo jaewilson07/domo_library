{
  "cells": [
    {
      "cell_type": "raw",
      "metadata": {},
      "source": [
        "---\n",
        "description: Default description (change me)\n",
        "output-file: utils.loggerclass.html\n",
        "title: Default Title (change me)\n",
        "\n",
        "---\n",
        "\n"
      ]
    },
    {
      "cell_type": "code",
      "execution_count": null,
      "metadata": {},
      "outputs": [],
      "source": [
        "#| default_exp utils.LoggerClass"
      ]
    },
    {
      "cell_type": "code",
      "execution_count": null,
      "metadata": {},
      "outputs": [],
      "source": [
        "#| export\n",
        "from ..DomoClasses.DomoAuth import DomoDeveloperAuth, DomoFullAuth\n",
        "import httpx\n",
        "import asyncio\n",
        "import Library.DomoClasses.DomoDataset as dmds\n",
        "import pandas as pd\n",
        "from datetime import datetime"
      ]
    },
    {
      "cell_type": "code",
      "execution_count": null,
      "metadata": {},
      "outputs": [],
      "source": [
        "#| export\n",
        "class MyLogger:\n",
        "    app_name : str = ''\n",
        "    output_ds : str = ''\n",
        "    instance_auth : DomoFullAuth = None\n",
        "    logs_df : pd.DataFrame = pd.DataFrame()\n",
        "    \n",
        "    def __init__(self, app_name, output_ds, instance_auth):\n",
        "        self.app_name = app_name\n",
        "        self.output_ds = output_ds\n",
        "        self.instance_auth = instance_auth\n",
        "        logs_df = pd.DataFrame()\n",
        "\n",
        "    def log_info(self, message, debug = False):\n",
        "        self.__AddLog(message = message,\n",
        "                      type_str = \"Info\", \n",
        "                      debug = debug)\n",
        "\n",
        "    def log_error(self, message, debug = False):\n",
        "        self.__AddLog(message = message,\n",
        "                      type_str = \"Error\", \n",
        "                      debug = debug)\n",
        "\n",
        "    def log_warning(self, message, debug = False):\n",
        "        self.__AddLog(message = message,\n",
        "                      type_str = \"Warning\", \n",
        "                      debug = debug)\n",
        "\n",
        "\n",
        "    def __AddLog(self, message: str, type_str : str, debug = False):\n",
        "        new_row = pd.DataFrame({'date_time':datetime.now(), 'application':self.app_name, 'type':type_str, 'message':message}, index=[0])\n",
        "        if debug:\n",
        "            print (new_row)\n",
        "        self.logs_df = pd.concat([new_row,self.logs_df.loc[:]]).reset_index(drop=True)\n",
        "    \n",
        "    async def write_logs (self, upload_method: str = 'APPEND'):\n",
        "        dataset = dmds.DomoDataset(full_auth = self.instance_auth,\n",
        "                                    id = self.output_ds)\n",
        "        await dataset.upload_csv(upload_df = self.logs_df,upload_method = upload_method)\n",
        "        await asyncio.sleep(10)\n",
        "        await dataset.index_dataset()\n",
        "        #remove all rows\n",
        "        self.logs_df = self.logs_df.head(0)\n",
        "        print ('sucess')"
      ]
    }
  ],
  "metadata": {
    "jupytext": {
      "split_at_heading": true
    },
    "kernelspec": {
      "display_name": "Python 3",
      "language": "python",
      "name": "python3"
    }
  },
  "nbformat": 4,
  "nbformat_minor": 4
}
