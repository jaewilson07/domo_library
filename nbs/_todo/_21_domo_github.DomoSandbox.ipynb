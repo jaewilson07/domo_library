{
  "cells": [
    {
      "cell_type": "raw",
      "metadata": {},
      "source": [
        "---\n",
        "description: Default description (change me)\n",
        "output-file: domo_github.domosandbox.html\n",
        "title: Default Title (change me)\n",
        "\n",
        "---\n",
        "\n"
      ]
    },
    {
      "cell_type": "code",
      "execution_count": null,
      "metadata": {},
      "outputs": [],
      "source": [
        "#| default_exp domo_github.DomoSandbox"
      ]
    },
    {
      "cell_type": "code",
      "execution_count": null,
      "metadata": {},
      "outputs": [],
      "source": [
        "#| export\n",
        "from dataclasses import dataclass, field\n",
        "import httpx\n",
        "import asyncio\n",
        "import datetime as dt\n",
        "\n",
        "from pprint import pprint\n",
        "\n",
        "import Library.DomoClasses.DomoAuth as dmda\n",
        "import Library.DomoClasses.DomoLineage as dmdl\n",
        "from Library.utils.DictDot import DictDot\n",
        "\n",
        "\n",
        "from Library.DomoClasses.routes import sandbox_routes"
      ]
    },
    {
      "cell_type": "code",
      "execution_count": null,
      "metadata": {},
      "outputs": [],
      "source": [
        "#| export\n",
        "class InvalidRepositoryError(Exception):\n",
        "    pass"
      ]
    },
    {
      "cell_type": "code",
      "execution_count": null,
      "metadata": {},
      "outputs": [],
      "source": [
        "#| export\n",
        "@dataclass\n",
        "class DomoRepository:\n",
        "    id: str\n",
        "    name: str\n",
        "    last_updated_dt: dt.datetime\n",
        "    commit_dt: dt.datetime\n",
        "    commit_version: str\n",
        "    full_auth: dmda.DomoAuth = None\n",
        "    content_page_id_ls: list[str] = None\n",
        "    content_card_id_ls: list[str] = None\n",
        "    content_dataflow_id_ls: list[str] = None\n",
        "    content_view_id_ls: list[str] = None\n",
        "\n",
        "    def __post_init__(self):\n",
        "        self.lineage = dmdl.DomoLineage(id=self.id,\n",
        "                                        parent=self)\n",
        "\n",
        "    @classmethod\n",
        "    def _from_json(cls, obj, full_auth=None):\n",
        "\n",
        "        import dateutil.parser as dtut\n",
        "\n",
        "        dd = DictDot(obj)\n",
        "\n",
        "        return cls(\n",
        "            id=dd.id,\n",
        "            full_auth=full_auth,\n",
        "            name=dd.name,\n",
        "            content_page_id_ls=dd.repositoryContent.pageIds,\n",
        "            content_card_id_ls=dd.repositoryContent.cardIds,\n",
        "            content_dataflow_id_ls=dd.repositoryContent.dataflowIds,\n",
        "            content_view_id_ls=dd.repositoryContent.viewIds,\n",
        "            last_updated_dt=dtut.parse(dd.updated).replace(tzinfo=None),\n",
        "            commit_dt=dtut.parse(dd.lastCommit.completed).replace(tzinfo=None),\n",
        "            commit_version=dd.lastCommit.commitName\n",
        "        )\n",
        "\n",
        "    @classmethod\n",
        "    async def get_from_id(cls, repository_id: str, full_auth: dmda.DomoFullAuth):\n",
        "        res = await sandbox_routes.get_repo_from_id(repository_id=repository_id, full_auth=full_auth)\n",
        "\n",
        "        if res.status == 404:\n",
        "            raise InvalidRepositoryError\n",
        "\n",
        "        return cls._from_json(res.response, full_auth=full_auth)\n",
        "\n",
        "    def convert_lineage_to_dataframe(self, return_raw: bool = False):\n",
        "        import pandas as pd\n",
        "        import re\n",
        "\n",
        "        flat_lineage_ls = self.lineage._flatten_lineage()\n",
        "\n",
        "        output_ls = [{'sandbox_id': self.id,\n",
        "                      'sandbox_name': self.name,\n",
        "                      'version': self.commit_version,\n",
        "                      'commit_dt': self.commit_dt,\n",
        "                      'last_updated_dt': self.last_updated_dt,\n",
        "                      'entity_type': row.get('entity_type'),\n",
        "                      'entity_id': row.get('entity_id')\n",
        "                      } for row in flat_lineage_ls]\n",
        "\n",
        "        if return_raw:\n",
        "            return output_ls\n",
        "\n",
        "        return pd.DataFrame(output_ls)"
      ]
    },
    {
      "cell_type": "code",
      "execution_count": null,
      "metadata": {},
      "outputs": [],
      "source": [
        "#| export\n",
        "@dataclass\n",
        "class DomoSandbox:\n",
        "\n",
        "    @classmethod\n",
        "    async def get_repositories(cls, full_auth):\n",
        "        res = await sandbox_routes.get_shared_repos(full_auth)\n",
        "\n",
        "        if res.status != 200:\n",
        "            return None\n",
        "\n",
        "        domo_repos = [DomoRepository._from_json(\n",
        "            obj, full_auth=full_auth) for obj in res.response.get('repositories')]\n",
        "\n",
        "        return domo_repos"
      ]
    }
  ],
  "metadata": {
    "jupytext": {
      "split_at_heading": true
    },
    "kernelspec": {
      "display_name": "Python 3",
      "language": "python",
      "name": "python3"
    }
  },
  "nbformat": 4,
  "nbformat_minor": 4
}
