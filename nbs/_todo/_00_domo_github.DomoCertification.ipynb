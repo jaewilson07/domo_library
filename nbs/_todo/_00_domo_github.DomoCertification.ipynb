{
 "cells": [
  {
   "cell_type": "raw",
   "metadata": {},
   "source": [
    "---\n",
    "description: Default description (change me)\n",
    "output-file: domo_github.domocertification.html\n",
    "title: Default Title (change me)\n",
    "\n",
    "---\n",
    "\n"
   ]
  },
  {
   "cell_type": "code",
   "execution_count": null,
   "metadata": {},
   "outputs": [],
   "source": [
    "# | default_exp domo_github.DomoCertification"
   ]
  },
  {
   "cell_type": "code",
   "execution_count": null,
   "metadata": {},
   "outputs": [],
   "source": [
    "# | export\n",
    "import datetime as dt\n",
    "from dataclasses import dataclass\n",
    "from enum import Enum\n",
    "\n",
    "from ..utils import convert as cd\n",
    "from ..utils.DictDot import DictDot"
   ]
  },
  {
   "cell_type": "code",
   "execution_count": null,
   "metadata": {},
   "outputs": [],
   "source": [
    "# | export\n",
    "class DomoCertificationState(Enum):\n",
    "    CERTIFIED = \"certified\""
   ]
  },
  {
   "cell_type": "code",
   "execution_count": null,
   "metadata": {},
   "outputs": [],
   "source": [
    "# | export\n",
    "@dataclass\n",
    "class DomoCertification:\n",
    "    certification_state: DomoCertificationState\n",
    "    last_updated: dt.datetime\n",
    "    certification_type: str\n",
    "    certification_name: str\n",
    "\n",
    "    @classmethod\n",
    "    def _from_json(cls, dd):\n",
    "        return cls(\n",
    "            certification_state=DomoCertificationState[dd.state].value or dd.state,\n",
    "            last_updated=cd.convert_epoch_millisecond_to_datetime(dd.lastUpdated),\n",
    "            certification_type=dd.processType,\n",
    "            certification_name=dd.processName,\n",
    "        )"
   ]
  }
 ],
 "metadata": {
  "jupytext": {
   "split_at_heading": true
  },
  "kernelspec": {
   "display_name": "Python 3",
   "language": "python",
   "name": "python3"
  },
  "language_info": {
   "name": "python",
   "version": "3.10.4 (main, Jan 18 2023, 00:26:41) [GCC 9.4.0]"
  },
  "vscode": {
   "interpreter": {
    "hash": "3ad933181bd8a04b432d3370b9dc3b0662ad032c4dfaa4e4f1596c548f763858"
   }
  }
 },
 "nbformat": 4,
 "nbformat_minor": 4
}
