{
 "cells": [
  {
   "cell_type": "raw",
   "metadata": {},
   "source": [
    "---\n",
    "output-file: utils.chunk_execution.html\n",
    "title: Async Code Execution \n",
    "description: utility functions for scaling code execution\n",
    "---"
   ]
  },
  {
   "cell_type": "code",
   "execution_count": null,
   "metadata": {},
   "outputs": [],
   "source": [
    "#| default_exp utils.chunk_execution"
   ]
  },
  {
   "cell_type": "code",
   "execution_count": null,
   "metadata": {},
   "outputs": [],
   "source": [
    "#| exporti\n",
    "from typing import Any, Awaitable\n",
    "import asyncio"
   ]
  },
  {
   "cell_type": "code",
   "execution_count": null,
   "metadata": {},
   "outputs": [],
   "source": [
    "# | export\n",
    "\n",
    "async def gather_with_concurrency(\n",
    "    *coros, # list of coroutines to await\n",
    "    n=60,  # number of open coroutines\n",
    "):\n",
    "    \"\"\"limits the number of open coroutines at a time.\n",
    "    \"\"\"\n",
    "\n",
    "    semaphore = asyncio.Semaphore(n)\n",
    "\n",
    "    async def sem_coro(coro):\n",
    "        async with semaphore:\n",
    "            return await coro\n",
    "    return await asyncio.gather(*(sem_coro(c) for c in coros))\n"
   ]
  },
  {
   "cell_type": "markdown",
   "metadata": {},
   "source": [
    "#### sample implementation of gather_with_concurrency"
   ]
  },
  {
   "cell_type": "code",
   "execution_count": null,
   "metadata": {},
   "outputs": [
    {
     "name": "stdout",
     "output_type": "stream",
     "text": [
      "2\n",
      "1\n",
      "0\n",
      "0\n",
      "3\n",
      "2\n",
      "2\n",
      "1\n",
      "3\n",
      "0\n",
      "1\n",
      "0\n",
      "0\n",
      "0\n",
      "3\n",
      "3\n",
      "2\n",
      "3\n",
      "2\n"
     ]
    },
    {
     "data": {
      "text/plain": [
       "[None,\n",
       " None,\n",
       " None,\n",
       " None,\n",
       " None,\n",
       " None,\n",
       " None,\n",
       " None,\n",
       " None,\n",
       " None,\n",
       " None,\n",
       " None,\n",
       " None,\n",
       " None,\n",
       " None,\n",
       " None,\n",
       " None,\n",
       " None,\n",
       " None]"
      ]
     },
     "execution_count": null,
     "metadata": {},
     "output_type": "execute_result"
    }
   ],
   "source": [
    "import random\n",
    "import asyncio\n",
    "\n",
    "async def sleeper(duration):\n",
    "    print(duration)\n",
    "    await asyncio.sleep(duration)\n",
    "\n",
    "await gather_with_concurrency(\n",
    "    *[sleeper(random.randint(0, 3)) for index in list(range(1, 20))],\n",
    "    n=5\n",
    ")\n"
   ]
  },
  {
   "cell_type": "code",
   "execution_count": null,
   "metadata": {},
   "outputs": [],
   "source": [
    "#| export\n",
    "async def run_sequence(*functions: Awaitable[Any] # comma separated list of functions\n",
    " ) -> None: # no explicit return\n",
    "    \"\"\"executes a sequence of functions\"\"\"\n",
    "\n",
    "    return [ await function for function in functions]\n",
    "        "
   ]
  },
  {
   "attachments": {},
   "cell_type": "markdown",
   "metadata": {},
   "source": [
    "#### Sample Implementation of run_sequence"
   ]
  },
  {
   "cell_type": "code",
   "execution_count": null,
   "metadata": {},
   "outputs": [
    {
     "name": "stdout",
     "output_type": "stream",
     "text": [
      "running t1\n",
      "done running t1\n",
      "running t2 next\n",
      "done running t2\n",
      "running t3 next\n",
      "done running t3\n"
     ]
    },
    {
     "data": {
      "text/plain": [
       "[None, None, None]"
      ]
     },
     "execution_count": null,
     "metadata": {},
     "output_type": "execute_result"
    }
   ],
   "source": [
    "import asyncio\n",
    "\n",
    "async def t1():\n",
    "    print('running t1')\n",
    "    await asyncio.sleep(1)\n",
    "    print(\"done running t1\")\n",
    "\n",
    "async def t2():\n",
    "    print('running t2 next')\n",
    "    await asyncio.sleep(3)\n",
    "    print(\"done running t2\")\n",
    "\n",
    "async def t3():\n",
    "    print('running t3 next')\n",
    "    await asyncio.sleep(2)\n",
    "    print(\"done running t3\")\n",
    "\n",
    "\n",
    "await_ls = [t1(),t2(),t3()]\n",
    "\n",
    "await run_sequence(*await_ls)\n",
    "\n",
    "# run_sequence uses the same syntax as asyncio.gather().  the following code sample is the same\n",
    "# await run_sequence( t1(),t2(),t3())\n",
    "\n",
    "# run_sequence forces sequential code execution as opposed to asyncio.gather\n",
    "# await asyncio.gather(*await_ls)\n",
    "\n",
    "\n"
   ]
  },
  {
   "cell_type": "code",
   "execution_count": null,
   "metadata": {},
   "outputs": [],
   "source": [
    "# | export\n",
    "def chunk_list(obj_ls :list[any],  # list of entities to split into n chunks\n",
    "               chunk_size:int  # entities per sub list\n",
    "               ) -> list[list[dict]]:  # returns a list of chunk_size lists of objects\n",
    "\n",
    "    return [obj_ls[i * chunk_size:(i + 1) * chunk_size] for i in range((len(obj_ls) + chunk_size - 1) // chunk_size)]\n"
   ]
  },
  {
   "attachments": {},
   "cell_type": "markdown",
   "metadata": {},
   "source": [
    "#### sample implementation of chunk_list"
   ]
  },
  {
   "cell_type": "code",
   "execution_count": null,
   "metadata": {},
   "outputs": [
    {
     "data": {
      "text/plain": [
       "[[0, 1, 2, 3, 4, 5],\n",
       " [6, 7, 8, 9, 10, 11],\n",
       " [12, 13, 14, 15, 16, 17],\n",
       " [18, 19, 20, 21, 22, 23],\n",
       " [24, 25, 26, 27, 28, 29],\n",
       " [30, 31, 32, 33, 34, 35],\n",
       " [36, 37, 38, 39, 40, 41],\n",
       " [42, 43, 44, 45, 46, 47],\n",
       " [48, 49]]"
      ]
     },
     "execution_count": null,
     "metadata": {},
     "output_type": "execute_result"
    }
   ],
   "source": [
    "num_ls = list(range(50))\n",
    "\n",
    "# each list contains six elements\n",
    "chunk_list(num_ls, 6)"
   ]
  },
  {
   "cell_type": "code",
   "execution_count": null,
   "metadata": {},
   "outputs": [],
   "source": [
    "# #| export\n",
    "# async def chunk_fn(chunk, api_fun, idx, sleep_time, session, list_id):\n",
    "#     print(f'sleeping {idx} and {len(chunk)}')\n",
    "\n",
    "#     res = await asyncio.gather(*[api_fun(row=row, session=session, list_id=list_id) for row in chunk])\n",
    "\n",
    "#     await asyncio.sleep(sleep_time)\n",
    "#     print(f'end_sleep {idx}')\n",
    "#     return res\n",
    "\n",
    "\n",
    "# #| export\n",
    "# async def api_request_in_chunks(full_list, api_fn, api_limit_size, list_id, sleep_time=10):\n",
    "#     chunked_list = chunk_list(tlist=full_list, chunk_size=api_limit_size)\n",
    "#     session = httpx.AsyncClient(request_class=OAuthRequest)\n",
    "#     res = await run_sequence(\n",
    "#         *[chunk_fn(chunk, api_fn, idx, sleep_time=sleep_time, session=session, list_id=list_id) for idx, chunk in\n",
    "#           enumerate(chunked_list)])\n",
    "#     await session.aclose()\n",
    "#     return res"
   ]
  },
  {
   "cell_type": "code",
   "execution_count": null,
   "metadata": {},
   "outputs": [],
   "source": [
    "#| hide\n",
    "import nbdev\n",
    "\n",
    "nbdev.nbdev_export()"
   ]
  }
 ],
 "metadata": {
  "jupytext": {
   "split_at_heading": true
  },
  "kernelspec": {
   "display_name": "python3",
   "language": "python",
   "name": "python3"
  }
 },
 "nbformat": 4,
 "nbformat_minor": 4
}
