{
 "cells": [
  {
   "cell_type": "raw",
   "metadata": {},
   "source": [
    "---\n",
    "description: wrapper for the python-dotenv library that reads creds into a .env file.\n",
    "output-file: utils.read_creds_from_dotenv.html\n",
    "title: Read Creds from DotEnv\n",
    "---"
   ]
  },
  {
   "cell_type": "code",
   "execution_count": 1,
   "metadata": {},
   "outputs": [],
   "source": [
    "#| default_exp utils.read_creds_from_dotenv"
   ]
  },
  {
   "cell_type": "code",
   "execution_count": 2,
   "metadata": {},
   "outputs": [],
   "source": [
    "#| exporti\n",
    "import os\n",
    "\n",
    "from dotenv import load_dotenv\n",
    "\n",
    "import domolibrary.utils.DictDot as utils_dd"
   ]
  },
  {
   "cell_type": "code",
   "execution_count": 3,
   "metadata": {},
   "outputs": [],
   "source": [
    "#| export\n",
    "class ReadCreds_EnvFileNotExist(Exception):\n",
    "    def __init__(self, env_path):\n",
    "        message = f\"file not found at -- {env_path}\"\n",
    "        super().__init__(message)\n",
    "\n",
    "def read_creds_from_dotenv(env_path: str = '.env',\n",
    "                           params: list[str] = None # list of params you're expecting in the env file,\n",
    "                           ) -> utils_dd.DictDot:\n",
    "    \"\"\"use_prod = false will replace all PROD values with matching TEST values\"\"\"\n",
    "\n",
    "    file_exists = os.path.exists(env_path)\n",
    "\n",
    "    if not file_exists:    \n",
    "        raise ReadCreds_EnvFileNotExist(env_path)\n",
    "\n",
    "    load_dotenv(env_path)\n",
    "    params = params or list(os.environ.keys())\n",
    "\n",
    "    params_res = {}\n",
    "    for param in params:\n",
    "        param = str(param)\n",
    "        params_res.update({param: os.environ.get(param)})\n",
    "\n",
    "    return utils_dd.DictDot(params_res)"
   ]
  },
  {
   "attachments": {},
   "cell_type": "markdown",
   "metadata": {},
   "source": [
    "#### sample implementation of read creds"
   ]
  },
  {
   "cell_type": "code",
   "execution_count": 4,
   "metadata": {},
   "outputs": [],
   "source": [
    "# import json\n",
    "\n",
    "# TEST_ENV_PATH = '_test_env.txt'\n",
    "\n",
    "# params = [\"APPLICATION_ID\", \"DATASET_ID\", \"ACCOUNT_ID\", \"SAMPLE_ARRAY\"]\n",
    "\n",
    "# env = read_creds_from_dotenv(TEST_ENV_PATH, params = params)\n",
    "\n",
    "# print(env)\n",
    "# print(json.loads(env.SAMPLE_ARRAY))\n",
    "\n"
   ]
  },
  {
   "cell_type": "code",
   "execution_count": 5,
   "metadata": {},
   "outputs": [],
   "source": [
    "# # | export\n",
    "# def split_creds(env: utils_dd.DictDot, key_starts_with: str, env_var_list: list[str]):\n",
    "#     env_lines_to_split = [getattr(env, key) for key in dir(\n",
    "#         env) if key.startswith(key_starts_with)]\n",
    "\n",
    "#     return [utils_dd.split_str_to_obj(env_string=line, value_split_keys=env_var_list) for line in env_lines_to_split]"
   ]
  },
  {
   "cell_type": "code",
   "execution_count": 6,
   "metadata": {},
   "outputs": [],
   "source": [
    "#| hide\n",
    "import nbdev\n",
    "nbdev.nbdev_export()"
   ]
  }
 ],
 "metadata": {
  "jupytext": {
   "split_at_heading": true
  },
  "kernelspec": {
   "display_name": "python3",
   "language": "python",
   "name": "python3"
  },
  "language_info": {
   "codemirror_mode": {
    "name": "ipython",
    "version": 3
   },
   "file_extension": ".py",
   "mimetype": "text/x-python",
   "name": "python",
   "nbconvert_exporter": "python",
   "pygments_lexer": "ipython3",
   "version": "3.10.8"
  }
 },
 "nbformat": 4,
 "nbformat_minor": 4
}
