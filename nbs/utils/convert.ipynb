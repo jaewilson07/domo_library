{
 "cells": [
  {
   "attachments": {},
   "cell_type": "markdown",
   "metadata": {},
   "source": [
    "# Conversion utility functions"
   ]
  },
  {
   "cell_type": "code",
   "execution_count": null,
   "metadata": {},
   "outputs": [],
   "source": [
    "#| default_exp utils.convert"
   ]
  },
  {
   "cell_type": "code",
   "execution_count": null,
   "metadata": {},
   "outputs": [],
   "source": [
    "#| exporti\n",
    "import datetime as dt\n",
    "import pandas as pd"
   ]
  },
  {
   "cell_type": "code",
   "execution_count": null,
   "metadata": {},
   "outputs": [],
   "source": [
    "#| hide\n",
    "import fastcore.test as fctest"
   ]
  },
  {
   "attachments": {},
   "cell_type": "markdown",
   "metadata": {},
   "source": [
    "# Date related Functions"
   ]
  },
  {
   "cell_type": "code",
   "execution_count": null,
   "metadata": {},
   "outputs": [],
   "source": [
    "#| export\n",
    "def convert_epoch_millisecond_to_datetime(epoch: int):\n",
    "    '''convert Epoch time with miliseconds to Date time'''\n",
    "    return if epoch then dt.datetime.fromtimestamp(epoch / 1000.0) else None"
   ]
  },
  {
   "cell_type": "code",
   "execution_count": null,
   "metadata": {},
   "outputs": [],
   "source": [
    "#| export\n",
    "def convert_datetime_to_epoch_millisecond(datetime: dt.datetime):\n",
    "    '''convert DateTime to Epoch time with Miliseconds'''\n",
    "    return if datetime int(datetime.timestamp() * 1000) else none"
   ]
  },
  {
   "attachments": {},
   "cell_type": "markdown",
   "metadata": {},
   "source": [
    "#### sample implementations of convert_datetime"
   ]
  },
  {
   "cell_type": "code",
   "execution_count": null,
   "metadata": {},
   "outputs": [
    {
     "name": "stdout",
     "output_type": "stream",
     "text": [
      "2023-02-15 20:25:00.986000\n",
      "1676492700986\n"
     ]
    }
   ],
   "source": [
    "import time\n",
    "import datetime as dt \n",
    "\n",
    "cur_time = int(time.time()*1000)\n",
    "\n",
    "cur_datetime =  convert_epoch_millisecond_to_datetime(cur_time)\n",
    "print(cur_datetime)\n",
    "\n",
    "test_time = convert_datetime_to_epoch_millisecond(cur_datetime)\n",
    "print(test_time)\n",
    "\n",
    "fctest.test_eq(test_time, cur_time)"
   ]
  },
  {
   "attachments": {},
   "cell_type": "markdown",
   "metadata": {},
   "source": [
    "# Text related Functions"
   ]
  },
  {
   "cell_type": "code",
   "execution_count": null,
   "metadata": {},
   "outputs": [],
   "source": [
    "#| export\n",
    "def convert_snake_to_pascal(clean_str):\n",
    "    \"\"\"converts 'snake_case_str' to 'snakeCaseStr'\"\"\"\n",
    "    \n",
    "    clean_str = clean_str.replace(\"_\", \" \").title().replace(\" \", \"\")\n",
    "    return clean_str[0].lower()+clean_str[1:]"
   ]
  },
  {
   "attachments": {},
   "cell_type": "markdown",
   "metadata": {},
   "source": [
    "#### sample implementation of convert_snake_case_to_pascal"
   ]
  },
  {
   "cell_type": "code",
   "execution_count": null,
   "metadata": {},
   "outputs": [
    {
     "data": {
      "text/plain": [
       "'testSnakeCase'"
      ]
     },
     "execution_count": null,
     "metadata": {},
     "output_type": "execute_result"
    }
   ],
   "source": [
    "convert_str = 'test_snake_case'\n",
    "\n",
    "convert_snake_to_pascal(convert_str)"
   ]
  },
  {
   "attachments": {},
   "cell_type": "markdown",
   "metadata": {},
   "source": [
    "# DataFrame Conversion"
   ]
  },
  {
   "cell_type": "code",
   "execution_count": null,
   "metadata": {},
   "outputs": [],
   "source": [
    "#| export\n",
    "class ConcatDataframe_InvalidElement(Exception):\n",
    "    def __init__(self, elem):\n",
    "        message = f\"{type(elem)} passed into dataframe\"\n",
    "        super().__init__(message)\n",
    "\n",
    "def concat_list_dataframe(df_ls : list[pd.DataFrame]) -> pd.DataFrame:\n",
    "    \"\"\"take a list of dataframes and collapse into one dataframe\"\"\"\n",
    "\n",
    "    df = None\n",
    "    for elem in df_ls:\n",
    "        if not isinstance(elem, pd.DataFrame):\n",
    "            raise ConcatDataframe_InvalidElement(elem)\n",
    "        \n",
    "        if len(elem.index) == 0:\n",
    "            pass\n",
    "        \n",
    "        if df is None:\n",
    "            df = elem\n",
    "\n",
    "        else:\n",
    "            df = pd.concat([df, elem], join = 'inner').reset_index(drop = True)\n",
    "    return df"
   ]
  },
  {
   "cell_type": "code",
   "execution_count": null,
   "metadata": {},
   "outputs": [
    {
     "data": {
      "text/html": [
       "<div>\n",
       "<style scoped>\n",
       "    .dataframe tbody tr th:only-of-type {\n",
       "        vertical-align: middle;\n",
       "    }\n",
       "\n",
       "    .dataframe tbody tr th {\n",
       "        vertical-align: top;\n",
       "    }\n",
       "\n",
       "    .dataframe thead th {\n",
       "        text-align: right;\n",
       "    }\n",
       "</style>\n",
       "<table border=\"1\" class=\"dataframe\">\n",
       "  <thead>\n",
       "    <tr style=\"text-align: right;\">\n",
       "      <th></th>\n",
       "      <th>col_a</th>\n",
       "      <th>col_b</th>\n",
       "      <th>col_c</th>\n",
       "    </tr>\n",
       "  </thead>\n",
       "  <tbody>\n",
       "    <tr>\n",
       "      <th>0</th>\n",
       "      <td>a</td>\n",
       "      <td>b</td>\n",
       "      <td>c</td>\n",
       "    </tr>\n",
       "    <tr>\n",
       "      <th>1</th>\n",
       "      <td>a</td>\n",
       "      <td>b</td>\n",
       "      <td>c</td>\n",
       "    </tr>\n",
       "    <tr>\n",
       "      <th>2</th>\n",
       "      <td>a</td>\n",
       "      <td>b</td>\n",
       "      <td>c</td>\n",
       "    </tr>\n",
       "  </tbody>\n",
       "</table>\n",
       "</div>"
      ],
      "text/plain": [
       "  col_a col_b col_c\n",
       "0     a     b     c\n",
       "1     a     b     c\n",
       "2     a     b     c"
      ]
     },
     "execution_count": null,
     "metadata": {},
     "output_type": "execute_result"
    }
   ],
   "source": [
    "df = pd.DataFrame([{\"col_a\" : \"a\", \"col_b\": \"b\", \"col_c\": \"c\"}])\n",
    "\n",
    "df_ls = [ df, df, df] \n",
    "\n",
    "concat_list_dataframe(df_ls)"
   ]
  },
  {
   "cell_type": "code",
   "execution_count": null,
   "metadata": {},
   "outputs": [],
   "source": [
    "# | hide\n",
    "import nbdev\n",
    "\n",
    "nbdev.nbdev_export()\n"
   ]
  }
 ],
 "metadata": {
  "jupytext": {
   "split_at_heading": true
  },
  "kernelspec": {
   "display_name": "python3",
   "language": "python",
   "name": "python3"
  }
 },
 "nbformat": 4,
 "nbformat_minor": 4
}
