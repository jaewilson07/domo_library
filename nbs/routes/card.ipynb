{
 "cells": [
  {
   "cell_type": "raw",
   "metadata": {},
   "source": [
    "---\n",
    "output-file: card_routes.html\n",
    "title: Card Routes\n",
    "---"
   ]
  },
  {
   "cell_type": "code",
   "execution_count": null,
   "metadata": {},
   "outputs": [],
   "source": [
    "#| default_exp routes.card"
   ]
  },
  {
   "cell_type": "code",
   "execution_count": null,
   "metadata": {},
   "outputs": [],
   "source": [
    "# | exporti\n",
    "from typing import Optional\n",
    "\n",
    "import io\n",
    "import pandas as pd\n",
    "\n",
    "import httpx\n",
    "\n",
    "import domolibrary.client.get_data as gd\n",
    "import domolibrary.client.ResponseGetData as rgd\n",
    "import domolibrary.client.DomoAuth as dmda\n",
    "import domolibrary.client.DomoError as de\n"
   ]
  },
  {
   "cell_type": "code",
   "execution_count": null,
   "metadata": {},
   "outputs": [],
   "source": [
    "#| export\n",
    "class CardSearch_NotFoundError(de.DomoError):\n",
    "    def __init__(self, card_id,\n",
    "                 domo_instance, \n",
    "                 function_name,status,\n",
    "                  message = None,\n",
    "                 ):\n",
    "        super().__init__(status=status,\n",
    "                         message=f\"card {card_id} not found\", domo_instance=domo_instance, function_name=function_name)\n"
   ]
  },
  {
   "cell_type": "code",
   "execution_count": null,
   "metadata": {},
   "outputs": [],
   "source": [
    "# | export\n",
    "async def get_kpi_definition(auth: dmda.DomoAuth, card_id: str, debug_api: bool = False) -> rgd.ResponseGetData:\n",
    "\n",
    "    url = f\"https://{auth.domo_instance}.domo.com/api/content/v3/cards/kpi/definition\"\n",
    "\n",
    "    body = {\"urn\": card_id}\n",
    "\n",
    "    res = await gd.get_data(\n",
    "        auth=auth,\n",
    "        url=url,\n",
    "        method='PUT',\n",
    "        body=body,\n",
    "        debug_api=False\n",
    "    )\n",
    "\n",
    "    if not res.is_success and res.response == 'Not Found':\n",
    "        raise CardSearch_NotFoundError(card_id=card_id,\n",
    "                                       status=res.status,\n",
    "                                       domo_instance=auth.domo_instance, \n",
    "                                       function_name='get_kpi_definition')\n",
    "\n",
    "    return res\n"
   ]
  },
  {
   "cell_type": "markdown",
   "metadata": {},
   "source": [
    "#### sample implementation of get_card_kpi"
   ]
  },
  {
   "cell_type": "code",
   "execution_count": null,
   "metadata": {},
   "outputs": [
    {
     "data": {
      "text/plain": [
       "ResponseGetData(status=200, response={'id': 1766265020, 'urn': '1766265020', 'definition': {'subscriptions': {'big_number': {'name': 'big_number', 'columns': [{'column': 'Amount', 'aggregation': 'SUM', 'alias': 'Sum of Amount', 'format': {'type': 'abbreviated', 'format': '#'}}], 'filters': [], 'orderBy': [], 'groupBy': [], 'fiscal': False, 'projection': False, 'distinct': False, 'limit': 1}, 'main': {'name': 'main', 'columns': [{'column': 'Date', 'calendar': True, 'mapping': 'ITEM'}, {'column': 'Amount', 'aggregation': 'SUM', 'mapping': 'VALUE'}, {'column': 'Vendor', 'mapping': 'SERIES'}], 'filters': [], 'dateGrain': {'column': 'Date', 'dateTimeElement': 'DAY'}, 'orderBy': [], 'groupBy': [{'column': 'Vendor'}, {'column': 'Date', 'calendar': True}], 'fiscal': False, 'projection': False, 'distinct': False}}, 'formulas': [], 'conditionalFormats': [], 'annotations': [], 'slicers': [], 'title': 'Vendor Amounts Dates', 'description': '', 'chartVersion': '10', 'charts': {'main': {'component': 'main', 'chartType': 'badge_vert_stackedbar', 'overrides': {}, 'goal': None}}, 'allowTableDrill': True, 'segments': {'active': [], 'definitions': []}, 'modified': 1603811241000}, 'columns': [{'id': 'Date', 'name': 'Date', 'type': 'date', 'isCalculation': False, 'isAggregatable': True, 'isEncrypted': False, 'hidden': False, 'order': 0, 'sourceId': 'fd70d83b-38dc-40a2-9349-357ec4321d3e'}, {'id': 'Vendor', 'name': 'Vendor', 'type': 'string', 'isCalculation': False, 'isAggregatable': True, 'isEncrypted': False, 'hidden': False, 'order': 0, 'sourceId': 'fd70d83b-38dc-40a2-9349-357ec4321d3e'}, {'id': 'Amount', 'name': 'Amount', 'type': 'numeric', 'isCalculation': False, 'isAggregatable': True, 'isEncrypted': False, 'hidden': False, 'order': 0, 'sourceId': 'fd70d83b-38dc-40a2-9349-357ec4321d3e'}], 'drillpath': [], 'embedded': False, 'dataSourceWrite': True}, is_success=True)"
      ]
     },
     "execution_count": null,
     "metadata": {},
     "output_type": "execute_result"
    }
   ],
   "source": [
    "import os \n",
    "\n",
    "token_auth = dmda.DomoTokenAuth(\n",
    "    domo_instance=\"domo-community\",\n",
    "    domo_access_token=os.environ[\"DOMO_DOJO_ACCESS_TOKEN\"],\n",
    ")\n",
    "\n",
    "card_id = 1766265020\n",
    "await get_kpi_definition(card_id = card_id, auth = token_auth)"
   ]
  },
  {
   "cell_type": "code",
   "execution_count": null,
   "metadata": {},
   "outputs": [],
   "source": [
    "#| export\n",
    "async def get_card_metadata(auth: dmda.DomoAuth, card_id: str, debug_api: bool = False) -> rgd.ResponseGetData:\n",
    "    optional_params = \"metadata,certification,datasources,owners,problems\"\n",
    "    url = f\"https://{auth.domo_instance}.domo.com/api/content/v1/cards?urns={card_id}&parts={optional_params}\"\n",
    "\n",
    "    res = await gd.get_data(\n",
    "        auth=auth,\n",
    "        url=url,\n",
    "        method='GET',\n",
    "        debug_api=debug_api\n",
    "    )\n",
    "\n",
    "    if res.is_success and len( res.response) == 0:\n",
    "        raise CardSearch_NotFoundError(card_id=card_id,\n",
    "                                       status=res.status,\n",
    "                                       domo_instance=auth.domo_instance,\n",
    "                                       function_name='get_kpi_definition')\n",
    "\n",
    "    res.response = res.response[0]\n",
    "\n",
    "    return res"
   ]
  },
  {
   "attachments": {},
   "cell_type": "markdown",
   "metadata": {},
   "source": [
    "#### sample implementation of get_card_metadata"
   ]
  },
  {
   "cell_type": "code",
   "execution_count": null,
   "metadata": {},
   "outputs": [
    {
     "name": "stdout",
     "output_type": "stream",
     "text": [
      "ResponseGetData(status=200, response={'metadata': {'chartType': 'badge_vert_stackedbar', 'chartVersion': '7', 'currentLabel': 'Sum of Amount', 'historyId': 'b9e50cd4-19c8-44f2-a44c-6c72bd432125', 'allTime': '{\"groupName\":\"Other\",\"name\":\"DEFAULT\",\"type\":\"Other\",\"selected\":true,\"estimatedSeconds\":-1,\"dateLabel\":\"\",\"column\":\"Date\"}', 'calendar': 'default', 'columnAliases': '{}', 'columnFormats': '{}', 'defaultDateGrain': 'Day', 'SummaryNumberFormat': '{\"type\":\"number\",\"format\":\"#A\"}'}, 'owners': [{'id': '1893952720', 'type': 'USER', 'displayName': 'Jae Wilson1'}], 'datasources': [{'dataSourceId': 'fd70d83b-38dc-40a2-9349-357ec4321d3e', 'dataSourceName': 'Vendor Amounts Dates', 'displayType': 'webform', 'dataType': 'webform', 'providerType': 'webform', 'isSampleData': False, 'lastUpdated': 1603767029732, 'adc': False, 'phase': None, 'state': 'SUCCESS'}], 'certification': {'state': 'NOT_CERTIFIED', 'adminCertified': False}, 'urn': '1766265020', 'id': 1766265020, 'type': 'kpi', 'created': 1603811235, 'badgeUpdated': 1603811241000, 'creatorId': 1893952720, 'ownerId': 1893952720, 'description': '', 'title': 'Vendor Amounts Dates', 'active': True, 'allowTableDrill': True, 'locked': False, 'isCurrentUserOwner': True}, is_success=True)\n"
     ]
    }
   ],
   "source": [
    "import os\n",
    "\n",
    "token_auth = dmda.DomoTokenAuth(\n",
    "    domo_instance=\"domo-community\",\n",
    "    domo_access_token=os.environ[\"DOMO_DOJO_ACCESS_TOKEN\"],\n",
    ")\n",
    "\n",
    "card_id = 1766265020\n",
    "res = await get_card_metadata(card_id=card_id, auth=token_auth)\n",
    "\n",
    "print(res)"
   ]
  },
  {
   "cell_type": "code",
   "execution_count": null,
   "metadata": {},
   "outputs": [],
   "source": [
    "#| export\n",
    "def generate_body_search_cards_admin_summary(page_ids: [str] = None,\n",
    "                                             searchPages: bool = True,\n",
    "                                             cardSearchText: str = '',\n",
    "                                             pageSearchText: str = '') -> dict:\n",
    "    body = {\n",
    "        \"ascending\": True,\n",
    "        \"orderBy\": \"cardTitle\"\n",
    "    }\n",
    "\n",
    "    if cardSearchText:\n",
    "        body.update({'cardTitleSearchText': cardSearchText, \"includeCardTitleClause\": True })\n",
    "\n",
    "    if pageSearchText:\n",
    "        body.update({'pageTitleSearchText': pageSearchText, \"includePageTitleClause\": True, \"notOnPage\": False})\n",
    "\n",
    "    if page_ids:\n",
    "        body.update({'pageIds': page_ids})\n",
    "\n",
    "    return body"
   ]
  },
  {
   "cell_type": "code",
   "execution_count": null,
   "metadata": {},
   "outputs": [],
   "source": [
    "# | export\n",
    "async def search_cards_admin_summary(auth: dmda.DomoAuth,\n",
    "                                     body: dict,\n",
    "                                     maximum :int = None,\n",
    "                                     debug_api: bool = False,\n",
    "                                     debug_loop: bool = False,\n",
    "                                     session : httpx.AsyncClient  = None,\n",
    "                                     wait_sleep: int = 3\n",
    "\n",
    "                                     ) -> rgd.ResponseGetData:\n",
    "\n",
    "    limit = 100\n",
    "    offset = 0\n",
    "    loop_until_end = False if maximum else True\n",
    "\n",
    "    url = f'https://{auth.domo_instance}.domo.com/api/content/v2/cards/adminsummary?skip={offset}&limit={limit}'\n",
    "    \n",
    "    offset_params = {\n",
    "        \"offset\": \"skip\",\n",
    "        \"limit\": \"limit\",\n",
    "    }\n",
    "\n",
    "    def arr_fn(res):\n",
    "        return res.response.get('cardAdminSummaries')\n",
    "\n",
    "    res = await gd.looper(\n",
    "        auth=auth,\n",
    "        method=\"POST\",\n",
    "        url=url,\n",
    "        arr_fn=arr_fn,\n",
    "        offset_params=offset_params,\n",
    "        limit=limit,\n",
    "        skip=offset,\n",
    "        body = body,\n",
    "        maximum = maximum,\n",
    "        session=session,\n",
    "        debug_api=debug_api,\n",
    "        debug_loop=debug_loop,\n",
    "        loop_until_end=loop_until_end,\n",
    "        wait_sleep=wait_sleep\n",
    "    )\n",
    "    return res\n"
   ]
  },
  {
   "attachments": {},
   "cell_type": "markdown",
   "metadata": {},
   "source": [
    "#### sample implementation of search_cards_admin_summary"
   ]
  },
  {
   "cell_type": "code",
   "execution_count": null,
   "metadata": {},
   "outputs": [
    {
     "name": "stdout",
     "output_type": "stream",
     "text": [
      "{'ascending': True, 'orderBy': 'cardTitle'}\n"
     ]
    },
    {
     "data": {
      "text/plain": [
       "[{'owners': [{'id': '722128535',\n",
       "    'type': 'USER',\n",
       "    'displayName': 'Miguel Guedes'}],\n",
       "  'id': 332819959,\n",
       "  'type': 'kpi',\n",
       "  'badgeUpdated': 1632747565000,\n",
       "  'title': ' Forecast-Sales_MG',\n",
       "  'locked': False,\n",
       "  'pageHierarchy': [{'pageId': -100000, 'title': 'Overview'}]},\n",
       " {'owners': [{'id': '1251168784',\n",
       "    'type': 'USER',\n",
       "    'displayName': 'Andre Wieczorkiewicz'}],\n",
       "  'id': 231472916,\n",
       "  'type': 'kpi',\n",
       "  'badgeUpdated': 1620397890000,\n",
       "  'title': '# Active Users',\n",
       "  'locked': False,\n",
       "  'pageHierarchy': [{'pageId': 155942344, 'title': 'Copy of Data Stories'}]},\n",
       " {'owners': [{'id': '1251168784',\n",
       "    'type': 'USER',\n",
       "    'displayName': 'Andre Wieczorkiewicz'}],\n",
       "  'id': 1025952623,\n",
       "  'type': 'kpi',\n",
       "  'badgeUpdated': 1620630492000,\n",
       "  'title': '# Active Users',\n",
       "  'locked': False,\n",
       "  'pageHierarchy': [{'pageId': 155942344, 'title': 'Copy of Data Stories'}]},\n",
       " {'owners': [{'id': '1251168784',\n",
       "    'type': 'USER',\n",
       "    'displayName': 'Andre Wieczorkiewicz'}],\n",
       "  'id': 391084879,\n",
       "  'type': 'kpi',\n",
       "  'badgeUpdated': 1620397851000,\n",
       "  'title': '# Active Users Today',\n",
       "  'locked': False,\n",
       "  'pageHierarchy': [{'pageId': 155942344, 'title': 'Copy of Data Stories'}]},\n",
       " {'owners': [{'id': '694942127',\n",
       "    'type': 'USER',\n",
       "    'displayName': 'Chris Wright'}],\n",
       "  'id': 98709911,\n",
       "  'type': 'kpi',\n",
       "  'badgeUpdated': 1662482842000,\n",
       "  'title': '% Difference',\n",
       "  'locked': False,\n",
       "  'pageHierarchy': [{'pageId': 1259972092,\n",
       "    'title': 'Copy of Domo Variables Use Cases'},\n",
       "   {'pageId': 1880852133, 'title': 'Domo Variables Use Cases'}]}]"
      ]
     },
     "execution_count": null,
     "metadata": {},
     "output_type": "execute_result"
    }
   ],
   "source": [
    "import os\n",
    "\n",
    "token_auth = dmda.DomoTokenAuth(\n",
    "    domo_instance=\"domo-community\",\n",
    "    domo_access_token=os.environ[\"DOMO_DOJO_ACCESS_TOKEN\"],\n",
    ")\n",
    "\n",
    "body = generate_body_search_cards_admin_summary()\n",
    "\n",
    "print(body)\n",
    "\n",
    "card_id = 1766265020\n",
    "res = await search_cards_admin_summary(body=body, maximum=5,\n",
    "                                       auth=token_auth, debug_api=False,\n",
    "                                       debug_loop=False, wait_sleep=5)\n",
    "\n",
    "res.response[0:5]\n"
   ]
  },
  {
   "cell_type": "code",
   "execution_count": null,
   "metadata": {},
   "outputs": [],
   "source": [
    "#| hide\n",
    "import nbdev\n",
    "nbdev.nbdev_export()\n"
   ]
  }
 ],
 "metadata": {
  "jupytext": {
   "split_at_heading": true
  },
  "kernelspec": {
   "display_name": "python3",
   "language": "python",
   "name": "python3"
  }
 },
 "nbformat": 4,
 "nbformat_minor": 4
}
