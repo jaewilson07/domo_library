{
  "cells": [
    {
      "cell_type": "raw",
      "metadata": {},
      "source": [
        "---\n",
        "\n",
        "output-file: routes.card_routes.html\n",
        "title: Card Routes\n",
        "\n",
        "---\n",
        "\n"
      ]
    },
    {
      "cell_type": "code",
      "execution_count": 1,
      "metadata": {},
      "outputs": [],
      "source": [
        "#| default_exp routes.card"
      ]
    },
    {
      "cell_type": "code",
      "execution_count": 2,
      "metadata": {},
      "outputs": [],
      "source": [
        "# | exporti\n",
        "from typing import Optional\n",
        "\n",
        "import io\n",
        "import pandas as pd\n",
        "\n",
        "import httpx\n",
        "\n",
        "import domolibrary.client.get_data as gd\n",
        "import domolibrary.client.ResponseGetData as rgd\n",
        "import domolibrary.client.DomoAuth as dmda\n"
      ]
    },
    {
      "cell_type": "code",
      "execution_count": 3,
      "metadata": {},
      "outputs": [],
      "source": [
        "#| export\n",
        "async def get_kpi_definition(auth: dmda.DomoAuth, card_id: str, debug_api: bool = False) -> rgd.ResponseGetData:\n",
        "    \n",
        "    url = f\"https://{auth.domo_instance}.domo.com/api/content/v3/cards/kpi/definition\"\n",
        "\n",
        "    body = {\"urn\": card_id}\n",
        "\n",
        "    res = await gd.get_data(\n",
        "        auth=auth,\n",
        "        url=url,\n",
        "        method='PUT',\n",
        "        body=body,\n",
        "        debug_api=False\n",
        "    )\n",
        "\n",
        "    return res"
      ]
    },
    {
      "cell_type": "markdown",
      "metadata": {},
      "source": [
        "#### sample implementation of get_card_kpi"
      ]
    },
    {
      "cell_type": "code",
      "execution_count": 4,
      "metadata": {},
      "outputs": [
        {
          "data": {
            "text/plain": [
              "ResponseGetData(status=200, response={'id': 1766265020, 'urn': '1766265020', 'definition': {'subscriptions': {'big_number': {'name': 'big_number', 'columns': [{'column': 'Amount', 'aggregation': 'SUM', 'alias': 'Sum of Amount', 'format': {'type': 'abbreviated', 'format': '#'}}], 'filters': [], 'orderBy': [], 'groupBy': [], 'fiscal': False, 'projection': False, 'distinct': False, 'limit': 1}, 'main': {'name': 'main', 'columns': [{'column': 'Date', 'calendar': True, 'mapping': 'ITEM'}, {'column': 'Amount', 'aggregation': 'SUM', 'mapping': 'VALUE'}, {'column': 'Vendor', 'mapping': 'SERIES'}], 'filters': [], 'dateGrain': {'column': 'Date', 'dateTimeElement': 'DAY'}, 'orderBy': [], 'groupBy': [{'column': 'Vendor'}, {'column': 'Date', 'calendar': True}], 'fiscal': False, 'projection': False, 'distinct': False}}, 'formulas': [], 'conditionalFormats': [], 'annotations': [], 'slicers': [], 'title': 'Vendor Amounts Dates', 'description': '', 'chartVersion': '9', 'charts': {'main': {'component': 'main', 'chartType': 'badge_vert_stackedbar', 'overrides': {}, 'goal': None}}, 'allowTableDrill': True, 'segments': {'active': [], 'definitions': []}, 'modified': 1603811241000}, 'columns': [{'id': 'Date', 'name': 'Date', 'type': 'date', 'isCalculation': False, 'isAggregatable': True, 'isEncrypted': False, 'hidden': False, 'order': 0, 'sourceId': 'fd70d83b-38dc-40a2-9349-357ec4321d3e'}, {'id': 'Vendor', 'name': 'Vendor', 'type': 'string', 'isCalculation': False, 'isAggregatable': True, 'isEncrypted': False, 'hidden': False, 'order': 0, 'sourceId': 'fd70d83b-38dc-40a2-9349-357ec4321d3e'}, {'id': 'Amount', 'name': 'Amount', 'type': 'numeric', 'isCalculation': False, 'isAggregatable': True, 'isEncrypted': False, 'hidden': False, 'order': 0, 'sourceId': 'fd70d83b-38dc-40a2-9349-357ec4321d3e'}], 'drillpath': [], 'embedded': False, 'dataSourceWrite': True}, is_success=True)"
            ]
          },
          "execution_count": 4,
          "metadata": {},
          "output_type": "execute_result"
        }
      ],
      "source": [
        "import os \n",
        "\n",
        "token_auth = dmda.DomoTokenAuth(\n",
        "    domo_instance=\"domo-community\",\n",
        "    domo_access_token=os.environ[\"DOMO_DOJO_ACCESS_TOKEN\"],\n",
        ")\n",
        "\n",
        "card_id = 1766265020\n",
        "await get_kpi_definition(card_id = card_id, auth = token_auth)"
      ]
    },
    {
      "cell_type": "code",
      "execution_count": 5,
      "metadata": {},
      "outputs": [],
      "source": [
        "#| export\n",
        "async def get_card_metadata(auth: dmda.DomoAuth, card_id: str, debug_api: bool = False) -> rgd.ResponseGetData:\n",
        "    optional_params = \"metadata,certification,datasources,owners,problems\"\n",
        "    url = f\"https://{auth.domo_instance}.domo.com/api/content/v1/cards?urns={card_id}&parts={optional_params}\"\n",
        "\n",
        "    res = await gd.get_data(\n",
        "        auth=auth,\n",
        "        url=url,\n",
        "        method='GET',\n",
        "        debug_api=debug_api\n",
        "    )\n",
        "\n",
        "    return res"
      ]
    },
    {
      "attachments": {},
      "cell_type": "markdown",
      "metadata": {},
      "source": [
        "#### sample implementation of get_card_metadata"
      ]
    },
    {
      "cell_type": "code",
      "execution_count": 6,
      "metadata": {},
      "outputs": [
        {
          "data": {
            "text/plain": [
              "ResponseGetData(status=200, response=[{'metadata': {'chartType': 'badge_vert_stackedbar', 'chartVersion': '7', 'currentLabel': 'Sum of Amount', 'historyId': 'b9e50cd4-19c8-44f2-a44c-6c72bd432125', 'allTime': '{\"groupName\":\"Other\",\"name\":\"DEFAULT\",\"type\":\"Other\",\"selected\":true,\"estimatedSeconds\":-1,\"dateLabel\":\"\",\"column\":\"Date\"}', 'calendar': 'default', 'columnAliases': '{}', 'columnFormats': '{}', 'defaultDateGrain': 'Day', 'SummaryNumberFormat': '{\"type\":\"number\",\"format\":\"#A\"}'}, 'owners': [{'id': '1893952720', 'type': 'USER', 'displayName': 'Jae Wilson1'}], 'datasources': [{'dataSourceId': 'fd70d83b-38dc-40a2-9349-357ec4321d3e', 'dataSourceName': 'Vendor Amounts Dates', 'displayType': 'webform', 'dataType': 'webform', 'providerType': 'webform', 'isSampleData': False, 'lastUpdated': 1603767029732, 'adc': False, 'phase': None, 'state': 'SUCCESS'}], 'certification': {'state': 'NOT_CERTIFIED', 'adminCertified': False}, 'urn': '1766265020', 'id': 1766265020, 'type': 'kpi', 'created': 1603811235, 'badgeUpdated': 1603811241000, 'creatorId': 1893952720, 'ownerId': 1893952720, 'description': '', 'title': 'Vendor Amounts Dates', 'active': True, 'allowTableDrill': True, 'locked': False, 'isCurrentUserOwner': True}], is_success=True)"
            ]
          },
          "execution_count": 6,
          "metadata": {},
          "output_type": "execute_result"
        }
      ],
      "source": [
        "import os\n",
        "\n",
        "token_auth = dmda.DomoTokenAuth(\n",
        "    domo_instance=\"domo-community\",\n",
        "    domo_access_token=os.environ[\"DOMO_DOJO_ACCESS_TOKEN\"],\n",
        ")\n",
        "\n",
        "card_id = 1766265020\n",
        "await get_card_metadata(card_id=card_id, auth=token_auth)\n"
      ]
    },
    {
      "cell_type": "code",
      "execution_count": 7,
      "metadata": {},
      "outputs": [],
      "source": [
        "#| export\n",
        "def generate_body_search_cards_admin_summary(page_ids: [str] = None,\n",
        "                                             searchPages: bool = True,\n",
        "                                             cardSearchText: str = '',\n",
        "                                             pageSearchText: str = '') -> dict:\n",
        "    body = {\n",
        "        \"ascending\": True,\n",
        "        \"orderBy\": \"cardTitle\"\n",
        "    }\n",
        "\n",
        "    \n",
        "\n",
        "    if cardSearchText:\n",
        "        body.update({'cardTitleSearchText': cardSearchText, \"includeCardTitleClause\": True })\n",
        "\n",
        "    if pageSearchText:\n",
        "        body.update({'pageTitleSearchText': pageSearchText, \"includePageTitleClause\": True, \"notOnPage\": False})\n",
        "\n",
        "    if page_ids:\n",
        "        body.update({'pageIds': page_ids})\n",
        "\n",
        "    return body"
      ]
    },
    {
      "cell_type": "code",
      "execution_count": 8,
      "metadata": {},
      "outputs": [],
      "source": [
        "# | export\n",
        "async def search_cards_admin_summary(auth: dmda.DomoAuth,\n",
        "                                     body: dict,\n",
        "\n",
        "                                     maximum :int = None,\n",
        "                                     \n",
        "                                     debug_api: bool = False,\n",
        "                                     debug_loop: bool = False,\n",
        "                                     session : httpx.AsyncClient  = None,\n",
        "                                     wait_sleep: int = 3\n",
        "\n",
        "                                     ) -> rgd.ResponseGetData:\n",
        "\n",
        "    limit = 100\n",
        "    offset = 0\n",
        "    loop_until_end = False if maximum else True\n",
        "\n",
        "    url = f'https://{auth.domo_instance}.domo.com/api/content/v2/cards/adminsummary?skip={offset}&limit={limit}'\n",
        "    \n",
        "    offset_params = {\n",
        "        \"offset\": \"skip\",\n",
        "        \"limit\": \"limit\",\n",
        "    }\n",
        "\n",
        "    def arr_fn(res):\n",
        "        return res.response.get('cardAdminSummaries')\n",
        "\n",
        "    res = await gd.looper(\n",
        "        auth=auth,\n",
        "        method=\"POST\",\n",
        "        url=url,\n",
        "        arr_fn=arr_fn,\n",
        "        offset_params=offset_params,\n",
        "        limit=limit,\n",
        "        skip=offset,\n",
        "        body = body,\n",
        "        maximum = maximum,\n",
        "        session=session,\n",
        "        debug_api=debug_api,\n",
        "        debug_loop=debug_loop,\n",
        "        loop_until_end=loop_until_end,\n",
        "        wait_sleep=wait_sleep\n",
        "    )\n",
        "    return res\n"
      ]
    },
    {
      "attachments": {},
      "cell_type": "markdown",
      "metadata": {},
      "source": [
        "#### sample implementation of search_cards_admin_summary"
      ]
    },
    {
      "cell_type": "code",
      "execution_count": 9,
      "metadata": {},
      "outputs": [
        {
          "name": "stdout",
          "output_type": "stream",
          "text": [
            "{'ascending': True, 'orderBy': 'cardTitle'}\n"
          ]
        },
        {
          "data": {
            "text/plain": [
              "[{'owners': [{'id': '722128535',\n",
              "    'type': 'USER',\n",
              "    'displayName': 'Miguel Guedes'}],\n",
              "  'id': 332819959,\n",
              "  'type': 'kpi',\n",
              "  'badgeUpdated': 1632747565000,\n",
              "  'title': ' Forecast-Sales_MG',\n",
              "  'locked': False,\n",
              "  'pageHierarchy': [{'pageId': -100000, 'title': 'Overview'}]},\n",
              " {'owners': [{'id': '1251168784',\n",
              "    'type': 'USER',\n",
              "    'displayName': 'Andre Wieczorkiewicz'}],\n",
              "  'id': 231472916,\n",
              "  'type': 'kpi',\n",
              "  'badgeUpdated': 1620397890000,\n",
              "  'title': '# Active Users',\n",
              "  'locked': False,\n",
              "  'pageHierarchy': [{'pageId': 155942344, 'title': 'Copy of Data Stories'}]},\n",
              " {'owners': [{'id': '1251168784',\n",
              "    'type': 'USER',\n",
              "    'displayName': 'Andre Wieczorkiewicz'}],\n",
              "  'id': 1025952623,\n",
              "  'type': 'kpi',\n",
              "  'badgeUpdated': 1620630492000,\n",
              "  'title': '# Active Users',\n",
              "  'locked': False,\n",
              "  'pageHierarchy': [{'pageId': 155942344, 'title': 'Copy of Data Stories'}]},\n",
              " {'owners': [{'id': '1251168784',\n",
              "    'type': 'USER',\n",
              "    'displayName': 'Andre Wieczorkiewicz'}],\n",
              "  'id': 391084879,\n",
              "  'type': 'kpi',\n",
              "  'badgeUpdated': 1620397851000,\n",
              "  'title': '# Active Users Today',\n",
              "  'locked': False,\n",
              "  'pageHierarchy': [{'pageId': 155942344, 'title': 'Copy of Data Stories'}]},\n",
              " {'owners': [{'id': '694942127',\n",
              "    'type': 'USER',\n",
              "    'displayName': 'Chris Wright'}],\n",
              "  'id': 98709911,\n",
              "  'type': 'kpi',\n",
              "  'badgeUpdated': 1662482842000,\n",
              "  'title': '% Difference',\n",
              "  'locked': False,\n",
              "  'pageHierarchy': [{'pageId': 1259972092,\n",
              "    'title': 'Copy of Domo Variables Use Cases'},\n",
              "   {'pageId': 1880852133, 'title': 'Domo Variables Use Cases'}]}]"
            ]
          },
          "execution_count": 9,
          "metadata": {},
          "output_type": "execute_result"
        }
      ],
      "source": [
        "import os\n",
        "\n",
        "token_auth = dmda.DomoTokenAuth(\n",
        "    domo_instance=\"domo-community\",\n",
        "    domo_access_token=os.environ[\"DOMO_DOJO_ACCESS_TOKEN\"],\n",
        ")\n",
        "\n",
        "body = generate_body_search_cards_admin_summary()\n",
        "\n",
        "print(body)\n",
        "\n",
        "card_id = 1766265020\n",
        "res = await search_cards_admin_summary(body = body, maximum = 5,  auth=token_auth, debug_api = False, debug_loop= False, wait_sleep = 5)\n",
        "\n",
        "res.response[0:5]\n"
      ]
    },
    {
      "cell_type": "code",
      "execution_count": 10,
      "metadata": {},
      "outputs": [
        {
          "name": "stderr",
          "output_type": "stream",
          "text": [
            "Bad pipe message: %s [b'\\xbdG\\x15K;\\x08{\\xf8\\xd9\\x95\\xaf\\xa6\\xd2\\xf1.\\xe0\\xe1, ;)\\xc1{\\xfb8\\xbdg9,Y']\n",
            "Bad pipe message: %s [b'\\xa7\\x1a!\\xc7A\\xe3\\xac\\xfe\\x80\\x1dA\\xdb\\x92\\xf4\\x8cT\\x17\\xb1 K>\\xff\\xa8\\x05j~\\xa2Lw\\xbb\\x80\\xb6FZ\\x17\\xa2\\xa8\\xa1\\xfe\\xdf\\x889p\\xf2\\xfcb\\xfc\\xbc`\\xae\\x84\\x00\\x08\\x13\\x02\\x13\\x03\\x13', b'']\n",
            "Bad pipe message: %s [b\"\\xc9\\xa4\\xb9\\x07\\xee5<\\xd0\\x06\\x85'\\xb9h\\x0c\\x9c<S\\x1b\\x00\\x00|\\xc0,\\xc00\\x00\\xa3\\x00\\x9f\\xcc\\xa9\\xcc\\xa8\\xcc\\xaa\\xc0\\xaf\\xc0\\xad\\xc0\\xa3\\xc0\\x9f\\xc0]\\xc0a\\xc0W\\xc0S\\xc0+\\xc0/\\x00\\xa2\\x00\\x9e\\xc0\\xae\\xc0\\xac\\xc0\\xa2\\xc0\\x9e\\xc0\\\\\\xc0`\\xc0\"]\n",
            "Bad pipe message: %s [b\"R\\xc0$\\xc0(\\x00k\\x00j\\xc0#\\xc0'\\x00g\\x00@\\xc0\\n\\xc0\\x14\\x009\\x008\\xc0\\t\\xc0\\x13\\x003\\x002\\x00\\x9d\\xc0\\xa1\\xc0\\x9d\\xc0Q\\x00\\x9c\\xc0\\xa0\\xc0\\x9c\\xc0P\\x00=\\x00<\\x005\\x00/\\x00\\x9a\\x00\\x99\\xc0\\x07\\xc0\\x11\\x00\\x96\\x00\\x05\\x00\\xff\\x01\\x00\\x00j\\x00\\x00\\x00\\x0e\\x00\\x0c\\x00\\x00\\t1\"]\n",
            "Bad pipe message: %s [b'.0.0.1\\x00\\x0b\\x00\\x04\\x03\\x00\\x01\\x02\\x00\\n\\x00\\x0c\\x00\\n\\x00\\x1d\\x00\\x17\\x00\\x1e\\x00\\x19\\x00\\x18\\x00#\\x00\\x00\\x00\\x16\\x00\\x00\\x00\\x17\\x00\\x00\\x00\\r\\x000\\x00.\\x04', b'\\x03\\x06', b'\\x07\\x08']\n",
            "Bad pipe message: %s [b'\\t\\x08\\n\\x08\\x0b\\x08\\x04']\n",
            "Bad pipe message: %s [b'\\x08\\x06\\x04\\x01\\x05\\x01\\x06', b'', b'\\x03\\x03']\n",
            "Bad pipe message: %s [b'']\n",
            "Bad pipe message: %s [b'', b'\\x02']\n",
            "Bad pipe message: %s [b'\\x05\\x02\\x06']\n",
            "Bad pipe message: %s [b'\\xdb\\xde\\x8d`\\xc0\\x9b~\\xc7ZV\\x90:\\xed\\x9a\\x8e\\x7f\\xae\\xb5\\x00\\x00>\\xc0\\x14\\xc0\\n\\x009\\x008\\x007\\x006\\xc0\\x0f\\xc0\\x05\\x005\\xc0\\x13\\xc0\\t\\x003\\x002\\x001\\x000\\xc0\\x0e\\xc0\\x04\\x00/\\x00\\x9a\\x00\\x99\\x00\\x98\\x00\\x97\\x00\\x96\\x00\\x07\\xc0\\x11\\xc0\\x07\\xc0\\x0c\\xc0\\x02\\x00\\x05\\x00\\x04\\x00\\xff\\x02\\x01\\x00\\x00C\\x00\\x00\\x00\\x0e\\x00\\x0c\\x00\\x00\\t127.0.0.1\\x00\\x0b\\x00\\x04\\x03\\x00\\x01\\x02\\x00\\n\\x00\\x1c\\x00\\x1a\\x00\\x17\\x00\\x19\\x00\\x1c\\x00\\x1b\\x00\\x18\\x00\\x1a\\x00\\x16\\x00', b'\\r\\x00\\x0b\\x00\\x0c\\x00\\t\\x00\\n\\x00#\\x00\\x00']\n",
            "Bad pipe message: %s [b'a-\\xf1H#&\\xfc\\x85\\xf9\\xb5\\x97\\x7f\\xb5\\xf8\\x89\\xd6Q&\\x00\\x00']\n",
            "Bad pipe message: %s [b'\\x14\\xc0\\n\\x009\\x008\\x007\\x006\\x00\\x88\\x00\\x87\\x00\\x86\\x00\\x85\\xc0\\x19\\x00:\\x00\\x89\\xc0\\x0f\\xc0\\x05\\x005\\x00\\x84\\xc0\\x13\\xc0\\t\\x003\\x002\\x001\\x000\\x00\\x9a\\x00\\x99\\x00\\x98\\x00\\x97\\x00E\\x00D\\x00C\\x00B\\xc0\\x18\\x004\\x00\\x9b\\x00F\\xc0\\x0e\\xc0\\x04\\x00/\\x00\\x96\\x00A\\x00\\x07\\xc0\\x11\\xc0\\x07\\xc0\\x16\\x00\\x18\\xc0\\x0c\\xc0\\x02\\x00\\x05\\x00\\x04\\xc0\\x12\\xc0\\x08\\x00\\x16\\x00\\x13\\x00\\x10\\x00\\r\\xc0\\x17\\x00\\x1b\\xc0\\r\\xc0\\x03\\x00\\n\\x00\\x15\\x00\\x12\\x00\\x0f\\x00\\x0c\\x00\\x1a\\x00\\t\\x00\\x14\\x00\\x11\\x00\\x19\\x00\\x08\\x00\\x06\\x00\\x17\\x00\\x03\\xc0\\x10\\xc0\\x06\\xc0\\x15\\xc0\\x0b\\xc0\\x01\\x00\\x02\\x00\\x01\\x00\\xff']\n",
            "Bad pipe message: %s [b'z']\n",
            "Bad pipe message: %s [b'M&\\x83F\\xca\\xb41\\x7f1\\x15e\\xd1\\xb4\\x99\\xe3\\x00\\x00\\xa2\\xc0\\x14\\xc0\\n\\x009\\x008\\x007\\x006\\x00\\x88\\x00\\x87\\x00\\x86\\x00\\x85\\xc0\\x19\\x00:\\x00\\x89\\xc0\\x0f\\xc0\\x05\\x005\\x00\\x84\\xc0\\x13\\xc0\\t\\x003\\x002\\x001\\x000\\x00\\x9a\\x00\\x99\\x00\\x98\\x00\\x97\\x00E\\x00D\\x00C\\x00B\\xc0\\x18\\x004\\x00\\x9b\\x00F\\xc0\\x0e\\xc0\\x04\\x00/\\x00\\x96\\x00A\\x00\\x07\\xc0\\x11\\xc0\\x07\\xc0\\x16\\x00\\x18\\xc0\\x0c\\xc0\\x02\\x00\\x05\\x00\\x04\\xc0\\x12\\xc0\\x08\\x00\\x16\\x00\\x13\\x00\\x10\\x00\\r\\xc0\\x17\\x00\\x1b\\xc0\\r\\xc0\\x03\\x00\\n\\x00\\x15\\x00\\x12\\x00\\x0f\\x00\\x0c\\x00\\x1a\\x00\\t\\x00\\x14\\x00\\x11\\x00\\x19\\x00\\x08\\x00\\x06\\x00\\x17\\x00\\x03\\xc0\\x10\\xc0\\x06\\xc0\\x15\\xc0\\x0b\\xc0\\x01\\x00\\x02\\x00\\x01\\x00\\xff\\x02\\x01\\x00\\x00C\\x00\\x00\\x00\\x0e\\x00\\x0c\\x00\\x00\\t127.0.0.1\\x00\\x0b\\x00\\x04\\x03\\x00\\x01\\x02\\x00\\n\\x00\\x1c\\x00\\x1a\\x00\\x17\\x00\\x19\\x00\\x1c\\x00\\x1b\\x00\\x18\\x00\\x1a\\x00', b'\\x0e\\x00\\r\\x00\\x0b\\x00\\x0c\\x00\\t\\x00\\n\\x00#\\x00\\x00\\x00\\x0f\\x00\\x01\\x01\\x15']\n",
            "Bad pipe message: %s [b'\\x1f\\xf3t\\xfa\\x0c\\x00zE\\x86\\xa7j\\xe0\\x9a\\xcb', b'\\xa2\\xf1\\x00\\x00\\xa2\\xc0\\x14\\xc0\\n\\x009\\x008\\x007\\x006\\x00\\x88\\x00\\x87\\x00\\x86\\x00\\x85\\xc0\\x19\\x00:\\x00\\x89\\xc0\\x0f\\xc0\\x05\\x005\\x00\\x84\\xc0\\x13\\xc0\\t\\x003\\x002\\x001\\x000\\x00\\x9a\\x00\\x99\\x00\\x98\\x00\\x97\\x00E\\x00D\\x00C\\x00B\\xc0\\x18\\x004\\x00\\x9b\\x00F\\xc0', b'\\x04\\x00/\\x00\\x96\\x00A\\x00\\x07\\xc0\\x11\\xc0\\x07']\n",
            "Bad pipe message: %s [b'\\xc8\\x8c\\xecE\\x89', b'\\xe7\\xb8y\\x1e\\xd1\\xf7\\xfaSB\\xd4j\\x00\\x00\\x86\\xc00\\xc0,\\xc0(\\xc0$\\xc0\\x14\\xc0\\n\\x00\\xa5\\x00\\xa3\\x00\\xa1\\x00\\x9f\\x00k\\x00j\\x00i\\x00h\\x009\\x008\\x00', b\"6\\xc02\\xc0.\\xc0*\\xc0&\\xc0\\x0f\\xc0\\x05\\x00\\x9d\\x00=\\x005\\xc0/\\xc0+\\xc0'\\xc0#\\xc0\\x13\\xc0\\t\\x00\\xa4\\x00\\xa2\\x00\\xa0\\x00\\x9e\\x00g\\x00@\\x00?\\x00>\\x003\\x002\\x001\\x00\"]\n",
            "Bad pipe message: %s [b'1\\xc0-\\xc0)\\xc0%\\xc0\\x0e\\xc0\\x04\\x00\\x9c\\x00<\\x00/\\x00\\x9a\\x00\\x99\\x00\\x98\\x00\\x97\\x00\\x96\\x00\\x07\\xc0\\x11\\xc0\\x07\\xc0\\x0c\\xc0\\x02\\x00\\x05\\x00\\x04\\x00\\xff\\x02\\x01\\x00\\x00']\n",
            "Bad pipe message: %s [b'\\x00\\x00\\x0e\\x00\\x0c\\x00\\x00\\t127.0.0.1\\x00\\x0b\\x00\\x04\\x03\\x00\\x01\\x02\\x00\\n\\x00\\x1c\\x00\\x1a\\x00\\x17\\x00\\x19\\x00\\x1c\\x00\\x1b\\x00\\x18\\x00\\x1a\\x00\\x16\\x00\\x0e\\x00\\r\\x00\\x0b\\x00\\x0c\\x00\\t\\x00\\n\\x00#\\x00\\x00\\x00\\r\\x00 \\x00\\x1e\\x06\\x01\\x06\\x02\\x06\\x03\\x05\\x01\\x05\\x02\\x05\\x03\\x04\\x01\\x04\\x02\\x04\\x03\\x03\\x01\\x03\\x02\\x03\\x03\\x02\\x01\\x02\\x02\\x02\\x03\\x00\\x0f\\x00\\x01\\x01']\n",
            "Bad pipe message: %s [b';\\x1f\\xc3v\\xa6\\x94\\xf2:Z\\x0fqXg\\x86ft6;\\x00\\x00\\xf4\\xc00\\xc0,\\xc0(\\xc0$\\xc0\\x14\\xc0\\n\\x00\\xa5\\x00\\xa3\\x00\\xa1\\x00\\x9f\\x00k\\x00j\\x00i\\x00h\\x009\\x008\\x007\\x006\\x00\\x88\\x00\\x87\\x00\\x86\\x00\\x85\\xc0\\x19\\x00\\xa7\\x00m\\x00:\\x00\\x89\\xc02\\xc0.\\xc0*\\xc0&\\xc0\\x0f\\xc0\\x05\\x00\\x9d\\x00=\\x005\\x00\\x84\\xc0/\\xc0', b\"'\\xc0#\\xc0\\x13\\xc0\\t\\x00\\xa4\\x00\\xa2\\x00\\xa0\\x00\\x9e\\x00g\\x00@\\x00?\\x00>\\x003\\x002\\x001\\x000\\x00\\x9a\\x00\\x99\\x00\\x98\\x00\\x97\\x00E\\x00\"]\n",
            "Bad pipe message: %s [b'C\\x00B\\xc0\\x18\\x00\\xa6\\x00l\\x004\\x00\\x9b\\x00F\\xc01\\xc0-\\xc0)\\xc0%\\xc0\\x0e\\xc0\\x04\\x00\\x9c\\x00<\\x00/\\x00\\x96\\x00A\\x00\\x07\\xc0\\x11\\xc0\\x07\\xc0\\x16\\x00\\x18\\xc0\\x0c\\xc0\\x02\\x00\\x05\\x00\\x04\\xc0\\x12\\xc0\\x08\\x00\\x16\\x00\\x13\\x00\\x10\\x00\\r']\n"
          ]
        }
      ],
      "source": [
        "#| hide\n",
        "import nbdev\n",
        "nbdev.nbdev_export()\n"
      ]
    }
  ],
  "metadata": {
    "jupytext": {
      "split_at_heading": true
    },
    "kernelspec": {
      "display_name": "Python 3",
      "language": "python",
      "name": "python3"
    },
    "language_info": {
      "codemirror_mode": {
        "name": "ipython",
        "version": 3
      },
      "file_extension": ".py",
      "mimetype": "text/x-python",
      "name": "python",
      "nbconvert_exporter": "python",
      "pygments_lexer": "ipython3",
      "version": "3.10.4"
    }
  },
  "nbformat": 4,
  "nbformat_minor": 4
}
