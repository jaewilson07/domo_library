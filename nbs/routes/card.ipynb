{
 "cells": [
  {
   "cell_type": "raw",
   "metadata": {},
   "source": [
    "---\n",
    "output-file: card_routes.html\n",
    "title: Card Routes\n",
    "---"
   ]
  },
  {
   "cell_type": "code",
   "execution_count": 1,
   "metadata": {},
   "outputs": [],
   "source": [
    "# | default_exp routes.card"
   ]
  },
  {
   "cell_type": "code",
   "execution_count": 2,
   "metadata": {},
   "outputs": [],
   "source": [
    "# | exporti\n",
    "import httpx\n",
    "\n",
    "import domolibrary.client.get_data as gd\n",
    "import domolibrary.client.ResponseGetData as rgd\n",
    "import domolibrary.client.DomoAuth as dmda\n",
    "import domolibrary.client.DomoError as de\n"
   ]
  },
  {
   "cell_type": "code",
   "execution_count": 3,
   "metadata": {},
   "outputs": [],
   "source": [
    "#| export\n",
    "class CardSearch_NotFoundError(de.DomoError):\n",
    "    def __init__(self, card_id,\n",
    "                 domo_instance, \n",
    "                 function_name,status,\n",
    "                  message = None,\n",
    "                 ):\n",
    "        super().__init__(status=status,\n",
    "                         message=f\"card {card_id} not found\", domo_instance=domo_instance, function_name=function_name)\n"
   ]
  },
  {
   "cell_type": "code",
   "execution_count": 4,
   "metadata": {},
   "outputs": [],
   "source": [
    "# | export\n",
    "class CardSearch_NotFoundError(de.DomoError):\n",
    "    def __init__(\n",
    "        self,\n",
    "        card_id,\n",
    "        domo_instance,\n",
    "        function_name,\n",
    "        status,\n",
    "        parent_class: str = None,\n",
    "        message=None,\n",
    "    ):\n",
    "        super().__init__(\n",
    "            status=status,\n",
    "            message=f\"card {card_id} not found\",\n",
    "            domo_instance=domo_instance,\n",
    "            function_name=function_name,\n",
    "            parent_class=parent_class,\n",
    "        )"
   ]
  },
  {
   "cell_type": "code",
   "execution_count": null,
   "metadata": {},
   "outputs": [],
   "source": [
    "# | export\n",
    "@gd.route_function\n",
    "async def get_kpi_definition(\n",
    "    auth: dmda.DomoAuth,\n",
    "    card_id: str,\n",
    "    debug_api: bool = False,\n",
    "    session: httpx.AsyncClient = None,\n",
    "    parent_class: str = None,\n",
    "    debug_num_stacks_to_drop=1,\n",
    ") -> rgd.ResponseGetData:\n",
    "    url = f\"https://{auth.domo_instance}.domo.com/api/content/v3/cards/kpi/definition\"\n",
    "\n",
    "    body = {\"urn\": card_id}\n",
    "\n",
    "    res = await gd.get_data(\n",
    "        auth=auth,\n",
    "        url=url,\n",
    "        method=\"PUT\",\n",
    "        body=body,\n",
    "        debug_api=debug_api,\n",
    "        session=session,\n",
    "        parent_class=parent_class,\n",
    "        num_stacks_to_drop=debug_num_stacks_to_drop,\n",
    "    )\n",
    "\n",
    "    if not res.is_success and res.response == \"Not Found\":\n",
    "        raise CardSearch_NotFoundError(\n",
    "            card_id=card_id,\n",
    "            status=res.status,\n",
    "            domo_instance=auth.domo_instance,\n",
    "            function_name=\"get_kpi_definition\",\n",
    "        )\n",
    "\n",
    "    return res"
   ]
  },
  {
   "attachments": {},
   "cell_type": "markdown",
   "metadata": {},
   "source": [
    "#### sample implementation of get_card_kpi\n"
   ]
  },
  {
   "cell_type": "code",
   "execution_count": 5,
   "metadata": {},
   "outputs": [
    {
     "name": "stdout",
     "output_type": "stream",
     "text": [
      "adjusting num_stacks_to_drop, consider revising `get_traceback` call\n",
      "{16, 3, 12}\n"
     ]
    },
    {
     "data": {
      "text/plain": [
       "ResponseGetData(status=200, response={'id': 1766265020, 'urn': '1766265020', 'definition': {'subscriptions': {'big_number': {'name': 'big_number', 'columns': [{'column': 'Amount', 'aggregation': 'SUM', 'alias': 'Sum of Amount', 'format': {'type': 'abbreviated', 'format': '#'}}], 'filters': [], 'orderBy': [], 'groupBy': [], 'fiscal': False, 'projection': False, 'distinct': False, 'limit': 1}, 'main': {'name': 'main', 'columns': [{'column': 'Date', 'calendar': True, 'mapping': 'ITEM'}, {'column': 'Amount', 'aggregation': 'SUM', 'mapping': 'VALUE'}, {'column': 'Vendor', 'mapping': 'SERIES'}], 'filters': [], 'dateGrain': {'column': 'Date', 'dateTimeElement': 'DAY'}, 'orderBy': [], 'groupBy': [{'column': 'Vendor'}, {'column': 'Date', 'calendar': True}], 'fiscal': False, 'projection': False, 'distinct': False}}, 'formulas': [], 'conditionalFormats': [], 'annotations': [], 'slicers': [], 'title': 'Vendor Amounts Dates', 'description': '', 'chartVersion': '11', 'charts': {'main': {'component': 'main', 'chartType': 'badge_vert_stackedbar', 'overrides': {}, 'goal': None}}, 'allowTableDrill': True, 'segments': {'active': [], 'definitions': []}, 'modified': 1603811241000}, 'columns': [{'id': 'Date', 'name': 'Date', 'type': 'date', 'isCalculation': False, 'isAggregatable': True, 'isEncrypted': False, 'hidden': False, 'order': 0, 'sourceId': 'fd70d83b-38dc-40a2-9349-357ec4321d3e'}, {'id': 'Vendor', 'name': 'Vendor', 'type': 'string', 'isCalculation': False, 'isAggregatable': True, 'isEncrypted': False, 'hidden': False, 'order': 0, 'sourceId': 'fd70d83b-38dc-40a2-9349-357ec4321d3e'}, {'id': 'Amount', 'name': 'Amount', 'type': 'numeric', 'isCalculation': False, 'isAggregatable': True, 'isEncrypted': False, 'hidden': False, 'order': 0, 'sourceId': 'fd70d83b-38dc-40a2-9349-357ec4321d3e'}], 'drillpath': [], 'embedded': False, 'dataSourceWrite': True}, is_success=True, parent_class=None, traceback_details=TracebackDetails(function_name='get_kpi_definition', file_name='/tmp/ipykernel_4113/3411049338.py', function_trail='<module> -> get_kpi_definition', traceback_stack=[<FrameSummary file /tmp/ipykernel_4113/244222285.py, line 9 in <module>>, <FrameSummary file /tmp/ipykernel_4113/3411049338.py, line 8 in get_kpi_definition>], parent_class=None))"
      ]
     },
     "execution_count": 5,
     "metadata": {},
     "output_type": "execute_result"
    }
   ],
   "source": [
    "import os\n",
    "\n",
    "token_auth = dmda.DomoTokenAuth(\n",
    "    domo_instance=\"domo-community\",\n",
    "    domo_access_token=os.environ[\"DOMO_DOJO_ACCESS_TOKEN\"],\n",
    ")\n",
    "\n",
    "card_id = 1766265020\n",
    "await get_kpi_definition(card_id=card_id, auth=token_auth)"
   ]
  },
  {
   "cell_type": "code",
   "execution_count": 6,
   "metadata": {},
   "outputs": [],
   "source": [
    "# | export\n",
    "@gd.route_function\n",
    "async def get_card_metadata(\n",
    "    auth: dmda.DomoAuth,\n",
    "    card_id: str,\n",
    "    debug_api: bool = False,\n",
    "    session: httpx.AsyncClient = None,\n",
    "    parent_class: str = None,\n",
    "    debug_num_stacks_to_drop=1,\n",
    ") -> rgd.ResponseGetData:\n",
    "    optional_params = \"metadata,certification,datasources,owners,problems\"\n",
    "\n",
    "    url = f\"https://{auth.domo_instance}.domo.com/api/content/v1/cards?urns={card_id}&parts={optional_params}\"\n",
    "\n",
    "    res = await gd.get_data(\n",
    "        auth=auth,\n",
    "        url=url,\n",
    "        method=\"GET\",\n",
    "        debug_api=debug_api,\n",
    "        session=session,\n",
    "        parent_class=parent_class,\n",
    "        num_stacks_to_drop=debug_num_stacks_to_drop,\n",
    "    )\n",
    "\n",
    "    if res.is_success and len(res.response) == 0:\n",
    "        raise CardSearch_NotFoundError(\n",
    "            card_id=card_id,\n",
    "            status=res.status,\n",
    "            domo_instance=auth.domo_instance,\n",
    "            parent_class=parent_class,\n",
    "            function_name=res.traceback_details.function_name,\n",
    "        )\n",
    "\n",
    "    res.response = res.response[0]\n",
    "\n",
    "    return res"
   ]
  },
  {
   "attachments": {},
   "cell_type": "markdown",
   "metadata": {},
   "source": [
    "#### sample implementation of get_card_metadata\n"
   ]
  },
  {
   "cell_type": "code",
   "execution_count": 7,
   "metadata": {},
   "outputs": [
    {
     "name": "stdout",
     "output_type": "stream",
     "text": [
      "adjusting num_stacks_to_drop, consider revising `get_traceback` call\n",
      "{16, 3, 12}\n",
      "ResponseGetData(status=200, response={'metadata': {'chartType': 'badge_vert_stackedbar', 'chartVersion': '7', 'currentLabel': 'Sum of Amount', 'historyId': 'b9e50cd4-19c8-44f2-a44c-6c72bd432125', 'allTime': '{\"groupName\":\"Other\",\"name\":\"DEFAULT\",\"type\":\"Other\",\"selected\":true,\"estimatedSeconds\":-1,\"dateLabel\":\"\",\"column\":\"Date\"}', 'calendar': 'default', 'columnAliases': '{}', 'columnFormats': '{}', 'defaultDateGrain': 'Day', 'SummaryNumberFormat': '{\"type\":\"number\",\"format\":\"#A\"}'}, 'owners': [{'id': '1893952720', 'type': 'USER', 'displayName': 'Jae Wilson1'}], 'datasources': [{'dataSourceId': 'fd70d83b-38dc-40a2-9349-357ec4321d3e', 'dataSourceName': 'Vendor Amounts Dates', 'displayType': 'webform', 'dataType': 'webform', 'providerType': 'webform', 'isSampleData': False, 'lastUpdated': 1603767029732, 'adc': False, 'phase': None, 'state': 'SUCCESS'}], 'certification': {'state': 'NOT_CERTIFIED', 'adminCertified': False}, 'urn': '1766265020', 'id': 1766265020, 'type': 'kpi', 'created': 1603811235, 'badgeUpdated': 1603811241000, 'creatorId': 1893952720, 'ownerId': 1893952720, 'description': '', 'title': 'Vendor Amounts Dates', 'active': True, 'allowTableDrill': True, 'locked': False, 'isCurrentUserOwner': True}, is_success=True, parent_class=None, traceback_details=TracebackDetails(function_name='get_card_metadata', file_name='/tmp/ipykernel_4113/2555351309.py', function_trail='<module> -> get_card_metadata', traceback_stack=[<FrameSummary file /tmp/ipykernel_4113/560883196.py, line 9 in <module>>, <FrameSummary file /tmp/ipykernel_4113/2555351309.py, line 9 in get_card_metadata>], parent_class=None))\n"
     ]
    }
   ],
   "source": [
    "import os\n",
    "\n",
    "token_auth = dmda.DomoTokenAuth(\n",
    "    domo_instance=\"domo-community\",\n",
    "    domo_access_token=os.environ[\"DOMO_DOJO_ACCESS_TOKEN\"],\n",
    ")\n",
    "\n",
    "card_id = 1766265020\n",
    "res = await get_card_metadata(card_id=card_id, auth=token_auth)\n",
    "\n",
    "res.response"
   ]
  },
  {
   "cell_type": "code",
   "execution_count": 8,
   "metadata": {},
   "outputs": [],
   "source": [
    "# | export\n",
    "def generate_body_search_cards_admin_summary(\n",
    "    page_ids: [str] = None,\n",
    "    #  searchPages: bool = True,\n",
    "    card_search_text: str = None,\n",
    "    page_search_text: str = None,\n",
    ") -> dict:\n",
    "    body = {\"ascending\": True, \"orderBy\": \"cardTitle\"}\n",
    "\n",
    "    if card_search_text:\n",
    "        body.update(\n",
    "            {\"cardTitleSearchText\": card_search_text, \"includeCardTitleClause\": True}\n",
    "        )\n",
    "\n",
    "    if page_search_text:\n",
    "        body.update(\n",
    "            {\n",
    "                \"pageTitleSearchText\": page_search_text,\n",
    "                \"includePageTitleClause\": True,\n",
    "                \"notOnPage\": False,\n",
    "            }\n",
    "        )\n",
    "\n",
    "    if page_ids:\n",
    "        body.update({\"pageIds\": page_ids})\n",
    "\n",
    "    return body"
   ]
  },
  {
   "cell_type": "code",
   "execution_count": 9,
   "metadata": {},
   "outputs": [],
   "source": [
    "# | export\n",
    "@gd.route_function\n",
    "async def search_cards_admin_summary(\n",
    "    auth: dmda.DomoAuth,\n",
    "    body: dict,\n",
    "    maximum: int = None,\n",
    "    debug_api: bool = False,\n",
    "    debug_loop: bool = False,\n",
    "    session: httpx.AsyncClient = None,\n",
    "    wait_sleep: int = 3,\n",
    "    parent_class: str = None,\n",
    "    debug_num_stacks_to_drop: int = 1,\n",
    ") -> rgd.ResponseGetData:\n",
    "    limit = 100\n",
    "    offset = 0\n",
    "    loop_until_end = False if maximum else True\n",
    "\n",
    "    url = f\"https://{auth.domo_instance}.domo.com/api/content/v2/cards/adminsummary?skip={offset}&limit={limit}\"\n",
    "\n",
    "    offset_params = {\n",
    "        \"offset\": \"skip\",\n",
    "        \"limit\": \"limit\",\n",
    "    }\n",
    "\n",
    "    def arr_fn(res):\n",
    "        return res.response.get(\"cardAdminSummaries\")\n",
    "\n",
    "    res = await gd.looper(\n",
    "        auth=auth,\n",
    "        method=\"POST\",\n",
    "        url=url,\n",
    "        arr_fn=arr_fn,\n",
    "        offset_params=offset_params,\n",
    "        limit=limit,\n",
    "        skip=offset,\n",
    "        body=body,\n",
    "        maximum=maximum,\n",
    "        session=session,\n",
    "        debug_api=debug_api,\n",
    "        debug_loop=debug_loop,\n",
    "        loop_until_end=loop_until_end,\n",
    "        wait_sleep=wait_sleep,\n",
    "        parent_class=parent_class,\n",
    "        debug_num_stacks_to_drop=debug_num_stacks_to_drop,\n",
    "    )\n",
    "    return res"
   ]
  },
  {
   "attachments": {},
   "cell_type": "markdown",
   "metadata": {},
   "source": [
    "#### sample implementation of search_cards_admin_summary\n"
   ]
  },
  {
   "cell_type": "code",
   "execution_count": 10,
   "metadata": {},
   "outputs": [
    {
     "name": "stdout",
     "output_type": "stream",
     "text": [
      "{'ascending': True, 'orderBy': 'cardTitle'}\n"
     ]
    },
    {
     "data": {
      "text/plain": [
       "[{'owners': [{'id': '722128535',\n",
       "    'type': 'USER',\n",
       "    'displayName': 'Miguel Guedes'}],\n",
       "  'id': 332819959,\n",
       "  'type': 'kpi',\n",
       "  'badgeUpdated': 1632747565000,\n",
       "  'title': ' Forecast-Sales_MG',\n",
       "  'locked': False,\n",
       "  'pageHierarchy': [{'pageId': -100000, 'title': 'Overview'}]},\n",
       " {'owners': [{'id': '583215149',\n",
       "    'type': 'USER',\n",
       "    'displayName': 'John Jarnagin'}],\n",
       "  'id': 1582016299,\n",
       "  'type': 'document',\n",
       "  'badgeUpdated': 1693333789000,\n",
       "  'title': \" Incorrect Append - Forecast Column Header Names Don't Match\",\n",
       "  'locked': False,\n",
       "  'pageHierarchy': [{'pageId': 237406695,\n",
       "    'title': 'Session 2: Data Transformation',\n",
       "    'parentPageId': 1374726359,\n",
       "    'parentPageTitle': 'NPO | Sept 2023 Cohort'},\n",
       "   {'pageId': 2037415261,\n",
       "    'title': 'Session 2: Data Transformation',\n",
       "    'parentPageId': 307648701,\n",
       "    'parentPageTitle': 'Domo Customer Orientation  (DCO)'}]},\n",
       " {'owners': [{'id': '1251168784',\n",
       "    'type': 'USER',\n",
       "    'displayName': 'Andre Wieczorkiewicz'}],\n",
       "  'id': 231472916,\n",
       "  'type': 'kpi',\n",
       "  'badgeUpdated': 1620397890000,\n",
       "  'title': '# Active Users',\n",
       "  'locked': False,\n",
       "  'pageHierarchy': [{'pageId': 155942344, 'title': 'Copy of Data Stories'}]},\n",
       " {'owners': [{'id': '1251168784',\n",
       "    'type': 'USER',\n",
       "    'displayName': 'Andre Wieczorkiewicz'}],\n",
       "  'id': 1025952623,\n",
       "  'type': 'kpi',\n",
       "  'badgeUpdated': 1620630492000,\n",
       "  'title': '# Active Users',\n",
       "  'locked': False,\n",
       "  'pageHierarchy': [{'pageId': 155942344, 'title': 'Copy of Data Stories'}]},\n",
       " {'owners': [{'id': '1251168784',\n",
       "    'type': 'USER',\n",
       "    'displayName': 'Andre Wieczorkiewicz'}],\n",
       "  'id': 391084879,\n",
       "  'type': 'kpi',\n",
       "  'badgeUpdated': 1620397851000,\n",
       "  'title': '# Active Users Today',\n",
       "  'locked': False,\n",
       "  'pageHierarchy': [{'pageId': 155942344, 'title': 'Copy of Data Stories'}]}]"
      ]
     },
     "execution_count": 10,
     "metadata": {},
     "output_type": "execute_result"
    }
   ],
   "source": [
    "import os\n",
    "\n",
    "token_auth = dmda.DomoTokenAuth(\n",
    "    domo_instance=\"domo-community\",\n",
    "    domo_access_token=os.environ[\"DOMO_DOJO_ACCESS_TOKEN\"],\n",
    ")\n",
    "\n",
    "body = generate_body_search_cards_admin_summary()\n",
    "\n",
    "print(body)\n",
    "\n",
    "card_id = 1766265020\n",
    "res = await search_cards_admin_summary(\n",
    "    body=body,\n",
    "    maximum=5,\n",
    "    auth=token_auth,\n",
    "    debug_api=False,\n",
    "    debug_loop=False,\n",
    "    wait_sleep=5,\n",
    ")\n",
    "\n",
    "res.response[0:5]"
   ]
  },
  {
   "cell_type": "code",
   "execution_count": 11,
   "metadata": {},
   "outputs": [],
   "source": [
    "# | hide\n",
    "import nbdev\n",
    "\n",
    "nbdev.nbdev_export()\n",
    "\n",
    "!nbqa black card.ipynb"
   ]
  }
 ],
 "metadata": {
  "jupytext": {
   "split_at_heading": true
  },
  "kernelspec": {
   "display_name": "python3",
   "language": "python",
   "name": "python3"
  },
  "language_info": {
   "codemirror_mode": {
    "name": "ipython",
    "version": 3
   },
   "file_extension": ".py",
   "mimetype": "text/x-python",
   "name": "python",
   "nbconvert_exporter": "python",
   "pygments_lexer": "ipython3",
   "version": "3.10.8"
  }
 },
 "nbformat": 4,
 "nbformat_minor": 4
}
