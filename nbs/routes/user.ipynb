{
 "cells": [
  {
   "attachments": {},
   "cell_type": "markdown",
   "metadata": {},
   "source": [
    "# User Routes\n",
    "\n",
    "> a functional approach, routes only, to interacting with domo users.\n"
   ]
  },
  {
   "attachments": {},
   "cell_type": "raw",
   "metadata": {},
   "source": [
    "---\n",
    "output-file: user_routes.html\n",
    "---"
   ]
  },
  {
   "cell_type": "code",
   "execution_count": 1,
   "metadata": {},
   "outputs": [],
   "source": [
    "# | default_exp routes.user"
   ]
  },
  {
   "cell_type": "code",
   "execution_count": 2,
   "metadata": {},
   "outputs": [],
   "source": [
    "# | exporti\n",
    "from enum import Enum\n",
    "import httpx\n",
    "\n",
    "import utils.DictDot as dd\n",
    "import domolibrary.client.get_data as gd\n",
    "import domolibrary.client.ResponseGetData as rgd\n",
    "import domolibrary.client.DomoAuth as dmda\n",
    "import domolibrary.client.DomoError as de"
   ]
  },
  {
   "attachments": {},
   "cell_type": "markdown",
   "metadata": {},
   "source": [
    "# GET Users\n"
   ]
  },
  {
   "cell_type": "code",
   "execution_count": 3,
   "metadata": {},
   "outputs": [],
   "source": [
    "# | export\n",
    "async def get_all_users(\n",
    "    auth: dmda.DomoAuth, debug_api: bool = False\n",
    ") -> rgd.ResponseGetData:\n",
    "\n",
    "    \"\"\"retrieves all users from Domo\"\"\"\n",
    "    url = f\"https://{ auth.domo_instance}.domo.com/api/content/v2/users\"\n",
    "\n",
    "    return await gd.get_data(url=url, method=\"GET\", auth=auth, debug_api=debug_api)\n"
   ]
  },
  {
   "attachments": {},
   "cell_type": "markdown",
   "metadata": {},
   "source": [
    "#### sample implementation of get_all_users\n"
   ]
  },
  {
   "cell_type": "code",
   "execution_count": 4,
   "metadata": {},
   "outputs": [
    {
     "data": {
      "text/plain": [
       "'2f4cb212853732ef796abd46077cf1162c0a3ed7cf1ff079'"
      ]
     },
     "execution_count": 4,
     "metadata": {},
     "output_type": "execute_result"
    }
   ],
   "source": [
    "import os\n",
    "import pandas as pd\n",
    "\n",
    "token_auth = dmda.DomoTokenAuth(\n",
    "    domo_instance=\"domo-community\", domo_access_token=os.environ[\"DOMO_DOJO_ACCESS_TOKEN\"]\n",
    ")\n",
    "\n",
    "res = await get_all_users(auth=token_auth)\n",
    "pd.DataFrame(res.response[0:5])\n",
    "\n",
    "os.environ[\"DOMO_DOJO_ACCESS_TOKEN\"]"
   ]
  },
  {
   "attachments": {},
   "cell_type": "markdown",
   "metadata": {},
   "source": [
    "# Search Users\n",
    "\n",
    "This series of functions searchse the v1_users_api. The body of the search api can be retrieved by searching admin in the Domo User interface.\n"
   ]
  },
  {
   "cell_type": "code",
   "execution_count": 5,
   "metadata": {},
   "outputs": [],
   "source": [
    "# | export\n",
    "def generate_search_users_body_by_id(\n",
    "    user_ids: list[str],  # list of user ids to search\n",
    ") -> dict:  # dict to pass to search v1_users_search_api\n",
    "    \"\"\"search v1_users_search_api\"\"\"\n",
    "\n",
    "    return {\n",
    "        # \"showCount\": true,\n",
    "        # \"count\": false,\n",
    "        \"includeDeleted\": False,\n",
    "        \"includeSupport\": False,\n",
    "        \"filters\": [\n",
    "            {\"field\": \"id\", \"filterType\": \"value\",\n",
    "                \"values\": user_ids, \"operator\": \"EQ\"}\n",
    "        ],\n",
    "    }\n"
   ]
  },
  {
   "cell_type": "code",
   "execution_count": 6,
   "metadata": {},
   "outputs": [],
   "source": [
    "# | export\n",
    "def generate_search_users_body_by_email(\n",
    "    user_email_ls: list[\n",
    "        str\n",
    "    ],  # list of user emails to search.  Note:  search does not appear to be case sensitive\n",
    ") -> dict:  # dict to pass to search v1_users_search_api\n",
    "    \"\"\"search v1_users_search_api\"\"\"\n",
    "\n",
    "    return {\n",
    "        # \"showCount\": true,\n",
    "        # \"count\": false,\n",
    "        \"includeDeleted\": False,\n",
    "        \"includeSupport\": False,\n",
    "        \"limit\": 200,\n",
    "        \"offset\": 0,\n",
    "        \"sort\": {\"field\": \"displayName\", \"order\": \"ASC\"},\n",
    "        \"filters\": [\n",
    "            {\n",
    "                \"filterType\": \"text\",\n",
    "                \"field\": \"emailAddress\",\n",
    "                \"text\": \" \".join(user_email_ls),\n",
    "            }\n",
    "        ],\n",
    "    }"
   ]
  },
  {
   "cell_type": "code",
   "execution_count": 7,
   "metadata": {},
   "outputs": [],
   "source": [
    "# | export\n",
    "def process_v1_search_users(\n",
    "    v1_user_ls: list[dict],  # list of users from v1_users_search API\n",
    ") -> list[dict]:  # sanitized list of users.\n",
    "    \"\"\"sanitizes the response from v1_users_search API and removes unecessary attributes\"\"\"\n",
    "\n",
    "    clean_users = []\n",
    "\n",
    "    for obj_user in v1_user_ls:\n",
    "\n",
    "        dd_user = dd.DictDot(obj_user)\n",
    "\n",
    "        clean_users.append(\n",
    "            {\n",
    "                \"id\": dd_user.id,\n",
    "                \"displayName\": dd_user.displayName,\n",
    "                \"roleId\": dd_user.roleId,\n",
    "                \"userName\": dd_user.userName,\n",
    "                \"emailAddress\": dd_user.emailAddress,\n",
    "            }\n",
    "        )\n",
    "\n",
    "    return clean_users"
   ]
  },
  {
   "cell_type": "code",
   "execution_count": 8,
   "metadata": {},
   "outputs": [],
   "source": [
    "# | export\n",
    "class SearchUser_NoResults(de.DomoError):\n",
    "    def __init__(\n",
    "        self, domo_instance, function_name=\"search_users\", search_criteria=None\n",
    "    ):\n",
    "\n",
    "        search_str = f\"- {search_criteria}\" if search_criteria else \"\"\n",
    "\n",
    "        print(search_str)\n",
    "\n",
    "        super().__init__(\n",
    "            message=f\"query {search_str} returned no users\", function_name=function_name\n",
    "        )"
   ]
  },
  {
   "cell_type": "code",
   "execution_count": 9,
   "metadata": {},
   "outputs": [],
   "source": [
    "# | export\n",
    "async def search_users(\n",
    "    auth: dmda.DomoAuth, body: dict, debug_api: bool = False, return_raw: bool = False\n",
    ") -> rgd.ResponseGetData:\n",
    "\n",
    "    url = f\"https://{auth.domo_instance}.domo.com/api/identity/v1/users/search\"\n",
    "\n",
    "    res = await gd.get_data(\n",
    "        url=url,\n",
    "        method=\"POST\",\n",
    "        auth=auth,\n",
    "        body=body,\n",
    "        debug_api=debug_api,\n",
    "    )\n",
    "\n",
    "    if return_raw:\n",
    "        return res\n",
    "\n",
    "    if not res.is_success:\n",
    "        return res\n",
    "\n",
    "    if res.is_success and len(res.response.get(\"users\")) == 0:\n",
    "        raise SearchUser_NoResults(domo_instance=auth.domo_instance)\n",
    "\n",
    "    res.response = process_v1_search_users(res.response.get(\"users\"))\n",
    "    return res"
   ]
  },
  {
   "attachments": {},
   "cell_type": "markdown",
   "metadata": {},
   "source": [
    "#### sample implementation of search_users\n"
   ]
  },
  {
   "cell_type": "code",
   "execution_count": 10,
   "metadata": {},
   "outputs": [
    {
     "data": {
      "text/html": [
       "<div>\n",
       "<style scoped>\n",
       "    .dataframe tbody tr th:only-of-type {\n",
       "        vertical-align: middle;\n",
       "    }\n",
       "\n",
       "    .dataframe tbody tr th {\n",
       "        vertical-align: top;\n",
       "    }\n",
       "\n",
       "    .dataframe thead th {\n",
       "        text-align: right;\n",
       "    }\n",
       "</style>\n",
       "<table border=\"1\" class=\"dataframe\">\n",
       "  <thead>\n",
       "    <tr style=\"text-align: right;\">\n",
       "      <th></th>\n",
       "      <th>id</th>\n",
       "      <th>displayName</th>\n",
       "      <th>roleId</th>\n",
       "      <th>userName</th>\n",
       "      <th>emailAddress</th>\n",
       "    </tr>\n",
       "  </thead>\n",
       "  <tbody>\n",
       "    <tr>\n",
       "      <th>0</th>\n",
       "      <td>1893952720</td>\n",
       "      <td>Jae Wilson1</td>\n",
       "      <td>1</td>\n",
       "      <td>jae@onyxreporting.com</td>\n",
       "      <td>jae@onyxreporting.com</td>\n",
       "    </tr>\n",
       "  </tbody>\n",
       "</table>\n",
       "</div>"
      ],
      "text/plain": [
       "           id  displayName  roleId               userName  \\\n",
       "0  1893952720  Jae Wilson1       1  jae@onyxreporting.com   \n",
       "\n",
       "            emailAddress  \n",
       "0  jae@onyxreporting.com  "
      ]
     },
     "execution_count": 10,
     "metadata": {},
     "output_type": "execute_result"
    }
   ],
   "source": [
    "import os\n",
    "import pandas as pd\n",
    "\n",
    "token_auth = dmda.DomoTokenAuth(\n",
    "    domo_instance=\"domo-community\", domo_access_token=os.environ[\"DOMO_DOJO_ACCESS_TOKEN\"]\n",
    ")\n",
    "\n",
    "search_email_body = generate_search_users_body_by_email(\n",
    "    user_email_ls=[\"jae@onyxreporting.com\"]\n",
    ")\n",
    "\n",
    "res = await search_users(\n",
    "    auth=token_auth, body=search_email_body, return_raw=False, debug_api=False\n",
    ")\n",
    "\n",
    "pd.DataFrame(res.response)"
   ]
  },
  {
   "attachments": {},
   "cell_type": "markdown",
   "metadata": {},
   "source": [
    "# Publish and Virtual Users\n",
    "\n",
    "> Virtual Users are necessary for assigning PDP policies when publish jobs are created.\n"
   ]
  },
  {
   "cell_type": "code",
   "execution_count": 11,
   "metadata": {},
   "outputs": [],
   "source": [
    "# | export\n",
    "async def search_virtual_user_by_subscriber_instance(\n",
    "    auth: dmda.DomoAuth,  # domo auth object\n",
    "    subscriber_instance_ls: list[str],  # list of subscriber domo instances\n",
    "    debug_api: bool = False,  # debug API requests\n",
    ") -> rgd.ResponseGetData:  # list of virtual domo users\n",
    "    \"\"\"retrieve virtual users for subscriber instances tied to one publisher\"\"\"\n",
    "\n",
    "    url = f\"https://{auth.domo_instance}.domo.com/api/publish/v2/proxy_user/domain/\"\n",
    "\n",
    "    body = {\n",
    "        \"domains\": [\n",
    "            f\"{subscriber_instance}.domo.com\"\n",
    "            for subscriber_instance in subscriber_instance_ls\n",
    "        ]\n",
    "    }\n",
    "\n",
    "    return await gd.get_data(\n",
    "        url=url,\n",
    "        method=\"POST\",\n",
    "        auth=auth,\n",
    "        body=body,\n",
    "        debug_api=debug_api,\n",
    "    )"
   ]
  },
  {
   "attachments": {},
   "cell_type": "markdown",
   "metadata": {},
   "source": [
    "#### sample of search virtual users by subscriber_instance\n"
   ]
  },
  {
   "cell_type": "code",
   "execution_count": 12,
   "metadata": {},
   "outputs": [
    {
     "data": {
      "text/html": [
       "<div>\n",
       "<style scoped>\n",
       "    .dataframe tbody tr th:only-of-type {\n",
       "        vertical-align: middle;\n",
       "    }\n",
       "\n",
       "    .dataframe tbody tr th {\n",
       "        vertical-align: top;\n",
       "    }\n",
       "\n",
       "    .dataframe thead th {\n",
       "        text-align: right;\n",
       "    }\n",
       "</style>\n",
       "<table border=\"1\" class=\"dataframe\">\n",
       "  <thead>\n",
       "    <tr style=\"text-align: right;\">\n",
       "      <th></th>\n",
       "      <th>id</th>\n",
       "      <th>publisherDomain</th>\n",
       "      <th>customerId</th>\n",
       "      <th>subscriberDomain</th>\n",
       "      <th>virtualUserId</th>\n",
       "      <th>created</th>\n",
       "      <th>activeSubscriptions</th>\n",
       "    </tr>\n",
       "  </thead>\n",
       "  <tbody>\n",
       "    <tr>\n",
       "      <th>0</th>\n",
       "      <td>44a56146-f422-4175-9c3b-a194f339f9b6</td>\n",
       "      <td>domo-community.domo.com</td>\n",
       "      <td>mmmm-0012-0200</td>\n",
       "      <td>domo-community.domo.com</td>\n",
       "      <td>fc:f230ba95-bc49-4875-a0db-3c7cd58ed3cc</td>\n",
       "      <td>1680594505000</td>\n",
       "      <td>0</td>\n",
       "    </tr>\n",
       "    <tr>\n",
       "      <th>1</th>\n",
       "      <td>8b5c26e0-db3a-40f8-855f-6189ac3cf5c8</td>\n",
       "      <td>domo-community.domo.com</td>\n",
       "      <td>mmmm-0012-0200</td>\n",
       "      <td>test.domo.com</td>\n",
       "      <td>fc:e3ce6205-6717-42b4-ba1c-16b5e40eca98</td>\n",
       "      <td>1680594505000</td>\n",
       "      <td>0</td>\n",
       "    </tr>\n",
       "  </tbody>\n",
       "</table>\n",
       "</div>"
      ],
      "text/plain": [
       "                                     id          publisherDomain  \\\n",
       "0  44a56146-f422-4175-9c3b-a194f339f9b6  domo-community.domo.com   \n",
       "1  8b5c26e0-db3a-40f8-855f-6189ac3cf5c8  domo-community.domo.com   \n",
       "\n",
       "       customerId         subscriberDomain  \\\n",
       "0  mmmm-0012-0200  domo-community.domo.com   \n",
       "1  mmmm-0012-0200            test.domo.com   \n",
       "\n",
       "                             virtualUserId        created  activeSubscriptions  \n",
       "0  fc:f230ba95-bc49-4875-a0db-3c7cd58ed3cc  1680594505000                    0  \n",
       "1  fc:e3ce6205-6717-42b4-ba1c-16b5e40eca98  1680594505000                    0  "
      ]
     },
     "execution_count": 12,
     "metadata": {},
     "output_type": "execute_result"
    }
   ],
   "source": [
    "import os\n",
    "import pandas as pd\n",
    "\n",
    "token_auth = dmda.DomoTokenAuth(\n",
    "    domo_instance=\"domo-community\", domo_access_token=os.environ[\"DOMO_DOJO_ACCESS_TOKEN\"]\n",
    ")\n",
    "\n",
    "res = await search_virtual_user_by_subscriber_instance(\n",
    "    auth=token_auth, subscriber_instance_ls=[\"domo-community\", \"test\"], debug_api=False\n",
    ")\n",
    "\n",
    "\n",
    "pd.DataFrame(res.response)"
   ]
  },
  {
   "attachments": {},
   "cell_type": "markdown",
   "metadata": {},
   "source": [
    "# CRUD Routes and User Attributes\n"
   ]
  },
  {
   "cell_type": "code",
   "execution_count": 13,
   "metadata": {},
   "outputs": [],
   "source": [
    "# | export\n",
    "async def create_user(\n",
    "    auth: dmda.DomoAuth,\n",
    "    display_name: str,\n",
    "    email_address: str,\n",
    "    role_id: int,\n",
    "    debug_api: bool = False,\n",
    "    session: httpx.AsyncClient = None,\n",
    ") -> rgd.ResponseGetData:\n",
    "\n",
    "    url = f\"https://{auth.domo_instance}.domo.com/api/content/v3/users\"\n",
    "\n",
    "    body = {\"displayName\": display_name,\n",
    "            \"detail\": {\n",
    "                \"email\": email_address},\n",
    "            \"roleId\": role_id\n",
    "            }\n",
    "\n",
    "    return await gd.get_data(\n",
    "        url=url,\n",
    "        method=\"POST\",\n",
    "        body=body,\n",
    "        auth=auth, debug_api=debug_api, session=session\n",
    "    )\n"
   ]
  },
  {
   "cell_type": "code",
   "execution_count": 24,
   "metadata": {},
   "outputs": [
    {
     "data": {
      "text/plain": [
       "ResponseGetData(status=200, response={'id': 746999464, 'invitorUserId': 1893952720, 'displayName': 'test_and_delete', 'role': 'Social', 'roleId': 5, 'detail': {'email': 'test26@test.com', 'pending': True, 'active': True, 'created': 1680664879, 'modified': 1680664879}}, is_success=True)"
      ]
     },
     "execution_count": 24,
     "metadata": {},
     "output_type": "execute_result"
    }
   ],
   "source": [
    "import os\n",
    "import pandas as pd\n",
    "\n",
    "token_auth = dmda.DomoTokenAuth(\n",
    "    domo_instance=\"domo-community\", domo_access_token=os.environ[\"DOMO_DOJO_ACCESS_TOKEN\"]\n",
    ")\n",
    "\n",
    "await create_user(auth = token_auth, display_name = 'test_and_delete', email_address = 'test26@test.com', role_id = 5)\n"
   ]
  },
  {
   "cell_type": "code",
   "execution_count": 15,
   "metadata": {},
   "outputs": [],
   "source": [
    "# | export\n",
    "async def set_user_landing_page(\n",
    "    auth: dmda.DomoAuth, user_id: str, page_id: str, debug_api: bool = False\n",
    "):\n",
    "\n",
    "    url = f\"https://{auth.domo_instance}.domo.com/api/content/v1/landings/target/DESKTOP/entity/PAGE/id/{page_id}/{user_id}\"\n",
    "\n",
    "    return await gd.get_data(\n",
    "        url=url,\n",
    "        method=\"PUT\",\n",
    "        auth=auth,\n",
    "        # body = body,\n",
    "        debug_api=debug_api,\n",
    "    )\n"
   ]
  },
  {
   "cell_type": "code",
   "execution_count": 16,
   "metadata": {},
   "outputs": [],
   "source": [
    "# | export\n",
    "async def reset_password(\n",
    "    auth: dmda.DomoAuth,\n",
    "    user_id: str,\n",
    "    new_password: str,\n",
    "    debug_api: bool = False,\n",
    ") -> rgd.ResponseGetData:\n",
    "\n",
    "    url = f\"https://{auth.domo_instance}.domo.com/api/identity/v1/password\"\n",
    "\n",
    "    body = {\"domoUserId\": user_id, \"password\": new_password}\n",
    "\n",
    "    return await gd.get_data(\n",
    "        url=url,\n",
    "        method=\"PUT\",\n",
    "        auth=auth,\n",
    "        body=body,\n",
    "        debug_api=debug_api,\n",
    "    )\n"
   ]
  },
  {
   "cell_type": "code",
   "execution_count": 17,
   "metadata": {},
   "outputs": [],
   "source": [
    "# | export\n",
    "async def request_password_reset(\n",
    "    domo_instance: str, \n",
    "    email: str, locale=\"en-us\", debug_api: bool = False,\n",
    "    session : httpx.AsyncClient = None\n",
    "):\n",
    "    url = f\"https://{domo_instance}.domo.com/api/domoweb/auth/sendReset\"\n",
    "\n",
    "    params = {\"email\": email, \"local\": locale}\n",
    "\n",
    "    return await gd.get_data(\n",
    "        url=url, method=\"GET\", params=params, auth=None, debug_api=debug_api\n",
    "    )\n"
   ]
  },
  {
   "attachments": {},
   "cell_type": "markdown",
   "metadata": {},
   "source": [
    "### Properties you can PATCH\n"
   ]
  },
  {
   "cell_type": "code",
   "execution_count": 18,
   "metadata": {},
   "outputs": [],
   "source": [
    "# | export\n",
    "class UserProperty_Type(Enum):\n",
    "    display_name = \"displayName\"\n",
    "    email_address = \"emailAddress\"\n",
    "    phone_number = \"phoneNumber\"\n",
    "    title = \"title\"\n",
    "    department = \"department\"\n",
    "    web_landing_page = \"webLandingPage\"\n",
    "    web_mobile_landing_page = \"webMobileLandingPage\"\n",
    "    role_id = \"roleId\"\n",
    "    employee_id = \"employeeId\"\n",
    "    employee_number = \"employeeNumber\"\n",
    "    hire_date = \"hireDate\"\n",
    "    reports_to = \"reportsTo\"\n",
    "\n",
    "\n",
    "class UserProperty:\n",
    "    property_type: UserProperty_Type\n",
    "    values: str\n",
    "\n",
    "    def __init__(self, property_type: UserProperty_Type, values):\n",
    "        self.property_type = property_type\n",
    "        self.values = self._valid_value(values)\n",
    "\n",
    "    @staticmethod\n",
    "    def _valid_value(values):\n",
    "        return values if isinstance(values, list) else [values]\n",
    "\n",
    "    def to_json(self):\n",
    "        return {\n",
    "            \"key\": self.property_type.value,\n",
    "            \"values\": self._valid_value(self.values),\n",
    "        }"
   ]
  },
  {
   "cell_type": "code",
   "execution_count": 19,
   "metadata": {},
   "outputs": [],
   "source": [
    "# | export\n",
    "def generate_patch_user_property_body(user_property_ls: [UserProperty]):\n",
    "    return {\n",
    "        \"attributes\": [user_property.to_json() for user_property in user_property_ls]\n",
    "    }"
   ]
  },
  {
   "attachments": {},
   "cell_type": "markdown",
   "metadata": {},
   "source": [
    "#### sample implementation of generate_user_property_body\n"
   ]
  },
  {
   "cell_type": "code",
   "execution_count": 20,
   "metadata": {},
   "outputs": [
    {
     "data": {
      "text/plain": [
       "{'attributes': [{'key': 'displayName', 'values': ['jae myong wilson']},\n",
       "  {'key': 'emailAddress', 'values': ['jae@onyxreporting.com']},\n",
       "  {'key': 'roleId', 'values': [1]}]}"
      ]
     },
     "execution_count": 20,
     "metadata": {},
     "output_type": "execute_result"
    }
   ],
   "source": [
    "user_property_ls = [\n",
    "    UserProperty(UserProperty_Type.display_name, \"jae myong wilson\"),\n",
    "    UserProperty(UserProperty_Type.email_address, \"jae@onyxreporting.com\"),\n",
    "    UserProperty(UserProperty_Type.role_id, 1),\n",
    "]\n",
    "\n",
    "generate_patch_user_property_body(user_property_ls)"
   ]
  },
  {
   "cell_type": "code",
   "execution_count": 21,
   "metadata": {},
   "outputs": [],
   "source": [
    "# | export\n",
    "async def update_user(\n",
    "    user_id: str,\n",
    "    user_property_ls: [UserProperty],\n",
    "    auth: dmda.DomoAuth = None,\n",
    "    debug_api: bool = False,\n",
    "    session: httpx.AsyncClient = None,\n",
    "):\n",
    "    url = f\"https://{auth.domo_instance}.domo.com/api/identity/v1/users/{user_id}\"\n",
    "\n",
    "    body = (\n",
    "        generate_patch_user_property_body(user_property_ls)\n",
    "        if isinstance(user_property_ls[0], UserProperty)\n",
    "        else user_property_ls\n",
    "    )\n",
    "\n",
    "    return await gd.get_data(\n",
    "        url=url,\n",
    "        method=\"Patch\",\n",
    "        auth=auth,\n",
    "        body=body,\n",
    "        debug_api=debug_api,\n",
    "        session=session,\n",
    "    )"
   ]
  },
  {
   "cell_type": "code",
   "execution_count": 22,
   "metadata": {},
   "outputs": [
    {
     "data": {
      "text/plain": [
       "ResponseGetData(status=200, response={'attributes': [{'key': 'id', 'values': [1681443709]}, {'key': 'displayName', 'values': ['test 3']}, {'key': 'userName', 'values': ['test3@test.com']}, {'key': 'emailAddress', 'values': ['test3@test.com']}, {'key': 'modified', 'values': [1680664869762]}, {'key': 'created', 'values': [1664936244000]}, {'key': 'roleId', 'values': [810756122]}, {'key': 'isAnonymous', 'values': [True]}, {'key': 'isSystemUser', 'values': [False]}, {'key': 'isPending', 'values': [True]}, {'key': 'isActive', 'values': [True]}, {'key': 'invitorUserId', 'values': [1893952720]}, {'key': 'avatarKey', 'values': ['/api/content/v1/avatar/USER/1681443709']}], 'id': 1681443709, 'displayName': 'test 3', 'roleId': 810756122, 'userName': 'test3@test.com', 'emailAddress': 'test3@test.com'}, is_success=True)"
      ]
     },
     "execution_count": 22,
     "metadata": {},
     "output_type": "execute_result"
    }
   ],
   "source": [
    "import os\n",
    "\n",
    "token_auth = dmda.DomoTokenAuth(\n",
    "    domo_instance=\"domo-community\", domo_access_token=os.environ[\"DOMO_DOJO_ACCESS_TOKEN\"]\n",
    ")\n",
    "\n",
    "user_property_ls = [\n",
    "    UserProperty(UserProperty_Type.display_name, \"test 3\"),\n",
    "    UserProperty(UserProperty_Type.email_address, \"test3@test.com\"),\n",
    "    UserProperty(UserProperty_Type.role_id, 810756122),\n",
    "]\n",
    "\n",
    "await update_user(\n",
    "    user_id=1681443709, user_property_ls=user_property_ls, auth=token_auth\n",
    ")"
   ]
  },
  {
   "cell_type": "code",
   "execution_count": 23,
   "metadata": {},
   "outputs": [],
   "source": [
    "# | hide\n",
    "import nbdev\n",
    "\n",
    "nbdev.nbdev_export()"
   ]
  }
 ],
 "metadata": {
  "jupytext": {
   "split_at_heading": true
  },
  "kernelspec": {
   "display_name": "Python 3",
   "language": "python",
   "name": "python3"
  },
  "language_info": {
   "codemirror_mode": {
    "name": "ipython",
    "version": 3
   },
   "file_extension": ".py",
   "mimetype": "text/x-python",
   "name": "python",
   "nbconvert_exporter": "python",
   "pygments_lexer": "ipython3",
   "version": "3.10.4"
  }
 },
 "nbformat": 4,
 "nbformat_minor": 4
}
