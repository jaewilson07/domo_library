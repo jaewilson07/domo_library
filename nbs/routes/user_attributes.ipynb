{
 "cells": [
  {
   "cell_type": "raw",
   "metadata": {},
   "source": [
    "---\n",
    "title: User Attribute Routes\n",
    "output-file: user_attributes_routes.html\n",
    "---\n",
    "\n"
   ]
  },
  {
   "cell_type": "code",
   "execution_count": 23,
   "metadata": {},
   "outputs": [],
   "source": [
    "# | default_exp routes.user_attributes"
   ]
  },
  {
   "cell_type": "code",
   "execution_count": 24,
   "metadata": {},
   "outputs": [],
   "source": [
    "# | export\n",
    "from enum import Enum\n",
    "from typing import List\n",
    "\n",
    "import datetime as dt\n",
    "\n",
    "import re\n",
    "\n",
    "import httpx\n",
    "import domolibrary.client.get_data as gd\n",
    "import domolibrary.client.DomoError as de\n",
    "\n",
    "import domolibrary.client.DomoAuth as dmda"
   ]
  },
  {
   "cell_type": "code",
   "execution_count": 25,
   "metadata": {},
   "outputs": [],
   "source": [
    "# | hide\n",
    "from nbdev.showdoc import show_doc\n",
    "import os\n",
    "import domolibrary.client.DomoAuth as dmda\n",
    "from pprint import pprint"
   ]
  },
  {
   "cell_type": "code",
   "execution_count": 26,
   "metadata": {},
   "outputs": [],
   "source": [
    "# | export\n",
    "class UserAttributes_IssuerType(Enum):\n",
    "    IDP = \"idp\"\n",
    "    SYSTEM = \"domo-defined\"\n",
    "    CUSTOM = \"customer-defined\"\n",
    "\n",
    "\n",
    "class UserAttributes_GET_Error(de.DomoError):\n",
    "    def __init__(\n",
    "        self,\n",
    "        status,\n",
    "        message,\n",
    "        domo_instance,\n",
    "        parent_class: str = None,\n",
    "        function_name: str = None,\n",
    "    ):\n",
    "        super().__init__(\n",
    "            status=status,\n",
    "            message=message,\n",
    "            parent_class=parent_class,\n",
    "            domo_instance=domo_instance,\n",
    "            function_name=function_name,\n",
    "        )\n",
    "\n",
    "\n",
    "class UserAttributes_CRUD_Error(de.DomoError):\n",
    "    def __init__(\n",
    "        self,\n",
    "        status,\n",
    "        message,\n",
    "        domo_instance,\n",
    "        parent_class: str = None,\n",
    "        function_name: str = None,\n",
    "    ):\n",
    "        super().__init__(\n",
    "            status=status,\n",
    "            message=message,\n",
    "            parent_class=parent_class,\n",
    "            domo_instance=domo_instance,\n",
    "            function_name=function_name,\n",
    "        )"
   ]
  },
  {
   "cell_type": "code",
   "execution_count": 27,
   "metadata": {},
   "outputs": [
    {
     "data": {
      "text/plain": [
       "[{'IDP', 'idp'}, {'SYSTEM', 'domo-defined'}, {'CUSTOM', 'customer-defined'}]"
      ]
     },
     "execution_count": 27,
     "metadata": {},
     "output_type": "execute_result"
    }
   ],
   "source": [
    "[{member.name, member.value} for member in UserAttributes_IssuerType]"
   ]
  },
  {
   "cell_type": "code",
   "execution_count": 28,
   "metadata": {},
   "outputs": [],
   "source": [
    "# | export\n",
    "\n",
    "\n",
    "@gd.route_function\n",
    "async def get_user_attributes(\n",
    "    auth: dmda.DomoAuth,\n",
    "    issuer_type_ls: List[\n",
    "        UserAttributes_IssuerType\n",
    "    ] = None,  # use `UserAttributes_IssuerType` enum\n",
    "    session: httpx.AsyncClient = None,\n",
    "    debug_api: bool = False,\n",
    "    parent_class=None,\n",
    "    debug_num_stacks_to_drop=1,\n",
    "):\n",
    "    \"\"\"retrieves user attributes from Domo\n",
    "    user attributes can be `UserAttributes_IssuerType` -- idp, domo, or user-generated\n",
    "    API does not filter on the issuer type (despite API accepting filter parameter)\n",
    "    \"\"\"\n",
    "    issuer_type_ls = issuer_type_ls or [member for member in UserAttributes_IssuerType]\n",
    "\n",
    "    issuer_types = \",\".join([member.value for member in issuer_type_ls])\n",
    "\n",
    "    params = {\"issuerTypes\": issuer_types}\n",
    "\n",
    "    url = f\"https://{auth.domo_instance}.domo.com/api/user/v1/properties/meta/keys\"\n",
    "\n",
    "    res = await gd.get_data(\n",
    "        auth=auth,\n",
    "        url=url,\n",
    "        method=\"GET\",\n",
    "        params=params,\n",
    "        session=session,\n",
    "        debug_api=debug_api,\n",
    "        parent_class=parent_class,\n",
    "        num_stacks_to_drop=debug_num_stacks_to_drop,\n",
    "    )\n",
    "\n",
    "    if not res.is_success:\n",
    "        raise UserAttributes_GET_Error(\n",
    "            status=res.status,\n",
    "            message=res.response,\n",
    "            function_name=res.traceback_details.function_name,\n",
    "            parent_class=parent_class,\n",
    "            domo_instance=auth.domo_instance,\n",
    "        )\n",
    "\n",
    "    res.response = [\n",
    "        obj\n",
    "        for obj in res.response\n",
    "        if obj[\"keyspace\"] in [member.value for member in issuer_type_ls]\n",
    "    ]\n",
    "\n",
    "    return res"
   ]
  },
  {
   "cell_type": "code",
   "execution_count": 29,
   "metadata": {},
   "outputs": [
    {
     "data": {
      "text/markdown": [
       "---\n",
       "\n",
       "[source](https://github.com/jaewilson07/domo_library/blob/main/domolibrary/routes/user_attributes.py#L66){target=\"_blank\" style=\"float:right; font-size:smaller\"}\n",
       "\n",
       "### get_user_attributes\n",
       "\n",
       ">      get_user_attributes (auth:domolibrary.client.DomoAuth.DomoAuth,\n",
       ">                           issuer_type_ls:List[__main__.UserAttributes_IssuerTy\n",
       ">                           pe]=None, session:httpx.AsyncClient=None,\n",
       ">                           debug_api:bool=False, parent_class=None,\n",
       ">                           debug_num_stacks_to_drop=1)\n",
       "\n",
       "retrieves user attributes from Domo\n",
       "user attributes can be `UserAttributes_IssuerType` -- idp, domo, or user-generated\n",
       "API does not filter on the issuer type (despite API accepting filter parameter)"
      ],
      "text/plain": [
       "---\n",
       "\n",
       "[source](https://github.com/jaewilson07/domo_library/blob/main/domolibrary/routes/user_attributes.py#L66){target=\"_blank\" style=\"float:right; font-size:smaller\"}\n",
       "\n",
       "### get_user_attributes\n",
       "\n",
       ">      get_user_attributes (auth:domolibrary.client.DomoAuth.DomoAuth,\n",
       ">                           issuer_type_ls:List[__main__.UserAttributes_IssuerTy\n",
       ">                           pe]=None, session:httpx.AsyncClient=None,\n",
       ">                           debug_api:bool=False, parent_class=None,\n",
       ">                           debug_num_stacks_to_drop=1)\n",
       "\n",
       "retrieves user attributes from Domo\n",
       "user attributes can be `UserAttributes_IssuerType` -- idp, domo, or user-generated\n",
       "API does not filter on the issuer type (despite API accepting filter parameter)"
      ]
     },
     "execution_count": 29,
     "metadata": {},
     "output_type": "execute_result"
    }
   ],
   "source": [
    "show_doc(get_user_attributes)"
   ]
  },
  {
   "cell_type": "code",
   "execution_count": 30,
   "metadata": {},
   "outputs": [
    {
     "data": {
      "text/plain": [
       "[{'context': 'mmmm-0012-0200',\n",
       "  'keyspace': 'customer-defined',\n",
       "  'key': 'fzStoreID',\n",
       "  'title': 'StoreID',\n",
       "  'description': 'FZ_POC',\n",
       "  'validator': 'ANY_VALUE',\n",
       "  'validatorConfiguration': None,\n",
       "  'securityVoter': 'FULL_VIS_ADMIN_IDP',\n",
       "  'valueType': 'STRING',\n",
       "  'custom': True},\n",
       " {'context': 'mmmm-0012-0200',\n",
       "  'keyspace': 'customer-defined',\n",
       "  'key': 'fzFranchiseID',\n",
       "  'title': 'FranchiseID',\n",
       "  'description': 'FZ_POC',\n",
       "  'validator': 'ANY_VALUE',\n",
       "  'validatorConfiguration': None,\n",
       "  'securityVoter': 'FULL_VIS_ADMIN_IDP',\n",
       "  'valueType': 'STRING',\n",
       "  'custom': True},\n",
       " {'context': 'mmmm-0012-0200',\n",
       "  'keyspace': 'customer-defined',\n",
       "  'key': 'DomoLibraryStore',\n",
       "  'title': 'store_id',\n",
       "  'description': 'store ids',\n",
       "  'validator': 'ANY_VALUE',\n",
       "  'validatorConfiguration': None,\n",
       "  'securityVoter': 'FULL_VIS_ADMIN_IDP',\n",
       "  'valueType': 'STRING',\n",
       "  'custom': True},\n",
       " {'context': 'mmmm-0012-0200',\n",
       "  'keyspace': 'customer-defined',\n",
       "  'key': 'DomoLibraryTestFranchise',\n",
       "  'title': 'franchise_id',\n",
       "  'description': 'test',\n",
       "  'validator': 'ANY_VALUE',\n",
       "  'validatorConfiguration': None,\n",
       "  'securityVoter': 'FULL_VIS_ADMIN_IDP',\n",
       "  'valueType': 'STRING',\n",
       "  'custom': True}]"
      ]
     },
     "execution_count": 30,
     "metadata": {},
     "output_type": "execute_result"
    }
   ],
   "source": [
    "# import os\n",
    "# import domolibrary.client.DomoAuth as dmda\n",
    "\n",
    "token_auth = dmda.DomoTokenAuth(\n",
    "    domo_instance=\"domo-community\",\n",
    "    domo_access_token=os.environ[\"DOMO_DOJO_ACCESS_TOKEN\"],\n",
    ")\n",
    "\n",
    "res = await get_user_attributes(\n",
    "    auth=token_auth, issuer_type_ls=[UserAttributes_IssuerType.CUSTOM], debug_api=False\n",
    ")\n",
    "\n",
    "res.response"
   ]
  },
  {
   "cell_type": "code",
   "execution_count": 31,
   "metadata": {},
   "outputs": [],
   "source": [
    "# | export\n",
    "\n",
    "\n",
    "@gd.route_function\n",
    "async def get_user_attribute_by_id(\n",
    "    auth: dmda.DomoAuth,\n",
    "    attribute_id: str,\n",
    "    session: httpx.AsyncClient = None,\n",
    "    debug_api: bool = False,\n",
    "    parent_class=None,\n",
    "    debug_num_stacks_to_drop=1,\n",
    "):\n",
    "    \"\"\"retrieves user attributes from Domo\n",
    "    user attributes can be `UserAttributes_IssuerType` -- idp, domo, or user-generated\n",
    "    API does not filter on the issuer type (despite API accepting filter parameter)\n",
    "    \"\"\"\n",
    "\n",
    "    res = await get_user_attributes(auth=auth, session=session)\n",
    "\n",
    "    if not res.is_success:\n",
    "        raise UserAttributes_GET_Error(\n",
    "            status=res.status,\n",
    "            message=res.response,\n",
    "            function_name=res.traceback_details.function_name,\n",
    "            parent_class=parent_class,\n",
    "            domo_instance=domo_instance,\n",
    "        )\n",
    "\n",
    "    res.response = next(\n",
    "        (obj for obj in res.response if obj[\"key\"] == attribute_id), None\n",
    "    )\n",
    "\n",
    "    if not res.response:\n",
    "        raise UserAttributes_GET_Error(\n",
    "            status=res.status,\n",
    "            message=f\"attribute {attribute_id} not found\",\n",
    "            function_name=res.traceback_details.function_name,\n",
    "            parent_class=parent_class,\n",
    "            domo_instance=auth.domo_instance,\n",
    "        )\n",
    "\n",
    "    return res"
   ]
  },
  {
   "cell_type": "code",
   "execution_count": 32,
   "metadata": {},
   "outputs": [
    {
     "data": {
      "text/markdown": [
       "---\n",
       "\n",
       "[source](https://github.com/jaewilson07/domo_library/blob/main/domolibrary/routes/user_attributes.py#L118){target=\"_blank\" style=\"float:right; font-size:smaller\"}\n",
       "\n",
       "### get_user_attribute_by_id\n",
       "\n",
       ">      get_user_attribute_by_id (auth:domolibrary.client.DomoAuth.DomoAuth,\n",
       ">                                attribute_id:str,\n",
       ">                                session:httpx.AsyncClient=None,\n",
       ">                                debug_api:bool=False, parent_class=None,\n",
       ">                                debug_num_stacks_to_drop=1)\n",
       "\n",
       "retrieves user attributes from Domo\n",
       "user attributes can be `UserAttributes_IssuerType` -- idp, domo, or user-generated\n",
       "API does not filter on the issuer type (despite API accepting filter parameter)"
      ],
      "text/plain": [
       "---\n",
       "\n",
       "[source](https://github.com/jaewilson07/domo_library/blob/main/domolibrary/routes/user_attributes.py#L118){target=\"_blank\" style=\"float:right; font-size:smaller\"}\n",
       "\n",
       "### get_user_attribute_by_id\n",
       "\n",
       ">      get_user_attribute_by_id (auth:domolibrary.client.DomoAuth.DomoAuth,\n",
       ">                                attribute_id:str,\n",
       ">                                session:httpx.AsyncClient=None,\n",
       ">                                debug_api:bool=False, parent_class=None,\n",
       ">                                debug_num_stacks_to_drop=1)\n",
       "\n",
       "retrieves user attributes from Domo\n",
       "user attributes can be `UserAttributes_IssuerType` -- idp, domo, or user-generated\n",
       "API does not filter on the issuer type (despite API accepting filter parameter)"
      ]
     },
     "execution_count": 32,
     "metadata": {},
     "output_type": "execute_result"
    }
   ],
   "source": [
    "show_doc(get_user_attribute_by_id)"
   ]
  },
  {
   "cell_type": "code",
   "execution_count": 33,
   "metadata": {},
   "outputs": [
    {
     "data": {
      "text/plain": [
       "{'context': 'mmmm-0012-0200',\n",
       " 'keyspace': 'customer-defined',\n",
       " 'key': 'DomoLibraryTestFranchise',\n",
       " 'title': 'franchise_id',\n",
       " 'description': 'test',\n",
       " 'validator': 'ANY_VALUE',\n",
       " 'validatorConfiguration': None,\n",
       " 'securityVoter': 'FULL_VIS_ADMIN_IDP',\n",
       " 'valueType': 'STRING',\n",
       " 'custom': True}"
      ]
     },
     "execution_count": 33,
     "metadata": {},
     "output_type": "execute_result"
    }
   ],
   "source": [
    "# import os\n",
    "# import domolibrary.client.DomoAuth as dmda\n",
    "\n",
    "token_auth = dmda.DomoTokenAuth(\n",
    "    domo_instance=\"domo-community\",\n",
    "    domo_access_token=os.environ[\"DOMO_DOJO_ACCESS_TOKEN\"],\n",
    ")\n",
    "\n",
    "res = await get_user_attribute_by_id(\n",
    "    attribute_id=\"DomoLibraryTestFranchise\", auth=token_auth, debug_api=False\n",
    ")\n",
    "\n",
    "res.response"
   ]
  },
  {
   "cell_type": "code",
   "execution_count": 34,
   "metadata": {},
   "outputs": [],
   "source": [
    "# | export\n",
    "\n",
    "\n",
    "def clean_attribute_id(text):\n",
    "    return re.sub(r\"[^A-Za-z0-9]\", \"\", text)"
   ]
  },
  {
   "cell_type": "code",
   "execution_count": 35,
   "metadata": {},
   "outputs": [],
   "source": [
    "# | export\n",
    "\n",
    "\n",
    "def generate_create_user_attribute_body(\n",
    "    attribute_id: str,\n",
    "    name: str = None,\n",
    "    description: str = None,\n",
    "    issuer_type: UserAttributes_IssuerType = None,\n",
    "    security_voter: str = None,\n",
    "    data_type: str = None,\n",
    "):\n",
    "    s = {\"key\": attribute_id}\n",
    "\n",
    "    if issuer_type:\n",
    "        s.update({\"keyspace\": issuer_type.value})\n",
    "\n",
    "    if security_voter:\n",
    "        s.update({\"securityVoter\": security_voter})\n",
    "\n",
    "    if data_type:\n",
    "        s.update({\"validator\": data_type})\n",
    "\n",
    "    if name:\n",
    "        s.update({\"title\": name})\n",
    "\n",
    "    if description:\n",
    "        s.update({\"description\": description})\n",
    "\n",
    "    return s\n",
    "\n",
    "\n",
    "@gd.route_function\n",
    "async def create_user_attribute(\n",
    "    auth: dmda.DomoAuth,\n",
    "    attribute_id,\n",
    "    name=None,\n",
    "    description=None,\n",
    "    data_type: str = None,\n",
    "    security_voter=None,\n",
    "    issuer_type: UserAttributes_IssuerType = None,\n",
    "    session: httpx.AsyncClient = None,\n",
    "    debug_api: bool = False,\n",
    "    parent_class=None,\n",
    "    debug_num_stacks_to_drop=1,\n",
    "):\n",
    "    name = name or attribute_id\n",
    "    attribute_id = clean_attribute_id(attribute_id)\n",
    "    description = (\n",
    "        description\n",
    "        or f\"updated via domolibrary {dt.datetime.now().strftime('%Y-%m-%d - %H:%M')}\"\n",
    "    )\n",
    "    data_type = data_type or \"ANY_VALUE\"\n",
    "    security_voter = security_voter or \"FULL_VIS_ADMIN_IDP\"\n",
    "    issuer_type = issuer_type or UserAttributes_IssuerType.CUSTOM\n",
    "\n",
    "    body = generate_create_user_attribute_body(\n",
    "        attribute_id=attribute_id,\n",
    "        issuer_type=issuer_type,\n",
    "        name=name,\n",
    "        data_type=data_type,\n",
    "        security_voter=security_voter,\n",
    "        description=description,\n",
    "    )\n",
    "\n",
    "    url = f\"https://{auth.domo_instance}.domo.com/api/user/v1/properties/meta/keys/{attribute_id}\"\n",
    "\n",
    "    res = await gd.get_data(\n",
    "        auth=auth,\n",
    "        url=url,\n",
    "        method=\"POST\",\n",
    "        body=body,\n",
    "        session=session,\n",
    "        debug_api=debug_api,\n",
    "        parent_class=parent_class,\n",
    "        num_stacks_to_drop=debug_num_stacks_to_drop,\n",
    "    )\n",
    "\n",
    "    if not res.is_success:\n",
    "        raise UserAttributes_CRUD_Error(\n",
    "            status=res.status,\n",
    "            message=f\"Bad Request - does attribute {attribute_id} already exist?\",\n",
    "            function_name=res.traceback_details.function_name,\n",
    "            parent_class=parent_class,\n",
    "            domo_instance=auth.domo_instance,\n",
    "        )\n",
    "\n",
    "    res.response = f\"created {attribute_id}\"\n",
    "\n",
    "    return res"
   ]
  },
  {
   "cell_type": "code",
   "execution_count": 36,
   "metadata": {},
   "outputs": [
    {
     "name": "stdout",
     "output_type": "stream",
     "text": [
      "ResponseGetData(status=200, response='created TestLibraryStore', is_success=True, parent_class=None)\n"
     ]
    }
   ],
   "source": [
    "# import os\n",
    "# import domolibrary.client.DomoAuth as dmda\n",
    "\n",
    "token_auth = dmda.DomoTokenAuth(\n",
    "    domo_instance=\"domo-community\",\n",
    "    domo_access_token=os.environ[\"DOMO_DOJO_ACCESS_TOKEN\"],\n",
    ")\n",
    "\n",
    "try:\n",
    "    res = await create_user_attribute(\n",
    "        auth=token_auth,\n",
    "        attribute_id=\"Test Library Store\",\n",
    "        name=\"test library store\",\n",
    "        debug_api=False,\n",
    "    )\n",
    "\n",
    "    print(res)\n",
    "except UserAttributes_CRUD_Error as e:\n",
    "    print(e)"
   ]
  },
  {
   "cell_type": "code",
   "execution_count": 37,
   "metadata": {},
   "outputs": [],
   "source": [
    "# | export\n",
    "@gd.route_function\n",
    "async def update_user_attribute(\n",
    "    auth: dmda.DomoAuth,\n",
    "    attribute_id,\n",
    "    name=None,\n",
    "    description=None,\n",
    "    issuer_type: UserAttributes_IssuerType = UserAttributes_IssuerType.CUSTOM,\n",
    "    data_type: str = None,\n",
    "    security_voter=None,\n",
    "    session: httpx.AsyncClient = None,\n",
    "    debug_api: bool = False,\n",
    "    parent_class=None,\n",
    "    debug_num_stacks_to_drop=1,\n",
    "):\n",
    "    \"\"\"body must include all attribute parameters,\n",
    "    this route wil use the `get_user_attribute_by_id` function to retrieve existing values (and throw an error if not found)\n",
    "    to construct an update statement\"\"\"\n",
    "\n",
    "    body = generate_create_user_attribute_body(\n",
    "        attribute_id=attribute_id,\n",
    "        issuer_type=issuer_type,\n",
    "        name=name,\n",
    "        description=description,\n",
    "        data_type=data_type,\n",
    "        security_voter=security_voter,\n",
    "    )\n",
    "\n",
    "    res = await get_user_attribute_by_id(attribute_id=attribute_id, auth=auth)\n",
    "\n",
    "    body = {**res.response, **body}\n",
    "\n",
    "    url = f\"https://{auth.domo_instance}.domo.com/api/user/v1/properties/meta/keys/{attribute_id}\"\n",
    "\n",
    "    res = await gd.get_data(\n",
    "        auth=auth,\n",
    "        url=url,\n",
    "        method=\"PUT\",\n",
    "        body=body,\n",
    "        session=session,\n",
    "        debug_api=debug_api,\n",
    "        parent_class=parent_class,\n",
    "        num_stacks_to_drop=debug_num_stacks_to_drop,\n",
    "    )\n",
    "\n",
    "    if not res.is_success:\n",
    "        raise UserAttributes_CRUD_Error(\n",
    "            status=res.status,\n",
    "            message=f\"Bad Request - error updating {attribute_id}\",\n",
    "            function_name=res.traceback_details.function_name,\n",
    "            parent_class=parent_class,\n",
    "            domo_instance=auth.domo_instance,\n",
    "        )\n",
    "\n",
    "    res.response = f\"updated {attribute_id}\"\n",
    "\n",
    "    return res"
   ]
  },
  {
   "cell_type": "code",
   "execution_count": 38,
   "metadata": {},
   "outputs": [
    {
     "data": {
      "text/markdown": [
       "---\n",
       "\n",
       "[source](https://github.com/jaewilson07/domo_library/blob/main/domolibrary/routes/user_attributes.py#L243){target=\"_blank\" style=\"float:right; font-size:smaller\"}\n",
       "\n",
       "### update_user_attribute\n",
       "\n",
       ">      update_user_attribute (auth:domolibrary.client.DomoAuth.DomoAuth,\n",
       ">                             attribute_id, name=None, description=None, issuer_\n",
       ">                             type:__main__.UserAttributes_IssuerType=<UserAttri\n",
       ">                             butes_IssuerType.CUSTOM: 'customer-defined'>,\n",
       ">                             data_type:str=None, security_voter=None,\n",
       ">                             session:httpx.AsyncClient=None,\n",
       ">                             debug_api:bool=False, parent_class=None,\n",
       ">                             debug_num_stacks_to_drop=1)\n",
       "\n",
       "body must include all attribute parameters,\n",
       "this route wil use the `get_user_attribute_by_id` function to retrieve existing values (and throw an error if not found)\n",
       "to construct an update statement"
      ],
      "text/plain": [
       "---\n",
       "\n",
       "[source](https://github.com/jaewilson07/domo_library/blob/main/domolibrary/routes/user_attributes.py#L243){target=\"_blank\" style=\"float:right; font-size:smaller\"}\n",
       "\n",
       "### update_user_attribute\n",
       "\n",
       ">      update_user_attribute (auth:domolibrary.client.DomoAuth.DomoAuth,\n",
       ">                             attribute_id, name=None, description=None, issuer_\n",
       ">                             type:__main__.UserAttributes_IssuerType=<UserAttri\n",
       ">                             butes_IssuerType.CUSTOM: 'customer-defined'>,\n",
       ">                             data_type:str=None, security_voter=None,\n",
       ">                             session:httpx.AsyncClient=None,\n",
       ">                             debug_api:bool=False, parent_class=None,\n",
       ">                             debug_num_stacks_to_drop=1)\n",
       "\n",
       "body must include all attribute parameters,\n",
       "this route wil use the `get_user_attribute_by_id` function to retrieve existing values (and throw an error if not found)\n",
       "to construct an update statement"
      ]
     },
     "execution_count": 38,
     "metadata": {},
     "output_type": "execute_result"
    }
   ],
   "source": [
    "show_doc(update_user_attribute)"
   ]
  },
  {
   "cell_type": "code",
   "execution_count": 39,
   "metadata": {},
   "outputs": [
    {
     "name": "stdout",
     "output_type": "stream",
     "text": [
      "ResponseGetData(status=200, response='updated TestLibraryStore', is_success=True, parent_class=None)\n"
     ]
    }
   ],
   "source": [
    "# import os\n",
    "# import domolibrary.client.DomoAuth as dmda\n",
    "\n",
    "token_auth = dmda.DomoTokenAuth(\n",
    "    domo_instance=\"domo-community\",\n",
    "    domo_access_token=os.environ[\"DOMO_DOJO_ACCESS_TOKEN\"],\n",
    ")\n",
    "try:\n",
    "    res = await update_user_attribute(\n",
    "        auth=token_auth,\n",
    "        attribute_id=\"TestLibraryStore\",\n",
    "        name=None,\n",
    "        description=None,\n",
    "        debug_api=False,\n",
    "    )\n",
    "\n",
    "    print(res)\n",
    "\n",
    "except (UserAttributes_GET_Error, UserAttributes_CRUD_Error) as e:\n",
    "    print(e)"
   ]
  },
  {
   "cell_type": "code",
   "execution_count": 40,
   "metadata": {},
   "outputs": [],
   "source": [
    "# |export\n",
    "\n",
    "\n",
    "@gd.route_function\n",
    "async def delete_user_attribute(\n",
    "    auth: dmda.DomoAuth,\n",
    "    attribute_id,\n",
    "    session: httpx.AsyncClient = None,\n",
    "    debug_api: bool = False,\n",
    "    parent_class=None,\n",
    "    debug_num_stacks_to_drop=1,\n",
    "):\n",
    "    url = f\"https://{auth.domo_instance}.domo.com/api/user/v1/properties/meta/keys/{attribute_id}\"\n",
    "\n",
    "    res = await gd.get_data(\n",
    "        auth=auth,\n",
    "        url=url,\n",
    "        method=\"DELETE\",\n",
    "        session=session,\n",
    "        debug_api=debug_api,\n",
    "        parent_class=parent_class,\n",
    "        num_stacks_to_drop=debug_num_stacks_to_drop,\n",
    "    )\n",
    "\n",
    "    if not res.is_success:\n",
    "        raise UserAttributes_CRUD_Error(\n",
    "            status=res.status,\n",
    "            message=f\"Bad Request - failed to delete {attribute_id}\",\n",
    "            function_name=res.traceback_details.function_name,\n",
    "            parent_class=parent_class,\n",
    "            domo_instance=auth.domo_instance,\n",
    "        )\n",
    "\n",
    "    res.response = f\"deleted {attribute_id}\"\n",
    "\n",
    "    return res"
   ]
  },
  {
   "cell_type": "code",
   "execution_count": 41,
   "metadata": {},
   "outputs": [
    {
     "data": {
      "text/markdown": [
       "---\n",
       "\n",
       "[source](https://github.com/jaewilson07/domo_library/blob/main/domolibrary/routes/user_attributes.py#L301){target=\"_blank\" style=\"float:right; font-size:smaller\"}\n",
       "\n",
       "### delete_user_attribute\n",
       "\n",
       ">      delete_user_attribute (auth:domolibrary.client.DomoAuth.DomoAuth,\n",
       ">                             attribute_id, session:httpx.AsyncClient=None,\n",
       ">                             debug_api:bool=False, parent_class=None,\n",
       ">                             debug_num_stacks_to_drop=1)"
      ],
      "text/plain": [
       "---\n",
       "\n",
       "[source](https://github.com/jaewilson07/domo_library/blob/main/domolibrary/routes/user_attributes.py#L301){target=\"_blank\" style=\"float:right; font-size:smaller\"}\n",
       "\n",
       "### delete_user_attribute\n",
       "\n",
       ">      delete_user_attribute (auth:domolibrary.client.DomoAuth.DomoAuth,\n",
       ">                             attribute_id, session:httpx.AsyncClient=None,\n",
       ">                             debug_api:bool=False, parent_class=None,\n",
       ">                             debug_num_stacks_to_drop=1)"
      ]
     },
     "execution_count": 41,
     "metadata": {},
     "output_type": "execute_result"
    }
   ],
   "source": [
    "show_doc(delete_user_attribute)"
   ]
  },
  {
   "cell_type": "code",
   "execution_count": 42,
   "metadata": {},
   "outputs": [
    {
     "name": "stdout",
     "output_type": "stream",
     "text": [
      "ResponseGetData(status=200, response='deleted TestLibraryStore', is_success=True, parent_class=None)\n"
     ]
    }
   ],
   "source": [
    "# import os\n",
    "# import domolibrary.client.DomoAuth as dmda\n",
    "\n",
    "token_auth = dmda.DomoTokenAuth(\n",
    "    domo_instance=\"domo-community\",\n",
    "    domo_access_token=os.environ[\"DOMO_DOJO_ACCESS_TOKEN\"],\n",
    ")\n",
    "\n",
    "try:\n",
    "    res = await delete_user_attribute(\n",
    "        auth=token_auth, attribute_id=\"TestLibraryStore\", debug_api=False\n",
    "    )\n",
    "    print(res)\n",
    "\n",
    "except UserAttributes_Error as e:\n",
    "    print(e)"
   ]
  },
  {
   "cell_type": "code",
   "execution_count": 43,
   "metadata": {},
   "outputs": [],
   "source": [
    "# | hide\n",
    "import nbdev\n",
    "\n",
    "nbdev.nbdev_export()"
   ]
  }
 ],
 "metadata": {
  "jupytext": {
   "split_at_heading": true
  },
  "kernelspec": {
   "display_name": "python3",
   "language": "python",
   "name": "python3"
  },
  "language_info": {
   "codemirror_mode": {
    "name": "ipython",
    "version": 3
   },
   "file_extension": ".py",
   "mimetype": "text/x-python",
   "name": "python",
   "nbconvert_exporter": "python",
   "pygments_lexer": "ipython3",
   "version": "3.10.13"
  }
 },
 "nbformat": 4,
 "nbformat_minor": 4
}
