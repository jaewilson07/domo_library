{
 "cells": [
  {
   "cell_type": "raw",
   "metadata": {},
   "source": [
    "---\n",
    "output-file: routes.publish.html\n",
    "title: Publish Routes\n",
    "---"
   ]
  },
  {
   "cell_type": "code",
   "execution_count": null,
   "metadata": {},
   "outputs": [],
   "source": [
    "# | default_exp routes.publish"
   ]
  },
  {
   "cell_type": "code",
   "execution_count": 2,
   "metadata": {},
   "outputs": [],
   "source": [
    "# | exporti\n",
    "import httpx\n",
    "\n",
    "import domolibrary.client.get_data as gd\n",
    "import domolibrary.client.ResponseGetData as rgd\n",
    "import domolibrary.client.DomoAuth as dmda"
   ]
  },
  {
   "attachments": {},
   "cell_type": "markdown",
   "metadata": {},
   "source": [
    "# Publications"
   ]
  },
  {
   "cell_type": "code",
   "execution_count": 3,
   "metadata": {},
   "outputs": [],
   "source": [
    "# | export\n",
    "async def search_publications(auth: dmda.DomoAuth,\n",
    "                              search_term: str = None, \n",
    "                              limit=100, offset=0,\n",
    "                              session: httpx.AsyncClient = None, debug_api: bool = False) -> rgd.ResponseGetData:\n",
    "    url = f\"https://{auth.domo_instance}.domo.com/api/publish/v2/publication/summaries\"\n",
    "\n",
    "    params = {'limit': limit, 'offset': offset}\n",
    "\n",
    "    if search_term:\n",
    "        params.update({'searchTerm': search_term})\n",
    "\n",
    "    res = await gd.get_data(auth=auth,\n",
    "                         method='GET',\n",
    "                         url=url,\n",
    "                         params=params,\n",
    "                         session=session,\n",
    "                         debug_api=debug_api)\n",
    "\n",
    "    return res\n"
   ]
  },
  {
   "cell_type": "code",
   "execution_count": 4,
   "metadata": {},
   "outputs": [
    {
     "data": {
      "text/html": [
       "<div>\n",
       "<style scoped>\n",
       "    .dataframe tbody tr th:only-of-type {\n",
       "        vertical-align: middle;\n",
       "    }\n",
       "\n",
       "    .dataframe tbody tr th {\n",
       "        vertical-align: top;\n",
       "    }\n",
       "\n",
       "    .dataframe thead th {\n",
       "        text-align: right;\n",
       "    }\n",
       "</style>\n",
       "<table border=\"1\" class=\"dataframe\">\n",
       "  <thead>\n",
       "    <tr style=\"text-align: right;\">\n",
       "      <th></th>\n",
       "      <th>id</th>\n",
       "      <th>name</th>\n",
       "      <th>description</th>\n",
       "      <th>dataSets</th>\n",
       "      <th>pages</th>\n",
       "      <th>cards</th>\n",
       "      <th>subscribers</th>\n",
       "      <th>totalSubscribers</th>\n",
       "      <th>invalidSubscribers</th>\n",
       "      <th>invalidDatasetSubscribers</th>\n",
       "      <th>invalidPageSubscribers</th>\n",
       "      <th>invalidCardSubscribers</th>\n",
       "      <th>isV2</th>\n",
       "      <th>hasDuplicate</th>\n",
       "      <th>refreshing</th>\n",
       "      <th>executionType</th>\n",
       "      <th>executionEstimatedCompletionTime</th>\n",
       "      <th>executionStartTime</th>\n",
       "      <th>executionEndTime</th>\n",
       "    </tr>\n",
       "  </thead>\n",
       "  <tbody>\n",
       "    <tr>\n",
       "      <th>0</th>\n",
       "      <td>701eb547-4244-43f6-bcda-003ed2c483c7</td>\n",
       "      <td>test_publish</td>\n",
       "      <td></td>\n",
       "      <td>1</td>\n",
       "      <td>0</td>\n",
       "      <td>0</td>\n",
       "      <td>0</td>\n",
       "      <td>1</td>\n",
       "      <td>0</td>\n",
       "      <td>0</td>\n",
       "      <td>0</td>\n",
       "      <td>0</td>\n",
       "      <td>True</td>\n",
       "      <td>False</td>\n",
       "      <td>False</td>\n",
       "      <td>NEW_PUBLICATION</td>\n",
       "      <td>1682581070465</td>\n",
       "      <td>1682580980470</td>\n",
       "      <td>1682580980950</td>\n",
       "    </tr>\n",
       "  </tbody>\n",
       "</table>\n",
       "</div>"
      ],
      "text/plain": [
       "                                     id          name description  dataSets   \n",
       "0  701eb547-4244-43f6-bcda-003ed2c483c7  test_publish                     1  \\\n",
       "\n",
       "   pages  cards  subscribers  totalSubscribers  invalidSubscribers   \n",
       "0      0      0            0                 1                   0  \\\n",
       "\n",
       "   invalidDatasetSubscribers  invalidPageSubscribers  invalidCardSubscribers   \n",
       "0                          0                       0                       0  \\\n",
       "\n",
       "   isV2  hasDuplicate  refreshing    executionType   \n",
       "0  True         False       False  NEW_PUBLICATION  \\\n",
       "\n",
       "   executionEstimatedCompletionTime  executionStartTime  executionEndTime  \n",
       "0                     1682581070465       1682580980470     1682580980950  "
      ]
     },
     "execution_count": 4,
     "metadata": {},
     "output_type": "execute_result"
    }
   ],
   "source": [
    "import os\n",
    "import pandas as pd\n",
    "\n",
    "token_auth = dmda.DomoTokenAuth(\n",
    "    domo_instance=\"domo-community\", \n",
    "    domo_access_token=os.environ[\"DOMO_DOJO_ACCESS_TOKEN\"]\n",
    ")\n",
    "\n",
    "res = await search_publications(auth=token_auth)\n",
    "\n",
    "pd.DataFrame(res.response[0:5])\n"
   ]
  },
  {
   "cell_type": "code",
   "execution_count": 6,
   "metadata": {},
   "outputs": [],
   "source": [
    "# | export\n",
    "async def get_publication_by_id(auth: dmda.DomoAuth,\n",
    "                                publication_id: str,\n",
    "                                session: httpx.AsyncClient = None, debug_api: bool = False) -> rgd.ResponseGetData:\n",
    "    url = f\"https://{auth.domo_instance}.domo.com/api/publish/v2/publication/{publication_id}\"\n",
    "\n",
    "    res = await gd.get_data(auth=auth,\n",
    "                            method='GET',\n",
    "                            url=url,\n",
    "                            session=session,\n",
    "                            debug_api=debug_api)\n",
    "\n",
    "    return res\n",
    "\n",
    "\n",
    "# generate publish body\n"
   ]
  },
  {
   "cell_type": "code",
   "execution_count": 7,
   "metadata": {},
   "outputs": [
    {
     "data": {
      "text/plain": [
       "{'id': '701eb547-4244-43f6-bcda-003ed2c483c7',\n",
       " 'name': 'test_publish',\n",
       " 'customerId': 'mmmm-0012-0200',\n",
       " 'created': 1682580980642,\n",
       " 'content': {'id': 'dc7b65dd-28fc-4fa6-b469-26873c668549',\n",
       "  'domain': 'domo-community.domo.com',\n",
       "  'customerId': 'mmmm-0012-0200',\n",
       "  'userId': '612085674',\n",
       "  'type': 'PACKAGE',\n",
       "  'updated': 1682580980642,\n",
       "  'hash': 'cc90e85e-d3d6-43a3-86d7-46d9d7171272',\n",
       "  'publicationId': '701eb547-4244-43f6-bcda-003ed2c483c7'},\n",
       " 'description': '',\n",
       " 'isV2': True,\n",
       " 'hasDuplicate': False,\n",
       " 'useDirectContent': True,\n",
       " 'type': 'CONTENT',\n",
       " 'isBackup': False,\n",
       " 'children': [{'id': 'f80ef8c8-a133-439c-b459-7967ce7df4b3',\n",
       "   'customerId': '',\n",
       "   'created': 1683037775649,\n",
       "   'content': {'id': '7234b90b-09d9-48cb-876a-d8ed11fc6c2a',\n",
       "    'domain': 'domo-community.domo.com',\n",
       "    'customerId': '',\n",
       "    'userId': '612085674',\n",
       "    'domoObjectId': 'e17fd398-8abf-4cb5-8ed1-5394e274fbf4',\n",
       "    'type': 'DATASET',\n",
       "    'updated': 1683037775649,\n",
       "    'hash': '470f51ce-23d1-4c14-b077-1f97668d7437'},\n",
       "   'isV2': True,\n",
       "   'hasDuplicate': False,\n",
       "   'useDirectContent': True,\n",
       "   'type': 'CONTENT',\n",
       "   'isBackup': False,\n",
       "   'children': [],\n",
       "   'subscriptionAuthorizations': [],\n",
       "   'subscribers': []}],\n",
       " 'subscriptionAuthorizations': [{'id': '447bf630-7113-4323-bf67-773dcc450a3a',\n",
       "   'domain': 'test.domo.com',\n",
       "   'created': 1682580980642,\n",
       "   'publicationId': '701eb547-4244-43f6-bcda-003ed2c483c7'}],\n",
       " 'subscribers': []}"
      ]
     },
     "execution_count": 7,
     "metadata": {},
     "output_type": "execute_result"
    }
   ],
   "source": [
    "import os\n",
    "import pandas as pd\n",
    "\n",
    "publication_id = \"701eb547-4244-43f6-bcda-003ed2c483c7\"\n",
    "\n",
    "token_auth = dmda.DomoTokenAuth(\n",
    "    domo_instance=\"domo-community\", domo_access_token=os.environ[\"DOMO_DOJO_ACCESS_TOKEN\"]\n",
    ")\n",
    "\n",
    "res = await get_publication_by_id(publication_id = publication_id,\n",
    "                                  auth=token_auth)\n",
    "\n",
    "res.response\n"
   ]
  },
  {
   "cell_type": "code",
   "execution_count": 10,
   "metadata": {},
   "outputs": [],
   "source": [
    "#| export\n",
    "def generate_publish_body(url: str, sub_domain_ls: [str], content_ls: [str], name: str, description: str, unique_id: str, is_new: bool):\n",
    "    if not sub_domain_ls:\n",
    "        sub_domain_ls = []\n",
    "\n",
    "    if not content_ls:\n",
    "        content_ls = []\n",
    "\n",
    "    body = {\n",
    "        \"id\": unique_id,\n",
    "        \"name\": name,\n",
    "        \"description\": description,\n",
    "        \"domain\": url,\n",
    "        \"content\": content_ls,\n",
    "        \"subscriberDomain\": sub_domain_ls,\n",
    "        \"new\": str(is_new).lower()\n",
    "    }\n",
    "\n",
    "    return body"
   ]
  },
  {
   "cell_type": "code",
   "execution_count": 11,
   "metadata": {},
   "outputs": [
    {
     "data": {
      "text/plain": [
       "{'id': 'id',\n",
       " 'name': 'test',\n",
       " 'description': '',\n",
       " 'domain': 'domo-community.domo.com',\n",
       " 'content': ['content'],\n",
       " 'subscriberDomain': ['test.domo.com'],\n",
       " 'new': 'true'}"
      ]
     },
     "execution_count": 11,
     "metadata": {},
     "output_type": "execute_result"
    }
   ],
   "source": [
    "import os\n",
    "import pandas as pd\n",
    "\n",
    "publication_id = \"701eb547-4244-43f6-bcda-003ed2c483c7\"\n",
    "\n",
    "token_auth = dmda.DomoTokenAuth(\n",
    "    domo_instance=\"domo-community\", domo_access_token=os.environ[\"DOMO_DOJO_ACCESS_TOKEN\"]\n",
    ")\n",
    "body = generate_publish_body(\"domo-community.domo.com\",[\"test.domo.com\"],[\"content\"],\"test\",'','id',True)\n",
    "body"
   ]
  },
  {
   "cell_type": "code",
   "execution_count": null,
   "metadata": {},
   "outputs": [],
   "source": [
    "#| export\n",
    "# Creating publish job for a specific subscriber\n",
    "async def create_publish_job(auth: dmda.DomoAuth, body : dict, session: httpx.AsyncClient = None, debug_api: bool = False) -> rgd.ResponseGetData:\n",
    "    url = f'https://{auth.domo_instance}.domo.com/api/publish/v2/publication'\n",
    "\n",
    "    if (debug_api):\n",
    "        print (body)\n",
    "    res = await gd.get_data(auth=auth,\n",
    "                         method='POST',\n",
    "                         url=url,\n",
    "                         body=body,\n",
    "                         session=session,\n",
    "                         debug_api=debug_api)\n",
    "\n",
    "    return res\n",
    "\n",
    "\n"
   ]
  },
  {
   "cell_type": "code",
   "execution_count": null,
   "metadata": {},
   "outputs": [],
   "source": [
    "#| export\n",
    "# Updating existing publish job with content\n",
    "async def udpate_publish_job(auth: dmda.DomoAuth, publication_id: str, body: dict, session: httpx.AsyncClient = None, debug_api: bool = False) -> rgd.ResponseGetData:\n",
    "\n",
    "    url = f'https://{auth.domo_instance}.domo.com/api/publish/v2/publication/{publication_id}'\n",
    "\n",
    "    res = await gd.get_data(auth=auth,\n",
    "                         method='PUT',\n",
    "                         url=url,\n",
    "                         body=body,\n",
    "                         session=session,\n",
    "                         debug_api=debug_api)\n",
    "    return res\n",
    "\n",
    "# # finds all jobs waiting to be accepted within the subscriber"
   ]
  },
  {
   "attachments": {},
   "cell_type": "markdown",
   "metadata": {},
   "source": [
    "# Subscriptions\n"
   ]
  },
  {
   "cell_type": "code",
   "execution_count": null,
   "metadata": {},
   "outputs": [],
   "source": [
    "# | export\n",
    "async def get_subscription_summaries(\n",
    "    auth: dmda.DomoAuth, session: httpx.AsyncClient = None, debug_api: bool = False\n",
    ") -> rgd.ResponseGetData:\n",
    "\n",
    "    \"\"\"retrieves a summary of existing subscriptions\"\"\"\n",
    "    url = f\"https://{auth.domo_instance}.domo.com/api/publish/v2/subscription/summaries\"\n",
    "\n",
    "    res = await gd.get_data(\n",
    "        auth=auth, method=\"GET\", url=url, session=session, debug_api=debug_api\n",
    "    )\n",
    "    return res"
   ]
  },
  {
   "cell_type": "code",
   "execution_count": null,
   "metadata": {},
   "outputs": [
    {
     "data": {
      "text/html": [
       "<div>\n",
       "<style scoped>\n",
       "    .dataframe tbody tr th:only-of-type {\n",
       "        vertical-align: middle;\n",
       "    }\n",
       "\n",
       "    .dataframe tbody tr th {\n",
       "        vertical-align: top;\n",
       "    }\n",
       "\n",
       "    .dataframe thead th {\n",
       "        text-align: right;\n",
       "    }\n",
       "</style>\n",
       "<table border=\"1\" class=\"dataframe\">\n",
       "  <thead>\n",
       "    <tr style=\"text-align: right;\">\n",
       "      <th></th>\n",
       "      <th>subscriptionId</th>\n",
       "      <th>publicationId</th>\n",
       "      <th>publisherDomain</th>\n",
       "      <th>publicationSummary</th>\n",
       "      <th>status</th>\n",
       "      <th>result</th>\n",
       "      <th>description</th>\n",
       "      <th>datasets</th>\n",
       "      <th>pages</th>\n",
       "      <th>cards</th>\n",
       "      <th>created</th>\n",
       "      <th>updated</th>\n",
       "    </tr>\n",
       "  </thead>\n",
       "  <tbody>\n",
       "    <tr>\n",
       "      <th>0</th>\n",
       "      <td>a825f210-77cf-4313-a73d-4d2ae7cd3397</td>\n",
       "      <td>c7119a3e-f97d-4221-83c6-56ddd38073b0</td>\n",
       "      <td>datamavenllc-io.domo.com</td>\n",
       "      <td>{'id': 'c7119a3e-f97d-4221-83c6-56ddd38073b0',...</td>\n",
       "      <td>READY</td>\n",
       "      <td>SUCCESS</td>\n",
       "      <td>Success.</td>\n",
       "      <td>4</td>\n",
       "      <td>2</td>\n",
       "      <td>42</td>\n",
       "      <td>1674166687000</td>\n",
       "      <td>1674166687000</td>\n",
       "    </tr>\n",
       "    <tr>\n",
       "      <th>1</th>\n",
       "      <td>3436f012-d9ff-4903-835e-3b88dcce11c9</td>\n",
       "      <td>d81b0a9a-e6f6-4ca0-b170-c57f91e75c22</td>\n",
       "      <td>datamavenllc-io.domo.com</td>\n",
       "      <td>{'id': 'd81b0a9a-e6f6-4ca0-b170-c57f91e75c22',...</td>\n",
       "      <td>READY</td>\n",
       "      <td>MISSING_PAGE</td>\n",
       "      <td>Missing page for content id, 465577116. Missin...</td>\n",
       "      <td>8</td>\n",
       "      <td>3</td>\n",
       "      <td>42</td>\n",
       "      <td>1645671430000</td>\n",
       "      <td>1674168501000</td>\n",
       "    </tr>\n",
       "  </tbody>\n",
       "</table>\n",
       "</div>"
      ],
      "text/plain": [
       "                         subscriptionId                         publicationId  \\\n",
       "0  a825f210-77cf-4313-a73d-4d2ae7cd3397  c7119a3e-f97d-4221-83c6-56ddd38073b0   \n",
       "1  3436f012-d9ff-4903-835e-3b88dcce11c9  d81b0a9a-e6f6-4ca0-b170-c57f91e75c22   \n",
       "\n",
       "            publisherDomain  \\\n",
       "0  datamavenllc-io.domo.com   \n",
       "1  datamavenllc-io.domo.com   \n",
       "\n",
       "                                  publicationSummary status        result  \\\n",
       "0  {'id': 'c7119a3e-f97d-4221-83c6-56ddd38073b0',...  READY       SUCCESS   \n",
       "1  {'id': 'd81b0a9a-e6f6-4ca0-b170-c57f91e75c22',...  READY  MISSING_PAGE   \n",
       "\n",
       "                                         description  datasets  pages  cards  \\\n",
       "0                                           Success.         4      2     42   \n",
       "1  Missing page for content id, 465577116. Missin...         8      3     42   \n",
       "\n",
       "         created        updated  \n",
       "0  1674166687000  1674166687000  \n",
       "1  1645671430000  1674168501000  "
      ]
     },
     "execution_count": null,
     "metadata": {},
     "output_type": "execute_result"
    }
   ],
   "source": [
    "import os\n",
    "import pandas as pd\n",
    "\n",
    "token_auth = dmda.DomoTokenAuth(\n",
    "    domo_instance=\"domo-community\", domo_access_token=os.environ[\"DOMO_DOJO_ACCESS_TOKEN\"]\n",
    ")\n",
    "\n",
    "res = await get_subscription_summaries(auth=token_auth)\n",
    "\n",
    "pd.DataFrame(res.response[0:5])"
   ]
  },
  {
   "cell_type": "code",
   "execution_count": null,
   "metadata": {},
   "outputs": [],
   "source": [
    "# | export\n",
    "async def get_subscription_invititations(\n",
    "    auth: dmda.DomoAuth, session: httpx.AsyncClient = None, debug_api: bool = False\n",
    ") -> rgd.ResponseGetData:\n",
    "    \"\"\"retrieves a list of subscription invitations\"\"\"\n",
    "\n",
    "    url = f\"https://{auth.domo_instance}.domo.com/api/publish/v2/subscription/invites\"\n",
    "\n",
    "    res = await gd.get_data(\n",
    "        auth=auth, method=\"GET\", url=url, session=session, debug_api=debug_api\n",
    "    )\n",
    "    return res"
   ]
  },
  {
   "attachments": {},
   "cell_type": "markdown",
   "metadata": {},
   "source": [
    "#### sample implementation of get_subscription_invitations"
   ]
  },
  {
   "cell_type": "code",
   "execution_count": null,
   "metadata": {},
   "outputs": [
    {
     "data": {
      "text/html": [
       "<div>\n",
       "<style scoped>\n",
       "    .dataframe tbody tr th:only-of-type {\n",
       "        vertical-align: middle;\n",
       "    }\n",
       "\n",
       "    .dataframe tbody tr th {\n",
       "        vertical-align: top;\n",
       "    }\n",
       "\n",
       "    .dataframe thead th {\n",
       "        text-align: right;\n",
       "    }\n",
       "</style>\n",
       "<table border=\"1\" class=\"dataframe\">\n",
       "  <thead>\n",
       "    <tr style=\"text-align: right;\">\n",
       "      <th></th>\n",
       "      <th>publisherDomain</th>\n",
       "      <th>publicationSummary</th>\n",
       "      <th>status</th>\n",
       "    </tr>\n",
       "  </thead>\n",
       "  <tbody>\n",
       "    <tr>\n",
       "      <th>0</th>\n",
       "      <td>datamavenllc-io.domo.com</td>\n",
       "      <td>{'id': '0f576510-f489-49a5-a2d0-d416221934ca',...</td>\n",
       "      <td>READY</td>\n",
       "    </tr>\n",
       "    <tr>\n",
       "      <th>1</th>\n",
       "      <td>datamavenllc-io.domo.com</td>\n",
       "      <td>{'id': '6c0c8f80-5eda-4eef-8267-6875ccd596fb',...</td>\n",
       "      <td>READY</td>\n",
       "    </tr>\n",
       "  </tbody>\n",
       "</table>\n",
       "</div>"
      ],
      "text/plain": [
       "            publisherDomain  \\\n",
       "0  datamavenllc-io.domo.com   \n",
       "1  datamavenllc-io.domo.com   \n",
       "\n",
       "                                  publicationSummary status  \n",
       "0  {'id': '0f576510-f489-49a5-a2d0-d416221934ca',...  READY  \n",
       "1  {'id': '6c0c8f80-5eda-4eef-8267-6875ccd596fb',...  READY  "
      ]
     },
     "execution_count": null,
     "metadata": {},
     "output_type": "execute_result"
    }
   ],
   "source": [
    "import os\n",
    "import pandas as pd\n",
    "\n",
    "token_auth = dmda.DomoTokenAuth(\n",
    "    domo_instance=\"domo-community\", domo_access_token=os.environ[\"DOMO_DOJO_ACCESS_TOKEN\"]\n",
    ")\n",
    "\n",
    "res = await get_subscription_invititations(auth=token_auth)\n",
    "\n",
    "pd.DataFrame(res.response[0:5])"
   ]
  },
  {
   "cell_type": "code",
   "execution_count": null,
   "metadata": {},
   "outputs": [],
   "source": [
    "# | export\n",
    "async def accept_invite_by_id(auth: dmda.DomoAuth,\n",
    "                              subscription_id: str, \n",
    "                              session: httpx.AsyncClient = None, debug_api: bool = False) -> rgd.ResponseGetData:\n",
    "    \"\"\"this takes get_subscription_invites_list into account and accepts - not instant\"\"\"\n",
    "\n",
    "    url = f'https://{auth.domo_instance}.domo.com/api/publish/v2/subscription/{subscription_id}'\n",
    "\n",
    "    res = await gd.get_data(auth=auth,\n",
    "                        method='POST',\n",
    "                        url=url,\n",
    "                        session=session,\n",
    "                        debug_api=debug_api)\n",
    "    return res"
   ]
  },
  {
   "cell_type": "code",
   "execution_count": null,
   "metadata": {},
   "outputs": [],
   "source": [
    "# | export\n",
    "async def refresh_publish_jobs(auth: dmda.DomoAuth,\n",
    "                               publish_ids: list,\n",
    "                               session: httpx.AsyncClient = None, debug_api: bool = False) -> rgd.ResponseGetData:\n",
    "    \"\"\"Refreshing list of publish jobs. Typically \"instance\" = publisher instance\"\"\"\n",
    "\n",
    "    url = f'https://{auth.domo_instance}.domo.com/api/publish/v2/publication/refresh'\n",
    "\n",
    "    body = {\n",
    "        'publicationIds': publish_ids\n",
    "    }\n",
    "\n",
    "    res = await gd.get_data(auth=auth,\n",
    "                         method='PUT',\n",
    "                         url=url,\n",
    "                         body=body,\n",
    "                         session=session,\n",
    "                         debug_api=debug_api)\n",
    "    return res\n"
   ]
  },
  {
   "cell_type": "code",
   "execution_count": null,
   "metadata": {},
   "outputs": [],
   "source": [
    "#| hide\n",
    "\n",
    "import nbdev\n",
    "nbdev.nbdev_export()"
   ]
  }
 ],
 "metadata": {
  "jupytext": {
   "split_at_heading": true
  },
  "kernelspec": {
   "display_name": "Python 3",
   "language": "python",
   "name": "python3"
  },
  "language_info": {
   "codemirror_mode": {
    "name": "ipython",
    "version": 3
   },
   "file_extension": ".py",
   "mimetype": "text/x-python",
   "name": "python",
   "nbconvert_exporter": "python",
   "pygments_lexer": "ipython3",
   "version": "3.10.4"
  }
 },
 "nbformat": 4,
 "nbformat_minor": 4
}
