{
 "cells": [
  {
   "cell_type": "raw",
   "id": "e6194b5b",
   "metadata": {},
   "source": [
    "---\n",
    "title: Jupyter Routes\n",
    "output-file: jupyter_routes.html\n",
    "---"
   ]
  },
  {
   "cell_type": "code",
   "execution_count": 28,
   "id": "771369de",
   "metadata": {},
   "outputs": [],
   "source": [
    "# | default_exp routes.jupyter"
   ]
  },
  {
   "cell_type": "code",
   "execution_count": 29,
   "id": "edd2a3b7",
   "metadata": {
    "tags": []
   },
   "outputs": [],
   "source": [
    "# | exporti\n",
    "\n",
    "import domolibrary.client.DomoAuth as dmda\n",
    "import domolibrary.client.get_data as gd\n",
    "import domolibrary.client.DomoError as de\n",
    "import domolibrary.utils.chunk_execution as ce\n",
    "import os"
   ]
  },
  {
   "cell_type": "markdown",
   "id": "eb5a7aef-267a-434f-b88f-79930434fec9",
   "metadata": {
    "tags": []
   },
   "source": [
    "[![Tutorial Video pt 2 of 4]](https://youtu.be/7aTHw7scsa8)\n",
    "\n",
    "### GET Routes\n"
   ]
  },
  {
   "cell_type": "code",
   "execution_count": 30,
   "id": "6066d2ee-a5e4-4a66-8294-2448729b21b6",
   "metadata": {
    "tags": []
   },
   "outputs": [],
   "source": [
    "# | export\n",
    "\n",
    "async def get_jupyter_content(\n",
    "    auth: dmda.DomoAuth,\n",
    "    content_path: str = \"\",\n",
    "    debug_api: bool = False,\n",
    "    debug_num_stacks_to_drop=1,\n",
    "    parent_class : str = None\n",
    "):\n",
    "    url = f\"https://{auth.domo_instance}.{auth.service_location}{auth.service_prefix}api/contents/{content_path}\"\n",
    "\n",
    "    res = await gd.get_data(\n",
    "        url=f\"{url}\",\n",
    "        method=\"GET\",\n",
    "        auth=auth,\n",
    "        headers={\"authorization\": f\"Token {auth.jupyter_token}\"},\n",
    "        debug_api=debug_api,\n",
    "        num_stacks_to_drop=debug_num_stacks_to_drop,\n",
    "        parent_class = parent_class\n",
    "\n",
    "    )\n",
    "    if not res.is_success:\n",
    "        raise Exception(\"unable to retrieve content\")\n",
    "\n",
    "    return res"
   ]
  },
  {
   "cell_type": "markdown",
   "id": "6d5a5165",
   "metadata": {},
   "source": [
    "#### sample implementation of get_jupyter_content\n"
   ]
  },
  {
   "cell_type": "code",
   "execution_count": 31,
   "id": "74ee3148",
   "metadata": {},
   "outputs": [
    {
     "data": {
      "text/plain": [
       "[{'name': 'my_terrible_demo.txt',\n",
       "  'path': 'my_terrible_demo.txt',\n",
       "  'last_modified': '2023-09-15T22:20:36.711000Z',\n",
       "  'created': '2023-09-15T22:20:36.711000Z',\n",
       "  'content': None,\n",
       "  'format': None,\n",
       "  'mimetype': 'text/plain',\n",
       "  'size': 33,\n",
       "  'writable': True,\n",
       "  'type': 'file'},\n",
       " {'name': 'untitled1.txt',\n",
       "  'path': 'untitled1.txt',\n",
       "  'last_modified': '2023-09-15T22:22:55.746000Z',\n",
       "  'created': '2023-09-15T22:22:55.746000Z',\n",
       "  'content': None,\n",
       "  'format': None,\n",
       "  'mimetype': 'text/plain',\n",
       "  'size': 33,\n",
       "  'writable': True,\n",
       "  'type': 'file'}]"
      ]
     },
     "execution_count": 31,
     "metadata": {},
     "output_type": "execute_result"
    }
   ],
   "source": [
    "# |eval: false\n",
    "\n",
    "import os\n",
    "import domolibrary.client.DomoAuth as dmda\n",
    "\n",
    "jupyter_token = \"mgaHHqXQafZhWMIcbT5cVsW9KZY7c4\"\n",
    "service_location = \"jupyter-prod1.domodatascience.com\"\n",
    "service_prefix = \"/user/domo-community-1893952720/19fb3535/\"\n",
    "\n",
    "token_auth = dmda.DomoTokenAuth(\n",
    "    domo_instance=\"domo-community\",\n",
    "    domo_access_token=os.environ[\"DOMO_DOJO_ACCESS_TOKEN\"],\n",
    ")\n",
    "\n",
    "\n",
    "dj_auth = dmda.DomoJupyterTokenAuth.convert_auth(\n",
    "    token_auth=token_auth,\n",
    "    jupyter_token=jupyter_token,\n",
    "    service_location=service_location,\n",
    "    # service_prefix=None\n",
    "    service_prefix=service_prefix,\n",
    ")\n",
    "\n",
    "res = await get_jupyter_content(\n",
    "    auth=dj_auth,\n",
    "    # content_path = 'my_terrible_demo.txt',\n",
    "    # content_path=\"datatypes.ipynb\",\n",
    "    debug_api=None,\n",
    ")\n",
    "\n",
    "res.response[\"content\"][0:2]"
   ]
  },
  {
   "cell_type": "markdown",
   "id": "229c7952",
   "metadata": {},
   "source": [
    "### update jupyter content\n",
    "\n",
    "improve code maintenance by implementing a factory design patternx\n"
   ]
  },
  {
   "cell_type": "code",
   "execution_count": 32,
   "id": "e5cab7d6",
   "metadata": {},
   "outputs": [],
   "source": [
    "# | exporti\n",
    "def generate_update_jupyter_text(body):\n",
    "    body.update(\n",
    "        {\n",
    "            \"format\": \"text\",\n",
    "            \"type\": \"file\",\n",
    "        }\n",
    "    )\n",
    "    return body\n",
    "\n",
    "\n",
    "def generate_update_jupyter_ipynb(body):\n",
    "    body.update(\n",
    "        {\n",
    "            \"format\": None,\n",
    "            \"type\": \"notebook\",\n",
    "        }\n",
    "    )\n",
    "    return body\n",
    "\n",
    "\n",
    "def generate_update_jupyter_directory(content_path, body):\n",
    "    if \"/\" in content_path:\n",
    "        new_content_path = \"/\".join(content_path.split(\"/\")[:-1])\n",
    "    else:\n",
    "        new_content_path = \"\"\n",
    "\n",
    "    body.update(\n",
    "        {\n",
    "            \"path\": new_content_path,\n",
    "            \"format\": None,\n",
    "            \"type\": \"directory\",\n",
    "        }\n",
    "    )\n",
    "    return body"
   ]
  },
  {
   "cell_type": "code",
   "execution_count": 33,
   "id": "ad1fa8cf",
   "metadata": {},
   "outputs": [
    {
     "data": {
      "text/plain": [
       "{'name': 'hi.md',\n",
       " 'content': 'hello world',\n",
       " 'path': 'hi.md',\n",
       " 'format': 'text',\n",
       " 'type': 'file'}"
      ]
     },
     "execution_count": 33,
     "metadata": {},
     "output_type": "execute_result"
    }
   ],
   "source": [
    "# |export\n",
    "\n",
    "\n",
    "def generate_update_jupyter_body(\n",
    "    new_content, content_path: str  # my_folder/datatypes.ipynb\n",
    "):\n",
    "    \"\"\"factory to construct properly formed body\"\"\"\n",
    "\n",
    "    content_name = os.path.normpath(content_path).split(os.sep)[-1]\n",
    "\n",
    "    if \".\" in content_path:\n",
    "        content_type = content_path.split(\".\")[-1]\n",
    "    else:\n",
    "        content_type = \"directory\"\n",
    "\n",
    "    body = {\n",
    "        \"name\": content_name,\n",
    "        \"content\": new_content,\n",
    "        \"path\": content_path,\n",
    "    }\n",
    "\n",
    "    if content_type == \"ipynb\":\n",
    "        return generate_update_jupyter_ipynb(body)\n",
    "\n",
    "    if content_type == \"directory\":\n",
    "        return generate_update_jupyter_directory(content_path, body)\n",
    "\n",
    "    return generate_update_jupyter_text(body)\n",
    "\n",
    "\n",
    "generate_update_jupyter_body(\"hello world\", \"hi.md\")"
   ]
  },
  {
   "cell_type": "markdown",
   "id": "28f839c6",
   "metadata": {},
   "source": [
    "## CRUD Routes\n"
   ]
  },
  {
   "cell_type": "code",
   "execution_count": 34,
   "id": "9bf20037",
   "metadata": {},
   "outputs": [],
   "source": [
    "# | export\n",
    "\n",
    "\n",
    "class JupyterApi_Error(de.DomoError):\n",
    "    def __init__(self, status, response, domo_instance, jupyter_token=None):\n",
    "        super().__init__(\n",
    "            status=status,\n",
    "            response=f\"Unable to update content - {response}.  Validate your token {jupyter_token}\",\n",
    "        )"
   ]
  },
  {
   "cell_type": "code",
   "execution_count": 35,
   "id": "0245e781",
   "metadata": {},
   "outputs": [],
   "source": [
    "# | export\n",
    "\n",
    "\n",
    "class JupyterApi_Error(de.DomoError):\n",
    "    def __init__(self, status, response, domo_instance, jupyter_token=None):\n",
    "        super().__init__(\n",
    "            status=status,\n",
    "            message=f\"Unable to update content - {response}.  Validate your token {jupyter_token}\",\n",
    "        )\n",
    "\n",
    "\n",
    "async def update_jupyter_file(\n",
    "    auth: dmda.DomoJupyterAuth,\n",
    "    new_content,\n",
    "    content_path: str = \"\",  # file name and location in jupyter\n",
    "    debug_api: bool = False,\n",
    "    parent_class:str = None,\n",
    "    debug_num_stacks_to_drop=1,\n",
    "):\n",
    "    dmda.test_is_jupyter_auth(auth)\n",
    "\n",
    "    body = generate_update_jupyter_body(new_content, content_path)\n",
    "\n",
    "    content_path_split = os.path.normpath(content_path).split(os.sep)\n",
    "\n",
    "    url = f\"https://{auth.domo_instance}.{auth.service_location}{auth.service_prefix}api/contents/{'/'.join(content_path_split)}\"\n",
    "\n",
    "    res = await gd.get_data(\n",
    "        url=url,\n",
    "        method=\"PUT\",\n",
    "        auth=auth,\n",
    "        body=body,\n",
    "        debug_api=debug_api,\n",
    "        parent_class = parent_class,\n",
    "        num_stacks_to_drop=debug_num_stacks_to_drop,\n",
    "    )\n",
    "\n",
    "    if not res.is_success:\n",
    "        raise JupyterApi_Error(\n",
    "            status=res.status,\n",
    "            response=res.response,\n",
    "            domo_instance=auth.domo_instance,\n",
    "            jupyter_token=auth.jupyter_token,\n",
    "        )\n",
    "\n",
    "    return res"
   ]
  },
  {
   "cell_type": "markdown",
   "id": "f8d7fe2b",
   "metadata": {},
   "source": [
    "#### sample implementation of update_content\n"
   ]
  },
  {
   "cell_type": "code",
   "execution_count": 36,
   "id": "371e46df",
   "metadata": {},
   "outputs": [
    {
     "data": {
      "text/plain": [
       "{'name': 'my_great_demo.txt',\n",
       " 'path': 'new_folder/my_great_demo.txt',\n",
       " 'last_modified': '2023-09-15T22:24:35.531000Z',\n",
       " 'created': '2023-09-15T22:24:35.531000Z',\n",
       " 'content': None,\n",
       " 'format': None,\n",
       " 'mimetype': 'text/plain',\n",
       " 'size': 26,\n",
       " 'writable': True,\n",
       " 'type': 'file'}"
      ]
     },
     "execution_count": 36,
     "metadata": {},
     "output_type": "execute_result"
    }
   ],
   "source": [
    "# |eval: false\n",
    "\n",
    "import os\n",
    "import domolibrary.client.DomoAuth as dmda\n",
    "\n",
    "jupyter_token = \"mgaHHqXQafZhWMIcbT5cVsW9KZY7c4\"\n",
    "service_location = \"jupyter-prod1.domodatascience.com\"\n",
    "service_prefix = \"/user/domo-community-1893952720/19fb3535/\"\n",
    "\n",
    "token_auth = dmda.DomoTokenAuth(\n",
    "    domo_instance=\"domo-community\",\n",
    "    domo_access_token=os.environ[\"DOMO_DOJO_ACCESS_TOKEN\"],\n",
    ")\n",
    "\n",
    "dj_auth = dmda.DomoJupyterTokenAuth.convert_auth(\n",
    "    token_auth=token_auth,\n",
    "    jupyter_token=jupyter_token,\n",
    "    service_location=service_location,\n",
    "    # service_prefix=None\n",
    "    service_prefix=service_prefix,\n",
    ")\n",
    "\n",
    "res = await update_jupyter_file(\n",
    "    auth=dj_auth,\n",
    "    content_path=\"new_folder/my_great_demo.txt\",\n",
    "    new_content=\"jae is excellent at demoes\",\n",
    "    debug_api=False,\n",
    ")\n",
    "\n",
    "res.response"
   ]
  },
  {
   "cell_type": "markdown",
   "id": "106203cf",
   "metadata": {},
   "source": [
    "### recursive get_content\n",
    "\n",
    "[![Tutorial Video pt 3 of 4]](https://youtu.be/l32qTj08bCY)\n"
   ]
  },
  {
   "cell_type": "code",
   "execution_count": 37,
   "id": "9f118058",
   "metadata": {},
   "outputs": [],
   "source": [
    "# | exporti\n",
    "\n",
    "\n",
    "async def get_content_recursive_process_obj(\n",
    "    obj, all_rows, auth, debug_api: bool = False,\n",
    "    debug_num_stacks_to_drop = 0,\n",
    "    parent_class = None\n",
    "):\n",
    "    content_path = obj[\"path\"]\n",
    "\n",
    "    if content_path.startswith('recent_executions'):\n",
    "        return\n",
    "\n",
    "    if obj[\"type\"] != \"directory\":\n",
    "        res = await get_jupyter_content(\n",
    "            auth=auth,\n",
    "            content_path=content_path,\n",
    "            debug_api=debug_api,\n",
    "            parent_class = parent_class,\n",
    "            debug_num_stacks_to_drop = debug_num_stacks_to_drop+ 1\n",
    "        )\n",
    "\n",
    "        all_rows.append(res.response)\n",
    "\n",
    "    elif obj[\"type\"] == \"directory\":\n",
    "        await get_content_recursive(\n",
    "            auth=auth,\n",
    "            content_path=content_path,\n",
    "            all_rows=all_rows,\n",
    "            debug_api=debug_api,\n",
    "            parent_class = parent_class,\n",
    "            debug_num_stacks_to_drop =debug_num_stacks_to_drop +1\n",
    "        )"
   ]
  },
  {
   "cell_type": "code",
   "execution_count": 38,
   "id": "76003fd1-dafc-4c17-a4ba-91b645ac2c7c",
   "metadata": {
    "tags": []
   },
   "outputs": [],
   "source": [
    "# | export\n",
    "\n",
    "\n",
    "async def get_content_recursive(\n",
    "    auth: dmda.DomoJupyterAuth,\n",
    "    content_path=\"\",\n",
    "    all_rows=None,  \n",
    "    debug_api: bool = False,\n",
    "    return_raw: bool = False,\n",
    "    is_skip_recent_executions: bool = True,\n",
    "    debug_num_stacks_to_drop =2,\n",
    "    parent_class :str = None\n",
    "):\n",
    "    dmda.test_is_jupyter_auth(auth)\n",
    "\n",
    "    all_rows = all_rows or []\n",
    "\n",
    "    res = await get_jupyter_content(\n",
    "        auth=auth,\n",
    "        content_path=content_path,\n",
    "        debug_api=debug_api,\n",
    "        parent_class = parent_class,\n",
    "        debug_num_stacks_to_drop = debug_num_stacks_to_drop\n",
    "    )\n",
    "\n",
    "    content_ls = res.response[\"content\"]\n",
    "\n",
    "    await ce.gather_with_concurrency(\n",
    "        n=5,\n",
    "        *[\n",
    "            get_content_recursive_process_obj(obj, all_rows, \n",
    "            auth, debug_api=debug_api, \n",
    "            parent_class = parent_class,\n",
    "            debug_num_stacks_to_drop = debug_num_stacks_to_drop\n",
    "            ) for index, obj in enumerate(content_ls)\n",
    "        ]\n",
    "    )\n",
    "\n",
    "    if return_raw:\n",
    "        return res\n",
    "\n",
    "    res.response = all_rows\n",
    "\n",
    "    return res"
   ]
  },
  {
   "cell_type": "markdown",
   "id": "b7e40d12",
   "metadata": {},
   "source": [
    "#### sample implementation of get_content_recursive\n"
   ]
  },
  {
   "cell_type": "code",
   "execution_count": 39,
   "id": "7a83f47d-0ac9-4c0a-8165-ff7fc46cf105",
   "metadata": {
    "tags": []
   },
   "outputs": [
    {
     "data": {
      "text/plain": [
       "['untitled1.txt',\n",
       " 'my_terrible_demo.txt',\n",
       " 'tutorial_env.ipynb',\n",
       " 'UpdateDatasets.ipynb',\n",
       " 'MakeDomoFaster.ipynb',\n",
       " 'get_content.ipynb',\n",
       " 'untitled1.txt',\n",
       " 'DataflowExecution.ipynb',\n",
       " 'Untitled.ipynb',\n",
       " 'instance_pdp_access.ipynb',\n",
       " 'README.md',\n",
       " 'untitled.txt',\n",
       " 'env.txt',\n",
       " 'my_great_demo.txt',\n",
       " 'datatypes.ipynb']"
      ]
     },
     "execution_count": 39,
     "metadata": {},
     "output_type": "execute_result"
    }
   ],
   "source": [
    "# |eval: false\n",
    "\n",
    "import os\n",
    "import domolibrary.client.DomoAuth as dmda\n",
    "\n",
    "jupyter_token = 'mgaHHqXQafZhWMIcbT5cVsW9KZY7c4'\n",
    "service_location = 'jupyter-prod1.domodatascience.com'\n",
    "service_prefix = '/user/domo-community-1893952720/19fb3535/'\n",
    "\n",
    "\n",
    "dj_auth = dmda.DomoJupyterTokenAuth(\n",
    "    domo_instance=\"domo-community\",\n",
    "    domo_access_token=os.environ[\"DOMO_DOJO_ACCESS_TOKEN\"],\n",
    "    jupyter_token=jupyter_token,\n",
    "    service_location=service_location,\n",
    "    # service_prefix=None\n",
    "    service_prefix=service_prefix\n",
    ")\n",
    "\n",
    "res = await get_content_recursive(auth=dj_auth, content_path=\"\", debug_api=False)\n",
    "\n",
    "[content['name'] for content in res.response]\n"
   ]
  },
  {
   "cell_type": "code",
   "execution_count": 40,
   "id": "8034b42a-f645-4974-a25b-8c403a0886fd",
   "metadata": {
    "tags": []
   },
   "outputs": [],
   "source": [
    "#| hide\n",
    "import nbdev\n",
    "nbdev.nbdev_export()"
   ]
  }
 ],
 "metadata": {
  "kernelspec": {
   "display_name": "Python 3",
   "language": "python",
   "name": "python3"
  },
  "language_info": {
   "codemirror_mode": {
    "name": "ipython",
    "version": 3
   },
   "file_extension": ".py",
   "mimetype": "text/x-python",
   "name": "python",
   "nbconvert_exporter": "python",
   "pygments_lexer": "ipython3",
   "version": "3.10.8"
  }
 },
 "nbformat": 4,
 "nbformat_minor": 5
}
