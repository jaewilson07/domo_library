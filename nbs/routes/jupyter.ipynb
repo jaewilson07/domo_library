{
 "cells": [
  {
   "cell_type": "raw",
   "id": "e6194b5b",
   "metadata": {},
   "source": [
    "---\n",
    "title: Jupyter Routes\n",
    "output-file: jupyter_routes.html\n",
    "---"
   ]
  },
  {
   "cell_type": "code",
   "execution_count": 1,
   "id": "771369de",
   "metadata": {},
   "outputs": [],
   "source": [
    "# | default_exp routes.jupyter"
   ]
  },
  {
   "cell_type": "code",
   "execution_count": 2,
   "id": "edd2a3b7",
   "metadata": {},
   "outputs": [],
   "source": [
    "# | exporti\n",
    "from enum import Enum\n",
    "\n",
    "import os\n",
    "import httpx\n",
    "from functools import partial\n",
    "\n",
    "import urllib\n",
    "\n",
    "import domolibrary.client.ResponseGetData as rgd\n",
    "import domolibrary.client.DomoAuth as dmda\n",
    "import domolibrary.client.get_data as gd\n",
    "\n",
    "import domolibrary.client.DomoError as de\n",
    "import domolibrary.utils.chunk_execution as ce"
   ]
  },
  {
   "cell_type": "code",
   "execution_count": 3,
   "id": "3505fd1e",
   "metadata": {},
   "outputs": [],
   "source": [
    "# | hide\n",
    "import datetime as dt\n",
    "import pandas as pd"
   ]
  },
  {
   "cell_type": "markdown",
   "id": "eb5a7aef-267a-434f-b88f-79930434fec9",
   "metadata": {},
   "source": [
    "[![Tutorial Video pt 2 of 4]](https://youtu.be/7aTHw7scsa8)\n",
    "\n",
    "### GET Routes\n"
   ]
  },
  {
   "cell_type": "code",
   "execution_count": 4,
   "id": "e1dc0659",
   "metadata": {},
   "outputs": [],
   "source": [
    "# | export\n",
    "\n",
    "\n",
    "class JupyterAPI_Error(de.DomoError):\n",
    "    def __init__(\n",
    "        self, status, response, domo_instance, parent_class=None, function_name=None\n",
    "    ):\n",
    "        super().__init__(\n",
    "            status=status,\n",
    "            message=response,\n",
    "            domo_instance=domo_instance,\n",
    "            parent_class=parent_class,\n",
    "            function_name=function_name,\n",
    "        )\n",
    "\n",
    "\n",
    "class JupyterAPI_WorkspaceStarted(de.DomoError):\n",
    "    def __init__(\n",
    "        self, status, response, domo_instance, parent_class=None, function_name=None\n",
    "    ):\n",
    "        super().__init__(\n",
    "            status=status,\n",
    "            message=response,\n",
    "            domo_instance=domo_instance,\n",
    "            parent_class=parent_class,\n",
    "            function_name=function_name,\n",
    "        )"
   ]
  },
  {
   "cell_type": "code",
   "execution_count": 5,
   "id": "e809a450",
   "metadata": {},
   "outputs": [],
   "source": [
    "# | export\n",
    "\n",
    "\n",
    "@gd.route_function\n",
    "async def get_jupyter_workspace_by_id(\n",
    "    auth,\n",
    "    workspace_id,\n",
    "    parent_class: str = None,\n",
    "    session: httpx.AsyncClient = None,\n",
    "    debug_api: bool = False,\n",
    "    debug_num_stacks_to_drop=2,\n",
    "):\n",
    "    url = f\"https://{auth.domo_instance}.domo.com/api/datascience/v1/workspaces/{workspace_id}\"\n",
    "\n",
    "    res = await gd.get_data(\n",
    "        url=url,\n",
    "        method=\"GET\",\n",
    "        auth=auth,\n",
    "        parent_class=parent_class,\n",
    "        session=session,\n",
    "        num_stacks_to_drop=debug_num_stacks_to_drop,\n",
    "        debug_api=debug_api,\n",
    "    )\n",
    "\n",
    "    if not res.is_success:\n",
    "        raise JupyterAPI_Error(\n",
    "            status=res.status,\n",
    "            response=res.response,\n",
    "            domo_instance=auth.domo_instance,\n",
    "            parent_class=parent_class,\n",
    "            function_name=res.traceback_details.function_name,\n",
    "        )\n",
    "\n",
    "    return res"
   ]
  },
  {
   "cell_type": "code",
   "execution_count": 6,
   "metadata": {},
   "outputs": [
    {
     "name": "stdout",
     "output_type": "stream",
     "text": [
      "warning this token has not been validated by who_am_i, run get_auth_token first\n"
     ]
    },
    {
     "data": {
      "text/plain": [
       "{'id': '1cfe9db4-5937-4889-beb3-a311fc42f246',\n",
       " 'name': 'learn_jupyter',\n",
       " 'description': '',\n",
       " 'created': '2024-02-22T17:13:54.653+00:00',\n",
       " 'updated': '2024-03-19T17:23:49.017+00:00',\n",
       " 'lastRun': '2024-03-19T17:23:49.017+00:00',\n",
       " 'instances': [{'started': '2024-03-19T17:23:49.647+00:00',\n",
       "   'lastActivity': '2024-03-19T17:24:26.258+00:00',\n",
       "   'url': 'https://domo-community.jupyter-prod1.domodatascience.com/hub/auth_refresh?domo_hostname=https%3A%2F%2Fdomo-community.domo.com&next=https%3A%2F%2Fdomo-community.jupyter-prod1.domodatascience.com%2Fuser%2Fdomo-community-1893952720%2F1cfe9db4%2F',\n",
       "   'status': 'RUNNING',\n",
       "   'userId': 1893952720}],\n",
       " 'inputConfiguration': [],\n",
       " 'outputConfiguration': [{'dataSourceId': '84658e41-924e-499c-987b-f82dc10163cc',\n",
       "   'alias': 'DomoStats - Accounts',\n",
       "   'streamId': 1375}],\n",
       " 'owner': 1893952720,\n",
       " 'coOwners': [],\n",
       " 'bootstrapKernel': False,\n",
       " 'migrateFiles': False,\n",
       " 'jupyterKernel': 'PYTHON_3_9',\n",
       " 'cpu': 4.0,\n",
       " 'memory': 32.0,\n",
       " 'timeoutHours': 8,\n",
       " 'instanceTypes': [{'cpu': 0.5, 'memory': 4.0},\n",
       "  {'cpu': 1.0, 'memory': 8.0},\n",
       "  {'cpu': 2.0, 'memory': 16.0},\n",
       "  {'cpu': 4.0, 'memory': 32.0},\n",
       "  {'cpu': 8.0, 'memory': 64.0},\n",
       "  {'cpu': 16.0, 'memory': 128.0},\n",
       "  {'cpu': 32.0, 'memory': 256.0},\n",
       "  {'cpu': 64.0, 'memory': 512.0},\n",
       "  {'cpu': 128.0, 'memory': 1024.0}],\n",
       " 'sharingEnabled': False,\n",
       " 'accountConfiguration': [{'account_id': 92,\n",
       "   'alias': 'username_password_auth'}],\n",
       " 'collectionConfiguration': [],\n",
       " 'fileshareConfiguration': []}"
      ]
     },
     "execution_count": 6,
     "metadata": {},
     "output_type": "execute_result"
    }
   ],
   "source": [
    "token_auth = dmda.DomoTokenAuth(\n",
    "    domo_instance=\"domo-community\",\n",
    "    domo_access_token=os.environ[\"DOMO_DOJO_ACCESS_TOKEN\"],\n",
    ")\n",
    "\n",
    "workspace_id = \"1cfe9db4-5937-4889-beb3-a311fc42f246\"\n",
    "res = await get_jupyter_workspace_by_id(workspace_id=workspace_id, auth=token_auth)\n",
    "res.response"
   ]
  },
  {
   "cell_type": "code",
   "execution_count": 7,
   "id": "79973583",
   "metadata": {},
   "outputs": [],
   "source": [
    "# | export\n",
    "\n",
    "\n",
    "def parse_instance_service_location_and_prefix(instance: dict, domo_instance):\n",
    "    url = instance[\"url\"]\n",
    "\n",
    "    query = urllib.parse.unquote(urllib.parse.urlparse(url).query)\n",
    "    query = urllib.parse.urlparse(query.split(\"&\")[1].replace(\"next=\", \"\"))\n",
    "\n",
    "    return {\n",
    "        \"service_location\": query.netloc.replace(domo_instance, \"\")[1:],\n",
    "        \"service_prefix\": query.path,\n",
    "    }\n",
    "\n",
    "\n",
    "async def get_workspace_auth_token_params(workspace_id, auth, return_raw: bool = False):\n",
    "    \"\"\"\n",
    "    params are needed for authenticating requests inside the workspace environment\n",
    "    Note: you'll also need a internally generated jupyter_token to authenticate requests\n",
    "    returns { service_location , service_prefix}\n",
    "    \"\"\"\n",
    "    res = await get_jupyter_workspace_by_id(workspace_id=workspace_id, auth=auth)\n",
    "\n",
    "    open_instances = res.response.get(\"instances\")\n",
    "\n",
    "    if return_raw:\n",
    "        return open_instances\n",
    "\n",
    "    if not open_instances:\n",
    "        raise JupyterAPI_WorkspaceStarted(\n",
    "            status=res.status,\n",
    "            response= \"There are no open instances. Do you need to start the workspace?\",\n",
    "            domo_instance=auth.domo_instance,\n",
    "            function_name=res.traceback_details.function_name,\n",
    "        )\n",
    "\n",
    "    return parse_instance_service_location_and_prefix(\n",
    "        open_instances[0], auth.domo_instance\n",
    "    )"
   ]
  },
  {
   "cell_type": "code",
   "execution_count": 8,
   "id": "53a9db76",
   "metadata": {},
   "outputs": [
    {
     "name": "stdout",
     "output_type": "stream",
     "text": [
      "warning this token has not been validated by who_am_i, run get_auth_token first\n",
      "{'service_location': 'jupyter-prod1.domodatascience.com', 'service_prefix': '/user/domo-community-1893952720/1cfe9db4/'}\n"
     ]
    }
   ],
   "source": [
    "#| eval : false\n",
    "token_auth = dmda.DomoTokenAuth(\n",
    "    domo_instance=\"domo-community\",\n",
    "    domo_access_token=os.environ[\"DOMO_DOJO_ACCESS_TOKEN\"],\n",
    ")\n",
    "\n",
    "workspace_id = \"1cfe9db4-5937-4889-beb3-a311fc42f246\"\n",
    "try:\n",
    "    print(await get_workspace_auth_token_params(workspace_id=workspace_id, auth=token_auth))\n",
    "\n",
    "except JupyterAPI_WorkspaceStarted as e:\n",
    "    print(e)"
   ]
  },
  {
   "cell_type": "code",
   "execution_count": 9,
   "id": "4c69a49a",
   "metadata": {},
   "outputs": [],
   "source": [
    "# | export\n",
    "\n",
    "\n",
    "@gd.route_function\n",
    "async def get_jupyter_workspaces(\n",
    "    auth: dmda.DomoAuth,\n",
    "    parent_class: str = None,\n",
    "    session: httpx.AsyncClient = None,\n",
    "    debug_num_stacks_to_drop=1,\n",
    "    debug_api: bool = False,\n",
    "    debug_loop: bool = False,\n",
    "):\n",
    "    url = f\"https://{auth.domo_instance}.domo.com/api/datascience/v1/search/workspaces\"\n",
    "\n",
    "    body = {\n",
    "        \"limit\": 50,\n",
    "        \"offset\": 0,\n",
    "        \"sortFieldMap\": {\"CREATED\": \"DESC\"},\n",
    "        \"filters\": [],\n",
    "    }\n",
    "\n",
    "    def arr_fn(res):\n",
    "        return res.response[\"workspaces\"]\n",
    "\n",
    "    offset_params = {\"limit\": \"limit\", \"offset\": \"offset\"}\n",
    "\n",
    "    res = await gd.looper(\n",
    "        url=url,\n",
    "        method=\"POST\",\n",
    "        limit=50,\n",
    "        body=body,\n",
    "        auth=auth,\n",
    "        arr_fn=arr_fn,\n",
    "        offset_params_in_body=True,\n",
    "        offset_params=offset_params,\n",
    "        parent_class=parent_class,\n",
    "        session=session,\n",
    "        debug_num_stacks_to_drop=debug_num_stacks_to_drop,\n",
    "        debug_api=debug_api,\n",
    "        debug_loop=debug_loop,\n",
    "    )\n",
    "    if not res.is_success:\n",
    "        raise JupyterAPI_Error(\n",
    "            status=res.status,\n",
    "            response=res.response,\n",
    "            domo_instance=auth.domo_instance,\n",
    "            parent_class=parent_class,\n",
    "            function_name=res.traceback_details.function_name,\n",
    "        )\n",
    "\n",
    "    return res"
   ]
  },
  {
   "cell_type": "code",
   "execution_count": 10,
   "id": "d391eab6",
   "metadata": {},
   "outputs": [
    {
     "name": "stdout",
     "output_type": "stream",
     "text": [
      "warning this token has not been validated by who_am_i, run get_auth_token first\n"
     ]
    },
    {
     "data": {
      "text/plain": [
       "{'id': '54578d3f-b1a5-4383-b295-c1a72162942e',\n",
       " 'name': 'Test',\n",
       " 'description': '',\n",
       " 'created': '2024-03-06T04:06:51.502+00:00',\n",
       " 'updated': '2024-03-06T04:11:17.855+00:00',\n",
       " 'lastRun': '2024-03-06T04:07:08.633+00:00',\n",
       " 'instances': [],\n",
       " 'inputConfiguration': [],\n",
       " 'outputConfiguration': [],\n",
       " 'owner': 617808774,\n",
       " 'coOwners': [],\n",
       " 'bootstrapKernel': False,\n",
       " 'migrateFiles': False,\n",
       " 'jupyterKernel': 'PYTHON_3_9',\n",
       " 'cpu': 4.0,\n",
       " 'memory': 32.0,\n",
       " 'timeoutHours': 8,\n",
       " 'sharingEnabled': False,\n",
       " 'sharingEnabledBy': 0,\n",
       " 'accountConfiguration': [],\n",
       " 'collectionConfiguration': [],\n",
       " 'fileshareConfiguration': []}"
      ]
     },
     "execution_count": 10,
     "metadata": {},
     "output_type": "execute_result"
    }
   ],
   "source": [
    "token_auth = dmda.DomoTokenAuth(\n",
    "    domo_instance=\"domo-community\",\n",
    "    domo_access_token=os.environ[\"DOMO_DOJO_ACCESS_TOKEN\"],\n",
    ")\n",
    "\n",
    "res_domo_workspaces = await get_jupyter_workspaces(\n",
    "    token_auth, debug_loop=False, debug_api=False\n",
    ")\n",
    "res_domo_workspaces.response[0]"
   ]
  },
  {
   "cell_type": "code",
   "execution_count": 11,
   "id": "1bcc9d0a",
   "metadata": {},
   "outputs": [
    {
     "data": {
      "text/plain": [
       "['Test',\n",
       " 'Jupyter Test',\n",
       " 'learn_jupyter',\n",
       " 'abcdef',\n",
       " 'The Office',\n",
       " 'monit',\n",
       " 'Oleksii - workspace',\n",
       " 'test_asm',\n",
       " 'jw',\n",
       " 'Elliott Leonard Test',\n",
       " 'Aditya Jain WS',\n",
       " \"Jason's Jeans Python Space\",\n",
       " 't1',\n",
       " 'Test',\n",
       " 'Prueba',\n",
       " 'KL | DP21 Workshop ',\n",
       " 'VS | DP21 Workshop',\n",
       " 'Tutorial']"
      ]
     },
     "execution_count": 11,
     "metadata": {},
     "output_type": "execute_result"
    }
   ],
   "source": [
    "[res[\"name\"] for res in res_domo_workspaces.response]"
   ]
  },
  {
   "cell_type": "code",
   "execution_count": 12,
   "id": "f6d1adab",
   "metadata": {},
   "outputs": [],
   "source": [
    "# | export\n",
    "\n",
    "\n",
    "@gd.route_function\n",
    "async def start_jupyter_workspace(\n",
    "    workspace_id,\n",
    "    auth: dmda.DomoAuth,\n",
    "    parent_class: str = None,\n",
    "    session: httpx.AsyncClient = None,\n",
    "    debug_num_stacks_to_drop=1,\n",
    "    debug_api: bool = False,\n",
    "    return_raw: bool = False,\n",
    "):\n",
    "    url = f\"https://{auth.domo_instance}.domo.com/api/datascience/v1/workspaces/{workspace_id}/instances\"\n",
    "\n",
    "    try:\n",
    "        res = await gd.get_data(\n",
    "            url=url,\n",
    "            method=\"POST\",\n",
    "            auth=auth,\n",
    "            parent_class=parent_class,\n",
    "            session=session,\n",
    "            num_stacks_to_drop=debug_num_stacks_to_drop,\n",
    "            debug_api=debug_api,\n",
    "        )\n",
    "\n",
    "        if return_raw:\n",
    "            return res\n",
    "\n",
    "    except RuntimeError as e:\n",
    "        return rgd.ResponseGetData(\n",
    "            status=500,\n",
    "            response=f\"starting workspace, please wait - {e}\",\n",
    "            is_success=False,\n",
    "        )\n",
    "\n",
    "    if res.status == 500 or res.status == 403:\n",
    "        raise JupyterAPI_Error(\n",
    "            status=res.status,\n",
    "            response=f\"you may not have access to this workspace {workspace_id}, is it shared with you? || OR may already be started -- {res.response}\",\n",
    "            domo_instance=auth.domo_instance,\n",
    "            parent_class=parent_class,\n",
    "            function_name=res.traceback_details.function_name,\n",
    "        )\n",
    "\n",
    "    if not res.is_success:\n",
    "        raise JupyterAPI_Error(\n",
    "            status=res.status,\n",
    "            response=res.response,\n",
    "            domo_instance=auth.domo_instance,\n",
    "            parent_class=parent_class,\n",
    "            function_name=res.traceback_details.function_name,\n",
    "        )\n",
    "\n",
    "    res.response = \"workspace started\"\n",
    "    return res"
   ]
  },
  {
   "cell_type": "code",
   "execution_count": 13,
   "id": "32cc7b85",
   "metadata": {},
   "outputs": [
    {
     "name": "stdout",
     "output_type": "stream",
     "text": [
      "The Office\n",
      "🛑  JupyterAPI_Error 🛑 - function: start_jupyter_workspace || status 403 || you may not have access to this workspace 5edc482e-f181-4db2-b139-ca5d9dcf8b2f, is it shared with you? || OR may already be started -- Forbidden at domo-community\n"
     ]
    }
   ],
   "source": [
    "test_workspace = res_domo_workspaces.response[4]\n",
    "print(test_workspace[\"name\"])\n",
    "\n",
    "try:\n",
    "    print(\n",
    "        await start_jupyter_workspace(\n",
    "            workspace_id=test_workspace[\"id\"],\n",
    "            auth=token_auth,\n",
    "            debug_api=False,\n",
    "            return_raw=False,\n",
    "        )\n",
    "    )\n",
    "except Exception as e:\n",
    "    print(e)"
   ]
  },
  {
   "cell_type": "code",
   "execution_count": 14,
   "id": "6066d2ee-a5e4-4a66-8294-2448729b21b6",
   "metadata": {},
   "outputs": [],
   "source": [
    "# | export\n",
    "\n",
    "\n",
    "@gd.route_function\n",
    "async def get_jupyter_content(\n",
    "    auth: dmda.DomoAuth,\n",
    "    content_path: str = \"\",\n",
    "    debug_api: bool = False,\n",
    "    debug_num_stacks_to_drop=1,\n",
    "    parent_class: str = None,\n",
    "    session: httpx.AsyncClient = None,\n",
    "):\n",
    "    url = f\"https://{auth.domo_instance}.{auth.service_location}{auth.service_prefix}api/contents/{content_path}\"\n",
    "\n",
    "    res = await gd.get_data(\n",
    "        url=f\"{url}\",\n",
    "        method=\"GET\",\n",
    "        auth=auth,\n",
    "        headers={\"authorization\": f\"Token {auth.jupyter_token}\"},\n",
    "        debug_api=debug_api,\n",
    "        num_stacks_to_drop=debug_num_stacks_to_drop,\n",
    "        parent_class=parent_class,\n",
    "        session=session,\n",
    "    )\n",
    "    if not res.is_success:\n",
    "        raise JupyterAPI_Error(\n",
    "            status=res.status,\n",
    "            response=res.response,\n",
    "            domo_instance=auth.domo_instance,\n",
    "            parent_class=parent_class,\n",
    "            function_name=res.traceback_details.function_name,\n",
    "        )\n",
    "\n",
    "    return res"
   ]
  },
  {
   "cell_type": "markdown",
   "id": "6d5a5165",
   "metadata": {},
   "source": [
    "#### sample implementation of get_jupyter_content\n"
   ]
  },
  {
   "cell_type": "code",
   "execution_count": 15,
   "id": "74ee3148",
   "metadata": {},
   "outputs": [
    {
     "name": "stdout",
     "output_type": "stream",
     "text": [
      "warning this token has not been validated by who_am_i, run get_auth_token first\n"
     ]
    },
    {
     "data": {
      "text/plain": [
       "DomoJupyterTokenAuth(jupyter_token='9meJVc62g4nVWvlD9qdJFgmO3Oxm0r', service_location='jupyter-prod1.domodatascience.com', service_prefix='/user/domo-community-1893952720/1cfe9db4/', domo_instance='domo-community', token_name=None, is_valid_token=None, url_manual_login='https://domo-community.domo.com/auth/index?domoManualLogin=true')"
      ]
     },
     "execution_count": 15,
     "metadata": {},
     "output_type": "execute_result"
    }
   ],
   "source": [
    "# currently must scrape from the API\n",
    "jupyter_token = \"9meJVc62g4nVWvlD9qdJFgmO3Oxm0r\"\n",
    "\n",
    "\n",
    "token_auth = dmda.DomoTokenAuth(\n",
    "    domo_instance=\"domo-community\",\n",
    "    domo_access_token=os.environ[\"DOMO_DOJO_ACCESS_TOKEN\"],\n",
    ")\n",
    "\n",
    "workspace_params = await get_workspace_auth_token_params(\n",
    "    workspace_id=workspace_id, auth=token_auth\n",
    ")\n",
    "\n",
    "# converts a token_auth into DomoJupyterTokenAuth with a new generate_header function for authenticating jupyter requests\n",
    "dj_auth = dmda.DomoJupyterTokenAuth.convert_auth(\n",
    "    auth=token_auth, jupyter_token=jupyter_token, **workspace_params\n",
    ")\n",
    "\n",
    "dj_auth"
   ]
  },
  {
   "cell_type": "code",
   "execution_count": 16,
   "id": "eecb24e1",
   "metadata": {},
   "outputs": [
    {
     "name": "stdout",
     "output_type": "stream",
     "text": [
      "warning this token has not been validated by who_am_i, run get_auth_token first\n",
      "🛑  JupyterAPI_Error 🛑 - function: get_jupyter_content || status 403 || Forbidden at domo-community\n"
     ]
    }
   ],
   "source": [
    "#| eval : false\n",
    "try:\n",
    "    res = await get_jupyter_content(\n",
    "        auth=dj_auth,\n",
    "        # content_path = 'my_terrible_demo.txt',\n",
    "        # content_path=\"datatypes.ipynb\",\n",
    "        debug_api=None,\n",
    "    )\n",
    "\n",
    "    print(res.response[\"content\"][0:2])\n",
    "\n",
    "except JupyterAPI_Error as e:\n",
    "    print(e)"
   ]
  },
  {
   "cell_type": "markdown",
   "id": "229c7952",
   "metadata": {},
   "source": [
    "### update jupyter content\n",
    "\n",
    "improve code maintenance by implementing a factory design patternx\n"
   ]
  },
  {
   "cell_type": "code",
   "execution_count": 17,
   "id": "e5cab7d6",
   "metadata": {},
   "outputs": [],
   "source": [
    "# | exporti\n",
    "\n",
    "\n",
    "def generate_update_jupyter_body__new_content_path(content_path):\n",
    "    if not content_path:\n",
    "        return None\n",
    "\n",
    "    if \"/\" in content_path:\n",
    "        return \"/\".join(content_path.split(\"/\")[:-1])\n",
    "    else:\n",
    "        return \"\"\n",
    "\n",
    "\n",
    "def generate_update_jupyter_body__text(body, content_path=None):\n",
    "    body.update(\n",
    "        {\n",
    "            \"format\": \"text\",\n",
    "            \"type\": \"file\",\n",
    "            \"path\": generate_update_jupyter_body__new_content_path(content_path),\n",
    "        }\n",
    "    )\n",
    "    return body\n",
    "\n",
    "\n",
    "def generate_update_jupyter_body__ipynb(body, content_path=None):\n",
    "\n",
    "    body.update(\n",
    "        {\n",
    "            \"format\": None,\n",
    "            \"type\": \"notebook\",\n",
    "            \"path\": generate_update_jupyter_body__new_content_path(content_path),\n",
    "        }\n",
    "    )\n",
    "    return body\n",
    "\n",
    "\n",
    "def generate_update_jupyter_body__directory(content_path, body):\n",
    "    body.update(\n",
    "        {\n",
    "            \"path\": generate_update_jupyter_body__new_content_path(content_path),\n",
    "            \"format\": None,\n",
    "            \"type\": \"directory\",\n",
    "        }\n",
    "    )\n",
    "    return body"
   ]
  },
  {
   "cell_type": "code",
   "execution_count": 18,
   "id": "ad1fa8cf",
   "metadata": {},
   "outputs": [],
   "source": [
    "# |export\n",
    "class generate_update_jupyter_body_factory(Enum):\n",
    "    IPYNB = partial(generate_update_jupyter_body__ipynb)\n",
    "    DIRECTORY = partial(generate_update_jupyter_body__directory)\n",
    "    TEXT = partial(generate_update_jupyter_body__text)\n",
    "\n",
    "    @classmethod\n",
    "    def from_text(cls, value):\n",
    "        try:\n",
    "            return cls[value.upper()].value\n",
    "        except:\n",
    "            return cls.TEXT.value\n",
    "    \n",
    "def generate_update_jupyter_body(\n",
    "    new_content, content_path: str  # my_folder/datatypes.ipynb\n",
    "):\n",
    "    \"\"\"factory to construct properly formed body\"\"\"\n",
    "\n",
    "    content_name = os.path.normpath(content_path).split(os.sep)[-1]\n",
    "\n",
    "    if \".\" in content_path:\n",
    "        content_type = content_path.split(\".\")[-1]\n",
    "    else:\n",
    "        content_type = \"directory\"\n",
    "\n",
    "    body = {\n",
    "        \"name\": content_name,\n",
    "        \"content\": new_content,\n",
    "        \"path\": content_path,\n",
    "    }\n",
    "    return generate_update_jupyter_body_factory.from_text(content_type)(\n",
    "        body=body, content_path=content_path\n",
    "    )"
   ]
  },
  {
   "cell_type": "code",
   "execution_count": 19,
   "id": "8b50b2fa",
   "metadata": {},
   "outputs": [
    {
     "data": {
      "text/plain": [
       "{'name': 'hi.md',\n",
       " 'content': 'hello world',\n",
       " 'path': '',\n",
       " 'format': 'text',\n",
       " 'type': 'file'}"
      ]
     },
     "execution_count": 19,
     "metadata": {},
     "output_type": "execute_result"
    }
   ],
   "source": [
    "generate_update_jupyter_body(\"hello world\", \"hi.md\")"
   ]
  },
  {
   "cell_type": "code",
   "execution_count": 20,
   "id": "21b8598a",
   "metadata": {},
   "outputs": [
    {
     "data": {
      "text/plain": [
       "{'name': 'new_folder',\n",
       " 'content': None,\n",
       " 'path': '',\n",
       " 'format': None,\n",
       " 'type': 'directory'}"
      ]
     },
     "execution_count": 20,
     "metadata": {},
     "output_type": "execute_result"
    }
   ],
   "source": [
    "generate_update_jupyter_body(None, \"new_folder\")"
   ]
  },
  {
   "cell_type": "markdown",
   "id": "28f839c6",
   "metadata": {},
   "source": [
    "## CRUD Routes\n"
   ]
  },
  {
   "cell_type": "code",
   "execution_count": 21,
   "id": "0245e781",
   "metadata": {},
   "outputs": [],
   "source": [
    "# | export\n",
    "\n",
    "\n",
    "@gd.route_function\n",
    "async def update_jupyter_file(\n",
    "    auth: dmda.DomoJupyterAuth,\n",
    "    new_content,\n",
    "    content_path: str = \"\",  # file name and location in jupyter\n",
    "    debug_api: bool = False,\n",
    "    parent_class: str = None,\n",
    "    debug_num_stacks_to_drop=1,\n",
    "    session: httpx.AsyncClient = None,\n",
    "):\n",
    "    dmda.test_is_jupyter_auth(auth)\n",
    "\n",
    "    body = generate_update_jupyter_body(new_content, content_path)\n",
    "\n",
    "    content_path_split = os.path.normpath(content_path).split(os.sep)\n",
    "\n",
    "    url = f\"https://{auth.domo_instance}.{auth.service_location}{auth.service_prefix}api/contents/{'/'.join(content_path_split)}\"\n",
    "\n",
    "    res = await gd.get_data(\n",
    "        url=url,\n",
    "        method=\"PUT\",\n",
    "        auth=auth,\n",
    "        body=body,\n",
    "        debug_api=debug_api,\n",
    "        parent_class=parent_class,\n",
    "        num_stacks_to_drop=debug_num_stacks_to_drop,\n",
    "        session=session,\n",
    "    )\n",
    "\n",
    "    if not res.is_success:\n",
    "        raise JupyterAPI_Error(\n",
    "            status=res.status,\n",
    "            response=res.response,\n",
    "            domo_instance=auth.domo_instance,\n",
    "            parent_class=parent_class,\n",
    "        )\n",
    "\n",
    "    return res"
   ]
  },
  {
   "cell_type": "markdown",
   "id": "f8d7fe2b",
   "metadata": {},
   "source": [
    "#### sample implementation of update_content\n"
   ]
  },
  {
   "cell_type": "code",
   "execution_count": 22,
   "id": "371e46df",
   "metadata": {},
   "outputs": [
    {
     "name": "stdout",
     "output_type": "stream",
     "text": [
      "🛑  JupyterAPI_Error 🛑 - function: status 403 || Forbidden at domo-community\n"
     ]
    }
   ],
   "source": [
    "try:\n",
    "    res = await update_jupyter_file(\n",
    "        auth=dj_auth,\n",
    "        content_path=\"new_folder\",\n",
    "        new_content=None,\n",
    "        debug_api=False,\n",
    "    )\n",
    "\n",
    "    res.response\n",
    "\n",
    "    res = await update_jupyter_file(\n",
    "        auth=dj_auth,\n",
    "        content_path=f\"new_folder/updated_{dt.date.today()}.txt\",\n",
    "        new_content=\"jae is excellent at demoes\",\n",
    "        debug_api=False,\n",
    "    )\n",
    "\n",
    "    print(res.response)\n",
    "    \n",
    "except JupyterAPI_Error as e:\n",
    "    print(e)"
   ]
  },
  {
   "cell_type": "markdown",
   "id": "106203cf",
   "metadata": {},
   "source": [
    "### recursive get_content\n",
    "\n",
    "[![Tutorial Video pt 3 of 4]](https://youtu.be/l32qTj08bCY)\n"
   ]
  },
  {
   "cell_type": "code",
   "execution_count": 23,
   "id": "9f118058",
   "metadata": {},
   "outputs": [],
   "source": [
    "# | exporti\n",
    "\n",
    "\n",
    "async def get_content_recursive(\n",
    "    auth,\n",
    "    all_rows,\n",
    "    content_path,\n",
    "    logs,\n",
    "    res: rgd.ResponseGetData,\n",
    "    obj: dict = None,\n",
    "    is_recursive: bool = True,\n",
    "    is_skip_recent_executions: bool = True,\n",
    "    is_skip_default_files: bool = True,\n",
    "    return_raw: bool = False,\n",
    "    debug_api: bool = False,\n",
    "    debug_num_stacks_to_drop=0,\n",
    "    parent_class=None,\n",
    "    session: httpx.AsyncClient = None,\n",
    "):\n",
    "    # set path (on initial execution there is no object)\n",
    "\n",
    "    res = await get_jupyter_content(\n",
    "        auth=auth,\n",
    "        content_path=content_path,\n",
    "        debug_api=debug_api,\n",
    "        parent_class=parent_class,\n",
    "        debug_num_stacks_to_drop=debug_num_stacks_to_drop + 1,\n",
    "        session=session,\n",
    "    )\n",
    "    if return_raw:\n",
    "        return res\n",
    "\n",
    "    obj = res.response\n",
    "    obj_name = obj[\"name\"]\n",
    "    obj_type = obj[\"type\"]\n",
    "    obj_path = obj[\"path\"]\n",
    "    obj_content = obj[\"content\"] or []\n",
    "\n",
    "    s = {\"content_path\": obj_path, \"type\": obj_type, \"name\": obj_name}\n",
    "\n",
    "    if (is_skip_recent_executions and obj_path.startswith(\"recent_executions\")) or (\n",
    "        is_skip_default_files and obj_path.startswith(\"domo_jupyter_examples\")\n",
    "    ):\n",
    "        res.response = all_rows\n",
    "        res.logs = logs\n",
    "        return res\n",
    "\n",
    "    all_rows.append(obj)\n",
    "    s.update({\"is_append\": True})\n",
    "    logs.append(s)\n",
    "\n",
    "    res.response = all_rows\n",
    "    res.logs = logs\n",
    "\n",
    "    if obj[\"type\"] != \"directory\":\n",
    "        return res\n",
    "\n",
    "    s.update({\"content\": len(obj_content), \"all_rows\": len(all_rows)})\n",
    "    logs.append(s)\n",
    "\n",
    "    res.response = all_rows\n",
    "    res.logs = logs\n",
    "\n",
    "    if not is_recursive:\n",
    "        return res\n",
    "\n",
    "    if len(obj_content) > 0:\n",
    "        await ce.gather_with_concurrency(\n",
    "            *[\n",
    "                get_content_recursive(\n",
    "                    auth=auth,\n",
    "                    content_path=content[\"path\"],\n",
    "                    all_rows=all_rows,\n",
    "                    logs=logs,\n",
    "                    res=res,\n",
    "                    is_skip_recent_executions=is_skip_recent_executions,\n",
    "                    is_skip_default_files=is_skip_default_files,\n",
    "                    debug_api=debug_api,\n",
    "                    debug_num_stacks_to_drop=debug_num_stacks_to_drop + 1,\n",
    "                    parent_class=parent_class,\n",
    "                    session=session,\n",
    "                )\n",
    "                for content in obj_content\n",
    "            ],\n",
    "            n=5\n",
    "        )\n",
    "\n",
    "    return res"
   ]
  },
  {
   "cell_type": "code",
   "execution_count": 24,
   "id": "76003fd1-dafc-4c17-a4ba-91b645ac2c7c",
   "metadata": {},
   "outputs": [],
   "source": [
    "# | export\n",
    "\n",
    "\n",
    "@gd.route_function\n",
    "async def get_content(\n",
    "    auth: dmda.DomoJupyterAuth,\n",
    "    content_path=\"\",\n",
    "    is_recursive: bool = True,\n",
    "    is_skip_recent_executions: bool = True,\n",
    "    is_skip_default_files: bool = True,\n",
    "    return_raw: bool = False,\n",
    "    debug_api: bool = False,\n",
    "    debug_num_stacks_to_drop=2,\n",
    "    parent_class: str = None,\n",
    "    session: httpx.AsyncClient = None,\n",
    "):\n",
    "    dmda.test_is_jupyter_auth(auth)\n",
    "\n",
    "    all_rows = []\n",
    "    logs = []\n",
    "    res = None\n",
    "\n",
    "    return await get_content_recursive(\n",
    "        auth=auth,\n",
    "        content_path=content_path,\n",
    "        all_rows=all_rows,\n",
    "        logs=logs,\n",
    "        res=res,\n",
    "        is_recursive=is_recursive,\n",
    "        is_skip_recent_executions=is_skip_recent_executions,\n",
    "        is_skip_default_files=is_skip_default_files,\n",
    "        return_raw=return_raw,\n",
    "        debug_api=debug_api,\n",
    "        debug_num_stacks_to_drop=debug_num_stacks_to_drop,\n",
    "        parent_class=parent_class,\n",
    "        session=session,\n",
    "    )"
   ]
  },
  {
   "cell_type": "markdown",
   "id": "b7e40d12",
   "metadata": {},
   "source": [
    "#### sample implementation of get_content_recursive\n"
   ]
  },
  {
   "cell_type": "code",
   "execution_count": 25,
   "id": "7a83f47d-0ac9-4c0a-8165-ff7fc46cf105",
   "metadata": {},
   "outputs": [
    {
     "name": "stdout",
     "output_type": "stream",
     "text": [
      "🛑  JupyterAPI_Error 🛑 - function: wrapper || status 403 || Forbidden at domo-community\n"
     ]
    }
   ],
   "source": [
    "# |eval: false\n",
    "\n",
    "try:\n",
    "    res = await get_content(\n",
    "        auth=dj_auth,\n",
    "        debug_api=False,\n",
    "        return_raw=True,\n",
    "        is_recursive=False,\n",
    "        content_path=\"new_folder\",\n",
    "    )\n",
    "\n",
    "    # print(\n",
    "    #     \"num_files\",\n",
    "    #     len([content for content in res.response if content[\"type\"] != \"directory\"]),\n",
    "    # )\n",
    "    # pd.DataFrame(res.logs).fillna(0)\n",
    "    pd.DataFrame(res.response)\n",
    "\n",
    "except JupyterAPI_Error as e:\n",
    "    print(e)"
   ]
  },
  {
   "cell_type": "code",
   "execution_count": 26,
   "id": "8034b42a-f645-4974-a25b-8c403a0886fd",
   "metadata": {},
   "outputs": [],
   "source": [
    "# | hide\n",
    "import nbdev\n",
    "\n",
    "nbdev.nbdev_export(\"./jupyter.ipynb\")"
   ]
  }
 ],
 "metadata": {
  "kernelspec": {
   "display_name": "python3",
   "language": "python",
   "name": "python3"
  },
  "language_info": {
   "codemirror_mode": {
    "name": "ipython",
    "version": 3
   },
   "file_extension": ".py",
   "mimetype": "text/x-python",
   "name": "python",
   "nbconvert_exporter": "python",
   "pygments_lexer": "ipython3",
   "version": "3.10.12"
  }
 },
 "nbformat": 4,
 "nbformat_minor": 5
}
