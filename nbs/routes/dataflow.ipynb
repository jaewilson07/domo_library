{
 "cells": [
  {
   "cell_type": "raw",
   "metadata": {},
   "source": [
    "---\n",
    "output-file: routes.dataflow_routes.html\n",
    "title: Dataflow Routes\n",
    "---\n",
    "\n"
   ]
  },
  {
   "cell_type": "code",
   "execution_count": null,
   "metadata": {},
   "outputs": [],
   "source": [
    "# | default_exp routes.dataflow"
   ]
  },
  {
   "cell_type": "code",
   "execution_count": null,
   "metadata": {},
   "outputs": [],
   "source": [
    "# | exporti\n",
    "import httpx\n",
    "\n",
    "import domolibrary.client.get_data as gd\n",
    "import domolibrary.client.ResponseGetData as rgd\n",
    "import domolibrary.client.DomoAuth as dmda\n",
    "\n",
    "from nbdev.showdoc import show_doc"
   ]
  },
  {
   "cell_type": "code",
   "execution_count": null,
   "metadata": {},
   "outputs": [],
   "source": [
    "# | export\n",
    "\n",
    "\n",
    "@gd.route_function\n",
    "async def get_dataflow_by_id(\n",
    "    dataflow_id: int,\n",
    "    auth: dmda.DomoAuth,\n",
    "    debug_api: bool = False,\n",
    "    session: httpx.AsyncClient = None,\n",
    "    parent_class: str = None,\n",
    "    debug_num_stacks_to_drop=1,\n",
    ") -> rgd.ResponseGetData:\n",
    "    domo_instance = auth.domo_instance\n",
    "\n",
    "    url = f\"https://{domo_instance}.domo.com/api/dataprocessing/v1/dataflows/{dataflow_id}\"\n",
    "\n",
    "    return await gd.get_data(\n",
    "        auth=auth,\n",
    "        url=url,\n",
    "        method=\"GET\",\n",
    "        debug_api=debug_api,\n",
    "        session=session,\n",
    "        parent_class=parent_class,\n",
    "        num_stacks_to_drop=debug_num_stacks_to_drop,\n",
    "    )"
   ]
  },
  {
   "attachments": {},
   "cell_type": "markdown",
   "metadata": {},
   "source": [
    "#### Sample implementation of get_dataflow_by_id\n"
   ]
  },
  {
   "cell_type": "code",
   "execution_count": null,
   "metadata": {},
   "outputs": [
    {
     "name": "stdout",
     "output_type": "stream",
     "text": [
      "{'dataSourceId': '241025d7-3cca-4369-b7c0-b3264277c0e1',\n",
      " 'executeFlowWhenUpdated': False,\n",
      " 'gui': {'color': None,\n",
      "         'colorSource': None,\n",
      "         'sampleJson': None,\n",
      "         'x': None,\n",
      "         'y': None},\n",
      " 'id': '241025d7-3cca-4369-b7c0-b3264277c0e1',\n",
      " 'onlyLoadNewVersions': False,\n",
      " 'pseudoDataSource': False,\n",
      " 'targetTableName': 'domostats_people',\n",
      " 'truncateRows': False,\n",
      " 'truncateTextColumns': False,\n",
      " 'type': 'LoadFromVault'}\n",
      "{'dependsOn': ['241025d7-3cca-4369-b7c0-b3264277c0e1'],\n",
      " 'gui': {'color': None,\n",
      "         'colorSource': None,\n",
      "         'sampleJson': None,\n",
      "         'x': None,\n",
      "         'y': None},\n",
      " 'id': 'c176aa53-122a-4a2e-8b6f-41ca4a72d67c',\n",
      " 'selectStatement': 'SELECT\\n'\n",
      "                    '`Display Name`,\\n'\n",
      "                    '`User ID`\\n'\n",
      "                    ', @row := @row+1 as id\\n'\n",
      "                    ', @isReset := case when @iter = @rowCounter then 1 else 0 '\n",
      "                    'end isReset\\n'\n",
      "                    ', @group := @isReset + @group   as rowGroup\\n'\n",
      "                    ', @iter := case when @isReset = 1 then 1 else @iter + 1 '\n",
      "                    'end iter\\n'\n",
      "                    ', @rowCounter := case when @isReset = 1 then FLOOR( '\n",
      "                    'RAND() * (7-3) + 3) else @rowCounter end numChildren\\n'\n",
      "                    '\\n'\n",
      "                    '\\n'\n",
      "                    'from `domostats_people` p\\n'\n",
      "                    '\\n'\n",
      "                    ', (select @row:= 0,@rowCounter:= 1, @iter := 1, @isReset '\n",
      "                    ':= 0 , @group := 0) r',\n",
      " 'tableName': 't_1',\n",
      " 'type': 'GenerateTableAction'}\n",
      "{'dependsOn': ['c176aa53-122a-4a2e-8b6f-41ca4a72d67c'],\n",
      " 'gui': {'color': None,\n",
      "         'colorSource': None,\n",
      "         'sampleJson': None,\n",
      "         'x': None,\n",
      "         'y': None},\n",
      " 'id': 'ac9f630d-d865-4925-b955-4316e227229a',\n",
      " 'selectStatement': '\\n'\n",
      "                    \"select  b.`User ID` as userID , 'reportsTo' as Action , \"\n",
      "                    'a.`User ID` as bodyID\\n'\n",
      "                    '\\n'\n",
      "                    'from t_1 a \\n'\n",
      "                    '\\n'\n",
      "                    'join t_1 b \\n'\n",
      "                    '\\n'\n",
      "                    'on a.id = b.`rowGroup`\\n'\n",
      "                    'where a.`User ID` <> b.`User ID`\\n'\n",
      "                    '\\n'\n",
      "                    'UNION\\n'\n",
      "                    '\\n'\n",
      "                    \"select  b.`User ID` as userID , 'directReports' as Action \"\n",
      "                    ', a.`User ID` as bodyID\\n'\n",
      "                    '\\n'\n",
      "                    'from t_1 a \\n'\n",
      "                    '\\n'\n",
      "                    'join t_1 b \\n'\n",
      "                    '\\n'\n",
      "                    'on b.id = a.`rowGroup`\\n'\n",
      "                    '\\n'\n",
      "                    'where a.`User ID` <> b.`User ID`\\n'\n",
      "                    '\\n',\n",
      " 'tableName': 'reportsto',\n",
      " 'type': 'GenerateTableAction'}\n",
      "{'dataSource': {'guid': 'd9257748-c181-496e-8f9a-016ee99b4a14',\n",
      "                'name': 'domoStats_people_reports',\n",
      "                'type': 'DataFlow'},\n",
      " 'dependsOn': ['ac9f630d-d865-4925-b955-4316e227229a'],\n",
      " 'gui': {'color': None,\n",
      "         'colorSource': None,\n",
      "         'sampleJson': None,\n",
      "         'x': None,\n",
      "         'y': None},\n",
      " 'id': '8edc3d78-3586-47a8-9775-c7b146a50d19',\n",
      " 'partitioned': False,\n",
      " 'query': 'select * from `reportsto`',\n",
      " 'schemaSource': 'DATAFLOW',\n",
      " 'type': 'PublishToVault',\n",
      " 'versionChainType': 'REPLACE'}\n"
     ]
    },
    {
     "data": {
      "text/plain": [
       "[]"
      ]
     },
     "execution_count": null,
     "metadata": {},
     "output_type": "execute_result"
    }
   ],
   "source": [
    "from pprint import pprint\n",
    "import os\n",
    "import pandas as pd\n",
    "\n",
    "token_auth = dmda.DomoTokenAuth(\n",
    "    domo_instance=\"domo-community\",\n",
    "    domo_access_token=os.environ[\"DOMO_DOJO_ACCESS_TOKEN\"],\n",
    ")\n",
    "\n",
    "res = await get_dataflow_by_id(dataflow_id=70, auth=token_auth)\n",
    "\n",
    "res.response.keys()\n",
    "\n",
    "\n",
    "all_keys = []\n",
    "for action in res.response.get(\"actions\"):\n",
    "    pprint(action)\n",
    "\n",
    "list(set(all_keys))"
   ]
  },
  {
   "cell_type": "code",
   "execution_count": null,
   "metadata": {},
   "outputs": [],
   "source": [
    "# | export\n",
    "@gd.route_function\n",
    "async def get_dataflow_execution_history(\n",
    "    dataflow_id: int,\n",
    "    auth: dmda.DomoAuth,\n",
    "    maximum: int = None,\n",
    "    parent_class: str = None,\n",
    "    session: httpx.AsyncClient = None,\n",
    "    debug_num_stacks_to_drop=1,\n",
    "    debug_loop: bool = False,\n",
    "    debug_api: bool = False,\n",
    "):\n",
    "    limit = 100\n",
    "\n",
    "    url = f\"https://{auth.domo_instance}.domo.com/api/dataprocessing/v1/dataflows/{dataflow_id}/executions\"\n",
    "\n",
    "    def arr_fn(res):\n",
    "        return res.response\n",
    "\n",
    "    res = await gd.looper(\n",
    "        auth=auth,\n",
    "        session=session,\n",
    "        url=url,\n",
    "        loop_until_end=True if not maximum else False,\n",
    "        method=\"GET\",\n",
    "        offset_params_in_body=False,\n",
    "        offset_params={\"offset\": \"offset\", \"limit\": \"limit\"},\n",
    "        arr_fn=arr_fn,\n",
    "        maximum=maximum,\n",
    "        limit=limit,\n",
    "        debug_num_stacks_to_drop=debug_num_stacks_to_drop,\n",
    "        parent_class=parent_class,\n",
    "        debug_api=debug_api,\n",
    "        debug_loop=debug_loop,\n",
    "    )\n",
    "\n",
    "    return res"
   ]
  },
  {
   "cell_type": "code",
   "execution_count": null,
   "metadata": {},
   "outputs": [
    {
     "data": {
      "text/markdown": [
       "---\n",
       "\n",
       "[source](https://github.com/jaewilson07/domo_library/blob/main/domolibrary/routes/dataflow.py#L41){target=\"_blank\" style=\"float:right; font-size:smaller\"}\n",
       "\n",
       "### get_dataflow_execution_history\n",
       "\n",
       ">      get_dataflow_execution_history (dataflow_id:int,\n",
       ">                                      auth:domolibrary.client.DomoAuth.DomoAuth\n",
       ">                                      , maximum:int=None,\n",
       ">                                      parent_class:str=None,\n",
       ">                                      session:httpx.AsyncClient=None,\n",
       ">                                      debug_num_stacks_to_drop=1,\n",
       ">                                      debug_loop:bool=False,\n",
       ">                                      debug_api:bool=False)"
      ],
      "text/plain": [
       "---\n",
       "\n",
       "[source](https://github.com/jaewilson07/domo_library/blob/main/domolibrary/routes/dataflow.py#L41){target=\"_blank\" style=\"float:right; font-size:smaller\"}\n",
       "\n",
       "### get_dataflow_execution_history\n",
       "\n",
       ">      get_dataflow_execution_history (dataflow_id:int,\n",
       ">                                      auth:domolibrary.client.DomoAuth.DomoAuth\n",
       ">                                      , maximum:int=None,\n",
       ">                                      parent_class:str=None,\n",
       ">                                      session:httpx.AsyncClient=None,\n",
       ">                                      debug_num_stacks_to_drop=1,\n",
       ">                                      debug_loop:bool=False,\n",
       ">                                      debug_api:bool=False)"
      ]
     },
     "execution_count": null,
     "metadata": {},
     "output_type": "execute_result"
    }
   ],
   "source": [
    "show_doc(get_dataflow_execution_history)"
   ]
  },
  {
   "cell_type": "markdown",
   "metadata": {},
   "source": [
    "#### sample implementation of get_dataflow_execution_history\n"
   ]
  },
  {
   "cell_type": "code",
   "execution_count": null,
   "metadata": {},
   "outputs": [
    {
     "name": "stdout",
     "output_type": "stream",
     "text": [
      "2\n"
     ]
    },
    {
     "data": {
      "text/plain": [
       "{'id': 435276,\n",
       " 'onboardFlowId': 70,\n",
       " 'previewRows': 0,\n",
       " 'dapDataFlowExecutionId': '6ada1dc7-2629-4164-a74b-752567a03ca5',\n",
       " 'beginTime': 1701969246000,\n",
       " 'lastUpdated': 1701969246000,\n",
       " 'state': 'CREATED',\n",
       " 'activationType': 'MANUAL',\n",
       " 'dataProcessor': 'MYSQL',\n",
       " 'dataFlowVersion': 262}"
      ]
     },
     "execution_count": null,
     "metadata": {},
     "output_type": "execute_result"
    }
   ],
   "source": [
    "import os\n",
    "import pandas as pd\n",
    "\n",
    "token_auth = dmda.DomoTokenAuth(\n",
    "    domo_instance=\"domo-community\",\n",
    "    domo_access_token=os.environ[\"DOMO_DOJO_ACCESS_TOKEN\"],\n",
    ")\n",
    "\n",
    "res = await get_dataflow_execution_history(dataflow_id=70, maximum=2, auth=token_auth)\n",
    "print(len(res.response))\n",
    "res.response[0]"
   ]
  },
  {
   "cell_type": "code",
   "execution_count": null,
   "metadata": {},
   "outputs": [],
   "source": [
    "# | export\n",
    "\n",
    "\n",
    "@gd.route_function\n",
    "async def get_dataflow_execution_by_id(\n",
    "    auth: dmda.DomoAuth,\n",
    "    dataflow_id: int,\n",
    "    execution_id : int,\n",
    "    debug_api: bool = False,\n",
    "    debug_num_stacks_to_drop=1,\n",
    "    parent_class: str = None,\n",
    "    session: httpx.AsyncClient = None,\n",
    ") -> rgd.ResponseGetData:\n",
    "    url = f\"https://{auth.domo_instance}.domo.com/api/dataprocessing/v1/dataflows/{dataflow_id}/executions/{execution_id}\"\n",
    "\n",
    "    return await gd.get_data(\n",
    "        auth=auth,\n",
    "        url=url,\n",
    "        method=\"GET\",\n",
    "        num_stacks_to_drop=debug_num_stacks_to_drop,\n",
    "        parent_class=parent_class,\n",
    "        debug_api=debug_api,\n",
    "        session=session,\n",
    "    )"
   ]
  },
  {
   "cell_type": "code",
   "execution_count": null,
   "metadata": {},
   "outputs": [
    {
     "data": {
      "text/markdown": [
       "---\n",
       "\n",
       "[source](https://github.com/jaewilson07/domo_library/blob/main/domolibrary/routes/dataflow.py#L79){target=\"_blank\" style=\"float:right; font-size:smaller\"}\n",
       "\n",
       "### get_dataflow_execution_by_id\n",
       "\n",
       ">      get_dataflow_execution_by_id (auth:domolibrary.client.DomoAuth.DomoAuth,\n",
       ">                                    dataflow_id:int, execution_id:int,\n",
       ">                                    debug_api:bool=False,\n",
       ">                                    debug_num_stacks_to_drop=1,\n",
       ">                                    parent_class:str=None,\n",
       ">                                    session:httpx.AsyncClient=None)"
      ],
      "text/plain": [
       "---\n",
       "\n",
       "[source](https://github.com/jaewilson07/domo_library/blob/main/domolibrary/routes/dataflow.py#L79){target=\"_blank\" style=\"float:right; font-size:smaller\"}\n",
       "\n",
       "### get_dataflow_execution_by_id\n",
       "\n",
       ">      get_dataflow_execution_by_id (auth:domolibrary.client.DomoAuth.DomoAuth,\n",
       ">                                    dataflow_id:int, execution_id:int,\n",
       ">                                    debug_api:bool=False,\n",
       ">                                    debug_num_stacks_to_drop=1,\n",
       ">                                    parent_class:str=None,\n",
       ">                                    session:httpx.AsyncClient=None)"
      ]
     },
     "execution_count": null,
     "metadata": {},
     "output_type": "execute_result"
    }
   ],
   "source": [
    "show_doc(get_dataflow_execution_by_id)"
   ]
  },
  {
   "cell_type": "markdown",
   "metadata": {},
   "source": [
    "#### sample implementation of `get_dataflow_execution_by_id`\n"
   ]
  },
  {
   "cell_type": "code",
   "execution_count": null,
   "metadata": {},
   "outputs": [
    {
     "data": {
      "text/plain": [
       "{'id': 433238,\n",
       " 'onboardFlowId': 70,\n",
       " 'previewRows': 0,\n",
       " 'dapDataFlowExecutionId': '88e96b86-0dcd-4a84-a946-bcb22224ea2f',\n",
       " 'beginTime': 1701756991000,\n",
       " 'endTime': 1701757024000,\n",
       " 'lastUpdated': 1701757024000,\n",
       " 'failed': False,\n",
       " 'state': 'SUCCESS',\n",
       " 'activationType': 'MANUAL',\n",
       " 'executionEngine': {'platform': 'K8S', 'engine': 'MYSQL_SQL_ENGINE'},\n",
       " 'actionResults': [{'actionId': '8edc3d78-3586-47a8-9775-c7b146a50d19',\n",
       "   'type': 'PublishToVault',\n",
       "   'wasSuccessful': True,\n",
       "   'beginTime': 1701757021487,\n",
       "   'endTime': 1701757022754,\n",
       "   'rowsProcessed': 1816},\n",
       "  {'actionId': 'c176aa53-122a-4a2e-8b6f-41ca4a72d67c',\n",
       "   'type': 'GenerateTableAction',\n",
       "   'wasSuccessful': True,\n",
       "   'beginTime': 1701757020983,\n",
       "   'endTime': 1701757021100,\n",
       "   'rowsProcessed': 909},\n",
       "  {'actionId': '241025d7-3cca-4369-b7c0-b3264277c0e1',\n",
       "   'type': 'DataHubManifestLoaderAction',\n",
       "   'wasSuccessful': True,\n",
       "   'beginTime': 1701757015894,\n",
       "   'endTime': 1701757020972,\n",
       "   'rowsProcessed': 909},\n",
       "  {'actionId': 'ac9f630d-d865-4925-b955-4316e227229a',\n",
       "   'type': 'GenerateTableAction',\n",
       "   'wasSuccessful': True,\n",
       "   'beginTime': 1701757021100,\n",
       "   'endTime': 1701757021487,\n",
       "   'rowsProcessed': 1816}],\n",
       " 'dataProcessor': 'MYSQL',\n",
       " 'inputDataSources': [{'dataSourceId': '241025d7-3cca-4369-b7c0-b3264277c0e1',\n",
       "   'dataVersionId': 1306,\n",
       "   'rowsRead': 909,\n",
       "   'bytesRead': 291266,\n",
       "   'downloadTime': 5078,\n",
       "   'onlyLoadNewVersions': False}],\n",
       " 'outputDataSources': [{'dataSourceId': 'd9257748-c181-496e-8f9a-016ee99b4a14',\n",
       "   'dataVersionId': 495,\n",
       "   'rowsWritten': 1816,\n",
       "   'bytesWritten': 97986,\n",
       "   'partsProcessed': None,\n",
       "   'versionChainType': None}],\n",
       " 'totalBytesWritten': 97986,\n",
       " 'dataFlowVersion': 262,\n",
       " 'totalRowsRead': 909,\n",
       " 'totalBytesRead': 291266,\n",
       " 'meanDownloadRateKbps': 56.014071115596686,\n",
       " 'totalRowsWritten': 1816}"
      ]
     },
     "execution_count": null,
     "metadata": {},
     "output_type": "execute_result"
    }
   ],
   "source": [
    "import os\n",
    "import pandas as pd\n",
    "\n",
    "token_auth = dmda.DomoTokenAuth(\n",
    "    domo_instance=\"domo-community\",\n",
    "    domo_access_token=os.environ[\"DOMO_DOJO_ACCESS_TOKEN\"],\n",
    ")\n",
    "\n",
    "res = await get_dataflow_execution_by_id(\n",
    "    dataflow_id=70, execution_id=433238, auth=token_auth\n",
    ")\n",
    "\n",
    "res.response\n",
    "\n"
   ]
  },
  {
   "cell_type": "code",
   "execution_count": null,
   "metadata": {},
   "outputs": [],
   "source": [
    "# | export\n",
    "\n",
    "\n",
    "@gd.route_function\n",
    "async def execute_dataflow(\n",
    "    auth: dmda.DomoAuth,\n",
    "    dataflow_id: int,\n",
    "    debug_api: bool = False,\n",
    "    debug_num_stacks_to_drop=1,\n",
    "    parent_class: str = None,\n",
    "    session: httpx.AsyncClient = None,\n",
    ") -> rgd.ResponseGetData:\n",
    "    url = f\"https://{auth.domo_instance}.domo.com/api/dataprocessing/v1/dataflows/{dataflow_id}/executions\"\n",
    "\n",
    "    return await gd.get_data(\n",
    "        auth=auth,\n",
    "        url=url,\n",
    "        method=\"POST\",\n",
    "        num_stacks_to_drop=debug_num_stacks_to_drop,\n",
    "        parent_class=parent_class,\n",
    "        debug_api=debug_api,\n",
    "        session=session,\n",
    "    )"
   ]
  },
  {
   "cell_type": "code",
   "execution_count": null,
   "metadata": {},
   "outputs": [
    {
     "data": {
      "text/markdown": [
       "---\n",
       "\n",
       "[source](https://github.com/jaewilson07/domo_library/blob/main/domolibrary/routes/dataflow.py#L102){target=\"_blank\" style=\"float:right; font-size:smaller\"}\n",
       "\n",
       "### execute_dataflow\n",
       "\n",
       ">      execute_dataflow (auth:domolibrary.client.DomoAuth.DomoAuth,\n",
       ">                        dataflow_id:int, debug_api:bool=False,\n",
       ">                        debug_num_stacks_to_drop=1, parent_class:str=None,\n",
       ">                        session:httpx.AsyncClient=None)"
      ],
      "text/plain": [
       "---\n",
       "\n",
       "[source](https://github.com/jaewilson07/domo_library/blob/main/domolibrary/routes/dataflow.py#L102){target=\"_blank\" style=\"float:right; font-size:smaller\"}\n",
       "\n",
       "### execute_dataflow\n",
       "\n",
       ">      execute_dataflow (auth:domolibrary.client.DomoAuth.DomoAuth,\n",
       ">                        dataflow_id:int, debug_api:bool=False,\n",
       ">                        debug_num_stacks_to_drop=1, parent_class:str=None,\n",
       ">                        session:httpx.AsyncClient=None)"
      ]
     },
     "execution_count": null,
     "metadata": {},
     "output_type": "execute_result"
    }
   ],
   "source": [
    "show_doc(execute_dataflow)"
   ]
  },
  {
   "cell_type": "markdown",
   "metadata": {},
   "source": [
    "#### sample execute_dataflow\n"
   ]
  },
  {
   "cell_type": "code",
   "execution_count": null,
   "metadata": {},
   "outputs": [
    {
     "data": {
      "text/plain": [
       "ResponseGetData(status=200, response={'id': 435276, 'onboardFlowId': 70, 'previewRows': 0, 'dapDataFlowExecutionId': '6ada1dc7-2629-4164-a74b-752567a03ca5', 'beginTime': 1701969245563, 'lastUpdated': 1701969246331, 'state': 'CREATED', 'activationType': 'MANUAL', 'executionEngine': {'platform': 'K8S', 'engine': 'MYSQL_SQL_ENGINE'}, 'dataProcessor': 'MYSQL', 'dataFlowVersion': 262}, is_success=True, parent_class=None)"
      ]
     },
     "execution_count": null,
     "metadata": {},
     "output_type": "execute_result"
    }
   ],
   "source": [
    "import os\n",
    "import pandas as pd\n",
    "\n",
    "token_auth = dmda.DomoTokenAuth(\n",
    "    domo_instance=\"domo-community\",\n",
    "    domo_access_token=os.environ[\"DOMO_DOJO_ACCESS_TOKEN\"],\n",
    ")\n",
    "\n",
    "await execute_dataflow(dataflow_id=70, auth=token_auth)"
   ]
  },
  {
   "cell_type": "code",
   "execution_count": null,
   "metadata": {},
   "outputs": [],
   "source": [
    "# | hide\n",
    "import nbdev\n",
    "\n",
    "nbdev.nbdev_export()"
   ]
  }
 ],
 "metadata": {
  "jupytext": {
   "split_at_heading": true
  },
  "kernelspec": {
   "display_name": "python3",
   "language": "python",
   "name": "python3"
  }
 },
 "nbformat": 4,
 "nbformat_minor": 4
}
