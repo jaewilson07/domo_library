{
 "cells": [
  {
   "cell_type": "raw",
   "metadata": {},
   "source": [
    "---\n",
    "output-file: routes.dataflow_routes.html\n",
    "title: Dataflow Routes\n",
    "---\n",
    "\n"
   ]
  },
  {
   "cell_type": "code",
   "execution_count": null,
   "metadata": {},
   "outputs": [],
   "source": [
    "# | default_exp routes.dataflow"
   ]
  },
  {
   "cell_type": "code",
   "execution_count": null,
   "metadata": {},
   "outputs": [],
   "source": [
    "# | exporti\n",
    "import httpx\n",
    "\n",
    "import domolibrary.client.get_data as gd\n",
    "import domolibrary.client.ResponseGetData as rgd\n",
    "import domolibrary.client.DomoAuth as dmda"
   ]
  },
  {
   "cell_type": "code",
   "execution_count": null,
   "metadata": {},
   "outputs": [],
   "source": [
    "# | export\n",
    "async def get_dataflow_by_id(\n",
    "    dataflow_id: int,\n",
    "    auth: dmda.DomoAuth,\n",
    "    debug_api: bool = False,\n",
    "    session: httpx.AsyncClient = None,\n",
    ") -> rgd.ResponseGetData:\n",
    "    domo_instance = auth.domo_instance\n",
    "\n",
    "    url = f\"https://{domo_instance}.domo.com/api/dataprocessing/v1/dataflows/{dataflow_id}\"\n",
    "\n",
    "    return await gd.get_data(\n",
    "        auth=auth, url=url, method=\"GET\", debug_api=debug_api, session=session\n",
    "    )"
   ]
  },
  {
   "attachments": {},
   "cell_type": "markdown",
   "metadata": {},
   "source": [
    "#### Sample implementation of get_dataflow_by_id\n"
   ]
  },
  {
   "cell_type": "code",
   "execution_count": null,
   "metadata": {},
   "outputs": [
    {
     "name": "stdout",
     "output_type": "stream",
     "text": [
      "{'dataSourceId': '241025d7-3cca-4369-b7c0-b3264277c0e1',\n",
      " 'executeFlowWhenUpdated': False,\n",
      " 'gui': {'color': None,\n",
      "         'colorSource': None,\n",
      "         'sampleJson': None,\n",
      "         'x': None,\n",
      "         'y': None},\n",
      " 'id': '241025d7-3cca-4369-b7c0-b3264277c0e1',\n",
      " 'onlyLoadNewVersions': False,\n",
      " 'pseudoDataSource': False,\n",
      " 'targetTableName': 'domostats_people',\n",
      " 'truncateRows': False,\n",
      " 'truncateTextColumns': False,\n",
      " 'type': 'LoadFromVault'}\n",
      "{'dependsOn': ['241025d7-3cca-4369-b7c0-b3264277c0e1'],\n",
      " 'gui': {'color': None,\n",
      "         'colorSource': None,\n",
      "         'sampleJson': None,\n",
      "         'x': None,\n",
      "         'y': None},\n",
      " 'id': 'c176aa53-122a-4a2e-8b6f-41ca4a72d67c',\n",
      " 'selectStatement': 'SELECT\\n'\n",
      "                    '`Display Name`,\\n'\n",
      "                    '`User ID`\\n'\n",
      "                    ', @row := @row+1 as id\\n'\n",
      "                    ', @isReset := case when @iter = @rowCounter then 1 else 0 '\n",
      "                    'end isReset\\n'\n",
      "                    ', @group := @isReset + @group   as rowGroup\\n'\n",
      "                    ', @iter := case when @isReset = 1 then 1 else @iter + 1 '\n",
      "                    'end iter\\n'\n",
      "                    ', @rowCounter := case when @isReset = 1 then FLOOR( '\n",
      "                    'RAND() * (7-3) + 3) else @rowCounter end numChildren\\n'\n",
      "                    '\\n'\n",
      "                    '\\n'\n",
      "                    'from `domostats_people` p\\n'\n",
      "                    '\\n'\n",
      "                    ', (select @row:= 0,@rowCounter:= 1, @iter := 1, @isReset '\n",
      "                    ':= 0 , @group := 0) r',\n",
      " 'tableName': 't_1',\n",
      " 'type': 'GenerateTableAction'}\n",
      "{'dependsOn': ['c176aa53-122a-4a2e-8b6f-41ca4a72d67c'],\n",
      " 'gui': {'color': None,\n",
      "         'colorSource': None,\n",
      "         'sampleJson': None,\n",
      "         'x': None,\n",
      "         'y': None},\n",
      " 'id': 'ac9f630d-d865-4925-b955-4316e227229a',\n",
      " 'selectStatement': '\\n'\n",
      "                    \"select  b.`User ID` as userID , 'reportsTo' as Action , \"\n",
      "                    'a.`User ID` as bodyID\\n'\n",
      "                    '\\n'\n",
      "                    'from t_1 a \\n'\n",
      "                    '\\n'\n",
      "                    'join t_1 b \\n'\n",
      "                    '\\n'\n",
      "                    'on a.id = b.`rowGroup`\\n'\n",
      "                    'where a.`User ID` <> b.`User ID`\\n'\n",
      "                    '\\n'\n",
      "                    'UNION\\n'\n",
      "                    '\\n'\n",
      "                    \"select  b.`User ID` as userID , 'directReports' as Action \"\n",
      "                    ', a.`User ID` as bodyID\\n'\n",
      "                    '\\n'\n",
      "                    'from t_1 a \\n'\n",
      "                    '\\n'\n",
      "                    'join t_1 b \\n'\n",
      "                    '\\n'\n",
      "                    'on b.id = a.`rowGroup`\\n'\n",
      "                    '\\n'\n",
      "                    'where a.`User ID` <> b.`User ID`\\n'\n",
      "                    '\\n',\n",
      " 'tableName': 'reportsto',\n",
      " 'type': 'GenerateTableAction'}\n",
      "{'dataSource': {'guid': 'd9257748-c181-496e-8f9a-016ee99b4a14',\n",
      "                'name': 'domoStats_people_reports',\n",
      "                'type': 'DataFlow'},\n",
      " 'dependsOn': ['ac9f630d-d865-4925-b955-4316e227229a'],\n",
      " 'gui': {'color': None,\n",
      "         'colorSource': None,\n",
      "         'sampleJson': None,\n",
      "         'x': None,\n",
      "         'y': None},\n",
      " 'id': '8edc3d78-3586-47a8-9775-c7b146a50d19',\n",
      " 'partitioned': False,\n",
      " 'query': 'select * from `reportsto`',\n",
      " 'schemaSource': 'DATAFLOW',\n",
      " 'type': 'PublishToVault',\n",
      " 'versionChainType': 'REPLACE'}\n"
     ]
    },
    {
     "data": {
      "text/plain": [
       "[]"
      ]
     },
     "execution_count": null,
     "metadata": {},
     "output_type": "execute_result"
    }
   ],
   "source": [
    "from pprint import pprint\n",
    "import os\n",
    "import pandas as pd\n",
    "\n",
    "token_auth = dmda.DomoTokenAuth(\n",
    "    domo_instance=\"domo-community\",\n",
    "    domo_access_token=os.environ[\"DOMO_DOJO_ACCESS_TOKEN\"],\n",
    ")\n",
    "\n",
    "res = await get_dataflow_by_id(dataflow_id=70, auth=token_auth)\n",
    "\n",
    "res.response.keys()\n",
    "\n",
    "\n",
    "all_keys = []\n",
    "for action in res.response.get(\"actions\"):\n",
    "    pprint(action)\n",
    "\n",
    "list(set(all_keys))\n"
   ]
  },
  {
   "cell_type": "code",
   "execution_count": null,
   "metadata": {},
   "outputs": [],
   "source": [
    "# | export\n",
    "\n",
    "async def execute_dataflow(auth: dmda.DomoAuth,\n",
    "                          dataflow_id: int,\n",
    "                          debug_api: bool = False,\n",
    "                          session: httpx.AsyncClient = None,\n",
    "                          ) -> rgd.ResponseGetData:\n",
    "\n",
    "                    \n",
    "    url=f\"https://{auth.domo_instance}.domo.com/api/dataprocessing/v1/dataflows/{dataflow_id}/executions\"\n",
    "\n",
    "    return await gd.get_data( auth=auth, url=url, method=\"POST\", debug_api=debug_api, session=session\n",
    "    )\n"
   ]
  },
  {
   "cell_type": "markdown",
   "metadata": {},
   "source": [
    "#### sample execute_dataflow\n"
   ]
  },
  {
   "cell_type": "code",
   "execution_count": null,
   "metadata": {},
   "outputs": [
    {
     "data": {
      "text/plain": [
       "ResponseGetData(status=200, response={'id': 306194, 'onboardFlowId': 70, 'previewRows': 0, 'dapDataFlowExecutionId': 'cdd03f89-49dc-4931-ae41-b5fa06d86b4c', 'beginTime': 1683574577183, 'lastUpdated': 1683574577868, 'state': 'CREATED', 'activationType': 'MANUAL', 'executionEngine': {'platform': 'K8S', 'engine': 'MYSQL_SQL_ENGINE'}, 'dataProcessor': 'MYSQL', 'dataFlowVersion': 262}, is_success=True)"
      ]
     },
     "execution_count": null,
     "metadata": {},
     "output_type": "execute_result"
    }
   ],
   "source": [
    "import os\n",
    "import pandas as pd\n",
    "\n",
    "token_auth = dmda.DomoTokenAuth(\n",
    "    domo_instance=\"domo-community\",\n",
    "    domo_access_token=os.environ[\"DOMO_DOJO_ACCESS_TOKEN\"],\n",
    ")\n",
    "\n",
    "await execute_dataflow(dataflow_id=70, auth=token_auth)"
   ]
  },
  {
   "cell_type": "code",
   "execution_count": null,
   "metadata": {},
   "outputs": [],
   "source": [
    "# | hide\n",
    "import nbdev\n",
    "\n",
    "nbdev.nbdev_export()"
   ]
  }
 ],
 "metadata": {
  "jupytext": {
   "split_at_heading": true
  },
  "kernelspec": {
   "display_name": "python3",
   "language": "python",
   "name": "python3"
  }
 },
 "nbformat": 4,
 "nbformat_minor": 4
}
