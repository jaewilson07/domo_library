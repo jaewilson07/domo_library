{
  "cells": [
    {
      "cell_type": "raw",
      "metadata": {},
      "source": [
        "---\n",
        "output-file: routes.group.html\n",
        "title: Group Routes\n",
        "---"
      ]
    },
    {
      "cell_type": "code",
      "execution_count": 1,
      "metadata": {},
      "outputs": [],
      "source": [
        "#| default_exp routes.group"
      ]
    },
    {
      "cell_type": "code",
      "execution_count": 2,
      "metadata": {},
      "outputs": [],
      "source": [
        "#| exporti\n",
        "import httpx\n",
        "\n",
        "import domolibrary.client.get_data as gd\n",
        "import domolibrary.client.ResponseGetData as rgd\n",
        "import domolibrary.client.DomoAuth as dmda\n",
        "import domolibrary.client.DomoError as de"
      ]
    },
    {
      "cell_type": "code",
      "execution_count": 3,
      "metadata": {},
      "outputs": [],
      "source": [
        "# | export\n",
        "def generate_body_create_group(group_name: str,\n",
        "                               group_type: str = 'open',\n",
        "                               description: str = '') -> dict:\n",
        "    \"\"\" Generates the body to create group for content_v2_group API\"\"\"\n",
        "    body = {\"name\": group_name, \n",
        "            \"type\": group_type,\n",
        "            \"description\": description}\n",
        "\n",
        "    return body"
      ]
    },
    {
      "attachments": {},
      "cell_type": "markdown",
      "metadata": {},
      "source": [
        "#### sample implementation of generate_body_create_group"
      ]
    },
    {
      "cell_type": "code",
      "execution_count": 4,
      "metadata": {},
      "outputs": [
        {
          "data": {
            "text/plain": [
              "{'name': 'test_group_name', 'type': 'open', 'description': 'from jupyter'}"
            ]
          },
          "execution_count": 4,
          "metadata": {},
          "output_type": "execute_result"
        }
      ],
      "source": [
        "generate_body_create_group(\n",
        "    group_name='test_group_name', \n",
        "    group_type='open', \n",
        "    description='from jupyter')\n"
      ]
    },
    {
      "cell_type": "code",
      "execution_count": 5,
      "metadata": {},
      "outputs": [],
      "source": [
        "#| export\n",
        "async def search_groups_by_name(auth: dmda.DomoAuth,\n",
        "                                search_name: str,\n",
        "                                debug_api: bool = False, \n",
        "                                log_results: bool = False) -> rgd.ResponseGetData:\n",
        "    url = f'https://{auth.domo_instance}.domo.com/api/content/v2/groups/grouplist?ascending=true&search={search_name}&sort=name '\n",
        "\n",
        "    res = await gd.get_data(\n",
        "        auth=auth,\n",
        "        url=url,\n",
        "        method='GET',\n",
        "        debug_api=debug_api\n",
        "    )\n",
        "    return res"
      ]
    },
    {
      "attachments": {},
      "cell_type": "markdown",
      "metadata": {},
      "source": [
        "#### Sample implementation of search_groups_by_name"
      ]
    },
    {
      "cell_type": "code",
      "execution_count": 6,
      "metadata": {},
      "outputs": [
        {
          "data": {
            "text/plain": [
              "ResponseGetData(status=200, response=[{'name': 'Test Group 2', 'groupId': 1259653287, 'owners': [{'type': 'USER', 'id': '1893952720', 'displayName': 'Jae Wilson1'}, {'type': 'GROUP', 'id': '1259653287', 'displayName': 'Test Group 2'}], 'groupType': 'open', 'groupMembers': [{'type': 'USER', 'id': '2072616249'}], 'memberCount': 1, 'created': '2023-02-15 17:10:37.0', 'description': ''}, {'name': 'Admin Test', 'groupId': 1814479647, 'owners': [{'type': 'USER', 'id': '55874022', 'displayName': 'Grant Smith'}, {'type': 'GROUP', 'id': '822382906', 'displayName': 'Grant: Manage all groups'}], 'groupType': 'closed', 'groupMembers': [{'type': 'USER', 'id': '55874022'}], 'memberCount': 1, 'created': '2023-01-29 23:37:13.0', 'description': ''}, {'name': 'April 2023 Cohort', 'groupId': 926594289, 'owners': [{'type': 'GROUP', 'id': '822382906', 'displayName': 'Grant: Manage all groups'}, {'type': 'USER', 'id': '583215149', 'displayName': 'John Jarnagin'}, {'type': 'USER', 'id': '617808774', 'displayName': 'Richard Carey'}], 'groupType': 'closed', 'groupMembers': [{'type': 'USER', 'id': '1707178274'}, {'type': 'USER', 'id': '1506705645'}, {'type': 'USER', 'id': '2092289048'}, {'type': 'USER', 'id': '866842113'}, {'type': 'USER', 'id': '546262753'}, {'type': 'USER', 'id': '724765450'}, {'type': 'USER', 'id': '307632801'}, {'type': 'USER', 'id': '1518327550'}, {'type': 'USER', 'id': '1536620274'}, {'type': 'USER', 'id': '67964024'}, {'type': 'USER', 'id': '674419397'}, {'type': 'USER', 'id': '717021134'}, {'type': 'USER', 'id': '1765447389'}, {'type': 'USER', 'id': '1660576736'}, {'type': 'USER', 'id': '641302217'}, {'type': 'USER', 'id': '381807383'}, {'type': 'USER', 'id': '310645919'}, {'type': 'USER', 'id': '1903778392'}, {'type': 'USER', 'id': '2043039295'}, {'type': 'USER', 'id': '1530098431'}, {'type': 'USER', 'id': '43730016'}, {'type': 'USER', 'id': '458290686'}, {'type': 'USER', 'id': '617808774'}, {'type': 'USER', 'id': '570885248'}, {'type': 'USER', 'id': '791874685'}, {'type': 'USER', 'id': '452978107'}, {'type': 'USER', 'id': '1454084985'}, {'type': 'USER', 'id': '422938272'}, {'type': 'USER', 'id': '110828165'}, {'type': 'USER', 'id': '1217641223'}, {'type': 'USER', 'id': '1772859579'}, {'type': 'USER', 'id': '2088345189'}, {'type': 'USER', 'id': '2076863414'}], 'memberCount': 33, 'created': '2023-04-03 17:50:31.0', 'description': 'Group for ALL Domo Customer Orientation workshop attendees in April 2023'}, {'name': 'Default', 'groupId': 1324037627, 'owners': [], 'groupType': 'adHoc', 'groupMembers': [{'type': 'USER', 'id': '1216550715'}, {'type': 'USER', 'id': '128618865'}, {'type': 'USER', 'id': '1628021317'}, {'type': 'USER', 'id': '1833256765'}, {'type': 'USER', 'id': '269129820'}, {'type': 'USER', 'id': '2021204172'}, {'type': 'USER', 'id': '1707178274'}, {'type': 'USER', 'id': '1939536265'}, {'type': 'USER', 'id': '696468809'}, {'type': 'USER', 'id': '1542225148'}, {'type': 'USER', 'id': '981933573'}, {'type': 'USER', 'id': '2045716426'}, {'type': 'USER', 'id': '2088203166'}, {'type': 'USER', 'id': '539925853'}, {'type': 'USER', 'id': '1345737456'}, {'type': 'USER', 'id': '1623315820'}, {'type': 'USER', 'id': '1827807231'}, {'type': 'USER', 'id': '760234499'}, {'type': 'USER', 'id': '1819752006'}, {'type': 'USER', 'id': '699130027'}, {'type': 'USER', 'id': '1735590743'}, {'type': 'USER', 'id': '672705975'}, {'type': 'USER', 'id': '2121861625'}, {'type': 'USER', 'id': '1345408759'}, {'type': 'USER', 'id': '978989245'}, {'type': 'USER', 'id': '502278247'}, {'type': 'USER', 'id': '1178984171'}, {'type': 'USER', 'id': '1506705645'}, {'type': 'USER', 'id': '596117551'}, {'type': 'USER', 'id': '802190437'}, {'type': 'USER', 'id': '1311515624'}, {'type': 'USER', 'id': '1437931806'}, {'type': 'USER', 'id': '2092289048'}, {'type': 'USER', 'id': '1596755774'}, {'type': 'USER', 'id': '440282646'}, {'type': 'USER', 'id': '1251168784'}, {'type': 'USER', 'id': '1561518565'}, {'type': 'USER', 'id': '1147120777'}, {'type': 'USER', 'id': '1102391116'}, {'type': 'USER', 'id': '370299454'}, {'type': 'USER', 'id': '958785607'}, {'type': 'USER', 'id': '25522868'}, {'type': 'USER', 'id': '1095515127'}, {'type': 'USER', 'id': '854312022'}, {'type': 'USER', 'id': '2142004350'}, {'type': 'USER', 'id': '409176773'}, {'type': 'USER', 'id': '237681378'}, {'type': 'USER', 'id': '1213747030'}, {'type': 'USER', 'id': '1798117326'}, {'type': 'USER', 'id': '858278995'}, {'type': 'USER', 'id': '2072616249'}, {'type': 'USER', 'id': '805649835'}, {'type': 'USER', 'id': '985064212'}, {'type': 'USER', 'id': '850834051'}, {'type': 'USER', 'id': '892556762'}, {'type': 'USER', 'id': '1819193468'}, {'type': 'USER', 'id': '1399847286'}, {'type': 'USER', 'id': '423248731'}, {'type': 'USER', 'id': '114141046'}, {'type': 'USER', 'id': '1339082609'}, {'type': 'USER', 'id': '657447270'}, {'type': 'USER', 'id': '1768567034'}, {'type': 'USER', 'id': '2067643379'}, {'type': 'USER', 'id': '944078782'}, {'type': 'USER', 'id': '2074422502'}, {'type': 'USER', 'id': '1489262484'}, {'type': 'USER', 'id': '830455362'}, {'type': 'USER', 'id': '2144185095'}, {'type': 'USER', 'id': '1865099622'}, {'type': 'USER', 'id': '861713885'}, {'type': 'USER', 'id': '80994801'}, {'type': 'USER', 'id': '866842113'}, {'type': 'USER', 'id': '962249185'}, {'type': 'USER', 'id': '1725780094'}, {'type': 'USER', 'id': '363397932'}, {'type': 'USER', 'id': '2084853822'}, {'type': 'USER', 'id': '587894148'}, {'type': 'USER', 'id': '1774387618'}, {'type': 'USER', 'id': '38213767'}, {'type': 'USER', 'id': '128862746'}, {'type': 'USER', 'id': '1058287102'}, {'type': 'USER', 'id': '1258396799'}, {'type': 'USER', 'id': '1409092465'}, {'type': 'USER', 'id': '178731478'}, {'type': 'USER', 'id': '1743239604'}, {'type': 'USER', 'id': '1575177145'}, {'type': 'USER', 'id': '243893801'}, {'type': 'USER', 'id': '1838657427'}, {'type': 'USER', 'id': '2096641889'}, {'type': 'USER', 'id': '2058521903'}, {'type': 'USER', 'id': '1700271359'}, {'type': 'USER', 'id': '1300285022'}, {'type': 'USER', 'id': '294996492'}, {'type': 'USER', 'id': '764526063'}, {'type': 'USER', 'id': '1086095957'}, {'type': 'USER', 'id': '1860458599'}, {'type': 'USER', 'id': '358184938'}, {'type': 'USER', 'id': '2067291301'}, {'type': 'USER', 'id': '387600969'}, {'type': 'USER', 'id': '970534321'}], 'memberCount': 504, 'created': '2016-06-01 22:40:52.0'}, {'name': 'Power User Group', 'groupId': 1063525969, 'owners': [], 'groupType': 'adHoc', 'groupMembers': [{'type': 'USER', 'id': '269129820'}, {'type': 'USER', 'id': '1345408759'}, {'type': 'USER', 'id': '1095515127'}, {'type': 'USER', 'id': '1768567034'}, {'type': 'USER', 'id': '587894148'}, {'type': 'USER', 'id': '827093373'}, {'type': 'USER', 'id': '68216396'}, {'type': 'USER', 'id': '1144220331'}, {'type': 'USER', 'id': '149943626'}, {'type': 'USER', 'id': '55874022'}, {'type': 'USER', 'id': '796785200'}, {'type': 'USER', 'id': '1079474652'}, {'type': 'USER', 'id': '1893952720'}, {'type': 'USER', 'id': '2072302260'}, {'type': 'USER', 'id': '756306366'}, {'type': 'USER', 'id': '1504505648'}, {'type': 'USER', 'id': '699075231'}, {'type': 'USER', 'id': '1227422648'}, {'type': 'USER', 'id': '1229264718'}, {'type': 'USER', 'id': '1318781111'}, {'type': 'USER', 'id': '475856860'}, {'type': 'USER', 'id': '617808774'}, {'type': 'USER', 'id': '826020125'}, {'type': 'USER', 'id': '1446165056'}, {'type': 'USER', 'id': '966365811'}, {'type': 'USER', 'id': '693722501'}, {'type': 'USER', 'id': '1167580245'}, {'type': 'USER', 'id': '1154339157'}, {'type': 'USER', 'id': '1354070971'}], 'memberCount': 29, 'created': '2020-05-15 16:58:56.0'}, {'name': 'test', 'groupId': 2146122228, 'owners': [{'type': 'GROUP', 'id': '822382906', 'displayName': 'Grant: Manage all groups'}, {'type': 'USER', 'id': '1893952720', 'displayName': 'Jae Wilson1'}], 'groupType': 'closed', 'groupMembers': [{'type': 'USER', 'id': '1725780094'}, {'type': 'USER', 'id': '1141078945'}, {'type': 'USER', 'id': '861444808'}], 'memberCount': 3, 'created': '2022-05-09 20:33:07.0', 'description': 'with_description'}, {'name': 'test creator', 'groupId': 746771171, 'owners': [], 'groupType': 'adHoc', 'groupMembers': [{'type': 'USER', 'id': '1893952720'}], 'memberCount': 1, 'created': '2022-05-09 21:51:18.0'}, {'name': 'test group4', 'groupId': 194176120, 'owners': [{'type': 'USER', 'id': '1893952720', 'displayName': 'Jae Wilson1'}, {'type': 'GROUP', 'id': '194176120', 'displayName': 'test group4'}], 'groupType': 'open', 'groupMembers': [], 'memberCount': 0, 'created': '2023-02-01 17:24:56.0', 'description': ''}, {'name': 'TestMembership', 'groupId': 1781661643, 'owners': [{'type': 'GROUP', 'id': '822382906', 'displayName': 'Grant: Manage all groups'}, {'type': 'USER', 'id': '1893952720', 'displayName': 'Jae Wilson1'}, {'type': 'GROUP', 'id': '1781661643', 'displayName': 'TestMembership'}], 'groupType': 'open', 'groupMembers': [{'type': 'USER', 'id': '696468809'}, {'type': 'USER', 'id': '1141078945'}], 'memberCount': 2, 'created': '2022-05-09 21:28:20.0', 'description': 'group with membership'}, {'name': 'TestMemberships', 'groupId': 804506650, 'owners': [], 'groupType': 'adHoc', 'groupMembers': [{'type': 'USER', 'id': '1026684838'}, {'type': 'USER', 'id': '1893952720'}, {'type': 'USER', 'id': '471453161'}, {'type': 'USER', 'id': '1006847540'}], 'memberCount': 4, 'created': '2022-05-09 21:59:08.0'}, {'name': '[Community L&L 2023-01-19] Execs', 'groupId': 531315727, 'owners': [{'type': 'USER', 'id': '307632801', 'displayName': 'Dan Brinton'}, {'type': 'GROUP', 'id': '822382906', 'displayName': 'Grant: Manage all groups'}], 'groupType': 'closed', 'groupMembers': [{'type': 'USER', 'id': '1746885226'}], 'memberCount': 1, 'created': '2023-01-12 18:09:18.0', 'description': ''}, {'name': '[Community L&L 2023-01-19] RVPs', 'groupId': 2145880182, 'owners': [{'type': 'USER', 'id': '307632801', 'displayName': 'Dan Brinton'}, {'type': 'GROUP', 'id': '822382906', 'displayName': 'Grant: Manage all groups'}], 'groupType': 'dynamic', 'groupMembers': [{'type': 'USER', 'id': '1630318017'}], 'memberCount': 1, 'created': '2023-01-11 23:24:00.0', 'description': ''}, {'name': '[Community L&L 2023-01-19] RVPs Central', 'groupId': 893747319, 'owners': [{'type': 'USER', 'id': '307632801', 'displayName': 'Dan Brinton'}, {'type': 'GROUP', 'id': '822382906', 'displayName': 'Grant: Manage all groups'}], 'groupType': 'closed', 'groupMembers': [], 'memberCount': 0, 'created': '2023-01-11 23:23:34.0', 'description': ''}, {'name': '[Community L&L 2023-01-19] RVPs East', 'groupId': 1197993387, 'owners': [{'type': 'USER', 'id': '307632801', 'displayName': 'Dan Brinton'}, {'type': 'GROUP', 'id': '822382906', 'displayName': 'Grant: Manage all groups'}], 'groupType': 'closed', 'groupMembers': [{'type': 'USER', 'id': '1630318017'}], 'memberCount': 1, 'created': '2023-01-11 23:22:33.0', 'description': ''}, {'name': '[Community L&L 2023-01-19] RVPs West', 'groupId': 1136291212, 'owners': [{'type': 'USER', 'id': '307632801', 'displayName': 'Dan Brinton'}, {'type': 'GROUP', 'id': '822382906', 'displayName': 'Grant: Manage all groups'}], 'groupType': 'closed', 'groupMembers': [], 'memberCount': 0, 'created': '2023-01-11 23:23:17.0', 'description': ''}, {'name': '[Community L&L 2023-01-19] Sales Ops', 'groupId': 1047614569, 'owners': [{'type': 'USER', 'id': '307632801', 'displayName': 'Dan Brinton'}, {'type': 'GROUP', 'id': '822382906', 'displayName': 'Grant: Manage all groups'}], 'groupType': 'closed', 'groupMembers': [{'type': 'USER', 'id': '1746885226'}], 'memberCount': 1, 'created': '2023-01-12 18:14:29.0', 'description': ''}], is_success=True)"
            ]
          },
          "execution_count": 6,
          "metadata": {},
          "output_type": "execute_result"
        }
      ],
      "source": [
        "import os\n",
        "\n",
        "token_auth = dmda.DomoTokenAuth(\n",
        "    domo_instance=\"domo-community\", \n",
        "    domo_access_token=os.environ[\"DOMO_DOJO_ACCESS_TOKEN\"]\n",
        ")\n",
        "\n",
        "res = await search_groups_by_name(auth=token_auth, search_name='Test Group 2')\n",
        "res"
      ]
    },
    {
      "cell_type": "code",
      "execution_count": 7,
      "metadata": {},
      "outputs": [],
      "source": [
        "#| export\n",
        "class CreateGroup_Error(de.DomoError):\n",
        "    def __init__(self, status, message, domo_instance, function_name = \"create_group\"):\n",
        "        super().__init__(function_name = function_name, status = status, message = message , domo_instance = domo_instance)\n",
        "\n",
        "async def create_group(auth: dmda.DomoAuth,\n",
        "                       group_name: str,\n",
        "                       group_type: str = 'open',\n",
        "                       description: str = '',\n",
        "                       debug_api: bool = False,\n",
        "                       session: httpx.AsyncClient = None\n",
        "                       ) -> rgd.ResponseGetData:\n",
        "    # body : {\"name\": \"GROUP_NAME\", \"type\": \"open\", \"description\": \"\"}\n",
        "\n",
        "    body = generate_body_create_group(\n",
        "        group_name=group_name, group_type=group_type, description=description)\n",
        "\n",
        "    url = f'https://{auth.domo_instance}.domo.com/api/content/v2/groups/'\n",
        "\n",
        "    res= await gd.get_data(\n",
        "        auth=auth,\n",
        "        url=url,\n",
        "        method='POST',\n",
        "        body=body,\n",
        "        debug_api=debug_api,\n",
        "        session = session\n",
        "    )\n",
        "\n",
        "    if not res.is_success:\n",
        "        group_exists = await search_groups_by_name(auth=auth, search_name=group_name)\n",
        "        if group_exists.is_success:\n",
        "            raise CreateGroup_Error(\n",
        "                status = res.status,\n",
        "                message = f'{group_name} already exists. Choose a different group_name',\n",
        "                domo_instance = auth.domo_instance,\n",
        "                function_name='create_group'\n",
        "            )\n",
        "\n",
        "    if not res.is_success:\n",
        "        raise CreateGroup_Error(\n",
        "            status = res.status, \n",
        "            message = res.response,\n",
        "            domo_instance = auth.domo_instance, \n",
        "            function_name=\"create_group\")\n",
        "\n",
        "    return res\n"
      ]
    },
    {
      "attachments": {},
      "cell_type": "markdown",
      "metadata": {},
      "source": [
        "#### Sample implementation of create_group"
      ]
    },
    {
      "cell_type": "code",
      "execution_count": 8,
      "metadata": {},
      "outputs": [
        {
          "name": "stdout",
          "output_type": "stream",
          "text": [
            "create_group: Status 400 - Test Group 2 already exists. Choose a different group_name at domo-community\n"
          ]
        }
      ],
      "source": [
        "import os\n",
        "\n",
        "token_auth = dmda.DomoTokenAuth(\n",
        "    domo_instance=\"domo-community\", \n",
        "    domo_access_token=os.environ[\"DOMO_DOJO_ACCESS_TOKEN\"]\n",
        ")\n",
        "try:\n",
        "    res = await create_group(auth=token_auth, group_name='Test Group 2', debug_api=False)\n",
        "    res.response\n",
        "\n",
        "except CreateGroup_Error as e:\n",
        "    print(e)"
      ]
    },
    {
      "cell_type": "code",
      "execution_count": 9,
      "metadata": {},
      "outputs": [],
      "source": [
        "#| export\n",
        "async def get_all_groups(auth: dmda.DomoAuth,\n",
        "                         log_results: bool = False,\n",
        "                         debug_api: bool = False,\n",
        "                         session: httpx.AsyncClient = None) -> rgd.ResponseGetData:\n",
        "    if debug_api:\n",
        "        print(auth)\n",
        "\n",
        "    url = f'https://{auth.domo_instance}.domo.com/api/content/v2/groups/grouplist'\n",
        "\n",
        "    if debug_api:\n",
        "        print(auth, url)\n",
        "\n",
        "    if log_results:\n",
        "        print(f'Getting groups from - {url}')\n",
        "\n",
        "    res = await gd.get_data(url=url, method='GET', auth=auth, session=session)\n",
        "\n",
        "    return res"
      ]
    },
    {
      "attachments": {},
      "cell_type": "markdown",
      "metadata": {},
      "source": [
        "#### Sample implementation of get_all_groups"
      ]
    },
    {
      "cell_type": "code",
      "execution_count": 10,
      "metadata": {},
      "outputs": [
        {
          "data": {
            "text/html": [
              "<div>\n",
              "<style scoped>\n",
              "    .dataframe tbody tr th:only-of-type {\n",
              "        vertical-align: middle;\n",
              "    }\n",
              "\n",
              "    .dataframe tbody tr th {\n",
              "        vertical-align: top;\n",
              "    }\n",
              "\n",
              "    .dataframe thead th {\n",
              "        text-align: right;\n",
              "    }\n",
              "</style>\n",
              "<table border=\"1\" class=\"dataframe\">\n",
              "  <thead>\n",
              "    <tr style=\"text-align: right;\">\n",
              "      <th></th>\n",
              "      <th>name</th>\n",
              "      <th>groupId</th>\n",
              "      <th>owners</th>\n",
              "      <th>groupType</th>\n",
              "      <th>groupMembers</th>\n",
              "      <th>memberCount</th>\n",
              "      <th>created</th>\n",
              "      <th>description</th>\n",
              "    </tr>\n",
              "  </thead>\n",
              "  <tbody>\n",
              "    <tr>\n",
              "      <th>0</th>\n",
              "      <td>Admin Test</td>\n",
              "      <td>1814479647</td>\n",
              "      <td>[{'type': 'USER', 'id': '55874022', 'displayNa...</td>\n",
              "      <td>closed</td>\n",
              "      <td>[{'type': 'USER', 'id': '55874022'}]</td>\n",
              "      <td>1</td>\n",
              "      <td>2023-01-29 23:37:13.0</td>\n",
              "      <td></td>\n",
              "    </tr>\n",
              "  </tbody>\n",
              "</table>\n",
              "</div>"
            ],
            "text/plain": [
              "         name     groupId                                             owners  \\\n",
              "0  Admin Test  1814479647  [{'type': 'USER', 'id': '55874022', 'displayNa...   \n",
              "\n",
              "  groupType                          groupMembers  memberCount  \\\n",
              "0    closed  [{'type': 'USER', 'id': '55874022'}]            1   \n",
              "\n",
              "                 created description  \n",
              "0  2023-01-29 23:37:13.0              "
            ]
          },
          "execution_count": 10,
          "metadata": {},
          "output_type": "execute_result"
        }
      ],
      "source": [
        "import os\n",
        "import pandas as pd\n",
        "\n",
        "token_auth = dmda.DomoTokenAuth(\n",
        "    domo_instance=\"domo-community\", \n",
        "    domo_access_token=os.environ[\"DOMO_DOJO_ACCESS_TOKEN\"]\n",
        ")\n",
        "\n",
        "res = await get_all_groups(auth=token_auth)\n",
        "res_df = pd.DataFrame(res.response)\n",
        "res_df[0:1]"
      ]
    },
    {
      "cell_type": "code",
      "execution_count": 11,
      "metadata": {},
      "outputs": [],
      "source": [
        "#| export\n",
        "def generate_body_update_group_membership(group_id: str,\n",
        "                                          add_user_arr: list[str] = None,\n",
        "                                          remove_user_arr: list[str] = None,\n",
        "                                          add_owner_user_arr: list[str] = None,\n",
        "                                          remove_owner_user_arr: list[str] = None) -> list[dict]:\n",
        "    body = {\"groupId\": int(group_id)}\n",
        "    if add_owner_user_arr:\n",
        "        body.update({\"addOwners\": [{\"type\": \"USER\", \"id\": str(\n",
        "            userId)} for userId in add_owner_user_arr]})\n",
        "\n",
        "    if remove_owner_user_arr:\n",
        "        body.update({\"removeOwners\": [{\"type\": \"USER\", \"id\": str(\n",
        "            userId)} for userId in remove_owner_user_arr]})\n",
        "\n",
        "    if remove_user_arr:\n",
        "        body.update({\"removeMembers\": [\n",
        "                    {\"type\": \"USER\", \"id\": str(userId)} for userId in remove_user_arr]})\n",
        "    if add_user_arr:\n",
        "        body.update(\n",
        "            {\"addMembers\": [{\"type\": \"USER\", \"id\": str(userId)} for userId in add_user_arr]})\n",
        "\n",
        "    return [body]"
      ]
    },
    {
      "cell_type": "code",
      "execution_count": 12,
      "metadata": {},
      "outputs": [],
      "source": [
        "#| export\n",
        "async def update_group_membership(auth: dmda.DomoAuth,\n",
        "                                  body: dict, # first need to create body with generate_body_update_group_membership() \n",
        "                                  log_results: bool = False, \n",
        "                                  debug_api: bool = False\n",
        "                                  ) -> rgd.ResponseGetData:\n",
        "    # body = [{\n",
        "    #     \"groupId\":\"GROUP_ID\",\n",
        "    #     \"removeMembers\": [{\"type\":\"USER\",\"id\":\"USER_ID\"}],\n",
        "    #     \"addMembers\"   : [{\"type\":\"USER\",\"id\":\"USER_ID\"}]\n",
        "    # }]\n",
        "\n",
        "    url = f'https://{auth.domo_instance}.domo.com/api/content/v2/groups/access'\n",
        "\n",
        "    if debug_api:\n",
        "        print(url, body)\n",
        "\n",
        "    res = await gd.get_data(\n",
        "        auth=auth,\n",
        "        url=url,\n",
        "        method='PUT',\n",
        "        body=body,\n",
        "        debug_api=debug_api\n",
        "    )\n",
        "\n",
        "    return res"
      ]
    },
    {
      "attachments": {},
      "cell_type": "markdown",
      "metadata": {},
      "source": [
        "#### Sample implementation of generate_body_update_group_membership and update_group_membership"
      ]
    },
    {
      "cell_type": "code",
      "execution_count": 13,
      "metadata": {},
      "outputs": [
        {
          "name": "stdout",
          "output_type": "stream",
          "text": [
            "ResponseGetData(status=200, response='', is_success=True)\n"
          ]
        }
      ],
      "source": [
        "import os\n",
        "\n",
        "token_auth = dmda.DomoTokenAuth(\n",
        "    domo_instance=\"domo-community\", \n",
        "    domo_access_token=os.environ[\"DOMO_DOJO_ACCESS_TOKEN\"]\n",
        ")\n",
        "user = os.environ[\"DOMO_DOJO_USER_ID\"]\n",
        "\n",
        "# generate the body for update_group_membership-- this example adds a user\n",
        "body = generate_body_update_group_membership(group_id='1259653287', add_user_arr=[user])\n",
        "res = await update_group_membership(auth=token_auth, body=body)\n",
        "print(res)"
      ]
    },
    {
      "cell_type": "code",
      "execution_count": 14,
      "metadata": {},
      "outputs": [],
      "source": [
        "# #| export\n",
        "# async def get_group_by_id(auth:DomoFullAuth, group_id:id, debug:bool = False) -> ResponseGetData:\n",
        "#     url = f'https://{auth.domo_instance}.domo.com/api/content/v2/groups/{group_id}'\n",
        "\n",
        "#     if debug:\n",
        "#         print(url)\n",
        "\n",
        "#     res = await gd(\n",
        "#         auth=auth,\n",
        "#         url=url,\n",
        "#         method='GET',\n",
        "#         debug=debug\n",
        "#     )\n",
        "\n",
        "#     return res"
      ]
    },
    {
      "cell_type": "code",
      "execution_count": 15,
      "metadata": {},
      "outputs": [],
      "source": [
        "#| hide\n",
        "import nbdev\n",
        "nbdev.nbdev_export()\n"
      ]
    }
  ],
  "metadata": {
    "jupytext": {
      "split_at_heading": true
    },
    "kernelspec": {
      "display_name": "Python 3",
      "language": "python",
      "name": "python3"
    },
    "language_info": {
      "codemirror_mode": {
        "name": "ipython",
        "version": 3
      },
      "file_extension": ".py",
      "mimetype": "text/x-python",
      "name": "python",
      "nbconvert_exporter": "python",
      "pygments_lexer": "ipython3",
      "version": "3.10.4"
    }
  },
  "nbformat": 4,
  "nbformat_minor": 4
}
