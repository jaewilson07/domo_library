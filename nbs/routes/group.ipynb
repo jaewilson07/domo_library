{
 "cells": [
  {
   "cell_type": "raw",
   "metadata": {},
   "source": [
    "---\n",
    "output-file: routes.group.html\n",
    "title: Group Routes\n",
    "---"
   ]
  },
  {
   "cell_type": "code",
   "execution_count": 37,
   "metadata": {},
   "outputs": [],
   "source": [
    "# | default_exp routes.group"
   ]
  },
  {
   "cell_type": "code",
   "execution_count": 38,
   "metadata": {},
   "outputs": [],
   "source": [
    "# | exporti\n",
    "import httpx\n",
    "from enum import Enum\n",
    "from typing import Union\n",
    "\n",
    "import domolibrary.client.get_data as gd\n",
    "import domolibrary.client.ResponseGetData as rgd\n",
    "import domolibrary.client.DomoAuth as dmda\n",
    "import domolibrary.client.DomoError as de"
   ]
  },
  {
   "attachments": {},
   "cell_type": "markdown",
   "metadata": {},
   "source": [
    "# Search and Get Routes\n"
   ]
  },
  {
   "cell_type": "code",
   "execution_count": 39,
   "metadata": {},
   "outputs": [],
   "source": [
    "# | export\n",
    "class SearchGroups_Error(de.DomoError):\n",
    "    def __init__(\n",
    "        self, status, message, domo_instance, function_name=\"search_groups_by_name\"\n",
    "    ):\n",
    "        super().__init__(\n",
    "            function_name=function_name,\n",
    "            status=status,\n",
    "            message=message,\n",
    "            domo_instance=domo_instance,\n",
    "        )\n",
    "\n",
    "\n",
    "async def search_groups_by_name(\n",
    "    auth: dmda.DomoAuth,\n",
    "    search_name: str,\n",
    "    is_exact_match: bool = True,\n",
    "    debug_api: bool = False,\n",
    "    session: httpx.AsyncClient = None,\n",
    ") -> rgd.ResponseGetData:\n",
    "    \"\"\"uses /content/v2/groups/grouplist api -- includes user details\"\"\"\n",
    "\n",
    "    url = f\"https://{auth.domo_instance}.domo.com/api/content/v2/groups/grouplist?ascending=true&search={search_name}&sort=name \"\n",
    "\n",
    "    res = await gd.get_data(\n",
    "        auth=auth, url=url, method=\"GET\", debug_api=debug_api, session=session\n",
    "    )\n",
    "    if not is_exact_match:\n",
    "        return res\n",
    "\n",
    "    match_group = next(\n",
    "        (group for group in res.response if group.get(\"name\") == search_name), None\n",
    "    )\n",
    "    # print(match_group)\n",
    "\n",
    "    if not match_group:\n",
    "        raise SearchGroups_Error(\n",
    "            status=res.status,\n",
    "            message=f\"There is no exact match for {search_name}\",\n",
    "            domo_instance=auth.domo_instance,\n",
    "        )\n",
    "    res.response = match_group\n",
    "\n",
    "    return res"
   ]
  },
  {
   "attachments": {},
   "cell_type": "markdown",
   "metadata": {},
   "source": [
    "#### Sample implementation of search_groups_by_name\n"
   ]
  },
  {
   "cell_type": "code",
   "execution_count": 40,
   "metadata": {},
   "outputs": [
    {
     "name": "stdout",
     "output_type": "stream",
     "text": [
      "ResponseGetData(status=200, response={'name': 'Test Group 2', 'groupId': 1259653287, 'owners': [{'type': 'GROUP', 'id': '822382906', 'displayName': 'Grant: Manage all groups'}, {'type': 'USER', 'id': '1893952720', 'displayName': 'Jae Wilson1'}, {'type': 'GROUP', 'id': '1259653287', 'displayName': 'Test Group 2'}, {'type': 'GROUP', 'id': '2146122228', 'displayName': 'test'}, {'type': 'USER', 'id': '1681443709', 'displayName': 'test 3'}], 'groupType': 'open', 'groupMembers': [{'type': 'USER', 'id': '2072616249'}, {'type': 'USER', 'id': '663516735'}], 'memberCount': 2, 'created': '2023-02-15 17:10:37.0', 'description': ''}, is_success=True)\n"
     ]
    }
   ],
   "source": [
    "import os\n",
    "\n",
    "token_auth = dmda.DomoTokenAuth(\n",
    "    domo_instance=\"domo-community\",\n",
    "    domo_access_token=os.environ[\"DOMO_DOJO_ACCESS_TOKEN\"],\n",
    ")\n",
    "search_name = \"Test Group 2\"\n",
    "try:\n",
    "    res = await search_groups_by_name(\n",
    "        auth=token_auth, search_name=search_name, debug_api=False\n",
    "    )\n",
    "    print(res)\n",
    "except SearchGroups_Error as e:\n",
    "    print(e)\n",
    "except Exception as e:\n",
    "    print(e)"
   ]
  },
  {
   "cell_type": "code",
   "execution_count": 41,
   "metadata": {},
   "outputs": [],
   "source": [
    "# | export\n",
    "\n",
    "\n",
    "async def get_all_groups(\n",
    "    auth: dmda.DomoAuth, debug_api: bool = False, session: httpx.AsyncClient = None\n",
    ") -> rgd.ResponseGetData:\n",
    "    \"\"\"uses /content/v2/groups/grouplist api -- includes user details\"\"\"\n",
    "\n",
    "    url = f\"https://{auth.domo_instance}.domo.com/api/content/v2/groups/grouplist\"\n",
    "\n",
    "    res = await gd.get_data(\n",
    "        url=url, method=\"GET\", auth=auth, debug_api=debug_api, session=session\n",
    "    )\n",
    "\n",
    "    return res"
   ]
  },
  {
   "attachments": {},
   "cell_type": "markdown",
   "metadata": {},
   "source": [
    "#### Sample implementation of get_all_groups\n"
   ]
  },
  {
   "cell_type": "code",
   "execution_count": 42,
   "metadata": {},
   "outputs": [
    {
     "data": {
      "text/html": [
       "<div>\n",
       "<style scoped>\n",
       "    .dataframe tbody tr th:only-of-type {\n",
       "        vertical-align: middle;\n",
       "    }\n",
       "\n",
       "    .dataframe tbody tr th {\n",
       "        vertical-align: top;\n",
       "    }\n",
       "\n",
       "    .dataframe thead th {\n",
       "        text-align: right;\n",
       "    }\n",
       "</style>\n",
       "<table border=\"1\" class=\"dataframe\">\n",
       "  <thead>\n",
       "    <tr style=\"text-align: right;\">\n",
       "      <th></th>\n",
       "      <th>name</th>\n",
       "      <th>groupId</th>\n",
       "      <th>owners</th>\n",
       "      <th>groupType</th>\n",
       "      <th>groupMembers</th>\n",
       "      <th>memberCount</th>\n",
       "      <th>created</th>\n",
       "      <th>description</th>\n",
       "    </tr>\n",
       "  </thead>\n",
       "  <tbody>\n",
       "    <tr>\n",
       "      <th>0</th>\n",
       "      <td>Admin Test</td>\n",
       "      <td>1814479647</td>\n",
       "      <td>[{'type': 'USER', 'id': '55874022', 'displayNa...</td>\n",
       "      <td>closed</td>\n",
       "      <td>[{'type': 'USER', 'id': '55874022'}, {'type': ...</td>\n",
       "      <td>2</td>\n",
       "      <td>2023-01-29 23:37:13.0</td>\n",
       "      <td></td>\n",
       "    </tr>\n",
       "  </tbody>\n",
       "</table>\n",
       "</div>"
      ],
      "text/plain": [
       "         name     groupId                                             owners  \\\n",
       "0  Admin Test  1814479647  [{'type': 'USER', 'id': '55874022', 'displayNa...   \n",
       "\n",
       "  groupType                                       groupMembers  memberCount  \\\n",
       "0    closed  [{'type': 'USER', 'id': '55874022'}, {'type': ...            2   \n",
       "\n",
       "                 created description  \n",
       "0  2023-01-29 23:37:13.0              "
      ]
     },
     "execution_count": 42,
     "metadata": {},
     "output_type": "execute_result"
    }
   ],
   "source": [
    "import os\n",
    "import pandas as pd\n",
    "\n",
    "token_auth = dmda.DomoTokenAuth(\n",
    "    domo_instance=\"domo-community\",\n",
    "    domo_access_token=os.environ[\"DOMO_DOJO_ACCESS_TOKEN\"],\n",
    ")\n",
    "\n",
    "res = await get_all_groups(auth=token_auth)\n",
    "res_df = pd.DataFrame(res.response)\n",
    "res_df[0:1]"
   ]
  },
  {
   "cell_type": "code",
   "execution_count": 43,
   "metadata": {},
   "outputs": [],
   "source": [
    "# | export\n",
    "async def get_group_by_id(\n",
    "    auth: dmda.DomoAuth,\n",
    "    group_id: str,\n",
    "    debug_api: bool = False,\n",
    "    session: httpx.AsyncClient = None,\n",
    ") -> rgd.ResponseGetData:\n",
    "\n",
    "    \"\"\"uses /content/v2/groups/ api -- does not return details\"\"\"\n",
    "\n",
    "    url = f\"https://{auth.domo_instance}.domo.com/api/content/v2/groups/{group_id}\"\n",
    "\n",
    "    res = await gd.get_data(\n",
    "        auth=auth, url=url, method=\"GET\", debug_api=debug_api, session=session\n",
    "    )\n",
    "\n",
    "    if res.status == 404 and res.response == \"Not Found\":\n",
    "        raise SearchGroups_Error(\n",
    "            status=res.status,\n",
    "            message=f\"group {group_id} not found\",\n",
    "            domo_instance=auth.domo_instance,\n",
    "            function_name=\"get_group_by_id\",\n",
    "        )\n",
    "\n",
    "    return res"
   ]
  },
  {
   "cell_type": "code",
   "execution_count": 44,
   "metadata": {},
   "outputs": [
    {
     "data": {
      "text/plain": [
       "ResponseGetData(status=200, response={'id': 1259653287, 'name': 'Test Group 2', 'type': 'open', 'userIds': [2072616249, 663516735], 'creatorId': 1893952720, 'memberCount': 2, 'guid': 'aabb6587-ad53-11ed-82c3-0a09ba383c95', 'description': '', 'hidden': False, 'default': False, 'active': True}, is_success=True)"
      ]
     },
     "execution_count": 44,
     "metadata": {},
     "output_type": "execute_result"
    }
   ],
   "source": [
    "token_auth = dmda.DomoTokenAuth(\n",
    "    domo_instance=\"domo-community\",\n",
    "    domo_access_token=os.environ[\"DOMO_DOJO_ACCESS_TOKEN\"],\n",
    ")\n",
    "\n",
    "await get_group_by_id(auth=token_auth, group_id=1259653287)"
   ]
  },
  {
   "attachments": {},
   "cell_type": "markdown",
   "metadata": {},
   "source": [
    "# CRUD Routes\n"
   ]
  },
  {
   "cell_type": "code",
   "execution_count": 45,
   "metadata": {},
   "outputs": [],
   "source": [
    "# | export\n",
    "class GroupType_Enum(Enum):\n",
    "    OPEN = \"open\"\n",
    "    ADHOC = \"adHoc\"\n",
    "    CLOSED = \"closed\"\n",
    "    DIRECTORY = \"directory\"\n",
    "    DYNAMIC = \"dynamic\"\n",
    "    SYSYTEM = \"system\"\n",
    "\n",
    "\n",
    "def generate_body_create_group(\n",
    "    group_name: str, group_type: str = \"open\", description: str = \"\"\n",
    ") -> dict:\n",
    "    \"\"\"Generates the body to create group for content_v2_group API\"\"\"\n",
    "    body = {\"name\": group_name, \"type\": group_type, \"description\": description}\n",
    "\n",
    "    return body"
   ]
  },
  {
   "attachments": {},
   "cell_type": "markdown",
   "metadata": {},
   "source": [
    "#### sample_implementation of generate_body_create_group\n"
   ]
  },
  {
   "cell_type": "code",
   "execution_count": 46,
   "metadata": {},
   "outputs": [
    {
     "data": {
      "text/plain": [
       "{'name': 'test_group_name', 'type': 'adHoc', 'description': 'from jupyter'}"
      ]
     },
     "execution_count": 46,
     "metadata": {},
     "output_type": "execute_result"
    }
   ],
   "source": [
    "generate_body_create_group(\n",
    "    group_name=\"test_group_name\",\n",
    "    group_type=GroupType_Enum.ADHOC.value,\n",
    "    description=\"from jupyter\",\n",
    ")"
   ]
  },
  {
   "cell_type": "code",
   "execution_count": 47,
   "metadata": {},
   "outputs": [],
   "source": [
    "# | export\n",
    "class CreateGroup_Error(de.DomoError):\n",
    "    def __init__(self, status, message, domo_instance, function_name=\"create_group\"):\n",
    "        super().__init__(\n",
    "            function_name=function_name,\n",
    "            status=status,\n",
    "            message=message,\n",
    "            domo_instance=domo_instance,\n",
    "        )\n",
    "\n",
    "\n",
    "async def create_group(\n",
    "    auth: dmda.DomoAuth,\n",
    "    group_name: str,\n",
    "    group_type: str = \"open\",\n",
    "    description: str = \"\",\n",
    "    debug_api: bool = False,\n",
    "    session: httpx.AsyncClient = None,\n",
    ") -> rgd.ResponseGetData:\n",
    "    # body : {\"name\": \"GROUP_NAME\", \"type\": \"open\", \"description\": \"\"}\n",
    "\n",
    "    body = generate_body_create_group(\n",
    "        group_name=group_name, group_type=group_type, description=description\n",
    "    )\n",
    "\n",
    "    url = f\"https://{auth.domo_instance}.domo.com/api/content/v2/groups/\"\n",
    "\n",
    "    res = await gd.get_data(\n",
    "        auth=auth,\n",
    "        url=url,\n",
    "        method=\"POST\",\n",
    "        body=body,\n",
    "        debug_api=debug_api,\n",
    "        session=session,\n",
    "    )\n",
    "\n",
    "    if not res.is_success:\n",
    "        group_exists = await search_groups_by_name(\n",
    "            auth=auth, search_name=group_name, is_exact_match=True\n",
    "        )\n",
    "        if group_exists.is_success:\n",
    "            raise CreateGroup_Error(\n",
    "                status=res.status,\n",
    "                message=f\"{group_name} already exists. Choose a different group_name\",\n",
    "                domo_instance=auth.domo_instance,\n",
    "                function_name=\"create_group\",\n",
    "            )\n",
    "\n",
    "    if not res.is_success:\n",
    "        raise CreateGroup_Error(\n",
    "            status=res.status,\n",
    "            message=res.response,\n",
    "            domo_instance=auth.domo_instance,\n",
    "            function_name=\"create_group\",\n",
    "        )\n",
    "\n",
    "    return res"
   ]
  },
  {
   "attachments": {},
   "cell_type": "markdown",
   "metadata": {},
   "source": [
    "#### Sample implementation of create_group\n"
   ]
  },
  {
   "cell_type": "code",
   "execution_count": 48,
   "metadata": {},
   "outputs": [
    {
     "name": "stdout",
     "output_type": "stream",
     "text": [
      "create_group: Status 400 - Test Group ABC already exists. Choose a different group_name at domo-community\n"
     ]
    }
   ],
   "source": [
    "import os\n",
    "\n",
    "token_auth = dmda.DomoTokenAuth(\n",
    "    domo_instance=\"domo-community\",\n",
    "    domo_access_token=os.environ[\"DOMO_DOJO_ACCESS_TOKEN\"],\n",
    ")\n",
    "try:\n",
    "    res = await create_group(\n",
    "        auth=token_auth, group_name=\"Test Group ABC\", debug_api=False\n",
    "    )\n",
    "    res.response\n",
    "\n",
    "except CreateGroup_Error as e:\n",
    "    print(e)"
   ]
  },
  {
   "cell_type": "code",
   "execution_count": 49,
   "metadata": {},
   "outputs": [],
   "source": [
    "# | export\n",
    "async def update_group(\n",
    "    auth: dmda.DomoAuth,\n",
    "    group_id: int,\n",
    "    group_name: str = None,\n",
    "    group_type: str = None,\n",
    "    description: str = None,\n",
    "    debug_api: bool = False,\n",
    "    session: httpx.AsyncClient = None,\n",
    ") -> rgd.ResponseGetData:\n",
    "\n",
    "    body = [\n",
    "        {\n",
    "            \"groupId\": int(group_id),\n",
    "            \"name\": group_name,\n",
    "            \"type\": group_type,\n",
    "            \"description\": description,\n",
    "        }\n",
    "    ]\n",
    "\n",
    "    url = f\"https://{auth.domo_instance}.domo.com/api/content/v2/groups/\"\n",
    "\n",
    "    res = await gd.get_data(\n",
    "        auth=auth,\n",
    "        url=url,\n",
    "        method=\"PUT\",\n",
    "        body=body,\n",
    "        debug_api=debug_api,\n",
    "        session=session,\n",
    "    )\n",
    "\n",
    "    return res"
   ]
  },
  {
   "attachments": {},
   "cell_type": "markdown",
   "metadata": {},
   "source": [
    "#### sample implementation of update_group\n"
   ]
  },
  {
   "cell_type": "code",
   "execution_count": 50,
   "metadata": {},
   "outputs": [
    {
     "data": {
      "text/plain": [
       "ResponseGetData(status=200, response='', is_success=True)"
      ]
     },
     "execution_count": 50,
     "metadata": {},
     "output_type": "execute_result"
    }
   ],
   "source": [
    "import os\n",
    "import datetime as dt\n",
    "\n",
    "token_auth = dmda.DomoTokenAuth(\n",
    "    domo_instance=\"domo-community\",\n",
    "    domo_access_token=os.environ[\"DOMO_DOJO_ACCESS_TOKEN\"],\n",
    ")\n",
    "\n",
    "group_id = 250707376\n",
    "\n",
    "await update_group(\n",
    "    auth=token_auth,\n",
    "    group_id=group_id,\n",
    "    group_name=\"Test Group ABC\",\n",
    "    description=f\"updated via API on {dt.date.today()}\",\n",
    "    debug_api=False,\n",
    ")"
   ]
  },
  {
   "attachments": {},
   "cell_type": "markdown",
   "metadata": {},
   "source": [
    "# Group Membership\n",
    "## GET  Group Ownership"
   ]
  },
  {
   "cell_type": "code",
   "execution_count": 51,
   "metadata": {},
   "outputs": [],
   "source": [
    "# | export\n",
    "async def get_group_owners(\n",
    "    auth: dmda.DomoAuth,\n",
    "    group_id: str,\n",
    "    return_raw: bool = False,\n",
    "    debug_api: bool = False,\n",
    "    session: httpx.AsyncClient = None,\n",
    ") -> rgd.ResponseGetData:\n",
    "\n",
    "    # url = f\"https://{auth.domo_instance}.domo.com/api/content/v2/groups/access\"\n",
    "    # url = f\"https://{auth.domo_instance}.domo.com/api/content/v2/groups/users?group={group_id}\"\n",
    "    url = f'https://{auth.domo_instance}.domo.com/api/content/v2/groups/permissions?checkOwnership=true&includeUsers=false'\n",
    "\n",
    "    if debug_api:\n",
    "        print(url, body)\n",
    "\n",
    "    res = await gd.get_data(\n",
    "        auth=auth,\n",
    "        url=url,\n",
    "        body = [str(group_id)],\n",
    "        method=\"POST\",\n",
    "        debug_api=debug_api,\n",
    "        session=session,\n",
    "    )\n",
    "\n",
    "    if return_raw:\n",
    "        return res\n",
    "\n",
    "    res.response = res.response[0].get('permissions').get('owners')\n",
    "    return res\n",
    "\n"
   ]
  },
  {
   "attachments": {},
   "cell_type": "markdown",
   "metadata": {},
   "source": [
    "#### sample implementation of get_ownership"
   ]
  },
  {
   "cell_type": "code",
   "execution_count": 52,
   "metadata": {},
   "outputs": [
    {
     "data": {
      "text/html": [
       "<div>\n",
       "<style scoped>\n",
       "    .dataframe tbody tr th:only-of-type {\n",
       "        vertical-align: middle;\n",
       "    }\n",
       "\n",
       "    .dataframe tbody tr th {\n",
       "        vertical-align: top;\n",
       "    }\n",
       "\n",
       "    .dataframe thead th {\n",
       "        text-align: right;\n",
       "    }\n",
       "</style>\n",
       "<table border=\"1\" class=\"dataframe\">\n",
       "  <thead>\n",
       "    <tr style=\"text-align: right;\">\n",
       "      <th></th>\n",
       "      <th>type</th>\n",
       "      <th>id</th>\n",
       "      <th>displayName</th>\n",
       "    </tr>\n",
       "  </thead>\n",
       "  <tbody>\n",
       "    <tr>\n",
       "      <th>0</th>\n",
       "      <td>USER</td>\n",
       "      <td>1893952720</td>\n",
       "      <td>Jae Wilson1</td>\n",
       "    </tr>\n",
       "    <tr>\n",
       "      <th>1</th>\n",
       "      <td>GROUP</td>\n",
       "      <td>1781661643</td>\n",
       "      <td>TestMembership</td>\n",
       "    </tr>\n",
       "    <tr>\n",
       "      <th>2</th>\n",
       "      <td>GROUP</td>\n",
       "      <td>822382906</td>\n",
       "      <td>Grant: Manage all groups</td>\n",
       "    </tr>\n",
       "  </tbody>\n",
       "</table>\n",
       "</div>"
      ],
      "text/plain": [
       "    type          id               displayName\n",
       "0   USER  1893952720               Jae Wilson1\n",
       "1  GROUP  1781661643            TestMembership\n",
       "2  GROUP   822382906  Grant: Manage all groups"
      ]
     },
     "execution_count": 52,
     "metadata": {},
     "output_type": "execute_result"
    }
   ],
   "source": [
    "import os\n",
    "import pandas as pd\n",
    "\n",
    "token_auth = dmda.DomoTokenAuth(\n",
    "    domo_instance=\"domo-community\",\n",
    "    domo_access_token=os.environ[\"DOMO_DOJO_ACCESS_TOKEN\"],\n",
    ")\n",
    "\n",
    "group_id = 1781661643\n",
    "\n",
    "res = await get_group_owners(auth=token_auth,\n",
    "                           group_id=group_id,\n",
    "                           )\n",
    "\n",
    "pd.DataFrame(res.response)"
   ]
  },
  {
   "cell_type": "code",
   "execution_count": 53,
   "metadata": {},
   "outputs": [],
   "source": [
    "# | export\n",
    "async def get_group_membership(\n",
    "    auth: dmda.DomoAuth,\n",
    "    group_id: str,\n",
    "    return_raw: bool = False,\n",
    "    debug_api: bool = False,\n",
    "    session: httpx.AsyncClient = None,\n",
    ") -> rgd.ResponseGetData:\n",
    "\n",
    "    # url = f\"https://{auth.domo_instance}.domo.com/api/content/v2/groups/access\"\n",
    "    url = f\"https://{auth.domo_instance}.domo.com/api/content/v2/groups/users?group={group_id}\"\n",
    "\n",
    "    if debug_api:\n",
    "        print(url, body)\n",
    "\n",
    "    res = await gd.get_data(\n",
    "        auth=auth,\n",
    "        url=url,\n",
    "        method=\"GET\",\n",
    "        debug_api=debug_api,\n",
    "        session=session,\n",
    "    )\n",
    "\n",
    "    if return_raw:\n",
    "        return res\n",
    "\n",
    "    res.response = res.response.get('groupUserList')\n",
    "    return res"
   ]
  },
  {
   "attachments": {},
   "cell_type": "markdown",
   "metadata": {},
   "source": [
    "#### sample implementation of get_membership"
   ]
  },
  {
   "cell_type": "code",
   "execution_count": 54,
   "metadata": {},
   "outputs": [
    {
     "data": {
      "text/html": [
       "<div>\n",
       "<style scoped>\n",
       "    .dataframe tbody tr th:only-of-type {\n",
       "        vertical-align: middle;\n",
       "    }\n",
       "\n",
       "    .dataframe tbody tr th {\n",
       "        vertical-align: top;\n",
       "    }\n",
       "\n",
       "    .dataframe thead th {\n",
       "        text-align: right;\n",
       "    }\n",
       "</style>\n",
       "<table border=\"1\" class=\"dataframe\">\n",
       "  <thead>\n",
       "    <tr style=\"text-align: right;\">\n",
       "      <th></th>\n",
       "      <th>userId</th>\n",
       "      <th>role</th>\n",
       "      <th>roleId</th>\n",
       "      <th>lastSignIn</th>\n",
       "      <th>location</th>\n",
       "    </tr>\n",
       "  </thead>\n",
       "  <tbody>\n",
       "    <tr>\n",
       "      <th>0</th>\n",
       "      <td>696468809</td>\n",
       "      <td>Dojo_Default_Priviliged</td>\n",
       "      <td>2097317660</td>\n",
       "      <td>2021-04-19 16:36:26.944</td>\n",
       "      <td>NaN</td>\n",
       "    </tr>\n",
       "    <tr>\n",
       "      <th>1</th>\n",
       "      <td>1345737456</td>\n",
       "      <td>Privileged</td>\n",
       "      <td>2</td>\n",
       "      <td>2023-04-06 06:21:16.0</td>\n",
       "      <td></td>\n",
       "    </tr>\n",
       "    <tr>\n",
       "      <th>2</th>\n",
       "      <td>1141078945</td>\n",
       "      <td>Dojo_Default_Priviliged</td>\n",
       "      <td>2097317660</td>\n",
       "      <td>2021-04-28 03:58:56.0</td>\n",
       "      <td>NaN</td>\n",
       "    </tr>\n",
       "  </tbody>\n",
       "</table>\n",
       "</div>"
      ],
      "text/plain": [
       "       userId                     role      roleId               lastSignIn  \\\n",
       "0   696468809  Dojo_Default_Priviliged  2097317660  2021-04-19 16:36:26.944   \n",
       "1  1345737456               Privileged           2    2023-04-06 06:21:16.0   \n",
       "2  1141078945  Dojo_Default_Priviliged  2097317660    2021-04-28 03:58:56.0   \n",
       "\n",
       "  location  \n",
       "0      NaN  \n",
       "1           \n",
       "2      NaN  "
      ]
     },
     "execution_count": 54,
     "metadata": {},
     "output_type": "execute_result"
    }
   ],
   "source": [
    "import os\n",
    "import pandas as pd\n",
    "\n",
    "token_auth = dmda.DomoTokenAuth(\n",
    "    domo_instance=\"domo-community\",\n",
    "    domo_access_token=os.environ[\"DOMO_DOJO_ACCESS_TOKEN\"],\n",
    ")\n",
    "\n",
    "group_id = 1781661643\n",
    "\n",
    "res = await get_group_membership(auth=token_auth,\n",
    "                           group_id=group_id,\n",
    "                           )\n",
    "\n",
    "pd.DataFrame(res.response)"
   ]
  },
  {
   "attachments": {},
   "cell_type": "markdown",
   "metadata": {},
   "source": [
    "## CRUD Group Membership"
   ]
  },
  {
   "cell_type": "code",
   "execution_count": 55,
   "metadata": {},
   "outputs": [],
   "source": [
    "def generate_body_update_group_membership_entity(id: Union[str, int],\n",
    "                                                 type: str  # USER or GROUP\n",
    "                                                 ):\n",
    "    if type == 'USER':\n",
    "        return {\"type\": \"USER\", \"id\": str(id)}\n",
    "    elif type == 'GROUP':\n",
    "        return {\"type\": \"GROUP\", \"id\": int(id)}\n"
   ]
  },
  {
   "cell_type": "code",
   "execution_count": 56,
   "metadata": {},
   "outputs": [],
   "source": [
    "# | export\n",
    "def generate_body_update_group_membership(group_id: str,\n",
    "                                          add_member_arr: list[str] = None,\n",
    "                                          remove_member_arr: list[str] = None,\n",
    "\n",
    "                                          add_owner_arr: list[str] = None,\n",
    "                                          remove_owner_arr: list[str] = None) -> list[dict]:\n",
    "    \"\"\"\n",
    "    each member or owner obj should be an object of shape {\"type\", \"id\"}\n",
    "    \"\"\"\n",
    "\n",
    "    body = {\"groupId\": int(group_id)}\n",
    "\n",
    "    if add_owner_arr:\n",
    "        body.update({\"addOwners\": [generate_body_update_group_membership_entity(\n",
    "            id=obj.get('id'), type=obj.get('type')) for obj in add_owner_arr]})\n",
    "\n",
    "    if remove_owner_arr:\n",
    "        body.update({\"removeOwners\": [generate_body_update_group_membership_entity(\n",
    "            id=obj.get('id'), type=obj.get('type')) for obj in remove_owner_arr]})\n",
    "\n",
    "    if remove_member_arr:\n",
    "        body.update({\"removeMembers\": [\n",
    "                    generate_body_update_group_membership_entity(id=obj.get('id'), type=obj.get('type')) for obj in remove_member_arr]})\n",
    "    if add_member_arr:\n",
    "        body.update(\n",
    "            {\"addMembers\": [generate_body_update_group_membership_entity(id=obj.get('id'), type=obj.get('type')) for obj in add_member_arr]})\n",
    "\n",
    "    return [body]\n"
   ]
  },
  {
   "cell_type": "code",
   "execution_count": 57,
   "metadata": {},
   "outputs": [],
   "source": [
    "# | export\n",
    "async def update_group_membership(\n",
    "    auth: dmda.DomoAuth,\n",
    "    group_id: str,\n",
    "    add_member_arr: list[dict] = None,\n",
    "    remove_member_arr: list[dict] = None,\n",
    "    add_owner_arr: list[dict] = None,\n",
    "    remove_owner_arr: list[dict] = None,\n",
    "    debug_api: bool = False,\n",
    "    session: httpx.AsyncClient = None,\n",
    ") -> rgd.ResponseGetData:\n",
    "\n",
    "    \"\"\"\n",
    "    each member or owner obj should be an object of shape {\"type\", \"id\"}\n",
    "    \"\"\"\n",
    "\n",
    "    body = generate_body_update_group_membership(group_id = group_id,\n",
    "                                                 add_member_arr = add_member_arr,\n",
    "                                                 remove_member_arr= remove_member_arr,\n",
    "                                                 add_owner_arr = add_owner_arr,\n",
    "                                                 remove_owner_arr = remove_owner_arr)\n",
    "\n",
    "    # body = [{\n",
    "    #     \"groupId\":\"GROUP_ID\",\n",
    "    #     \"removeMembers\": [{\"type\":\"USER\",\"id\":\"USER_ID\"}],\n",
    "    #     \"addMembers\"   : [{\"type\":\"USER\",\"id\":\"USER_ID\"}]\n",
    "    # }]\n",
    "    url = f\"https://{auth.domo_instance}.domo.com/api/content/v2/groups/access\"\n",
    "\n",
    "    if debug_api:\n",
    "        print(url, body)\n",
    "\n",
    "    res = await gd.get_data(\n",
    "        auth=auth,\n",
    "        url=url,\n",
    "        method=\"PUT\",\n",
    "        body=body,\n",
    "        debug_api=debug_api,\n",
    "        session=session,\n",
    "    )\n",
    "\n",
    "    return res\n"
   ]
  },
  {
   "attachments": {},
   "cell_type": "markdown",
   "metadata": {},
   "source": [
    "#### Sample implementation of generate_body_update_group_membership and update_group_membership\n"
   ]
  },
  {
   "cell_type": "code",
   "execution_count": 58,
   "metadata": {},
   "outputs": [
    {
     "data": {
      "text/plain": [
       "ResponseGetData(status=200, response='', is_success=True)"
      ]
     },
     "execution_count": 58,
     "metadata": {},
     "output_type": "execute_result"
    }
   ],
   "source": [
    "import os\n",
    "\n",
    "token_auth = dmda.DomoTokenAuth(\n",
    "    domo_instance=\"domo-community\",\n",
    "    domo_access_token=os.environ[\"DOMO_DOJO_ACCESS_TOKEN\"],\n",
    ")\n",
    "\n",
    "group_id = 250707376\n",
    "\n",
    "add_user_obj = {'id':  os.environ[\"DOMO_DOJO_USER_ID\"],\n",
    "                'type': 'USER'}\n",
    "\n",
    "await update_group_membership(auth=token_auth, \n",
    "                        group_id=group_id,\n",
    "                                    add_member_arr=[add_user_obj], \n",
    "                                    add_owner_arr=[add_user_obj])\n"
   ]
  },
  {
   "cell_type": "code",
   "execution_count": 59,
   "metadata": {},
   "outputs": [
    {
     "name": "stderr",
     "output_type": "stream",
     "text": [
      "Bad pipe message: %s [b\"\\x1e\\xbc\\xfc\\xe6H\\xba\\x9a\\xa5\\x0f8\\xbfg\\xcc\\xba\\x1d\\xb0\\xb7>\\x00\\x00|\\xc0,\\xc00\\x00\\xa3\\x00\\x9f\\xcc\\xa9\\xcc\\xa8\\xcc\\xaa\\xc0\\xaf\\xc0\\xad\\xc0\\xa3\\xc0\\x9f\\xc0]\\xc0a\\xc0W\\xc0S\\xc0+\\xc0/\\x00\\xa2\\x00\\x9e\\xc0\\xae\\xc0\\xac\\xc0\\xa2\\xc0\\x9e\\xc0\\\\\\xc0`\\xc0V\\xc0R\\xc0$\\xc0(\\x00k\\x00j\\xc0#\\xc0'\\x00g\\x00@\\xc0\\n\\xc0\\x14\\x009\\x008\\xc0\\t\\xc0\\x13\\x003\\x00\"]\n",
      "Bad pipe message: %s [b'\\x9d\\xc0\\xa1\\xc0\\x9d\\xc0Q\\x00\\x9c\\xc0\\xa0\\xc0\\x9c\\xc0P\\x00=\\x00<\\x005\\x00/\\x00\\x9a\\x00\\x99\\xc0\\x07\\xc0\\x11\\x00\\x96\\x00\\x05\\x00\\xff\\x01\\x00\\x00j\\x00\\x00\\x00\\x0e\\x00\\x0c\\x00\\x00']\n",
      "Bad pipe message: %s [b'\\x84\\x90\\x0c\\xc8\\xa4\\xf3\\x0e\\x0c\\t\\xd4\\xcfp\\xa8\\x8a\\x87\\xb4\\x8c\\x13\\x00\\x00\\xa6\\xc0,\\xc00\\x00\\xa3\\x00\\x9f\\xcc\\xa9\\xcc\\xa8\\xcc\\xaa\\xc0\\xaf\\xc0\\xad\\xc0\\xa3\\xc0\\x9f\\xc0]\\xc0a\\xc0W\\xc0S\\xc0+\\xc0/\\x00\\xa2\\x00\\x9e\\xc0\\xae\\xc0\\xac\\xc0\\xa2\\xc0\\x9e\\xc0\\\\\\xc0`\\xc0V\\xc0R\\xc0$\\xc0(\\x00k\\x00j\\xc0s\\xc0w\\x00\\xc4\\x00']\n",
      "Bad pipe message: %s [b\"#\\xc0'\\x00g\\x00@\\xc0r\\xc0v\\x00\\xbe\\x00\\xbd\\xc0\\n\\xc0\\x14\\x009\\x008\\x00\\x88\\x00\\x87\\xc0\\t\\xc0\\x13\\x003\\x002\\x00\\x9a\\x00\\x99\\x00E\\x00D\\xc0\\x07\\xc0\\x11\\xc0\\x08\\xc0\\x12\\x00\\x16\\x00\\x13\\x00\\x9d\\xc0\\xa1\\xc0\\x9d\\xc0Q\\x00\\x9c\\xc0\\xa0\\xc0\\x9c\\xc0P\\x00=\\x00\\xc0\\x00<\\x00\\xba\\x005\\x00\\x84\\x00/\\x00\\x96\\x00A\\x00\\x05\\x00\\n\\x00\\xff\\x01\\x00\\x00j\\x00\\x00\\x00\\x0e\\x00\\x0c\\x00\\x00\\t127.0.0.1\\x00\\x0b\\x00\\x04\\x03\\x00\\x01\\x02\\x00\\n\\x00\\x0c\\x00\\n\\x00\\x1d\\x00\\x17\\x00\\x1e\\x00\\x19\\x00\\x18\\x00#\\x00\\x00\\x00\\x16\\x00\\x00\\x00\\x17\\x00\\x00\\x00\\r\\x000\\x00.\\x04\\x03\\x05\\x03\\x06\\x03\\x08\\x07\\x08\\x08\\x08\\t\\x08\\n\\x08\\x0b\\x08\\x04\\x08\\x05\\x08\\x06\\x04\\x01\\x05\\x01\\x06\\x01\\x03\\x03\\x02\\x03\\x03\\x01\\x02\"]\n",
      "Bad pipe message: %s [b'', b'\\x02']\n",
      "Bad pipe message: %s [b'\\x05\\x02\\x06']\n",
      "Bad pipe message: %s [b'\\x8e\\x1c\\n}\\xac\\xaf\\xff&\\xf55\\xc2V\\x86\\x0e[\\x0b\\x89\\xeb\\x00\\x00>\\xc0\\x14\\xc0\\n\\x009\\x008\\x007\\x006\\xc0\\x0f\\xc0\\x05\\x005\\xc0\\x13\\xc0\\t\\x003\\x002\\x001\\x000\\xc0\\x0e\\xc0\\x04\\x00/\\x00\\x9a\\x00\\x99\\x00\\x98\\x00\\x97\\x00\\x96\\x00\\x07\\xc0\\x11\\xc0\\x07\\xc0\\x0c\\xc0\\x02\\x00\\x05\\x00\\x04\\x00\\xff\\x02\\x01\\x00\\x00C\\x00\\x00\\x00\\x0e\\x00\\x0c\\x00\\x00\\t127.0.0.1\\x00\\x0b\\x00\\x04\\x03\\x00\\x01\\x02\\x00\\n\\x00\\x1c\\x00\\x1a\\x00\\x17\\x00\\x19\\x00\\x1c\\x00\\x1b\\x00\\x18\\x00\\x1a\\x00\\x16\\x00', b'\\r\\x00\\x0b\\x00\\x0c\\x00\\t\\x00\\n\\x00#\\x00\\x00']\n",
      "Bad pipe message: %s [b'\\xc0\\x0c9\\x8a\\xeaGGNU\\xcd\\xceK\\x83\\xf10\\r \\x8e\\x00\\x00\\xa2\\xc0\\x14\\xc0\\n\\x009\\x008\\x007\\x006\\x00\\x88\\x00\\x87\\x00\\x86\\x00\\x85\\xc0\\x19\\x00:\\x00\\x89\\xc0\\x0f\\xc0\\x05\\x005\\x00\\x84\\xc0\\x13\\xc0\\t\\x003\\x002\\x001\\x000\\x00\\x9a\\x00\\x99\\x00\\x98\\x00\\x97\\x00E\\x00D\\x00C\\x00B\\xc0\\x18\\x004\\x00\\x9b\\x00F\\xc0\\x0e\\xc0\\x04\\x00/\\x00\\x96\\x00A\\x00\\x07\\xc0\\x11\\xc0\\x07\\xc0\\x16\\x00\\x18\\xc0\\x0c\\xc0\\x02\\x00\\x05\\x00\\x04\\xc0\\x12\\xc0\\x08\\x00\\x16\\x00\\x13\\x00\\x10\\x00\\r\\xc0\\x17\\x00\\x1b\\xc0\\r\\xc0\\x03\\x00\\n\\x00\\x15\\x00\\x12\\x00\\x0f\\x00\\x0c\\x00\\x1a\\x00\\t\\x00\\x14\\x00', b'\\x19\\x00\\x08\\x00\\x06\\x00\\x17\\x00\\x03\\xc0\\x10\\xc0\\x06\\xc0\\x15\\xc0']\n",
      "Bad pipe message: %s [b'\\x01\\x00\\x02\\x00\\x01\\x00\\xff\\x02\\x01\\x00']\n",
      "Bad pipe message: %s [b'\\xac\\x99\\xd1n\\xcaH\\xe8\\xa0\\xb6\\xfd\\xbc\\xfc\\x9c\\xa6']\n",
      "Bad pipe message: %s [b'\\x9bB\\x00\\x00>\\xc0\\x14\\xc0\\n\\x009\\x008\\x007\\x006\\xc0\\x0f\\xc0\\x05\\x005\\xc0\\x13\\xc0\\t\\x003\\x002\\x001\\x000\\xc0\\x0e\\xc0\\x04\\x00/\\x00\\x9a\\x00\\x99\\x00\\x98\\x00\\x97\\x00\\x96\\x00\\x07\\xc0\\x11\\xc0\\x07\\xc0\\x0c\\xc0\\x02\\x00\\x05\\x00\\x04\\x00\\xff\\x02\\x01\\x00\\x00', b'\\x00\\x00\\x0e\\x00\\x0c\\x00\\x00\\t127.0.0.1\\x00\\x0b\\x00\\x04\\x03\\x00\\x01\\x02\\x00\\n\\x00\\x1c\\x00\\x1a\\x00\\x17\\x00\\x19\\x00\\x1c\\x00\\x1b\\x00\\x18\\x00\\x1a\\x00\\x16\\x00\\x0e\\x00\\r\\x00\\x0b\\x00\\x0c\\x00\\t\\x00\\n\\x00#\\x00\\x00\\x00\\x0f\\x00\\x01\\x01']\n",
      "Bad pipe message: %s [b'\\xb3[\\x19\\xb4c\\xeb\\xa92\\x9e\\x98\\x0e\\xa8']\n",
      "Bad pipe message: %s [b'\\x81\\x93eG\\x00\\x00\\xa2\\xc0\\x14\\xc0\\n\\x009\\x008\\x007\\x006\\x00\\x88\\x00\\x87\\x00\\x86\\x00\\x85\\xc0\\x19\\x00:\\x00\\x89\\xc0\\x0f\\xc0\\x05\\x005\\x00\\x84\\xc0\\x13\\xc0\\t\\x003\\x002\\x001\\x000\\x00\\x9a\\x00\\x99\\x00\\x98\\x00\\x97\\x00E\\x00D\\x00C\\x00B\\xc0\\x18\\x004\\x00\\x9b\\x00F\\xc0\\x0e\\xc0\\x04\\x00/\\x00\\x96\\x00A\\x00\\x07\\xc0\\x11\\xc0\\x07\\xc0\\x16\\x00\\x18\\xc0\\x0c\\xc0\\x02\\x00\\x05\\x00\\x04\\xc0\\x12\\xc0\\x08\\x00\\x16\\x00\\x13\\x00\\x10\\x00\\r\\xc0\\x17\\x00\\x1b\\xc0\\r\\xc0\\x03\\x00\\n\\x00\\x15\\x00\\x12\\x00\\x0f\\x00\\x0c\\x00\\x1a\\x00\\t\\x00\\x14\\x00\\x11\\x00\\x19\\x00\\x08\\x00\\x06\\x00\\x17\\x00\\x03\\xc0\\x10\\xc0\\x06\\xc0\\x15\\xc0\\x0b\\xc0\\x01']\n",
      "Bad pipe message: %s [b'\\xec\\xdc\\xf1\\xaaq\\xd33\\xb6]\\xe4\\x9e\\x03\\xf4\\x7f\\tT\\xc8\\xcc\\x00\\x00>\\xc0\\x14\\xc0\\n\\x009\\x008\\x007\\x006\\xc0\\x0f\\xc0\\x05\\x005\\xc0\\x13\\xc0\\t\\x003\\x002\\x001\\x000\\xc0\\x0e\\xc0\\x04\\x00/\\x00\\x9a\\x00\\x99\\x00\\x98\\x00\\x97\\x00\\x96\\x00\\x07\\xc0\\x11\\xc0\\x07\\xc0\\x0c\\xc0\\x02\\x00\\x05\\x00\\x04\\x00\\xff\\x02\\x01\\x00\\x15\\x03\\x00\\x00']\n",
      "Bad pipe message: %s [b'(']\n",
      "Bad pipe message: %s [b'\"\\xcc\\xc3\\xda|\\xb7\\xc5\\x0b\\x10p\\x8b\\xaf\\xd0\\xb3X\\xe1`d\\x00\\x00\\xa2\\xc0\\x14\\xc0\\n\\x009\\x008\\x007\\x006\\x00\\x88\\x00\\x87\\x00\\x86\\x00\\x85\\xc0\\x19\\x00:\\x00\\x89\\xc0\\x0f\\xc0\\x05\\x005\\x00\\x84\\xc0\\x13\\xc0\\t\\x003\\x002\\x001\\x000\\x00\\x9a\\x00\\x99\\x00\\x98\\x00\\x97\\x00E\\x00D\\x00C\\x00B\\xc0\\x18\\x004\\x00\\x9b\\x00F\\xc0\\x0e\\xc0\\x04\\x00/\\x00\\x96\\x00A\\x00\\x07\\xc0\\x11\\xc0\\x07\\xc0\\x16\\x00\\x18\\xc0\\x0c\\xc0\\x02\\x00\\x05\\x00\\x04\\xc0\\x12\\xc0\\x08\\x00\\x16\\x00\\x13\\x00\\x10\\x00\\r\\xc0\\x17\\x00']\n",
      "Bad pipe message: %s [b'\\r\\xc0\\x03\\x00\\n\\x00\\x15\\x00\\x12\\x00\\x0f\\x00\\x0c\\x00\\x1a\\x00\\t\\x00\\x14\\x00\\x11\\x00\\x19\\x00\\x08\\x00']\n",
      "Bad pipe message: %s [b'\\x17\\x00\\x03\\xc0\\x10']\n",
      "Bad pipe message: %s [b\"t\\x93\\xc5h7\\xfe\\xa9\\x93\\xb8\\xd4\\x84\\xc0\\x17?\\xf3\\x946\\xe0\\x00\\x00\\x86\\xc00\\xc0,\\xc0(\\xc0$\\xc0\\x14\\xc0\\n\\x00\\xa5\\x00\\xa3\\x00\\xa1\\x00\\x9f\\x00k\\x00j\\x00i\\x00h\\x009\\x008\\x007\\x006\\xc02\\xc0.\\xc0*\\xc0&\\xc0\\x0f\\xc0\\x05\\x00\\x9d\\x00=\\x005\\xc0/\\xc0+\\xc0'\\xc0#\\xc0\\x13\\xc0\\t\\x00\\xa4\\x00\\xa2\\x00\\xa0\\x00\\x9e\\x00g\\x00@\\x00?\\x00>\\x003\\x002\\x001\\x000\\xc01\\xc0-\\xc0)\\xc0%\\xc0\\x0e\\xc0\\x04\\x00\\x9c\\x00<\\x00/\\x00\\x9a\\x00\\x99\\x00\\x98\\x00\\x97\\x00\\x96\\x00\\x07\\xc0\\x11\\xc0\\x07\\xc0\\x0c\\xc0\\x02\\x00\\x05\\x00\\x04\\x00\\xff\\x02\\x01\\x00\\x00g\\x00\\x00\\x00\\x0e\\x00\\x0c\\x00\\x00\\t127.0.0.1\\x00\\x0b\\x00\\x04\\x03\\x00\\x01\\x02\\x00\\n\\x00\\x1c\\x00\\x1a\\x00\\x17\\x00\\x19\\x00\\x1c\\x00\\x1b\\x00\\x18\\x00\\x1a\\x00\\x16\\x00\\x0e\\x00\\r\\x00\\x0b\"]\n"
     ]
    }
   ],
   "source": [
    "# | hide\n",
    "import nbdev\n",
    "\n",
    "nbdev.nbdev_export()"
   ]
  }
 ],
 "metadata": {
  "jupytext": {
   "split_at_heading": true
  },
  "kernelspec": {
   "display_name": "Python 3",
   "language": "python",
   "name": "python3"
  },
  "language_info": {
   "codemirror_mode": {
    "name": "ipython",
    "version": 3
   },
   "file_extension": ".py",
   "mimetype": "text/x-python",
   "name": "python",
   "nbconvert_exporter": "python",
   "pygments_lexer": "ipython3",
   "version": "3.10.4"
  }
 },
 "nbformat": 4,
 "nbformat_minor": 4
}
