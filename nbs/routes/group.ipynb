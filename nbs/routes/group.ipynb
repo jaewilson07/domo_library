{
 "cells": [
  {
   "cell_type": "raw",
   "metadata": {},
   "source": [
    "---\n",
    "output-file: routes.group.html\n",
    "title: Group Routes\n",
    "---"
   ]
  },
  {
   "cell_type": "code",
   "execution_count": 1,
   "metadata": {},
   "outputs": [],
   "source": [
    "# | default_exp routes.group"
   ]
  },
  {
   "cell_type": "code",
   "execution_count": 2,
   "metadata": {},
   "outputs": [],
   "source": [
    "# | exporti\n",
    "import httpx\n",
    "from enum import Enum\n",
    "from typing import Union, List\n",
    "\n",
    "import domolibrary.client.get_data as gd\n",
    "import domolibrary.client.ResponseGetData as rgd\n",
    "import domolibrary.client.DomoAuth as dmda\n",
    "import domolibrary.client.DomoError as de"
   ]
  },
  {
   "cell_type": "code",
   "execution_count": 3,
   "metadata": {},
   "outputs": [],
   "source": [
    "#|hide\n",
    "from nbdev.showdoc import show_doc"
   ]
  },
  {
   "attachments": {},
   "cell_type": "markdown",
   "metadata": {},
   "source": [
    "# Search and Get Routes\n"
   ]
  },
  {
   "cell_type": "code",
   "execution_count": 4,
   "metadata": {},
   "outputs": [],
   "source": [
    "# | export\n",
    "class SearchGroups_Error(de.DomoError):\n",
    "    def __init__(\n",
    "        self,\n",
    "        status,\n",
    "        message,\n",
    "        domo_instance,\n",
    "        function_name=\"search_groups_by_name\",\n",
    "        parent_class: str = None,\n",
    "    ):\n",
    "        super().__init__(\n",
    "            function_name=function_name,\n",
    "            status=status,\n",
    "            message=message,\n",
    "            domo_instance=domo_instance,\n",
    "            parent_class=parent_class,\n",
    "        )\n",
    "\n",
    "\n",
    "@gd.route_function\n",
    "async def search_groups_by_name(\n",
    "    auth: dmda.DomoAuth,\n",
    "    search_name: str,\n",
    "    is_exact_match: bool = True,\n",
    "    debug_api: bool = False,\n",
    "    session: httpx.AsyncClient = None,\n",
    "    debug_num_stacks_to_drop=1,\n",
    "    parent_class: str = None,\n",
    ") -> rgd.ResponseGetData:\n",
    "    \"\"\"uses /content/v2/groups/grouplist api -- includes user details\"\"\"\n",
    "\n",
    "    url = f\"https://{auth.domo_instance}.domo.com/api/content/v2/groups/grouplist?ascending=true&search={search_name}&sort=name \"\n",
    "\n",
    "    res = await gd.get_data(\n",
    "        auth=auth,\n",
    "        url=url,\n",
    "        method=\"GET\",\n",
    "        debug_api=debug_api,\n",
    "        session=session,\n",
    "        parent_class=parent_class,\n",
    "        num_stacks_to_drop=debug_num_stacks_to_drop,\n",
    "    )\n",
    "    if not is_exact_match:\n",
    "        return res\n",
    "\n",
    "    match_group = next(\n",
    "        (group for group in res.response if group.get(\"name\") == search_name), None\n",
    "    )\n",
    "    # print(match_group)\n",
    "\n",
    "    if not match_group:\n",
    "        raise SearchGroups_Error(\n",
    "            status=res.status,\n",
    "            message=f\"There is no exact match for {search_name}\",\n",
    "            domo_instance=auth.domo_instance,\n",
    "            parent_class=parent_class,\n",
    "            function_name=res.traceback_details.function_name,\n",
    "        )\n",
    "    res.response = match_group\n",
    "\n",
    "    return res"
   ]
  },
  {
   "attachments": {},
   "cell_type": "markdown",
   "metadata": {},
   "source": [
    "#### Sample implementation of search_groups_by_name\n"
   ]
  },
  {
   "cell_type": "code",
   "execution_count": 5,
   "metadata": {},
   "outputs": [
    {
     "name": "stdout",
     "output_type": "stream",
     "text": [
      "🛑  SearchGroups_Error 🛑 - function: search_groups_by_name || status 200 || There is no exact match for Test Groupie at domo-community\n"
     ]
    }
   ],
   "source": [
    "import os\n",
    "\n",
    "token_auth = dmda.DomoTokenAuth(\n",
    "    domo_instance=\"domo-community\",\n",
    "    domo_access_token=os.environ[\"DOMO_DOJO_ACCESS_TOKEN\"],\n",
    ")\n",
    "search_name = \"Test Groupie\"\n",
    "try:\n",
    "    res = await search_groups_by_name(\n",
    "        auth=token_auth, search_name=search_name, debug_api=False\n",
    "    )\n",
    "    print(res)\n",
    "except SearchGroups_Error as e:\n",
    "    print(e)"
   ]
  },
  {
   "cell_type": "code",
   "execution_count": 6,
   "metadata": {},
   "outputs": [],
   "source": [
    "# | export\n",
    "\n",
    "@gd.route_function\n",
    "async def get_all_groups(\n",
    "    auth: dmda.DomoAuth, \n",
    "    session: httpx.AsyncClient = None,\n",
    "    debug_api: bool = False, \n",
    "    debug_loop : bool = False,\n",
    "    debug_num_stacks_to_drop : int = 1,\n",
    "    parent_class :str = None\n",
    ") -> rgd.ResponseGetData:\n",
    "    \"\"\"uses /content/v2/groups/grouplist api -- includes user details\"\"\"\n",
    "\n",
    "    url = f\"https://{auth.domo_instance}.domo.com/api/content/v2/groups/grouplist\"\n",
    "\n",
    "\n",
    "    def arr_fn(res):\n",
    "        return res.response\n",
    "\n",
    "    res = await gd.looper(\n",
    "        offset_params ={ \n",
    "            'offset' : 'offset',\n",
    "            'limit': 'limit'\n",
    "        },\n",
    "\n",
    "        arr_fn = arr_fn,\n",
    "        loop_until_end = True,\n",
    "        limit = 30,\n",
    "        url=url, method=\"GET\", \n",
    "        auth=auth, \n",
    "        session=session,\n",
    "        debug_loop =debug_loop,\n",
    "        debug_api = debug_api,\n",
    "        parent_class = parent_class,\n",
    "        debug_num_stacks_to_drop = debug_num_stacks_to_drop\n",
    "    )\n",
    "\n",
    "    return res"
   ]
  },
  {
   "attachments": {},
   "cell_type": "markdown",
   "metadata": {},
   "source": [
    "#### Sample implementation of get_all_groups\n"
   ]
  },
  {
   "cell_type": "code",
   "execution_count": 7,
   "metadata": {},
   "outputs": [
    {
     "name": "stdout",
     "output_type": "stream",
     "text": [
      "117 groups retrieved\n"
     ]
    },
    {
     "data": {
      "text/html": [
       "<div>\n",
       "<style scoped>\n",
       "    .dataframe tbody tr th:only-of-type {\n",
       "        vertical-align: middle;\n",
       "    }\n",
       "\n",
       "    .dataframe tbody tr th {\n",
       "        vertical-align: top;\n",
       "    }\n",
       "\n",
       "    .dataframe thead th {\n",
       "        text-align: right;\n",
       "    }\n",
       "</style>\n",
       "<table border=\"1\" class=\"dataframe\">\n",
       "  <thead>\n",
       "    <tr style=\"text-align: right;\">\n",
       "      <th></th>\n",
       "      <th>name</th>\n",
       "      <th>groupId</th>\n",
       "      <th>owners</th>\n",
       "      <th>groupType</th>\n",
       "      <th>groupMembers</th>\n",
       "      <th>memberCount</th>\n",
       "      <th>created</th>\n",
       "      <th>description</th>\n",
       "    </tr>\n",
       "  </thead>\n",
       "  <tbody>\n",
       "    <tr>\n",
       "      <th>0</th>\n",
       "      <td>ADM | Orientation</td>\n",
       "      <td>49793884</td>\n",
       "      <td>[{'type': 'GROUP', 'id': '49793884', 'displayN...</td>\n",
       "      <td>open</td>\n",
       "      <td>[{'type': 'USER', 'id': '908494860'}, {'type':...</td>\n",
       "      <td>15</td>\n",
       "      <td>2023-06-08 20:59:05.0</td>\n",
       "      <td></td>\n",
       "    </tr>\n",
       "  </tbody>\n",
       "</table>\n",
       "</div>"
      ],
      "text/plain": [
       "                name   groupId  \\\n",
       "0  ADM | Orientation  49793884   \n",
       "\n",
       "                                              owners groupType  \\\n",
       "0  [{'type': 'GROUP', 'id': '49793884', 'displayN...      open   \n",
       "\n",
       "                                        groupMembers  memberCount  \\\n",
       "0  [{'type': 'USER', 'id': '908494860'}, {'type':...           15   \n",
       "\n",
       "                 created description  \n",
       "0  2023-06-08 20:59:05.0              "
      ]
     },
     "execution_count": 7,
     "metadata": {},
     "output_type": "execute_result"
    }
   ],
   "source": [
    "import os\n",
    "import pandas as pd\n",
    "\n",
    "token_auth = dmda.DomoTokenAuth(\n",
    "    domo_instance=\"domo-community\",\n",
    "    domo_access_token=os.environ[\"DOMO_DOJO_ACCESS_TOKEN\"],\n",
    ")\n",
    "\n",
    "res = await get_all_groups(auth=token_auth)\n",
    "res_df = pd.DataFrame(res.response)\n",
    "\n",
    "print(f\"{len(res.response)} groups retrieved\")\n",
    "\n",
    "res_df[0:1]\n"
   ]
  },
  {
   "cell_type": "code",
   "execution_count": 8,
   "metadata": {},
   "outputs": [],
   "source": [
    "# | export\n",
    "\n",
    "@gd.route_function\n",
    "async def get_group_by_id(\n",
    "    auth: dmda.DomoAuth,\n",
    "    group_id: str,\n",
    "    debug_api: bool = False,\n",
    "    session: httpx.AsyncClient = None,\n",
    "    parent_class : str = None,\n",
    "    debug_num_stacks_to_drop : int = 1\n",
    ") -> rgd.ResponseGetData:\n",
    "\n",
    "    \"\"\"uses /content/v2/groups/ api -- does not return details\"\"\"\n",
    "\n",
    "    url = f\"https://{auth.domo_instance}.domo.com/api/content/v2/groups/{group_id}\"\n",
    "\n",
    "    res = await gd.get_data(\n",
    "        auth=auth, url=url, method=\"GET\", debug_api=debug_api, session=session,\n",
    "        parent_class = parent_class,\n",
    "        num_stacks_to_drop = debug_num_stacks_to_drop\n",
    "    )\n",
    "\n",
    "    if res.status == 404 and res.response == \"Not Found\":\n",
    "        raise SearchGroups_Error(\n",
    "            status=res.status,\n",
    "            message=f\"group {group_id} not found\",\n",
    "            domo_instance=auth.domo_instance,\n",
    "            function_name=\"get_group_by_id\",\n",
    "        )\n",
    "\n",
    "    return res"
   ]
  },
  {
   "cell_type": "code",
   "execution_count": 9,
   "metadata": {},
   "outputs": [
    {
     "data": {
      "text/plain": [
       "ResponseGetData(status=200, response={'id': 1259653287, 'name': 'Test Group 2_deleted_7ece7d46-48ef-11ee-b1a1-12193c00dc43', 'type': 'open', 'userIds': [], 'creatorId': 1893952720, 'memberCount': 0, 'guid': 'aabb6587-ad53-11ed-82c3-0a09ba383c95', 'description': 'update metadata - updated 2023-09-01', 'hidden': False, 'default': False, 'active': False}, is_success=True, parent_class=None)"
      ]
     },
     "execution_count": 9,
     "metadata": {},
     "output_type": "execute_result"
    }
   ],
   "source": [
    "token_auth = dmda.DomoTokenAuth(\n",
    "    domo_instance=\"domo-community\",\n",
    "    domo_access_token=os.environ[\"DOMO_DOJO_ACCESS_TOKEN\"],\n",
    ")\n",
    "\n",
    "await get_group_by_id(auth=token_auth, group_id=1259653287)"
   ]
  },
  {
   "cell_type": "code",
   "execution_count": 10,
   "metadata": {},
   "outputs": [],
   "source": [
    "# | export\n",
    "\n",
    "\n",
    "@gd.route_function\n",
    "async def toggle_system_group_visibility(\n",
    "    auth,\n",
    "    is_hide_system_groups: bool,\n",
    "    debug_api: bool = False,\n",
    "    debug_num_stacks_to_drop=1,\n",
    "    parent_class: str = None,\n",
    "    session: httpx.AsyncClient = None,\n",
    "):\n",
    "    print(\n",
    "        f\"toggling group visiblity in {auth.domo_instance} { 'hiding system groups' if is_hide_system_groups else 'show system groups'}\"\n",
    "    )\n",
    "\n",
    "    url = f\"https://{auth.domo_instance}.domo.com/api/content/v2/groups/setVisibility\"\n",
    "\n",
    "    await gd.get_data(\n",
    "        url=url,\n",
    "        method=\"POST\",\n",
    "        auth=auth,\n",
    "        body={\"type\": \"system\", \"hidden\": is_hide_system_groups},\n",
    "        debug_api=debug_api,\n",
    "        num_stacks_to_drop=debug_num_stacks_to_drop,\n",
    "        session=session,\n",
    "        parent_class=parent_class,\n",
    "    )\n",
    "\n",
    "    url = f\"https://{auth.domo_instance}.domo.com/api/customer/v1/properties/groups.system.enabled\"\n",
    "\n",
    "    return await gd.get_data(\n",
    "        url=url,\n",
    "        auth=auth,\n",
    "        method=\"GET\",\n",
    "        debug_api=debug_api,\n",
    "        num_stacks_to_drop=debug_num_stacks_to_drop,\n",
    "        session=session,\n",
    "        parent_class=parent_class,\n",
    "    )"
   ]
  },
  {
   "cell_type": "markdown",
   "metadata": {},
   "source": [
    "### sample toggle_group_visibility"
   ]
  },
  {
   "cell_type": "code",
   "execution_count": 11,
   "metadata": {},
   "outputs": [
    {
     "name": "stdout",
     "output_type": "stream",
     "text": [
      "toggling group visiblity in domo-community hiding system groups\n",
      "toggling group visiblity in domo-community show system groups\n",
      "there are 45 standard groups, and 117 groups including system groups\n"
     ]
    },
    {
     "data": {
      "text/plain": [
       "['Grant: Add new people',\n",
       " 'Grant: Assign achievements',\n",
       " 'Grant: Create DDX Apps',\n",
       " 'Grant: Create DomoApps',\n",
       " 'Grant: Create Forms']"
      ]
     },
     "execution_count": 11,
     "metadata": {},
     "output_type": "execute_result"
    }
   ],
   "source": [
    "import os\n",
    "import asyncio\n",
    "\n",
    "token_auth = dmda.DomoTokenAuth(\n",
    "    domo_instance=\"domo-community\",\n",
    "    domo_access_token=os.environ[\"DOMO_DOJO_ACCESS_TOKEN\"],\n",
    ")\n",
    "\n",
    "res = await toggle_system_group_visibility(auth =token_auth, is_hide_system_groups=True)\n",
    "\n",
    "res = await get_all_groups(auth = token_auth)\n",
    "all_groups = res.response\n",
    "\n",
    "res = await toggle_system_group_visibility(auth =token_auth, is_hide_system_groups=False)\n",
    "\n",
    "\n",
    "res = await get_all_groups(auth = token_auth)\n",
    "all_groups_with_hidden = res.response\n",
    "\n",
    "print(f\"there are {len(all_groups)} standard groups, and {len(all_groups_with_hidden)} groups including system groups\")\n",
    "\n",
    "[group['name'] for group in all_groups_with_hidden if group['groupId'] not in [ all_group['groupId'] for all_group in all_groups]][0:5]\n"
   ]
  },
  {
   "attachments": {},
   "cell_type": "markdown",
   "metadata": {},
   "source": [
    "# CRUD Routes\n"
   ]
  },
  {
   "cell_type": "code",
   "execution_count": 12,
   "metadata": {},
   "outputs": [],
   "source": [
    "# | export\n",
    "class Group_CRUD_Error(de.DomoError):\n",
    "    def __init__(\n",
    "        self,\n",
    "        status,\n",
    "        message,\n",
    "        domo_instance,\n",
    "        function_name=\"create_group\",\n",
    "        parent_class: str = None,\n",
    "    ):\n",
    "        super().__init__(\n",
    "            function_name=function_name,\n",
    "            status=status,\n",
    "            message=message,\n",
    "            domo_instance=domo_instance,\n",
    "            parent_class=parent_class,\n",
    "        )\n",
    "\n",
    "class GroupType_Enum(Enum):\n",
    "    OPEN = \"open\"\n",
    "    ADHOC = \"adHoc\"\n",
    "    CLOSED = \"closed\"\n",
    "    DIRECTORY = \"directory\"\n",
    "    DYNAMIC = \"dynamic\"\n",
    "    SYSYTEM = \"system\"\n",
    "\n",
    "\n",
    "def generate_body_create_group(\n",
    "    group_name: str, group_type: str = \"open\", description: str = \"\"\n",
    ") -> dict:\n",
    "    \"\"\"Generates the body to create group for content_v2_group API\"\"\"\n",
    "    body = {\"name\": group_name, \"type\": group_type, \"description\": description}\n",
    "\n",
    "    return body"
   ]
  },
  {
   "attachments": {},
   "cell_type": "markdown",
   "metadata": {},
   "source": [
    "#### sample_implementation of generate_body_create_group\n"
   ]
  },
  {
   "cell_type": "code",
   "execution_count": 13,
   "metadata": {},
   "outputs": [
    {
     "data": {
      "text/plain": [
       "{'name': 'test_group_name', 'type': 'adHoc', 'description': 'from jupyter'}"
      ]
     },
     "execution_count": 13,
     "metadata": {},
     "output_type": "execute_result"
    }
   ],
   "source": [
    "generate_body_create_group(\n",
    "    group_name=\"test_group_name\",\n",
    "    group_type=GroupType_Enum.ADHOC.value,\n",
    "    description=\"from jupyter\",\n",
    ")"
   ]
  },
  {
   "cell_type": "code",
   "execution_count": 14,
   "metadata": {},
   "outputs": [],
   "source": [
    "# | export\n",
    "\n",
    "\n",
    "@gd.route_function\n",
    "async def create_group(\n",
    "    auth: dmda.DomoAuth,\n",
    "    group_name: str,\n",
    "    group_type: str = \"open\",\n",
    "    description: str = \"\",\n",
    "    session: httpx.AsyncClient = None,\n",
    "    debug_api: bool = False,\n",
    "    debug_num_stacks_to_drop: int = 1,\n",
    "    parent_class: str = None,\n",
    "    return_raw: bool = False\n",
    ") -> rgd.ResponseGetData:\n",
    "    # body : {\"name\": \"GROUP_NAME\", \"type\": \"open\", \"description\": \"\"}\n",
    "\n",
    "    body = generate_body_create_group(\n",
    "        group_name=group_name, group_type=group_type, description=description\n",
    "    )\n",
    "    url = f\"https://{auth.domo_instance}.domo.com/api/content/v2/groups\"\n",
    "\n",
    "    res = await gd.get_data(\n",
    "        auth=auth,\n",
    "        url=url,\n",
    "        method=\"POST\",\n",
    "        body=body,\n",
    "        debug_api=debug_api,\n",
    "        session=session,\n",
    "        parent_class=parent_class,\n",
    "        num_stacks_to_drop=debug_num_stacks_to_drop,\n",
    "    )\n",
    "\n",
    "    if return_raw:\n",
    "        return res\n",
    "\n",
    "\n",
    "    if not res.is_success:\n",
    "        try:\n",
    "            group_exists = await search_groups_by_name(\n",
    "                auth=auth, search_name=group_name, is_exact_match=True\n",
    "            )\n",
    "\n",
    "            if group_exists.is_success:\n",
    "                raise Group_CRUD_Error(\n",
    "                    status=res.status,\n",
    "                    message=f\"{group_name} already exists. Choose a different group_name\",\n",
    "                    function_name=res.traceback_details.function_name,\n",
    "                    parent_class=parent_class,\n",
    "                    domo_instance = auth.domo_instance\n",
    "                )\n",
    "\n",
    "        except SearchGroups_Error as e:\n",
    "            raise Group_CRUD_Error(\n",
    "                status=res.status,\n",
    "                message=res.response,\n",
    "                domo_instance=auth.domo_instance,\n",
    "                function_name=res.traceback_details.function_name,\n",
    "                parent_class=parent_class,\n",
    "            )\n",
    "\n",
    "    return res"
   ]
  },
  {
   "attachments": {},
   "cell_type": "markdown",
   "metadata": {},
   "source": [
    "#### Sample implementation of create_group\n"
   ]
  },
  {
   "cell_type": "code",
   "execution_count": 15,
   "metadata": {},
   "outputs": [
    {
     "name": "stdout",
     "output_type": "stream",
     "text": [
      "🛑  Group_CRUD_Error 🛑 - function: create_group || status 400 || Test Group ABCD already exists. Choose a different group_name at domo-community\n"
     ]
    }
   ],
   "source": [
    "import os\n",
    "\n",
    "token_auth = dmda.DomoTokenAuth(\n",
    "    domo_instance=\"domo-community\",\n",
    "    domo_access_token=os.environ[\"DOMO_DOJO_ACCESS_TOKEN\"],\n",
    ")\n",
    "try:\n",
    "    res = await create_group(\n",
    "        auth=token_auth, group_name=\"Test Group ABCD\", debug_api=False\n",
    "    )\n",
    "    res.response\n",
    "\n",
    "except Group_CRUD_Error as e:\n",
    "    print(e)"
   ]
  },
  {
   "cell_type": "code",
   "execution_count": 16,
   "metadata": {},
   "outputs": [],
   "source": [
    "# | export\n",
    "\n",
    "@gd.route_function\n",
    "async def update_group(\n",
    "    auth: dmda.DomoAuth,\n",
    "    group_id: int,\n",
    "    group_name: str = None,\n",
    "    group_type: str = None,\n",
    "    description: str = None,\n",
    "    additional_params : dict = None,\n",
    "    debug_api: bool = False,\n",
    "    session: httpx.AsyncClient = None,\n",
    "    debug_num_stacks_to_drop=  1,\n",
    "    parent_class: str = None\n",
    ") -> rgd.ResponseGetData:\n",
    "\n",
    "    s = {\"groupId\": int(group_id)}\n",
    "    \n",
    "    if group_name: s.update({\"name\": group_name})\n",
    "    \n",
    "    if group_type: s.update({\"type\": group_type})\n",
    "    \n",
    "    if description: s.update({\"description\": description})\n",
    "\n",
    "    if additional_params and isinstance(additional_params, dict):\n",
    "        s.update({**additional_params})\n",
    "        pass\n",
    "\n",
    "    url = f\"https://{auth.domo_instance}.domo.com/api/content/v2/groups\"\n",
    "    \n",
    "    res = await gd.get_data(\n",
    "        auth=auth,\n",
    "        url=url,\n",
    "        method=\"PUT\",\n",
    "        body=[s],\n",
    "        debug_api=debug_api,\n",
    "        session=session,\n",
    "        parent_class = parent_class,\n",
    "        num_stacks_to_drop = debug_num_stacks_to_drop\n",
    "    )\n",
    "    \n",
    "    if group_name and res.status == 400:\n",
    "        raise Group_CRUD_Error(\n",
    "                status=res.status,\n",
    "                message=\"are you trying to create an account with a duplicate name?\",\n",
    "                domo_instance=auth.domo_instance,\n",
    "                function_name=res.traceback_details.function_name,\n",
    "                parent_class=parent_class,\n",
    "            )\n",
    "\n",
    "    if not res.is_success:\n",
    "        raise Group_CRUD_Error(\n",
    "                status=res.status,\n",
    "                message=res.response,\n",
    "                domo_instance=auth.domo_instance,\n",
    "                function_name=res.traceback_details.function_name,\n",
    "                parent_class=parent_class,\n",
    "            )\n",
    "\n",
    "    res.response = f\"updated {group_id} from {auth.domo_instance}\"\n",
    "    return res"
   ]
  },
  {
   "attachments": {},
   "cell_type": "markdown",
   "metadata": {},
   "source": [
    "#### sample implementation of update_group\n"
   ]
  },
  {
   "cell_type": "code",
   "execution_count": 17,
   "metadata": {},
   "outputs": [
    {
     "data": {
      "text/plain": [
       "ResponseGetData(status=200, response='updated 194176120 from domo-community', is_success=True, parent_class=None)"
      ]
     },
     "execution_count": 17,
     "metadata": {},
     "output_type": "execute_result"
    }
   ],
   "source": [
    "import os\n",
    "import datetime as dt\n",
    "\n",
    "token_auth = dmda.DomoTokenAuth(\n",
    "    domo_instance=\"domo-community\",\n",
    "    domo_access_token=os.environ[\"DOMO_DOJO_ACCESS_TOKEN\"],\n",
    ")\n",
    "\n",
    "group_id = 194176120\n",
    "\n",
    "await update_group(\n",
    "    auth=token_auth,\n",
    "    group_id=group_id,\n",
    "    group_name=\"Test Group ABCs\",\n",
    "    description=f\"updated via API on {dt.date.today()}\",\n",
    "    debug_api=False,\n",
    ")"
   ]
  },
  {
   "cell_type": "code",
   "execution_count": 18,
   "metadata": {},
   "outputs": [
    {
     "name": "stdout",
     "output_type": "stream",
     "text": [
      "🛑  Group_CRUD_Error 🛑 - function: update_group || status 400 || Bad Request at domo-community\n"
     ]
    }
   ],
   "source": [
    "# changing group types has restrictions\n",
    "\n",
    "import os\n",
    "import datetime as dt\n",
    "\n",
    "token_auth = dmda.DomoTokenAuth(\n",
    "    domo_instance=\"domo-community\",\n",
    "    domo_access_token=os.environ[\"DOMO_DOJO_ACCESS_TOKEN\"],\n",
    ")\n",
    "\n",
    "group_id = '1513712315'\n",
    "\n",
    "try:\n",
    "    await update_group(\n",
    "        auth=token_auth,\n",
    "        group_id=group_id,\n",
    "        # group_name=\"Test Group ABCs\",\n",
    "        group_type = 'open',\n",
    "        description=f\"updated via API on {dt.date.today()}\",\n",
    "        additional_params = {'dynamicDefinition': 'hello world'},\n",
    "        debug_api=False,\n",
    "\n",
    "    )\n",
    "\n",
    "except Exception as e:\n",
    "    print(e)"
   ]
  },
  {
   "cell_type": "code",
   "execution_count": 19,
   "metadata": {},
   "outputs": [],
   "source": [
    "# | export\n",
    "@gd.route_function\n",
    "async def delete_groups(\n",
    "    auth: dmda.DomoAuth,\n",
    "    group_ids: List[str], # list of group_ids\n",
    "    session: httpx.AsyncClient = None,\n",
    "    debug_api: bool = False,\n",
    "    debug_num_stacks_to_drop: int = 1,\n",
    "    parent_class: str = None,\n",
    "    return_raw: bool = False\n",
    ") -> rgd.ResponseGetData:\n",
    "\n",
    "    group_ids = group_ids if isinstance(group_ids , list) else [str(group_ids)]\n",
    "    \n",
    "    url = f\"https://{auth.domo_instance}.domo.com/api/content/v2/groups\"\n",
    "\n",
    "    res = await gd.get_data(\n",
    "        auth=auth,\n",
    "        url=url,\n",
    "        method=\"DELETE\",\n",
    "        body = group_ids ,\n",
    "        debug_api=debug_api,\n",
    "        session=session,\n",
    "        parent_class=parent_class,\n",
    "        num_stacks_to_drop=debug_num_stacks_to_drop,\n",
    "    )\n",
    "\n",
    "    if return_raw:\n",
    "        return res\n",
    "\n",
    "\n",
    "    if not res.is_success:\n",
    "        raise Group_CRUD_Error(\n",
    "                    status=res.status,\n",
    "                    message=f\"failed to delete {', '.join(group_ids)}\",\n",
    "                    function_name=res.traceback_details.function_name,\n",
    "                    parent_class=parent_class,\n",
    "                    domo_instance = auth.domo_instance\n",
    "                )\n",
    "    \n",
    "    res.response = f\"deleted {', '.join(group_ids)} from {auth.domo_instance}\"\n",
    "    return res"
   ]
  },
  {
   "cell_type": "code",
   "execution_count": 20,
   "metadata": {},
   "outputs": [
    {
     "data": {
      "text/markdown": [
       "---\n",
       "\n",
       "[source](https://github.com/jaewilson07/domo_library/blob/main/domolibrary/routes/group.py#L348){target=\"_blank\" style=\"float:right; font-size:smaller\"}\n",
       "\n",
       "### delete_groups\n",
       "\n",
       ">      delete_groups (auth:domolibrary.client.DomoAuth.DomoAuth,\n",
       ">                     group_ids:List[str], session:httpx.AsyncClient=None,\n",
       ">                     debug_api:bool=False, debug_num_stacks_to_drop:int=1,\n",
       ">                     parent_class:str=None, return_raw:bool=False)"
      ],
      "text/plain": [
       "---\n",
       "\n",
       "[source](https://github.com/jaewilson07/domo_library/blob/main/domolibrary/routes/group.py#L348){target=\"_blank\" style=\"float:right; font-size:smaller\"}\n",
       "\n",
       "### delete_groups\n",
       "\n",
       ">      delete_groups (auth:domolibrary.client.DomoAuth.DomoAuth,\n",
       ">                     group_ids:List[str], session:httpx.AsyncClient=None,\n",
       ">                     debug_api:bool=False, debug_num_stacks_to_drop:int=1,\n",
       ">                     parent_class:str=None, return_raw:bool=False)"
      ]
     },
     "execution_count": 20,
     "metadata": {},
     "output_type": "execute_result"
    }
   ],
   "source": [
    "show_doc(delete_groups)"
   ]
  },
  {
   "cell_type": "code",
   "execution_count": 21,
   "metadata": {},
   "outputs": [],
   "source": [
    "import os\n",
    "import datetime as dt\n",
    "import asyncio\n",
    "\n",
    "token_auth = dmda.DomoTokenAuth(\n",
    "    domo_instance=\"domo-community\",\n",
    "    domo_access_token=os.environ[\"DOMO_DOJO_ACCESS_TOKEN\"],\n",
    ")\n",
    "\n",
    "try:\n",
    "    res = await create_group(\n",
    "        auth=token_auth,\n",
    "        group_name=\"hello world\",\n",
    "        description=f\"updated via API on {dt.date.today()}\",\n",
    "        debug_api=False,\n",
    "    )\n",
    "\n",
    "    group_id = res.response.get(\"id\")\n",
    "    group_id    \n",
    "\n",
    "\n",
    "    await delete_groups(auth=token_auth, group_ids=group_id, debug_api=False)\n",
    "\n",
    "except Exception as e:\n",
    "    print(e)"
   ]
  },
  {
   "attachments": {},
   "cell_type": "markdown",
   "metadata": {},
   "source": [
    "# Group Membership\n",
    "## GET  Group Ownership"
   ]
  },
  {
   "cell_type": "code",
   "execution_count": 22,
   "metadata": {},
   "outputs": [],
   "source": [
    "# | export\n",
    "@gd.route_function\n",
    "async def get_group_owners(\n",
    "    auth: dmda.DomoAuth,\n",
    "    group_id: str,\n",
    "    return_raw: bool = False,\n",
    "    debug_api: bool = False,\n",
    "    session: httpx.AsyncClient = None,\n",
    "    parent_class : str = None,\n",
    "    debug_num_stacks_to_drop = 1,\n",
    ") -> rgd.ResponseGetData:\n",
    "\n",
    "    # url = f\"https://{auth.domo_instance}.domo.com/api/content/v2/groups/access\"\n",
    "    # url = f\"https://{auth.domo_instance}.domo.com/api/content/v2/groups/users?group={group_id}\"\n",
    "    url = f'https://{auth.domo_instance}.domo.com/api/content/v2/groups/permissions?checkOwnership=true&includeUsers=false'\n",
    "\n",
    "    res = await gd.get_data(\n",
    "        auth=auth,\n",
    "        url=url,\n",
    "        body = [str(group_id)],\n",
    "        method=\"POST\",\n",
    "        debug_api=debug_api,\n",
    "        session=session,\n",
    "        parent_class = parent_class,\n",
    "        num_stacks_to_drop = debug_num_stacks_to_drop\n",
    "    )\n",
    "\n",
    "    if return_raw:\n",
    "        return res\n",
    "\n",
    "    res.response = res.response[0].get('permissions').get('owners')\n",
    "    return res\n",
    "\n"
   ]
  },
  {
   "attachments": {},
   "cell_type": "markdown",
   "metadata": {},
   "source": [
    "#### sample implementation of get_ownership"
   ]
  },
  {
   "cell_type": "code",
   "execution_count": 23,
   "metadata": {},
   "outputs": [
    {
     "data": {
      "text/html": [
       "<div>\n",
       "<style scoped>\n",
       "    .dataframe tbody tr th:only-of-type {\n",
       "        vertical-align: middle;\n",
       "    }\n",
       "\n",
       "    .dataframe tbody tr th {\n",
       "        vertical-align: top;\n",
       "    }\n",
       "\n",
       "    .dataframe thead th {\n",
       "        text-align: right;\n",
       "    }\n",
       "</style>\n",
       "<table border=\"1\" class=\"dataframe\">\n",
       "  <thead>\n",
       "    <tr style=\"text-align: right;\">\n",
       "      <th></th>\n",
       "      <th>type</th>\n",
       "      <th>id</th>\n",
       "      <th>displayName</th>\n",
       "    </tr>\n",
       "  </thead>\n",
       "  <tbody>\n",
       "    <tr>\n",
       "      <th>0</th>\n",
       "      <td>GROUP</td>\n",
       "      <td>1781661643</td>\n",
       "      <td>TestMembership</td>\n",
       "    </tr>\n",
       "    <tr>\n",
       "      <th>1</th>\n",
       "      <td>GROUP</td>\n",
       "      <td>822382906</td>\n",
       "      <td>Grant: Manage all groups</td>\n",
       "    </tr>\n",
       "    <tr>\n",
       "      <th>2</th>\n",
       "      <td>USER</td>\n",
       "      <td>1893952720</td>\n",
       "      <td>Jae Wilson1</td>\n",
       "    </tr>\n",
       "  </tbody>\n",
       "</table>\n",
       "</div>"
      ],
      "text/plain": [
       "    type          id               displayName\n",
       "0  GROUP  1781661643            TestMembership\n",
       "1  GROUP   822382906  Grant: Manage all groups\n",
       "2   USER  1893952720               Jae Wilson1"
      ]
     },
     "execution_count": 23,
     "metadata": {},
     "output_type": "execute_result"
    }
   ],
   "source": [
    "import os\n",
    "import pandas as pd\n",
    "\n",
    "token_auth = dmda.DomoTokenAuth(\n",
    "    domo_instance=\"domo-community\",\n",
    "    domo_access_token=os.environ[\"DOMO_DOJO_ACCESS_TOKEN\"],\n",
    ")\n",
    "\n",
    "group_id = 1781661643\n",
    "\n",
    "res = await get_group_owners(auth=token_auth,\n",
    "                           group_id=group_id,\n",
    "                           )\n",
    "\n",
    "pd.DataFrame(res.response)"
   ]
  },
  {
   "cell_type": "code",
   "execution_count": 24,
   "metadata": {},
   "outputs": [],
   "source": [
    "# | export\n",
    "\n",
    "@gd.route_function\n",
    "async def get_group_membership(\n",
    "    auth: dmda.DomoAuth,\n",
    "    group_id: str,\n",
    "    return_raw: bool = False,\n",
    "    debug_api: bool = False,\n",
    "    session: httpx.AsyncClient = None,\n",
    "    parent_class : str = None,\n",
    "    debug_num_stacks_to_drop : int = 1\n",
    ") -> rgd.ResponseGetData:\n",
    "\n",
    "    # url = f\"https://{auth.domo_instance}.domo.com/api/content/v2/groups/access\"\n",
    "    url = f\"https://{auth.domo_instance}.domo.com/api/content/v2/groups/users?group={group_id}\"\n",
    "\n",
    "    res = await gd.get_data(\n",
    "        auth=auth,\n",
    "        url=url,\n",
    "        method=\"GET\",\n",
    "        debug_api=debug_api,\n",
    "        session=session,\n",
    "        parent_class = parent_class,\n",
    "        num_stacks_to_drop = debug_num_stacks_to_drop\n",
    "    )\n",
    "\n",
    "    if return_raw:\n",
    "        return res\n",
    "\n",
    "    res.response = res.response.get('groupUserList')\n",
    "    return res"
   ]
  },
  {
   "attachments": {},
   "cell_type": "markdown",
   "metadata": {},
   "source": [
    "#### sample implementation of get_membership"
   ]
  },
  {
   "cell_type": "code",
   "execution_count": 25,
   "metadata": {},
   "outputs": [
    {
     "data": {
      "text/html": [
       "<div>\n",
       "<style scoped>\n",
       "    .dataframe tbody tr th:only-of-type {\n",
       "        vertical-align: middle;\n",
       "    }\n",
       "\n",
       "    .dataframe tbody tr th {\n",
       "        vertical-align: top;\n",
       "    }\n",
       "\n",
       "    .dataframe thead th {\n",
       "        text-align: right;\n",
       "    }\n",
       "</style>\n",
       "<table border=\"1\" class=\"dataframe\">\n",
       "  <thead>\n",
       "    <tr style=\"text-align: right;\">\n",
       "      <th></th>\n",
       "      <th>userId</th>\n",
       "      <th>role</th>\n",
       "      <th>roleId</th>\n",
       "      <th>lastSignIn</th>\n",
       "      <th>location</th>\n",
       "    </tr>\n",
       "  </thead>\n",
       "  <tbody>\n",
       "    <tr>\n",
       "      <th>0</th>\n",
       "      <td>696468809</td>\n",
       "      <td>Community_Default_Priviliged</td>\n",
       "      <td>2097317660</td>\n",
       "      <td>2021-04-19 16:36:26.944</td>\n",
       "      <td>NaN</td>\n",
       "    </tr>\n",
       "    <tr>\n",
       "      <th>1</th>\n",
       "      <td>1345737456</td>\n",
       "      <td>Privileged</td>\n",
       "      <td>2</td>\n",
       "      <td>2023-11-21 18:03:04.0</td>\n",
       "      <td></td>\n",
       "    </tr>\n",
       "    <tr>\n",
       "      <th>2</th>\n",
       "      <td>1141078945</td>\n",
       "      <td>Community_Default_Priviliged</td>\n",
       "      <td>2097317660</td>\n",
       "      <td>2021-04-28 03:58:56.0</td>\n",
       "      <td>NaN</td>\n",
       "    </tr>\n",
       "  </tbody>\n",
       "</table>\n",
       "</div>"
      ],
      "text/plain": [
       "       userId                          role      roleId  \\\n",
       "0   696468809  Community_Default_Priviliged  2097317660   \n",
       "1  1345737456                    Privileged           2   \n",
       "2  1141078945  Community_Default_Priviliged  2097317660   \n",
       "\n",
       "                lastSignIn location  \n",
       "0  2021-04-19 16:36:26.944      NaN  \n",
       "1    2023-11-21 18:03:04.0           \n",
       "2    2021-04-28 03:58:56.0      NaN  "
      ]
     },
     "execution_count": 25,
     "metadata": {},
     "output_type": "execute_result"
    }
   ],
   "source": [
    "import os\n",
    "import pandas as pd\n",
    "\n",
    "token_auth = dmda.DomoTokenAuth(\n",
    "    domo_instance=\"domo-community\",\n",
    "    domo_access_token=os.environ[\"DOMO_DOJO_ACCESS_TOKEN\"],\n",
    ")\n",
    "\n",
    "group_id = 1781661643\n",
    "\n",
    "res = await get_group_membership(auth=token_auth,\n",
    "                           group_id=group_id,\n",
    "                           )\n",
    "\n",
    "pd.DataFrame(res.response)"
   ]
  },
  {
   "attachments": {},
   "cell_type": "markdown",
   "metadata": {},
   "source": [
    "## CRUD Group Membership"
   ]
  },
  {
   "cell_type": "code",
   "execution_count": 26,
   "metadata": {},
   "outputs": [],
   "source": [
    "#| exporti\n",
    "def generate_body_update_group_membership_entity(user_id: Union[str, int],\n",
    "                                                 user_type: str  # USER or GROUP\n",
    "                                                 ):\n",
    "    if user_type == 'USER':\n",
    "        return {\"type\": \"USER\", \"id\": str(user_id)}\n",
    "    elif user_type == 'GROUP':\n",
    "        return {\"type\": \"GROUP\", \"id\": int(user_id)}\n"
   ]
  },
  {
   "cell_type": "code",
   "execution_count": 27,
   "metadata": {},
   "outputs": [],
   "source": [
    "# | export\n",
    "def generate_body_update_group_membership(group_id: str,\n",
    "                                          add_member_arr: list[str] = None,\n",
    "                                          remove_member_arr: list[str] = None,\n",
    "\n",
    "                                          add_owner_arr: list[str] = None,\n",
    "                                          remove_owner_arr: list[str] = None) -> list[dict]:\n",
    "    \"\"\"\n",
    "    each member or owner obj should be an object of shape {\"type\", \"id\"}\n",
    "    \"\"\"\n",
    "\n",
    "    body = {\"groupId\": int(group_id)}\n",
    "\n",
    "    if add_owner_arr and len(add_owner_arr) > 0 :\n",
    "        body.update({\"addOwners\": [generate_body_update_group_membership_entity(\n",
    "            user_id=obj.get('id'), user_type=obj.get('type')) for obj in add_owner_arr]})\n",
    "\n",
    "    if remove_owner_arr and len(remove_owner_arr) > 0:\n",
    "        body.update({\"removeOwners\": [generate_body_update_group_membership_entity(\n",
    "            user_id=obj.get('id'), user_type=obj.get('type')) for obj in remove_owner_arr]})\n",
    "\n",
    "    if remove_member_arr and len(remove_member_arr) > 0:\n",
    "        body.update({\"removeMembers\": [\n",
    "                    generate_body_update_group_membership_entity(user_id=obj.get('id'), user_type=obj.get('type')) for obj in remove_member_arr]})\n",
    "    if add_member_arr and len(add_member_arr) > 0:\n",
    "        body.update(\n",
    "            {\"addMembers\": [generate_body_update_group_membership_entity(user_id=obj.get('id'), user_type=obj.get('type')) for obj in add_member_arr]})\n",
    "\n",
    "    return [body]\n"
   ]
  },
  {
   "cell_type": "code",
   "execution_count": 28,
   "metadata": {},
   "outputs": [],
   "source": [
    "# | export\n",
    "gd.route_function\n",
    "async def update_group_membership(\n",
    "    auth: dmda.DomoAuth,\n",
    "    group_id: str,\n",
    "    add_member_arr: list[dict] = None,\n",
    "    remove_member_arr: list[dict] = None,\n",
    "    add_owner_arr: list[dict] = None,\n",
    "    remove_owner_arr: list[dict] = None,\n",
    "    debug_api: bool = False,\n",
    "    session: httpx.AsyncClient = None,\n",
    "    parent_class:str = None,\n",
    "    debug_num_stacks_to_drop : int = 1,\n",
    ") -> rgd.ResponseGetData:\n",
    "\n",
    "    \"\"\"\n",
    "    each member or owner obj should be an object of shape {\"type\", \"id\"}\n",
    "    \"\"\"\n",
    "\n",
    "    body = generate_body_update_group_membership(group_id = group_id,\n",
    "                                                 add_member_arr = add_member_arr,\n",
    "                                                 remove_member_arr= remove_member_arr,\n",
    "                                                 add_owner_arr = add_owner_arr,\n",
    "                                                 remove_owner_arr = remove_owner_arr)\n",
    "\n",
    "    # body = [{\n",
    "    #     \"groupId\":\"GROUP_ID\",\n",
    "    #     \"removeMembers\": [{\"type\":\"USER\",\"id\":\"USER_ID\"}],\n",
    "    #     \"addMembers\"   : [{\"type\":\"USER\",\"id\":\"USER_ID\"}]\n",
    "    # }]\n",
    "    url = f\"https://{auth.domo_instance}.domo.com/api/content/v2/groups/access\"\n",
    "\n",
    "    if debug_api:\n",
    "        print(url, body)\n",
    "\n",
    "    res = await gd.get_data(\n",
    "        auth=auth,\n",
    "        url=url,\n",
    "        method=\"PUT\",\n",
    "        body=body,\n",
    "        debug_api=debug_api,\n",
    "        session=session,\n",
    "        num_stacks_to_drop = debug_num_stacks_to_drop,\n",
    "        parent_class = parent_class,\n",
    "\n",
    "    )\n",
    "\n",
    "    return res\n"
   ]
  },
  {
   "attachments": {},
   "cell_type": "markdown",
   "metadata": {},
   "source": [
    "#### Sample implementation of generate_body_update_group_membership and update_group_membership\n"
   ]
  },
  {
   "cell_type": "code",
   "execution_count": 29,
   "metadata": {},
   "outputs": [
    {
     "data": {
      "text/plain": [
       "ResponseGetData(status=403, response='Forbidden', is_success=False, parent_class=None)"
      ]
     },
     "execution_count": 29,
     "metadata": {},
     "output_type": "execute_result"
    }
   ],
   "source": [
    "import os\n",
    "\n",
    "token_auth = dmda.DomoTokenAuth(\n",
    "    domo_instance=\"domo-community\",\n",
    "    domo_access_token=os.environ[\"DOMO_DOJO_ACCESS_TOKEN\"],\n",
    ")\n",
    "\n",
    "group_id = 250707376\n",
    "\n",
    "add_user_obj = {'id':  os.environ[\"DOMO_DOJO_USER_ID\"],\n",
    "                'type': 'USER'}\n",
    "\n",
    "await update_group_membership(auth=token_auth, \n",
    "                        group_id=group_id,\n",
    "                                    add_member_arr=[add_user_obj], \n",
    "                                    add_owner_arr=[add_user_obj])\n"
   ]
  },
  {
   "cell_type": "code",
   "execution_count": 30,
   "metadata": {},
   "outputs": [],
   "source": [
    "# | hide\n",
    "import nbdev\n",
    "\n",
    "nbdev.nbdev_export()"
   ]
  }
 ],
 "metadata": {
  "jupytext": {
   "split_at_heading": true
  },
  "kernelspec": {
   "display_name": "python3",
   "language": "python",
   "name": "python3"
  },
  "language_info": {
   "codemirror_mode": {
    "name": "ipython",
    "version": 3
   },
   "file_extension": ".py",
   "mimetype": "text/x-python",
   "name": "python",
   "nbconvert_exporter": "python",
   "pygments_lexer": "ipython3",
   "version": "3.10.13"
  }
 },
 "nbformat": 4,
 "nbformat_minor": 4
}
