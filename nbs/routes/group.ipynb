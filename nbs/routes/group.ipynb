{
  "cells": [
    {
      "cell_type": "raw",
      "metadata": {},
      "source": [
        "---\n",
        "output-file: group_routes.html\n",
        "title: Group Routes\n",
        "---"
      ]
    },
    {
      "cell_type": "code",
      "execution_count": null,
      "metadata": {},
      "outputs": [],
      "source": [
        "#| default_exp routes.group"
      ]
    },
    {
      "cell_type": "code",
      "execution_count": null,
      "metadata": {},
      "outputs": [],
      "source": [
        "#| exporti\n",
        "import httpx\n",
        "\n",
        "import domolibrary.client.get_data as gd\n",
        "import domolibrary.client.ResponseGetData as rgd\n",
        "import domolibrary.client.DomoAuth as dmda\n",
        "import domolibrary.client.DomoError as de"
      ]
    },
    {
      "cell_type": "code",
      "execution_count": null,
      "metadata": {},
      "outputs": [],
      "source": [
        "# | export\n",
        "def generate_body_create_group(group_name: str,\n",
        "                               group_type: str = 'open',\n",
        "                               description: str = '') -> dict:\n",
        "    \"\"\" Generates the body to create group for content_v2_group API\"\"\"\n",
        "    body = {\"name\": group_name, \n",
        "            \"type\": group_type,\n",
        "            \"description\": description}\n",
        "\n",
        "    return body"
      ]
    },
    {
      "attachments": {},
      "cell_type": "markdown",
      "metadata": {},
      "source": [
        "#### sample implementation of generate_body_create_group"
      ]
    },
    {
      "cell_type": "code",
      "execution_count": null,
      "metadata": {},
      "outputs": [
        {
          "data": {
            "text/plain": [
              "{'name': 'test_group_name', 'type': 'open', 'description': 'from jupyter'}"
            ]
          },
          "execution_count": null,
          "metadata": {},
          "output_type": "execute_result"
        }
      ],
      "source": [
        "generate_body_create_group(\n",
        "    group_name='test_group_name', \n",
        "    group_type='open', \n",
        "    description='from jupyter')\n"
      ]
    },
    {
      "cell_type": "code",
      "execution_count": null,
      "metadata": {},
      "outputs": [],
      "source": [
        "#| export\n",
        "class CreateGroup_Error(de.DomoError):\n",
        "    def __init__(self, status, message, domo_instance, function_name = \"create_group\"):\n",
        "        super().__init__(function_name = function_name, status = status, message = message , domo_instance = domo_instance)\n",
        "\n",
        "async def create_group(auth: dmda.DomoAuth,\n",
        "                       group_name: str,\n",
        "                       group_type: str = 'open',\n",
        "                       description: str = '',\n",
        "                       debug_api: bool = False,\n",
        "                       session: httpx.AsyncClient = None\n",
        "                       ) -> rgd.ResponseGetData:\n",
        "    # body : {\"name\": \"GROUP_NAME\", \"type\": \"open\", \"description\": \"\"}\n",
        "\n",
        "    body = generate_body_create_group(\n",
        "        group_name=group_name, group_type=group_type, description=description)\n",
        "\n",
        "    url = f'https://{auth.domo_instance}.domo.com/api/content/v2/groups/'\n",
        "\n",
        "    res= await gd.get_data(\n",
        "        auth=auth,\n",
        "        url=url,\n",
        "        method='POST',\n",
        "        body=body,\n",
        "        debug_api=debug_api,\n",
        "        session = session\n",
        "    )\n",
        "\n",
        "    if not res.is_success:\n",
        "        raise CreateGroup_Error(\n",
        "            status = res.status, \n",
        "            message = res.response,\n",
        "            domo_instance = auth.domo_instance, \n",
        "            function_name=\"create_group\")\n",
        "\n",
        "    return res\n"
      ]
    },
    {
      "attachments": {},
      "cell_type": "markdown",
      "metadata": {},
      "source": [
        "#### Sample implementation of create_group"
      ]
    },
    {
      "cell_type": "code",
      "execution_count": null,
      "metadata": {},
      "outputs": [
        {
          "name": "stdout",
          "output_type": "stream",
          "text": [
            "create_group: Status 400 - Bad Request at domo-community\n"
          ]
        }
      ],
      "source": [
        "import os\n",
        "\n",
        "token_auth = dmda.DomoTokenAuth(\n",
        "    domo_instance=\"domo-community\", \n",
        "    domo_access_token=os.environ[\"DOMO_DOJO_ACCESS_TOKEN\"]\n",
        ")\n",
        "try:\n",
        "    res = await create_group(auth=token_auth, group_name='Test Group 2', debug_api=False)\n",
        "    res.response\n",
        "\n",
        "except CreateGroup_Error as e:\n",
        "    print(e)"
      ]
    },
    {
      "cell_type": "code",
      "execution_count": null,
      "metadata": {},
      "outputs": [],
      "source": [
        "# #| export\n",
        "# async def get_all_groups(auth: dmda.DomoAuth,\n",
        "#                          log_results: bool = False,\n",
        "#                          debug: bool = False,\n",
        "#                          session: httpx.AsyncClient = None) -> rgd:\n",
        "#     if debug:\n",
        "#         print(auth)\n",
        "\n",
        "#     url = f'https://{auth.domo_instance}.domo.com/api/content/v2/groups/grouplist'\n",
        "\n",
        "#     if debug:\n",
        "#         print(auth, url)\n",
        "\n",
        "#     if log_results:\n",
        "#         print(f'Getting groups from - {url}')\n",
        "\n",
        "#     res = await gd(url=url, method='GET', auth=auth, session=session)\n",
        "\n",
        "#     return res"
      ]
    },
    {
      "cell_type": "code",
      "execution_count": null,
      "metadata": {},
      "outputs": [],
      "source": [
        "# #| export\n",
        "# async def search_groups_by_name(auth: DomoFullAuth,\n",
        "#                                 search_name: str,\n",
        "#                                 debug: bool = False, log_results: bool = False) -> rgd:\n",
        "#     url = f'https://{auth.domo_instance}.domo.com/api/content/v2/groups/grouplist?ascending=true&search={search_name}&sort=name '\n",
        "\n",
        "#     res = await gd(\n",
        "#         auth=auth,\n",
        "#         url=url,\n",
        "#         method='GET',\n",
        "#         debug=debug,\n",
        "#         log_results=log_results\n",
        "#     )\n",
        "#     return res"
      ]
    },
    {
      "cell_type": "code",
      "execution_count": null,
      "metadata": {},
      "outputs": [],
      "source": [
        "#| export\n",
        "def generate_body_update_group_membership(group_id: str,\n",
        "                                          add_user_arr: list[str] = None,\n",
        "                                          remove_user_arr: list[str] = None,\n",
        "                                          add_owner_user_arr: list[str] = None,\n",
        "                                          remove_owner_user_arr: list[str] = None) -> list[dict]:\n",
        "    body = {\"groupId\": int(group_id)}\n",
        "    if add_owner_user_arr:\n",
        "        body.update({\"addOwners\": [{\"type\": \"USER\", \"id\": str(\n",
        "            userId)} for userId in add_owner_user_arr]})\n",
        "\n",
        "    if remove_owner_user_arr:\n",
        "        body.update({\"removeOwners\": [{\"type\": \"USER\", \"id\": str(\n",
        "            userId)} for userId in remove_owner_user_arr]})\n",
        "\n",
        "    if remove_user_arr:\n",
        "        body.update({\"removeMembers\": [\n",
        "                    {\"type\": \"USER\", \"id\": str(userId)} for userId in remove_user_arr]})\n",
        "    if add_user_arr:\n",
        "        body.update(\n",
        "            {\"addMembers\": [{\"type\": \"USER\", \"id\": str(userId)} for userId in add_user_arr]})\n",
        "\n",
        "    return [body]"
      ]
    },
    {
      "cell_type": "code",
      "execution_count": null,
      "metadata": {},
      "outputs": [],
      "source": [
        "# #| export\n",
        "# async def update_group_membership(auth: DomoFullAuth,\n",
        "#                                   body: dict,\n",
        "#                                   log_results: bool = False, debug: bool = False) -> ResponseGetData:\n",
        "#     # body = [{\n",
        "#     #     \"groupId\":\"GROUP_ID\",\n",
        "#     #     \"removeMembers\": [{\"type\":\"USER\",\"id\":\"USER_ID\"}],\n",
        "#     #     \"addMembers\"   : [{\"type\":\"USER\",\"id\":\"USER_ID\"}]\n",
        "#     # }]\n",
        "\n",
        "#     url = f'https://{auth.domo_instance}.domo.com/api/content/v2/groups/access'\n",
        "\n",
        "#     if debug:\n",
        "#         print(url, body)\n",
        "\n",
        "#     res = await gd(\n",
        "#         auth=auth,\n",
        "#         url=url,\n",
        "#         method='PUT',\n",
        "#         body=body,\n",
        "#         debug=debug\n",
        "#     )\n",
        "\n",
        "#     return res"
      ]
    },
    {
      "cell_type": "code",
      "execution_count": null,
      "metadata": {},
      "outputs": [],
      "source": [
        "# #| export\n",
        "# async def get_group_by_id(auth:DomoFullAuth, group_id:id, debug:bool = False) -> ResponseGetData:\n",
        "#     url = f'https://{auth.domo_instance}.domo.com/api/content/v2/groups/{group_id}'\n",
        "\n",
        "#     if debug:\n",
        "#         print(url)\n",
        "\n",
        "#     res = await gd(\n",
        "#         auth=auth,\n",
        "#         url=url,\n",
        "#         method='GET',\n",
        "#         debug=debug\n",
        "#     )\n",
        "\n",
        "#     return res"
      ]
    },
    {
      "cell_type": "code",
      "execution_count": null,
      "metadata": {},
      "outputs": [],
      "source": [
        "#| hide\n",
        "import nbdev\n",
        "nbdev.nbdev_export()\n"
      ]
    }
  ],
  "metadata": {
    "jupytext": {
      "split_at_heading": true
    },
    "kernelspec": {
      "display_name": "Python 3",
      "language": "python",
      "name": "python3"
    }
  },
  "nbformat": 4,
  "nbformat_minor": 4
}
