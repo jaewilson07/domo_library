{
  "cells": [
    {
      "cell_type": "raw",
      "metadata": {},
      "source": [
        "---\n",
        "output-file: routes.group.html\n",
        "title: Group Routes\n",
        "---"
      ]
    },
    {
      "cell_type": "markdown",
      "metadata": {},
      "source": []
    },
    {
      "cell_type": "markdown",
      "metadata": {},
      "source": []
    },
    {
      "cell_type": "code",
      "execution_count": 20,
      "metadata": {},
      "outputs": [],
      "source": [
        "#| default_exp routes.group"
      ]
    },
    {
      "cell_type": "code",
      "execution_count": 21,
      "metadata": {},
      "outputs": [],
      "source": [
        "#| exporti\n",
        "import httpx\n",
        "from enum import Enum\n",
        "\n",
        "import domolibrary.client.get_data as gd\n",
        "import domolibrary.client.ResponseGetData as rgd\n",
        "import domolibrary.client.DomoAuth as dmda\n",
        "import domolibrary.client.DomoError as de"
      ]
    },
    {
      "cell_type": "code",
      "execution_count": 22,
      "metadata": {},
      "outputs": [],
      "source": [
        "# | export\n",
        "class GroupType_Enum(Enum):\n",
        "        OPEN = 'open'\n",
        "        ADHOC = 'adHoc'\n",
        "        CLOSED = 'closed'\n",
        "        DIRECTORY = 'directory'\n",
        "        DYNAMIC = 'dynamic'\n",
        "        SYSYTEM = 'system'\n",
        "\n",
        "def generate_body_create_group(group_name: str,\n",
        "                               group_type: str = 'open',\n",
        "                               description: str = '') -> dict:\n",
        "    \"\"\" Generates the body to create group for content_v2_group API\"\"\"\n",
        "    body = {\"name\": group_name, \n",
        "            \"type\": group_type,\n",
        "            \"description\": description}\n",
        "\n",
        "    return body"
      ]
    },
    {
      "attachments": {},
      "cell_type": "markdown",
      "metadata": {},
      "source": [
        "#### sample implementation of generate_body_create_group"
      ]
    },
    {
      "cell_type": "code",
      "execution_count": 23,
      "metadata": {},
      "outputs": [
        {
          "data": {
            "text/plain": [
              "{'name': 'test_group_name', 'type': 'adHoc', 'description': 'from jupyter'}"
            ]
          },
          "execution_count": 23,
          "metadata": {},
          "output_type": "execute_result"
        }
      ],
      "source": [
        "generate_body_create_group(\n",
        "    group_name='test_group_name',\n",
        "    group_type= GroupType_Enum.ADHOC.value,\n",
        "    description='from jupyter')\n"
      ]
    },
    {
      "cell_type": "code",
      "execution_count": 24,
      "metadata": {},
      "outputs": [],
      "source": [
        "#| export\n",
        "class SearchGroups_Error(de.DomoError):\n",
        "    def __init__(self, status, message, domo_instance, function_name = \"search_groups_by_name\"):\n",
        "        super().__init__(function_name = function_name, status = status, message = message , domo_instance = domo_instance)\n",
        "        \n",
        "async def search_groups_by_name(auth: dmda.DomoAuth,\n",
        "                                search_name: str,\n",
        "                                is_exact_match: bool = True,\n",
        "                                debug_api: bool = False,\n",
        "                                session: httpx.AsyncClient = None\n",
        "                                ) -> rgd.ResponseGetData:\n",
        "    \"\"\"uses /content/v2/groups/grouplist api -- includes user details\"\"\"\n",
        "\n",
        "    url = f'https://{auth.domo_instance}.domo.com/api/content/v2/groups/grouplist?ascending=true&search={search_name}&sort=name '\n",
        "\n",
        "    res = await gd.get_data(\n",
        "        auth=auth,\n",
        "        url=url,\n",
        "        method='GET',\n",
        "        debug_api=debug_api,\n",
        "        session = session\n",
        "    )\n",
        "    if not is_exact_match:\n",
        "        return res\n",
        "    \n",
        "    match_group = next((group for group in res.response if group.get('name') == search_name), None)\n",
        "    #print(match_group)\n",
        "    \n",
        "    if not match_group:\n",
        "        raise SearchGroups_Error(\n",
        "            status=res.status,\n",
        "            message=f'There is no exact match for {search_name}',\n",
        "            domo_instance=auth.domo_instance\n",
        "        )\n",
        "    res.response = match_group\n",
        "    \n",
        "    return res\n"
      ]
    },
    {
      "attachments": {},
      "cell_type": "markdown",
      "metadata": {},
      "source": [
        "#### Sample implementation of search_groups_by_name"
      ]
    },
    {
      "cell_type": "code",
      "execution_count": 25,
      "metadata": {},
      "outputs": [
        {
          "name": "stdout",
          "output_type": "stream",
          "text": [
            "ResponseGetData(status=200, response={'name': 'Test Group 2', 'groupId': 1259653287, 'owners': [{'type': 'GROUP', 'id': '822382906', 'displayName': 'Grant: Manage all groups'}, {'type': 'USER', 'id': '1893952720', 'displayName': 'Jae Wilson1'}, {'type': 'GROUP', 'id': '1259653287', 'displayName': 'Test Group 2'}, {'type': 'GROUP', 'id': '2146122228', 'displayName': 'test'}], 'groupType': 'open', 'groupMembers': [{'type': 'USER', 'id': '2072616249'}, {'type': 'USER', 'id': '663516735'}], 'memberCount': 2, 'created': '2023-02-15 17:10:37.0', 'description': ''}, is_success=True)\n"
          ]
        }
      ],
      "source": [
        "import os\n",
        "\n",
        "token_auth = dmda.DomoTokenAuth(\n",
        "    domo_instance=\"domo-community\", \n",
        "    domo_access_token=os.environ[\"DOMO_DOJO_ACCESS_TOKEN\"]\n",
        ")\n",
        "search_name='Test Group 2'\n",
        "try:\n",
        "    res = await search_groups_by_name(auth=token_auth, search_name=search_name, debug_api=False)\n",
        "    print(res)\n",
        "except SearchGroups_Error as e:\n",
        "    print(e)\n",
        "except Exception as e:\n",
        "    print(e)\n",
        "\n"
      ]
    },
    {
      "cell_type": "code",
      "execution_count": 26,
      "metadata": {},
      "outputs": [],
      "source": [
        "#| export\n",
        "class CreateGroup_Error(de.DomoError):\n",
        "    def __init__(self, status, message, domo_instance, function_name = \"create_group\"):\n",
        "        super().__init__(function_name = function_name, status = status, message = message , domo_instance = domo_instance)\n",
        "\n",
        "async def create_group(auth: dmda.DomoAuth,\n",
        "                       group_name: str,\n",
        "                       group_type: str = 'open',\n",
        "                       description: str = '',\n",
        "                       debug_api: bool = False,\n",
        "                       session: httpx.AsyncClient = None\n",
        "                       ) -> rgd.ResponseGetData:\n",
        "    # body : {\"name\": \"GROUP_NAME\", \"type\": \"open\", \"description\": \"\"}\n",
        "\n",
        "    body = generate_body_create_group(\n",
        "        group_name=group_name, group_type=group_type, description=description)\n",
        "\n",
        "    url = f'https://{auth.domo_instance}.domo.com/api/content/v2/groups/'\n",
        "\n",
        "    res= await gd.get_data(\n",
        "        auth=auth,\n",
        "        url=url,\n",
        "        method='POST',\n",
        "        body=body,\n",
        "        debug_api=debug_api,\n",
        "        session = session\n",
        "    )\n",
        "\n",
        "    if not res.is_success:\n",
        "        group_exists = await search_groups_by_name(auth=auth, search_name=group_name, is_exact_match=True)\n",
        "        if group_exists.is_success:\n",
        "            raise CreateGroup_Error(\n",
        "                status = res.status,\n",
        "                message = f'{group_name} already exists. Choose a different group_name',\n",
        "                domo_instance = auth.domo_instance,\n",
        "                function_name='create_group'\n",
        "            )\n",
        "\n",
        "    if not res.is_success:\n",
        "        raise CreateGroup_Error(\n",
        "            status = res.status, \n",
        "            message = res.response,\n",
        "            domo_instance = auth.domo_instance, \n",
        "            function_name=\"create_group\")\n",
        "\n",
        "    return res\n"
      ]
    },
    {
      "attachments": {},
      "cell_type": "markdown",
      "metadata": {},
      "source": [
        "#### Sample implementation of create_group"
      ]
    },
    {
      "cell_type": "code",
      "execution_count": 27,
      "metadata": {},
      "outputs": [
        {
          "name": "stdout",
          "output_type": "stream",
          "text": [
            "create_group: Status 400 - Test Group ABC already exists. Choose a different group_name at domo-community\n"
          ]
        }
      ],
      "source": [
        "import os\n",
        "\n",
        "token_auth = dmda.DomoTokenAuth(\n",
        "    domo_instance=\"domo-community\", \n",
        "    domo_access_token=os.environ[\"DOMO_DOJO_ACCESS_TOKEN\"]\n",
        ")\n",
        "try:\n",
        "    res = await create_group(auth=token_auth, group_name='Test Group ABC', debug_api=False)\n",
        "    res.response\n",
        "\n",
        "except CreateGroup_Error as e:\n",
        "    print(e)"
      ]
    },
    {
      "cell_type": "code",
      "execution_count": 28,
      "metadata": {},
      "outputs": [],
      "source": [
        "# | export\n",
        "\n",
        "async def get_all_groups(auth: dmda.DomoAuth,\n",
        "                         debug_api: bool = False,\n",
        "                         session: httpx.AsyncClient = None) -> rgd.ResponseGetData:\n",
        "    \"\"\"uses /content/v2/groups/grouplist api -- includes user details\"\"\"\n",
        "\n",
        "    url = f'https://{auth.domo_instance}.domo.com/api/content/v2/groups/grouplist'\n",
        "\n",
        "    res = await gd.get_data(url=url,\n",
        "                            method='GET',\n",
        "                            auth=auth, \n",
        "                            debug_api=debug_api, session=session)\n",
        "\n",
        "    return res\n"
      ]
    },
    {
      "attachments": {},
      "cell_type": "markdown",
      "metadata": {},
      "source": [
        "#### Sample implementation of get_all_groups"
      ]
    },
    {
      "cell_type": "code",
      "execution_count": 29,
      "metadata": {},
      "outputs": [
        {
          "data": {
            "text/html": [
              "<div>\n",
              "<style scoped>\n",
              "    .dataframe tbody tr th:only-of-type {\n",
              "        vertical-align: middle;\n",
              "    }\n",
              "\n",
              "    .dataframe tbody tr th {\n",
              "        vertical-align: top;\n",
              "    }\n",
              "\n",
              "    .dataframe thead th {\n",
              "        text-align: right;\n",
              "    }\n",
              "</style>\n",
              "<table border=\"1\" class=\"dataframe\">\n",
              "  <thead>\n",
              "    <tr style=\"text-align: right;\">\n",
              "      <th></th>\n",
              "      <th>name</th>\n",
              "      <th>groupId</th>\n",
              "      <th>owners</th>\n",
              "      <th>groupType</th>\n",
              "      <th>groupMembers</th>\n",
              "      <th>memberCount</th>\n",
              "      <th>created</th>\n",
              "      <th>description</th>\n",
              "    </tr>\n",
              "  </thead>\n",
              "  <tbody>\n",
              "    <tr>\n",
              "      <th>0</th>\n",
              "      <td>Admin Test</td>\n",
              "      <td>1814479647</td>\n",
              "      <td>[{'type': 'USER', 'id': '55874022', 'displayNa...</td>\n",
              "      <td>closed</td>\n",
              "      <td>[{'type': 'USER', 'id': '55874022'}]</td>\n",
              "      <td>1</td>\n",
              "      <td>2023-01-29 23:37:13.0</td>\n",
              "      <td></td>\n",
              "    </tr>\n",
              "  </tbody>\n",
              "</table>\n",
              "</div>"
            ],
            "text/plain": [
              "         name     groupId                                             owners  \\\n",
              "0  Admin Test  1814479647  [{'type': 'USER', 'id': '55874022', 'displayNa...   \n",
              "\n",
              "  groupType                          groupMembers  memberCount  \\\n",
              "0    closed  [{'type': 'USER', 'id': '55874022'}]            1   \n",
              "\n",
              "                 created description  \n",
              "0  2023-01-29 23:37:13.0              "
            ]
          },
          "execution_count": 29,
          "metadata": {},
          "output_type": "execute_result"
        }
      ],
      "source": [
        "import os\n",
        "import pandas as pd\n",
        "\n",
        "token_auth = dmda.DomoTokenAuth(\n",
        "    domo_instance=\"domo-community\", \n",
        "    domo_access_token=os.environ[\"DOMO_DOJO_ACCESS_TOKEN\"]\n",
        ")\n",
        "\n",
        "res = await get_all_groups(auth=token_auth)\n",
        "res_df = pd.DataFrame(res.response)\n",
        "res_df[0:1]"
      ]
    },
    {
      "cell_type": "code",
      "execution_count": 30,
      "metadata": {},
      "outputs": [],
      "source": [
        "#| export\n",
        "def generate_body_update_group_membership(group_id: str,\n",
        "                                          add_user_arr: list[str] = None,\n",
        "                                          remove_user_arr: list[str] = None,\n",
        "                                          add_owner_user_arr: list[str] = None,\n",
        "                                          remove_owner_user_arr: list[str] = None) -> list[dict]:\n",
        "    body = {\"groupId\": int(group_id)}\n",
        "    if add_owner_user_arr:\n",
        "        body.update({\"addOwners\": [{\"type\": \"USER\", \"id\": str(\n",
        "            userId)} for userId in add_owner_user_arr]})\n",
        "\n",
        "    if remove_owner_user_arr:\n",
        "        body.update({\"removeOwners\": [{\"type\": \"USER\", \"id\": str(\n",
        "            userId)} for userId in remove_owner_user_arr]})\n",
        "\n",
        "    if remove_user_arr:\n",
        "        body.update({\"removeMembers\": [\n",
        "                    {\"type\": \"USER\", \"id\": str(userId)} for userId in remove_user_arr]})\n",
        "    if add_user_arr:\n",
        "        body.update(\n",
        "            {\"addMembers\": [{\"type\": \"USER\", \"id\": str(userId)} for userId in add_user_arr]})\n",
        "\n",
        "    return [body]"
      ]
    },
    {
      "cell_type": "code",
      "execution_count": 31,
      "metadata": {},
      "outputs": [],
      "source": [
        "#| export\n",
        "async def update_group_membership(auth: dmda.DomoAuth,\n",
        "                                  body: dict, # first need to create body with generate_body_update_group_membership() \n",
        "                                  debug_api: bool = False, session: httpx.AsyncClient = None\n",
        "                                  ) -> rgd.ResponseGetData:\n",
        "    # body = [{\n",
        "    #     \"groupId\":\"GROUP_ID\",\n",
        "    #     \"removeMembers\": [{\"type\":\"USER\",\"id\":\"USER_ID\"}],\n",
        "    #     \"addMembers\"   : [{\"type\":\"USER\",\"id\":\"USER_ID\"}]\n",
        "    # }]\n",
        "\n",
        "    url = f'https://{auth.domo_instance}.domo.com/api/content/v2/groups/access'\n",
        "\n",
        "    if debug_api:\n",
        "        print(url, body)\n",
        "\n",
        "    res = await gd.get_data(\n",
        "        auth=auth,\n",
        "        url=url,\n",
        "        method='PUT',\n",
        "        body=body,\n",
        "        debug_api=debug_api,\n",
        "        session = session\n",
        "    )\n",
        "\n",
        "    return res"
      ]
    },
    {
      "attachments": {},
      "cell_type": "markdown",
      "metadata": {},
      "source": [
        "#### Sample implementation of generate_body_update_group_membership and update_group_membership"
      ]
    },
    {
      "cell_type": "code",
      "execution_count": 32,
      "metadata": {},
      "outputs": [
        {
          "name": "stdout",
          "output_type": "stream",
          "text": [
            "ResponseGetData(status=200, response='', is_success=True)\n"
          ]
        }
      ],
      "source": [
        "import os\n",
        "\n",
        "token_auth = dmda.DomoTokenAuth(\n",
        "    domo_instance=\"domo-community\", \n",
        "    domo_access_token=os.environ[\"DOMO_DOJO_ACCESS_TOKEN\"]\n",
        ")\n",
        "user = os.environ[\"DOMO_DOJO_USER_ID\"]\n",
        "\n",
        "# generate the body for update_group_membership-- this example adds a user\n",
        "body = generate_body_update_group_membership(group_id='1259653287', add_user_arr=[user])\n",
        "res = await update_group_membership(auth=token_auth, body=body)\n",
        "print(res)"
      ]
    },
    {
      "cell_type": "code",
      "execution_count": 33,
      "metadata": {},
      "outputs": [],
      "source": [
        "# | export\n",
        "async def get_group_by_id(auth: dmda.DomoAuth, \n",
        "        group_id:str, \n",
        "        debug_api:bool = False,\n",
        "        session : httpx.AsyncClient = None,\n",
        "        ) -> rgd.ResponseGetData:\n",
        "\n",
        "    \"\"\"uses /content/v2/groups/ api -- does not return details\"\"\"\n",
        "    \n",
        "    url = f'https://{auth.domo_instance}.domo.com/api/content/v2/groups/{group_id}'\n",
        "\n",
        "    res = await gd.get_data(\n",
        "        auth=auth,\n",
        "        url=url,\n",
        "        method='GET',\n",
        "        debug_api=debug_api,\n",
        "        session = session\n",
        "    )\n",
        "\n",
        "    if res.status ==404 and res.response == 'Not Found':\n",
        "        raise SearchGroups_Error(\n",
        "            status = res.status,\n",
        "            message = f\"group {group_id} not found\",\n",
        "            domo_instance = auth.domo_instance,\n",
        "            function_name = 'get_group_by_id'\n",
        "        )\n",
        "\n",
        "    return res"
      ]
    },
    {
      "cell_type": "code",
      "execution_count": 34,
      "metadata": {},
      "outputs": [
        {
          "data": {
            "text/plain": [
              "ResponseGetData(status=200, response={'id': 1259653287, 'name': 'Test Group 2', 'type': 'open', 'userIds': [2072616249, 663516735], 'creatorId': 1893952720, 'memberCount': 2, 'guid': 'aabb6587-ad53-11ed-82c3-0a09ba383c95', 'description': '', 'hidden': False, 'default': False, 'active': True}, is_success=True)"
            ]
          },
          "execution_count": 34,
          "metadata": {},
          "output_type": "execute_result"
        }
      ],
      "source": [
        "token_auth = dmda.DomoTokenAuth(\n",
        "    domo_instance=\"domo-community\",\n",
        "    domo_access_token=os.environ[\"DOMO_DOJO_ACCESS_TOKEN\"]\n",
        ")\n",
        "\n",
        "await get_group_by_id(\n",
        "    auth = token_auth,\n",
        "    group_id=1259653287\n",
        ")"
      ]
    },
    {
      "cell_type": "code",
      "execution_count": 35,
      "metadata": {},
      "outputs": [],
      "source": [
        "#| hide\n",
        "import nbdev\n",
        "nbdev.nbdev_export()\n"
      ]
    }
  ],
  "metadata": {
    "jupytext": {
      "split_at_heading": true
    },
    "kernelspec": {
      "display_name": "Python 3",
      "language": "python",
      "name": "python3"
    },
    "language_info": {
      "codemirror_mode": {
        "name": "ipython",
        "version": 3
      },
      "file_extension": ".py",
      "mimetype": "text/x-python",
      "name": "python",
      "nbconvert_exporter": "python",
      "pygments_lexer": "ipython3",
      "version": "3.10.4"
    }
  },
  "nbformat": 4,
  "nbformat_minor": 4
}
