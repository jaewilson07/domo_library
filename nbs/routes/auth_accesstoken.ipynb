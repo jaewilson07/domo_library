{
 "cells": [
  {
   "attachments": {},
   "cell_type": "raw",
   "metadata": {},
   "source": [
    "---\n",
    "title: Access Token Auth Routes\n",
    "output-file: access_token_routes.html\n",
    "---"
   ]
  },
  {
   "cell_type": "code",
   "execution_count": null,
   "metadata": {},
   "outputs": [],
   "source": [
    "# | default_exp routes.access_token"
   ]
  },
  {
   "cell_type": "code",
   "execution_count": null,
   "metadata": {},
   "outputs": [],
   "source": [
    "# | exporti\n",
    "import datetime as dt\n",
    "import time\n",
    "\n",
    "from dataclasses import dataclass, field\n",
    "import httpx\n",
    "\n",
    "import domolibrary.client.ResponseGetData as rgd\n",
    "import domolibrary.client.get_data as gd\n",
    "import domolibrary.client.DomoAuth as dmda\n",
    "import domolibrary.client.DomoError as de\n",
    "\n",
    "# import domolibrary.client.Logger as lg"
   ]
  },
  {
   "cell_type": "code",
   "execution_count": null,
   "metadata": {},
   "outputs": [],
   "source": [
    "# | hide\n",
    "import os\n",
    "import pandas as pd"
   ]
  },
  {
   "cell_type": "markdown",
   "metadata": {},
   "source": [
    "# User Access Tokens"
   ]
  },
  {
   "cell_type": "code",
   "execution_count": null,
   "metadata": {},
   "outputs": [],
   "source": [
    "# | export\n",
    "@gd.route_function\n",
    "async def get_access_tokens(\n",
    "    auth: dmda.DomoAuth,\n",
    "    debug_api: bool = False,\n",
    "    debug_num_stacks_to_drop=1,\n",
    "    parent_class=None,\n",
    "    session: httpx.AsyncClient = None,\n",
    "    return_raw: bool = False,\n",
    ") -> rgd.ResponseGetData:\n",
    "\n",
    "    url = f\"https://{auth.domo_instance}.domo.com/api/data/v1/accesstokens\"\n",
    "\n",
    "    res = await gd.get_data(\n",
    "        url=url,\n",
    "        method=\"GET\",\n",
    "        auth=auth,\n",
    "        debug_api=debug_api,\n",
    "        parent_class=parent_class,\n",
    "        num_stacks_to_drop=debug_num_stacks_to_drop,\n",
    "    )\n",
    "\n",
    "    if return_raw:\n",
    "        return res\n",
    "\n",
    "    [\n",
    "        token.update({\"expires\": dt.datetime.utcfromtimestamp(token[\"expires\"] / 1000)})\n",
    "        for token in res.response\n",
    "    ]\n",
    "\n",
    "    return res"
   ]
  },
  {
   "cell_type": "code",
   "execution_count": null,
   "metadata": {},
   "outputs": [
    {
     "data": {
      "text/html": [
       "<div>\n",
       "<style scoped>\n",
       "    .dataframe tbody tr th:only-of-type {\n",
       "        vertical-align: middle;\n",
       "    }\n",
       "\n",
       "    .dataframe tbody tr th {\n",
       "        vertical-align: top;\n",
       "    }\n",
       "\n",
       "    .dataframe thead th {\n",
       "        text-align: right;\n",
       "    }\n",
       "</style>\n",
       "<table border=\"1\" class=\"dataframe\">\n",
       "  <thead>\n",
       "    <tr style=\"text-align: right;\">\n",
       "      <th></th>\n",
       "      <th>id</th>\n",
       "      <th>name</th>\n",
       "      <th>ownerId</th>\n",
       "      <th>ownerName</th>\n",
       "      <th>ownerEmail</th>\n",
       "      <th>expires</th>\n",
       "    </tr>\n",
       "  </thead>\n",
       "  <tbody>\n",
       "    <tr>\n",
       "      <th>0</th>\n",
       "      <td>186656</td>\n",
       "      <td>DL_test</td>\n",
       "      <td>1216550715</td>\n",
       "      <td>None</td>\n",
       "      <td>None</td>\n",
       "      <td>2024-05-15 16:49:40</td>\n",
       "    </tr>\n",
       "    <tr>\n",
       "      <th>1</th>\n",
       "      <td>186658</td>\n",
       "      <td>DL_test</td>\n",
       "      <td>1216550715</td>\n",
       "      <td>None</td>\n",
       "      <td>None</td>\n",
       "      <td>2024-05-15 17:22:52</td>\n",
       "    </tr>\n",
       "  </tbody>\n",
       "</table>\n",
       "</div>"
      ],
      "text/plain": [
       "       id     name     ownerId ownerName ownerEmail             expires\n",
       "0  186656  DL_test  1216550715      None       None 2024-05-15 16:49:40\n",
       "1  186658  DL_test  1216550715      None       None 2024-05-15 17:22:52"
      ]
     },
     "execution_count": null,
     "metadata": {},
     "output_type": "execute_result"
    }
   ],
   "source": [
    "token_auth = dmda.DomoTokenAuth(\n",
    "    domo_instance=\"domo-community\",\n",
    "    domo_access_token=os.environ[\"DOMO_DOJO_ACCESS_TOKEN\"],\n",
    ")\n",
    "\n",
    "res = await get_access_tokens(debug_api=False, auth=token_auth)\n",
    "\n",
    "pd.DataFrame([r for r in res.response if r[\"ownerId\"] == 1216550715])"
   ]
  },
  {
   "cell_type": "code",
   "execution_count": null,
   "metadata": {},
   "outputs": [],
   "source": [
    "# | exporti\n",
    "def generate_expiration_unixtimestamp(\n",
    "    duration_in_days: int = 90, debug_prn: bool = False\n",
    "):\n",
    "\n",
    "    today = dt.datetime.today()\n",
    "    expiration_date = today + dt.timedelta(days=duration_in_days)\n",
    "\n",
    "    if debug_prn:\n",
    "        print(f\"expiration_date is {duration_in_days} from today {expiration_date}\")\n",
    "\n",
    "    return int(time.mktime(expiration_date.timetuple()) * 1000)"
   ]
  },
  {
   "cell_type": "code",
   "execution_count": null,
   "metadata": {},
   "outputs": [
    {
     "name": "stdout",
     "output_type": "stream",
     "text": [
      "expiration_date is 1 from today 2024-02-16 20:05:37.355876\n"
     ]
    },
    {
     "data": {
      "text/plain": [
       "1708113937000"
      ]
     },
     "execution_count": null,
     "metadata": {},
     "output_type": "execute_result"
    }
   ],
   "source": [
    "generate_expiration_unixtimestamp(1, debug_prn=True)"
   ]
  },
  {
   "cell_type": "code",
   "execution_count": null,
   "metadata": {},
   "outputs": [],
   "source": [
    "# | export\n",
    "class AccessToken_GenerationError(de.DomoError):\n",
    "    def __init__(\n",
    "        self,\n",
    "        user_id,\n",
    "        domo_instance,\n",
    "        parent_class,\n",
    "        function_name,\n",
    "        message=None,\n",
    "    ):\n",
    "        super().__init__(\n",
    "            domo_instance=domo_instance,\n",
    "            message=message or f\"failure to generate access_token for {user_id}\",\n",
    "            function_name=function_name,\n",
    "            parent_class=parent_class,\n",
    "        )\n",
    "\n",
    "\n",
    "@gd.route_function\n",
    "async def generate_access_token(\n",
    "    auth: dmda.DomoAuth,\n",
    "    token_name: str,\n",
    "    user_id,\n",
    "    duration_in_days: 90,\n",
    "    debug_api: bool = False,\n",
    "    debug_num_stacks_to_drop=1,\n",
    "    parent_class=None,\n",
    "    session: httpx.AsyncClient = None,\n",
    ") -> rgd.ResponseGetData:\n",
    "\n",
    "    url = f\"https://{auth.domo_instance}.domo.com/api/data/v1/accesstokens\"\n",
    "\n",
    "    expiration_timestamp = generate_expiration_unixtimestamp(\n",
    "        duration_in_days=duration_in_days\n",
    "    )\n",
    "\n",
    "    body = {\"name\": token_name, \"ownerId\": user_id, \"expires\": expiration_timestamp}\n",
    "\n",
    "    res = await gd.get_data(\n",
    "        url=url,\n",
    "        method=\"POST\",\n",
    "        body=body,\n",
    "        auth=auth,\n",
    "        debug_api=debug_api,\n",
    "        parent_class=parent_class,\n",
    "        num_stacks_to_drop=debug_num_stacks_to_drop,\n",
    "    )\n",
    "\n",
    "    if res.status == 400:\n",
    "        raise AccessToken_GenerationError(\n",
    "            user_id=user_id,\n",
    "            message=f\"unable to generate access_token for {user_id} || did you pass a valid user_id\",\n",
    "            domo_instance=auth.domo_instance,\n",
    "            parent_class=parent_class,\n",
    "            function_name=res.traceback_details.function_name,\n",
    "        )\n",
    "\n",
    "    if not res.is_success or not res.response[\"token\"]:\n",
    "        raise AccessToken_GenerationError(\n",
    "            user_id=user_id,\n",
    "            domo_instance=auth.domo_instance,\n",
    "            parent_class=parent_class,\n",
    "            function_name=res.traceback_details.function_name,\n",
    "        )\n",
    "\n",
    "    return res"
   ]
  },
  {
   "cell_type": "code",
   "execution_count": null,
   "metadata": {},
   "outputs": [
    {
     "data": {
      "text/plain": [
       "ResponseGetData(status=200, response={'id': 186661, 'name': 'DL_test', 'ownerId': 1216550715, 'ownerName': '8:26 - go to sleep', 'ownerEmail': 'test4@domo.com', 'expires': 1715803537000, 'token': 'a38d61abef4a33e8b96f932dd6c258e32424de3de4e36ec0'}, is_success=True, parent_class=None)"
      ]
     },
     "execution_count": null,
     "metadata": {},
     "output_type": "execute_result"
    }
   ],
   "source": [
    "token_auth = dmda.DomoTokenAuth(\n",
    "    domo_instance=\"domo-community\",\n",
    "    domo_access_token=os.environ[\"DOMO_DOJO_ACCESS_TOKEN\"],\n",
    ")\n",
    "\n",
    "res_generate_token = await generate_access_token(\n",
    "    user_id=1216550715, duration_in_days=90, token_name=\"DL_test\", auth=token_auth\n",
    ")\n",
    "\n",
    "res_generate_token"
   ]
  },
  {
   "cell_type": "code",
   "execution_count": null,
   "metadata": {},
   "outputs": [],
   "source": [
    "# | export\n",
    "\n",
    "\n",
    "class AccessToken_RevokeError(de.DomoError):\n",
    "    def __init__(\n",
    "        self,\n",
    "        access_token_id,\n",
    "        domo_instance,\n",
    "        parent_class,\n",
    "        function_name,\n",
    "    ):\n",
    "        super().__init__(\n",
    "            domo_instance=domo_instance,\n",
    "            message=f\"failure to revoke token {access_token_id}\",\n",
    "            function_name=function_name,\n",
    "            parent_class=parent_class,\n",
    "        )\n",
    "\n",
    "\n",
    "@gd.route_function\n",
    "async def revoke_access_token(\n",
    "    auth: dmda.DomoAuth,\n",
    "    access_token_id: int,\n",
    "    debug_api: bool = False,\n",
    "    debug_num_stacks_to_drop=1,\n",
    "    parent_class=None,\n",
    "    session: httpx.AsyncClient = None,\n",
    "):\n",
    "    url = f\"https://{auth.domo_instance}.domo.com/api/data/v1/accesstokens/{access_token_id}\"\n",
    "\n",
    "    res = await gd.get_data(\n",
    "        url=url,\n",
    "        method=\"DELETE\",\n",
    "        auth=auth,\n",
    "        debug_api=debug_api,\n",
    "        parent_class=parent_class,\n",
    "        num_stacks_to_drop=debug_num_stacks_to_drop,\n",
    "    )\n",
    "\n",
    "    if not res.is_success:\n",
    "        raise AccessToken_RevokeError(\n",
    "            access_token_id=access_token_id,\n",
    "            domo_instance=auth.domo_instance,\n",
    "            parent_class=parent_class,\n",
    "            function_name=res.traceback_details.function_Name,\n",
    "        )\n",
    "\n",
    "    return res"
   ]
  },
  {
   "cell_type": "code",
   "execution_count": null,
   "metadata": {},
   "outputs": [
    {
     "data": {
      "text/plain": [
       "ResponseGetData(status=200, response='', is_success=True, parent_class=None)"
      ]
     },
     "execution_count": null,
     "metadata": {},
     "output_type": "execute_result"
    }
   ],
   "source": [
    "access_token_id = res_generate_token.response[\"id\"]\n",
    "\n",
    "await revoke_access_token(\n",
    "    auth=token_auth, access_token_id=access_token_id, debug_api=False\n",
    ")"
   ]
  },
  {
   "cell_type": "code",
   "execution_count": null,
   "metadata": {},
   "outputs": [],
   "source": [
    "# | hide\n",
    "import nbdev\n",
    "\n",
    "nbdev.nbdev_export(\"./auth_accesstoken.ipynb\")"
   ]
  }
 ],
 "metadata": {
  "kernelspec": {
   "display_name": "python3",
   "language": "python",
   "name": "python3"
  }
 },
 "nbformat": 4,
 "nbformat_minor": 4
}
