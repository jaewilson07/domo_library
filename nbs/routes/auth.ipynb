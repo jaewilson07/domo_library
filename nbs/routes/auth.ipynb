{
 "cells": [
  {
   "attachments": {},
   "cell_type": "raw",
   "metadata": {},
   "source": [
    "---\n",
    "title: Auth Routes\n",
    "output-file: auth_routes.html\n",
    "---"
   ]
  },
  {
   "cell_type": "code",
   "execution_count": 1,
   "metadata": {},
   "outputs": [],
   "source": [
    "# | default_exp routes.auth"
   ]
  },
  {
   "cell_type": "code",
   "execution_count": 2,
   "metadata": {},
   "outputs": [],
   "source": [
    "# | hide\n",
    "from nbdev.showdoc import *\n",
    "import fastcore.test as fctest"
   ]
  },
  {
   "cell_type": "code",
   "execution_count": 3,
   "metadata": {},
   "outputs": [],
   "source": [
    "# | exporti\n",
    "from dataclasses import dataclass, field\n",
    "from typing import Optional, Union\n",
    "from urllib.parse import urlparse\n",
    "\n",
    "import httpx\n",
    "\n",
    "import domolibrary.client.ResponseGetData as rgd\n",
    "import domolibrary.client.Logger as lg\n",
    "import domolibrary.client.DomoError as de"
   ]
  },
  {
   "cell_type": "markdown",
   "metadata": {},
   "source": [
    "# DomoError Classes\n"
   ]
  },
  {
   "cell_type": "code",
   "execution_count": 4,
   "metadata": {},
   "outputs": [],
   "source": [
    "# | export\n",
    "class InvalidCredentialsError(de.DomoError):\n",
    "    \"\"\"return invalid credentials sent to API\"\"\"\n",
    "\n",
    "    def __init__(\n",
    "        self,\n",
    "        function_name: Optional[str] = None,\n",
    "        parent_class: str = None,\n",
    "        status: Optional[int] = None,  # API request status\n",
    "        message=\"invalid credentials\",\n",
    "        domo_instance: Optional[str] = None,\n",
    "    ):\n",
    "        super().__init__(\n",
    "            status=status,\n",
    "            message=message,\n",
    "            domo_instance=domo_instance,\n",
    "            function_name=function_name,\n",
    "            parent_class=parent_class,\n",
    "        )\n",
    "\n",
    "\n",
    "class AccountLockedError(de.DomoError):\n",
    "    \"\"\"return invalid credentials sent to API\"\"\"\n",
    "\n",
    "    def __init__(\n",
    "        self,\n",
    "        function_name: Optional[str] = None,\n",
    "        status: Optional[int] = None,  # API request status\n",
    "        message=\"invalid credentials\",\n",
    "        domo_instance: Optional[str] = None,\n",
    "        parent_class: str = None,\n",
    "    ):\n",
    "        super().__init__(\n",
    "            status=status,\n",
    "            message=message,\n",
    "            domo_instance=domo_instance,\n",
    "            function_name=function_name,\n",
    "            parent_class=parent_class,\n",
    "        )\n",
    "\n",
    "\n",
    "class InvalidAuthTypeError(de.DomoError):\n",
    "    \"\"\"return invalid Auth type sent to API\"\"\"\n",
    "\n",
    "    def __init__(\n",
    "        self,\n",
    "        required_auth_type: dict = None,\n",
    "        required_auth_type_ls: list = None,\n",
    "        function_name: Optional[str] = None,\n",
    "        parent_class: str = None,\n",
    "        domo_instance: Optional[str] = None,\n",
    "    ):\n",
    "        message = f\"This API rquires {required_auth_type.__name__ if required_auth_type else ', '.join([auth_type.__name__ for auth_type in required_auth_type_ls])}\"\n",
    "\n",
    "        super().__init__(\n",
    "            message=message,\n",
    "            domo_instance=domo_instance,\n",
    "            function_name=function_name,\n",
    "            parent_class=parent_class,\n",
    "        )\n",
    "\n",
    "\n",
    "class InvalidInstanceError(de.DomoError):\n",
    "    \"\"\"return if invalid domo_instance sent to API\"\"\"\n",
    "\n",
    "    def __init__(\n",
    "        self,\n",
    "        function_name: Optional[str] = None,\n",
    "        parent_class: str = None,\n",
    "        status: Optional[int] = None,\n",
    "        message=\"invalid instance\",\n",
    "        domo_instance: Optional[str] = None,\n",
    "    ):\n",
    "        super().__init__(\n",
    "            status=status,\n",
    "            message=message,\n",
    "            domo_instance=domo_instance,\n",
    "            parent_class=parent_class,\n",
    "            function_name=function_name,\n",
    "        )\n",
    "\n",
    "\n",
    "class NoAccessTokenReturned(de.DomoError):\n",
    "    def __init__(\n",
    "        self,\n",
    "        function_name: Optional[str] = None,\n",
    "        status: Optional[int] = None,\n",
    "        message: str = \"No AccessToken returned\",\n",
    "        domo_instance: Optional[str] = None,\n",
    "        parent_class: str = None,\n",
    "    ):\n",
    "        super().__init__(\n",
    "            status=status,\n",
    "            message=message,\n",
    "            domo_instance=domo_instance,\n",
    "            function_name=function_name,\n",
    "            parent_class=parent_class,\n",
    "        )"
   ]
  },
  {
   "attachments": {},
   "cell_type": "markdown",
   "metadata": {},
   "source": [
    "# Authentication Routes\n",
    "\n",
    "Stand alone functions for users who prefer a functional programming approach\n",
    "\n",
    "## Full Auth Route - username and password authentication\n"
   ]
  },
  {
   "cell_type": "code",
   "execution_count": 5,
   "metadata": {},
   "outputs": [],
   "source": [
    "# | export\n",
    "\n",
    "async def get_full_auth(\n",
    "    domo_instance: str,  # domo_instance.domo.com\n",
    "    domo_username: str,  # email address\n",
    "    domo_password: str,\n",
    "    session: Optional[httpx.AsyncClient] = None,\n",
    "    debug_api: bool = False,\n",
    "    parent_class: str = None,\n",
    ") -> rgd.ResponseGetData:\n",
    "    \"\"\"uses username and password authentication to retrieve a full_auth access token\"\"\"\n",
    "\n",
    "    is_close_session = False\n",
    "\n",
    "    if not session:\n",
    "        is_close_session = True\n",
    "        session = httpx.AsyncClient()\n",
    "\n",
    "    url = f\"https://{domo_instance}.domo.com/api/content/v2/authentication\"\n",
    "\n",
    "    tokenHeaders = {\"Content-Type\": \"application/json\"}\n",
    "\n",
    "    body = {\n",
    "        \"method\": \"password\",\n",
    "        \"emailAddress\": domo_username,\n",
    "        \"password\": domo_password,\n",
    "    }\n",
    "\n",
    "    if debug_api:\n",
    "        print(body, url)\n",
    "\n",
    "    res = await session.request(method=\"POST\", url=url, headers=tokenHeaders, json=body)\n",
    "\n",
    "    if is_close_session:\n",
    "        await session.aclose()\n",
    "\n",
    "    traceback_details = lg.get_traceback()\n",
    "\n",
    "    res = rgd.ResponseGetData._from_httpx_response(\n",
    "        res, traceback_details=traceback_details, parent_class=parent_class\n",
    "    )\n",
    "\n",
    "    if res.is_success and res.response.get(\"reason\", None):\n",
    "        if res.response.get(\"reason\") == \"INVALID_CREDENTIALS\":\n",
    "            res.is_success = False\n",
    "            raise InvalidCredentialsError(\n",
    "                function_name=res.traceback_details.function_name,\n",
    "                parent_class=parent_class,\n",
    "                status=res.status,\n",
    "                message=res.response[\"reason\"],\n",
    "                domo_instance=domo_instance,\n",
    "            )\n",
    "        if res.response.get(\"reason\") == \"ACCOUNT_LOCKED\":\n",
    "            res.is_success = False\n",
    "            raise AccountLockedError(\n",
    "                function_name=res.traceback_details.function_name,\n",
    "                parent_class=parent_class,\n",
    "                status=res.status,\n",
    "                message=str(res.response.get(\"reason\")),\n",
    "                domo_instance=self.domo_instance,\n",
    "            )\n",
    "\n",
    "        if res.response == {} or res.response == \"\":  # no access token\n",
    "            res.is_success = False\n",
    "            raise NoAccessTokenReturned(\n",
    "                function_name=res.traceback_details.function_name,\n",
    "                parent_class=parent_class,\n",
    "                status=res.status,\n",
    "                domo_instance=self.domo_instance,\n",
    "            )\n",
    "\n",
    "    if res.status == 403 and res.response == \"Forbidden\":\n",
    "        res.is_success = False\n",
    "        raise InvalidInstanceError(\n",
    "            function_name=res.traceback_details.function_name,\n",
    "            parent_class=parent_class,\n",
    "            status=res.status,\n",
    "            message=res.response,\n",
    "            domo_instance=domo_instance,\n",
    "        )\n",
    "\n",
    "    if not res.is_success:\n",
    "        raise InvalidCredentialsError(\n",
    "            function_name=res.traceback_details.function_name,\n",
    "            parent_class=parent_class,\n",
    "            status=res.status,\n",
    "            message=res.response[\"reason\"],\n",
    "            domo_instance=domo_instance,\n",
    "        )\n",
    "\n",
    "    return res\n"
   ]
  },
  {
   "attachments": {},
   "cell_type": "markdown",
   "metadata": {},
   "source": [
    "#### Sample Implementations of get_full_auth\n",
    "\n",
    "##### intentional invalid credentials\n"
   ]
  },
  {
   "cell_type": "code",
   "execution_count": 6,
   "metadata": {},
   "outputs": [
    {
     "name": "stdout",
     "output_type": "stream",
     "text": [
      "🛑  InvalidCredentialsError 🛑 - functionn: get_full_auth || status 200 || INVALID_CREDENTIALS at domo-community\n"
     ]
    }
   ],
   "source": [
    "import os\n",
    "\n",
    "try:\n",
    "    await get_full_auth(\n",
    "        domo_instance=\"domo-community\",\n",
    "        domo_username=\"test@test.com\",\n",
    "        domo_password=\"fake password\",\n",
    "    )\n",
    "except InvalidCredentialsError as e:\n",
    "    print(e)\n"
   ]
  },
  {
   "cell_type": "markdown",
   "metadata": {},
   "source": [
    "##### invalid instance\n"
   ]
  },
  {
   "cell_type": "code",
   "execution_count": 7,
   "metadata": {},
   "outputs": [
    {
     "name": "stdout",
     "output_type": "stream",
     "text": [
      "🛑  InvalidInstanceError 🛑 - functionn: get_full_auth || status 403 || Forbidden at test\n"
     ]
    }
   ],
   "source": [
    "try:\n",
    "    await get_full_auth(\n",
    "        domo_instance=\"test\",\n",
    "        domo_username=\"fake@test.com\",\n",
    "        domo_password=\"fake password\",\n",
    "    )\n",
    "except InvalidInstanceError as e:\n",
    "    print(e)\n"
   ]
  },
  {
   "cell_type": "markdown",
   "metadata": {},
   "source": [
    "##### valid credentials\n"
   ]
  },
  {
   "cell_type": "code",
   "execution_count": 8,
   "metadata": {},
   "outputs": [],
   "source": [
    "res = await get_full_auth(\n",
    "    domo_instance=\"domo-community\",\n",
    "    domo_username=os.environ[\"DOMO_USERNAME\"],\n",
    "    domo_password=os.environ[\"DOJO_PASSWORD\"],\n",
    ")\n",
    "\n",
    "assert res.is_success\n"
   ]
  },
  {
   "attachments": {},
   "cell_type": "markdown",
   "metadata": {},
   "source": [
    "## Developer Auth Route - client_id and secret authentication\n"
   ]
  },
  {
   "cell_type": "code",
   "execution_count": 9,
   "metadata": {},
   "outputs": [],
   "source": [
    "# | export\n",
    "async def get_developer_auth(\n",
    "    domo_client_id: str,\n",
    "    domo_client_secret: str,\n",
    "    session: Optional[httpx.AsyncClient] = None,\n",
    "    debug_api: bool = False,\n",
    "    parent_class: str = None,\n",
    ") -> rgd.ResponseGetData:\n",
    "    \"\"\"\n",
    "    only use for authenticating against apis documented under developer.domo.com\n",
    "    \"\"\"\n",
    "    is_close_session = False\n",
    "\n",
    "    if not session:\n",
    "        is_close_session = True\n",
    "        session = httpx.AsyncClient(\n",
    "            auth=httpx.BasicAuth(domo_client_id, domo_client_secret)\n",
    "        )\n",
    "\n",
    "    url = \"https://api.domo.com/oauth/token?grant_type=client_credentials\"\n",
    "\n",
    "    if debug_api:\n",
    "        print(url, domo_client_id, domo_client_secret)\n",
    "\n",
    "    res = await session.request(method=\"GET\", url=url)\n",
    "\n",
    "    traceback_details = lg.get_traceback()\n",
    "\n",
    "    if is_close_session:\n",
    "        await session.aclose()\n",
    "\n",
    "    res = rgd.ResponseGetData._from_httpx_response(\n",
    "        res, \n",
    "        traceback_details=traceback_details,\n",
    "        parent_class=parent_class\n",
    "    )\n",
    "\n",
    "    if res.status == 401 and res.response == \"Unauthorized\":\n",
    "        res.is_success = False\n",
    "        raise InvalidCredentialsError(\n",
    "            function_name=res.traceback_details.function_name,\n",
    "            status=res.status,\n",
    "            message=res.response,\n",
    "        )\n",
    "\n",
    "    return res\n"
   ]
  },
  {
   "attachments": {},
   "cell_type": "markdown",
   "metadata": {},
   "source": [
    "#### Sample Implementations of get_developer_auth\n",
    "\n",
    "The 401 response is expected because we are using invalid credentials\n"
   ]
  },
  {
   "cell_type": "code",
   "execution_count": 10,
   "metadata": {},
   "outputs": [
    {
     "name": "stdout",
     "output_type": "stream",
     "text": [
      "🛑  InvalidCredentialsError 🛑 - functionn: get_developer_auth || status 401 || Unauthorized\n"
     ]
    }
   ],
   "source": [
    "try:\n",
    "    await get_developer_auth(domo_client_id=\"test_id\", domo_client_secret=\"test_secret\")\n",
    "\n",
    "except InvalidCredentialsError as e:\n",
    "    print(e)\n"
   ]
  },
  {
   "cell_type": "markdown",
   "metadata": {},
   "source": [
    "# Who Am I?\n"
   ]
  },
  {
   "cell_type": "code",
   "execution_count": 11,
   "metadata": {},
   "outputs": [],
   "source": [
    "# | export\n",
    "async def who_am_i(\n",
    "    auth_header: dict,\n",
    "    domo_instance: str,  # <domo_instance>.domo.com\n",
    "    session: httpx.AsyncClient = None,\n",
    "    parent_class :str = None,\n",
    "    debug_num_stacks_to_drop = 0,\n",
    "    debug_api: bool = False,\n",
    "    return_raw: bool = False\n",
    "):\n",
    "    \"\"\"\n",
    "    will attempt to validate against the 'me' API.\n",
    "    This is the same authentication test the Domo Java CLI uses.\n",
    "    \"\"\"\n",
    "\n",
    "    is_close_session = False\n",
    "\n",
    "    if not session:\n",
    "        is_close_session = True\n",
    "        session = httpx.AsyncClient()\n",
    "\n",
    "    url = f\"https://{domo_instance}.domo.com/api/content/v2/users/me\"\n",
    "\n",
    "    if debug_api:\n",
    "        print(url, auth_header)\n",
    "\n",
    "    res = await session.request(method=\"GET\", headers=auth_header, url=url)\n",
    "\n",
    "    if is_close_session:\n",
    "        await session.aclose()\n",
    "    \n",
    "    if return_raw:\n",
    "        return res\n",
    "    \n",
    "    traceback_details = lg.get_traceback(num_stacks_to_drop= debug_num_stacks_to_drop)\n",
    "\n",
    "    res = rgd.ResponseGetData._from_httpx_response(res, traceback_details= traceback_details, parent_class= parent_class)\n",
    "\n",
    "    if res.status == 401 and res.response == \"Unauthorized\":\n",
    "        res.is_sucess = False\n",
    "\n",
    "        raise InvalidCredentialsError(\n",
    "            function_name = res.traceback_details.function_name,\n",
    "            parent_class = parent_class,\n",
    "            status=res.status,\n",
    "            message=res.response,\n",
    "            domo_instance=domo_instance,\n",
    "        )\n",
    "\n",
    "    return res\n"
   ]
  },
  {
   "attachments": {},
   "cell_type": "markdown",
   "metadata": {},
   "source": [
    "#### Sample implementation of `who_am_i`\n",
    "\n",
    "##### test developer token\n"
   ]
  },
  {
   "cell_type": "code",
   "execution_count": 12,
   "metadata": {},
   "outputs": [
    {
     "data": {
      "text/plain": [
       "ResponseGetData(status=200, response={'id': 1893952720, 'invitorUserId': 587894148, 'displayName': 'Jae Wilson1', 'department': 'Business Improvement', 'userName': 'jae@onyxreporting.com', 'emailAddress': 'jae@onyxreporting.com', 'avatarKey': 'c605f478-0cd2-4451-9fd4-d82090b71e66', 'accepted': True, 'userType': 'USER', 'modified': 1686313430521, 'created': 1588960518, 'active': True, 'pending': False, 'systemUser': False, 'anonymous': False}, is_success=True, parent_class=None, traceback_details=TracebackDetails(function_name='who_am_i', file_name='/tmp/ipykernel_4671/1424343251.py', function_trail='<module> -> who_am_i', traceback_stack=[<FrameSummary file /tmp/ipykernel_4671/1753996340.py, line 3 in <module>>, <FrameSummary file /tmp/ipykernel_4671/1424343251.py, line 35 in who_am_i>], parent_class=None))"
      ]
     },
     "execution_count": 12,
     "metadata": {},
     "output_type": "execute_result"
    }
   ],
   "source": [
    "import os\n",
    "\n",
    "await who_am_i(\n",
    "    domo_instance=\"domo-community\",\n",
    "    auth_header={\n",
    "        \"x-domo-developer-token\": os.environ[\"DOMO_DOJO_ACCESS_TOKEN\"]},\n",
    "    debug_api=False,\n",
    "    return_raw=False\n",
    ")\n"
   ]
  },
  {
   "cell_type": "markdown",
   "metadata": {},
   "source": [
    "##### test full_auth token\n"
   ]
  },
  {
   "cell_type": "code",
   "execution_count": 13,
   "metadata": {},
   "outputs": [
    {
     "data": {
      "text/plain": [
       "ResponseGetData(status=200, response={'id': 1893952720, 'invitorUserId': 587894148, 'displayName': 'Jae Wilson1', 'department': 'Business Improvement', 'userName': 'jae@onyxreporting.com', 'emailAddress': 'jae@onyxreporting.com', 'avatarKey': 'c605f478-0cd2-4451-9fd4-d82090b71e66', 'accepted': True, 'userType': 'USER', 'modified': 1686313430521, 'created': 1588960518, 'active': True, 'pending': False, 'systemUser': False, 'anonymous': False}, is_success=True, parent_class=None, traceback_details=TracebackDetails(function_name='who_am_i', file_name='/tmp/ipykernel_4671/1424343251.py', function_trail='<module> -> who_am_i', traceback_stack=[<FrameSummary file /tmp/ipykernel_4671/33241985.py, line 9 in <module>>, <FrameSummary file /tmp/ipykernel_4671/1424343251.py, line 35 in who_am_i>], parent_class=None))"
      ]
     },
     "execution_count": 13,
     "metadata": {},
     "output_type": "execute_result"
    }
   ],
   "source": [
    "res = await get_full_auth(\n",
    "    domo_instance=\"domo-community\",\n",
    "    domo_username=os.environ[\"DOMO_USERNAME\"],\n",
    "    domo_password=os.environ[\"DOJO_PASSWORD\"],\n",
    ")\n",
    "\n",
    "session_token = res.response.get(\"sessionToken\")\n",
    "\n",
    "await who_am_i(\n",
    "    domo_instance=\"domo-community\", auth_header={\"x-domo-authentication\": session_token}\n",
    ")\n"
   ]
  },
  {
   "cell_type": "code",
   "execution_count": 14,
   "metadata": {},
   "outputs": [],
   "source": [
    "# | hide\n",
    "import nbdev\n",
    "\n",
    "nbdev.nbdev_export()"
   ]
  }
 ],
 "metadata": {
  "kernelspec": {
   "display_name": "python3",
   "language": "python",
   "name": "python3"
  },
  "language_info": {
   "codemirror_mode": {
    "name": "ipython",
    "version": 3
   },
   "file_extension": ".py",
   "mimetype": "text/x-python",
   "name": "python",
   "nbconvert_exporter": "python",
   "pygments_lexer": "ipython3",
   "version": "3.10.8"
  }
 },
 "nbformat": 4,
 "nbformat_minor": 4
}
