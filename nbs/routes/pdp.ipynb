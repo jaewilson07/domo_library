{
 "cells": [
  {
   "cell_type": "raw",
   "metadata": {},
   "source": [
    "---\n",
    "output-file: routes.pdp.html\n",
    "title: PDP Routes\n",
    "---\n",
    "\n"
   ]
  },
  {
   "cell_type": "code",
   "execution_count": 31,
   "metadata": {},
   "outputs": [],
   "source": [
    "# | default_exp routes.pdp"
   ]
  },
  {
   "cell_type": "code",
   "execution_count": 32,
   "metadata": {},
   "outputs": [],
   "source": [
    "# | export\n",
    "import httpx\n",
    "import pandas as pd\n",
    "import io\n",
    "\n",
    "import domolibrary.client.get_data as gd\n",
    "import domolibrary.client.ResponseGetData as rgd\n",
    "import domolibrary.client.DomoAuth as dmda\n",
    "import domolibrary.client.DomoError as de"
   ]
  },
  {
   "cell_type": "code",
   "execution_count": 33,
   "metadata": {},
   "outputs": [],
   "source": [
    "# | export\n",
    "class PDP_NotRetrieved(de.DomoError):\n",
    "    def __init__(\n",
    "        self,\n",
    "        domo_instance,\n",
    "        function_name,\n",
    "        status,\n",
    "        message,\n",
    "        pdp_id=None,\n",
    "    ):\n",
    "\n",
    "        super().__init__(\n",
    "            domo_instance=domo_instance,\n",
    "            entity_id=pdp_id,\n",
    "            function_name=function_name,\n",
    "            status=status,\n",
    "            message=message,\n",
    "        )"
   ]
  },
  {
   "cell_type": "code",
   "execution_count": 34,
   "metadata": {},
   "outputs": [],
   "source": [
    "# | export\n",
    "async def get_pdp_policies(\n",
    "    auth: dmda.DomoAuth,\n",
    "    dataset_id: str,\n",
    "    session: httpx.AsyncClient = None,\n",
    "    debug_api: bool = False,\n",
    ") -> rgd.ResponseGetData:\n",
    "    url = f\"http://{auth.domo_instance}.domo.com/api/query/v1/data-control/{dataset_id}/filter-groups?\"\n",
    "\n",
    "    # if debug_api:\n",
    "    #     print(url)\n",
    "\n",
    "    headers = {\n",
    "        'Accept':'application/json',\n",
    "        'x-domo-authentication': auth.token\n",
    "    }\n",
    "    res = await gd.get_data(\n",
    "        auth=auth, \n",
    "        url=url, \n",
    "        method=\"GET\", \n",
    "        debug_api=debug_api, \n",
    "        session=session,\n",
    "        headers=headers,\n",
    "        params = {'options':'load_associations,load_filters,include_open_policy'}\n",
    "    )\n",
    "\n",
    "    if len(res.response) == 0 or not res.is_success:\n",
    "        raise PDP_NotRetrieved(\n",
    "            domo_instance=auth.domo_instance,\n",
    "            function_name=\"get_pdp_policies\",\n",
    "            status=res.status,\n",
    "            message=\"failed to retrieve pdp policies\",\n",
    "        )\n",
    "\n",
    "    return res"
   ]
  },
  {
   "attachments": {},
   "cell_type": "markdown",
   "metadata": {},
   "source": [
    "### Sample implementation for get_pdp_policies"
   ]
  },
  {
   "cell_type": "code",
   "execution_count": 35,
   "metadata": {},
   "outputs": [
    {
     "name": "stdout",
     "output_type": "stream",
     "text": [
      "🐛 debugging get_data\n",
      "{'body': None,\n",
      " 'headers': {'Accept': 'application/json',\n",
      "             'Connection': 'keep-alive',\n",
      "             'Content-Type': 'application/json',\n",
      "             'accept': 'application/json, text/plain',\n",
      "             'x-domo-authentication': 'eyJjdXN0b21lcklkIjoibW1tbS0wMDEyLTAyMDAiLCJleHBpcmF0aW9uIjoxNjgwNzU3Mzk0Mjg2LCJobWFjU2lnbmF0dXJlIjoiNDFkNTE2MWMyMjZiZGRkZmVlOTI0ZjkwZTY0MzZhY2FkYzdjMDQ3YTIyOWE0ZTczZDU4YTIxNTI0MWExZTBkOSIsInJvbGUiOiJQcml2aWxlZ2VkIiwic2lkIjoiMjc5NTJmYjMtYWE4ZS00MGFlLThhZjQtM2U4YmM0ZjgyYWFhIiwidGltZXN0YW1wIjoxNjgwNzI4NTk0Mjg2LCJ0b2VzIjoiVU5LTk9XTlNJRCIsInVzZXJJZCI6IjIwNzI2MTYyNDkifQ%3D%3D'},\n",
      " 'method': 'GET',\n",
      " 'params': {'options': 'load_associations,load_filters,include_open_policy'},\n",
      " 'url': 'http://domo-community.domo.com/api/query/v1/data-control/0e7f7755-eccc-4612-890c-c3dc3d5002c3/filter-groups/'}\n",
      "get_data: no body\n",
      "get_data_response <Response [301 Moved Permanently]>\n",
      "<html>\n",
      "<head><title>301 Moved Permanently</title></head>\n",
      "<body>\n",
      "<center><h1>301 Moved Permanently</h1></center>\n",
      "<hr><center>nginx</center>\n",
      "</body>\n",
      "</html>\n",
      "\n"
     ]
    }
   ],
   "source": [
    "import os\n",
    "\n",
    "# token_auth = dmda.DomoAuth(\n",
    "#     domo_instance=\"domo-community\", \n",
    "#     domo_access_token=os.environ[\"DOMO_DOJO_ACCESS_TOKEN\"]\n",
    "# )\n",
    "\n",
    "try:\n",
    "    full_auth = dmda.DomoFullAuth(domo_instance=\"domo-community\",\n",
    "                             domo_username=os.environ[\"DOMO_USERNAME\"],\n",
    "                             domo_password=os.environ[\"DOJO_PASSWORD\"]\n",
    "                             )\n",
    "    token = await full_auth.get_auth_token()\n",
    "except dmda.InvalidCredentialsError as e:\n",
    "    print(e)\n",
    "\n",
    "dataset_id = os.environ[\"DOJO_DATASET_ID\"]\n",
    "\n",
    "try:\n",
    "    res = await get_pdp_policies(auth=full_auth, dataset_id=dataset_id, debug_api=True)\n",
    "    print(res.response)\n",
    "except PDP_NotRetrieved as e:\n",
    "    print(e)\n"
   ]
  },
  {
   "cell_type": "code",
   "execution_count": 36,
   "metadata": {},
   "outputs": [],
   "source": [
    "import requests\n",
    "import json\n",
    "\n",
    "def getPDPList(instance, datasetId, token):\n",
    "    url = f'http://{instance}/api/query/v1/data-control/{datasetId}/filter-groups/' \n",
    "    headers = {\n",
    "        'Accept':'application/json',\n",
    "        'Content-Type':'application/json',\n",
    "        'x-domo-authentication': token\n",
    "    }\n",
    "    response = requests.get(url, headers = headers, params = {'options':'load_associations,load_filters,include_open_policy'})\n",
    "    jsonResponse = json.loads(response.text)\n",
    "    return jsonResponse\n",
    "\n"
   ]
  },
  {
   "cell_type": "code",
   "execution_count": 37,
   "metadata": {},
   "outputs": [
    {
     "data": {
      "text/plain": [
       "[{'name': 'All Rows',\n",
       "  'filterGroupId': 1152,\n",
       "  'dataSourceId': '0e7f7755-eccc-4612-890c-c3dc3d5002c3',\n",
       "  'type': 'open',\n",
       "  'dataSourcePermissions': False},\n",
       " {'name': 'Test Policy Name Employee 123',\n",
       "  'filterGroupId': 1153,\n",
       "  'dataSourceId': '0e7f7755-eccc-4612-890c-c3dc3d5002c3',\n",
       "  'type': 'user',\n",
       "  'userIds': [1893952720],\n",
       "  'dataSourcePermissions': False,\n",
       "  'resources': {'USER': ['1893952720']},\n",
       "  'parameters': [{'name': 'Employee ID',\n",
       "    'value': '123',\n",
       "    'values': ['123'],\n",
       "    'type': 'COLUMN',\n",
       "    'operator': 'EQUALS',\n",
       "    'not': False,\n",
       "    'ignoreCase': True}]}]"
      ]
     },
     "execution_count": 37,
     "metadata": {},
     "output_type": "execute_result"
    }
   ],
   "source": [
    "full_auth = dmda.DomoFullAuth(domo_instance=\"domo-community\",\n",
    "                             domo_username=os.environ[\"DOMO_USERNAME\"],\n",
    "                             domo_password=os.environ[\"DOJO_PASSWORD\"]\n",
    "                             )\n",
    "token = await full_auth.get_auth_token()\n",
    "res = getPDPList(instance='domo-community.domo.com', datasetId=os.environ[\"DOJO_DATASET_ID\"], token=full_auth.token)\n",
    "res"
   ]
  },
  {
   "attachments": {},
   "cell_type": "markdown",
   "metadata": {},
   "source": [
    "## generate body for create_policy endpoint\n"
   ]
  },
  {
   "cell_type": "code",
   "execution_count": 38,
   "metadata": {},
   "outputs": [],
   "source": [
    "# | export\n",
    "def generate_policy_parameter_simple(\n",
    "    column_name: str,\n",
    "    column_values_ls: list[str] = None,\n",
    "    operator=\"EQUALS\",\n",
    "    ignore_case: bool = True,\n",
    "):\n",
    "    if not isinstance(column_values_ls, list):\n",
    "        column_values_ls = [column_values_ls]\n",
    "\n",
    "    return {\n",
    "        \"type\": \"COLUMN\",\n",
    "        \"name\": column_name,\n",
    "        \"values\": column_values_ls,\n",
    "        \"operator\": operator,\n",
    "        \"ignoreCase\": ignore_case,\n",
    "    }"
   ]
  },
  {
   "cell_type": "code",
   "execution_count": 39,
   "metadata": {},
   "outputs": [],
   "source": [
    "# | export\n",
    "def generate_policy_body(\n",
    "    policy_name: str,\n",
    "    dataset_id: str,\n",
    "    parameters_ls: dict,  # generated by generate_policy_parameter_simple method\n",
    "    policy_id: str = None,  # only included if updating existing policy\n",
    "    user_ids: list[str] = None,\n",
    "    group_ids: list[str] = None,\n",
    "    virtual_user_ids: list[str] = None,\n",
    "):\n",
    "    if not user_ids:\n",
    "        user_ids = []\n",
    "\n",
    "    if not group_ids:\n",
    "        group_ids = []\n",
    "\n",
    "    if not virtual_user_ids:\n",
    "        virtual_user_ids = []\n",
    "\n",
    "    if not isinstance(parameters_ls, list):\n",
    "        parameters_ls = [parameters_ls]\n",
    "\n",
    "\n",
    "    body = {\n",
    "        \"name\": policy_name,\n",
    "        \"dataSourceId\": dataset_id,\n",
    "        \"userIds\": user_ids,\n",
    "        \"virtualUserIds\": virtual_user_ids,\n",
    "        \"groupIds\": group_ids,\n",
    "        \"dataSourcePermissions\": False,\n",
    "        \"parameters\": parameters_ls,\n",
    "    }\n",
    "\n",
    "    if policy_id:\n",
    "        body.update({\"filterGroupId\": policy_id})\n",
    "\n",
    "    return body"
   ]
  },
  {
   "attachments": {},
   "cell_type": "markdown",
   "metadata": {},
   "source": [
    "## Policy CRUD Operations"
   ]
  },
  {
   "cell_type": "code",
   "execution_count": 40,
   "metadata": {},
   "outputs": [],
   "source": [
    "# | export\n",
    "async def create_policy(\n",
    "    auth: dmda.DomoAuth,\n",
    "    dataset_id: str,\n",
    "    body: dict,  # generated using generate_policy_parameter_simple & generate_policy_body\n",
    "    session: httpx.AsyncClient = None,\n",
    "    debug_api: bool = False,\n",
    ") -> rgd.ResponseGetData:\n",
    "\n",
    "    url = f\"https://{auth.domo_instance}.domo.com/api/query/v1/data-control/{dataset_id}/filter-groups\"\n",
    "\n",
    "    if debug_api:\n",
    "        print(url)\n",
    "\n",
    "    res = await gd.get_data(\n",
    "        auth=auth,\n",
    "        url=url,\n",
    "        method=\"POST\",\n",
    "        body=body,\n",
    "        debug_api=debug_api,\n",
    "        session=session,\n",
    "    )\n",
    "\n",
    "    return res"
   ]
  },
  {
   "attachments": {},
   "cell_type": "markdown",
   "metadata": {},
   "source": [
    "#### sample implementation of create_policy, generate_policy_parameter_simple and generate_policy_body"
   ]
  },
  {
   "cell_type": "code",
   "execution_count": 41,
   "metadata": {},
   "outputs": [
    {
     "data": {
      "text/plain": [
       "{'name': 'Test Policy Name Employee 123',\n",
       " 'filterGroupId': 1155,\n",
       " 'dataSourceId': '0e7f7755-eccc-4612-890c-c3dc3d5002c3',\n",
       " 'policySetId': 1130,\n",
       " 'userIds': [1893952720],\n",
       " 'dataSourcePermissions': False,\n",
       " 'parameters': [{'name': 'Employee ID',\n",
       "   'value': '123',\n",
       "   'values': ['123'],\n",
       "   'type': 'COLUMN',\n",
       "   'operator': 'EQUALS',\n",
       "   'not': False,\n",
       "   'ignoreCase': True}]}"
      ]
     },
     "execution_count": 41,
     "metadata": {},
     "output_type": "execute_result"
    }
   ],
   "source": [
    "import os\n",
    "\n",
    "token_auth = dmda.DomoTokenAuth(\n",
    "    domo_instance=\"domo-community\",\n",
    "    domo_access_token=os.environ[\"DOMO_DOJO_ACCESS_TOKEN\"]\n",
    ")\n",
    "\n",
    "dataset_id = os.environ[\"DOJO_DATASET_ID\"]\n",
    "\n",
    "sample_parameter = generate_policy_parameter_simple(\n",
    "    column_name=\"Employee ID\",\n",
    "    column_values_ls=['123'],\n",
    "    operator=\"EQUALS\",\n",
    "    ignore_case=True,\n",
    ")\n",
    "\n",
    "body = generate_policy_body(\n",
    "    \"Test Policy Name Employee 123\",\n",
    "    dataset_id = dataset_id,\n",
    "    policy_id=\"123\",  # including the policy_id updates that existing policy\n",
    "    parameters_ls=sample_parameter,\n",
    "    user_ids=['1893952720']\n",
    ")\n",
    "\n",
    "res = await create_policy(\n",
    "    auth = token_auth,\n",
    "    dataset_id = dataset_id,\n",
    "    body = body,\n",
    ")\n",
    "res.response"
   ]
  },
  {
   "cell_type": "code",
   "execution_count": 42,
   "metadata": {},
   "outputs": [],
   "source": [
    "# | export\n",
    "async def update_policy(\n",
    "    auth: dmda.DomoAuth,\n",
    "    dataset_id: str,\n",
    "    policy_id: str,\n",
    "    body: dict,  # generated using generate_policy_parameter_simple & generate_policy_body\n",
    "    session: httpx.AsyncClient = None,\n",
    "    debug_api: bool = False,\n",
    ") -> rgd.ResponseGetData:\n",
    "\n",
    "    url = f\"https://{auth.domo_instance}.domo.com/api/query/v1/data-control/{dataset_id}/filter-groups/{policy_id}\"\n",
    "\n",
    "    if debug_api:\n",
    "        print(url)\n",
    "\n",
    "    res = await gd.get_data(\n",
    "        auth=auth,\n",
    "        url=url,\n",
    "        method=\"PUT\",\n",
    "        body=body,\n",
    "        debug_api=debug_api,\n",
    "        session=session,\n",
    "    )\n",
    "\n",
    "    return res"
   ]
  },
  {
   "attachments": {},
   "cell_type": "markdown",
   "metadata": {},
   "source": [
    "#### sample implementation of update_policy"
   ]
  },
  {
   "cell_type": "code",
   "execution_count": 54,
   "metadata": {},
   "outputs": [
    {
     "data": {
      "text/plain": [
       "ResponseGetData(status=200, response={'name': 'Test Policy Name Employee 123', 'filterGroupId': 1153, 'dataSourceId': '0e7f7755-eccc-4612-890c-c3dc3d5002c3', 'dataSourcePermissions': False, 'parameters': [{'name': 'Employee ID', 'value': '456', 'values': ['456'], 'type': 'COLUMN', 'operator': 'EQUALS', 'not': False, 'ignoreCase': True}]}, is_success=True)"
      ]
     },
     "execution_count": 54,
     "metadata": {},
     "output_type": "execute_result"
    }
   ],
   "source": [
    "import os\n",
    "from pprint import pprint\n",
    "\n",
    "token_auth = dmda.DomoTokenAuth(\n",
    "    domo_instance=\"domo-community\",\n",
    "    domo_access_token=os.environ[\"DOMO_DOJO_ACCESS_TOKEN\"]\n",
    ")\n",
    "\n",
    "dataset_id = os.environ[\"DOJO_DATASET_ID\"]\n",
    "\n",
    "sample_parameters = generate_policy_parameter_simple(\n",
    "    column_name=\"Employee ID\",\n",
    "    column_values_ls=[\"456\"],\n",
    "    operator=\"EQUALS\",\n",
    "    ignore_case=True,\n",
    ")\n",
    "\n",
    "body = generate_policy_body(\n",
    "    \"Test Policy Name Employee 123\",\n",
    "    dataset_id=dataset_id,\n",
    "    # policy_id='1153',\n",
    "    parameters_ls=[sample_parameters],\n",
    "    user_ids=['1893952720']\n",
    ")\n",
    "\n",
    "res = await update_policy(\n",
    "    auth=token_auth,\n",
    "    dataset_id=dataset_id,\n",
    "    policy_id='1153',\n",
    "    body=body,\n",
    ")\n",
    "\n",
    "res"
   ]
  },
  {
   "cell_type": "code",
   "execution_count": 55,
   "metadata": {},
   "outputs": [],
   "source": [
    "# | export\n",
    "\n",
    "async def toggle_pdp(\n",
    "        auth: dmda.DomoAuth,\n",
    "        dataset_id: str,\n",
    "        is_enable: bool = True,\n",
    "        debug_api: bool = False,\n",
    "        session: httpx.AsyncClient = None\n",
    "    )-> rgd.ResponseGetData:\n",
    "\n",
    "    url = f\"https://{auth.domo_instance}.domo.com/api/query/v1/data-control/{dataset_id}\"\n",
    "\n",
    "    if debug_api:\n",
    "        print(url)\n",
    "\n",
    "    body = {\"enabled\": is_enable,\n",
    "            \"external\": False  # not sure what this parameter does\n",
    "            }\n",
    "\n",
    "    res = await gd.get_data(\n",
    "        auth=auth,\n",
    "        url=url,\n",
    "        method=\"PUT\",\n",
    "        body=body,\n",
    "        debug_api=debug_api,\n",
    "        session=session,\n",
    "    )\n",
    "\n",
    "    return res\n"
   ]
  },
  {
   "attachments": {},
   "cell_type": "markdown",
   "metadata": {},
   "source": [
    "#### sample implementation of toggle_pdp"
   ]
  },
  {
   "cell_type": "code",
   "execution_count": 57,
   "metadata": {},
   "outputs": [
    {
     "data": {
      "text/plain": [
       "ResponseGetData(status=200, response={'enabled': True, 'secured': False, 'external': False}, is_success=True)"
      ]
     },
     "execution_count": 57,
     "metadata": {},
     "output_type": "execute_result"
    }
   ],
   "source": [
    "import os\n",
    "from pprint import pprint\n",
    "\n",
    "token_auth = dmda.DomoTokenAuth(\n",
    "    domo_instance=\"domo-community\",\n",
    "    domo_access_token=os.environ[\"DOMO_DOJO_ACCESS_TOKEN\"]\n",
    ")\n",
    "\n",
    "dataset_id = os.environ[\"DOJO_DATASET_ID\"]\n",
    "\n",
    "res = await toggle_pdp(\n",
    "    auth=token_auth,\n",
    "    dataset_id=dataset_id,\n",
    "    is_enable = True,\n",
    ")\n",
    "res"
   ]
  },
  {
   "cell_type": "code",
   "execution_count": 46,
   "metadata": {},
   "outputs": [],
   "source": [
    "# | hide\n",
    "\n",
    "import nbdev\n",
    "\n",
    "nbdev.nbdev_export()"
   ]
  }
 ],
 "metadata": {
  "jupytext": {
   "split_at_heading": true
  },
  "kernelspec": {
   "display_name": "Python 3 (ipykernel)",
   "language": "python",
   "name": "python3"
  },
  "language_info": {
   "codemirror_mode": {
    "name": "ipython",
    "version": 3
   },
   "file_extension": ".py",
   "mimetype": "text/x-python",
   "name": "python",
   "nbconvert_exporter": "python",
   "pygments_lexer": "ipython3",
   "version": "3.10.4"
  }
 },
 "nbformat": 4,
 "nbformat_minor": 4
}
