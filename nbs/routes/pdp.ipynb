{
 "cells": [
  {
   "cell_type": "raw",
   "metadata": {},
   "source": [
    "---\n",
    "output-file: routes.pdp.html\n",
    "title: PDP Routes\n",
    "---\n",
    "\n"
   ]
  },
  {
   "cell_type": "code",
   "execution_count": 2,
   "metadata": {},
   "outputs": [],
   "source": [
    "# | default_exp routes.pdp"
   ]
  },
  {
   "cell_type": "code",
   "execution_count": 3,
   "metadata": {},
   "outputs": [],
   "source": [
    "# | export\n",
    "import httpx\n",
    "import pandas as pd\n",
    "import io\n",
    "\n",
    "import domolibrary.client.get_data as gd\n",
    "import domolibrary.client.ResponseGetData as rgd\n",
    "import domolibrary.client.DomoAuth as dmda\n",
    "import domolibrary.client.DomoError as de"
   ]
  },
  {
   "cell_type": "code",
   "execution_count": 4,
   "metadata": {},
   "outputs": [],
   "source": [
    "# | export\n",
    "class PDP_NotRetrieved(de.DomoError):\n",
    "    def __init__(\n",
    "        self,\n",
    "        domo_instance,\n",
    "        function_name,\n",
    "        status,\n",
    "        message,\n",
    "        pdp_id=None,\n",
    "    ):\n",
    "\n",
    "        super().__init__(\n",
    "            domo_instance=domo_instance,\n",
    "            entity_id=pdp_id,\n",
    "            function_name=function_name,\n",
    "            status=status,\n",
    "            message=message,\n",
    "        )"
   ]
  },
  {
   "cell_type": "code",
   "execution_count": 5,
   "metadata": {},
   "outputs": [],
   "source": [
    "# | export\n",
    "async def get_pdp_policies(\n",
    "    auth: dmda.DomoAuth,\n",
    "    dataset_id: str,\n",
    "    debug_api: bool = False,\n",
    ") -> rgd.ResponseGetData:\n",
    "    url = f\"http://{auth.domo_instance}.domo.com/api/query/v1/data-control/{dataset_id}/filter-groups/\"\n",
    "\n",
    "    if debug_api:\n",
    "        print(url)\n",
    "\n",
    "    res = await gd.get_data(\n",
    "        auth=auth, \n",
    "        url=url, \n",
    "        method=\"GET\", \n",
    "        debug_api=debug_api, \n",
    "        # headers= {'accept': 'application/json'},\n",
    "        # params = {'options':'load_associations,load_filters,include_open_policy'},\n",
    "        is_follow_redirects=True\n",
    "    )\n",
    "\n",
    "    if len(res.response) == 0 or not res.is_success:\n",
    "        raise PDP_NotRetrieved(\n",
    "            domo_instance=auth.domo_instance,\n",
    "            function_name=\"get_pdp_policies\",\n",
    "            status=res.status,\n",
    "            message=\"failed to retrieve pdp policies\",\n",
    "        )\n",
    "\n",
    "    return res"
   ]
  },
  {
   "attachments": {},
   "cell_type": "markdown",
   "metadata": {},
   "source": [
    "### Sample implementation for get_pdp_policies"
   ]
  },
  {
   "cell_type": "code",
   "execution_count": 6,
   "metadata": {},
   "outputs": [
    {
     "name": "stdout",
     "output_type": "stream",
     "text": [
      "ResponseGetData(status=200, response=[{'name': 'Test Policy Name Employee 123', 'filterGroupId': 1153, 'dataSourceId': '0e7f7755-eccc-4612-890c-c3dc3d5002c3', 'type': 'user', 'dataSourcePermissions': False, 'parameters': [{'name': 'Employee ID', 'value': '456', 'values': ['456'], 'type': 'COLUMN', 'operator': 'EQUALS', 'not': False, 'ignoreCase': True}]}, {'name': 'Test 456', 'filterGroupId': 1156, 'dataSourceId': '0e7f7755-eccc-4612-890c-c3dc3d5002c3', 'type': 'user', 'userIds': [2072616249], 'dataSourcePermissions': False, 'resources': {'USER': ['2072616249']}, 'parameters': [{'name': 'Employee ID', 'value': '465', 'values': ['465'], 'type': 'COLUMN', 'operator': 'EQUALS', 'not': False, 'ignoreCase': False}]}, {'name': 'Test 94', 'filterGroupId': 1157, 'dataSourceId': '0e7f7755-eccc-4612-890c-c3dc3d5002c3', 'type': 'user', 'userIds': [1893952720], 'dataSourcePermissions': False, 'resources': {'USER': ['1893952720']}, 'parameters': [{'name': 'Employee ID', 'value': '465', 'values': ['465'], 'type': 'COLUMN', 'operator': 'EQUALS', 'not': False, 'ignoreCase': False}, {'name': 'Customer ID', 'value': '8978', 'values': ['8978'], 'type': 'COLUMN', 'operator': 'EQUALS', 'not': False, 'ignoreCase': False}]}, {'name': 'Test Policy Name Employee 1234', 'filterGroupId': 1159, 'dataSourceId': '0e7f7755-eccc-4612-890c-c3dc3d5002c3', 'type': 'user', 'userIds': [1893952720], 'dataSourcePermissions': False, 'resources': {'USER': ['1893952720']}, 'parameters': [{'name': 'Employee ID', 'value': '1234', 'values': ['1234'], 'type': 'COLUMN', 'operator': 'EQUALS', 'not': False, 'ignoreCase': True}]}, {'name': 'Test Policy Name Employee 1234', 'filterGroupId': 1160, 'dataSourceId': '0e7f7755-eccc-4612-890c-c3dc3d5002c3', 'type': 'user', 'userIds': [1893952720], 'dataSourcePermissions': False, 'resources': {'USER': ['1893952720']}, 'parameters': [{'name': 'Employee ID', 'value': '1234', 'values': ['1234'], 'type': 'COLUMN', 'operator': 'EQUALS', 'not': False, 'ignoreCase': True}]}], is_success=True)\n"
     ]
    }
   ],
   "source": [
    "import os\n",
    "\n",
    "token_auth = dmda.DomoTokenAuth(\n",
    "    domo_instance=\"domo-community\",\n",
    "    domo_access_token=os.environ[\"DOMO_DOJO_ACCESS_TOKEN\"]\n",
    ")\n",
    "\n",
    "dataset_id = os.environ[\"DOJO_DATASET_ID\"]\n",
    "\n",
    "try:\n",
    "    res = await get_pdp_policies(auth=token_auth, dataset_id=dataset_id)\n",
    "    print(res)\n",
    "except PDP_NotRetrieved as e:\n",
    "    print(e)\n"
   ]
  },
  {
   "cell_type": "code",
   "execution_count": 7,
   "metadata": {},
   "outputs": [],
   "source": [
    "\n",
    "# class SearchPDP_Error(de.DomoError):\n",
    "#     def __init__(self, status, message, domo_instance, function_name = \"search_pdp_by_name\"):\n",
    "#         super().__init__(function_name = function_name, status = status, message = message , domo_instance = domo_instance)\n",
    "        \n",
    "# def search_pdp_policies_by_name(\n",
    "#         # used to return pdp policy info, search by name\n",
    "#         search_name: str,\n",
    "#         result_list: list[dict], # this is the res.response from get_pdp_policies -- should be list of dict\n",
    "#         is_exact_match: bool = True\n",
    "#         ):\n",
    "    \n",
    "#     if is_exact_match:\n",
    "#         policy_search = next((policy for policy in result_list if policy.name == search_name), None)\n",
    "#         #print(policy_search)   \n",
    "         \n",
    "#         if not policy_search:\n",
    "#             raise SearchPDP_Error(\n",
    "#                 status='',\n",
    "#                 message=f'There is no policy named \"{search_name}\"',\n",
    "#                 domo_instance=''\n",
    "#             )  \n",
    "          \n",
    "#         return policy_search\n",
    "#     else:\n",
    "#         policy_search = [policy for policy in result_list if search_name.lower() in policy.name.lower()]\n",
    "#         if not policy_search:\n",
    "#             raise SearchPDP_Error(\n",
    "#                 status='',\n",
    "#                 message=f'There is no policy name containing \"{search_name}\"',\n",
    "#                 domo_instance=''\n",
    "#             )  \n",
    "        \n",
    "#         return policy_search"
   ]
  },
  {
   "cell_type": "code",
   "execution_count": 8,
   "metadata": {},
   "outputs": [
    {
     "ename": "AttributeError",
     "evalue": "'dict' object has no attribute 'name'",
     "output_type": "error",
     "traceback": [
      "\u001b[0;31m---------------------------------------------------------------------------\u001b[0m",
      "\u001b[0;31mAttributeError\u001b[0m                            Traceback (most recent call last)",
      "Cell \u001b[0;32mIn[8], line 1\u001b[0m\n\u001b[0;32m----> 1\u001b[0m pdp_policy_search \u001b[39m=\u001b[39m search_pdp_policies_by_name(search_name\u001b[39m=\u001b[39;49m\u001b[39m'\u001b[39;49m\u001b[39m1\u001b[39;49m\u001b[39m'\u001b[39;49m, result_list\u001b[39m=\u001b[39;49mres\u001b[39m.\u001b[39;49mresponse, is_exact_match\u001b[39m=\u001b[39;49m\u001b[39mFalse\u001b[39;49;00m)\n\u001b[1;32m      2\u001b[0m pdp_policy_search\n",
      "Cell \u001b[0;32mIn[7], line 27\u001b[0m, in \u001b[0;36msearch_pdp_policies_by_name\u001b[0;34m(search_name, result_list, is_exact_match)\u001b[0m\n\u001b[1;32m     25\u001b[0m     \u001b[39mreturn\u001b[39;00m policy_search\n\u001b[1;32m     26\u001b[0m \u001b[39melse\u001b[39;00m:\n\u001b[0;32m---> 27\u001b[0m     policy_search \u001b[39m=\u001b[39m [policy \u001b[39mfor\u001b[39;00m policy \u001b[39min\u001b[39;00m result_list \u001b[39mif\u001b[39;00m search_name\u001b[39m.\u001b[39mlower() \u001b[39min\u001b[39;00m policy\u001b[39m.\u001b[39mname\u001b[39m.\u001b[39mlower()]\n\u001b[1;32m     28\u001b[0m     \u001b[39mif\u001b[39;00m \u001b[39mnot\u001b[39;00m policy_search:\n\u001b[1;32m     29\u001b[0m         \u001b[39mraise\u001b[39;00m SearchPDP_Error(\n\u001b[1;32m     30\u001b[0m             status\u001b[39m=\u001b[39m\u001b[39m'\u001b[39m\u001b[39m'\u001b[39m,\n\u001b[1;32m     31\u001b[0m             message\u001b[39m=\u001b[39m\u001b[39mf\u001b[39m\u001b[39m'\u001b[39m\u001b[39mThere is no policy name containing \u001b[39m\u001b[39m\"\u001b[39m\u001b[39m{\u001b[39;00msearch_name\u001b[39m}\u001b[39;00m\u001b[39m\"\u001b[39m\u001b[39m'\u001b[39m,\n\u001b[1;32m     32\u001b[0m             domo_instance\u001b[39m=\u001b[39m\u001b[39m'\u001b[39m\u001b[39m'\u001b[39m\n\u001b[1;32m     33\u001b[0m         )  \n",
      "Cell \u001b[0;32mIn[7], line 27\u001b[0m, in \u001b[0;36m<listcomp>\u001b[0;34m(.0)\u001b[0m\n\u001b[1;32m     25\u001b[0m     \u001b[39mreturn\u001b[39;00m policy_search\n\u001b[1;32m     26\u001b[0m \u001b[39melse\u001b[39;00m:\n\u001b[0;32m---> 27\u001b[0m     policy_search \u001b[39m=\u001b[39m [policy \u001b[39mfor\u001b[39;00m policy \u001b[39min\u001b[39;00m result_list \u001b[39mif\u001b[39;00m search_name\u001b[39m.\u001b[39mlower() \u001b[39min\u001b[39;00m policy\u001b[39m.\u001b[39;49mname\u001b[39m.\u001b[39mlower()]\n\u001b[1;32m     28\u001b[0m     \u001b[39mif\u001b[39;00m \u001b[39mnot\u001b[39;00m policy_search:\n\u001b[1;32m     29\u001b[0m         \u001b[39mraise\u001b[39;00m SearchPDP_Error(\n\u001b[1;32m     30\u001b[0m             status\u001b[39m=\u001b[39m\u001b[39m'\u001b[39m\u001b[39m'\u001b[39m,\n\u001b[1;32m     31\u001b[0m             message\u001b[39m=\u001b[39m\u001b[39mf\u001b[39m\u001b[39m'\u001b[39m\u001b[39mThere is no policy name containing \u001b[39m\u001b[39m\"\u001b[39m\u001b[39m{\u001b[39;00msearch_name\u001b[39m}\u001b[39;00m\u001b[39m\"\u001b[39m\u001b[39m'\u001b[39m,\n\u001b[1;32m     32\u001b[0m             domo_instance\u001b[39m=\u001b[39m\u001b[39m'\u001b[39m\u001b[39m'\u001b[39m\n\u001b[1;32m     33\u001b[0m         )  \n",
      "\u001b[0;31mAttributeError\u001b[0m: 'dict' object has no attribute 'name'"
     ]
    },
    {
     "name": "stderr",
     "output_type": "stream",
     "text": [
      "Bad pipe message: %s [b\"sj\\x93\\xbd\\xd9\\xeeF\\xfdr\\xa9Q!Y\\xe6\\xe0G\\x97\\x0f\\x00\\x00\\xf4\\xc00\\xc0,\\xc0(\\xc0$\\xc0\\x14\\xc0\\n\\x00\\xa5\\x00\\xa3\\x00\\xa1\\x00\\x9f\\x00k\\x00j\\x00i\\x00h\\x009\\x008\\x007\\x006\\x00\\x88\\x00\\x87\\x00\\x86\\x00\\x85\\xc0\\x19\\x00\\xa7\\x00m\\x00:\\x00\\x89\\xc02\\xc0.\\xc0*\\xc0&\\xc0\\x0f\\xc0\\x05\\x00\\x9d\\x00=\\x005\\x00\\x84\\xc0/\\xc0+\\xc0'\\xc0#\\xc0\\x13\\xc0\\t\\x00\\xa4\\x00\\xa2\\x00\\xa0\\x00\\x9e\\x00g\\x00@\\x00?\\x00>\\x003\\x002\\x001\\x000\\x00\\x9a\\x00\\x99\\x00\\x98\\x00\\x97\\x00E\\x00D\\x00C\\x00B\\xc0\\x18\\x00\\xa6\\x00l\\x004\\x00\\x9b\\x00F\\xc01\\xc0-\\xc0)\\xc0%\\xc0\\x0e\\xc0\\x04\\x00\\x9c\\x00<\\x00/\\x00\\x96\\x00A\\x00\\x07\\xc0\\x11\\xc0\\x07\\xc0\\x16\\x00\\x18\\xc0\\x0c\\xc0\\x02\\x00\\x05\\x00\\x04\\xc0\\x12\\xc0\\x08\\x00\\x16\\x00\\x13\\x00\\x10\\x00\\r\\xc0\\x17\\x00\\x1b\\xc0\\r\\xc0\\x03\\x00\\n\\x00\\x15\\x00\\x12\\x00\\x0f\\x00\\x0c\\x00\\x1a\\x00\\t\\x00\\x14\\x00\\x11\\x00\\x19\\x00\\x08\\x00\\x06\\x00\\x17\\x00\\x03\\xc0\"]\n",
      "Bad pipe message: %s [b'\\xca\\xc4f\\x8aK\\xeb\\x9bJ\\xf62\\x86\\x0b^\\xc8\\xba\\xc8\\xb8\\xaf D\\xb6w?\\x85\\x8d\\xd1,Pz\\xb6\\xb7\\xbeg\\xab\\xcf\\xfe\\xe9oD\\xfdI\\xd3\\xb4\\x17!\\x05\\xff\\rc!\\xa9\\x00\\x08\\x13\\x02\\x13\\x03\\x13\\x01\\x00\\xff\\x01\\x00\\x00\\x8f\\x00\\x00\\x00\\x0e\\x00\\x0c\\x00\\x00\\t127', b'.0.1\\x00\\x0b\\x00\\x04\\x03\\x00\\x01\\x02\\x00\\n\\x00\\x0c\\x00\\n\\x00\\x1d\\x00\\x17\\x00\\x1e\\x00\\x19\\x00\\x18\\x00#\\x00\\x00\\x00\\x16\\x00\\x00\\x00\\x17\\x00\\x00\\x00\\r\\x00\\x1e\\x00']\n",
      "Bad pipe message: %s [b\"\\xc4s\\xc8\\x05e\\xeer\\xa5\\xcc\\xf9\\x8bM\\x10`\\xc0\\x08\\xda\\xb7\\x00\\x00|\\xc0,\\xc00\\x00\\xa3\\x00\\x9f\\xcc\\xa9\\xcc\\xa8\\xcc\\xaa\\xc0\\xaf\\xc0\\xad\\xc0\\xa3\\xc0\\x9f\\xc0]\\xc0a\\xc0W\\xc0S\\xc0+\\xc0/\\x00\\xa2\\x00\\x9e\\xc0\\xae\\xc0\\xac\\xc0\\xa2\\xc0\\x9e\\xc0\\\\\\xc0`\\xc0V\\xc0R\\xc0$\\xc0(\\x00k\\x00j\\xc0#\\xc0'\\x00g\\x00@\\xc0\\n\\xc0\\x14\\x009\\x008\\xc0\\t\\xc0\\x13\\x003\\x002\\x00\\x9d\\xc0\\xa1\\xc0\\x9d\\xc0Q\\x00\\x9c\\xc0\\xa0\\xc0\\x9c\\xc0P\\x00=\\x00<\\x005\\x00/\\x00\\x9a\\x00\\x99\\xc0\\x07\\xc0\\x11\\x00\\x96\\x00\\x05\\x00\\xff\\x01\\x00\\x00j\\x00\\x00\\x00\\x0e\\x00\\x0c\\x00\\x00\\t127.0.0.1\\x00\\x0b\\x00\\x04\\x03\\x00\\x01\\x02\\x00\\n\\x00\\x0c\\x00\\n\\x00\\x1d\\x00\\x17\\x00\\x1e\\x00\\x19\\x00\\x18\\x00#\\x00\\x00\\x00\\x16\\x00\\x00\\x00\\x17\\x00\\x00\\x00\\r\\x000\\x00.\\x04\\x03\\x05\\x03\\x06\\x03\\x08\\x07\\x08\\x08\\x08\\t\\x08\\n\\x08\\x0b\\x08\\x04\\x08\\x05\\x08\\x06\\x04\\x01\\x05\\x01\\x06\\x01\\x03\\x03\\x02\\x03\\x03\\x01\\x02\\x01\", b'\\x02\\x02']\n",
      "Bad pipe message: %s [b\"\\x89\\xbb_\\x83\\xaa\\xfe]\\xe2%\\x1c\\xa2]_\\xb0s;\\x8a\\x83\\x00\\x00\\xa6\\xc0,\\xc00\\x00\\xa3\\x00\\x9f\\xcc\\xa9\\xcc\\xa8\\xcc\\xaa\\xc0\\xaf\\xc0\\xad\\xc0\\xa3\\xc0\\x9f\\xc0]\\xc0a\\xc0W\\xc0S\\xc0+\\xc0/\\x00\\xa2\\x00\\x9e\\xc0\\xae\\xc0\\xac\\xc0\\xa2\\xc0\\x9e\\xc0\\\\\\xc0`\\xc0V\\xc0R\\xc0$\\xc0(\\x00k\\x00j\\xc0s\\xc0w\\x00\\xc4\\x00\\xc3\\xc0#\\xc0'\\x00g\\x00@\\xc0r\\xc0v\\x00\\xbe\\x00\\xbd\\xc0\\n\\xc0\\x14\\x009\\x008\\x00\\x88\\x00\\x87\\xc0\\t\\xc0\\x13\\x003\\x002\\x00\\x9a\\x00\\x99\\x00E\\x00D\\xc0\\x07\\xc0\\x11\\xc0\\x08\\xc0\\x12\\x00\\x16\\x00\\x13\\x00\\x9d\\xc0\\xa1\\xc0\\x9d\\xc0Q\\x00\\x9c\\xc0\\xa0\\xc0\\x9c\\xc0P\\x00=\\x00\\xc0\\x00<\\x00\\xba\\x005\\x00\\x84\\x00/\\x00\\x96\\x00A\\x00\\x05\\x00\\n\"]\n",
      "Bad pipe message: %s [b\"\\x14~\\xcc\\x00\\x8a\\xdbMD\\xf10z7\\nF\\x89y$\\x9c\\x00\\x00\\x86\\xc00\\xc0,\\xc0(\\xc0$\\xc0\\x14\\xc0\\n\\x00\\xa5\\x00\\xa3\\x00\\xa1\\x00\\x9f\\x00k\\x00j\\x00i\\x00h\\x009\\x008\\x007\\x006\\xc02\\xc0.\\xc0*\\xc0&\\xc0\\x0f\\xc0\\x05\\x00\\x9d\\x00=\\x005\\xc0/\\xc0+\\xc0'\\xc0#\"]\n",
      "Bad pipe message: %s [b'\\x06\\xbc\\xcb\\xd5\\xe5\\xb9\\xbd\\xc7g\\xa0\\xaa\\xfb\\x8eZ-|M\\x7f\\x00\\x00\\xa2\\xc0\\x14\\xc0\\n\\x009\\x008\\x007\\x006\\x00\\x88\\x00\\x87\\x00\\x86\\x00\\x85\\xc0\\x19\\x00:\\x00\\x89\\xc0\\x0f\\xc0\\x05\\x005\\x00\\x84\\xc0\\x13\\xc0\\t\\x003\\x002\\x001\\x000\\x00\\x9a\\x00\\x99\\x00\\x98\\x00\\x97\\x00E\\x00D\\x00C\\x00B\\xc0\\x18\\x004\\x00\\x9b\\x00F\\xc0\\x0e\\xc0\\x04\\x00/\\x00\\x96\\x00A\\x00\\x07\\xc0\\x11\\xc0\\x07\\xc0\\x16\\x00\\x18\\xc0\\x0c\\xc0\\x02\\x00\\x05\\x00\\x04\\xc0\\x12\\xc0\\x08\\x00\\x16\\x00\\x13\\x00\\x10\\x00\\r\\xc0\\x17\\x00\\x1b\\xc0\\r\\xc0\\x03\\x00\\n\\x00\\x15\\x00\\x12\\x00\\x0f\\x00\\x0c\\x00\\x1a\\x00\\t\\x00\\x14\\x00\\x11\\x00\\x19\\x00\\x08\\x00\\x06\\x00\\x17\\x00\\x03\\xc0\\x10\\xc0\\x06\\xc0\\x15\\xc0\\x0b\\xc0\\x01\\x00\\x02\\x00\\x01\\x00\\xff\\x02\\x01\\x00\\x00C\\x00\\x00\\x00', b'\\x0c\\x00\\x00\\t127.0.0.1']\n",
      "Bad pipe message: %s [b'V\\xb3\\xbb:\\x17X\\xfd\\xa2?\\xa4^\\xb4H\\xbeG\\x83\\xca\\xe0\\x00\\x00\\xa2\\xc0\\x14\\xc0\\n\\x009\\x008\\x007\\x006\\x00\\x88\\x00\\x87\\x00\\x86\\x00\\x85\\xc0\\x19\\x00:\\x00\\x89\\xc0\\x0f\\xc0\\x05\\x005\\x00\\x84\\xc0\\x13\\xc0\\t\\x003\\x002\\x001\\x000\\x00\\x9a\\x00\\x99\\x00\\x98\\x00\\x97\\x00E\\x00D\\x00C\\x00B\\xc0\\x18\\x004\\x00\\x9b\\x00F\\xc0\\x0e\\xc0\\x04\\x00/\\x00\\x96']\n",
      "Bad pipe message: %s [b'\\x17\\xc3\\xb5\\xae\\xbf\\x19\\xde\\xdb\\x11\\xe41\\x99\\x1a\\xc9l\\xf5*\\xe1\\x00\\x00\\xa2\\xc0\\x14\\xc0\\n\\x009\\x008\\x007\\x006\\x00\\x88\\x00\\x87\\x00\\x86\\x00\\x85\\xc0\\x19\\x00:\\x00\\x89\\xc0\\x0f\\xc0\\x05\\x005\\x00\\x84\\xc0\\x13\\xc0\\t\\x003\\x002\\x001\\x000\\x00\\x9a\\x00\\x99\\x00\\x98\\x00\\x97\\x00E\\x00D\\x00C\\x00B\\xc0\\x18\\x004\\x00\\x9b\\x00F\\xc0\\x0e\\xc0\\x04\\x00/\\x00\\x96\\x00A\\x00\\x07\\xc0\\x11\\xc0\\x07\\xc0\\x16\\x00\\x18\\xc0\\x0c\\xc0\\x02\\x00\\x05\\x00\\x04\\xc0\\x12\\xc0\\x08\\x00\\x16\\x00\\x13\\x00\\x10\\x00\\r\\xc0\\x17\\x00\\x1b\\xc0\\r\\xc0\\x03\\x00\\n\\x00\\x15\\x00\\x12\\x00\\x0f\\x00\\x0c\\x00\\x1a\\x00\\t\\x00\\x14\\x00\\x11\\x00\\x19\\x00\\x08\\x00\\x06\\x00\\x17\\x00\\x03\\xc0', b'\\x06\\xc0\\x15\\xc0\\x0b\\xc0\\x01\\x00\\x02\\x00\\x01\\x00\\xff\\x02\\x01']\n",
      "Bad pipe message: %s [b'\\x06\\xc0\\x15\\xc0\\x0b\\xc0\\x01\\x00;\\x00\\x02\\x00\\x01\\x00\\xff']\n",
      "Bad pipe message: %s [b'\\x03\\x05\\x03\\x06\\x03\\x08\\x07\\x08\\x08\\x08\\t\\x08\\n\\x08\\x0b\\x08\\x04\\x08\\x05\\x08\\x06\\x04\\x01\\x05\\x01\\x06\\x01']\n",
      "Bad pipe message: %s [b'\\x05\\x02\\x06']\n"
     ]
    }
   ],
   "source": [
    "# pdp_policy_search = search_pdp_policies_by_name(search_name='1', result_list=res.response, is_exact_match=False)\n",
    "# pdp_policy_search"
   ]
  },
  {
   "cell_type": "code",
   "execution_count": null,
   "metadata": {},
   "outputs": [],
   "source": [
    "\n",
    "# class SearchPDP_Error(de.DomoError):\n",
    "#     def __init__(self, status, message, domo_instance, function_name = \"search_pdp_by_name\"):\n",
    "#         super().__init__(function_name = function_name, status = status, message = message , domo_instance = domo_instance)\n",
    "\n",
    "# async def search_pdp_policies_by_id(\n",
    "#         # used to return pdp policy info, search by id\n",
    "#         search_id: str,\n",
    "#         result_list: list[dict], # this is the res.response from get_pdp_policies -- should be list of dict\n",
    "#         ):\n",
    "    \n",
    "#     policy_search = next((policy for policy in result_list if policy.filter_group_id == search_id), None)\n",
    "#     #print(policy_search)   \n",
    "         \n",
    "#     if not policy_search:\n",
    "#         raise SearchPDP_Error(\n",
    "#             status='',\n",
    "#             message=f'There is no policy id \"{search_id}\"',\n",
    "#             domo_instance=''\n",
    "#         )  \n",
    "          \n",
    "#     return policy_search\n"
   ]
  },
  {
   "attachments": {},
   "cell_type": "markdown",
   "metadata": {},
   "source": [
    "## generate body for create_policy endpoint\n"
   ]
  },
  {
   "cell_type": "code",
   "execution_count": null,
   "metadata": {},
   "outputs": [],
   "source": [
    "# | export\n",
    "def generate_policy_parameter_simple(\n",
    "    column_name: str,\n",
    "    column_values_ls: list[str] = None,\n",
    "    operator=\"EQUALS\",\n",
    "    ignore_case: bool = True,\n",
    "):\n",
    "    if not isinstance(column_values_ls, list):\n",
    "        column_values_ls = [column_values_ls]\n",
    "\n",
    "    return {\n",
    "        \"type\": \"COLUMN\",\n",
    "        \"name\": column_name,\n",
    "        \"values\": column_values_ls,\n",
    "        \"operator\": operator,\n",
    "        \"ignoreCase\": ignore_case,\n",
    "    }"
   ]
  },
  {
   "cell_type": "code",
   "execution_count": null,
   "metadata": {},
   "outputs": [],
   "source": [
    "# | export\n",
    "def generate_policy_body(\n",
    "    policy_name: str,\n",
    "    dataset_id: str,\n",
    "    parameters_ls: list[dict],  # generated by generate_policy_parameter_simple method\n",
    "    policy_id: str = None,  # only included if updating existing policy\n",
    "    user_ids: list[str] = None,\n",
    "    group_ids: list[str] = None,\n",
    "    virtual_user_ids: list[str] = None,\n",
    "):\n",
    "    if not user_ids:\n",
    "        user_ids = []\n",
    "\n",
    "    if not group_ids:\n",
    "        group_ids = []\n",
    "\n",
    "    if not virtual_user_ids:\n",
    "        virtual_user_ids = []\n",
    "\n",
    "    if not isinstance(parameters_ls, list):\n",
    "        parameters_ls = [parameters_ls]\n",
    "\n",
    "\n",
    "    body = {\n",
    "        \"name\": policy_name,\n",
    "        \"dataSourceId\": dataset_id,\n",
    "        \"userIds\": user_ids,\n",
    "        \"virtualUserIds\": virtual_user_ids,\n",
    "        \"groupIds\": group_ids,\n",
    "        \"dataSourcePermissions\": False,\n",
    "        \"parameters\": parameters_ls,\n",
    "    }\n",
    "\n",
    "    if policy_id:\n",
    "        body.update({\"filterGroupId\": policy_id})\n",
    "\n",
    "    return body"
   ]
  },
  {
   "attachments": {},
   "cell_type": "markdown",
   "metadata": {},
   "source": [
    "## Policy CRUD Operations"
   ]
  },
  {
   "cell_type": "code",
   "execution_count": null,
   "metadata": {},
   "outputs": [],
   "source": [
    "# | export\n",
    "class CreatePolicy_Error(de.DomoError):\n",
    "    def __init__(self, status, message, domo_instance, function_name = \"create_policy\"):\n",
    "        super().__init__(function_name = function_name, status = status, message = message , domo_instance = domo_instance)\n",
    "\n",
    "async def create_policy(\n",
    "    auth: dmda.DomoAuth,\n",
    "    dataset_id: str,\n",
    "    body: dict,  # generated using generate_policy_parameter_simple & generate_policy_body\n",
    "    session: httpx.AsyncClient = None,\n",
    "    override_same_name: bool = False,\n",
    "    debug_api: bool = False,\n",
    ") -> rgd.ResponseGetData:\n",
    "\n",
    "    url = f\"https://{auth.domo_instance}.domo.com/api/query/v1/data-control/{dataset_id}/filter-groups\"\n",
    "\n",
    "    if debug_api:\n",
    "        print(url)\n",
    "    \n",
    "    if override_same_name:\n",
    "        print(f'Creating policy...')\n",
    "        res = await gd.get_data(\n",
    "            auth=auth,\n",
    "            url=url,\n",
    "            method=\"POST\",\n",
    "            body=body,\n",
    "            debug_api=debug_api,\n",
    "            session=session,\n",
    "        )\n",
    "    else:\n",
    "        existing_policies = await get_pdp_policies(auth=auth, dataset_id=dataset_id) \n",
    "        \n",
    "        if existing_policies.is_success:\n",
    "            try:\n",
    "                policy_exists = search_pdp_policies_by_name(search_name=body.get('name'), result_list=existing_policies.response, is_exact_match=True)\n",
    "            except:\n",
    "                policy_exists = False\n",
    "            \n",
    "            if policy_exists:\n",
    "                raise CreatePolicy_Error(\n",
    "                    status='',\n",
    "                    message= f'Policy name already exists--avoid creating pdp policies with the same name..To override, rerun and set \"override_same_name=True\"',\n",
    "                    domo_instance=auth.domo_instance,\n",
    "                )\n",
    "            else:\n",
    "                print(f'Creating policy...')\n",
    "                res = await gd.get_data(\n",
    "                auth=auth,\n",
    "                url=url,\n",
    "                method=\"POST\",\n",
    "                body=body,\n",
    "                debug_api=debug_api,\n",
    "                session=session,\n",
    "            )\n",
    "\n",
    "    return res"
   ]
  },
  {
   "attachments": {},
   "cell_type": "markdown",
   "metadata": {},
   "source": [
    "#### sample implementation of create_policy, generate_policy_parameter_simple and generate_policy_body"
   ]
  },
  {
   "cell_type": "code",
   "execution_count": null,
   "metadata": {},
   "outputs": [
    {
     "ename": "CreatePolicy_Error",
     "evalue": "create_policy: Policy name already exists--avoid creating pdp policies with the same name..To override, rerun and set \"override_same_name=True\" at domo-community",
     "output_type": "error",
     "traceback": [
      "\u001b[0;31m---------------------------------------------------------------------------\u001b[0m",
      "\u001b[0;31mCreatePolicy_Error\u001b[0m                        Traceback (most recent call last)",
      "Cell \u001b[0;32mIn[12], line 25\u001b[0m\n\u001b[1;32m     10\u001b[0m sample_parameter \u001b[39m=\u001b[39m generate_policy_parameter_simple(\n\u001b[1;32m     11\u001b[0m     column_name\u001b[39m=\u001b[39m\u001b[39m\"\u001b[39m\u001b[39mEmployee ID\u001b[39m\u001b[39m\"\u001b[39m,\n\u001b[1;32m     12\u001b[0m     column_values_ls\u001b[39m=\u001b[39m[\u001b[39m'\u001b[39m\u001b[39m1234\u001b[39m\u001b[39m'\u001b[39m],\n\u001b[1;32m     13\u001b[0m     operator\u001b[39m=\u001b[39m\u001b[39m\"\u001b[39m\u001b[39mEQUALS\u001b[39m\u001b[39m\"\u001b[39m,\n\u001b[1;32m     14\u001b[0m     ignore_case\u001b[39m=\u001b[39m\u001b[39mTrue\u001b[39;00m,\n\u001b[1;32m     15\u001b[0m )\n\u001b[1;32m     17\u001b[0m body \u001b[39m=\u001b[39m generate_policy_body(\n\u001b[1;32m     18\u001b[0m     policy_name\u001b[39m=\u001b[39m\u001b[39m\"\u001b[39m\u001b[39mTest Policy Name Employee 1234\u001b[39m\u001b[39m\"\u001b[39m,\n\u001b[1;32m     19\u001b[0m     dataset_id \u001b[39m=\u001b[39m dataset_id,\n\u001b[0;32m   (...)\u001b[0m\n\u001b[1;32m     22\u001b[0m     user_ids\u001b[39m=\u001b[39m[\u001b[39m'\u001b[39m\u001b[39m1893952720\u001b[39m\u001b[39m'\u001b[39m]\n\u001b[1;32m     23\u001b[0m )\n\u001b[0;32m---> 25\u001b[0m res \u001b[39m=\u001b[39m \u001b[39mawait\u001b[39;00m create_policy(\n\u001b[1;32m     26\u001b[0m     auth \u001b[39m=\u001b[39m token_auth,\n\u001b[1;32m     27\u001b[0m     dataset_id \u001b[39m=\u001b[39m dataset_id,\n\u001b[1;32m     28\u001b[0m     body \u001b[39m=\u001b[39m body,\n\u001b[1;32m     29\u001b[0m     override_same_name\u001b[39m=\u001b[39m\u001b[39mFalse\u001b[39;00m\n\u001b[1;32m     30\u001b[0m )\n\u001b[1;32m     31\u001b[0m res\u001b[39m.\u001b[39mresponse\n",
      "Cell \u001b[0;32mIn[11], line 40\u001b[0m, in \u001b[0;36mcreate_policy\u001b[0;34m(auth, dataset_id, body, session, override_same_name, debug_api)\u001b[0m\n\u001b[1;32m     37\u001b[0m     policy_exists \u001b[39m=\u001b[39m \u001b[39mFalse\u001b[39;00m\n\u001b[1;32m     39\u001b[0m \u001b[39mif\u001b[39;00m policy_exists:\n\u001b[0;32m---> 40\u001b[0m     \u001b[39mraise\u001b[39;00m CreatePolicy_Error(\n\u001b[1;32m     41\u001b[0m         status\u001b[39m=\u001b[39m\u001b[39m'\u001b[39m\u001b[39m'\u001b[39m,\n\u001b[1;32m     42\u001b[0m         message\u001b[39m=\u001b[39m \u001b[39mf\u001b[39m\u001b[39m'\u001b[39m\u001b[39mPolicy name already exists--avoid creating pdp policies with the same name..To override, rerun and set \u001b[39m\u001b[39m\"\u001b[39m\u001b[39moverride_same_name=True\u001b[39m\u001b[39m\"\u001b[39m\u001b[39m'\u001b[39m,\n\u001b[1;32m     43\u001b[0m         domo_instance\u001b[39m=\u001b[39mauth\u001b[39m.\u001b[39mdomo_instance,\n\u001b[1;32m     44\u001b[0m     )\n\u001b[1;32m     45\u001b[0m \u001b[39melse\u001b[39;00m:\n\u001b[1;32m     46\u001b[0m     \u001b[39mprint\u001b[39m(\u001b[39mf\u001b[39m\u001b[39m'\u001b[39m\u001b[39mCreating policy...\u001b[39m\u001b[39m'\u001b[39m)\n",
      "\u001b[0;31mCreatePolicy_Error\u001b[0m: create_policy: Policy name already exists--avoid creating pdp policies with the same name..To override, rerun and set \"override_same_name=True\" at domo-community"
     ]
    }
   ],
   "source": [
    "import os\n",
    "\n",
    "token_auth = dmda.DomoTokenAuth(\n",
    "    domo_instance=\"domo-community\",\n",
    "    domo_access_token=os.environ[\"DOMO_DOJO_ACCESS_TOKEN\"]\n",
    ")\n",
    "\n",
    "dataset_id = os.environ[\"DOJO_DATASET_ID\"]\n",
    "\n",
    "sample_parameter = generate_policy_parameter_simple(\n",
    "    column_name=\"Employee ID\",\n",
    "    column_values_ls=['1234'],\n",
    "    operator=\"EQUALS\",\n",
    "    ignore_case=True,\n",
    ")\n",
    "\n",
    "body = generate_policy_body(\n",
    "    policy_name=\"Test Policy Name Employee 1234\",\n",
    "    dataset_id = dataset_id,\n",
    "    policy_id=\"123\",  # including the policy_id updates that existing policy\n",
    "    parameters_ls=sample_parameter,\n",
    "    user_ids=['1893952720']\n",
    ")\n",
    "\n",
    "res = await create_policy(\n",
    "    auth = token_auth,\n",
    "    dataset_id = dataset_id,\n",
    "    body = body,\n",
    "    override_same_name=False\n",
    ")\n",
    "res.response"
   ]
  },
  {
   "cell_type": "code",
   "execution_count": null,
   "metadata": {},
   "outputs": [
    {
     "name": "stdout",
     "output_type": "stream",
     "text": [
      "Test Policy Name Employee 123\n"
     ]
    }
   ],
   "source": [
    "print(body['name'])"
   ]
  },
  {
   "cell_type": "code",
   "execution_count": null,
   "metadata": {},
   "outputs": [],
   "source": [
    "# | export\n",
    "async def update_policy(\n",
    "    auth: dmda.DomoAuth,\n",
    "    dataset_id: str,\n",
    "    policy_id: str,\n",
    "    body: dict,  # generated using generate_policy_parameter_simple & generate_policy_body\n",
    "    session: httpx.AsyncClient = None,\n",
    "    debug_api: bool = False,\n",
    ") -> rgd.ResponseGetData:\n",
    "\n",
    "    url = f\"https://{auth.domo_instance}.domo.com/api/query/v1/data-control/{dataset_id}/filter-groups/{policy_id}\"\n",
    "\n",
    "    if debug_api:\n",
    "        print(url)\n",
    "\n",
    "    res = await gd.get_data(\n",
    "        auth=auth,\n",
    "        url=url,\n",
    "        method=\"PUT\",\n",
    "        body=body,\n",
    "        debug_api=debug_api,\n",
    "        session=session,\n",
    "    )\n",
    "\n",
    "    return res"
   ]
  },
  {
   "attachments": {},
   "cell_type": "markdown",
   "metadata": {},
   "source": [
    "#### sample implementation of update_policy"
   ]
  },
  {
   "cell_type": "code",
   "execution_count": null,
   "metadata": {},
   "outputs": [
    {
     "data": {
      "text/plain": [
       "ResponseGetData(status=200, response={'name': 'Test Policy Name Employee 123', 'filterGroupId': 1153, 'dataSourceId': '0e7f7755-eccc-4612-890c-c3dc3d5002c3', 'dataSourcePermissions': False, 'parameters': [{'name': 'Employee ID', 'value': '456', 'values': ['456'], 'type': 'COLUMN', 'operator': 'EQUALS', 'not': False, 'ignoreCase': True}]}, is_success=True)"
      ]
     },
     "execution_count": 54,
     "metadata": {},
     "output_type": "execute_result"
    }
   ],
   "source": [
    "import os\n",
    "from pprint import pprint\n",
    "\n",
    "token_auth = dmda.DomoTokenAuth(\n",
    "    domo_instance=\"domo-community\",\n",
    "    domo_access_token=os.environ[\"DOMO_DOJO_ACCESS_TOKEN\"]\n",
    ")\n",
    "\n",
    "dataset_id = os.environ[\"DOJO_DATASET_ID\"]\n",
    "\n",
    "sample_parameters = generate_policy_parameter_simple(\n",
    "    column_name=\"Employee ID\",\n",
    "    column_values_ls=[\"456\"],\n",
    "    operator=\"EQUALS\",\n",
    "    ignore_case=True,\n",
    ")\n",
    "\n",
    "body = generate_policy_body(\n",
    "    \"Test Policy Name Employee 123\",\n",
    "    dataset_id=dataset_id,\n",
    "    # policy_id='1153',\n",
    "    parameters_ls=[sample_parameters],\n",
    "    user_ids=['1893952720']\n",
    ")\n",
    "\n",
    "res = await update_policy(\n",
    "    auth=token_auth,\n",
    "    dataset_id=dataset_id,\n",
    "    policy_id='1153',\n",
    "    body=body,\n",
    ")\n",
    "\n",
    "res"
   ]
  },
  {
   "cell_type": "code",
   "execution_count": null,
   "metadata": {},
   "outputs": [],
   "source": [
    "# | export\n",
    "\n",
    "async def toggle_pdp(\n",
    "        auth: dmda.DomoAuth,\n",
    "        dataset_id: str,\n",
    "        is_enable: bool = True,\n",
    "        debug_api: bool = False,\n",
    "        session: httpx.AsyncClient = None\n",
    "    )-> rgd.ResponseGetData:\n",
    "\n",
    "    url = f\"https://{auth.domo_instance}.domo.com/api/query/v1/data-control/{dataset_id}\"\n",
    "\n",
    "    if debug_api:\n",
    "        print(url)\n",
    "\n",
    "    body = {\"enabled\": is_enable,\n",
    "            \"external\": False  # not sure what this parameter does\n",
    "            }\n",
    "\n",
    "    res = await gd.get_data(\n",
    "        auth=auth,\n",
    "        url=url,\n",
    "        method=\"PUT\",\n",
    "        body=body,\n",
    "        debug_api=debug_api,\n",
    "        session=session,\n",
    "    )\n",
    "\n",
    "    return res\n"
   ]
  },
  {
   "attachments": {},
   "cell_type": "markdown",
   "metadata": {},
   "source": [
    "#### sample implementation of toggle_pdp"
   ]
  },
  {
   "cell_type": "code",
   "execution_count": null,
   "metadata": {},
   "outputs": [
    {
     "data": {
      "text/plain": [
       "ResponseGetData(status=200, response={'enabled': True, 'secured': False, 'external': False}, is_success=True)"
      ]
     },
     "execution_count": 57,
     "metadata": {},
     "output_type": "execute_result"
    }
   ],
   "source": [
    "import os\n",
    "from pprint import pprint\n",
    "\n",
    "token_auth = dmda.DomoTokenAuth(\n",
    "    domo_instance=\"domo-community\",\n",
    "    domo_access_token=os.environ[\"DOMO_DOJO_ACCESS_TOKEN\"]\n",
    ")\n",
    "\n",
    "dataset_id = os.environ[\"DOJO_DATASET_ID\"]\n",
    "\n",
    "res = await toggle_pdp(\n",
    "    auth=token_auth,\n",
    "    dataset_id=dataset_id,\n",
    "    is_enable = True,\n",
    ")\n",
    "res"
   ]
  },
  {
   "cell_type": "code",
   "execution_count": null,
   "metadata": {},
   "outputs": [],
   "source": [
    "# | hide\n",
    "\n",
    "import nbdev\n",
    "\n",
    "nbdev.nbdev_export()"
   ]
  }
 ],
 "metadata": {
  "jupytext": {
   "split_at_heading": true
  },
  "kernelspec": {
   "display_name": "Python 3 (ipykernel)",
   "language": "python",
   "name": "python3"
  },
  "language_info": {
   "codemirror_mode": {
    "name": "ipython",
    "version": 3
   },
   "file_extension": ".py",
   "mimetype": "text/x-python",
   "name": "python",
   "nbconvert_exporter": "python",
   "pygments_lexer": "ipython3",
   "version": "3.10.4"
  }
 },
 "nbformat": 4,
 "nbformat_minor": 4
}
