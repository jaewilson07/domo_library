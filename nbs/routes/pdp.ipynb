{
 "cells": [
  {
   "cell_type": "raw",
   "metadata": {},
   "source": [
    "---\n",
    "output-file: routes.pdp.html\n",
    "title: PDP Routes\n",
    "---\n",
    "\n"
   ]
  },
  {
   "cell_type": "code",
   "execution_count": null,
   "metadata": {},
   "outputs": [],
   "source": [
    "# | default_exp routes.pdp"
   ]
  },
  {
   "cell_type": "code",
   "execution_count": null,
   "metadata": {},
   "outputs": [],
   "source": [
    "# | export\n",
    "import httpx\n",
    "import pandas as pd\n",
    "import io\n",
    "\n",
    "import domolibrary.client.get_data as gd\n",
    "import domolibrary.client.ResponseGetData as rgd\n",
    "import domolibrary.client.DomoAuth as dmda\n",
    "import domolibrary.client.DomoError as de"
   ]
  },
  {
   "cell_type": "code",
   "execution_count": null,
   "metadata": {},
   "outputs": [],
   "source": [
    "# | export\n",
    "class PDP_NotRetrieved(de.DomoError):\n",
    "    def __init__(\n",
    "        self,\n",
    "        domo_instance,\n",
    "        function_name,\n",
    "        status,\n",
    "        message,\n",
    "        pdp_id=None,\n",
    "    ):\n",
    "\n",
    "        super().__init__(\n",
    "            domo_instance=domo_instance,\n",
    "            entity_id=pdp_id,\n",
    "            function_name=function_name,\n",
    "            status=status,\n",
    "            message=message,\n",
    "        )"
   ]
  },
  {
   "cell_type": "code",
   "execution_count": null,
   "metadata": {},
   "outputs": [],
   "source": [
    "# | export\n",
    "async def get_pdp_policies(\n",
    "    auth: dmda.DomoAuth,\n",
    "    dataset_id: str,\n",
    "    debug_api: bool = False,\n",
    ") -> rgd.ResponseGetData:\n",
    "    url = f\"http://{auth.domo_instance}.domo.com/api/query/v1/data-control/{dataset_id}/filter-groups/\"\n",
    "\n",
    "    if debug_api:\n",
    "        print(url)\n",
    "\n",
    "    res = await gd.get_data(\n",
    "        auth=auth, \n",
    "        url=url, \n",
    "        method=\"GET\", \n",
    "        debug_api=debug_api, \n",
    "        # headers= {'accept': 'application/json'},\n",
    "        # params = {'options':'load_associations,load_filters,include_open_policy'},\n",
    "        is_follow_redirects=True\n",
    "    )\n",
    "\n",
    "    if len(res.response) == 0 or not res.is_success:\n",
    "        raise PDP_NotRetrieved(\n",
    "            domo_instance=auth.domo_instance,\n",
    "            function_name=\"get_pdp_policies\",\n",
    "            status=res.status,\n",
    "            message=\"failed to retrieve pdp policies\",\n",
    "        )\n",
    "\n",
    "    return res"
   ]
  },
  {
   "attachments": {},
   "cell_type": "markdown",
   "metadata": {},
   "source": [
    "### Sample implementation for get_pdp_policies"
   ]
  },
  {
   "cell_type": "code",
   "execution_count": null,
   "metadata": {},
   "outputs": [
    {
     "name": "stdout",
     "output_type": "stream",
     "text": [
      "ResponseGetData(status=200, response=[{'name': 'Test 456', 'filterGroupId': 1156, 'dataSourceId': '0e7f7755-eccc-4612-890c-c3dc3d5002c3', 'type': 'user', 'userIds': [2072616249], 'dataSourcePermissions': False, 'resources': {'USER': ['2072616249']}, 'parameters': [{'name': 'Employee ID', 'value': '465', 'values': ['465'], 'type': 'COLUMN', 'operator': 'EQUALS', 'not': False, 'ignoreCase': False}, {'name': 'Country', 'value': 'Philippines', 'values': ['Philippines'], 'type': 'COLUMN', 'operator': 'EQUALS', 'not': False, 'ignoreCase': False}]}, {'name': 'Test 94', 'filterGroupId': 1157, 'dataSourceId': '0e7f7755-eccc-4612-890c-c3dc3d5002c3', 'type': 'user', 'userIds': [1893952720], 'groupIds': [1259653287], 'dataSourcePermissions': False, 'resources': {'GROUP': ['1259653287'], 'USER': ['1893952720']}, 'parameters': [{'name': 'Employee ID', 'value': '465', 'values': ['465'], 'type': 'COLUMN', 'operator': 'EQUALS', 'not': False, 'ignoreCase': False}, {'name': 'Customer ID', 'value': '8978', 'values': ['8978'], 'type': 'COLUMN', 'operator': 'EQUALS', 'not': False, 'ignoreCase': False}, {'name': 'Country', 'value': 'U', 'values': ['U'], 'type': 'COLUMN', 'operator': 'BEGINS_WITH', 'not': False, 'ignoreCase': False}]}, {'name': 'Test Policy Name Employee 123', 'filterGroupId': 1178, 'dataSourceId': '0e7f7755-eccc-4612-890c-c3dc3d5002c3', 'type': 'user', 'userIds': [1893952720], 'dataSourcePermissions': False, 'resources': {'USER': ['1893952720']}, 'parameters': [{'name': 'Employee ID', 'value': '123', 'values': ['123'], 'type': 'COLUMN', 'operator': 'EQUALS', 'not': False, 'ignoreCase': True}, {'name': 'Country', 'value': 'Japan', 'values': ['Japan'], 'type': 'COLUMN', 'operator': 'EQUALS', 'not': False, 'ignoreCase': True}]}], is_success=True)\n"
     ]
    }
   ],
   "source": [
    "import os\n",
    "\n",
    "token_auth = dmda.DomoTokenAuth(\n",
    "    domo_instance=\"domo-community\",\n",
    "    domo_access_token=os.environ[\"DOMO_DOJO_ACCESS_TOKEN\"]\n",
    ")\n",
    "\n",
    "dataset_id = os.environ[\"DOJO_DATASET_ID\"]\n",
    "\n",
    "try:\n",
    "    res = await get_pdp_policies(auth=token_auth, dataset_id=dataset_id)\n",
    "    print(res)\n",
    "except PDP_NotRetrieved as e:\n",
    "    print(e)\n"
   ]
  },
  {
   "cell_type": "code",
   "execution_count": null,
   "metadata": {},
   "outputs": [],
   "source": [
    "\n",
    "# class SearchPDP_Error(de.DomoError):\n",
    "#     def __init__(self, status, message, domo_instance, function_name = \"search_pdp_by_name\"):\n",
    "#         super().__init__(function_name = function_name, status = status, message = message , domo_instance = domo_instance)\n",
    "        \n",
    "# def search_pdp_policies_by_name(\n",
    "#         # used to return pdp policy info, search by name\n",
    "#         search_name: str,\n",
    "#         result_list: list[dict], # this is the res.response from get_pdp_policies -- should be list of dict\n",
    "#         is_exact_match: bool = True\n",
    "#         ):\n",
    "    \n",
    "#     if is_exact_match:\n",
    "#         policy_search = next((policy for policy in result_list if policy.name == search_name), None)\n",
    "#         #print(policy_search)   \n",
    "         \n",
    "#         if not policy_search:\n",
    "#             raise SearchPDP_Error(\n",
    "#                 status='',\n",
    "#                 message=f'There is no policy named \"{search_name}\"',\n",
    "#                 domo_instance=''\n",
    "#             )  \n",
    "          \n",
    "#         return policy_search\n",
    "#     else:\n",
    "#         policy_search = [policy for policy in result_list if search_name.lower() in policy.name.lower()]\n",
    "#         if not policy_search:\n",
    "#             raise SearchPDP_Error(\n",
    "#                 status='',\n",
    "#                 message=f'There is no policy name containing \"{search_name}\"',\n",
    "#                 domo_instance=''\n",
    "#             )  \n",
    "        \n",
    "#         return policy_search"
   ]
  },
  {
   "cell_type": "code",
   "execution_count": null,
   "metadata": {},
   "outputs": [],
   "source": [
    "# pdp_policy_search = search_pdp_policies_by_name(search_name='1', result_list=res.response, is_exact_match=False)\n",
    "# pdp_policy_search"
   ]
  },
  {
   "cell_type": "code",
   "execution_count": null,
   "metadata": {},
   "outputs": [],
   "source": [
    "\n",
    "# class SearchPDP_Error(de.DomoError):\n",
    "#     def __init__(self, status, message, domo_instance, function_name = \"search_pdp_by_name\"):\n",
    "#         super().__init__(function_name = function_name, status = status, message = message , domo_instance = domo_instance)\n",
    "\n",
    "# async def search_pdp_policies_by_id(\n",
    "#         # used to return pdp policy info, search by id\n",
    "#         search_id: str,\n",
    "#         result_list: list[dict], # this is the res.response from get_pdp_policies -- should be list of dict\n",
    "#         ):\n",
    "    \n",
    "#     policy_search = next((policy for policy in result_list if policy.filter_group_id == search_id), None)\n",
    "#     #print(policy_search)   \n",
    "         \n",
    "#     if not policy_search:\n",
    "#         raise SearchPDP_Error(\n",
    "#             status='',\n",
    "#             message=f'There is no policy id \"{search_id}\"',\n",
    "#             domo_instance=''\n",
    "#         )  \n",
    "          \n",
    "#     return policy_search\n"
   ]
  },
  {
   "attachments": {},
   "cell_type": "markdown",
   "metadata": {},
   "source": [
    "## generate body for create_policy endpoint\n"
   ]
  },
  {
   "cell_type": "code",
   "execution_count": null,
   "metadata": {},
   "outputs": [],
   "source": [
    "# | export\n",
    "def generate_policy_parameter_simple(\n",
    "    column_name: str,\n",
    "    type: str = \"COLUMN\",\n",
    "    column_values_ls: list[str] = None,\n",
    "    operator=\"EQUALS\",\n",
    "    ignore_case: bool = True,\n",
    "):\n",
    "    if not isinstance(column_values_ls, list):\n",
    "        column_values_ls = [column_values_ls]\n",
    "\n",
    "    return {\n",
    "        \"type\": type,\n",
    "        \"name\": column_name,\n",
    "        \"values\": column_values_ls,\n",
    "        \"operator\": operator,\n",
    "        \"ignoreCase\": ignore_case,\n",
    "    }"
   ]
  },
  {
   "cell_type": "code",
   "execution_count": null,
   "metadata": {},
   "outputs": [],
   "source": [
    "# | export\n",
    "def generate_policy_body(\n",
    "    policy_name: str,\n",
    "    dataset_id: str,\n",
    "    parameters_ls: list[dict],  # generated by generate_policy_parameter_simple method\n",
    "    policy_id: str = None,  # only included if updating existing policy\n",
    "    user_ids: list[str] = None,\n",
    "    group_ids: list[str] = None,\n",
    "    virtual_user_ids: list[str] = None,\n",
    "):\n",
    "    if not user_ids:\n",
    "        user_ids = []\n",
    "\n",
    "    if not group_ids:\n",
    "        group_ids = []\n",
    "\n",
    "    if not virtual_user_ids:\n",
    "        virtual_user_ids = []\n",
    "\n",
    "    if not isinstance(parameters_ls, list):\n",
    "        parameters_ls = [parameters_ls]\n",
    "\n",
    "\n",
    "    body = {\n",
    "        \"name\": policy_name,\n",
    "        \"dataSourceId\": dataset_id,\n",
    "        \"userIds\": user_ids,\n",
    "        \"virtualUserIds\": virtual_user_ids,\n",
    "        \"groupIds\": group_ids,\n",
    "        \"dataSourcePermissions\": False,\n",
    "        \"parameters\": parameters_ls,\n",
    "    }\n",
    "\n",
    "    if policy_id:\n",
    "        body.update({\"filterGroupId\": policy_id})\n",
    "\n",
    "    return body"
   ]
  },
  {
   "attachments": {},
   "cell_type": "markdown",
   "metadata": {},
   "source": [
    "## Policy CRUD Operations"
   ]
  },
  {
   "attachments": {},
   "cell_type": "markdown",
   "metadata": {},
   "source": [
    "### Create PDP Policy"
   ]
  },
  {
   "cell_type": "code",
   "execution_count": null,
   "metadata": {},
   "outputs": [],
   "source": [
    "# | export\n",
    "class CreatePolicy_Error(de.DomoError):\n",
    "    def __init__(self, status, message, domo_instance, function_name = \"create_policy\"):\n",
    "        super().__init__(function_name = function_name, status = status, message = message , domo_instance = domo_instance)\n",
    "\n",
    "async def create_policy(\n",
    "    auth: dmda.DomoAuth,\n",
    "    dataset_id: str,\n",
    "    body: dict,  # generated using generate_policy_parameter_simple & generate_policy_body\n",
    "    session: httpx.AsyncClient = None,\n",
    "    override_same_name: bool = False,\n",
    "    debug_api: bool = False,\n",
    ") -> rgd.ResponseGetData:\n",
    "\n",
    "    url = f\"https://{auth.domo_instance}.domo.com/api/query/v1/data-control/{dataset_id}/filter-groups\"\n",
    "\n",
    "    if debug_api:\n",
    "        print(url)\n",
    "    \n",
    "    if override_same_name:\n",
    "        print(f'Creating policy...')\n",
    "        res = await gd.get_data(\n",
    "            auth=auth,\n",
    "            url=url,\n",
    "            method=\"POST\",\n",
    "            body=body,\n",
    "            debug_api=debug_api,\n",
    "            session=session,\n",
    "        )\n",
    "    else:\n",
    "        existing_policies = await get_pdp_policies(auth=auth, dataset_id=dataset_id) \n",
    "        \n",
    "        if existing_policies.is_success:\n",
    "            try:\n",
    "                policy_exists = search_pdp_policies_by_name(search_name=body.get('name'), result_list=existing_policies.response, is_exact_match=True)\n",
    "            except:\n",
    "                policy_exists = False\n",
    "            \n",
    "            if policy_exists:\n",
    "                raise CreatePolicy_Error(\n",
    "                    status='',\n",
    "                    message= f'Policy name already exists--avoid creating pdp policies with the same name..To override, rerun and set \"override_same_name=True\"',\n",
    "                    domo_instance=auth.domo_instance,\n",
    "                )\n",
    "            else:\n",
    "                print(f'Creating policy...')\n",
    "                res = await gd.get_data(\n",
    "                auth=auth,\n",
    "                url=url,\n",
    "                method=\"POST\",\n",
    "                body=body,\n",
    "                debug_api=debug_api,\n",
    "                session=session,\n",
    "            )\n",
    "\n",
    "    return res"
   ]
  },
  {
   "attachments": {},
   "cell_type": "markdown",
   "metadata": {},
   "source": [
    "#### sample implementation of create_policy, generate_policy_parameter_simple and generate_policy_body"
   ]
  },
  {
   "cell_type": "code",
   "execution_count": null,
   "metadata": {},
   "outputs": [
    {
     "name": "stdout",
     "output_type": "stream",
     "text": [
      "Creating policy...\n"
     ]
    },
    {
     "data": {
      "text/plain": [
       "{'name': 'Test Policy Name Employee 1789',\n",
       " 'filterGroupId': 1180,\n",
       " 'dataSourceId': '0e7f7755-eccc-4612-890c-c3dc3d5002c3',\n",
       " 'policySetId': 1130,\n",
       " 'userIds': [1893952720],\n",
       " 'dataSourcePermissions': False,\n",
       " 'parameters': [{'name': 'Employee ID',\n",
       "   'value': '123',\n",
       "   'values': ['123'],\n",
       "   'type': 'COLUMN',\n",
       "   'operator': 'EQUALS',\n",
       "   'not': False,\n",
       "   'ignoreCase': True}]}"
      ]
     },
     "execution_count": null,
     "metadata": {},
     "output_type": "execute_result"
    }
   ],
   "source": [
    "import os\n",
    "\n",
    "token_auth = dmda.DomoTokenAuth(\n",
    "    domo_instance=\"domo-community\",\n",
    "    domo_access_token=os.environ[\"DOMO_DOJO_ACCESS_TOKEN\"]\n",
    ")\n",
    "\n",
    "dataset_id = os.environ[\"DOJO_DATASET_ID\"]\n",
    "\n",
    "sample_parameter = generate_policy_parameter_simple(\n",
    "    column_name=\"Employee ID\",\n",
    "    column_values_ls=['123'],\n",
    "    operator=\"EQUALS\",\n",
    "    ignore_case=True,\n",
    ")\n",
    "\n",
    "body = generate_policy_body(\n",
    "    policy_name=\"Test Policy Name Employee 1789\",\n",
    "    dataset_id = dataset_id,\n",
    "    #policy_id=\"123\",  # including the policy_id updates that existing policy\n",
    "    parameters_ls=sample_parameter,\n",
    "    user_ids=['1893952720']\n",
    ")\n",
    "\n",
    "res = await create_policy(\n",
    "    auth = token_auth,\n",
    "    dataset_id = dataset_id,\n",
    "    body = body,\n",
    "    override_same_name=False\n",
    ")\n",
    "res.response"
   ]
  },
  {
   "cell_type": "markdown",
   "metadata": {},
   "source": [
    "`<<<<<<< HEAD`"
   ]
  },
  {
   "cell_type": "code",
   "execution_count": null,
   "metadata": {},
   "source": [
    "### Update PDP Policy"
   ]
  },
  {
   "cell_type": "markdown",
   "metadata": {},
   "source": [
    "`=======`"
   ]
  },
  {
   "attachments": {},
   "cell_type": "markdown",
   "metadata": {},
   "source": [
    "### Update PDP Policy"
   ]
  },
  {
   "cell_type": "markdown",
   "metadata": {},
   "source": [
    "`>>>>>>> 8116b12ebbf79ae276997024c2e098dad68dc8ba`"
   ]
  },
  {
   "cell_type": "code",
   "execution_count": null,
   "metadata": {},
   "outputs": [],
   "source": [
    "# | export\n",
    "async def update_policy(\n",
    "    auth: dmda.DomoAuth,\n",
    "    dataset_id: str,\n",
    "    policy_id: str,\n",
    "    body: dict,  # generated using generate_policy_parameter_simple & generate_policy_body\n",
    "    session: httpx.AsyncClient = None,\n",
    "    debug_api: bool = False,\n",
    ") -> rgd.ResponseGetData:\n",
    "\n",
    "    url = f\"https://{auth.domo_instance}.domo.com/api/query/v1/data-control/{dataset_id}/filter-groups/{policy_id}\"\n",
    "\n",
    "    if debug_api:\n",
    "        print(url)\n",
    "\n",
    "    res = await gd.get_data(\n",
    "        auth=auth,\n",
    "        url=url,\n",
    "        method=\"PUT\",\n",
    "        body=body,\n",
    "        debug_api=debug_api,\n",
    "        session=session,\n",
    "    )\n",
    "\n",
    "    return res"
   ]
  },
  {
   "attachments": {},
   "cell_type": "markdown",
   "metadata": {},
   "source": [
    "#### sample implementation of update_policy"
   ]
  },
  {
   "cell_type": "code",
   "execution_count": null,
   "metadata": {},
   "outputs": [
    {
     "name": "stdout",
     "output_type": "stream",
     "text": [
      "https://domo-community.domo.com/api/query/v1/data-control/0e7f7755-eccc-4612-890c-c3dc3d5002c3/filter-groups/1178\n",
      "🐛 debugging get_data\n",
      "{'body': {'dataSourceId': '0e7f7755-eccc-4612-890c-c3dc3d5002c3',\n",
      "          'dataSourcePermissions': False,\n",
      "          'groupIds': [],\n",
      "          'name': 'Test Policy Name Employee 123',\n",
      "          'parameters': [{'ignoreCase': True,\n",
      "                          'name': 'Employee ID',\n",
      "                          'operator': 'EQUALS',\n",
      "                          'type': 'COLUMN',\n",
      "                          'values': ['123']}],\n",
      "          'userIds': ['1893952720'],\n",
      "          'virtualUserIds': []},\n",
      " 'headers': {'Connection': 'keep-alive',\n",
      "             'Content-Type': 'application/json',\n",
      "             'accept': 'application/json, text/plain',\n",
      "             'x-domo-developer-token': '2f4cb212853732ef796abd46077cf1162c0a3ed7cf1ff079'},\n",
      " 'method': 'PUT',\n",
      " 'params': None,\n",
      " 'url': 'https://domo-community.domo.com/api/query/v1/data-control/0e7f7755-eccc-4612-890c-c3dc3d5002c3/filter-groups/1178'}\n",
      "get_data: sending json\n",
      "get_data_response <Response [200 OK]>\n"
     ]
    },
    {
     "data": {
      "text/plain": [
       "ResponseGetData(status=200, response={'name': 'Test Policy Name Employee 123', 'filterGroupId': 1178, 'dataSourceId': '0e7f7755-eccc-4612-890c-c3dc3d5002c3', 'userIds': [1893952720], 'dataSourcePermissions': False, 'parameters': [{'name': 'Employee ID', 'value': '123', 'values': ['123'], 'type': 'COLUMN', 'operator': 'EQUALS', 'not': False, 'ignoreCase': True}]}, is_success=True)"
      ]
     },
     "execution_count": null,
     "metadata": {},
     "output_type": "execute_result"
    }
   ],
   "source": [
    "import os\n",
    "from pprint import pprint\n",
    "\n",
    "token_auth = dmda.DomoTokenAuth(\n",
    "    domo_instance=\"domo-community\",\n",
    "    domo_access_token=os.environ[\"DOMO_DOJO_ACCESS_TOKEN\"]\n",
    ")\n",
    "\n",
    "dataset_id = os.environ[\"DOJO_DATASET_ID\"]\n",
    "\n",
    "sample_parameters = generate_policy_parameter_simple(\n",
    "    column_name=\"Employee ID\",\n",
    "    column_values_ls=[\"123\"],\n",
    "    operator=\"EQUALS\",\n",
    "    ignore_case=True,\n",
    ")\n",
    "\n",
    "body = generate_policy_body(\n",
    "    \"Test Policy Name Employee 123\",\n",
    "    dataset_id=dataset_id,\n",
    "    # policy_id='1153',\n",
    "    parameters_ls=[sample_parameters],\n",
    "    user_ids=['1893952720']\n",
    ")\n",
    "\n",
    "res = await update_policy(\n",
    "    auth=token_auth,\n",
    "    dataset_id=dataset_id,\n",
    "    policy_id='1178',\n",
    "    body=body,\n",
    "    debug_api=True\n",
    ")\n",
    "\n",
    "res"
   ]
  },
  {
   "attachments": {},
   "cell_type": "markdown",
   "metadata": {},
   "source": [
    "### Delete PDP Policy"
   ]
  },
  {
   "cell_type": "code",
   "execution_count": null,
   "metadata": {},
   "outputs": [],
   "source": [
    "# | export\n",
    "async def delete_policy(\n",
    "    auth: dmda.DomoAuth,\n",
    "    dataset_id: str = None,\n",
    "    policy_id: str = None,\n",
    "    session: httpx.AsyncClient = None,\n",
    "    debug_api: bool = False,\n",
    ") -> rgd.ResponseGetData:\n",
    "\n",
    "    url = f\"https://{auth.domo_instance}.domo.com/api/query/v1/data-control/{dataset_id}/filter-groups/{policy_id}\"\n",
    "\n",
    "    if debug_api:\n",
    "        print(url)\n",
    "\n",
    "    res = await gd.get_data(\n",
    "        auth=auth,\n",
    "        url=url,\n",
    "        method=\"DELETE\",\n",
    "        debug_api=debug_api,\n",
    "        session=session,\n",
    "    )\n",
    "\n",
    "    return res"
   ]
  },
  {
   "attachments": {},
   "cell_type": "markdown",
   "metadata": {},
   "source": [
    "### sample implementation of delete_policy"
   ]
  },
  {
   "cell_type": "code",
   "execution_count": null,
   "metadata": {},
   "outputs": [
    {
     "name": "stdout",
     "output_type": "stream",
     "text": [
      "https://domo-community.domo.com/api/query/v1/data-control/0e7f7755-eccc-4612-890c-c3dc3d5002c3/filter-groups/1179\n",
      "🐛 debugging get_data\n",
      "{'body': None,\n",
      " 'headers': {'Connection': 'keep-alive',\n",
      "             'Content-Type': 'application/json',\n",
      "             'accept': 'application/json, text/plain',\n",
      "             'x-domo-developer-token': '2f4cb212853732ef796abd46077cf1162c0a3ed7cf1ff079'},\n",
      " 'method': 'DELETE',\n",
      " 'params': None,\n",
      " 'url': 'https://domo-community.domo.com/api/query/v1/data-control/0e7f7755-eccc-4612-890c-c3dc3d5002c3/filter-groups/1179'}\n",
      "get_data: no body\n",
      "get_data_response <Response [404 Not Found]>\n"
     ]
    }
   ],
   "source": [
    "import os\n",
    "from pprint import pprint\n",
    "\n",
    "token_auth = dmda.DomoTokenAuth(\n",
    "    domo_instance=\"domo-community\",\n",
    "    domo_access_token=os.environ[\"DOMO_DOJO_ACCESS_TOKEN\"]\n",
    ")\n",
    "\n",
    "dataset_id = os.environ[\"DOJO_DATASET_ID\"]\n",
    "\n",
    "res = await delete_policy(\n",
    "    auth=token_auth, \n",
    "    dataset_id=dataset_id, \n",
    "    policy_id='1179',\n",
    "    debug_api=True\n",
    ")"
   ]
  },
  {
   "attachments": {},
   "cell_type": "markdown",
   "metadata": {},
   "source": [
    "### Enable / Disable PDP on dataset (toggle_pdp)"
   ]
  },
  {
   "cell_type": "code",
   "execution_count": null,
   "metadata": {},
   "outputs": [],
   "source": [
    "# | export\n",
    "\n",
    "async def toggle_pdp(\n",
    "        auth: dmda.DomoAuth,\n",
    "        dataset_id: str,\n",
    "        is_enable: bool = True,\n",
    "        debug_api: bool = False,\n",
    "        session: httpx.AsyncClient = None\n",
    "    )-> rgd.ResponseGetData:\n",
    "\n",
    "    url = f\"https://{auth.domo_instance}.domo.com/api/query/v1/data-control/{dataset_id}\"\n",
    "\n",
    "    if debug_api:\n",
    "        print(url)\n",
    "\n",
    "    body = {\"enabled\": is_enable,\n",
    "            \"external\": False  # not sure what this parameter does\n",
    "            }\n",
    "\n",
    "    res = await gd.get_data(\n",
    "        auth=auth,\n",
    "        url=url,\n",
    "        method=\"PUT\",\n",
    "        body=body,\n",
    "        debug_api=debug_api,\n",
    "        session=session,\n",
    "    )\n",
    "\n",
    "    return res\n"
   ]
  },
  {
   "attachments": {},
   "cell_type": "markdown",
   "metadata": {},
   "source": [
    "#### sample implementation of toggle_pdp"
   ]
  },
  {
   "cell_type": "code",
   "execution_count": null,
   "metadata": {},
   "outputs": [
    {
     "data": {
      "text/plain": [
       "ResponseGetData(status=200, response={'enabled': True, 'secured': False, 'external': False}, is_success=True)"
      ]
     },
     "execution_count": null,
     "metadata": {},
     "output_type": "execute_result"
    }
   ],
   "source": [
    "import os\n",
    "from pprint import pprint\n",
    "\n",
    "token_auth = dmda.DomoTokenAuth(\n",
    "    domo_instance=\"domo-community\",\n",
    "    domo_access_token=os.environ[\"DOMO_DOJO_ACCESS_TOKEN\"]\n",
    ")\n",
    "\n",
    "dataset_id = os.environ[\"DOJO_DATASET_ID\"]\n",
    "\n",
    "res = await toggle_pdp(\n",
    "    auth=token_auth,\n",
    "    dataset_id=dataset_id,\n",
    "    is_enable = True,\n",
    ")\n",
    "res"
   ]
  },
  {
   "cell_type": "code",
   "execution_count": null,
   "metadata": {},
   "outputs": [],
   "source": [
    "# | hide\n",
    "\n",
    "import nbdev\n",
    "\n",
    "nbdev.nbdev_export()"
   ]
  }
 ],
 "metadata": {
  "jupytext": {
   "split_at_heading": true
  },
  "kernelspec": {
   "display_name": "Python 3 (ipykernel)",
   "language": "python",
   "name": "python3"
  }
 },
 "nbformat": 4,
 "nbformat_minor": 4
}
