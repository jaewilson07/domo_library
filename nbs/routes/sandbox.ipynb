{
 "cells": [
  {
   "cell_type": "raw",
   "metadata": {},
   "source": [
    "---\n",
    "output-file: sandbox_routes.html\n",
    "title: Sandbox Routes\n",
    "\n",
    "---"
   ]
  },
  {
   "cell_type": "code",
   "execution_count": null,
   "metadata": {},
   "outputs": [],
   "source": [
    "#| default_exp routes.sandbox"
   ]
  },
  {
   "cell_type": "code",
   "execution_count": null,
   "metadata": {},
   "outputs": [],
   "source": [
    "#| export\n",
    "import httpx\n",
    "\n",
    "import domolibrary.client.get_data as gd\n",
    "import domolibrary.client.ResponseGetData as rgd\n",
    "import domolibrary.client.DomoAuth as dmda"
   ]
  },
  {
   "cell_type": "code",
   "execution_count": null,
   "metadata": {},
   "outputs": [],
   "source": [
    "#| export\n",
    "async def get_shared_repos(auth: dmda.DomoAuth, \n",
    "                           session: httpx.AsyncClient = None,\n",
    "                           debug_api: bool = False) -> rgd.ResponseGetData:\n",
    "\n",
    "    url = f\"https://{auth.domo_instance}.domo.com/api/version/v1/repositories/search\"\n",
    "    \n",
    "    body = {\n",
    "        \"query\": {\n",
    "            \"offset\": 0,\n",
    "            \"limit\": 50,\n",
    "            \"fieldSearchMap\": {},\n",
    "            \"sort\": \"lastCommit\",\n",
    "            \"order\": \"desc\",\n",
    "            \"filters\": {\n",
    "                \"userId\": None\n",
    "            },\n",
    "            \"dateFilters\": {}\n",
    "        },\n",
    "        \"shared\": False\n",
    "    }\n",
    "\n",
    "    res = await gd.get_data(auth=auth,\n",
    "                         method='POST',\n",
    "                         url=url,\n",
    "                         body=body,\n",
    "                         session=session,\n",
    "                         debug_api=debug_api)\n",
    "\n",
    "    return res"
   ]
  },
  {
   "cell_type": "markdown",
   "metadata": {},
   "source": [
    "Sample of getting shared repos"
   ]
  },
  {
   "cell_type": "code",
   "execution_count": null,
   "metadata": {},
   "outputs": [
    {
     "name": "stdout",
     "output_type": "stream",
     "text": [
      "{'pageContext': {'count': 3, 'offSet': 0, 'totalCount': 3},\n",
      " 'repositories': [{'accessCount': 1,\n",
      "                   'created': '2023-06-15T21:09:00.244Z',\n",
      "                   'domain': 'domo-community.domo.com',\n",
      "                   'id': 'abd4cb2b-ec72-4373-a471-2a04db500713',\n",
      "                   'lastCommit': {'commitName': 'v2',\n",
      "                                  'completed': '2023-06-15T21:17:17.188Z',\n",
      "                                  'hidden': False,\n",
      "                                  'id': 'bc2b2d41-f1b8-4eb8-93f6-ecdf3074c00a',\n",
      "                                  'pusherEventId': 'a900d3bb-595a-4f1e-b61f-5cbd9a19b841',\n",
      "                                  'repositoryId': 'abd4cb2b-ec72-4373-a471-2a04db500713',\n",
      "                                  'started': '2023-06-15T21:17:16.334Z',\n",
      "                                  'status': 'COMPLETED',\n",
      "                                  'summary': 'uat accepted jira 1234'},\n",
      "                   'name': 'Landing Page_PROD',\n",
      "                   'permission': 'OWNER',\n",
      "                   'repositoryContent': {'cardIds': [],\n",
      "                                         'dataflowIds': [226],\n",
      "                                         'pageIds': [],\n",
      "                                         'streamIds': [],\n",
      "                                         'viewIds': []},\n",
      "                   'seeded': False,\n",
      "                   'type': 'dataflow',\n",
      "                   'updated': '2023-06-15T21:09:00.244Z',\n",
      "                   'userId': 1893952720},\n",
      "                  {'accessCount': 1,\n",
      "                   'created': '2023-06-15T21:11:39.941Z',\n",
      "                   'domain': 'domo-community.domo.com',\n",
      "                   'id': 'bc9b553c-ea02-4fce-ba63-2a4a63b455ef',\n",
      "                   'lastCommit': {'commitName': 'v2',\n",
      "                                  'completed': '2023-06-15T21:15:56.382Z',\n",
      "                                  'hidden': False,\n",
      "                                  'id': '7823a38c-55f6-4df8-a068-0ee892e18127',\n",
      "                                  'pusherEventId': '7e0665fe-d606-48a9-ab82-a967d4e5c113',\n",
      "                                  'repositoryId': 'bc9b553c-ea02-4fce-ba63-2a4a63b455ef',\n",
      "                                  'started': '2023-06-15T21:15:55.487Z',\n",
      "                                  'status': 'COMPLETED',\n",
      "                                  'summary': 'implemented JIRA 1234'},\n",
      "                   'name': 'Landing Page_QA',\n",
      "                   'permission': 'OWNER',\n",
      "                   'repositoryContent': {'cardIds': [],\n",
      "                                         'dataflowIds': [226],\n",
      "                                         'pageIds': [],\n",
      "                                         'streamIds': [],\n",
      "                                         'viewIds': []},\n",
      "                   'seeded': False,\n",
      "                   'type': 'dataflow',\n",
      "                   'updated': '2023-06-15T21:11:39.941Z',\n",
      "                   'userId': 1893952720},\n",
      "                  {'accessCount': 2,\n",
      "                   'created': '2022-11-30T22:58:54.099Z',\n",
      "                   'domain': 'domo-community.domo.com',\n",
      "                   'id': '0c6fd62b-6c27-4397-b487-55d4e0179d69',\n",
      "                   'lastCommit': {'commitName': 'v2',\n",
      "                                  'completed': '2022-12-01T15:56:21.190Z',\n",
      "                                  'hidden': False,\n",
      "                                  'id': '55cc1ea3-43e5-4e17-a450-87030287287d',\n",
      "                                  'pusherEventId': 'aa4bd37b-f4b4-46b1-95ae-04794182eed8',\n",
      "                                  'repositoryId': '0c6fd62b-6c27-4397-b487-55d4e0179d69',\n",
      "                                  'started': '2022-12-01T15:55:30.281Z',\n",
      "                                  'status': 'COMPLETED',\n",
      "                                  'summary': 'Sharing with EMEA'},\n",
      "                   'name': 'Domo Variables Use Cases',\n",
      "                   'permission': 'OWNER',\n",
      "                   'repositoryContent': {'cardIds': [],\n",
      "                                         'dataflowIds': [],\n",
      "                                         'pageIds': [1880852133],\n",
      "                                         'streamIds': [],\n",
      "                                         'viewIds': []},\n",
      "                   'seeded': False,\n",
      "                   'type': 'page',\n",
      "                   'updated': '2022-11-30T22:58:54.099Z',\n",
      "                   'userId': 805381129}]}\n"
     ]
    }
   ],
   "source": [
    "import os\n",
    "\n",
    "token_auth = dmda.DomoTokenAuth(\n",
    "    domo_instance=\"domo-community\",\n",
    "    domo_access_token=os.environ[\"DOMO_DOJO_ACCESS_TOKEN\"],\n",
    ")\n",
    "\n",
    "\n",
    "res = await get_shared_repos(auth=token_auth)\n",
    "\n",
    "from pprint import pprint\n",
    "pprint(res.response)"
   ]
  },
  {
   "cell_type": "code",
   "execution_count": null,
   "metadata": {},
   "outputs": [],
   "source": [
    "# | export\n",
    "async def get_repo_from_id(auth: dmda.DomoFullAuth,\n",
    "                           repository_id: str,\n",
    "                           debug_api: bool = False) -> rgd.ResponseGetData:\n",
    "\n",
    "    url = f\"https://{auth.domo_instance}.domo.com/api/version/v1/repositories/{repository_id}\"\n",
    "\n",
    "    return await gd.get_data(auth=auth,\n",
    "                          method='GET',\n",
    "                          url=url,\n",
    "                          debug_api=debug_api)\n"
   ]
  }
 ],
 "metadata": {
  "kernelspec": {
   "display_name": "python3",
   "language": "python",
   "name": "python3"
  }
 },
 "nbformat": 4,
 "nbformat_minor": 2
}
