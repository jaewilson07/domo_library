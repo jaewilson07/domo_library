{
 "cells": [
  {
   "cell_type": "raw",
   "metadata": {},
   "source": [
    "---\n",
    "output-file: routes.role.html\n",
    "title: Role Routes\n",
    "---\n",
    "\n"
   ]
  },
  {
   "cell_type": "code",
   "execution_count": null,
   "metadata": {
    "vscode": {
     "languageId": "python"
    }
   },
   "outputs": [],
   "source": [
    "#| default_exp routes.role"
   ]
  },
  {
   "cell_type": "code",
   "execution_count": null,
   "metadata": {
    "vscode": {
     "languageId": "python"
    }
   },
   "outputs": [],
   "source": [
    "#| export\n",
    "import httpx\n",
    "\n",
    "import domolibrary.client.get_data as gd\n",
    "import domolibrary.client.ResponseGetData as rgd\n",
    "import domolibrary.client.DomoAuth as dmda\n",
    "import domolibrary.client.DomoError as de\n"
   ]
  },
  {
   "attachments": {},
   "cell_type": "markdown",
   "metadata": {},
   "source": [
    "# Get and Search Routes"
   ]
  },
  {
   "cell_type": "code",
   "execution_count": null,
   "metadata": {
    "vscode": {
     "languageId": "python"
    }
   },
   "outputs": [],
   "source": [
    "#| export\n",
    "class Role_NotRetrieved(de.DomoError):\n",
    "    def __init__(self,\n",
    "                 domo_instance,\n",
    "                 function_name,\n",
    "                 status,\n",
    "                 message,\n",
    "                 role_id = None,\n",
    "                 ):\n",
    "\n",
    "        super().__init__(\n",
    "            domo_instance=domo_instance,\n",
    "            entity_id=role_id,\n",
    "            function_name=function_name,\n",
    "            status=status,\n",
    "            message=message\n",
    "        )\n"
   ]
  },
  {
   "cell_type": "code",
   "execution_count": null,
   "metadata": {
    "vscode": {
     "languageId": "python"
    }
   },
   "outputs": [],
   "source": [
    "# | export\n",
    "async def get_roles(auth: dmda.DomoAuth,\n",
    "                    debug_api: bool = False,\n",
    "                    session: httpx.AsyncClient = None,\n",
    "                    ) -> rgd.ResponseGetData:\n",
    "    url = f'https://{auth.domo_instance}.domo.com/api/authorization/v1/roles'\n",
    "\n",
    "    res = await gd.get_data(\n",
    "        auth=auth,\n",
    "        url=url,\n",
    "        method='GET',\n",
    "        debug_api=debug_api,\n",
    "        session=session\n",
    "    )\n",
    "\n",
    "    if len(res.response) == 0 or not res.is_success:\n",
    "        raise Role_NotRetrieved(\n",
    "            domo_instance=auth.domo_instance,\n",
    "            function_name='get_roles',\n",
    "            status=res.status,\n",
    "            message = 'failed to retrieve roles')\n",
    "    \n",
    "    return res\n"
   ]
  },
  {
   "attachments": {},
   "cell_type": "markdown",
   "metadata": {},
   "source": [
    "#### sample implementation of get_roles"
   ]
  },
  {
   "cell_type": "code",
   "execution_count": null,
   "metadata": {
    "vscode": {
     "languageId": "python"
    }
   },
   "outputs": [
    {
     "data": {
      "text/html": [
       "<div>\n",
       "<style scoped>\n",
       "    .dataframe tbody tr th:only-of-type {\n",
       "        vertical-align: middle;\n",
       "    }\n",
       "\n",
       "    .dataframe tbody tr th {\n",
       "        vertical-align: top;\n",
       "    }\n",
       "\n",
       "    .dataframe thead th {\n",
       "        text-align: right;\n",
       "    }\n",
       "</style>\n",
       "<table border=\"1\" class=\"dataframe\">\n",
       "  <thead>\n",
       "    <tr style=\"text-align: right;\">\n",
       "      <th></th>\n",
       "      <th>id</th>\n",
       "      <th>name</th>\n",
       "      <th>description</th>\n",
       "      <th>authorityCount</th>\n",
       "      <th>userCount</th>\n",
       "      <th>created</th>\n",
       "      <th>modified</th>\n",
       "    </tr>\n",
       "  </thead>\n",
       "  <tbody>\n",
       "    <tr>\n",
       "      <th>0</th>\n",
       "      <td>1</td>\n",
       "      <td>Admin</td>\n",
       "      <td>Full access to everything</td>\n",
       "      <td>77</td>\n",
       "      <td>16</td>\n",
       "      <td>1580425515000</td>\n",
       "      <td>1580425515000</td>\n",
       "    </tr>\n",
       "    <tr>\n",
       "      <th>1</th>\n",
       "      <td>2</td>\n",
       "      <td>Privileged</td>\n",
       "      <td>Full access except for editing users and setti...</td>\n",
       "      <td>34</td>\n",
       "      <td>313</td>\n",
       "      <td>1580425515000</td>\n",
       "      <td>1580425515000</td>\n",
       "    </tr>\n",
       "    <tr>\n",
       "      <th>2</th>\n",
       "      <td>3</td>\n",
       "      <td>Editor</td>\n",
       "      <td>Can edit Cards, Pages, DataSets, and Dataflows</td>\n",
       "      <td>30</td>\n",
       "      <td>4</td>\n",
       "      <td>1580425515000</td>\n",
       "      <td>1580425515000</td>\n",
       "    </tr>\n",
       "    <tr>\n",
       "      <th>3</th>\n",
       "      <td>4</td>\n",
       "      <td>Participant</td>\n",
       "      <td>Read only access on Cards, Pages DataSets and ...</td>\n",
       "      <td>6</td>\n",
       "      <td>4</td>\n",
       "      <td>1580425515000</td>\n",
       "      <td>1580425515000</td>\n",
       "    </tr>\n",
       "    <tr>\n",
       "      <th>4</th>\n",
       "      <td>5</td>\n",
       "      <td>Social</td>\n",
       "      <td>Access limited to social features</td>\n",
       "      <td>1</td>\n",
       "      <td>11</td>\n",
       "      <td>1580425515000</td>\n",
       "      <td>1580425515000</td>\n",
       "    </tr>\n",
       "  </tbody>\n",
       "</table>\n",
       "</div>"
      ],
      "text/plain": [
       "   id         name                                        description  \\\n",
       "0   1        Admin                          Full access to everything   \n",
       "1   2   Privileged  Full access except for editing users and setti...   \n",
       "2   3       Editor     Can edit Cards, Pages, DataSets, and Dataflows   \n",
       "3   4  Participant  Read only access on Cards, Pages DataSets and ...   \n",
       "4   5       Social                  Access limited to social features   \n",
       "\n",
       "   authorityCount  userCount        created       modified  \n",
       "0              77         16  1580425515000  1580425515000  \n",
       "1              34        313  1580425515000  1580425515000  \n",
       "2              30          4  1580425515000  1580425515000  \n",
       "3               6          4  1580425515000  1580425515000  \n",
       "4               1         11  1580425515000  1580425515000  "
      ]
     },
     "execution_count": null,
     "metadata": {},
     "output_type": "execute_result"
    }
   ],
   "source": [
    "import os\n",
    "import pandas as pd\n",
    "\n",
    "token_auth = dmda.DomoTokenAuth(\n",
    "    domo_instance=\"domo-community\",\n",
    "    domo_access_token=os.environ[\"DOMO_DOJO_ACCESS_TOKEN\"]\n",
    ")\n",
    "\n",
    "res = await get_roles(auth=token_auth)\n",
    "\n",
    "pd.DataFrame(res.response[0:5])\n"
   ]
  },
  {
   "cell_type": "code",
   "execution_count": null,
   "metadata": {
    "vscode": {
     "languageId": "python"
    }
   },
   "outputs": [],
   "source": [
    "#| export\n",
    "\n",
    "\n",
    "async def get_role_grants(auth: dmda.DomoAuth,\n",
    "                          role_id: str,\n",
    "                          debug_api: bool = False,\n",
    "                          session : httpx.AsyncClient = None\n",
    "                          ) -> rgd.ResponseGetData:\n",
    "    url = f'https://{auth.domo_instance}.domo.com/api/authorization/v1/roles/{role_id}/authorities'\n",
    "\n",
    "    if debug_api:\n",
    "        print(url)\n",
    "\n",
    "    res = await gd.get_data(\n",
    "        auth=auth,\n",
    "        url=url,\n",
    "        method='GET',\n",
    "        debug_api=debug_api,\n",
    "        session = session\n",
    "    )\n",
    "\n",
    "    if len(res.response) == 0:\n",
    "\n",
    "        role_res = await get_roles(auth = auth)\n",
    "\n",
    "        domo_role = [ role for role in role_res.response if role.get('id') ==role_id]\n",
    "\n",
    "        if not domo_role:\n",
    "            raise Role_NotRetrieved(\n",
    "                domo_instance= auth.domo_instance,\n",
    "                function_name='get_role_grants',\n",
    "                message=f\"role {role_id} does not exist\",\n",
    "                status=res.status\n",
    "            )\n",
    "\n",
    "    return res"
   ]
  },
  {
   "attachments": {},
   "cell_type": "markdown",
   "metadata": {},
   "source": [
    "#### sample implementation of get_role_grants"
   ]
  },
  {
   "cell_type": "code",
   "execution_count": null,
   "metadata": {
    "vscode": {
     "languageId": "python"
    }
   },
   "outputs": [
    {
     "data": {
      "text/html": [
       "<div>\n",
       "<style scoped>\n",
       "    .dataframe tbody tr th:only-of-type {\n",
       "        vertical-align: middle;\n",
       "    }\n",
       "\n",
       "    .dataframe tbody tr th {\n",
       "        vertical-align: top;\n",
       "    }\n",
       "\n",
       "    .dataframe thead th {\n",
       "        text-align: right;\n",
       "    }\n",
       "</style>\n",
       "<table border=\"1\" class=\"dataframe\">\n",
       "  <thead>\n",
       "    <tr style=\"text-align: right;\">\n",
       "      <th></th>\n",
       "      <th>0</th>\n",
       "    </tr>\n",
       "  </thead>\n",
       "  <tbody>\n",
       "    <tr>\n",
       "      <th>0</th>\n",
       "      <td>versions.deployment.manage</td>\n",
       "    </tr>\n",
       "    <tr>\n",
       "      <th>1</th>\n",
       "      <td>buzz.admin</td>\n",
       "    </tr>\n",
       "    <tr>\n",
       "      <th>2</th>\n",
       "      <td>dataflow.admin</td>\n",
       "    </tr>\n",
       "    <tr>\n",
       "      <th>3</th>\n",
       "      <td>goal.admin</td>\n",
       "    </tr>\n",
       "    <tr>\n",
       "      <th>4</th>\n",
       "      <td>dataset.admin</td>\n",
       "    </tr>\n",
       "  </tbody>\n",
       "</table>\n",
       "</div>"
      ],
      "text/plain": [
       "                            0\n",
       "0  versions.deployment.manage\n",
       "1                  buzz.admin\n",
       "2              dataflow.admin\n",
       "3                  goal.admin\n",
       "4               dataset.admin"
      ]
     },
     "execution_count": null,
     "metadata": {},
     "output_type": "execute_result"
    }
   ],
   "source": [
    "import os\n",
    "import pandas as pd\n",
    "\n",
    "token_auth = dmda.DomoTokenAuth(\n",
    "    domo_instance=\"domo-community\",\n",
    "    domo_access_token=os.environ[\"DOMO_DOJO_ACCESS_TOKEN\"]\n",
    ")\n",
    "\n",
    "res = await get_role_grants(auth=token_auth, role_id = 1)\n",
    "\n",
    "pd.DataFrame(res.response[0:5])"
   ]
  },
  {
   "cell_type": "code",
   "execution_count": null,
   "metadata": {
    "vscode": {
     "languageId": "python"
    }
   },
   "outputs": [],
   "source": [
    "#| export\n",
    "async def get_role_membership(auth: dmda.DomoAuth,\n",
    "                              role_id: str,\n",
    "                              debug_api: bool = False, \n",
    "                              session: httpx.AsyncClient = None,\n",
    "                              return_raw : bool = False\n",
    "                              ) -> rgd.ResponseGetData:\n",
    "    url = f'https://{auth.domo_instance}.domo.com/api/authorization/v1/roles/{role_id}/users'\n",
    "\n",
    "    if debug_api:\n",
    "        print(url)\n",
    "\n",
    "    res = await gd.get_data(\n",
    "        auth=auth,\n",
    "        url=url,\n",
    "        method='GET',\n",
    "        debug_api=debug_api,\n",
    "        session=session\n",
    "    )\n",
    "\n",
    "    if len(res.response.get('users')) == 0:\n",
    "        \n",
    "        role_res = await get_roles(auth)\n",
    "\n",
    "        domo_role = next((role for role in role_res.response if role.get('id') == role_id), None)\n",
    "\n",
    "        if not domo_role:\n",
    "            raise Role_NotRetrieved(\n",
    "                domo_instance=auth.domo_instance,\n",
    "                function_name='get_role_membership',\n",
    "                message=f\"role {role_id} does not exist or cannot be retrieved\",\n",
    "                status=res.status\n",
    "            )\n",
    "\n",
    "    if return_raw:\n",
    "        return res\n",
    "    \n",
    "    res.response = res.response.get('users')\n",
    "    \n",
    "    return res"
   ]
  },
  {
   "attachments": {},
   "cell_type": "markdown",
   "metadata": {},
   "source": [
    "#### sample implementation of get_role_membership\n"
   ]
  },
  {
   "cell_type": "code",
   "execution_count": null,
   "metadata": {
    "vscode": {
     "languageId": "python"
    }
   },
   "outputs": [
    {
     "data": {
      "text/html": [
       "<div>\n",
       "<style scoped>\n",
       "    .dataframe tbody tr th:only-of-type {\n",
       "        vertical-align: middle;\n",
       "    }\n",
       "\n",
       "    .dataframe tbody tr th {\n",
       "        vertical-align: top;\n",
       "    }\n",
       "\n",
       "    .dataframe thead th {\n",
       "        text-align: right;\n",
       "    }\n",
       "</style>\n",
       "<table border=\"1\" class=\"dataframe\">\n",
       "  <thead>\n",
       "    <tr style=\"text-align: right;\">\n",
       "      <th></th>\n",
       "      <th>userId</th>\n",
       "      <th>email</th>\n",
       "      <th>displayName</th>\n",
       "      <th>roleId</th>\n",
       "      <th>department</th>\n",
       "      <th>jobTitle</th>\n",
       "      <th>hireDate</th>\n",
       "      <th>location</th>\n",
       "      <th>timeZone</th>\n",
       "    </tr>\n",
       "  </thead>\n",
       "  <tbody>\n",
       "    <tr>\n",
       "      <th>0</th>\n",
       "      <td>1345408759</td>\n",
       "      <td>DataMaven42@gmail.com</td>\n",
       "      <td>Alexis Lorenz (DataMaven)</td>\n",
       "      <td>1</td>\n",
       "      <td>Owner</td>\n",
       "      <td>Major Domo Support Specialist</td>\n",
       "      <td>1.590156e+12</td>\n",
       "      <td>NaN</td>\n",
       "      <td>NaN</td>\n",
       "    </tr>\n",
       "    <tr>\n",
       "      <th>1</th>\n",
       "      <td>1102391116</td>\n",
       "      <td>andrea.henderson@domo.com</td>\n",
       "      <td>Andrea Henderson</td>\n",
       "      <td>1</td>\n",
       "      <td>NaN</td>\n",
       "      <td>NaN</td>\n",
       "      <td>NaN</td>\n",
       "      <td>NaN</td>\n",
       "      <td>NaN</td>\n",
       "    </tr>\n",
       "    <tr>\n",
       "      <th>2</th>\n",
       "      <td>1095515127</td>\n",
       "      <td>andrew@crystalballers.ai</td>\n",
       "      <td>Andrew Chaffin</td>\n",
       "      <td>1</td>\n",
       "      <td>Crystal Ballers</td>\n",
       "      <td>Cofounder</td>\n",
       "      <td>NaN</td>\n",
       "      <td></td>\n",
       "      <td>NaN</td>\n",
       "    </tr>\n",
       "    <tr>\n",
       "      <th>3</th>\n",
       "      <td>2074422502</td>\n",
       "      <td>bard.higgins@gmail.com</td>\n",
       "      <td>Bard Higgins</td>\n",
       "      <td>1</td>\n",
       "      <td>NaN</td>\n",
       "      <td>NaN</td>\n",
       "      <td>NaN</td>\n",
       "      <td>NaN</td>\n",
       "      <td>America/Denver</td>\n",
       "    </tr>\n",
       "    <tr>\n",
       "      <th>4</th>\n",
       "      <td>1865099622</td>\n",
       "      <td>Ben.Schein@domo.com</td>\n",
       "      <td>Ben Schein</td>\n",
       "      <td>1</td>\n",
       "      <td>NaN</td>\n",
       "      <td>NaN</td>\n",
       "      <td>NaN</td>\n",
       "      <td>NaN</td>\n",
       "      <td>NaN</td>\n",
       "    </tr>\n",
       "  </tbody>\n",
       "</table>\n",
       "</div>"
      ],
      "text/plain": [
       "       userId                      email                displayName  roleId  \\\n",
       "0  1345408759      DataMaven42@gmail.com  Alexis Lorenz (DataMaven)       1   \n",
       "1  1102391116  andrea.henderson@domo.com           Andrea Henderson       1   \n",
       "2  1095515127   andrew@crystalballers.ai             Andrew Chaffin       1   \n",
       "3  2074422502     bard.higgins@gmail.com               Bard Higgins       1   \n",
       "4  1865099622        Ben.Schein@domo.com                 Ben Schein       1   \n",
       "\n",
       "        department                       jobTitle      hireDate location  \\\n",
       "0            Owner  Major Domo Support Specialist  1.590156e+12      NaN   \n",
       "1              NaN                            NaN           NaN      NaN   \n",
       "2  Crystal Ballers                      Cofounder           NaN            \n",
       "3              NaN                            NaN           NaN      NaN   \n",
       "4              NaN                            NaN           NaN      NaN   \n",
       "\n",
       "         timeZone  \n",
       "0             NaN  \n",
       "1             NaN  \n",
       "2             NaN  \n",
       "3  America/Denver  \n",
       "4             NaN  "
      ]
     },
     "execution_count": null,
     "metadata": {},
     "output_type": "execute_result"
    }
   ],
   "source": [
    "import os\n",
    "import pandas as pd\n",
    "\n",
    "token_auth = dmda.DomoTokenAuth(\n",
    "    domo_instance=\"domo-community\",\n",
    "    domo_access_token=os.environ[\"DOMO_DOJO_ACCESS_TOKEN\"]\n",
    ")\n",
    "\n",
    "res = await get_role_membership(auth=token_auth, role_id=1, return_raw = False)\n",
    "\n",
    "pd.DataFrame(res.response[0:5])\n"
   ]
  },
  {
   "attachments": {},
   "cell_type": "markdown",
   "metadata": {},
   "source": [
    "# CRUD Routes"
   ]
  },
  {
   "cell_type": "code",
   "execution_count": null,
   "metadata": {
    "vscode": {
     "languageId": "python"
    }
   },
   "outputs": [],
   "source": [
    "#| export\n",
    "async def create_role(auth: dmda.DomoAuth,\n",
    "                      name: str,\n",
    "                      description: str,\n",
    "                      debug_api: bool = False,\n",
    "                      session :httpx.AsyncClient = None\n",
    "                      ) -> rgd.ResponseGetData:\n",
    "    url = f'https://{auth.domo_instance}.domo.com/api/authorization/v1/roles'\n",
    "\n",
    "    body = {\n",
    "        'name': name,\n",
    "        'description': description\n",
    "    }\n",
    "\n",
    "    res = await gd.get_data(\n",
    "        auth=auth,\n",
    "        url=url,\n",
    "        method='POST',\n",
    "        debug_api=debug_api,\n",
    "        body=body,\n",
    "        session = session\n",
    "    )\n",
    "\n",
    "    return res"
   ]
  },
  {
   "cell_type": "code",
   "execution_count": null,
   "metadata": {
    "vscode": {
     "languageId": "python"
    }
   },
   "outputs": [],
   "source": [
    "# | export\n",
    "async def delete_role(auth: dmda.DomoAuth,\n",
    "                      role_id: int,\n",
    "                      debug_api: bool = False,\n",
    "                      session: httpx.AsyncClient = None\n",
    "                      ) -> rgd.ResponseGetData:\n",
    "    \n",
    "    url = f'https://{auth.domo_instance}.domo.com/api/authorization/v1/roles/{role_id}'\n",
    "\n",
    "    res = await gd.get_data(\n",
    "        auth=auth,\n",
    "        url=url,\n",
    "        method='DELETE',\n",
    "        debug_api=debug_api,\n",
    "        session=session\n",
    "    )\n",
    "\n",
    "    if res.is_success:\n",
    "        res.response = f\"role {role_id} deleted or doesn't exist\"\n",
    "\n",
    "    return res\n"
   ]
  },
  {
   "attachments": {},
   "cell_type": "markdown",
   "metadata": {},
   "source": [
    "#### sample implementation of delete_role"
   ]
  },
  {
   "cell_type": "code",
   "execution_count": null,
   "metadata": {
    "vscode": {
     "languageId": "python"
    }
   },
   "outputs": [
    {
     "data": {
      "text/plain": [
       "ResponseGetData(status=204, response=\"role 2014090557 deleted or doesn't exist\", is_success=True)"
      ]
     },
     "execution_count": null,
     "metadata": {},
     "output_type": "execute_result"
    }
   ],
   "source": [
    "import os\n",
    "import datetime as dt\n",
    "\n",
    "token_auth = dmda.DomoTokenAuth(\n",
    "    domo_instance=\"domo-community\",\n",
    "    domo_access_token=os.environ[\"DOMO_DOJO_ACCESS_TOKEN\"]\n",
    ")\n",
    "\n",
    "await delete_role(auth=token_auth, role_id='2014090557')\n"
   ]
  },
  {
   "attachments": {},
   "cell_type": "markdown",
   "metadata": {},
   "source": [
    "### Default Role"
   ]
  },
  {
   "cell_type": "code",
   "execution_count": null,
   "metadata": {
    "vscode": {
     "languageId": "python"
    }
   },
   "outputs": [],
   "source": [
    "#| export\n",
    "async def get_default_role(auth, debug_api: bool = False, session :httpx.AsyncClient= None):\n",
    "\n",
    "    url = f\"https://{auth.domo_instance}.domo.com/api/content/v1/customer-states/user.roleid.default\"\n",
    "\n",
    "    params = {'defaultValue': 2, 'ignoreCache': True}\n",
    "\n",
    "    res = await gd.get_data(auth=auth,\n",
    "                             method='GET',\n",
    "                             url=url,\n",
    "                             params=params,\n",
    "                             debug_api=debug_api, session = session)\n",
    "\n",
    "    \n",
    "    if res.is_success:\n",
    "        res.response = res.response.get('value')\n",
    "    \n",
    "    return res\n",
    "\n"
   ]
  },
  {
   "attachments": {},
   "cell_type": "markdown",
   "metadata": {},
   "source": [
    "#### sample implementation of get_default_role"
   ]
  },
  {
   "cell_type": "code",
   "execution_count": null,
   "metadata": {
    "vscode": {
     "languageId": "python"
    }
   },
   "outputs": [
    {
     "data": {
      "text/plain": [
       "ResponseGetData(status=200, response='2097317660', is_success=True)"
      ]
     },
     "execution_count": null,
     "metadata": {},
     "output_type": "execute_result"
    }
   ],
   "source": [
    "import os\n",
    "\n",
    "token_auth = dmda.DomoTokenAuth(\n",
    "    domo_instance=\"domo-community\",\n",
    "    domo_access_token=os.environ[\"DOMO_DOJO_ACCESS_TOKEN\"]\n",
    ")\n",
    "\n",
    "await get_default_role(token_auth)"
   ]
  },
  {
   "cell_type": "code",
   "execution_count": null,
   "metadata": {
    "vscode": {
     "languageId": "python"
    }
   },
   "outputs": [],
   "source": [
    "# | export\n",
    "async def set_default_role(auth: dmda.DomoAuth,\n",
    "                           role_id: str,\n",
    "                           debug_api: bool = False,\n",
    "                           session: httpx.AsyncClient = None) -> rgd.ResponseGetData:\n",
    "    url = f'https://{auth.domo_instance}.domo.com/api/content/v1/customer-states/user.roleid.default'\n",
    "\n",
    "    body = {\n",
    "        'name': 'user.roleid.default',\n",
    "        'value': role_id\n",
    "    }\n",
    "\n",
    "    res = await gd.get_data(\n",
    "        auth=auth,\n",
    "        url=url,\n",
    "        method='PUT',\n",
    "        debug_api=debug_api,\n",
    "        body=body,\n",
    "        session=session\n",
    "    )\n",
    "    return res\n"
   ]
  },
  {
   "attachments": {},
   "cell_type": "markdown",
   "metadata": {},
   "source": [
    "### Metadata"
   ]
  },
  {
   "cell_type": "code",
   "execution_count": null,
   "metadata": {
    "vscode": {
     "languageId": "python"
    }
   },
   "outputs": [],
   "source": [
    "#| export\n",
    "async def update_role_metadata(auth: dmda.DomoAuth,\n",
    "                               role_id,\n",
    "                               role_name,\n",
    "                               role_description: str = None,\n",
    "                               debug_api: bool = False,\n",
    "                               session : httpx.AsyncClient = None\n",
    "                               ):\n",
    "\n",
    "    url = f\"https://{auth.domo_instance}.domo.com/api/authorization/v1/roles/{role_id}\"\n",
    "\n",
    "    body = {\"name\": role_name,\n",
    "            \"description\": role_description, \"id\": role_id}\n",
    "\n",
    "    res = await gd.get_data(\n",
    "        auth=auth,\n",
    "        url=url,\n",
    "        method='PUT',\n",
    "        debug_api=debug_api,\n",
    "        body=body,\n",
    "        session=session\n",
    "    )\n",
    "\n",
    "    \n",
    "    return res\n"
   ]
  },
  {
   "attachments": {},
   "cell_type": "markdown",
   "metadata": {},
   "source": [
    "#### sample update_role_metadata"
   ]
  },
  {
   "cell_type": "code",
   "execution_count": null,
   "metadata": {
    "vscode": {
     "languageId": "python"
    }
   },
   "outputs": [
    {
     "data": {
      "text/plain": [
       "{'id': 810756122,\n",
       " 'name': 'super_admin',\n",
       " 'description': 'last updated - 2023-03-20',\n",
       " 'authorityCount': 84,\n",
       " 'userCount': 0,\n",
       " 'created': 1678842530000,\n",
       " 'modified': 1679335795000}"
      ]
     },
     "execution_count": null,
     "metadata": {},
     "output_type": "execute_result"
    }
   ],
   "source": [
    "import os\n",
    "import datetime as dt\n",
    "\n",
    "token_auth = dmda.DomoTokenAuth(\n",
    "    domo_instance=\"domo-community\",\n",
    "    domo_access_token=os.environ[\"DOMO_DOJO_ACCESS_TOKEN\"]\n",
    ")\n",
    "\n",
    "#get role to update\n",
    "role_ls = await get_roles(auth = token_auth)\n",
    "role = next((role for role in role_ls.response if role.get('name') == 'super_admin'),None)\n",
    "\n",
    "\n",
    "# update role\n",
    "await update_role_metadata(auth=token_auth,\n",
    "                     role_id = role['id'],\n",
    "                     role_name= role['name'],\n",
    "                           role_description=f'last updated - {dt.date.today()}'\n",
    "                     )\n",
    "\n",
    "# validate role has been updated\n",
    "role_ls = await get_roles(auth=token_auth)\n",
    "role = next((role for role in role_ls.response if role.get(\n",
    "    'name') == 'super_admin'), None)\n",
    "\n",
    "role\n"
   ]
  },
  {
   "cell_type": "code",
   "execution_count": null,
   "metadata": {
    "vscode": {
     "languageId": "python"
    }
   },
   "outputs": [],
   "source": [
    "#| export\n",
    "async def set_role_grants(auth: dmda.DomoAuth,\n",
    "                             role_id: str,\n",
    "                             role_grant_ls: list[str],\n",
    "                             debug_api: bool = False) -> rgd.ResponseGetData:\n",
    "    url = f'https://{auth.domo_instance}.domo.com/api/authorization/v1/roles/{role_id}/authorities'\n",
    "\n",
    "    if debug_api:\n",
    "        print(url)\n",
    "\n",
    "    res = await gd.get_data(auth=auth,\n",
    "                         url=url,\n",
    "                         method='PUT',\n",
    "                         debug_api=debug_api, body=role_grant_ls)\n",
    "    return res"
   ]
  },
  {
   "cell_type": "code",
   "execution_count": null,
   "metadata": {
    "vscode": {
     "languageId": "python"
    }
   },
   "outputs": [],
   "source": [
    "#| export\n",
    "async def role_membership_add_users(auth: dmda.DomoAuth,\n",
    "                                   role_id: str,\n",
    "                                   user_list: list[str], # list of user ids\n",
    "                                   debug_api: bool = False,\n",
    "                                   session : httpx.AsyncClient = None\n",
    "                                   ) -> rgd.ResponseGetData:\n",
    "    url = f'https://{auth.domo_instance}.domo.com/api/authorization/v1/roles/{role_id}/users'\n",
    "\n",
    "    res = await gd.get_data(\n",
    "        auth=auth,\n",
    "        url=url,\n",
    "        method='PUT',\n",
    "        debug_api=debug_api,\n",
    "        body=user_list,\n",
    "        session = session\n",
    "    )\n",
    "    return res"
   ]
  },
  {
   "cell_type": "code",
   "execution_count": null,
   "metadata": {
    "vscode": {
     "languageId": "python"
    }
   },
   "outputs": [],
   "source": [
    "#| hide\n",
    "import nbdev\n",
    "nbdev.nbdev_export()\n"
   ]
  }
 ],
 "metadata": {
  "jupytext": {
   "split_at_heading": true
  },
  "kernelspec": {
   "display_name": "Python 3",
   "language": "python",
   "name": "python3"
  }
 },
 "nbformat": 4,
 "nbformat_minor": 4
}
