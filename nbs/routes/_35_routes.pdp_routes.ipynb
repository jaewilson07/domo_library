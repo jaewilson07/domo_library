{
  "cells": [
    {
      "cell_type": "raw",
      "metadata": {},
      "source": [
        "---\n",
        "description: Default description (change me)\n",
        "output-file: routes.pdp_routes.html\n",
        "title: Default Title (change me)\n",
        "\n",
        "---\n",
        "\n"
      ]
    },
    {
      "cell_type": "code",
      "execution_count": null,
      "metadata": {},
      "outputs": [],
      "source": [
        "#| default_exp routes.pdp_routes"
      ]
    },
    {
      "cell_type": "code",
      "execution_count": null,
      "metadata": {},
      "outputs": [],
      "source": [
        "#| export\n",
        "import httpx\n",
        "import pandas as pd\n",
        "import io\n",
        "from pprint import pprint\n",
        "\n",
        "from .get_data import get_data, looper\n",
        "from ..DomoAuth import DomoDeveloperAuth, DomoFullAuth\n",
        "from ...utils.ResponseGetData import ResponseGetData"
      ]
    },
    {
      "cell_type": "code",
      "execution_count": null,
      "metadata": {},
      "outputs": [],
      "source": [
        "#| export\n",
        "async def get_pdp_policies(full_auth: DomoFullAuth, dataset_id: str, debug: bool = False) -> ResponseGetData:\n",
        "    url = f'http://{full_auth.domo_instance}.domo.com/api/query/v1/data-control/{dataset_id}/filter-groups/'\n",
        "\n",
        "    if debug:\n",
        "        print(url)\n",
        "\n",
        "    res = await get_data(\n",
        "        auth=full_auth,\n",
        "        url=url,\n",
        "        method='GET',\n",
        "        debug=debug,\n",
        "    )\n",
        "    return res\n",
        "\n",
        "\n",
        "####  PDP ####"
      ]
    },
    {
      "cell_type": "code",
      "execution_count": null,
      "metadata": {},
      "outputs": [],
      "source": [
        "#| export\n",
        "def generate_policy_parameter_simple(column_name, column_values_list, operator='EQUALS', ignore_case: bool = True):\n",
        "    return {\n",
        "        \"type\": \"COLUMN\",\n",
        "        \"name\": column_name,\n",
        "        \"values\": column_values_list,\n",
        "        \"operator\": operator,\n",
        "        \"ignoreCase\": ignore_case\n",
        "    }"
      ]
    },
    {
      "cell_type": "code",
      "execution_count": null,
      "metadata": {},
      "outputs": [],
      "source": [
        "#| export\n",
        "def generate_policy_body(policy_name, dataset_id, parameters_list, policy_id=None, user_ids=None,\n",
        "                         group_ids=None, virtual_user_ids=None):\n",
        "    if not user_ids:\n",
        "        user_ids = []\n",
        "\n",
        "    if not group_ids:\n",
        "        group_ids = []\n",
        "    \n",
        "    if not virtual_user_ids:\n",
        "        virtual_user_ids = []\n",
        "\n",
        "    body = {\n",
        "        \"name\": policy_name,\n",
        "        \"dataSourceId\": dataset_id,\n",
        "        \"userIds\": user_ids,\n",
        "        \"virtualUserIds\": virtual_user_ids,\n",
        "        \"groupIds\": group_ids,\n",
        "        \"dataSourcePermissions\": False,\n",
        "        \"parameters\": parameters_list\n",
        "    }\n",
        "\n",
        "    if policy_id:\n",
        "        body.update({'filterGroupId': policy_id})\n",
        "\n",
        "    return body"
      ]
    },
    {
      "cell_type": "code",
      "execution_count": null,
      "metadata": {},
      "outputs": [],
      "source": [
        "#| export\n",
        "async def create_policy(full_auth: DomoFullAuth, dataset_id: str, body: dict, debug: bool = False) -> ResponseGetData:\n",
        "    url = f'https://{full_auth.domo_instance}.domo.com/api/query/v1/data-control/{dataset_id}/filter-groups'\n",
        "    if debug:\n",
        "        print(url)\n",
        "\n",
        "    res = await get_data(\n",
        "        auth=full_auth,\n",
        "        url=url,\n",
        "        method='POST',\n",
        "        body=body,\n",
        "        debug=debug)\n",
        "\n",
        "    return res"
      ]
    },
    {
      "cell_type": "code",
      "execution_count": null,
      "metadata": {},
      "outputs": [],
      "source": [
        "#| export\n",
        "async def update_policy(full_auth: DomoFullAuth, dataset_id: str, filter_group_id, body: dict,\n",
        "                        debug: bool = False) -> ResponseGetData:\n",
        "    url = f'https://{full_auth.domo_instance}.domo.com/api/query/v1/data-control/{dataset_id}/filter-groups/{filter_group_id}'\n",
        "    if debug:\n",
        "        print(url)\n",
        "\n",
        "    res = await get_data(\n",
        "        auth=full_auth,\n",
        "        url=url,\n",
        "        method='PUT',\n",
        "        body=body,\n",
        "        debug=debug\n",
        "    )\n",
        "\n",
        "    return res"
      ]
    }
  ],
  "metadata": {
    "jupytext": {
      "split_at_heading": true
    },
    "kernelspec": {
      "display_name": "Python 3",
      "language": "python",
      "name": "python3"
    }
  },
  "nbformat": 4,
  "nbformat_minor": 4
}
