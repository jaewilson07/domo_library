{
 "cells": [
  {
   "attachments": {},
   "cell_type": "markdown",
   "metadata": {},
   "source": [
    "# Grant Routes"
   ]
  },
  {
   "cell_type": "raw",
   "metadata": {},
   "source": [
    "---\n",
    "output-file: grant_routes.html\n",
    "---\n"
   ]
  },
  {
   "cell_type": "code",
   "execution_count": null,
   "metadata": {},
   "outputs": [],
   "source": [
    "#| default_exp routes.grant"
   ]
  },
  {
   "cell_type": "code",
   "execution_count": null,
   "metadata": {},
   "outputs": [],
   "source": [
    "#| exporti\n",
    "import httpx\n",
    "\n",
    "import domolibrary.client.get_data as gd\n",
    "import domolibrary.client.ResponseGetData as rgd\n",
    "import domolibrary.client.DomoAuth as dmda\n",
    "import domolibrary.client.DomoError as de\n"
   ]
  },
  {
   "cell_type": "code",
   "execution_count": null,
   "metadata": {},
   "outputs": [],
   "source": [
    "#| export\n",
    "class GetGrants_Error(de.DomoError):\n",
    "    def __init__(self, status, message, domo_instance, function_name):\n",
    "        super().__init__(status = status, message = message, domo_instance = domo_instance, function_name = function_name)\n"
   ]
  },
  {
   "cell_type": "code",
   "execution_count": null,
   "metadata": {},
   "outputs": [
    {
     "name": "stdout",
     "output_type": "stream",
     "text": [
      "GetData: Status 405 - error at test\n"
     ]
    }
   ],
   "source": [
    "#| hide\n",
    "try:\n",
    "    raise GetGrants_Error(status = 405, message = \"error\", domo_instance = 'test', function_name= 'GetData')\n",
    "\n",
    "except Exception as e:\n",
    "    print(e)"
   ]
  },
  {
   "cell_type": "code",
   "execution_count": null,
   "metadata": {},
   "outputs": [],
   "source": [
    "# | export\n",
    "\n",
    "\n",
    "async def get_grants(auth: dmda.DomoAuth,\n",
    "                     debug_api: bool = False,\n",
    "                     session: httpx.AsyncClient = None) -> rgd.ResponseGetData:\n",
    "\n",
    "    url = f'https://{auth.domo_instance}.domo.com/api/authorization/v1/authorities'\n",
    "\n",
    "    res = await gd.get_data(auth=auth,\n",
    "                            url=url,\n",
    "                            method='GET',\n",
    "                            debug_api=debug_api,\n",
    "                            session=session)\n",
    "\n",
    "    if not res.is_success:\n",
    "        raise GetGrants_Error(status=res.status,\n",
    "                              message=res.message,\n",
    "                              domo_instance=auth.domo_instance,\n",
    "                              function_name='get_grants')\n",
    "    \n",
    "    if len(res.response) == 0:\n",
    "        raise GetGrants_Error(status=res.status,\n",
    "                              message=f'{len(res.response)} grants returned',\n",
    "                              domo_instance=auth.domo_instance,\n",
    "                              function_name='get_grants')\n",
    "\n",
    "    return res\n"
   ]
  },
  {
   "attachments": {},
   "cell_type": "markdown",
   "metadata": {},
   "source": [
    "#### sample implementation of get_grants"
   ]
  },
  {
   "cell_type": "code",
   "execution_count": null,
   "metadata": {},
   "outputs": [
    {
     "data": {
      "text/html": [
       "<div>\n",
       "<style scoped>\n",
       "    .dataframe tbody tr th:only-of-type {\n",
       "        vertical-align: middle;\n",
       "    }\n",
       "\n",
       "    .dataframe tbody tr th {\n",
       "        vertical-align: top;\n",
       "    }\n",
       "\n",
       "    .dataframe thead th {\n",
       "        text-align: right;\n",
       "    }\n",
       "</style>\n",
       "<table border=\"1\" class=\"dataframe\">\n",
       "  <thead>\n",
       "    <tr style=\"text-align: right;\">\n",
       "      <th></th>\n",
       "      <th>authority</th>\n",
       "      <th>title</th>\n",
       "      <th>description</th>\n",
       "      <th>authorityUIGroup</th>\n",
       "      <th>userCount</th>\n",
       "      <th>roleIds</th>\n",
       "      <th>dependsOnAuthorities</th>\n",
       "      <th>systemGroup</th>\n",
       "    </tr>\n",
       "  </thead>\n",
       "  <tbody>\n",
       "    <tr>\n",
       "      <th>0</th>\n",
       "      <td>authorization.roles</td>\n",
       "      <td>Manage all roles</td>\n",
       "      <td>Create, edit and delete custom roles. Assign a...</td>\n",
       "      <td>COMPANY</td>\n",
       "      <td>16</td>\n",
       "      <td>[1, 275763436]</td>\n",
       "      <td>[ui.admin]</td>\n",
       "      <td>True</td>\n",
       "    </tr>\n",
       "    <tr>\n",
       "      <th>1</th>\n",
       "      <td>audit</td>\n",
       "      <td>View activity logs</td>\n",
       "      <td>View and export audit logs.</td>\n",
       "      <td>COMPANY</td>\n",
       "      <td>113</td>\n",
       "      <td>[1, 275763436, 1927158482, 2097317660]</td>\n",
       "      <td>[ui.admin]</td>\n",
       "      <td>True</td>\n",
       "    </tr>\n",
       "    <tr>\n",
       "      <th>2</th>\n",
       "      <td>customer.edit</td>\n",
       "      <td>Manage all company settings</td>\n",
       "      <td>Manage company metadata, authentication rules,...</td>\n",
       "      <td>COMPANY</td>\n",
       "      <td>16</td>\n",
       "      <td>[1, 275763436]</td>\n",
       "      <td>[ui.admin]</td>\n",
       "      <td>True</td>\n",
       "    </tr>\n",
       "    <tr>\n",
       "      <th>3</th>\n",
       "      <td>developer.token.manage</td>\n",
       "      <td>Manage all access tokens</td>\n",
       "      <td>Create and delete any access tokens.</td>\n",
       "      <td>COMPANY</td>\n",
       "      <td>21</td>\n",
       "      <td>[1, 275763436, 1927158482]</td>\n",
       "      <td>[ui.admin]</td>\n",
       "      <td>True</td>\n",
       "    </tr>\n",
       "    <tr>\n",
       "      <th>4</th>\n",
       "      <td>domo.system.messages</td>\n",
       "      <td>Receive Domo System Messages</td>\n",
       "      <td>Receive Domo system messages about maintenance...</td>\n",
       "      <td>COMPANY</td>\n",
       "      <td>21</td>\n",
       "      <td>[1, 275763436, 1927158482]</td>\n",
       "      <td>[ui.admin]</td>\n",
       "      <td>True</td>\n",
       "    </tr>\n",
       "  </tbody>\n",
       "</table>\n",
       "</div>"
      ],
      "text/plain": [
       "                authority                         title  \\\n",
       "0     authorization.roles              Manage all roles   \n",
       "1                   audit            View activity logs   \n",
       "2           customer.edit   Manage all company settings   \n",
       "3  developer.token.manage      Manage all access tokens   \n",
       "4    domo.system.messages  Receive Domo System Messages   \n",
       "\n",
       "                                         description authorityUIGroup  \\\n",
       "0  Create, edit and delete custom roles. Assign a...          COMPANY   \n",
       "1                        View and export audit logs.          COMPANY   \n",
       "2  Manage company metadata, authentication rules,...          COMPANY   \n",
       "3               Create and delete any access tokens.          COMPANY   \n",
       "4  Receive Domo system messages about maintenance...          COMPANY   \n",
       "\n",
       "   userCount                                 roleIds dependsOnAuthorities  \\\n",
       "0         16                          [1, 275763436]           [ui.admin]   \n",
       "1        113  [1, 275763436, 1927158482, 2097317660]           [ui.admin]   \n",
       "2         16                          [1, 275763436]           [ui.admin]   \n",
       "3         21              [1, 275763436, 1927158482]           [ui.admin]   \n",
       "4         21              [1, 275763436, 1927158482]           [ui.admin]   \n",
       "\n",
       "   systemGroup  \n",
       "0         True  \n",
       "1         True  \n",
       "2         True  \n",
       "3         True  \n",
       "4         True  "
      ]
     },
     "execution_count": null,
     "metadata": {},
     "output_type": "execute_result"
    }
   ],
   "source": [
    "import os\n",
    "import pandas as pd\n",
    "\n",
    "token_auth = dmda.DomoTokenAuth(\n",
    "    domo_access_token=os.environ[\"DOMO_DOJO_ACCESS_TOKEN\"],\n",
    "    domo_instance=\"domo-community\",\n",
    ")\n",
    "\n",
    "res = await get_grants(auth=token_auth)\n",
    "\n",
    "pd.DataFrame(res.response[0:5])"
   ]
  },
  {
   "cell_type": "code",
   "execution_count": null,
   "metadata": {},
   "outputs": [],
   "source": [
    "# | hide\n",
    "import nbdev\n",
    "\n",
    "nbdev.nbdev_export()\n"
   ]
  }
 ],
 "metadata": {
  "jupytext": {
   "split_at_heading": true
  },
  "kernelspec": {
   "display_name": "Python 3",
   "language": "python",
   "name": "python3"
  }
 },
 "nbformat": 4,
 "nbformat_minor": 4
}
