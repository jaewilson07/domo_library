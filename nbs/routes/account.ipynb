{
 "cells": [
  {
   "attachments": {},
   "cell_type": "markdown",
   "metadata": {},
   "source": [
    "# Account Routes"
   ]
  },
  {
   "cell_type": "raw",
   "metadata": {},
   "source": [
    "---\n",
    "output-file: account_routes.html\n",
    "---"
   ]
  },
  {
   "cell_type": "code",
   "execution_count": null,
   "metadata": {},
   "outputs": [],
   "source": [
    "#| default_exp routes.account"
   ]
  },
  {
   "cell_type": "code",
   "execution_count": null,
   "metadata": {},
   "outputs": [],
   "source": [
    "#| exporti\n",
    "from typing import Union\n",
    "from enum import Enum\n",
    "import httpx\n",
    "\n",
    "import domolibrary.client.get_data as gd\n",
    "import domolibrary.client.ResponseGetData as rgd\n",
    "import domolibrary.client.DomoAuth as dmda\n",
    "import domolibrary.client.DomoError as de"
   ]
  },
  {
   "cell_type": "code",
   "execution_count": null,
   "metadata": {},
   "outputs": [],
   "source": [
    "#| export\n",
    "async def get_accounts(auth: dmda.DomoAuth,\n",
    "                       debug_api: bool = False, \n",
    "                       session: Union[httpx.AsyncClient, httpx.AsyncClient, None] = None) -> rgd.ResponseGetData:\n",
    "    \"\"\"retrieve a list of all the accounts the user has read access to.  Note users with \"Manage all accounts\" will retrieve all account objects\"\"\"\n",
    "    \n",
    "    url = f\"https://{auth.domo_instance}.domo.com/api/data/v1/accounts\"\n",
    "\n",
    "    return await gd.get_data(\n",
    "        auth=auth,\n",
    "        url=url,\n",
    "        method='GET',\n",
    "        debug_api=debug_api,\n",
    "        session=session\n",
    "    )"
   ]
  },
  {
   "attachments": {},
   "cell_type": "markdown",
   "metadata": {},
   "source": [
    "#### sample implementation of get_accounts"
   ]
  },
  {
   "cell_type": "code",
   "execution_count": null,
   "metadata": {},
   "outputs": [
    {
     "data": {
      "text/html": [
       "<div>\n",
       "<style scoped>\n",
       "    .dataframe tbody tr th:only-of-type {\n",
       "        vertical-align: middle;\n",
       "    }\n",
       "\n",
       "    .dataframe tbody tr th {\n",
       "        vertical-align: top;\n",
       "    }\n",
       "\n",
       "    .dataframe thead th {\n",
       "        text-align: right;\n",
       "    }\n",
       "</style>\n",
       "<table border=\"1\" class=\"dataframe\">\n",
       "  <thead>\n",
       "    <tr style=\"text-align: right;\">\n",
       "      <th></th>\n",
       "      <th>id</th>\n",
       "      <th>userId</th>\n",
       "      <th>name</th>\n",
       "      <th>displayName</th>\n",
       "      <th>type</th>\n",
       "      <th>valid</th>\n",
       "      <th>dataProviderType</th>\n",
       "      <th>credentialsType</th>\n",
       "      <th>createdAt</th>\n",
       "      <th>createdBy</th>\n",
       "      <th>modifiedAt</th>\n",
       "      <th>modifiedBy</th>\n",
       "      <th>configurations</th>\n",
       "      <th>accountId</th>\n",
       "      <th>accountTemplateId</th>\n",
       "      <th>accountTemplateAuthorizationId</th>\n",
       "    </tr>\n",
       "  </thead>\n",
       "  <tbody>\n",
       "    <tr>\n",
       "      <th>0</th>\n",
       "      <td>1</td>\n",
       "      <td>1893952720</td>\n",
       "      <td>DataSet Copy Account</td>\n",
       "      <td>DataSet Copy Account</td>\n",
       "      <td>data</td>\n",
       "      <td>True</td>\n",
       "      <td>dataset-copy</td>\n",
       "      <td>fields</td>\n",
       "      <td>1589100087000</td>\n",
       "      <td>1893952720</td>\n",
       "      <td>1589100087000</td>\n",
       "      <td>1893952720</td>\n",
       "      <td>{}</td>\n",
       "      <td>1</td>\n",
       "      <td>None</td>\n",
       "      <td>None</td>\n",
       "    </tr>\n",
       "    <tr>\n",
       "      <th>1</th>\n",
       "      <td>5</td>\n",
       "      <td>1893952720</td>\n",
       "      <td>Domo Governance Datasets Third Party Account</td>\n",
       "      <td>test_rename</td>\n",
       "      <td>data</td>\n",
       "      <td>True</td>\n",
       "      <td>domo-governance-d14c2fef-49a8-4898-8ddd-f64998...</td>\n",
       "      <td>fields</td>\n",
       "      <td>1616777681000</td>\n",
       "      <td>1893952720</td>\n",
       "      <td>1682350950000</td>\n",
       "      <td>1893952720</td>\n",
       "      <td>{}</td>\n",
       "      <td>5</td>\n",
       "      <td>None</td>\n",
       "      <td>None</td>\n",
       "    </tr>\n",
       "    <tr>\n",
       "      <th>2</th>\n",
       "      <td>27</td>\n",
       "      <td>1893952720</td>\n",
       "      <td>DataSet Copy Account</td>\n",
       "      <td>DataSet Copy Account</td>\n",
       "      <td>data</td>\n",
       "      <td>True</td>\n",
       "      <td>domo-csv</td>\n",
       "      <td>fields</td>\n",
       "      <td>1619083568000</td>\n",
       "      <td>1893952720</td>\n",
       "      <td>1619083568000</td>\n",
       "      <td>1893952720</td>\n",
       "      <td>{}</td>\n",
       "      <td>27</td>\n",
       "      <td>None</td>\n",
       "      <td>None</td>\n",
       "    </tr>\n",
       "    <tr>\n",
       "      <th>3</th>\n",
       "      <td>45</td>\n",
       "      <td>1893952720</td>\n",
       "      <td>onyxReporting@gmail.com</td>\n",
       "      <td>test-goolesheets</td>\n",
       "      <td>data</td>\n",
       "      <td>True</td>\n",
       "      <td>google-spreadsheets</td>\n",
       "      <td>oauth</td>\n",
       "      <td>1664924354000</td>\n",
       "      <td>1893952720</td>\n",
       "      <td>1682350828000</td>\n",
       "      <td>1893952720</td>\n",
       "      <td>{}</td>\n",
       "      <td>45</td>\n",
       "      <td>None</td>\n",
       "      <td>None</td>\n",
       "    </tr>\n",
       "  </tbody>\n",
       "</table>\n",
       "</div>"
      ],
      "text/plain": [
       "   id      userId                                          name  \\\n",
       "0   1  1893952720                          DataSet Copy Account   \n",
       "1   5  1893952720  Domo Governance Datasets Third Party Account   \n",
       "2  27  1893952720                          DataSet Copy Account   \n",
       "3  45  1893952720                       onyxReporting@gmail.com   \n",
       "\n",
       "            displayName  type  valid  \\\n",
       "0  DataSet Copy Account  data   True   \n",
       "1           test_rename  data   True   \n",
       "2  DataSet Copy Account  data   True   \n",
       "3      test-goolesheets  data   True   \n",
       "\n",
       "                                    dataProviderType credentialsType  \\\n",
       "0                                       dataset-copy          fields   \n",
       "1  domo-governance-d14c2fef-49a8-4898-8ddd-f64998...          fields   \n",
       "2                                           domo-csv          fields   \n",
       "3                                google-spreadsheets           oauth   \n",
       "\n",
       "       createdAt   createdBy     modifiedAt  modifiedBy configurations  \\\n",
       "0  1589100087000  1893952720  1589100087000  1893952720             {}   \n",
       "1  1616777681000  1893952720  1682350950000  1893952720             {}   \n",
       "2  1619083568000  1893952720  1619083568000  1893952720             {}   \n",
       "3  1664924354000  1893952720  1682350828000  1893952720             {}   \n",
       "\n",
       "   accountId accountTemplateId accountTemplateAuthorizationId  \n",
       "0          1              None                           None  \n",
       "1          5              None                           None  \n",
       "2         27              None                           None  \n",
       "3         45              None                           None  "
      ]
     },
     "execution_count": null,
     "metadata": {},
     "output_type": "execute_result"
    }
   ],
   "source": [
    "import os\n",
    "import pandas as pd\n",
    "\n",
    "token_auth = dmda.DomoTokenAuth(\n",
    "    domo_instance=\"domo-community\",\n",
    "    domo_access_token=os.environ[\"DOMO_DOJO_ACCESS_TOKEN\"]\n",
    ")\n",
    "\n",
    "\n",
    "res = await get_accounts(auth = token_auth)\n",
    "pd.DataFrame(res.response)"
   ]
  },
  {
   "cell_type": "code",
   "execution_count": null,
   "metadata": {},
   "outputs": [],
   "source": [
    "#| export\n",
    "class GetAccount_NoMatch(de.DomoError):\n",
    "    def __init__(self, account_id, domo_instance, status, function_name = 'get_account_from_id'):\n",
    "\n",
    "        message = f\"account_id {account_id} not found\"\n",
    "        \n",
    "        super().__init__(message = message, status = status, function_name = function_name , domo_instance = domo_instance)\n",
    "    \n",
    "async def get_account_from_id(auth: dmda.DomoAuth, account_id: int,\n",
    "                              debug_api: bool = False, session: httpx.AsyncClient = None) -> rgd.ResponseGetData:\n",
    "    \"\"\"retrieves metadata about an account\"\"\"\n",
    "\n",
    "    url = f\"https://{auth.domo_instance}.domo.com/api/data/v1/accounts/{account_id}?unmask=true\"\n",
    "\n",
    "    if debug_api:\n",
    "        print(url)\n",
    "\n",
    "    res = await gd.get_data(\n",
    "        auth=auth,\n",
    "        url=url,\n",
    "        method='GET',\n",
    "        debug_api=debug_api,\n",
    "        session=session, \n",
    "        timeout = 20 # occasionally this API has a long response time\n",
    "    )\n",
    "\n",
    "    if not res.is_success and (res.response == 'Forbidden' or res.response == 'Not Found'):\n",
    "        raise GetAccount_NoMatch(\n",
    "            account_id=account_id, domo_instance=auth.domo_instance, status=res.status)\n",
    "    \n",
    "    return res\n",
    "\n",
    "\n"
   ]
  },
  {
   "attachments": {},
   "cell_type": "markdown",
   "metadata": {},
   "source": [
    "#### sample implementation of get_account_from_id"
   ]
  },
  {
   "cell_type": "code",
   "execution_count": null,
   "metadata": {},
   "outputs": [
    {
     "name": "stdout",
     "output_type": "stream",
     "text": [
      "{'id': 45, 'userId': 1893952720, 'name': 'onyxReporting@gmail.com', 'displayName': 'test-goolesheets', 'type': 'data', 'valid': True, 'dataProviderType': 'google-spreadsheets', 'credentialsType': 'oauth', 'createdAt': 1664924354000, 'createdBy': 1893952720, 'modifiedAt': 1682350828000, 'modifiedBy': 1893952720, 'configurations': {}, 'accountId': 45, 'accountTemplateAuthorizationId': None, 'accountTemplateId': None}\n"
     ]
    }
   ],
   "source": [
    "import os\n",
    "import pandas as pd\n",
    "\n",
    "token_auth = dmda.DomoTokenAuth(\n",
    "    domo_instance=\"domo-community\",\n",
    "    domo_access_token=os.environ[\"DOMO_DOJO_ACCESS_TOKEN\"]\n",
    ")\n",
    "try:\n",
    "    res = await get_account_from_id(auth=token_auth, account_id = 45)\n",
    "    print(res.response)\n",
    "except GetAccount_NoMatch as e:\n",
    "    print(e)\n"
   ]
  },
  {
   "attachments": {},
   "cell_type": "markdown",
   "metadata": {},
   "source": [
    "# Account Config"
   ]
  },
  {
   "cell_type": "code",
   "execution_count": null,
   "metadata": {},
   "outputs": [],
   "source": [
    "#| export\n",
    "class AccountConfig_InvalidDataProvider(Exception):\n",
    "    def __init__(self, account_id:str, data_provider_type:str, domo_instance: str):\n",
    "        message = f\"Account - {account_id}, could not be retrieved with data_provider_type, '{data_provider_type}' from {domo_instance}\"\n",
    "        super().__init__( message)\n",
    "\n",
    "async def get_account_config(auth: dmda.DomoAuth,\n",
    "                             account_id: int,\n",
    "                             data_provider_type: str ,\n",
    "                             debug_api: bool = False, \n",
    "                             session: Union[httpx.AsyncClient, httpx.AsyncClient, None] = None) -> rgd.ResponseGetData:\n",
    "\n",
    "    url = f\"https://{auth.domo_instance}.domo.com/api/data/v1/providers/{data_provider_type}/account/{account_id}?unmask=true\"\n",
    "\n",
    "    if debug_api:\n",
    "        print(url)\n",
    "\n",
    "    res = await gd.get_data(\n",
    "        auth=auth,\n",
    "        url=url,\n",
    "        method='GET',\n",
    "        debug_api=debug_api,\n",
    "        session=session\n",
    "    )\n",
    "\n",
    "    if res.response == {}:\n",
    "        raise AccountConfig_InvalidDataProvider(account_id= account_id, data_provider_type= data_provider_type, domo_instance=auth.domo_instance)\n",
    "    \n",
    "    return res"
   ]
  },
  {
   "attachments": {},
   "cell_type": "markdown",
   "metadata": {},
   "source": [
    "#### sample implementation of get_account_config"
   ]
  },
  {
   "cell_type": "code",
   "execution_count": null,
   "metadata": {},
   "outputs": [
    {
     "data": {
      "text/plain": [
       "{'instance': 'northshore-io-partner.domo.com', 'accessToken': '********'}"
      ]
     },
     "execution_count": null,
     "metadata": {},
     "output_type": "execute_result"
    }
   ],
   "source": [
    "import os\n",
    "import pandas as pd\n",
    "\n",
    "token_auth = dmda.DomoTokenAuth(\n",
    "    domo_instance=\"domo-community\",\n",
    "    domo_access_token=os.environ[\"DOMO_DOJO_ACCESS_TOKEN\"]\n",
    ")\n",
    "\n",
    "res = await get_account_config(auth=token_auth, account_id=1, data_provider_type='dataset-copy')\n",
    "res.response\n"
   ]
  },
  {
   "cell_type": "code",
   "execution_count": null,
   "metadata": {},
   "outputs": [],
   "source": [
    "#| export\n",
    "async def update_account_config(auth: dmda.DomoAuth,\n",
    "                                account_id: int,\n",
    "                                config_body: dict,\n",
    "                                data_provider_type: str,\n",
    "                                debug_api: bool = False, \n",
    "                                session: httpx.AsyncClient = None) -> rgd.ResponseGetData:\n",
    "\n",
    "    url = f\"https://{auth.domo_instance}.domo.com/api/data/v1/providers/{data_provider_type}/account/{account_id}\"\n",
    "\n",
    "    if debug_api:\n",
    "        print(url)\n",
    "\n",
    "    return await gd.get_data(\n",
    "        auth=auth,\n",
    "        url=url,\n",
    "        method='PUT',\n",
    "        body=config_body,\n",
    "        debug_api=debug_api,\n",
    "        session=session\n",
    "    )"
   ]
  },
  {
   "cell_type": "code",
   "execution_count": null,
   "metadata": {},
   "outputs": [],
   "source": [
    "#| export\n",
    "async def update_account_name(auth: dmda.DomoAuth,\n",
    "                              account_id: int,\n",
    "                              account_name: str,\n",
    "                              debug_api: bool = False, \n",
    "                              session: httpx.AsyncClient = None) -> rgd.ResponseGetData:\n",
    "\n",
    "    url = f\"https://{auth.domo_instance}.domo.com/api/data/v1/accounts/{account_id}/name\"\n",
    "    \n",
    "    if debug_api:\n",
    "        print(url)\n",
    "\n",
    "    return await gd.get_data(\n",
    "        auth=auth,\n",
    "        url=url,\n",
    "        method='PUT',\n",
    "        body=account_name,\n",
    "        content_type = \"text/plain\",\n",
    "        debug_api=debug_api,\n",
    "        session=session\n",
    "    )"
   ]
  },
  {
   "cell_type": "code",
   "execution_count": null,
   "metadata": {},
   "outputs": [],
   "source": [
    "#| export\n",
    "async def create_account(auth:dmda.DomoAuth, config_body:dict,\n",
    "                         debug_api: bool = False, session: httpx.AsyncClient = None) -> rgd.ResponseGetData:\n",
    "\n",
    "    url = f\"https://{auth.domo_instance}.domo.com/api/data/v1/accounts\"\n",
    "\n",
    "    if debug_api:\n",
    "        print(url)\n",
    "\n",
    "    return await gd.get_data(\n",
    "        auth=auth,\n",
    "        url=url,\n",
    "        method='POST',\n",
    "        body = config_body,\n",
    "        debug_api=debug_api,\n",
    "        session=session\n",
    "    )"
   ]
  },
  {
   "cell_type": "code",
   "execution_count": null,
   "metadata": {},
   "outputs": [],
   "source": [
    "#| export\n",
    "async def delete_account(auth:dmda.DomoAuth,\n",
    "                         account_id: str,\n",
    "                         debug_api: bool = False, \n",
    "                         session: httpx.AsyncClient = None) -> rgd.ResponseGetData:\n",
    "    \n",
    "    url = f\"https://{auth.domo_instance}.domo.com/api/data/v1/accounts/{account_id}\"\n",
    "\n",
    "    if debug_api:\n",
    "        print(url)\n",
    "\n",
    "    return await gd.get_data(\n",
    "        auth=auth,\n",
    "        url=url,\n",
    "        method='DELETE',\n",
    "        debug_api=debug_api,\n",
    "        session=session\n",
    "    )"
   ]
  },
  {
   "attachments": {},
   "cell_type": "markdown",
   "metadata": {},
   "source": [
    "# Account Sharing"
   ]
  },
  {
   "cell_type": "code",
   "execution_count": null,
   "metadata": {},
   "outputs": [],
   "source": [
    "#| export\n",
    "class ShareAccount_V1_AccessLevel(Enum):\n",
    "    CAN_VIEW = 'READ'\n",
    "\n",
    "\n",
    "class ShareAccount_V2_AccessLevel(Enum):\n",
    "    CAN_VIEW = 'CAN_VIEW'\n",
    "    CAN_EDIT = 'CAN_EDIT'\n",
    "    CAN_SHARE = 'CAN_SHARE'\n",
    "\n",
    "\n",
    "def generate_share_account_payload_v1(user_id: int, access_level: str):\n",
    "    return {\"type\": \"USER\", \"id\": user_id, \"permissions\": [ShareAccount_V1_AccessLevel[access_level].value]}\n",
    "\n",
    "\n",
    "def generate_share_account_payload_v2(user_id: int,\n",
    "                                      access_level: str\n",
    "                                      ):\n",
    "\n",
    "    return {\"type\": \"USER\", \"id\": user_id, \"accessLevel\": ShareAccount_V2_AccessLevel[access_level].value}\n"
   ]
  },
  {
   "cell_type": "code",
   "execution_count": null,
   "metadata": {},
   "outputs": [
    {
     "data": {
      "text/plain": [
       "{'type': 'USER', 'id': 1, 'accessLevel': 'CAN_VIEW'}"
      ]
     },
     "execution_count": null,
     "metadata": {},
     "output_type": "execute_result"
    }
   ],
   "source": [
    "generate_share_account_payload_v2(1, 'CAN_VIEW')"
   ]
  },
  {
   "cell_type": "code",
   "execution_count": null,
   "metadata": {},
   "outputs": [],
   "source": [
    "#| export\n",
    "async def share_account_v2(auth: dmda.DomoAuth,\n",
    "                           account_id: str,\n",
    "                           share_payload: dict,\n",
    "                           debug_api: bool = False,\n",
    "                           session: httpx.AsyncClient = None\n",
    "                           ):\n",
    "\n",
    "    url = f\"https://{auth.domo_instance}.domo.com/api/data/v2/accounts/share/{account_id}\"\n",
    "\n",
    "    return await gd.get_data(\n",
    "        auth=auth,\n",
    "        url=url,\n",
    "        method='PUT',\n",
    "        body=share_payload,\n",
    "        debug_api=debug_api,\n",
    "        session=session\n",
    "    )\n",
    "\n",
    "\n",
    "async def share_account_v1(auth: dmda.DomoAuth,\n",
    "                           account_id: str,\n",
    "                           share_payload: dict,\n",
    "                           debug_api: bool = False,\n",
    "                           session: httpx.AsyncClient = None\n",
    "                           ):\n",
    "\n",
    "    url = f\"https://{auth.domo_instance}.domo.com/api/data/v1/accounts/{account_id}/share\"\n",
    "\n",
    "    return await gd.get_data(\n",
    "        auth=auth,\n",
    "        url=url,\n",
    "        method='PUT',\n",
    "        body=share_payload,\n",
    "        debug_api=debug_api,\n",
    "        session=session\n",
    "    )\n"
   ]
  },
  {
   "cell_type": "code",
   "execution_count": null,
   "metadata": {},
   "outputs": [],
   "source": [
    "# | hide\n",
    "import nbdev\n",
    "\n",
    "nbdev.nbdev_export()\n"
   ]
  }
 ],
 "metadata": {
  "jupytext": {
   "split_at_heading": true
  },
  "kernelspec": {
   "display_name": "Python 3",
   "language": "python",
   "name": "python3"
  }
 },
 "nbformat": 4,
 "nbformat_minor": 4
}
