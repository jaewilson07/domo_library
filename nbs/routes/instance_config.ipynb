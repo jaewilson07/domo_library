{
 "cells": [
  {
   "cell_type": "raw",
   "metadata": {},
   "source": [
    "---\n",
    "title: Instance Config Routes\n",
    "output-file: instance_config_routes.html\n",
    "---\n",
    "\n"
   ]
  },
  {
   "cell_type": "code",
   "execution_count": 11,
   "metadata": {},
   "outputs": [],
   "source": [
    "# | default_exp routes.instance_config"
   ]
  },
  {
   "cell_type": "code",
   "execution_count": 12,
   "metadata": {},
   "outputs": [],
   "source": [
    "# | export\n",
    "import httpx\n",
    "\n",
    "import domolibrary.client.get_data as gd\n",
    "import domolibrary.client.ResponseGetData as rgd\n",
    "import domolibrary.client.DomoAuth as dmda\n",
    "import domolibrary.client.DomoError as de\n",
    "\n",
    "import domolibrary.routes.user as user_routes\n",
    "import domolibrary.client.DomoError as de\n",
    "import domolibrary.routes.bootstrap as bootstrap_routes"
   ]
  },
  {
   "cell_type": "markdown",
   "metadata": {},
   "source": [
    "## Toggle Social Users\n"
   ]
  },
  {
   "cell_type": "code",
   "execution_count": 13,
   "metadata": {},
   "outputs": [],
   "source": [
    "# | export\n",
    "class ToggleSocialUsers_Error(de.DomoError):\n",
    "    def __init__(self, status, domo_instance, message=\"failure to toggle social users\"):\n",
    "        super().__init__(status=status, domo_instance=domo_instance, message=message)\n",
    "\n",
    "\n",
    "async def toggle_social_users(\n",
    "    auth: dmda.DomoFullAuth,\n",
    "    is_enabled: bool,\n",
    "    session: httpx.AsyncClient = None,\n",
    "    debug_api: bool = False,\n",
    ") -> rgd.ResponseGetData:\n",
    "    url = f\"https://{auth.domo_instance}.domo.com/api/content/v3/customers/features/free-invite\"\n",
    "\n",
    "    body = {\"enabled\": is_enabled}\n",
    "\n",
    "    res = await gd.get_data(\n",
    "        auth=auth,\n",
    "        url=url,\n",
    "        method=\"PUT\",\n",
    "        body=body,\n",
    "        session=session,\n",
    "        debug_api=debug_api,\n",
    "    )\n",
    "\n",
    "    if not res.is_success:\n",
    "        raise ToggleSocialUsers_Error(\n",
    "            status=res.status, message=res.response, domo_instance=auth.domo_instance\n",
    "        )\n",
    "\n",
    "    return res"
   ]
  },
  {
   "cell_type": "code",
   "execution_count": 14,
   "metadata": {},
   "outputs": [
    {
     "data": {
      "text/plain": [
       "{'customerName': 'mmmm-0012-0200',\n",
       " 'name': 'free-invite',\n",
       " 'label': 'Free Invite',\n",
       " 'description': 'Enables UI for free invites outside of admin',\n",
       " 'defaultEnabled': False,\n",
       " 'enabled': False,\n",
       " 'defaultPurchased': False,\n",
       " 'purchased': False,\n",
       " 'type': 'STANDARD'}"
      ]
     },
     "execution_count": 14,
     "metadata": {},
     "output_type": "execute_result"
    }
   ],
   "source": [
    "import os\n",
    "import requests\n",
    "\n",
    "auth = dmda.DomoTokenAuth(\n",
    "    domo_instance=\"domo-community\",\n",
    "    domo_access_token=os.environ[\"DOMO_DOJO_ACCESS_TOKEN\"],\n",
    ")\n",
    "\n",
    "res = await toggle_social_users(auth=auth, is_enabled=False, debug_api=False)\n",
    "res.response"
   ]
  },
  {
   "cell_type": "markdown",
   "metadata": {},
   "source": [
    "## Get is invite social users\n"
   ]
  },
  {
   "cell_type": "code",
   "execution_count": 15,
   "metadata": {},
   "outputs": [],
   "source": [
    "# | export\n",
    "\n",
    "\n",
    "async def get_is_invite_social_users(\n",
    "    auth: dmda.DomoFullAuth,\n",
    "    customer_id: str,\n",
    "    session: httpx.AsyncClient = None,\n",
    "    debug_api: bool = False,\n",
    ") -> rgd.ResponseGetData:\n",
    "    url = f\"https://{auth.domo_instance}.domo.com/api/content/v3/customers/{customer_id}/features/free-invite\"\n",
    "\n",
    "    res = await gd.get_data(\n",
    "        auth=auth,\n",
    "        url=url,\n",
    "        method=\"GET\",\n",
    "        session=session,\n",
    "        debug_api=debug_api,\n",
    "    )\n",
    "\n",
    "    if not res.is_success:\n",
    "        raise ToggleSocialUsers_Error(\n",
    "            status=res.status, message=res.response, domo_instance=auth.domo_instance\n",
    "        )\n",
    "\n",
    "    return res"
   ]
  },
  {
   "cell_type": "markdown",
   "metadata": {},
   "source": [
    "#### sample implementation of get is invite social users\n"
   ]
  },
  {
   "cell_type": "code",
   "execution_count": 16,
   "metadata": {},
   "outputs": [
    {
     "data": {
      "text/plain": [
       "{'customerName': 'mmmm-0012-0200',\n",
       " 'name': 'free-invite',\n",
       " 'label': '',\n",
       " 'description': '',\n",
       " 'defaultEnabled': False,\n",
       " 'enabled': False,\n",
       " 'defaultPurchased': False,\n",
       " 'purchased': False,\n",
       " 'type': 'STANDARD'}"
      ]
     },
     "execution_count": 16,
     "metadata": {},
     "output_type": "execute_result"
    }
   ],
   "source": [
    "import os\n",
    "import requests\n",
    "\n",
    "full_auth = dmda.DomoFullAuth(\n",
    "    domo_instance=\"domo-community\",\n",
    "    domo_password=os.environ[\"DOJO_PASSWORD\"],\n",
    "    domo_username=os.environ[\"DOMO_USERNAME\"],\n",
    ")\n",
    "\n",
    "bootstrap_info_res = await bootstrap_routes.get_bootstrap(\n",
    "    auth=full_auth, debug_api=False\n",
    ")\n",
    "customer_id = bootstrap_info_res.response[\"currentUser\"][\"USER_GROUP\"]\n",
    "\n",
    "res = await get_is_invite_social_users(\n",
    "    auth=auth, customer_id=customer_id, debug_api=False\n",
    ")\n",
    "\n",
    "res.response\n",
    "\n"
   ]
  },
  {
   "cell_type": "code",
   "execution_count": 17,
   "metadata": {},
   "outputs": [],
   "source": [
    "# | export\n",
    "async def get_allowlist(\n",
    "    auth: dmda.DomoFullAuth,\n",
    "    session: httpx.AsyncClient = None,\n",
    "    debug_api: bool = False,\n",
    "    return_raw: bool = False,\n",
    ") -> rgd.ResponseGetData:\n",
    "    if auth.__class__.__name__ != \"DomoFullAuth\":\n",
    "        raise dmda.InvalidAuthTypeError(\n",
    "            function_name=\"get_allowlist\",\n",
    "            domo_instance=auth.domo_instance,\n",
    "            required_auth_type=dmda.DomoFullAuth,\n",
    "        )\n",
    "\n",
    "    url = f\"https://{auth.domo_instance}.domo.com/admin/companysettings/whitelist\"\n",
    "\n",
    "    res = await gd.get_data(\n",
    "        auth=auth,\n",
    "        url=url,\n",
    "        method=\"GET\",\n",
    "        headers={\"accept\": \"*/*\"},\n",
    "        session=session,\n",
    "        debug_api=debug_api,\n",
    "        is_follow_redirects=True,\n",
    "        return_raw=return_raw,\n",
    "    )\n",
    "\n",
    "    return res"
   ]
  },
  {
   "attachments": {},
   "cell_type": "markdown",
   "metadata": {},
   "source": [
    "#### sample implementation of get_allowlist with the wrong auth type\n"
   ]
  },
  {
   "cell_type": "code",
   "execution_count": 18,
   "metadata": {},
   "outputs": [
    {
     "name": "stdout",
     "output_type": "stream",
     "text": [
      "get_allowlist: This API rquires DomoFullAuth at domo-community\n"
     ]
    }
   ],
   "source": [
    "import os\n",
    "import requests\n",
    "\n",
    "auth = dmda.DomoTokenAuth(\n",
    "    domo_instance=\"domo-community\",\n",
    "    domo_access_token=os.environ[\"DOMO_DOJO_ACCESS_TOKEN\"],\n",
    ")\n",
    "\n",
    "try:\n",
    "    await get_allowlist(auth=auth)\n",
    "except dmda.InvalidAuthTypeError as e:\n",
    "    print(e)"
   ]
  },
  {
   "attachments": {},
   "cell_type": "markdown",
   "metadata": {},
   "source": [
    "#### sample implementation of get_allowlist with the correct auth type\n"
   ]
  },
  {
   "cell_type": "code",
   "execution_count": 19,
   "metadata": {},
   "outputs": [
    {
     "data": {
      "text/plain": [
       "ResponseGetData(status=200, response={'addresses': ['0.0.0.0/0', '104.45.202.167', '192.168.0.1']}, is_success=True)"
      ]
     },
     "execution_count": 19,
     "metadata": {},
     "output_type": "execute_result"
    }
   ],
   "source": [
    "import os\n",
    "import requests\n",
    "\n",
    "auth = dmda.DomoFullAuth(\n",
    "    domo_instance=\"domo-community\",\n",
    "    domo_username=os.environ[\"DOMO_USERNAME\"],\n",
    "    domo_password=os.environ[\"DOJO_PASSWORD\"],\n",
    ")\n",
    "\n",
    "res = await get_allowlist(auth=auth)\n",
    "\n",
    "res"
   ]
  },
  {
   "cell_type": "code",
   "execution_count": 20,
   "metadata": {},
   "outputs": [],
   "source": [
    "# | export\n",
    "class Allowlist_UnableToUpdate(de.DomoError):\n",
    "    def __init__(\n",
    "        self,\n",
    "        status: int,\n",
    "        reason: str,\n",
    "        domo_instance: str,\n",
    "        function_name: str = \"update_allowlist\",\n",
    "    ):\n",
    "        super().__init__(\n",
    "            function_name=function_name,\n",
    "            status=status,\n",
    "            message=f\"unable to update allowlist: {reason}\",\n",
    "            domo_instance=domo_instance,\n",
    "        )"
   ]
  },
  {
   "cell_type": "code",
   "execution_count": 21,
   "metadata": {},
   "outputs": [],
   "source": [
    "# | export\n",
    "\n",
    "\n",
    "async def set_allowlist(\n",
    "    auth: dmda.DomoAuth,\n",
    "    ip_address_ls: list[str],\n",
    "    debug_api: bool = False,\n",
    "    return_raw: bool = False,\n",
    "    session: httpx.AsyncClient = None,\n",
    ") -> rgd.ResponseGetData:\n",
    "    \"\"\"companysettings/whitelist API only allows users to SET the allowlist does not allow INSERT or UPDATE\"\"\"\n",
    "\n",
    "    url = f\"https://{auth.domo_instance}.domo.com/admin/companysettings/whitelist\"\n",
    "\n",
    "    body = {\"addresses\": ip_address_ls}\n",
    "\n",
    "    res = await gd.get_data(\n",
    "        auth=auth,\n",
    "        url=url,\n",
    "        method=\"PUT\",\n",
    "        body=body,\n",
    "        debug_api=debug_api,\n",
    "        is_follow_redirects=True,\n",
    "        return_raw=return_raw,\n",
    "        session=session,\n",
    "        headers={\"accept\": \"text/plain\"},\n",
    "    )\n",
    "    if not res.is_success:\n",
    "        raise Allowlist_UnableToUpdate(\n",
    "            status=res.status, reason=res.response, domo_instance=auth.domo_instance\n",
    "        )\n",
    "\n",
    "    if res.is_success:\n",
    "        res.response = f\"allow list updated from {res.response}\"\n",
    "\n",
    "    return res"
   ]
  },
  {
   "cell_type": "code",
   "execution_count": 22,
   "metadata": {},
   "outputs": [],
   "source": [
    "import os\n",
    "\n",
    "ip_address_ls = [\"0.0.0.0/0\"]\n",
    "\n",
    "auth = dmda.DomoTokenAuth(\n",
    "    domo_instance=\"domo-community\",\n",
    "    domo_access_token=os.environ[\"DOMO_DOJO_ACCESS_TOKEN\"],\n",
    ")\n",
    "\n",
    "auth = dmda.DomoFullAuth(\n",
    "    domo_instance=\"domo-community\",\n",
    "    domo_username=os.environ[\"DOMO_USERNAME\"],\n",
    "    domo_password=os.environ[\"DOJO_PASSWORD\"],\n",
    ")\n",
    "try:\n",
    "    res = await set_allowlist(auth=auth, ip_address_ls=ip_address_ls)\n",
    "    res\n",
    "except Exception as e:\n",
    "    print(e)"
   ]
  },
  {
   "cell_type": "code",
   "execution_count": 23,
   "metadata": {},
   "outputs": [],
   "source": [
    "# | export\n",
    "async def set_authorized_domains(\n",
    "    auth: dmda.DomoAuth,\n",
    "    authorized_domain_ls: [str],\n",
    "    debug_api: bool = False,\n",
    "    session: httpx.AsyncClient = None,\n",
    "):\n",
    "    url = f\"https://{auth.domo_instance}.domo.com/api/content/v1/customer-states/authorized-domains\"\n",
    "\n",
    "    body = {\"name\": \"authorized-domains\", \"value\": \",\".join(authorized_domain_ls)}\n",
    "\n",
    "    res = await gd.get_data(\n",
    "        auth=auth,\n",
    "        url=url,\n",
    "        method=\"PUT\",\n",
    "        body=body,\n",
    "        debug_api=debug_api,\n",
    "        session=session,\n",
    "    )\n",
    "\n",
    "    return res"
   ]
  },
  {
   "cell_type": "code",
   "execution_count": 24,
   "metadata": {},
   "outputs": [],
   "source": [
    "# | export\n",
    "\n",
    "\n",
    "class GetDomains_NotFound(de.DomoError):\n",
    "    def __init__(self, status, message, domo_instance):\n",
    "        super().__init__(status=status, message=message, domo_instance=domo_instance)"
   ]
  },
  {
   "cell_type": "code",
   "execution_count": 25,
   "metadata": {},
   "outputs": [],
   "source": [
    "# | export\n",
    "async def get_authorized_domains(\n",
    "    auth: dmda.DomoAuth,\n",
    "    return_raw: bool = False,\n",
    "    debug_api: bool = False,\n",
    "    session: httpx.AsyncClient = None,\n",
    "):\n",
    "    url = f\"https://{auth.domo_instance}.domo.com/api/content/v1/customer-states/authorized-domains\"\n",
    "\n",
    "    res = await gd.get_data(\n",
    "        auth=auth,\n",
    "        url=url,\n",
    "        method=\"GET\",\n",
    "        debug_api=debug_api,\n",
    "        session=session,\n",
    "    )\n",
    "\n",
    "    if return_raw:\n",
    "        return res\n",
    "\n",
    "    # domo raises a 404 error even if the success is valid but there are no approved domains\n",
    "    if res.status == 404 and res.response == \"Not Found\":\n",
    "        res_test = await user_routes.get_all_users(auth=auth)\n",
    "\n",
    "        if not res_test.is_success:\n",
    "            raise GetDomains_NotFound(\n",
    "                domo_instance=auth.domo_instance,\n",
    "                status=res.status,\n",
    "                message=res.response,\n",
    "            )\n",
    "\n",
    "        if res_test.is_success:\n",
    "            res.status = 200\n",
    "            res.is_success = True\n",
    "            res.response = []\n",
    "\n",
    "        return res\n",
    "\n",
    "    res.response = [domain.strip() for domain in res.response.get(\"value\").split(\",\")]\n",
    "    return res"
   ]
  },
  {
   "attachments": {},
   "cell_type": "markdown",
   "metadata": {},
   "source": [
    "#### sample implementation of get_authorized_domains\n"
   ]
  },
  {
   "cell_type": "code",
   "execution_count": 26,
   "metadata": {},
   "outputs": [
    {
     "name": "stdout",
     "output_type": "stream",
     "text": [
      "ResponseGetData(status=200, response=[], is_success=True)\n"
     ]
    }
   ],
   "source": [
    "import os\n",
    "\n",
    "token_auth = dmda.DomoTokenAuth(\n",
    "    domo_instance=\"domo-domo\", domo_access_token=os.environ[\"DOMO_DOJO_ACCESS_TOKEN\"]\n",
    ")\n",
    "\n",
    "try:\n",
    "    res = await get_authorized_domains(auth=token_auth, debug_api=False)\n",
    "    print(res)\n",
    "\n",
    "except Exception as e:\n",
    "    print(e)"
   ]
  },
  {
   "cell_type": "code",
   "execution_count": 27,
   "metadata": {},
   "outputs": [],
   "source": [
    "# | hide\n",
    "import nbdev\n",
    "\n",
    "nbdev.nbdev_export()"
   ]
  }
 ],
 "metadata": {
  "jupytext": {
   "split_at_heading": true
  },
  "kernelspec": {
   "display_name": "python3",
   "language": "python",
   "name": "python3"
  },
  "language_info": {
   "codemirror_mode": {
    "name": "ipython",
    "version": 3
   },
   "file_extension": ".py",
   "mimetype": "text/x-python",
   "name": "python",
   "nbconvert_exporter": "python",
   "pygments_lexer": "ipython3",
   "version": "3.10.8"
  }
 },
 "nbformat": 4,
 "nbformat_minor": 4
}
