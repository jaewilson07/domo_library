{
  "cells": [
    {
      "cell_type": "raw",
      "metadata": {},
      "source": [
        "---\n",
        "title: Instance Config Routes\n",
        "output-file: instance_config_routes.html\n",
        "---\n",
        "\n"
      ]
    },
    {
      "cell_type": "code",
      "execution_count": null,
      "metadata": {},
      "outputs": [],
      "source": [
        "# | default_exp routes.instance_config\n"
      ]
    },
    {
      "cell_type": "code",
      "execution_count": null,
      "metadata": {},
      "outputs": [],
      "source": [
        "# | export\n",
        "import httpx\n",
        "\n",
        "import domolibrary.client.get_data as gd\n",
        "import domolibrary.client.ResponseGetData as rgd\n",
        "import domolibrary.client.DomoAuth as dmda\n",
        "import domolibrary.client.DomoError as de\n",
        "\n",
        "import domolibrary.routes.user as user_routes\n"
      ]
    },
    {
      "cell_type": "code",
      "execution_count": null,
      "metadata": {},
      "outputs": [],
      "source": [
        "# | export\n",
        "async def get_allowlist(\n",
        "    auth: dmda.DomoFullAuth,\n",
        "    session: httpx.AsyncClient = None,\n",
        "    debug_api: bool = False,\n",
        "    return_raw: bool = False,\n",
        ") -> rgd.ResponseGetData:\n",
        "\n",
        "    if auth.__class__.__name__ != \"DomoFullAuth\":\n",
        "        raise dmda.InvalidAuthTypeError(\n",
        "            function_name=\"get_allowlist\",\n",
        "            domo_instance=auth.domo_instance,\n",
        "            required_auth_type=dmda.DomoFullAuth,\n",
        "        )\n",
        "\n",
        "    url = f\"https://{auth.domo_instance}.domo.com/admin/companysettings/whitelist\"\n",
        "\n",
        "    res = await gd.get_data(\n",
        "        auth=auth,\n",
        "        url=url,\n",
        "        method=\"GET\",\n",
        "        headers={\"accept\": \"*/*\"},\n",
        "        session=session,\n",
        "        debug_api=debug_api,\n",
        "        is_follow_redirects=True,\n",
        "        return_raw=return_raw,\n",
        "    )\n",
        "\n",
        "    return res"
      ]
    },
    {
      "attachments": {},
      "cell_type": "markdown",
      "metadata": {},
      "source": [
        "#### sample implementation of get_allowlist with the wrong auth type\n"
      ]
    },
    {
      "cell_type": "code",
      "execution_count": null,
      "metadata": {},
      "outputs": [
        {
          "name": "stdout",
          "output_type": "stream",
          "text": [
            "get_allowlist: This API rquires DomoFullAuth at domo-community\n"
          ]
        }
      ],
      "source": [
        "import os\n",
        "import requests\n",
        "\n",
        "auth = dmda.DomoTokenAuth(\n",
        "    domo_instance=\"domo-community\", domo_access_token=os.environ[\"DOMO_DOJO_ACCESS_TOKEN\"]\n",
        ")\n",
        "\n",
        "try:\n",
        "    await get_allowlist(auth=auth)\n",
        "except dmda.InvalidAuthTypeError as e:\n",
        "    print(e)"
      ]
    },
    {
      "attachments": {},
      "cell_type": "markdown",
      "metadata": {},
      "source": [
        "#### sample implementation of get_allowlist with the correct auth type\n"
      ]
    },
    {
      "cell_type": "code",
      "execution_count": null,
      "metadata": {},
      "outputs": [
        {
          "data": {
            "text/plain": [
              "ResponseGetData(status=200, response={'addresses': ['0.0.0.0/0', '192.168.0.1', '20.169.16.154']}, is_success=True)"
            ]
          },
          "execution_count": null,
          "metadata": {},
          "output_type": "execute_result"
        }
      ],
      "source": [
        "import os\n",
        "import requests\n",
        "\n",
        "auth = dmda.DomoFullAuth(\n",
        "    domo_instance=\"domo-community\",\n",
        "    domo_username=\"jae@onyxreporting.com\",\n",
        "    domo_password=os.environ[\"DOJO_PASSWORD\"],\n",
        ")\n",
        "\n",
        "res = await get_allowlist(auth=auth)\n",
        "\n",
        "res"
      ]
    },
    {
      "cell_type": "code",
      "execution_count": null,
      "metadata": {},
      "outputs": [],
      "source": [
        "# | export\n",
        "class Allowlist_UnableToUpdate(de.DomoError):\n",
        "    def __init__(\n",
        "        self, \n",
        "        status: int, reason: str, domo_instance:str, function_name: str = \"update_allowlist\"\n",
        "    ):\n",
        "\n",
        "        super().__init__(\n",
        "            function_name=function_name,\n",
        "            status=status,\n",
        "            message=f\"unable to update allowlist: {reason}\",\n",
        "            domo_instance=domo_instance,\n",
        "        )"
      ]
    },
    {
      "cell_type": "code",
      "execution_count": null,
      "metadata": {},
      "outputs": [],
      "source": [
        "# | export\n",
        "\n",
        "\n",
        "async def set_allowlist(\n",
        "    auth: dmda.DomoAuth,\n",
        "    ip_address_ls: list[str],\n",
        "    debug_api: bool = False,\n",
        "    return_raw: bool = False,\n",
        "    session: httpx.AsyncClient = None\n",
        ") -> rgd.ResponseGetData:\n",
        "    \"\"\"companysettings/whitelist API only allows users to SET the allowlist does not allow INSERT or UPDATE\"\"\"\n",
        "\n",
        "    url = f\"https://{auth.domo_instance}.domo.com/admin/companysettings/whitelist\"\n",
        "\n",
        "    body = {\"addresses\": ip_address_ls}\n",
        "\n",
        "    res = await gd.get_data(\n",
        "        auth=auth,\n",
        "        url=url,\n",
        "        method=\"PUT\",\n",
        "        body=body,\n",
        "        debug_api=debug_api,\n",
        "        is_follow_redirects=True,\n",
        "        return_raw=return_raw,\n",
        "        session = session,\n",
        "        headers={\"accept\": \"text/plain\"},\n",
        "    )\n",
        "    if not res.is_success:\n",
        "        raise Allowlist_UnableToUpdate(\n",
        "            status=res.status, reason=res.response, domo_instance=auth.domo_instance\n",
        "        )\n",
        "\n",
        "    if res.is_success:\n",
        "        res.response = f\"allow list updated from {res.response}\"\n",
        "\n",
        "    return res"
      ]
    },
    {
      "cell_type": "code",
      "execution_count": null,
      "metadata": {},
      "outputs": [
        {
          "data": {
            "text/plain": [
              "ResponseGetData(status=200, response='allow list updated from 20.169.16.154', is_success=True)"
            ]
          },
          "execution_count": null,
          "metadata": {},
          "output_type": "execute_result"
        }
      ],
      "source": [
        "import os\n",
        "\n",
        "ip_address_ls = [\"0.0.0.0/0\"]\n",
        "\n",
        "auth = dmda.DomoTokenAuth(\n",
        "    domo_instance=\"domo-community\", domo_access_token=os.environ[\"DOMO_DOJO_ACCESS_TOKEN\"]\n",
        ")\n",
        "\n",
        "auth = dmda.DomoFullAuth(\n",
        "    domo_instance=\"domo-community\",\n",
        "    domo_username=\"jae@onyxreporting.com\",\n",
        "    domo_password=os.environ[\"DOJO_PASSWORD\"],\n",
        ")\n",
        "\n",
        "res = await set_allowlist(auth=auth, ip_address_ls=ip_address_ls)\n",
        "res"
      ]
    },
    {
      "cell_type": "code",
      "execution_count": null,
      "metadata": {},
      "outputs": [],
      "source": [
        "# | export\n",
        "async def set_authorized_domains(\n",
        "    auth: dmda.DomoAuth,\n",
        "    authorized_domain_ls: [str],\n",
        "    debug_api: bool = False,\n",
        "    session: httpx.AsyncClient = None,\n",
        "):\n",
        "    url = f\"https://{auth.domo_instance}.domo.com/api/content/v1/customer-states/authorized-domains\"\n",
        "\n",
        "    body = {\"name\": \"authorized-domains\", \"value\": authorized_domain_ls}\n",
        "\n",
        "    res = await gd.get_data(\n",
        "        auth=auth,\n",
        "        url=url,\n",
        "        method=\"PUT\",\n",
        "        body=body,\n",
        "        log_results=log_results,\n",
        "        debug_api=debug_api,\n",
        "        session=session,\n",
        "    )\n",
        "\n",
        "    return res\n"
      ]
    },
    {
      "cell_type": "code",
      "execution_count": null,
      "metadata": {},
      "outputs": [],
      "source": [
        "# | export\n",
        "\n",
        "class GetDomains_NotFound(de.DomoError):\n",
        "    def __init__(self, status, message, domo_instance):\n",
        "        super().__init__(status = status, message = message, domo_instance = domo_instance)\n",
        "\n"
      ]
    },
    {
      "cell_type": "code",
      "execution_count": null,
      "metadata": {},
      "outputs": [],
      "source": [
        "# | export\n",
        "async def get_authorized_domains(\n",
        "    auth: dmda.DomoAuth,\n",
        "    return_raw: bool = False,\n",
        "    debug_api: bool = False,\n",
        "    session: httpx.AsyncClient = None,\n",
        "):\n",
        "    url = f\"https://{auth.domo_instance}.domo.com/api/content/v1/customer-states/authorized-domains\"\n",
        "\n",
        "    res = await gd.get_data(\n",
        "        auth=auth,\n",
        "        url=url,\n",
        "        method=\"GET\",\n",
        "        debug_api=debug_api,\n",
        "        session=session,\n",
        "    )\n",
        "\n",
        "    if return_raw:\n",
        "        return res\n",
        "\n",
        "    # domo raises a 404 error even if the success is valid but there are no approved domains\n",
        "    if res.status == 404 and res.response == 'Not Found':\n",
        "        res_test = await user_routes.get_all_users(auth = auth)\n",
        "\n",
        "        if not res_test.is_success:\n",
        "            raise GetDomains_NotFound(\n",
        "                domo_instance=auth.domo_instance, status=res.status, message=res.response)\n",
        "        \n",
        "        if res_test.is_success:\n",
        "            res.status = 200\n",
        "            res.is_success = True\n",
        "            res.response = []\n",
        "        \n",
        "        return res\n",
        "    \n",
        "    res.response = [domain.strip() for domain in res.response.get('value').split(',')]\n",
        "    return res\n"
      ]
    },
    {
      "cell_type": "markdown",
      "metadata": {},
      "source": [
        "#### sample implementation of get_authorized_domains"
      ]
    },
    {
      "cell_type": "code",
      "execution_count": null,
      "metadata": {},
      "outputs": [
        {
          "name": "stdout",
          "output_type": "stream",
          "text": [
            "ResponseGetData(status=200, response=[], is_success=True)\n"
          ]
        }
      ],
      "source": [
        "import os\n",
        "\n",
        "token_auth = dmda.DomoTokenAuth(\n",
        "    domo_instance= 'domo-domo',\n",
        "    domo_access_token=os.environ[\"DOMO_DOJO_ACCESS_TOKEN\"]\n",
        ")\n",
        "\n",
        "try:\n",
        "    res = await get_authorized_domains(auth=token_auth, debug_api=False)\n",
        "    print(res)\n",
        "\n",
        "except Exception as e:\n",
        "    print(e)\n",
        "    "
      ]
    },
    {
      "cell_type": "code",
      "execution_count": null,
      "metadata": {},
      "outputs": [],
      "source": [
        "# | hide\n",
        "import nbdev\n",
        "\n",
        "nbdev.nbdev_export()\n"
      ]
    }
  ],
  "metadata": {
    "jupytext": {
      "split_at_heading": true
    },
    "kernelspec": {
      "display_name": "Python 3",
      "language": "python",
      "name": "python3"
    }
  },
  "nbformat": 4,
  "nbformat_minor": 4
}
