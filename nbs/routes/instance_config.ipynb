{
 "cells": [
  {
   "cell_type": "raw",
   "metadata": {},
   "source": [
    "---\n",
    "title: Instance Config Routes\n",
    "output-file: instance_config_routes.html\n",
    "---\n",
    "\n"
   ]
  },
  {
   "cell_type": "code",
   "execution_count": 17,
   "metadata": {},
   "outputs": [],
   "source": [
    "# | default_exp routes.instance_config\n"
   ]
  },
  {
   "cell_type": "code",
   "execution_count": 18,
   "metadata": {},
   "outputs": [],
   "source": [
    "# | export\n",
    "import httpx\n",
    "\n",
    "import domolibrary.client.get_data as gd\n",
    "import domolibrary.client.ResponseGetData as rgd\n",
    "import domolibrary.client.DomoAuth as dmda\n",
    "import domolibrary.client.DomoError as de\n",
    "\n",
    "import domolibrary.routes.user as user_routes\n",
    "import domolibrary.client.DomoError as de\n"
   ]
  },
  {
   "cell_type": "markdown",
   "metadata": {},
   "source": [
    "## Toggle Social Users"
   ]
  },
  {
   "cell_type": "code",
   "execution_count": 60,
   "metadata": {},
   "outputs": [],
   "source": [
    "# | export\n",
    "class ToggleSocialUsers_Error(de.DomoError):\n",
    "    def __init__(self, status,                  domo_instance, message=\"failure to toggle social users\"):\n",
    "        super().__init__(status=status, \n",
    "                       domo_instance=domo_instance, message=message)\n",
    "\n",
    "\n",
    "async def toggle_social_users(\n",
    "    auth: dmda.DomoFullAuth,\n",
    "    is_enabled: bool,\n",
    "    session: httpx.AsyncClient = None,\n",
    "    debug_api: bool = False\n",
    ") -> rgd.ResponseGetData:\n",
    "\n",
    "    url = f\"https://{auth.domo_instance}.domo.com/api/content/v3/customers/features/free-invite\"\n",
    "\n",
    "    body = {\"enabled\": is_enabled}\n",
    "\n",
    "    res = await gd.get_data(\n",
    "        auth=auth,\n",
    "        url=url,\n",
    "        method=\"PUT\",\n",
    "        body=body,\n",
    "        session=session,\n",
    "        debug_api=debug_api,\n",
    "    )\n",
    "\n",
    "    if res.status != 200:\n",
    "        raise ToggleSocialUsers_Error(\n",
    "            status=res.status, message=res.response, domo_instance=auth.domo_instance)\n",
    "\n",
    "    return res\n"
   ]
  },
  {
   "cell_type": "code",
   "execution_count": 61,
   "metadata": {},
   "outputs": [
    {
     "data": {
      "text/plain": [
       "{'customerName': 'mmmm-0012-0200',\n",
       " 'name': 'free-invite',\n",
       " 'label': 'Free Invite',\n",
       " 'description': 'Enables UI for free invites outside of admin',\n",
       " 'defaultEnabled': False,\n",
       " 'enabled': False,\n",
       " 'defaultPurchased': False,\n",
       " 'purchased': False,\n",
       " 'type': 'STANDARD'}"
      ]
     },
     "execution_count": 61,
     "metadata": {},
     "output_type": "execute_result"
    }
   ],
   "source": [
    "import os\n",
    "import requests\n",
    "\n",
    "auth = dmda.DomoTokenAuth(\n",
    "    domo_instance=\"domo-community\", domo_access_token=os.environ[\"DOMO_DOJO_ACCESS_TOKEN\"]\n",
    ")\n",
    "\n",
    "res = await toggle_social_users(auth=auth, is_enabled=False, debug_api= False)\n",
    "res.response"
   ]
  },
  {
   "cell_type": "markdown",
   "metadata": {},
   "source": [
    "#### sample implementation of toggle_social_users"
   ]
  },
  {
   "cell_type": "code",
   "execution_count": 51,
   "metadata": {},
   "outputs": [
    {
     "ename": "NameError",
     "evalue": "name 'response' is not defined",
     "output_type": "error",
     "traceback": [
      "\u001b[0;31m---------------------------------------------------------------------------\u001b[0m",
      "\u001b[0;31mNameError\u001b[0m                                 Traceback (most recent call last)",
      "Cell \u001b[0;32mIn[51], line 8\u001b[0m\n\u001b[1;32m      2\u001b[0m \u001b[39mimport\u001b[39;00m \u001b[39mrequests\u001b[39;00m\n\u001b[1;32m      4\u001b[0m auth \u001b[39m=\u001b[39m dmda\u001b[39m.\u001b[39mDomoTokenAuth(\n\u001b[1;32m      5\u001b[0m     domo_instance\u001b[39m=\u001b[39m\u001b[39m\"\u001b[39m\u001b[39mdomo-community\u001b[39m\u001b[39m\"\u001b[39m, domo_access_token\u001b[39m=\u001b[39mos\u001b[39m.\u001b[39menviron[\u001b[39m\"\u001b[39m\u001b[39mDOMO_DOJO_ACCESS_TOKEN\u001b[39m\u001b[39m\"\u001b[39m]\n\u001b[1;32m      6\u001b[0m )\n\u001b[0;32m----> 8\u001b[0m res \u001b[39m=\u001b[39m \u001b[39mawait\u001b[39;00m toggle_social_users(auth\u001b[39m=\u001b[39mauth, is_enabled\u001b[39m=\u001b[39m\u001b[39mFalse\u001b[39;00m, debug_api\u001b[39m=\u001b[39m \u001b[39mFalse\u001b[39;00m)\n\u001b[1;32m      9\u001b[0m res\u001b[39m.\u001b[39mresponse\n",
      "Cell \u001b[0;32mIn[50], line 32\u001b[0m, in \u001b[0;36mtoggle_social_users\u001b[0;34m(auth, is_enabled, session, debug_api)\u001b[0m\n\u001b[1;32m     22\u001b[0m res \u001b[39m=\u001b[39m \u001b[39mawait\u001b[39;00m gd\u001b[39m.\u001b[39mget_data(\n\u001b[1;32m     23\u001b[0m     auth\u001b[39m=\u001b[39mauth,\n\u001b[1;32m     24\u001b[0m     url\u001b[39m=\u001b[39murl,\n\u001b[0;32m   (...)\u001b[0m\n\u001b[1;32m     28\u001b[0m     debug_api\u001b[39m=\u001b[39mdebug_api,\n\u001b[1;32m     29\u001b[0m )\n\u001b[1;32m     31\u001b[0m \u001b[39mif\u001b[39;00m res\u001b[39m.\u001b[39mstatus \u001b[39m==\u001b[39m \u001b[39m200\u001b[39m:\n\u001b[0;32m---> 32\u001b[0m     \u001b[39mraise\u001b[39;00m ToggleSocialUsers_Error(\n\u001b[1;32m     33\u001b[0m         status\u001b[39m=\u001b[39;49mres\u001b[39m.\u001b[39;49mstatus, message\u001b[39m=\u001b[39;49mres\u001b[39m.\u001b[39;49mresponse, domo_instance\u001b[39m=\u001b[39;49mauth\u001b[39m.\u001b[39;49mdomo_instance)\n\u001b[1;32m     35\u001b[0m \u001b[39mreturn\u001b[39;00m res\n",
      "Cell \u001b[0;32mIn[50], line 7\u001b[0m, in \u001b[0;36mToggleSocialUsers_Error.__init__\u001b[0;34m(self, status, domo_instance, message)\u001b[0m\n\u001b[1;32m      3\u001b[0m \u001b[39mdef\u001b[39;00m \u001b[39m__init__\u001b[39m(\u001b[39mself\u001b[39m,\n\u001b[1;32m      4\u001b[0m              status,\n\u001b[1;32m      5\u001b[0m              domo_instance,\n\u001b[1;32m      6\u001b[0m              message\u001b[39m=\u001b[39m\u001b[39m\"\u001b[39m\u001b[39mfailure to toggle social users\u001b[39m\u001b[39m\"\u001b[39m):\n\u001b[0;32m----> 7\u001b[0m     \u001b[39msuper\u001b[39m\u001b[39m.\u001b[39m\u001b[39m__init__\u001b[39m(status\u001b[39m=\u001b[39mstatus, response\u001b[39m=\u001b[39mresponse,\n\u001b[1;32m      8\u001b[0m                    domo_instance\u001b[39m=\u001b[39mdomo_instance, message\u001b[39m=\u001b[39mmessage)\n",
      "\u001b[0;31mNameError\u001b[0m: name 'response' is not defined"
     ]
    }
   ],
   "source": [
    "import os\n",
    "import requests\n",
    "\n",
    "auth = dmda.DomoTokenAuth(\n",
    "    domo_instance=\"domo-community\", domo_access_token=os.environ[\"DOMO_DOJO_ACCESS_TOKEN\"]\n",
    ")\n",
    "\n",
    "res = await toggle_social_users(auth=auth, is_enabled=False, debug_api= False)\n",
    "res.response"
   ]
  },
  {
   "cell_type": "code",
   "execution_count": 21,
   "metadata": {},
   "outputs": [],
   "source": [
    "# | export\n",
    "async def get_allowlist(\n",
    "    auth: dmda.DomoFullAuth,\n",
    "    session: httpx.AsyncClient = None,\n",
    "    debug_api: bool = False,\n",
    "    return_raw: bool = False,\n",
    ") -> rgd.ResponseGetData:\n",
    "\n",
    "    if auth.__class__.__name__ != \"DomoFullAuth\":\n",
    "        raise dmda.InvalidAuthTypeError(\n",
    "            function_name=\"get_allowlist\",\n",
    "            domo_instance=auth.domo_instance,\n",
    "            required_auth_type=dmda.DomoFullAuth,\n",
    "        )\n",
    "\n",
    "    url = f\"https://{auth.domo_instance}.domo.com/admin/companysettings/whitelist\"\n",
    "\n",
    "    res = await gd.get_data(\n",
    "        auth=auth,\n",
    "        url=url,\n",
    "        method=\"GET\",\n",
    "        headers={\"accept\": \"*/*\"},\n",
    "        session=session,\n",
    "        debug_api=debug_api,\n",
    "        is_follow_redirects=True,\n",
    "        return_raw=return_raw,\n",
    "    )\n",
    "\n",
    "    return res"
   ]
  },
  {
   "attachments": {},
   "cell_type": "markdown",
   "metadata": {},
   "source": [
    "#### sample implementation of get_allowlist with the wrong auth type\n"
   ]
  },
  {
   "cell_type": "code",
   "execution_count": 22,
   "metadata": {},
   "outputs": [
    {
     "name": "stdout",
     "output_type": "stream",
     "text": [
      "get_allowlist: This API rquires DomoFullAuth at domo-community\n"
     ]
    }
   ],
   "source": [
    "import os\n",
    "import requests\n",
    "\n",
    "auth = dmda.DomoTokenAuth(\n",
    "    domo_instance=\"domo-community\", domo_access_token=os.environ[\"DOMO_DOJO_ACCESS_TOKEN\"]\n",
    ")\n",
    "\n",
    "try:\n",
    "    await get_allowlist(auth=auth)\n",
    "except dmda.InvalidAuthTypeError as e:\n",
    "    print(e)"
   ]
  },
  {
   "attachments": {},
   "cell_type": "markdown",
   "metadata": {},
   "source": [
    "#### sample implementation of get_allowlist with the correct auth type\n"
   ]
  },
  {
   "cell_type": "code",
   "execution_count": 23,
   "metadata": {},
   "outputs": [
    {
     "data": {
      "text/plain": [
       "ResponseGetData(status=200, response={'addresses': ['0.0.0.0/0', '20.125.125.83']}, is_success=True)"
      ]
     },
     "execution_count": 23,
     "metadata": {},
     "output_type": "execute_result"
    }
   ],
   "source": [
    "import os\n",
    "import requests\n",
    "\n",
    "auth = dmda.DomoFullAuth(\n",
    "    domo_instance=\"domo-community\",\n",
    "    domo_username=os.environ['DOMO_USERNAME'],\n",
    "    domo_password=os.environ[\"DOJO_PASSWORD\"],\n",
    ")\n",
    "\n",
    "res = await get_allowlist(auth=auth)\n",
    "\n",
    "res"
   ]
  },
  {
   "cell_type": "code",
   "execution_count": 24,
   "metadata": {},
   "outputs": [],
   "source": [
    "# | export\n",
    "class Allowlist_UnableToUpdate(de.DomoError):\n",
    "    def __init__(\n",
    "        self, \n",
    "        status: int, reason: str, domo_instance:str, function_name: str = \"update_allowlist\"\n",
    "    ):\n",
    "\n",
    "        super().__init__(\n",
    "            function_name=function_name,\n",
    "            status=status,\n",
    "            message=f\"unable to update allowlist: {reason}\",\n",
    "            domo_instance=domo_instance,\n",
    "        )"
   ]
  },
  {
   "cell_type": "code",
   "execution_count": 25,
   "metadata": {},
   "outputs": [],
   "source": [
    "# | export\n",
    "\n",
    "\n",
    "async def set_allowlist(\n",
    "    auth: dmda.DomoAuth,\n",
    "    ip_address_ls: list[str],\n",
    "    debug_api: bool = False,\n",
    "    return_raw: bool = False,\n",
    "    session: httpx.AsyncClient = None\n",
    ") -> rgd.ResponseGetData:\n",
    "    \"\"\"companysettings/whitelist API only allows users to SET the allowlist does not allow INSERT or UPDATE\"\"\"\n",
    "\n",
    "    url = f\"https://{auth.domo_instance}.domo.com/admin/companysettings/whitelist\"\n",
    "\n",
    "    body = {\"addresses\": ip_address_ls}\n",
    "\n",
    "    res = await gd.get_data(\n",
    "        auth=auth,\n",
    "        url=url,\n",
    "        method=\"PUT\",\n",
    "        body=body,\n",
    "        debug_api=debug_api,\n",
    "        is_follow_redirects=True,\n",
    "        return_raw=return_raw,\n",
    "        session = session,\n",
    "        headers={\"accept\": \"text/plain\"},\n",
    "    )\n",
    "    if not res.is_success:\n",
    "        raise Allowlist_UnableToUpdate(\n",
    "            status=res.status, reason=res.response, domo_instance=auth.domo_instance\n",
    "        )\n",
    "\n",
    "    if res.is_success:\n",
    "        res.response = f\"allow list updated from {res.response}\"\n",
    "\n",
    "    return res"
   ]
  },
  {
   "cell_type": "code",
   "execution_count": 26,
   "metadata": {},
   "outputs": [],
   "source": [
    "import os\n",
    "\n",
    "ip_address_ls = [\"0.0.0.0/0\"]\n",
    "\n",
    "auth = dmda.DomoTokenAuth(\n",
    "    domo_instance=\"domo-community\", domo_access_token=os.environ[\"DOMO_DOJO_ACCESS_TOKEN\"]\n",
    ")\n",
    "\n",
    "auth = dmda.DomoFullAuth(\n",
    "    domo_instance=\"domo-community\",\n",
    "    domo_username=os.environ['DOMO_USERNAME'],\n",
    "    domo_password=os.environ[\"DOJO_PASSWORD\"],\n",
    ")\n",
    "try:\n",
    "    res = await set_allowlist(auth=auth, ip_address_ls=ip_address_ls)\n",
    "    res\n",
    "except Exception as e:\n",
    "    print(e)"
   ]
  },
  {
   "cell_type": "code",
   "execution_count": 27,
   "metadata": {},
   "outputs": [],
   "source": [
    "# | export\n",
    "async def set_authorized_domains(\n",
    "    auth: dmda.DomoAuth,\n",
    "    authorized_domain_ls: [str],\n",
    "    debug_api: bool = False,\n",
    "    session: httpx.AsyncClient = None,\n",
    "):\n",
    "    url = f\"https://{auth.domo_instance}.domo.com/api/content/v1/customer-states/authorized-domains\"\n",
    "\n",
    "    body = {\n",
    "        \"name\": \"authorized-domains\",\n",
    "        \"value\": \",\".join(authorized_domain_ls)\n",
    "    }\n",
    "    \n",
    "    res = await gd.get_data(\n",
    "        auth=auth,\n",
    "        url=url,\n",
    "        method=\"PUT\",\n",
    "        body=body,\n",
    "        debug_api=debug_api,\n",
    "        session=session,\n",
    "    )\n",
    "\n",
    "    return res\n"
   ]
  },
  {
   "cell_type": "code",
   "execution_count": 28,
   "metadata": {},
   "outputs": [],
   "source": [
    "# | export\n",
    "\n",
    "class GetDomains_NotFound(de.DomoError):\n",
    "    def __init__(self, status, message, domo_instance):\n",
    "        super().__init__(status = status, message = message, domo_instance = domo_instance)\n",
    "\n"
   ]
  },
  {
   "cell_type": "code",
   "execution_count": 29,
   "metadata": {},
   "outputs": [],
   "source": [
    "# | export\n",
    "async def get_authorized_domains(\n",
    "    auth: dmda.DomoAuth,\n",
    "    return_raw: bool = False,\n",
    "    debug_api: bool = False,\n",
    "    session: httpx.AsyncClient = None,\n",
    "):\n",
    "    url = f\"https://{auth.domo_instance}.domo.com/api/content/v1/customer-states/authorized-domains\"\n",
    "\n",
    "    res = await gd.get_data(\n",
    "        auth=auth,\n",
    "        url=url,\n",
    "        method=\"GET\",\n",
    "        debug_api=debug_api,\n",
    "        session=session,\n",
    "    )\n",
    "\n",
    "    if return_raw:\n",
    "        return res\n",
    "\n",
    "    # domo raises a 404 error even if the success is valid but there are no approved domains\n",
    "    if res.status == 404 and res.response == 'Not Found':\n",
    "        res_test = await user_routes.get_all_users(auth = auth)\n",
    "\n",
    "        if not res_test.is_success:\n",
    "            raise GetDomains_NotFound(\n",
    "                domo_instance=auth.domo_instance, status=res.status, message=res.response)\n",
    "        \n",
    "        if res_test.is_success:\n",
    "            res.status = 200\n",
    "            res.is_success = True\n",
    "            res.response = []\n",
    "        \n",
    "        return res\n",
    "    \n",
    "    res.response = [domain.strip() for domain in res.response.get('value').split(',')]\n",
    "    return res\n"
   ]
  },
  {
   "attachments": {},
   "cell_type": "markdown",
   "metadata": {},
   "source": [
    "#### sample implementation of get_authorized_domains"
   ]
  },
  {
   "cell_type": "code",
   "execution_count": 30,
   "metadata": {},
   "outputs": [
    {
     "name": "stdout",
     "output_type": "stream",
     "text": [
      "ResponseGetData(status=200, response=[], is_success=True)\n"
     ]
    }
   ],
   "source": [
    "import os\n",
    "\n",
    "token_auth = dmda.DomoTokenAuth(\n",
    "    domo_instance= 'domo-domo',\n",
    "    domo_access_token=os.environ[\"DOMO_DOJO_ACCESS_TOKEN\"]\n",
    ")\n",
    "\n",
    "try:\n",
    "    res = await get_authorized_domains(auth=token_auth, debug_api=False)\n",
    "    print(res)\n",
    "\n",
    "except Exception as e:\n",
    "    print(e)\n",
    "    "
   ]
  },
  {
   "cell_type": "code",
   "execution_count": 31,
   "metadata": {},
   "outputs": [],
   "source": [
    "# | hide\n",
    "import nbdev\n",
    "\n",
    "nbdev.nbdev_export()\n"
   ]
  }
 ],
 "metadata": {
  "jupytext": {
   "split_at_heading": true
  },
  "kernelspec": {
   "display_name": "python3",
   "language": "python",
   "name": "python3"
  },
  "language_info": {
   "codemirror_mode": {
    "name": "ipython",
    "version": 3
   },
   "file_extension": ".py",
   "mimetype": "text/x-python",
   "name": "python",
   "nbconvert_exporter": "python",
   "pygments_lexer": "ipython3",
   "version": "3.10.4"
  }
 },
 "nbformat": 4,
 "nbformat_minor": 4
}
