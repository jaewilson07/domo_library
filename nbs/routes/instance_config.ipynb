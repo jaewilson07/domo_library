{
   "cells": [
      {
         "cell_type": "raw",
         "metadata": {},
         "source": [
            "---\n",
            "title: Instance Config Routes\n",
            "output-file: instance_config_routes.html\n",
            "---\n",
            "\n"
         ]
      },
      {
         "cell_type": "code",
         "execution_count": 2,
         "metadata": {},
         "outputs": [],
         "source": [
            "# pip install httpcore['asyncio']"
         ]
      },
      {
         "cell_type": "code",
         "execution_count": 3,
         "metadata": {},
         "outputs": [],
         "source": [
            "# | default_exp routes.instance_config"
         ]
      },
      {
         "cell_type": "code",
         "execution_count": 4,
         "metadata": {},
         "outputs": [],
         "source": [
            "# | export\n",
            "import httpx\n",
            "\n",
            "import domolibrary.client.get_data as gd\n",
            "import domolibrary.client.ResponseGetData as rgd\n",
            "import domolibrary.client.DomoAuth as dmda\n",
            "import domolibrary.client.DomoError as de\n",
            "\n",
            "from domolibrary.utils.convert import convert_string_to_bool\n",
            "\n",
            "import domolibrary.routes.user as user_routes\n",
            "import domolibrary.routes.bootstrap as bootstrap_routes"
         ]
      },
      {
         "cell_type": "code",
         "execution_count": 5,
         "metadata": {},
         "outputs": [],
         "source": [
            "# hide\n",
            "import os"
         ]
      },
      {
         "cell_type": "markdown",
         "metadata": {},
         "source": [
            "## Toggle is Social Users Enabled\n"
         ]
      },
      {
         "cell_type": "code",
         "execution_count": 6,
         "metadata": {},
         "outputs": [],
         "source": [
            "# | export\n",
            "\n",
            "\n",
            "@gd.route_function\n",
            "async def get_is_invite_social_users_enabled(\n",
            "    auth: dmda.DomoAuth,\n",
            "    customer_id: str,\n",
            "    session: httpx.AsyncClient = None,\n",
            "    debug_api: bool = False,\n",
            "    parent_class=None,\n",
            "    return_raw: bool = False,\n",
            "    debug_num_stacks_to_drop=1,\n",
            ") -> rgd.ResponseGetData:\n",
            "\n",
            "    # must pass the customer as the short form API endpoint (without customer_id) does not support a GET request\n",
            "    # url = f\"https://{auth.domo_instance}.domo.com/api/content/v3/customers/features/free-invite\"\n",
            "\n",
            "    url = f\"https://{auth.domo_instance}.domo.com/api/content/v3/customers/{customer_id}/features/free-invite\"\n",
            "\n",
            "    res = await gd.get_data(\n",
            "        auth=auth,\n",
            "        url=url,\n",
            "        method=\"GET\",\n",
            "        session=session,\n",
            "        debug_api=debug_api,\n",
            "        parent_class=parent_class,\n",
            "        num_stacks_to_drop=debug_num_stacks_to_drop,\n",
            "    )\n",
            "\n",
            "    if not res.is_success:\n",
            "        raise ToggleSocialUsers_Error(\n",
            "            status=res.status, message=res.response, domo_instance=auth.domo_instance\n",
            "        )\n",
            "\n",
            "    if return_raw:\n",
            "        return res\n",
            "\n",
            "    res.response = {\"name\": \"free-invite\", \"is_enabled\": res.response[\"enabled\"]}\n",
            "\n",
            "    return res"
         ]
      },
      {
         "cell_type": "markdown",
         "metadata": {},
         "source": [
            "#### sample implementation of get is invite social users enabled\n"
         ]
      },
      {
         "cell_type": "code",
         "execution_count": 7,
         "metadata": {},
         "outputs": [
            {
               "data": {
                  "text/plain": [
                     "ResponseGetData(status=200, response={'name': 'free-invite', 'is_enabled': True}, is_success=True, parent_class=None)"
                  ]
               },
               "execution_count": 7,
               "metadata": {},
               "output_type": "execute_result"
            }
         ],
         "source": [
            "# import domolibrary.routes.bootstrap as bootstrap_routes\n",
            "# import domolibrary.client.DomoAuth as dmda\n",
            "\n",
            "full_auth = dmda.DomoFullAuth(\n",
            "    domo_instance=\"domo-community\",\n",
            "    domo_password=os.environ[\"DOJO_PASSWORD\"],\n",
            "    domo_username=os.environ[\"DOMO_USERNAME\"],\n",
            ")\n",
            "\n",
            "bootstrap_info_res = await bootstrap_routes.get_bootstrap(\n",
            "    auth=full_auth, debug_api=False\n",
            ")\n",
            "customer_id = bootstrap_info_res.response[\"currentUser\"][\"USER_GROUP\"]\n",
            "\n",
            "await get_is_invite_social_users_enabled(\n",
            "    auth=full_auth, customer_id=customer_id, debug_api=False\n",
            ")"
         ]
      },
      {
         "cell_type": "code",
         "execution_count": 8,
         "metadata": {},
         "outputs": [],
         "source": [
            "# | export\n",
            "class ToggleSocialUsers_Error(de.DomoError):\n",
            "    def __init__(self, status, domo_instance, message=\"failure to toggle social users\"):\n",
            "        super().__init__(status=status, domo_instance=domo_instance, message=message)\n",
            "\n",
            "\n",
            "@gd.route_function\n",
            "async def toggle_is_social_users_enabled(\n",
            "    is_enabled: bool,\n",
            "    auth: dmda.DomoAuth = None,\n",
            "    session: httpx.AsyncClient = None,\n",
            "    debug_api: bool = False,\n",
            "    return_raw: bool = False,\n",
            "    parent_class=False,\n",
            "    debug_num_stacks_to_drop=1,\n",
            ") -> rgd.ResponseGetData:\n",
            "    \"\"\"\n",
            "    Admin > Features > Buzz\n",
            "    Toggles the ability for users to add social users to Domo when sharing content\n",
            "    \"\"\"\n",
            "\n",
            "    auth = auth or self.auth\n",
            "\n",
            "    url = f\"https://{auth.domo_instance}.domo.com/api/content/v3/customers/features/free-invite\"\n",
            "\n",
            "    body = {\"enabled\": is_enabled}\n",
            "\n",
            "    res = await gd.get_data(\n",
            "        auth=auth,\n",
            "        url=url,\n",
            "        method=\"PUT\",\n",
            "        body=body,\n",
            "        session=session,\n",
            "        debug_api=debug_api,\n",
            "        parent_class=parent_class,\n",
            "        num_stacks_to_drop=debug_num_stacks_to_drop,\n",
            "    )\n",
            "\n",
            "    if not res.is_success:\n",
            "        raise ToggleSocialUsers_Error(\n",
            "            status=res.status, message=res.response, domo_instance=auth.domo_instance\n",
            "        )\n",
            "\n",
            "    if return_raw:\n",
            "        return res\n",
            "\n",
            "    res.response = {\n",
            "        \"is_enabled\": is_enabled,\n",
            "        \"feature\": \"free-invite\",\n",
            "    }\n",
            "\n",
            "    return res"
         ]
      },
      {
         "cell_type": "markdown",
         "metadata": {},
         "source": [
            "#### sample implementation of toggle_is_social_users_enabled\n"
         ]
      },
      {
         "cell_type": "code",
         "execution_count": 9,
         "metadata": {},
         "outputs": [
            {
               "data": {
                  "text/plain": [
                     "ResponseGetData(status=200, response={'is_enabled': True, 'feature': 'free-invite'}, is_success=True, parent_class=None)"
                  ]
               },
               "execution_count": 9,
               "metadata": {},
               "output_type": "execute_result"
            }
         ],
         "source": [
            "# import domolibrary.client.DomoAuth as dmda\n",
            "\n",
            "auth = dmda.DomoTokenAuth(\n",
            "    domo_instance=\"domo-community\",\n",
            "    domo_access_token=os.environ[\"DOMO_DOJO_ACCESS_TOKEN\"],\n",
            ")\n",
            "\n",
            "await toggle_is_social_users_enabled(auth=auth, is_enabled=True, debug_api=False)"
         ]
      },
      {
         "cell_type": "markdown",
         "metadata": {},
         "source": [
            "## Toggle user invite notification (You've been Domoed')\n",
            "\n",
            "Admin > Company Settings > Notifications\n",
            "Handles toggling \"you've been domo'ed email\"\n"
         ]
      },
      {
         "cell_type": "code",
         "execution_count": 10,
         "metadata": {},
         "outputs": [],
         "source": [
            "# | export\n",
            "class ToggleUserInvite_Error(de.DomoError):\n",
            "    def __init__(\n",
            "        self, status, domo_instance, message=\"failure to toggle user invite enabled\"\n",
            "    ):\n",
            "        super().__init__(status=status, domo_instance=domo_instance, message=message)\n",
            "\n",
            "\n",
            "@gd.route_function\n",
            "async def toggle_is_user_invite_enabled(\n",
            "    auth: dmda.DomoAuth,\n",
            "    is_enabled: bool,\n",
            "    session: httpx.AsyncClient = None,\n",
            "    debug_api: bool = False,\n",
            "    return_raw: bool = False,\n",
            "    parent_class=None,\n",
            "    debug_num_stacks_to_drop=1,\n",
            ") -> rgd.ResponseGetData:\n",
            "    \"\"\"\n",
            "    Admin > Company Settings > Notifications\n",
            "    \"\"\"\n",
            "\n",
            "    url = f\"https://{auth.domo_instance}.domo.com/api/customer/v1/properties/user.invite.email.enabled\"\n",
            "\n",
            "    body = {\"value\": is_enabled}\n",
            "\n",
            "    res = await gd.get_data(\n",
            "        auth=auth,\n",
            "        url=url,\n",
            "        method=\"PUT\",\n",
            "        body=body,\n",
            "        session=session,\n",
            "        debug_api=debug_api,\n",
            "        parent_class=parent_class,\n",
            "        num_stacks_to_drop=debug_num_stacks_to_drop,\n",
            "    )\n",
            "\n",
            "    if not res.is_success:\n",
            "        raise ToggleUserInvite_Error(\n",
            "            status=res.status, message=res.response, domo_instance=auth.domo_instance\n",
            "        )\n",
            "\n",
            "    if return_raw:\n",
            "        return res\n",
            "\n",
            "    res.response = {\"feature\": \"user.invite.email.enabled\", \"is_enabled\": is_enabled}\n",
            "\n",
            "    return res"
         ]
      },
      {
         "cell_type": "markdown",
         "metadata": {},
         "source": [
            "#### Sample implementation of toggle_is_user_invite_enabled\n"
         ]
      },
      {
         "cell_type": "code",
         "execution_count": 11,
         "metadata": {},
         "outputs": [
            {
               "data": {
                  "text/plain": [
                     "ResponseGetData(status=204, response={'feature': 'user.invite.email.enabled', 'is_enabled': True}, is_success=True, parent_class=None)"
                  ]
               },
               "execution_count": 11,
               "metadata": {},
               "output_type": "execute_result"
            }
         ],
         "source": [
            "# import domolibrary.client.DomoAuth as dmda\n",
            "\n",
            "auth = dmda.DomoTokenAuth(\n",
            "    domo_instance=\"domo-community\",\n",
            "    domo_access_token=os.environ[\"DOMO_DOJO_ACCESS_TOKEN\"],\n",
            ")\n",
            "\n",
            "await toggle_is_user_invite_enabled(auth=auth, is_enabled=True, debug_api=False)"
         ]
      },
      {
         "cell_type": "code",
         "execution_count": 12,
         "metadata": {},
         "outputs": [],
         "source": [
            "# | export\n",
            "\n",
            "\n",
            "@gd.route_function\n",
            "async def get_is_user_invite_notifications_enabled(\n",
            "    auth: dmda.DomoFullAuth,\n",
            "    session: httpx.AsyncClient = None,\n",
            "    debug_api: bool = False,\n",
            "    parent_class=None,\n",
            "    debug_num_stacks_to_drop=1,\n",
            "    return_raw: bool = False,\n",
            ") -> rgd.ResponseGetData:\n",
            "    url = f\"https://{auth.domo_instance}.domo.com/api/customer/v1/properties/user.invite.email.enabled\"\n",
            "\n",
            "    res = await gd.get_data(\n",
            "        auth=auth,\n",
            "        url=url,\n",
            "        method=\"GET\",\n",
            "        session=session,\n",
            "        debug_api=debug_api,\n",
            "    )\n",
            "\n",
            "    if not res.is_success:\n",
            "        raise ToggleSocialUsers_Error(\n",
            "            status=res.status, message=res.response, domo_instance=auth.domo_instance\n",
            "        )\n",
            "\n",
            "    if return_raw:\n",
            "        return res\n",
            "\n",
            "    res.response = {\n",
            "        \"name\": \"user.invite.email.enabled\",\n",
            "        \"is_enabled\": convert_string_to_bool(res.response[\"value\"]),\n",
            "    }\n",
            "\n",
            "    return res"
         ]
      },
      {
         "cell_type": "markdown",
         "metadata": {},
         "source": [
            "#### sample implementation of get_is_user_invite_notifications_enabled\n"
         ]
      },
      {
         "cell_type": "code",
         "execution_count": 13,
         "metadata": {},
         "outputs": [
            {
               "data": {
                  "text/plain": [
                     "ResponseGetData(status=200, response={'name': 'user.invite.email.enabled', 'is_enabled': True}, is_success=True, parent_class=None)"
                  ]
               },
               "execution_count": 13,
               "metadata": {},
               "output_type": "execute_result"
            }
         ],
         "source": [
            "# import domolibrary.client.DomoAuth as dmda\n",
            "\n",
            "auth = dmda.DomoTokenAuth(\n",
            "    domo_instance=\"domo-community\",\n",
            "    domo_access_token=os.environ[\"DOMO_DOJO_ACCESS_TOKEN\"],\n",
            ")\n",
            "\n",
            "await get_is_user_invite_notifications_enabled(\n",
            "    auth=auth, debug_api=False, return_raw=False\n",
            ")"
         ]
      },
      {
         "cell_type": "markdown",
         "metadata": {},
         "source": [
            "# OIDC / OpenID Connect SSO config\n"
         ]
      },
      {
         "cell_type": "code",
         "execution_count": 14,
         "metadata": {},
         "outputs": [],
         "source": [
            "# | export\n",
            "\n",
            "\n",
            "@gd.route_function\n",
            "async def get_sso_config(\n",
            "    auth: dmda.DomoAuth,\n",
            "    session: httpx.AsyncClient = None,\n",
            "    debug_api: bool = False,\n",
            "    parent_class: str = None,\n",
            "    debug_num_stacks_to_drop=1,\n",
            "):\n",
            "    url = f\"https://{auth.domo_instance}.domo.com/api/identity/v1/authentication/oidc/std/settings\"\n",
            "\n",
            "    res = await gd.get_data(\n",
            "        auth=auth,\n",
            "        url=url,\n",
            "        method=\"GET\",\n",
            "        session=session,\n",
            "        debug_api=debug_api,\n",
            "        num_stacks_to_drop=debug_num_stacks_to_drop,\n",
            "        parent_class=parent_class,\n",
            "    )\n",
            "\n",
            "    return res"
         ]
      },
      {
         "cell_type": "markdown",
         "metadata": {},
         "source": [
            "#### sample implementation of get_sso_config\n"
         ]
      },
      {
         "cell_type": "code",
         "execution_count": 15,
         "metadata": {},
         "outputs": [
            {
               "data": {
                  "text/plain": [
                     "{'loginEnabled': False,\n",
                     " 'idpEnabled': False,\n",
                     " 'importGroups': False,\n",
                     " 'requireInvitation': False,\n",
                     " 'enforceWhitelist': False,\n",
                     " 'skipToIdp': False,\n",
                     " 'authRequestEndpoint': '',\n",
                     " 'tokenEndpoint': '',\n",
                     " 'userInfoEndpoint': '',\n",
                     " 'publicKey': '',\n",
                     " 'redirectUrl': '',\n",
                     " 'certificate': '',\n",
                     " 'overrideSSO': False,\n",
                     " 'overrideEmbed': False,\n",
                     " 'wellKnownConfig': ''}"
                  ]
               },
               "execution_count": 15,
               "metadata": {},
               "output_type": "execute_result"
            }
         ],
         "source": [
            "# import domolibrary.client.DomoAuth as dmda\n",
            "\n",
            "auth = dmda.DomoTokenAuth(\n",
            "    domo_instance=\"domo-community\",\n",
            "    domo_access_token=os.environ[\"DOMO_DOJO_ACCESS_TOKEN\"],\n",
            ")\n",
            "\n",
            "res = await get_sso_config(auth=auth)\n",
            "\n",
            "res.response"
         ]
      },
      {
         "cell_type": "markdown",
         "metadata": {},
         "source": [
            "## CRUD SSO Configuration\n"
         ]
      },
      {
         "cell_type": "code",
         "execution_count": 16,
         "metadata": {},
         "outputs": [],
         "source": [
            "# | export\n",
            "def generate_sso_body(\n",
            "    login_enabled: bool = None,  # False\n",
            "    idp_enabled: bool = None,  # False\n",
            "    import_groups: bool = None,  # False\n",
            "    require_invitation: bool = None,  # False\n",
            "    enforce_allowlist: bool = None,  # False\n",
            "    skip_to_idp: bool = None,  # False\n",
            "    auth_request_endpoint: str = None,\n",
            "    token_endpoint: str = None,\n",
            "    user_info_endpoint: str = None,\n",
            "    public_key: str = None,\n",
            "    redirect_url: str = None,\n",
            "    certificate: str = None,\n",
            "    override_sso: bool = None,  # False\n",
            "    override_embed: bool = None,  # False\n",
            "    # \"https://{domo_instance}}.domo.com/auth/oidc\"\n",
            "    well_known_config: str = None,\n",
            "    assertion_endpoint: str = None,\n",
            "    ingest_attributes: bool = None,  # False\n",
            "):\n",
            "    r = {\n",
            "        \"loginEnabled\": login_enabled,\n",
            "        \"idpEnabled\": idp_enabled,\n",
            "        \"importGroups\": import_groups,\n",
            "        \"requireInvitation\": require_invitation,\n",
            "        \"enforceWhitelist\": enforce_allowlist,\n",
            "        \"skipToIdp\": skip_to_idp,\n",
            "        \"authRequestEndpoint\": auth_request_endpoint,\n",
            "        \"tokenEndpoint\": token_endpoint,\n",
            "        \"userInfoEndpoint\": user_info_endpoint,\n",
            "        \"publicKey\": public_key,\n",
            "        \"redirectUrl\": redirect_url,\n",
            "        \"certificate\": certificate,\n",
            "        \"overrideSSO\": override_sso,\n",
            "        \"overrideEmbed\": override_embed,\n",
            "        \"wellKnownConfig\": well_known_config,\n",
            "        \"assertionEndpoint\": assertion_endpoint,\n",
            "        \"ingestAttributes\": ingest_attributes,\n",
            "    }\n",
            "\n",
            "    return {key: value for key, value in r.items() if value is not None}"
         ]
      },
      {
         "cell_type": "code",
         "execution_count": 17,
         "metadata": {},
         "outputs": [],
         "source": [
            "# | export\n",
            "class UpdateSSO_Error(de.DomoError):\n",
            "    def __init__(\n",
            "        self,\n",
            "        domo_instance,\n",
            "        config_body,\n",
            "        function_name,\n",
            "        status=None,\n",
            "        parent_class=None,\n",
            "    ):\n",
            "        message = f'failed to set config to {  \" || \".join([ key + \" : \" + str(value)  for key, value in config_body.items()]) }'\n",
            "\n",
            "        super().__init__(\n",
            "            domo_instance=domo_instance,\n",
            "            message=message,\n",
            "            status=status,\n",
            "            parent_class=parent_class,\n",
            "            function_name=function_name,\n",
            "        )\n",
            "\n",
            "\n",
            "@gd.route_function\n",
            "async def update_sso_config(\n",
            "    auth: dmda.DomoAuth,\n",
            "    config_body: dict,\n",
            "    session: httpx.AsyncClient = None,\n",
            "    debug_api: bool = False,\n",
            "    parent_class: str = None,\n",
            "    debug_num_stacks_to_drop=1,\n",
            "):\n",
            "    \"\"\"to successfully update the SSO Configuration, you must send all the parameters related to SSO Configuration\"\"\"\n",
            "\n",
            "    url = f\"https://{auth.domo_instance}.domo.com/api/identity/v1/authentication/oidc/std/settings\"\n",
            "\n",
            "    res = await gd.get_data(\n",
            "        auth=auth,\n",
            "        url=url,\n",
            "        body=config_body,\n",
            "        method=\"PUT\",\n",
            "        session=session,\n",
            "        debug_api=debug_api,\n",
            "        num_stacks_to_drop=debug_num_stacks_to_drop,\n",
            "        parent_class=parent_class,\n",
            "    )\n",
            "\n",
            "    if res.status == 200:\n",
            "        res.is_success = True\n",
            "\n",
            "    else:\n",
            "        res.is_success = False\n",
            "        raise UpdateSSO_Error(\n",
            "            domo_instance=auth.domo_instance,\n",
            "            config_body=config_body,\n",
            "            status=res.status,\n",
            "            function_name=res.traceback_details.function_name,\n",
            "            parent_class=parent_class,\n",
            "        )\n",
            "\n",
            "    return res"
         ]
      },
      {
         "cell_type": "markdown",
         "metadata": {},
         "source": [
            "#### sample implementation of update_sso_config\n"
         ]
      },
      {
         "cell_type": "code",
         "execution_count": 18,
         "metadata": {},
         "outputs": [
            {
               "data": {
                  "text/plain": [
                     "ResponseGetData(status=200, response='', is_success=True, parent_class=None)"
                  ]
               },
               "execution_count": 18,
               "metadata": {},
               "output_type": "execute_result"
            }
         ],
         "source": [
            "# import domolibrary.client.DomoAuth as dmda\n",
            "\n",
            "auth = dmda.DomoTokenAuth(\n",
            "    domo_instance=\"domo-community\",\n",
            "    domo_access_token=os.environ[\"DOMO_DOJO_ACCESS_TOKEN\"],\n",
            ")\n",
            "\n",
            "res = await get_sso_config(auth=auth)\n",
            "\n",
            "config_body = res.response\n",
            "config_body.update(generate_sso_body(require_invitation=False))\n",
            "\n",
            "# config_body = {'hello': 'failure'}\n",
            "\n",
            "await update_sso_config(auth=auth, config_body=config_body, debug_api=False)"
         ]
      },
      {
         "cell_type": "markdown",
         "metadata": {},
         "source": [
            "## Allowlist\n"
         ]
      },
      {
         "cell_type": "code",
         "execution_count": 19,
         "metadata": {},
         "outputs": [],
         "source": [
            "# | export\n",
            "@gd.route_function\n",
            "async def get_allowlist(\n",
            "    auth: dmda.DomoFullAuth,\n",
            "    session: httpx.AsyncClient = None,\n",
            "    return_raw: bool = False,\n",
            "    debug_api: bool = False,\n",
            "    parent_class=None,\n",
            "    debug_num_stacks_to_drop=1,\n",
            ") -> rgd.ResponseGetData:\n",
            "\n",
            "    if auth.__class__.__name__ != \"DomoFullAuth\":\n",
            "        raise dmda.InvalidAuthTypeError(\n",
            "            function_name=\"get_allowlist\",\n",
            "            domo_instance=auth.domo_instance,\n",
            "            required_auth_type=dmda.DomoFullAuth,\n",
            "        )\n",
            "\n",
            "    url = f\"https://{auth.domo_instance}.domo.com/admin/companysettings/whitelist\"\n",
            "\n",
            "    res = await gd.get_data(\n",
            "        auth=auth,\n",
            "        url=url,\n",
            "        method=\"GET\",\n",
            "        headers={\"accept\": \"*/*\"},\n",
            "        session=session,\n",
            "        debug_api=debug_api,\n",
            "        is_follow_redirects=True,\n",
            "        return_raw=return_raw,\n",
            "        parent_class=parent_class,\n",
            "        num_stacks_to_drop=debug_num_stacks_to_drop,\n",
            "    )\n",
            "\n",
            "    return res"
         ]
      },
      {
         "attachments": {},
         "cell_type": "markdown",
         "metadata": {},
         "source": [
            "#### sample implementation of get_allowlist with the wrong auth type\n"
         ]
      },
      {
         "cell_type": "code",
         "execution_count": 20,
         "metadata": {},
         "outputs": [
            {
               "name": "stdout",
               "output_type": "stream",
               "text": [
                  "🛑  InvalidAuthTypeError 🛑 - function: get_allowlist || This API rquires DomoFullAuth at domo-community\n"
               ]
            }
         ],
         "source": [
            "# import domolibrary.client.DomoAuth as dmda\n",
            "\n",
            "auth = dmda.DomoTokenAuth(\n",
            "    domo_instance=\"domo-community\",\n",
            "    domo_access_token=os.environ[\"DOMO_DOJO_ACCESS_TOKEN\"],\n",
            ")\n",
            "\n",
            "try:\n",
            "    await get_allowlist(auth=auth)\n",
            "except dmda.InvalidAuthTypeError as e:\n",
            "    print(e)"
         ]
      },
      {
         "attachments": {},
         "cell_type": "markdown",
         "metadata": {},
         "source": [
            "#### sample implementation of get_allowlist with the correct auth type\n"
         ]
      },
      {
         "cell_type": "code",
         "execution_count": 21,
         "metadata": {},
         "outputs": [
            {
               "data": {
                  "text/plain": [
                     "ResponseGetData(status=200, response={'addresses': ['0.0.0.0/0', '172.167.157.121']}, is_success=True, parent_class=None)"
                  ]
               },
               "execution_count": 21,
               "metadata": {},
               "output_type": "execute_result"
            }
         ],
         "source": [
            "# import domolibrary.client.DomoAuth as dmda\n",
            "\n",
            "auth = dmda.DomoFullAuth(\n",
            "    domo_instance=\"domo-community\",\n",
            "    domo_username=os.environ[\"DOMO_USERNAME\"],\n",
            "    domo_password=os.environ[\"DOJO_PASSWORD\"],\n",
            ")\n",
            "\n",
            "res = await get_allowlist(auth=auth)\n",
            "\n",
            "res"
         ]
      },
      {
         "cell_type": "code",
         "execution_count": 22,
         "metadata": {},
         "outputs": [],
         "source": [
            "# | export\n",
            "class Allowlist_UnableToUpdate(de.DomoError):\n",
            "    def __init__(\n",
            "        self,\n",
            "        status: int,\n",
            "        reason: str,\n",
            "        domo_instance: str,\n",
            "        function_name: str = \"update_allowlist\",\n",
            "    ):\n",
            "        super().__init__(\n",
            "            function_name=function_name,\n",
            "            status=status,\n",
            "            message=f\"unable to update allowlist: {reason}\",\n",
            "            domo_instance=domo_instance,\n",
            "        )"
         ]
      },
      {
         "cell_type": "code",
         "execution_count": 23,
         "metadata": {},
         "outputs": [],
         "source": [
            "# | export\n",
            "\n",
            "\n",
            "@gd.route_function\n",
            "async def set_allowlist(\n",
            "    auth: dmda.DomoAuth,\n",
            "    ip_address_ls: list[str],\n",
            "    debug_api: bool = False,\n",
            "    return_raw: bool = False,\n",
            "    session: httpx.AsyncClient = None,\n",
            "    parent_class=None,\n",
            "    debug_num_stacks_to_drop=1,\n",
            ") -> rgd.ResponseGetData:\n",
            "    \"\"\"companysettings/whitelist API only allows users to SET the allowlist does not allow INSERT or UPDATE\"\"\"\n",
            "\n",
            "    url = f\"https://{auth.domo_instance}.domo.com/admin/companysettings/whitelist\"\n",
            "\n",
            "    body = {\"addresses\": ip_address_ls}\n",
            "\n",
            "    res = await gd.get_data(\n",
            "        auth=auth,\n",
            "        url=url,\n",
            "        method=\"PUT\",\n",
            "        body=body,\n",
            "        debug_api=debug_api,\n",
            "        is_follow_redirects=True,\n",
            "        return_raw=return_raw,\n",
            "        session=session,\n",
            "        headers={\"accept\": \"text/plain\"},\n",
            "        parent_class=parent_class,\n",
            "        num_stacks_to_drop=debug_num_stacks_to_drop,\n",
            "    )\n",
            "    if not res.is_success:\n",
            "        raise Allowlist_UnableToUpdate(\n",
            "            status=res.status, reason=res.response, domo_instance=auth.domo_instance\n",
            "        )\n",
            "\n",
            "    if res.is_success:\n",
            "        res.response = f\"allow list updated from {res.response}\"\n",
            "\n",
            "    return res"
         ]
      },
      {
         "cell_type": "code",
         "execution_count": 24,
         "metadata": {},
         "outputs": [
            {
               "data": {
                  "text/plain": [
                     "ResponseGetData(status=200, response='allow list updated from 20.163.102.128', is_success=True, parent_class=None)"
                  ]
               },
               "execution_count": 24,
               "metadata": {},
               "output_type": "execute_result"
            }
         ],
         "source": [
            "# import domolibrary.client.DomoAuth as dmda\n",
            "\n",
            "ip_address_ls = [\"0.0.0.0/0\"]\n",
            "\n",
            "auth = dmda.DomoTokenAuth(\n",
            "    domo_instance=\"domo-community\",\n",
            "    domo_access_token=os.environ[\"DOMO_DOJO_ACCESS_TOKEN\"],\n",
            ")\n",
            "\n",
            "auth = dmda.DomoFullAuth(\n",
            "    domo_instance=\"domo-community\",\n",
            "    domo_username=os.environ[\"DOMO_USERNAME\"],\n",
            "    domo_password=os.environ[\"DOJO_PASSWORD\"],\n",
            ")\n",
            "\n",
            "await set_allowlist(auth=auth, ip_address_ls=ip_address_ls)"
         ]
      },
      {
         "cell_type": "markdown",
         "metadata": {},
         "source": [
            "## Authorized Domains\n"
         ]
      },
      {
         "cell_type": "code",
         "execution_count": 25,
         "metadata": {},
         "outputs": [],
         "source": [
            "# | export\n",
            "@gd.route_function\n",
            "async def set_authorized_domains(\n",
            "    auth: dmda.DomoAuth,\n",
            "    authorized_domain_ls: [str],\n",
            "    debug_api: bool = False,\n",
            "    session: httpx.AsyncClient = None,\n",
            "    parent_class=None,\n",
            "    debug_num_stacks_to_drop=1,\n",
            "):\n",
            "    url = f\"https://{auth.domo_instance}.domo.com/api/content/v1/customer-states/authorized-domains\"\n",
            "\n",
            "    body = {\"name\": \"authorized-domains\", \"value\": \",\".join(authorized_domain_ls)}\n",
            "\n",
            "    res = await gd.get_data(\n",
            "        auth=auth,\n",
            "        url=url,\n",
            "        method=\"PUT\",\n",
            "        body=body,\n",
            "        debug_api=debug_api,\n",
            "        session=session,\n",
            "        parent_class=parent_class,\n",
            "        num_stacks_to_drop=debug_num_stacks_to_drop,\n",
            "    )\n",
            "\n",
            "    return res"
         ]
      },
      {
         "cell_type": "code",
         "execution_count": 26,
         "metadata": {},
         "outputs": [],
         "source": [
            "# | export\n",
            "\n",
            "\n",
            "class GetDomains_NotFound(de.DomoError):\n",
            "    def __init__(self, status, message, domo_instance):\n",
            "        super().__init__(status=status, message=message, domo_instance=domo_instance)\n",
            "\n",
            "\n",
            "@gd.route_function\n",
            "async def get_authorized_domains(\n",
            "    auth: dmda.DomoAuth,\n",
            "    return_raw: bool = False,\n",
            "    debug_api: bool = False,\n",
            "    session: httpx.AsyncClient = None,\n",
            "    parent_class=None,\n",
            "    debug_num_stacks_to_drop=1,\n",
            "):\n",
            "    url = f\"https://{auth.domo_instance}.domo.com/api/content/v1/customer-states/authorized-domains\"\n",
            "\n",
            "    res = await gd.get_data(\n",
            "        auth=auth,\n",
            "        url=url,\n",
            "        method=\"GET\",\n",
            "        debug_api=debug_api,\n",
            "        session=session,\n",
            "        parent_class=parent_class,\n",
            "        num_stacks_to_drop=debug_num_stacks_to_drop,\n",
            "    )\n",
            "\n",
            "    if return_raw:\n",
            "        return res\n",
            "\n",
            "    # domo raises a 404 error even if the success is valid but there are no approved domains\n",
            "    if res.status == 404 and res.response == \"Not Found\":\n",
            "        res_test = await user_routes.get_all_users(auth=auth)\n",
            "\n",
            "        if not res_test.is_success:\n",
            "            raise GetDomains_NotFound(\n",
            "                domo_instance=auth.domo_instance,\n",
            "                status=res.status,\n",
            "                message=res.response,\n",
            "            )\n",
            "\n",
            "        if res_test.is_success:\n",
            "            res.status = 200\n",
            "            res.is_success = True\n",
            "            res.response = []\n",
            "\n",
            "        return res\n",
            "\n",
            "    res.response = [domain.strip() for domain in res.response.get(\"value\").split(\",\")]\n",
            "    return res"
         ]
      },
      {
         "attachments": {},
         "cell_type": "markdown",
         "metadata": {},
         "source": [
            "#### sample implementation of get_authorized_domains\n"
         ]
      },
      {
         "cell_type": "code",
         "execution_count": 27,
         "metadata": {},
         "outputs": [
            {
               "data": {
                  "text/plain": [
                     "ResponseGetData(status=200, response=[], is_success=True, parent_class=None)"
                  ]
               },
               "execution_count": 27,
               "metadata": {},
               "output_type": "execute_result"
            }
         ],
         "source": [
            "# import domolibrary.client.DomoAuth as dmda\n",
            "\n",
            "token_auth = dmda.DomoTokenAuth(\n",
            "    domo_instance=\"domo-domo\", domo_access_token=os.environ[\"DOMO_DOJO_ACCESS_TOKEN\"]\n",
            ")\n",
            "\n",
            "await get_authorized_domains(auth=token_auth, debug_api=False)"
         ]
      },
      {
         "cell_type": "markdown",
         "metadata": {},
         "source": [
            "# Weekly Digest"
         ]
      },
      {
         "cell_type": "code",
         "execution_count": 28,
         "metadata": {},
         "outputs": [],
         "source": [
            "# | export\n",
            "\n",
            "\n",
            "@gd.route_function\n",
            "async def get_is_weekly_digest_enabled(\n",
            "    auth: dmda.DomoAuth,\n",
            "    return_raw: bool = False,\n",
            "    debug_api: bool = False,\n",
            "    session: httpx.AsyncClient = None,\n",
            "    parent_class=None,\n",
            "    debug_num_stacks_to_drop=1,\n",
            "):\n",
            "    url = f\"https://{auth.domo_instance}.domo.com/api/content/v1/customer-states/come-back-to-domo-all-users\"\n",
            "\n",
            "    res = await gd.get_data(\n",
            "        auth=auth,\n",
            "        url=url,\n",
            "        method=\"GET\",\n",
            "        debug_api=debug_api,\n",
            "        session=session,\n",
            "        parent_class=parent_class,\n",
            "        num_stacks_to_drop=debug_num_stacks_to_drop,\n",
            "    )\n",
            "\n",
            "    if return_raw:\n",
            "        return res\n",
            "\n",
            "    res.response = {\n",
            "        \"is_enabled\": convert_string_to_bool(res.response[\"value\"]),\n",
            "        \"feature\": \"come-back-to-domo-all-users\",\n",
            "    }\n",
            "\n",
            "    return res"
         ]
      },
      {
         "cell_type": "code",
         "execution_count": 29,
         "metadata": {},
         "outputs": [
            {
               "data": {
                  "text/plain": [
                     "ResponseGetData(status=200, response={'is_enabled': False, 'feature': 'come-back-to-domo-all-users'}, is_success=True, parent_class=None)"
                  ]
               },
               "execution_count": 29,
               "metadata": {},
               "output_type": "execute_result"
            }
         ],
         "source": [
            "# import domolibrary.client.DomoAuth as dmda\n",
            "\n",
            "token_auth = dmda.DomoTokenAuth(\n",
            "    domo_instance=\"domo-domo\", domo_access_token=os.environ[\"DOMO_DOJO_ACCESS_TOKEN\"]\n",
            ")\n",
            "\n",
            "await get_is_weekly_digest_enabled(token_auth)"
         ]
      },
      {
         "cell_type": "code",
         "execution_count": 30,
         "metadata": {},
         "outputs": [],
         "source": [
            "# | export\n",
            "\n",
            "\n",
            "@gd.route_function\n",
            "async def toggle_is_weekly_digest_enabled(\n",
            "    auth: dmda.DomoAuth,\n",
            "    return_raw: bool = False,\n",
            "    debug_api: bool = False,\n",
            "    is_enabled: bool = True,\n",
            "    session: httpx.AsyncClient = None,\n",
            "    parent_class=None,\n",
            "    debug_num_stacks_to_drop=1,\n",
            "):\n",
            "    url = f\"https://{auth.domo_instance}.domo.com/api/content/v1/customer-states/come-back-to-domo-all-users\"\n",
            "\n",
            "    body = {\"name\": \"come-back-to-domo-all-users\", \"value\": is_enabled}\n",
            "    res = await gd.get_data(\n",
            "        auth=auth,\n",
            "        url=url,\n",
            "        method=\"PUT\",\n",
            "        body=body,\n",
            "        debug_api=debug_api,\n",
            "        session=session,\n",
            "        parent_class=parent_class,\n",
            "        num_stacks_to_drop=debug_num_stacks_to_drop,\n",
            "    )\n",
            "\n",
            "    if not res.is_success:\n",
            "        return res\n",
            "\n",
            "    return await get_is_weekly_digest_enabled(auth=auth)"
         ]
      },
      {
         "cell_type": "code",
         "execution_count": 31,
         "metadata": {},
         "outputs": [
            {
               "data": {
                  "text/plain": [
                     "ResponseGetData(status=200, response={'is_enabled': False, 'feature': 'come-back-to-domo-all-users'}, is_success=True, parent_class=None)"
                  ]
               },
               "execution_count": 31,
               "metadata": {},
               "output_type": "execute_result"
            }
         ],
         "source": [
            "# import domolibrary.client.DomoAuth as dmda\n",
            "\n",
            "token_auth = dmda.DomoTokenAuth(\n",
            "    domo_instance=\"domo-domo\", domo_access_token=os.environ[\"DOMO_DOJO_ACCESS_TOKEN\"]\n",
            ")\n",
            "\n",
            "current_state = await get_is_weekly_digest_enabled(token_auth)\n",
            "\n",
            "\n",
            "await toggle_is_weekly_digest_enabled(\n",
            "    token_auth, is_enabled=current_state.response[\"is_enabled\"]\n",
            ")"
         ]
      },
      {
         "cell_type": "markdown",
         "metadata": {},
         "source": [
            "## Authorized Custom Applications Domains"
         ]
      },
      {
         "cell_type": "code",
         "execution_count": 32,
         "metadata": {},
         "outputs": [],
         "source": [
            "# | export\n",
            "\n",
            "\n",
            "class GetAppDomains_NotFound(de.DomoError):\n",
            "    def __init__(self, status, message, domo_instance):\n",
            "        super().__init__(status=status, message=message, domo_instance=domo_instance)\n",
            "\n",
            "\n",
            "@gd.route_function\n",
            "async def get_authorized_custom_app_domains(\n",
            "    auth: dmda.DomoAuth,\n",
            "    return_raw: bool = False,\n",
            "    debug_api: bool = False,\n",
            "    session: httpx.AsyncClient = None,\n",
            "    parent_class=None,\n",
            "    debug_num_stacks_to_drop=1,\n",
            "):\n",
            "    url = f\"https://{auth.domo_instance}.domo.com/api/content/v1/customer-states/authorized-app-domains\"\n",
            "\n",
            "    res = await gd.get_data(\n",
            "        auth=auth,\n",
            "        url=url,\n",
            "        method=\"GET\",\n",
            "        debug_api=debug_api,\n",
            "        session=session,\n",
            "        parent_class=parent_class,\n",
            "        num_stacks_to_drop=debug_num_stacks_to_drop,\n",
            "    )\n",
            "\n",
            "    if return_raw:\n",
            "        return res\n",
            "\n",
            "    # domo raises a 404 error even if the success is valid but there are no approved domains\n",
            "    if res.status == 404 and res.response == \"Not Found\":\n",
            "        res_test = await user_routes.get_all_users(auth=auth)\n",
            "\n",
            "        if not res_test.is_success:\n",
            "            raise GetAppDomains_NotFound(\n",
            "                domo_instance=auth.domo_instance,\n",
            "                status=res.status,\n",
            "                message=res.response,\n",
            "            )\n",
            "\n",
            "        if res_test.is_success:\n",
            "            res.status = 200\n",
            "            res.is_success = True\n",
            "            res.response = []\n",
            "\n",
            "        return res\n",
            "\n",
            "    res.response = [domain.strip() for domain in res.response.get(\"value\").split(\",\")]\n",
            "    return res"
         ]
      },
      {
         "cell_type": "markdown",
         "metadata": {},
         "source": [
            "#### sample implementation of get_authorized_custom_app_domains"
         ]
      },
      {
         "cell_type": "code",
         "execution_count": 33,
         "metadata": {},
         "outputs": [
            {
               "data": {
                  "text/plain": [
                     "ResponseGetData(status=200, response=['domo.com', 'salesforce.com', 'facebook.com', 'twitter.com', 'instagram.com', 'youtube.com', 'linkedin.com'], is_success=True, parent_class=None)"
                  ]
               },
               "execution_count": 33,
               "metadata": {},
               "output_type": "execute_result"
            }
         ],
         "source": [
            "# import domolibrary.client.DomoAuth as dmda\n",
            "\n",
            "token_auth = dmda.DomoTokenAuth(\n",
            "    domo_instance=\"domo-domo\", domo_access_token=os.environ[\"DOMO_DOJO_ACCESS_TOKEN\"]\n",
            ")\n",
            "\n",
            "await get_authorized_custom_app_domains(auth=token_auth, debug_api=False)"
         ]
      },
      {
         "cell_type": "code",
         "execution_count": 34,
         "metadata": {},
         "outputs": [],
         "source": [
            "# | export\n",
            "@gd.route_function\n",
            "async def set_authorized_custom_app_domains(\n",
            "    auth: dmda.DomoAuth,\n",
            "    authorized_custom_app_domain_ls: [str],\n",
            "    debug_api: bool = False,\n",
            "    session: httpx.AsyncClient = None,\n",
            "    parent_class=None,\n",
            "    debug_num_stacks_to_drop=1,\n",
            "):\n",
            "    url = f\"https://{auth.domo_instance}.domo.com/api/content/v1/customer-states/authorized-app-domains\"\n",
            "\n",
            "    body = {\n",
            "        \"name\": \"authorized-app-domains\",\n",
            "        \"value\": \",\".join(authorized_custom_app_domain_ls),\n",
            "    }\n",
            "\n",
            "    res = await gd.get_data(\n",
            "        auth=auth,\n",
            "        url=url,\n",
            "        method=\"PUT\",\n",
            "        body=body,\n",
            "        debug_api=debug_api,\n",
            "        session=session,\n",
            "        parent_class=parent_class,\n",
            "        num_stacks_to_drop=debug_num_stacks_to_drop,\n",
            "    )\n",
            "\n",
            "    return res"
         ]
      },
      {
         "cell_type": "code",
         "execution_count": 35,
         "metadata": {},
         "outputs": [
            {
               "data": {
                  "text/plain": [
                     "ResponseGetData(status=200, response='', is_success=True, parent_class=None)"
                  ]
               },
               "execution_count": 35,
               "metadata": {},
               "output_type": "execute_result"
            }
         ],
         "source": [
            "# import domolibrary.client.DomoAuth as dmda\n",
            "\n",
            "\n",
            "token_auth = dmda.DomoTokenAuth(\n",
            "    domo_instance=\"domo-domo\", domo_access_token=os.environ[\"DOMO_DOJO_ACCESS_TOKEN\"]\n",
            ")\n",
            "\n",
            "res = await get_authorized_custom_app_domains(auth=token_auth, debug_api=False)\n",
            "authorized_app_domains = res.response\n",
            "\n",
            "await set_authorized_custom_app_domains(\n",
            "    auth=token_auth, authorized_custom_app_domain_ls=authorized_app_domains\n",
            ")"
         ]
      },
      {
         "cell_type": "code",
         "execution_count": 36,
         "metadata": {},
         "outputs": [],
         "source": [
            "# | hide\n",
            "import nbdev\n",
            "\n",
            "nbdev.nbdev_export()"
         ]
      }
   ],
   "metadata": {
      "jupytext": {
         "split_at_heading": true
      },
      "kernelspec": {
         "display_name": "python3",
         "language": "python",
         "name": "python3"
      },
      "language_info": {
         "codemirror_mode": {
            "name": "ipython",
            "version": 3
         },
         "file_extension": ".py",
         "mimetype": "text/x-python",
         "name": "python",
         "nbconvert_exporter": "python",
         "pygments_lexer": "ipython3",
         "version": "3.10.13"
      }
   },
   "nbformat": 4,
   "nbformat_minor": 4
}
