{
 "cells": [
  {
   "attachments": {},
   "cell_type": "markdown",
   "metadata": {},
   "source": [
    "Bootstrap Routes\n"
   ]
  },
  {
   "cell_type": "raw",
   "metadata": {},
   "source": [
    "---\n",
    "title: Bootstrap Routes\n",
    "output-file: bootstrap_routes.html\n",
    "---\n"
   ]
  },
  {
   "cell_type": "code",
   "execution_count": null,
   "metadata": {},
   "outputs": [],
   "source": [
    "# | default_exp routes.bootstrap"
   ]
  },
  {
   "cell_type": "code",
   "execution_count": null,
   "metadata": {},
   "outputs": [],
   "source": [
    "# | exporti\n",
    "import httpx\n",
    "\n",
    "import domolibrary.client.get_data as gd\n",
    "import domolibrary.client.ResponseGetData as rgd\n",
    "import domolibrary.client.DomoAuth as dmda"
   ]
  },
  {
   "cell_type": "code",
   "execution_count": null,
   "metadata": {},
   "outputs": [],
   "source": [
    "# | export\n",
    "async def get_bootstrap(\n",
    "    auth: dmda.DomoFullAuth, ## only works with DomoFullAuth authentication, do not use TokenAuth\n",
    "    debug_api: bool = False, session: httpx.AsyncClient = None\n",
    ") -> rgd.ResponseGetData:\n",
    "    \"\"\"get bootstrap data\"\"\"\n",
    "\n",
    "    if auth.__class__.__name__ != 'DomoFullAuth':\n",
    "        raise dmda.InvalidAuthTypeError(function_name='get_bootstrap',\n",
    "                                        domo_instance=auth.domo_instance, \n",
    "                                        required_auth_type =  dmda.DomoFullAuth )\n",
    "\n",
    "    # url = f\"https://{auth.domo_instance}.domo.com/api/domoweb/bootstrap?v2Navigation=false\"\n",
    "    url = f\"https://{auth.domo_instance}.domo.com/api/domoweb/bootstrap?v2Navigation=true\"\n",
    "\n",
    "    res = await gd.get_data(\n",
    "        url=url, method=\"GET\", auth=auth, debug_api=debug_api, session=session, is_follow_redirects = True\n",
    "    )\n",
    "\n",
    "    return res\n"
   ]
  },
  {
   "attachments": {},
   "cell_type": "markdown",
   "metadata": {},
   "source": [
    "#### sample implementation of get_boostrap"
   ]
  },
  {
   "cell_type": "code",
   "execution_count": null,
   "metadata": {},
   "outputs": [
    {
     "name": "stdout",
     "output_type": "stream",
     "text": [
      "get_bootstrap: This API rquires DomoFullAuth at domo-community\n"
     ]
    }
   ],
   "source": [
    "import os\n",
    "\n",
    "\n",
    "auth = dmda.DomoTokenAuth(\n",
    "    domo_instance='domo-community', \n",
    "    domo_access_token=os.environ['DOMO_DOJO_ACCESS_TOKEN'])\n",
    "\n",
    "# auth = dmda.DomoFullAuth(\n",
    "#     domo_instance='domo-community', domo_password = os.environ['DOJO_PASSWORD'], domo_username= os.environ['DOMO_USERNAME'])\n",
    "\n",
    "try:\n",
    "    await get_bootstrap(auth = auth, debug_api = False)\n",
    "    \n",
    "except dmda.InvalidAuthTypeError as e:\n",
    "    print(e)"
   ]
  },
  {
   "cell_type": "code",
   "execution_count": null,
   "metadata": {},
   "outputs": [
    {
     "data": {
      "text/plain": [
       "ResponseGetData(status=415, response='Unsupported Media Type', is_success=False)"
      ]
     },
     "execution_count": null,
     "metadata": {},
     "output_type": "execute_result"
    }
   ],
   "source": [
    "import os\n",
    "\n",
    "full_auth = dmda.DomoFullAuth(\n",
    "    domo_instance='domo-community', domo_password = os.environ['DOJO_PASSWORD'], domo_username= os.environ['DOMO_USERNAME'])\n",
    "\n",
    "res = await get_bootstrap(auth = full_auth, debug_api = False)\n",
    "res\n",
    "# .response.keys()"
   ]
  },
  {
   "cell_type": "code",
   "execution_count": null,
   "metadata": {},
   "outputs": [],
   "source": [
    "# | export\n",
    "async def get_bootstrap_features(   \n",
    "    auth: dmda.DomoAuth, session: httpx.AsyncClient = None, debug_api: bool = False\n",
    ") -> rgd.ResponseGetData:\n",
    "\n",
    "    res = await get_bootstrap(auth=auth, session=session, debug_api=debug_api)\n",
    "\n",
    "    if not res.is_success:\n",
    "        return None\n",
    "\n",
    "    res.response = res.response.get(\"data\").get(\"features\")\n",
    "    return res"
   ]
  },
  {
   "attachments": {},
   "cell_type": "markdown",
   "metadata": {},
   "source": [
    "#### sample implementation of get_bootstrap_features"
   ]
  },
  {
   "cell_type": "code",
   "execution_count": null,
   "metadata": {},
   "outputs": [
    {
     "ename": "AttributeError",
     "evalue": "'str' object has no attribute 'get'",
     "output_type": "error",
     "traceback": [
      "\u001b[0;31m---------------------------------------------------------------------------\u001b[0m",
      "\u001b[0;31mAttributeError\u001b[0m                            Traceback (most recent call last)",
      "Cell \u001b[0;32mIn[7], line 7\u001b[0m\n\u001b[1;32m      2\u001b[0m \u001b[39mimport\u001b[39;00m \u001b[39mpandas\u001b[39;00m \u001b[39mas\u001b[39;00m \u001b[39mpd\u001b[39;00m\n\u001b[1;32m      4\u001b[0m full_auth \u001b[39m=\u001b[39m dmda\u001b[39m.\u001b[39mDomoFullAuth(\n\u001b[1;32m      5\u001b[0m     domo_instance\u001b[39m=\u001b[39m\u001b[39m'\u001b[39m\u001b[39mdomo-community\u001b[39m\u001b[39m'\u001b[39m, domo_password\u001b[39m=\u001b[39mos\u001b[39m.\u001b[39menviron[\u001b[39m'\u001b[39m\u001b[39mDOJO_PASSWORD\u001b[39m\u001b[39m'\u001b[39m], domo_username\u001b[39m=\u001b[39m\u001b[39m'\u001b[39m\u001b[39mjae@onyxreporting.com\u001b[39m\u001b[39m'\u001b[39m)\n\u001b[0;32m----> 7\u001b[0m res \u001b[39m=\u001b[39m \u001b[39mawait\u001b[39;00m get_bootstrap_features(auth\u001b[39m=\u001b[39mfull_auth, debug_api\u001b[39m=\u001b[39m\u001b[39mFalse\u001b[39;00m)\n\u001b[1;32m      9\u001b[0m pd\u001b[39m.\u001b[39mDataFrame(res\u001b[39m.\u001b[39mresponse[\u001b[39m0\u001b[39m:\u001b[39m5\u001b[39m])\n",
      "Cell \u001b[0;32mIn[6], line 11\u001b[0m, in \u001b[0;36mget_bootstrap_features\u001b[0;34m(auth, session, debug_api)\u001b[0m\n\u001b[1;32m      8\u001b[0m \u001b[39mif\u001b[39;00m \u001b[39mnot\u001b[39;00m res\u001b[39m.\u001b[39mis_success:\n\u001b[1;32m      9\u001b[0m     \u001b[39mreturn\u001b[39;00m \u001b[39mNone\u001b[39;00m\n\u001b[0;32m---> 11\u001b[0m res\u001b[39m.\u001b[39mresponse \u001b[39m=\u001b[39m res\u001b[39m.\u001b[39;49mresponse\u001b[39m.\u001b[39;49mget(\u001b[39m\"\u001b[39m\u001b[39mdata\u001b[39m\u001b[39m\"\u001b[39m)\u001b[39m.\u001b[39mget(\u001b[39m\"\u001b[39m\u001b[39mfeatures\u001b[39m\u001b[39m\"\u001b[39m)\n\u001b[1;32m     12\u001b[0m \u001b[39mreturn\u001b[39;00m res\n",
      "\u001b[0;31mAttributeError\u001b[0m: 'str' object has no attribute 'get'"
     ]
    }
   ],
   "source": [
    "import os\n",
    "import pandas as pd\n",
    "\n",
    "full_auth = dmda.DomoFullAuth(\n",
    "    domo_instance='domo-community', domo_password=os.environ['DOJO_PASSWORD'], domo_username= os.environ['DOMO_USERNAME'])\n",
    "\n",
    "res = await get_bootstrap_features(auth=full_auth, debug_api=False)\n",
    "\n",
    "pd.DataFrame(res.response[0:5])\n"
   ]
  },
  {
   "cell_type": "code",
   "execution_count": null,
   "metadata": {},
   "outputs": [],
   "source": [
    "# | export\n",
    "async def get_bootstrap_pages(\n",
    "    auth: dmda.DomoAuth, session: httpx.AsyncClient = None, debug_api: bool = False\n",
    ") -> rgd.ResponseGetData:\n",
    "    res = await get_bootstrap(auth=auth, session=session, debug_api=debug_api)\n",
    "\n",
    "    if not res.is_success:\n",
    "        return None\n",
    "\n",
    "    res.response = res.response.get(\"data\").get(\"pages\")\n",
    "    return res\n"
   ]
  },
  {
   "attachments": {},
   "cell_type": "markdown",
   "metadata": {},
   "source": [
    "#### sample get bootstrap pages"
   ]
  },
  {
   "cell_type": "code",
   "execution_count": null,
   "metadata": {},
   "outputs": [
    {
     "data": {
      "text/html": [
       "<div>\n",
       "<style scoped>\n",
       "    .dataframe tbody tr th:only-of-type {\n",
       "        vertical-align: middle;\n",
       "    }\n",
       "\n",
       "    .dataframe tbody tr th {\n",
       "        vertical-align: top;\n",
       "    }\n",
       "\n",
       "    .dataframe thead th {\n",
       "        text-align: right;\n",
       "    }\n",
       "</style>\n",
       "<table border=\"1\" class=\"dataframe\">\n",
       "  <thead>\n",
       "    <tr style=\"text-align: right;\">\n",
       "      <th></th>\n",
       "      <th>id</th>\n",
       "      <th>title</th>\n",
       "      <th>locked</th>\n",
       "      <th>sharedView</th>\n",
       "      <th>pageVisible</th>\n",
       "      <th>owner</th>\n",
       "      <th>virtualPage</th>\n",
       "      <th>isValidBadgePage</th>\n",
       "      <th>canAddCard</th>\n",
       "      <th>bibHiddenPage</th>\n",
       "      <th>hasAccess</th>\n",
       "      <th>hierarchy</th>\n",
       "      <th>separator</th>\n",
       "      <th>type</th>\n",
       "      <th>pageLocation</th>\n",
       "      <th>owners</th>\n",
       "      <th>isOwner</th>\n",
       "      <th>childCount</th>\n",
       "      <th>children</th>\n",
       "    </tr>\n",
       "  </thead>\n",
       "  <tbody>\n",
       "    <tr>\n",
       "      <th>0</th>\n",
       "      <td>-100000</td>\n",
       "      <td>Overview</td>\n",
       "      <td>False</td>\n",
       "      <td>False</td>\n",
       "      <td>True</td>\n",
       "      <td>0</td>\n",
       "      <td>True</td>\n",
       "      <td>True</td>\n",
       "      <td>True</td>\n",
       "      <td>False</td>\n",
       "      <td>True</td>\n",
       "      <td>0</td>\n",
       "      <td>NaN</td>\n",
       "      <td>NaN</td>\n",
       "      <td>NaN</td>\n",
       "      <td>NaN</td>\n",
       "      <td>NaN</td>\n",
       "      <td>NaN</td>\n",
       "      <td>NaN</td>\n",
       "    </tr>\n",
       "    <tr>\n",
       "      <th>1</th>\n",
       "      <td>-100003</td>\n",
       "      <td>Favorites</td>\n",
       "      <td>False</td>\n",
       "      <td>False</td>\n",
       "      <td>True</td>\n",
       "      <td>0</td>\n",
       "      <td>True</td>\n",
       "      <td>NaN</td>\n",
       "      <td>False</td>\n",
       "      <td>False</td>\n",
       "      <td>True</td>\n",
       "      <td>0</td>\n",
       "      <td>NaN</td>\n",
       "      <td>NaN</td>\n",
       "      <td>NaN</td>\n",
       "      <td>NaN</td>\n",
       "      <td>NaN</td>\n",
       "      <td>NaN</td>\n",
       "      <td>NaN</td>\n",
       "    </tr>\n",
       "    <tr>\n",
       "      <th>2</th>\n",
       "      <td>-100002</td>\n",
       "      <td>Shared</td>\n",
       "      <td>False</td>\n",
       "      <td>False</td>\n",
       "      <td>True</td>\n",
       "      <td>0</td>\n",
       "      <td>True</td>\n",
       "      <td>NaN</td>\n",
       "      <td>False</td>\n",
       "      <td>False</td>\n",
       "      <td>True</td>\n",
       "      <td>0</td>\n",
       "      <td>True</td>\n",
       "      <td>NaN</td>\n",
       "      <td>NaN</td>\n",
       "      <td>NaN</td>\n",
       "      <td>NaN</td>\n",
       "      <td>NaN</td>\n",
       "      <td>NaN</td>\n",
       "    </tr>\n",
       "    <tr>\n",
       "      <th>3</th>\n",
       "      <td>30507758</td>\n",
       "      <td>Welcome</td>\n",
       "      <td>True</td>\n",
       "      <td>True</td>\n",
       "      <td>True</td>\n",
       "      <td>587894148</td>\n",
       "      <td>NaN</td>\n",
       "      <td>NaN</td>\n",
       "      <td>True</td>\n",
       "      <td>False</td>\n",
       "      <td>True</td>\n",
       "      <td>0</td>\n",
       "      <td>NaN</td>\n",
       "      <td>page</td>\n",
       "      <td>0.0</td>\n",
       "      <td>[{'id': 587894148, 'type': 'USER', 'displayNam...</td>\n",
       "      <td>False</td>\n",
       "      <td>0.0</td>\n",
       "      <td>NaN</td>\n",
       "    </tr>\n",
       "    <tr>\n",
       "      <th>4</th>\n",
       "      <td>1267639476</td>\n",
       "      <td>Dojo Solutions</td>\n",
       "      <td>True</td>\n",
       "      <td>True</td>\n",
       "      <td>True</td>\n",
       "      <td>587894148</td>\n",
       "      <td>NaN</td>\n",
       "      <td>NaN</td>\n",
       "      <td>True</td>\n",
       "      <td>False</td>\n",
       "      <td>True</td>\n",
       "      <td>0</td>\n",
       "      <td>NaN</td>\n",
       "      <td>page</td>\n",
       "      <td>1.0</td>\n",
       "      <td>[{'id': 587894148, 'type': 'USER', 'displayNam...</td>\n",
       "      <td>False</td>\n",
       "      <td>3.0</td>\n",
       "      <td>[{'id': '1759878295', 'title': 'Beast Modes', ...</td>\n",
       "    </tr>\n",
       "  </tbody>\n",
       "</table>\n",
       "</div>"
      ],
      "text/plain": [
       "           id           title  locked  sharedView  pageVisible      owner  \\\n",
       "0     -100000        Overview   False       False         True          0   \n",
       "1     -100003       Favorites   False       False         True          0   \n",
       "2     -100002          Shared   False       False         True          0   \n",
       "3    30507758         Welcome    True        True         True  587894148   \n",
       "4  1267639476  Dojo Solutions    True        True         True  587894148   \n",
       "\n",
       "  virtualPage isValidBadgePage  canAddCard  bibHiddenPage  hasAccess  \\\n",
       "0        True             True        True          False       True   \n",
       "1        True              NaN       False          False       True   \n",
       "2        True              NaN       False          False       True   \n",
       "3         NaN              NaN        True          False       True   \n",
       "4         NaN              NaN        True          False       True   \n",
       "\n",
       "   hierarchy separator  type  pageLocation  \\\n",
       "0          0       NaN   NaN           NaN   \n",
       "1          0       NaN   NaN           NaN   \n",
       "2          0      True   NaN           NaN   \n",
       "3          0       NaN  page           0.0   \n",
       "4          0       NaN  page           1.0   \n",
       "\n",
       "                                              owners isOwner  childCount  \\\n",
       "0                                                NaN     NaN         NaN   \n",
       "1                                                NaN     NaN         NaN   \n",
       "2                                                NaN     NaN         NaN   \n",
       "3  [{'id': 587894148, 'type': 'USER', 'displayNam...   False         0.0   \n",
       "4  [{'id': 587894148, 'type': 'USER', 'displayNam...   False         3.0   \n",
       "\n",
       "                                            children  \n",
       "0                                                NaN  \n",
       "1                                                NaN  \n",
       "2                                                NaN  \n",
       "3                                                NaN  \n",
       "4  [{'id': '1759878295', 'title': 'Beast Modes', ...  "
      ]
     },
     "execution_count": null,
     "metadata": {},
     "output_type": "execute_result"
    }
   ],
   "source": [
    "import os\n",
    "import pandas as pd\n",
    "\n",
    "full_auth = dmda.DomoFullAuth(\n",
    "    domo_instance='domo-community', domo_password=os.environ['DOJO_PASSWORD'], domo_username= os.environ['DOMO_USERNAME'])\n",
    "\n",
    "res = await get_bootstrap_pages(auth=full_auth, debug_api=False)\n",
    "\n",
    "pd.DataFrame(res.response[0:5])\n"
   ]
  },
  {
   "cell_type": "code",
   "execution_count": null,
   "metadata": {},
   "outputs": [],
   "source": [
    "# | hide\n",
    "import nbdev\n",
    "\n",
    "nbdev.nbdev_export()\n"
   ]
  }
 ],
 "metadata": {
  "jupytext": {
   "split_at_heading": true
  },
  "kernelspec": {
   "display_name": "Python 3",
   "language": "python",
   "name": "python3"
  }
 },
 "nbformat": 4,
 "nbformat_minor": 4
}
