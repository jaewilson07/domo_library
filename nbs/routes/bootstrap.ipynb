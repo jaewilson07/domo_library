{
 "cells": [
  {
   "attachments": {},
   "cell_type": "markdown",
   "metadata": {},
   "source": [
    "Bootstrap Routes\n"
   ]
  },
  {
   "cell_type": "raw",
   "metadata": {},
   "source": [
    "---\n",
    "title: Bootstrap Routes\n",
    "output-file: bootstrap_routes.html\n",
    "---\n"
   ]
  },
  {
   "cell_type": "code",
   "execution_count": 1,
   "metadata": {},
   "outputs": [],
   "source": [
    "# | default_exp routes.bootstrap"
   ]
  },
  {
   "cell_type": "code",
   "execution_count": 2,
   "metadata": {},
   "outputs": [],
   "source": [
    "# | exporti\n",
    "import httpx\n",
    "\n",
    "import domolibrary.client.DomoError as de\n",
    "import domolibrary.client.get_data as gd\n",
    "import domolibrary.client.ResponseGetData as rgd\n",
    "import domolibrary.client.DomoAuth as dmda"
   ]
  },
  {
   "cell_type": "code",
   "execution_count": 3,
   "metadata": {},
   "outputs": [],
   "source": [
    "#|hide \n",
    "from nbdev.showdoc import show_doc"
   ]
  },
  {
   "cell_type": "code",
   "execution_count": 4,
   "metadata": {},
   "outputs": [],
   "source": [
    "#| export\n",
    "from domolibrary.client.DomoAuth import InvalidAuthTypeError"
   ]
  },
  {
   "cell_type": "markdown",
   "metadata": {},
   "source": [
    "# Error Classes"
   ]
  },
  {
   "cell_type": "code",
   "execution_count": 5,
   "metadata": {},
   "outputs": [],
   "source": [
    "#| export\n",
    "class Bootstrap_RetrievalError(de.DomoError):\n",
    "    def __init__(self, status, response, domo_instance, parent_class, function_name):\n",
    "        super().__init__(\n",
    "            status=status,\n",
    "            message=response,\n",
    "            domo_instance=domo_instance,\n",
    "            parent_class=parent_class,\n",
    "            function_name=function_name,\n",
    "        )"
   ]
  },
  {
   "cell_type": "code",
   "execution_count": 6,
   "metadata": {},
   "outputs": [
    {
     "data": {
      "text/plain": [
       "__main__.Bootstrap_RetrievalError('🛑  Bootstrap_RetrievalError 🛑 - function: 123.foo || status 400 || fail at test')"
      ]
     },
     "execution_count": 6,
     "metadata": {},
     "output_type": "execute_result"
    }
   ],
   "source": [
    "Bootstrap_RetrievalError(\n",
    "    status = 400,\n",
    "    response = 'fail',\n",
    "    domo_instance = 'test',\n",
    "    parent_class = 123,\n",
    "    function_name = 'foo'\n",
    ")"
   ]
  },
  {
   "cell_type": "markdown",
   "metadata": {},
   "source": [
    "# Get Bootstrap\n",
    "The base API requires `DomoFullAuth` flow to query and retrieve data"
   ]
  },
  {
   "cell_type": "code",
   "execution_count": 7,
   "metadata": {},
   "outputs": [],
   "source": [
    "# | export\n",
    "@gd.route_function\n",
    "async def get_bootstrap(\n",
    "    auth: dmda.DomoFullAuth,  ## only works with DomoFullAuth authentication, do not use TokenAuth\n",
    "    debug_api: bool = False,\n",
    "    session: httpx.AsyncClient = None,\n",
    "    parent_class=None,\n",
    "    debug_num_stacks_to_drop=1,\n",
    ") -> rgd.ResponseGetData:\n",
    "    \"\"\"get bootstrap data\"\"\"\n",
    "\n",
    "    dmda.test_is_full_auth(auth, num_stacks_to_drop=1)\n",
    "\n",
    "    # url = f\"https://{auth.domo_instance}.domo.com/api/domoweb/bootstrap?v2Navigation=false\"\n",
    "    url = (\n",
    "        f\"https://{auth.domo_instance}.domo.com/api/domoweb/bootstrap?v2Navigation=true\"\n",
    "    )\n",
    "\n",
    "    res = await gd.get_data(\n",
    "        url=url,\n",
    "        method=\"GET\",\n",
    "        auth=auth,\n",
    "        debug_api=debug_api,\n",
    "        session=session,\n",
    "        is_follow_redirects=True,\n",
    "        num_stacks_to_drop=debug_num_stacks_to_drop,\n",
    "        parent_class=parent_class,\n",
    "    )\n",
    "\n",
    "    if not res.is_success:\n",
    "        raise Bootstrap_RetrievalError(\n",
    "            status=res.status,\n",
    "            response=res.response,\n",
    "            domo_instance=auth.domo_instance,\n",
    "            parent_class=parent_class,\n",
    "            function_name=res.traceback_details.function_name,\n",
    "        )\n",
    "\n",
    "    if res.response == \"\":\n",
    "        raise Bootstrap_RetrievalError(\n",
    "            response=\"BSR_Features:  no features returned - is there a VPN?\",\n",
    "            status=res.status,\n",
    "            domo_instance=auth.domo_instance,\n",
    "            parent_class=parent_class,\n",
    "            function_name=res.traceback_details.function_name,\n",
    "        )\n",
    "\n",
    "    return res"
   ]
  },
  {
   "attachments": {},
   "cell_type": "markdown",
   "metadata": {},
   "source": [
    "#### sample implementation of get_boostrap\n",
    "\n",
    "The bootstrap API requires `dmda.DomoFUllAuth`.  Passing Token Auth will throw an error"
   ]
  },
  {
   "cell_type": "code",
   "execution_count": 8,
   "metadata": {},
   "outputs": [
    {
     "name": "stdout",
     "output_type": "stream",
     "text": [
      "🛑  InvalidAuthTypeError 🛑 - function: get_bootstrap || This API rquires DomoFullAuth at domo-community\n"
     ]
    }
   ],
   "source": [
    "import os\n",
    "import domolibrary.client.DomoAuth as dmda\n",
    "\n",
    "\n",
    "auth = dmda.DomoTokenAuth(\n",
    "    domo_instance=\"domo-community\",\n",
    "    domo_access_token=os.environ[\"DOMO_DOJO_ACCESS_TOKEN\"],\n",
    ")\n",
    "\n",
    "try:\n",
    "    await get_bootstrap(auth=auth, debug_api=False)\n",
    "\n",
    "except InvalidAuthTypeError as e:\n",
    "    print(e)"
   ]
  },
  {
   "cell_type": "code",
   "execution_count": 9,
   "metadata": {},
   "outputs": [
    {
     "data": {
      "text/plain": [
       "dict_keys(['notifierConfig', 'currentUser', 'data'])"
      ]
     },
     "execution_count": 9,
     "metadata": {},
     "output_type": "execute_result"
    }
   ],
   "source": [
    "import os\n",
    "\n",
    "full_auth = dmda.DomoFullAuth(\n",
    "    domo_instance=\"domo-community\",\n",
    "    domo_password=os.environ[\"DOJO_PASSWORD\"],\n",
    "    domo_username=os.environ[\"DOMO_USERNAME\"],\n",
    ")\n",
    "\n",
    "res = await get_bootstrap(auth=full_auth, debug_api=False)\n",
    "res.response.keys()"
   ]
  },
  {
   "cell_type": "markdown",
   "metadata": {},
   "source": [
    "# Get Customer"
   ]
  },
  {
   "cell_type": "code",
   "execution_count": 10,
   "metadata": {},
   "outputs": [],
   "source": [
    "# |export\n",
    "@gd.route_function\n",
    "async def get_bootstrap_customerid(\n",
    "    auth: dmda.DomoFullAuth,  # this function requires the DomoFullAuth object to authenticate the bootstrap\n",
    "    session: httpx.AsyncClient = None,  # optional parameter to improve same instance query performance\n",
    "    debug_api: bool = False,  # pass True to see the parameters sent to the Domo API\n",
    "    return_raw: bool = False,  # pass True to return the raw API response\n",
    "    debug_num_stacks_to_drop=2,  # number frames to drop off the stacktrace.  retrieved from `res.traceback_details`\n",
    "    parent_class: str = None,  # Optional parent class that calls the route function\n",
    ") -> rgd.ResponseGetData:  # the response contains the string representation of the customer_id\n",
    "    \"\"\"retrieves the domo_instance customer id\"\"\"\n",
    "\n",
    "    res = await get_bootstrap(\n",
    "        auth=auth,\n",
    "        session=session,\n",
    "        debug_api=debug_api,\n",
    "        debug_num_stacks_to_drop=debug_num_stacks_to_drop,\n",
    "        parent_class=parent_class,\n",
    "    )\n",
    "\n",
    "    if return_raw:\n",
    "        return res\n",
    "\n",
    "    res.response = res.response.get(\"currentUser\").get(\"USER_GROUP\")\n",
    "    return res"
   ]
  },
  {
   "cell_type": "code",
   "execution_count": 11,
   "metadata": {},
   "outputs": [
    {
     "data": {
      "text/markdown": [
       "---\n",
       "\n",
       "[source](https://github.com/jaewilson07/domo_library/blob/main/domolibrary/routes/bootstrap.py#L80){target=\"_blank\" style=\"float:right; font-size:smaller\"}\n",
       "\n",
       "### get_bootstrap_customerid\n",
       "\n",
       ">      get_bootstrap_customerid (auth:domolibrary.client.DomoAuth.DomoFullAuth,\n",
       ">                                session:httpx.AsyncClient=None,\n",
       ">                                debug_api:bool=False, return_raw:bool=False,\n",
       ">                                debug_num_stacks_to_drop=2,\n",
       ">                                parent_class:str=None)\n",
       "\n",
       "retrieves the domo_instance customer id"
      ],
      "text/plain": [
       "---\n",
       "\n",
       "[source](https://github.com/jaewilson07/domo_library/blob/main/domolibrary/routes/bootstrap.py#L80){target=\"_blank\" style=\"float:right; font-size:smaller\"}\n",
       "\n",
       "### get_bootstrap_customerid\n",
       "\n",
       ">      get_bootstrap_customerid (auth:domolibrary.client.DomoAuth.DomoFullAuth,\n",
       ">                                session:httpx.AsyncClient=None,\n",
       ">                                debug_api:bool=False, return_raw:bool=False,\n",
       ">                                debug_num_stacks_to_drop=2,\n",
       ">                                parent_class:str=None)\n",
       "\n",
       "retrieves the domo_instance customer id"
      ]
     },
     "execution_count": 11,
     "metadata": {},
     "output_type": "execute_result"
    }
   ],
   "source": [
    "show_doc(get_bootstrap_customerid)"
   ]
  },
  {
   "cell_type": "markdown",
   "metadata": {},
   "source": [
    "#### sample implementation of get_customer_id"
   ]
  },
  {
   "cell_type": "code",
   "execution_count": 12,
   "metadata": {},
   "outputs": [
    {
     "data": {
      "text/plain": [
       "ResponseGetData(status=200, response='mmmm-0012-0200', is_success=True, parent_class=None)"
      ]
     },
     "execution_count": 12,
     "metadata": {},
     "output_type": "execute_result"
    }
   ],
   "source": [
    "import os\n",
    "import pandas as pd\n",
    "\n",
    "full_auth = dmda.DomoFullAuth(\n",
    "    domo_instance=\"domo-community\",\n",
    "    domo_password=os.environ[\"DOJO_PASSWORD\"],\n",
    "    domo_username=os.environ[\"DOMO_USERNAME\"],\n",
    ")\n",
    "\n",
    "await get_bootstrap_customerid(auth=full_auth, debug_api=False, return_raw=False)\n",
    "\n"
   ]
  },
  {
   "cell_type": "markdown",
   "metadata": {},
   "source": [
    "# Get Bootstrap Features"
   ]
  },
  {
   "cell_type": "code",
   "execution_count": 13,
   "metadata": {},
   "outputs": [],
   "source": [
    "# | export\n",
    "@gd.route_function\n",
    "async def get_bootstrap_features(\n",
    "    auth: dmda.DomoAuth,\n",
    "    session: httpx.AsyncClient = None,\n",
    "    debug_api: bool = False,\n",
    "    return_raw: bool = False,\n",
    "    debug_num_stacks_to_drop=2,\n",
    "    parent_class=None,\n",
    ") -> rgd.ResponseGetData:\n",
    "\n",
    "    res = await get_bootstrap(\n",
    "        auth=auth,\n",
    "        session=session,\n",
    "        debug_api=debug_api,\n",
    "        debug_num_stacks_to_drop=debug_num_stacks_to_drop,\n",
    "        parent_class=parent_class,\n",
    "    )\n",
    "\n",
    "    if return_raw:\n",
    "        return res\n",
    "\n",
    "    res.response = res.response.get(\"data\").get(\"features\")\n",
    "    return res"
   ]
  },
  {
   "attachments": {},
   "cell_type": "markdown",
   "metadata": {},
   "source": [
    "#### sample implementation of get_bootstrap_features"
   ]
  },
  {
   "cell_type": "code",
   "execution_count": 14,
   "metadata": {},
   "outputs": [
    {
     "data": {
      "text/html": [
       "<div>\n",
       "<style scoped>\n",
       "    .dataframe tbody tr th:only-of-type {\n",
       "        vertical-align: middle;\n",
       "    }\n",
       "\n",
       "    .dataframe tbody tr th {\n",
       "        vertical-align: top;\n",
       "    }\n",
       "\n",
       "    .dataframe thead th {\n",
       "        text-align: right;\n",
       "    }\n",
       "</style>\n",
       "<table border=\"1\" class=\"dataframe\">\n",
       "  <thead>\n",
       "    <tr style=\"text-align: right;\">\n",
       "      <th></th>\n",
       "      <th>id</th>\n",
       "      <th>name</th>\n",
       "      <th>label</th>\n",
       "      <th>description</th>\n",
       "      <th>enabled</th>\n",
       "      <th>purchased</th>\n",
       "      <th>type</th>\n",
       "      <th>environment</th>\n",
       "      <th>owner</th>\n",
       "    </tr>\n",
       "  </thead>\n",
       "  <tbody>\n",
       "    <tr>\n",
       "      <th>0</th>\n",
       "      <td>4</td>\n",
       "      <td>search</td>\n",
       "      <td></td>\n",
       "      <td></td>\n",
       "      <td>True</td>\n",
       "      <td>False</td>\n",
       "      <td>STANDARD</td>\n",
       "      <td></td>\n",
       "      <td></td>\n",
       "    </tr>\n",
       "    <tr>\n",
       "      <th>1</th>\n",
       "      <td>5</td>\n",
       "      <td>launcher</td>\n",
       "      <td></td>\n",
       "      <td></td>\n",
       "      <td>True</td>\n",
       "      <td>True</td>\n",
       "      <td>PREMIUM</td>\n",
       "      <td></td>\n",
       "      <td></td>\n",
       "    </tr>\n",
       "    <tr>\n",
       "      <th>2</th>\n",
       "      <td>9</td>\n",
       "      <td>profile-reminder</td>\n",
       "      <td></td>\n",
       "      <td></td>\n",
       "      <td>True</td>\n",
       "      <td>False</td>\n",
       "      <td>STANDARD</td>\n",
       "      <td></td>\n",
       "      <td></td>\n",
       "    </tr>\n",
       "    <tr>\n",
       "      <th>3</th>\n",
       "      <td>17</td>\n",
       "      <td>enableSwapDatasource</td>\n",
       "      <td></td>\n",
       "      <td></td>\n",
       "      <td>True</td>\n",
       "      <td>False</td>\n",
       "      <td>STANDARD</td>\n",
       "      <td></td>\n",
       "      <td></td>\n",
       "    </tr>\n",
       "    <tr>\n",
       "      <th>4</th>\n",
       "      <td>19</td>\n",
       "      <td>up</td>\n",
       "      <td></td>\n",
       "      <td></td>\n",
       "      <td>True</td>\n",
       "      <td>True</td>\n",
       "      <td>STANDARD</td>\n",
       "      <td></td>\n",
       "      <td></td>\n",
       "    </tr>\n",
       "  </tbody>\n",
       "</table>\n",
       "</div>"
      ],
      "text/plain": [
       "   id                  name label description  enabled  purchased      type  \\\n",
       "0   4                search                       True      False  STANDARD   \n",
       "1   5              launcher                       True       True   PREMIUM   \n",
       "2   9      profile-reminder                       True      False  STANDARD   \n",
       "3  17  enableSwapDatasource                       True      False  STANDARD   \n",
       "4  19                    up                       True       True  STANDARD   \n",
       "\n",
       "  environment owner  \n",
       "0                    \n",
       "1                    \n",
       "2                    \n",
       "3                    \n",
       "4                    "
      ]
     },
     "execution_count": 14,
     "metadata": {},
     "output_type": "execute_result"
    }
   ],
   "source": [
    "import os\n",
    "import pandas as pd\n",
    "\n",
    "full_auth = dmda.DomoFullAuth(\n",
    "    domo_instance=\"domo-community\",\n",
    "    domo_password=os.environ[\"DOJO_PASSWORD\"],\n",
    "    domo_username=os.environ[\"DOMO_USERNAME\"],\n",
    ")\n",
    "\n",
    "res = await get_bootstrap_features(auth=full_auth, debug_api=False, return_raw=False)\n",
    "\n",
    "pd.DataFrame(res.response[0:5])"
   ]
  },
  {
   "cell_type": "markdown",
   "metadata": {},
   "source": [
    "# Get Is_Account_V2"
   ]
  },
  {
   "cell_type": "code",
   "execution_count": 15,
   "metadata": {},
   "outputs": [],
   "source": [
    "# | export\n",
    "\n",
    "@gd.route_function\n",
    "async def get_bootstrap_features_is_accountsv2_enabled(\n",
    "    auth: dmda.DomoAuth,\n",
    "    session: httpx.AsyncClient = None,\n",
    "    debug_api: bool = False,\n",
    "    return_raw: bool = False,\n",
    "    debug_num_stacks_to_drop=2,\n",
    "    parent_class=None,\n",
    ") -> rgd.ResponseGetData:\n",
    "\n",
    "    res = await get_bootstrap_features(\n",
    "        auth=auth,\n",
    "        session=session,\n",
    "        debug_api=debug_api,\n",
    "        debug_num_stacks_to_drop=debug_num_stacks_to_drop,\n",
    "        parent_class=parent_class,\n",
    "        return_raw = False\n",
    "    )\n",
    "\n",
    "    if return_raw:\n",
    "        return res\n",
    "\n",
    "    match_accounts_v2 = next(\n",
    "        (\n",
    "            domo_feature\n",
    "            for domo_feature in res.response\n",
    "            if domo_feature.get('name') == \"accounts-v2\"\n",
    "        ),\n",
    "        None,\n",
    "    )\n",
    "\n",
    "    res.response = True if  match_accounts_v2 else False\n",
    "    return res"
   ]
  },
  {
   "cell_type": "markdown",
   "metadata": {},
   "source": [
    "#### sample implementation of get_bootstrap_features_is_accountsv2_enabled"
   ]
  },
  {
   "cell_type": "code",
   "execution_count": 16,
   "metadata": {},
   "outputs": [
    {
     "data": {
      "text/plain": [
       "ResponseGetData(status=200, response=False, is_success=True, parent_class=None)"
      ]
     },
     "execution_count": 16,
     "metadata": {},
     "output_type": "execute_result"
    }
   ],
   "source": [
    "import os\n",
    "import pandas as pd\n",
    "\n",
    "full_auth = dmda.DomoFullAuth(\n",
    "    domo_instance=\"domo-community\",\n",
    "    domo_password=os.environ[\"DOJO_PASSWORD\"],\n",
    "    domo_username=os.environ[\"DOMO_USERNAME\"],\n",
    ")\n",
    "\n",
    "await get_bootstrap_features_is_accountsv2_enabled(auth=full_auth, debug_api=False, return_raw=False)\n"
   ]
  },
  {
   "cell_type": "markdown",
   "metadata": {},
   "source": [
    "# Get Bootstrap Pages"
   ]
  },
  {
   "cell_type": "code",
   "execution_count": 17,
   "metadata": {},
   "outputs": [],
   "source": [
    "# | export\n",
    "@gd.route_function\n",
    "async def get_bootstrap_pages(\n",
    "    auth: dmda.DomoAuth,\n",
    "    session: httpx.AsyncClient = None,\n",
    "    debug_api: bool = False,\n",
    "    return_raw: bool = False,\n",
    "    debug_num_stacks_to_drop=2,\n",
    "    parent_class=None,\n",
    ") -> rgd.ResponseGetData:\n",
    "    \"\"\"this API will return the downstream (children) hierarchy of a page\"\"\"\n",
    "    res = await get_bootstrap(\n",
    "        auth=auth,\n",
    "        session=session,\n",
    "        debug_api=debug_api,\n",
    "        debug_num_stacks_to_drop=debug_num_stacks_to_drop,\n",
    "        parent_class=parent_class,\n",
    "    )\n",
    "\n",
    "    if return_raw:\n",
    "        return res\n",
    "\n",
    "    res.response = res.response.get(\"data\").get(\"pages\")\n",
    "    return res"
   ]
  },
  {
   "attachments": {},
   "cell_type": "markdown",
   "metadata": {},
   "source": [
    "#### sample get bootstrap pages"
   ]
  },
  {
   "cell_type": "code",
   "execution_count": 18,
   "metadata": {},
   "outputs": [
    {
     "data": {
      "text/html": [
       "<div>\n",
       "<style scoped>\n",
       "    .dataframe tbody tr th:only-of-type {\n",
       "        vertical-align: middle;\n",
       "    }\n",
       "\n",
       "    .dataframe tbody tr th {\n",
       "        vertical-align: top;\n",
       "    }\n",
       "\n",
       "    .dataframe thead th {\n",
       "        text-align: right;\n",
       "    }\n",
       "</style>\n",
       "<table border=\"1\" class=\"dataframe\">\n",
       "  <thead>\n",
       "    <tr style=\"text-align: right;\">\n",
       "      <th></th>\n",
       "      <th>id</th>\n",
       "      <th>title</th>\n",
       "      <th>locked</th>\n",
       "      <th>sharedView</th>\n",
       "      <th>pageVisible</th>\n",
       "      <th>virtualPage</th>\n",
       "      <th>isValidBadgePage</th>\n",
       "      <th>canAddCard</th>\n",
       "      <th>bibHiddenPage</th>\n",
       "      <th>hasAccess</th>\n",
       "      <th>hierarchy</th>\n",
       "      <th>separator</th>\n",
       "      <th>type</th>\n",
       "      <th>pageLocation</th>\n",
       "      <th>owner</th>\n",
       "      <th>owners</th>\n",
       "      <th>isOwner</th>\n",
       "      <th>childCount</th>\n",
       "      <th>children</th>\n",
       "    </tr>\n",
       "  </thead>\n",
       "  <tbody>\n",
       "    <tr>\n",
       "      <th>0</th>\n",
       "      <td>-100000</td>\n",
       "      <td>Overview</td>\n",
       "      <td>False</td>\n",
       "      <td>False</td>\n",
       "      <td>True</td>\n",
       "      <td>True</td>\n",
       "      <td>True</td>\n",
       "      <td>True</td>\n",
       "      <td>False</td>\n",
       "      <td>True</td>\n",
       "      <td>0</td>\n",
       "      <td>NaN</td>\n",
       "      <td>NaN</td>\n",
       "      <td>NaN</td>\n",
       "      <td>NaN</td>\n",
       "      <td>NaN</td>\n",
       "      <td>NaN</td>\n",
       "      <td>NaN</td>\n",
       "      <td>NaN</td>\n",
       "    </tr>\n",
       "    <tr>\n",
       "      <th>1</th>\n",
       "      <td>-100003</td>\n",
       "      <td>Favorites</td>\n",
       "      <td>False</td>\n",
       "      <td>False</td>\n",
       "      <td>True</td>\n",
       "      <td>True</td>\n",
       "      <td>NaN</td>\n",
       "      <td>False</td>\n",
       "      <td>False</td>\n",
       "      <td>True</td>\n",
       "      <td>0</td>\n",
       "      <td>NaN</td>\n",
       "      <td>NaN</td>\n",
       "      <td>NaN</td>\n",
       "      <td>NaN</td>\n",
       "      <td>NaN</td>\n",
       "      <td>NaN</td>\n",
       "      <td>NaN</td>\n",
       "      <td>NaN</td>\n",
       "    </tr>\n",
       "    <tr>\n",
       "      <th>2</th>\n",
       "      <td>-100002</td>\n",
       "      <td>Shared</td>\n",
       "      <td>False</td>\n",
       "      <td>False</td>\n",
       "      <td>True</td>\n",
       "      <td>True</td>\n",
       "      <td>NaN</td>\n",
       "      <td>False</td>\n",
       "      <td>False</td>\n",
       "      <td>True</td>\n",
       "      <td>0</td>\n",
       "      <td>True</td>\n",
       "      <td>NaN</td>\n",
       "      <td>NaN</td>\n",
       "      <td>NaN</td>\n",
       "      <td>NaN</td>\n",
       "      <td>NaN</td>\n",
       "      <td>NaN</td>\n",
       "      <td>NaN</td>\n",
       "    </tr>\n",
       "    <tr>\n",
       "      <th>3</th>\n",
       "      <td>30507758</td>\n",
       "      <td>Welcome</td>\n",
       "      <td>True</td>\n",
       "      <td>True</td>\n",
       "      <td>True</td>\n",
       "      <td>NaN</td>\n",
       "      <td>NaN</td>\n",
       "      <td>True</td>\n",
       "      <td>False</td>\n",
       "      <td>True</td>\n",
       "      <td>0</td>\n",
       "      <td>NaN</td>\n",
       "      <td>page</td>\n",
       "      <td>0.0</td>\n",
       "      <td>587894148.0</td>\n",
       "      <td>[{'id': 587894148, 'type': 'USER', 'displayNam...</td>\n",
       "      <td>True</td>\n",
       "      <td>0.0</td>\n",
       "      <td>NaN</td>\n",
       "    </tr>\n",
       "    <tr>\n",
       "      <th>4</th>\n",
       "      <td>1267639476</td>\n",
       "      <td>Community Solutions</td>\n",
       "      <td>True</td>\n",
       "      <td>True</td>\n",
       "      <td>True</td>\n",
       "      <td>NaN</td>\n",
       "      <td>NaN</td>\n",
       "      <td>True</td>\n",
       "      <td>False</td>\n",
       "      <td>True</td>\n",
       "      <td>0</td>\n",
       "      <td>NaN</td>\n",
       "      <td>page</td>\n",
       "      <td>1.0</td>\n",
       "      <td>587894148.0</td>\n",
       "      <td>[{'id': 587894148, 'type': 'USER', 'displayNam...</td>\n",
       "      <td>False</td>\n",
       "      <td>3.0</td>\n",
       "      <td>[{'id': '1759878295', 'title': 'Beast Modes', ...</td>\n",
       "    </tr>\n",
       "  </tbody>\n",
       "</table>\n",
       "</div>"
      ],
      "text/plain": [
       "           id                title  locked  sharedView  pageVisible  \\\n",
       "0     -100000             Overview   False       False         True   \n",
       "1     -100003            Favorites   False       False         True   \n",
       "2     -100002               Shared   False       False         True   \n",
       "3    30507758              Welcome    True        True         True   \n",
       "4  1267639476  Community Solutions    True        True         True   \n",
       "\n",
       "  virtualPage isValidBadgePage  canAddCard  bibHiddenPage  hasAccess  \\\n",
       "0        True             True        True          False       True   \n",
       "1        True              NaN       False          False       True   \n",
       "2        True              NaN       False          False       True   \n",
       "3         NaN              NaN        True          False       True   \n",
       "4         NaN              NaN        True          False       True   \n",
       "\n",
       "   hierarchy separator  type  pageLocation        owner  \\\n",
       "0          0       NaN   NaN           NaN          NaN   \n",
       "1          0       NaN   NaN           NaN          NaN   \n",
       "2          0      True   NaN           NaN          NaN   \n",
       "3          0       NaN  page           0.0  587894148.0   \n",
       "4          0       NaN  page           1.0  587894148.0   \n",
       "\n",
       "                                              owners isOwner  childCount  \\\n",
       "0                                                NaN     NaN         NaN   \n",
       "1                                                NaN     NaN         NaN   \n",
       "2                                                NaN     NaN         NaN   \n",
       "3  [{'id': 587894148, 'type': 'USER', 'displayNam...    True         0.0   \n",
       "4  [{'id': 587894148, 'type': 'USER', 'displayNam...   False         3.0   \n",
       "\n",
       "                                            children  \n",
       "0                                                NaN  \n",
       "1                                                NaN  \n",
       "2                                                NaN  \n",
       "3                                                NaN  \n",
       "4  [{'id': '1759878295', 'title': 'Beast Modes', ...  "
      ]
     },
     "execution_count": 18,
     "metadata": {},
     "output_type": "execute_result"
    }
   ],
   "source": [
    "import os\n",
    "import pandas as pd\n",
    "\n",
    "full_auth = dmda.DomoFullAuth(\n",
    "    domo_instance=\"domo-community\",\n",
    "    domo_password=os.environ[\"DOJO_PASSWORD\"],\n",
    "    domo_username=os.environ[\"DOMO_USERNAME\"],\n",
    ")\n",
    "\n",
    "res = await get_bootstrap_pages(auth=full_auth, debug_api=False, return_raw=False)\n",
    "\n",
    "pd.DataFrame(res.response)[0:5]"
   ]
  },
  {
   "cell_type": "code",
   "execution_count": 19,
   "metadata": {},
   "outputs": [],
   "source": [
    "# | hide\n",
    "import nbdev\n",
    "\n",
    "nbdev.nbdev_export()\n",
    "# !nbqa black bootstrap.ipynb"
   ]
  }
 ],
 "metadata": {
  "jupytext": {
   "split_at_heading": true
  },
  "kernelspec": {
   "display_name": "python3",
   "language": "python",
   "name": "python3"
  },
  "language_info": {
   "codemirror_mode": {
    "name": "ipython",
    "version": 3
   },
   "file_extension": ".py",
   "mimetype": "text/x-python",
   "name": "python",
   "nbconvert_exporter": "python",
   "pygments_lexer": "ipython3",
   "version": "3.10.8"
  }
 },
 "nbformat": 4,
 "nbformat_minor": 4
}
