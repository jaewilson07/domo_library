{
 "cells": [
  {
   "cell_type": "code",
   "execution_count": null,
   "metadata": {},
   "outputs": [
    {
     "name": "stdout",
     "output_type": "stream",
     "text": [
      "playstation-beta\n",
      "04c1574e-c8be-4721-9846-c6ffa491144b\n",
      "663516735\n",
      "jae@onyxreporting.com\n"
     ]
    }
   ],
   "source": [
    "import os\n",
    "\n",
    "text_ls = [\n",
    "    # 'BETA_ACCESS_TOKEN',\n",
    "'BETA_INSTANCE',\n",
    "# 'BETA_PASSWORD',\n",
    "# 'BETA_USERNAME',\n",
    "'DOJO_DATASET_ID',\n",
    "# 'DOJO_PASSWORD',\n",
    "# 'DOMO_BETA_ACCESS_TOKEN',\n",
    "# 'DOMO_DOJO_ACCESS_TOKEN',\n",
    "\n",
    "'DOMO_DOJO_USER_ID',\n",
    "'DOMO_USERNAME'\n",
    "]\n",
    "\n",
    "for string in text_ls:\n",
    "    print(os.environ[string])\n",
    "\n"
   ]
  }
 ],
 "metadata": {
  "kernelspec": {
   "display_name": "python3",
   "language": "python",
   "name": "python3"
  }
 },
 "nbformat": 4,
 "nbformat_minor": 2
}
