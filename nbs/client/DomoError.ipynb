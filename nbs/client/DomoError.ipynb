{
 "cells": [
  {
   "attachments": {},
   "cell_type": "markdown",
   "metadata": {},
   "source": [
    "# DomoError\n",
    "\n",
    "> preferred base error class for Domo Exceptions\n"
   ]
  },
  {
   "cell_type": "code",
   "execution_count": null,
   "metadata": {},
   "outputs": [],
   "source": [
    "# | default_exp client.DomoError"
   ]
  },
  {
   "cell_type": "code",
   "execution_count": null,
   "metadata": {},
   "outputs": [],
   "source": [
    "#| exporti\n",
    "from typing import Optional"
   ]
  },
  {
   "cell_type": "code",
   "execution_count": null,
   "metadata": {},
   "outputs": [],
   "source": [
    "#| export\n",
    "class DomoError(Exception):\n",
    "    \"\"\"base exception\"\"\"\n",
    "\n",
    "    def __init__(\n",
    "        self,\n",
    "        entity_id: Optional[str] = None,\n",
    "        function_name: Optional[str] = None,\n",
    "        status: Optional[int] = None,  # API request status\n",
    "        message: str = \"error\",  # <domo_instance>.domo.com\n",
    "        domo_instance: Optional[str] = None,\n",
    "        parent_class : str = None\n",
    "    ):\n",
    "        function_str = \"\"\n",
    "\n",
    "        if function_name:\n",
    "            function_str = f\"{function_name} || \"\n",
    "        \n",
    "        if parent_class and function_name:\n",
    "            function_str = f\"{parent_class}.{function_str}\"\n",
    "\n",
    "        if parent_class and not function_name:\n",
    "            function_str = f\"{parent_class} || \"\n",
    "        \n",
    "        entity_str = f\"{entity_id} || \" if entity_id else \"\"\n",
    "        instance_str = f\" at {domo_instance}\" if domo_instance else \"\"\n",
    "        status_str = f\"status {status} || \" if status else \"\"\n",
    "\n",
    "        self.message = f\"{function_str}{entity_str}{status_str}{message}{instance_str}\"\n",
    "        super().__init__(self.message)\n"
   ]
  },
  {
   "cell_type": "code",
   "execution_count": null,
   "metadata": {},
   "outputs": [
    {
     "name": "stdout",
     "output_type": "stream",
     "text": [
      "create_dataset || ds_123 || status 403 || invalid path\n"
     ]
    }
   ],
   "source": [
    "try:\n",
    "    raise DomoError(entity_id=\"ds_123\",\n",
    "                    function_name=\"create_dataset\",\n",
    "                    # parent_class = \"Foo\",\n",
    "                    status=403,\n",
    "                    message=\"invalid path\")\n",
    "except DomoError as e:\n",
    "    print(e)\n"
   ]
  },
  {
   "attachments": {},
   "cell_type": "markdown",
   "metadata": {},
   "source": [
    "# Standard PreRequisite Errors"
   ]
  },
  {
   "cell_type": "code",
   "execution_count": null,
   "metadata": {},
   "outputs": [],
   "source": [
    "#| export\n",
    "class AuthNotProvidedError(DomoError):\n",
    "    def __init__(self,\n",
    "                 entity_id,\n",
    "                 function_name,\n",
    "                 message=\"valid Auth object not provided\",\n",
    "                 status = None,\n",
    "                 domo_instance=None\n",
    "                 ):\n",
    "\n",
    "        super().__init__(entity_id=entity_id, function_name=function_name,\n",
    "                         status=status, \n",
    "                         message=message, \n",
    "                         domo_instance=domo_instance)\n"
   ]
  },
  {
   "cell_type": "code",
   "execution_count": null,
   "metadata": {},
   "outputs": [],
   "source": [
    "#| export\n",
    "class DatasetNotProvidedError(DomoError):\n",
    "    def __init__(self,\n",
    "                 function_name,\n",
    "                 message=\"dataset_id not provided\", \n",
    "                 domo_instance=None,\n",
    "                 entity_id = None,\n",
    "                 status=None,\n",
    "                 ):\n",
    "\n",
    "        super().__init__(entity_id=entity_id, function_name=function_name,\n",
    "                         status=status,\n",
    "                         message=message,\n",
    "                         domo_instance=domo_instance)\n"
   ]
  },
  {
   "cell_type": "code",
   "execution_count": null,
   "metadata": {},
   "outputs": [],
   "source": [
    "# | hide\n",
    "import nbdev\n",
    "\n",
    "nbdev.nbdev_export()\n"
   ]
  }
 ],
 "metadata": {
  "kernelspec": {
   "display_name": "python3",
   "language": "python",
   "name": "python3"
  }
 },
 "nbformat": 4,
 "nbformat_minor": 2
}
