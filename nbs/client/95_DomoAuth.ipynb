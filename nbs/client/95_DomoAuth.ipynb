{
  "cells": [
    {
      "attachments": {},
      "cell_type": "markdown",
      "metadata": {},
      "source": [
        "# DomoAuth\n",
        "\n",
        "> Fill in a module description here\n"
      ]
    },
    {
      "cell_type": "code",
      "execution_count": null,
      "metadata": {},
      "outputs": [],
      "source": [
        "# | default_exp client.DomoAuth"
      ]
    },
    {
      "cell_type": "code",
      "execution_count": null,
      "metadata": {},
      "outputs": [],
      "source": [
        "# | hide\n",
        "from nbdev.showdoc import *\n",
        "import fastcore.test as fctest"
      ]
    },
    {
      "cell_type": "code",
      "execution_count": null,
      "metadata": {},
      "outputs": [],
      "source": [
        "# | exporti\n",
        "from dataclasses import dataclass, field\n",
        "from typing import Optional, Union\n",
        "\n",
        "import httpx\n",
        "\n",
        "import domolibrary.client.ResponseGetData as rgd\n",
        "import domolibrary.client.DomoError as de"
      ]
    },
    {
      "attachments": {},
      "cell_type": "markdown",
      "metadata": {},
      "source": [
        "# Authentication Routes\n",
        "\n",
        "Stand alone functions for users who prefer a functional programming approach\n",
        "\n",
        "## Full Auth Route - username and password authentication\n"
      ]
    },
    {
      "cell_type": "code",
      "execution_count": null,
      "metadata": {},
      "outputs": [],
      "source": [
        "# | export\n",
        "async def get_full_auth(\n",
        "    domo_instance: str,  # domo_instance.domo.com\n",
        "    domo_username: str,  # email address\n",
        "    domo_password: str,\n",
        "    session: Optional[httpx.AsyncClient] = None,\n",
        "    debug_api: bool = False\n",
        ") -> rgd.ResponseGetData:\n",
        "    \"\"\"uses username and password authentication to retrieve a full_auth access token\"\"\"\n",
        "\n",
        "    is_close_session = False\n",
        "\n",
        "    if not session:\n",
        "        is_close_session = True\n",
        "        session = httpx.AsyncClient()\n",
        "\n",
        "    url = f\"https://{domo_instance}.domo.com/api/content/v2/authentication\"\n",
        "\n",
        "    tokenHeaders = {\"Content-Type\": \"application/json\"}\n",
        "\n",
        "    body = {\n",
        "        \"method\": \"password\",\n",
        "        \"emailAddress\": domo_username,\n",
        "        \"password\": domo_password,\n",
        "    }\n",
        "\n",
        "    if debug_api:\n",
        "        print(body, url)\n",
        "\n",
        "    res = await session.request(method=\"POST\", url=url, headers=tokenHeaders, json=body)\n",
        "\n",
        "    if is_close_session:\n",
        "        await session.aclose()\n",
        "\n",
        "    return rgd.ResponseGetData._from_httpx_response(res)"
      ]
    },
    {
      "attachments": {},
      "cell_type": "markdown",
      "metadata": {},
      "source": [
        "#### Sample Implementations of get_full_auth\n"
      ]
    },
    {
      "cell_type": "code",
      "execution_count": null,
      "metadata": {},
      "outputs": [
        {
          "data": {
            "text/plain": [
              "ResponseGetData(status=200, response={'success': False, 'reason': 'INVALID_CREDENTIALS'}, is_success=True)"
            ]
          },
          "execution_count": null,
          "metadata": {},
          "output_type": "execute_result"
        }
      ],
      "source": [
        "import os\n",
        "\n",
        "res = await get_full_auth(\n",
        "    domo_instance=\"domo-community\",\n",
        "    domo_username=\"test@test.com\",\n",
        "    domo_password=\"fake password\",\n",
        ")\n",
        "res"
      ]
    },
    {
      "cell_type": "code",
      "execution_count": null,
      "metadata": {},
      "outputs": [],
      "source": [
        "res = await get_full_auth(domo_instance=\"test\",\n",
        "                          domo_username=\"fake@test.com\", \n",
        "                          domo_password=\"fake password\")\n",
        "\n",
        "\n",
        "assert res.status == 403\n"
      ]
    },
    {
      "cell_type": "code",
      "execution_count": null,
      "metadata": {},
      "outputs": [],
      "source": [
        "res = await get_full_auth(domo_instance=\"domo-community\",\n",
        "                          domo_username=\"jae@onyxreporting.com\",\n",
        "                          domo_password=os.environ['DOJO_PASSWORD'])\n",
        "assert res.status == 200\n"
      ]
    },
    {
      "attachments": {},
      "cell_type": "markdown",
      "metadata": {},
      "source": [
        "The 403 response is expected because test.domo.com presumeably does not exist or access if forbidden.\n"
      ]
    },
    {
      "attachments": {},
      "cell_type": "markdown",
      "metadata": {},
      "source": [
        "## Developer Auth Route - client_id and secret authentication\n"
      ]
    },
    {
      "cell_type": "code",
      "execution_count": null,
      "metadata": {},
      "outputs": [],
      "source": [
        "# | export\n",
        "async def get_developer_auth(\n",
        "    domo_client_id: str,\n",
        "    domo_client_secret: str,\n",
        "    session: Optional[httpx.AsyncClient] = None,\n",
        "    debug_api: bool = False\n",
        ") -> rgd.ResponseGetData:\n",
        "\n",
        "    \"\"\"\n",
        "    only use for authenticating against apis documented under developer.domo.com\n",
        "    \"\"\"\n",
        "    is_close_session = False\n",
        "\n",
        "    if not session:\n",
        "        is_close_session = True\n",
        "        session = httpx.AsyncClient(\n",
        "            auth=httpx.BasicAuth(domo_client_id, domo_client_secret)\n",
        "        )\n",
        "\n",
        "    url = \"https://api.domo.com/oauth/token?grant_type=client_credentials\"\n",
        "\n",
        "    if debug_api:\n",
        "        print(url, domo_client_id, domo_client_secret)\n",
        "\n",
        "    res = await session.request(method=\"GET\", url=url)\n",
        "\n",
        "    if is_close_session:\n",
        "        await session.aclose()\n",
        "\n",
        "    return rgd.ResponseGetData._from_httpx_response(res)"
      ]
    },
    {
      "attachments": {},
      "cell_type": "markdown",
      "metadata": {},
      "source": [
        "#### Sample Implementations of get_developer_auth\n",
        "\n",
        "The 401 response is expected because we are using invalid credentials\n"
      ]
    },
    {
      "cell_type": "code",
      "execution_count": null,
      "metadata": {},
      "outputs": [
        {
          "data": {
            "text/plain": [
              "ResponseGetData(status=401, response='Unauthorized', is_success=False)"
            ]
          },
          "execution_count": null,
          "metadata": {},
          "output_type": "execute_result"
        }
      ],
      "source": [
        "await get_developer_auth(domo_client_id=\"test_id\",\n",
        "                         domo_client_secret=\"test_secret\"\n",
        "                         )\n"
      ]
    },
    {
      "attachments": {},
      "cell_type": "markdown",
      "metadata": {},
      "source": [
        "## Access Token Auth Route - access_token authentication\n",
        "\n",
        "This access_token based authentication assumes the user has been provided a valid access token from Domo > Admin > Authentication > Access Token so authentication routes are actually not required.\n",
        "\n",
        "Per the Domo JavaCLI implementation, users can test the validity of the access_token agains the 'me' API\n",
        "\n",
        "!! Note about the Me API !!\n",
        "It appears that access_token authentication will direct the\n"
      ]
    },
    {
      "cell_type": "code",
      "execution_count": null,
      "metadata": {},
      "outputs": [],
      "source": [
        "# | export\n",
        "async def test_access_token(\n",
        "    domo_access_token: str,  # as provided in Domo > Admin > Authentication > AccessTokens\n",
        "    domo_instance: str,  # <domo_instance>.domo.com\n",
        "    session: Optional[httpx.AsyncClient] = None,\n",
        "    debug_api: bool = False\n",
        "):\n",
        "    \"\"\"\n",
        "    will attempt to validate against the 'me' API.\n",
        "    This is the same authentication test the Domo Java CLI uses.\n",
        "    \"\"\"\n",
        "\n",
        "    is_close_session = False\n",
        "\n",
        "    if not session:\n",
        "        is_close_session = True\n",
        "        session = httpx.AsyncClient()\n",
        "\n",
        "    url = f\"https://{domo_instance}.domo.com/api/content/v2/users/me\"\n",
        "\n",
        "    tokenHeaders = {\"X-DOMO-Developer-Token\": domo_access_token}\n",
        "\n",
        "    if debug_api:\n",
        "        print(url,tokenHeaders)\n",
        "\n",
        "    res = await session.request(method=\"GET\", headers=tokenHeaders, url=url)\n",
        "\n",
        "    if is_close_session:\n",
        "        await session.aclose()\n",
        "\n",
        "    return rgd.ResponseGetData._from_httpx_response(res)"
      ]
    },
    {
      "attachments": {},
      "cell_type": "markdown",
      "metadata": {},
      "source": [
        "#### Sample implementation of `test_access_token`\n"
      ]
    },
    {
      "cell_type": "code",
      "execution_count": null,
      "metadata": {},
      "outputs": [
        {
          "data": {
            "text/plain": [
              "ResponseGetData(status=200, response={'id': 1893952720, 'invitorUserId': 587894148, 'displayName': 'Jae Wilson1', 'department': 'Business Improvement', 'userName': 'jae@onyxreporting.com', 'emailAddress': 'jae@onyxreporting.com', 'avatarKey': 'c605f478-0cd2-4451-9fd4-d82090b71e66', 'accepted': True, 'userType': 'USER', 'modified': 1679004195646, 'created': 1588960518, 'role': 'Admin', 'rights': 63, 'active': True, 'pending': False, 'systemUser': False, 'anonymous': False}, is_success=True)"
            ]
          },
          "execution_count": null,
          "metadata": {},
          "output_type": "execute_result"
        }
      ],
      "source": [
        "import os\n",
        "\n",
        "await test_access_token(\n",
        "    domo_instance=\"domo-community\",\n",
        "    domo_access_token=os.environ['DOMO_DOJO_ACCESS_TOKEN']\n",
        ")"
      ]
    },
    {
      "attachments": {},
      "cell_type": "markdown",
      "metadata": {},
      "source": [
        "# Classes\n",
        "\n",
        "Different Domo Auth classes will have a variety of required vs optional parameters. To avoid multiple initialization and post_intialization statements, we mix multiple classes together such that classes with optional parameters are mixed in before classes with required parameters.\n"
      ]
    },
    {
      "cell_type": "code",
      "execution_count": null,
      "metadata": {},
      "outputs": [],
      "source": [
        "# | exporti\n",
        "@dataclass\n",
        "class _DomoAuth_Required:\n",
        "    \"\"\"required parameters for all Domo Auth classes\"\"\"\n",
        "\n",
        "    domo_instance: str\n",
        "\n",
        "    def __post_init__(self):\n",
        "        if self.domo_instance:\n",
        "            self.set_manual_login()\n",
        "\n",
        "    def set_manual_login(self):\n",
        "        self.url_manual_login = (\n",
        "            f\"https://{self.domo_instance}.domo.com/auth/index?domoManualLogin=true\"\n",
        "        )\n",
        "\n",
        "\n",
        "@dataclass\n",
        "class _DomoAuth_Optional:\n",
        "    \"\"\"parameters are defined after initialization\"\"\"\n",
        "\n",
        "    token: Optional[str] = field(default=None, repr=False)\n",
        "    token_name: Optional[str] = field(default=None)\n",
        "    user_id: Optional[str] = field(default=None, repr=False)\n",
        "    auth_header: dict = field(default_factory=dict, repr=False)\n",
        "\n",
        "    is_valid_token: bool = None\n",
        "\n",
        "    url_manual_login: Optional[str] = None\n",
        "\n",
        "    async def get_auth_token(self) -> Union[str, None]:\n",
        "        \"\"\"placeholder method\"\"\"\n",
        "        pass\n",
        "\n",
        "    async def generate_auth_header(self) -> Union[dict, None]:\n",
        "        \"\"\"returns auth header appropriate for this authentication method\"\"\"\n",
        "        pass\n",
        "\n",
        "    async def print_is_token(self, token_name=None) -> None:\n",
        "        self.token_name = token_name or self.token_name\n",
        "\n",
        "        if not self.token:\n",
        "            await self.get_auth_token()\n",
        "\n",
        "        token_str = f\"{self.token_name} \"\n",
        "\n",
        "        if not self.token:\n",
        "            print(\n",
        "                f\"🚧 failed to retrieve {token_str if token_name else ''}token from {self.domo_instance}\")\n",
        "            return False\n",
        "\n",
        "        print(\n",
        "            f\"🎉 {token_str if token_name else ''}token retrieved from {self.domo_instance} ⚙️\")\n",
        "        return True\n"
      ]
    },
    {
      "cell_type": "code",
      "execution_count": null,
      "metadata": {},
      "outputs": [],
      "source": [
        "# | export\n",
        "@dataclass\n",
        "class DomoAuth(_DomoAuth_Optional, _DomoAuth_Required):\n",
        "    \"\"\"abstract DomoAuth class\"\"\""
      ]
    },
    {
      "cell_type": "code",
      "execution_count": null,
      "metadata": {},
      "outputs": [
        {
          "data": {
            "text/plain": [
              "['auth_header',\n",
              " 'domo_instance',\n",
              " 'generate_auth_header',\n",
              " 'get_auth_token',\n",
              " 'is_valid_token',\n",
              " 'print_is_token',\n",
              " 'set_manual_login',\n",
              " 'token',\n",
              " 'token_name',\n",
              " 'url_manual_login',\n",
              " 'user_id']"
            ]
          },
          "execution_count": null,
          "metadata": {},
          "output_type": "execute_result"
        }
      ],
      "source": [
        "# Attributes of `DomoAuth`\n",
        "domo_instance = \"test\"\n",
        "[attr for attr in dir(DomoAuth(domo_instance)) if not attr.startswith(\"__\")]"
      ]
    },
    {
      "cell_type": "code",
      "execution_count": null,
      "metadata": {},
      "outputs": [
        {
          "data": {
            "text/plain": [
              "'https://test.domo.com/auth/index?domoManualLogin=true'"
            ]
          },
          "execution_count": null,
          "metadata": {},
          "output_type": "execute_result"
        }
      ],
      "source": [
        "# validate can print manual login link\n",
        "domo_instance = \"test\"\n",
        "\n",
        "da = DomoAuth(domo_instance)\n",
        "da.url_manual_login"
      ]
    },
    {
      "attachments": {},
      "cell_type": "markdown",
      "metadata": {},
      "source": [
        "## DomoAuth Error Classes\n"
      ]
    },
    {
      "cell_type": "code",
      "execution_count": null,
      "metadata": {},
      "outputs": [],
      "source": [
        "# | export\n",
        "class InvalidCredentialsError(de.DomoError):\n",
        "    \"\"\"return invalid credentials sent to API\"\"\"\n",
        "\n",
        "    def __init__(\n",
        "        self,\n",
        "        function_name: Optional[str] = None,\n",
        "        status: Optional[int] = None,  # API request status\n",
        "        message=\"invalid credentials\",\n",
        "        domo_instance: Optional[str] = None,\n",
        "    ):\n",
        "\n",
        "        super().__init__(status=status, message=message, domo_instance=domo_instance)\n",
        "\n",
        "\n",
        "class InvalidAuthTypeError(de.DomoError):\n",
        "    \"\"\"return invalid Auth type sent to API\"\"\"\n",
        "\n",
        "    def __init__(\n",
        "        self,\n",
        "        required_auth_type :DomoAuth ,\n",
        "        function_name: Optional[str] = None,\n",
        "        domo_instance: Optional[str] = None,\n",
        "    ):\n",
        "        message = f\"This API rquires {required_auth_type.__name__}\"\n",
        "\n",
        "        super().__init__(message=message, domo_instance=domo_instance, function_name = function_name)\n",
        "\n",
        "class InvalidInstanceError(de.DomoError):\n",
        "    \"\"\"return if invalid domo_instance sent to API\"\"\"\n",
        "\n",
        "    def __init__(\n",
        "        self,\n",
        "        function_name: Optional[str] = None,\n",
        "        status: Optional[int] = None,\n",
        "        message=\"invalid instance\",\n",
        "        domo_instance: Optional[str] = None,\n",
        "    ):\n",
        "        super().__init__(status=status, message=message, domo_instance=domo_instance)\n",
        "    \n",
        "\n",
        "class NoAccessTokenReturned(de.DomoError):\n",
        "    def __init__(\n",
        "        self,\n",
        "        function_name: Optional[str] = None,\n",
        "        status: Optional[int] = None,\n",
        "        message :str = \"No AccessToken returned\",\n",
        "        domo_instance: Optional[str] = None,\n",
        "    ):\n",
        "        super().__init__(status = status, message = message, domo_instance = domo_instance)"
      ]
    },
    {
      "cell_type": "code",
      "execution_count": null,
      "metadata": {},
      "outputs": [],
      "source": [
        "# | hide\n",
        "# validates that Errors can compile\n",
        "fctest.test_eq(isinstance(InvalidCredentialsError(), InvalidCredentialsError), True)\n",
        "fctest.test_eq(isinstance(InvalidCredentialsError(), InvalidCredentialsError), True)\n",
        "fctest.test_eq(isinstance(InvalidInstanceError(), InvalidInstanceError), True)\n",
        "fctest.test_eq(isinstance(NoAccessTokenReturned(), NoAccessTokenReturned), True)\n"
      ]
    },
    {
      "attachments": {},
      "cell_type": "markdown",
      "metadata": {},
      "source": [
        "## DomoFullAuth\n"
      ]
    },
    {
      "cell_type": "code",
      "execution_count": null,
      "metadata": {},
      "outputs": [],
      "source": [
        "# | exporti\n",
        "@dataclass\n",
        "class _DomoFullAuth_Required(_DomoAuth_Required):\n",
        "    \"\"\"mix requied parameters for DomoFullAuth\"\"\"\n",
        "\n",
        "    domo_username: str\n",
        "    domo_password: str = field(repr=False)\n"
      ]
    },
    {
      "cell_type": "code",
      "execution_count": null,
      "metadata": {},
      "outputs": [],
      "source": [
        "# | export\n",
        "@dataclass\n",
        "class DomoFullAuth(_DomoAuth_Optional, _DomoFullAuth_Required):\n",
        "    \"\"\"use for full authentication token\"\"\"\n",
        "\n",
        "    def generate_auth_header(self, token: str) -> dict:\n",
        "        self.auth_header = {\"x-domo-authentication\": token}\n",
        "        return self.auth_header\n",
        "\n",
        "    async def get_auth_token(\n",
        "        self,\n",
        "        session: Optional[httpx.AsyncClient] = None,\n",
        "        debug_api : bool = False\n",
        "    ) -> str:\n",
        "        \"\"\"returns `token` if valid credentials provided else raises Exception and returns None\"\"\"\n",
        "\n",
        "        res = await get_full_auth(\n",
        "            domo_instance=self.domo_instance,\n",
        "            domo_username=self.domo_username,\n",
        "            domo_password=self.domo_password,\n",
        "            session=session,\n",
        "            debug_api = debug_api\n",
        "        )\n",
        "\n",
        "        if res.is_success and res.response.get(\"reason\") == \"INVALID_CREDENTIALS\":\n",
        "            self.is_valid_token = False\n",
        "            raise InvalidCredentialsError(\n",
        "                function_name = \"get_auth_token\",\n",
        "                status=res.status,\n",
        "                message=str(res.response.get(\"reason\")),\n",
        "                domo_instance=self.domo_instance,\n",
        "            )\n",
        "\n",
        "        if res.status == 403:\n",
        "            self.is_valid_token = False\n",
        "            raise InvalidInstanceError(\n",
        "                function_name = \"get_auth_token\",\n",
        "                status=res.status,\n",
        "                message=\"INVALID INSTANCE\",\n",
        "                domo_instance=self.domo_instance,\n",
        "            )\n",
        "        \n",
        "        if res.is_success and res.response == {}:\n",
        "            self.is_valid_token = False\n",
        "            raise NoAccessTokenReturned(\n",
        "                function_name=\"get_auth_token\",\n",
        "                status=res.status, \n",
        "                domo_instance=self.domo_instance)\n",
        "        \n",
        "        self.is_valid_token = True\n",
        "\n",
        "        token = str(res.response.get(\"sessionToken\"))\n",
        "        self.token = token\n",
        "        self.user_id = str(res.response.get(\"userId\"))\n",
        "\n",
        "        self.auth_header = self.generate_auth_header(token=token)\n",
        "\n",
        "        if not self.token_name:\n",
        "            self.token_name = \"full_auth\"\n",
        "\n",
        "        return self.token"
      ]
    },
    {
      "attachments": {},
      "cell_type": "markdown",
      "metadata": {},
      "source": [
        "#### sample implementations of DomoFullAuth\n"
      ]
    },
    {
      "cell_type": "code",
      "execution_count": null,
      "metadata": {},
      "outputs": [
        {
          "name": "stdout",
          "output_type": "stream",
          "text": [
            "Status 200 - INVALID_CREDENTIALS at domo-community\n"
          ]
        }
      ],
      "source": [
        "try:\n",
        "    full_auth = DomoFullAuth(domo_instance=\"domo-community\",\n",
        "                             domo_username=\"test12@domo.com\",\n",
        "                             domo_password=\"test1234\")\n",
        "    res = await full_auth.get_auth_token()\n",
        "\n",
        "except InvalidCredentialsError as e:\n",
        "    print(e)"
      ]
    },
    {
      "cell_type": "code",
      "execution_count": null,
      "metadata": {},
      "outputs": [
        {
          "name": "stdout",
          "output_type": "stream",
          "text": [
            "Status 403 - INVALID INSTANCE at test\n"
          ]
        }
      ],
      "source": [
        "try:\n",
        "    full_auth = DomoFullAuth(domo_instance=\"test\",\n",
        "                             domo_username=\"test12@domo.com\",\n",
        "                             domo_password=\"test1234\")\n",
        "    \n",
        "    await full_auth.get_auth_token()\n",
        "\n",
        "\n",
        "except InvalidInstanceError as e:\n",
        "    print(e)"
      ]
    },
    {
      "cell_type": "code",
      "execution_count": null,
      "metadata": {},
      "outputs": [
        {
          "data": {
            "text/plain": [
              "DomoFullAuth(domo_instance='domo-community', domo_username='jae@onyxreporting.com', token_name='full_auth', is_valid_token=True, url_manual_login='https://domo-community.domo.com/auth/index?domoManualLogin=true')"
            ]
          },
          "execution_count": null,
          "metadata": {},
          "output_type": "execute_result"
        }
      ],
      "source": [
        "import os\n",
        "try:\n",
        "    full_auth = DomoFullAuth(domo_instance=\"domo-community\",\n",
        "                             domo_username=\"jae@onyxreporting.com\",\n",
        "                             domo_password=os.environ['DOJO_PASSWORD'])\n",
        "\n",
        "    await full_auth.get_auth_token()\n",
        "\n",
        "\n",
        "except InvalidInstanceError as e:\n",
        "    print(e)\n",
        "\n",
        "assert(full_auth.token)\n",
        "full_auth\n"
      ]
    },
    {
      "cell_type": "code",
      "execution_count": null,
      "metadata": {},
      "outputs": [],
      "source": [
        "# | hide\n",
        "import os\n",
        "\n",
        "domo_instance = \"domo-community\"\n",
        "fctest.test_eq(isinstance(DomoAuth(domo_instance=domo_instance), DomoAuth), True)\n",
        "\n",
        "fctest.test_eq(\n",
        "    isinstance(\n",
        "        DomoFullAuth(\n",
        "            domo_instance=domo_instance,\n",
        "            domo_password=os.environ['DOJO_PASSWORD'],\n",
        "            domo_username='jae@onyxreporting.com',\n",
        "        ),\n",
        "        DomoFullAuth,\n",
        "    ),\n",
        "    True,\n",
        ")"
      ]
    },
    {
      "attachments": {},
      "cell_type": "markdown",
      "metadata": {},
      "source": [
        "## DomoTokenAuth\n"
      ]
    },
    {
      "cell_type": "code",
      "execution_count": null,
      "metadata": {},
      "outputs": [],
      "source": [
        "# | exporti\n",
        "@dataclass\n",
        "class _DomoTokenAuth_Required(_DomoAuth_Required):\n",
        "    \"\"\"mix requied parameters for DomoFullAuth\"\"\"\n",
        "\n",
        "    domo_access_token: str = field(repr=False)"
      ]
    },
    {
      "cell_type": "code",
      "execution_count": null,
      "metadata": {},
      "outputs": [],
      "source": [
        "# | export\n",
        "@dataclass\n",
        "class DomoTokenAuth(_DomoAuth_Optional, _DomoTokenAuth_Required):\n",
        "    \n",
        "\n",
        "    \"\"\"\n",
        "    use for access_token authentication.\n",
        "    Tokens are generated in domo > admin > access token\n",
        "    Necessary in cases where direct sign on is not permitted\n",
        "    \"\"\"\n",
        "\n",
        "    def generate_auth_header(self, token: str) -> dict:\n",
        "        self.auth_header = {\"x-domo-developer-token\": token}\n",
        "        return self.auth_header\n",
        "\n",
        "    async def get_auth_token(\n",
        "        self, session: Optional[httpx.AsyncClient] = None,\n",
        "        debug_api : bool = False\n",
        "    ) -> str:\n",
        "        \"\"\"\n",
        "        updates internal attributes\n",
        "        having an access_token assumes pre-authenticaiton\n",
        "        \"\"\"\n",
        "\n",
        "        res = await test_access_token(\n",
        "            domo_instance=self.domo_instance,\n",
        "            domo_access_token=self.domo_access_token,\n",
        "            session=session,\n",
        "            debug_api = debug_api\n",
        "        )\n",
        "\n",
        "        if res.status == 401 and res.response == \"Unauthorized\":\n",
        "            self.is_valid_token = False\n",
        "            raise InvalidCredentialsError(\n",
        "                status=res.status,\n",
        "                message=res.response,\n",
        "                domo_instance=self.domo_instance,\n",
        "            )\n",
        "\n",
        "        if res.status == 200:\n",
        "            self.is_valid_token = True\n",
        "\n",
        "        self.token = self.domo_access_token\n",
        "        self.user_id = res.response.get(\"id\")\n",
        "\n",
        "        self.auth_header = self.generate_auth_header(token=self.token)\n",
        "\n",
        "        if not self.token_name:\n",
        "            self.token_name = \"token_auth\"\n",
        "\n",
        "        return self.token"
      ]
    },
    {
      "attachments": {},
      "cell_type": "markdown",
      "metadata": {},
      "source": [
        "#### Sample implementation of DomoTokenAuth\n"
      ]
    },
    {
      "cell_type": "code",
      "execution_count": null,
      "metadata": {},
      "outputs": [
        {
          "name": "stdout",
          "output_type": "stream",
          "text": [
            "Status 401 - Unauthorized at domo-community\n"
          ]
        }
      ],
      "source": [
        "try:\n",
        "    domo_auth = DomoTokenAuth(domo_instance=\"domo-community\",\n",
        "                              domo_access_token='fake password')\n",
        "    token = await domo_auth.get_auth_token()\n",
        "\n",
        "except InvalidCredentialsError as e:\n",
        "    print(e)"
      ]
    },
    {
      "attachments": {},
      "cell_type": "markdown",
      "metadata": {},
      "source": [
        "## DomoDeveloperAuth\n"
      ]
    },
    {
      "cell_type": "code",
      "execution_count": null,
      "metadata": {},
      "outputs": [],
      "source": [
        "# | exporti\n",
        "@dataclass\n",
        "class _DomoDeveloperAuth_Required(_DomoAuth_Required):\n",
        "    \"\"\"mix requied parameters for DomoFullAuth\"\"\"\n",
        "\n",
        "    domo_client_id: str\n",
        "    domo_client_secret: str = field(repr=False)"
      ]
    },
    {
      "cell_type": "code",
      "execution_count": null,
      "metadata": {},
      "outputs": [],
      "source": [
        "# | export\n",
        "@dataclass(init=False)\n",
        "class DomoDeveloperAuth(_DomoAuth_Optional, _DomoDeveloperAuth_Required):\n",
        "    \"\"\"use for full authentication token\"\"\"\n",
        "\n",
        "    def __init__(self, domo_client_id: str, domo_client_secret: str):\n",
        "        self.domo_client_id = domo_client_id\n",
        "        self.domo_client_secret = domo_client_secret\n",
        "        self.domo_instance = \"\"\n",
        "\n",
        "    def generate_auth_header(self, token: str) -> dict:\n",
        "        self.auth_header = {\"Authorization\": \"bearer \" + token}\n",
        "        return self.auth_header\n",
        "\n",
        "    async def get_auth_token(\n",
        "        self,\n",
        "        session: Optional[httpx.AsyncClient] = None,\n",
        "        debug_api : bool = False\n",
        "    ) -> str:\n",
        "\n",
        "        res = await get_developer_auth(\n",
        "            domo_client_id=self.domo_client_id,\n",
        "            domo_client_secret=self.domo_client_secret,\n",
        "            session=session,\n",
        "            debug_api = debug_api\n",
        "        )\n",
        "\n",
        "        if res.status == 401:\n",
        "            self.is_valid_token = False\n",
        "            raise InvalidCredentialsError(\n",
        "                status=res.status,\n",
        "                message=str(res.response),\n",
        "                domo_instance=self.domo_instance,\n",
        "            )\n",
        "\n",
        "        self.is_valid_token = True\n",
        "\n",
        "        token = str(res.response.get(\"access_token\"))\n",
        "        self.token = token\n",
        "        self.user_id = res.response.get(\"userId\")\n",
        "        self.domo_instance = res.response.get(\"domain\")\n",
        "        self.set_manual_login()\n",
        "\n",
        "        self.auth_header = self.generate_auth_header(token=token)\n",
        "\n",
        "        if not self.token_name:\n",
        "            self.token_name = \"developer_auth\"\n",
        "\n",
        "        return token"
      ]
    },
    {
      "attachments": {},
      "cell_type": "markdown",
      "metadata": {},
      "source": [
        "#### Sample implementations of DomoDeveloperAuth\n"
      ]
    },
    {
      "cell_type": "code",
      "execution_count": null,
      "metadata": {},
      "outputs": [
        {
          "name": "stdout",
          "output_type": "stream",
          "text": [
            "Status 401 - Unauthorized\n"
          ]
        }
      ],
      "source": [
        "domo_client_id = \"test_client\"\n",
        "domo_client_secret = \"test_secret\"\n",
        "\n",
        "try:\n",
        "    domo_auth = DomoDeveloperAuth(domo_client_id, domo_client_secret)\n",
        "    await domo_auth.get_auth_token()\n",
        "except InvalidCredentialsError as e:\n",
        "    print(e)"
      ]
    },
    {
      "cell_type": "code",
      "execution_count": null,
      "metadata": {},
      "outputs": [],
      "source": [
        "# | hide\n",
        "import nbdev\n",
        "\n",
        "nbdev.nbdev_export()"
      ]
    }
  ],
  "metadata": {
    "kernelspec": {
      "display_name": "Python 3",
      "language": "python",
      "name": "python3"
    }
  },
  "nbformat": 4,
  "nbformat_minor": 4
}
