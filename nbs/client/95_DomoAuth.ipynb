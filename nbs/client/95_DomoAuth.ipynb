{
 "cells": [
  {
   "attachments": {},
   "cell_type": "markdown",
   "metadata": {},
   "source": [
    "# DomoAuth\n",
    "\n",
    "> Fill in a module description here\n"
   ]
  },
  {
   "cell_type": "code",
   "execution_count": 1,
   "metadata": {},
   "outputs": [],
   "source": [
    "# | default_exp client.DomoAuth"
   ]
  },
  {
   "cell_type": "code",
   "execution_count": 2,
   "metadata": {},
   "outputs": [],
   "source": [
    "# | hide\n",
    "from nbdev.showdoc import *\n",
    "import fastcore.test as fctest"
   ]
  },
  {
   "cell_type": "code",
   "execution_count": 3,
   "metadata": {},
   "outputs": [],
   "source": [
    "# | exporti\n",
    "from dataclasses import dataclass, field\n",
    "from typing import Optional, Union\n",
    "from urllib.parse import urlparse\n",
    "\n",
    "\n",
    "import httpx\n",
    "\n",
    "import domolibrary.client.ResponseGetData as rgd\n",
    "import domolibrary.client.Logger as lg\n",
    "import domolibrary.client.DomoError as de\n",
    "\n",
    "import domolibrary.routes.auth as auth_routes"
   ]
  },
  {
   "cell_type": "code",
   "execution_count": 4,
   "metadata": {},
   "outputs": [],
   "source": [
    "# | export\n",
    "from domolibrary.routes.auth import (\n",
    "    AccountLockedError,\n",
    "    InvalidAuthTypeError,\n",
    "    InvalidCredentialsError,\n",
    "    InvalidInstanceError,\n",
    "    NoAccessTokenReturned,\n",
    ")"
   ]
  },
  {
   "attachments": {},
   "cell_type": "markdown",
   "metadata": {},
   "source": [
    "# build classes using compososition\n",
    "\n",
    "Different Domo Auth classes will have a variety of required vs optional parameters. To avoid multiple initialization and post_intialization statements, we mix multiple classes together such that classes with optional parameters are mixed in before classes with required parameters."
   ]
  },
  {
   "cell_type": "markdown",
   "metadata": {},
   "source": [
    "## define the DomoAuth base class"
   ]
  },
  {
   "cell_type": "code",
   "execution_count": 5,
   "metadata": {},
   "outputs": [],
   "source": [
    "# | exporti\n",
    "@dataclass\n",
    "class _DomoAuth_Required:\n",
    "    \"\"\"required parameters for all Domo Auth classes\"\"\"\n",
    "\n",
    "    domo_instance: str\n",
    "\n",
    "    def __post_init__(self):\n",
    "        if self.domo_instance:\n",
    "            self.set_manual_login()\n",
    "\n",
    "    def set_manual_login(self):\n",
    "        self.url_manual_login = (\n",
    "            f\"https://{self.domo_instance}.domo.com/auth/index?domoManualLogin=true\"\n",
    "        )\n",
    "        return self.url_manual_login\n",
    "\n",
    "    async def who_am_i(\n",
    "        self, debug_api: bool = False, session: httpx.AsyncClient = None\n",
    "    ):\n",
    "\n",
    "        auth_header = self.auth_header or await self.generate_auth_header()\n",
    "\n",
    "        res = await auth_routes.who_am_i(\n",
    "            domo_instance=self.domo_instance,\n",
    "            auth_header=auth_header,\n",
    "            parent_class=self.__class__.__name__,\n",
    "        )\n",
    "\n",
    "        return res\n",
    "\n",
    "    async def print_is_token(self, token_name=None) -> None:\n",
    "\n",
    "        if not self.token:\n",
    "            await self.get_auth_token()\n",
    "\n",
    "        self.token_name = token_name or self.token_name\n",
    "        token_str = f\"{self.token_name} \" or \"\"\n",
    "\n",
    "        if not self.token:\n",
    "            print(f\"🚧 failed to retrieve {token_str}token from {self.domo_instance}\")\n",
    "            return False\n",
    "\n",
    "        print(f\"🎉 {token_str }token retrieved from {self.domo_instance} ⚙️\")\n",
    "        return True\n",
    "\n",
    "\n",
    "@dataclass\n",
    "class _DomoAuth_Optional:\n",
    "    \"\"\"parameters are defined after initialization\"\"\"\n",
    "\n",
    "    token: str = field(default=None, repr=False)\n",
    "    token_name: str = field(default=None)\n",
    "    user_id: str = field(default=None, repr=False)\n",
    "    auth_header: dict = field(default=None, repr=False)\n",
    "\n",
    "    is_valid_token: bool = None\n",
    "\n",
    "    url_manual_login: Optional[str] = None\n",
    "\n",
    "    async def get_auth_token(self) -> Union[str, None]:\n",
    "        \"\"\"placeholder method\"\"\"\n",
    "        pass\n",
    "\n",
    "    async def generate_auth_header(self) -> Union[dict, None]:\n",
    "        \"\"\"returns auth header appropriate for this authentication method\"\"\"\n",
    "        pass"
   ]
  },
  {
   "cell_type": "code",
   "execution_count": 6,
   "metadata": {},
   "outputs": [],
   "source": [
    "# | export\n",
    "@dataclass\n",
    "class DomoAuth(_DomoAuth_Optional, _DomoAuth_Required):\n",
    "    \"\"\"abstract DomoAuth class\"\"\""
   ]
  },
  {
   "cell_type": "markdown",
   "metadata": {},
   "source": [
    "#### sample_implementation of set_manual_auth"
   ]
  },
  {
   "cell_type": "code",
   "execution_count": 7,
   "metadata": {},
   "outputs": [
    {
     "data": {
      "text/plain": [
       "'https://test.domo.com/auth/index?domoManualLogin=true'"
      ]
     },
     "execution_count": 7,
     "metadata": {},
     "output_type": "execute_result"
    }
   ],
   "source": [
    "# validate can print manual login link\n",
    "domo_instance = \"test\"\n",
    "\n",
    "da = DomoAuth(domo_instance)\n",
    "\n",
    "da.set_manual_login()"
   ]
  },
  {
   "attachments": {},
   "cell_type": "markdown",
   "metadata": {},
   "source": [
    "## DomoFullAuth\n"
   ]
  },
  {
   "cell_type": "code",
   "execution_count": 8,
   "metadata": {},
   "outputs": [],
   "source": [
    "# | exporti\n",
    "@dataclass\n",
    "class _DomoFullAuth_Required:\n",
    "    \"\"\"mix requied parameters for DomoFullAuth\"\"\"\n",
    "\n",
    "    domo_username: str\n",
    "    domo_password: str = field(repr=False)"
   ]
  },
  {
   "cell_type": "code",
   "execution_count": 9,
   "metadata": {},
   "outputs": [],
   "source": [
    "# | export\n",
    "\n",
    "\n",
    "@dataclass\n",
    "class DomoFullAuth(_DomoAuth_Optional, _DomoFullAuth_Required, _DomoAuth_Required):\n",
    "    \"\"\"use for full authentication token\"\"\"\n",
    "\n",
    "    async def _generate_auth_header(self, token: str = None) -> dict:\n",
    "        token = token or self.token or await self.get_auth_token()\n",
    "\n",
    "        self.token = token\n",
    "\n",
    "        self.auth_header = {\"x-domo-authentication\": token}\n",
    "\n",
    "        return self.auth_header\n",
    "\n",
    "    async def generate_auth_header(self, token: str = None) -> dict:\n",
    "        return await self._generate_auth_header(token = token)\n",
    "\n",
    "    async def get_auth_token(\n",
    "        self,\n",
    "        session: Optional[httpx.AsyncClient] = None,\n",
    "        return_raw: bool = False,\n",
    "        debug_api: bool = False,\n",
    "    ) -> str:\n",
    "        \"\"\"returns `token` if valid credentials provided else raises Exception and returns None\"\"\"\n",
    "\n",
    "        res = await auth_routes.get_full_auth(\n",
    "            domo_instance=self.domo_instance,\n",
    "            domo_username=self.domo_username,\n",
    "            domo_password=self.domo_password,\n",
    "            session=session,\n",
    "            debug_api=debug_api,\n",
    "            parent_class=self.__class__.__name__,\n",
    "        )\n",
    "\n",
    "        if return_raw:\n",
    "            return res\n",
    "\n",
    "        self.is_valid_token = True\n",
    "\n",
    "        token = str(res.response.get(\"sessionToken\"))\n",
    "        self.token = token\n",
    "        self.user_id = str(res.response.get(\"userId\"))\n",
    "\n",
    "        await self.generate_auth_header()\n",
    "\n",
    "        self.token_name = self.token_name or \"full_auth\"\n",
    "\n",
    "        return self.token"
   ]
  },
  {
   "attachments": {},
   "cell_type": "markdown",
   "metadata": {},
   "source": [
    "#### sample implementations of DomoFullAuth\n"
   ]
  },
  {
   "cell_type": "code",
   "execution_count": 10,
   "metadata": {},
   "outputs": [
    {
     "name": "stdout",
     "output_type": "stream",
     "text": [
      "🛑  InvalidInstanceError 🛑 - function: DomoFullAuth.get_full_auth || status 403 || Forbidden at test\n"
     ]
    }
   ],
   "source": [
    "try:\n",
    "    full_auth = DomoFullAuth(\n",
    "        domo_instance=\"test\", domo_username=\"test12@domo.com\", domo_password=\"test1234\"\n",
    "    )\n",
    "\n",
    "    await full_auth.get_auth_token()\n",
    "\n",
    "\n",
    "except InvalidInstanceError as e:\n",
    "    print(e)"
   ]
  },
  {
   "cell_type": "code",
   "execution_count": 11,
   "metadata": {},
   "outputs": [
    {
     "data": {
      "text/plain": [
       "ResponseGetData(status=200, response={'id': 1893952720, 'invitorUserId': 587894148, 'displayName': 'Jae Wilson1', 'department': 'Business Improvement', 'userName': 'jae@onyxreporting.com', 'emailAddress': 'jae@onyxreporting.com', 'avatarKey': 'c605f478-0cd2-4451-9fd4-d82090b71e66', 'accepted': True, 'userType': 'USER', 'modified': 1708035568417, 'created': 1588960518, 'active': True, 'pending': False, 'anonymous': False, 'systemUser': False}, is_success=True, parent_class='DomoFullAuth')"
      ]
     },
     "execution_count": 11,
     "metadata": {},
     "output_type": "execute_result"
    }
   ],
   "source": [
    "import os\n",
    "\n",
    "try:\n",
    "    full_auth = DomoFullAuth(\n",
    "        domo_instance=\"domo-community\",\n",
    "        domo_username=os.environ[\"DOMO_USERNAME\"],\n",
    "        domo_password=os.environ[\"DOJO_PASSWORD\"],\n",
    "    )\n",
    "\n",
    "    await full_auth.get_auth_token()\n",
    "\n",
    "\n",
    "except InvalidInstanceError as e:\n",
    "    print(e)\n",
    "\n",
    "assert full_auth.token\n",
    "\n",
    "await full_auth.who_am_i()"
   ]
  },
  {
   "cell_type": "code",
   "execution_count": 12,
   "metadata": {},
   "outputs": [],
   "source": [
    "# | hide\n",
    "import os\n",
    "\n",
    "domo_instance = \"domo-community\"\n",
    "fctest.test_eq(isinstance(DomoAuth(domo_instance=domo_instance), DomoAuth), True)\n",
    "\n",
    "fctest.test_eq(\n",
    "    isinstance(\n",
    "        DomoFullAuth(\n",
    "            domo_instance=domo_instance,\n",
    "            domo_password=os.environ[\"DOJO_PASSWORD\"],\n",
    "            domo_username=os.environ[\"DOMO_USERNAME\"],\n",
    "        ),\n",
    "        DomoFullAuth,\n",
    "    ),\n",
    "    True,\n",
    ")"
   ]
  },
  {
   "cell_type": "code",
   "execution_count": 13,
   "metadata": {},
   "outputs": [],
   "source": [
    "# |export\n",
    "def test_is_full_auth(\n",
    "    auth, function_name=None, num_stacks_to_drop=1  # pass q for route pass 2 for class\n",
    "):\n",
    "\n",
    "    tb = lg.get_traceback(num_stacks_to_drop=num_stacks_to_drop)\n",
    "\n",
    "    function_name = function_name or tb.function_name\n",
    "\n",
    "    if auth.__class__.__name__ != \"DomoFullAuth\":\n",
    "        raise InvalidAuthTypeError(\n",
    "            function_name=function_name,\n",
    "            domo_instance=auth.domo_instance,\n",
    "            required_auth_type=DomoFullAuth,\n",
    "        )"
   ]
  },
  {
   "attachments": {},
   "cell_type": "markdown",
   "metadata": {},
   "source": [
    "## DomoTokenAuth\n"
   ]
  },
  {
   "cell_type": "code",
   "execution_count": 14,
   "metadata": {},
   "outputs": [],
   "source": [
    "# | exporti\n",
    "@dataclass\n",
    "class _DomoTokenAuth_Required:\n",
    "    \"\"\"mix requied parameters for DomoFullAuth\"\"\"\n",
    "\n",
    "    domo_access_token: str = field(repr=False)\n",
    "\n",
    "    async def who_am_i(\n",
    "        self, debug_api: bool = False, session: httpx.AsyncClient = None\n",
    "    ):\n",
    "\n",
    "        auth_header = self.auth_header or await self.generate_auth_header()\n",
    "\n",
    "        res = await auth_routes.who_am_i(\n",
    "            domo_instance=self.domo_instance,\n",
    "            auth_header=auth_header,\n",
    "            parent_class=self.__class__.__name__,\n",
    "        )\n",
    "\n",
    "        return res"
   ]
  },
  {
   "cell_type": "code",
   "execution_count": 15,
   "metadata": {},
   "outputs": [],
   "source": [
    "# | export\n",
    "@dataclass\n",
    "class DomoTokenAuth(_DomoAuth_Optional, _DomoTokenAuth_Required, _DomoAuth_Required):\n",
    "    \"\"\"\n",
    "    use for access_token authentication.\n",
    "    Tokens are generated in domo > admin > access token\n",
    "    Necessary in cases where direct sign on is not permitted\n",
    "    \"\"\"\n",
    "\n",
    "    async def _generate_auth_header(self) -> dict:\n",
    "        \"\"\"returns auth_header for validating API requests using access_tokens / developer tokens\"\"\"\n",
    "\n",
    "        \"is this being executed as part of get_auth_token chain? if yes, suppress not validated error\"\n",
    "        traceback_details = lg.get_traceback(num_stacks_to_drop=0)\n",
    "        function_name = traceback_details.function_name\n",
    "\n",
    "        if len(traceback_details.traceback_stack) >= 3:\n",
    "            function_name = traceback_details.traceback_stack[-3][2]\n",
    "        \n",
    "        if not function_name == \"get_auth_token\" and not self.token:\n",
    "            print(\n",
    "                \"warning this token has not been validated by who_am_i, run get_auth_token first\"\n",
    "            )\n",
    "\n",
    "        self.auth_header = {\n",
    "            \"x-domo-developer-token\": self.token or self.domo_access_token\n",
    "        }\n",
    "        return self.auth_header\n",
    "    \n",
    "    async def generate_auth_header(self):\n",
    "        return await self._generate_auth_header()\n",
    "\n",
    "    async def get_auth_token(\n",
    "        self, session: Optional[httpx.AsyncClient] = None, debug_api: bool = False\n",
    "    ) -> str:\n",
    "        \"\"\"\n",
    "        updates internal attributes\n",
    "        having an access_token assumes pre-authenticaiton\n",
    "        \"\"\"\n",
    "\n",
    "        res = await self.who_am_i()\n",
    "\n",
    "        assert res.is_success\n",
    "\n",
    "        self.is_valid_token = True\n",
    "\n",
    "        self.token = self.domo_access_token\n",
    "        self.user_id = res.response.get(\"id\")\n",
    "\n",
    "        self.auth_header = await self.generate_auth_header()\n",
    "\n",
    "        if not self.token_name:\n",
    "            self.token_name = \"token_auth\"\n",
    "\n",
    "        return self.token"
   ]
  },
  {
   "attachments": {},
   "cell_type": "markdown",
   "metadata": {},
   "source": [
    "#### Sample implementation of DomoTokenAuth\n"
   ]
  },
  {
   "cell_type": "code",
   "execution_count": 16,
   "metadata": {},
   "outputs": [
    {
     "name": "stdout",
     "output_type": "stream",
     "text": [
      "warning this token has not been validated by who_am_i, run get_auth_token first\n"
     ]
    },
    {
     "name": "stdout",
     "output_type": "stream",
     "text": [
      "🛑  InvalidCredentialsError 🛑 - function: DomoTokenAuth.who_am_i || status 401 || Unauthorized at domo-community\n"
     ]
    }
   ],
   "source": [
    "try:\n",
    "    domo_auth = DomoTokenAuth(\n",
    "        domo_instance=\"domo-community\", domo_access_token=\"fake password\"\n",
    "    )\n",
    "    token = await domo_auth.get_auth_token()\n",
    "\n",
    "except InvalidCredentialsError as e:\n",
    "    print(e)"
   ]
  },
  {
   "cell_type": "code",
   "execution_count": 17,
   "metadata": {},
   "outputs": [
    {
     "name": "stdout",
     "output_type": "stream",
     "text": [
      "warning this token has not been validated by who_am_i, run get_auth_token first\n"
     ]
    },
    {
     "data": {
      "text/plain": [
       "{'x-domo-developer-token': '83ece44f1451d4b581e1191f98cd411164f0b5b6ad2755b3'}"
      ]
     },
     "execution_count": 17,
     "metadata": {},
     "output_type": "execute_result"
    }
   ],
   "source": [
    "domo_auth = DomoTokenAuth(\n",
    "    domo_instance=\"domo-community\",\n",
    "    domo_access_token=os.environ[\"DOMO_DOJO_ACCESS_TOKEN\"],\n",
    ")\n",
    "\n",
    "await domo_auth.get_auth_token()\n",
    "await domo_auth.who_am_i()\n",
    "\n",
    "await domo_auth.generate_auth_header()"
   ]
  },
  {
   "attachments": {},
   "cell_type": "markdown",
   "metadata": {},
   "source": [
    "## DomoDeveloperAuth\n"
   ]
  },
  {
   "cell_type": "code",
   "execution_count": 18,
   "metadata": {},
   "outputs": [],
   "source": [
    "# | exporti\n",
    "@dataclass\n",
    "class _DomoDeveloperAuth_Required:\n",
    "    \"\"\"mix requied parameters for DomoDeveloperAuth\"\"\"\n",
    "\n",
    "    domo_client_id: str\n",
    "    domo_client_secret: str = field(repr=False)\n",
    "\n",
    "\n",
    "@dataclass\n",
    "class _DomoDeveloperAuth_Optional:\n",
    "    \"\"\"mix optional parameters for DomoDeveloperAuth\"\"\"\n",
    "\n",
    "    domo_instance: str = None  # because api.domo.com apis don't require domo_instance"
   ]
  },
  {
   "cell_type": "code",
   "execution_count": 19,
   "metadata": {},
   "outputs": [],
   "source": [
    "# | export\n",
    "@dataclass\n",
    "# (init=False)\n",
    "class DomoDeveloperAuth(\n",
    "    _DomoDeveloperAuth_Optional, _DomoAuth_Optional, _DomoDeveloperAuth_Required\n",
    "):\n",
    "    \"\"\"use for full authentication token\"\"\"\n",
    "\n",
    "    # def __init__(self, domo_client_id: str, domo_client_secret: str):\n",
    "    #     self.domo_client_id = domo_client_id\n",
    "    #     self.domo_client_secret = domo_client_secret\n",
    "    #     self.domo_instance = \"\"\n",
    "\n",
    "    async def generate_auth_header(self) -> dict:\n",
    "        token = self.token or await self.get_auth_token()\n",
    "\n",
    "        self.auth_header = {\"Authorization\": \"bearer \" + token}\n",
    "        return self.auth_header\n",
    "\n",
    "    async def get_auth_token(\n",
    "        self, session: Optional[httpx.AsyncClient] = None, debug_api: bool = False\n",
    "    ) -> str:\n",
    "\n",
    "        res = await auth_routes.get_developer_auth(\n",
    "            domo_client_id=self.domo_client_id,\n",
    "            domo_client_secret=self.domo_client_secret,\n",
    "            session=session,\n",
    "            debug_api=debug_api,\n",
    "            parent_class=self.__class__.__name__,\n",
    "        )\n",
    "        assert res.is_success\n",
    "\n",
    "        self.is_valid_token = True\n",
    "\n",
    "        self.token = str(res.response.get(\"access_token\"))\n",
    "        self.user_id = res.response.get(\"userId\")\n",
    "        self.domo_instance = res.response.get(\"domain\")\n",
    "        self.set_manual_login()\n",
    "\n",
    "        self.auth_header = await self.generate_auth_header()\n",
    "\n",
    "        self.token_name = self.token_name or \"developer_auth\"\n",
    "\n",
    "        return self.token"
   ]
  },
  {
   "attachments": {},
   "cell_type": "markdown",
   "metadata": {},
   "source": [
    "#### Sample implementations of DomoDeveloperAuth\n"
   ]
  },
  {
   "cell_type": "code",
   "execution_count": 20,
   "metadata": {},
   "outputs": [
    {
     "name": "stdout",
     "output_type": "stream",
     "text": [
      "🛑  InvalidCredentialsError 🛑 - function: get_developer_auth || status 401 || Unauthorized\n"
     ]
    }
   ],
   "source": [
    "domo_client_id = \"test_client\"\n",
    "domo_client_secret = \"test_secret\"\n",
    "\n",
    "try:\n",
    "    domo_auth = DomoDeveloperAuth(\n",
    "        domo_client_id=domo_client_id, domo_client_secret=domo_client_secret\n",
    "    )\n",
    "    await domo_auth.get_auth_token()\n",
    "except InvalidCredentialsError as e:\n",
    "    print(e)"
   ]
  },
  {
   "cell_type": "markdown",
   "metadata": {},
   "source": [
    "# DomoJupyterAuth"
   ]
  },
  {
   "cell_type": "code",
   "execution_count": 21,
   "metadata": {},
   "outputs": [],
   "source": [
    "# | exporti\n",
    "\n",
    "\n",
    "@dataclass\n",
    "class _DomoJupyter_Optional:\n",
    "    def __post_init__(self):\n",
    "\n",
    "        self.jupyter_token = self.jupyter_token or input(\n",
    "            \"jupyter token: # retrieve this by monitoring domo jupyter network traffic.  it is the Authorization header\"\n",
    "        )\n",
    "        self.service_location = self.service_location or input(\n",
    "            \"service_location:  # retrieve from domo jupyter env\"\n",
    "        )\n",
    "        self.service_prefix = self.service_prefix or input(\n",
    "            \"service prefix: # retrieve from domo jupyter env\"\n",
    "        )\n",
    "\n",
    "        self._test_prereq()\n",
    "        self.set_manual_login()\n",
    "\n",
    "\n",
    "\n",
    "@dataclass\n",
    "class _DomoJupyter_Required:\n",
    "    jupyter_token: str\n",
    "    service_location: str\n",
    "    service_prefix: str\n",
    "\n",
    "    def get_jupyter_token_flow(self):\n",
    "        \"\"\"stub\"\"\"\n",
    "        print(\"hello world i am a jupyter_token\")\n",
    "\n",
    "    def _test_prereq(self):\n",
    "        if not self.jupyter_token:\n",
    "            raise Exception(\"DomoJupyterAuth objects must have a jupyter_token\")\n",
    "\n",
    "        if not self.service_location:\n",
    "            raise Exception(\"DomoJupyterAuth objects must have a service_location\")\n",
    "\n",
    "        if not self.service_prefix:\n",
    "            raise Exception(\"DomoJupyterAuth objects must have a service_prefix\")\n",
    "\n",
    "        if (\n",
    "            not self.jupyter_token\n",
    "            or not self.service_location\n",
    "            or not self.service_prefix\n",
    "        ):\n",
    "            raise Exception(\n",
    "                \"DomoJupyterAuth objects must have jupyter_token, service_location and service_prefix\"\n",
    "            )"
   ]
  },
  {
   "cell_type": "code",
   "execution_count": 22,
   "metadata": {},
   "outputs": [],
   "source": [
    "# | export\n",
    "@dataclass\n",
    "class DomoJupyterAuth(_DomoJupyter_Optional, _DomoJupyter_Required):\n",
    "    \"\"\"base class\"\"\""
   ]
  },
  {
   "cell_type": "markdown",
   "metadata": {},
   "source": [
    "## define DomoJupyterFullAuth"
   ]
  },
  {
   "cell_type": "code",
   "execution_count": 23,
   "metadata": {},
   "outputs": [],
   "source": [
    "# | export\n",
    "\n",
    "\n",
    "@dataclass\n",
    "class DomoJupyterFullAuth(_DomoJupyter_Optional, DomoFullAuth, _DomoJupyter_Required):\n",
    "\n",
    "    @classmethod\n",
    "    def convert_auth(\n",
    "        cls, auth: DomoFullAuth, jupyter_token, service_location, service_prefix\n",
    "    ):\n",
    "        \"\"\"converts DomoFullAuth to DomoJupyterFullAuth\n",
    "        i.e. adds DomoJupyter specific auth fields\n",
    "        eventually can add DomoJupyter specific auth flow for generating auth token\n",
    "        \"\"\"\n",
    "        c= cls(\n",
    "            domo_instance=auth.domo_instance,\n",
    "            domo_username=auth.domo_username,\n",
    "            domo_password=auth.domo_password,\n",
    "            jupyter_token=jupyter_token,\n",
    "            service_location=service_location,\n",
    "            service_prefix=service_prefix,\n",
    "        )\n",
    "\n",
    "        return c\n",
    "\n",
    "\n",
    "    async def generate_auth_header(self, token: str = None) -> dict:\n",
    "        await self._generate_auth_header(token)\n",
    "        \n",
    "        self.auth_header.update({\n",
    "            \"authorization\": f\"Token {self.jupyter_token}\",\n",
    "        })\n",
    "\n",
    "        return self.auth_header"
   ]
  },
  {
   "cell_type": "markdown",
   "metadata": {},
   "source": [
    "#### sample implementation of convert_auth"
   ]
  },
  {
   "cell_type": "code",
   "execution_count": 24,
   "metadata": {},
   "outputs": [],
   "source": [
    "import os\n",
    "\n",
    "domo_instance = \"domo-community\"\n",
    "\n",
    "full_auth = DomoFullAuth(\n",
    "    domo_instance=domo_instance,\n",
    "    domo_password=os.environ[\"DOJO_PASSWORD\"],\n",
    "    domo_username=os.environ[\"DOMO_USERNAME\"],\n",
    ")\n",
    "\n",
    "dj_auth = DomoJupyterFullAuth.convert_auth(\n",
    "    auth=full_auth,\n",
    "    jupyter_token=\"abc\",\n",
    "    service_location=\"service_location_123\",\n",
    "    service_prefix=\"service_prefix_32a\",\n",
    ")\n",
    "\n",
    "# await dj_auth.generate_auth_header()"
   ]
  },
  {
   "cell_type": "markdown",
   "metadata": {},
   "source": [
    "## define DomoJupyterTokenAuth"
   ]
  },
  {
   "cell_type": "code",
   "execution_count": 25,
   "metadata": {},
   "outputs": [],
   "source": [
    "# | export\n",
    "\n",
    "\n",
    "@dataclass\n",
    "class DomoJupyterTokenAuth(_DomoJupyter_Optional, DomoTokenAuth, _DomoJupyter_Required):\n",
    "    @classmethod\n",
    "    def convert_auth(\n",
    "        cls, auth: DomoTokenAuth, jupyter_token, service_location, service_prefix\n",
    "    ):\n",
    "        \"\"\"converts DomoTokenAuth to DomoJupyterTokenAuth\n",
    "        i.e. adds DomoJupyter specific auth fields\n",
    "        eventually can add DomoJupyter specific auth flow for generating auth token\n",
    "        \"\"\"\n",
    "        return cls(\n",
    "            domo_instance=auth.domo_instance,\n",
    "            domo_access_token=auth.domo_access_token,\n",
    "            jupyter_token=jupyter_token,\n",
    "            service_location=service_location,\n",
    "            service_prefix=service_prefix,\n",
    "        )\n",
    "    \n",
    "    async def generate_auth_header(self) -> dict:\n",
    "        await self._generate_auth_header()\n",
    "        \n",
    "        self.auth_header.update({\n",
    "            \"authorization\": f\"Token {self.jupyter_token}\",\n",
    "        })\n",
    "\n",
    "        return self.auth_header"
   ]
  },
  {
   "cell_type": "markdown",
   "metadata": {},
   "source": [
    "#### sample implementation of convert "
   ]
  },
  {
   "cell_type": "code",
   "execution_count": 26,
   "metadata": {},
   "outputs": [],
   "source": [
    "import os\n",
    "\n",
    "token_auth = DomoTokenAuth(\n",
    "    domo_instance=\"domo-community\",\n",
    "    domo_access_token=os.environ[\"DOMO_DOJO_ACCESS_TOKEN\"],\n",
    ")\n",
    "\n",
    "dj_auth = DomoJupyterTokenAuth.convert_auth(\n",
    "    auth=token_auth,\n",
    "    jupyter_token=\"abc\",\n",
    "    service_location=\"service_location_123\",\n",
    "    service_prefix=\"service_prefix_32a\",\n",
    ")\n",
    "\n",
    "# await dj_auth.generate_auth_header()"
   ]
  },
  {
   "cell_type": "markdown",
   "metadata": {},
   "source": [
    "## test is jupyter auth"
   ]
  },
  {
   "cell_type": "code",
   "execution_count": 27,
   "metadata": {},
   "outputs": [],
   "source": [
    "# | export\n",
    "\n",
    "\n",
    "def test_is_jupyter_auth(\n",
    "    auth: DomoJupyterAuth,\n",
    "    function_name=None,\n",
    "    required_auth_type_ls=[DomoJupyterFullAuth, DomoJupyterTokenAuth],\n",
    "):\n",
    "\n",
    "    tb = lg.get_traceback()\n",
    "\n",
    "    if auth.__class__.__name__ not in [\n",
    "        auth_type.__name__ for auth_type in required_auth_type_ls\n",
    "    ]:\n",
    "        raise InvalidAuthTypeError(\n",
    "            function_name=tb.function_name,\n",
    "            domo_instance=auth.domo_instance,\n",
    "            required_auth_type_ls=required_auth_type_ls,\n",
    "        )"
   ]
  },
  {
   "cell_type": "code",
   "execution_count": 28,
   "metadata": {},
   "outputs": [],
   "source": [
    "# | hide\n",
    "import nbdev\n",
    "\n",
    "nbdev.nbdev_export()"
   ]
  }
 ],
 "metadata": {
  "kernelspec": {
   "display_name": "python3",
   "language": "python",
   "name": "python3"
  },
  "language_info": {
   "codemirror_mode": {
    "name": "ipython",
    "version": 3
   },
   "file_extension": ".py",
   "mimetype": "text/x-python",
   "name": "python",
   "nbconvert_exporter": "python",
   "pygments_lexer": "ipython3",
   "version": "3.10.12"
  }
 },
 "nbformat": 4,
 "nbformat_minor": 4
}
