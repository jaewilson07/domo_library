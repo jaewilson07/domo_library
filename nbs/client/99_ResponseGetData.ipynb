{
 "cells": [
  {
   "attachments": {},
   "cell_type": "markdown",
   "metadata": {},
   "source": [
    "# ResponseGetData\n",
    "\n",
    "> preferred response class for all API requests\n"
   ]
  },
  {
   "cell_type": "code",
   "execution_count": null,
   "metadata": {},
   "outputs": [],
   "source": [
    "# | default_exp client.ResponseGetData\n"
   ]
  },
  {
   "cell_type": "code",
   "execution_count": null,
   "metadata": {},
   "outputs": [],
   "source": [
    "# | exporti\n",
    "\n",
    "import re\n",
    "from bs4 import BeautifulSoup\n",
    "\n",
    "from dataclasses import dataclass, field\n",
    "from typing import Optional\n",
    "\n",
    "import orjson\n",
    "\n",
    "import asyncio\n",
    "import requests\n",
    "import httpx\n",
    "import aiohttp\n",
    "\n",
    "from nbdev.showdoc import patch_to\n",
    "\n",
    "import domolibrary.client.DomoError as de\n",
    "import domolibrary.client.Logger as dl"
   ]
  },
  {
   "cell_type": "code",
   "execution_count": null,
   "metadata": {},
   "outputs": [],
   "source": [
    "# | hide\n",
    "from nbdev.showdoc import *\n",
    "from fastcore.test import test_eq\n"
   ]
  },
  {
   "attachments": {},
   "cell_type": "markdown",
   "metadata": {},
   "source": [
    "# Response Error Classes\n"
   ]
  },
  {
   "cell_type": "code",
   "execution_count": null,
   "metadata": {},
   "outputs": [],
   "source": [
    "# | export\n",
    "class BlockedByVPN(de.DomoError):\n",
    "    def __init__(\n",
    "        self,\n",
    "        domo_instance: Optional[str] = None,\n",
    "        ip_address: str = None,\n",
    "        function_name: str = \"get_data\",\n",
    "    ):\n",
    "        ip_address_str = f\"from {ip_address}\" if ip_address else \"\"\n",
    "        message = f\"request blocked {ip_address_str} - check VPN settings\"\n",
    "\n",
    "        super().__init__(\n",
    "            message=message, domo_instance=domo_instance, function_name=function_name\n",
    "        )"
   ]
  },
  {
   "cell_type": "code",
   "execution_count": null,
   "metadata": {},
   "outputs": [],
   "source": [
    "# | export\n",
    "API_Response = any\n",
    "\n",
    "\n",
    "@dataclass\n",
    "class ResponseGetData:\n",
    "    \"\"\"preferred response class for all API Requests\"\"\"\n",
    "\n",
    "    status: int\n",
    "    response: API_Response\n",
    "    is_success: bool\n",
    "    auth: dict = field(repr=False, default=None)\n",
    "    parent_class: str = None\n",
    "    traceback_details: any = field(default=None, repr = False)\n",
    "\n",
    "    def set_response(self, response):\n",
    "        self.response = response"
   ]
  },
  {
   "cell_type": "code",
   "execution_count": null,
   "metadata": {},
   "outputs": [
    {
     "data": {
      "text/plain": [
       "ResponseGetData(status=200, response='test', is_success=True, parent_class=None)"
      ]
     },
     "execution_count": null,
     "metadata": {},
     "output_type": "execute_result"
    }
   ],
   "source": [
    "rgd = ResponseGetData(status=200, response=\"test\", is_success=True)\n",
    "rgd\n"
   ]
  },
  {
   "cell_type": "code",
   "execution_count": null,
   "metadata": {},
   "outputs": [],
   "source": [
    "# | hide\n",
    "test_eq(rgd.is_success, True)\n"
   ]
  },
  {
   "attachments": {},
   "cell_type": "markdown",
   "metadata": {},
   "source": [
    "# Classmethods from Response objects by library\n",
    "\n",
    "This code base supports two API request libraries, `requests.request` (synchronous) and `aiohttp.ClientRequest` (asynchronous) this can be extended as new libraries emerge with different performance characteristics.\n"
   ]
  },
  {
   "attachments": {},
   "cell_type": "markdown",
   "metadata": {},
   "source": [
    "## Requests Library\n"
   ]
  },
  {
   "cell_type": "code",
   "execution_count": null,
   "metadata": {},
   "outputs": [],
   "source": [
    "# | export\n",
    "@patch_to(ResponseGetData, cls_method=True)\n",
    "def _from_requests_response(\n",
    "    cls, res: requests.Response  # requests response object\n",
    ") -> ResponseGetData:\n",
    "    \"\"\"returns ResponseGetData\"\"\"\n",
    "\n",
    "    # JSON responses\n",
    "    if res.ok and \"application/json\" in res.headers.get(\"Content-Type\", {}):\n",
    "        return cls(status=res.status_code, response=res.json(), is_success=True)\n",
    "\n",
    "    # default text responses\n",
    "    elif res.ok:\n",
    "        return cls(status=res.status_code, response=res.text, is_success=True)\n",
    "\n",
    "    # errors\n",
    "    return cls(status=res.status_code, response=res.reason, is_success=False)\n"
   ]
  },
  {
   "cell_type": "code",
   "execution_count": null,
   "metadata": {},
   "outputs": [
    {
     "data": {
      "text/markdown": [
       "---\n",
       "\n",
       "[source](https://github.com/jaewilson07/domo_library/blob/main/domolibrary/client/ResponseGetData.py#L61){target=\"_blank\" style=\"float:right; font-size:smaller\"}\n",
       "\n",
       "### ResponseGetData._from_requests_response\n",
       "\n",
       ">      ResponseGetData._from_requests_response (res:requests.models.Response)\n",
       "\n",
       "returns ResponseGetData\n",
       "\n",
       "|    | **Type** | **Details** |\n",
       "| -- | -------- | ----------- |\n",
       "| res | Response | requests response object |\n",
       "| **Returns** | **ResponseGetData** |  |"
      ],
      "text/plain": [
       "---\n",
       "\n",
       "[source](https://github.com/jaewilson07/domo_library/blob/main/domolibrary/client/ResponseGetData.py#L61){target=\"_blank\" style=\"float:right; font-size:smaller\"}\n",
       "\n",
       "### ResponseGetData._from_requests_response\n",
       "\n",
       ">      ResponseGetData._from_requests_response (res:requests.models.Response)\n",
       "\n",
       "returns ResponseGetData\n",
       "\n",
       "|    | **Type** | **Details** |\n",
       "| -- | -------- | ----------- |\n",
       "| res | Response | requests response object |\n",
       "| **Returns** | **ResponseGetData** |  |"
      ]
     },
     "execution_count": null,
     "metadata": {},
     "output_type": "execute_result"
    }
   ],
   "source": [
    "show_doc(ResponseGetData._from_requests_response)"
   ]
  },
  {
   "cell_type": "code",
   "execution_count": null,
   "metadata": {},
   "outputs": [
    {
     "name": "stdout",
     "output_type": "stream",
     "text": [
      "200\n"
     ]
    },
    {
     "data": {
      "text/plain": [
       "dict_keys(['status', 'response', 'is_success', 'auth', 'parent_class', 'traceback_details'])"
      ]
     },
     "execution_count": null,
     "metadata": {},
     "output_type": "execute_result"
    }
   ],
   "source": [
    "# test _from_requests_response returns ResponseGetData class\n",
    "import os\n",
    "import requests\n",
    "\n",
    "url = f\"https://domo-community.domo.com/api/content/v2/authentication\"\n",
    "\n",
    "tokenHeaders = {\"Content-Type\": \"application/json\"}\n",
    "\n",
    "body = {\n",
    "    \"method\": \"password\",\n",
    "    \"emailAddress\": \"jae@onyxreporting.com\",\n",
    "    \"password\": os.environ[\"DOJO_PASSWORD\"],\n",
    "}\n",
    "\n",
    "res = requests.request(method=\"POST\", url=url, json=body, headers=tokenHeaders)\n",
    "\n",
    "print(res.status_code)\n",
    "\n",
    "test_res = ResponseGetData._from_requests_response(res)\n",
    "test_res.__dict__.keys()\n"
   ]
  },
  {
   "cell_type": "code",
   "execution_count": null,
   "metadata": {},
   "outputs": [],
   "source": [
    "# | hide\n",
    "test_eq(isinstance(test_res, ResponseGetData), True)\n"
   ]
  },
  {
   "attachments": {},
   "cell_type": "markdown",
   "metadata": {},
   "source": [
    "## HTTPX Library\n"
   ]
  },
  {
   "cell_type": "code",
   "execution_count": null,
   "metadata": {},
   "outputs": [],
   "source": [
    "# | export\n",
    "def find_ip(html, html_tag: str = \"p\"):\n",
    "    ip_address_regex = r\"(\\d{1,3}\\.\\d{1,3}\\.\\d{1,3}\\.\\d{1,3})\"\n",
    "    soup = BeautifulSoup(html, \"html.parser\")\n",
    "\n",
    "    return re.findall(ip_address_regex, str(soup.find(html_tag)))[0]"
   ]
  },
  {
   "cell_type": "code",
   "execution_count": null,
   "metadata": {},
   "outputs": [],
   "source": [
    "# | export\n",
    "@patch_to(ResponseGetData, cls_method=True)\n",
    "def _from_httpx_response(\n",
    "    cls,\n",
    "    res: requests.Response,  # requests response object\n",
    "    auth: Optional[any] = None,\n",
    "    parent_class : str = None,\n",
    "    traceback_details: dl.TracebackDetails = field(repr=False, default = None),\n",
    ") -> ResponseGetData:\n",
    "    \"\"\"returns ResponseGetData\"\"\"\n",
    "\n",
    "    # JSON responses\n",
    "    ok = True if res.status_code <= 399 and res.status_code >= 200 else False\n",
    "\n",
    "    if ok and \"<title>Domo - Blocked</title>\" in res.text:\n",
    "        ip_address = find_ip(res.text)\n",
    "\n",
    "        raise BlockedByVPN(auth.domo_instance, ip_address)\n",
    "\n",
    "    if ok and \"application/json\" in res.headers.get(\"Content-Type\", {}):\n",
    "        try:\n",
    "            return cls(\n",
    "                status=res.status_code,\n",
    "                response=res.json(),\n",
    "                is_success=True,\n",
    "                auth=auth,\n",
    "                traceback_details=traceback_details,\n",
    "                parent_class = parent_class\n",
    "            )\n",
    "\n",
    "        except Exception as e:\n",
    "            return cls(\n",
    "                status=res.status_code,\n",
    "                response=res.text,\n",
    "                is_success=True,\n",
    "                auth=auth,\n",
    "                traceback_details=traceback_details,\n",
    "                parent_class = parent_class\n",
    "            )\n",
    "\n",
    "    # default text responses\n",
    "    elif ok:\n",
    "        return cls(\n",
    "            status=res.status_code,\n",
    "            response=res.text,\n",
    "            is_success=True,\n",
    "            auth=auth,\n",
    "            traceback_details=traceback_details,\n",
    "            parent_class=parent_class\n",
    "        )\n",
    "\n",
    "    # errors\n",
    "    return cls(\n",
    "        status=res.status_code,\n",
    "        response=res.reason_phrase,\n",
    "        is_success=False,\n",
    "        auth=auth,\n",
    "        traceback_details=traceback_details,\n",
    "        parent_class = parent_class\n",
    "    )"
   ]
  },
  {
   "attachments": {},
   "cell_type": "markdown",
   "metadata": {},
   "source": [
    "## Asyncio Response Handling\n"
   ]
  },
  {
   "cell_type": "code",
   "execution_count": null,
   "metadata": {},
   "outputs": [],
   "source": [
    "# | export\n",
    "STREAM_FILE_PATH = \"__large-file.json\"\n",
    "\n",
    "\n",
    "async def _write_stream(\n",
    "    res: httpx.Response, file_name: str = STREAM_FILE_PATH, stream_chunks=10\n",
    "):\n",
    "    print(type(res), type(res.content), stream_chunks)\n",
    "\n",
    "    index = 0\n",
    "    with open(file_name, \"wb\") as fd:\n",
    "        async for chunk in res.content.iter_chunked(1024):\n",
    "            index += 1\n",
    "            print(f\"writing chunk - {index}\")\n",
    "            fd.write(chunk)\n",
    "\n",
    "            print(res.content.at_eof())\n",
    "\n",
    "    print(\"done writing stream\")\n",
    "\n",
    "    return None\n",
    "\n",
    "\n",
    "async def _read_stream(file_name: str):\n",
    "    with open(file_name, \"rb\") as f:\n",
    "        return f.read()"
   ]
  },
  {
   "cell_type": "code",
   "execution_count": null,
   "metadata": {},
   "outputs": [],
   "source": [
    "# | export\n",
    "@patch_to(ResponseGetData, cls_method=True)\n",
    "async def _from_aiohttp_response(\n",
    "    cls: ResponseGetData,\n",
    "    res: aiohttp.ClientResponse,  # requests response object\n",
    "    auth: Optional[any] = None,\n",
    "    process_stream: bool = False,\n",
    "    stream_chunks: int = 10,\n",
    "    debug_api: bool = False,\n",
    "    response_file_name: str = None,\n",
    "    traceback_details: dl.TracebackDetails = None,\n",
    ") -> ResponseGetData:\n",
    "    \"\"\"async method returns ResponseGetData\"\"\"\n",
    "    if debug_api:\n",
    "        print(f\"ResponseGetData: res.ok = {res.ok} , res.status = {res.status}\")\n",
    "\n",
    "    try:\n",
    "        data = None\n",
    "\n",
    "        if process_stream:\n",
    "            await _write_stream(res=res, stream_chunks=stream_chunks)\n",
    "            data = await _read_stream(response_file_name)\n",
    "\n",
    "        else:\n",
    "            data = await res.text()\n",
    "\n",
    "        if debug_api:\n",
    "            print(\"converting to text complete\")\n",
    "\n",
    "    except asyncio.TimeoutError as e:\n",
    "        print(f\"ResponseGetDataError: {str(e)} , trying content.read\")\n",
    "\n",
    "        data = await res.content.read()\n",
    "\n",
    "    if res.ok and \"application/json\" in res.headers.get(\"Content-Type\", {}):\n",
    "        try:\n",
    "            return cls(\n",
    "                status=res.status,\n",
    "                response=orjson.loads(data),\n",
    "                is_success=True,\n",
    "                auth=auth,\n",
    "                traceback_details=traceback_details,\n",
    "            )\n",
    "        except Exception as e:\n",
    "            return cls(\n",
    "                status=res.status,\n",
    "                response=data,\n",
    "                is_success=True,\n",
    "                auth=auth,\n",
    "                traceback_details=traceback_details,\n",
    "            )\n",
    "\n",
    "    elif res.ok:\n",
    "        return cls(\n",
    "            status=res.status,\n",
    "            response=data,\n",
    "            is_success=True,\n",
    "            auth=auth,\n",
    "            traceback_details=traceback_details,\n",
    "        )\n",
    "\n",
    "    # response is error\n",
    "    else:\n",
    "        return cls(\n",
    "            status=res.status,\n",
    "            response=res.reason,\n",
    "            is_success=False,\n",
    "            auth=auth,\n",
    "            traceback_details=traceback_details,\n",
    "        )"
   ]
  },
  {
   "cell_type": "code",
   "execution_count": null,
   "metadata": {},
   "outputs": [
    {
     "data": {
      "text/markdown": [
       "---\n",
       "\n",
       "[source](https://github.com/jaewilson07/domo_library/blob/main/domolibrary/client/ResponseGetData.py#L175){target=\"_blank\" style=\"float:right; font-size:smaller\"}\n",
       "\n",
       "### ResponseGetData._from_aiohttp_response\n",
       "\n",
       ">      ResponseGetData._from_aiohttp_response\n",
       ">                                              (res:aiohttp.client_reqrep.Client\n",
       ">                                              Response, auth:Optional[<built-\n",
       ">                                              infunctionany>]=None,\n",
       ">                                              process_stream:bool=False,\n",
       ">                                              stream_chunks:int=10,\n",
       ">                                              debug_api:bool=False,\n",
       ">                                              response_file_name:str=None, trac\n",
       ">                                              eback_details:domolibrary.client.\n",
       ">                                              Logger.TracebackDetails=None)\n",
       "\n",
       "async method returns ResponseGetData"
      ],
      "text/plain": [
       "---\n",
       "\n",
       "[source](https://github.com/jaewilson07/domo_library/blob/main/domolibrary/client/ResponseGetData.py#L175){target=\"_blank\" style=\"float:right; font-size:smaller\"}\n",
       "\n",
       "### ResponseGetData._from_aiohttp_response\n",
       "\n",
       ">      ResponseGetData._from_aiohttp_response\n",
       ">                                              (res:aiohttp.client_reqrep.Client\n",
       ">                                              Response, auth:Optional[<built-\n",
       ">                                              infunctionany>]=None,\n",
       ">                                              process_stream:bool=False,\n",
       ">                                              stream_chunks:int=10,\n",
       ">                                              debug_api:bool=False,\n",
       ">                                              response_file_name:str=None, trac\n",
       ">                                              eback_details:domolibrary.client.\n",
       ">                                              Logger.TracebackDetails=None)\n",
       "\n",
       "async method returns ResponseGetData"
      ]
     },
     "execution_count": null,
     "metadata": {},
     "output_type": "execute_result"
    }
   ],
   "source": [
    "show_doc(ResponseGetData._from_aiohttp_response)\n"
   ]
  },
  {
   "cell_type": "markdown",
   "metadata": {},
   "source": [
    "#### sample implementation of RGD + trackeback\n"
   ]
  },
  {
   "cell_type": "code",
   "execution_count": null,
   "metadata": {},
   "outputs": [
    {
     "name": "stdout",
     "output_type": "stream",
     "text": [
      "200\n"
     ]
    },
    {
     "data": {
      "text/plain": [
       "{'function_trail': '<module> -> get_data',\n",
       " 'function_name': 'get_data',\n",
       " 'file_name': '/tmp/ipykernel_11666/705035651.py',\n",
       " 'parent_class': 'Foo',\n",
       " 'traceback_stack': [<FrameSummary file /tmp/ipykernel_11666/705035651.py, line 40 in <module>>,\n",
       "  <FrameSummary file /tmp/ipykernel_11666/705035651.py, line 26 in get_data>]}"
      ]
     },
     "execution_count": null,
     "metadata": {},
     "output_type": "execute_result"
    }
   ],
   "source": [
    "# test _from_aiohttp_response returns ResponseGetData class\n",
    "\n",
    "import os\n",
    "import requests\n",
    "\n",
    "\n",
    "class Foo:\n",
    "    def __init__(self):\n",
    "        pass\n",
    "\n",
    "    async def get_data(self):\n",
    "        url = f\"https://domo-community.domo.com/api/content/v2/authentication\"\n",
    "\n",
    "        body = {\n",
    "            \"method\": \"password\",\n",
    "            \"emailAddress\": \"jae@onyxreporting.com\",\n",
    "            \"password\": os.environ[\"DOJO_PASSWORD\"],\n",
    "        }\n",
    "\n",
    "        session = aiohttp.ClientSession()\n",
    "        res = await session.post(url=url, json=body)\n",
    "        await session.close()\n",
    "\n",
    "        print(res.status)\n",
    "\n",
    "        traceback_details = dl.get_traceback(\n",
    "            root_module=\"<module>\",\n",
    "            # drop entries from the top of stack to exclude the functions that retrieve the traceback\n",
    "            num_stacks_to_drop=0,\n",
    "            parent_class=self.__class__.__name__,\n",
    "        )\n",
    "\n",
    "        return await ResponseGetData._from_aiohttp_response(\n",
    "            res, traceback_details=traceback_details\n",
    "        )\n",
    "\n",
    "\n",
    "test_foo = Foo()\n",
    "\n",
    "res = await test_foo.get_data()\n",
    "\n",
    "res.traceback_details.__dict__"
   ]
  },
  {
   "cell_type": "code",
   "execution_count": null,
   "metadata": {},
   "outputs": [],
   "source": [
    "# | hide\n",
    "test_eq(isinstance(test_res, ResponseGetData), True)\n"
   ]
  },
  {
   "cell_type": "code",
   "execution_count": null,
   "metadata": {},
   "outputs": [],
   "source": [
    "# | export\n",
    "@patch_to(ResponseGetData, cls_method=True)\n",
    "async def _from_looper(\n",
    "    cls: ResponseGetData, res: ResponseGetData, array: list  # requests response object\n",
    ") -> ResponseGetData:\n",
    "    \"\"\"async method returns ResponseGetData\"\"\"\n",
    "\n",
    "    if res.is_success:\n",
    "        res.response = array\n",
    "        return res\n",
    "\n",
    "    # response is error\n",
    "    else:\n",
    "        return res"
   ]
  },
  {
   "cell_type": "code",
   "execution_count": null,
   "metadata": {},
   "outputs": [],
   "source": [
    "# | hide\n",
    "import nbdev\n",
    "\n",
    "nbdev.nbdev_export()\n"
   ]
  }
 ],
 "metadata": {
  "kernelspec": {
   "display_name": "python3",
   "language": "python",
   "name": "python3"
  }
 },
 "nbformat": 4,
 "nbformat_minor": 4
}
