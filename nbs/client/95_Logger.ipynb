{
    "cells": [
        {
            "attachments": {},
            "cell_type": "markdown",
            "metadata": {},
            "source": [
                "# Logger\n",
                "\n",
                "> A basic logging class\n"
            ]
        },
        {
            "cell_type": "code",
            "execution_count": null,
            "metadata": {},
            "outputs": [],
            "source": [
                "# | default_exp client.Logger"
            ]
        },
        {
            "cell_type": "code",
            "execution_count": null,
            "metadata": {},
            "outputs": [],
            "source": [
                "# | exporti\n",
                "import datetime as dt\n",
                "\n",
                "from typing import Optional, List\n",
                "from dataclasses import dataclass, field\n",
                "\n",
                "import traceback\n",
                "\n",
                "from nbdev.showdoc import patch_to\n"
            ]
        },
        {
            "cell_type": "code",
            "execution_count": null,
            "metadata": {},
            "outputs": [],
            "source": [
                "# | hide\n",
                "from nbdev.showdoc import show_doc\n",
                "from fastcore.test import test_eq"
            ]
        },
        {
            "cell_type": "markdown",
            "metadata": {},
            "source": [
                "# Traceback\n"
            ]
        },
        {
            "cell_type": "code",
            "execution_count": null,
            "metadata": {},
            "outputs": [],
            "source": [
                "# | export\n",
                "@dataclass\n",
                "class TracebackDetails:\n",
                "    \"\"\"result of _get_traceback_details function\"\"\"\n",
                "\n",
                "    function_name: str\n",
                "    file_name: str\n",
                "    function_trail: str\n",
                "\n",
                "    traceback_stack: [traceback.FrameSummary] = None\n",
                "    parent_class: str = None\n",
                "\n",
                "    def __init__(\n",
                "        self,\n",
                "        traceback_stack: [traceback.FrameSummary],\n",
                "        parent_class=None,  # pass ParentClass.__name__\n",
                "        debug_traceback: bool = False,\n",
                "    ):\n",
                "        self.function_trail = \" -> \".join([line[2]\n",
                "                                          for line in traceback_stack])\n",
                "\n",
                "        self.function_name = traceback_stack[-1][2]\n",
                "        self.file_name = traceback_stack[-1][0]\n",
                "        self.parent_class = parent_class\n",
                "        self.traceback_stack = traceback_stack\n",
                "\n",
                "\n",
                "def get_traceback(\n",
                "    root_module: str = \"<module>\",\n",
                "    # drop entries from the top of stack to exclude the functions that retrieve the traceback\n",
                "    num_stacks_to_drop=0,\n",
                "    parent_class: str = None,\n",
                "    debug_traceback: bool = False,\n",
                ") -> TracebackDetails:  # returns a filtered list of FrameSummaries from traceback\n",
                "    \"\"\"method that retrieves traceback\"\"\"\n",
                "\n",
                "    import traceback\n",
                "\n",
                "    traceback_stack = traceback.extract_stack()\n",
                "\n",
                "    # find the last module index\n",
                "    module_index = 0\n",
                "\n",
                "    for index, tb_line in enumerate(traceback_stack):\n",
                "        function_name = tb_line[2]\n",
                "\n",
                "        if function_name == root_module:\n",
                "            module_index = index\n",
                "\n",
                "    num_stacks_to_drop += 1  # adjust for init\n",
                "    \n",
                "    if module_index + num_stacks_to_drop >= len(traceback_stack)-1 :\n",
                "        print(\"adjusting num_stacks_to_drop, consider revising `get_traceback` call\")\n",
                "        print({\n",
                "            'stack_length': len(traceback_stack),\n",
                "            'module_index': module_index,\n",
                "            'num_stacks_to_drop_passed': num_stacks_to_drop\n",
                "        })\n",
                "        num_stacks_to_drop -= 1\n",
                "\n",
                "    filtered_traceback_stack = traceback_stack[module_index:-\n",
                "                                               num_stacks_to_drop]\n",
                "    \n",
                "    if debug_traceback:\n",
                "        print({'len orig stack': len(traceback_stack),\n",
                "            'len filtered stack': len(filtered_traceback_stack),\n",
                "            'root_module_name': root_module, 'root_module_index': module_index,\n",
                "            'stacks_to_drop': num_stacks_to_drop})\n",
                "\n",
                "    return TracebackDetails(\n",
                "        traceback_stack=filtered_traceback_stack,\n",
                "        parent_class=parent_class,\n",
                "        debug_traceback=debug_traceback,\n",
                "    )\n"
            ]
        },
        {
            "cell_type": "markdown",
            "metadata": {},
            "source": [
                "#### sample implementation of TracebackDetails\n"
            ]
        },
        {
            "cell_type": "code",
            "execution_count": null,
            "metadata": {},
            "outputs": [
                {
                    "name": "stdout",
                    "output_type": "stream",
                    "text": [
                        "{'len orig stack': 24, 'len filtered stack': 2, 'root_module_name': '<module>', 'root_module_index': 21, 'stacks_to_drop': 1}\n"
                    ]
                },
                {
                    "data": {
                        "text/plain": [
                            "{'function_trail': '<module> -> test_get_traceback_details',\n",
                            " 'function_name': 'test_get_traceback_details',\n",
                            " 'file_name': '/tmp/ipykernel_27360/1437577808.py',\n",
                            " 'parent_class': 'Foo',\n",
                            " 'traceback_stack': [<FrameSummary file /tmp/ipykernel_27360/1437577808.py, line 13 in <module>>,\n",
                            "  <FrameSummary file /tmp/ipykernel_27360/1437577808.py, line 6 in test_get_traceback_details>]}"
                        ]
                    },
                    "execution_count": null,
                    "metadata": {},
                    "output_type": "execute_result"
                }
            ],
            "source": [
                "class Foo:\n",
                "    def __init__(self):\n",
                "        pass\n",
                "\n",
                "    def test_get_traceback_details(self, debug_traceback: bool = False):\n",
                "        return get_traceback(parent_class=self.__class__.__name__,\n",
                "                             debug_traceback=True)\n",
                "\n",
                "\n",
                "# # print traceback details for test_get_details function\n",
                "test_foo = Foo()\n",
                "\n",
                "test_foo.test_get_traceback_details(\n",
                "    debug_traceback=True\n",
                ").__dict__\n"
            ]
        },
        {
            "cell_type": "code",
            "execution_count": null,
            "metadata": {},
            "outputs": [],
            "source": [
                "# | export\n",
                "\n",
                "\n",
                "class Logger:\n",
                "    \"\"\"log class with user customizeable output method\"\"\"\n",
                "\n",
                "    root_module: str\n",
                "    app_name: str\n",
                "\n",
                "    logs: List[dict]\n",
                "    breadcrumb: Optional[list]\n",
                "\n",
                "    entity_id: Optional[str]\n",
                "    domo_instance: Optional[str]\n",
                "    # function to call with write_logs method.\n",
                "    output_fn: Optional[callable] = None\n",
                "\n",
                "    def __init__(\n",
                "        self,\n",
                "        app_name: str,  # name of the app for grouping logs\n",
                "        root_module: Optional[str] = \"<module>\",  # root module for stack trace\n",
                "        output_fn: Optional[\n",
                "            callable\n",
                "        ] = None,  # function to call with write_logs method.\n",
                "        entity_id: Optional[str] = None,\n",
                "        domo_instance: Optional[str] = None,\n",
                "    ):\n",
                "        self.app_name = app_name\n",
                "        self.output_fn = output_fn\n",
                "        self.root_module = root_module\n",
                "        self.logs = []\n",
                "        self.breadcrumb = []\n",
                "        self.domo_instance = domo_instance\n",
                "        self.entity_id = entity_id\n",
                "\n",
                "    def _add_crumb(self, crumb):\n",
                "        if crumb not in self.breadcrumb:\n",
                "            self.breadcrumb.append(crumb)\n",
                "\n",
                "    def _remove_crumb(self, crumb):\n",
                "        if crumb in self.breadcrumb:\n",
                "            self.breadcrumb.remove(crumb)\n",
                "\n",
                "    def get_traceback(\n",
                "        self,\n",
                "        root_module: str = \"<module>\",\n",
                "        # drop entries from the top of stack to exclude the functions that retrieve the traceback\n",
                "        num_stacks_to_drop=0,\n",
                "        parent_class: str = None,\n",
                "    ):\n",
                "        parent_class = parent_class or self.__class__.__name__\n",
                "\n",
                "        num_stacks_to_drop += 1\n",
                "\n",
                "        return get_traceback(\n",
                "            root_module=root_module,\n",
                "            num_stacks_to_drop=num_stacks_to_drop,\n",
                "            parent_class=parent_class,\n",
                "        )"
            ]
        },
        {
            "cell_type": "code",
            "execution_count": null,
            "metadata": {},
            "outputs": [
                {
                    "data": {
                        "text/markdown": [
                            "---\n",
                            "\n",
                            "[source](https://github.com/jaewilson07/domo_library/blob/main/domolibrary/client/Logger.py#L134){target=\"_blank\" style=\"float:right; font-size:smaller\"}\n",
                            "\n",
                            "### Logger.get_traceback\n",
                            "\n",
                            ">      Logger.get_traceback (root_module:str='<module>', num_stacks_to_drop=0,\n",
                            ">                            parent_class:str=None)\n",
                            "\n",
                            "|    | **Type** | **Default** | **Details** |\n",
                            "| -- | -------- | ----------- | ----------- |\n",
                            "| root_module | str | <module> |  |\n",
                            "| num_stacks_to_drop | int | 0 | drop entries from the top of stack to exclude the functions that retrieve the traceback |\n",
                            "| parent_class | str | None |  |"
                        ],
                        "text/plain": [
                            "---\n",
                            "\n",
                            "[source](https://github.com/jaewilson07/domo_library/blob/main/domolibrary/client/Logger.py#L134){target=\"_blank\" style=\"float:right; font-size:smaller\"}\n",
                            "\n",
                            "### Logger.get_traceback\n",
                            "\n",
                            ">      Logger.get_traceback (root_module:str='<module>', num_stacks_to_drop=0,\n",
                            ">                            parent_class:str=None)\n",
                            "\n",
                            "|    | **Type** | **Default** | **Details** |\n",
                            "| -- | -------- | ----------- | ----------- |\n",
                            "| root_module | str | <module> |  |\n",
                            "| num_stacks_to_drop | int | 0 | drop entries from the top of stack to exclude the functions that retrieve the traceback |\n",
                            "| parent_class | str | None |  |"
                        ]
                    },
                    "execution_count": null,
                    "metadata": {},
                    "output_type": "execute_result"
                }
            ],
            "source": [
                "show_doc(Logger.get_traceback)"
            ]
        },
        {
            "attachments": {},
            "cell_type": "markdown",
            "metadata": {},
            "source": [
                "### sample implementations of stack tracing methods\n"
            ]
        },
        {
            "cell_type": "code",
            "execution_count": null,
            "metadata": {},
            "outputs": [
                {
                    "data": {
                        "text/plain": [
                            "{'function_trail': '<module> -> test_traceback',\n",
                            " 'function_name': 'test_traceback',\n",
                            " 'file_name': '/tmp/ipykernel_27360/2551220874.py',\n",
                            " 'parent_class': 'Logger',\n",
                            " 'traceback_stack': [<FrameSummary file /tmp/ipykernel_27360/2551220874.py, line 17 in <module>>,\n",
                            "  <FrameSummary file /tmp/ipykernel_27360/2551220874.py, line 12 in test_traceback>]}"
                        ]
                    },
                    "execution_count": null,
                    "metadata": {},
                    "output_type": "execute_result"
                }
            ],
            "source": [
                "# assert that the result of test_trace is of type FrameSummary\n",
                "log = Logger(app_name=\"test traceback\")\n",
                "\n",
                "\n",
                "class Foo:\n",
                "    logger: Logger\n",
                "\n",
                "    def __init__(self):\n",
                "        self.logger = Logger(app_name=self.__class__.__name__)\n",
                "\n",
                "    def test_traceback(self):\n",
                "        return self.logger.get_traceback().__dict__\n",
                "\n",
                "\n",
                "test_foo = Foo()\n",
                "\n",
                "test_foo.test_traceback()"
            ]
        },
        {
            "attachments": {},
            "cell_type": "markdown",
            "metadata": {},
            "source": [
                "## Logger logging methods\n"
            ]
        },
        {
            "cell_type": "code",
            "execution_count": null,
            "metadata": {},
            "outputs": [],
            "source": [
                "# | export\n",
                "@patch_to(Logger)\n",
                "def _add_log(\n",
                "    self: Logger,\n",
                "    message: str,\n",
                "    type_str: str,\n",
                "    debug_log: bool = False,\n",
                "    num_stacks_to_drop=3,\n",
                "    entity_id: Optional[str] = None,\n",
                "    domo_instance: Optional[str] = None,\n",
                ") -> dict:\n",
                "    \"\"\"internal method to append message to log\"\"\"\n",
                "\n",
                "    traceback_details = self.get_traceback(num_stacks_to_drop=num_stacks_to_drop)\n",
                "\n",
                "    if debug_log:\n",
                "        print(traceback_details.__dict__)\n",
                "\n",
                "    new_row = {\n",
                "        \"date_time\": dt.datetime.now(),\n",
                "        \"application\": self.app_name,\n",
                "        \"log_type\": type_str,\n",
                "        \"log_message\": message,\n",
                "        \"breadcrumb\": \"->\".join(self.breadcrumb),\n",
                "        \"domo_instance\": domo_instance or self.domo_instance,\n",
                "        \"entity_id\": entity_id or self.entity_id,\n",
                "    }\n",
                "\n",
                "    new_row.update(\n",
                "        {\n",
                "            \"function_name\": traceback_details.function_name,\n",
                "            \"file_name\": traceback_details.file_name,\n",
                "            \"function_trail\": traceback_details.function_trail,\n",
                "        }\n",
                "    )\n",
                "\n",
                "    if debug_log:\n",
                "        print(new_row)\n",
                "\n",
                "    self.logs.append(new_row)\n",
                "\n",
                "    return new_row\n",
                "\n",
                "\n",
                "@patch_to(Logger)\n",
                "def log_info(\n",
                "    self: Logger,\n",
                "    message,\n",
                "    entity_id: Optional[str] = None,\n",
                "    domo_instance: Optional[str] = None,\n",
                "    debug_log=False,\n",
                "    num_stacks_to_drop=3,\n",
                "):\n",
                "    \"\"\"log an informational message\"\"\"\n",
                "    return self._add_log(\n",
                "        message=message,\n",
                "        entity_id=entity_id,\n",
                "        domo_instance=domo_instance,\n",
                "        type_str=\"Info\",\n",
                "        num_stacks_to_drop=num_stacks_to_drop,\n",
                "        debug_log=debug_log,\n",
                "    )\n",
                "\n",
                "\n",
                "@patch_to(Logger)\n",
                "def log_error(\n",
                "    self: Logger,\n",
                "    message,\n",
                "    entity_id: Optional[str] = None,\n",
                "    domo_instance: Optional[str] = None,\n",
                "    debug_log=False,\n",
                "    num_stacks_to_drop=3,\n",
                "):\n",
                "    \"\"\"log an error message\"\"\"\n",
                "\n",
                "    return self._add_log(\n",
                "        message=message,\n",
                "        entity_id=entity_id,\n",
                "        domo_instance=domo_instance,\n",
                "        type_str=\"Error\",\n",
                "        num_stacks_to_drop=num_stacks_to_drop,\n",
                "        debug_log=debug_log,\n",
                "    )\n",
                "\n",
                "\n",
                "@patch_to(Logger)\n",
                "def log_warning(\n",
                "    self: Logger,\n",
                "    message,\n",
                "    entity_id: Optional[str] = None,\n",
                "    domo_instance: Optional[str] = None,\n",
                "    debug_log=False,\n",
                "    num_stacks_to_drop=3,\n",
                "):\n",
                "    \"\"\"log a warning message\"\"\"\n",
                "\n",
                "    return self._add_log(\n",
                "        message=message,\n",
                "        entity_id=entity_id,\n",
                "        domo_instance=domo_instance,\n",
                "        type_str=\"Warning\",\n",
                "        num_stacks_to_drop=num_stacks_to_drop,\n",
                "        debug_log=debug_log,\n",
                "    )"
            ]
        },
        {
            "cell_type": "code",
            "execution_count": null,
            "metadata": {},
            "outputs": [
                {
                    "name": "stdout",
                    "output_type": "stream",
                    "text": [
                        "adjusting num_stacks_to_drop, consider revising `get_traceback` call\n",
                        "{'stack_length': 27, 'module_index': 21, 'num_stacks_to_drop_passed': 5}\n"
                    ]
                },
                {
                    "data": {
                        "text/plain": [
                            "{'date_time': datetime.datetime(2023, 9, 28, 13, 19, 58, 332482),\n",
                            " 'application': 'test',\n",
                            " 'log_type': 'Info',\n",
                            " 'log_message': 'test the error returns type Info',\n",
                            " 'breadcrumb': '',\n",
                            " 'domo_instance': None,\n",
                            " 'entity_id': None,\n",
                            " 'function_name': 'test_log',\n",
                            " 'file_name': '/tmp/ipykernel_27360/2082841627.py',\n",
                            " 'function_trail': '<module> -> test_log'}"
                        ]
                    },
                    "execution_count": null,
                    "metadata": {},
                    "output_type": "execute_result"
                }
            ],
            "source": [
                "logger = Logger(\n",
                "    app_name=\"test\",\n",
                ")\n",
                "\n",
                "\n",
                "def test_log():\n",
                "    return logger.log_info(\"test the error returns type Info\", debug_log=False)\n",
                "\n",
                "\n",
                "test_log()"
            ]
        },
        {
            "attachments": {},
            "cell_type": "markdown",
            "metadata": {},
            "source": [
                "## Outputting Logs\n",
                "\n",
                "During Logger instantiation, users can pass a function, `output_fn` which will be called with the `Logger.output_log` method\n"
            ]
        },
        {
            "cell_type": "code",
            "execution_count": null,
            "metadata": {},
            "outputs": [],
            "source": [
                "# | export\n",
                "\n",
                "\n",
                "@patch_to(Logger)\n",
                "def output_log(self: Logger):\n",
                "    \"\"\"calls the user defined output function\"\"\"\n",
                "    return self.output_fn(self.logs)"
            ]
        },
        {
            "attachments": {},
            "cell_type": "markdown",
            "metadata": {},
            "source": [
                "##### Sample implementation with a custom write_logs method\n"
            ]
        },
        {
            "cell_type": "code",
            "execution_count": null,
            "metadata": {},
            "outputs": [
                {
                    "name": "stdout",
                    "output_type": "stream",
                    "text": [
                        "adjusting num_stacks_to_drop, consider revising `get_traceback` call\n",
                        "{'stack_length': 27, 'module_index': 21, 'num_stacks_to_drop_passed': 5}\n",
                        "printing logs\n"
                    ]
                },
                {
                    "data": {
                        "text/html": [
                            "<div>\n",
                            "<style scoped>\n",
                            "    .dataframe tbody tr th:only-of-type {\n",
                            "        vertical-align: middle;\n",
                            "    }\n",
                            "\n",
                            "    .dataframe tbody tr th {\n",
                            "        vertical-align: top;\n",
                            "    }\n",
                            "\n",
                            "    .dataframe thead th {\n",
                            "        text-align: right;\n",
                            "    }\n",
                            "</style>\n",
                            "<table border=\"1\" class=\"dataframe\">\n",
                            "  <thead>\n",
                            "    <tr style=\"text-align: right;\">\n",
                            "      <th></th>\n",
                            "      <th>date_time</th>\n",
                            "      <th>application</th>\n",
                            "      <th>log_type</th>\n",
                            "      <th>log_message</th>\n",
                            "      <th>breadcrumb</th>\n",
                            "      <th>domo_instance</th>\n",
                            "      <th>entity_id</th>\n",
                            "      <th>function_name</th>\n",
                            "      <th>file_name</th>\n",
                            "      <th>function_trail</th>\n",
                            "    </tr>\n",
                            "  </thead>\n",
                            "  <tbody>\n",
                            "    <tr>\n",
                            "      <th>0</th>\n",
                            "      <td>2023-09-28 13:19:58.419760</td>\n",
                            "      <td>test</td>\n",
                            "      <td>Error</td>\n",
                            "      <td>random error</td>\n",
                            "      <td></td>\n",
                            "      <td>None</td>\n",
                            "      <td>None</td>\n",
                            "      <td>test_error</td>\n",
                            "      <td>/tmp/ipykernel_27360/2322602224.py</td>\n",
                            "      <td>&lt;module&gt; -&gt; test_error</td>\n",
                            "    </tr>\n",
                            "    <tr>\n",
                            "      <th>1</th>\n",
                            "      <td>2023-09-28 13:19:58.420351</td>\n",
                            "      <td>test</td>\n",
                            "      <td>Error</td>\n",
                            "      <td>random error</td>\n",
                            "      <td></td>\n",
                            "      <td>None</td>\n",
                            "      <td>None</td>\n",
                            "      <td>double_test</td>\n",
                            "      <td>/tmp/ipykernel_27360/2322602224.py</td>\n",
                            "      <td>&lt;module&gt; -&gt; double_test</td>\n",
                            "    </tr>\n",
                            "  </tbody>\n",
                            "</table>\n",
                            "</div>"
                        ],
                        "text/plain": [
                            "                   date_time application log_type   log_message breadcrumb  \\\n",
                            "0 2023-09-28 13:19:58.419760        test    Error  random error              \n",
                            "1 2023-09-28 13:19:58.420351        test    Error  random error              \n",
                            "\n",
                            "  domo_instance entity_id function_name                           file_name  \\\n",
                            "0          None      None    test_error  /tmp/ipykernel_27360/2322602224.py   \n",
                            "1          None      None   double_test  /tmp/ipykernel_27360/2322602224.py   \n",
                            "\n",
                            "            function_trail  \n",
                            "0   <module> -> test_error  \n",
                            "1  <module> -> double_test  "
                        ]
                    },
                    "execution_count": null,
                    "metadata": {},
                    "output_type": "execute_result"
                }
            ],
            "source": [
                "import pandas as pd\n",
                "\n",
                "\n",
                "def custom_write_logs_fn(logs):\n",
                "    print(\"printing logs\")\n",
                "    return pd.DataFrame(logs)\n",
                "\n",
                "\n",
                "logger = Logger(app_name=\"test\", output_fn=custom_write_logs_fn)\n",
                "\n",
                "\n",
                "def test_error():\n",
                "    try:\n",
                "        if 1 == 1:\n",
                "            raise Exception(\"random error\")\n",
                "\n",
                "    except Exception as e:\n",
                "        logger.log_error(e)\n",
                "\n",
                "\n",
                "def double_test():\n",
                "    test_error()\n",
                "\n",
                "\n",
                "# record first error\n",
                "test_error()\n",
                "\n",
                "# records second error nested inside double_test()\n",
                "double_test()\n",
                "\n",
                "logger.output_log()"
            ]
        },
        {
            "cell_type": "code",
            "execution_count": null,
            "metadata": {},
            "outputs": [],
            "source": [
                "# | hide\n",
                "# test that custom_write_logs_fn is stored in the logger as output_fn.\n",
                "test_eq(logger.output_fn, custom_write_logs_fn)\n"
            ]
        },
        {
            "cell_type": "code",
            "execution_count": null,
            "metadata": {},
            "outputs": [],
            "source": [
                "# | hide\n",
                "import nbdev\n",
                "\n",
                "nbdev.nbdev_export()\n"
            ]
        }
    ],
    "metadata": {
        "kernelspec": {
            "display_name": "python3",
            "language": "python",
            "name": "python3"
        }
    },
    "nbformat": 4,
    "nbformat_minor": 4
}
