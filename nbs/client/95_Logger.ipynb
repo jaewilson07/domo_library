{
 "cells": [
  {
   "attachments": {},
   "cell_type": "markdown",
   "metadata": {},
   "source": [
    "# Logger\n",
    "\n",
    "> A basic logging class"
   ]
  },
  {
   "cell_type": "code",
   "execution_count": null,
   "metadata": {},
   "outputs": [],
   "source": [
    "# | default_exp client.Logger\n"
   ]
  },
  {
   "cell_type": "code",
   "execution_count": null,
   "metadata": {},
   "outputs": [],
   "source": [
    "# | hide\n",
    "from nbdev.showdoc import *\n",
    "from fastcore.test import test_eq\n"
   ]
  },
  {
   "cell_type": "code",
   "execution_count": null,
   "metadata": {},
   "outputs": [],
   "source": [
    "# | exporti\n",
    "import datetime as dt\n",
    "\n",
    "from typing import Optional, List\n",
    "from dataclasses import dataclass\n",
    "\n",
    "import traceback\n",
    "\n",
    "from fastcore.basics import patch_to"
   ]
  },
  {
   "cell_type": "code",
   "execution_count": null,
   "metadata": {},
   "outputs": [],
   "source": [
    "# | export\n",
    "\n",
    "\n",
    "class Logger:\n",
    "    \"\"\"log class with user customizeable output method\"\"\"\n",
    "\n",
    "    root_module: str\n",
    "    app_name: str\n",
    "\n",
    "    logs: List[dict]\n",
    "    breadcrumb: Optional[list]\n",
    "\n",
    "    entity_id: Optional[str]\n",
    "    domo_instance: Optional[str]\n",
    "    # function to call with write_logs method.\n",
    "    output_fn: Optional[callable] = None\n",
    "\n",
    "    def __init__(\n",
    "        self,\n",
    "        app_name: str,  # name of the app for grouping logs\n",
    "        root_module: Optional[str] = \"<module>\",  # root module for stack trace\n",
    "        output_fn: Optional[\n",
    "            callable\n",
    "        ] = None,  # function to call with write_logs method.\n",
    "        entity_id: Optional[str] = None,\n",
    "        domo_instance: Optional[str] = None,\n",
    "    ):\n",
    "\n",
    "        self.app_name = app_name\n",
    "        self.output_fn = output_fn\n",
    "        self.root_module = root_module\n",
    "        self.logs = []\n",
    "        self.breadcrumb = []\n",
    "        self.domo_instance = domo_instance\n",
    "        self.entity_id = entity_id\n",
    "\n",
    "    def _add_crumb(self, crumb):\n",
    "        if crumb not in self.breadcrumb:\n",
    "            self.breadcrumb.append(crumb)\n",
    "\n",
    "    def _remove_crumb(self, crumb):\n",
    "        if crumb in self.breadcrumb:\n",
    "            self.breadcrumb.remove(crumb)"
   ]
  },
  {
   "attachments": {},
   "cell_type": "markdown",
   "metadata": {},
   "source": [
    "## Logger traceback methods\n",
    "\n",
    "Private methods for adding traceback details to logs\n"
   ]
  },
  {
   "cell_type": "code",
   "execution_count": null,
   "metadata": {},
   "outputs": [],
   "source": [
    "# | export\n",
    "\n",
    "\n",
    "@patch_to(Logger)\n",
    "def _get_traceback(\n",
    "    self :Logger,\n",
    "    root_module: str = \"<module>\",\n",
    "    num_stacks_to_drop=0,  # drop entries from the top of stack to exclude the functions that retrieve the traceback\n",
    ") -> [\n",
    "    traceback.FrameSummary\n",
    "]:  # returns a filtered list of FrameSummaries from traceback\n",
    "    \"\"\"method that retrieves traceback\"\"\"\n",
    "\n",
    "    tb = traceback.extract_stack()\n",
    "\n",
    "    # find the last module index\n",
    "    module_index = 0\n",
    "    for index, tb_line in enumerate(tb):\n",
    "        function_name = tb_line[2]\n",
    "\n",
    "        if function_name == root_module:\n",
    "            module_index = index\n",
    "\n",
    "    if num_stacks_to_drop == 0:\n",
    "        return tb[module_index:]\n",
    "\n",
    "    return tb[module_index:-num_stacks_to_drop]"
   ]
  },
  {
   "cell_type": "code",
   "execution_count": null,
   "metadata": {},
   "outputs": [
    {
     "data": {
      "text/markdown": [
       "---\n",
       "\n",
       "[source](https://github.com/jaewilson07/domo_library/blob/main/domolibrary/client/Logger.py#L60){target=\"_blank\" style=\"float:right; font-size:smaller\"}\n",
       "\n",
       "### Logger._get_traceback\n",
       "\n",
       ">      Logger._get_traceback (root_module:str='<module>', num_stacks_to_drop=0)\n",
       "\n",
       "method that retrieves traceback\n",
       "\n",
       "|    | **Type** | **Default** | **Details** |\n",
       "| -- | -------- | ----------- | ----------- |\n",
       "| root_module | str | <module> |  |\n",
       "| num_stacks_to_drop | int | 0 | drop entries from the top of stack to exclude the functions that retrieve the traceback |\n",
       "| **Returns** | **[<class 'traceback.FrameSummary'>]** |  |  |"
      ],
      "text/plain": [
       "---\n",
       "\n",
       "[source](https://github.com/jaewilson07/domo_library/blob/main/domolibrary/client/Logger.py#L60){target=\"_blank\" style=\"float:right; font-size:smaller\"}\n",
       "\n",
       "### Logger._get_traceback\n",
       "\n",
       ">      Logger._get_traceback (root_module:str='<module>', num_stacks_to_drop=0)\n",
       "\n",
       "method that retrieves traceback\n",
       "\n",
       "|    | **Type** | **Default** | **Details** |\n",
       "| -- | -------- | ----------- | ----------- |\n",
       "| root_module | str | <module> |  |\n",
       "| num_stacks_to_drop | int | 0 | drop entries from the top of stack to exclude the functions that retrieve the traceback |\n",
       "| **Returns** | **[<class 'traceback.FrameSummary'>]** |  |  |"
      ]
     },
     "execution_count": null,
     "metadata": {},
     "output_type": "execute_result"
    }
   ],
   "source": [
    "show_doc(Logger._get_traceback)\n"
   ]
  },
  {
   "cell_type": "code",
   "execution_count": null,
   "metadata": {},
   "outputs": [],
   "source": [
    "# | export\n",
    "\n",
    "\n",
    "@dataclass\n",
    "class TracebackDetails:\n",
    "    \"\"\"result of _get_traceback_details function\"\"\"\n",
    "\n",
    "    function_name: str\n",
    "    file_name: str\n",
    "    function_trail: str\n",
    "\n",
    "\n",
    "@patch_to(Logger)\n",
    "def _get_traceback_details(\n",
    "    self : Logger,\n",
    "    traceback_list: [\n",
    "        traceback.FrameSummary\n",
    "    ],  # clean list of frame summaries from traceback (be sure to exclude frames from functions that retrieved the traceback)\n",
    ") -> TracebackDetails:  # descriptive summary from the top of the traceback\n",
    "    \"\"\"returns TracebackDetails, for the entry at the top of the stack\"\"\"\n",
    "\n",
    "    function_trail = \" -> \".join([line[2] for line in traceback_list])\n",
    "\n",
    "    function_name = traceback_list[-1][2]\n",
    "    file_name = traceback_list[-1][0]\n",
    "\n",
    "    return TracebackDetails(function_name, file_name, function_trail)"
   ]
  },
  {
   "cell_type": "code",
   "execution_count": null,
   "metadata": {},
   "outputs": [
    {
     "data": {
      "text/markdown": [
       "---\n",
       "\n",
       "[source](https://github.com/jaewilson07/domo_library/blob/main/domolibrary/client/Logger.py#L95){target=\"_blank\" style=\"float:right; font-size:smaller\"}\n",
       "\n",
       "### Logger._get_traceback_details\n",
       "\n",
       ">      Logger._get_traceback_details\n",
       ">                                     (traceback_list:[<class'traceback.FrameSum\n",
       ">                                     mary'>])\n",
       "\n",
       "returns TracebackDetails, for the entry at the top of the stack\n",
       "\n",
       "|    | **Type** | **Details** |\n",
       "| -- | -------- | ----------- |\n",
       "| traceback_list | [<class 'traceback.FrameSummary'>] |  |\n",
       "| **Returns** | **TracebackDetails** | **descriptive summary from the top of the traceback** |"
      ],
      "text/plain": [
       "---\n",
       "\n",
       "[source](https://github.com/jaewilson07/domo_library/blob/main/domolibrary/client/Logger.py#L95){target=\"_blank\" style=\"float:right; font-size:smaller\"}\n",
       "\n",
       "### Logger._get_traceback_details\n",
       "\n",
       ">      Logger._get_traceback_details\n",
       ">                                     (traceback_list:[<class'traceback.FrameSum\n",
       ">                                     mary'>])\n",
       "\n",
       "returns TracebackDetails, for the entry at the top of the stack\n",
       "\n",
       "|    | **Type** | **Details** |\n",
       "| -- | -------- | ----------- |\n",
       "| traceback_list | [<class 'traceback.FrameSummary'>] |  |\n",
       "| **Returns** | **TracebackDetails** | **descriptive summary from the top of the traceback** |"
      ]
     },
     "execution_count": null,
     "metadata": {},
     "output_type": "execute_result"
    }
   ],
   "source": [
    "show_doc(Logger._get_traceback_details)"
   ]
  },
  {
   "attachments": {},
   "cell_type": "markdown",
   "metadata": {},
   "source": [
    "### sample implementations of stack tracing methods\n"
   ]
  },
  {
   "cell_type": "code",
   "execution_count": null,
   "metadata": {},
   "outputs": [
    {
     "name": "stdout",
     "output_type": "stream",
     "text": [
      "{'traceback function': ['<module>', 'test_trace']}\n"
     ]
    },
    {
     "data": {
      "text/plain": [
       "{'function_name': 'test_get_details',\n",
       " 'file_name': '/tmp/ipykernel_12636/2175548989.py',\n",
       " 'function_trail': '<module> -> test_get_details'}"
      ]
     },
     "execution_count": null,
     "metadata": {},
     "output_type": "execute_result"
    }
   ],
   "source": [
    "import pandas as pd\n",
    "\n",
    "\n",
    "def custom_write_logs_fn(logs):\n",
    "    print(\"printing logs\")\n",
    "    return pd.DataFrame(logs)\n",
    "\n",
    "\n",
    "logger = Logger(app_name=\"test\", output_fn=custom_write_logs_fn)\n",
    "\n",
    "\n",
    "def test_trace():\n",
    "    return logger._get_traceback(num_stacks_to_drop=1)\n",
    "\n",
    "\n",
    "# print traceback for the test_trace function\n",
    "# notice with num_stacks_to_drop = 1 we exclude the _get_traceback function from the traceback\n",
    "tb = test_trace()\n",
    "print({\"traceback function\": [line[2] for line in tb]})\n",
    "\n",
    "\n",
    "def test_get_details():\n",
    "    tb = logger._get_traceback(num_stacks_to_drop=1)\n",
    "    return logger._get_traceback_details(tb)\n",
    "\n",
    "\n",
    "# print traceback details for test_get_details function\n",
    "test_get_details().__dict__"
   ]
  },
  {
   "cell_type": "code",
   "execution_count": null,
   "metadata": {},
   "outputs": [],
   "source": [
    "# assert that the result of test_trace is of type FrameSummary\n",
    "test_eq(type(tb[0]), traceback.FrameSummary)"
   ]
  },
  {
   "attachments": {},
   "cell_type": "markdown",
   "metadata": {},
   "source": [
    "## Logger logging methods\n"
   ]
  },
  {
   "cell_type": "code",
   "execution_count": null,
   "metadata": {},
   "outputs": [],
   "source": [
    "# | export\n",
    "@patch_to(Logger)\n",
    "def _add_log(\n",
    "    self :Logger, message: str, type_str: str, \n",
    "    debug_log : bool = False,\n",
    "    num_stacks_to_drop=3, entity_id: Optional[str] = None, domo_instance: Optional[str] = None\n",
    ") -> dict:\n",
    "    \"\"\"internal method to append message to log\"\"\"\n",
    "\n",
    "    traceback_list = self._get_traceback(num_stacks_to_drop=num_stacks_to_drop)\n",
    "    \n",
    "    if debug_log:\n",
    "        print({\"num_stacks_to_drop\": num_stacks_to_drop})\n",
    "        print([tb_line[2] for tb_line in traceback_list])\n",
    "\n",
    "    new_row = {\n",
    "        \"date_time\": dt.datetime.now(),\n",
    "        \"application\": self.app_name,\n",
    "        \"log_type\": type_str,\n",
    "        \"log_message\": message,\n",
    "        \"breadcrumb\": \"->\".join(self.breadcrumb),\n",
    "        \"domo_instance\": domo_instance or self.domo_instance,\n",
    "        \"entity_id\": entity_id or self.entity_id\n",
    "    }\n",
    "\n",
    "    traceback_details = self._get_traceback_details(traceback_list)\n",
    "\n",
    "    new_row.update(\n",
    "        {\n",
    "            \"function_name\": traceback_details.function_name,\n",
    "            \"file_name\": traceback_details.file_name,\n",
    "            \"function_trail\": traceback_details.function_trail,\n",
    "        }\n",
    "    )\n",
    "\n",
    "    if debug_log:\n",
    "        print(new_row)\n",
    "\n",
    "    self.logs.append(new_row)\n",
    "\n",
    "    return new_row\n",
    "\n",
    "\n",
    "@patch_to(Logger)\n",
    "def log_info(self : Logger, message,\n",
    "             entity_id: Optional[str] = None,\n",
    "             domo_instance: Optional[str] = None,\n",
    "             debug_log=False, num_stacks_to_drop=3):\n",
    "    \"\"\"log an informational message\"\"\"\n",
    "    return self._add_log(\n",
    "        message=message,\n",
    "        entity_id=entity_id,\n",
    "        domo_instance=domo_instance,\n",
    "        type_str=\"Info\",\n",
    "        num_stacks_to_drop=num_stacks_to_drop,\n",
    "        debug_log=debug_log,\n",
    "    )\n",
    "\n",
    "\n",
    "@patch_to(Logger)\n",
    "def log_error(self: Logger, message,\n",
    "              entity_id: Optional[str] = None,\n",
    "              domo_instance: Optional[str] = None, debug_log=False, num_stacks_to_drop=3):\n",
    "    \"\"\"log an error message\"\"\"\n",
    "\n",
    "    return self._add_log(\n",
    "        message=message,\n",
    "        entity_id = entity_id,\n",
    "        domo_instance = domo_instance,\n",
    "        type_str=\"Error\",\n",
    "        num_stacks_to_drop=num_stacks_to_drop,\n",
    "        debug_log=debug_log,\n",
    "    )\n",
    "\n",
    "\n",
    "@patch_to(Logger)\n",
    "def log_warning(self :Logger, message,\n",
    "                entity_id: Optional[str] = None,\n",
    "                domo_instance: Optional[str] = None, \n",
    "                debug_log = False,\n",
    "                num_stacks_to_drop=3):\n",
    "    \"\"\"log a warning message\"\"\"\n",
    "\n",
    "    return self._add_log(\n",
    "        message=message,\n",
    "        entity_id=entity_id,\n",
    "        domo_instance=domo_instance,\n",
    "        type_str=\"Warning\",\n",
    "        num_stacks_to_drop=num_stacks_to_drop,\n",
    "        debug_log = debug_log,\n",
    "    )\n"
   ]
  },
  {
   "cell_type": "code",
   "execution_count": null,
   "metadata": {},
   "outputs": [
    {
     "data": {
      "text/plain": [
       "{'date_time': datetime.datetime(2023, 1, 27, 22, 15, 12, 972238),\n",
       " 'application': 'test',\n",
       " 'log_type': 'Info',\n",
       " 'log_message': 'test the error returns type Info',\n",
       " 'breadcrumb': '',\n",
       " 'domo_instance': None,\n",
       " 'entity_id': None,\n",
       " 'function_name': 'test_log',\n",
       " 'file_name': '/tmp/ipykernel_12636/360630086.py',\n",
       " 'function_trail': '<module> -> test_log'}"
      ]
     },
     "execution_count": null,
     "metadata": {},
     "output_type": "execute_result"
    }
   ],
   "source": [
    "logger = Logger(app_name=\"test\", output_fn=custom_write_logs_fn)\n",
    "\n",
    "\n",
    "def test_log():\n",
    "    return logger.log_info(\"test the error returns type Info\", debug_log=False)\n",
    "\n",
    "\n",
    "test_log()\n"
   ]
  },
  {
   "attachments": {},
   "cell_type": "markdown",
   "metadata": {},
   "source": [
    "## Outputting Logs\n",
    "\n",
    "During Logger instantiation, users can pass a function, `output_fn` which will be called with the `Logger.output_log` method\n"
   ]
  },
  {
   "cell_type": "code",
   "execution_count": null,
   "metadata": {},
   "outputs": [],
   "source": [
    "# | export\n",
    "\n",
    "@patch_to(Logger)\n",
    "def output_log(self:Logger):\n",
    "    \"\"\"calls the user defined output function\"\"\"\n",
    "    return self.output_fn(self.logs)\n"
   ]
  },
  {
   "attachments": {},
   "cell_type": "markdown",
   "metadata": {},
   "source": [
    "##### Sample implementation with a custom write_logs method\n"
   ]
  },
  {
   "cell_type": "code",
   "execution_count": null,
   "metadata": {},
   "outputs": [
    {
     "name": "stdout",
     "output_type": "stream",
     "text": [
      "printing logs\n"
     ]
    },
    {
     "data": {
      "text/html": [
       "<div>\n",
       "<style scoped>\n",
       "    .dataframe tbody tr th:only-of-type {\n",
       "        vertical-align: middle;\n",
       "    }\n",
       "\n",
       "    .dataframe tbody tr th {\n",
       "        vertical-align: top;\n",
       "    }\n",
       "\n",
       "    .dataframe thead th {\n",
       "        text-align: right;\n",
       "    }\n",
       "</style>\n",
       "<table border=\"1\" class=\"dataframe\">\n",
       "  <thead>\n",
       "    <tr style=\"text-align: right;\">\n",
       "      <th></th>\n",
       "      <th>date_time</th>\n",
       "      <th>application</th>\n",
       "      <th>log_type</th>\n",
       "      <th>log_message</th>\n",
       "      <th>breadcrumb</th>\n",
       "      <th>domo_instance</th>\n",
       "      <th>entity_id</th>\n",
       "      <th>function_name</th>\n",
       "      <th>file_name</th>\n",
       "      <th>function_trail</th>\n",
       "    </tr>\n",
       "  </thead>\n",
       "  <tbody>\n",
       "    <tr>\n",
       "      <th>0</th>\n",
       "      <td>2023-01-27 22:15:13.194837</td>\n",
       "      <td>test</td>\n",
       "      <td>Error</td>\n",
       "      <td>random error</td>\n",
       "      <td></td>\n",
       "      <td>None</td>\n",
       "      <td>None</td>\n",
       "      <td>test_error</td>\n",
       "      <td>/tmp/ipykernel_12636/218693317.py</td>\n",
       "      <td>&lt;module&gt; -&gt; test_error</td>\n",
       "    </tr>\n",
       "    <tr>\n",
       "      <th>1</th>\n",
       "      <td>2023-01-27 22:15:13.195220</td>\n",
       "      <td>test</td>\n",
       "      <td>Error</td>\n",
       "      <td>random error</td>\n",
       "      <td></td>\n",
       "      <td>None</td>\n",
       "      <td>None</td>\n",
       "      <td>test_error</td>\n",
       "      <td>/tmp/ipykernel_12636/218693317.py</td>\n",
       "      <td>&lt;module&gt; -&gt; double_test -&gt; test_error</td>\n",
       "    </tr>\n",
       "  </tbody>\n",
       "</table>\n",
       "</div>"
      ],
      "text/plain": [
       "                   date_time application log_type   log_message breadcrumb  \\\n",
       "0 2023-01-27 22:15:13.194837        test    Error  random error              \n",
       "1 2023-01-27 22:15:13.195220        test    Error  random error              \n",
       "\n",
       "  domo_instance entity_id function_name                          file_name  \\\n",
       "0          None      None    test_error  /tmp/ipykernel_12636/218693317.py   \n",
       "1          None      None    test_error  /tmp/ipykernel_12636/218693317.py   \n",
       "\n",
       "                          function_trail  \n",
       "0                 <module> -> test_error  \n",
       "1  <module> -> double_test -> test_error  "
      ]
     },
     "execution_count": null,
     "metadata": {},
     "output_type": "execute_result"
    }
   ],
   "source": [
    "import pandas as pd\n",
    "\n",
    "def custom_write_logs_fn(logs):\n",
    "    print(\"printing logs\")\n",
    "    return pd.DataFrame(logs)\n",
    "\n",
    "\n",
    "logger = Logger(app_name=\"test\", output_fn=custom_write_logs_fn)\n",
    "\n",
    "\n",
    "def test_error():\n",
    "    try:\n",
    "        if 1 == 1:\n",
    "            raise Exception(\"random error\")\n",
    "\n",
    "    except Exception as e:\n",
    "        logger.log_error(e)\n",
    "\n",
    "\n",
    "def double_test():\n",
    "    test_error()\n",
    "\n",
    "\n",
    "# record first error\n",
    "test_error()\n",
    "\n",
    "# records second error nested inside double_test()\n",
    "double_test()\n",
    "\n",
    "logger.output_log()\n"
   ]
  },
  {
   "cell_type": "code",
   "execution_count": null,
   "metadata": {},
   "outputs": [],
   "source": [
    "# | hide\n",
    "# test that custom_write_logs_fn is stored in the logger as output_fn.\n",
    "test_eq(logger.output_fn, custom_write_logs_fn)"
   ]
  },
  {
   "cell_type": "code",
   "execution_count": null,
   "metadata": {},
   "outputs": [],
   "source": [
    "# | hide\n",
    "import nbdev\n",
    "\n",
    "nbdev.nbdev_export()"
   ]
  }
 ],
 "metadata": {
  "kernelspec": {
   "display_name": "python3",
   "language": "python",
   "name": "python3"
  }
 },
 "nbformat": 4,
 "nbformat_minor": 4
}
