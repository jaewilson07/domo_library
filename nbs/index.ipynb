{
 "cells": [
  {
   "cell_type": "code",
   "execution_count": null,
   "metadata": {},
   "outputs": [],
   "source": [
    "#| hide\n",
    "from domolibrary.client.DomoAuth import *"
   ]
  },
  {
   "attachments": {},
   "cell_type": "markdown",
   "metadata": {},
   "source": [
    "## Formatting\n",
    "use_snake_case for everything except class names\n",
    "is_bool - prefix any boolean parameters with is_bool\n",
    "\n",
    "## Patterns to recycle\n",
    "\n",
    "### UPSERT\n",
    "domolibrary.classes.DomoUser\n",
    "upsert_user\n",
    "\n",
    "### search entity\n",
    "user_routes.SearchUser_NoResults()"
   ]
  },
  {
   "attachments": {},
   "cell_type": "markdown",
   "metadata": {},
   "source": [
    "# domolibrary: a powerful pydomo alternative\n",
    "\n",
    "> "
   ]
  },
  {
   "attachments": {},
   "cell_type": "markdown",
   "metadata": {},
   "source": [
    "## What is it?\n",
    "\n",
    "__domolibrary__ is a Python package that provides a OOP (class-based) and a functional approach to interacting with Domo's API framework.\n",
    "\n",
    "All accessed APIs are documented under DataCrew's <a href =\"https://documenter.getpostman.com/view/5049119/UyxbppB2\" target=\"_blank\">Domo Documentation</a> page.\n",
    "\n",
    "This library was created by <a href =\"https://datacrew.circle.so\" target = \"_blank\">DataCrew</a> contributor Jae Wilson.\n"
   ]
  },
  {
   "attachments": {},
   "cell_type": "markdown",
   "metadata": {},
   "source": [
    "## Install\n",
    "\n",
    "The DataCrew team is hard at work expanding the list of available `classes` and `routes`.  We have a ton of work completed, it's just a matter of migrating and documenting the code into this library."
   ]
  },
  {
   "attachments": {},
   "cell_type": "markdown",
   "metadata": {},
   "source": [
    "```sh\n",
    "pip install domolibrary\n",
    "```"
   ]
  },
  {
   "cell_type": "markdown",
   "metadata": {},
   "source": [
    "## How to use"
   ]
  },
  {
   "attachments": {},
   "cell_type": "markdown",
   "metadata": {},
   "source": [
    "### Authentication\n",
    "For each task, consider the appropriate `DomoAuth` mechanism.  In most cases `DomoFullAuth` or `DomoTokenAuth` will be appropriate as this library predominately accesses private APIs.  \n",
    "\n",
    "Any Public routes or methods will be labeled appropriately in which case you should use `DomoDeveloperAuth`.  Public routes are APIs enumerated and documented under <a href = \"https://developer.domo.com/\" target=\"_blank\">Developer.Domo.com</a>.\n",
    "\n",
    "Typically each project will begin with configuring an auth object.\n",
    "If you are accessing multiple Domo instances, you'll probably need multiple auth objects."
   ]
  },
  {
   "cell_type": "code",
   "execution_count": null,
   "metadata": {},
   "outputs": [],
   "source": [
    "# configure an auth method\n",
    "import os\n",
    "import domolibrary.client.DomoAuth as dmda\n",
    "\n",
    "token_auth = dmda.DomoTokenAuth( domo_instance = 'domo-community', domo_access_token = os.environ['DOMO_DOJO_ACCESS_TOKEN'])"
   ]
  },
  {
   "attachments": {},
   "cell_type": "markdown",
   "metadata": {},
   "source": [
    "### Option 1:  class based programming\n",
    "In this project domo entities, `DomoActivityLog`, `DomoDataset` are all prefixed 'Domo' and can be found in the `classes` folder.  Each class method will call one or more `routes`.  Each route will interact with one and only one API.\n",
    "\n",
    "Although most methods will be standard methods that will be called after creating an instance of the class, some methods will be classmethods which return an instance of the class.\n",
    "\n",
    "In the example below, `DomoDataset.get_from_id` is a classmethod.\n",
    "\n",
    "Note: DomoLibrary uses the asynchronous `aiohttp` requests library to offer users the ability to write concurrently executing code."
   ]
  },
  {
   "cell_type": "code",
   "execution_count": null,
   "metadata": {},
   "outputs": [],
   "source": [
    "# import domolibrary.classes.DomoDataset as dmds\n",
    "\n",
    "# # this is a class method\n",
    "# domo_ds = await dmds.DomoDataset.get_from_id(auth=token_auth, dataset_id=os.environ['DOJO_DATASET_ID'])\n",
    "# domo_ds"
   ]
  },
  {
   "attachments": {},
   "cell_type": "markdown",
   "metadata": {},
   "source": [
    "Once instantiated, you can call methods to interact with that object.  You typically won't have to pass auth creds again because they are saved to the object.\n",
    "\n",
    "In the example below we are retrieving the `DomoDataset_Schema` which consists of subclass `DomoDataset_Schema_Column` using the `DomoDataset_Schema.get` method.\n",
    "\n",
    "We take the approach of where possible converting dictionaries from Domo APIs into classes because it provides greater predictability when users are creating integrations between platforms (ex. Domo to Trello)."
   ]
  },
  {
   "cell_type": "code",
   "execution_count": null,
   "metadata": {},
   "outputs": [],
   "source": [
    "# await domo_ds.schema.get()"
   ]
  },
  {
   "attachments": {},
   "cell_type": "markdown",
   "metadata": {},
   "source": [
    "Typically all information about an entity is saved in the object"
   ]
  },
  {
   "cell_type": "code",
   "execution_count": null,
   "metadata": {},
   "outputs": [],
   "source": [
    "# domo_ds.__dict__"
   ]
  },
  {
   "attachments": {},
   "cell_type": "markdown",
   "metadata": {},
   "source": [
    "### Option 2 functional programming\n",
    "Although classes add a pretty wrapper for interacting with Domo APIs, users can opt to interact directly with APIs by way of `routes`.\n",
    "\n",
    "All route functions will exclusively call one API and will always return a `ResponseGetData` object OR raise an `Exception` if appropriate.\n",
    "\n",
    "For example we can implement similar functionality as the Option 1 example by calling the `get_dataset_by_id` function."
   ]
  },
  {
   "cell_type": "code",
   "execution_count": null,
   "metadata": {},
   "outputs": [
    {
     "name": "stdout",
     "output_type": "stream",
     "text": [
      "adjusting num_stacks_to_drop, consider revising `get_traceback` call\n",
      "{16, 3, 12}\n"
     ]
    },
    {
     "data": {
      "text/plain": [
       "ResponseGetData(status=200, response={'id': '04c1574e-c8be-4721-9846-c6ffa491144b', 'displayType': 'domo-jupyterdata', 'dataProviderType': 'domo-jupyterdata', 'type': 'Jupyter', 'name': 'domo_kbs', 'owner': {'id': '1893952720', 'name': 'Jae Wilson1', 'type': 'USER', 'group': False}, 'status': 'SUCCESS', 'created': 1668379680000, 'lastTouched': 1694281720000, 'lastUpdated': 1668385822045, 'rowCount': 1185, 'columnCount': 7, 'cardInfo': {'cardCount': 2, 'cardViewCount': 0}, 'properties': {'formulas': {'formulas': {'calculation_ca9d4b1c-f73a-4f76-9f94-d3c4ca6871c5': {'templateId': 2664, 'id': 'calculation_ca9d4b1c-f73a-4f76-9f94-d3c4ca6871c5', 'name': 'rowcount', 'formula': 'sum(1)', 'status': 'VALID', 'dataType': 'LONG', 'persistedOnDataSource': True, 'isAggregatable': True, 'bignumber': False}, 'calculation_38846559-d190-4ab1-809b-bcd361db5670': {'templateId': 2665, 'id': 'calculation_38846559-d190-4ab1-809b-bcd361db5670', 'name': 'max_views', 'formula': 'max(views)', 'status': 'VALID', 'dataType': 'LONG', 'persistedOnDataSource': True, 'isAggregatable': True, 'bignumber': False, 'columnPositions': [{'columnName': 'views', 'columnPosition': 4}]}}}}, 'state': 'SUCCESS', 'validConfiguration': True, 'validAccount': True, 'streamId': 825, 'transportType': 'API', 'adc': False, 'adcExternal': False, 'cloudId': 'domo', 'cloudName': 'Domo', 'permissions': 'READ_WRITE_DELETE_SHARE_ADMIN', 'hidden': False, 'tags': '[\"Sep-09-2023 17:48\",\"developer_documentation\",\"hackercore\"]', 'scheduleActive': True, 'cardCount': 2, 'cryoStatus': 'ADRENALINE'}, is_success=True, parent_class=None, traceback_details=TracebackDetails(function_name='get_dataset_by_id', file_name='/workspaces/domo_library/domolibrary/routes/dataset.py', function_trail='<module> -> get_dataset_by_id', traceback_stack=[<FrameSummary file /tmp/ipykernel_16238/1373906764.py, line 3 in <module>>, <FrameSummary file /workspaces/domo_library/domolibrary/routes/dataset.py, line 171 in get_dataset_by_id>], parent_class=None))"
      ]
     },
     "execution_count": null,
     "metadata": {},
     "output_type": "execute_result"
    }
   ],
   "source": [
    "import domolibrary.routes.dataset as dataset_routes\n",
    "\n",
    "ds_res = await dataset_routes.get_dataset_by_id( auth = token_auth, dataset_id = os.environ['DOJO_DATASET_ID'])\n",
    "ds_res"
   ]
  },
  {
   "attachments": {},
   "cell_type": "markdown",
   "metadata": {},
   "source": [
    "`ResponseGetData` will always include a boolean `is_success`, the API `status`, and raw API `response`.\n",
    "\n",
    "Typically the route methods will not alter the response unless the API does not include a descriptive response (ex, `routes.dataset.set_dataset_tags` does not return a response so we artificially alter the response in the function.)"
   ]
  },
  {
   "cell_type": "code",
   "execution_count": null,
   "metadata": {},
   "outputs": [
    {
     "data": {
      "text/plain": [
       "[('auth', domolibrary.client.DomoAuth.DomoTokenAuth),\n",
       " ('is_success', bool),\n",
       " ('parent_class', NoneType),\n",
       " ('response', dict),\n",
       " ('set_response', method),\n",
       " ('status', int),\n",
       " ('traceback_details', domolibrary.client.Logger.TracebackDetails)]"
      ]
     },
     "execution_count": null,
     "metadata": {},
     "output_type": "execute_result"
    }
   ],
   "source": [
    "[(prop, type(getattr(ds_res , prop))) for prop in dir(ds_res) if not prop.startswith('_')]"
   ]
  },
  {
   "cell_type": "code",
   "execution_count": null,
   "metadata": {},
   "outputs": [
    {
     "data": {
      "text/plain": [
       "{'id': '04c1574e-c8be-4721-9846-c6ffa491144b',\n",
       " 'displayType': 'domo-jupyterdata',\n",
       " 'dataProviderType': 'domo-jupyterdata',\n",
       " 'type': 'Jupyter',\n",
       " 'name': 'domo_kbs',\n",
       " 'owner': {'id': '1893952720',\n",
       "  'name': 'Jae Wilson1',\n",
       "  'type': 'USER',\n",
       "  'group': False},\n",
       " 'status': 'SUCCESS',\n",
       " 'created': 1668379680000,\n",
       " 'lastTouched': 1694281720000,\n",
       " 'lastUpdated': 1668385822045,\n",
       " 'rowCount': 1185,\n",
       " 'columnCount': 7,\n",
       " 'cardInfo': {'cardCount': 2, 'cardViewCount': 0},\n",
       " 'properties': {'formulas': {'formulas': {'calculation_ca9d4b1c-f73a-4f76-9f94-d3c4ca6871c5': {'templateId': 2664,\n",
       "     'id': 'calculation_ca9d4b1c-f73a-4f76-9f94-d3c4ca6871c5',\n",
       "     'name': 'rowcount',\n",
       "     'formula': 'sum(1)',\n",
       "     'status': 'VALID',\n",
       "     'dataType': 'LONG',\n",
       "     'persistedOnDataSource': True,\n",
       "     'isAggregatable': True,\n",
       "     'bignumber': False},\n",
       "    'calculation_38846559-d190-4ab1-809b-bcd361db5670': {'templateId': 2665,\n",
       "     'id': 'calculation_38846559-d190-4ab1-809b-bcd361db5670',\n",
       "     'name': 'max_views',\n",
       "     'formula': 'max(views)',\n",
       "     'status': 'VALID',\n",
       "     'dataType': 'LONG',\n",
       "     'persistedOnDataSource': True,\n",
       "     'isAggregatable': True,\n",
       "     'bignumber': False,\n",
       "     'columnPositions': [{'columnName': 'views', 'columnPosition': 4}]}}}},\n",
       " 'state': 'SUCCESS',\n",
       " 'validConfiguration': True,\n",
       " 'validAccount': True,\n",
       " 'streamId': 825,\n",
       " 'transportType': 'API',\n",
       " 'adc': False,\n",
       " 'adcExternal': False,\n",
       " 'cloudId': 'domo',\n",
       " 'cloudName': 'Domo',\n",
       " 'permissions': 'READ_WRITE_DELETE_SHARE_ADMIN',\n",
       " 'hidden': False,\n",
       " 'tags': '[\"Sep-09-2023 17:48\",\"developer_documentation\",\"hackercore\"]',\n",
       " 'scheduleActive': True,\n",
       " 'cardCount': 2,\n",
       " 'cryoStatus': 'ADRENALINE'}"
      ]
     },
     "execution_count": null,
     "metadata": {},
     "output_type": "execute_result"
    }
   ],
   "source": [
    "ds_res.response"
   ]
  },
  {
   "attachments": {},
   "cell_type": "markdown",
   "metadata": {},
   "source": [
    "### Access Paginated APIs using the Looper\n",
    "A hidden advantage of using the DomoLibrary is that paginated API requests are baked into the route's definition.\n",
    "\n",
    "Consider `query_dataset_private` from the `routes.dataset`.  \n",
    "\n",
    "Inside this function we are using `looper` from `client.get_data` to paginate over the API response."
   ]
  },
  {
   "cell_type": "markdown",
   "metadata": {},
   "source": [
    "# known errors\n",
    "- utils/upload_data is using a general try/except\n",
    "- bootstrap route raising a general exception\n",
    "- integrations/role_hierarchy raising general exception\n",
    "- integrations/domoJupyter raising general exception\n",
    "- DomoUser general Exception"
   ]
  }
 ],
 "metadata": {
  "kernelspec": {
   "display_name": "python3",
   "language": "python",
   "name": "python3"
  }
 },
 "nbformat": 4,
 "nbformat_minor": 4
}
