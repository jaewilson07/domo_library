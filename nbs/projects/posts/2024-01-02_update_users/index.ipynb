{
 "cells": [
  {
   "cell_type": "raw",
   "id": "12a341d2",
   "metadata": {},
   "source": [
    "---\n",
    "title: Tutorial Update Users\n",
    "output-file: bulk_update_users.html\n",
    "author: [Jae Wilson]\n",
    "date: 2024-01-02\n",
    "categories: ['Python', 'DomoJupyter', 'DomoUser']\n",
    "skip_showdoc: false\n",
    "---\n"
   ]
  },
  {
   "cell_type": "code",
   "execution_count": 1,
   "id": "87a36c0e-1645-43e9-81e7-a0a1abe405fa",
   "metadata": {},
   "outputs": [],
   "source": [
    "# %pip install --upgrade  domolibrary"
   ]
  },
  {
   "cell_type": "code",
   "execution_count": 2,
   "id": "3635d762-6e04-4ca4-9f66-7b16252555bc",
   "metadata": {},
   "outputs": [
    {
     "data": {
      "text/plain": [
       "'0.3.39'"
      ]
     },
     "execution_count": 2,
     "metadata": {},
     "output_type": "execute_result"
    }
   ],
   "source": [
    "import domolibrary\n",
    "\n",
    "domolibrary.__version__"
   ]
  },
  {
   "cell_type": "code",
   "execution_count": 3,
   "id": "79d4d9fc",
   "metadata": {},
   "outputs": [
    {
     "data": {
      "text/plain": [
       "{'email': 'RestaurantManager4@fz.com',\n",
       " 'Role': 'Restaurant Manager',\n",
       " 'FranchiseID': '1',\n",
       " 'StoreID': '7',\n",
       " 'EmpID': '4',\n",
       " 'ManagerID': '2'}"
      ]
     },
     "execution_count": 3,
     "metadata": {},
     "output_type": "execute_result"
    }
   ],
   "source": [
    "import csv\n",
    "\n",
    "with open(\"dataset.csv\", \"r\", encoding=\"utf-8-sig\") as file:\n",
    "    csv_reader = csv.DictReader(file)\n",
    "    data = [row for row in csv_reader]\n",
    "\n",
    "[obj.update({\"email\": obj[\"email\"].replace(\" \", \"\")}) for obj in data]\n",
    "\n",
    "data[3]"
   ]
  },
  {
   "cell_type": "markdown",
   "id": "0564b329",
   "metadata": {},
   "source": [
    "# Create User Attributes\n",
    "User attributes, will be custom properties that we can manage and use to create dynamic pdp policies and groups"
   ]
  },
  {
   "cell_type": "code",
   "execution_count": 4,
   "id": "78691a10",
   "metadata": {},
   "outputs": [
    {
     "data": {
      "text/plain": [
       "['StoreID', 'FranchiseID']"
      ]
     },
     "execution_count": 4,
     "metadata": {},
     "output_type": "execute_result"
    }
   ],
   "source": [
    "properties_to_create = list(\n",
    "    set(\n",
    "        [\n",
    "            key\n",
    "            for obj in data\n",
    "            for key in obj.keys()\n",
    "            if key.lower() not in [\"email\", \"managerid\", \"empid\", \"role\"]\n",
    "        ]\n",
    "    )\n",
    ")\n",
    "properties_to_create"
   ]
  },
  {
   "cell_type": "code",
   "execution_count": 5,
   "id": "e26fefbb",
   "metadata": {},
   "outputs": [],
   "source": [
    "import os\n",
    "import domolibrary.client.DomoAuth as dmda\n",
    "\n",
    "token_auth = dmda.DomoTokenAuth(\n",
    "    domo_access_token=os.environ[\"DOMO_DOJO_ACCESS_TOKEN\"],\n",
    "    domo_instance=\"domo-community\",\n",
    ")"
   ]
  },
  {
   "cell_type": "code",
   "execution_count": 6,
   "id": "519735ee",
   "metadata": {},
   "outputs": [
    {
     "data": {
      "text/plain": [
       "[UserAttribute(id='fzStoreID', name='StoreID', description='FZ_POC', issuer_type=<UserAttributes_IssuerType.CUSTOM: 'customer-defined'>, customer_id='mmmm-0012-0200', value_type='STRING', validator='ANY_VALUE', validator_configuration=None, security_voter='FULL_VIS_ADMIN_IDP', custom=True),\n",
       " UserAttribute(id='fzFranchiseID', name='FranchiseID', description='FZ_POC', issuer_type=<UserAttributes_IssuerType.CUSTOM: 'customer-defined'>, customer_id='mmmm-0012-0200', value_type='STRING', validator='ANY_VALUE', validator_configuration=None, security_voter='FULL_VIS_ADMIN_IDP', custom=True),\n",
       " UserAttribute(id='DomoLibraryStore', name='store_id', description='store ids', issuer_type=<UserAttributes_IssuerType.CUSTOM: 'customer-defined'>, customer_id='mmmm-0012-0200', value_type='STRING', validator='ANY_VALUE', validator_configuration=None, security_voter='FULL_VIS_ADMIN_IDP', custom=True),\n",
       " UserAttribute(id='DomoLibraryTestFranchise', name='franchise_id', description='test', issuer_type=<UserAttributes_IssuerType.CUSTOM: 'customer-defined'>, customer_id='mmmm-0012-0200', value_type='STRING', validator='ANY_VALUE', validator_configuration=None, security_voter='FULL_VIS_ADMIN_IDP', custom=True)]"
      ]
     },
     "execution_count": 6,
     "metadata": {},
     "output_type": "execute_result"
    }
   ],
   "source": [
    "import domolibrary.classes.DomoInstanceConfig as dmic\n",
    "import domolibrary.classes.DomoInstanceConfig_UserAttribute as dmua\n",
    "\n",
    "domo_config = dmic.DomoInstanceConfig(auth=token_auth)\n",
    "\n",
    "await domo_config.user_attributes.get_attributes(\n",
    "    issuer_type_ls=[dmua.UserAttributes_IssuerType.CUSTOM]\n",
    ")"
   ]
  },
  {
   "cell_type": "code",
   "execution_count": 7,
   "id": "1081dd13",
   "metadata": {},
   "outputs": [
    {
     "data": {
      "text/plain": [
       "UserAttributes(attributes=[UserAttribute(id='fzStoreID', name='StoreID', description='FZ_POC', issuer_type=<UserAttributes_IssuerType.CUSTOM: 'customer-defined'>, customer_id='mmmm-0012-0200', value_type='STRING', validator='ANY_VALUE', validator_configuration=None, security_voter='FULL_VIS_ADMIN_IDP', custom=True), UserAttribute(id='fzFranchiseID', name='FranchiseID', description='FZ_POC', issuer_type=<UserAttributes_IssuerType.CUSTOM: 'customer-defined'>, customer_id='mmmm-0012-0200', value_type='STRING', validator='ANY_VALUE', validator_configuration=None, security_voter='FULL_VIS_ADMIN_IDP', custom=True), UserAttribute(id='DomoLibraryStore', name='store_id', description='store ids', issuer_type=<UserAttributes_IssuerType.CUSTOM: 'customer-defined'>, customer_id='mmmm-0012-0200', value_type='STRING', validator='ANY_VALUE', validator_configuration=None, security_voter='FULL_VIS_ADMIN_IDP', custom=True), UserAttribute(id='DomoLibraryTestFranchise', name='franchise_id', description='test', issuer_type=<UserAttributes_IssuerType.CUSTOM: 'customer-defined'>, customer_id='mmmm-0012-0200', value_type='STRING', validator='ANY_VALUE', validator_configuration=None, security_voter='FULL_VIS_ADMIN_IDP', custom=True)])"
      ]
     },
     "execution_count": 7,
     "metadata": {},
     "output_type": "execute_result"
    }
   ],
   "source": [
    "domo_config.user_attributes"
   ]
  },
  {
   "cell_type": "code",
   "execution_count": 8,
   "id": "1926c4e4",
   "metadata": {},
   "outputs": [
    {
     "data": {
      "text/plain": [
       "[UserAttribute(id='fzStoreID', name='StoreID', description='FZ_POC', issuer_type=<UserAttributes_IssuerType.CUSTOM: 'customer-defined'>, customer_id='mmmm-0012-0200', value_type='STRING', validator='ANY_VALUE', validator_configuration=None, security_voter='FULL_VIS_ADMIN_IDP', custom=True),\n",
       " UserAttribute(id='fzFranchiseID', name='FranchiseID', description='FZ_POC', issuer_type=<UserAttributes_IssuerType.CUSTOM: 'customer-defined'>, customer_id='mmmm-0012-0200', value_type='STRING', validator='ANY_VALUE', validator_configuration=None, security_voter='FULL_VIS_ADMIN_IDP', custom=True)]"
      ]
     },
     "execution_count": 8,
     "metadata": {},
     "output_type": "execute_result"
    }
   ],
   "source": [
    "import domolibrary.utils.chunk_execution as ce\n",
    "\n",
    "await ce.gather_with_concurrency(\n",
    "    *[\n",
    "        domo_config.user_attributes.upsert(\n",
    "            attribute_id=f\"fz{attribute_name}\",\n",
    "            name=attribute_name,\n",
    "            description=\"FZ_POC\",\n",
    "            debug_api=False,\n",
    "            debug_prn=False,\n",
    "        )\n",
    "        for attribute_name in properties_to_create\n",
    "    ],\n",
    "    n=10,\n",
    ")\n",
    "\n",
    "[\n",
    "    user_attribute\n",
    "    for user_attribute in domo_config.user_attributes.attributes\n",
    "    if user_attribute.id.startswith(\"fz\")\n",
    "]"
   ]
  },
  {
   "cell_type": "markdown",
   "id": "1498bd26",
   "metadata": {},
   "source": [
    "# create user"
   ]
  },
  {
   "cell_type": "code",
   "execution_count": 9,
   "id": "c5cd4ea4",
   "metadata": {},
   "outputs": [
    {
     "data": {
      "text/plain": [
       "{'email': 'CEO1@fz.com',\n",
       " 'Role': 'CEO',\n",
       " 'FranchiseID': '0',\n",
       " 'StoreID': '0',\n",
       " 'EmpID': '1',\n",
       " 'ManagerID': '1'}"
      ]
     },
     "execution_count": 9,
     "metadata": {},
     "output_type": "execute_result"
    }
   ],
   "source": [
    "data[0]"
   ]
  },
  {
   "cell_type": "code",
   "execution_count": 10,
   "id": "27ed9890",
   "metadata": {},
   "outputs": [],
   "source": [
    "import domolibrary.classes.DomoUser as dmdu\n",
    "\n",
    "domo_users = await ce.gather_with_concurrency(\n",
    "    *[\n",
    "        dmdu.DomoUsers.upsert_user(\n",
    "            email_address=obj[\"email\"],\n",
    "            display_name=f\"fz{obj['email']}\",\n",
    "            role_id=5,\n",
    "            auth=token_auth,\n",
    "            debug_prn=True,\n",
    "            debug_api=False,\n",
    "        )\n",
    "        for obj in data\n",
    "    ],\n",
    "    n=6,\n",
    ")"
   ]
  },
  {
   "cell_type": "markdown",
   "id": "d16eab25",
   "metadata": {},
   "source": [
    "# update custom properties for users"
   ]
  },
  {
   "cell_type": "code",
   "execution_count": 12,
   "id": "256b63b4",
   "metadata": {},
   "outputs": [],
   "source": [
    "# %pip install aenum"
   ]
  },
  {
   "cell_type": "code",
   "execution_count": 17,
   "id": "db28e46f",
   "metadata": {},
   "outputs": [
    {
     "data": {
      "text/plain": [
       "[<UserProperty_Type.display_name: 'displayName'>,\n",
       " <UserProperty_Type.email_address: 'emailAddress'>,\n",
       " <UserProperty_Type.phone_number: 'phoneNumber'>,\n",
       " <UserProperty_Type.title: 'title'>,\n",
       " <UserProperty_Type.department: 'department'>,\n",
       " <UserProperty_Type.web_landing_page: 'webLandingPage'>,\n",
       " <UserProperty_Type.web_mobile_landing_page: 'webMobileLandingPage'>,\n",
       " <UserProperty_Type.role_id: 'roleId'>,\n",
       " <UserProperty_Type.employee_id: 'employeeId'>,\n",
       " <UserProperty_Type.employee_number: 'employeeNumber'>,\n",
       " <UserProperty_Type.hire_date: 'hireDate'>,\n",
       " <UserProperty_Type.reports_to: 'reportsTo'>,\n",
       " <UserProperty_Type.fzFranchiseID: 'fzFranchiseID'>,\n",
       " <UserProperty_Type.fzStoreID: 'fzStoreID'>]"
      ]
     },
     "execution_count": 17,
     "metadata": {},
     "output_type": "execute_result"
    }
   ],
   "source": [
    "from domolibrary.classes.DomoUser import UserProperty, UserProperty_Type\n",
    "\n",
    "# predefined properties we can update\n",
    "# if a custom property hasn't been added we'll extended it with the aenum library\n",
    "\n",
    "[member for member in UserProperty_Type]"
   ]
  },
  {
   "cell_type": "code",
   "execution_count": 18,
   "id": "db5a5c40",
   "metadata": {},
   "outputs": [],
   "source": [
    "from aenum import extend_enum  # use aenum to extend an existing enum\n",
    "\n",
    "if \"fzFranchiseID\" not in UserProperty_Type.__members__:\n",
    "    extend_enum(UserProperty_Type, \"fzFranchiseID\", \"fzFranchiseID\")\n",
    "if \"fzStoreID\" not in UserProperty_Type.__members__:\n",
    "    extend_enum(UserProperty_Type, \"fzStoreID\", \"fzStoreID\")"
   ]
  },
  {
   "cell_type": "code",
   "execution_count": 19,
   "id": "58875a3b",
   "metadata": {},
   "outputs": [
    {
     "data": {
      "text/plain": [
       "{'email': 'CEO1@fz.com',\n",
       " 'Role': 'CEO',\n",
       " 'FranchiseID': '0',\n",
       " 'StoreID': '0',\n",
       " 'EmpID': '1',\n",
       " 'ManagerID': '1'}"
      ]
     },
     "execution_count": 19,
     "metadata": {},
     "output_type": "execute_result"
    }
   ],
   "source": [
    "data[0]"
   ]
  },
  {
   "cell_type": "code",
   "execution_count": 21,
   "id": "1dcabc02",
   "metadata": {},
   "outputs": [
    {
     "name": "stdout",
     "output_type": "stream",
     "text": [
      "[{'key': 'fzFranchiseID', 'values': ['0']}, {'key': 'fzStoreID', 'values': ['0']}, {'key': 'employeeId', 'values': ['1']}, {'key': 'reportsTo', 'values': ['1']}]\n",
      "[{'key': 'fzFranchiseID', 'values': ['1']}, {'key': 'fzStoreID', 'values': ['2']}, {'key': 'employeeId', 'values': ['2']}, {'key': 'reportsTo', 'values': ['1']}]\n",
      "[{'key': 'fzFranchiseID', 'values': ['1']}, {'key': 'fzStoreID', 'values': ['24']}, {'key': 'employeeId', 'values': ['3']}, {'key': 'reportsTo', 'values': ['2']}]\n",
      "[{'key': 'fzFranchiseID', 'values': ['1']}, {'key': 'fzStoreID', 'values': ['7']}, {'key': 'employeeId', 'values': ['4']}, {'key': 'reportsTo', 'values': ['2']}]\n",
      "[{'key': 'fzFranchiseID', 'values': ['1']}, {'key': 'fzStoreID', 'values': ['11']}, {'key': 'employeeId', 'values': ['5']}, {'key': 'reportsTo', 'values': ['2']}]\n",
      "[{'key': 'fzFranchiseID', 'values': ['1']}, {'key': 'fzStoreID', 'values': ['8']}, {'key': 'employeeId', 'values': ['6']}, {'key': 'reportsTo', 'values': ['2']}]\n",
      "[{'key': 'fzFranchiseID', 'values': ['2']}, {'key': 'fzStoreID', 'values': ['']}, {'key': 'employeeId', 'values': ['7']}, {'key': 'reportsTo', 'values': ['1']}]\n",
      "[{'key': 'fzFranchiseID', 'values': ['2']}, {'key': 'fzStoreID', 'values': ['35']}, {'key': 'employeeId', 'values': ['8']}, {'key': 'reportsTo', 'values': ['7']}]\n",
      "[{'key': 'fzFranchiseID', 'values': ['2']}, {'key': 'fzStoreID', 'values': ['9']}, {'key': 'employeeId', 'values': ['9']}, {'key': 'reportsTo', 'values': ['7']}]\n",
      "[{'key': 'fzFranchiseID', 'values': ['2']}, {'key': 'fzStoreID', 'values': ['4']}, {'key': 'employeeId', 'values': ['10']}, {'key': 'reportsTo', 'values': ['7']}]\n",
      "[{'key': 'fzFranchiseID', 'values': ['2']}, {'key': 'fzStoreID', 'values': ['27']}, {'key': 'employeeId', 'values': ['11']}, {'key': 'reportsTo', 'values': ['7']}]\n",
      "[{'key': 'fzFranchiseID', 'values': ['3']}, {'key': 'fzStoreID', 'values': ['']}, {'key': 'employeeId', 'values': ['12']}, {'key': 'reportsTo', 'values': ['1']}]\n",
      "[{'key': 'fzFranchiseID', 'values': ['3']}, {'key': 'fzStoreID', 'values': ['50']}, {'key': 'employeeId', 'values': ['13']}, {'key': 'reportsTo', 'values': ['12']}]\n",
      "[{'key': 'fzFranchiseID', 'values': ['3']}, {'key': 'fzStoreID', 'values': ['64']}, {'key': 'employeeId', 'values': ['14']}, {'key': 'reportsTo', 'values': ['12']}]\n",
      "[{'key': 'fzFranchiseID', 'values': ['3']}, {'key': 'fzStoreID', 'values': ['29']}, {'key': 'employeeId', 'values': ['15']}, {'key': 'reportsTo', 'values': ['12']}]\n",
      "[{'key': 'fzFranchiseID', 'values': ['3']}, {'key': 'fzStoreID', 'values': ['22']}, {'key': 'employeeId', 'values': ['16']}, {'key': 'reportsTo', 'values': ['12']}]\n",
      "[{'key': 'fzFranchiseID', 'values': ['3']}, {'key': 'fzStoreID', 'values': ['18']}, {'key': 'employeeId', 'values': ['17']}, {'key': 'reportsTo', 'values': ['12']}]\n"
     ]
    }
   ],
   "source": [
    "for obj in data:\n",
    "    property_ls = [\n",
    "        UserProperty(UserProperty_Type.fzFranchiseID, obj[\"FranchiseID\"]),\n",
    "        UserProperty(UserProperty_Type.fzStoreID, obj[\"StoreID\"]),\n",
    "        UserProperty(UserProperty_Type.employee_id, obj[\"EmpID\"]),\n",
    "        UserProperty(UserProperty_Type.reports_to, obj[\"ManagerID\"]),\n",
    "    ]\n",
    "\n",
    "    print([prop.to_json() for prop in property_ls])"
   ]
  }
 ],
 "metadata": {
  "kernelspec": {
   "display_name": "python3",
   "language": "python",
   "name": "python3"
  },
  "language_info": {
   "codemirror_mode": {
    "name": "ipython",
    "version": 3
   },
   "file_extension": ".py",
   "mimetype": "text/x-python",
   "name": "python",
   "nbconvert_exporter": "python",
   "pygments_lexer": "ipython3",
   "version": "3.10.13"
  }
 },
 "nbformat": 4,
 "nbformat_minor": 5
}
