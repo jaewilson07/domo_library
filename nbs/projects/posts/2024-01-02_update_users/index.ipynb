{
 "cells": [
  {
   "cell_type": "raw",
   "id": "12a341d2",
   "metadata": {},
   "source": [
    "---\n",
    "title: Tutorial Update Users\n",
    "output-file: bulk_update_users.html\n",
    "author: [Jae Wilson]\n",
    "date: 2024-01-02\n",
    "categories: ['Python', 'DomoJupyter', 'DomoUser']\n",
    "skip_showdoc: false\n",
    "---\n"
   ]
  },
  {
   "cell_type": "markdown",
   "id": "8df42fc6-a641-4a1b-bb56-d8c48da2eeda",
   "metadata": {},
   "source": [
    "# DELETE Duplicate Groups\n",
    "\n",
    "sometimes you have duplicate groups and want to remove all groups that match a regex expression.\n",
    "\n",
    "1. get all groups from an instance\n",
    "2. use list comprehension and the `ACCOUNT_MATCH` to find groups whose name matches any of the account_match criteria\n",
    "\n",
    "3. write a function that receives a parameter is_test : bool = True\n",
    "   - if is_test == True return a pd.DataFrame of accounts to be deleted\n",
    "   - if is_test == False delete the groups\n",
    "\n",
    "use this class\n",
    "https://github.com/jaewilson07/domo_library/blob/main/nbs/classes/50_DomoGroup.ipynb\n",
    "\n",
    "tutorial walthrough\n",
    "https://youtu.be/1EQJ1R5fiGQ\n"
   ]
  },
  {
   "cell_type": "code",
   "execution_count": 3,
   "id": "87a36c0e-1645-43e9-81e7-a0a1abe405fa",
   "metadata": {},
   "outputs": [],
   "source": [
    "# %pip install --upgrade  domolibrary"
   ]
  },
  {
   "cell_type": "code",
   "execution_count": 4,
   "id": "3635d762-6e04-4ca4-9f66-7b16252555bc",
   "metadata": {},
   "outputs": [
    {
     "data": {
      "text/plain": [
       "'0.3.38'"
      ]
     },
     "execution_count": 4,
     "metadata": {},
     "output_type": "execute_result"
    }
   ],
   "source": [
    "import domolibrary\n",
    "\n",
    "domolibrary.__version__"
   ]
  },
  {
   "cell_type": "markdown",
   "id": "377efe9e-0917-41e7-ba9a-ca8fda8d04a9",
   "metadata": {},
   "source": [
    "# CONFIG ENV and CREDENTIALS\n"
   ]
  },
  {
   "cell_type": "code",
   "execution_count": 7,
   "id": "e26fefbb",
   "metadata": {},
   "outputs": [],
   "source": [
    "import os\n",
    "import domolibrary.client.DomoAuth as dmda\n",
    "\n",
    "token_auth = dmda.DomoTokenAuth(\n",
    "    domo_access_token=os.environ[\"DOMO_DOJO_ACCESS_TOKEN\"],\n",
    "    domo_instance=\"domo-community\",\n",
    ")"
   ]
  },
  {
   "cell_type": "code",
   "execution_count": null,
   "id": "79d4d9fc",
   "metadata": {},
   "outputs": [],
   "source": []
  }
 ],
 "metadata": {
  "kernelspec": {
   "display_name": "python3",
   "language": "python",
   "name": "python3"
  },
  "language_info": {
   "codemirror_mode": {
    "name": "ipython",
    "version": 3
   },
   "file_extension": ".py",
   "mimetype": "text/x-python",
   "name": "python",
   "nbconvert_exporter": "python",
   "pygments_lexer": "ipython3",
   "version": "3.10.13"
  }
 },
 "nbformat": 4,
 "nbformat_minor": 5
}
