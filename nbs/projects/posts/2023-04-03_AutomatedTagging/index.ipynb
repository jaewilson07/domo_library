{
  "cells": [
    {
      "cell_type": "raw",
      "metadata": {},
      "source": [
        "---\n",
        "title: Automated Tagging\n",
        "output-file: auto_tag.html\n",
        "---\n"
      ]
    },
    {
      "attachments": {},
      "cell_type": "markdown",
      "metadata": {},
      "source": [
        "a short post on using DomoLibrary to automate dataset tagging\n",
        "\n",
        "# Project Configuration\n"
      ]
    },
    {
      "cell_type": "code",
      "execution_count": 68,
      "metadata": {},
      "outputs": [],
      "source": [
        "import domolibrary.client.DomoAuth as dmda\n",
        "import os\n",
        "\n",
        "token_auth = dmda.DomoTokenAuth(domo_instance = 'domo-community', domo_access_token= os.environ['DOMO_DOJO_ACCESS_TOKEN'])\n",
        "\n",
        "await token_auth.get_auth_token()\n",
        "\n",
        "assert isinstance(token_auth.token, str)"
      ]
    },
    {
      "attachments": {},
      "cell_type": "markdown",
      "metadata": {},
      "source": [
        "# Get Datasets"
      ]
    },
    {
      "cell_type": "code",
      "execution_count": 69,
      "metadata": {},
      "outputs": [
        {
          "data": {
            "text/plain": [
              "[DomoDataset(id='da552832-c04d-46ac-936a-f982d9d3f2e6', display_type='api', data_provider_type=None, name='SalesProject01_hello world_INT *', description=None, row_count=0, column_count=0, stream_id=None, owner={'id': '1893952720', 'name': 'Jae Wilson1', 'type': 'USER', 'group': False}, formula={}, schema=DomoDataset_Schema(dataset=..., columns=[]), tags=DomoDataset_Tags(dataset=..., tag_ls=[])),\n",
              " DomoDataset(id='a2f255fc-6c24-4e63-9b61-0c88ae7c33a5', display_type='webform', data_provider_type='webform', name='AJ | Waterfall Demo', description=None, row_count=48, column_count=4, stream_id=973, owner={'id': '1345737456', 'name': 'Aditya Jain', 'type': 'USER', 'group': False}, formula={'calculation_c4e9c63d-f4c9-4c13-a7bc-8baf83f55721': {'templateId': 2662, 'id': 'calculation_c4e9c63d-f4c9-4c13-a7bc-8baf83f55721', 'name': 'WF Values', 'formula': \"SUM(CASE \\n\\tWHEN \\n    \\tDOMO_BEAST_MODE(2661) = 'Absolute' THEN `Values`\\n        ELSE\\n        (CASE \\n\\tWHEN \\n    DOMO_BEAST_MODE(2658) = LEFT(MONTHNAME(`Month`),3) THEN `Values` ELSE 0 \\nEND)\\n   -\\n   (CASE \\n\\tWHEN \\n    DOMO_BEAST_MODE(2659) = LEFT(MONTHNAME(`Month`),3) THEN `Values` ELSE 0 \\nEND)\\n    END)\", 'status': 'VALID', 'dataType': 'DOUBLE', 'persistedOnDataSource': True, 'isAggregatable': True, 'bignumber': False, 'columnPositions': [{'columnName': '`Values`', 'columnPosition': 62}, {'columnName': '`Month`', 'columnPosition': 149}, {'columnName': '`Values`', 'columnPosition': 166}, {'columnName': '`Month`', 'columnPosition': 253}, {'columnName': '`Values`', 'columnPosition': 270}]}, 'calculation_34e6562c-d19d-408d-8b68-91dc72d48150': {'templateId': 2660, 'id': 'calculation_34e6562c-d19d-408d-8b68-91dc72d48150', 'name': 'Values Delta', 'formula': 'SUM(CASE \\n\\tWHEN \\n    DOMO_BEAST_MODE(2658) = LEFT(MONTHNAME(`Month`),3) THEN `Values` ELSE 0 \\nEND)\\n   -\\n   SUM(CASE \\n\\tWHEN \\n    DOMO_BEAST_MODE(2659) = LEFT(MONTHNAME(`Month`),3) THEN `Values` ELSE 0 \\nEND)\\n    ', 'status': 'VALID', 'dataType': 'DOUBLE', 'persistedOnDataSource': True, 'isAggregatable': True, 'bignumber': False, 'columnPositions': [{'columnName': '`Month`', 'columnPosition': 60}, {'columnName': '`Values`', 'columnPosition': 77}, {'columnName': '`Month`', 'columnPosition': 167}, {'columnName': '`Values`', 'columnPosition': 184}]}}, schema=DomoDataset_Schema(dataset=..., columns=[]), tags=DomoDataset_Tags(dataset=..., tag_ls=[])),\n",
              " DomoDataset(id='dbb9502b-777f-4845-b218-fd212ffa334e', display_type='dataflow', data_provider_type='dataflow', name='AJ | Store Sales Analysis Dataset', description=None, row_count=907841, column_count=57, stream_id=None, owner={'id': '1345737456', 'name': 'Aditya Jain', 'type': 'USER', 'group': False}, formula={'calculation_bfad6d3f-ac3f-4f4c-9db6-c11c9b5cf137': {'templateId': 798, 'id': 'calculation_bfad6d3f-ac3f-4f4c-9db6-c11c9b5cf137', 'name': 'Retail Profit', 'formula': 'SUM(`current_retail_price`) - SUM(`current_cost`)', 'status': 'VALID', 'dataType': 'DOUBLE', 'persistedOnDataSource': True, 'isAggregatable': True, 'bignumber': False, 'columnPositions': [{'columnName': '`current_retail_price`', 'columnPosition': 4}, {'columnName': '`current_cost`', 'columnPosition': 34}]}, 'calculation_54803ae4-cad0-4d89-9dcd-440780bf27af': {'templateId': 796, 'id': 'calculation_54803ae4-cad0-4d89-9dcd-440780bf27af', 'name': 'Total Revenue', 'formula': \"`quantity_sold` * `unit_price` * \\nCASE WHEN DOMO_BEAST_MODE(2530) = 'lb' THEN 2.3 else 2.9 end\", 'status': 'VALID', 'dataType': 'DOUBLE', 'persistedOnDataSource': True, 'isAggregatable': False, 'bignumber': False, 'columnPositions': [{'columnName': '`quantity_sold`', 'columnPosition': 0}, {'columnName': '`unit_price`', 'columnPosition': 18}]}, 'calculation_2c68accf-d899-43e4-afca-9db6cfc65471': {'templateId': 799, 'id': 'calculation_2c68accf-d899-43e4-afca-9db6cfc65471', 'name': 'Wholesale Profit', 'formula': 'SUM(`current_wholesale_price`) - SUM(`current_cost`)', 'status': 'VALID', 'dataType': 'DOUBLE', 'persistedOnDataSource': True, 'isAggregatable': True, 'bignumber': False, 'columnPositions': [{'columnName': '`current_wholesale_price`', 'columnPosition': 4}, {'columnName': '`current_cost`', 'columnPosition': 37}]}, 'calculation_3715c792-0de0-4f18-941e-03ddf0280253': {'templateId': 2534, 'id': 'calculation_3715c792-0de0-4f18-941e-03ddf0280253', 'name': 'Dates', 'formula': \"CASE DOMO_BEAST_MODE(2533)\\nWHEN 'Months' THEN `Month_Name`\\nWHEN 'Quarters' THEN `Quarter_Name`\\nELSE `Year_ID`\\nEND\", 'status': 'VALID', 'dataType': 'STRING', 'persistedOnDataSource': True, 'isAggregatable': False, 'bignumber': False, 'columnPositions': [{'columnName': '`Month_Name`', 'columnPosition': 46}, {'columnName': '`Quarter_Name`', 'columnPosition': 80}, {'columnName': '`Year_ID`', 'columnPosition': 100}]}, 'calculation_910395bf-a1d1-4ab7-a69c-d9aca58e1bc5': {'templateId': 2529, 'id': 'calculation_910395bf-a1d1-4ab7-a69c-d9aca58e1bc5', 'name': 'PG BM', 'formula': \"CASE\\nWHEN DOMO_BEAST_MODE(2528) = 'Product' THEN `product`\\nWHEN DOMO_BEAST_MODE(2528) = 'Product Group' THEN `product_group`\\n\\nEND\", 'status': 'VALID', 'dataType': 'STRING', 'persistedOnDataSource': True, 'isAggregatable': False, 'bignumber': False, 'columnPositions': [{'columnName': '`product`', 'columnPosition': 49}, {'columnName': '`product_group`', 'columnPosition': 109}]}, 'calculation_5188cba2-d192-4bdd-bcc8-43f99a9aec6f': {'templateId': 2526, 'id': 'calculation_5188cba2-d192-4bdd-bcc8-43f99a9aec6f', 'name': 'Overall', 'formula': 'SUM(SUM(`unit_price`)) OVER ()', 'status': 'VALID', 'dataType': 'DOUBLE', 'persistedOnDataSource': True, 'isAggregatable': True, 'bignumber': False, 'columnPositions': [{'columnName': '`unit_price`', 'columnPosition': 8}]}, 'calculation_185dea03-8cdc-4b03-b783-aac67e10d40a': {'templateId': 2539, 'id': 'calculation_185dea03-8cdc-4b03-b783-aac67e10d40a', 'name': 'Product Details', 'formula': 'CONCAT(\\'<div><a href=\"https://domo-dojo.domo.com/page/1099148856?pfilters=[{\"column\":\"product_group\",\"operand\":\"IN\",\"values\":\"Food\"}]\" target=\"_blank\">\\',\\'Product Details\\',\\'</a></div>\\')', 'status': 'VALID', 'dataType': 'STRING', 'persistedOnDataSource': True, 'isAggregatable': False, 'bignumber': False}, 'calculation_70ace6e1-09cc-4e33-9fdc-2f4d1304478a': {'templateId': 800, 'id': 'calculation_70ace6e1-09cc-4e33-9fdc-2f4d1304478a', 'name': 'Customer Distinct', 'formula': 'COUNT(DISTINCT `customer_id`)', 'status': 'VALID', 'dataType': 'LONG', 'persistedOnDataSource': True, 'isAggregatable': True, 'bignumber': False, 'columnPositions': [{'columnName': '`customer_id`', 'columnPosition': 15}]}, 'calculation_5ffde809-7879-41cd-952d-d6e521d53c19': {'templateId': 801, 'id': 'calculation_5ffde809-7879-41cd-952d-d6e521d53c19', 'name': 'Distinct Staff', 'formula': 'COUNT(DISTINCT `staff_id`)', 'status': 'VALID', 'dataType': 'LONG', 'persistedOnDataSource': True, 'isAggregatable': True, 'bignumber': False, 'columnPositions': [{'columnName': '`staff_id`', 'columnPosition': 15}]}, 'calculation_7702d51a-e0d1-40a5-84d0-9026138bd0ef': {'templateId': 797, 'id': 'calculation_7702d51a-e0d1-40a5-84d0-9026138bd0ef', 'name': 'Customer Age', 'formula': 'YEAR(CURRENT_DATE()) - `birth_year`', 'status': 'VALID', 'dataType': 'LONG', 'persistedOnDataSource': True, 'isAggregatable': False, 'bignumber': False, 'columnPositions': [{'columnName': '`birth_year`', 'columnPosition': 23}]}, 'calculation_f24adf9e-3609-40d7-9c23-9db05c9228ed': {'templateId': 2532, 'id': 'calculation_f24adf9e-3609-40d7-9c23-9db05c9228ed', 'name': 'CAGR', 'formula': \"SUM(CASE\\n\\tWHEN YEAR(`transaction_date`) = 2019 THEN `unit_price` ELSE 0\\nEND)\\n/\\nSUM(\\n  CASE WHEN DOMO_BEAST_MODE(2531) = '1 Year' THEN \\n  CASE\\n\\tWHEN YEAR(`transaction_date`) = 2018 THEN `unit_price` ELSE 0\\nEND\\n  ELSE\\n  CASE\\n\\tWHEN YEAR(`transaction_date`) = 2017 THEN `unit_price` ELSE 0\\nEND\\nEND  \\n  )\", 'status': 'VALID', 'dataType': 'DOUBLE', 'persistedOnDataSource': True, 'isAggregatable': True, 'bignumber': False, 'columnPositions': [{'columnName': '`transaction_date`', 'columnPosition': 20}, {'columnName': '`unit_price`', 'columnPosition': 52}, {'columnName': '`transaction_date`', 'columnPosition': 153}, {'columnName': '`unit_price`', 'columnPosition': 185}, {'columnName': '`transaction_date`', 'columnPosition': 234}, {'columnName': '`unit_price`', 'columnPosition': 266}]}, 'calculation_f9e5a7ed-1c64-440b-b3a3-6dacb49db136': {'templateId': 803, 'id': 'calculation_f9e5a7ed-1c64-440b-b3a3-6dacb49db136', 'name': 'Weekday', 'formula': \"(CASE \\tWHEN  DAYOFWEEK(`transaction_date`) = 1 THEN 'SUNDAY'\\n \\t  \\tWHEN  DAYOFWEEK(`transaction_date`) = 2 THEN 'MONDAY'\\n \\t\\tWHEN  DAYOFWEEK(`transaction_date`) = 3 THEN 'TUESDAY'\\n \\t\\tWHEN  DAYOFWEEK(`transaction_date`) = 4 THEN 'WEDNESDAY'\\n \\t\\tWHEN  DAYOFWEEK(`transaction_date`) = 5 THEN 'THURSDAY'\\n \\t\\tWHEN  DAYOFWEEK(`transaction_date`) = 6 THEN 'FRIDAY'\\n \\t\\tELSE 'SATURDAY'\\n END)\", 'status': 'VALID', 'dataType': 'STRING', 'persistedOnDataSource': True, 'isAggregatable': False, 'bignumber': False, 'columnPositions': [{'columnName': '`transaction_date`', 'columnPosition': 23}, {'columnName': '`transaction_date`', 'columnPosition': 82}, {'columnName': '`transaction_date`', 'columnPosition': 139}, {'columnName': '`transaction_date`', 'columnPosition': 197}, {'columnName': '`transaction_date`', 'columnPosition': 257}, {'columnName': '`transaction_date`', 'columnPosition': 316}]}, 'calculation_c78f6bb0-b99f-4e6e-b2f6-0b19fdd00b6d': {'templateId': 802, 'id': 'calculation_c78f6bb0-b99f-4e6e-b2f6-0b19fdd00b6d', 'name': 'Distinct Store', 'formula': 'COUNT(DISTINCT `store_id`)', 'status': 'VALID', 'dataType': 'LONG', 'persistedOnDataSource': True, 'isAggregatable': True, 'bignumber': False, 'columnPositions': [{'columnName': '`store_id`', 'columnPosition': 15}]}}, schema=DomoDataset_Schema(dataset=..., columns=[]), tags=DomoDataset_Tags(dataset=..., tag_ls=['file-upload-new', 's_file-upload-new'])),\n",
              " DomoDataset(id='04c1574e-c8be-4721-9846-c6ffa491144b', display_type='domo-jupyterdata', data_provider_type='domo-jupyterdata', name='domo_kbs', description=None, row_count=1185, column_count=7, stream_id=825, owner={'id': '1893952720', 'name': 'Jae Wilson1', 'type': 'USER', 'group': False}, formula={'calculation_ca9d4b1c-f73a-4f76-9f94-d3c4ca6871c5': {'templateId': 2664, 'id': 'calculation_ca9d4b1c-f73a-4f76-9f94-d3c4ca6871c5', 'name': 'rowcount', 'formula': 'sum(1)', 'status': 'VALID', 'dataType': 'LONG', 'persistedOnDataSource': True, 'isAggregatable': True, 'bignumber': False}, 'calculation_38846559-d190-4ab1-809b-bcd361db5670': {'templateId': 2665, 'id': 'calculation_38846559-d190-4ab1-809b-bcd361db5670', 'name': 'max_views', 'formula': 'max(views)', 'status': 'VALID', 'dataType': 'LONG', 'persistedOnDataSource': True, 'isAggregatable': True, 'bignumber': False, 'columnPositions': [{'columnName': 'views', 'columnPosition': 4}]}}, schema=DomoDataset_Schema(dataset=..., columns=[]), tags=DomoDataset_Tags(dataset=..., tag_ls=['Apr-04-2023 13:57', 'developer_documentation', 'hackercore'])),\n",
              " DomoDataset(id='a71706b3-36e7-4d00-ba78-cb5728949d39', display_type='DataFlow', data_provider_type=None, name='BeastModesGovernance_02_ChangeReport', description=None, row_count=2477, column_count=11, stream_id=None, owner={'id': '1893952720', 'name': 'Jae Wilson1', 'type': 'USER', 'group': False}, formula={'calculation_88283a00-ab54-4419-936a-63e0cdb28f6b': {'templateId': 2663, 'id': 'calculation_88283a00-ab54-4419-936a-63e0cdb28f6b', 'name': 'rowcount', 'formula': 'sum(1)', 'status': 'VALID', 'dataType': 'LONG', 'persistedOnDataSource': True, 'isAggregatable': True, 'bignumber': False}}, schema=DomoDataset_Schema(dataset=..., columns=[]), tags=DomoDataset_Tags(dataset=..., tag_ls=[]))]"
            ]
          },
          "execution_count": 69,
          "metadata": {},
          "output_type": "execute_result"
        }
      ],
      "source": [
        "import domolibrary.classes.DomoDatacenter as ddc\n",
        "import pandas as pd\n",
        "\n",
        "domo_datasets = await ddc.DomoDatacenter.search_datasets(auth=token_auth)\n",
        "\n",
        "domo_datasets[0:5]"
      ]
    },
    {
      "cell_type": "code",
      "execution_count": 70,
      "metadata": {},
      "outputs": [],
      "source": [
        "def process_ds_dict(ds_dict):\n",
        "\n",
        "    proj_flow = ds_dict.get('name').split(\"_\", 1)[0]\n",
        "\n",
        "    # Match all digits in the string and replace them with an empty string\n",
        "    proj_name = proj_flow[:-2]\n",
        "    proj_phase = proj_flow[-2:]\n",
        "\n",
        "    _ = ds_dict.get('name').split(\"_\", 1)[1]\n",
        "\n",
        "    ds_type = _.split(\"_\")[-1].replace(' *', '')\n",
        "\n",
        "    v = {\n",
        "        '_id': ds_dict.get('id'),\n",
        "        '_ds_name': ds_dict.get('name'),\n",
        "        'provider_type': ds_dict.get('display_type') or ds_dict.get('data_provider_type'),\n",
        "        'proj_name': proj_name,\n",
        "        'proj_phase': proj_phase,\n",
        "        'ds_type': ds_type\n",
        "    }\n",
        "\n",
        "    return v\n"
      ]
    },
    {
      "cell_type": "code",
      "execution_count": 71,
      "metadata": {},
      "outputs": [],
      "source": [
        "def generate_tags(tag_dict):\n",
        "    \n",
        "    tag_ls = [ f\"{key} : {tag_dict[key]} *\" for key in tag_dict.keys() if not key.startswith('_')]\n",
        "    \n",
        "    info = {  key.replace('_', ''): tag_dict[key] for key in tag_dict.keys() if key.startswith('_')}\n",
        "    \n",
        "    return { 'tag_ls': tag_ls, **info }\n",
        "\n",
        "\n"
      ]
    },
    {
      "cell_type": "code",
      "execution_count": 72,
      "metadata": {},
      "outputs": [
        {
          "data": {
            "text/html": [
              "<div>\n",
              "<style scoped>\n",
              "    .dataframe tbody tr th:only-of-type {\n",
              "        vertical-align: middle;\n",
              "    }\n",
              "\n",
              "    .dataframe tbody tr th {\n",
              "        vertical-align: top;\n",
              "    }\n",
              "\n",
              "    .dataframe thead th {\n",
              "        text-align: right;\n",
              "    }\n",
              "</style>\n",
              "<table border=\"1\" class=\"dataframe\">\n",
              "  <thead>\n",
              "    <tr style=\"text-align: right;\">\n",
              "      <th></th>\n",
              "      <th>_id</th>\n",
              "      <th>_ds_name</th>\n",
              "      <th>provider_type</th>\n",
              "      <th>proj_name</th>\n",
              "      <th>proj_phase</th>\n",
              "      <th>ds_type</th>\n",
              "    </tr>\n",
              "  </thead>\n",
              "  <tbody>\n",
              "    <tr>\n",
              "      <th>0</th>\n",
              "      <td>da552832-c04d-46ac-936a-f982d9d3f2e6</td>\n",
              "      <td>SalesProject01_hello world_INT *</td>\n",
              "      <td>api</td>\n",
              "      <td>SalesProject</td>\n",
              "      <td>01</td>\n",
              "      <td>INT</td>\n",
              "    </tr>\n",
              "    <tr>\n",
              "      <th>1</th>\n",
              "      <td>063dd227-2a2d-4563-a372-6d08c950e86d</td>\n",
              "      <td>SalesProject02_summary_by_month_DASH *</td>\n",
              "      <td>api</td>\n",
              "      <td>SalesProject</td>\n",
              "      <td>02</td>\n",
              "      <td>DASH</td>\n",
              "    </tr>\n",
              "    <tr>\n",
              "      <th>2</th>\n",
              "      <td>6114155e-e6a5-4c9c-bec0-5f0b8e807579</td>\n",
              "      <td>SalesProject01_hello world3_INT *</td>\n",
              "      <td>api</td>\n",
              "      <td>SalesProject</td>\n",
              "      <td>01</td>\n",
              "      <td>INT</td>\n",
              "    </tr>\n",
              "    <tr>\n",
              "      <th>3</th>\n",
              "      <td>e5f44d26-4028-4282-88a9-239a0f909373</td>\n",
              "      <td>SalesProject02_summary_by_day_DASH *</td>\n",
              "      <td>api</td>\n",
              "      <td>SalesProject</td>\n",
              "      <td>02</td>\n",
              "      <td>DASH</td>\n",
              "    </tr>\n",
              "  </tbody>\n",
              "</table>\n",
              "</div>"
            ],
            "text/plain": [
              "                                    _id  \\\n",
              "0  da552832-c04d-46ac-936a-f982d9d3f2e6   \n",
              "1  063dd227-2a2d-4563-a372-6d08c950e86d   \n",
              "2  6114155e-e6a5-4c9c-bec0-5f0b8e807579   \n",
              "3  e5f44d26-4028-4282-88a9-239a0f909373   \n",
              "\n",
              "                                 _ds_name provider_type     proj_name  \\\n",
              "0        SalesProject01_hello world_INT *           api  SalesProject   \n",
              "1  SalesProject02_summary_by_month_DASH *           api  SalesProject   \n",
              "2       SalesProject01_hello world3_INT *           api  SalesProject   \n",
              "3    SalesProject02_summary_by_day_DASH *           api  SalesProject   \n",
              "\n",
              "  proj_phase ds_type  \n",
              "0         01     INT  \n",
              "1         02    DASH  \n",
              "2         01     INT  \n",
              "3         02    DASH  "
            ]
          },
          "execution_count": 72,
          "metadata": {},
          "output_type": "execute_result"
        }
      ],
      "source": [
        "import pandas as pd\n",
        "\n",
        "domo_datasets_clean = [ process_ds_dict(domo_dataset.__dict__)for domo_dataset in domo_datasets if domo_dataset.name.endswith('*')]\n",
        "pd.DataFrame(domo_datasets_clean)"
      ]
    },
    {
      "cell_type": "code",
      "execution_count": 73,
      "metadata": {},
      "outputs": [
        {
          "name": "stdout",
          "output_type": "stream",
          "text": [
            "[{'dsname': 'SalesProject01_hello world_INT *',\n",
            "  'id': 'da552832-c04d-46ac-936a-f982d9d3f2e6',\n",
            "  'tag_ls': ['provider_type : api *',\n",
            "             'proj_name : SalesProject *',\n",
            "             'proj_phase : 01 *',\n",
            "             'ds_type : INT *']},\n",
            " {'dsname': 'SalesProject02_summary_by_month_DASH *',\n",
            "  'id': '063dd227-2a2d-4563-a372-6d08c950e86d',\n",
            "  'tag_ls': ['provider_type : api *',\n",
            "             'proj_name : SalesProject *',\n",
            "             'proj_phase : 02 *',\n",
            "             'ds_type : DASH *']},\n",
            " {'dsname': 'SalesProject01_hello world3_INT *',\n",
            "  'id': '6114155e-e6a5-4c9c-bec0-5f0b8e807579',\n",
            "  'tag_ls': ['provider_type : api *',\n",
            "             'proj_name : SalesProject *',\n",
            "             'proj_phase : 01 *',\n",
            "             'ds_type : INT *']},\n",
            " {'dsname': 'SalesProject02_summary_by_day_DASH *',\n",
            "  'id': 'e5f44d26-4028-4282-88a9-239a0f909373',\n",
            "  'tag_ls': ['provider_type : api *',\n",
            "             'proj_name : SalesProject *',\n",
            "             'proj_phase : 02 *',\n",
            "             'ds_type : DASH *']}]\n"
          ]
        }
      ],
      "source": [
        "from pprint import pprint\n",
        "\n",
        "update_dataset_ls = [ generate_tags(tag_dict) for tag_dict in domo_datasets_clean]\n",
        "pprint(update_dataset_ls)"
      ]
    },
    {
      "cell_type": "code",
      "execution_count": 86,
      "metadata": {},
      "outputs": [
        {
          "ename": "TypeError",
          "evalue": "the JSON object must be str, bytes or bytearray, not NoneType",
          "output_type": "error",
          "traceback": [
            "\u001b[0;31m---------------------------------------------------------------------------\u001b[0m",
            "\u001b[0;31mTypeError\u001b[0m                                 Traceback (most recent call last)",
            "Cell \u001b[0;32mIn[86], line 15\u001b[0m\n\u001b[1;32m     13\u001b[0m \u001b[39m# add new tags\u001b[39;00m\n\u001b[1;32m     14\u001b[0m tag_ls \u001b[39m=\u001b[39m row\u001b[39m.\u001b[39mget(\u001b[39m'\u001b[39m\u001b[39mtag_ls\u001b[39m\u001b[39m'\u001b[39m)\n\u001b[0;32m---> 15\u001b[0m \u001b[39mawait\u001b[39;00m domo_dataset\u001b[39m.\u001b[39mtags\u001b[39m.\u001b[39madd(add_tag_ls \u001b[39m=\u001b[39m tag_ls)\n",
            "File \u001b[0;32m/workspaces/domo_library/domolibrary/classes/DomoDataset.py:218\u001b[0m, in \u001b[0;36madd\u001b[0;34m(self, add_tag_ls, dataset_id, auth, debug_api, session)\u001b[0m\n\u001b[1;32m    214\u001b[0m \u001b[39m\"\"\"appends tags to the list of existing dataset_tags\"\"\"\u001b[39;00m\n\u001b[1;32m    216\u001b[0m auth, dataset_id \u001b[39m=\u001b[39m \u001b[39mawait\u001b[39;00m _have_prereqs(\u001b[39mself\u001b[39m \u001b[39m=\u001b[39m \u001b[39mself\u001b[39m, auth\u001b[39m=\u001b[39mauth, dataset_id\u001b[39m=\u001b[39mdataset_id, function_name \u001b[39m=\u001b[39m \u001b[39m\"\u001b[39m\u001b[39mDomoDataset_Tags.add\u001b[39m\u001b[39m\"\u001b[39m)\n\u001b[0;32m--> 218\u001b[0m existing_tag_ls \u001b[39m=\u001b[39m \u001b[39mawait\u001b[39;00m \u001b[39mself\u001b[39m\u001b[39m.\u001b[39mget(dataset_id\u001b[39m=\u001b[39mdataset_id, auth\u001b[39m=\u001b[39mauth)\n\u001b[1;32m    220\u001b[0m add_tag_ls \u001b[39m+\u001b[39m\u001b[39m=\u001b[39m existing_tag_ls\n\u001b[1;32m    222\u001b[0m \u001b[39mreturn\u001b[39;00m \u001b[39mawait\u001b[39;00m \u001b[39mself\u001b[39m\u001b[39m.\u001b[39mset(\n\u001b[1;32m    223\u001b[0m     auth\u001b[39m=\u001b[39mauth,\n\u001b[1;32m    224\u001b[0m     dataset_id\u001b[39m=\u001b[39mdataset_id,\n\u001b[0;32m   (...)\u001b[0m\n\u001b[1;32m    227\u001b[0m     session\u001b[39m=\u001b[39msession,\n\u001b[1;32m    228\u001b[0m )\n",
            "File \u001b[0;32m/workspaces/domo_library/domolibrary/classes/DomoDataset.py:170\u001b[0m, in \u001b[0;36mDomoDataset_Tags.get\u001b[0;34m(self, dataset_id, auth, debug_api, session)\u001b[0m\n\u001b[1;32m    167\u001b[0m     \u001b[39mreturn\u001b[39;00m \u001b[39mNone\u001b[39;00m\n\u001b[1;32m    169\u001b[0m \u001b[39mif\u001b[39;00m res\u001b[39m.\u001b[39mis_success \u001b[39m==\u001b[39m \u001b[39mTrue\u001b[39;00m:\n\u001b[0;32m--> 170\u001b[0m     tag_ls \u001b[39m=\u001b[39m json\u001b[39m.\u001b[39;49mloads(res\u001b[39m.\u001b[39;49mresponse\u001b[39m.\u001b[39;49mget(\u001b[39m\"\u001b[39;49m\u001b[39mtags\u001b[39;49m\u001b[39m\"\u001b[39;49m))\n\u001b[1;32m    171\u001b[0m     \u001b[39mself\u001b[39m\u001b[39m.\u001b[39mtag_ls \u001b[39m=\u001b[39m tag_ls\n\u001b[1;32m    173\u001b[0m     \u001b[39mreturn\u001b[39;00m tag_ls\n",
            "File \u001b[0;32m~/.python/current/lib/python3.10/json/__init__.py:339\u001b[0m, in \u001b[0;36mloads\u001b[0;34m(s, cls, object_hook, parse_float, parse_int, parse_constant, object_pairs_hook, **kw)\u001b[0m\n\u001b[1;32m    337\u001b[0m \u001b[39melse\u001b[39;00m:\n\u001b[1;32m    338\u001b[0m     \u001b[39mif\u001b[39;00m \u001b[39mnot\u001b[39;00m \u001b[39misinstance\u001b[39m(s, (\u001b[39mbytes\u001b[39m, \u001b[39mbytearray\u001b[39m)):\n\u001b[0;32m--> 339\u001b[0m         \u001b[39mraise\u001b[39;00m \u001b[39mTypeError\u001b[39;00m(\u001b[39mf\u001b[39m\u001b[39m'\u001b[39m\u001b[39mthe JSON object must be str, bytes or bytearray, \u001b[39m\u001b[39m'\u001b[39m\n\u001b[1;32m    340\u001b[0m                         \u001b[39mf\u001b[39m\u001b[39m'\u001b[39m\u001b[39mnot \u001b[39m\u001b[39m{\u001b[39;00ms\u001b[39m.\u001b[39m\u001b[39m__class__\u001b[39m\u001b[39m.\u001b[39m\u001b[39m__name__\u001b[39m\u001b[39m}\u001b[39;00m\u001b[39m'\u001b[39m)\n\u001b[1;32m    341\u001b[0m     s \u001b[39m=\u001b[39m s\u001b[39m.\u001b[39mdecode(detect_encoding(s), \u001b[39m'\u001b[39m\u001b[39msurrogatepass\u001b[39m\u001b[39m'\u001b[39m)\n\u001b[1;32m    343\u001b[0m \u001b[39mif\u001b[39;00m (\u001b[39mcls\u001b[39m \u001b[39mis\u001b[39;00m \u001b[39mNone\u001b[39;00m \u001b[39mand\u001b[39;00m object_hook \u001b[39mis\u001b[39;00m \u001b[39mNone\u001b[39;00m \u001b[39mand\u001b[39;00m\n\u001b[1;32m    344\u001b[0m         parse_int \u001b[39mis\u001b[39;00m \u001b[39mNone\u001b[39;00m \u001b[39mand\u001b[39;00m parse_float \u001b[39mis\u001b[39;00m \u001b[39mNone\u001b[39;00m \u001b[39mand\u001b[39;00m\n\u001b[1;32m    345\u001b[0m         parse_constant \u001b[39mis\u001b[39;00m \u001b[39mNone\u001b[39;00m \u001b[39mand\u001b[39;00m object_pairs_hook \u001b[39mis\u001b[39;00m \u001b[39mNone\u001b[39;00m \u001b[39mand\u001b[39;00m \u001b[39mnot\u001b[39;00m kw):\n",
            "\u001b[0;31mTypeError\u001b[0m: the JSON object must be str, bytes or bytearray, not NoneType"
          ]
        }
      ],
      "source": [
        "import domolibrary.classes.DomoDataset as dmd\n",
        "import asyncio\n",
        "\n",
        "for row in update_dataset_ls:\n",
        "    domo_dataset = next((domo_dataset for domo_dataset in domo_datasets if row.get('id') == domo_dataset.id))\n",
        "\n",
        "    # remove old tags\n",
        "    remove_tag_ls = [tag for tag in domo_dataset.tags.tag_ls if tag.endswith(' *')]\n",
        "    \n",
        "    if len(remove_tag_ls) > 0:\n",
        "        domo_dataset.tags.remove(remove_tag_ls = remove_tag_ls)\n",
        "\n",
        "    # add new tags\n",
        "    tag_ls = row.get('tag_ls')\n",
        "    await domo_dataset.tags.add(add_tag_ls = tag_ls)\n"
      ]
    }
  ],
  "metadata": {
    "kernelspec": {
      "display_name": "Python 3",
      "language": "python",
      "name": "python3"
    },
    "language_info": {
      "codemirror_mode": {
        "name": "ipython",
        "version": 3
      },
      "file_extension": ".py",
      "mimetype": "text/x-python",
      "name": "python",
      "nbconvert_exporter": "python",
      "pygments_lexer": "ipython3",
      "version": "3.10.4"
    },
    "orig_nbformat": 4
  },
  "nbformat": 4,
  "nbformat_minor": 2
}
