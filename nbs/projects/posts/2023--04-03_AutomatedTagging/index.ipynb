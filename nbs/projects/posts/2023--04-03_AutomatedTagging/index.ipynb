{
  "cells": [
    {
      "cell_type": "raw",
      "metadata": {},
      "source": [
        "---\n",
        "title: Automated Tagging\n",
        "output-file: auto_tag.html\n",
        "---\n"
      ]
    },
    {
      "attachments": {},
      "cell_type": "markdown",
      "metadata": {},
      "source": [
        "a short post on using DomoLibrary to automate dataset tagging\n",
        "\n",
        "# Project Configuration\n"
      ]
    },
    {
      "cell_type": "code",
      "execution_count": 1,
      "metadata": {},
      "outputs": [],
      "source": [
        "import domolibrary.client.DomoAuth as dmda\n",
        "import os\n",
        "\n",
        "token_auth = dmda.DomoTokenAuth(domo_instance = 'domo-community', domo_access_token= os.environ['DOMO_DOJO_ACCESS_TOKEN'])\n",
        "\n",
        "await token_auth.get_auth_token()\n",
        "\n",
        "assert isinstance(token_auth.token, str)"
      ]
    }
  ],
  "metadata": {
    "kernelspec": {
      "display_name": "Python 3",
      "language": "python",
      "name": "python3"
    },
    "language_info": {
      "codemirror_mode": {
        "name": "ipython",
        "version": 3
      },
      "file_extension": ".py",
      "mimetype": "text/x-python",
      "name": "python",
      "nbconvert_exporter": "python",
      "pygments_lexer": "ipython3",
      "version": "3.10.4"
    },
    "orig_nbformat": 4
  },
  "nbformat": 4,
  "nbformat_minor": 2
}
