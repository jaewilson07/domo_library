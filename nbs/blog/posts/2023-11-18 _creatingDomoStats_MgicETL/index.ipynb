{
 "cells": [
  {
   "cell_type": "raw",
   "metadata": {},
   "source": [
    "---\n",
    "title: Tutorial - Generate a DomoStats dataset using DomoLibrary\n",
    "author: [Jae Wilson]\n",
    "date: 2023-11-28\n",
    "categories: ['DomoStats', 'MagicETL']\n",
    "---"
   ]
  },
  {
   "cell_type": "code",
   "execution_count": null,
   "id": "bae946e8-371d-4475-b588-8aeac01e5736",
   "metadata": {},
   "outputs": [],
   "source": [
    "# pip install domolibrary"
   ]
  },
  {
   "cell_type": "code",
   "execution_count": null,
   "id": "88a03454-93a8-4c82-bc3e-5b470836c876",
   "metadata": {},
   "outputs": [],
   "source": [
    "import os\n",
    "\n",
    "domo_username = os.environ.get('DOMO_USERNAME')\n",
    "domo_instance = 'domo-community'\n",
    "domo_password = os.environ.get('DOJO_PASSWORD')\n"
   ]
  },
  {
   "cell_type": "code",
   "execution_count": null,
   "id": "ac8de4b3-e938-4a53-85f0-cc327642e386",
   "metadata": {},
   "outputs": [
    {
     "name": "stdout",
     "output_type": "stream",
     "text": [
      "🎉 full_auth token retrieved from domo-community ⚙️\n"
     ]
    },
    {
     "data": {
      "text/plain": [
       "True"
      ]
     },
     "execution_count": null,
     "metadata": {},
     "output_type": "execute_result"
    }
   ],
   "source": [
    "import domolibrary.client.DomoAuth as dmda\n",
    "\n",
    "auth = dmda.DomoFullAuth(domo_username = domo_username, \n",
    "                         domo_password = domo_password, \n",
    "                         domo_instance = domo_instance)\n",
    "\n",
    "await auth.print_is_token()"
   ]
  },
  {
   "cell_type": "code",
   "execution_count": null,
   "id": "0f0779bb-ca89-4312-ac53-e54abf62d002",
   "metadata": {},
   "outputs": [
    {
     "data": {
      "text/plain": [
       "{'entityType': 'dataflow',\n",
       " 'databaseId': '131',\n",
       " 'searchId': {'indexName': None,\n",
       "  'databaseId': '131',\n",
       "  'customer': 'mmmm-0012-0200',\n",
       "  'entityType': 'dataflow'},\n",
       " 'createDate': 1678147044000,\n",
       " 'lastModified': 1678147835000,\n",
       " 'lastIndexed': 1680574033100,\n",
       " 'highlightedFields': {},\n",
       " 'language': 'English',\n",
       " 'requestAccess': False,\n",
       " 'score': 10.000001,\n",
       " 'name': 'BeastModesGovernance_01_AccumulateHistory',\n",
       " 'description': '',\n",
       " 'ownedById': '1893952720',\n",
       " 'ownedByName': 'Jae Wilson1',\n",
       " 'tags': [],\n",
       " 'lastRunDate': 1678147669000,\n",
       " 'inputDatasets': [{'name': 'Governance_Beast Modes',\n",
       "   'id': 'b7998b45-ccb5-4183-830e-8c2bdd489fd0'}],\n",
       " 'outputDatasets': [{'name': 'Governance_BeastMode_historical',\n",
       "   'id': 'e6559952-30ce-41a1-b831-f29ebe95d6e5'}],\n",
       " 'runCount': 2,\n",
       " 'successRate': 1.0,\n",
       " 'dataFlowType': 'MAGIC',\n",
       " 'status': 'SUCCESS',\n",
       " 'deleted': False,\n",
       " 'passwordProtected': False,\n",
       " 'abandoned': False,\n",
       " 'owners': [{'id': '1893952720',\n",
       "   'type': 'USER',\n",
       "   'displayName': 'Jae Wilson1'}],\n",
       " 'ownersLocalized': {'localizedMessage': 'Jae Wilson1', 'count': 1},\n",
       " 'paused': False,\n",
       " 'winnerText': 'BeastModesGovernance_01_AccumulateHistory',\n",
       " 'outputCount': 1,\n",
       " 'statusOrderPriority': 70,\n",
       " 'inputCount': 1,\n",
       " 'ownedByType': 'USER',\n",
       " 'customer': 'mmmm-0012-0200'}"
      ]
     },
     "execution_count": null,
     "metadata": {},
     "output_type": "execute_result"
    }
   ],
   "source": [
    "import domolibrary.classes.DomoDatacenter as dmdc\n",
    "\n",
    "domo_datacenter = dmdc.DomoDatacenter(auth = auth)\n",
    "\n",
    "dataflows_ls = await domo_datacenter.search_datacenter(\n",
    "    auth= auth,\n",
    "    entity_type = 'DATAFLOW',\n",
    "    additional_filters_ls = [{\"filterType\":\"term\",\"field\":\"data_flow_type\",\"value\":\"MAGIC\",\"name\":\"Magic ETL v2\",\"not\":False}]\n",
    ")\n",
    "\n",
    "dataflows_ls[0]\n"
   ]
  },
  {
   "cell_type": "code",
   "execution_count": null,
   "id": "38ea7820-ae9a-4422-ab10-9876c3dfb9d0",
   "metadata": {},
   "outputs": [
    {
     "data": {
      "text/plain": [
       "['131', '227', '37', '185', '38']"
      ]
     },
     "execution_count": null,
     "metadata": {},
     "output_type": "execute_result"
    }
   ],
   "source": [
    "dataflow_ids = [dataflow.get('databaseId') for dataflow in dataflows_ls]\n",
    "dataflow_ids[0:5]"
   ]
  },
  {
   "cell_type": "code",
   "execution_count": null,
   "id": "182c8833-d6fc-4231-829f-e7bcc59a09ef",
   "metadata": {},
   "outputs": [
    {
     "data": {
      "text/plain": [
       "DomoDataflow(id=131, name='BeastModesGovernance_01_AccumulateHistory', auth=DomoFullAuth(domo_instance='domo-community', domo_username='jae@onyxreporting.com', token_name='full_auth', is_valid_token=True, url_manual_login='https://domo-community.domo.com/auth/index?domoManualLogin=true'), owner=None, description=None, tags=None, actions=[DomoDataflow_Action(type='LoadFromVault', id='40554fc4-428a-4117-8820-b3f4f4927021', name='Governance_Beast Modes', data_source_id='b7998b45-ccb5-4183-830e-8c2bdd489fd0', sql=None), DomoDataflow_Action(type='ExpressionEvaluator', id='05082103-d42e-49ab-a66e-bd31b4c0e3df', name='Add Formula', data_source_id=None, sql=None), DomoDataflow_Action(type='PublishToVault', id='fe77761b-eb11-4491-b19c-ebb56d009b76', name='Governance_BeastMode_historical', data_source_id='e6559952-30ce-41a1-b831-f29ebe95d6e5', sql=None)])"
      ]
     },
     "execution_count": null,
     "metadata": {},
     "output_type": "execute_result"
    }
   ],
   "source": [
    "import domolibrary.classes.DomoDataflow as dmdf\n",
    "import asyncio\n",
    "\n",
    "dataflow_definition_ls = await asyncio.gather( *[dmdf.DomoDataflow.get_from_id(dataflow_id = dataflow_id, auth = auth) for dataflow_id in dataflow_ids])\n",
    "dataflow_definition_ls[0]"
   ]
  },
  {
   "cell_type": "code",
   "execution_count": null,
   "id": "e52105a2-9b98-4ebf-ad9d-f3caa1eeae9a",
   "metadata": {},
   "outputs": [
    {
     "data": {
      "text/plain": [
       "[DomoDataflow_Action(type='LoadFromVault', id='40554fc4-428a-4117-8820-b3f4f4927021', name='Governance_Beast Modes', data_source_id='b7998b45-ccb5-4183-830e-8c2bdd489fd0', sql=None),\n",
       " DomoDataflow_Action(type='ExpressionEvaluator', id='05082103-d42e-49ab-a66e-bd31b4c0e3df', name='Add Formula', data_source_id=None, sql=None),\n",
       " DomoDataflow_Action(type='PublishToVault', id='fe77761b-eb11-4491-b19c-ebb56d009b76', name='Governance_BeastMode_historical', data_source_id='e6559952-30ce-41a1-b831-f29ebe95d6e5', sql=None)]"
      ]
     },
     "execution_count": null,
     "metadata": {},
     "output_type": "execute_result"
    }
   ],
   "source": [
    "dataflow_definition_ls[0].actions"
   ]
  },
  {
   "cell_type": "code",
   "execution_count": null,
   "id": "3a3989e9-fba7-44e4-973d-0cdefc8f6f67",
   "metadata": {},
   "outputs": [
    {
     "data": {
      "text/plain": [
       "[{'dataflow_id': 131,\n",
       "  'datafow_name': 'BeastModesGovernance_01_AccumulateHistory',\n",
       "  'action_type': 'LoadFromVault'},\n",
       " {'dataflow_id': 131,\n",
       "  'datafow_name': 'BeastModesGovernance_01_AccumulateHistory',\n",
       "  'action_type': 'ExpressionEvaluator'},\n",
       " {'dataflow_id': 131,\n",
       "  'datafow_name': 'BeastModesGovernance_01_AccumulateHistory',\n",
       "  'action_type': 'PublishToVault'}]"
      ]
     },
     "execution_count": null,
     "metadata": {},
     "output_type": "execute_result"
    }
   ],
   "source": [
    "\n",
    "def get_action_list(domo_dataflow: dmdf.DomoDataflow):\n",
    "    return [{'dataflow_id': domo_dataflow.id,\n",
    "                 'datafow_name': domo_dataflow.name,\n",
    "                 'action_type': domo_action.type} for domo_action in domo_dataflow.actions]\n",
    "\n",
    "get_action_list(domo_dataflow = dataflow_definition_ls[0])"
   ]
  },
  {
   "cell_type": "code",
   "execution_count": null,
   "id": "819035f6-649a-478d-bad6-06f59947496d",
   "metadata": {},
   "outputs": [
    {
     "data": {
      "text/plain": [
       "[{'dataflow_id': 131,\n",
       "  'datafow_name': 'BeastModesGovernance_01_AccumulateHistory',\n",
       "  'action_type': 'LoadFromVault'},\n",
       " {'dataflow_id': 131,\n",
       "  'datafow_name': 'BeastModesGovernance_01_AccumulateHistory',\n",
       "  'action_type': 'ExpressionEvaluator'},\n",
       " {'dataflow_id': 131,\n",
       "  'datafow_name': 'BeastModesGovernance_01_AccumulateHistory',\n",
       "  'action_type': 'PublishToVault'},\n",
       " {'dataflow_id': 227,\n",
       "  'datafow_name': 'DDX_Landing Page_QA',\n",
       "  'action_type': 'LoadFromVault'},\n",
       " {'dataflow_id': 227,\n",
       "  'datafow_name': 'DDX_Landing Page_QA',\n",
       "  'action_type': 'WindowAction'}]"
      ]
     },
     "execution_count": null,
     "metadata": {},
     "output_type": "execute_result"
    }
   ],
   "source": [
    "\n",
    "action_ls = [get_action_list(dd_obj) for dd_obj in dataflow_definition_ls]\n",
    "\n",
    "flat_action_ls = [ action for a_list in action_ls for action in a_list]\n",
    "flat_action_ls[0:5]"
   ]
  },
  {
   "cell_type": "code",
   "execution_count": null,
   "id": "e1c5b5bc-b1e1-4a8f-b49b-254c01e5cba1",
   "metadata": {},
   "outputs": [
    {
     "data": {
      "text/html": [
       "<div>\n",
       "<style scoped>\n",
       "    .dataframe tbody tr th:only-of-type {\n",
       "        vertical-align: middle;\n",
       "    }\n",
       "\n",
       "    .dataframe tbody tr th {\n",
       "        vertical-align: top;\n",
       "    }\n",
       "\n",
       "    .dataframe thead th {\n",
       "        text-align: right;\n",
       "    }\n",
       "</style>\n",
       "<table border=\"1\" class=\"dataframe\">\n",
       "  <thead>\n",
       "    <tr style=\"text-align: right;\">\n",
       "      <th></th>\n",
       "      <th>dataflow_id</th>\n",
       "      <th>datafow_name</th>\n",
       "      <th>action_type</th>\n",
       "    </tr>\n",
       "  </thead>\n",
       "  <tbody>\n",
       "    <tr>\n",
       "      <th>0</th>\n",
       "      <td>131</td>\n",
       "      <td>BeastModesGovernance_01_AccumulateHistory</td>\n",
       "      <td>LoadFromVault</td>\n",
       "    </tr>\n",
       "    <tr>\n",
       "      <th>1</th>\n",
       "      <td>131</td>\n",
       "      <td>BeastModesGovernance_01_AccumulateHistory</td>\n",
       "      <td>ExpressionEvaluator</td>\n",
       "    </tr>\n",
       "    <tr>\n",
       "      <th>2</th>\n",
       "      <td>131</td>\n",
       "      <td>BeastModesGovernance_01_AccumulateHistory</td>\n",
       "      <td>PublishToVault</td>\n",
       "    </tr>\n",
       "    <tr>\n",
       "      <th>3</th>\n",
       "      <td>227</td>\n",
       "      <td>DDX_Landing Page_QA</td>\n",
       "      <td>LoadFromVault</td>\n",
       "    </tr>\n",
       "    <tr>\n",
       "      <th>4</th>\n",
       "      <td>227</td>\n",
       "      <td>DDX_Landing Page_QA</td>\n",
       "      <td>WindowAction</td>\n",
       "    </tr>\n",
       "  </tbody>\n",
       "</table>\n",
       "</div>"
      ],
      "text/plain": [
       "   dataflow_id                               datafow_name          action_type\n",
       "0          131  BeastModesGovernance_01_AccumulateHistory        LoadFromVault\n",
       "1          131  BeastModesGovernance_01_AccumulateHistory  ExpressionEvaluator\n",
       "2          131  BeastModesGovernance_01_AccumulateHistory       PublishToVault\n",
       "3          227                        DDX_Landing Page_QA        LoadFromVault\n",
       "4          227                        DDX_Landing Page_QA         WindowAction"
      ]
     },
     "execution_count": null,
     "metadata": {},
     "output_type": "execute_result"
    }
   ],
   "source": [
    "import pandas as pd\n",
    "\n",
    "df = pd.DataFrame(flat_action_ls)\n",
    "df[0:5]"
   ]
  },
  {
   "cell_type": "code",
   "execution_count": null,
   "id": "6d35e51f-8dc9-462f-b591-16e7434a4b09",
   "metadata": {},
   "outputs": [],
   "source": [
    "df.to_csv('marks_csv.csv')"
   ]
  }
 ],
 "metadata": {
  "kernelspec": {
   "display_name": "python3",
   "language": "python",
   "name": "python3"
  }
 },
 "nbformat": 4,
 "nbformat_minor": 5
}
