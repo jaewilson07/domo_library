{
 "cells": [
  {
   "cell_type": "code",
   "execution_count": 2,
   "id": "bae946e8-371d-4475-b588-8aeac01e5736",
   "metadata": {
    "tags": []
   },
   "outputs": [],
   "source": [
    "# pip install domolibrary"
   ]
  },
  {
   "cell_type": "code",
   "execution_count": 6,
   "id": "88a03454-93a8-4c82-bc3e-5b470836c876",
   "metadata": {
    "tags": []
   },
   "outputs": [],
   "source": [
    "import dotenv\n",
    "import os\n",
    "\n",
    "dotenv.load_dotenv('env.txt')\n",
    "domo_username = os.environ.get('DOMO_USERNAME')\n",
    "domo_instance = os.environ.get('DOMO_INSTANCE')\n",
    "domo_password = os.environ.get('DOMO_PASSWORD')\n",
    "\n"
   ]
  },
  {
   "cell_type": "code",
   "execution_count": 8,
   "id": "ac8de4b3-e938-4a53-85f0-cc327642e386",
   "metadata": {
    "tags": []
   },
   "outputs": [
    {
     "name": "stdout",
     "output_type": "stream",
     "text": [
      "🎉 token retrieved from domo-community ⚙️\n"
     ]
    },
    {
     "data": {
      "text/plain": [
       "True"
      ]
     },
     "execution_count": 8,
     "metadata": {},
     "output_type": "execute_result"
    }
   ],
   "source": [
    "import domolibrary.client.DomoAuth as dmda\n",
    "\n",
    "auth = dmda.DomoFullAuth(domo_username = domo_username, \n",
    "                         domo_password = domo_password, \n",
    "                         domo_instance = domo_instance)\n",
    "\n",
    "await auth.print_is_token()"
   ]
  },
  {
   "cell_type": "code",
   "execution_count": 14,
   "id": "0f0779bb-ca89-4312-ac53-e54abf62d002",
   "metadata": {
    "tags": []
   },
   "outputs": [
    {
     "data": {
      "text/plain": [
       "{'entityType': 'dataflow',\n",
       " 'databaseId': '227',\n",
       " 'searchId': {'indexName': None,\n",
       "  'databaseId': '227',\n",
       "  'customer': 'mmmm-0012-0200',\n",
       "  'entityType': 'dataflow'},\n",
       " 'createDate': 1686863564000,\n",
       " 'lastModified': 1699722570000,\n",
       " 'lastIndexed': 1700700196369,\n",
       " 'highlightedFields': {},\n",
       " 'language': 'English',\n",
       " 'requestAccess': False,\n",
       " 'score': 57.957905,\n",
       " 'name': 'DDX_Landing Page_QA',\n",
       " 'description': '',\n",
       " 'ownedById': '1893952720',\n",
       " 'ownedByName': 'Jae Wilson1',\n",
       " 'tags': [],\n",
       " 'lastRunDate': 1686863796000,\n",
       " 'inputDatasets': [{'name': 'monit_user_accesslist',\n",
       "   'id': '6ddbcb8d-0f38-48ad-bd73-f6b35c4b7daf'}],\n",
       " 'outputDatasets': [{'name': 'DDX_Landing Page_QA',\n",
       "   'id': '51260f1d-b146-4dff-a1d8-68b7aa0b740b'}],\n",
       " 'runCount': 2,\n",
       " 'successRate': 1.0,\n",
       " 'dataFlowType': 'MAGIC',\n",
       " 'status': 'SUCCESS',\n",
       " 'deleted': False,\n",
       " 'passwordProtected': False,\n",
       " 'abandoned': False,\n",
       " 'owners': [{'id': '1893952720',\n",
       "   'type': 'USER',\n",
       "   'displayName': 'Jae Wilson1'}],\n",
       " 'ownersLocalized': {'localizedMessage': 'Jae Wilson1', 'count': 1},\n",
       " 'paused': False,\n",
       " 'winnerText': 'DDX_Landing Page_QA',\n",
       " 'statusOrderPriority': 70,\n",
       " 'inputCount': 1,\n",
       " 'outputCount': 1,\n",
       " 'ownedByType': 'USER',\n",
       " 'customer': 'mmmm-0012-0200'}"
      ]
     },
     "execution_count": 14,
     "metadata": {},
     "output_type": "execute_result"
    }
   ],
   "source": [
    "import domolibrary.classes.DomoDatacenter as dmdc\n",
    "\n",
    "domo_datacenter = dmdc.DomoDatacenter(auth = auth)\n",
    "\n",
    "dataflows_ls = await domo_datacenter.search_datacenter(\n",
    "    auth= auth,\n",
    "    entity_type = 'DATAFLOW',\n",
    "    additional_filters_ls = [{\"filterType\":\"term\",\"field\":\"data_flow_type\",\"value\":\"MAGIC\",\"name\":\"Magic ETL v2\",\"not\":False}]\n",
    ")\n",
    "\n",
    "dataflows_ls[0]\n"
   ]
  },
  {
   "cell_type": "code",
   "execution_count": 18,
   "id": "38ea7820-ae9a-4422-ab10-9876c3dfb9d0",
   "metadata": {
    "tags": []
   },
   "outputs": [
    {
     "data": {
      "text/plain": [
       "['227', '131', '37', '185', '38']"
      ]
     },
     "execution_count": 18,
     "metadata": {},
     "output_type": "execute_result"
    }
   ],
   "source": [
    "dataflow_ids = [dataflow.get('databaseId') for dataflow in dataflows_ls]\n",
    "dataflow_ids[0:5]"
   ]
  },
  {
   "cell_type": "code",
   "execution_count": 30,
   "id": "182c8833-d6fc-4231-829f-e7bcc59a09ef",
   "metadata": {
    "tags": []
   },
   "outputs": [
    {
     "data": {
      "text/plain": [
       "DomoDataflow(id=227, name='DDX_Landing Page_QA', auth=DomoFullAuth(domo_instance='domo-community', domo_username='jae@onyxreporting.com', token_name='full_auth', is_valid_token=True, url_manual_login='https://domo-community.domo.com/auth/index?domoManualLogin=true'), owner=None, description=None, tags=None, actions=[DomoDataflow_Action(type='LoadFromVault', id='b9bb0f01-2517-4595-a077-c9778e5ffc48', name='monit_user_accesslist', data_source_id='6ddbcb8d-0f38-48ad-bd73-f6b35c4b7daf', sql=None), DomoDataflow_Action(type='WindowAction', id='52f47029-06e0-4599-9ed8-21c4b9386c89', name='Rank & Window', data_source_id=None, sql=None), DomoDataflow_Action(type='ExpressionEvaluator', id='623883e9-bdc1-44cd-9fb4-6277d0e123de', name='Add Formula', data_source_id=None, sql=None), DomoDataflow_Action(type='Metadata', id='99ad5978-9a19-41e1-99d7-3d0ce58f7467', name='Alter Columns', data_source_id=None, sql=None), DomoDataflow_Action(type='SelectValues', id='4cf42103-c52d-4b92-b26f-63832ead11ee', name='Select Columns', data_source_id=None, sql=None), DomoDataflow_Action(type='ExpressionEvaluator', id='435803f2-08a4-42b3-8eb2-295b1519c85f', name='Add Formula 1', data_source_id=None, sql=None), DomoDataflow_Action(type='PublishToVault', id='0c0f0aa1-06b7-4ec1-a3bb-2b28c9a28fa7', name='DDX_Landing Page_QA', data_source_id='51260f1d-b146-4dff-a1d8-68b7aa0b740b', sql=None)])"
      ]
     },
     "execution_count": 30,
     "metadata": {},
     "output_type": "execute_result"
    }
   ],
   "source": [
    "import domolibrary.classes.DomoDataflow as dmdf\n",
    "import asyncio\n",
    "\n",
    "dataflow_definition_ls = await asyncio.gather( *[dmdf.DomoDataflow.get_from_id(dataflow_id = dataflow_id, auth = auth) for dataflow_id in dataflow_ids])\n",
    "dataflow_definition_ls[0]"
   ]
  },
  {
   "cell_type": "code",
   "execution_count": 31,
   "id": "e52105a2-9b98-4ebf-ad9d-f3caa1eeae9a",
   "metadata": {
    "tags": []
   },
   "outputs": [
    {
     "data": {
      "text/plain": [
       "[DomoDataflow_Action(type='LoadFromVault', id='b9bb0f01-2517-4595-a077-c9778e5ffc48', name='monit_user_accesslist', data_source_id='6ddbcb8d-0f38-48ad-bd73-f6b35c4b7daf', sql=None),\n",
       " DomoDataflow_Action(type='WindowAction', id='52f47029-06e0-4599-9ed8-21c4b9386c89', name='Rank & Window', data_source_id=None, sql=None),\n",
       " DomoDataflow_Action(type='ExpressionEvaluator', id='623883e9-bdc1-44cd-9fb4-6277d0e123de', name='Add Formula', data_source_id=None, sql=None),\n",
       " DomoDataflow_Action(type='Metadata', id='99ad5978-9a19-41e1-99d7-3d0ce58f7467', name='Alter Columns', data_source_id=None, sql=None),\n",
       " DomoDataflow_Action(type='SelectValues', id='4cf42103-c52d-4b92-b26f-63832ead11ee', name='Select Columns', data_source_id=None, sql=None),\n",
       " DomoDataflow_Action(type='ExpressionEvaluator', id='435803f2-08a4-42b3-8eb2-295b1519c85f', name='Add Formula 1', data_source_id=None, sql=None),\n",
       " DomoDataflow_Action(type='PublishToVault', id='0c0f0aa1-06b7-4ec1-a3bb-2b28c9a28fa7', name='DDX_Landing Page_QA', data_source_id='51260f1d-b146-4dff-a1d8-68b7aa0b740b', sql=None)]"
      ]
     },
     "execution_count": 31,
     "metadata": {},
     "output_type": "execute_result"
    }
   ],
   "source": [
    "dataflow_definition_ls[0].actions"
   ]
  },
  {
   "cell_type": "code",
   "execution_count": 33,
   "id": "3a3989e9-fba7-44e4-973d-0cdefc8f6f67",
   "metadata": {
    "tags": []
   },
   "outputs": [
    {
     "data": {
      "text/plain": [
       "[{'dataflow_id': 227,\n",
       "  'datafow_name': 'DDX_Landing Page_QA',\n",
       "  'action_type': 'LoadFromVault'},\n",
       " {'dataflow_id': 227,\n",
       "  'datafow_name': 'DDX_Landing Page_QA',\n",
       "  'action_type': 'WindowAction'},\n",
       " {'dataflow_id': 227,\n",
       "  'datafow_name': 'DDX_Landing Page_QA',\n",
       "  'action_type': 'ExpressionEvaluator'},\n",
       " {'dataflow_id': 227,\n",
       "  'datafow_name': 'DDX_Landing Page_QA',\n",
       "  'action_type': 'Metadata'},\n",
       " {'dataflow_id': 227,\n",
       "  'datafow_name': 'DDX_Landing Page_QA',\n",
       "  'action_type': 'SelectValues'},\n",
       " {'dataflow_id': 227,\n",
       "  'datafow_name': 'DDX_Landing Page_QA',\n",
       "  'action_type': 'ExpressionEvaluator'},\n",
       " {'dataflow_id': 227,\n",
       "  'datafow_name': 'DDX_Landing Page_QA',\n",
       "  'action_type': 'PublishToVault'}]"
      ]
     },
     "execution_count": 33,
     "metadata": {},
     "output_type": "execute_result"
    }
   ],
   "source": [
    "\n",
    "def get_action_list(domo_dataflow: dmdf.DomoDataflow):\n",
    "    return [{'dataflow_id': domo_dataflow.id,\n",
    "                 'datafow_name': domo_dataflow.name,\n",
    "                 'action_type': domo_action.type} for domo_action in domo_dataflow.actions]\n",
    "\n",
    "get_action_list(domo_dataflow = dataflow_definition_ls[0])"
   ]
  },
  {
   "cell_type": "code",
   "execution_count": 34,
   "id": "819035f6-649a-478d-bad6-06f59947496d",
   "metadata": {
    "tags": []
   },
   "outputs": [
    {
     "data": {
      "text/plain": [
       "[{'dataflow_id': 227,\n",
       "  'datafow_name': 'DDX_Landing Page_QA',\n",
       "  'action_type': 'LoadFromVault'},\n",
       " {'dataflow_id': 227,\n",
       "  'datafow_name': 'DDX_Landing Page_QA',\n",
       "  'action_type': 'WindowAction'},\n",
       " {'dataflow_id': 227,\n",
       "  'datafow_name': 'DDX_Landing Page_QA',\n",
       "  'action_type': 'ExpressionEvaluator'},\n",
       " {'dataflow_id': 227,\n",
       "  'datafow_name': 'DDX_Landing Page_QA',\n",
       "  'action_type': 'Metadata'},\n",
       " {'dataflow_id': 227,\n",
       "  'datafow_name': 'DDX_Landing Page_QA',\n",
       "  'action_type': 'SelectValues'}]"
      ]
     },
     "execution_count": 34,
     "metadata": {},
     "output_type": "execute_result"
    }
   ],
   "source": [
    "\n",
    "action_ls = [get_action_list(dd_obj) for dd_obj in dataflow_definition_ls]\n",
    "\n",
    "flat_action_ls = [ action for a_list in action_ls for action in a_list]\n",
    "flat_action_ls[0:5]"
   ]
  },
  {
   "cell_type": "code",
   "execution_count": 35,
   "id": "e1c5b5bc-b1e1-4a8f-b49b-254c01e5cba1",
   "metadata": {
    "tags": []
   },
   "outputs": [
    {
     "data": {
      "text/html": [
       "<div>\n",
       "<style scoped>\n",
       "    .dataframe tbody tr th:only-of-type {\n",
       "        vertical-align: middle;\n",
       "    }\n",
       "\n",
       "    .dataframe tbody tr th {\n",
       "        vertical-align: top;\n",
       "    }\n",
       "\n",
       "    .dataframe thead th {\n",
       "        text-align: right;\n",
       "    }\n",
       "</style>\n",
       "<table border=\"1\" class=\"dataframe\">\n",
       "  <thead>\n",
       "    <tr style=\"text-align: right;\">\n",
       "      <th></th>\n",
       "      <th>dataflow_id</th>\n",
       "      <th>datafow_name</th>\n",
       "      <th>action_type</th>\n",
       "    </tr>\n",
       "  </thead>\n",
       "  <tbody>\n",
       "    <tr>\n",
       "      <th>0</th>\n",
       "      <td>227</td>\n",
       "      <td>DDX_Landing Page_QA</td>\n",
       "      <td>LoadFromVault</td>\n",
       "    </tr>\n",
       "    <tr>\n",
       "      <th>1</th>\n",
       "      <td>227</td>\n",
       "      <td>DDX_Landing Page_QA</td>\n",
       "      <td>WindowAction</td>\n",
       "    </tr>\n",
       "    <tr>\n",
       "      <th>2</th>\n",
       "      <td>227</td>\n",
       "      <td>DDX_Landing Page_QA</td>\n",
       "      <td>ExpressionEvaluator</td>\n",
       "    </tr>\n",
       "    <tr>\n",
       "      <th>3</th>\n",
       "      <td>227</td>\n",
       "      <td>DDX_Landing Page_QA</td>\n",
       "      <td>Metadata</td>\n",
       "    </tr>\n",
       "    <tr>\n",
       "      <th>4</th>\n",
       "      <td>227</td>\n",
       "      <td>DDX_Landing Page_QA</td>\n",
       "      <td>SelectValues</td>\n",
       "    </tr>\n",
       "  </tbody>\n",
       "</table>\n",
       "</div>"
      ],
      "text/plain": [
       "   dataflow_id         datafow_name          action_type\n",
       "0          227  DDX_Landing Page_QA        LoadFromVault\n",
       "1          227  DDX_Landing Page_QA         WindowAction\n",
       "2          227  DDX_Landing Page_QA  ExpressionEvaluator\n",
       "3          227  DDX_Landing Page_QA             Metadata\n",
       "4          227  DDX_Landing Page_QA         SelectValues"
      ]
     },
     "execution_count": 35,
     "metadata": {},
     "output_type": "execute_result"
    }
   ],
   "source": [
    "import pandas as pd\n",
    "\n",
    "df = pd.DataFrame(flat_action_ls)\n",
    "df[0:5]"
   ]
  },
  {
   "cell_type": "code",
   "execution_count": null,
   "id": "6d35e51f-8dc9-462f-b591-16e7434a4b09",
   "metadata": {},
   "outputs": [],
   "source": [
    "df.to_csv('marks_csv.csv')"
   ]
  }
 ],
 "metadata": {
  "kernelspec": {
   "display_name": "Python 3.9",
   "language": "python",
   "name": "python_3_9"
  },
  "language_info": {
   "codemirror_mode": {
    "name": "ipython",
    "version": 3
   },
   "file_extension": ".py",
   "mimetype": "text/x-python",
   "name": "python",
   "nbconvert_exporter": "python",
   "pygments_lexer": "ipython3",
   "version": "3.9.13"
  }
 },
 "nbformat": 4,
 "nbformat_minor": 5
}
