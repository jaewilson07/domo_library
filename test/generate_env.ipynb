{
 "cells": [
  {
   "cell_type": "code",
   "execution_count": 18,
   "metadata": {},
   "outputs": [],
   "source": [
    "import os\n",
    "\n",
    "tokens = ['GITHUB_TOKEN',\n",
    " 'BETA_INSTANCE',\n",
    " 'DOJO_PASSWORD',\n",
    " 'BETA_ACCESS_TOKEN',\n",
    " 'JUPYTERLAB_PATH',\n",
    " 'DOMO_BETA_ACCESS_TOKEN',\n",
    " 'DOJO_DATASET_ID',\n",
    " 'BETA_USERNAME',\n",
    " 'DOMO_DOJO_USER_ID',\n",
    " 'DOMO_USERNAME',\n",
    " 'ALPHA_ACCESS_TOKEN',\n",
    " 'BETA_PASSWORD',]\n",
    "\n",
    "\n",
    "with open(\"./.env\" , 'w+') as f:\n",
    "    f.writelines([ f'{key} = \"{value}\"\\n' for key, value in os.environ.items() if key in tokens])"
   ]
  }
 ],
 "metadata": {
  "kernelspec": {
   "display_name": "Python 3",
   "language": "python",
   "name": "python3"
  },
  "language_info": {
   "codemirror_mode": {
    "name": "ipython",
    "version": 3
   },
   "file_extension": ".py",
   "mimetype": "text/x-python",
   "name": "python",
   "nbconvert_exporter": "python",
   "pygments_lexer": "ipython3",
   "version": "3.10.13"
  }
 },
 "nbformat": 4,
 "nbformat_minor": 2
}
